{
 "cells": [
  {
   "cell_type": "markdown",
   "id": "a76ae282-3b11-4246-8292-a9276267832d",
   "metadata": {},
   "source": [
    "[![Open In Colab](https://colab.research.google.com/assets/colab-badge.svg)](https://colab.research.google.com/github/rsinghlab/pyaging/blob/main/tutorials/tutorial_histonemarkchipseq.ipynb) [![Open In nbviewer](https://img.shields.io/badge/View%20in-nbviewer-orange)](https://nbviewer.jupyter.org/github/rsinghlab/pyaging/blob/main/tutorials/tutorial_histonemarkchipseq.ipynb)"
   ]
  },
  {
   "cell_type": "markdown",
   "id": "d444a24e-6a98-4db1-8688-7f3f80ed2876",
   "metadata": {},
   "source": [
    "# Bulk histone mark ChIP-Seq"
   ]
  },
  {
   "cell_type": "markdown",
   "id": "186154f3-1c8d-4284-a5a4-01f28d4db533",
   "metadata": {},
   "source": [
    "This tutorial is a brief guide for the implementation of the seven histone-mark-specific clocks and the pan-histone-mark clock developed ourselves. Link to [preprint](https://www.biorxiv.org/content/10.1101/2023.08.21.554165v3)."
   ]
  },
  {
   "cell_type": "markdown",
   "id": "270379c1-9159-4677-92fa-10b08aa9f703",
   "metadata": {},
   "source": [
    "We just need two packages for this tutorial."
   ]
  },
  {
   "cell_type": "code",
   "execution_count": 1,
   "id": "dd281360-7e16-45d9-ae2b-8f8f3fff809d",
   "metadata": {},
   "outputs": [],
   "source": [
    "import pandas as pd\n",
    "import pyaging as pya"
   ]
  },
  {
   "cell_type": "markdown",
   "id": "b6893601-615e-449b-829b-c144276f402f",
   "metadata": {},
   "source": [
    "## Download and load example data"
   ]
  },
  {
   "cell_type": "markdown",
   "id": "fd3e80a9-5361-40f0-bf3e-6f6057181594",
   "metadata": {},
   "source": [
    "Let's download an example of H3K4me3 ChIP-Seq bigWig file from the ENCODE project."
   ]
  },
  {
   "cell_type": "code",
   "execution_count": 2,
   "id": "7b3988dd-3e39-4e13-8ad8-a06447137c52",
   "metadata": {},
   "outputs": [
    {
     "name": "stdout",
     "output_type": "stream",
     "text": [
      "|-----> 🏗️ Starting download_example_data function\n",
      "|-----------> Data found in pyaging_data/ENCFF386QWG.bigWig\n",
      "|-----> 🎉 Done! [0.4776s]\n"
     ]
    },
    {
     "name": "stdout",
     "output_type": "stream",
     "text": [
      "\r",
      "|-----------> in progress: 1.0002%"
     ]
    },
    {
     "name": "stdout",
     "output_type": "stream",
     "text": [
      "\r",
      "|-----------> in progress: 2.0005%"
     ]
    },
    {
     "name": "stdout",
     "output_type": "stream",
     "text": [
      "\r",
      "|-----------> in progress: 3.0007%"
     ]
    },
    {
     "name": "stdout",
     "output_type": "stream",
     "text": [
      "\r",
      "|-----------> in progress: 4.0010%"
     ]
    },
    {
     "name": "stdout",
     "output_type": "stream",
     "text": [
      "\r",
      "|-----------> in progress: 5.0012%"
     ]
    },
    {
     "name": "stdout",
     "output_type": "stream",
     "text": [
      "\r",
      "|-----------> in progress: 6.0014%"
     ]
    },
    {
     "name": "stdout",
     "output_type": "stream",
     "text": [
      "\r",
      "|-----------> in progress: 7.0017%"
     ]
    },
    {
     "name": "stdout",
     "output_type": "stream",
     "text": [
      "\r",
      "|-----------> in progress: 8.0019%"
     ]
    },
    {
     "name": "stdout",
     "output_type": "stream",
     "text": [
      "\r",
      "|-----------> in progress: 9.0022%"
     ]
    },
    {
     "name": "stdout",
     "output_type": "stream",
     "text": [
      "\r",
      "|-----------> in progress: 10.0024%"
     ]
    },
    {
     "name": "stdout",
     "output_type": "stream",
     "text": [
      "\r",
      "|-----------> in progress: 11.0026%"
     ]
    },
    {
     "name": "stdout",
     "output_type": "stream",
     "text": [
      "\r",
      "|-----------> in progress: 12.0029%"
     ]
    },
    {
     "name": "stdout",
     "output_type": "stream",
     "text": [
      "\r",
      "|-----------> in progress: 13.0031%"
     ]
    },
    {
     "name": "stdout",
     "output_type": "stream",
     "text": [
      "\r",
      "|-----------> in progress: 14.0034%"
     ]
    },
    {
     "name": "stdout",
     "output_type": "stream",
     "text": [
      "\r",
      "|-----------> in progress: 15.0036%"
     ]
    },
    {
     "name": "stdout",
     "output_type": "stream",
     "text": [
      "\r",
      "|-----------> in progress: 16.0038%"
     ]
    },
    {
     "name": "stdout",
     "output_type": "stream",
     "text": [
      "\r",
      "|-----------> in progress: 17.0041%"
     ]
    },
    {
     "name": "stdout",
     "output_type": "stream",
     "text": [
      "\r",
      "|-----------> in progress: 18.0043%"
     ]
    },
    {
     "name": "stdout",
     "output_type": "stream",
     "text": [
      "\r",
      "|-----------> in progress: 19.0045%"
     ]
    },
    {
     "name": "stdout",
     "output_type": "stream",
     "text": [
      "\r",
      "|-----------> in progress: 20.0048%"
     ]
    },
    {
     "name": "stdout",
     "output_type": "stream",
     "text": [
      "\r",
      "|-----------> in progress: 21.0050%"
     ]
    },
    {
     "name": "stdout",
     "output_type": "stream",
     "text": [
      "\r",
      "|-----------> in progress: 22.0053%"
     ]
    },
    {
     "name": "stdout",
     "output_type": "stream",
     "text": [
      "\r",
      "|-----------> in progress: 23.0055%"
     ]
    },
    {
     "name": "stdout",
     "output_type": "stream",
     "text": [
      "\r",
      "|-----------> in progress: 24.0057%"
     ]
    },
    {
     "name": "stdout",
     "output_type": "stream",
     "text": [
      "\r",
      "|-----------> in progress: 25.0060%"
     ]
    },
    {
     "name": "stdout",
     "output_type": "stream",
     "text": [
      "\r",
      "|-----------> in progress: 26.0062%"
     ]
    },
    {
     "name": "stdout",
     "output_type": "stream",
     "text": [
      "\r",
      "|-----------> in progress: 27.0065%"
     ]
    },
    {
     "name": "stdout",
     "output_type": "stream",
     "text": [
      "\r",
      "|-----------> in progress: 28.0067%"
     ]
    },
    {
     "name": "stdout",
     "output_type": "stream",
     "text": [
      "\r",
      "|-----------> in progress: 29.0069%"
     ]
    },
    {
     "name": "stdout",
     "output_type": "stream",
     "text": [
      "\r",
      "|-----------> in progress: 30.0072%"
     ]
    },
    {
     "name": "stdout",
     "output_type": "stream",
     "text": [
      "\r",
      "|-----------> in progress: 31.0074%"
     ]
    },
    {
     "name": "stdout",
     "output_type": "stream",
     "text": [
      "\r",
      "|-----------> in progress: 32.0077%"
     ]
    },
    {
     "name": "stdout",
     "output_type": "stream",
     "text": [
      "\r",
      "|-----------> in progress: 33.0079%"
     ]
    },
    {
     "name": "stdout",
     "output_type": "stream",
     "text": [
      "\r",
      "|-----------> in progress: 34.0081%"
     ]
    },
    {
     "name": "stdout",
     "output_type": "stream",
     "text": [
      "\r",
      "|-----------> in progress: 35.0084%"
     ]
    },
    {
     "name": "stdout",
     "output_type": "stream",
     "text": [
      "\r",
      "|-----------> in progress: 36.0086%"
     ]
    },
    {
     "name": "stdout",
     "output_type": "stream",
     "text": [
      "\r",
      "|-----------> in progress: 37.0089%"
     ]
    },
    {
     "name": "stdout",
     "output_type": "stream",
     "text": [
      "\r",
      "|-----------> in progress: 38.0091%"
     ]
    },
    {
     "name": "stdout",
     "output_type": "stream",
     "text": [
      "\r",
      "|-----------> in progress: 39.0093%"
     ]
    },
    {
     "name": "stdout",
     "output_type": "stream",
     "text": [
      "\r",
      "|-----------> in progress: 40.0096%"
     ]
    },
    {
     "name": "stdout",
     "output_type": "stream",
     "text": [
      "\r",
      "|-----------> in progress: 41.0098%"
     ]
    },
    {
     "name": "stdout",
     "output_type": "stream",
     "text": [
      "\r",
      "|-----------> in progress: 42.0101%"
     ]
    },
    {
     "name": "stdout",
     "output_type": "stream",
     "text": [
      "\r",
      "|-----------> in progress: 43.0103%"
     ]
    },
    {
     "name": "stdout",
     "output_type": "stream",
     "text": [
      "\r",
      "|-----------> in progress: 44.0105%"
     ]
    },
    {
     "name": "stdout",
     "output_type": "stream",
     "text": [
      "\r",
      "|-----------> in progress: 45.0108%"
     ]
    },
    {
     "name": "stdout",
     "output_type": "stream",
     "text": [
      "\r",
      "|-----------> in progress: 46.0110%"
     ]
    },
    {
     "name": "stdout",
     "output_type": "stream",
     "text": [
      "\r",
      "|-----------> in progress: 47.0112%"
     ]
    },
    {
     "name": "stdout",
     "output_type": "stream",
     "text": [
      "\r",
      "|-----------> in progress: 48.0115%"
     ]
    },
    {
     "name": "stdout",
     "output_type": "stream",
     "text": [
      "\r",
      "|-----------> in progress: 49.0117%"
     ]
    },
    {
     "name": "stdout",
     "output_type": "stream",
     "text": [
      "\r",
      "|-----------> in progress: 50.0120%"
     ]
    },
    {
     "name": "stdout",
     "output_type": "stream",
     "text": [
      "\r",
      "|-----------> in progress: 51.0122%"
     ]
    },
    {
     "name": "stdout",
     "output_type": "stream",
     "text": [
      "\r",
      "|-----------> in progress: 52.0124%"
     ]
    },
    {
     "name": "stdout",
     "output_type": "stream",
     "text": [
      "\r",
      "|-----------> in progress: 53.0127%"
     ]
    },
    {
     "name": "stdout",
     "output_type": "stream",
     "text": [
      "\r",
      "|-----------> in progress: 54.0129%"
     ]
    },
    {
     "name": "stdout",
     "output_type": "stream",
     "text": [
      "\r",
      "|-----------> in progress: 55.0132%"
     ]
    },
    {
     "name": "stdout",
     "output_type": "stream",
     "text": [
      "\r",
      "|-----------> in progress: 56.0134%"
     ]
    },
    {
     "name": "stdout",
     "output_type": "stream",
     "text": [
      "\r",
      "|-----------> in progress: 57.0136%"
     ]
    },
    {
     "name": "stdout",
     "output_type": "stream",
     "text": [
      "\r",
      "|-----------> in progress: 58.0139%"
     ]
    },
    {
     "name": "stdout",
     "output_type": "stream",
     "text": [
      "\r",
      "|-----------> in progress: 59.0141%"
     ]
    },
    {
     "name": "stdout",
     "output_type": "stream",
     "text": [
      "\r",
      "|-----------> in progress: 60.0144%"
     ]
    },
    {
     "name": "stdout",
     "output_type": "stream",
     "text": [
      "\r",
      "|-----------> in progress: 61.0146%"
     ]
    },
    {
     "name": "stdout",
     "output_type": "stream",
     "text": [
      "\r",
      "|-----------> in progress: 62.0148%"
     ]
    },
    {
     "name": "stdout",
     "output_type": "stream",
     "text": [
      "\r",
      "|-----------> in progress: 63.0151%"
     ]
    },
    {
     "name": "stdout",
     "output_type": "stream",
     "text": [
      "\r",
      "|-----------> in progress: 64.0153%"
     ]
    },
    {
     "name": "stdout",
     "output_type": "stream",
     "text": [
      "\r",
      "|-----------> in progress: 65.0156%"
     ]
    },
    {
     "name": "stdout",
     "output_type": "stream",
     "text": [
      "\r",
      "|-----------> in progress: 66.0158%"
     ]
    },
    {
     "name": "stdout",
     "output_type": "stream",
     "text": [
      "\r",
      "|-----------> in progress: 67.0160%"
     ]
    },
    {
     "name": "stdout",
     "output_type": "stream",
     "text": [
      "\r",
      "|-----------> in progress: 68.0163%"
     ]
    },
    {
     "name": "stdout",
     "output_type": "stream",
     "text": [
      "\r",
      "|-----------> in progress: 69.0165%"
     ]
    },
    {
     "name": "stdout",
     "output_type": "stream",
     "text": [
      "\r",
      "|-----------> in progress: 70.0168%"
     ]
    },
    {
     "name": "stdout",
     "output_type": "stream",
     "text": [
      "\r",
      "|-----------> in progress: 71.0170%"
     ]
    },
    {
     "name": "stdout",
     "output_type": "stream",
     "text": [
      "\r",
      "|-----------> in progress: 72.0172%"
     ]
    },
    {
     "name": "stdout",
     "output_type": "stream",
     "text": [
      "\r",
      "|-----------> in progress: 73.0175%"
     ]
    },
    {
     "name": "stdout",
     "output_type": "stream",
     "text": [
      "\r",
      "|-----------> in progress: 74.0177%"
     ]
    },
    {
     "name": "stdout",
     "output_type": "stream",
     "text": [
      "\r",
      "|-----------> in progress: 75.0180%"
     ]
    },
    {
     "name": "stdout",
     "output_type": "stream",
     "text": [
      "\r",
      "|-----------> in progress: 76.0182%"
     ]
    },
    {
     "name": "stdout",
     "output_type": "stream",
     "text": [
      "\r",
      "|-----------> in progress: 77.0184%"
     ]
    },
    {
     "name": "stdout",
     "output_type": "stream",
     "text": [
      "\r",
      "|-----------> in progress: 78.0187%"
     ]
    },
    {
     "name": "stdout",
     "output_type": "stream",
     "text": [
      "\r",
      "|-----------> in progress: 79.0189%"
     ]
    },
    {
     "name": "stdout",
     "output_type": "stream",
     "text": [
      "\r",
      "|-----------> in progress: 80.0191%"
     ]
    },
    {
     "name": "stdout",
     "output_type": "stream",
     "text": [
      "\r",
      "|-----------> in progress: 81.0194%"
     ]
    },
    {
     "name": "stdout",
     "output_type": "stream",
     "text": [
      "\r",
      "|-----------> in progress: 82.0196%"
     ]
    },
    {
     "name": "stdout",
     "output_type": "stream",
     "text": [
      "\r",
      "|-----------> in progress: 83.0199%"
     ]
    },
    {
     "name": "stdout",
     "output_type": "stream",
     "text": [
      "\r",
      "|-----------> in progress: 84.0201%"
     ]
    },
    {
     "name": "stdout",
     "output_type": "stream",
     "text": [
      "\r",
      "|-----------> in progress: 85.0203%"
     ]
    },
    {
     "name": "stdout",
     "output_type": "stream",
     "text": [
      "\r",
      "|-----------> in progress: 86.0206%"
     ]
    },
    {
     "name": "stdout",
     "output_type": "stream",
     "text": [
      "\r",
      "|-----------> in progress: 87.0208%"
     ]
    },
    {
     "name": "stdout",
     "output_type": "stream",
     "text": [
      "\r",
      "|-----------> in progress: 88.0211%"
     ]
    },
    {
     "name": "stdout",
     "output_type": "stream",
     "text": [
      "\r",
      "|-----------> in progress: 89.0213%"
     ]
    },
    {
     "name": "stdout",
     "output_type": "stream",
     "text": [
      "\r",
      "|-----------> in progress: 90.0215%"
     ]
    },
    {
     "name": "stdout",
     "output_type": "stream",
     "text": [
      "\r",
      "|-----------> in progress: 91.0218%"
     ]
    },
    {
     "name": "stdout",
     "output_type": "stream",
     "text": [
      "\r",
      "|-----------> in progress: 92.0220%"
     ]
    },
    {
     "name": "stdout",
     "output_type": "stream",
     "text": [
      "\r",
      "|-----------> in progress: 93.0223%"
     ]
    },
    {
     "name": "stdout",
     "output_type": "stream",
     "text": [
      "\r",
      "|-----------> in progress: 94.0225%"
     ]
    },
    {
     "name": "stdout",
     "output_type": "stream",
     "text": [
      "\r",
      "|-----------> in progress: 95.0227%"
     ]
    },
    {
     "name": "stdout",
     "output_type": "stream",
     "text": [
      "\r",
      "|-----------> in progress: 96.0230%"
     ]
    },
    {
     "name": "stdout",
     "output_type": "stream",
     "text": [
      "\r",
      "|-----------> in progress: 97.0232%"
     ]
    },
    {
     "name": "stdout",
     "output_type": "stream",
     "text": [
      "\r",
      "|-----------> in progress: 98.0235%"
     ]
    },
    {
     "name": "stdout",
     "output_type": "stream",
     "text": [
      "\r",
      "|-----------> in progress: 99.0237%"
     ]
    },
    {
     "name": "stdout",
     "output_type": "stream",
     "text": [
      "\r",
      "|-----------> in progress: 100.0000%\n"
     ]
    },
    {
     "name": "stdout",
     "output_type": "stream",
     "text": [
      "|-----> 🎉 Done! [133.6851s]\n"
     ]
    }
   ],
   "source": [
    "pya.data.download_example_data('ENCFF386QWG')"
   ]
  },
  {
   "cell_type": "markdown",
   "id": "3880246a-471e-4f75-bd2f-ed2623458a48",
   "metadata": {},
   "source": [
    "To exemplify that multiple bigWigs can be turned into a df object at once, let's just repeat the file path."
   ]
  },
  {
   "cell_type": "code",
   "execution_count": 3,
   "id": "e56f4080-e968-44cb-8e31-4bd27092f4b2",
   "metadata": {},
   "outputs": [
    {
     "name": "stdout",
     "output_type": "stream",
     "text": [
      "|-----> 🏗️ Starting bigwig_to_df function\n",
      "|-----> ⚙️ Load Ensembl genome metadata started\n",
      "|-----------> Data found in pyaging_data/Ensembl-105-EnsDb-for-Homo-sapiens-genes.csv\n",
      "|-----> ✅ Load Ensembl genome metadata finished [1.0212s]\n",
      "|-----> ⚙️ Processing bigWig files started\n",
      "|-----------> Processing file: pyaging_data/ENCFF386QWG.bigWig\n",
      "|-----------> in progress: 100.0000%\n",
      "|-----------> Processing file: pyaging_data/ENCFF386QWG.bigWig\n",
      "|-----------> in progress: 100.0000%\n",
      "|-----> ✅ Processing bigWig files finished [21.9402s]\n",
      "|-----> 🎉 Done! [47.5545s]\n"
     ]
    },
    {
     "name": "stdout",
     "output_type": "stream",
     "text": [
      "|-----------> Downloading data to pyaging_data/Ensembl-105-EnsDb-for-Homo-sapiens-genes.csv\n"
     ]
    },
    {
     "name": "stdout",
     "output_type": "stream",
     "text": [
      "\r",
      "|-----------> in progress: 1.0402%"
     ]
    },
    {
     "name": "stdout",
     "output_type": "stream",
     "text": [
      "\r",
      "|-----------> in progress: 2.0804%"
     ]
    },
    {
     "name": "stdout",
     "output_type": "stream",
     "text": [
      "\r",
      "|-----------> in progress: 3.1206%"
     ]
    },
    {
     "name": "stdout",
     "output_type": "stream",
     "text": [
      "\r",
      "|-----------> in progress: 4.1608%"
     ]
    },
    {
     "name": "stdout",
     "output_type": "stream",
     "text": [
      "\r",
      "|-----------> in progress: 5.2011%"
     ]
    },
    {
     "name": "stdout",
     "output_type": "stream",
     "text": [
      "\r",
      "|-----------> in progress: 6.2413%"
     ]
    },
    {
     "name": "stdout",
     "output_type": "stream",
     "text": [
      "\r",
      "|-----------> in progress: 7.2815%"
     ]
    },
    {
     "name": "stdout",
     "output_type": "stream",
     "text": [
      "\r",
      "|-----------> in progress: 8.3217%"
     ]
    },
    {
     "name": "stdout",
     "output_type": "stream",
     "text": [
      "\r",
      "|-----------> in progress: 9.3619%"
     ]
    },
    {
     "name": "stdout",
     "output_type": "stream",
     "text": [
      "\r",
      "|-----------> in progress: 10.4021%"
     ]
    },
    {
     "name": "stdout",
     "output_type": "stream",
     "text": [
      "\r",
      "|-----------> in progress: 11.4423%"
     ]
    },
    {
     "name": "stdout",
     "output_type": "stream",
     "text": [
      "\r",
      "|-----------> in progress: 12.4825%"
     ]
    },
    {
     "name": "stdout",
     "output_type": "stream",
     "text": [
      "\r",
      "|-----------> in progress: 13.5227%"
     ]
    },
    {
     "name": "stdout",
     "output_type": "stream",
     "text": [
      "\r",
      "|-----------> in progress: 14.5629%"
     ]
    },
    {
     "name": "stdout",
     "output_type": "stream",
     "text": [
      "\r",
      "|-----------> in progress: 15.6032%"
     ]
    },
    {
     "name": "stdout",
     "output_type": "stream",
     "text": [
      "\r",
      "|-----------> in progress: 16.6434%"
     ]
    },
    {
     "name": "stdout",
     "output_type": "stream",
     "text": [
      "\r",
      "|-----------> in progress: 17.6836%"
     ]
    },
    {
     "name": "stdout",
     "output_type": "stream",
     "text": [
      "\r",
      "|-----------> in progress: 18.7238%"
     ]
    },
    {
     "name": "stdout",
     "output_type": "stream",
     "text": [
      "\r",
      "|-----------> in progress: 19.7640%"
     ]
    },
    {
     "name": "stdout",
     "output_type": "stream",
     "text": [
      "\r",
      "|-----------> in progress: 20.8042%"
     ]
    },
    {
     "name": "stdout",
     "output_type": "stream",
     "text": [
      "\r",
      "|-----------> in progress: 21.8444%"
     ]
    },
    {
     "name": "stdout",
     "output_type": "stream",
     "text": [
      "\r",
      "|-----------> in progress: 22.8846%"
     ]
    },
    {
     "name": "stdout",
     "output_type": "stream",
     "text": [
      "\r",
      "|-----------> in progress: 23.9248%"
     ]
    },
    {
     "name": "stdout",
     "output_type": "stream",
     "text": [
      "\r",
      "|-----------> in progress: 24.9650%"
     ]
    },
    {
     "name": "stdout",
     "output_type": "stream",
     "text": [
      "\r",
      "|-----------> in progress: 26.0053%"
     ]
    },
    {
     "name": "stdout",
     "output_type": "stream",
     "text": [
      "\r",
      "|-----------> in progress: 27.0455%"
     ]
    },
    {
     "name": "stdout",
     "output_type": "stream",
     "text": [
      "\r",
      "|-----------> in progress: 28.0857%"
     ]
    },
    {
     "name": "stdout",
     "output_type": "stream",
     "text": [
      "\r",
      "|-----------> in progress: 29.1259%"
     ]
    },
    {
     "name": "stdout",
     "output_type": "stream",
     "text": [
      "\r",
      "|-----------> in progress: 30.1661%"
     ]
    },
    {
     "name": "stdout",
     "output_type": "stream",
     "text": [
      "\r",
      "|-----------> in progress: 31.2063%"
     ]
    },
    {
     "name": "stdout",
     "output_type": "stream",
     "text": [
      "\r",
      "|-----------> in progress: 32.2465%"
     ]
    },
    {
     "name": "stdout",
     "output_type": "stream",
     "text": [
      "\r",
      "|-----------> in progress: 33.2867%"
     ]
    },
    {
     "name": "stdout",
     "output_type": "stream",
     "text": [
      "\r",
      "|-----------> in progress: 34.3269%"
     ]
    },
    {
     "name": "stdout",
     "output_type": "stream",
     "text": [
      "\r",
      "|-----------> in progress: 35.3671%"
     ]
    },
    {
     "name": "stdout",
     "output_type": "stream",
     "text": [
      "\r",
      "|-----------> in progress: 36.4074%"
     ]
    },
    {
     "name": "stdout",
     "output_type": "stream",
     "text": [
      "\r",
      "|-----------> in progress: 37.4476%"
     ]
    },
    {
     "name": "stdout",
     "output_type": "stream",
     "text": [
      "\r",
      "|-----------> in progress: 38.4878%"
     ]
    },
    {
     "name": "stdout",
     "output_type": "stream",
     "text": [
      "\r",
      "|-----------> in progress: 39.5280%"
     ]
    },
    {
     "name": "stdout",
     "output_type": "stream",
     "text": [
      "\r",
      "|-----------> in progress: 40.5682%"
     ]
    },
    {
     "name": "stdout",
     "output_type": "stream",
     "text": [
      "\r",
      "|-----------> in progress: 41.6084%"
     ]
    },
    {
     "name": "stdout",
     "output_type": "stream",
     "text": [
      "\r",
      "|-----------> in progress: 42.6486%"
     ]
    },
    {
     "name": "stdout",
     "output_type": "stream",
     "text": [
      "\r",
      "|-----------> in progress: 43.6888%"
     ]
    },
    {
     "name": "stdout",
     "output_type": "stream",
     "text": [
      "\r",
      "|-----------> in progress: 44.7290%"
     ]
    },
    {
     "name": "stdout",
     "output_type": "stream",
     "text": [
      "\r",
      "|-----------> in progress: 45.7692%"
     ]
    },
    {
     "name": "stdout",
     "output_type": "stream",
     "text": [
      "\r",
      "|-----------> in progress: 46.8095%"
     ]
    },
    {
     "name": "stdout",
     "output_type": "stream",
     "text": [
      "\r",
      "|-----------> in progress: 47.8497%"
     ]
    },
    {
     "name": "stdout",
     "output_type": "stream",
     "text": [
      "\r",
      "|-----------> in progress: 48.8899%"
     ]
    },
    {
     "name": "stdout",
     "output_type": "stream",
     "text": [
      "\r",
      "|-----------> in progress: 49.9301%"
     ]
    },
    {
     "name": "stdout",
     "output_type": "stream",
     "text": [
      "\r",
      "|-----------> in progress: 50.9703%"
     ]
    },
    {
     "name": "stdout",
     "output_type": "stream",
     "text": [
      "\r",
      "|-----------> in progress: 52.0105%"
     ]
    },
    {
     "name": "stdout",
     "output_type": "stream",
     "text": [
      "\r",
      "|-----------> in progress: 53.0507%"
     ]
    },
    {
     "name": "stdout",
     "output_type": "stream",
     "text": [
      "\r",
      "|-----------> in progress: 54.0909%"
     ]
    },
    {
     "name": "stdout",
     "output_type": "stream",
     "text": [
      "\r",
      "|-----------> in progress: 55.1311%"
     ]
    },
    {
     "name": "stdout",
     "output_type": "stream",
     "text": [
      "\r",
      "|-----------> in progress: 56.1713%"
     ]
    },
    {
     "name": "stdout",
     "output_type": "stream",
     "text": [
      "\r",
      "|-----------> in progress: 57.2116%"
     ]
    },
    {
     "name": "stdout",
     "output_type": "stream",
     "text": [
      "\r",
      "|-----------> in progress: 58.2518%"
     ]
    },
    {
     "name": "stdout",
     "output_type": "stream",
     "text": [
      "\r",
      "|-----------> in progress: 59.2920%"
     ]
    },
    {
     "name": "stdout",
     "output_type": "stream",
     "text": [
      "\r",
      "|-----------> in progress: 60.3322%"
     ]
    },
    {
     "name": "stdout",
     "output_type": "stream",
     "text": [
      "\r",
      "|-----------> in progress: 61.3724%"
     ]
    },
    {
     "name": "stdout",
     "output_type": "stream",
     "text": [
      "\r",
      "|-----------> in progress: 62.4126%"
     ]
    },
    {
     "name": "stdout",
     "output_type": "stream",
     "text": [
      "\r",
      "|-----------> in progress: 63.4528%"
     ]
    },
    {
     "name": "stdout",
     "output_type": "stream",
     "text": [
      "\r",
      "|-----------> in progress: 64.4930%"
     ]
    },
    {
     "name": "stdout",
     "output_type": "stream",
     "text": [
      "\r",
      "|-----------> in progress: 65.5332%"
     ]
    },
    {
     "name": "stdout",
     "output_type": "stream",
     "text": [
      "\r",
      "|-----------> in progress: 66.5735%"
     ]
    },
    {
     "name": "stdout",
     "output_type": "stream",
     "text": [
      "\r",
      "|-----------> in progress: 67.6137%"
     ]
    },
    {
     "name": "stdout",
     "output_type": "stream",
     "text": [
      "\r",
      "|-----------> in progress: 68.6539%"
     ]
    },
    {
     "name": "stdout",
     "output_type": "stream",
     "text": [
      "\r",
      "|-----------> in progress: 69.6941%"
     ]
    },
    {
     "name": "stdout",
     "output_type": "stream",
     "text": [
      "\r",
      "|-----------> in progress: 70.7343%"
     ]
    },
    {
     "name": "stdout",
     "output_type": "stream",
     "text": [
      "\r",
      "|-----------> in progress: 71.7745%"
     ]
    },
    {
     "name": "stdout",
     "output_type": "stream",
     "text": [
      "\r",
      "|-----------> in progress: 72.8147%"
     ]
    },
    {
     "name": "stdout",
     "output_type": "stream",
     "text": [
      "\r",
      "|-----------> in progress: 73.8549%"
     ]
    },
    {
     "name": "stdout",
     "output_type": "stream",
     "text": [
      "\r",
      "|-----------> in progress: 74.8951%"
     ]
    },
    {
     "name": "stdout",
     "output_type": "stream",
     "text": [
      "\r",
      "|-----------> in progress: 75.9353%"
     ]
    },
    {
     "name": "stdout",
     "output_type": "stream",
     "text": [
      "\r",
      "|-----------> in progress: 76.9756%"
     ]
    },
    {
     "name": "stdout",
     "output_type": "stream",
     "text": [
      "\r",
      "|-----------> in progress: 78.0158%"
     ]
    },
    {
     "name": "stdout",
     "output_type": "stream",
     "text": [
      "\r",
      "|-----------> in progress: 79.0560%"
     ]
    },
    {
     "name": "stdout",
     "output_type": "stream",
     "text": [
      "\r",
      "|-----------> in progress: 80.0962%"
     ]
    },
    {
     "name": "stdout",
     "output_type": "stream",
     "text": [
      "\r",
      "|-----------> in progress: 81.1364%"
     ]
    },
    {
     "name": "stdout",
     "output_type": "stream",
     "text": [
      "\r",
      "|-----------> in progress: 82.1766%"
     ]
    },
    {
     "name": "stdout",
     "output_type": "stream",
     "text": [
      "\r",
      "|-----------> in progress: 83.2168%"
     ]
    },
    {
     "name": "stdout",
     "output_type": "stream",
     "text": [
      "\r",
      "|-----------> in progress: 84.2570%"
     ]
    },
    {
     "name": "stdout",
     "output_type": "stream",
     "text": [
      "\r",
      "|-----------> in progress: 85.2972%"
     ]
    },
    {
     "name": "stdout",
     "output_type": "stream",
     "text": [
      "\r",
      "|-----------> in progress: 86.3374%"
     ]
    },
    {
     "name": "stdout",
     "output_type": "stream",
     "text": [
      "\r",
      "|-----------> in progress: 87.3777%"
     ]
    },
    {
     "name": "stdout",
     "output_type": "stream",
     "text": [
      "\r",
      "|-----------> in progress: 88.4179%"
     ]
    },
    {
     "name": "stdout",
     "output_type": "stream",
     "text": [
      "\r",
      "|-----------> in progress: 89.4581%"
     ]
    },
    {
     "name": "stdout",
     "output_type": "stream",
     "text": [
      "\r",
      "|-----------> in progress: 90.4983%"
     ]
    },
    {
     "name": "stdout",
     "output_type": "stream",
     "text": [
      "\r",
      "|-----------> in progress: 91.5385%"
     ]
    },
    {
     "name": "stdout",
     "output_type": "stream",
     "text": [
      "\r",
      "|-----------> in progress: 92.5787%"
     ]
    },
    {
     "name": "stdout",
     "output_type": "stream",
     "text": [
      "\r",
      "|-----------> in progress: 93.6189%"
     ]
    },
    {
     "name": "stdout",
     "output_type": "stream",
     "text": [
      "\r",
      "|-----------> in progress: 94.6591%"
     ]
    },
    {
     "name": "stdout",
     "output_type": "stream",
     "text": [
      "\r",
      "|-----------> in progress: 95.6993%"
     ]
    },
    {
     "name": "stdout",
     "output_type": "stream",
     "text": [
      "\r",
      "|-----------> in progress: 96.7395%"
     ]
    },
    {
     "name": "stdout",
     "output_type": "stream",
     "text": [
      "\r",
      "|-----------> in progress: 97.7798%"
     ]
    },
    {
     "name": "stdout",
     "output_type": "stream",
     "text": [
      "\r",
      "|-----------> in progress: 98.8200%"
     ]
    },
    {
     "name": "stdout",
     "output_type": "stream",
     "text": [
      "\r",
      "|-----------> in progress: 99.8602%"
     ]
    },
    {
     "name": "stdout",
     "output_type": "stream",
     "text": [
      "\r",
      "|-----------> in progress: 100.0000%\n"
     ]
    },
    {
     "name": "stdout",
     "output_type": "stream",
     "text": [
      "|-----> ✅ Load Ensembl genome metadata finished [4.0658s]\n"
     ]
    },
    {
     "name": "stdout",
     "output_type": "stream",
     "text": [
      "|-----> ⚙️ Processing bigWig files started\n"
     ]
    },
    {
     "name": "stdout",
     "output_type": "stream",
     "text": [
      "|-----------> Processing file: pyaging_data/ENCFF386QWG.bigWig\n"
     ]
    },
    {
     "name": "stdout",
     "output_type": "stream",
     "text": [
      "\r",
      "|-----------> in progress: 1.0009%"
     ]
    },
    {
     "name": "stdout",
     "output_type": "stream",
     "text": [
      "\r",
      "|-----------> in progress: 2.0019%"
     ]
    },
    {
     "name": "stdout",
     "output_type": "stream",
     "text": [
      "\r",
      "|-----------> in progress: 3.0028%"
     ]
    },
    {
     "name": "stdout",
     "output_type": "stream",
     "text": [
      "\r",
      "|-----------> in progress: 4.0038%"
     ]
    },
    {
     "name": "stdout",
     "output_type": "stream",
     "text": [
      "\r",
      "|-----------> in progress: 5.0047%"
     ]
    },
    {
     "name": "stdout",
     "output_type": "stream",
     "text": [
      "\r",
      "|-----------> in progress: 6.0057%"
     ]
    },
    {
     "name": "stdout",
     "output_type": "stream",
     "text": [
      "\r",
      "|-----------> in progress: 7.0066%"
     ]
    },
    {
     "name": "stdout",
     "output_type": "stream",
     "text": [
      "\r",
      "|-----------> in progress: 8.0076%"
     ]
    },
    {
     "name": "stdout",
     "output_type": "stream",
     "text": [
      "\r",
      "|-----------> in progress: 9.0085%"
     ]
    },
    {
     "name": "stdout",
     "output_type": "stream",
     "text": [
      "\r",
      "|-----------> in progress: 10.0095%"
     ]
    },
    {
     "name": "stdout",
     "output_type": "stream",
     "text": [
      "\r",
      "|-----------> in progress: 11.0104%"
     ]
    },
    {
     "name": "stdout",
     "output_type": "stream",
     "text": [
      "\r",
      "|-----------> in progress: 12.0114%"
     ]
    },
    {
     "name": "stdout",
     "output_type": "stream",
     "text": [
      "\r",
      "|-----------> in progress: 13.0123%"
     ]
    },
    {
     "name": "stdout",
     "output_type": "stream",
     "text": [
      "\r",
      "|-----------> in progress: 14.0133%"
     ]
    },
    {
     "name": "stdout",
     "output_type": "stream",
     "text": [
      "\r",
      "|-----------> in progress: 15.0142%"
     ]
    },
    {
     "name": "stdout",
     "output_type": "stream",
     "text": [
      "\r",
      "|-----------> in progress: 16.0152%"
     ]
    },
    {
     "name": "stdout",
     "output_type": "stream",
     "text": [
      "\r",
      "|-----------> in progress: 17.0161%"
     ]
    },
    {
     "name": "stdout",
     "output_type": "stream",
     "text": [
      "\r",
      "|-----------> in progress: 18.0171%"
     ]
    },
    {
     "name": "stdout",
     "output_type": "stream",
     "text": [
      "\r",
      "|-----------> in progress: 19.0180%"
     ]
    },
    {
     "name": "stdout",
     "output_type": "stream",
     "text": [
      "\r",
      "|-----------> in progress: 20.0190%"
     ]
    },
    {
     "name": "stdout",
     "output_type": "stream",
     "text": [
      "\r",
      "|-----------> in progress: 21.0199%"
     ]
    },
    {
     "name": "stdout",
     "output_type": "stream",
     "text": [
      "\r",
      "|-----------> in progress: 22.0209%"
     ]
    },
    {
     "name": "stdout",
     "output_type": "stream",
     "text": [
      "\r",
      "|-----------> in progress: 23.0218%"
     ]
    },
    {
     "name": "stdout",
     "output_type": "stream",
     "text": [
      "\r",
      "|-----------> in progress: 24.0228%"
     ]
    },
    {
     "name": "stdout",
     "output_type": "stream",
     "text": [
      "\r",
      "|-----------> in progress: 25.0237%"
     ]
    },
    {
     "name": "stdout",
     "output_type": "stream",
     "text": [
      "\r",
      "|-----------> in progress: 26.0246%"
     ]
    },
    {
     "name": "stdout",
     "output_type": "stream",
     "text": [
      "\r",
      "|-----------> in progress: 27.0256%"
     ]
    },
    {
     "name": "stdout",
     "output_type": "stream",
     "text": [
      "\r",
      "|-----------> in progress: 28.0265%"
     ]
    },
    {
     "name": "stdout",
     "output_type": "stream",
     "text": [
      "\r",
      "|-----------> in progress: 29.0275%"
     ]
    },
    {
     "name": "stdout",
     "output_type": "stream",
     "text": [
      "\r",
      "|-----------> in progress: 30.0284%"
     ]
    },
    {
     "name": "stdout",
     "output_type": "stream",
     "text": [
      "\r",
      "|-----------> in progress: 31.0294%"
     ]
    },
    {
     "name": "stdout",
     "output_type": "stream",
     "text": [
      "\r",
      "|-----------> in progress: 32.0303%"
     ]
    },
    {
     "name": "stdout",
     "output_type": "stream",
     "text": [
      "\r",
      "|-----------> in progress: 33.0313%"
     ]
    },
    {
     "name": "stdout",
     "output_type": "stream",
     "text": [
      "\r",
      "|-----------> in progress: 34.0322%"
     ]
    },
    {
     "name": "stdout",
     "output_type": "stream",
     "text": [
      "\r",
      "|-----------> in progress: 35.0332%"
     ]
    },
    {
     "name": "stdout",
     "output_type": "stream",
     "text": [
      "\r",
      "|-----------> in progress: 36.0341%"
     ]
    },
    {
     "name": "stdout",
     "output_type": "stream",
     "text": [
      "\r",
      "|-----------> in progress: 37.0351%"
     ]
    },
    {
     "name": "stdout",
     "output_type": "stream",
     "text": [
      "\r",
      "|-----------> in progress: 38.0360%"
     ]
    },
    {
     "name": "stdout",
     "output_type": "stream",
     "text": [
      "\r",
      "|-----------> in progress: 39.0370%"
     ]
    },
    {
     "name": "stdout",
     "output_type": "stream",
     "text": [
      "\r",
      "|-----------> in progress: 40.0379%"
     ]
    },
    {
     "name": "stdout",
     "output_type": "stream",
     "text": [
      "\r",
      "|-----------> in progress: 41.0389%"
     ]
    },
    {
     "name": "stdout",
     "output_type": "stream",
     "text": [
      "\r",
      "|-----------> in progress: 42.0398%"
     ]
    },
    {
     "name": "stdout",
     "output_type": "stream",
     "text": [
      "\r",
      "|-----------> in progress: 43.0408%"
     ]
    },
    {
     "name": "stdout",
     "output_type": "stream",
     "text": [
      "\r",
      "|-----------> in progress: 44.0417%"
     ]
    },
    {
     "name": "stdout",
     "output_type": "stream",
     "text": [
      "\r",
      "|-----------> in progress: 45.0427%"
     ]
    },
    {
     "name": "stdout",
     "output_type": "stream",
     "text": [
      "\r",
      "|-----------> in progress: 46.0436%"
     ]
    },
    {
     "name": "stdout",
     "output_type": "stream",
     "text": [
      "\r",
      "|-----------> in progress: 47.0446%"
     ]
    },
    {
     "name": "stdout",
     "output_type": "stream",
     "text": [
      "\r",
      "|-----------> in progress: 48.0455%"
     ]
    },
    {
     "name": "stdout",
     "output_type": "stream",
     "text": [
      "\r",
      "|-----------> in progress: 49.0464%"
     ]
    },
    {
     "name": "stdout",
     "output_type": "stream",
     "text": [
      "\r",
      "|-----------> in progress: 50.0474%"
     ]
    },
    {
     "name": "stdout",
     "output_type": "stream",
     "text": [
      "\r",
      "|-----------> in progress: 51.0483%"
     ]
    },
    {
     "name": "stdout",
     "output_type": "stream",
     "text": [
      "\r",
      "|-----------> in progress: 52.0493%"
     ]
    },
    {
     "name": "stdout",
     "output_type": "stream",
     "text": [
      "\r",
      "|-----------> in progress: 53.0502%"
     ]
    },
    {
     "name": "stdout",
     "output_type": "stream",
     "text": [
      "\r",
      "|-----------> in progress: 54.0512%"
     ]
    },
    {
     "name": "stdout",
     "output_type": "stream",
     "text": [
      "\r",
      "|-----------> in progress: 55.0521%"
     ]
    },
    {
     "name": "stdout",
     "output_type": "stream",
     "text": [
      "\r",
      "|-----------> in progress: 56.0531%"
     ]
    },
    {
     "name": "stdout",
     "output_type": "stream",
     "text": [
      "\r",
      "|-----------> in progress: 57.0540%"
     ]
    },
    {
     "name": "stdout",
     "output_type": "stream",
     "text": [
      "\r",
      "|-----------> in progress: 58.0550%"
     ]
    },
    {
     "name": "stdout",
     "output_type": "stream",
     "text": [
      "\r",
      "|-----------> in progress: 59.0559%"
     ]
    },
    {
     "name": "stdout",
     "output_type": "stream",
     "text": [
      "\r",
      "|-----------> in progress: 60.0569%"
     ]
    },
    {
     "name": "stdout",
     "output_type": "stream",
     "text": [
      "\r",
      "|-----------> in progress: 61.0578%"
     ]
    },
    {
     "name": "stdout",
     "output_type": "stream",
     "text": [
      "\r",
      "|-----------> in progress: 62.0588%"
     ]
    },
    {
     "name": "stdout",
     "output_type": "stream",
     "text": [
      "\r",
      "|-----------> in progress: 63.0597%"
     ]
    },
    {
     "name": "stdout",
     "output_type": "stream",
     "text": [
      "\r",
      "|-----------> in progress: 64.0607%"
     ]
    },
    {
     "name": "stdout",
     "output_type": "stream",
     "text": [
      "\r",
      "|-----------> in progress: 65.0616%"
     ]
    },
    {
     "name": "stdout",
     "output_type": "stream",
     "text": [
      "\r",
      "|-----------> in progress: 66.0626%"
     ]
    },
    {
     "name": "stdout",
     "output_type": "stream",
     "text": [
      "\r",
      "|-----------> in progress: 67.0635%"
     ]
    },
    {
     "name": "stdout",
     "output_type": "stream",
     "text": [
      "\r",
      "|-----------> in progress: 68.0645%"
     ]
    },
    {
     "name": "stdout",
     "output_type": "stream",
     "text": [
      "\r",
      "|-----------> in progress: 69.0654%"
     ]
    },
    {
     "name": "stdout",
     "output_type": "stream",
     "text": [
      "\r",
      "|-----------> in progress: 70.0664%"
     ]
    },
    {
     "name": "stdout",
     "output_type": "stream",
     "text": [
      "\r",
      "|-----------> in progress: 71.0673%"
     ]
    },
    {
     "name": "stdout",
     "output_type": "stream",
     "text": [
      "\r",
      "|-----------> in progress: 72.0683%"
     ]
    },
    {
     "name": "stdout",
     "output_type": "stream",
     "text": [
      "\r",
      "|-----------> in progress: 73.0692%"
     ]
    },
    {
     "name": "stdout",
     "output_type": "stream",
     "text": [
      "\r",
      "|-----------> in progress: 74.0701%"
     ]
    },
    {
     "name": "stdout",
     "output_type": "stream",
     "text": [
      "\r",
      "|-----------> in progress: 75.0711%"
     ]
    },
    {
     "name": "stdout",
     "output_type": "stream",
     "text": [
      "\r",
      "|-----------> in progress: 76.0720%"
     ]
    },
    {
     "name": "stdout",
     "output_type": "stream",
     "text": [
      "\r",
      "|-----------> in progress: 77.0730%"
     ]
    },
    {
     "name": "stdout",
     "output_type": "stream",
     "text": [
      "\r",
      "|-----------> in progress: 78.0739%"
     ]
    },
    {
     "name": "stdout",
     "output_type": "stream",
     "text": [
      "\r",
      "|-----------> in progress: 79.0749%"
     ]
    },
    {
     "name": "stdout",
     "output_type": "stream",
     "text": [
      "\r",
      "|-----------> in progress: 80.0758%"
     ]
    },
    {
     "name": "stdout",
     "output_type": "stream",
     "text": [
      "\r",
      "|-----------> in progress: 81.0768%"
     ]
    },
    {
     "name": "stdout",
     "output_type": "stream",
     "text": [
      "\r",
      "|-----------> in progress: 82.0777%"
     ]
    },
    {
     "name": "stdout",
     "output_type": "stream",
     "text": [
      "\r",
      "|-----------> in progress: 83.0787%"
     ]
    },
    {
     "name": "stdout",
     "output_type": "stream",
     "text": [
      "\r",
      "|-----------> in progress: 84.0796%"
     ]
    },
    {
     "name": "stdout",
     "output_type": "stream",
     "text": [
      "\r",
      "|-----------> in progress: 85.0806%"
     ]
    },
    {
     "name": "stdout",
     "output_type": "stream",
     "text": [
      "\r",
      "|-----------> in progress: 86.0815%"
     ]
    },
    {
     "name": "stdout",
     "output_type": "stream",
     "text": [
      "\r",
      "|-----------> in progress: 87.0825%"
     ]
    },
    {
     "name": "stdout",
     "output_type": "stream",
     "text": [
      "\r",
      "|-----------> in progress: 88.0834%"
     ]
    },
    {
     "name": "stdout",
     "output_type": "stream",
     "text": [
      "\r",
      "|-----------> in progress: 89.0844%"
     ]
    },
    {
     "name": "stdout",
     "output_type": "stream",
     "text": [
      "\r",
      "|-----------> in progress: 90.0853%"
     ]
    },
    {
     "name": "stdout",
     "output_type": "stream",
     "text": [
      "\r",
      "|-----------> in progress: 91.0863%"
     ]
    },
    {
     "name": "stdout",
     "output_type": "stream",
     "text": [
      "\r",
      "|-----------> in progress: 92.0872%"
     ]
    },
    {
     "name": "stdout",
     "output_type": "stream",
     "text": [
      "\r",
      "|-----------> in progress: 93.0882%"
     ]
    },
    {
     "name": "stdout",
     "output_type": "stream",
     "text": [
      "\r",
      "|-----------> in progress: 94.0891%"
     ]
    },
    {
     "name": "stdout",
     "output_type": "stream",
     "text": [
      "\r",
      "|-----------> in progress: 95.0901%"
     ]
    },
    {
     "name": "stdout",
     "output_type": "stream",
     "text": [
      "\r",
      "|-----------> in progress: 96.0910%"
     ]
    },
    {
     "name": "stdout",
     "output_type": "stream",
     "text": [
      "\r",
      "|-----------> in progress: 97.0919%"
     ]
    },
    {
     "name": "stdout",
     "output_type": "stream",
     "text": [
      "\r",
      "|-----------> in progress: 98.0929%"
     ]
    },
    {
     "name": "stdout",
     "output_type": "stream",
     "text": [
      "\r",
      "|-----------> in progress: 99.0938%"
     ]
    },
    {
     "name": "stdout",
     "output_type": "stream",
     "text": [
      "\r",
      "|-----------> in progress: 100.0000%\n"
     ]
    },
    {
     "name": "stdout",
     "output_type": "stream",
     "text": [
      "|-----------> Processing file: pyaging_data/ENCFF386QWG.bigWig\n"
     ]
    },
    {
     "name": "stdout",
     "output_type": "stream",
     "text": [
      "\r",
      "|-----------> in progress: 1.0009%"
     ]
    },
    {
     "name": "stdout",
     "output_type": "stream",
     "text": [
      "\r",
      "|-----------> in progress: 2.0019%"
     ]
    },
    {
     "name": "stdout",
     "output_type": "stream",
     "text": [
      "\r",
      "|-----------> in progress: 3.0028%"
     ]
    },
    {
     "name": "stdout",
     "output_type": "stream",
     "text": [
      "\r",
      "|-----------> in progress: 4.0038%"
     ]
    },
    {
     "name": "stdout",
     "output_type": "stream",
     "text": [
      "\r",
      "|-----------> in progress: 5.0047%"
     ]
    },
    {
     "name": "stdout",
     "output_type": "stream",
     "text": [
      "\r",
      "|-----------> in progress: 6.0057%"
     ]
    },
    {
     "name": "stdout",
     "output_type": "stream",
     "text": [
      "\r",
      "|-----------> in progress: 7.0066%"
     ]
    },
    {
     "name": "stdout",
     "output_type": "stream",
     "text": [
      "\r",
      "|-----------> in progress: 8.0076%"
     ]
    },
    {
     "name": "stdout",
     "output_type": "stream",
     "text": [
      "\r",
      "|-----------> in progress: 9.0085%"
     ]
    },
    {
     "name": "stdout",
     "output_type": "stream",
     "text": [
      "\r",
      "|-----------> in progress: 10.0095%"
     ]
    },
    {
     "name": "stdout",
     "output_type": "stream",
     "text": [
      "\r",
      "|-----------> in progress: 11.0104%"
     ]
    },
    {
     "name": "stdout",
     "output_type": "stream",
     "text": [
      "\r",
      "|-----------> in progress: 12.0114%"
     ]
    },
    {
     "name": "stdout",
     "output_type": "stream",
     "text": [
      "\r",
      "|-----------> in progress: 13.0123%"
     ]
    },
    {
     "name": "stdout",
     "output_type": "stream",
     "text": [
      "\r",
      "|-----------> in progress: 14.0133%"
     ]
    },
    {
     "name": "stdout",
     "output_type": "stream",
     "text": [
      "\r",
      "|-----------> in progress: 15.0142%"
     ]
    },
    {
     "name": "stdout",
     "output_type": "stream",
     "text": [
      "\r",
      "|-----------> in progress: 16.0152%"
     ]
    },
    {
     "name": "stdout",
     "output_type": "stream",
     "text": [
      "\r",
      "|-----------> in progress: 17.0161%"
     ]
    },
    {
     "name": "stdout",
     "output_type": "stream",
     "text": [
      "\r",
      "|-----------> in progress: 18.0171%"
     ]
    },
    {
     "name": "stdout",
     "output_type": "stream",
     "text": [
      "\r",
      "|-----------> in progress: 19.0180%"
     ]
    },
    {
     "name": "stdout",
     "output_type": "stream",
     "text": [
      "\r",
      "|-----------> in progress: 20.0190%"
     ]
    },
    {
     "name": "stdout",
     "output_type": "stream",
     "text": [
      "\r",
      "|-----------> in progress: 21.0199%"
     ]
    },
    {
     "name": "stdout",
     "output_type": "stream",
     "text": [
      "\r",
      "|-----------> in progress: 22.0209%"
     ]
    },
    {
     "name": "stdout",
     "output_type": "stream",
     "text": [
      "\r",
      "|-----------> in progress: 23.0218%"
     ]
    },
    {
     "name": "stdout",
     "output_type": "stream",
     "text": [
      "\r",
      "|-----------> in progress: 24.0228%"
     ]
    },
    {
     "name": "stdout",
     "output_type": "stream",
     "text": [
      "\r",
      "|-----------> in progress: 25.0237%"
     ]
    },
    {
     "name": "stdout",
     "output_type": "stream",
     "text": [
      "\r",
      "|-----------> in progress: 26.0246%"
     ]
    },
    {
     "name": "stdout",
     "output_type": "stream",
     "text": [
      "\r",
      "|-----------> in progress: 27.0256%"
     ]
    },
    {
     "name": "stdout",
     "output_type": "stream",
     "text": [
      "\r",
      "|-----------> in progress: 28.0265%"
     ]
    },
    {
     "name": "stdout",
     "output_type": "stream",
     "text": [
      "\r",
      "|-----------> in progress: 29.0275%"
     ]
    },
    {
     "name": "stdout",
     "output_type": "stream",
     "text": [
      "\r",
      "|-----------> in progress: 30.0284%"
     ]
    },
    {
     "name": "stdout",
     "output_type": "stream",
     "text": [
      "\r",
      "|-----------> in progress: 31.0294%"
     ]
    },
    {
     "name": "stdout",
     "output_type": "stream",
     "text": [
      "\r",
      "|-----------> in progress: 32.0303%"
     ]
    },
    {
     "name": "stdout",
     "output_type": "stream",
     "text": [
      "\r",
      "|-----------> in progress: 33.0313%"
     ]
    },
    {
     "name": "stdout",
     "output_type": "stream",
     "text": [
      "\r",
      "|-----------> in progress: 34.0322%"
     ]
    },
    {
     "name": "stdout",
     "output_type": "stream",
     "text": [
      "\r",
      "|-----------> in progress: 35.0332%"
     ]
    },
    {
     "name": "stdout",
     "output_type": "stream",
     "text": [
      "\r",
      "|-----------> in progress: 36.0341%"
     ]
    },
    {
     "name": "stdout",
     "output_type": "stream",
     "text": [
      "\r",
      "|-----------> in progress: 37.0351%"
     ]
    },
    {
     "name": "stdout",
     "output_type": "stream",
     "text": [
      "\r",
      "|-----------> in progress: 38.0360%"
     ]
    },
    {
     "name": "stdout",
     "output_type": "stream",
     "text": [
      "\r",
      "|-----------> in progress: 39.0370%"
     ]
    },
    {
     "name": "stdout",
     "output_type": "stream",
     "text": [
      "\r",
      "|-----------> in progress: 40.0379%"
     ]
    },
    {
     "name": "stdout",
     "output_type": "stream",
     "text": [
      "\r",
      "|-----------> in progress: 41.0389%"
     ]
    },
    {
     "name": "stdout",
     "output_type": "stream",
     "text": [
      "\r",
      "|-----------> in progress: 42.0398%"
     ]
    },
    {
     "name": "stdout",
     "output_type": "stream",
     "text": [
      "\r",
      "|-----------> in progress: 43.0408%"
     ]
    },
    {
     "name": "stdout",
     "output_type": "stream",
     "text": [
      "\r",
      "|-----------> in progress: 44.0417%"
     ]
    },
    {
     "name": "stdout",
     "output_type": "stream",
     "text": [
      "\r",
      "|-----------> in progress: 45.0427%"
     ]
    },
    {
     "name": "stdout",
     "output_type": "stream",
     "text": [
      "\r",
      "|-----------> in progress: 46.0436%"
     ]
    },
    {
     "name": "stdout",
     "output_type": "stream",
     "text": [
      "\r",
      "|-----------> in progress: 47.0446%"
     ]
    },
    {
     "name": "stdout",
     "output_type": "stream",
     "text": [
      "\r",
      "|-----------> in progress: 48.0455%"
     ]
    },
    {
     "name": "stdout",
     "output_type": "stream",
     "text": [
      "\r",
      "|-----------> in progress: 49.0464%"
     ]
    },
    {
     "name": "stdout",
     "output_type": "stream",
     "text": [
      "\r",
      "|-----------> in progress: 50.0474%"
     ]
    },
    {
     "name": "stdout",
     "output_type": "stream",
     "text": [
      "\r",
      "|-----------> in progress: 51.0483%"
     ]
    },
    {
     "name": "stdout",
     "output_type": "stream",
     "text": [
      "\r",
      "|-----------> in progress: 52.0493%"
     ]
    },
    {
     "name": "stdout",
     "output_type": "stream",
     "text": [
      "\r",
      "|-----------> in progress: 53.0502%"
     ]
    },
    {
     "name": "stdout",
     "output_type": "stream",
     "text": [
      "\r",
      "|-----------> in progress: 54.0512%"
     ]
    },
    {
     "name": "stdout",
     "output_type": "stream",
     "text": [
      "\r",
      "|-----------> in progress: 55.0521%"
     ]
    },
    {
     "name": "stdout",
     "output_type": "stream",
     "text": [
      "\r",
      "|-----------> in progress: 56.0531%"
     ]
    },
    {
     "name": "stdout",
     "output_type": "stream",
     "text": [
      "\r",
      "|-----------> in progress: 57.0540%"
     ]
    },
    {
     "name": "stdout",
     "output_type": "stream",
     "text": [
      "\r",
      "|-----------> in progress: 58.0550%"
     ]
    },
    {
     "name": "stdout",
     "output_type": "stream",
     "text": [
      "\r",
      "|-----------> in progress: 59.0559%"
     ]
    },
    {
     "name": "stdout",
     "output_type": "stream",
     "text": [
      "\r",
      "|-----------> in progress: 60.0569%"
     ]
    },
    {
     "name": "stdout",
     "output_type": "stream",
     "text": [
      "\r",
      "|-----------> in progress: 61.0578%"
     ]
    },
    {
     "name": "stdout",
     "output_type": "stream",
     "text": [
      "\r",
      "|-----------> in progress: 62.0588%"
     ]
    },
    {
     "name": "stdout",
     "output_type": "stream",
     "text": [
      "\r",
      "|-----------> in progress: 63.0597%"
     ]
    },
    {
     "name": "stdout",
     "output_type": "stream",
     "text": [
      "\r",
      "|-----------> in progress: 64.0607%"
     ]
    },
    {
     "name": "stdout",
     "output_type": "stream",
     "text": [
      "\r",
      "|-----------> in progress: 65.0616%"
     ]
    },
    {
     "name": "stdout",
     "output_type": "stream",
     "text": [
      "\r",
      "|-----------> in progress: 66.0626%"
     ]
    },
    {
     "name": "stdout",
     "output_type": "stream",
     "text": [
      "\r",
      "|-----------> in progress: 67.0635%"
     ]
    },
    {
     "name": "stdout",
     "output_type": "stream",
     "text": [
      "\r",
      "|-----------> in progress: 68.0645%"
     ]
    },
    {
     "name": "stdout",
     "output_type": "stream",
     "text": [
      "\r",
      "|-----------> in progress: 69.0654%"
     ]
    },
    {
     "name": "stdout",
     "output_type": "stream",
     "text": [
      "\r",
      "|-----------> in progress: 70.0664%"
     ]
    },
    {
     "name": "stdout",
     "output_type": "stream",
     "text": [
      "\r",
      "|-----------> in progress: 71.0673%"
     ]
    },
    {
     "name": "stdout",
     "output_type": "stream",
     "text": [
      "\r",
      "|-----------> in progress: 72.0683%"
     ]
    },
    {
     "name": "stdout",
     "output_type": "stream",
     "text": [
      "\r",
      "|-----------> in progress: 73.0692%"
     ]
    },
    {
     "name": "stdout",
     "output_type": "stream",
     "text": [
      "\r",
      "|-----------> in progress: 74.0701%"
     ]
    },
    {
     "name": "stdout",
     "output_type": "stream",
     "text": [
      "\r",
      "|-----------> in progress: 75.0711%"
     ]
    },
    {
     "name": "stdout",
     "output_type": "stream",
     "text": [
      "\r",
      "|-----------> in progress: 76.0720%"
     ]
    },
    {
     "name": "stdout",
     "output_type": "stream",
     "text": [
      "\r",
      "|-----------> in progress: 77.0730%"
     ]
    },
    {
     "name": "stdout",
     "output_type": "stream",
     "text": [
      "\r",
      "|-----------> in progress: 78.0739%"
     ]
    },
    {
     "name": "stdout",
     "output_type": "stream",
     "text": [
      "\r",
      "|-----------> in progress: 79.0749%"
     ]
    },
    {
     "name": "stdout",
     "output_type": "stream",
     "text": [
      "\r",
      "|-----------> in progress: 80.0758%"
     ]
    },
    {
     "name": "stdout",
     "output_type": "stream",
     "text": [
      "\r",
      "|-----------> in progress: 81.0768%"
     ]
    },
    {
     "name": "stdout",
     "output_type": "stream",
     "text": [
      "\r",
      "|-----------> in progress: 82.0777%"
     ]
    },
    {
     "name": "stdout",
     "output_type": "stream",
     "text": [
      "\r",
      "|-----------> in progress: 83.0787%"
     ]
    },
    {
     "name": "stdout",
     "output_type": "stream",
     "text": [
      "\r",
      "|-----------> in progress: 84.0796%"
     ]
    },
    {
     "name": "stdout",
     "output_type": "stream",
     "text": [
      "\r",
      "|-----------> in progress: 85.0806%"
     ]
    },
    {
     "name": "stdout",
     "output_type": "stream",
     "text": [
      "\r",
      "|-----------> in progress: 86.0815%"
     ]
    },
    {
     "name": "stdout",
     "output_type": "stream",
     "text": [
      "\r",
      "|-----------> in progress: 87.0825%"
     ]
    },
    {
     "name": "stdout",
     "output_type": "stream",
     "text": [
      "\r",
      "|-----------> in progress: 88.0834%"
     ]
    },
    {
     "name": "stdout",
     "output_type": "stream",
     "text": [
      "\r",
      "|-----------> in progress: 89.0844%"
     ]
    },
    {
     "name": "stdout",
     "output_type": "stream",
     "text": [
      "\r",
      "|-----------> in progress: 90.0853%"
     ]
    },
    {
     "name": "stdout",
     "output_type": "stream",
     "text": [
      "\r",
      "|-----------> in progress: 91.0863%"
     ]
    },
    {
     "name": "stdout",
     "output_type": "stream",
     "text": [
      "\r",
      "|-----------> in progress: 92.0872%"
     ]
    },
    {
     "name": "stdout",
     "output_type": "stream",
     "text": [
      "\r",
      "|-----------> in progress: 93.0882%"
     ]
    },
    {
     "name": "stdout",
     "output_type": "stream",
     "text": [
      "\r",
      "|-----------> in progress: 94.0891%"
     ]
    },
    {
     "name": "stdout",
     "output_type": "stream",
     "text": [
      "\r",
      "|-----------> in progress: 95.0901%"
     ]
    },
    {
     "name": "stdout",
     "output_type": "stream",
     "text": [
      "\r",
      "|-----------> in progress: 96.0910%"
     ]
    },
    {
     "name": "stdout",
     "output_type": "stream",
     "text": [
      "\r",
      "|-----------> in progress: 97.0919%"
     ]
    },
    {
     "name": "stdout",
     "output_type": "stream",
     "text": [
      "\r",
      "|-----------> in progress: 98.0929%"
     ]
    },
    {
     "name": "stdout",
     "output_type": "stream",
     "text": [
      "\r",
      "|-----------> in progress: 99.0938%"
     ]
    },
    {
     "name": "stdout",
     "output_type": "stream",
     "text": [
      "\r",
      "|-----------> in progress: 100.0000%\n"
     ]
    },
    {
     "name": "stdout",
     "output_type": "stream",
     "text": [
      "|-----> ✅ Processing bigWig files finished [10.9185s]\n"
     ]
    },
    {
     "name": "stdout",
     "output_type": "stream",
     "text": [
      "|-----> 🎉 Done! [26.0601s]\n"
     ]
    }
   ],
   "source": [
    "df = pya.pp.bigwig_to_df(['pyaging_data/ENCFF386QWG.bigWig', 'pyaging_data/ENCFF386QWG.bigWig'])"
   ]
  },
  {
   "cell_type": "code",
   "execution_count": 4,
   "id": "1a24e0a5-f97f-4f01-95a7-dd96246d9eb2",
   "metadata": {},
   "outputs": [],
   "source": [
    "df.index = ['sample1', 'sample2'] # just to avoid an annoying anndata warning that samples have same names"
   ]
  },
  {
   "cell_type": "code",
   "execution_count": 5,
   "id": "769858ac-9d6d-43f8-9c53-0f4a88c5484c",
   "metadata": {},
   "outputs": [
    {
     "data": {
      "text/html": [
       "<div>\n",
       "<style scoped>\n",
       "    .dataframe tbody tr th:only-of-type {\n",
       "        vertical-align: middle;\n",
       "    }\n",
       "\n",
       "    .dataframe tbody tr th {\n",
       "        vertical-align: top;\n",
       "    }\n",
       "\n",
       "    .dataframe thead th {\n",
       "        text-align: right;\n",
       "    }\n",
       "</style>\n",
       "<table border=\"1\" class=\"dataframe\">\n",
       "  <thead>\n",
       "    <tr style=\"text-align: right;\">\n",
       "      <th></th>\n",
       "      <th>ENSG00000223972</th>\n",
       "      <th>ENSG00000227232</th>\n",
       "      <th>ENSG00000278267</th>\n",
       "      <th>ENSG00000243485</th>\n",
       "      <th>ENSG00000284332</th>\n",
       "      <th>ENSG00000237613</th>\n",
       "      <th>ENSG00000268020</th>\n",
       "      <th>ENSG00000240361</th>\n",
       "      <th>ENSG00000186092</th>\n",
       "      <th>ENSG00000238009</th>\n",
       "      <th>...</th>\n",
       "      <th>ENSG00000237801</th>\n",
       "      <th>ENSG00000237040</th>\n",
       "      <th>ENSG00000124333</th>\n",
       "      <th>ENSG00000228410</th>\n",
       "      <th>ENSG00000223484</th>\n",
       "      <th>ENSG00000124334</th>\n",
       "      <th>ENSG00000270726</th>\n",
       "      <th>ENSG00000185203</th>\n",
       "      <th>ENSG00000182484</th>\n",
       "      <th>ENSG00000227159</th>\n",
       "    </tr>\n",
       "  </thead>\n",
       "  <tbody>\n",
       "    <tr>\n",
       "      <th>sample1</th>\n",
       "      <td>0.028616</td>\n",
       "      <td>0.030415</td>\n",
       "      <td>0.027783</td>\n",
       "      <td>0.028616</td>\n",
       "      <td>0.028616</td>\n",
       "      <td>0.028616</td>\n",
       "      <td>0.044171</td>\n",
       "      <td>0.036474</td>\n",
       "      <td>0.030784</td>\n",
       "      <td>0.03181</td>\n",
       "      <td>...</td>\n",
       "      <td>0.034435</td>\n",
       "      <td>0.006822</td>\n",
       "      <td>1.413119</td>\n",
       "      <td>0.029424</td>\n",
       "      <td>0.140005</td>\n",
       "      <td>0.049786</td>\n",
       "      <td>0.069296</td>\n",
       "      <td>0.332126</td>\n",
       "      <td>0.028596</td>\n",
       "      <td>0.028616</td>\n",
       "    </tr>\n",
       "    <tr>\n",
       "      <th>sample2</th>\n",
       "      <td>0.028616</td>\n",
       "      <td>0.030415</td>\n",
       "      <td>0.027783</td>\n",
       "      <td>0.028616</td>\n",
       "      <td>0.028616</td>\n",
       "      <td>0.028616</td>\n",
       "      <td>0.044171</td>\n",
       "      <td>0.036474</td>\n",
       "      <td>0.030784</td>\n",
       "      <td>0.03181</td>\n",
       "      <td>...</td>\n",
       "      <td>0.034435</td>\n",
       "      <td>0.006822</td>\n",
       "      <td>1.413119</td>\n",
       "      <td>0.029424</td>\n",
       "      <td>0.140005</td>\n",
       "      <td>0.049786</td>\n",
       "      <td>0.069296</td>\n",
       "      <td>0.332126</td>\n",
       "      <td>0.028596</td>\n",
       "      <td>0.028616</td>\n",
       "    </tr>\n",
       "  </tbody>\n",
       "</table>\n",
       "<p>2 rows × 62241 columns</p>\n",
       "</div>"
      ],
      "text/plain": [
       "         ENSG00000223972  ENSG00000227232  ENSG00000278267  ENSG00000243485  \\\n",
       "sample1         0.028616         0.030415         0.027783         0.028616   \n",
       "sample2         0.028616         0.030415         0.027783         0.028616   \n",
       "\n",
       "         ENSG00000284332  ENSG00000237613  ENSG00000268020  ENSG00000240361  \\\n",
       "sample1         0.028616         0.028616         0.044171         0.036474   \n",
       "sample2         0.028616         0.028616         0.044171         0.036474   \n",
       "\n",
       "         ENSG00000186092  ENSG00000238009  ...  ENSG00000237801  \\\n",
       "sample1         0.030784          0.03181  ...         0.034435   \n",
       "sample2         0.030784          0.03181  ...         0.034435   \n",
       "\n",
       "         ENSG00000237040  ENSG00000124333  ENSG00000228410  ENSG00000223484  \\\n",
       "sample1         0.006822         1.413119         0.029424         0.140005   \n",
       "sample2         0.006822         1.413119         0.029424         0.140005   \n",
       "\n",
       "         ENSG00000124334  ENSG00000270726  ENSG00000185203  ENSG00000182484  \\\n",
       "sample1         0.049786         0.069296         0.332126         0.028596   \n",
       "sample2         0.049786         0.069296         0.332126         0.028596   \n",
       "\n",
       "         ENSG00000227159  \n",
       "sample1         0.028616  \n",
       "sample2         0.028616  \n",
       "\n",
       "[2 rows x 62241 columns]"
      ]
     },
     "execution_count": 5,
     "metadata": {},
     "output_type": "execute_result"
    }
   ],
   "source": [
    "df.head()"
   ]
  },
  {
   "cell_type": "markdown",
   "id": "e303dc0f-9e77-4524-9c04-90540e9ee75d",
   "metadata": {},
   "source": [
    "## Convert data to AnnData object"
   ]
  },
  {
   "cell_type": "markdown",
   "id": "ae8e44bc-67fc-4508-9623-faea44301fa8",
   "metadata": {},
   "source": [
    "AnnData objects are highly flexible and are thus our preferred method of organizing data for age prediction."
   ]
  },
  {
   "cell_type": "code",
   "execution_count": 6,
   "id": "c501ed4c-f711-44be-bda4-669fbbae88f1",
   "metadata": {},
   "outputs": [
    {
     "name": "stdout",
     "output_type": "stream",
     "text": [
      "|-----> 🏗️ Starting df_to_adata function\n",
      "|-----> ⚙️ Create anndata object started\n",
      "|-----> ✅ Create anndata object finished [0.0625s]\n",
      "|-----> ⚙️ Add metadata to anndata started\n",
      "|-----------? No metadata provided. Leaving adata.obs empty\n",
      "|-----> ⚠️ Add metadata to anndata finished [0.0008s]\n",
      "|-----> ⚙️ Log data statistics started\n",
      "|-----------> There are 2 observations\n",
      "|-----------> There are 62241 features\n",
      "|-----------> Total missing values: 0\n",
      "|-----------> Percentage of missing values: 0.00%\n",
      "|-----> ✅ Log data statistics finished [0.0104s]\n",
      "|-----> ⚙️ Impute missing values started\n",
      "|-----------> No missing values found. No imputation necessary\n",
      "|-----> ✅ Impute missing values finished [0.0045s]\n",
      "|-----> 🎉 Done! [0.0874s]\n"
     ]
    },
    {
     "name": "stdout",
     "output_type": "stream",
     "text": [
      "|-----> ✅ Create anndata object finished [0.0272s]\n"
     ]
    },
    {
     "name": "stdout",
     "output_type": "stream",
     "text": [
      "|-----> ⚙️ Add metadata to anndata started\n"
     ]
    },
    {
     "name": "stdout",
     "output_type": "stream",
     "text": [
      "|-----------? No metadata provided. Leaving adata.obs empty\n"
     ]
    },
    {
     "name": "stdout",
     "output_type": "stream",
     "text": [
      "|-----> ⚠️ Add metadata to anndata finished [0.0004s]\n"
     ]
    },
    {
     "name": "stdout",
     "output_type": "stream",
     "text": [
      "|-----> ⚙️ Log data statistics started\n"
     ]
    },
    {
     "name": "stdout",
     "output_type": "stream",
     "text": [
      "|-----------> There are 2 observations\n"
     ]
    },
    {
     "name": "stdout",
     "output_type": "stream",
     "text": [
      "|-----------> There are 62241 features\n"
     ]
    },
    {
     "name": "stdout",
     "output_type": "stream",
     "text": [
      "|-----------> Total missing values: 0\n"
     ]
    },
    {
     "name": "stdout",
     "output_type": "stream",
     "text": [
      "|-----------> Percentage of missing values: 0.00%\n"
     ]
    },
    {
     "name": "stdout",
     "output_type": "stream",
     "text": [
      "|-----> ✅ Log data statistics finished [0.0011s]\n"
     ]
    },
    {
     "name": "stdout",
     "output_type": "stream",
     "text": [
      "|-----> ⚙️ Impute missing values started\n"
     ]
    },
    {
     "name": "stdout",
     "output_type": "stream",
     "text": [
      "|-----------> No missing values found. No imputation necessary\n"
     ]
    },
    {
     "name": "stdout",
     "output_type": "stream",
     "text": [
      "|-----> ✅ Impute missing values finished [0.0014s]\n"
     ]
    },
    {
     "name": "stdout",
     "output_type": "stream",
     "text": [
      "|-----> 🎉 Done! [0.0320s]\n"
     ]
    }
   ],
   "source": [
    "adata = pya.preprocess.df_to_adata(df)"
   ]
  },
  {
   "cell_type": "markdown",
   "id": "3f82813b-3db2-4570-9e4c-3dce08dc5108",
   "metadata": {},
   "source": [
    "Note that the original DataFrame is stored in `X_original` under layers. This is what the `adata` object looks like:"
   ]
  },
  {
   "cell_type": "code",
   "execution_count": 7,
   "id": "641a61a6-46fc-4d47-b176-eb39524ce94f",
   "metadata": {},
   "outputs": [
    {
     "data": {
      "text/plain": [
       "AnnData object with n_obs × n_vars = 2 × 62241\n",
       "    var: 'percent_na'\n",
       "    layers: 'X_original'"
      ]
     },
     "execution_count": 7,
     "metadata": {},
     "output_type": "execute_result"
    }
   ],
   "source": [
    "adata"
   ]
  },
  {
   "cell_type": "markdown",
   "id": "c72aa719-efd3-4094-90f5-bffcaea76a34",
   "metadata": {},
   "source": [
    "## Predict age"
   ]
  },
  {
   "cell_type": "markdown",
   "id": "aff9395b-4954-4148-9cbb-6681e7217cf3",
   "metadata": {},
   "source": [
    "We can either predict one clock at once or all at the same time. For convenience, let's simply input a few clocks of interest at once. The function is invariant to the capitalization of the clock name. "
   ]
  },
  {
   "cell_type": "code",
   "execution_count": 8,
   "id": "13e7d357-c6d5-474b-b13f-30ec5edc0d19",
   "metadata": {},
   "outputs": [
    {
     "name": "stdout",
     "output_type": "stream",
     "text": [
      "|-----> 🏗️ Starting predict_age function\n",
      "|-----> ⚙️ Set PyTorch device started\n",
      "|-----------> Using device: cpu\n",
      "|-----> ✅ Set PyTorch device finished [0.0105s]\n",
      "|-----> 🕒 Processing clock: camilloh3k4me3\n",
      "|-----------> ⚙️ Load clock started\n",
      "|-----------------> Data found in pyaging_data/camilloh3k4me3.pt\n",
      "|-----------> ✅ Load clock finished [0.6478s]\n",
      "|-----------> ⚙️ Check features in adata started\n",
      "|-----------------> All features are present in adata.var_names.\n",
      "|-----------------> Added prepared input matrix to adata.obsm[X_camilloh3k4me3]\n",
      "|-----------> ✅ Check features in adata finished [0.0992s]\n",
      "|-----------> ⚙️ Predict ages with model started\n",
      "|-----------------> There is no preprocessing necessary\n",
      "|-----------------> There is no postprocessing necessary\n",
      "|-----------------> in progress: 100.0000%\n",
      "|-----------> ✅ Predict ages with model finished [0.0169s]\n",
      "|-----------> ⚙️ Add predicted ages and clock metadata to adata started\n",
      "|-----------> ✅ Add predicted ages and clock metadata to adata finished [0.0066s]\n",
      "|-----> 🕒 Processing clock: camilloh3k9me3\n",
      "|-----------> ⚙️ Load clock started\n",
      "|-----------------> Data found in pyaging_data/camilloh3k9me3.pt\n",
      "|-----------> ✅ Load clock finished [0.5882s]\n",
      "|-----------> ⚙️ Check features in adata started\n",
      "|-----------------> All features are present in adata.var_names.\n",
      "|-----------------> Added prepared input matrix to adata.obsm[X_camilloh3k9me3]\n",
      "|-----------> ✅ Check features in adata finished [0.0604s]\n",
      "|-----------> ⚙️ Predict ages with model started\n",
      "|-----------------> There is no preprocessing necessary\n",
      "|-----------------> There is no postprocessing necessary\n",
      "|-----------------> in progress: 100.0000%\n",
      "|-----------> ✅ Predict ages with model finished [0.0030s]\n",
      "|-----------> ⚙️ Add predicted ages and clock metadata to adata started\n",
      "|-----------> ✅ Add predicted ages and clock metadata to adata finished [0.0014s]\n",
      "|-----> 🕒 Processing clock: camillopanhistone\n",
      "|-----------> ⚙️ Load clock started\n",
      "|-----------------> Data found in pyaging_data/camillopanhistone.pt\n",
      "|-----------> ✅ Load clock finished [0.6210s]\n",
      "|-----------> ⚙️ Check features in adata started\n",
      "|-----------------> All features are present in adata.var_names.\n",
      "|-----------------> Added prepared input matrix to adata.obsm[X_camillopanhistone]\n",
      "|-----------> ✅ Check features in adata finished [0.4603s]\n",
      "|-----------> ⚙️ Predict ages with model started\n",
      "|-----------------> There is no preprocessing necessary\n",
      "|-----------------> There is no postprocessing necessary\n",
      "|-----------------> in progress: 100.0000%\n",
      "|-----------> ✅ Predict ages with model finished [0.0216s]\n",
      "|-----------> ⚙️ Add predicted ages and clock metadata to adata started\n",
      "|-----------> ✅ Add predicted ages and clock metadata to adata finished [0.0018s]\n",
      "|-----> 🎉 Done! [3.0923s]\n"
     ]
    },
    {
     "name": "stdout",
     "output_type": "stream",
     "text": [
      "|-----------> Using device: cpu\n"
     ]
    },
    {
     "name": "stdout",
     "output_type": "stream",
     "text": [
      "|-----> ✅ Set PyTorch device finished [0.0005s]\n"
     ]
    },
    {
     "name": "stdout",
     "output_type": "stream",
     "text": [
      "|-----> 🕒 Processing clock: camilloh3k4me3\n"
     ]
    },
    {
     "name": "stdout",
     "output_type": "stream",
     "text": [
      "|-----------> ⚙️ Load clock started\n"
     ]
    },
    {
     "name": "stdout",
     "output_type": "stream",
     "text": [
      "|-----------------> Downloading data to pyaging_data/camilloh3k4me3.pt\n"
     ]
    },
    {
     "name": "stdout",
     "output_type": "stream",
     "text": [
      "\r",
      "|-----------------> in progress: 1.1607%"
     ]
    },
    {
     "name": "stdout",
     "output_type": "stream",
     "text": [
      "\r",
      "|-----------------> in progress: 2.3214%"
     ]
    },
    {
     "name": "stdout",
     "output_type": "stream",
     "text": [
      "\r",
      "|-----------------> in progress: 3.4822%"
     ]
    },
    {
     "name": "stdout",
     "output_type": "stream",
     "text": [
      "\r",
      "|-----------------> in progress: 4.6429%"
     ]
    },
    {
     "name": "stdout",
     "output_type": "stream",
     "text": [
      "\r",
      "|-----------------> in progress: 5.8036%"
     ]
    },
    {
     "name": "stdout",
     "output_type": "stream",
     "text": [
      "\r",
      "|-----------------> in progress: 6.9643%"
     ]
    },
    {
     "name": "stdout",
     "output_type": "stream",
     "text": [
      "\r",
      "|-----------------> in progress: 8.1250%"
     ]
    },
    {
     "name": "stdout",
     "output_type": "stream",
     "text": [
      "\r",
      "|-----------------> in progress: 9.2858%"
     ]
    },
    {
     "name": "stdout",
     "output_type": "stream",
     "text": [
      "\r",
      "|-----------------> in progress: 10.4465%"
     ]
    },
    {
     "name": "stdout",
     "output_type": "stream",
     "text": [
      "\r",
      "|-----------------> in progress: 11.6072%"
     ]
    },
    {
     "name": "stdout",
     "output_type": "stream",
     "text": [
      "\r",
      "|-----------------> in progress: 12.7679%"
     ]
    },
    {
     "name": "stdout",
     "output_type": "stream",
     "text": [
      "\r",
      "|-----------------> in progress: 13.9287%"
     ]
    },
    {
     "name": "stdout",
     "output_type": "stream",
     "text": [
      "\r",
      "|-----------------> in progress: 15.0894%"
     ]
    },
    {
     "name": "stdout",
     "output_type": "stream",
     "text": [
      "\r",
      "|-----------------> in progress: 16.2501%"
     ]
    },
    {
     "name": "stdout",
     "output_type": "stream",
     "text": [
      "\r",
      "|-----------------> in progress: 17.4108%"
     ]
    },
    {
     "name": "stdout",
     "output_type": "stream",
     "text": [
      "\r",
      "|-----------------> in progress: 18.5715%"
     ]
    },
    {
     "name": "stdout",
     "output_type": "stream",
     "text": [
      "\r",
      "|-----------------> in progress: 19.7323%"
     ]
    },
    {
     "name": "stdout",
     "output_type": "stream",
     "text": [
      "\r",
      "|-----------------> in progress: 20.8930%"
     ]
    },
    {
     "name": "stdout",
     "output_type": "stream",
     "text": [
      "\r",
      "|-----------------> in progress: 22.0537%"
     ]
    },
    {
     "name": "stdout",
     "output_type": "stream",
     "text": [
      "\r",
      "|-----------------> in progress: 23.2144%"
     ]
    },
    {
     "name": "stdout",
     "output_type": "stream",
     "text": [
      "\r",
      "|-----------------> in progress: 24.3751%"
     ]
    },
    {
     "name": "stdout",
     "output_type": "stream",
     "text": [
      "\r",
      "|-----------------> in progress: 25.5359%"
     ]
    },
    {
     "name": "stdout",
     "output_type": "stream",
     "text": [
      "\r",
      "|-----------------> in progress: 26.6966%"
     ]
    },
    {
     "name": "stdout",
     "output_type": "stream",
     "text": [
      "\r",
      "|-----------------> in progress: 27.8573%"
     ]
    },
    {
     "name": "stdout",
     "output_type": "stream",
     "text": [
      "\r",
      "|-----------------> in progress: 29.0180%"
     ]
    },
    {
     "name": "stdout",
     "output_type": "stream",
     "text": [
      "\r",
      "|-----------------> in progress: 30.1788%"
     ]
    },
    {
     "name": "stdout",
     "output_type": "stream",
     "text": [
      "\r",
      "|-----------------> in progress: 31.3395%"
     ]
    },
    {
     "name": "stdout",
     "output_type": "stream",
     "text": [
      "\r",
      "|-----------------> in progress: 32.5002%"
     ]
    },
    {
     "name": "stdout",
     "output_type": "stream",
     "text": [
      "\r",
      "|-----------------> in progress: 33.6609%"
     ]
    },
    {
     "name": "stdout",
     "output_type": "stream",
     "text": [
      "\r",
      "|-----------------> in progress: 34.8216%"
     ]
    },
    {
     "name": "stdout",
     "output_type": "stream",
     "text": [
      "\r",
      "|-----------------> in progress: 35.9824%"
     ]
    },
    {
     "name": "stdout",
     "output_type": "stream",
     "text": [
      "\r",
      "|-----------------> in progress: 37.1431%"
     ]
    },
    {
     "name": "stdout",
     "output_type": "stream",
     "text": [
      "\r",
      "|-----------------> in progress: 38.3038%"
     ]
    },
    {
     "name": "stdout",
     "output_type": "stream",
     "text": [
      "\r",
      "|-----------------> in progress: 39.4645%"
     ]
    },
    {
     "name": "stdout",
     "output_type": "stream",
     "text": [
      "\r",
      "|-----------------> in progress: 40.6252%"
     ]
    },
    {
     "name": "stdout",
     "output_type": "stream",
     "text": [
      "\r",
      "|-----------------> in progress: 41.7860%"
     ]
    },
    {
     "name": "stdout",
     "output_type": "stream",
     "text": [
      "\r",
      "|-----------------> in progress: 42.9467%"
     ]
    },
    {
     "name": "stdout",
     "output_type": "stream",
     "text": [
      "\r",
      "|-----------------> in progress: 44.1074%"
     ]
    },
    {
     "name": "stdout",
     "output_type": "stream",
     "text": [
      "\r",
      "|-----------------> in progress: 45.2681%"
     ]
    },
    {
     "name": "stdout",
     "output_type": "stream",
     "text": [
      "\r",
      "|-----------------> in progress: 46.4289%"
     ]
    },
    {
     "name": "stdout",
     "output_type": "stream",
     "text": [
      "\r",
      "|-----------------> in progress: 47.5896%"
     ]
    },
    {
     "name": "stdout",
     "output_type": "stream",
     "text": [
      "\r",
      "|-----------------> in progress: 48.7503%"
     ]
    },
    {
     "name": "stdout",
     "output_type": "stream",
     "text": [
      "\r",
      "|-----------------> in progress: 49.9110%"
     ]
    },
    {
     "name": "stdout",
     "output_type": "stream",
     "text": [
      "\r",
      "|-----------------> in progress: 51.0717%"
     ]
    },
    {
     "name": "stdout",
     "output_type": "stream",
     "text": [
      "\r",
      "|-----------------> in progress: 52.2325%"
     ]
    },
    {
     "name": "stdout",
     "output_type": "stream",
     "text": [
      "\r",
      "|-----------------> in progress: 53.3932%"
     ]
    },
    {
     "name": "stdout",
     "output_type": "stream",
     "text": [
      "\r",
      "|-----------------> in progress: 54.5539%"
     ]
    },
    {
     "name": "stdout",
     "output_type": "stream",
     "text": [
      "\r",
      "|-----------------> in progress: 55.7146%"
     ]
    },
    {
     "name": "stdout",
     "output_type": "stream",
     "text": [
      "\r",
      "|-----------------> in progress: 56.8753%"
     ]
    },
    {
     "name": "stdout",
     "output_type": "stream",
     "text": [
      "\r",
      "|-----------------> in progress: 58.0361%"
     ]
    },
    {
     "name": "stdout",
     "output_type": "stream",
     "text": [
      "\r",
      "|-----------------> in progress: 59.1968%"
     ]
    },
    {
     "name": "stdout",
     "output_type": "stream",
     "text": [
      "\r",
      "|-----------------> in progress: 60.3575%"
     ]
    },
    {
     "name": "stdout",
     "output_type": "stream",
     "text": [
      "\r",
      "|-----------------> in progress: 61.5182%"
     ]
    },
    {
     "name": "stdout",
     "output_type": "stream",
     "text": [
      "\r",
      "|-----------------> in progress: 62.6790%"
     ]
    },
    {
     "name": "stdout",
     "output_type": "stream",
     "text": [
      "\r",
      "|-----------------> in progress: 63.8397%"
     ]
    },
    {
     "name": "stdout",
     "output_type": "stream",
     "text": [
      "\r",
      "|-----------------> in progress: 65.0004%"
     ]
    },
    {
     "name": "stdout",
     "output_type": "stream",
     "text": [
      "\r",
      "|-----------------> in progress: 66.1611%"
     ]
    },
    {
     "name": "stdout",
     "output_type": "stream",
     "text": [
      "\r",
      "|-----------------> in progress: 67.3218%"
     ]
    },
    {
     "name": "stdout",
     "output_type": "stream",
     "text": [
      "\r",
      "|-----------------> in progress: 68.4826%"
     ]
    },
    {
     "name": "stdout",
     "output_type": "stream",
     "text": [
      "\r",
      "|-----------------> in progress: 69.6433%"
     ]
    },
    {
     "name": "stdout",
     "output_type": "stream",
     "text": [
      "\r",
      "|-----------------> in progress: 70.8040%"
     ]
    },
    {
     "name": "stdout",
     "output_type": "stream",
     "text": [
      "\r",
      "|-----------------> in progress: 71.9647%"
     ]
    },
    {
     "name": "stdout",
     "output_type": "stream",
     "text": [
      "\r",
      "|-----------------> in progress: 73.1254%"
     ]
    },
    {
     "name": "stdout",
     "output_type": "stream",
     "text": [
      "\r",
      "|-----------------> in progress: 74.2862%"
     ]
    },
    {
     "name": "stdout",
     "output_type": "stream",
     "text": [
      "\r",
      "|-----------------> in progress: 75.4469%"
     ]
    },
    {
     "name": "stdout",
     "output_type": "stream",
     "text": [
      "\r",
      "|-----------------> in progress: 76.6076%"
     ]
    },
    {
     "name": "stdout",
     "output_type": "stream",
     "text": [
      "\r",
      "|-----------------> in progress: 77.7683%"
     ]
    },
    {
     "name": "stdout",
     "output_type": "stream",
     "text": [
      "\r",
      "|-----------------> in progress: 78.9291%"
     ]
    },
    {
     "name": "stdout",
     "output_type": "stream",
     "text": [
      "\r",
      "|-----------------> in progress: 80.0898%"
     ]
    },
    {
     "name": "stdout",
     "output_type": "stream",
     "text": [
      "\r",
      "|-----------------> in progress: 81.2505%"
     ]
    },
    {
     "name": "stdout",
     "output_type": "stream",
     "text": [
      "\r",
      "|-----------------> in progress: 82.4112%"
     ]
    },
    {
     "name": "stdout",
     "output_type": "stream",
     "text": [
      "\r",
      "|-----------------> in progress: 83.5719%"
     ]
    },
    {
     "name": "stdout",
     "output_type": "stream",
     "text": [
      "\r",
      "|-----------------> in progress: 84.7327%"
     ]
    },
    {
     "name": "stdout",
     "output_type": "stream",
     "text": [
      "\r",
      "|-----------------> in progress: 85.8934%"
     ]
    },
    {
     "name": "stdout",
     "output_type": "stream",
     "text": [
      "\r",
      "|-----------------> in progress: 87.0541%"
     ]
    },
    {
     "name": "stdout",
     "output_type": "stream",
     "text": [
      "\r",
      "|-----------------> in progress: 88.2148%"
     ]
    },
    {
     "name": "stdout",
     "output_type": "stream",
     "text": [
      "\r",
      "|-----------------> in progress: 89.3755%"
     ]
    },
    {
     "name": "stdout",
     "output_type": "stream",
     "text": [
      "\r",
      "|-----------------> in progress: 90.5363%"
     ]
    },
    {
     "name": "stdout",
     "output_type": "stream",
     "text": [
      "\r",
      "|-----------------> in progress: 91.6970%"
     ]
    },
    {
     "name": "stdout",
     "output_type": "stream",
     "text": [
      "\r",
      "|-----------------> in progress: 92.8577%"
     ]
    },
    {
     "name": "stdout",
     "output_type": "stream",
     "text": [
      "\r",
      "|-----------------> in progress: 94.0184%"
     ]
    },
    {
     "name": "stdout",
     "output_type": "stream",
     "text": [
      "\r",
      "|-----------------> in progress: 95.1792%"
     ]
    },
    {
     "name": "stdout",
     "output_type": "stream",
     "text": [
      "\r",
      "|-----------------> in progress: 96.3399%"
     ]
    },
    {
     "name": "stdout",
     "output_type": "stream",
     "text": [
      "\r",
      "|-----------------> in progress: 97.5006%"
     ]
    },
    {
     "name": "stdout",
     "output_type": "stream",
     "text": [
      "\r",
      "|-----------------> in progress: 98.6613%"
     ]
    },
    {
     "name": "stdout",
     "output_type": "stream",
     "text": [
      "\r",
      "|-----------------> in progress: 99.8220%"
     ]
    },
    {
     "name": "stdout",
     "output_type": "stream",
     "text": [
      "\r",
      "|-----------------> in progress: 100.0000%\n"
     ]
    },
    {
     "name": "stdout",
     "output_type": "stream",
     "text": [
      "|-----------> ✅ Load clock finished [5.3464s]\n"
     ]
    },
    {
     "name": "stdout",
     "output_type": "stream",
     "text": [
      "|-----------> ⚙️ Check features in adata started\n"
     ]
    },
    {
     "name": "stdout",
     "output_type": "stream",
     "text": [
      "|-----------------> All features are present in adata.var_names.\n"
     ]
    },
    {
     "name": "stdout",
     "output_type": "stream",
     "text": [
      "|-----------------> Added prepared input matrix to adata.obsm[X_camilloh3k4me3]\n"
     ]
    },
    {
     "name": "stdout",
     "output_type": "stream",
     "text": [
      "|-----------> ✅ Check features in adata finished [0.0813s]\n"
     ]
    },
    {
     "name": "stdout",
     "output_type": "stream",
     "text": [
      "|-----------> ⚙️ Predict ages with model started\n"
     ]
    },
    {
     "name": "stdout",
     "output_type": "stream",
     "text": [
      "|-----------------> There is no preprocessing necessary\n"
     ]
    },
    {
     "name": "stdout",
     "output_type": "stream",
     "text": [
      "|-----------------> There is no postprocessing necessary\n"
     ]
    },
    {
     "name": "stdout",
     "output_type": "stream",
     "text": [
      "\r",
      "|-----------------> in progress: 100.0000%\n"
     ]
    },
    {
     "name": "stdout",
     "output_type": "stream",
     "text": [
      "|-----------> ✅ Predict ages with model finished [0.0016s]\n"
     ]
    },
    {
     "name": "stdout",
     "output_type": "stream",
     "text": [
      "|-----------> ⚙️ Add predicted ages and clock metadata to adata started\n"
     ]
    },
    {
     "name": "stdout",
     "output_type": "stream",
     "text": [
      "|-----------> ✅ Add predicted ages and clock metadata to adata finished [0.0008s]\n"
     ]
    },
    {
     "name": "stdout",
     "output_type": "stream",
     "text": [
      "|-----> 🕒 Processing clock: camilloh3k9me3\n"
     ]
    },
    {
     "name": "stdout",
     "output_type": "stream",
     "text": [
      "|-----------> ⚙️ Load clock started\n"
     ]
    },
    {
     "name": "stdout",
     "output_type": "stream",
     "text": [
      "|-----------------> Downloading data to pyaging_data/camilloh3k9me3.pt\n"
     ]
    },
    {
     "name": "stdout",
     "output_type": "stream",
     "text": [
      "\r",
      "|-----------------> in progress: 1.1913%"
     ]
    },
    {
     "name": "stdout",
     "output_type": "stream",
     "text": [
      "\r",
      "|-----------------> in progress: 2.3827%"
     ]
    },
    {
     "name": "stdout",
     "output_type": "stream",
     "text": [
      "\r",
      "|-----------------> in progress: 3.5740%"
     ]
    },
    {
     "name": "stdout",
     "output_type": "stream",
     "text": [
      "\r",
      "|-----------------> in progress: 4.7654%"
     ]
    },
    {
     "name": "stdout",
     "output_type": "stream",
     "text": [
      "\r",
      "|-----------------> in progress: 5.9567%"
     ]
    },
    {
     "name": "stdout",
     "output_type": "stream",
     "text": [
      "\r",
      "|-----------------> in progress: 7.1481%"
     ]
    },
    {
     "name": "stdout",
     "output_type": "stream",
     "text": [
      "\r",
      "|-----------------> in progress: 8.3394%"
     ]
    },
    {
     "name": "stdout",
     "output_type": "stream",
     "text": [
      "\r",
      "|-----------------> in progress: 9.5308%"
     ]
    },
    {
     "name": "stdout",
     "output_type": "stream",
     "text": [
      "\r",
      "|-----------------> in progress: 10.7221%"
     ]
    },
    {
     "name": "stdout",
     "output_type": "stream",
     "text": [
      "\r",
      "|-----------------> in progress: 11.9135%"
     ]
    },
    {
     "name": "stdout",
     "output_type": "stream",
     "text": [
      "\r",
      "|-----------------> in progress: 13.1048%"
     ]
    },
    {
     "name": "stdout",
     "output_type": "stream",
     "text": [
      "\r",
      "|-----------------> in progress: 14.2962%"
     ]
    },
    {
     "name": "stdout",
     "output_type": "stream",
     "text": [
      "\r",
      "|-----------------> in progress: 15.4875%"
     ]
    },
    {
     "name": "stdout",
     "output_type": "stream",
     "text": [
      "\r",
      "|-----------------> in progress: 16.6789%"
     ]
    },
    {
     "name": "stdout",
     "output_type": "stream",
     "text": [
      "\r",
      "|-----------------> in progress: 17.8702%"
     ]
    },
    {
     "name": "stdout",
     "output_type": "stream",
     "text": [
      "\r",
      "|-----------------> in progress: 19.0616%"
     ]
    },
    {
     "name": "stdout",
     "output_type": "stream",
     "text": [
      "\r",
      "|-----------------> in progress: 20.2529%"
     ]
    },
    {
     "name": "stdout",
     "output_type": "stream",
     "text": [
      "\r",
      "|-----------------> in progress: 21.4443%"
     ]
    },
    {
     "name": "stdout",
     "output_type": "stream",
     "text": [
      "\r",
      "|-----------------> in progress: 22.6356%"
     ]
    },
    {
     "name": "stdout",
     "output_type": "stream",
     "text": [
      "\r",
      "|-----------------> in progress: 23.8270%"
     ]
    },
    {
     "name": "stdout",
     "output_type": "stream",
     "text": [
      "\r",
      "|-----------------> in progress: 25.0183%"
     ]
    },
    {
     "name": "stdout",
     "output_type": "stream",
     "text": [
      "\r",
      "|-----------------> in progress: 26.2097%"
     ]
    },
    {
     "name": "stdout",
     "output_type": "stream",
     "text": [
      "\r",
      "|-----------------> in progress: 27.4010%"
     ]
    },
    {
     "name": "stdout",
     "output_type": "stream",
     "text": [
      "\r",
      "|-----------------> in progress: 28.5924%"
     ]
    },
    {
     "name": "stdout",
     "output_type": "stream",
     "text": [
      "\r",
      "|-----------------> in progress: 29.7837%"
     ]
    },
    {
     "name": "stdout",
     "output_type": "stream",
     "text": [
      "\r",
      "|-----------------> in progress: 30.9751%"
     ]
    },
    {
     "name": "stdout",
     "output_type": "stream",
     "text": [
      "\r",
      "|-----------------> in progress: 32.1664%"
     ]
    },
    {
     "name": "stdout",
     "output_type": "stream",
     "text": [
      "\r",
      "|-----------------> in progress: 33.3578%"
     ]
    },
    {
     "name": "stdout",
     "output_type": "stream",
     "text": [
      "\r",
      "|-----------------> in progress: 34.5491%"
     ]
    },
    {
     "name": "stdout",
     "output_type": "stream",
     "text": [
      "\r",
      "|-----------------> in progress: 35.7405%"
     ]
    },
    {
     "name": "stdout",
     "output_type": "stream",
     "text": [
      "\r",
      "|-----------------> in progress: 36.9318%"
     ]
    },
    {
     "name": "stdout",
     "output_type": "stream",
     "text": [
      "\r",
      "|-----------------> in progress: 38.1232%"
     ]
    },
    {
     "name": "stdout",
     "output_type": "stream",
     "text": [
      "\r",
      "|-----------------> in progress: 39.3145%"
     ]
    },
    {
     "name": "stdout",
     "output_type": "stream",
     "text": [
      "\r",
      "|-----------------> in progress: 40.5059%"
     ]
    },
    {
     "name": "stdout",
     "output_type": "stream",
     "text": [
      "\r",
      "|-----------------> in progress: 41.6972%"
     ]
    },
    {
     "name": "stdout",
     "output_type": "stream",
     "text": [
      "\r",
      "|-----------------> in progress: 42.8886%"
     ]
    },
    {
     "name": "stdout",
     "output_type": "stream",
     "text": [
      "\r",
      "|-----------------> in progress: 44.0799%"
     ]
    },
    {
     "name": "stdout",
     "output_type": "stream",
     "text": [
      "\r",
      "|-----------------> in progress: 45.2713%"
     ]
    },
    {
     "name": "stdout",
     "output_type": "stream",
     "text": [
      "\r",
      "|-----------------> in progress: 46.4626%"
     ]
    },
    {
     "name": "stdout",
     "output_type": "stream",
     "text": [
      "\r",
      "|-----------------> in progress: 47.6540%"
     ]
    },
    {
     "name": "stdout",
     "output_type": "stream",
     "text": [
      "\r",
      "|-----------------> in progress: 48.8453%"
     ]
    },
    {
     "name": "stdout",
     "output_type": "stream",
     "text": [
      "\r",
      "|-----------------> in progress: 50.0366%"
     ]
    },
    {
     "name": "stdout",
     "output_type": "stream",
     "text": [
      "\r",
      "|-----------------> in progress: 51.2280%"
     ]
    },
    {
     "name": "stdout",
     "output_type": "stream",
     "text": [
      "\r",
      "|-----------------> in progress: 52.4193%"
     ]
    },
    {
     "name": "stdout",
     "output_type": "stream",
     "text": [
      "\r",
      "|-----------------> in progress: 53.6107%"
     ]
    },
    {
     "name": "stdout",
     "output_type": "stream",
     "text": [
      "\r",
      "|-----------------> in progress: 54.8020%"
     ]
    },
    {
     "name": "stdout",
     "output_type": "stream",
     "text": [
      "\r",
      "|-----------------> in progress: 55.9934%"
     ]
    },
    {
     "name": "stdout",
     "output_type": "stream",
     "text": [
      "\r",
      "|-----------------> in progress: 57.1847%"
     ]
    },
    {
     "name": "stdout",
     "output_type": "stream",
     "text": [
      "\r",
      "|-----------------> in progress: 58.3761%"
     ]
    },
    {
     "name": "stdout",
     "output_type": "stream",
     "text": [
      "\r",
      "|-----------------> in progress: 59.5674%"
     ]
    },
    {
     "name": "stdout",
     "output_type": "stream",
     "text": [
      "\r",
      "|-----------------> in progress: 60.7588%"
     ]
    },
    {
     "name": "stdout",
     "output_type": "stream",
     "text": [
      "\r",
      "|-----------------> in progress: 61.9501%"
     ]
    },
    {
     "name": "stdout",
     "output_type": "stream",
     "text": [
      "\r",
      "|-----------------> in progress: 63.1415%"
     ]
    },
    {
     "name": "stdout",
     "output_type": "stream",
     "text": [
      "\r",
      "|-----------------> in progress: 64.3328%"
     ]
    },
    {
     "name": "stdout",
     "output_type": "stream",
     "text": [
      "\r",
      "|-----------------> in progress: 65.5242%"
     ]
    },
    {
     "name": "stdout",
     "output_type": "stream",
     "text": [
      "\r",
      "|-----------------> in progress: 66.7155%"
     ]
    },
    {
     "name": "stdout",
     "output_type": "stream",
     "text": [
      "\r",
      "|-----------------> in progress: 67.9069%"
     ]
    },
    {
     "name": "stdout",
     "output_type": "stream",
     "text": [
      "\r",
      "|-----------------> in progress: 69.0982%"
     ]
    },
    {
     "name": "stdout",
     "output_type": "stream",
     "text": [
      "\r",
      "|-----------------> in progress: 70.2896%"
     ]
    },
    {
     "name": "stdout",
     "output_type": "stream",
     "text": [
      "\r",
      "|-----------------> in progress: 71.4809%"
     ]
    },
    {
     "name": "stdout",
     "output_type": "stream",
     "text": [
      "\r",
      "|-----------------> in progress: 72.6723%"
     ]
    },
    {
     "name": "stdout",
     "output_type": "stream",
     "text": [
      "\r",
      "|-----------------> in progress: 73.8636%"
     ]
    },
    {
     "name": "stdout",
     "output_type": "stream",
     "text": [
      "\r",
      "|-----------------> in progress: 75.0550%"
     ]
    },
    {
     "name": "stdout",
     "output_type": "stream",
     "text": [
      "\r",
      "|-----------------> in progress: 76.2463%"
     ]
    },
    {
     "name": "stdout",
     "output_type": "stream",
     "text": [
      "\r",
      "|-----------------> in progress: 77.4377%"
     ]
    },
    {
     "name": "stdout",
     "output_type": "stream",
     "text": [
      "\r",
      "|-----------------> in progress: 78.6290%"
     ]
    },
    {
     "name": "stdout",
     "output_type": "stream",
     "text": [
      "\r",
      "|-----------------> in progress: 79.8204%"
     ]
    },
    {
     "name": "stdout",
     "output_type": "stream",
     "text": [
      "\r",
      "|-----------------> in progress: 81.0117%"
     ]
    },
    {
     "name": "stdout",
     "output_type": "stream",
     "text": [
      "\r",
      "|-----------------> in progress: 82.2031%"
     ]
    },
    {
     "name": "stdout",
     "output_type": "stream",
     "text": [
      "\r",
      "|-----------------> in progress: 83.3944%"
     ]
    },
    {
     "name": "stdout",
     "output_type": "stream",
     "text": [
      "\r",
      "|-----------------> in progress: 84.5858%"
     ]
    },
    {
     "name": "stdout",
     "output_type": "stream",
     "text": [
      "\r",
      "|-----------------> in progress: 85.7771%"
     ]
    },
    {
     "name": "stdout",
     "output_type": "stream",
     "text": [
      "\r",
      "|-----------------> in progress: 86.9685%"
     ]
    },
    {
     "name": "stdout",
     "output_type": "stream",
     "text": [
      "\r",
      "|-----------------> in progress: 88.1598%"
     ]
    },
    {
     "name": "stdout",
     "output_type": "stream",
     "text": [
      "\r",
      "|-----------------> in progress: 89.3512%"
     ]
    },
    {
     "name": "stdout",
     "output_type": "stream",
     "text": [
      "\r",
      "|-----------------> in progress: 90.5425%"
     ]
    },
    {
     "name": "stdout",
     "output_type": "stream",
     "text": [
      "\r",
      "|-----------------> in progress: 91.7339%"
     ]
    },
    {
     "name": "stdout",
     "output_type": "stream",
     "text": [
      "\r",
      "|-----------------> in progress: 92.9252%"
     ]
    },
    {
     "name": "stdout",
     "output_type": "stream",
     "text": [
      "\r",
      "|-----------------> in progress: 94.1166%"
     ]
    },
    {
     "name": "stdout",
     "output_type": "stream",
     "text": [
      "\r",
      "|-----------------> in progress: 95.3079%"
     ]
    },
    {
     "name": "stdout",
     "output_type": "stream",
     "text": [
      "\r",
      "|-----------------> in progress: 96.4992%"
     ]
    },
    {
     "name": "stdout",
     "output_type": "stream",
     "text": [
      "\r",
      "|-----------------> in progress: 97.6906%"
     ]
    },
    {
     "name": "stdout",
     "output_type": "stream",
     "text": [
      "\r",
      "|-----------------> in progress: 98.8819%"
     ]
    },
    {
     "name": "stdout",
     "output_type": "stream",
     "text": [
      "\r",
      "|-----------------> in progress: 100.0733%"
     ]
    },
    {
     "name": "stdout",
     "output_type": "stream",
     "text": [
      "\r",
      "|-----------------> in progress: 100.0000%\n"
     ]
    },
    {
     "name": "stdout",
     "output_type": "stream",
     "text": [
      "|-----------> ✅ Load clock finished [1.3816s]\n"
     ]
    },
    {
     "name": "stdout",
     "output_type": "stream",
     "text": [
      "|-----------> ⚙️ Check features in adata started\n"
     ]
    },
    {
     "name": "stdout",
     "output_type": "stream",
     "text": [
      "|-----------------> All features are present in adata.var_names.\n"
     ]
    },
    {
     "name": "stdout",
     "output_type": "stream",
     "text": [
      "|-----------------> Added prepared input matrix to adata.obsm[X_camilloh3k9me3]\n"
     ]
    },
    {
     "name": "stdout",
     "output_type": "stream",
     "text": [
      "|-----------> ✅ Check features in adata finished [0.0269s]\n"
     ]
    },
    {
     "name": "stdout",
     "output_type": "stream",
     "text": [
      "|-----------> ⚙️ Predict ages with model started\n"
     ]
    },
    {
     "name": "stdout",
     "output_type": "stream",
     "text": [
      "|-----------------> There is no preprocessing necessary\n"
     ]
    },
    {
     "name": "stdout",
     "output_type": "stream",
     "text": [
      "|-----------------> There is no postprocessing necessary\n"
     ]
    },
    {
     "name": "stdout",
     "output_type": "stream",
     "text": [
      "\r",
      "|-----------------> in progress: 100.0000%\n"
     ]
    },
    {
     "name": "stdout",
     "output_type": "stream",
     "text": [
      "|-----------> ✅ Predict ages with model finished [0.0018s]\n"
     ]
    },
    {
     "name": "stdout",
     "output_type": "stream",
     "text": [
      "|-----------> ⚙️ Add predicted ages and clock metadata to adata started\n"
     ]
    },
    {
     "name": "stdout",
     "output_type": "stream",
     "text": [
      "|-----------> ✅ Add predicted ages and clock metadata to adata finished [0.0006s]\n"
     ]
    },
    {
     "name": "stdout",
     "output_type": "stream",
     "text": [
      "|-----> 🕒 Processing clock: camillopanhistone\n"
     ]
    },
    {
     "name": "stdout",
     "output_type": "stream",
     "text": [
      "|-----------> ⚙️ Load clock started\n"
     ]
    },
    {
     "name": "stdout",
     "output_type": "stream",
     "text": [
      "|-----------------> Downloading data to pyaging_data/camillopanhistone.pt\n"
     ]
    },
    {
     "name": "stdout",
     "output_type": "stream",
     "text": [
      "\r",
      "|-----------------> in progress: 1.0044%"
     ]
    },
    {
     "name": "stdout",
     "output_type": "stream",
     "text": [
      "\r",
      "|-----------------> in progress: 2.0087%"
     ]
    },
    {
     "name": "stdout",
     "output_type": "stream",
     "text": [
      "\r",
      "|-----------------> in progress: 3.0131%"
     ]
    },
    {
     "name": "stdout",
     "output_type": "stream",
     "text": [
      "\r",
      "|-----------------> in progress: 4.0174%"
     ]
    },
    {
     "name": "stdout",
     "output_type": "stream",
     "text": [
      "\r",
      "|-----------------> in progress: 5.0218%"
     ]
    },
    {
     "name": "stdout",
     "output_type": "stream",
     "text": [
      "\r",
      "|-----------------> in progress: 6.0261%"
     ]
    },
    {
     "name": "stdout",
     "output_type": "stream",
     "text": [
      "\r",
      "|-----------------> in progress: 7.0305%"
     ]
    },
    {
     "name": "stdout",
     "output_type": "stream",
     "text": [
      "\r",
      "|-----------------> in progress: 8.0348%"
     ]
    },
    {
     "name": "stdout",
     "output_type": "stream",
     "text": [
      "\r",
      "|-----------------> in progress: 9.0392%"
     ]
    },
    {
     "name": "stdout",
     "output_type": "stream",
     "text": [
      "\r",
      "|-----------------> in progress: 10.0435%"
     ]
    },
    {
     "name": "stdout",
     "output_type": "stream",
     "text": [
      "\r",
      "|-----------------> in progress: 11.0479%"
     ]
    },
    {
     "name": "stdout",
     "output_type": "stream",
     "text": [
      "\r",
      "|-----------------> in progress: 12.0522%"
     ]
    },
    {
     "name": "stdout",
     "output_type": "stream",
     "text": [
      "\r",
      "|-----------------> in progress: 13.0566%"
     ]
    },
    {
     "name": "stdout",
     "output_type": "stream",
     "text": [
      "\r",
      "|-----------------> in progress: 14.0609%"
     ]
    },
    {
     "name": "stdout",
     "output_type": "stream",
     "text": [
      "\r",
      "|-----------------> in progress: 15.0653%"
     ]
    },
    {
     "name": "stdout",
     "output_type": "stream",
     "text": [
      "\r",
      "|-----------------> in progress: 16.0696%"
     ]
    },
    {
     "name": "stdout",
     "output_type": "stream",
     "text": [
      "\r",
      "|-----------------> in progress: 17.0740%"
     ]
    },
    {
     "name": "stdout",
     "output_type": "stream",
     "text": [
      "\r",
      "|-----------------> in progress: 18.0784%"
     ]
    },
    {
     "name": "stdout",
     "output_type": "stream",
     "text": [
      "\r",
      "|-----------------> in progress: 19.0827%"
     ]
    },
    {
     "name": "stdout",
     "output_type": "stream",
     "text": [
      "\r",
      "|-----------------> in progress: 20.0871%"
     ]
    },
    {
     "name": "stdout",
     "output_type": "stream",
     "text": [
      "\r",
      "|-----------------> in progress: 21.0914%"
     ]
    },
    {
     "name": "stdout",
     "output_type": "stream",
     "text": [
      "\r",
      "|-----------------> in progress: 22.0958%"
     ]
    },
    {
     "name": "stdout",
     "output_type": "stream",
     "text": [
      "\r",
      "|-----------------> in progress: 23.1001%"
     ]
    },
    {
     "name": "stdout",
     "output_type": "stream",
     "text": [
      "\r",
      "|-----------------> in progress: 24.1045%"
     ]
    },
    {
     "name": "stdout",
     "output_type": "stream",
     "text": [
      "\r",
      "|-----------------> in progress: 25.1088%"
     ]
    },
    {
     "name": "stdout",
     "output_type": "stream",
     "text": [
      "\r",
      "|-----------------> in progress: 26.1132%"
     ]
    },
    {
     "name": "stdout",
     "output_type": "stream",
     "text": [
      "\r",
      "|-----------------> in progress: 27.1175%"
     ]
    },
    {
     "name": "stdout",
     "output_type": "stream",
     "text": [
      "\r",
      "|-----------------> in progress: 28.1219%"
     ]
    },
    {
     "name": "stdout",
     "output_type": "stream",
     "text": [
      "\r",
      "|-----------------> in progress: 29.1262%"
     ]
    },
    {
     "name": "stdout",
     "output_type": "stream",
     "text": [
      "\r",
      "|-----------------> in progress: 30.1306%"
     ]
    },
    {
     "name": "stdout",
     "output_type": "stream",
     "text": [
      "\r",
      "|-----------------> in progress: 31.1349%"
     ]
    },
    {
     "name": "stdout",
     "output_type": "stream",
     "text": [
      "\r",
      "|-----------------> in progress: 32.1393%"
     ]
    },
    {
     "name": "stdout",
     "output_type": "stream",
     "text": [
      "\r",
      "|-----------------> in progress: 33.1436%"
     ]
    },
    {
     "name": "stdout",
     "output_type": "stream",
     "text": [
      "\r",
      "|-----------------> in progress: 34.1480%"
     ]
    },
    {
     "name": "stdout",
     "output_type": "stream",
     "text": [
      "\r",
      "|-----------------> in progress: 35.1524%"
     ]
    },
    {
     "name": "stdout",
     "output_type": "stream",
     "text": [
      "\r",
      "|-----------------> in progress: 36.1567%"
     ]
    },
    {
     "name": "stdout",
     "output_type": "stream",
     "text": [
      "\r",
      "|-----------------> in progress: 37.1611%"
     ]
    },
    {
     "name": "stdout",
     "output_type": "stream",
     "text": [
      "\r",
      "|-----------------> in progress: 38.1654%"
     ]
    },
    {
     "name": "stdout",
     "output_type": "stream",
     "text": [
      "\r",
      "|-----------------> in progress: 39.1698%"
     ]
    },
    {
     "name": "stdout",
     "output_type": "stream",
     "text": [
      "\r",
      "|-----------------> in progress: 40.1741%"
     ]
    },
    {
     "name": "stdout",
     "output_type": "stream",
     "text": [
      "\r",
      "|-----------------> in progress: 41.1785%"
     ]
    },
    {
     "name": "stdout",
     "output_type": "stream",
     "text": [
      "\r",
      "|-----------------> in progress: 42.1828%"
     ]
    },
    {
     "name": "stdout",
     "output_type": "stream",
     "text": [
      "\r",
      "|-----------------> in progress: 43.1872%"
     ]
    },
    {
     "name": "stdout",
     "output_type": "stream",
     "text": [
      "\r",
      "|-----------------> in progress: 44.1915%"
     ]
    },
    {
     "name": "stdout",
     "output_type": "stream",
     "text": [
      "\r",
      "|-----------------> in progress: 45.1959%"
     ]
    },
    {
     "name": "stdout",
     "output_type": "stream",
     "text": [
      "\r",
      "|-----------------> in progress: 46.2002%"
     ]
    },
    {
     "name": "stdout",
     "output_type": "stream",
     "text": [
      "\r",
      "|-----------------> in progress: 47.2046%"
     ]
    },
    {
     "name": "stdout",
     "output_type": "stream",
     "text": [
      "\r",
      "|-----------------> in progress: 48.2089%"
     ]
    },
    {
     "name": "stdout",
     "output_type": "stream",
     "text": [
      "\r",
      "|-----------------> in progress: 49.2133%"
     ]
    },
    {
     "name": "stdout",
     "output_type": "stream",
     "text": [
      "\r",
      "|-----------------> in progress: 50.2177%"
     ]
    },
    {
     "name": "stdout",
     "output_type": "stream",
     "text": [
      "\r",
      "|-----------------> in progress: 51.2220%"
     ]
    },
    {
     "name": "stdout",
     "output_type": "stream",
     "text": [
      "\r",
      "|-----------------> in progress: 52.2264%"
     ]
    },
    {
     "name": "stdout",
     "output_type": "stream",
     "text": [
      "\r",
      "|-----------------> in progress: 53.2307%"
     ]
    },
    {
     "name": "stdout",
     "output_type": "stream",
     "text": [
      "\r",
      "|-----------------> in progress: 54.2351%"
     ]
    },
    {
     "name": "stdout",
     "output_type": "stream",
     "text": [
      "\r",
      "|-----------------> in progress: 55.2394%"
     ]
    },
    {
     "name": "stdout",
     "output_type": "stream",
     "text": [
      "\r",
      "|-----------------> in progress: 56.2438%"
     ]
    },
    {
     "name": "stdout",
     "output_type": "stream",
     "text": [
      "\r",
      "|-----------------> in progress: 57.2481%"
     ]
    },
    {
     "name": "stdout",
     "output_type": "stream",
     "text": [
      "\r",
      "|-----------------> in progress: 58.2525%"
     ]
    },
    {
     "name": "stdout",
     "output_type": "stream",
     "text": [
      "\r",
      "|-----------------> in progress: 59.2568%"
     ]
    },
    {
     "name": "stdout",
     "output_type": "stream",
     "text": [
      "\r",
      "|-----------------> in progress: 60.2612%"
     ]
    },
    {
     "name": "stdout",
     "output_type": "stream",
     "text": [
      "\r",
      "|-----------------> in progress: 61.2655%"
     ]
    },
    {
     "name": "stdout",
     "output_type": "stream",
     "text": [
      "\r",
      "|-----------------> in progress: 62.2699%"
     ]
    },
    {
     "name": "stdout",
     "output_type": "stream",
     "text": [
      "\r",
      "|-----------------> in progress: 63.2742%"
     ]
    },
    {
     "name": "stdout",
     "output_type": "stream",
     "text": [
      "\r",
      "|-----------------> in progress: 64.2786%"
     ]
    },
    {
     "name": "stdout",
     "output_type": "stream",
     "text": [
      "\r",
      "|-----------------> in progress: 65.2829%"
     ]
    },
    {
     "name": "stdout",
     "output_type": "stream",
     "text": [
      "\r",
      "|-----------------> in progress: 66.2873%"
     ]
    },
    {
     "name": "stdout",
     "output_type": "stream",
     "text": [
      "\r",
      "|-----------------> in progress: 67.2917%"
     ]
    },
    {
     "name": "stdout",
     "output_type": "stream",
     "text": [
      "\r",
      "|-----------------> in progress: 68.2960%"
     ]
    },
    {
     "name": "stdout",
     "output_type": "stream",
     "text": [
      "\r",
      "|-----------------> in progress: 69.3004%"
     ]
    },
    {
     "name": "stdout",
     "output_type": "stream",
     "text": [
      "\r",
      "|-----------------> in progress: 70.3047%"
     ]
    },
    {
     "name": "stdout",
     "output_type": "stream",
     "text": [
      "\r",
      "|-----------------> in progress: 71.3091%"
     ]
    },
    {
     "name": "stdout",
     "output_type": "stream",
     "text": [
      "\r",
      "|-----------------> in progress: 72.3134%"
     ]
    },
    {
     "name": "stdout",
     "output_type": "stream",
     "text": [
      "\r",
      "|-----------------> in progress: 73.3178%"
     ]
    },
    {
     "name": "stdout",
     "output_type": "stream",
     "text": [
      "\r",
      "|-----------------> in progress: 74.3221%"
     ]
    },
    {
     "name": "stdout",
     "output_type": "stream",
     "text": [
      "\r",
      "|-----------------> in progress: 75.3265%"
     ]
    },
    {
     "name": "stdout",
     "output_type": "stream",
     "text": [
      "\r",
      "|-----------------> in progress: 76.3308%"
     ]
    },
    {
     "name": "stdout",
     "output_type": "stream",
     "text": [
      "\r",
      "|-----------------> in progress: 77.3352%"
     ]
    },
    {
     "name": "stdout",
     "output_type": "stream",
     "text": [
      "\r",
      "|-----------------> in progress: 78.3395%"
     ]
    },
    {
     "name": "stdout",
     "output_type": "stream",
     "text": [
      "\r",
      "|-----------------> in progress: 79.3439%"
     ]
    },
    {
     "name": "stdout",
     "output_type": "stream",
     "text": [
      "\r",
      "|-----------------> in progress: 80.3482%"
     ]
    },
    {
     "name": "stdout",
     "output_type": "stream",
     "text": [
      "\r",
      "|-----------------> in progress: 81.3526%"
     ]
    },
    {
     "name": "stdout",
     "output_type": "stream",
     "text": [
      "\r",
      "|-----------------> in progress: 82.3569%"
     ]
    },
    {
     "name": "stdout",
     "output_type": "stream",
     "text": [
      "\r",
      "|-----------------> in progress: 83.3613%"
     ]
    },
    {
     "name": "stdout",
     "output_type": "stream",
     "text": [
      "\r",
      "|-----------------> in progress: 84.3657%"
     ]
    },
    {
     "name": "stdout",
     "output_type": "stream",
     "text": [
      "\r",
      "|-----------------> in progress: 85.3700%"
     ]
    },
    {
     "name": "stdout",
     "output_type": "stream",
     "text": [
      "\r",
      "|-----------------> in progress: 86.3744%"
     ]
    },
    {
     "name": "stdout",
     "output_type": "stream",
     "text": [
      "\r",
      "|-----------------> in progress: 87.3787%"
     ]
    },
    {
     "name": "stdout",
     "output_type": "stream",
     "text": [
      "\r",
      "|-----------------> in progress: 88.3831%"
     ]
    },
    {
     "name": "stdout",
     "output_type": "stream",
     "text": [
      "\r",
      "|-----------------> in progress: 89.3874%"
     ]
    },
    {
     "name": "stdout",
     "output_type": "stream",
     "text": [
      "\r",
      "|-----------------> in progress: 90.3918%"
     ]
    },
    {
     "name": "stdout",
     "output_type": "stream",
     "text": [
      "\r",
      "|-----------------> in progress: 91.3961%"
     ]
    },
    {
     "name": "stdout",
     "output_type": "stream",
     "text": [
      "\r",
      "|-----------------> in progress: 92.4005%"
     ]
    },
    {
     "name": "stdout",
     "output_type": "stream",
     "text": [
      "\r",
      "|-----------------> in progress: 93.4048%"
     ]
    },
    {
     "name": "stdout",
     "output_type": "stream",
     "text": [
      "\r",
      "|-----------------> in progress: 94.4092%"
     ]
    },
    {
     "name": "stdout",
     "output_type": "stream",
     "text": [
      "\r",
      "|-----------------> in progress: 95.4135%"
     ]
    },
    {
     "name": "stdout",
     "output_type": "stream",
     "text": [
      "\r",
      "|-----------------> in progress: 96.4179%"
     ]
    },
    {
     "name": "stdout",
     "output_type": "stream",
     "text": [
      "\r",
      "|-----------------> in progress: 97.4222%"
     ]
    },
    {
     "name": "stdout",
     "output_type": "stream",
     "text": [
      "\r",
      "|-----------------> in progress: 98.4266%"
     ]
    },
    {
     "name": "stdout",
     "output_type": "stream",
     "text": [
      "\r",
      "|-----------------> in progress: 99.4309%"
     ]
    },
    {
     "name": "stdout",
     "output_type": "stream",
     "text": [
      "\r",
      "|-----------------> in progress: 100.0000%\n"
     ]
    },
    {
     "name": "stdout",
     "output_type": "stream",
     "text": [
      "|-----------> ✅ Load clock finished [7.8131s]\n"
     ]
    },
    {
     "name": "stdout",
     "output_type": "stream",
     "text": [
      "|-----------> ⚙️ Check features in adata started\n"
     ]
    },
    {
     "name": "stdout",
     "output_type": "stream",
     "text": [
      "|-----------------> All features are present in adata.var_names.\n"
     ]
    },
    {
     "name": "stdout",
     "output_type": "stream",
     "text": [
      "|-----------------> Added prepared input matrix to adata.obsm[X_camillopanhistone]\n"
     ]
    },
    {
     "name": "stdout",
     "output_type": "stream",
     "text": [
      "|-----------> ✅ Check features in adata finished [0.3039s]\n"
     ]
    },
    {
     "name": "stdout",
     "output_type": "stream",
     "text": [
      "|-----------> ⚙️ Predict ages with model started\n"
     ]
    },
    {
     "name": "stdout",
     "output_type": "stream",
     "text": [
      "|-----------------> There is no preprocessing necessary\n"
     ]
    },
    {
     "name": "stdout",
     "output_type": "stream",
     "text": [
      "|-----------------> There is no postprocessing necessary\n"
     ]
    },
    {
     "name": "stdout",
     "output_type": "stream",
     "text": [
      "\r",
      "|-----------------> in progress: 100.0000%\n"
     ]
    },
    {
     "name": "stdout",
     "output_type": "stream",
     "text": [
      "|-----------> ✅ Predict ages with model finished [0.0077s]\n"
     ]
    },
    {
     "name": "stdout",
     "output_type": "stream",
     "text": [
      "|-----------> ⚙️ Add predicted ages and clock metadata to adata started\n"
     ]
    },
    {
     "name": "stdout",
     "output_type": "stream",
     "text": [
      "|-----------> ✅ Add predicted ages and clock metadata to adata finished [0.0006s]\n"
     ]
    },
    {
     "name": "stdout",
     "output_type": "stream",
     "text": [
      "|-----> 🎉 Done! [15.1410s]\n"
     ]
    }
   ],
   "source": [
    "pya.pred.predict_age(adata, ['CamilloH3K4me3', 'CamilloH3K9me3', 'CamilloPanHistone'])"
   ]
  },
  {
   "cell_type": "code",
   "execution_count": 9,
   "id": "f64fb182-937b-4f67-b58e-5fffb0e2fad0",
   "metadata": {},
   "outputs": [
    {
     "data": {
      "text/html": [
       "<div>\n",
       "<style scoped>\n",
       "    .dataframe tbody tr th:only-of-type {\n",
       "        vertical-align: middle;\n",
       "    }\n",
       "\n",
       "    .dataframe tbody tr th {\n",
       "        vertical-align: top;\n",
       "    }\n",
       "\n",
       "    .dataframe thead th {\n",
       "        text-align: right;\n",
       "    }\n",
       "</style>\n",
       "<table border=\"1\" class=\"dataframe\">\n",
       "  <thead>\n",
       "    <tr style=\"text-align: right;\">\n",
       "      <th></th>\n",
       "      <th>camilloh3k4me3</th>\n",
       "      <th>camilloh3k9me3</th>\n",
       "      <th>camillopanhistone</th>\n",
       "    </tr>\n",
       "  </thead>\n",
       "  <tbody>\n",
       "    <tr>\n",
       "      <th>sample1</th>\n",
       "      <td>53.998544</td>\n",
       "      <td>44.3229</td>\n",
       "      <td>54.021884</td>\n",
       "    </tr>\n",
       "    <tr>\n",
       "      <th>sample2</th>\n",
       "      <td>53.998544</td>\n",
       "      <td>44.3229</td>\n",
       "      <td>54.021884</td>\n",
       "    </tr>\n",
       "  </tbody>\n",
       "</table>\n",
       "</div>"
      ],
      "text/plain": [
       "         camilloh3k4me3  camilloh3k9me3  camillopanhistone\n",
       "sample1       53.998544         44.3229          54.021884\n",
       "sample2       53.998544         44.3229          54.021884"
      ]
     },
     "execution_count": 9,
     "metadata": {},
     "output_type": "execute_result"
    }
   ],
   "source": [
    "adata.obs.head()"
   ]
  },
  {
   "cell_type": "markdown",
   "id": "bbaa2243-e380-4020-bf04-f7aa7da83cd4",
   "metadata": {},
   "source": [
    "Having so much information printed can be overwhelming, particularly when running several clocks at once. In such cases, just set verbose to False."
   ]
  },
  {
   "cell_type": "code",
   "execution_count": null,
   "id": "e8dd3457-8983-41a4-aaab-41563b91a866",
   "metadata": {},
   "outputs": [],
   "source": [
    "pya.data.download_example_data('ENCFF386QWG', verbose=False)\n",
    "df = pya.pp.bigwig_to_df(['pyaging_data/ENCFF386QWG.bigWig', 'pyaging_data/ENCFF386QWG.bigWig'], verbose=False)\n",
    "df.index = ['sample1', 'sample2']\n",
    "adata = pya.preprocess.df_to_adata(df, verbose=False)\n",
    "pya.pred.predict_age(adata, ['CamilloH3K4me3', 'CamilloH3K9me3', 'CamilloPanHistone'], verbose=False)"
   ]
  },
  {
   "cell_type": "code",
   "execution_count": null,
   "id": "8192ab67-a1cc-4728-8ca0-f81a56940fbf",
   "metadata": {},
   "outputs": [],
   "source": [
    "adata.obs.head()"
   ]
  },
  {
   "cell_type": "markdown",
   "id": "9832aa0b-99a8-4938-a2a2-5e9b484a3353",
   "metadata": {},
   "source": [
    "After age prediction, the clocks are added to `adata.obs`. Moreover, the percent of missing values for each clock and other metadata are included in `adata.uns`."
   ]
  },
  {
   "cell_type": "code",
   "execution_count": null,
   "id": "a4b22bf1-116f-456f-82d2-58b300f863f1",
   "metadata": {},
   "outputs": [],
   "source": [
    "adata"
   ]
  },
  {
   "cell_type": "markdown",
   "id": "c08ff758-675c-4136-9fb8-c19f0e05fefd",
   "metadata": {},
   "source": [
    "## Get citation"
   ]
  },
  {
   "cell_type": "markdown",
   "id": "8407c418-6251-4b08-9d29-166f9a4339d2",
   "metadata": {},
   "source": [
    "The doi, citation, and some metadata are automatically added to the AnnData object under `adata.uns[CLOCKNAME_metadata]`."
   ]
  },
  {
   "cell_type": "code",
   "execution_count": null,
   "id": "2946393e-a199-46ba-a9dd-80bc8fa88787",
   "metadata": {},
   "outputs": [],
   "source": [
    "adata.uns['camilloh3k4me3_metadata']"
   ]
  }
 ],
 "metadata": {
  "kernelspec": {
   "display_name": "Python 3",
   "language": "python",
   "name": "python3"
  },
  "language_info": {
   "codemirror_mode": {
    "name": "ipython",
    "version": 3
   },
   "file_extension": ".py",
   "mimetype": "text/x-python",
   "name": "python",
   "nbconvert_exporter": "python",
   "pygments_lexer": "ipython3",
   "version": "3.9.17"
  }
 },
 "nbformat": 4,
 "nbformat_minor": 5
}

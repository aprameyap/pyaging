{
 "cells": [
  {
   "cell_type": "markdown",
   "id": "4e690b3c-4dec-450e-a7f8-f63987e60cdb",
   "metadata": {},
   "source": [
    "[![Open In Colab](https://colab.research.google.com/assets/colab-badge.svg)](https://colab.research.google.com/github/rsinghlab/pyaging/blob/main/tutorials/tutorial_dnam.ipynb) [![Open In nbviewer](https://img.shields.io/badge/View%20in-nbviewer-orange)](https://nbviewer.jupyter.org/github/rsinghlab/pyaging/blob/main/tutorials/tutorial_dnam.ipynb)"
   ]
  },
  {
   "cell_type": "markdown",
   "id": "62e1ac68-927d-4ca8-a2ab-bd99a7ee52ab",
   "metadata": {},
   "source": [
    "# Bulk DNA methylation"
   ]
  },
  {
   "cell_type": "markdown",
   "id": "41699e8b-e682-4617-867c-fd0a624ae0ef",
   "metadata": {},
   "source": [
    "This tutorial is a brief guide for the implementation of an array of bulk DNA-methylation epigenetic clocks. In this notebook, we will demonstrate the breadth of epigenetic clock models available in `pyaging` by showing:\n",
    "\n",
    "- Horvath's 2013 ElasticNet-based clock ([paper](https://genomebiology.biomedcentral.com/articles/10.1186/gb-2013-14-10-r115));\n",
    "  \n",
    "- AltumAge, a highly accurate deep-learning based clock ([paper](https://www.nature.com/articles/s41514-022-00085-y));\n",
    "  \n",
    "- PCGrimAge, a principal-component based version of the GrimAge clock ([paper](https://www.nature.com/articles/s43587-022-00248-2));\n",
    "\n",
    "- DunedinPACE, a biomarker of the pace of aging ([paper](https://elifesciences.org/articles/73420))."
   ]
  },
  {
   "cell_type": "markdown",
   "id": "d8ddf439-0b19-4a1a-9491-3a0e1ee94447",
   "metadata": {},
   "source": [
    "We just need two packages for this tutorial."
   ]
  },
  {
   "cell_type": "code",
   "execution_count": 1,
   "id": "dc347ae0-41ae-46ac-ba50-08cacd4c9241",
   "metadata": {},
   "outputs": [],
   "source": [
    "import pandas as pd\n",
    "import pyaging as pya"
   ]
  },
  {
   "cell_type": "markdown",
   "id": "7c3c9b1d-e024-4d06-ab09-f4607cacbcd8",
   "metadata": {},
   "source": [
    "## Homo sapiens"
   ]
  },
  {
   "cell_type": "markdown",
   "id": "f3eebcc0-d3a2-42a4-b87f-1637d0db2588",
   "metadata": {},
   "source": [
    "### Download and load example data"
   ]
  },
  {
   "cell_type": "markdown",
   "id": "096cb9c0-67d1-4a37-958e-13da15b15435",
   "metadata": {},
   "source": [
    "Let's download the publicly avaiable dataset GSE139307 with Illumina's 450k array. The CpG coverage of the 450k array should be good enough for most clocks."
   ]
  },
  {
   "cell_type": "code",
   "execution_count": 2,
   "id": "d771588a-01e1-4220-90f9-3048152a7efd",
   "metadata": {},
   "outputs": [
    {
     "name": "stdout",
     "output_type": "stream",
     "text": [
      "|-----> 🏗️ Starting download_example_data function\n",
      "|-----------> Data found in pyaging_data/GSE139307.pkl\n",
      "|-----> 🎉 Done! [0.0008s]\n"
     ]
    }
   ],
   "source": [
    "pya.data.download_example_data('GSE139307')"
   ]
  },
  {
   "cell_type": "code",
   "execution_count": 3,
   "id": "3192d1bd-f5d6-426c-8c65-29971e46c4b4",
   "metadata": {},
   "outputs": [],
   "source": [
    "df = pd.read_pickle('pyaging_data/GSE139307.pkl')"
   ]
  },
  {
   "cell_type": "code",
   "execution_count": 4,
   "id": "ddf9e1d5-ddb1-42e2-9dfc-9cf4441b326d",
   "metadata": {},
   "outputs": [
    {
     "data": {
      "text/html": [
       "<div>\n",
       "<style scoped>\n",
       "    .dataframe tbody tr th:only-of-type {\n",
       "        vertical-align: middle;\n",
       "    }\n",
       "\n",
       "    .dataframe tbody tr th {\n",
       "        vertical-align: top;\n",
       "    }\n",
       "\n",
       "    .dataframe thead th {\n",
       "        text-align: right;\n",
       "    }\n",
       "</style>\n",
       "<table border=\"1\" class=\"dataframe\">\n",
       "  <thead>\n",
       "    <tr style=\"text-align: right;\">\n",
       "      <th></th>\n",
       "      <th>dataset</th>\n",
       "      <th>tissue_type</th>\n",
       "      <th>age</th>\n",
       "      <th>gender</th>\n",
       "      <th>cg00000029</th>\n",
       "      <th>cg00000108</th>\n",
       "      <th>cg00000109</th>\n",
       "      <th>cg00000165</th>\n",
       "      <th>cg00000236</th>\n",
       "      <th>cg00000289</th>\n",
       "      <th>...</th>\n",
       "      <th>ch.X.93511680F</th>\n",
       "      <th>ch.X.938089F</th>\n",
       "      <th>ch.X.94051109R</th>\n",
       "      <th>ch.X.94260649R</th>\n",
       "      <th>ch.X.967194F</th>\n",
       "      <th>ch.X.97129969R</th>\n",
       "      <th>ch.X.97133160R</th>\n",
       "      <th>ch.X.97651759F</th>\n",
       "      <th>ch.X.97737721F</th>\n",
       "      <th>ch.X.98007042R</th>\n",
       "    </tr>\n",
       "  </thead>\n",
       "  <tbody>\n",
       "    <tr>\n",
       "      <th>GSM4137709</th>\n",
       "      <td>GSE139307</td>\n",
       "      <td>sperm</td>\n",
       "      <td>84.0</td>\n",
       "      <td>M</td>\n",
       "      <td>0.084811</td>\n",
       "      <td>0.920696</td>\n",
       "      <td>0.856851</td>\n",
       "      <td>0.084567</td>\n",
       "      <td>0.838699</td>\n",
       "      <td>0.247273</td>\n",
       "      <td>...</td>\n",
       "      <td>0.061751</td>\n",
       "      <td>0.045942</td>\n",
       "      <td>0.037631</td>\n",
       "      <td>0.056455</td>\n",
       "      <td>0.249872</td>\n",
       "      <td>0.049022</td>\n",
       "      <td>0.085691</td>\n",
       "      <td>0.037435</td>\n",
       "      <td>0.077820</td>\n",
       "      <td>0.106234</td>\n",
       "    </tr>\n",
       "    <tr>\n",
       "      <th>GSM4137710</th>\n",
       "      <td>GSE139307</td>\n",
       "      <td>sperm</td>\n",
       "      <td>69.0</td>\n",
       "      <td>M</td>\n",
       "      <td>0.099626</td>\n",
       "      <td>0.919073</td>\n",
       "      <td>0.890024</td>\n",
       "      <td>0.115541</td>\n",
       "      <td>0.852584</td>\n",
       "      <td>0.198103</td>\n",
       "      <td>...</td>\n",
       "      <td>0.075077</td>\n",
       "      <td>0.041849</td>\n",
       "      <td>0.032573</td>\n",
       "      <td>0.089790</td>\n",
       "      <td>0.250245</td>\n",
       "      <td>0.079095</td>\n",
       "      <td>0.079756</td>\n",
       "      <td>0.046229</td>\n",
       "      <td>0.091256</td>\n",
       "      <td>0.120241</td>\n",
       "    </tr>\n",
       "    <tr>\n",
       "      <th>GSM4137711</th>\n",
       "      <td>GSE139307</td>\n",
       "      <td>sperm</td>\n",
       "      <td>69.0</td>\n",
       "      <td>M</td>\n",
       "      <td>0.117228</td>\n",
       "      <td>0.920276</td>\n",
       "      <td>0.894317</td>\n",
       "      <td>0.117127</td>\n",
       "      <td>0.839258</td>\n",
       "      <td>0.213410</td>\n",
       "      <td>...</td>\n",
       "      <td>0.068679</td>\n",
       "      <td>0.049515</td>\n",
       "      <td>0.058097</td>\n",
       "      <td>0.079919</td>\n",
       "      <td>0.299758</td>\n",
       "      <td>0.079305</td>\n",
       "      <td>0.089815</td>\n",
       "      <td>0.065364</td>\n",
       "      <td>0.086864</td>\n",
       "      <td>0.156005</td>\n",
       "    </tr>\n",
       "    <tr>\n",
       "      <th>GSM4137712</th>\n",
       "      <td>GSE139307</td>\n",
       "      <td>sperm</td>\n",
       "      <td>69.0</td>\n",
       "      <td>M</td>\n",
       "      <td>0.077096</td>\n",
       "      <td>0.910204</td>\n",
       "      <td>0.908400</td>\n",
       "      <td>0.073885</td>\n",
       "      <td>0.861615</td>\n",
       "      <td>0.163276</td>\n",
       "      <td>...</td>\n",
       "      <td>0.070091</td>\n",
       "      <td>0.033289</td>\n",
       "      <td>0.038836</td>\n",
       "      <td>0.108213</td>\n",
       "      <td>0.295428</td>\n",
       "      <td>0.050731</td>\n",
       "      <td>0.099943</td>\n",
       "      <td>0.047597</td>\n",
       "      <td>0.078480</td>\n",
       "      <td>0.107480</td>\n",
       "    </tr>\n",
       "    <tr>\n",
       "      <th>GSM4137713</th>\n",
       "      <td>GSE139307</td>\n",
       "      <td>sperm</td>\n",
       "      <td>67.0</td>\n",
       "      <td>M</td>\n",
       "      <td>0.063524</td>\n",
       "      <td>0.911608</td>\n",
       "      <td>0.884643</td>\n",
       "      <td>0.079877</td>\n",
       "      <td>0.864654</td>\n",
       "      <td>0.176169</td>\n",
       "      <td>...</td>\n",
       "      <td>0.082368</td>\n",
       "      <td>0.038411</td>\n",
       "      <td>0.048787</td>\n",
       "      <td>0.088631</td>\n",
       "      <td>0.316694</td>\n",
       "      <td>0.041873</td>\n",
       "      <td>0.079303</td>\n",
       "      <td>0.048823</td>\n",
       "      <td>0.089010</td>\n",
       "      <td>0.117903</td>\n",
       "    </tr>\n",
       "  </tbody>\n",
       "</table>\n",
       "<p>5 rows × 485516 columns</p>\n",
       "</div>"
      ],
      "text/plain": [
       "              dataset tissue_type   age gender  cg00000029  cg00000108  \\\n",
       "GSM4137709  GSE139307       sperm  84.0      M    0.084811    0.920696   \n",
       "GSM4137710  GSE139307       sperm  69.0      M    0.099626    0.919073   \n",
       "GSM4137711  GSE139307       sperm  69.0      M    0.117228    0.920276   \n",
       "GSM4137712  GSE139307       sperm  69.0      M    0.077096    0.910204   \n",
       "GSM4137713  GSE139307       sperm  67.0      M    0.063524    0.911608   \n",
       "\n",
       "            cg00000109  cg00000165  cg00000236  cg00000289  ...  \\\n",
       "GSM4137709    0.856851    0.084567    0.838699    0.247273  ...   \n",
       "GSM4137710    0.890024    0.115541    0.852584    0.198103  ...   \n",
       "GSM4137711    0.894317    0.117127    0.839258    0.213410  ...   \n",
       "GSM4137712    0.908400    0.073885    0.861615    0.163276  ...   \n",
       "GSM4137713    0.884643    0.079877    0.864654    0.176169  ...   \n",
       "\n",
       "            ch.X.93511680F  ch.X.938089F  ch.X.94051109R  ch.X.94260649R  \\\n",
       "GSM4137709        0.061751      0.045942        0.037631        0.056455   \n",
       "GSM4137710        0.075077      0.041849        0.032573        0.089790   \n",
       "GSM4137711        0.068679      0.049515        0.058097        0.079919   \n",
       "GSM4137712        0.070091      0.033289        0.038836        0.108213   \n",
       "GSM4137713        0.082368      0.038411        0.048787        0.088631   \n",
       "\n",
       "            ch.X.967194F  ch.X.97129969R  ch.X.97133160R  ch.X.97651759F  \\\n",
       "GSM4137709      0.249872        0.049022        0.085691        0.037435   \n",
       "GSM4137710      0.250245        0.079095        0.079756        0.046229   \n",
       "GSM4137711      0.299758        0.079305        0.089815        0.065364   \n",
       "GSM4137712      0.295428        0.050731        0.099943        0.047597   \n",
       "GSM4137713      0.316694        0.041873        0.079303        0.048823   \n",
       "\n",
       "            ch.X.97737721F  ch.X.98007042R  \n",
       "GSM4137709        0.077820        0.106234  \n",
       "GSM4137710        0.091256        0.120241  \n",
       "GSM4137711        0.086864        0.156005  \n",
       "GSM4137712        0.078480        0.107480  \n",
       "GSM4137713        0.089010        0.117903  \n",
       "\n",
       "[5 rows x 485516 columns]"
      ]
     },
     "execution_count": 4,
     "metadata": {},
     "output_type": "execute_result"
    }
   ],
   "source": [
    "df.head()"
   ]
  },
  {
   "cell_type": "markdown",
   "id": "cfbebcff-687e-4199-8b8a-6712577cebc0",
   "metadata": {},
   "source": [
    "For PCGrimAge, both age and sex are features. Therefore, to get the full prediction, let's convert the column `gender` into a column called `female`, with 1 being female and 0 being male."
   ]
  },
  {
   "cell_type": "code",
   "execution_count": 5,
   "id": "671906c4-ae7e-4808-859a-470e19757477",
   "metadata": {},
   "outputs": [],
   "source": [
    "# needs only numerical data (doesn't work with strings)\n",
    "df['female'] = (df['gender'] == 'F').astype(int)"
   ]
  },
  {
   "cell_type": "markdown",
   "id": "798b8998-dc50-44ac-bc4e-c97c4f1ec183",
   "metadata": {},
   "source": [
    "### Convert data to AnnData object"
   ]
  },
  {
   "cell_type": "markdown",
   "id": "f8269bff-fadf-4524-801d-6294655c005b",
   "metadata": {},
   "source": [
    "AnnData objects are highly flexible and are thus our preferred method of organizing data for age prediction."
   ]
  },
  {
   "cell_type": "code",
   "execution_count": 6,
   "id": "f6f68ea1-dbbb-4a21-8b2b-f36a7df47222",
   "metadata": {},
   "outputs": [
    {
     "name": "stdout",
     "output_type": "stream",
     "text": [
      "|-----> 🏗️ Starting df_to_adata function\n",
      "|-----> ⚙️ Create anndata object started\n",
      "|-----------? Dropping 1 columns with only NAs: ['cg01550828'], etc.\n",
      "|-----> ⚠️ Create anndata object finished [0.2956s]\n",
      "|-----> ⚙️ Add metadata to anndata started\n",
      "|-----------> Adding provided metadata to adata.obs\n",
      "|-----> ✅ Add metadata to anndata finished [0.0010s]\n",
      "|-----> ⚙️ Log data statistics started\n",
      "|-----------> There are 37 observations\n",
      "|-----------> There are 485513 features\n",
      "|-----------> Total missing values: 489\n",
      "|-----------> Percentage of missing values: 0.00%\n",
      "|-----> ✅ Log data statistics finished [0.0193s]\n",
      "|-----> ⚙️ Impute missing values started\n",
      "|-----------> Imputing missing values using knn strategy\n",
      "|-----> ✅ Impute missing values finished [4.9587s]\n",
      "|-----> ⚙️ Add imputer strategy to adata.uns started\n",
      "|-----> ✅ Add imputer strategy to adata.uns finished [0.0002s]\n",
      "|-----> 🎉 Done! [5.3741s]\n"
     ]
    }
   ],
   "source": [
    "adata = pya.pp.df_to_adata(df, metadata_cols=['gender', 'tissue_type', 'dataset'], imputer_strategy='knn')"
   ]
  },
  {
   "cell_type": "markdown",
   "id": "3f4e479d-0b80-4079-9cd5-79f7d5130ba4",
   "metadata": {},
   "source": [
    "Note that the original DataFrame is stored in `X_original` under layers. is This is what the `adata` object looks like:"
   ]
  },
  {
   "cell_type": "code",
   "execution_count": 7,
   "id": "3259b596-5679-42c1-967b-5297f1612cf4",
   "metadata": {},
   "outputs": [
    {
     "data": {
      "text/plain": [
       "AnnData object with n_obs × n_vars = 37 × 485513\n",
       "    obs: 'gender', 'tissue_type', 'dataset'\n",
       "    var: 'percent_na'\n",
       "    uns: 'imputer_strategy'\n",
       "    layers: 'X_original', 'X_imputed'"
      ]
     },
     "execution_count": 7,
     "metadata": {},
     "output_type": "execute_result"
    }
   ],
   "source": [
    "adata"
   ]
  },
  {
   "cell_type": "markdown",
   "id": "bff7c621-f7b7-4fc0-9c91-6f82a9211e8b",
   "metadata": {},
   "source": [
    "### Predict age"
   ]
  },
  {
   "cell_type": "markdown",
   "id": "07f5a0ae-1901-4f49-af64-320974584231",
   "metadata": {},
   "source": [
    "We can either predict one clock at once or all at the same time. For convenience, let's simply input all four clocks of interest at once. The function is invariant to the capitalization of the clock name. "
   ]
  },
  {
   "cell_type": "code",
   "execution_count": 8,
   "id": "c3f530e0-be06-4ded-852f-c6e076b5483e",
   "metadata": {},
   "outputs": [
    {
     "name": "stdout",
     "output_type": "stream",
     "text": [
      "|-----> 🏗️ Starting predict_age function\n",
      "|-----> ⚙️ Set PyTorch device started\n",
      "|-----------> Using device: cpu\n",
      "|-----> ✅ Set PyTorch device finished [0.0006s]\n",
      "|-----> 🕒 Processing clock: horvath2013\n",
      "|-----------> ⚙️ Load clock started\n",
      "|-----------------> Data found in pyaging_data/horvath2013.pt\n",
      "|-----------> ✅ Load clock finished [0.0031s]\n",
      "|-----------> ⚙️ Check features in adata started\n",
      "|-----------------> All features are present in adata.var_names.\n",
      "|-----------> ✅ Check features in adata finished [0.0013s]\n",
      "|-----------> ⚙️ Preprocess data started\n",
      "|-----------------> There is no preprocessing to be done\n",
      "|-----------> ✅ Preprocess data finished [0.1128s]\n",
      "|-----------> ⚙️ Initialize model started\n",
      "|-----------> ✅ Initialize model finished [0.0013s]\n",
      "|-----------> ⚙️ Predict ages with model started\n",
      "|-----------------> in progress: 100.0000%\n",
      "|-----------> ✅ Predict ages with model finished [0.0338s]\n",
      "|-----------> ⚙️ Convert tensor to numpy array started\n",
      "|-----------> ✅ Convert tensor to numpy array finished [0.0008s]\n",
      "|-----------> ⚙️ Postprocess data started\n",
      "|-----------------> Postprocessing data with function anti_log_linear\n",
      "|-----------> ✅ Postprocess data finished [0.0009s]\n",
      "|-----------> ⚙️ Add predicted ages and clock metadata to adata started\n",
      "|-----------------> Data found in pyaging_data/all_clock_metadata.pt\n",
      "|-----------> ✅ Add predicted ages and clock metadata to adata finished [0.0035s]\n",
      "|-----------> ⚙️ Return adata to original size started\n",
      "|-----------------> No missing features, so adata size did not change\n",
      "|-----------> ✅ Return adata to original size finished [0.0154s]\n",
      "|-----> 🕒 Processing clock: altumage\n",
      "|-----------> ⚙️ Load clock started\n",
      "|-----------------> Data found in pyaging_data/altumage.pt\n",
      "|-----------> ✅ Load clock finished [0.0266s]\n",
      "|-----------> ⚙️ Check features in adata started\n",
      "|-----------------> All features are present in adata.var_names.\n",
      "|-----------> ✅ Check features in adata finished [0.0136s]\n",
      "|-----------> ⚙️ Preprocess data started\n",
      "|-----------------> Preprocessing data with function scale\n",
      "|-----------> ✅ Preprocess data finished [0.1333s]\n",
      "|-----------> ⚙️ Initialize model started\n",
      "|-----------> ✅ Initialize model finished [0.0064s]\n",
      "|-----------> ⚙️ Predict ages with model started\n",
      "|-----------------> in progress: 100.0000%\n",
      "|-----------> ✅ Predict ages with model finished [0.0499s]\n",
      "|-----------> ⚙️ Convert tensor to numpy array started\n",
      "|-----------> ✅ Convert tensor to numpy array finished [0.0004s]\n",
      "|-----------> ⚙️ Postprocess data started\n",
      "|-----------------> There is no postprocessing to be done\n",
      "|-----------> ✅ Postprocess data finished [0.0004s]\n",
      "|-----------> ⚙️ Add predicted ages and clock metadata to adata started\n",
      "|-----------------> Data found in pyaging_data/all_clock_metadata.pt\n",
      "|-----------> ✅ Add predicted ages and clock metadata to adata finished [0.0024s]\n",
      "|-----------> ⚙️ Return adata to original size started\n",
      "|-----------------> No missing features, so adata size did not change\n",
      "|-----------> ✅ Return adata to original size finished [0.0157s]\n",
      "|-----> 🕒 Processing clock: pcgrimage\n",
      "|-----------> ⚙️ Load clock started\n",
      "|-----------------> Data found in pyaging_data/pcgrimage.pt\n",
      "|-----------> ✅ Load clock finished [0.2533s]\n",
      "|-----------> ⚙️ Check features in adata started\n",
      "|-----------------> All features are present in adata.var_names.\n",
      "|-----------> ✅ Check features in adata finished [0.0413s]\n",
      "|-----------> ⚙️ Preprocess data started\n",
      "|-----------------> There is no preprocessing to be done\n",
      "|-----------> ✅ Preprocess data finished [0.1270s]\n",
      "|-----------> ⚙️ Initialize model started\n",
      "|-----------> ✅ Initialize model finished [0.6935s]\n",
      "|-----------> ⚙️ Predict ages with model started\n",
      "|-----------------> in progress: 100.0000%\n",
      "|-----------> ✅ Predict ages with model finished [0.3781s]\n",
      "|-----------> ⚙️ Convert tensor to numpy array started\n",
      "|-----------> ✅ Convert tensor to numpy array finished [0.0004s]\n",
      "|-----------> ⚙️ Postprocess data started\n",
      "|-----------------> There is no postprocessing to be done\n",
      "|-----------> ✅ Postprocess data finished [0.0004s]\n",
      "|-----------> ⚙️ Add predicted ages and clock metadata to adata started\n",
      "|-----------------> Data found in pyaging_data/all_clock_metadata.pt\n",
      "|-----------> ✅ Add predicted ages and clock metadata to adata finished [0.0018s]\n",
      "|-----------> ⚙️ Return adata to original size started\n",
      "|-----------------> No missing features, so adata size did not change\n",
      "|-----------> ✅ Return adata to original size finished [0.0159s]\n",
      "|-----> 🕒 Processing clock: dunedinpace\n",
      "|-----------> ⚙️ Load clock started\n",
      "|-----------------> Data found in pyaging_data/dunedinpace.pt\n",
      "|-----------> ✅ Load clock finished [0.0061s]\n",
      "|-----------> ⚙️ Check features in adata started\n",
      "|-----------------> All features are present in adata.var_names.\n",
      "|-----------> ✅ Check features in adata finished [0.0008s]\n",
      "|-----------> ⚙️ Preprocess data started\n",
      "|-----------------> Preprocessing data with function quantile_normalization_with_gold_standard\n",
      "|-----------> ✅ Preprocess data finished [0.5268s]\n",
      "|-----------> ⚙️ Initialize model started\n",
      "|-----------> ✅ Initialize model finished [0.0006s]\n",
      "|-----------> ⚙️ Predict ages with model started\n",
      "|-----------------> in progress: 100.0000%\n",
      "|-----------> ✅ Predict ages with model finished [0.0369s]\n",
      "|-----------> ⚙️ Convert tensor to numpy array started\n",
      "|-----------> ✅ Convert tensor to numpy array finished [0.0003s]\n",
      "|-----------> ⚙️ Postprocess data started\n",
      "|-----------------> There is no postprocessing to be done\n",
      "|-----------> ✅ Postprocess data finished [0.0005s]\n",
      "|-----------> ⚙️ Add predicted ages and clock metadata to adata started\n",
      "|-----------------> Data found in pyaging_data/all_clock_metadata.pt\n",
      "|-----------> ✅ Add predicted ages and clock metadata to adata finished [0.0018s]\n",
      "|-----------> ⚙️ Return adata to original size started\n",
      "|-----------------> No missing features, so adata size did not change\n",
      "|-----------> ✅ Return adata to original size finished [0.0148s]\n",
      "|-----> 🎉 Done! [2.7956s]\n"
     ]
    }
   ],
   "source": [
    "adata = pya.pred.predict_age(adata, ['Horvath2013', 'AltumAge', 'PCGrimAge', 'DunedinPACE'])"
   ]
  },
  {
   "cell_type": "code",
   "execution_count": 9,
   "id": "9c0c6926-2944-4274-aefa-eb099b8e6737",
   "metadata": {},
   "outputs": [
    {
     "data": {
      "text/html": [
       "<div>\n",
       "<style scoped>\n",
       "    .dataframe tbody tr th:only-of-type {\n",
       "        vertical-align: middle;\n",
       "    }\n",
       "\n",
       "    .dataframe tbody tr th {\n",
       "        vertical-align: top;\n",
       "    }\n",
       "\n",
       "    .dataframe thead th {\n",
       "        text-align: right;\n",
       "    }\n",
       "</style>\n",
       "<table border=\"1\" class=\"dataframe\">\n",
       "  <thead>\n",
       "    <tr style=\"text-align: right;\">\n",
       "      <th></th>\n",
       "      <th>gender</th>\n",
       "      <th>tissue_type</th>\n",
       "      <th>dataset</th>\n",
       "      <th>horvath2013</th>\n",
       "      <th>altumage</th>\n",
       "      <th>pcgrimage</th>\n",
       "      <th>dunedinpace</th>\n",
       "    </tr>\n",
       "  </thead>\n",
       "  <tbody>\n",
       "    <tr>\n",
       "      <th>GSM4137709</th>\n",
       "      <td>M</td>\n",
       "      <td>sperm</td>\n",
       "      <td>GSE139307</td>\n",
       "      <td>33.624776</td>\n",
       "      <td>37.007213</td>\n",
       "      <td>95.506114</td>\n",
       "      <td>1.326356</td>\n",
       "    </tr>\n",
       "    <tr>\n",
       "      <th>GSM4137710</th>\n",
       "      <td>M</td>\n",
       "      <td>sperm</td>\n",
       "      <td>GSE139307</td>\n",
       "      <td>28.829344</td>\n",
       "      <td>29.426899</td>\n",
       "      <td>83.934244</td>\n",
       "      <td>1.215606</td>\n",
       "    </tr>\n",
       "    <tr>\n",
       "      <th>GSM4137711</th>\n",
       "      <td>M</td>\n",
       "      <td>sperm</td>\n",
       "      <td>GSE139307</td>\n",
       "      <td>28.316545</td>\n",
       "      <td>22.798928</td>\n",
       "      <td>82.709334</td>\n",
       "      <td>1.271146</td>\n",
       "    </tr>\n",
       "    <tr>\n",
       "      <th>GSM4137712</th>\n",
       "      <td>M</td>\n",
       "      <td>sperm</td>\n",
       "      <td>GSE139307</td>\n",
       "      <td>24.850630</td>\n",
       "      <td>18.079173</td>\n",
       "      <td>84.269462</td>\n",
       "      <td>1.276884</td>\n",
       "    </tr>\n",
       "    <tr>\n",
       "      <th>GSM4137713</th>\n",
       "      <td>M</td>\n",
       "      <td>sperm</td>\n",
       "      <td>GSE139307</td>\n",
       "      <td>25.942111</td>\n",
       "      <td>20.071985</td>\n",
       "      <td>84.356985</td>\n",
       "      <td>1.261940</td>\n",
       "    </tr>\n",
       "  </tbody>\n",
       "</table>\n",
       "</div>"
      ],
      "text/plain": [
       "           gender tissue_type    dataset  horvath2013   altumage  pcgrimage  \\\n",
       "GSM4137709      M       sperm  GSE139307    33.624776  37.007213  95.506114   \n",
       "GSM4137710      M       sperm  GSE139307    28.829344  29.426899  83.934244   \n",
       "GSM4137711      M       sperm  GSE139307    28.316545  22.798928  82.709334   \n",
       "GSM4137712      M       sperm  GSE139307    24.850630  18.079173  84.269462   \n",
       "GSM4137713      M       sperm  GSE139307    25.942111  20.071985  84.356985   \n",
       "\n",
       "            dunedinpace  \n",
       "GSM4137709     1.326356  \n",
       "GSM4137710     1.215606  \n",
       "GSM4137711     1.271146  \n",
       "GSM4137712     1.276884  \n",
       "GSM4137713     1.261940  "
      ]
     },
     "execution_count": 9,
     "metadata": {},
     "output_type": "execute_result"
    }
   ],
   "source": [
    "adata.obs.head()"
   ]
  },
  {
   "cell_type": "markdown",
   "id": "069520e6-0ffe-43d5-a7c1-c3f726b0a1ac",
   "metadata": {},
   "source": [
    "Having so much information printed can be overwhelming, particularly when running several clocks at once. In such cases, just set verbose to False."
   ]
  },
  {
   "cell_type": "code",
   "execution_count": 10,
   "id": "70f63735-69b0-4071-8fa6-461f290a60fc",
   "metadata": {},
   "outputs": [],
   "source": [
    "pya.data.download_example_data('GSE139307', verbose=False)\n",
    "df = pd.read_pickle('pyaging_data/GSE139307.pkl')\n",
    "df['female'] = (df['gender'] == 'F').astype(int)\n",
    "adata = pya.preprocess.df_to_adata(df, metadata_cols=['gender', 'tissue_type', 'dataset'], imputer_strategy='mean', verbose=False)\n",
    "adata = pya.pred.predict_age(adata, ['Horvath2013', 'AltumAge', 'PCGrimAge', 'DunedinPACE'], verbose=False)"
   ]
  },
  {
   "cell_type": "code",
   "execution_count": 11,
   "id": "7009e4a4-90c6-4c4f-9bbd-bcb3e3836eee",
   "metadata": {},
   "outputs": [
    {
     "data": {
      "text/html": [
       "<div>\n",
       "<style scoped>\n",
       "    .dataframe tbody tr th:only-of-type {\n",
       "        vertical-align: middle;\n",
       "    }\n",
       "\n",
       "    .dataframe tbody tr th {\n",
       "        vertical-align: top;\n",
       "    }\n",
       "\n",
       "    .dataframe thead th {\n",
       "        text-align: right;\n",
       "    }\n",
       "</style>\n",
       "<table border=\"1\" class=\"dataframe\">\n",
       "  <thead>\n",
       "    <tr style=\"text-align: right;\">\n",
       "      <th></th>\n",
       "      <th>gender</th>\n",
       "      <th>tissue_type</th>\n",
       "      <th>dataset</th>\n",
       "      <th>horvath2013</th>\n",
       "      <th>altumage</th>\n",
       "      <th>pcgrimage</th>\n",
       "      <th>dunedinpace</th>\n",
       "    </tr>\n",
       "  </thead>\n",
       "  <tbody>\n",
       "    <tr>\n",
       "      <th>GSM4137709</th>\n",
       "      <td>M</td>\n",
       "      <td>sperm</td>\n",
       "      <td>GSE139307</td>\n",
       "      <td>33.624776</td>\n",
       "      <td>37.007213</td>\n",
       "      <td>95.505780</td>\n",
       "      <td>1.326341</td>\n",
       "    </tr>\n",
       "    <tr>\n",
       "      <th>GSM4137710</th>\n",
       "      <td>M</td>\n",
       "      <td>sperm</td>\n",
       "      <td>GSE139307</td>\n",
       "      <td>28.829344</td>\n",
       "      <td>29.426899</td>\n",
       "      <td>83.934244</td>\n",
       "      <td>1.215608</td>\n",
       "    </tr>\n",
       "    <tr>\n",
       "      <th>GSM4137711</th>\n",
       "      <td>M</td>\n",
       "      <td>sperm</td>\n",
       "      <td>GSE139307</td>\n",
       "      <td>28.316545</td>\n",
       "      <td>22.805551</td>\n",
       "      <td>82.709334</td>\n",
       "      <td>1.271094</td>\n",
       "    </tr>\n",
       "    <tr>\n",
       "      <th>GSM4137712</th>\n",
       "      <td>M</td>\n",
       "      <td>sperm</td>\n",
       "      <td>GSE139307</td>\n",
       "      <td>24.850630</td>\n",
       "      <td>18.060107</td>\n",
       "      <td>84.269462</td>\n",
       "      <td>1.276884</td>\n",
       "    </tr>\n",
       "    <tr>\n",
       "      <th>GSM4137713</th>\n",
       "      <td>M</td>\n",
       "      <td>sperm</td>\n",
       "      <td>GSE139307</td>\n",
       "      <td>25.942111</td>\n",
       "      <td>20.071985</td>\n",
       "      <td>84.356985</td>\n",
       "      <td>1.261940</td>\n",
       "    </tr>\n",
       "  </tbody>\n",
       "</table>\n",
       "</div>"
      ],
      "text/plain": [
       "           gender tissue_type    dataset  horvath2013   altumage  pcgrimage  \\\n",
       "GSM4137709      M       sperm  GSE139307    33.624776  37.007213  95.505780   \n",
       "GSM4137710      M       sperm  GSE139307    28.829344  29.426899  83.934244   \n",
       "GSM4137711      M       sperm  GSE139307    28.316545  22.805551  82.709334   \n",
       "GSM4137712      M       sperm  GSE139307    24.850630  18.060107  84.269462   \n",
       "GSM4137713      M       sperm  GSE139307    25.942111  20.071985  84.356985   \n",
       "\n",
       "            dunedinpace  \n",
       "GSM4137709     1.326341  \n",
       "GSM4137710     1.215608  \n",
       "GSM4137711     1.271094  \n",
       "GSM4137712     1.276884  \n",
       "GSM4137713     1.261940  "
      ]
     },
     "execution_count": 11,
     "metadata": {},
     "output_type": "execute_result"
    }
   ],
   "source": [
    "adata.obs.head()"
   ]
  },
  {
   "cell_type": "markdown",
   "id": "6f246126-0be1-47b2-86f4-c81dcc752da0",
   "metadata": {},
   "source": [
    "After age prediction, the clocks are added to `adata.obs`. Moreover, the percent of missing values for each clock and other metadata are included in `adata.uns`."
   ]
  },
  {
   "cell_type": "code",
   "execution_count": 12,
   "id": "14649c41-167e-4771-a4de-1ed2ae72eb51",
   "metadata": {},
   "outputs": [
    {
     "data": {
      "text/plain": [
       "AnnData object with n_obs × n_vars = 37 × 485513\n",
       "    obs: 'gender', 'tissue_type', 'dataset', 'horvath2013', 'altumage', 'pcgrimage', 'dunedinpace'\n",
       "    var: 'percent_na'\n",
       "    uns: 'imputer_strategy', 'horvath2013_percent_na', 'horvath2013_metadata', 'altumage_percent_na', 'altumage_metadata', 'pcgrimage_percent_na', 'pcgrimage_metadata', 'dunedinpace_percent_na', 'dunedinpace_metadata'\n",
       "    layers: 'X_original', 'X_imputed'"
      ]
     },
     "execution_count": 12,
     "metadata": {},
     "output_type": "execute_result"
    }
   ],
   "source": [
    "adata"
   ]
  },
  {
   "cell_type": "markdown",
   "id": "123ea2ce-8db1-492d-9d13-c57447030ad8",
   "metadata": {},
   "source": [
    "### Get citation"
   ]
  },
  {
   "cell_type": "markdown",
   "id": "99ad630f-a3b1-4cf7-a180-b8b56bd548e1",
   "metadata": {},
   "source": [
    "The doi, citation, and some metadata are automatically added to the AnnData object under `adata.uns[CLOCKNAME_metadata]`."
   ]
  },
  {
   "cell_type": "code",
   "execution_count": 13,
   "id": "7d2d10dc-4ffe-4940-a7f1-2041b933f7b6",
   "metadata": {},
   "outputs": [
    {
     "data": {
      "text/plain": [
       "{'species': 'Homo sapiens',\n",
       " 'data_type': 'methylation',\n",
       " 'year': 2013,\n",
       " 'implementation_approved_by_author(s)': '⌛',\n",
       " 'preprocessing': None,\n",
       " 'postprocessing': 'anti_log_linear',\n",
       " 'citation': 'Horvath, Steve. \"DNA methylation age of human tissues and cell types.\" Genome biology 14.10 (2013): 1-20.',\n",
       " 'doi': 'https://doi.org/10.1186/gb-2013-14-10-r115',\n",
       " 'notes': None}"
      ]
     },
     "execution_count": 13,
     "metadata": {},
     "output_type": "execute_result"
    }
   ],
   "source": [
    "adata.uns['horvath2013_metadata']"
   ]
  },
  {
   "cell_type": "code",
   "execution_count": 14,
   "id": "e2a5311a-ed7d-4e1b-9fbb-b4ad676ce9da",
   "metadata": {},
   "outputs": [
    {
     "data": {
      "text/plain": [
       "{'species': 'Homo sapiens',\n",
       " 'data_type': 'methylation',\n",
       " 'year': 2022,\n",
       " 'implementation_approved_by_author(s)': '✅',\n",
       " 'preprocessing': 'scale',\n",
       " 'postprocessing': None,\n",
       " 'citation': 'de Lima Camillo, Lucas Paulo, Louis R. Lapierre, and Ritambhara Singh. \"A pan-tissue DNA-methylation epigenetic clock based on deep learning.\" npj Aging 8.1 (2022): 4.',\n",
       " 'doi': 'https://doi.org/10.1038/s41514-022-00085-y',\n",
       " 'notes': None}"
      ]
     },
     "execution_count": 14,
     "metadata": {},
     "output_type": "execute_result"
    }
   ],
   "source": [
    "adata.uns['altumage_metadata']"
   ]
  },
  {
   "cell_type": "code",
   "execution_count": 15,
   "id": "0bbefc0c-acc8-47db-84dc-5ebe80d08500",
   "metadata": {},
   "outputs": [
    {
     "data": {
      "text/plain": [
       "{'species': 'Homo sapiens',\n",
       " 'data_type': 'methylation',\n",
       " 'year': 2022,\n",
       " 'implementation_approved_by_author(s)': '⌛',\n",
       " 'preprocessing': None,\n",
       " 'postprocessing': None,\n",
       " 'citation': 'Higgins-Chen, Albert T., et al. \"A computational solution for bolstering reliability of epigenetic clocks: Implications for clinical trials and longitudinal tracking.\" Nature aging 2.7 (2022): 644-661.',\n",
       " 'doi': 'https://doi.org/10.1038/s43587-022-00248-2',\n",
       " 'notes': None}"
      ]
     },
     "execution_count": 15,
     "metadata": {},
     "output_type": "execute_result"
    }
   ],
   "source": [
    "adata.uns['pcgrimage_metadata']"
   ]
  },
  {
   "cell_type": "code",
   "execution_count": 16,
   "id": "54497c7f-e1cb-4dd4-815a-182af52155b4",
   "metadata": {},
   "outputs": [
    {
     "data": {
      "text/plain": [
       "{'species': 'Homo sapiens',\n",
       " 'data_type': 'methylation',\n",
       " 'year': 2022,\n",
       " 'implementation_approved_by_author(s)': '⌛',\n",
       " 'preprocessing': 'quantile_normalization_with_gold_standard',\n",
       " 'postprocessing': None,\n",
       " 'citation': 'Belsky, Daniel W., et al. \"DunedinPACE, a DNA methylation biomarker of the pace of aging.\" Elife 11 (2022): e73420.',\n",
       " 'doi': 'https://doi.org/10.7554/eLife.73420',\n",
       " 'notes': \"The automatic failure if fewer than 80% of the CpG probes are available is not implemented and left to the user's discretion.\"}"
      ]
     },
     "execution_count": 16,
     "metadata": {},
     "output_type": "execute_result"
    }
   ],
   "source": [
    "adata.uns['dunedinpace_metadata']"
   ]
  },
  {
   "cell_type": "markdown",
   "id": "49080a8a-1957-4eee-ac38-2ae495f100bd",
   "metadata": {},
   "source": [
    "## Mus musculus"
   ]
  },
  {
   "cell_type": "markdown",
   "id": "5e620ab9-4837-4a7a-83f1-726be9c9f7bf",
   "metadata": {},
   "source": [
    "### Download and load example data"
   ]
  },
  {
   "cell_type": "markdown",
   "id": "5ff79235-46fb-4c59-a629-1f479f9f13a3",
   "metadata": {},
   "source": [
    "Let's download the publicly available dataset GSE130735 with RRBS samples from mouse. Given it is RRBS, there are millions of CpG sites."
   ]
  },
  {
   "cell_type": "code",
   "execution_count": 17,
   "id": "148f7ae7-8a5d-4fd2-a159-e3b8e576bbce",
   "metadata": {},
   "outputs": [
    {
     "name": "stdout",
     "output_type": "stream",
     "text": [
      "|-----> 🏗️ Starting download_example_data function\n",
      "|-----------> Data found in pyaging_data/GSE130735_subset.pkl\n",
      "|-----> 🎉 Done! [0.0008s]\n"
     ]
    }
   ],
   "source": [
    "pya.data.download_example_data('GSE130735')"
   ]
  },
  {
   "cell_type": "code",
   "execution_count": 18,
   "id": "2a6fcd90-8ded-40d5-a606-e32e21816ebf",
   "metadata": {},
   "outputs": [],
   "source": [
    "df = pd.read_pickle('pyaging_data/GSE130735_subset.pkl')"
   ]
  },
  {
   "cell_type": "code",
   "execution_count": 19,
   "id": "c4d8245b-8d04-4ae0-945d-3aed4956a3bb",
   "metadata": {},
   "outputs": [
    {
     "data": {
      "text/html": [
       "<div>\n",
       "<style scoped>\n",
       "    .dataframe tbody tr th:only-of-type {\n",
       "        vertical-align: middle;\n",
       "    }\n",
       "\n",
       "    .dataframe tbody tr th {\n",
       "        vertical-align: top;\n",
       "    }\n",
       "\n",
       "    .dataframe thead th {\n",
       "        text-align: right;\n",
       "    }\n",
       "</style>\n",
       "<table border=\"1\" class=\"dataframe\">\n",
       "  <thead>\n",
       "    <tr style=\"text-align: right;\">\n",
       "      <th></th>\n",
       "      <th>chr1:3020814</th>\n",
       "      <th>chr1:3020842</th>\n",
       "      <th>chr1:3020877</th>\n",
       "      <th>chr1:3020891</th>\n",
       "      <th>chr1:3020945</th>\n",
       "      <th>chr1:3020971</th>\n",
       "      <th>chr1:3020987</th>\n",
       "      <th>chr1:3021012</th>\n",
       "      <th>chr1:3037802</th>\n",
       "      <th>chr1:3037820</th>\n",
       "      <th>...</th>\n",
       "      <th>chrY:1825397</th>\n",
       "      <th>chrY:4682362</th>\n",
       "      <th>chrY:32122892</th>\n",
       "      <th>chrY:85867071</th>\n",
       "      <th>chrY:85867083</th>\n",
       "      <th>chrY:85867117</th>\n",
       "      <th>chrY:85867137</th>\n",
       "      <th>chrY:85867139</th>\n",
       "      <th>chrY:85867178</th>\n",
       "      <th>chrY:88224179</th>\n",
       "    </tr>\n",
       "  </thead>\n",
       "  <tbody>\n",
       "    <tr>\n",
       "      <th>GSM3752631</th>\n",
       "      <td>0.609</td>\n",
       "      <td>0.25</td>\n",
       "      <td>0.408</td>\n",
       "      <td>0.189</td>\n",
       "      <td>0.068</td>\n",
       "      <td>0.373</td>\n",
       "      <td>0.571</td>\n",
       "      <td>0.252</td>\n",
       "      <td>0.333</td>\n",
       "      <td>0.158</td>\n",
       "      <td>...</td>\n",
       "      <td>NaN</td>\n",
       "      <td>NaN</td>\n",
       "      <td>NaN</td>\n",
       "      <td>NaN</td>\n",
       "      <td>NaN</td>\n",
       "      <td>NaN</td>\n",
       "      <td>NaN</td>\n",
       "      <td>NaN</td>\n",
       "      <td>NaN</td>\n",
       "      <td>NaN</td>\n",
       "    </tr>\n",
       "    <tr>\n",
       "      <th>GSM3752625</th>\n",
       "      <td>NaN</td>\n",
       "      <td>NaN</td>\n",
       "      <td>0.973</td>\n",
       "      <td>0.984</td>\n",
       "      <td>0.912</td>\n",
       "      <td>0.915</td>\n",
       "      <td>0.987</td>\n",
       "      <td>0.974</td>\n",
       "      <td>0.991</td>\n",
       "      <td>0.932</td>\n",
       "      <td>...</td>\n",
       "      <td>NaN</td>\n",
       "      <td>NaN</td>\n",
       "      <td>NaN</td>\n",
       "      <td>NaN</td>\n",
       "      <td>NaN</td>\n",
       "      <td>NaN</td>\n",
       "      <td>NaN</td>\n",
       "      <td>NaN</td>\n",
       "      <td>NaN</td>\n",
       "      <td>NaN</td>\n",
       "    </tr>\n",
       "    <tr>\n",
       "      <th>GSM3752634</th>\n",
       "      <td>NaN</td>\n",
       "      <td>NaN</td>\n",
       "      <td>0.526</td>\n",
       "      <td>0.131</td>\n",
       "      <td>0.000</td>\n",
       "      <td>0.038</td>\n",
       "      <td>0.469</td>\n",
       "      <td>0.769</td>\n",
       "      <td>0.772</td>\n",
       "      <td>0.146</td>\n",
       "      <td>...</td>\n",
       "      <td>NaN</td>\n",
       "      <td>NaN</td>\n",
       "      <td>NaN</td>\n",
       "      <td>NaN</td>\n",
       "      <td>NaN</td>\n",
       "      <td>NaN</td>\n",
       "      <td>NaN</td>\n",
       "      <td>NaN</td>\n",
       "      <td>NaN</td>\n",
       "      <td>NaN</td>\n",
       "    </tr>\n",
       "    <tr>\n",
       "      <th>GSM3752620</th>\n",
       "      <td>0.931</td>\n",
       "      <td>0.92</td>\n",
       "      <td>0.988</td>\n",
       "      <td>0.949</td>\n",
       "      <td>0.897</td>\n",
       "      <td>0.921</td>\n",
       "      <td>0.907</td>\n",
       "      <td>0.958</td>\n",
       "      <td>1.000</td>\n",
       "      <td>0.867</td>\n",
       "      <td>...</td>\n",
       "      <td>NaN</td>\n",
       "      <td>NaN</td>\n",
       "      <td>NaN</td>\n",
       "      <td>NaN</td>\n",
       "      <td>NaN</td>\n",
       "      <td>NaN</td>\n",
       "      <td>NaN</td>\n",
       "      <td>NaN</td>\n",
       "      <td>NaN</td>\n",
       "      <td>NaN</td>\n",
       "    </tr>\n",
       "    <tr>\n",
       "      <th>GSM3752622</th>\n",
       "      <td>NaN</td>\n",
       "      <td>NaN</td>\n",
       "      <td>0.205</td>\n",
       "      <td>0.382</td>\n",
       "      <td>0.091</td>\n",
       "      <td>0.132</td>\n",
       "      <td>0.174</td>\n",
       "      <td>0.227</td>\n",
       "      <td>0.108</td>\n",
       "      <td>0.053</td>\n",
       "      <td>...</td>\n",
       "      <td>NaN</td>\n",
       "      <td>NaN</td>\n",
       "      <td>NaN</td>\n",
       "      <td>NaN</td>\n",
       "      <td>NaN</td>\n",
       "      <td>NaN</td>\n",
       "      <td>NaN</td>\n",
       "      <td>NaN</td>\n",
       "      <td>NaN</td>\n",
       "      <td>NaN</td>\n",
       "    </tr>\n",
       "  </tbody>\n",
       "</table>\n",
       "<p>5 rows × 1778324 columns</p>\n",
       "</div>"
      ],
      "text/plain": [
       "            chr1:3020814  chr1:3020842  chr1:3020877  chr1:3020891  \\\n",
       "GSM3752631         0.609          0.25         0.408         0.189   \n",
       "GSM3752625           NaN           NaN         0.973         0.984   \n",
       "GSM3752634           NaN           NaN         0.526         0.131   \n",
       "GSM3752620         0.931          0.92         0.988         0.949   \n",
       "GSM3752622           NaN           NaN         0.205         0.382   \n",
       "\n",
       "            chr1:3020945  chr1:3020971  chr1:3020987  chr1:3021012  \\\n",
       "GSM3752631         0.068         0.373         0.571         0.252   \n",
       "GSM3752625         0.912         0.915         0.987         0.974   \n",
       "GSM3752634         0.000         0.038         0.469         0.769   \n",
       "GSM3752620         0.897         0.921         0.907         0.958   \n",
       "GSM3752622         0.091         0.132         0.174         0.227   \n",
       "\n",
       "            chr1:3037802  chr1:3037820  ...  chrY:1825397  chrY:4682362  \\\n",
       "GSM3752631         0.333         0.158  ...           NaN           NaN   \n",
       "GSM3752625         0.991         0.932  ...           NaN           NaN   \n",
       "GSM3752634         0.772         0.146  ...           NaN           NaN   \n",
       "GSM3752620         1.000         0.867  ...           NaN           NaN   \n",
       "GSM3752622         0.108         0.053  ...           NaN           NaN   \n",
       "\n",
       "            chrY:32122892  chrY:85867071  chrY:85867083  chrY:85867117  \\\n",
       "GSM3752631            NaN            NaN            NaN            NaN   \n",
       "GSM3752625            NaN            NaN            NaN            NaN   \n",
       "GSM3752634            NaN            NaN            NaN            NaN   \n",
       "GSM3752620            NaN            NaN            NaN            NaN   \n",
       "GSM3752622            NaN            NaN            NaN            NaN   \n",
       "\n",
       "            chrY:85867137  chrY:85867139  chrY:85867178  chrY:88224179  \n",
       "GSM3752631            NaN            NaN            NaN            NaN  \n",
       "GSM3752625            NaN            NaN            NaN            NaN  \n",
       "GSM3752634            NaN            NaN            NaN            NaN  \n",
       "GSM3752620            NaN            NaN            NaN            NaN  \n",
       "GSM3752622            NaN            NaN            NaN            NaN  \n",
       "\n",
       "[5 rows x 1778324 columns]"
      ]
     },
     "execution_count": 19,
     "metadata": {},
     "output_type": "execute_result"
    }
   ],
   "source": [
    "df.head()"
   ]
  },
  {
   "cell_type": "markdown",
   "id": "ea7c44d7-73c3-4cd7-844d-bab34aa2dcee",
   "metadata": {},
   "source": [
    "### Convert data to AnnData object"
   ]
  },
  {
   "cell_type": "markdown",
   "id": "04f2758f-fb8c-4a52-983a-29ec826dba6c",
   "metadata": {},
   "source": [
    "AnnData objects are highly flexible and are thus our preferred method of organizing data for age prediction."
   ]
  },
  {
   "cell_type": "code",
   "execution_count": 20,
   "id": "c261c2dc-8245-47d7-82d8-7731f7c94f1e",
   "metadata": {},
   "outputs": [
    {
     "name": "stdout",
     "output_type": "stream",
     "text": [
      "|-----> 🏗️ Starting df_to_adata function\n",
      "|-----> ⚙️ Create anndata object started\n",
      "|-----> ✅ Create anndata object finished [1.0154s]\n",
      "|-----> ⚙️ Add metadata to anndata started\n",
      "|-----------? No metadata provided. Leaving adata.obs empty\n",
      "|-----> ⚠️ Add metadata to anndata finished [0.0005s]\n",
      "|-----> ⚙️ Log data statistics started\n",
      "|-----------> There are 14 observations\n",
      "|-----------> There are 1778324 features\n",
      "|-----------> Total missing values: 6322346\n",
      "|-----------> Percentage of missing values: 25.39%\n",
      "|-----> ✅ Log data statistics finished [0.0152s]\n",
      "|-----> ⚙️ Impute missing values started\n",
      "|-----------> Imputing missing values using mean strategy\n",
      "|-----> ✅ Impute missing values finished [0.3602s]\n",
      "|-----> ⚙️ Add imputer strategy to adata.uns started\n",
      "|-----> ✅ Add imputer strategy to adata.uns finished [0.0003s]\n",
      "|-----> 🎉 Done! [1.3944s]\n"
     ]
    }
   ],
   "source": [
    "adata = pya.pp.df_to_adata(df, imputer_strategy='mean')"
   ]
  },
  {
   "cell_type": "markdown",
   "id": "7349164c-f28b-4222-bf41-6f80d8b79c3b",
   "metadata": {},
   "source": [
    "This is what the `adata` object looks like:"
   ]
  },
  {
   "cell_type": "markdown",
   "id": "4b5ff1ef-e724-407a-b6d4-9907558f21ba",
   "metadata": {},
   "source": [
    "### Predict age"
   ]
  },
  {
   "cell_type": "markdown",
   "id": "eb197ded-91dd-4319-8dbb-a635d09c8367",
   "metadata": {},
   "source": [
    "We can either predict one clock at once or all at the same time. For convenience, let's simply input all four available mammalian clocks at once. The function is invariant to the capitalization of the clock name."
   ]
  },
  {
   "cell_type": "code",
   "execution_count": 21,
   "id": "29ebd120-1c4a-4847-a3a3-5be7ffc5f730",
   "metadata": {},
   "outputs": [
    {
     "name": "stdout",
     "output_type": "stream",
     "text": [
      "|-----> 🏗️ Starting predict_age function\n",
      "|-----> ⚙️ Set PyTorch device started\n",
      "|-----------> Using device: cpu\n",
      "|-----> ✅ Set PyTorch device finished [0.0009s]\n",
      "|-----> 🕒 Processing clock: thompsonmultitissue\n",
      "|-----------> ⚙️ Load clock started\n",
      "|-----------------> Data found in pyaging_data/thompsonmultitissue.pt\n",
      "|-----------> ✅ Load clock finished [0.0020s]\n",
      "|-----------> ⚙️ Check features in adata started\n",
      "|-----------------? 1 out of 582 features (0.17%) are missing: ['chr4:91376687'], etc.\n",
      "|-----------------> Filling missing features entirely with 0\n",
      "|-----------------> Expanded adata with 1 missing features\n",
      "|-----------> ⚠️ Check features in adata finished [0.4493s]\n",
      "|-----------> ⚙️ Preprocess data started\n",
      "|-----------------> There is no preprocessing to be done\n",
      "|-----------> ✅ Preprocess data finished [0.0512s]\n",
      "|-----------> ⚙️ Initialize model started\n",
      "|-----------> ✅ Initialize model finished [0.0009s]\n",
      "|-----------> ⚙️ Predict ages with model started\n",
      "|-----------------> in progress: 100.0000%\n",
      "|-----------> ✅ Predict ages with model finished [0.3044s]\n",
      "|-----------> ⚙️ Convert tensor to numpy array started\n",
      "|-----------> ✅ Convert tensor to numpy array finished [0.0003s]\n",
      "|-----------> ⚙️ Postprocess data started\n",
      "|-----------------> There is no postprocessing to be done\n",
      "|-----------> ✅ Postprocess data finished [0.0004s]\n",
      "|-----------> ⚙️ Add predicted ages and clock metadata to adata started\n",
      "|-----------------> Data found in pyaging_data/all_clock_metadata.pt\n",
      "|-----------> ✅ Add predicted ages and clock metadata to adata finished [0.0012s]\n",
      "|-----------> ⚙️ Return adata to original size started\n",
      "|-----------------> Removing 1 added features\n",
      "|-----------> ✅ Return adata to original size finished [0.7226s]\n",
      "|-----> 🕒 Processing clock: meermultitissue\n",
      "|-----------> ⚙️ Load clock started\n",
      "|-----------------> Data found in pyaging_data/meermultitissue.pt\n",
      "|-----------> ✅ Load clock finished [0.0016s]\n",
      "|-----------> ⚙️ Check features in adata started\n",
      "|-----------------? 225 out of 435 features (51.72%) are missing: ['chr10:111559529', 'chr10:115250413', 'chr10:127620127'], etc.\n",
      "|-----------------> Filling missing features entirely with 0\n",
      "|-----------------> Expanded adata with 225 missing features\n",
      "|-----------> ⚠️ Check features in adata finished [0.5138s]\n",
      "|-----------> ⚙️ Preprocess data started\n",
      "|-----------------> There is no preprocessing to be done\n",
      "|-----------> ✅ Preprocess data finished [0.0550s]\n",
      "|-----------> ⚙️ Initialize model started\n",
      "|-----------> ✅ Initialize model finished [0.0009s]\n",
      "|-----------> ⚙️ Predict ages with model started\n",
      "|-----------------> in progress: 100.0000%\n",
      "|-----------> ✅ Predict ages with model finished [0.3091s]\n",
      "|-----------> ⚙️ Convert tensor to numpy array started\n",
      "|-----------> ✅ Convert tensor to numpy array finished [0.0003s]\n",
      "|-----------> ⚙️ Postprocess data started\n",
      "|-----------------> There is no postprocessing to be done\n",
      "|-----------> ✅ Postprocess data finished [0.0005s]\n",
      "|-----------> ⚙️ Add predicted ages and clock metadata to adata started\n",
      "|-----------------> Data found in pyaging_data/all_clock_metadata.pt\n",
      "|-----------> ✅ Add predicted ages and clock metadata to adata finished [0.0015s]\n",
      "|-----------> ⚙️ Return adata to original size started\n",
      "|-----------------> Removing 225 added features\n",
      "|-----------> ✅ Return adata to original size finished [0.7570s]\n",
      "|-----> 🕒 Processing clock: petkovichblood\n",
      "|-----------> ⚙️ Load clock started\n",
      "|-----------------> Data found in pyaging_data/petkovichblood.pt\n",
      "|-----------> ✅ Load clock finished [0.0019s]\n",
      "|-----------> ⚙️ Check features in adata started\n",
      "|-----------------? 40 out of 90 features (44.44%) are missing: ['chr18:58836612', 'chr16:10502211', 'chr16:44812942'], etc.\n",
      "|-----------------> Filling missing features entirely with 0\n",
      "|-----------------> Expanded adata with 40 missing features\n",
      "|-----------> ⚠️ Check features in adata finished [0.5399s]\n",
      "|-----------> ⚙️ Preprocess data started\n",
      "|-----------------> There is no preprocessing to be done\n",
      "|-----------> ✅ Preprocess data finished [0.0231s]\n",
      "|-----------> ⚙️ Initialize model started\n",
      "|-----------> ✅ Initialize model finished [0.0013s]\n",
      "|-----------> ⚙️ Predict ages with model started\n",
      "|-----------------> in progress: 100.0000%\n",
      "|-----------> ✅ Predict ages with model finished [0.2931s]\n",
      "|-----------> ⚙️ Convert tensor to numpy array started\n",
      "|-----------> ✅ Convert tensor to numpy array finished [0.0003s]\n",
      "|-----------> ⚙️ Postprocess data started\n",
      "|-----------------> Postprocessing data with function petkovichblood\n",
      "|-----------> ✅ Postprocess data finished [0.0005s]\n",
      "|-----------> ⚙️ Add predicted ages and clock metadata to adata started\n",
      "|-----------------> Data found in pyaging_data/all_clock_metadata.pt\n",
      "|-----------> ✅ Add predicted ages and clock metadata to adata finished [0.0014s]\n",
      "|-----------> ⚙️ Return adata to original size started\n",
      "|-----------------> Removing 40 added features\n",
      "|-----------> ✅ Return adata to original size finished [0.6855s]\n",
      "|-----> 🕒 Processing clock: stubbsmultitissue\n",
      "|-----------> ⚙️ Load clock started\n",
      "|-----------------> Data found in pyaging_data/stubbsmultitissue.pt\n",
      "|-----------> ✅ Load clock finished [0.0020s]\n",
      "|-----------> ⚙️ Check features in adata started\n",
      "|-----------------? 153 out of 329 features (46.50%) are missing: ['chr1:153890242', 'chr2:25579878', 'chr2:131180254'], etc.\n",
      "|-----------------> Filling missing features entirely with 0\n",
      "|-----------------> Expanded adata with 153 missing features\n",
      "|-----------> ⚠️ Check features in adata finished [0.5354s]\n",
      "|-----------> ⚙️ Preprocess data started\n",
      "|-----------------> There is no preprocessing to be done\n",
      "|-----------> ✅ Preprocess data finished [0.0295s]\n",
      "|-----------> ⚙️ Initialize model started\n",
      "|-----------> ✅ Initialize model finished [0.0014s]\n",
      "|-----------> ⚙️ Predict ages with model started\n",
      "|-----------------> in progress: 100.0000%\n",
      "|-----------> ✅ Predict ages with model finished [0.3044s]\n",
      "|-----------> ⚙️ Convert tensor to numpy array started\n",
      "|-----------> ✅ Convert tensor to numpy array finished [0.0004s]\n",
      "|-----------> ⚙️ Postprocess data started\n",
      "|-----------------> Postprocessing data with function stubbsmultitissue\n",
      "|-----------> ✅ Postprocess data finished [0.0005s]\n",
      "|-----------> ⚙️ Add predicted ages and clock metadata to adata started\n",
      "|-----------------> Data found in pyaging_data/all_clock_metadata.pt\n",
      "|-----------> ✅ Add predicted ages and clock metadata to adata finished [0.0014s]\n",
      "|-----------> ⚙️ Return adata to original size started\n",
      "|-----------------> Removing 153 added features\n",
      "|-----------> ✅ Return adata to original size finished [0.6134s]\n",
      "|-----> 🎉 Done! [6.5368s]\n"
     ]
    }
   ],
   "source": [
    "adata = pya.pred.predict_age(adata, ['ThompsonMultiTissue', 'MeerMultiTissue', 'PetkovichBlood', 'StubbsMultiTissue'])"
   ]
  },
  {
   "cell_type": "markdown",
   "id": "3978afec-40a0-4e1f-8ff6-1d048da8a894",
   "metadata": {},
   "source": [
    "All of the age predictions are in unit of months."
   ]
  },
  {
   "cell_type": "code",
   "execution_count": 22,
   "id": "4bb259c5-2cba-4dc1-b123-2387a5bb7749",
   "metadata": {},
   "outputs": [
    {
     "data": {
      "text/html": [
       "<div>\n",
       "<style scoped>\n",
       "    .dataframe tbody tr th:only-of-type {\n",
       "        vertical-align: middle;\n",
       "    }\n",
       "\n",
       "    .dataframe tbody tr th {\n",
       "        vertical-align: top;\n",
       "    }\n",
       "\n",
       "    .dataframe thead th {\n",
       "        text-align: right;\n",
       "    }\n",
       "</style>\n",
       "<table border=\"1\" class=\"dataframe\">\n",
       "  <thead>\n",
       "    <tr style=\"text-align: right;\">\n",
       "      <th></th>\n",
       "      <th>thompsonmultitissue</th>\n",
       "      <th>meermultitissue</th>\n",
       "      <th>petkovichblood</th>\n",
       "      <th>stubbsmultitissue</th>\n",
       "    </tr>\n",
       "  </thead>\n",
       "  <tbody>\n",
       "    <tr>\n",
       "      <th>GSM3752631</th>\n",
       "      <td>19.634113</td>\n",
       "      <td>7.315183</td>\n",
       "      <td>6.472695</td>\n",
       "      <td>2.198807</td>\n",
       "    </tr>\n",
       "    <tr>\n",
       "      <th>GSM3752625</th>\n",
       "      <td>-1.410461</td>\n",
       "      <td>0.028221</td>\n",
       "      <td>2.794689</td>\n",
       "      <td>1.843469</td>\n",
       "    </tr>\n",
       "    <tr>\n",
       "      <th>GSM3752634</th>\n",
       "      <td>61.058783</td>\n",
       "      <td>21.322178</td>\n",
       "      <td>9.511293</td>\n",
       "      <td>2.608401</td>\n",
       "    </tr>\n",
       "    <tr>\n",
       "      <th>GSM3752620</th>\n",
       "      <td>-2.663815</td>\n",
       "      <td>1.611947</td>\n",
       "      <td>2.155649</td>\n",
       "      <td>1.865847</td>\n",
       "    </tr>\n",
       "    <tr>\n",
       "      <th>GSM3752622</th>\n",
       "      <td>20.594114</td>\n",
       "      <td>7.592145</td>\n",
       "      <td>6.978587</td>\n",
       "      <td>2.152412</td>\n",
       "    </tr>\n",
       "  </tbody>\n",
       "</table>\n",
       "</div>"
      ],
      "text/plain": [
       "            thompsonmultitissue  meermultitissue  petkovichblood  \\\n",
       "GSM3752631            19.634113         7.315183        6.472695   \n",
       "GSM3752625            -1.410461         0.028221        2.794689   \n",
       "GSM3752634            61.058783        21.322178        9.511293   \n",
       "GSM3752620            -2.663815         1.611947        2.155649   \n",
       "GSM3752622            20.594114         7.592145        6.978587   \n",
       "\n",
       "            stubbsmultitissue  \n",
       "GSM3752631           2.198807  \n",
       "GSM3752625           1.843469  \n",
       "GSM3752634           2.608401  \n",
       "GSM3752620           1.865847  \n",
       "GSM3752622           2.152412  "
      ]
     },
     "execution_count": 22,
     "metadata": {},
     "output_type": "execute_result"
    }
   ],
   "source": [
    "adata.obs.head()"
   ]
  },
  {
   "cell_type": "markdown",
   "id": "8519affc-ffc8-4904-ad7a-bd6a6d6458cf",
   "metadata": {},
   "source": [
    "Having so much information printed can be overwhelming, particularly when running several clocks at once. In such cases, just set verbose to False."
   ]
  },
  {
   "cell_type": "code",
   "execution_count": 23,
   "id": "18b44cfa-36d5-49c9-badf-7ba9e189bbc0",
   "metadata": {},
   "outputs": [],
   "source": [
    "pya.data.download_example_data('GSE130735', verbose=False)\n",
    "df = pd.read_pickle('pyaging_data/GSE130735_subset.pkl')\n",
    "adata = pya.preprocess.df_to_adata(df, imputer_strategy='mean', verbose=False)\n",
    "adata = pya.pred.predict_age(adata, ['ThompsonMultiTissue', 'MeerMultiTissue', 'PetkovichBlood', 'StubbsMultiTissue'], verbose=False)"
   ]
  },
  {
   "cell_type": "code",
   "execution_count": 24,
   "id": "a2520978-b693-474f-88cf-91bcde1a5d95",
   "metadata": {},
   "outputs": [
    {
     "data": {
      "text/html": [
       "<div>\n",
       "<style scoped>\n",
       "    .dataframe tbody tr th:only-of-type {\n",
       "        vertical-align: middle;\n",
       "    }\n",
       "\n",
       "    .dataframe tbody tr th {\n",
       "        vertical-align: top;\n",
       "    }\n",
       "\n",
       "    .dataframe thead th {\n",
       "        text-align: right;\n",
       "    }\n",
       "</style>\n",
       "<table border=\"1\" class=\"dataframe\">\n",
       "  <thead>\n",
       "    <tr style=\"text-align: right;\">\n",
       "      <th></th>\n",
       "      <th>thompsonmultitissue</th>\n",
       "      <th>meermultitissue</th>\n",
       "      <th>petkovichblood</th>\n",
       "      <th>stubbsmultitissue</th>\n",
       "    </tr>\n",
       "  </thead>\n",
       "  <tbody>\n",
       "    <tr>\n",
       "      <th>GSM3752631</th>\n",
       "      <td>19.634113</td>\n",
       "      <td>7.315183</td>\n",
       "      <td>6.472695</td>\n",
       "      <td>2.198807</td>\n",
       "    </tr>\n",
       "    <tr>\n",
       "      <th>GSM3752625</th>\n",
       "      <td>-1.410461</td>\n",
       "      <td>0.028221</td>\n",
       "      <td>2.794689</td>\n",
       "      <td>1.843469</td>\n",
       "    </tr>\n",
       "    <tr>\n",
       "      <th>GSM3752634</th>\n",
       "      <td>61.058783</td>\n",
       "      <td>21.322178</td>\n",
       "      <td>9.511293</td>\n",
       "      <td>2.608401</td>\n",
       "    </tr>\n",
       "    <tr>\n",
       "      <th>GSM3752620</th>\n",
       "      <td>-2.663815</td>\n",
       "      <td>1.611947</td>\n",
       "      <td>2.155649</td>\n",
       "      <td>1.865847</td>\n",
       "    </tr>\n",
       "    <tr>\n",
       "      <th>GSM3752622</th>\n",
       "      <td>20.594114</td>\n",
       "      <td>7.592145</td>\n",
       "      <td>6.978587</td>\n",
       "      <td>2.152412</td>\n",
       "    </tr>\n",
       "  </tbody>\n",
       "</table>\n",
       "</div>"
      ],
      "text/plain": [
       "            thompsonmultitissue  meermultitissue  petkovichblood  \\\n",
       "GSM3752631            19.634113         7.315183        6.472695   \n",
       "GSM3752625            -1.410461         0.028221        2.794689   \n",
       "GSM3752634            61.058783        21.322178        9.511293   \n",
       "GSM3752620            -2.663815         1.611947        2.155649   \n",
       "GSM3752622            20.594114         7.592145        6.978587   \n",
       "\n",
       "            stubbsmultitissue  \n",
       "GSM3752631           2.198807  \n",
       "GSM3752625           1.843469  \n",
       "GSM3752634           2.608401  \n",
       "GSM3752620           1.865847  \n",
       "GSM3752622           2.152412  "
      ]
     },
     "execution_count": 24,
     "metadata": {},
     "output_type": "execute_result"
    }
   ],
   "source": [
    "adata.obs.head()"
   ]
  },
  {
   "cell_type": "markdown",
   "id": "33119798-f1b3-4c4c-9f18-e4e4b7ca21e8",
   "metadata": {},
   "source": [
    "After age prediction, the clocks are added to `adata.obs`. Moreover, the percent of missing values for each clock and other metadata are included in `adata.uns`."
   ]
  },
  {
   "cell_type": "code",
   "execution_count": 25,
   "id": "92cfc16e-71ff-4767-9c75-04e52455eb6c",
   "metadata": {},
   "outputs": [
    {
     "data": {
      "text/plain": [
       "AnnData object with n_obs × n_vars = 14 × 1778324\n",
       "    obs: 'thompsonmultitissue', 'meermultitissue', 'petkovichblood', 'stubbsmultitissue'\n",
       "    var: 'percent_na'\n",
       "    uns: 'imputer_strategy', 'thompsonmultitissue_percent_na', 'thompsonmultitissue_metadata', 'meermultitissue_percent_na', 'meermultitissue_metadata', 'petkovichblood_percent_na', 'petkovichblood_metadata', 'stubbsmultitissue_percent_na', 'stubbsmultitissue_metadata'\n",
       "    layers: 'X_original', 'X_imputed'"
      ]
     },
     "execution_count": 25,
     "metadata": {},
     "output_type": "execute_result"
    }
   ],
   "source": [
    "adata"
   ]
  },
  {
   "cell_type": "markdown",
   "id": "615f8fbf-f5e1-4af9-a2a0-5f4f781001fe",
   "metadata": {},
   "source": [
    "### Get citation"
   ]
  },
  {
   "cell_type": "markdown",
   "id": "0fe55edd-9271-4b41-857d-ef3fceafc2a6",
   "metadata": {},
   "source": [
    "The doi, citation, and some metadata are automatically added to the AnnData object under `adata.uns[CLOCKNAME_metadata]`."
   ]
  },
  {
   "cell_type": "code",
   "execution_count": 26,
   "id": "cdf4c609-7a24-4c3f-a891-647315b77d54",
   "metadata": {},
   "outputs": [
    {
     "data": {
      "text/plain": [
       "{'species': 'Mus musculus',\n",
       " 'data_type': 'methylation',\n",
       " 'year': 2018,\n",
       " 'implementation_approved_by_author(s)': '✅',\n",
       " 'preprocessing': None,\n",
       " 'postprocessing': None,\n",
       " 'citation': 'Thompson, Michael J., et al. \"A multi-tissue full lifespan epigenetic clock for mice.\" Aging (Albany NY) 10.10 (2018): 2832.',\n",
       " 'doi': 'https://doi.org/10.18632/aging.101590',\n",
       " 'notes': None}"
      ]
     },
     "execution_count": 26,
     "metadata": {},
     "output_type": "execute_result"
    }
   ],
   "source": [
    "adata.uns['thompsonmultitissue_metadata']"
   ]
  },
  {
   "cell_type": "code",
   "execution_count": 27,
   "id": "466b1bc5-6207-469e-b479-260bbf55f2a7",
   "metadata": {},
   "outputs": [
    {
     "data": {
      "text/plain": [
       "{'species': 'Mus musculus',\n",
       " 'data_type': 'methylation',\n",
       " 'year': 2018,\n",
       " 'implementation_approved_by_author(s)': '⌛',\n",
       " 'preprocessing': None,\n",
       " 'postprocessing': None,\n",
       " 'citation': 'Meer, Margarita V., et al. \"A whole lifespan mouse multi-tissue DNA methylation clock.\" Elife 7 (2018): e40675.',\n",
       " 'doi': 'https://doi.org/10.7554/eLife.40675',\n",
       " 'notes': None}"
      ]
     },
     "execution_count": 27,
     "metadata": {},
     "output_type": "execute_result"
    }
   ],
   "source": [
    "adata.uns['meermultitissue_metadata']"
   ]
  },
  {
   "cell_type": "code",
   "execution_count": 28,
   "id": "2808782d-04d3-4527-8328-b18a583cf15b",
   "metadata": {},
   "outputs": [
    {
     "data": {
      "text/plain": [
       "{'species': 'Mus musculus',\n",
       " 'data_type': 'methylation',\n",
       " 'year': 2017,\n",
       " 'implementation_approved_by_author(s)': '⌛',\n",
       " 'preprocessing': None,\n",
       " 'postprocessing': 'petkovichblood',\n",
       " 'citation': 'Petkovich, Daniel A., et al. \"Using DNA methylation profiling to evaluate biological age and longevity interventions.\" Cell metabolism 25.4 (2017): 954-960.',\n",
       " 'doi': 'https://doi.org/10.1016/j.cmet.2017.03.016',\n",
       " 'notes': None}"
      ]
     },
     "execution_count": 28,
     "metadata": {},
     "output_type": "execute_result"
    }
   ],
   "source": [
    "adata.uns['petkovichblood_metadata']"
   ]
  },
  {
   "cell_type": "code",
   "execution_count": 29,
   "id": "ec210b8b-9ba1-45df-9b16-80a5f5ac86f4",
   "metadata": {},
   "outputs": [
    {
     "data": {
      "text/plain": [
       "{'species': 'Mus musculus',\n",
       " 'data_type': 'methylation',\n",
       " 'year': 2017,\n",
       " 'implementation_approved_by_author(s)': '⌛',\n",
       " 'preprocessing': None,\n",
       " 'postprocessing': 'stubbsmultitissue',\n",
       " 'citation': 'Stubbs, Thomas M., et al. \"Multi-tissue DNA methylation age predictor in mouse.\" Genome biology 18 (2017): 1-14.',\n",
       " 'doi': 'https://doi.org/10.1186/s13059-017-1203-5',\n",
       " 'notes': None}"
      ]
     },
     "execution_count": 29,
     "metadata": {},
     "output_type": "execute_result"
    }
   ],
   "source": [
    "adata.uns['stubbsmultitissue_metadata']"
   ]
  },
  {
   "cell_type": "markdown",
   "id": "21b470d4-eef3-4825-9899-fcb0068c9c1c",
   "metadata": {},
   "source": [
    "## Mammalian"
   ]
  },
  {
   "cell_type": "markdown",
   "id": "d5e6b7de-7f34-4ee5-935a-00a0e2fb8945",
   "metadata": {},
   "source": [
    "### Download and load example data"
   ]
  },
  {
   "cell_type": "markdown",
   "id": "8c6ba751-380e-4b91-b4a2-c20e05711380",
   "metadata": {},
   "source": [
    "Let's download the publicly avaiable dataset GSE223748 with Illumina's Mammalian Methylation array. The CpG coverage of the this array (~37k) spans highly conserved CpG sequences. Let's download a subset of that data."
   ]
  },
  {
   "cell_type": "code",
   "execution_count": 30,
   "id": "5d07743e-516c-4cac-a733-a05c2ed55d53",
   "metadata": {},
   "outputs": [
    {
     "name": "stdout",
     "output_type": "stream",
     "text": [
      "|-----> 🏗️ Starting download_example_data function\n",
      "|-----------> Data found in pyaging_data/GSE223748_subset.pkl\n",
      "|-----> 🎉 Done! [0.0007s]\n"
     ]
    }
   ],
   "source": [
    "pya.data.download_example_data('GSE223748')"
   ]
  },
  {
   "cell_type": "code",
   "execution_count": 31,
   "id": "6e929219-e691-4171-911e-46143ae94898",
   "metadata": {},
   "outputs": [],
   "source": [
    "df = pd.read_pickle('pyaging_data/GSE223748_subset.pkl')"
   ]
  },
  {
   "cell_type": "code",
   "execution_count": 32,
   "id": "03141fc7-f175-4ad3-86ed-22d51db5cadd",
   "metadata": {},
   "outputs": [
    {
     "data": {
      "text/html": [
       "<div>\n",
       "<style scoped>\n",
       "    .dataframe tbody tr th:only-of-type {\n",
       "        vertical-align: middle;\n",
       "    }\n",
       "\n",
       "    .dataframe tbody tr th {\n",
       "        vertical-align: top;\n",
       "    }\n",
       "\n",
       "    .dataframe thead th {\n",
       "        text-align: right;\n",
       "    }\n",
       "</style>\n",
       "<table border=\"1\" class=\"dataframe\">\n",
       "  <thead>\n",
       "    <tr style=\"text-align: right;\">\n",
       "      <th></th>\n",
       "      <th>cg00000165</th>\n",
       "      <th>cg00001209</th>\n",
       "      <th>cg00001364</th>\n",
       "      <th>cg00001582</th>\n",
       "      <th>cg00002920</th>\n",
       "      <th>cg00003994</th>\n",
       "      <th>cg00004555</th>\n",
       "      <th>cg00005112</th>\n",
       "      <th>cg00005271</th>\n",
       "      <th>cg00006213</th>\n",
       "      <th>...</th>\n",
       "      <th>rs7746156_II_F_C_37550</th>\n",
       "      <th>rs798149_II_F_C_37528</th>\n",
       "      <th>rs845016_II_F_C_37529</th>\n",
       "      <th>rs877309_II_F_C_37552</th>\n",
       "      <th>rs9292570_I_F_C_37499</th>\n",
       "      <th>rs9363764_II_F_C_37541</th>\n",
       "      <th>rs939290_II_F_C_37535</th>\n",
       "      <th>rs951295_I_F_C_37507</th>\n",
       "      <th>rs966367_II_F_C_37551</th>\n",
       "      <th>rs9839873_II_F_C_37532</th>\n",
       "    </tr>\n",
       "  </thead>\n",
       "  <tbody>\n",
       "    <tr>\n",
       "      <th>204509080002_R01C02</th>\n",
       "      <td>0.094879</td>\n",
       "      <td>0.916154</td>\n",
       "      <td>0.890314</td>\n",
       "      <td>0.053583</td>\n",
       "      <td>0.490381</td>\n",
       "      <td>0.034852</td>\n",
       "      <td>0.159705</td>\n",
       "      <td>0.763959</td>\n",
       "      <td>0.973245</td>\n",
       "      <td>0.928975</td>\n",
       "      <td>...</td>\n",
       "      <td>0.488592</td>\n",
       "      <td>0.491361</td>\n",
       "      <td>0.480024</td>\n",
       "      <td>0.500000</td>\n",
       "      <td>0.484252</td>\n",
       "      <td>0.489448</td>\n",
       "      <td>0.505585</td>\n",
       "      <td>0.505335</td>\n",
       "      <td>0.485003</td>\n",
       "      <td>0.510081</td>\n",
       "    </tr>\n",
       "    <tr>\n",
       "      <th>202897220142_R04C02</th>\n",
       "      <td>0.497077</td>\n",
       "      <td>0.441263</td>\n",
       "      <td>0.915314</td>\n",
       "      <td>0.047339</td>\n",
       "      <td>0.651029</td>\n",
       "      <td>0.037774</td>\n",
       "      <td>0.082634</td>\n",
       "      <td>0.415800</td>\n",
       "      <td>0.702857</td>\n",
       "      <td>0.821715</td>\n",
       "      <td>...</td>\n",
       "      <td>0.508102</td>\n",
       "      <td>0.500299</td>\n",
       "      <td>0.507261</td>\n",
       "      <td>0.490684</td>\n",
       "      <td>0.499673</td>\n",
       "      <td>0.497256</td>\n",
       "      <td>0.564106</td>\n",
       "      <td>0.482151</td>\n",
       "      <td>0.486667</td>\n",
       "      <td>0.505236</td>\n",
       "    </tr>\n",
       "    <tr>\n",
       "      <th>204529320092_R01C02</th>\n",
       "      <td>0.321141</td>\n",
       "      <td>0.834158</td>\n",
       "      <td>0.881194</td>\n",
       "      <td>0.056124</td>\n",
       "      <td>0.688350</td>\n",
       "      <td>0.030225</td>\n",
       "      <td>0.086776</td>\n",
       "      <td>0.777588</td>\n",
       "      <td>0.974587</td>\n",
       "      <td>0.923934</td>\n",
       "      <td>...</td>\n",
       "      <td>0.520404</td>\n",
       "      <td>0.509568</td>\n",
       "      <td>0.507549</td>\n",
       "      <td>0.501659</td>\n",
       "      <td>0.492823</td>\n",
       "      <td>0.487243</td>\n",
       "      <td>0.516018</td>\n",
       "      <td>0.471244</td>\n",
       "      <td>0.491066</td>\n",
       "      <td>0.491759</td>\n",
       "    </tr>\n",
       "    <tr>\n",
       "      <th>202794570004_R02C01</th>\n",
       "      <td>0.495226</td>\n",
       "      <td>0.924121</td>\n",
       "      <td>0.915812</td>\n",
       "      <td>0.050866</td>\n",
       "      <td>0.688335</td>\n",
       "      <td>0.032344</td>\n",
       "      <td>0.113318</td>\n",
       "      <td>0.872094</td>\n",
       "      <td>0.969189</td>\n",
       "      <td>0.917076</td>\n",
       "      <td>...</td>\n",
       "      <td>0.499314</td>\n",
       "      <td>0.516132</td>\n",
       "      <td>0.487009</td>\n",
       "      <td>0.487146</td>\n",
       "      <td>0.469119</td>\n",
       "      <td>0.495125</td>\n",
       "      <td>0.548238</td>\n",
       "      <td>0.512283</td>\n",
       "      <td>0.514257</td>\n",
       "      <td>0.492520</td>\n",
       "    </tr>\n",
       "    <tr>\n",
       "      <th>203531420070_R05C02</th>\n",
       "      <td>0.183954</td>\n",
       "      <td>0.934332</td>\n",
       "      <td>0.924153</td>\n",
       "      <td>0.055032</td>\n",
       "      <td>0.717495</td>\n",
       "      <td>0.037108</td>\n",
       "      <td>0.098632</td>\n",
       "      <td>0.859614</td>\n",
       "      <td>0.973422</td>\n",
       "      <td>0.963446</td>\n",
       "      <td>...</td>\n",
       "      <td>0.501432</td>\n",
       "      <td>0.509412</td>\n",
       "      <td>0.485055</td>\n",
       "      <td>0.497272</td>\n",
       "      <td>0.480637</td>\n",
       "      <td>0.467502</td>\n",
       "      <td>0.494246</td>\n",
       "      <td>0.500924</td>\n",
       "      <td>0.531334</td>\n",
       "      <td>0.503709</td>\n",
       "    </tr>\n",
       "  </tbody>\n",
       "</table>\n",
       "<p>5 rows × 37554 columns</p>\n",
       "</div>"
      ],
      "text/plain": [
       "                     cg00000165  cg00001209  cg00001364  cg00001582  \\\n",
       "204509080002_R01C02    0.094879    0.916154    0.890314    0.053583   \n",
       "202897220142_R04C02    0.497077    0.441263    0.915314    0.047339   \n",
       "204529320092_R01C02    0.321141    0.834158    0.881194    0.056124   \n",
       "202794570004_R02C01    0.495226    0.924121    0.915812    0.050866   \n",
       "203531420070_R05C02    0.183954    0.934332    0.924153    0.055032   \n",
       "\n",
       "                     cg00002920  cg00003994  cg00004555  cg00005112  \\\n",
       "204509080002_R01C02    0.490381    0.034852    0.159705    0.763959   \n",
       "202897220142_R04C02    0.651029    0.037774    0.082634    0.415800   \n",
       "204529320092_R01C02    0.688350    0.030225    0.086776    0.777588   \n",
       "202794570004_R02C01    0.688335    0.032344    0.113318    0.872094   \n",
       "203531420070_R05C02    0.717495    0.037108    0.098632    0.859614   \n",
       "\n",
       "                     cg00005271  cg00006213  ...  rs7746156_II_F_C_37550  \\\n",
       "204509080002_R01C02    0.973245    0.928975  ...                0.488592   \n",
       "202897220142_R04C02    0.702857    0.821715  ...                0.508102   \n",
       "204529320092_R01C02    0.974587    0.923934  ...                0.520404   \n",
       "202794570004_R02C01    0.969189    0.917076  ...                0.499314   \n",
       "203531420070_R05C02    0.973422    0.963446  ...                0.501432   \n",
       "\n",
       "                     rs798149_II_F_C_37528  rs845016_II_F_C_37529  \\\n",
       "204509080002_R01C02               0.491361               0.480024   \n",
       "202897220142_R04C02               0.500299               0.507261   \n",
       "204529320092_R01C02               0.509568               0.507549   \n",
       "202794570004_R02C01               0.516132               0.487009   \n",
       "203531420070_R05C02               0.509412               0.485055   \n",
       "\n",
       "                     rs877309_II_F_C_37552  rs9292570_I_F_C_37499  \\\n",
       "204509080002_R01C02               0.500000               0.484252   \n",
       "202897220142_R04C02               0.490684               0.499673   \n",
       "204529320092_R01C02               0.501659               0.492823   \n",
       "202794570004_R02C01               0.487146               0.469119   \n",
       "203531420070_R05C02               0.497272               0.480637   \n",
       "\n",
       "                     rs9363764_II_F_C_37541  rs939290_II_F_C_37535  \\\n",
       "204509080002_R01C02                0.489448               0.505585   \n",
       "202897220142_R04C02                0.497256               0.564106   \n",
       "204529320092_R01C02                0.487243               0.516018   \n",
       "202794570004_R02C01                0.495125               0.548238   \n",
       "203531420070_R05C02                0.467502               0.494246   \n",
       "\n",
       "                     rs951295_I_F_C_37507  rs966367_II_F_C_37551  \\\n",
       "204509080002_R01C02              0.505335               0.485003   \n",
       "202897220142_R04C02              0.482151               0.486667   \n",
       "204529320092_R01C02              0.471244               0.491066   \n",
       "202794570004_R02C01              0.512283               0.514257   \n",
       "203531420070_R05C02              0.500924               0.531334   \n",
       "\n",
       "                     rs9839873_II_F_C_37532  \n",
       "204509080002_R01C02                0.510081  \n",
       "202897220142_R04C02                0.505236  \n",
       "204529320092_R01C02                0.491759  \n",
       "202794570004_R02C01                0.492520  \n",
       "203531420070_R05C02                0.503709  \n",
       "\n",
       "[5 rows x 37554 columns]"
      ]
     },
     "execution_count": 32,
     "metadata": {},
     "output_type": "execute_result"
    }
   ],
   "source": [
    "df.head()"
   ]
  },
  {
   "cell_type": "markdown",
   "id": "be02f82e-69b3-4534-88e2-5ee8851f9319",
   "metadata": {},
   "source": [
    "### Convert data to AnnData object"
   ]
  },
  {
   "cell_type": "markdown",
   "id": "3f7ddbab-c020-4a07-a95c-450f6f591e2f",
   "metadata": {},
   "source": [
    "AnnData objects are highly flexible and are thus our preferred method of organizing data for age prediction."
   ]
  },
  {
   "cell_type": "code",
   "execution_count": 33,
   "id": "6437e2df-a1f5-4d66-949c-e0fc706b574b",
   "metadata": {},
   "outputs": [
    {
     "name": "stdout",
     "output_type": "stream",
     "text": [
      "|-----> 🏗️ Starting df_to_adata function\n",
      "|-----> ⚙️ Create anndata object started\n",
      "|-----> ✅ Create anndata object finished [0.0159s]\n",
      "|-----> ⚙️ Add metadata to anndata started\n",
      "|-----------? No metadata provided. Leaving adata.obs empty\n",
      "|-----> ⚠️ Add metadata to anndata finished [0.0006s]\n",
      "|-----> ⚙️ Log data statistics started\n",
      "|-----------> There are 100 observations\n",
      "|-----------> There are 37554 features\n",
      "|-----------> Total missing values: 0\n",
      "|-----------> Percentage of missing values: 0.00%\n",
      "|-----> ✅ Log data statistics finished [0.0040s]\n",
      "|-----> ⚙️ Impute missing values started\n",
      "|-----------> No missing values found. No imputation necessary\n",
      "|-----> ✅ Impute missing values finished [0.0058s]\n",
      "|-----> 🎉 Done! [0.0290s]\n"
     ]
    }
   ],
   "source": [
    "adata = pya.pp.df_to_adata(df, imputer_strategy='mean')"
   ]
  },
  {
   "cell_type": "markdown",
   "id": "36b4dc99-1069-45da-a988-9493de817d99",
   "metadata": {},
   "source": [
    "This is what the `adata` object looks like:"
   ]
  },
  {
   "cell_type": "code",
   "execution_count": 34,
   "id": "e26459d3-276d-4cda-b3bf-a4147c397667",
   "metadata": {},
   "outputs": [
    {
     "data": {
      "text/plain": [
       "AnnData object with n_obs × n_vars = 100 × 37554\n",
       "    var: 'percent_na'\n",
       "    layers: 'X_original'"
      ]
     },
     "execution_count": 34,
     "metadata": {},
     "output_type": "execute_result"
    }
   ],
   "source": [
    "adata"
   ]
  },
  {
   "cell_type": "markdown",
   "id": "cc9c675d-6196-4274-b209-1487656acc9f",
   "metadata": {},
   "source": [
    "### Predict age"
   ]
  },
  {
   "cell_type": "markdown",
   "id": "90eb1122-ce2e-49ec-919b-c47bd85643dc",
   "metadata": {},
   "source": [
    "We can either predict one clock at once or all at the same time. For convenience, let's simply input all four available mammalian clocks at once. The function is invariant to the capitalization of the clock name."
   ]
  },
  {
   "cell_type": "code",
   "execution_count": 35,
   "id": "1e55a74c-4bbf-41a6-bbe3-0faf295ef33c",
   "metadata": {},
   "outputs": [
    {
     "name": "stdout",
     "output_type": "stream",
     "text": [
      "|-----> 🏗️ Starting predict_age function\n",
      "|-----> ⚙️ Set PyTorch device started\n",
      "|-----------> Using device: cpu\n",
      "|-----> ✅ Set PyTorch device finished [0.0006s]\n",
      "|-----> 🕒 Processing clock: mammalian1\n",
      "|-----------> ⚙️ Load clock started\n",
      "|-----------------> Data found in pyaging_data/mammalian1.pt\n",
      "|-----------> ✅ Load clock finished [0.0018s]\n",
      "|-----------> ⚙️ Check features in adata started\n",
      "|-----------------> All features are present in adata.var_names.\n",
      "|-----------> ✅ Check features in adata finished [0.0007s]\n",
      "|-----------> ⚙️ Preprocess data started\n",
      "|-----------------> There is no preprocessing to be done\n",
      "|-----------> ✅ Preprocess data finished [0.0032s]\n",
      "|-----------> ⚙️ Initialize model started\n",
      "|-----------> ✅ Initialize model finished [0.0009s]\n",
      "|-----------> ⚙️ Predict ages with model started\n",
      "|-----------------> in progress: 100.0000%\n",
      "|-----------> ✅ Predict ages with model finished [0.0032s]\n",
      "|-----------> ⚙️ Convert tensor to numpy array started\n",
      "|-----------> ✅ Convert tensor to numpy array finished [0.0003s]\n",
      "|-----------> ⚙️ Postprocess data started\n",
      "|-----------------> Postprocessing data with function anti_logp2\n",
      "|-----------> ✅ Postprocess data finished [0.0008s]\n",
      "|-----------> ⚙️ Add predicted ages and clock metadata to adata started\n",
      "|-----------------> Data found in pyaging_data/all_clock_metadata.pt\n",
      "|-----------> ✅ Add predicted ages and clock metadata to adata finished [0.0014s]\n",
      "|-----------> ⚙️ Return adata to original size started\n",
      "|-----------------> No missing features, so adata size did not change\n",
      "|-----------> ✅ Return adata to original size finished [0.0021s]\n",
      "|-----> 🕒 Processing clock: mammalian2\n",
      "|-----------> ⚙️ Load clock started\n",
      "|-----------------> Data found in pyaging_data/mammalian2.pt\n",
      "|-----------> ✅ Load clock finished [0.0024s]\n",
      "|-----------> ⚙️ Check features in adata started\n",
      "|-----------------> All features are present in adata.var_names.\n",
      "|-----------> ✅ Check features in adata finished [0.0011s]\n",
      "|-----------> ⚙️ Preprocess data started\n",
      "|-----------------> There is no preprocessing to be done\n",
      "|-----------> ✅ Preprocess data finished [0.0039s]\n",
      "|-----------> ⚙️ Initialize model started\n",
      "|-----------> ✅ Initialize model finished [0.0011s]\n",
      "|-----------> ⚙️ Predict ages with model started\n",
      "|-----------------> in progress: 100.0000%\n",
      "|-----------> ✅ Predict ages with model finished [0.0042s]\n",
      "|-----------> ⚙️ Convert tensor to numpy array started\n",
      "|-----------> ✅ Convert tensor to numpy array finished [0.0006s]\n",
      "|-----------> ⚙️ Postprocess data started\n",
      "|-----------------> Postprocessing data with function anti_log_log\n",
      "|-----------> ✅ Postprocess data finished [0.0005s]\n",
      "|-----------> ⚙️ Add predicted ages and clock metadata to adata started\n",
      "|-----------------> Data found in pyaging_data/all_clock_metadata.pt\n",
      "|-----------> ✅ Add predicted ages and clock metadata to adata finished [0.0012s]\n",
      "|-----------> ⚙️ Return adata to original size started\n",
      "|-----------------> No missing features, so adata size did not change\n",
      "|-----------> ✅ Return adata to original size finished [0.0019s]\n",
      "|-----> 🕒 Processing clock: mammalian3\n",
      "|-----------> ⚙️ Load clock started\n",
      "|-----------------> Data found in pyaging_data/mammalian3.pt\n",
      "|-----------> ✅ Load clock finished [0.0022s]\n",
      "|-----------> ⚙️ Check features in adata started\n",
      "|-----------------> All features are present in adata.var_names.\n",
      "|-----------> ✅ Check features in adata finished [0.0011s]\n",
      "|-----------> ⚙️ Preprocess data started\n",
      "|-----------------> There is no preprocessing to be done\n",
      "|-----------> ✅ Preprocess data finished [0.0036s]\n",
      "|-----------> ⚙️ Initialize model started\n",
      "|-----------> ✅ Initialize model finished [0.0012s]\n",
      "|-----------> ⚙️ Predict ages with model started\n",
      "|-----------------> in progress: 100.0000%\n",
      "|-----------> ✅ Predict ages with model finished [0.0040s]\n",
      "|-----------> ⚙️ Convert tensor to numpy array started\n",
      "|-----------> ✅ Convert tensor to numpy array finished [0.0006s]\n",
      "|-----------> ⚙️ Postprocess data started\n",
      "|-----------------> There is no postprocessing to be done\n",
      "|-----------> ✅ Postprocess data finished [0.0006s]\n",
      "|-----------> ⚙️ Add predicted ages and clock metadata to adata started\n",
      "|-----------------> Data found in pyaging_data/all_clock_metadata.pt\n",
      "|-----------> ✅ Add predicted ages and clock metadata to adata finished [0.0020s]\n",
      "|-----------> ⚙️ Return adata to original size started\n",
      "|-----------------> No missing features, so adata size did not change\n",
      "|-----------> ✅ Return adata to original size finished [0.0019s]\n",
      "|-----> 🕒 Processing clock: mammalianlifespan\n",
      "|-----------> ⚙️ Load clock started\n",
      "|-----------------> Data found in pyaging_data/mammalianlifespan.pt\n",
      "|-----------> ✅ Load clock finished [0.0024s]\n",
      "|-----------> ⚙️ Check features in adata started\n",
      "|-----------------> All features are present in adata.var_names.\n",
      "|-----------> ✅ Check features in adata finished [0.0009s]\n",
      "|-----------> ⚙️ Preprocess data started\n",
      "|-----------------> There is no preprocessing to be done\n",
      "|-----------> ✅ Preprocess data finished [0.0036s]\n",
      "|-----------> ⚙️ Initialize model started\n",
      "|-----------> ✅ Initialize model finished [0.0011s]\n",
      "|-----------> ⚙️ Predict ages with model started\n",
      "|-----------------> in progress: 100.0000%\n",
      "|-----------> ✅ Predict ages with model finished [0.0035s]\n",
      "|-----------> ⚙️ Convert tensor to numpy array started\n",
      "|-----------> ✅ Convert tensor to numpy array finished [0.0007s]\n",
      "|-----------> ⚙️ Postprocess data started\n",
      "|-----------------> Postprocessing data with function anti_log\n",
      "|-----------> ✅ Postprocess data finished [0.0009s]\n",
      "|-----------> ⚙️ Add predicted ages and clock metadata to adata started\n",
      "|-----------------> Data found in pyaging_data/all_clock_metadata.pt\n",
      "|-----------> ✅ Add predicted ages and clock metadata to adata finished [0.0027s]\n",
      "|-----------> ⚙️ Return adata to original size started\n",
      "|-----------------> No missing features, so adata size did not change\n",
      "|-----------> ✅ Return adata to original size finished [0.0019s]\n",
      "|-----> 🎉 Done! [0.3116s]\n"
     ]
    }
   ],
   "source": [
    "adata = pya.pred.predict_age(adata, ['Mammalian1', 'Mammalian2', 'Mammalian3', 'MammalianLifespan',])"
   ]
  },
  {
   "cell_type": "markdown",
   "id": "f3a3978e-06b8-4e45-8657-72eae6a555d2",
   "metadata": {},
   "source": [
    "Of note, Mammalian1 is age in units of years, Mammalian2 is the relative age (0 to 1), and Mammalian 3 is the log-linear transformed version of age (in order to get the age in years, one needs to know the \"adult_age\" of the species tested for the inverse transformation)."
   ]
  },
  {
   "cell_type": "code",
   "execution_count": 36,
   "id": "98fbdf4c-57c2-4885-bc4a-96b4771a638b",
   "metadata": {},
   "outputs": [
    {
     "data": {
      "text/html": [
       "<div>\n",
       "<style scoped>\n",
       "    .dataframe tbody tr th:only-of-type {\n",
       "        vertical-align: middle;\n",
       "    }\n",
       "\n",
       "    .dataframe tbody tr th {\n",
       "        vertical-align: top;\n",
       "    }\n",
       "\n",
       "    .dataframe thead th {\n",
       "        text-align: right;\n",
       "    }\n",
       "</style>\n",
       "<table border=\"1\" class=\"dataframe\">\n",
       "  <thead>\n",
       "    <tr style=\"text-align: right;\">\n",
       "      <th></th>\n",
       "      <th>mammalian1</th>\n",
       "      <th>mammalian2</th>\n",
       "      <th>mammalian3</th>\n",
       "      <th>mammalianlifespan</th>\n",
       "    </tr>\n",
       "  </thead>\n",
       "  <tbody>\n",
       "    <tr>\n",
       "      <th>204509080002_R01C02</th>\n",
       "      <td>26.372437</td>\n",
       "      <td>0.313472</td>\n",
       "      <td>0.250647</td>\n",
       "      <td>93.886067</td>\n",
       "    </tr>\n",
       "    <tr>\n",
       "      <th>202897220142_R04C02</th>\n",
       "      <td>1.176586</td>\n",
       "      <td>0.356768</td>\n",
       "      <td>1.384630</td>\n",
       "      <td>6.999176</td>\n",
       "    </tr>\n",
       "    <tr>\n",
       "      <th>204529320092_R01C02</th>\n",
       "      <td>18.776438</td>\n",
       "      <td>0.253814</td>\n",
       "      <td>-0.202204</td>\n",
       "      <td>73.335119</td>\n",
       "    </tr>\n",
       "    <tr>\n",
       "      <th>202794570004_R02C01</th>\n",
       "      <td>0.890973</td>\n",
       "      <td>0.320041</td>\n",
       "      <td>1.136356</td>\n",
       "      <td>5.332615</td>\n",
       "    </tr>\n",
       "    <tr>\n",
       "      <th>203531420070_R05C02</th>\n",
       "      <td>10.371315</td>\n",
       "      <td>0.142494</td>\n",
       "      <td>-0.559290</td>\n",
       "      <td>68.409331</td>\n",
       "    </tr>\n",
       "  </tbody>\n",
       "</table>\n",
       "</div>"
      ],
      "text/plain": [
       "                     mammalian1  mammalian2  mammalian3  mammalianlifespan\n",
       "204509080002_R01C02   26.372437    0.313472    0.250647          93.886067\n",
       "202897220142_R04C02    1.176586    0.356768    1.384630           6.999176\n",
       "204529320092_R01C02   18.776438    0.253814   -0.202204          73.335119\n",
       "202794570004_R02C01    0.890973    0.320041    1.136356           5.332615\n",
       "203531420070_R05C02   10.371315    0.142494   -0.559290          68.409331"
      ]
     },
     "execution_count": 36,
     "metadata": {},
     "output_type": "execute_result"
    }
   ],
   "source": [
    "adata.obs.head()"
   ]
  },
  {
   "cell_type": "markdown",
   "id": "9f6620b4-3a88-4cfd-9f4b-0cbc8047adf9",
   "metadata": {},
   "source": [
    "Having so much information printed can be overwhelming, particularly when running several clocks at once. In such cases, just set verbose to False."
   ]
  },
  {
   "cell_type": "code",
   "execution_count": 37,
   "id": "64035819-8dd0-4917-96ed-55c36ef34a66",
   "metadata": {},
   "outputs": [],
   "source": [
    "pya.data.download_example_data('GSE223748', verbose=False)\n",
    "df = pd.read_pickle('pyaging_data/GSE223748_subset.pkl')\n",
    "adata = pya.preprocess.df_to_adata(df, imputer_strategy='mean', verbose=False)\n",
    "adata = pya.pred.predict_age(adata, ['Mammalian1', 'Mammalian2', 'Mammalian3', 'MammalianLifespan',], verbose=False)"
   ]
  },
  {
   "cell_type": "code",
   "execution_count": 38,
   "id": "9414fe4c-a83a-4ac2-9dbb-a2a9d333af06",
   "metadata": {},
   "outputs": [
    {
     "data": {
      "text/html": [
       "<div>\n",
       "<style scoped>\n",
       "    .dataframe tbody tr th:only-of-type {\n",
       "        vertical-align: middle;\n",
       "    }\n",
       "\n",
       "    .dataframe tbody tr th {\n",
       "        vertical-align: top;\n",
       "    }\n",
       "\n",
       "    .dataframe thead th {\n",
       "        text-align: right;\n",
       "    }\n",
       "</style>\n",
       "<table border=\"1\" class=\"dataframe\">\n",
       "  <thead>\n",
       "    <tr style=\"text-align: right;\">\n",
       "      <th></th>\n",
       "      <th>mammalian1</th>\n",
       "      <th>mammalian2</th>\n",
       "      <th>mammalian3</th>\n",
       "      <th>mammalianlifespan</th>\n",
       "    </tr>\n",
       "  </thead>\n",
       "  <tbody>\n",
       "    <tr>\n",
       "      <th>204509080002_R01C02</th>\n",
       "      <td>26.372437</td>\n",
       "      <td>0.313472</td>\n",
       "      <td>0.250647</td>\n",
       "      <td>93.886067</td>\n",
       "    </tr>\n",
       "    <tr>\n",
       "      <th>202897220142_R04C02</th>\n",
       "      <td>1.176586</td>\n",
       "      <td>0.356768</td>\n",
       "      <td>1.384630</td>\n",
       "      <td>6.999176</td>\n",
       "    </tr>\n",
       "    <tr>\n",
       "      <th>204529320092_R01C02</th>\n",
       "      <td>18.776438</td>\n",
       "      <td>0.253814</td>\n",
       "      <td>-0.202204</td>\n",
       "      <td>73.335119</td>\n",
       "    </tr>\n",
       "    <tr>\n",
       "      <th>202794570004_R02C01</th>\n",
       "      <td>0.890973</td>\n",
       "      <td>0.320041</td>\n",
       "      <td>1.136356</td>\n",
       "      <td>5.332615</td>\n",
       "    </tr>\n",
       "    <tr>\n",
       "      <th>203531420070_R05C02</th>\n",
       "      <td>10.371315</td>\n",
       "      <td>0.142494</td>\n",
       "      <td>-0.559290</td>\n",
       "      <td>68.409331</td>\n",
       "    </tr>\n",
       "  </tbody>\n",
       "</table>\n",
       "</div>"
      ],
      "text/plain": [
       "                     mammalian1  mammalian2  mammalian3  mammalianlifespan\n",
       "204509080002_R01C02   26.372437    0.313472    0.250647          93.886067\n",
       "202897220142_R04C02    1.176586    0.356768    1.384630           6.999176\n",
       "204529320092_R01C02   18.776438    0.253814   -0.202204          73.335119\n",
       "202794570004_R02C01    0.890973    0.320041    1.136356           5.332615\n",
       "203531420070_R05C02   10.371315    0.142494   -0.559290          68.409331"
      ]
     },
     "execution_count": 38,
     "metadata": {},
     "output_type": "execute_result"
    }
   ],
   "source": [
    "adata.obs.head()"
   ]
  },
  {
   "cell_type": "markdown",
   "id": "b5d3a683-2ff4-436b-9a90-34a138a98a14",
   "metadata": {},
   "source": [
    "After age prediction, the clocks are added to `adata.obs`. Moreover, the percent of missing values for each clock and other metadata are included in `adata.uns`."
   ]
  },
  {
   "cell_type": "code",
   "execution_count": 39,
   "id": "0d069189-1750-42f6-89d9-73039dd07a00",
   "metadata": {},
   "outputs": [
    {
     "data": {
      "text/plain": [
       "AnnData object with n_obs × n_vars = 100 × 37554\n",
       "    obs: 'mammalian1', 'mammalian2', 'mammalian3', 'mammalianlifespan'\n",
       "    var: 'percent_na'\n",
       "    uns: 'mammalian1_percent_na', 'mammalian1_metadata', 'mammalian2_percent_na', 'mammalian2_metadata', 'mammalian3_percent_na', 'mammalian3_metadata', 'mammalianlifespan_percent_na', 'mammalianlifespan_metadata'\n",
       "    layers: 'X_original'"
      ]
     },
     "execution_count": 39,
     "metadata": {},
     "output_type": "execute_result"
    }
   ],
   "source": [
    "adata"
   ]
  },
  {
   "cell_type": "markdown",
   "id": "61ad69dd-9e91-447a-80f9-95647a19a082",
   "metadata": {},
   "source": [
    "### Get citation"
   ]
  },
  {
   "cell_type": "markdown",
   "id": "f2fd36d5-c059-4680-b300-f8e9344186cd",
   "metadata": {},
   "source": [
    "The doi, citation, and some metadata are automatically added to the AnnData object under `adata.uns[CLOCKNAME_metadata]`."
   ]
  },
  {
   "cell_type": "code",
   "execution_count": 40,
   "id": "300b40ad-68e7-49b3-a7f8-66c64436c80f",
   "metadata": {},
   "outputs": [
    {
     "data": {
      "text/plain": [
       "{'species': 'multi',\n",
       " 'data_type': 'methylation',\n",
       " 'year': 2023,\n",
       " 'preprocessing': None,\n",
       " 'postprocessing': 'anti_logp2',\n",
       " 'citation': 'Lu, A. T., et al. \"Universal DNA methylation age across mammalian tissues.\" Nature aging 3.9 (2023): 1144-1166.',\n",
       " 'doi': 'https://doi.org/10.1038/s43587-023-00462-6',\n",
       " 'notes': 'This is the DNAm age predictor from the paper in which there is no adjustment for species',\n",
       " 'implementation_approved_by_author(s)': '⌛'}"
      ]
     },
     "execution_count": 40,
     "metadata": {},
     "output_type": "execute_result"
    }
   ],
   "source": [
    "adata.uns['mammalian1_metadata']"
   ]
  },
  {
   "cell_type": "code",
   "execution_count": 41,
   "id": "b5938124-ac4b-4bed-9285-e0a84bf0afe0",
   "metadata": {},
   "outputs": [
    {
     "data": {
      "text/plain": [
       "{'species': 'multi',\n",
       " 'data_type': 'methylation',\n",
       " 'year': 2023,\n",
       " 'preprocessing': None,\n",
       " 'postprocessing': 'anti_log',\n",
       " 'citation': 'Li, Caesar Z., et al. \"Epigenetic predictors of species maximum lifespan and other life history traits in mammals.\" bioRxiv (2023): 2023-11.',\n",
       " 'doi': 'https://doi.org/10.1101/2023.11.02.565286',\n",
       " 'notes': 'This is still a preprint, so the model might change',\n",
       " 'implementation_approved_by_author(s)': '⌛'}"
      ]
     },
     "execution_count": 41,
     "metadata": {},
     "output_type": "execute_result"
    }
   ],
   "source": [
    "adata.uns['mammalianlifespan_metadata']"
   ]
  }
 ],
 "metadata": {
  "kernelspec": {
   "display_name": "Python 3",
   "language": "python",
   "name": "python3"
  },
  "language_info": {
   "codemirror_mode": {
    "name": "ipython",
    "version": 3
   },
   "file_extension": ".py",
   "mimetype": "text/x-python",
   "name": "python",
   "nbconvert_exporter": "python",
   "pygments_lexer": "ipython3",
   "version": "3.9.17"
  }
 },
 "nbformat": 4,
 "nbformat_minor": 5
}

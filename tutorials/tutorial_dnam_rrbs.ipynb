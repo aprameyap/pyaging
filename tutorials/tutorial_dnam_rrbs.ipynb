{
 "cells": [
  {
   "cell_type": "markdown",
   "id": "4e690b3c-4dec-450e-a7f8-f63987e60cdb",
   "metadata": {},
   "source": [
    "[![Open In Colab](https://colab.research.google.com/assets/colab-badge.svg)](https://colab.research.google.com/github/rsinghlab/pyaging/blob/main/tutorials/tutorial_dnam.ipynb) [![Open In nbviewer](https://img.shields.io/badge/View%20in-nbviewer-orange)](https://nbviewer.jupyter.org/github/rsinghlab/pyaging/blob/main/tutorials/tutorial_dnam.ipynb)"
   ]
  },
  {
   "cell_type": "markdown",
   "id": "62e1ac68-927d-4ca8-a2ab-bd99a7ee52ab",
   "metadata": {},
   "source": [
    "# RRBS DNA methylation"
   ]
  },
  {
   "cell_type": "markdown",
   "id": "9552602a-777c-42a5-900a-41c85096c3d8",
   "metadata": {},
   "source": [
    "This tutorial focuses on predicting age from Mus musculus reduced-representation bisulfite sequencing (RRBS) data. There are a few clocks available that were trained on RRBS data. Moreover, it is possible to use Horvath's mammalian clocks by converting the genomic location to the probes in the Horvath methylation array."
   ]
  },
  {
   "cell_type": "code",
   "execution_count": 1,
   "id": "dc347ae0-41ae-46ac-ba50-08cacd4c9241",
   "metadata": {},
   "outputs": [],
   "source": [
    "import pandas as pd\n",
    "import pyaging as pya\n",
    "import os\n",
    "import numpy as np"
   ]
  },
  {
   "cell_type": "markdown",
   "id": "5e620ab9-4837-4a7a-83f1-726be9c9f7bf",
   "metadata": {},
   "source": [
    "## Download and load example data"
   ]
  },
  {
   "cell_type": "markdown",
   "id": "5ff79235-46fb-4c59-a629-1f479f9f13a3",
   "metadata": {},
   "source": [
    "Let's download the publicly available dataset GSE130735 with RRBS samples from mouse. Given it is RRBS, there are millions of CpG sites."
   ]
  },
  {
   "cell_type": "code",
   "execution_count": 2,
   "id": "148f7ae7-8a5d-4fd2-a159-e3b8e576bbce",
   "metadata": {},
   "outputs": [
    {
     "name": "stdout",
     "output_type": "stream",
     "text": [
      "|-----> 🏗️ Starting download_example_data function\n",
      "|-----------> Data found in pyaging_data/GSE130735_subset.pkl\n",
      "|-----> 🎉 Done! [0.5066s]\n"
     ]
    },
    {
     "name": "stdout",
     "output_type": "stream",
     "text": [
      "\r",
      "|-----------> in progress: 1.0022%"
     ]
    },
    {
     "name": "stdout",
     "output_type": "stream",
     "text": [
      "\r",
      "|-----------> in progress: 2.0043%"
     ]
    },
    {
     "name": "stdout",
     "output_type": "stream",
     "text": [
      "\r",
      "|-----------> in progress: 3.0065%"
     ]
    },
    {
     "name": "stdout",
     "output_type": "stream",
     "text": [
      "\r",
      "|-----------> in progress: 4.0086%"
     ]
    },
    {
     "name": "stdout",
     "output_type": "stream",
     "text": [
      "\r",
      "|-----------> in progress: 5.0108%"
     ]
    },
    {
     "name": "stdout",
     "output_type": "stream",
     "text": [
      "\r",
      "|-----------> in progress: 6.0130%"
     ]
    },
    {
     "name": "stdout",
     "output_type": "stream",
     "text": [
      "\r",
      "|-----------> in progress: 7.0151%"
     ]
    },
    {
     "name": "stdout",
     "output_type": "stream",
     "text": [
      "\r",
      "|-----------> in progress: 8.0173%"
     ]
    },
    {
     "name": "stdout",
     "output_type": "stream",
     "text": [
      "\r",
      "|-----------> in progress: 9.0194%"
     ]
    },
    {
     "name": "stdout",
     "output_type": "stream",
     "text": [
      "\r",
      "|-----------> in progress: 10.0216%"
     ]
    },
    {
     "name": "stdout",
     "output_type": "stream",
     "text": [
      "\r",
      "|-----------> in progress: 11.0237%"
     ]
    },
    {
     "name": "stdout",
     "output_type": "stream",
     "text": [
      "\r",
      "|-----------> in progress: 12.0259%"
     ]
    },
    {
     "name": "stdout",
     "output_type": "stream",
     "text": [
      "\r",
      "|-----------> in progress: 13.0281%"
     ]
    },
    {
     "name": "stdout",
     "output_type": "stream",
     "text": [
      "\r",
      "|-----------> in progress: 14.0302%"
     ]
    },
    {
     "name": "stdout",
     "output_type": "stream",
     "text": [
      "\r",
      "|-----------> in progress: 15.0324%"
     ]
    },
    {
     "name": "stdout",
     "output_type": "stream",
     "text": [
      "\r",
      "|-----------> in progress: 16.0345%"
     ]
    },
    {
     "name": "stdout",
     "output_type": "stream",
     "text": [
      "\r",
      "|-----------> in progress: 17.0367%"
     ]
    },
    {
     "name": "stdout",
     "output_type": "stream",
     "text": [
      "\r",
      "|-----------> in progress: 18.0389%"
     ]
    },
    {
     "name": "stdout",
     "output_type": "stream",
     "text": [
      "\r",
      "|-----------> in progress: 19.0410%"
     ]
    },
    {
     "name": "stdout",
     "output_type": "stream",
     "text": [
      "\r",
      "|-----------> in progress: 20.0432%"
     ]
    },
    {
     "name": "stdout",
     "output_type": "stream",
     "text": [
      "\r",
      "|-----------> in progress: 21.0453%"
     ]
    },
    {
     "name": "stdout",
     "output_type": "stream",
     "text": [
      "\r",
      "|-----------> in progress: 22.0475%"
     ]
    },
    {
     "name": "stdout",
     "output_type": "stream",
     "text": [
      "\r",
      "|-----------> in progress: 23.0496%"
     ]
    },
    {
     "name": "stdout",
     "output_type": "stream",
     "text": [
      "\r",
      "|-----------> in progress: 24.0518%"
     ]
    },
    {
     "name": "stdout",
     "output_type": "stream",
     "text": [
      "\r",
      "|-----------> in progress: 25.0540%"
     ]
    },
    {
     "name": "stdout",
     "output_type": "stream",
     "text": [
      "\r",
      "|-----------> in progress: 26.0561%"
     ]
    },
    {
     "name": "stdout",
     "output_type": "stream",
     "text": [
      "\r",
      "|-----------> in progress: 27.0583%"
     ]
    },
    {
     "name": "stdout",
     "output_type": "stream",
     "text": [
      "\r",
      "|-----------> in progress: 28.0604%"
     ]
    },
    {
     "name": "stdout",
     "output_type": "stream",
     "text": [
      "\r",
      "|-----------> in progress: 29.0626%"
     ]
    },
    {
     "name": "stdout",
     "output_type": "stream",
     "text": [
      "\r",
      "|-----------> in progress: 30.0648%"
     ]
    },
    {
     "name": "stdout",
     "output_type": "stream",
     "text": [
      "\r",
      "|-----------> in progress: 31.0669%"
     ]
    },
    {
     "name": "stdout",
     "output_type": "stream",
     "text": [
      "\r",
      "|-----------> in progress: 32.0691%"
     ]
    },
    {
     "name": "stdout",
     "output_type": "stream",
     "text": [
      "\r",
      "|-----------> in progress: 33.0712%"
     ]
    },
    {
     "name": "stdout",
     "output_type": "stream",
     "text": [
      "\r",
      "|-----------> in progress: 34.0734%"
     ]
    },
    {
     "name": "stdout",
     "output_type": "stream",
     "text": [
      "\r",
      "|-----------> in progress: 35.0755%"
     ]
    },
    {
     "name": "stdout",
     "output_type": "stream",
     "text": [
      "\r",
      "|-----------> in progress: 36.0777%"
     ]
    },
    {
     "name": "stdout",
     "output_type": "stream",
     "text": [
      "\r",
      "|-----------> in progress: 37.0799%"
     ]
    },
    {
     "name": "stdout",
     "output_type": "stream",
     "text": [
      "\r",
      "|-----------> in progress: 38.0820%"
     ]
    },
    {
     "name": "stdout",
     "output_type": "stream",
     "text": [
      "\r",
      "|-----------> in progress: 39.0842%"
     ]
    },
    {
     "name": "stdout",
     "output_type": "stream",
     "text": [
      "\r",
      "|-----------> in progress: 40.0863%"
     ]
    },
    {
     "name": "stdout",
     "output_type": "stream",
     "text": [
      "\r",
      "|-----------> in progress: 41.0885%"
     ]
    },
    {
     "name": "stdout",
     "output_type": "stream",
     "text": [
      "\r",
      "|-----------> in progress: 42.0907%"
     ]
    },
    {
     "name": "stdout",
     "output_type": "stream",
     "text": [
      "\r",
      "|-----------> in progress: 43.0928%"
     ]
    },
    {
     "name": "stdout",
     "output_type": "stream",
     "text": [
      "\r",
      "|-----------> in progress: 44.0950%"
     ]
    },
    {
     "name": "stdout",
     "output_type": "stream",
     "text": [
      "\r",
      "|-----------> in progress: 45.0971%"
     ]
    },
    {
     "name": "stdout",
     "output_type": "stream",
     "text": [
      "\r",
      "|-----------> in progress: 46.0993%"
     ]
    },
    {
     "name": "stdout",
     "output_type": "stream",
     "text": [
      "\r",
      "|-----------> in progress: 47.1014%"
     ]
    },
    {
     "name": "stdout",
     "output_type": "stream",
     "text": [
      "\r",
      "|-----------> in progress: 48.1036%"
     ]
    },
    {
     "name": "stdout",
     "output_type": "stream",
     "text": [
      "\r",
      "|-----------> in progress: 49.1058%"
     ]
    },
    {
     "name": "stdout",
     "output_type": "stream",
     "text": [
      "\r",
      "|-----------> in progress: 50.1079%"
     ]
    },
    {
     "name": "stdout",
     "output_type": "stream",
     "text": [
      "\r",
      "|-----------> in progress: 51.1101%"
     ]
    },
    {
     "name": "stdout",
     "output_type": "stream",
     "text": [
      "\r",
      "|-----------> in progress: 52.1122%"
     ]
    },
    {
     "name": "stdout",
     "output_type": "stream",
     "text": [
      "\r",
      "|-----------> in progress: 53.1144%"
     ]
    },
    {
     "name": "stdout",
     "output_type": "stream",
     "text": [
      "\r",
      "|-----------> in progress: 54.1166%"
     ]
    },
    {
     "name": "stdout",
     "output_type": "stream",
     "text": [
      "\r",
      "|-----------> in progress: 55.1187%"
     ]
    },
    {
     "name": "stdout",
     "output_type": "stream",
     "text": [
      "\r",
      "|-----------> in progress: 56.1209%"
     ]
    },
    {
     "name": "stdout",
     "output_type": "stream",
     "text": [
      "\r",
      "|-----------> in progress: 57.1230%"
     ]
    },
    {
     "name": "stdout",
     "output_type": "stream",
     "text": [
      "\r",
      "|-----------> in progress: 58.1252%"
     ]
    },
    {
     "name": "stdout",
     "output_type": "stream",
     "text": [
      "\r",
      "|-----------> in progress: 59.1273%"
     ]
    },
    {
     "name": "stdout",
     "output_type": "stream",
     "text": [
      "\r",
      "|-----------> in progress: 60.1295%"
     ]
    },
    {
     "name": "stdout",
     "output_type": "stream",
     "text": [
      "\r",
      "|-----------> in progress: 61.1317%"
     ]
    },
    {
     "name": "stdout",
     "output_type": "stream",
     "text": [
      "\r",
      "|-----------> in progress: 62.1338%"
     ]
    },
    {
     "name": "stdout",
     "output_type": "stream",
     "text": [
      "\r",
      "|-----------> in progress: 63.1360%"
     ]
    },
    {
     "name": "stdout",
     "output_type": "stream",
     "text": [
      "\r",
      "|-----------> in progress: 64.1381%"
     ]
    },
    {
     "name": "stdout",
     "output_type": "stream",
     "text": [
      "\r",
      "|-----------> in progress: 65.1403%"
     ]
    },
    {
     "name": "stdout",
     "output_type": "stream",
     "text": [
      "\r",
      "|-----------> in progress: 66.1425%"
     ]
    },
    {
     "name": "stdout",
     "output_type": "stream",
     "text": [
      "\r",
      "|-----------> in progress: 67.1446%"
     ]
    },
    {
     "name": "stdout",
     "output_type": "stream",
     "text": [
      "\r",
      "|-----------> in progress: 68.1468%"
     ]
    },
    {
     "name": "stdout",
     "output_type": "stream",
     "text": [
      "\r",
      "|-----------> in progress: 69.1489%"
     ]
    },
    {
     "name": "stdout",
     "output_type": "stream",
     "text": [
      "\r",
      "|-----------> in progress: 70.1511%"
     ]
    },
    {
     "name": "stdout",
     "output_type": "stream",
     "text": [
      "\r",
      "|-----------> in progress: 71.1532%"
     ]
    },
    {
     "name": "stdout",
     "output_type": "stream",
     "text": [
      "\r",
      "|-----------> in progress: 72.1554%"
     ]
    },
    {
     "name": "stdout",
     "output_type": "stream",
     "text": [
      "\r",
      "|-----------> in progress: 73.1576%"
     ]
    },
    {
     "name": "stdout",
     "output_type": "stream",
     "text": [
      "\r",
      "|-----------> in progress: 74.1597%"
     ]
    },
    {
     "name": "stdout",
     "output_type": "stream",
     "text": [
      "\r",
      "|-----------> in progress: 75.1619%"
     ]
    },
    {
     "name": "stdout",
     "output_type": "stream",
     "text": [
      "\r",
      "|-----------> in progress: 76.1640%"
     ]
    },
    {
     "name": "stdout",
     "output_type": "stream",
     "text": [
      "\r",
      "|-----------> in progress: 77.1662%"
     ]
    },
    {
     "name": "stdout",
     "output_type": "stream",
     "text": [
      "\r",
      "|-----------> in progress: 78.1684%"
     ]
    },
    {
     "name": "stdout",
     "output_type": "stream",
     "text": [
      "\r",
      "|-----------> in progress: 79.1705%"
     ]
    },
    {
     "name": "stdout",
     "output_type": "stream",
     "text": [
      "\r",
      "|-----------> in progress: 80.1727%"
     ]
    },
    {
     "name": "stdout",
     "output_type": "stream",
     "text": [
      "\r",
      "|-----------> in progress: 81.1748%"
     ]
    },
    {
     "name": "stdout",
     "output_type": "stream",
     "text": [
      "\r",
      "|-----------> in progress: 82.1770%"
     ]
    },
    {
     "name": "stdout",
     "output_type": "stream",
     "text": [
      "\r",
      "|-----------> in progress: 83.1791%"
     ]
    },
    {
     "name": "stdout",
     "output_type": "stream",
     "text": [
      "\r",
      "|-----------> in progress: 84.1813%"
     ]
    },
    {
     "name": "stdout",
     "output_type": "stream",
     "text": [
      "\r",
      "|-----------> in progress: 85.1835%"
     ]
    },
    {
     "name": "stdout",
     "output_type": "stream",
     "text": [
      "\r",
      "|-----------> in progress: 86.1856%"
     ]
    },
    {
     "name": "stdout",
     "output_type": "stream",
     "text": [
      "\r",
      "|-----------> in progress: 87.1878%"
     ]
    },
    {
     "name": "stdout",
     "output_type": "stream",
     "text": [
      "\r",
      "|-----------> in progress: 88.1899%"
     ]
    },
    {
     "name": "stdout",
     "output_type": "stream",
     "text": [
      "\r",
      "|-----------> in progress: 89.1921%"
     ]
    },
    {
     "name": "stdout",
     "output_type": "stream",
     "text": [
      "\r",
      "|-----------> in progress: 90.1943%"
     ]
    },
    {
     "name": "stdout",
     "output_type": "stream",
     "text": [
      "\r",
      "|-----------> in progress: 91.1964%"
     ]
    },
    {
     "name": "stdout",
     "output_type": "stream",
     "text": [
      "\r",
      "|-----------> in progress: 92.1986%"
     ]
    },
    {
     "name": "stdout",
     "output_type": "stream",
     "text": [
      "\r",
      "|-----------> in progress: 93.2007%"
     ]
    },
    {
     "name": "stdout",
     "output_type": "stream",
     "text": [
      "\r",
      "|-----------> in progress: 94.2029%"
     ]
    },
    {
     "name": "stdout",
     "output_type": "stream",
     "text": [
      "\r",
      "|-----------> in progress: 95.2050%"
     ]
    },
    {
     "name": "stdout",
     "output_type": "stream",
     "text": [
      "\r",
      "|-----------> in progress: 96.2072%"
     ]
    },
    {
     "name": "stdout",
     "output_type": "stream",
     "text": [
      "\r",
      "|-----------> in progress: 97.2094%"
     ]
    },
    {
     "name": "stdout",
     "output_type": "stream",
     "text": [
      "\r",
      "|-----------> in progress: 98.2115%"
     ]
    },
    {
     "name": "stdout",
     "output_type": "stream",
     "text": [
      "\r",
      "|-----------> in progress: 99.2137%"
     ]
    },
    {
     "name": "stdout",
     "output_type": "stream",
     "text": [
      "\r",
      "|-----------> in progress: 100.0000%\n"
     ]
    },
    {
     "name": "stdout",
     "output_type": "stream",
     "text": [
      "|-----> 🎉 Done! [42.4343s]\n"
     ]
    }
   ],
   "source": [
    "pya.data.download_example_data('GSE130735')"
   ]
  },
  {
   "cell_type": "code",
   "execution_count": 3,
   "id": "2a6fcd90-8ded-40d5-a606-e32e21816ebf",
   "metadata": {},
   "outputs": [],
   "source": [
    "df = pd.read_pickle('pyaging_data/GSE130735_subset.pkl')"
   ]
  },
  {
   "cell_type": "markdown",
   "id": "df8ea1a3-313f-42bc-aeef-ec5349975b80",
   "metadata": {},
   "source": [
    "It is important to note that the features for RRBS clocks are the genomic coordinates in the format below."
   ]
  },
  {
   "cell_type": "code",
   "execution_count": 4,
   "id": "c4d8245b-8d04-4ae0-945d-3aed4956a3bb",
   "metadata": {},
   "outputs": [
    {
     "data": {
      "text/html": [
       "<div>\n",
       "<style scoped>\n",
       "    .dataframe tbody tr th:only-of-type {\n",
       "        vertical-align: middle;\n",
       "    }\n",
       "\n",
       "    .dataframe tbody tr th {\n",
       "        vertical-align: top;\n",
       "    }\n",
       "\n",
       "    .dataframe thead th {\n",
       "        text-align: right;\n",
       "    }\n",
       "</style>\n",
       "<table border=\"1\" class=\"dataframe\">\n",
       "  <thead>\n",
       "    <tr style=\"text-align: right;\">\n",
       "      <th></th>\n",
       "      <th>chr1:3020814</th>\n",
       "      <th>chr1:3020842</th>\n",
       "      <th>chr1:3020877</th>\n",
       "      <th>chr1:3020891</th>\n",
       "      <th>chr1:3020945</th>\n",
       "      <th>chr1:3020971</th>\n",
       "      <th>chr1:3020987</th>\n",
       "      <th>chr1:3021012</th>\n",
       "      <th>chr1:3037802</th>\n",
       "      <th>chr1:3037820</th>\n",
       "      <th>...</th>\n",
       "      <th>chrY:1825397</th>\n",
       "      <th>chrY:4682362</th>\n",
       "      <th>chrY:32122892</th>\n",
       "      <th>chrY:85867071</th>\n",
       "      <th>chrY:85867083</th>\n",
       "      <th>chrY:85867117</th>\n",
       "      <th>chrY:85867137</th>\n",
       "      <th>chrY:85867139</th>\n",
       "      <th>chrY:85867178</th>\n",
       "      <th>chrY:88224179</th>\n",
       "    </tr>\n",
       "  </thead>\n",
       "  <tbody>\n",
       "    <tr>\n",
       "      <th>GSM3752631</th>\n",
       "      <td>0.609</td>\n",
       "      <td>0.25</td>\n",
       "      <td>0.408</td>\n",
       "      <td>0.189</td>\n",
       "      <td>0.068</td>\n",
       "      <td>0.373</td>\n",
       "      <td>0.571</td>\n",
       "      <td>0.252</td>\n",
       "      <td>0.333</td>\n",
       "      <td>0.158</td>\n",
       "      <td>...</td>\n",
       "      <td>NaN</td>\n",
       "      <td>NaN</td>\n",
       "      <td>NaN</td>\n",
       "      <td>NaN</td>\n",
       "      <td>NaN</td>\n",
       "      <td>NaN</td>\n",
       "      <td>NaN</td>\n",
       "      <td>NaN</td>\n",
       "      <td>NaN</td>\n",
       "      <td>NaN</td>\n",
       "    </tr>\n",
       "    <tr>\n",
       "      <th>GSM3752625</th>\n",
       "      <td>NaN</td>\n",
       "      <td>NaN</td>\n",
       "      <td>0.973</td>\n",
       "      <td>0.984</td>\n",
       "      <td>0.912</td>\n",
       "      <td>0.915</td>\n",
       "      <td>0.987</td>\n",
       "      <td>0.974</td>\n",
       "      <td>0.991</td>\n",
       "      <td>0.932</td>\n",
       "      <td>...</td>\n",
       "      <td>NaN</td>\n",
       "      <td>NaN</td>\n",
       "      <td>NaN</td>\n",
       "      <td>NaN</td>\n",
       "      <td>NaN</td>\n",
       "      <td>NaN</td>\n",
       "      <td>NaN</td>\n",
       "      <td>NaN</td>\n",
       "      <td>NaN</td>\n",
       "      <td>NaN</td>\n",
       "    </tr>\n",
       "    <tr>\n",
       "      <th>GSM3752634</th>\n",
       "      <td>NaN</td>\n",
       "      <td>NaN</td>\n",
       "      <td>0.526</td>\n",
       "      <td>0.131</td>\n",
       "      <td>0.000</td>\n",
       "      <td>0.038</td>\n",
       "      <td>0.469</td>\n",
       "      <td>0.769</td>\n",
       "      <td>0.772</td>\n",
       "      <td>0.146</td>\n",
       "      <td>...</td>\n",
       "      <td>NaN</td>\n",
       "      <td>NaN</td>\n",
       "      <td>NaN</td>\n",
       "      <td>NaN</td>\n",
       "      <td>NaN</td>\n",
       "      <td>NaN</td>\n",
       "      <td>NaN</td>\n",
       "      <td>NaN</td>\n",
       "      <td>NaN</td>\n",
       "      <td>NaN</td>\n",
       "    </tr>\n",
       "    <tr>\n",
       "      <th>GSM3752620</th>\n",
       "      <td>0.931</td>\n",
       "      <td>0.92</td>\n",
       "      <td>0.988</td>\n",
       "      <td>0.949</td>\n",
       "      <td>0.897</td>\n",
       "      <td>0.921</td>\n",
       "      <td>0.907</td>\n",
       "      <td>0.958</td>\n",
       "      <td>1.000</td>\n",
       "      <td>0.867</td>\n",
       "      <td>...</td>\n",
       "      <td>NaN</td>\n",
       "      <td>NaN</td>\n",
       "      <td>NaN</td>\n",
       "      <td>NaN</td>\n",
       "      <td>NaN</td>\n",
       "      <td>NaN</td>\n",
       "      <td>NaN</td>\n",
       "      <td>NaN</td>\n",
       "      <td>NaN</td>\n",
       "      <td>NaN</td>\n",
       "    </tr>\n",
       "    <tr>\n",
       "      <th>GSM3752622</th>\n",
       "      <td>NaN</td>\n",
       "      <td>NaN</td>\n",
       "      <td>0.205</td>\n",
       "      <td>0.382</td>\n",
       "      <td>0.091</td>\n",
       "      <td>0.132</td>\n",
       "      <td>0.174</td>\n",
       "      <td>0.227</td>\n",
       "      <td>0.108</td>\n",
       "      <td>0.053</td>\n",
       "      <td>...</td>\n",
       "      <td>NaN</td>\n",
       "      <td>NaN</td>\n",
       "      <td>NaN</td>\n",
       "      <td>NaN</td>\n",
       "      <td>NaN</td>\n",
       "      <td>NaN</td>\n",
       "      <td>NaN</td>\n",
       "      <td>NaN</td>\n",
       "      <td>NaN</td>\n",
       "      <td>NaN</td>\n",
       "    </tr>\n",
       "  </tbody>\n",
       "</table>\n",
       "<p>5 rows × 1778324 columns</p>\n",
       "</div>"
      ],
      "text/plain": [
       "            chr1:3020814  chr1:3020842  chr1:3020877  chr1:3020891  \\\n",
       "GSM3752631         0.609          0.25         0.408         0.189   \n",
       "GSM3752625           NaN           NaN         0.973         0.984   \n",
       "GSM3752634           NaN           NaN         0.526         0.131   \n",
       "GSM3752620         0.931          0.92         0.988         0.949   \n",
       "GSM3752622           NaN           NaN         0.205         0.382   \n",
       "\n",
       "            chr1:3020945  chr1:3020971  chr1:3020987  chr1:3021012  \\\n",
       "GSM3752631         0.068         0.373         0.571         0.252   \n",
       "GSM3752625         0.912         0.915         0.987         0.974   \n",
       "GSM3752634         0.000         0.038         0.469         0.769   \n",
       "GSM3752620         0.897         0.921         0.907         0.958   \n",
       "GSM3752622         0.091         0.132         0.174         0.227   \n",
       "\n",
       "            chr1:3037802  chr1:3037820  ...  chrY:1825397  chrY:4682362  \\\n",
       "GSM3752631         0.333         0.158  ...           NaN           NaN   \n",
       "GSM3752625         0.991         0.932  ...           NaN           NaN   \n",
       "GSM3752634         0.772         0.146  ...           NaN           NaN   \n",
       "GSM3752620         1.000         0.867  ...           NaN           NaN   \n",
       "GSM3752622         0.108         0.053  ...           NaN           NaN   \n",
       "\n",
       "            chrY:32122892  chrY:85867071  chrY:85867083  chrY:85867117  \\\n",
       "GSM3752631            NaN            NaN            NaN            NaN   \n",
       "GSM3752625            NaN            NaN            NaN            NaN   \n",
       "GSM3752634            NaN            NaN            NaN            NaN   \n",
       "GSM3752620            NaN            NaN            NaN            NaN   \n",
       "GSM3752622            NaN            NaN            NaN            NaN   \n",
       "\n",
       "            chrY:85867137  chrY:85867139  chrY:85867178  chrY:88224179  \n",
       "GSM3752631            NaN            NaN            NaN            NaN  \n",
       "GSM3752625            NaN            NaN            NaN            NaN  \n",
       "GSM3752634            NaN            NaN            NaN            NaN  \n",
       "GSM3752620            NaN            NaN            NaN            NaN  \n",
       "GSM3752622            NaN            NaN            NaN            NaN  \n",
       "\n",
       "[5 rows x 1778324 columns]"
      ]
     },
     "execution_count": 4,
     "metadata": {},
     "output_type": "execute_result"
    }
   ],
   "source": [
    "df.head()"
   ]
  },
  {
   "cell_type": "markdown",
   "id": "ea7c44d7-73c3-4cd7-844d-bab34aa2dcee",
   "metadata": {},
   "source": [
    "## Convert data to AnnData object"
   ]
  },
  {
   "cell_type": "markdown",
   "id": "04f2758f-fb8c-4a52-983a-29ec826dba6c",
   "metadata": {},
   "source": [
    "AnnData objects are highly flexible and are thus our preferred method of organizing data for age prediction."
   ]
  },
  {
   "cell_type": "code",
   "execution_count": 5,
   "id": "c261c2dc-8245-47d7-82d8-7731f7c94f1e",
   "metadata": {},
   "outputs": [
    {
     "name": "stdout",
     "output_type": "stream",
     "text": [
      "|-----> 🏗️ Starting df_to_adata function\n",
      "|-----> ⚙️ Create anndata object started\n",
      "|-----> ✅ Create anndata object finished [3.8270s]\n",
      "|-----> ⚙️ Add metadata to anndata started\n",
      "|-----------? No metadata provided. Leaving adata.obs empty\n",
      "|-----> ⚠️ Add metadata to anndata finished [0.0012s]\n",
      "|-----> ⚙️ Log data statistics started\n",
      "|-----------> There are 14 observations\n",
      "|-----------> There are 1778324 features\n",
      "|-----------> Total missing values: 6322346\n",
      "|-----------> Percentage of missing values: 25.39%\n",
      "|-----> ✅ Log data statistics finished [0.0586s]\n",
      "|-----> ⚙️ Impute missing values started\n",
      "|-----------> Imputing missing values using mean strategy\n",
      "|-----> ✅ Impute missing values finished [1.3584s]\n",
      "|-----> ⚙️ Add imputer strategy to adata.uns started\n",
      "|-----> ✅ Add imputer strategy to adata.uns finished [0.0006s]\n",
      "|-----> 🎉 Done! [5.2660s]\n"
     ]
    },
    {
     "name": "stdout",
     "output_type": "stream",
     "text": [
      "|-----> ✅ Create anndata object finished [0.9810s]\n"
     ]
    },
    {
     "name": "stdout",
     "output_type": "stream",
     "text": [
      "|-----> ⚙️ Add metadata to anndata started\n"
     ]
    },
    {
     "name": "stdout",
     "output_type": "stream",
     "text": [
      "|-----------? No metadata provided. Leaving adata.obs empty\n"
     ]
    },
    {
     "name": "stdout",
     "output_type": "stream",
     "text": [
      "|-----> ⚠️ Add metadata to anndata finished [0.0005s]\n"
     ]
    },
    {
     "name": "stdout",
     "output_type": "stream",
     "text": [
      "|-----> ⚙️ Log data statistics started\n"
     ]
    },
    {
     "name": "stdout",
     "output_type": "stream",
     "text": [
      "|-----------> There are 14 observations\n"
     ]
    },
    {
     "name": "stdout",
     "output_type": "stream",
     "text": [
      "|-----------> There are 1778324 features\n"
     ]
    },
    {
     "name": "stdout",
     "output_type": "stream",
     "text": [
      "|-----------> Total missing values: 6322346\n"
     ]
    },
    {
     "name": "stdout",
     "output_type": "stream",
     "text": [
      "|-----------> Percentage of missing values: 25.39%\n"
     ]
    },
    {
     "name": "stdout",
     "output_type": "stream",
     "text": [
      "|-----> ✅ Log data statistics finished [0.0171s]\n"
     ]
    },
    {
     "name": "stdout",
     "output_type": "stream",
     "text": [
      "|-----> ⚙️ Impute missing values started\n"
     ]
    },
    {
     "name": "stdout",
     "output_type": "stream",
     "text": [
      "|-----------> Imputing missing values using mean strategy\n"
     ]
    },
    {
     "name": "stdout",
     "output_type": "stream",
     "text": [
      "|-----> ✅ Impute missing values finished [0.3931s]\n"
     ]
    },
    {
     "name": "stdout",
     "output_type": "stream",
     "text": [
      "|-----> ⚙️ Add imputer strategy to adata.uns started\n"
     ]
    },
    {
     "name": "stdout",
     "output_type": "stream",
     "text": [
      "|-----> ✅ Add imputer strategy to adata.uns finished [0.0003s]\n"
     ]
    },
    {
     "name": "stdout",
     "output_type": "stream",
     "text": [
      "|-----> 🎉 Done! [1.3951s]\n"
     ]
    }
   ],
   "source": [
    "adata = pya.pp.df_to_adata(df, imputer_strategy='mean') # knn might be a bit slow"
   ]
  },
  {
   "cell_type": "markdown",
   "id": "7349164c-f28b-4222-bf41-6f80d8b79c3b",
   "metadata": {},
   "source": [
    "This is what the `adata` object looks like:"
   ]
  },
  {
   "cell_type": "markdown",
   "id": "4b5ff1ef-e724-407a-b6d4-9907558f21ba",
   "metadata": {},
   "source": [
    "## Predict age with RRBS clocks"
   ]
  },
  {
   "cell_type": "markdown",
   "id": "eb197ded-91dd-4319-8dbb-a635d09c8367",
   "metadata": {},
   "source": [
    "We can either predict one clock at once or all at the same time. For convenience, let's simply input all four available mammalian clocks at once. The function is invariant to the capitalization of the clock name."
   ]
  },
  {
   "cell_type": "code",
   "execution_count": 6,
   "id": "29ebd120-1c4a-4847-a3a3-5be7ffc5f730",
   "metadata": {},
   "outputs": [
    {
     "name": "stdout",
     "output_type": "stream",
     "text": [
      "|-----> 🏗️ Starting predict_age function\n",
      "|-----> ⚙️ Set PyTorch device started\n",
      "|-----------> Using device: cpu\n",
      "|-----> ✅ Set PyTorch device finished [0.0018s]\n",
      "|-----> 🕒 Processing clock: thompson\n",
      "|-----------> ⚙️ Load clock started\n",
      "|-----------------> Data found in pyaging_data/thompson.pt\n",
      "|-----------> ✅ Load clock finished [0.4952s]\n",
      "|-----------> ⚙️ Check features in adata started\n",
      "|-----------------? 1 out of 582 features (0.17%) are missing: ['chr4:91376687'], etc.\n",
      "|-----------------> Filling missing features entirely with 0\n",
      "|-----------------> Added prepared input matrix to adata.obsm[X_thompson]\n",
      "|-----------> ⚠️ Check features in adata finished [0.0566s]\n",
      "|-----------> ⚙️ Predict ages with model started\n",
      "|-----------------> There is no preprocessing necessary\n",
      "|-----------------> There is no postprocessing necessary\n",
      "|-----------------> in progress: 100.0000%\n",
      "|-----------> ✅ Predict ages with model finished [0.0039s]\n",
      "|-----------> ⚙️ Add predicted ages and clock metadata to adata started\n",
      "|-----------> ✅ Add predicted ages and clock metadata to adata finished [0.0013s]\n",
      "|-----> 🕒 Processing clock: meer\n",
      "|-----------> ⚙️ Load clock started\n",
      "|-----------------> Data found in pyaging_data/meer.pt\n",
      "|-----------> ✅ Load clock finished [0.5347s]\n",
      "|-----------> ⚙️ Check features in adata started\n",
      "|-----------------? 225 out of 435 features (51.72%) are missing: ['chr10:111559529', 'chr10:115250413', 'chr10:127620127'], etc.\n",
      "|-----------------> Filling missing features entirely with 0\n",
      "|-----------------> Added prepared input matrix to adata.obsm[X_meer]\n",
      "|-----------> ⚠️ Check features in adata finished [0.0990s]\n",
      "|-----------> ⚙️ Predict ages with model started\n",
      "|-----------------> There is no preprocessing necessary\n",
      "|-----------------> There is no postprocessing necessary\n",
      "|-----------------> in progress: 100.0000%\n",
      "|-----------> ✅ Predict ages with model finished [0.0031s]\n",
      "|-----------> ⚙️ Add predicted ages and clock metadata to adata started\n",
      "|-----------> ✅ Add predicted ages and clock metadata to adata finished [0.0015s]\n",
      "|-----> 🕒 Processing clock: petkovich\n",
      "|-----------> ⚙️ Load clock started\n",
      "|-----------------> Data found in pyaging_data/petkovich.pt\n",
      "|-----------> ✅ Load clock finished [0.4233s]\n",
      "|-----------> ⚙️ Check features in adata started\n",
      "|-----------------? 58 out of 90 features (64.44%) are missing: ['chr19:23893237', 'chr18:45589182', 'chr16:10502162'], etc.\n",
      "|-----------------> Filling missing features entirely with 0\n",
      "|-----------------> Added prepared input matrix to adata.obsm[X_petkovich]\n",
      "|-----------> ⚠️ Check features in adata finished [0.0174s]\n",
      "|-----------> ⚙️ Predict ages with model started\n",
      "|-----------------> There is no preprocessing necessary\n",
      "|-----------------> The postprocessing method is petkovich\n",
      "|-----------------> in progress: 100.0000%\n",
      "|-----------> ✅ Predict ages with model finished [0.0031s]\n",
      "|-----------> ⚙️ Add predicted ages and clock metadata to adata started\n",
      "|-----------> ✅ Add predicted ages and clock metadata to adata finished [0.0017s]\n",
      "|-----> 🕒 Processing clock: stubbs\n",
      "|-----------> ⚙️ Load clock started\n",
      "|-----------------> Data found in pyaging_data/stubbs.pt\n",
      "|-----------> ✅ Load clock finished [0.5688s]\n",
      "|-----------> ⚙️ Check features in adata started\n",
      "|-----------------? 8889 out of 17992 features (49.41%) are missing: ['chr1:10038066', 'chr1:106173313', 'chr1:106759301'], etc.\n",
      "|-----------------> Using reference feature values for stubbs\n",
      "|-----------------> Added prepared input matrix to adata.obsm[X_stubbs]\n",
      "|-----------> ⚠️ Check features in adata finished [2.8508s]\n",
      "|-----------> ⚙️ Predict ages with model started\n",
      "|-----------------> The preprocessing method is quantile_normalization_and_scale_with_gold_standard\n",
      "|-----------------> The postprocessing method is stubbs\n",
      "|-----------------> in progress: 100.0000%\n",
      "|-----------> ✅ Predict ages with model finished [0.0430s]\n",
      "|-----------> ⚙️ Add predicted ages and clock metadata to adata started\n",
      "|-----------> ✅ Add predicted ages and clock metadata to adata finished [0.0029s]\n",
      "|-----> 🎉 Done! [6.0998s]\n"
     ]
    },
    {
     "name": "stdout",
     "output_type": "stream",
     "text": [
      "|-----------> Using device: cpu\n"
     ]
    },
    {
     "name": "stdout",
     "output_type": "stream",
     "text": [
      "|-----> ✅ Set PyTorch device finished [0.0004s]\n"
     ]
    },
    {
     "name": "stdout",
     "output_type": "stream",
     "text": [
      "|-----> 🕒 Processing clock: thompson\n"
     ]
    },
    {
     "name": "stdout",
     "output_type": "stream",
     "text": [
      "|-----------> ⚙️ Load clock started\n"
     ]
    },
    {
     "name": "stdout",
     "output_type": "stream",
     "text": [
      "|-----------------> Downloading data to pyaging_data/thompson.pt\n"
     ]
    },
    {
     "name": "stdout",
     "output_type": "stream",
     "text": [
      "\r",
      "|-----------------> in progress: 38.4999%"
     ]
    },
    {
     "name": "stdout",
     "output_type": "stream",
     "text": [
      "\r",
      "|-----------------> in progress: 76.9997%"
     ]
    },
    {
     "name": "stdout",
     "output_type": "stream",
     "text": [
      "\r",
      "|-----------------> in progress: 115.4996%"
     ]
    },
    {
     "name": "stdout",
     "output_type": "stream",
     "text": [
      "\r",
      "|-----------------> in progress: 100.0000%\n"
     ]
    },
    {
     "name": "stdout",
     "output_type": "stream",
     "text": [
      "|-----------> ✅ Load clock finished [0.9989s]\n"
     ]
    },
    {
     "name": "stdout",
     "output_type": "stream",
     "text": [
      "|-----------> ⚙️ Check features in adata started\n"
     ]
    },
    {
     "name": "stdout",
     "output_type": "stream",
     "text": [
      "|-----------------? 1 out of 582 features (0.17%) are missing: ['chr4:91376687'], etc.\n"
     ]
    },
    {
     "name": "stdout",
     "output_type": "stream",
     "text": [
      "|-----------------> Filling missing features entirely with 0\n"
     ]
    },
    {
     "name": "stdout",
     "output_type": "stream",
     "text": [
      "|-----------------> Added prepared input matrix to adata.obsm[X_thompson]\n"
     ]
    },
    {
     "name": "stdout",
     "output_type": "stream",
     "text": [
      "|-----------> ⚠️ Check features in adata finished [0.0459s]\n"
     ]
    },
    {
     "name": "stdout",
     "output_type": "stream",
     "text": [
      "|-----------> ⚙️ Predict ages with model started\n"
     ]
    },
    {
     "name": "stdout",
     "output_type": "stream",
     "text": [
      "|-----------------> There is no preprocessing necessary\n"
     ]
    },
    {
     "name": "stdout",
     "output_type": "stream",
     "text": [
      "|-----------------> There is no postprocessing necessary\n"
     ]
    },
    {
     "name": "stdout",
     "output_type": "stream",
     "text": [
      "\r",
      "|-----------------> in progress: 100.0000%\n"
     ]
    },
    {
     "name": "stdout",
     "output_type": "stream",
     "text": [
      "|-----------> ✅ Predict ages with model finished [0.0014s]\n"
     ]
    },
    {
     "name": "stdout",
     "output_type": "stream",
     "text": [
      "|-----------> ⚙️ Add predicted ages and clock metadata to adata started\n"
     ]
    },
    {
     "name": "stdout",
     "output_type": "stream",
     "text": [
      "|-----------> ✅ Add predicted ages and clock metadata to adata finished [0.0006s]\n"
     ]
    },
    {
     "name": "stdout",
     "output_type": "stream",
     "text": [
      "|-----> 🕒 Processing clock: meer\n"
     ]
    },
    {
     "name": "stdout",
     "output_type": "stream",
     "text": [
      "|-----------> ⚙️ Load clock started\n"
     ]
    },
    {
     "name": "stdout",
     "output_type": "stream",
     "text": [
      "|-----------------> Downloading data to pyaging_data/meer.pt\n"
     ]
    },
    {
     "name": "stdout",
     "output_type": "stream",
     "text": [
      "\r",
      "|-----------------> in progress: 49.5944%"
     ]
    },
    {
     "name": "stdout",
     "output_type": "stream",
     "text": [
      "\r",
      "|-----------------> in progress: 99.1888%"
     ]
    },
    {
     "name": "stdout",
     "output_type": "stream",
     "text": [
      "\r",
      "|-----------------> in progress: 148.7831%"
     ]
    },
    {
     "name": "stdout",
     "output_type": "stream",
     "text": [
      "\r",
      "|-----------------> in progress: 100.0000%\n"
     ]
    },
    {
     "name": "stdout",
     "output_type": "stream",
     "text": [
      "|-----------> ✅ Load clock finished [0.9468s]\n"
     ]
    },
    {
     "name": "stdout",
     "output_type": "stream",
     "text": [
      "|-----------> ⚙️ Check features in adata started\n"
     ]
    },
    {
     "name": "stdout",
     "output_type": "stream",
     "text": [
      "|-----------------? 225 out of 435 features (51.72%) are missing: ['chr10:111559529', 'chr10:115250413', 'chr10:127620127'], etc.\n"
     ]
    },
    {
     "name": "stdout",
     "output_type": "stream",
     "text": [
      "|-----------------> Filling missing features entirely with 0\n"
     ]
    },
    {
     "name": "stdout",
     "output_type": "stream",
     "text": [
      "|-----------------> Added prepared input matrix to adata.obsm[X_meer]\n"
     ]
    },
    {
     "name": "stdout",
     "output_type": "stream",
     "text": [
      "|-----------> ⚠️ Check features in adata finished [0.0252s]\n"
     ]
    },
    {
     "name": "stdout",
     "output_type": "stream",
     "text": [
      "|-----------> ⚙️ Predict ages with model started\n"
     ]
    },
    {
     "name": "stdout",
     "output_type": "stream",
     "text": [
      "|-----------------> There is no preprocessing necessary\n"
     ]
    },
    {
     "name": "stdout",
     "output_type": "stream",
     "text": [
      "|-----------------> There is no postprocessing necessary\n"
     ]
    },
    {
     "name": "stdout",
     "output_type": "stream",
     "text": [
      "\r",
      "|-----------------> in progress: 100.0000%\n"
     ]
    },
    {
     "name": "stdout",
     "output_type": "stream",
     "text": [
      "|-----------> ✅ Predict ages with model finished [0.0010s]\n"
     ]
    },
    {
     "name": "stdout",
     "output_type": "stream",
     "text": [
      "|-----------> ⚙️ Add predicted ages and clock metadata to adata started\n"
     ]
    },
    {
     "name": "stdout",
     "output_type": "stream",
     "text": [
      "|-----------> ✅ Add predicted ages and clock metadata to adata finished [0.0006s]\n"
     ]
    },
    {
     "name": "stdout",
     "output_type": "stream",
     "text": [
      "|-----> 🕒 Processing clock: petkovich\n"
     ]
    },
    {
     "name": "stdout",
     "output_type": "stream",
     "text": [
      "|-----------> ⚙️ Load clock started\n"
     ]
    },
    {
     "name": "stdout",
     "output_type": "stream",
     "text": [
      "|-----------------> Downloading data to pyaging_data/petkovich.pt\n"
     ]
    },
    {
     "name": "stdout",
     "output_type": "stream",
     "text": [
      "\r",
      "|-----------------> in progress: 142.9170%"
     ]
    },
    {
     "name": "stdout",
     "output_type": "stream",
     "text": [
      "\r",
      "|-----------------> in progress: 100.0000%\n"
     ]
    },
    {
     "name": "stdout",
     "output_type": "stream",
     "text": [
      "|-----------> ✅ Load clock finished [0.9550s]\n"
     ]
    },
    {
     "name": "stdout",
     "output_type": "stream",
     "text": [
      "|-----------> ⚙️ Check features in adata started\n"
     ]
    },
    {
     "name": "stdout",
     "output_type": "stream",
     "text": [
      "|-----------------? 58 out of 90 features (64.44%) are missing: ['chr19:23893237', 'chr18:45589182', 'chr16:10502162'], etc.\n"
     ]
    },
    {
     "name": "stdout",
     "output_type": "stream",
     "text": [
      "|-----------------> Filling missing features entirely with 0\n"
     ]
    },
    {
     "name": "stdout",
     "output_type": "stream",
     "text": [
      "|-----------------> Added prepared input matrix to adata.obsm[X_petkovich]\n"
     ]
    },
    {
     "name": "stdout",
     "output_type": "stream",
     "text": [
      "|-----------> ⚠️ Check features in adata finished [0.0147s]\n"
     ]
    },
    {
     "name": "stdout",
     "output_type": "stream",
     "text": [
      "|-----------> ⚙️ Predict ages with model started\n"
     ]
    },
    {
     "name": "stdout",
     "output_type": "stream",
     "text": [
      "|-----------------> There is no preprocessing necessary\n"
     ]
    },
    {
     "name": "stdout",
     "output_type": "stream",
     "text": [
      "|-----------------> The postprocessing method is petkovich\n"
     ]
    },
    {
     "name": "stdout",
     "output_type": "stream",
     "text": [
      "\r",
      "|-----------------> in progress: 100.0000%\n"
     ]
    },
    {
     "name": "stdout",
     "output_type": "stream",
     "text": [
      "|-----------> ✅ Predict ages with model finished [0.0010s]\n"
     ]
    },
    {
     "name": "stdout",
     "output_type": "stream",
     "text": [
      "|-----------> ⚙️ Add predicted ages and clock metadata to adata started\n"
     ]
    },
    {
     "name": "stdout",
     "output_type": "stream",
     "text": [
      "|-----------> ✅ Add predicted ages and clock metadata to adata finished [0.0006s]\n"
     ]
    },
    {
     "name": "stdout",
     "output_type": "stream",
     "text": [
      "|-----> 🕒 Processing clock: stubbs\n"
     ]
    },
    {
     "name": "stdout",
     "output_type": "stream",
     "text": [
      "|-----------> ⚙️ Load clock started\n"
     ]
    },
    {
     "name": "stdout",
     "output_type": "stream",
     "text": [
      "|-----------------> Downloading data to pyaging_data/stubbs.pt\n"
     ]
    },
    {
     "name": "stdout",
     "output_type": "stream",
     "text": [
      "\r",
      "|-----------------> in progress: 1.0707%"
     ]
    },
    {
     "name": "stdout",
     "output_type": "stream",
     "text": [
      "\r",
      "|-----------------> in progress: 2.1413%"
     ]
    },
    {
     "name": "stdout",
     "output_type": "stream",
     "text": [
      "\r",
      "|-----------------> in progress: 3.2120%"
     ]
    },
    {
     "name": "stdout",
     "output_type": "stream",
     "text": [
      "\r",
      "|-----------------> in progress: 4.2826%"
     ]
    },
    {
     "name": "stdout",
     "output_type": "stream",
     "text": [
      "\r",
      "|-----------------> in progress: 5.3533%"
     ]
    },
    {
     "name": "stdout",
     "output_type": "stream",
     "text": [
      "\r",
      "|-----------------> in progress: 6.4239%"
     ]
    },
    {
     "name": "stdout",
     "output_type": "stream",
     "text": [
      "\r",
      "|-----------------> in progress: 7.4946%"
     ]
    },
    {
     "name": "stdout",
     "output_type": "stream",
     "text": [
      "\r",
      "|-----------------> in progress: 8.5653%"
     ]
    },
    {
     "name": "stdout",
     "output_type": "stream",
     "text": [
      "\r",
      "|-----------------> in progress: 9.6359%"
     ]
    },
    {
     "name": "stdout",
     "output_type": "stream",
     "text": [
      "\r",
      "|-----------------> in progress: 10.7066%"
     ]
    },
    {
     "name": "stdout",
     "output_type": "stream",
     "text": [
      "\r",
      "|-----------------> in progress: 11.7772%"
     ]
    },
    {
     "name": "stdout",
     "output_type": "stream",
     "text": [
      "\r",
      "|-----------------> in progress: 12.8479%"
     ]
    },
    {
     "name": "stdout",
     "output_type": "stream",
     "text": [
      "\r",
      "|-----------------> in progress: 13.9185%"
     ]
    },
    {
     "name": "stdout",
     "output_type": "stream",
     "text": [
      "\r",
      "|-----------------> in progress: 14.9892%"
     ]
    },
    {
     "name": "stdout",
     "output_type": "stream",
     "text": [
      "\r",
      "|-----------------> in progress: 16.0598%"
     ]
    },
    {
     "name": "stdout",
     "output_type": "stream",
     "text": [
      "\r",
      "|-----------------> in progress: 17.1305%"
     ]
    },
    {
     "name": "stdout",
     "output_type": "stream",
     "text": [
      "\r",
      "|-----------------> in progress: 18.2012%"
     ]
    },
    {
     "name": "stdout",
     "output_type": "stream",
     "text": [
      "\r",
      "|-----------------> in progress: 19.2718%"
     ]
    },
    {
     "name": "stdout",
     "output_type": "stream",
     "text": [
      "\r",
      "|-----------------> in progress: 20.3425%"
     ]
    },
    {
     "name": "stdout",
     "output_type": "stream",
     "text": [
      "\r",
      "|-----------------> in progress: 21.4131%"
     ]
    },
    {
     "name": "stdout",
     "output_type": "stream",
     "text": [
      "\r",
      "|-----------------> in progress: 22.4838%"
     ]
    },
    {
     "name": "stdout",
     "output_type": "stream",
     "text": [
      "\r",
      "|-----------------> in progress: 23.5544%"
     ]
    },
    {
     "name": "stdout",
     "output_type": "stream",
     "text": [
      "\r",
      "|-----------------> in progress: 24.6251%"
     ]
    },
    {
     "name": "stdout",
     "output_type": "stream",
     "text": [
      "\r",
      "|-----------------> in progress: 25.6958%"
     ]
    },
    {
     "name": "stdout",
     "output_type": "stream",
     "text": [
      "\r",
      "|-----------------> in progress: 26.7664%"
     ]
    },
    {
     "name": "stdout",
     "output_type": "stream",
     "text": [
      "\r",
      "|-----------------> in progress: 27.8371%"
     ]
    },
    {
     "name": "stdout",
     "output_type": "stream",
     "text": [
      "\r",
      "|-----------------> in progress: 28.9077%"
     ]
    },
    {
     "name": "stdout",
     "output_type": "stream",
     "text": [
      "\r",
      "|-----------------> in progress: 29.9784%"
     ]
    },
    {
     "name": "stdout",
     "output_type": "stream",
     "text": [
      "\r",
      "|-----------------> in progress: 31.0490%"
     ]
    },
    {
     "name": "stdout",
     "output_type": "stream",
     "text": [
      "\r",
      "|-----------------> in progress: 32.1197%"
     ]
    },
    {
     "name": "stdout",
     "output_type": "stream",
     "text": [
      "\r",
      "|-----------------> in progress: 33.1904%"
     ]
    },
    {
     "name": "stdout",
     "output_type": "stream",
     "text": [
      "\r",
      "|-----------------> in progress: 34.2610%"
     ]
    },
    {
     "name": "stdout",
     "output_type": "stream",
     "text": [
      "\r",
      "|-----------------> in progress: 35.3317%"
     ]
    },
    {
     "name": "stdout",
     "output_type": "stream",
     "text": [
      "\r",
      "|-----------------> in progress: 36.4023%"
     ]
    },
    {
     "name": "stdout",
     "output_type": "stream",
     "text": [
      "\r",
      "|-----------------> in progress: 37.4730%"
     ]
    },
    {
     "name": "stdout",
     "output_type": "stream",
     "text": [
      "\r",
      "|-----------------> in progress: 38.5436%"
     ]
    },
    {
     "name": "stdout",
     "output_type": "stream",
     "text": [
      "\r",
      "|-----------------> in progress: 39.6143%"
     ]
    },
    {
     "name": "stdout",
     "output_type": "stream",
     "text": [
      "\r",
      "|-----------------> in progress: 40.6849%"
     ]
    },
    {
     "name": "stdout",
     "output_type": "stream",
     "text": [
      "\r",
      "|-----------------> in progress: 41.7556%"
     ]
    },
    {
     "name": "stdout",
     "output_type": "stream",
     "text": [
      "\r",
      "|-----------------> in progress: 42.8263%"
     ]
    },
    {
     "name": "stdout",
     "output_type": "stream",
     "text": [
      "\r",
      "|-----------------> in progress: 43.8969%"
     ]
    },
    {
     "name": "stdout",
     "output_type": "stream",
     "text": [
      "\r",
      "|-----------------> in progress: 44.9676%"
     ]
    },
    {
     "name": "stdout",
     "output_type": "stream",
     "text": [
      "\r",
      "|-----------------> in progress: 46.0382%"
     ]
    },
    {
     "name": "stdout",
     "output_type": "stream",
     "text": [
      "\r",
      "|-----------------> in progress: 47.1089%"
     ]
    },
    {
     "name": "stdout",
     "output_type": "stream",
     "text": [
      "\r",
      "|-----------------> in progress: 48.1795%"
     ]
    },
    {
     "name": "stdout",
     "output_type": "stream",
     "text": [
      "\r",
      "|-----------------> in progress: 49.2502%"
     ]
    },
    {
     "name": "stdout",
     "output_type": "stream",
     "text": [
      "\r",
      "|-----------------> in progress: 50.3209%"
     ]
    },
    {
     "name": "stdout",
     "output_type": "stream",
     "text": [
      "\r",
      "|-----------------> in progress: 51.3915%"
     ]
    },
    {
     "name": "stdout",
     "output_type": "stream",
     "text": [
      "\r",
      "|-----------------> in progress: 52.4622%"
     ]
    },
    {
     "name": "stdout",
     "output_type": "stream",
     "text": [
      "\r",
      "|-----------------> in progress: 53.5328%"
     ]
    },
    {
     "name": "stdout",
     "output_type": "stream",
     "text": [
      "\r",
      "|-----------------> in progress: 54.6035%"
     ]
    },
    {
     "name": "stdout",
     "output_type": "stream",
     "text": [
      "\r",
      "|-----------------> in progress: 55.6741%"
     ]
    },
    {
     "name": "stdout",
     "output_type": "stream",
     "text": [
      "\r",
      "|-----------------> in progress: 56.7448%"
     ]
    },
    {
     "name": "stdout",
     "output_type": "stream",
     "text": [
      "\r",
      "|-----------------> in progress: 57.8155%"
     ]
    },
    {
     "name": "stdout",
     "output_type": "stream",
     "text": [
      "\r",
      "|-----------------> in progress: 58.8861%"
     ]
    },
    {
     "name": "stdout",
     "output_type": "stream",
     "text": [
      "\r",
      "|-----------------> in progress: 59.9568%"
     ]
    },
    {
     "name": "stdout",
     "output_type": "stream",
     "text": [
      "\r",
      "|-----------------> in progress: 61.0274%"
     ]
    },
    {
     "name": "stdout",
     "output_type": "stream",
     "text": [
      "\r",
      "|-----------------> in progress: 62.0981%"
     ]
    },
    {
     "name": "stdout",
     "output_type": "stream",
     "text": [
      "\r",
      "|-----------------> in progress: 63.1687%"
     ]
    },
    {
     "name": "stdout",
     "output_type": "stream",
     "text": [
      "\r",
      "|-----------------> in progress: 64.2394%"
     ]
    },
    {
     "name": "stdout",
     "output_type": "stream",
     "text": [
      "\r",
      "|-----------------> in progress: 65.3100%"
     ]
    },
    {
     "name": "stdout",
     "output_type": "stream",
     "text": [
      "\r",
      "|-----------------> in progress: 66.3807%"
     ]
    },
    {
     "name": "stdout",
     "output_type": "stream",
     "text": [
      "\r",
      "|-----------------> in progress: 67.4514%"
     ]
    },
    {
     "name": "stdout",
     "output_type": "stream",
     "text": [
      "\r",
      "|-----------------> in progress: 68.5220%"
     ]
    },
    {
     "name": "stdout",
     "output_type": "stream",
     "text": [
      "\r",
      "|-----------------> in progress: 69.5927%"
     ]
    },
    {
     "name": "stdout",
     "output_type": "stream",
     "text": [
      "\r",
      "|-----------------> in progress: 70.6633%"
     ]
    },
    {
     "name": "stdout",
     "output_type": "stream",
     "text": [
      "\r",
      "|-----------------> in progress: 71.7340%"
     ]
    },
    {
     "name": "stdout",
     "output_type": "stream",
     "text": [
      "\r",
      "|-----------------> in progress: 72.8046%"
     ]
    },
    {
     "name": "stdout",
     "output_type": "stream",
     "text": [
      "\r",
      "|-----------------> in progress: 73.8753%"
     ]
    },
    {
     "name": "stdout",
     "output_type": "stream",
     "text": [
      "\r",
      "|-----------------> in progress: 74.9460%"
     ]
    },
    {
     "name": "stdout",
     "output_type": "stream",
     "text": [
      "\r",
      "|-----------------> in progress: 76.0166%"
     ]
    },
    {
     "name": "stdout",
     "output_type": "stream",
     "text": [
      "\r",
      "|-----------------> in progress: 77.0873%"
     ]
    },
    {
     "name": "stdout",
     "output_type": "stream",
     "text": [
      "\r",
      "|-----------------> in progress: 78.1579%"
     ]
    },
    {
     "name": "stdout",
     "output_type": "stream",
     "text": [
      "\r",
      "|-----------------> in progress: 79.2286%"
     ]
    },
    {
     "name": "stdout",
     "output_type": "stream",
     "text": [
      "\r",
      "|-----------------> in progress: 80.2992%"
     ]
    },
    {
     "name": "stdout",
     "output_type": "stream",
     "text": [
      "\r",
      "|-----------------> in progress: 81.3699%"
     ]
    },
    {
     "name": "stdout",
     "output_type": "stream",
     "text": [
      "\r",
      "|-----------------> in progress: 82.4406%"
     ]
    },
    {
     "name": "stdout",
     "output_type": "stream",
     "text": [
      "\r",
      "|-----------------> in progress: 83.5112%"
     ]
    },
    {
     "name": "stdout",
     "output_type": "stream",
     "text": [
      "\r",
      "|-----------------> in progress: 84.5819%"
     ]
    },
    {
     "name": "stdout",
     "output_type": "stream",
     "text": [
      "\r",
      "|-----------------> in progress: 85.6525%"
     ]
    },
    {
     "name": "stdout",
     "output_type": "stream",
     "text": [
      "\r",
      "|-----------------> in progress: 86.7232%"
     ]
    },
    {
     "name": "stdout",
     "output_type": "stream",
     "text": [
      "\r",
      "|-----------------> in progress: 87.7938%"
     ]
    },
    {
     "name": "stdout",
     "output_type": "stream",
     "text": [
      "\r",
      "|-----------------> in progress: 88.8645%"
     ]
    },
    {
     "name": "stdout",
     "output_type": "stream",
     "text": [
      "\r",
      "|-----------------> in progress: 89.9351%"
     ]
    },
    {
     "name": "stdout",
     "output_type": "stream",
     "text": [
      "\r",
      "|-----------------> in progress: 91.0058%"
     ]
    },
    {
     "name": "stdout",
     "output_type": "stream",
     "text": [
      "\r",
      "|-----------------> in progress: 92.0765%"
     ]
    },
    {
     "name": "stdout",
     "output_type": "stream",
     "text": [
      "\r",
      "|-----------------> in progress: 93.1471%"
     ]
    },
    {
     "name": "stdout",
     "output_type": "stream",
     "text": [
      "\r",
      "|-----------------> in progress: 94.2178%"
     ]
    },
    {
     "name": "stdout",
     "output_type": "stream",
     "text": [
      "\r",
      "|-----------------> in progress: 95.2884%"
     ]
    },
    {
     "name": "stdout",
     "output_type": "stream",
     "text": [
      "\r",
      "|-----------------> in progress: 96.3591%"
     ]
    },
    {
     "name": "stdout",
     "output_type": "stream",
     "text": [
      "\r",
      "|-----------------> in progress: 97.4297%"
     ]
    },
    {
     "name": "stdout",
     "output_type": "stream",
     "text": [
      "\r",
      "|-----------------> in progress: 98.5004%"
     ]
    },
    {
     "name": "stdout",
     "output_type": "stream",
     "text": [
      "\r",
      "|-----------------> in progress: 99.5711%"
     ]
    },
    {
     "name": "stdout",
     "output_type": "stream",
     "text": [
      "\r",
      "|-----------------> in progress: 100.6417%"
     ]
    },
    {
     "name": "stdout",
     "output_type": "stream",
     "text": [
      "\r",
      "|-----------------> in progress: 100.0000%\n"
     ]
    },
    {
     "name": "stdout",
     "output_type": "stream",
     "text": [
      "|-----------> ✅ Load clock finished [1.4773s]\n"
     ]
    },
    {
     "name": "stdout",
     "output_type": "stream",
     "text": [
      "|-----------> ⚙️ Check features in adata started\n"
     ]
    },
    {
     "name": "stdout",
     "output_type": "stream",
     "text": [
      "|-----------------? 8889 out of 17992 features (49.41%) are missing: ['chr1:10038066', 'chr1:106173313', 'chr1:106759301'], etc.\n"
     ]
    },
    {
     "name": "stdout",
     "output_type": "stream",
     "text": [
      "|-----------------> Using reference feature values for stubbs\n"
     ]
    },
    {
     "name": "stdout",
     "output_type": "stream",
     "text": [
      "|-----------------> Added prepared input matrix to adata.obsm[X_stubbs]\n"
     ]
    },
    {
     "name": "stdout",
     "output_type": "stream",
     "text": [
      "|-----------> ⚠️ Check features in adata finished [0.8155s]\n"
     ]
    },
    {
     "name": "stdout",
     "output_type": "stream",
     "text": [
      "|-----------> ⚙️ Predict ages with model started\n"
     ]
    },
    {
     "name": "stdout",
     "output_type": "stream",
     "text": [
      "|-----------------> The preprocessing method is quantile_normalization_and_scale_with_gold_standard\n"
     ]
    },
    {
     "name": "stdout",
     "output_type": "stream",
     "text": [
      "|-----------------> The postprocessing method is stubbs\n"
     ]
    },
    {
     "name": "stdout",
     "output_type": "stream",
     "text": [
      "\r",
      "|-----------------> in progress: 100.0000%\n"
     ]
    },
    {
     "name": "stdout",
     "output_type": "stream",
     "text": [
      "|-----------> ✅ Predict ages with model finished [0.0204s]\n"
     ]
    },
    {
     "name": "stdout",
     "output_type": "stream",
     "text": [
      "|-----------> ⚙️ Add predicted ages and clock metadata to adata started\n"
     ]
    },
    {
     "name": "stdout",
     "output_type": "stream",
     "text": [
      "|-----------> ✅ Add predicted ages and clock metadata to adata finished [0.0005s]\n"
     ]
    },
    {
     "name": "stdout",
     "output_type": "stream",
     "text": [
      "|-----> 🎉 Done! [5.5415s]\n"
     ]
    }
   ],
   "source": [
    "pya.pred.predict_age(adata, ['Thompson', 'Meer', 'Petkovich', 'Stubbs'])"
   ]
  },
  {
   "cell_type": "markdown",
   "id": "3978afec-40a0-4e1f-8ff6-1d048da8a894",
   "metadata": {},
   "source": [
    "All of the age predictions are in unit of months."
   ]
  },
  {
   "cell_type": "code",
   "execution_count": 7,
   "id": "b04572f9-23dd-4eb1-8e84-16a9b25c2d6a",
   "metadata": {},
   "outputs": [
    {
     "data": {
      "text/html": [
       "<div>\n",
       "<style scoped>\n",
       "    .dataframe tbody tr th:only-of-type {\n",
       "        vertical-align: middle;\n",
       "    }\n",
       "\n",
       "    .dataframe tbody tr th {\n",
       "        vertical-align: top;\n",
       "    }\n",
       "\n",
       "    .dataframe thead th {\n",
       "        text-align: right;\n",
       "    }\n",
       "</style>\n",
       "<table border=\"1\" class=\"dataframe\">\n",
       "  <thead>\n",
       "    <tr style=\"text-align: right;\">\n",
       "      <th></th>\n",
       "      <th>thompson</th>\n",
       "      <th>meer</th>\n",
       "      <th>petkovich</th>\n",
       "      <th>stubbs</th>\n",
       "    </tr>\n",
       "  </thead>\n",
       "  <tbody>\n",
       "    <tr>\n",
       "      <th>GSM3752631</th>\n",
       "      <td>19.634113</td>\n",
       "      <td>7.315183</td>\n",
       "      <td>8.075177</td>\n",
       "      <td>0.957770</td>\n",
       "    </tr>\n",
       "    <tr>\n",
       "      <th>GSM3752625</th>\n",
       "      <td>-1.410461</td>\n",
       "      <td>0.028221</td>\n",
       "      <td>2.953822</td>\n",
       "      <td>-0.074265</td>\n",
       "    </tr>\n",
       "    <tr>\n",
       "      <th>GSM3752634</th>\n",
       "      <td>61.058783</td>\n",
       "      <td>21.322178</td>\n",
       "      <td>9.640489</td>\n",
       "      <td>1.389193</td>\n",
       "    </tr>\n",
       "    <tr>\n",
       "      <th>GSM3752620</th>\n",
       "      <td>-2.663815</td>\n",
       "      <td>1.611947</td>\n",
       "      <td>3.019351</td>\n",
       "      <td>-0.092710</td>\n",
       "    </tr>\n",
       "    <tr>\n",
       "      <th>GSM3752622</th>\n",
       "      <td>20.594114</td>\n",
       "      <td>7.592145</td>\n",
       "      <td>7.104766</td>\n",
       "      <td>0.667168</td>\n",
       "    </tr>\n",
       "  </tbody>\n",
       "</table>\n",
       "</div>"
      ],
      "text/plain": [
       "             thompson       meer  petkovich    stubbs\n",
       "GSM3752631  19.634113   7.315183   8.075177  0.957770\n",
       "GSM3752625  -1.410461   0.028221   2.953822 -0.074265\n",
       "GSM3752634  61.058783  21.322178   9.640489  1.389193\n",
       "GSM3752620  -2.663815   1.611947   3.019351 -0.092710\n",
       "GSM3752622  20.594114   7.592145   7.104766  0.667168"
      ]
     },
     "execution_count": 7,
     "metadata": {},
     "output_type": "execute_result"
    }
   ],
   "source": [
    "adata.obs.head()"
   ]
  },
  {
   "cell_type": "code",
   "execution_count": 8,
   "id": "4bb259c5-2cba-4dc1-b123-2387a5bb7749",
   "metadata": {},
   "outputs": [
    {
     "data": {
      "text/html": [
       "<div>\n",
       "<style scoped>\n",
       "    .dataframe tbody tr th:only-of-type {\n",
       "        vertical-align: middle;\n",
       "    }\n",
       "\n",
       "    .dataframe tbody tr th {\n",
       "        vertical-align: top;\n",
       "    }\n",
       "\n",
       "    .dataframe thead th {\n",
       "        text-align: right;\n",
       "    }\n",
       "</style>\n",
       "<table border=\"1\" class=\"dataframe\">\n",
       "  <thead>\n",
       "    <tr style=\"text-align: right;\">\n",
       "      <th></th>\n",
       "      <th>thompson</th>\n",
       "      <th>meer</th>\n",
       "      <th>petkovich</th>\n",
       "      <th>stubbs</th>\n",
       "    </tr>\n",
       "  </thead>\n",
       "  <tbody>\n",
       "    <tr>\n",
       "      <th>GSM3752631</th>\n",
       "      <td>19.634113</td>\n",
       "      <td>7.315183</td>\n",
       "      <td>8.075177</td>\n",
       "      <td>0.957770</td>\n",
       "    </tr>\n",
       "    <tr>\n",
       "      <th>GSM3752625</th>\n",
       "      <td>-1.410461</td>\n",
       "      <td>0.028221</td>\n",
       "      <td>2.953822</td>\n",
       "      <td>-0.074265</td>\n",
       "    </tr>\n",
       "    <tr>\n",
       "      <th>GSM3752634</th>\n",
       "      <td>61.058783</td>\n",
       "      <td>21.322178</td>\n",
       "      <td>9.640489</td>\n",
       "      <td>1.389193</td>\n",
       "    </tr>\n",
       "    <tr>\n",
       "      <th>GSM3752620</th>\n",
       "      <td>-2.663815</td>\n",
       "      <td>1.611947</td>\n",
       "      <td>3.019351</td>\n",
       "      <td>-0.092710</td>\n",
       "    </tr>\n",
       "    <tr>\n",
       "      <th>GSM3752622</th>\n",
       "      <td>20.594114</td>\n",
       "      <td>7.592145</td>\n",
       "      <td>7.104766</td>\n",
       "      <td>0.667168</td>\n",
       "    </tr>\n",
       "  </tbody>\n",
       "</table>\n",
       "</div>"
      ],
      "text/plain": [
       "             thompson       meer  petkovich    stubbs\n",
       "GSM3752631  19.634113   7.315183   8.075177  0.957770\n",
       "GSM3752625  -1.410461   0.028221   2.953822 -0.074265\n",
       "GSM3752634  61.058783  21.322178   9.640489  1.389193\n",
       "GSM3752620  -2.663815   1.611947   3.019351 -0.092710\n",
       "GSM3752622  20.594114   7.592145   7.104766  0.667168"
      ]
     },
     "execution_count": 8,
     "metadata": {},
     "output_type": "execute_result"
    }
   ],
   "source": [
    "adata.obs.head()"
   ]
  },
  {
   "cell_type": "markdown",
   "id": "8519affc-ffc8-4904-ad7a-bd6a6d6458cf",
   "metadata": {},
   "source": [
    "Having so much information printed can be overwhelming, particularly when running several clocks at once. In such cases, just set verbose to False."
   ]
  },
  {
   "cell_type": "code",
   "execution_count": 9,
   "id": "18b44cfa-36d5-49c9-badf-7ba9e189bbc0",
   "metadata": {},
   "outputs": [],
   "source": [
    "pya.data.download_example_data('GSE130735', verbose=False)\n",
    "df = pd.read_pickle('pyaging_data/GSE130735_subset.pkl')\n",
    "adata = pya.preprocess.df_to_adata(df, imputer_strategy='mean', verbose=False)\n",
    "pya.pred.predict_age(adata, ['Thompson', 'Meer', 'Petkovich', 'Stubbs'], verbose=False)"
   ]
  },
  {
   "cell_type": "code",
   "execution_count": 10,
   "id": "a2520978-b693-474f-88cf-91bcde1a5d95",
   "metadata": {},
   "outputs": [
    {
     "data": {
      "text/html": [
       "<div>\n",
       "<style scoped>\n",
       "    .dataframe tbody tr th:only-of-type {\n",
       "        vertical-align: middle;\n",
       "    }\n",
       "\n",
       "    .dataframe tbody tr th {\n",
       "        vertical-align: top;\n",
       "    }\n",
       "\n",
       "    .dataframe thead th {\n",
       "        text-align: right;\n",
       "    }\n",
       "</style>\n",
       "<table border=\"1\" class=\"dataframe\">\n",
       "  <thead>\n",
       "    <tr style=\"text-align: right;\">\n",
       "      <th></th>\n",
       "      <th>thompson</th>\n",
       "      <th>meer</th>\n",
       "      <th>petkovich</th>\n",
       "      <th>stubbs</th>\n",
       "    </tr>\n",
       "  </thead>\n",
       "  <tbody>\n",
       "    <tr>\n",
       "      <th>GSM3752631</th>\n",
       "      <td>19.634113</td>\n",
       "      <td>7.315183</td>\n",
       "      <td>8.075177</td>\n",
       "      <td>0.957770</td>\n",
       "    </tr>\n",
       "    <tr>\n",
       "      <th>GSM3752625</th>\n",
       "      <td>-1.410461</td>\n",
       "      <td>0.028221</td>\n",
       "      <td>2.953822</td>\n",
       "      <td>-0.074265</td>\n",
       "    </tr>\n",
       "    <tr>\n",
       "      <th>GSM3752634</th>\n",
       "      <td>61.058783</td>\n",
       "      <td>21.322178</td>\n",
       "      <td>9.640489</td>\n",
       "      <td>1.389193</td>\n",
       "    </tr>\n",
       "    <tr>\n",
       "      <th>GSM3752620</th>\n",
       "      <td>-2.663815</td>\n",
       "      <td>1.611947</td>\n",
       "      <td>3.019351</td>\n",
       "      <td>-0.092710</td>\n",
       "    </tr>\n",
       "    <tr>\n",
       "      <th>GSM3752622</th>\n",
       "      <td>20.594114</td>\n",
       "      <td>7.592145</td>\n",
       "      <td>7.104766</td>\n",
       "      <td>0.667168</td>\n",
       "    </tr>\n",
       "  </tbody>\n",
       "</table>\n",
       "</div>"
      ],
      "text/plain": [
       "             thompson       meer  petkovich    stubbs\n",
       "GSM3752631  19.634113   7.315183   8.075177  0.957770\n",
       "GSM3752625  -1.410461   0.028221   2.953822 -0.074265\n",
       "GSM3752634  61.058783  21.322178   9.640489  1.389193\n",
       "GSM3752620  -2.663815   1.611947   3.019351 -0.092710\n",
       "GSM3752622  20.594114   7.592145   7.104766  0.667168"
      ]
     },
     "execution_count": 10,
     "metadata": {},
     "output_type": "execute_result"
    }
   ],
   "source": [
    "adata.obs.head()"
   ]
  },
  {
   "cell_type": "markdown",
   "id": "33119798-f1b3-4c4c-9f18-e4e4b7ca21e8",
   "metadata": {},
   "source": [
    "After age prediction, the clocks are added to `adata.obs`. Moreover, the percent of missing values for each clock and other metadata are included in `adata.uns`."
   ]
  },
  {
   "cell_type": "code",
   "execution_count": 11,
   "id": "92cfc16e-71ff-4767-9c75-04e52455eb6c",
   "metadata": {},
   "outputs": [
    {
     "data": {
      "text/plain": [
       "AnnData object with n_obs × n_vars = 14 × 1778324\n",
       "    obs: 'thompson', 'meer', 'petkovich', 'stubbs'\n",
       "    var: 'percent_na'\n",
       "    uns: 'imputer_strategy', 'thompson_percent_na', 'thompson_missing_features', 'thompson_metadata', 'meer_percent_na', 'meer_missing_features', 'meer_metadata', 'petkovich_percent_na', 'petkovich_missing_features', 'petkovich_metadata', 'stubbs_percent_na', 'stubbs_missing_features', 'stubbs_metadata'\n",
       "    layers: 'X_original', 'X_imputed'"
      ]
     },
     "execution_count": 11,
     "metadata": {},
     "output_type": "execute_result"
    }
   ],
   "source": [
    "adata"
   ]
  },
  {
   "cell_type": "markdown",
   "id": "569b1ef8-dd55-45e4-8792-e919dc207808",
   "metadata": {},
   "source": [
    "## Predict age with mammalian clocks"
   ]
  },
  {
   "cell_type": "markdown",
   "id": "b9266699-881f-41c7-9a13-c38307527bfa",
   "metadata": {},
   "source": [
    "We can predict age by converting the genomic locations directly into the probes from Horvath's methylation array. "
   ]
  },
  {
   "cell_type": "code",
   "execution_count": null,
   "id": "a5f71a02-cbc0-4cd0-a123-e7226307ae84",
   "metadata": {},
   "outputs": [],
   "source": [
    "os.system('git clone https://github.com/shorvath/MammalianMethylationConsortium.git')\n",
    "\n",
    "# Let's read the manifest from the mammalian consortium\n",
    "annotation_df = pd.read_csv('MammalianMethylationConsortium/Annotations, Amin Haghani/Mammals/Mus_musculus.grcm38.100.HorvathMammalMethylChip40.v1.csv', index_col=0)\n",
    "annotation_df = annotation_df[~annotation_df.seqnames.isna()]\n",
    "mm_genomic_locations = 'chr' + annotation_df['seqnames'].astype(str) + ':' + annotation_df['CGstart'].astype(int).astype(str)\n",
    "mm_genomic_locations = mm_genomic_locations.tolist()\n",
    "mammalian_probes = annotation_df['CGid'].tolist()\n",
    "mm_loc_to_probe = dict(zip(mm_genomic_locations, mammalian_probes))\n",
    "\n",
    "# Let's get the previous RRBS dataset and filter only for the genomic locations in the manifest file\n",
    "df_columns_set = set(df.columns)\n",
    "mm_loc_to_probe_set = set(mm_loc_to_probe.keys())\n",
    "common_columns = df_columns_set.intersection(mm_loc_to_probe_set)\n",
    "df_converted = df[list(common_columns)].copy()\n",
    "\n",
    "# Then, convert the genomic location to the probe name\n",
    "df_converted.columns = [mm_loc_to_probe[col] for col in df_converted.columns]\n",
    "\n",
    "# Let's clean the GitHub\n",
    "os.system('rm -r MammalianMethylationConsortium')"
   ]
  },
  {
   "cell_type": "code",
   "execution_count": null,
   "id": "6989844c-736d-4637-acfc-8f8f7ae58108",
   "metadata": {},
   "outputs": [],
   "source": [
    "df_converted.head()"
   ]
  },
  {
   "cell_type": "markdown",
   "id": "e46ca085-026e-4e02-b316-97b880125507",
   "metadata": {},
   "source": [
    "Now we can finally put the dataframe into pyaging after defining the species as Mus musculus."
   ]
  },
  {
   "cell_type": "code",
   "execution_count": null,
   "id": "bd69e2ff-8002-46dc-a196-ac165a6b89d2",
   "metadata": {},
   "outputs": [
    {
     "name": "stdout",
     "output_type": "stream",
     "text": [
      "|-----> ✅ Create anndata object finished [0.0039s]\n"
     ]
    },
    {
     "name": "stdout",
     "output_type": "stream",
     "text": [
      "|-----> ⚙️ Add metadata to anndata started\n"
     ]
    },
    {
     "name": "stdout",
     "output_type": "stream",
     "text": [
      "|-----------? No metadata provided. Leaving adata.obs empty\n"
     ]
    },
    {
     "name": "stdout",
     "output_type": "stream",
     "text": [
      "|-----> ⚠️ Add metadata to anndata finished [0.0004s]\n"
     ]
    },
    {
     "name": "stdout",
     "output_type": "stream",
     "text": [
      "|-----> ⚙️ Log data statistics started\n"
     ]
    },
    {
     "name": "stdout",
     "output_type": "stream",
     "text": [
      "|-----------> There are 14 observations\n"
     ]
    },
    {
     "name": "stdout",
     "output_type": "stream",
     "text": [
      "|-----------> There are 5150 features\n"
     ]
    },
    {
     "name": "stdout",
     "output_type": "stream",
     "text": [
      "|-----------> Total missing values: 17862\n"
     ]
    },
    {
     "name": "stdout",
     "output_type": "stream",
     "text": [
      "|-----------> Percentage of missing values: 24.77%\n"
     ]
    },
    {
     "name": "stdout",
     "output_type": "stream",
     "text": [
      "|-----> ✅ Log data statistics finished [0.0011s]\n"
     ]
    },
    {
     "name": "stdout",
     "output_type": "stream",
     "text": [
      "|-----> ⚙️ Impute missing values started\n"
     ]
    },
    {
     "name": "stdout",
     "output_type": "stream",
     "text": [
      "|-----------> Imputing missing values using mean strategy\n"
     ]
    },
    {
     "name": "stdout",
     "output_type": "stream",
     "text": [
      "|-----> ✅ Impute missing values finished [0.0029s]\n"
     ]
    },
    {
     "name": "stdout",
     "output_type": "stream",
     "text": [
      "|-----> ⚙️ Add imputer strategy to adata.uns started\n"
     ]
    },
    {
     "name": "stdout",
     "output_type": "stream",
     "text": [
      "|-----> ✅ Add imputer strategy to adata.uns finished [0.0003s]\n"
     ]
    },
    {
     "name": "stdout",
     "output_type": "stream",
     "text": [
      "|-----> 🎉 Done! [0.0108s]\n"
     ]
    }
   ],
   "source": [
    "df_converted['Mus musculus'] = 1\n",
    "adata_mammalian = pya.pp.df_to_adata(df_converted, imputer_strategy='mean')"
   ]
  },
  {
   "cell_type": "markdown",
   "id": "7edae9ce-a0bc-4b78-8575-23745714b42b",
   "metadata": {},
   "source": [
    "Let's use these five mammalian predictors."
   ]
  },
  {
   "cell_type": "code",
   "execution_count": null,
   "id": "2eac6d95-249f-4cf9-9d90-ba7a29eacacd",
   "metadata": {},
   "outputs": [
    {
     "name": "stdout",
     "output_type": "stream",
     "text": [
      "|-----------> Using device: cpu\n"
     ]
    },
    {
     "name": "stdout",
     "output_type": "stream",
     "text": [
      "|-----> ✅ Set PyTorch device finished [0.0004s]\n"
     ]
    },
    {
     "name": "stdout",
     "output_type": "stream",
     "text": [
      "|-----> 🕒 Processing clock: mammalian1\n"
     ]
    },
    {
     "name": "stdout",
     "output_type": "stream",
     "text": [
      "|-----------> ⚙️ Load clock started\n"
     ]
    },
    {
     "name": "stdout",
     "output_type": "stream",
     "text": [
      "|-----------------> Data found in pyaging_data/mammalian1.pt\n"
     ]
    },
    {
     "name": "stdout",
     "output_type": "stream",
     "text": [
      "|-----------> ✅ Load clock finished [0.5462s]\n"
     ]
    },
    {
     "name": "stdout",
     "output_type": "stream",
     "text": [
      "|-----------> ⚙️ Check features in adata started\n"
     ]
    },
    {
     "name": "stdout",
     "output_type": "stream",
     "text": [
      "|-----------------? 274 out of 335 features (81.79%) are missing: ['cg00249943', 'cg00250826', 'cg00292639'], etc.\n"
     ]
    },
    {
     "name": "stdout",
     "output_type": "stream",
     "text": [
      "|-----------------> Filling missing features entirely with 0\n"
     ]
    },
    {
     "name": "stdout",
     "output_type": "stream",
     "text": [
      "|-----------------> Added prepared input matrix to adata.obsm[X_mammalian1]\n"
     ]
    },
    {
     "name": "stdout",
     "output_type": "stream",
     "text": [
      "|-----------> ⚠️ Check features in adata finished [0.0148s]\n"
     ]
    },
    {
     "name": "stdout",
     "output_type": "stream",
     "text": [
      "|-----------> ⚙️ Predict ages with model started\n"
     ]
    },
    {
     "name": "stdout",
     "output_type": "stream",
     "text": [
      "|-----------------> There is no preprocessing necessary\n"
     ]
    },
    {
     "name": "stdout",
     "output_type": "stream",
     "text": [
      "|-----------------> The postprocessing method is anti_logp2\n"
     ]
    },
    {
     "name": "stdout",
     "output_type": "stream",
     "text": [
      "\r",
      "|-----------------> in progress: 100.0000%\n"
     ]
    },
    {
     "name": "stdout",
     "output_type": "stream",
     "text": [
      "|-----------> ✅ Predict ages with model finished [0.0011s]\n"
     ]
    },
    {
     "name": "stdout",
     "output_type": "stream",
     "text": [
      "|-----------> ⚙️ Add predicted ages and clock metadata to adata started\n"
     ]
    },
    {
     "name": "stdout",
     "output_type": "stream",
     "text": [
      "|-----------> ✅ Add predicted ages and clock metadata to adata finished [0.0008s]\n"
     ]
    },
    {
     "name": "stdout",
     "output_type": "stream",
     "text": [
      "|-----> 🕒 Processing clock: mammalian2\n"
     ]
    },
    {
     "name": "stdout",
     "output_type": "stream",
     "text": [
      "|-----------> ⚙️ Load clock started\n"
     ]
    },
    {
     "name": "stdout",
     "output_type": "stream",
     "text": [
      "|-----------------> Data found in pyaging_data/mammalian2.pt\n"
     ]
    },
    {
     "name": "stdout",
     "output_type": "stream",
     "text": [
      "|-----------> ✅ Load clock finished [0.4681s]\n"
     ]
    },
    {
     "name": "stdout",
     "output_type": "stream",
     "text": [
      "|-----------> ⚙️ Check features in adata started\n"
     ]
    },
    {
     "name": "stdout",
     "output_type": "stream",
     "text": [
      "|-----------------? 2406 out of 2572 features (93.55%) are missing: ['cg00020468', 'cg00096922', 'cg00098422'], etc.\n"
     ]
    },
    {
     "name": "stdout",
     "output_type": "stream",
     "text": [
      "|-----------------> Using reference feature values for mammalian2\n"
     ]
    },
    {
     "name": "stdout",
     "output_type": "stream",
     "text": [
      "|-----------------> Added prepared input matrix to adata.obsm[X_mammalian2]\n"
     ]
    },
    {
     "name": "stdout",
     "output_type": "stream",
     "text": [
      "|-----------> ⚠️ Check features in adata finished [0.0295s]\n"
     ]
    },
    {
     "name": "stdout",
     "output_type": "stream",
     "text": [
      "|-----------> ⚙️ Predict ages with model started\n"
     ]
    },
    {
     "name": "stdout",
     "output_type": "stream",
     "text": [
      "|-----------------> There is no preprocessing necessary\n"
     ]
    },
    {
     "name": "stdout",
     "output_type": "stream",
     "text": [
      "|-----------------> The postprocessing method is mammalian2\n"
     ]
    },
    {
     "name": "stdout",
     "output_type": "stream",
     "text": [
      "\r",
      "|-----------------> in progress: 100.0000%\n"
     ]
    },
    {
     "name": "stdout",
     "output_type": "stream",
     "text": [
      "|-----------> ✅ Predict ages with model finished [0.0014s]\n"
     ]
    },
    {
     "name": "stdout",
     "output_type": "stream",
     "text": [
      "|-----------> ⚙️ Add predicted ages and clock metadata to adata started\n"
     ]
    },
    {
     "name": "stdout",
     "output_type": "stream",
     "text": [
      "|-----------> ✅ Add predicted ages and clock metadata to adata finished [0.0006s]\n"
     ]
    },
    {
     "name": "stdout",
     "output_type": "stream",
     "text": [
      "|-----> 🕒 Processing clock: mammalian3\n"
     ]
    },
    {
     "name": "stdout",
     "output_type": "stream",
     "text": [
      "|-----------> ⚙️ Load clock started\n"
     ]
    },
    {
     "name": "stdout",
     "output_type": "stream",
     "text": [
      "|-----------------> Data found in pyaging_data/mammalian3.pt\n"
     ]
    },
    {
     "name": "stdout",
     "output_type": "stream",
     "text": [
      "|-----------> ✅ Load clock finished [0.4942s]\n"
     ]
    },
    {
     "name": "stdout",
     "output_type": "stream",
     "text": [
      "|-----------> ⚙️ Check features in adata started\n"
     ]
    },
    {
     "name": "stdout",
     "output_type": "stream",
     "text": [
      "|-----------------? 2299 out of 2467 features (93.19%) are missing: ['cg00101675', 'cg06259996', 'cg15168457'], etc.\n"
     ]
    },
    {
     "name": "stdout",
     "output_type": "stream",
     "text": [
      "|-----------------> Using reference feature values for mammalian3\n"
     ]
    },
    {
     "name": "stdout",
     "output_type": "stream",
     "text": [
      "|-----------------> Added prepared input matrix to adata.obsm[X_mammalian3]\n"
     ]
    },
    {
     "name": "stdout",
     "output_type": "stream",
     "text": [
      "|-----------> ⚠️ Check features in adata finished [0.0315s]\n"
     ]
    },
    {
     "name": "stdout",
     "output_type": "stream",
     "text": [
      "|-----------> ⚙️ Predict ages with model started\n"
     ]
    },
    {
     "name": "stdout",
     "output_type": "stream",
     "text": [
      "|-----------------> There is no preprocessing necessary\n"
     ]
    },
    {
     "name": "stdout",
     "output_type": "stream",
     "text": [
      "|-----------------> The postprocessing method is mammalian3\n"
     ]
    },
    {
     "name": "stdout",
     "output_type": "stream",
     "text": [
      "\r",
      "|-----------------> in progress: 100.0000%\n"
     ]
    },
    {
     "name": "stdout",
     "output_type": "stream",
     "text": [
      "|-----------> ✅ Predict ages with model finished [0.0017s]\n"
     ]
    },
    {
     "name": "stdout",
     "output_type": "stream",
     "text": [
      "|-----------> ⚙️ Add predicted ages and clock metadata to adata started\n"
     ]
    },
    {
     "name": "stdout",
     "output_type": "stream",
     "text": [
      "|-----------> ✅ Add predicted ages and clock metadata to adata finished [0.0005s]\n"
     ]
    },
    {
     "name": "stdout",
     "output_type": "stream",
     "text": [
      "|-----> 🕒 Processing clock: mammalianlifespan\n"
     ]
    },
    {
     "name": "stdout",
     "output_type": "stream",
     "text": [
      "|-----------> ⚙️ Load clock started\n"
     ]
    },
    {
     "name": "stdout",
     "output_type": "stream",
     "text": [
      "|-----------------> Data found in pyaging_data/mammalianlifespan.pt\n"
     ]
    },
    {
     "name": "stdout",
     "output_type": "stream",
     "text": [
      "|-----------> ✅ Load clock finished [0.4444s]\n"
     ]
    },
    {
     "name": "stdout",
     "output_type": "stream",
     "text": [
      "|-----------> ⚙️ Check features in adata started\n"
     ]
    },
    {
     "name": "stdout",
     "output_type": "stream",
     "text": [
      "|-----------------? 133 out of 152 features (87.50%) are missing: ['cg00039845', 'cg00300233', 'cg00810217'], etc.\n"
     ]
    },
    {
     "name": "stdout",
     "output_type": "stream",
     "text": [
      "|-----------------> Using reference feature values for mammalianlifespan\n"
     ]
    },
    {
     "name": "stdout",
     "output_type": "stream",
     "text": [
      "|-----------------> Added prepared input matrix to adata.obsm[X_mammalianlifespan]\n"
     ]
    },
    {
     "name": "stdout",
     "output_type": "stream",
     "text": [
      "|-----------> ⚠️ Check features in adata finished [0.0095s]\n"
     ]
    },
    {
     "name": "stdout",
     "output_type": "stream",
     "text": [
      "|-----------> ⚙️ Predict ages with model started\n"
     ]
    },
    {
     "name": "stdout",
     "output_type": "stream",
     "text": [
      "|-----------------> There is no preprocessing necessary\n"
     ]
    },
    {
     "name": "stdout",
     "output_type": "stream",
     "text": [
      "|-----------------> There is no postprocessing necessary\n"
     ]
    },
    {
     "name": "stdout",
     "output_type": "stream",
     "text": [
      "\r",
      "|-----------------> in progress: 100.0000%\n"
     ]
    },
    {
     "name": "stdout",
     "output_type": "stream",
     "text": [
      "|-----------> ✅ Predict ages with model finished [0.0026s]\n"
     ]
    },
    {
     "name": "stdout",
     "output_type": "stream",
     "text": [
      "|-----------> ⚙️ Add predicted ages and clock metadata to adata started\n"
     ]
    },
    {
     "name": "stdout",
     "output_type": "stream",
     "text": [
      "|-----------> ✅ Add predicted ages and clock metadata to adata finished [0.0006s]\n"
     ]
    },
    {
     "name": "stdout",
     "output_type": "stream",
     "text": [
      "|-----> 🕒 Processing clock: mammalianfemale\n"
     ]
    },
    {
     "name": "stdout",
     "output_type": "stream",
     "text": [
      "|-----------> ⚙️ Load clock started\n"
     ]
    },
    {
     "name": "stdout",
     "output_type": "stream",
     "text": [
      "|-----------------> Data found in pyaging_data/mammalianfemale.pt\n"
     ]
    },
    {
     "name": "stdout",
     "output_type": "stream",
     "text": [
      "|-----------> ✅ Load clock finished [0.4082s]\n"
     ]
    },
    {
     "name": "stdout",
     "output_type": "stream",
     "text": [
      "|-----------> ⚙️ Check features in adata started\n"
     ]
    },
    {
     "name": "stdout",
     "output_type": "stream",
     "text": [
      "|-----------------? 73 out of 101 features (72.28%) are missing: ['cg01145947', 'cg02053792', 'cg02407848'], etc.\n"
     ]
    },
    {
     "name": "stdout",
     "output_type": "stream",
     "text": [
      "|-----------------> Filling missing features entirely with 0\n"
     ]
    },
    {
     "name": "stdout",
     "output_type": "stream",
     "text": [
      "|-----------------> Added prepared input matrix to adata.obsm[X_mammalianfemale]\n"
     ]
    },
    {
     "name": "stdout",
     "output_type": "stream",
     "text": [
      "|-----------> ⚠️ Check features in adata finished [0.0130s]\n"
     ]
    },
    {
     "name": "stdout",
     "output_type": "stream",
     "text": [
      "|-----------> ⚙️ Predict ages with model started\n"
     ]
    },
    {
     "name": "stdout",
     "output_type": "stream",
     "text": [
      "|-----------------> There is no preprocessing necessary\n"
     ]
    },
    {
     "name": "stdout",
     "output_type": "stream",
     "text": [
      "|-----------------> The postprocessing method is sigmoid\n"
     ]
    },
    {
     "name": "stdout",
     "output_type": "stream",
     "text": [
      "\r",
      "|-----------------> in progress: 100.0000%\n"
     ]
    },
    {
     "name": "stdout",
     "output_type": "stream",
     "text": [
      "|-----------> ✅ Predict ages with model finished [0.0009s]\n"
     ]
    },
    {
     "name": "stdout",
     "output_type": "stream",
     "text": [
      "|-----------> ⚙️ Add predicted ages and clock metadata to adata started\n"
     ]
    },
    {
     "name": "stdout",
     "output_type": "stream",
     "text": [
      "|-----------> ✅ Add predicted ages and clock metadata to adata finished [0.0004s]\n"
     ]
    },
    {
     "name": "stdout",
     "output_type": "stream",
     "text": [
      "|-----> 🎉 Done! [2.9784s]\n"
     ]
    }
   ],
   "source": [
    "pya.pred.predict_age(adata_mammalian, ['Mammalian1', 'Mammalian2', 'Mammalian3', \"MammalianLifespan\", \"MammalianFemale\"])"
   ]
  },
  {
   "cell_type": "markdown",
   "id": "de8ed8d2-213a-4ca9-a0d0-e141ba7d1789",
   "metadata": {},
   "source": [
    "Note that RRBS clocks are in units of months whereas the mammalian clocks are in units of years."
   ]
  },
  {
   "cell_type": "code",
   "execution_count": null,
   "id": "32c3c7fe-acbb-4fe8-b438-5c664a533c41",
   "metadata": {},
   "outputs": [],
   "source": [
    "adata_mammalian.obs"
   ]
  },
  {
   "cell_type": "markdown",
   "id": "615f8fbf-f5e1-4af9-a2a0-5f4f781001fe",
   "metadata": {},
   "source": [
    "## Get citation"
   ]
  },
  {
   "cell_type": "markdown",
   "id": "0fe55edd-9271-4b41-857d-ef3fceafc2a6",
   "metadata": {},
   "source": [
    "The doi, citation, and some metadata are automatically added to the AnnData object under `adata.uns[CLOCKNAME_metadata]`."
   ]
  },
  {
   "cell_type": "code",
   "execution_count": null,
   "id": "cdf4c609-7a24-4c3f-a891-647315b77d54",
   "metadata": {},
   "outputs": [],
   "source": [
    "adata.uns['thompson_metadata']"
   ]
  },
  {
   "cell_type": "code",
   "execution_count": null,
   "id": "466b1bc5-6207-469e-b479-260bbf55f2a7",
   "metadata": {},
   "outputs": [],
   "source": [
    "adata.uns['meer_metadata']"
   ]
  },
  {
   "cell_type": "code",
   "execution_count": null,
   "id": "2808782d-04d3-4527-8328-b18a583cf15b",
   "metadata": {},
   "outputs": [],
   "source": [
    "adata.uns['petkovich_metadata']"
   ]
  },
  {
   "cell_type": "code",
   "execution_count": null,
   "id": "ec210b8b-9ba1-45df-9b16-80a5f5ac86f4",
   "metadata": {},
   "outputs": [],
   "source": [
    "adata.uns['stubbs_metadata']"
   ]
  },
  {
   "cell_type": "code",
   "execution_count": null,
   "id": "78ed8018-bfdc-42b7-b814-d3a55184fc05",
   "metadata": {},
   "outputs": [],
   "source": [
    "adata_mammalian.uns['mammalian1_metadata']"
   ]
  },
  {
   "cell_type": "code",
   "execution_count": null,
   "id": "f4b9c4c7-d23b-4850-abf2-5f9a092c7bc4",
   "metadata": {},
   "outputs": [],
   "source": [
    "adata_mammalian.uns['mammalianlifespan_metadata']"
   ]
  }
 ],
 "metadata": {
  "kernelspec": {
   "display_name": "Python 3",
   "language": "python",
   "name": "python3"
  },
  "language_info": {
   "codemirror_mode": {
    "name": "ipython",
    "version": 3
   },
   "file_extension": ".py",
   "mimetype": "text/x-python",
   "name": "python",
   "nbconvert_exporter": "python",
   "pygments_lexer": "ipython3",
   "version": "3.9.17"
  }
 },
 "nbformat": 4,
 "nbformat_minor": 5
}

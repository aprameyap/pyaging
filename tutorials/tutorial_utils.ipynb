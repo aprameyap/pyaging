{
 "cells": [
  {
   "cell_type": "markdown",
   "id": "cfeef651-0cae-4d14-b011-3b78c46fa2e4",
   "metadata": {},
   "source": [
    "[![Open In Colab](https://colab.research.google.com/assets/colab-badge.svg)](https://colab.research.google.com/github/rsinghlab/pyaging/blob/main/tutorials/tutorial_utils.ipynb) [![Open In nbviewer](https://img.shields.io/badge/View%20in-nbviewer-orange)](https://nbviewer.jupyter.org/github/rsinghlab/pyaging/blob/main/tutorials/tutorial_utils.ipynb)"
   ]
  },
  {
   "cell_type": "markdown",
   "id": "c5aac698-f7ed-4489-8c6c-f75ec3f3df73",
   "metadata": {},
   "source": [
    "# Search, cite, and get metadata"
   ]
  },
  {
   "cell_type": "markdown",
   "id": "9d132efc-15f4-4b4d-bdd7-c1aa21f7d13e",
   "metadata": {},
   "source": [
    "This tutorial shows the use of some `pyaging` helper functions."
   ]
  },
  {
   "cell_type": "code",
   "execution_count": 1,
   "id": "445d6e41-c30f-4cbc-b5b3-97dc1020f09e",
   "metadata": {},
   "outputs": [],
   "source": [
    "import pyaging as pya"
   ]
  },
  {
   "cell_type": "markdown",
   "id": "72174a28-ddef-4ab1-ad7b-7c306920df23",
   "metadata": {},
   "source": [
    "## Search"
   ]
  },
  {
   "cell_type": "markdown",
   "id": "aac87908-def9-40d9-a2cc-ffb34fae2dc5",
   "metadata": {},
   "source": [
    "There are two main ways to search for a clock in `pyaging`. The first is through the doi of the paper in which the clock was developed."
   ]
  },
  {
   "cell_type": "code",
   "execution_count": 2,
   "id": "895dcb1b-20db-4d91-aebf-bbdc4af14ab7",
   "metadata": {},
   "outputs": [
    {
     "name": "stdout",
     "output_type": "stream",
     "text": [
      "|-----> 🏗️ Starting find_clock_by_doi function\n",
      "|-----> ⚙️ Load all clock metadata started\n",
      "|-----------> Downloading data to pyaging_data/all_clock_metadata.pt\n",
      "|-----------> in progress: 100.0000%\n",
      "|-----> ✅ Load all clock metadata finished [0.7043s]\n",
      "|-----> ⚙️ Searching for clock based on DOI started\n",
      "|-----------> in progress: 100.0000%\n",
      "|-----------> Clocks with DOI https://doi.org/10.1038/s43587-022-00248-2: pchorvath2013, pcphenoage, pcgrimage, pchannum, pcdnamtl, hrsinchphenoage, pcskinandblood\n",
      "|-----> ✅ Searching for clock based on DOI finished [0.0387s]\n",
      "|-----> 🎉 Done! [0.7460s]\n"
     ]
    }
   ],
   "source": [
    "pya.utils.find_clock_by_doi('https://doi.org/10.1038/s43587-022-00248-2')"
   ]
  },
  {
   "cell_type": "markdown",
   "id": "125e90ad-25f5-46e2-a2ad-0f87c6729ea9",
   "metadata": {},
   "source": [
    "The second way is by simply showing the names of all the clocks that are available."
   ]
  },
  {
   "cell_type": "code",
   "execution_count": 3,
   "id": "13b14cee-d51b-49f1-b7c0-4d03dd53a278",
   "metadata": {},
   "outputs": [
    {
     "name": "stdout",
     "output_type": "stream",
     "text": [
      "|-----> 🏗️ Starting show_all_clocks function\n",
      "|-----> ⚙️ Load all clock metadata started\n",
      "|-----------> Data found in pyaging_data/all_clock_metadata.pt\n",
      "|-----> ✅ Load all clock metadata finished [0.0028s]\n",
      "|-----> ⚙️ Showing all available clock names started\n",
      "|-----------> zhangmortality\n",
      "|-----------> petkovichblood\n",
      "|-----------> horvath2013\n",
      "|-----------> h3k36me3\n",
      "|-----------> encen100\n",
      "|-----------> panhistone\n",
      "|-----------> knight\n",
      "|-----------> ocampoatac2\n",
      "|-----------> lin\n",
      "|-----------> leerobust\n",
      "|-----------> h3k4me1\n",
      "|-----------> h3k27ac\n",
      "|-----------> stubbsmultitissue\n",
      "|-----------> mammalian1\n",
      "|-----------> pchorvath2013\n",
      "|-----------> replitali\n",
      "|-----------> h3k9me3\n",
      "|-----------> pcphenoage\n",
      "|-----------> skinandblood\n",
      "|-----------> meermultitissue\n",
      "|-----------> zhangblup\n",
      "|-----------> pcgrimage\n",
      "|-----------> dnamphenoage\n",
      "|-----------> pchannum\n",
      "|-----------> mammalianlifespan\n",
      "|-----------> leecontrol\n",
      "|-----------> pcdnamtl\n",
      "|-----------> leerefinedrobust\n",
      "|-----------> pedbe\n",
      "|-----------> thompsonmultitissue\n",
      "|-----------> dunedinpace\n",
      "|-----------> bitage\n",
      "|-----------> dnamtl\n",
      "|-----------> ocampoatac1\n",
      "|-----------> h3k9ac\n",
      "|-----------> h3k27me3\n",
      "|-----------> mammalian2\n",
      "|-----------> altumage\n",
      "|-----------> h3k4me3\n",
      "|-----------> hrsinchphenoage\n",
      "|-----------> phenoage\n",
      "|-----------> pcskinandblood\n",
      "|-----------> zhangen\n",
      "|-----------> mammalian3\n",
      "|-----------> hannum\n",
      "|-----------> encen40\n",
      "|-----> ✅ Showing all available clock names finished [0.0141s]\n",
      "|-----> 🎉 Done! [0.0204s]\n"
     ]
    }
   ],
   "source": [
    "pya.utils.show_all_clocks()"
   ]
  },
  {
   "cell_type": "markdown",
   "id": "6e579e9f-073d-4a26-9bd6-271068ac8601",
   "metadata": {},
   "source": [
    "## Cite"
   ]
  },
  {
   "cell_type": "markdown",
   "id": "fb15a3ba-4dd1-4526-ab45-732979fcd676",
   "metadata": {},
   "source": [
    "`pyaging` also provides citations for all available clocks."
   ]
  },
  {
   "cell_type": "code",
   "execution_count": 4,
   "id": "3a14445f-3f19-415c-a768-4cd9d7c193fa",
   "metadata": {},
   "outputs": [
    {
     "name": "stdout",
     "output_type": "stream",
     "text": [
      "|-----> 🏗️ Starting cite_clock function\n",
      "|-----> ⚙️ Load all clock metadata started\n",
      "|-----------> Data found in pyaging_data/all_clock_metadata.pt\n",
      "|-----> ✅ Load all clock metadata finished [0.0018s]\n",
      "|-----> ⚙️ Searching for citation of clock pchorvath2013 started\n",
      "|-----------> Citation for pchorvath2013:\n",
      "|-----------> Higgins-Chen, Albert T., et al. \"A computational solution for bolstering reliability of epigenetic clocks: Implications for clinical trials and longitudinal tracking.\" Nature aging 2.7 (2022): 644-661.\n",
      "|-----------> Please also consider citing pyaging :)\n",
      "|-----------> de Lima Camillo, Lucas Paulo. \"pyaging: a Python-based compendium of GPU-optimized aging clocks.\" bioRxiv (2023): 2023-11.\n",
      "|-----> ✅ Searching for citation of clock pchorvath2013 finished [0.0023s]\n",
      "|-----> 🎉 Done! [0.0060s]\n"
     ]
    }
   ],
   "source": [
    "pya.utils.cite_clock('PCHorvath2013')"
   ]
  },
  {
   "cell_type": "markdown",
   "id": "9838c1b6-47a6-44a4-8b3e-8c5e760c6172",
   "metadata": {},
   "source": [
    "## Get metadata"
   ]
  },
  {
   "cell_type": "markdown",
   "id": "99fc2253-7f33-479f-b946-97d0f77c6d19",
   "metadata": {},
   "source": [
    "To get all of the metadata for a clock, including citation and doi, just run the following."
   ]
  },
  {
   "cell_type": "code",
   "execution_count": 5,
   "id": "f822e4bb-88e7-4809-808f-701185c1e5ed",
   "metadata": {},
   "outputs": [
    {
     "name": "stdout",
     "output_type": "stream",
     "text": [
      "|-----> 🏗️ Starting get_clock_metadata function\n",
      "|-----> ⚙️ Load all clock metadata started\n",
      "|-----------> Data found in pyaging_data/all_clock_metadata.pt\n",
      "|-----> ✅ Load all clock metadata finished [0.0012s]\n",
      "|-----> ⚙️ Showing pchorvath2013 metadata started\n",
      "|-----------> species: Homo sapiens\n",
      "|-----------> data_type: methylation\n",
      "|-----------> year: 2022\n",
      "|-----------> implementation_approved_by_author(s): ⌛\n",
      "|-----------> preprocessing: None\n",
      "|-----------> postprocessing: anti_log_linear\n",
      "|-----------> citation: Higgins-Chen, Albert T., et al. \"A computational solution for bolstering reliability of epigenetic clocks: Implications for clinical trials and longitudinal tracking.\" Nature aging 2.7 (2022): 644-661.\n",
      "|-----------> doi: https://doi.org/10.1038/s43587-022-00248-2\n",
      "|-----------> notes: None\n",
      "|-----> ✅ Showing pchorvath2013 metadata finished [0.0020s]\n",
      "|-----> 🎉 Done! [0.0046s]\n"
     ]
    }
   ],
   "source": [
    "pya.utils.get_clock_metadata('PCHorvath2013')"
   ]
  },
  {
   "cell_type": "markdown",
   "id": "b95a3ad8-efdd-4c73-8851-ec17071a6e78",
   "metadata": {},
   "source": [
    "## Get weights"
   ]
  },
  {
   "cell_type": "markdown",
   "id": "02a494ca-d06b-4b0b-90b8-f4013a1c100c",
   "metadata": {},
   "source": [
    "To easily analyze the weights and features of a particular clock, please use:"
   ]
  },
  {
   "cell_type": "code",
   "execution_count": 6,
   "id": "7c853695-bc26-4f66-bd9d-39ec2c381f80",
   "metadata": {},
   "outputs": [
    {
     "name": "stdout",
     "output_type": "stream",
     "text": [
      "|-----> 🏗️ Starting get_clock_weights function\n",
      "|-----> ⚙️ Load all clock metadata started\n",
      "|-----------> Data found in pyaging_data/all_clock_metadata.pt\n",
      "|-----> ✅ Load all clock metadata finished [0.0019s]\n",
      "|-----------> Data found in pyaging_data/pchorvath2013.pt\n",
      "|-----> 🎉 Done! [0.0366s]\n"
     ]
    }
   ],
   "source": [
    "clock_dict = pya.utils.get_clock_weights('PCHorvath2013')"
   ]
  },
  {
   "cell_type": "markdown",
   "id": "f25f68da-0c13-4403-85ab-88f8a8d70c29",
   "metadata": {},
   "source": [
    "Let's check the variables in the dictionary."
   ]
  },
  {
   "cell_type": "code",
   "execution_count": 7,
   "id": "8660aec5-82a8-4b70-a71a-bd3571a81ded",
   "metadata": {},
   "outputs": [
    {
     "data": {
      "text/plain": [
       "dict_keys(['preprocessing', 'preprocessing_helper', 'postprocessing', 'postprocessing_helper', 'features', 'weight_dict', 'model_class'])"
      ]
     },
     "execution_count": 7,
     "metadata": {},
     "output_type": "execute_result"
    }
   ],
   "source": [
    "clock_dict.keys()"
   ]
  },
  {
   "cell_type": "markdown",
   "id": "a508d495-e2dd-4757-ad4d-732836f08c64",
   "metadata": {},
   "source": [
    "A quick look at the features:"
   ]
  },
  {
   "cell_type": "code",
   "execution_count": 8,
   "id": "7e5ec51f-146a-45a6-ba7f-5a825b8315fd",
   "metadata": {},
   "outputs": [
    {
     "data": {
      "text/plain": [
       "['cg00000292',\n",
       " 'cg00000714',\n",
       " 'cg00001099',\n",
       " 'cg00001446',\n",
       " 'cg00001747',\n",
       " 'cg00002116',\n",
       " 'cg00002224',\n",
       " 'cg00002426',\n",
       " 'cg00002646',\n",
       " 'cg00002660']"
      ]
     },
     "execution_count": 8,
     "metadata": {},
     "output_type": "execute_result"
    }
   ],
   "source": [
    "clock_dict['features'][0:10]"
   ]
  },
  {
   "cell_type": "markdown",
   "id": "ded4bcf1-a715-472f-9443-80028c92ec97",
   "metadata": {},
   "source": [
    "And finally, a quick look at the weight dictionary:"
   ]
  },
  {
   "cell_type": "code",
   "execution_count": 9,
   "id": "e59e2353-cdaa-4a88-9023-0fe4a8286698",
   "metadata": {},
   "outputs": [
    {
     "data": {
      "text/plain": [
       "odict_keys(['center', 'rotation', 'linear.weight', 'linear.bias'])"
      ]
     },
     "execution_count": 9,
     "metadata": {},
     "output_type": "execute_result"
    }
   ],
   "source": [
    "clock_dict['weight_dict'].keys()"
   ]
  },
  {
   "cell_type": "markdown",
   "id": "c4987574-3efc-4b63-8dcc-9938c94bc275",
   "metadata": {},
   "source": [
    "For a more in depth look at how the clock was setup, including the model type and the source of the weights, please look at our [clocks notebook folder](https://github.com/rsinghlab/pyaging/tree/main/clocks/notebooks) on GitHub."
   ]
  }
 ],
 "metadata": {
  "kernelspec": {
   "display_name": "Python 3",
   "language": "python",
   "name": "python3"
  },
  "language_info": {
   "codemirror_mode": {
    "name": "ipython",
    "version": 3
   },
   "file_extension": ".py",
   "mimetype": "text/x-python",
   "name": "python",
   "nbconvert_exporter": "python",
   "pygments_lexer": "ipython3",
   "version": "3.9.17"
  }
 },
 "nbformat": 4,
 "nbformat_minor": 5
}

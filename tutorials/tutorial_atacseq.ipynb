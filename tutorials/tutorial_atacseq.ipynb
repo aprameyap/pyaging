{
 "cells": [
  {
   "cell_type": "markdown",
   "id": "82321cbb-e1b9-49f3-b826-32c4fafd96f4",
   "metadata": {},
   "source": [
    "[![Open In Colab](https://colab.research.google.com/assets/colab-badge.svg)](https://colab.research.google.com/github/rsinghlab/pyaging/blob/main/tutorials/tutorial_atacseq.ipynb) [![Open In nbviewer](https://img.shields.io/badge/View%20in-nbviewer-orange)](https://nbviewer.jupyter.org/github/rsinghlab/pyaging/blob/main/tutorials/tutorial_atacseq.ipynb)"
   ]
  },
  {
   "cell_type": "markdown",
   "id": "cf837dcf-de19-46f7-9c81-c063a45b14b6",
   "metadata": {},
   "source": [
    "# Bulk ATAC-Seq"
   ]
  },
  {
   "cell_type": "markdown",
   "id": "133e64f6-a0d2-4a70-84a0-33a4c2bea725",
   "metadata": {},
   "source": [
    "This tutorial is a brief guide for the implementation of the two ATAC clocks developed by Morandini et al. Link to [paper](https://link.springer.com/article/10.1007/s11357-023-00986-0)."
   ]
  },
  {
   "cell_type": "markdown",
   "id": "a0469770-c9af-4d69-a055-bf3c312286db",
   "metadata": {},
   "source": [
    "We just need two packages for this tutorial."
   ]
  },
  {
   "cell_type": "code",
   "execution_count": 1,
   "id": "e64f6bb6-7c95-4b9e-b37a-4ae811dc088d",
   "metadata": {},
   "outputs": [],
   "source": [
    "import pandas as pd\n",
    "import pyaging as pya "
   ]
  },
  {
   "cell_type": "markdown",
   "id": "5c367e47-ceca-4c73-ac14-b6a9a781c66a",
   "metadata": {},
   "source": [
    "## Download and load example data"
   ]
  },
  {
   "cell_type": "markdown",
   "id": "52b6e9c2-b7b7-4655-ab9c-84afe3185b78",
   "metadata": {},
   "source": [
    "If you have your own ATAC-Seq data, please follow the recommendations in the Ocampo paper. Specifically, one needs to count the number of reads for each of the peak regions from the paper (file [here](https://static-content.springer.com/esm/art%3A10.1007%2Fs11357-023-00986-0/MediaObjects/11357_2023_986_MOESM9_ESM.tsv)). This can be done through the code found on their [GitHub](https://github.com/SunScript0/ATAC-clock/blob/main/pipeline_atac/02_peakset_and_counts.sh) using featureCounts."
   ]
  },
  {
   "cell_type": "markdown",
   "id": "76f0a1a6-ad70-4a40-8fd0-63de208c7ad5",
   "metadata": {},
   "source": [
    "For testing purposes, let's download an example of input for the ATAC clocks. For instructions on how to go from raw sequencing reads to the data table, please refer to the paper. "
   ]
  },
  {
   "cell_type": "code",
   "execution_count": 2,
   "id": "f94c6816-cb92-42e9-893b-b206def28922",
   "metadata": {},
   "outputs": [
    {
     "name": "stdout",
     "output_type": "stream",
     "text": [
      "|-----> 🏗️ Starting download_example_data function\n",
      "|-----------> Data found in pyaging_data/GSE193140.pkl\n",
      "|-----> 🎉 Done! [0.5128s]\n"
     ]
    },
    {
     "name": "stdout",
     "output_type": "stream",
     "text": [
      "\r",
      "|-----------> in progress: 1.0011%"
     ]
    },
    {
     "name": "stdout",
     "output_type": "stream",
     "text": [
      "\r",
      "|-----------> in progress: 2.0023%"
     ]
    },
    {
     "name": "stdout",
     "output_type": "stream",
     "text": [
      "\r",
      "|-----------> in progress: 3.0034%"
     ]
    },
    {
     "name": "stdout",
     "output_type": "stream",
     "text": [
      "\r",
      "|-----------> in progress: 4.0045%"
     ]
    },
    {
     "name": "stdout",
     "output_type": "stream",
     "text": [
      "\r",
      "|-----------> in progress: 5.0057%"
     ]
    },
    {
     "name": "stdout",
     "output_type": "stream",
     "text": [
      "\r",
      "|-----------> in progress: 6.0068%"
     ]
    },
    {
     "name": "stdout",
     "output_type": "stream",
     "text": [
      "\r",
      "|-----------> in progress: 7.0079%"
     ]
    },
    {
     "name": "stdout",
     "output_type": "stream",
     "text": [
      "\r",
      "|-----------> in progress: 8.0091%"
     ]
    },
    {
     "name": "stdout",
     "output_type": "stream",
     "text": [
      "\r",
      "|-----------> in progress: 9.0102%"
     ]
    },
    {
     "name": "stdout",
     "output_type": "stream",
     "text": [
      "\r",
      "|-----------> in progress: 10.0113%"
     ]
    },
    {
     "name": "stdout",
     "output_type": "stream",
     "text": [
      "\r",
      "|-----------> in progress: 11.0125%"
     ]
    },
    {
     "name": "stdout",
     "output_type": "stream",
     "text": [
      "\r",
      "|-----------> in progress: 12.0136%"
     ]
    },
    {
     "name": "stdout",
     "output_type": "stream",
     "text": [
      "\r",
      "|-----------> in progress: 13.0147%"
     ]
    },
    {
     "name": "stdout",
     "output_type": "stream",
     "text": [
      "\r",
      "|-----------> in progress: 14.0159%"
     ]
    },
    {
     "name": "stdout",
     "output_type": "stream",
     "text": [
      "\r",
      "|-----------> in progress: 15.0170%"
     ]
    },
    {
     "name": "stdout",
     "output_type": "stream",
     "text": [
      "\r",
      "|-----------> in progress: 16.0181%"
     ]
    },
    {
     "name": "stdout",
     "output_type": "stream",
     "text": [
      "\r",
      "|-----------> in progress: 17.0193%"
     ]
    },
    {
     "name": "stdout",
     "output_type": "stream",
     "text": [
      "\r",
      "|-----------> in progress: 18.0204%"
     ]
    },
    {
     "name": "stdout",
     "output_type": "stream",
     "text": [
      "\r",
      "|-----------> in progress: 19.0215%"
     ]
    },
    {
     "name": "stdout",
     "output_type": "stream",
     "text": [
      "\r",
      "|-----------> in progress: 20.0227%"
     ]
    },
    {
     "name": "stdout",
     "output_type": "stream",
     "text": [
      "\r",
      "|-----------> in progress: 21.0238%"
     ]
    },
    {
     "name": "stdout",
     "output_type": "stream",
     "text": [
      "\r",
      "|-----------> in progress: 22.0249%"
     ]
    },
    {
     "name": "stdout",
     "output_type": "stream",
     "text": [
      "\r",
      "|-----------> in progress: 23.0261%"
     ]
    },
    {
     "name": "stdout",
     "output_type": "stream",
     "text": [
      "\r",
      "|-----------> in progress: 24.0272%"
     ]
    },
    {
     "name": "stdout",
     "output_type": "stream",
     "text": [
      "\r",
      "|-----------> in progress: 25.0283%"
     ]
    },
    {
     "name": "stdout",
     "output_type": "stream",
     "text": [
      "\r",
      "|-----------> in progress: 26.0295%"
     ]
    },
    {
     "name": "stdout",
     "output_type": "stream",
     "text": [
      "\r",
      "|-----------> in progress: 27.0306%"
     ]
    },
    {
     "name": "stdout",
     "output_type": "stream",
     "text": [
      "\r",
      "|-----------> in progress: 28.0317%"
     ]
    },
    {
     "name": "stdout",
     "output_type": "stream",
     "text": [
      "\r",
      "|-----------> in progress: 29.0329%"
     ]
    },
    {
     "name": "stdout",
     "output_type": "stream",
     "text": [
      "\r",
      "|-----------> in progress: 30.0340%"
     ]
    },
    {
     "name": "stdout",
     "output_type": "stream",
     "text": [
      "\r",
      "|-----------> in progress: 31.0351%"
     ]
    },
    {
     "name": "stdout",
     "output_type": "stream",
     "text": [
      "\r",
      "|-----------> in progress: 32.0363%"
     ]
    },
    {
     "name": "stdout",
     "output_type": "stream",
     "text": [
      "\r",
      "|-----------> in progress: 33.0374%"
     ]
    },
    {
     "name": "stdout",
     "output_type": "stream",
     "text": [
      "\r",
      "|-----------> in progress: 34.0385%"
     ]
    },
    {
     "name": "stdout",
     "output_type": "stream",
     "text": [
      "\r",
      "|-----------> in progress: 35.0397%"
     ]
    },
    {
     "name": "stdout",
     "output_type": "stream",
     "text": [
      "\r",
      "|-----------> in progress: 36.0408%"
     ]
    },
    {
     "name": "stdout",
     "output_type": "stream",
     "text": [
      "\r",
      "|-----------> in progress: 37.0419%"
     ]
    },
    {
     "name": "stdout",
     "output_type": "stream",
     "text": [
      "\r",
      "|-----------> in progress: 38.0431%"
     ]
    },
    {
     "name": "stdout",
     "output_type": "stream",
     "text": [
      "\r",
      "|-----------> in progress: 39.0442%"
     ]
    },
    {
     "name": "stdout",
     "output_type": "stream",
     "text": [
      "\r",
      "|-----------> in progress: 40.0454%"
     ]
    },
    {
     "name": "stdout",
     "output_type": "stream",
     "text": [
      "\r",
      "|-----------> in progress: 41.0465%"
     ]
    },
    {
     "name": "stdout",
     "output_type": "stream",
     "text": [
      "\r",
      "|-----------> in progress: 42.0476%"
     ]
    },
    {
     "name": "stdout",
     "output_type": "stream",
     "text": [
      "\r",
      "|-----------> in progress: 43.0488%"
     ]
    },
    {
     "name": "stdout",
     "output_type": "stream",
     "text": [
      "\r",
      "|-----------> in progress: 44.0499%"
     ]
    },
    {
     "name": "stdout",
     "output_type": "stream",
     "text": [
      "\r",
      "|-----------> in progress: 45.0510%"
     ]
    },
    {
     "name": "stdout",
     "output_type": "stream",
     "text": [
      "\r",
      "|-----------> in progress: 46.0522%"
     ]
    },
    {
     "name": "stdout",
     "output_type": "stream",
     "text": [
      "\r",
      "|-----------> in progress: 47.0533%"
     ]
    },
    {
     "name": "stdout",
     "output_type": "stream",
     "text": [
      "\r",
      "|-----------> in progress: 48.0544%"
     ]
    },
    {
     "name": "stdout",
     "output_type": "stream",
     "text": [
      "\r",
      "|-----------> in progress: 49.0556%"
     ]
    },
    {
     "name": "stdout",
     "output_type": "stream",
     "text": [
      "\r",
      "|-----------> in progress: 50.0567%"
     ]
    },
    {
     "name": "stdout",
     "output_type": "stream",
     "text": [
      "\r",
      "|-----------> in progress: 51.0578%"
     ]
    },
    {
     "name": "stdout",
     "output_type": "stream",
     "text": [
      "\r",
      "|-----------> in progress: 52.0590%"
     ]
    },
    {
     "name": "stdout",
     "output_type": "stream",
     "text": [
      "\r",
      "|-----------> in progress: 53.0601%"
     ]
    },
    {
     "name": "stdout",
     "output_type": "stream",
     "text": [
      "\r",
      "|-----------> in progress: 54.0612%"
     ]
    },
    {
     "name": "stdout",
     "output_type": "stream",
     "text": [
      "\r",
      "|-----------> in progress: 55.0624%"
     ]
    },
    {
     "name": "stdout",
     "output_type": "stream",
     "text": [
      "\r",
      "|-----------> in progress: 56.0635%"
     ]
    },
    {
     "name": "stdout",
     "output_type": "stream",
     "text": [
      "\r",
      "|-----------> in progress: 57.0646%"
     ]
    },
    {
     "name": "stdout",
     "output_type": "stream",
     "text": [
      "\r",
      "|-----------> in progress: 58.0658%"
     ]
    },
    {
     "name": "stdout",
     "output_type": "stream",
     "text": [
      "\r",
      "|-----------> in progress: 59.0669%"
     ]
    },
    {
     "name": "stdout",
     "output_type": "stream",
     "text": [
      "\r",
      "|-----------> in progress: 60.0680%"
     ]
    },
    {
     "name": "stdout",
     "output_type": "stream",
     "text": [
      "\r",
      "|-----------> in progress: 61.0692%"
     ]
    },
    {
     "name": "stdout",
     "output_type": "stream",
     "text": [
      "\r",
      "|-----------> in progress: 62.0703%"
     ]
    },
    {
     "name": "stdout",
     "output_type": "stream",
     "text": [
      "\r",
      "|-----------> in progress: 63.0714%"
     ]
    },
    {
     "name": "stdout",
     "output_type": "stream",
     "text": [
      "\r",
      "|-----------> in progress: 64.0726%"
     ]
    },
    {
     "name": "stdout",
     "output_type": "stream",
     "text": [
      "\r",
      "|-----------> in progress: 65.0737%"
     ]
    },
    {
     "name": "stdout",
     "output_type": "stream",
     "text": [
      "\r",
      "|-----------> in progress: 66.0748%"
     ]
    },
    {
     "name": "stdout",
     "output_type": "stream",
     "text": [
      "\r",
      "|-----------> in progress: 67.0760%"
     ]
    },
    {
     "name": "stdout",
     "output_type": "stream",
     "text": [
      "\r",
      "|-----------> in progress: 68.0771%"
     ]
    },
    {
     "name": "stdout",
     "output_type": "stream",
     "text": [
      "\r",
      "|-----------> in progress: 69.0782%"
     ]
    },
    {
     "name": "stdout",
     "output_type": "stream",
     "text": [
      "\r",
      "|-----------> in progress: 70.0794%"
     ]
    },
    {
     "name": "stdout",
     "output_type": "stream",
     "text": [
      "\r",
      "|-----------> in progress: 71.0805%"
     ]
    },
    {
     "name": "stdout",
     "output_type": "stream",
     "text": [
      "\r",
      "|-----------> in progress: 72.0816%"
     ]
    },
    {
     "name": "stdout",
     "output_type": "stream",
     "text": [
      "\r",
      "|-----------> in progress: 73.0828%"
     ]
    },
    {
     "name": "stdout",
     "output_type": "stream",
     "text": [
      "\r",
      "|-----------> in progress: 74.0839%"
     ]
    },
    {
     "name": "stdout",
     "output_type": "stream",
     "text": [
      "\r",
      "|-----------> in progress: 75.0850%"
     ]
    },
    {
     "name": "stdout",
     "output_type": "stream",
     "text": [
      "\r",
      "|-----------> in progress: 76.0862%"
     ]
    },
    {
     "name": "stdout",
     "output_type": "stream",
     "text": [
      "\r",
      "|-----------> in progress: 77.0873%"
     ]
    },
    {
     "name": "stdout",
     "output_type": "stream",
     "text": [
      "\r",
      "|-----------> in progress: 78.0884%"
     ]
    },
    {
     "name": "stdout",
     "output_type": "stream",
     "text": [
      "\r",
      "|-----------> in progress: 79.0896%"
     ]
    },
    {
     "name": "stdout",
     "output_type": "stream",
     "text": [
      "\r",
      "|-----------> in progress: 80.0907%"
     ]
    },
    {
     "name": "stdout",
     "output_type": "stream",
     "text": [
      "\r",
      "|-----------> in progress: 81.0918%"
     ]
    },
    {
     "name": "stdout",
     "output_type": "stream",
     "text": [
      "\r",
      "|-----------> in progress: 82.0930%"
     ]
    },
    {
     "name": "stdout",
     "output_type": "stream",
     "text": [
      "\r",
      "|-----------> in progress: 83.0941%"
     ]
    },
    {
     "name": "stdout",
     "output_type": "stream",
     "text": [
      "\r",
      "|-----------> in progress: 84.0952%"
     ]
    },
    {
     "name": "stdout",
     "output_type": "stream",
     "text": [
      "\r",
      "|-----------> in progress: 85.0964%"
     ]
    },
    {
     "name": "stdout",
     "output_type": "stream",
     "text": [
      "\r",
      "|-----------> in progress: 86.0975%"
     ]
    },
    {
     "name": "stdout",
     "output_type": "stream",
     "text": [
      "\r",
      "|-----------> in progress: 87.0986%"
     ]
    },
    {
     "name": "stdout",
     "output_type": "stream",
     "text": [
      "\r",
      "|-----------> in progress: 88.0998%"
     ]
    },
    {
     "name": "stdout",
     "output_type": "stream",
     "text": [
      "\r",
      "|-----------> in progress: 89.1009%"
     ]
    },
    {
     "name": "stdout",
     "output_type": "stream",
     "text": [
      "\r",
      "|-----------> in progress: 90.1020%"
     ]
    },
    {
     "name": "stdout",
     "output_type": "stream",
     "text": [
      "\r",
      "|-----------> in progress: 91.1032%"
     ]
    },
    {
     "name": "stdout",
     "output_type": "stream",
     "text": [
      "\r",
      "|-----------> in progress: 92.1043%"
     ]
    },
    {
     "name": "stdout",
     "output_type": "stream",
     "text": [
      "\r",
      "|-----------> in progress: 93.1054%"
     ]
    },
    {
     "name": "stdout",
     "output_type": "stream",
     "text": [
      "\r",
      "|-----------> in progress: 94.1066%"
     ]
    },
    {
     "name": "stdout",
     "output_type": "stream",
     "text": [
      "\r",
      "|-----------> in progress: 95.1077%"
     ]
    },
    {
     "name": "stdout",
     "output_type": "stream",
     "text": [
      "\r",
      "|-----------> in progress: 96.1088%"
     ]
    },
    {
     "name": "stdout",
     "output_type": "stream",
     "text": [
      "\r",
      "|-----------> in progress: 97.1100%"
     ]
    },
    {
     "name": "stdout",
     "output_type": "stream",
     "text": [
      "\r",
      "|-----------> in progress: 98.1111%"
     ]
    },
    {
     "name": "stdout",
     "output_type": "stream",
     "text": [
      "\r",
      "|-----------> in progress: 99.1122%"
     ]
    },
    {
     "name": "stdout",
     "output_type": "stream",
     "text": [
      "\r",
      "|-----------> in progress: 100.0000%\n"
     ]
    },
    {
     "name": "stdout",
     "output_type": "stream",
     "text": [
      "|-----> 🎉 Done! [16.4198s]\n"
     ]
    }
   ],
   "source": [
    "pya.data.download_example_data('GSE193140')"
   ]
  },
  {
   "cell_type": "code",
   "execution_count": 3,
   "id": "078b2b96-7317-4f84-a8c4-16276fb76137",
   "metadata": {},
   "outputs": [],
   "source": [
    "df = pd.read_pickle('pyaging_data/GSE193140.pkl')"
   ]
  },
  {
   "cell_type": "code",
   "execution_count": 4,
   "id": "cd1a8e9b-53a5-4cfc-ac6d-22d9ed09784a",
   "metadata": {},
   "outputs": [
    {
     "data": {
      "text/html": [
       "<div>\n",
       "<style scoped>\n",
       "    .dataframe tbody tr th:only-of-type {\n",
       "        vertical-align: middle;\n",
       "    }\n",
       "\n",
       "    .dataframe tbody tr th {\n",
       "        vertical-align: top;\n",
       "    }\n",
       "\n",
       "    .dataframe thead th {\n",
       "        text-align: right;\n",
       "    }\n",
       "</style>\n",
       "<table border=\"1\" class=\"dataframe\">\n",
       "  <thead>\n",
       "    <tr style=\"text-align: right;\">\n",
       "      <th></th>\n",
       "      <th>chr1:817100-817691</th>\n",
       "      <th>chr1:826742-828191</th>\n",
       "      <th>chr1:841908-843021</th>\n",
       "      <th>chr1:844055-844921</th>\n",
       "      <th>chr1:857908-859108</th>\n",
       "      <th>chr1:869571-870271</th>\n",
       "      <th>chr1:898378-899076</th>\n",
       "      <th>chr1:904303-905702</th>\n",
       "      <th>chr1:906675-907111</th>\n",
       "      <th>chr1:912617-913368</th>\n",
       "      <th>...</th>\n",
       "      <th>chrY:21073148-21074236</th>\n",
       "      <th>chrY:21174455-21175401</th>\n",
       "      <th>chrY:21177324-21177828</th>\n",
       "      <th>chrY:21180682-21181317</th>\n",
       "      <th>chrY:21239902-21241040</th>\n",
       "      <th>chrY:21248553-21249961</th>\n",
       "      <th>chrY:21256824-21257260</th>\n",
       "      <th>chrY:21259823-21260874</th>\n",
       "      <th>chrY:22086084-22086722</th>\n",
       "      <th>chrY:22499696-22500344</th>\n",
       "    </tr>\n",
       "  </thead>\n",
       "  <tbody>\n",
       "    <tr>\n",
       "      <th>CR_124</th>\n",
       "      <td>182</td>\n",
       "      <td>2652</td>\n",
       "      <td>15</td>\n",
       "      <td>11</td>\n",
       "      <td>9</td>\n",
       "      <td>843</td>\n",
       "      <td>2</td>\n",
       "      <td>714</td>\n",
       "      <td>556</td>\n",
       "      <td>37</td>\n",
       "      <td>...</td>\n",
       "      <td>62</td>\n",
       "      <td>104</td>\n",
       "      <td>65</td>\n",
       "      <td>31</td>\n",
       "      <td>90</td>\n",
       "      <td>20</td>\n",
       "      <td>50</td>\n",
       "      <td>21</td>\n",
       "      <td>2</td>\n",
       "      <td>2</td>\n",
       "    </tr>\n",
       "    <tr>\n",
       "      <th>CR_122</th>\n",
       "      <td>96</td>\n",
       "      <td>2688</td>\n",
       "      <td>27</td>\n",
       "      <td>25</td>\n",
       "      <td>40</td>\n",
       "      <td>1097</td>\n",
       "      <td>13</td>\n",
       "      <td>786</td>\n",
       "      <td>167</td>\n",
       "      <td>12</td>\n",
       "      <td>...</td>\n",
       "      <td>11</td>\n",
       "      <td>13</td>\n",
       "      <td>31</td>\n",
       "      <td>25</td>\n",
       "      <td>270</td>\n",
       "      <td>37</td>\n",
       "      <td>29</td>\n",
       "      <td>18</td>\n",
       "      <td>9</td>\n",
       "      <td>12</td>\n",
       "    </tr>\n",
       "    <tr>\n",
       "      <th>CR_121</th>\n",
       "      <td>137</td>\n",
       "      <td>2785</td>\n",
       "      <td>42</td>\n",
       "      <td>46</td>\n",
       "      <td>69</td>\n",
       "      <td>1297</td>\n",
       "      <td>8</td>\n",
       "      <td>638</td>\n",
       "      <td>351</td>\n",
       "      <td>24</td>\n",
       "      <td>...</td>\n",
       "      <td>0</td>\n",
       "      <td>0</td>\n",
       "      <td>0</td>\n",
       "      <td>0</td>\n",
       "      <td>0</td>\n",
       "      <td>0</td>\n",
       "      <td>0</td>\n",
       "      <td>0</td>\n",
       "      <td>0</td>\n",
       "      <td>0</td>\n",
       "    </tr>\n",
       "    <tr>\n",
       "      <th>CR_120</th>\n",
       "      <td>169</td>\n",
       "      <td>2819</td>\n",
       "      <td>29</td>\n",
       "      <td>35</td>\n",
       "      <td>46</td>\n",
       "      <td>1373</td>\n",
       "      <td>20</td>\n",
       "      <td>931</td>\n",
       "      <td>301</td>\n",
       "      <td>10</td>\n",
       "      <td>...</td>\n",
       "      <td>7</td>\n",
       "      <td>9</td>\n",
       "      <td>8</td>\n",
       "      <td>33</td>\n",
       "      <td>151</td>\n",
       "      <td>47</td>\n",
       "      <td>50</td>\n",
       "      <td>18</td>\n",
       "      <td>32</td>\n",
       "      <td>14</td>\n",
       "    </tr>\n",
       "    <tr>\n",
       "      <th>CR_119</th>\n",
       "      <td>205</td>\n",
       "      <td>3005</td>\n",
       "      <td>18</td>\n",
       "      <td>45</td>\n",
       "      <td>37</td>\n",
       "      <td>1025</td>\n",
       "      <td>33</td>\n",
       "      <td>1138</td>\n",
       "      <td>241</td>\n",
       "      <td>36</td>\n",
       "      <td>...</td>\n",
       "      <td>15</td>\n",
       "      <td>18</td>\n",
       "      <td>17</td>\n",
       "      <td>12</td>\n",
       "      <td>57</td>\n",
       "      <td>25</td>\n",
       "      <td>7</td>\n",
       "      <td>8</td>\n",
       "      <td>7</td>\n",
       "      <td>7</td>\n",
       "    </tr>\n",
       "  </tbody>\n",
       "</table>\n",
       "<p>5 rows × 80400 columns</p>\n",
       "</div>"
      ],
      "text/plain": [
       "        chr1:817100-817691  chr1:826742-828191  chr1:841908-843021  \\\n",
       "CR_124                 182                2652                  15   \n",
       "CR_122                  96                2688                  27   \n",
       "CR_121                 137                2785                  42   \n",
       "CR_120                 169                2819                  29   \n",
       "CR_119                 205                3005                  18   \n",
       "\n",
       "        chr1:844055-844921  chr1:857908-859108  chr1:869571-870271  \\\n",
       "CR_124                  11                   9                 843   \n",
       "CR_122                  25                  40                1097   \n",
       "CR_121                  46                  69                1297   \n",
       "CR_120                  35                  46                1373   \n",
       "CR_119                  45                  37                1025   \n",
       "\n",
       "        chr1:898378-899076  chr1:904303-905702  chr1:906675-907111  \\\n",
       "CR_124                   2                 714                 556   \n",
       "CR_122                  13                 786                 167   \n",
       "CR_121                   8                 638                 351   \n",
       "CR_120                  20                 931                 301   \n",
       "CR_119                  33                1138                 241   \n",
       "\n",
       "        chr1:912617-913368  ...  chrY:21073148-21074236  \\\n",
       "CR_124                  37  ...                      62   \n",
       "CR_122                  12  ...                      11   \n",
       "CR_121                  24  ...                       0   \n",
       "CR_120                  10  ...                       7   \n",
       "CR_119                  36  ...                      15   \n",
       "\n",
       "        chrY:21174455-21175401  chrY:21177324-21177828  \\\n",
       "CR_124                     104                      65   \n",
       "CR_122                      13                      31   \n",
       "CR_121                       0                       0   \n",
       "CR_120                       9                       8   \n",
       "CR_119                      18                      17   \n",
       "\n",
       "        chrY:21180682-21181317  chrY:21239902-21241040  \\\n",
       "CR_124                      31                      90   \n",
       "CR_122                      25                     270   \n",
       "CR_121                       0                       0   \n",
       "CR_120                      33                     151   \n",
       "CR_119                      12                      57   \n",
       "\n",
       "        chrY:21248553-21249961  chrY:21256824-21257260  \\\n",
       "CR_124                      20                      50   \n",
       "CR_122                      37                      29   \n",
       "CR_121                       0                       0   \n",
       "CR_120                      47                      50   \n",
       "CR_119                      25                       7   \n",
       "\n",
       "        chrY:21259823-21260874  chrY:22086084-22086722  chrY:22499696-22500344  \n",
       "CR_124                      21                       2                       2  \n",
       "CR_122                      18                       9                      12  \n",
       "CR_121                       0                       0                       0  \n",
       "CR_120                      18                      32                      14  \n",
       "CR_119                       8                       7                       7  \n",
       "\n",
       "[5 rows x 80400 columns]"
      ]
     },
     "execution_count": 4,
     "metadata": {},
     "output_type": "execute_result"
    }
   ],
   "source": [
    "df.head()"
   ]
  },
  {
   "cell_type": "markdown",
   "id": "251495e7-082f-45ae-841c-a2dd86a3cb15",
   "metadata": {},
   "source": [
    "## Convert data to AnnData object"
   ]
  },
  {
   "cell_type": "markdown",
   "id": "73ba54e0-4292-4d85-b208-e56e267d6797",
   "metadata": {},
   "source": [
    "AnnData objects are highly flexible and are thus our preferred method of organizing data for age prediction."
   ]
  },
  {
   "cell_type": "code",
   "execution_count": 5,
   "id": "b90cf1f9-1179-4e56-a797-d0faecdea2ea",
   "metadata": {},
   "outputs": [
    {
     "name": "stdout",
     "output_type": "stream",
     "text": [
      "|-----> 🏗️ Starting df_to_adata function\n",
      "|-----> ⚙️ Create anndata object started\n",
      "|-----> ✅ Create anndata object finished [0.0308s]\n",
      "|-----> ⚙️ Add metadata to anndata started\n",
      "|-----------? No metadata provided. Leaving adata.obs empty\n",
      "|-----> ⚠️ Add metadata to anndata finished [0.0009s]\n",
      "|-----> ⚙️ Log data statistics started\n",
      "|-----------> There are 157 observations\n",
      "|-----------> There are 80400 features\n",
      "|-----------> Total missing values: 0\n",
      "|-----------> Percentage of missing values: 0.00%\n",
      "|-----> ✅ Log data statistics finished [0.0075s]\n",
      "|-----> ⚙️ Impute missing values started\n",
      "|-----------> No missing values found. No imputation necessary\n",
      "|-----> ✅ Impute missing values finished [0.0065s]\n",
      "|-----> 🎉 Done! [0.0497s]\n"
     ]
    },
    {
     "name": "stdout",
     "output_type": "stream",
     "text": [
      "|-----> ✅ Create anndata object finished [0.0297s]\n"
     ]
    },
    {
     "name": "stdout",
     "output_type": "stream",
     "text": [
      "|-----> ⚙️ Add metadata to anndata started\n"
     ]
    },
    {
     "name": "stdout",
     "output_type": "stream",
     "text": [
      "|-----------? No metadata provided. Leaving adata.obs empty\n"
     ]
    },
    {
     "name": "stdout",
     "output_type": "stream",
     "text": [
      "|-----> ⚠️ Add metadata to anndata finished [0.0005s]\n"
     ]
    },
    {
     "name": "stdout",
     "output_type": "stream",
     "text": [
      "|-----> ⚙️ Log data statistics started\n"
     ]
    },
    {
     "name": "stdout",
     "output_type": "stream",
     "text": [
      "|-----------> There are 157 observations\n"
     ]
    },
    {
     "name": "stdout",
     "output_type": "stream",
     "text": [
      "|-----------> There are 80400 features\n"
     ]
    },
    {
     "name": "stdout",
     "output_type": "stream",
     "text": [
      "|-----------> Total missing values: 0\n"
     ]
    },
    {
     "name": "stdout",
     "output_type": "stream",
     "text": [
      "|-----------> Percentage of missing values: 0.00%\n"
     ]
    },
    {
     "name": "stdout",
     "output_type": "stream",
     "text": [
      "|-----> ✅ Log data statistics finished [0.0046s]\n"
     ]
    },
    {
     "name": "stdout",
     "output_type": "stream",
     "text": [
      "|-----> ⚙️ Impute missing values started\n"
     ]
    },
    {
     "name": "stdout",
     "output_type": "stream",
     "text": [
      "|-----------> No missing values found. No imputation necessary\n"
     ]
    },
    {
     "name": "stdout",
     "output_type": "stream",
     "text": [
      "|-----> ✅ Impute missing values finished [0.0057s]\n"
     ]
    },
    {
     "name": "stdout",
     "output_type": "stream",
     "text": [
      "|-----> 🎉 Done! [0.0426s]\n"
     ]
    }
   ],
   "source": [
    "adata = pya.preprocess.df_to_adata(df)"
   ]
  },
  {
   "cell_type": "markdown",
   "id": "5042e04f-17c0-4eb2-8c5d-2c2fc5d6d2d6",
   "metadata": {},
   "source": [
    "Note that the original DataFrame is stored in `X_original` under layers. is This is what the `adata` object looks like:"
   ]
  },
  {
   "cell_type": "code",
   "execution_count": 6,
   "id": "503da312-2256-4e67-9747-107f5c4587ec",
   "metadata": {},
   "outputs": [
    {
     "data": {
      "text/plain": [
       "AnnData object with n_obs × n_vars = 157 × 80400\n",
       "    var: 'percent_na'\n",
       "    layers: 'X_original'"
      ]
     },
     "execution_count": 6,
     "metadata": {},
     "output_type": "execute_result"
    }
   ],
   "source": [
    "adata"
   ]
  },
  {
   "cell_type": "markdown",
   "id": "c072990d-0f54-49b3-bb7a-7bbd13301e2a",
   "metadata": {},
   "source": [
    "## Predict age"
   ]
  },
  {
   "cell_type": "markdown",
   "id": "5fe08978-f1ba-49b3-a0d8-52df4b6efb4e",
   "metadata": {},
   "source": [
    "We can either predict one clock at once or all at the same time. For convenience, let's simply input all two clocks of interest at once. The function is invariant to the capitalization of the clock name. "
   ]
  },
  {
   "cell_type": "code",
   "execution_count": 7,
   "id": "26398785-d1ea-4ce8-b1d9-7234f8f46ef6",
   "metadata": {},
   "outputs": [
    {
     "name": "stdout",
     "output_type": "stream",
     "text": [
      "|-----> 🏗️ Starting predict_age function\n",
      "|-----> ⚙️ Set PyTorch device started\n",
      "|-----------> Using device: cpu\n",
      "|-----> ✅ Set PyTorch device finished [0.0010s]\n",
      "|-----> 🕒 Processing clock: ocampoatac1\n",
      "|-----------> ⚙️ Load clock started\n",
      "|-----------------> Data found in pyaging_data/ocampoatac1.pt\n",
      "|-----------> ✅ Load clock finished [0.4291s]\n",
      "|-----------> ⚙️ Check features in adata started\n",
      "|-----------------> All features are present in adata.var_names.\n",
      "|-----------------> Added prepared input matrix to adata.obsm[X_ocampoatac1]\n",
      "|-----------> ✅ Check features in adata finished [5.2295s]\n",
      "|-----------> ⚙️ Predict ages with model started\n",
      "|-----------------> The preprocessing method is tpm_norm_log1p\n",
      "|-----------------> There is no postprocessing necessary\n",
      "|-----------------> in progress: 100.0000%\n",
      "|-----------> ✅ Predict ages with model finished [0.2687s]\n",
      "|-----------> ⚙️ Add predicted ages and clock metadata to adata started\n",
      "|-----------> ✅ Add predicted ages and clock metadata to adata finished [0.0032s]\n",
      "|-----> 🕒 Processing clock: ocampoatac2\n",
      "|-----------> ⚙️ Load clock started\n",
      "|-----------------> Data found in pyaging_data/ocampoatac2.pt\n",
      "|-----------> ✅ Load clock finished [0.4883s]\n",
      "|-----------> ⚙️ Check features in adata started\n",
      "|-----------------> All features are present in adata.var_names.\n",
      "|-----------------> Added prepared input matrix to adata.obsm[X_ocampoatac2]\n",
      "|-----------> ✅ Check features in adata finished [15.1947s]\n",
      "|-----------> ⚙️ Predict ages with model started\n",
      "|-----------------> The preprocessing method is tpm_norm_log1p\n",
      "|-----------------> There is no postprocessing necessary\n",
      "|-----------------> in progress: 100.0000%\n",
      "|-----------> ✅ Predict ages with model finished [0.3748s]\n",
      "|-----------> ⚙️ Add predicted ages and clock metadata to adata started\n",
      "|-----------> ✅ Add predicted ages and clock metadata to adata finished [0.0031s]\n",
      "|-----> 🎉 Done! [22.6166s]\n"
     ]
    },
    {
     "name": "stdout",
     "output_type": "stream",
     "text": [
      "|-----------> Using device: cpu\n"
     ]
    },
    {
     "name": "stdout",
     "output_type": "stream",
     "text": [
      "|-----> ✅ Set PyTorch device finished [0.0004s]\n"
     ]
    },
    {
     "name": "stdout",
     "output_type": "stream",
     "text": [
      "|-----> 🕒 Processing clock: ocampoatac1\n"
     ]
    },
    {
     "name": "stdout",
     "output_type": "stream",
     "text": [
      "|-----------> ⚙️ Load clock started\n"
     ]
    },
    {
     "name": "stdout",
     "output_type": "stream",
     "text": [
      "|-----------------> Downloading data to pyaging_data/ocampoatac1.pt\n"
     ]
    },
    {
     "name": "stdout",
     "output_type": "stream",
     "text": [
      "\r",
      "|-----------------> in progress: 1.1166%"
     ]
    },
    {
     "name": "stdout",
     "output_type": "stream",
     "text": [
      "\r",
      "|-----------------> in progress: 2.2332%"
     ]
    },
    {
     "name": "stdout",
     "output_type": "stream",
     "text": [
      "\r",
      "|-----------------> in progress: 3.3498%"
     ]
    },
    {
     "name": "stdout",
     "output_type": "stream",
     "text": [
      "\r",
      "|-----------------> in progress: 4.4664%"
     ]
    },
    {
     "name": "stdout",
     "output_type": "stream",
     "text": [
      "\r",
      "|-----------------> in progress: 5.5830%"
     ]
    },
    {
     "name": "stdout",
     "output_type": "stream",
     "text": [
      "\r",
      "|-----------------> in progress: 6.6996%"
     ]
    },
    {
     "name": "stdout",
     "output_type": "stream",
     "text": [
      "\r",
      "|-----------------> in progress: 7.8162%"
     ]
    },
    {
     "name": "stdout",
     "output_type": "stream",
     "text": [
      "\r",
      "|-----------------> in progress: 8.9327%"
     ]
    },
    {
     "name": "stdout",
     "output_type": "stream",
     "text": [
      "\r",
      "|-----------------> in progress: 10.0493%"
     ]
    },
    {
     "name": "stdout",
     "output_type": "stream",
     "text": [
      "\r",
      "|-----------------> in progress: 11.1659%"
     ]
    },
    {
     "name": "stdout",
     "output_type": "stream",
     "text": [
      "\r",
      "|-----------------> in progress: 12.2825%"
     ]
    },
    {
     "name": "stdout",
     "output_type": "stream",
     "text": [
      "\r",
      "|-----------------> in progress: 13.3991%"
     ]
    },
    {
     "name": "stdout",
     "output_type": "stream",
     "text": [
      "\r",
      "|-----------------> in progress: 14.5157%"
     ]
    },
    {
     "name": "stdout",
     "output_type": "stream",
     "text": [
      "\r",
      "|-----------------> in progress: 15.6323%"
     ]
    },
    {
     "name": "stdout",
     "output_type": "stream",
     "text": [
      "\r",
      "|-----------------> in progress: 16.7489%"
     ]
    },
    {
     "name": "stdout",
     "output_type": "stream",
     "text": [
      "\r",
      "|-----------------> in progress: 17.8655%"
     ]
    },
    {
     "name": "stdout",
     "output_type": "stream",
     "text": [
      "\r",
      "|-----------------> in progress: 18.9821%"
     ]
    },
    {
     "name": "stdout",
     "output_type": "stream",
     "text": [
      "\r",
      "|-----------------> in progress: 20.0987%"
     ]
    },
    {
     "name": "stdout",
     "output_type": "stream",
     "text": [
      "\r",
      "|-----------------> in progress: 21.2153%"
     ]
    },
    {
     "name": "stdout",
     "output_type": "stream",
     "text": [
      "\r",
      "|-----------------> in progress: 22.3319%"
     ]
    },
    {
     "name": "stdout",
     "output_type": "stream",
     "text": [
      "\r",
      "|-----------------> in progress: 23.4485%"
     ]
    },
    {
     "name": "stdout",
     "output_type": "stream",
     "text": [
      "\r",
      "|-----------------> in progress: 24.5651%"
     ]
    },
    {
     "name": "stdout",
     "output_type": "stream",
     "text": [
      "\r",
      "|-----------------> in progress: 25.6817%"
     ]
    },
    {
     "name": "stdout",
     "output_type": "stream",
     "text": [
      "\r",
      "|-----------------> in progress: 26.7982%"
     ]
    },
    {
     "name": "stdout",
     "output_type": "stream",
     "text": [
      "\r",
      "|-----------------> in progress: 27.9148%"
     ]
    },
    {
     "name": "stdout",
     "output_type": "stream",
     "text": [
      "\r",
      "|-----------------> in progress: 29.0314%"
     ]
    },
    {
     "name": "stdout",
     "output_type": "stream",
     "text": [
      "\r",
      "|-----------------> in progress: 30.1480%"
     ]
    },
    {
     "name": "stdout",
     "output_type": "stream",
     "text": [
      "\r",
      "|-----------------> in progress: 31.2646%"
     ]
    },
    {
     "name": "stdout",
     "output_type": "stream",
     "text": [
      "\r",
      "|-----------------> in progress: 32.3812%"
     ]
    },
    {
     "name": "stdout",
     "output_type": "stream",
     "text": [
      "\r",
      "|-----------------> in progress: 33.4978%"
     ]
    },
    {
     "name": "stdout",
     "output_type": "stream",
     "text": [
      "\r",
      "|-----------------> in progress: 34.6144%"
     ]
    },
    {
     "name": "stdout",
     "output_type": "stream",
     "text": [
      "\r",
      "|-----------------> in progress: 35.7310%"
     ]
    },
    {
     "name": "stdout",
     "output_type": "stream",
     "text": [
      "\r",
      "|-----------------> in progress: 36.8476%"
     ]
    },
    {
     "name": "stdout",
     "output_type": "stream",
     "text": [
      "\r",
      "|-----------------> in progress: 37.9642%"
     ]
    },
    {
     "name": "stdout",
     "output_type": "stream",
     "text": [
      "\r",
      "|-----------------> in progress: 39.0808%"
     ]
    },
    {
     "name": "stdout",
     "output_type": "stream",
     "text": [
      "\r",
      "|-----------------> in progress: 40.1974%"
     ]
    },
    {
     "name": "stdout",
     "output_type": "stream",
     "text": [
      "\r",
      "|-----------------> in progress: 41.3140%"
     ]
    },
    {
     "name": "stdout",
     "output_type": "stream",
     "text": [
      "\r",
      "|-----------------> in progress: 42.4306%"
     ]
    },
    {
     "name": "stdout",
     "output_type": "stream",
     "text": [
      "\r",
      "|-----------------> in progress: 43.5471%"
     ]
    },
    {
     "name": "stdout",
     "output_type": "stream",
     "text": [
      "\r",
      "|-----------------> in progress: 44.6637%"
     ]
    },
    {
     "name": "stdout",
     "output_type": "stream",
     "text": [
      "\r",
      "|-----------------> in progress: 45.7803%"
     ]
    },
    {
     "name": "stdout",
     "output_type": "stream",
     "text": [
      "\r",
      "|-----------------> in progress: 46.8969%"
     ]
    },
    {
     "name": "stdout",
     "output_type": "stream",
     "text": [
      "\r",
      "|-----------------> in progress: 48.0135%"
     ]
    },
    {
     "name": "stdout",
     "output_type": "stream",
     "text": [
      "\r",
      "|-----------------> in progress: 49.1301%"
     ]
    },
    {
     "name": "stdout",
     "output_type": "stream",
     "text": [
      "\r",
      "|-----------------> in progress: 50.2467%"
     ]
    },
    {
     "name": "stdout",
     "output_type": "stream",
     "text": [
      "\r",
      "|-----------------> in progress: 51.3633%"
     ]
    },
    {
     "name": "stdout",
     "output_type": "stream",
     "text": [
      "\r",
      "|-----------------> in progress: 52.4799%"
     ]
    },
    {
     "name": "stdout",
     "output_type": "stream",
     "text": [
      "\r",
      "|-----------------> in progress: 53.5965%"
     ]
    },
    {
     "name": "stdout",
     "output_type": "stream",
     "text": [
      "\r",
      "|-----------------> in progress: 54.7131%"
     ]
    },
    {
     "name": "stdout",
     "output_type": "stream",
     "text": [
      "\r",
      "|-----------------> in progress: 55.8297%"
     ]
    },
    {
     "name": "stdout",
     "output_type": "stream",
     "text": [
      "\r",
      "|-----------------> in progress: 56.9463%"
     ]
    },
    {
     "name": "stdout",
     "output_type": "stream",
     "text": [
      "\r",
      "|-----------------> in progress: 58.0629%"
     ]
    },
    {
     "name": "stdout",
     "output_type": "stream",
     "text": [
      "\r",
      "|-----------------> in progress: 59.1795%"
     ]
    },
    {
     "name": "stdout",
     "output_type": "stream",
     "text": [
      "\r",
      "|-----------------> in progress: 60.2960%"
     ]
    },
    {
     "name": "stdout",
     "output_type": "stream",
     "text": [
      "\r",
      "|-----------------> in progress: 61.4126%"
     ]
    },
    {
     "name": "stdout",
     "output_type": "stream",
     "text": [
      "\r",
      "|-----------------> in progress: 62.5292%"
     ]
    },
    {
     "name": "stdout",
     "output_type": "stream",
     "text": [
      "\r",
      "|-----------------> in progress: 63.6458%"
     ]
    },
    {
     "name": "stdout",
     "output_type": "stream",
     "text": [
      "\r",
      "|-----------------> in progress: 64.7624%"
     ]
    },
    {
     "name": "stdout",
     "output_type": "stream",
     "text": [
      "\r",
      "|-----------------> in progress: 65.8790%"
     ]
    },
    {
     "name": "stdout",
     "output_type": "stream",
     "text": [
      "\r",
      "|-----------------> in progress: 66.9956%"
     ]
    },
    {
     "name": "stdout",
     "output_type": "stream",
     "text": [
      "\r",
      "|-----------------> in progress: 68.1122%"
     ]
    },
    {
     "name": "stdout",
     "output_type": "stream",
     "text": [
      "\r",
      "|-----------------> in progress: 69.2288%"
     ]
    },
    {
     "name": "stdout",
     "output_type": "stream",
     "text": [
      "\r",
      "|-----------------> in progress: 70.3454%"
     ]
    },
    {
     "name": "stdout",
     "output_type": "stream",
     "text": [
      "\r",
      "|-----------------> in progress: 71.4620%"
     ]
    },
    {
     "name": "stdout",
     "output_type": "stream",
     "text": [
      "\r",
      "|-----------------> in progress: 72.5786%"
     ]
    },
    {
     "name": "stdout",
     "output_type": "stream",
     "text": [
      "\r",
      "|-----------------> in progress: 73.6952%"
     ]
    },
    {
     "name": "stdout",
     "output_type": "stream",
     "text": [
      "\r",
      "|-----------------> in progress: 74.8118%"
     ]
    },
    {
     "name": "stdout",
     "output_type": "stream",
     "text": [
      "\r",
      "|-----------------> in progress: 75.9284%"
     ]
    },
    {
     "name": "stdout",
     "output_type": "stream",
     "text": [
      "\r",
      "|-----------------> in progress: 77.0450%"
     ]
    },
    {
     "name": "stdout",
     "output_type": "stream",
     "text": [
      "\r",
      "|-----------------> in progress: 78.1615%"
     ]
    },
    {
     "name": "stdout",
     "output_type": "stream",
     "text": [
      "\r",
      "|-----------------> in progress: 79.2781%"
     ]
    },
    {
     "name": "stdout",
     "output_type": "stream",
     "text": [
      "\r",
      "|-----------------> in progress: 80.3947%"
     ]
    },
    {
     "name": "stdout",
     "output_type": "stream",
     "text": [
      "\r",
      "|-----------------> in progress: 81.5113%"
     ]
    },
    {
     "name": "stdout",
     "output_type": "stream",
     "text": [
      "\r",
      "|-----------------> in progress: 82.6279%"
     ]
    },
    {
     "name": "stdout",
     "output_type": "stream",
     "text": [
      "\r",
      "|-----------------> in progress: 83.7445%"
     ]
    },
    {
     "name": "stdout",
     "output_type": "stream",
     "text": [
      "\r",
      "|-----------------> in progress: 84.8611%"
     ]
    },
    {
     "name": "stdout",
     "output_type": "stream",
     "text": [
      "\r",
      "|-----------------> in progress: 85.9777%"
     ]
    },
    {
     "name": "stdout",
     "output_type": "stream",
     "text": [
      "\r",
      "|-----------------> in progress: 87.0943%"
     ]
    },
    {
     "name": "stdout",
     "output_type": "stream",
     "text": [
      "\r",
      "|-----------------> in progress: 88.2109%"
     ]
    },
    {
     "name": "stdout",
     "output_type": "stream",
     "text": [
      "\r",
      "|-----------------> in progress: 89.3275%"
     ]
    },
    {
     "name": "stdout",
     "output_type": "stream",
     "text": [
      "\r",
      "|-----------------> in progress: 90.4441%"
     ]
    },
    {
     "name": "stdout",
     "output_type": "stream",
     "text": [
      "\r",
      "|-----------------> in progress: 91.5607%"
     ]
    },
    {
     "name": "stdout",
     "output_type": "stream",
     "text": [
      "\r",
      "|-----------------> in progress: 92.6773%"
     ]
    },
    {
     "name": "stdout",
     "output_type": "stream",
     "text": [
      "\r",
      "|-----------------> in progress: 93.7939%"
     ]
    },
    {
     "name": "stdout",
     "output_type": "stream",
     "text": [
      "\r",
      "|-----------------> in progress: 94.9104%"
     ]
    },
    {
     "name": "stdout",
     "output_type": "stream",
     "text": [
      "\r",
      "|-----------------> in progress: 96.0270%"
     ]
    },
    {
     "name": "stdout",
     "output_type": "stream",
     "text": [
      "\r",
      "|-----------------> in progress: 97.1436%"
     ]
    },
    {
     "name": "stdout",
     "output_type": "stream",
     "text": [
      "\r",
      "|-----------------> in progress: 98.2602%"
     ]
    },
    {
     "name": "stdout",
     "output_type": "stream",
     "text": [
      "\r",
      "|-----------------> in progress: 99.3768%"
     ]
    },
    {
     "name": "stdout",
     "output_type": "stream",
     "text": [
      "\r",
      "|-----------------> in progress: 100.0000%\n"
     ]
    },
    {
     "name": "stdout",
     "output_type": "stream",
     "text": [
      "|-----------> ✅ Load clock finished [2.0084s]\n"
     ]
    },
    {
     "name": "stdout",
     "output_type": "stream",
     "text": [
      "|-----------> ⚙️ Check features in adata started\n"
     ]
    },
    {
     "name": "stdout",
     "output_type": "stream",
     "text": [
      "|-----------------> All features are present in adata.var_names.\n"
     ]
    },
    {
     "name": "stdout",
     "output_type": "stream",
     "text": [
      "|-----------------> Added prepared input matrix to adata.obsm[X_ocampoatac1]\n"
     ]
    },
    {
     "name": "stdout",
     "output_type": "stream",
     "text": [
      "|-----------> ✅ Check features in adata finished [5.2058s]\n"
     ]
    },
    {
     "name": "stdout",
     "output_type": "stream",
     "text": [
      "|-----------> ⚙️ Predict ages with model started\n"
     ]
    },
    {
     "name": "stdout",
     "output_type": "stream",
     "text": [
      "|-----------------> The preprocessing method is tpm_norm_log1p\n"
     ]
    },
    {
     "name": "stdout",
     "output_type": "stream",
     "text": [
      "|-----------------> There is no postprocessing necessary\n"
     ]
    },
    {
     "name": "stdout",
     "output_type": "stream",
     "text": [
      "\r",
      "|-----------------> in progress: 100.0000%\n"
     ]
    },
    {
     "name": "stdout",
     "output_type": "stream",
     "text": [
      "|-----------> ✅ Predict ages with model finished [0.0981s]\n"
     ]
    },
    {
     "name": "stdout",
     "output_type": "stream",
     "text": [
      "|-----------> ⚙️ Add predicted ages and clock metadata to adata started\n"
     ]
    },
    {
     "name": "stdout",
     "output_type": "stream",
     "text": [
      "|-----------> ✅ Add predicted ages and clock metadata to adata finished [0.0009s]\n"
     ]
    },
    {
     "name": "stdout",
     "output_type": "stream",
     "text": [
      "|-----> 🕒 Processing clock: ocampoatac2\n"
     ]
    },
    {
     "name": "stdout",
     "output_type": "stream",
     "text": [
      "|-----------> ⚙️ Load clock started\n"
     ]
    },
    {
     "name": "stdout",
     "output_type": "stream",
     "text": [
      "|-----------------> Downloading data to pyaging_data/ocampoatac2.pt\n"
     ]
    },
    {
     "name": "stdout",
     "output_type": "stream",
     "text": [
      "\r",
      "|-----------------> in progress: 1.1181%"
     ]
    },
    {
     "name": "stdout",
     "output_type": "stream",
     "text": [
      "\r",
      "|-----------------> in progress: 2.2362%"
     ]
    },
    {
     "name": "stdout",
     "output_type": "stream",
     "text": [
      "\r",
      "|-----------------> in progress: 3.3542%"
     ]
    },
    {
     "name": "stdout",
     "output_type": "stream",
     "text": [
      "\r",
      "|-----------------> in progress: 4.4723%"
     ]
    },
    {
     "name": "stdout",
     "output_type": "stream",
     "text": [
      "\r",
      "|-----------------> in progress: 5.5904%"
     ]
    },
    {
     "name": "stdout",
     "output_type": "stream",
     "text": [
      "\r",
      "|-----------------> in progress: 6.7085%"
     ]
    },
    {
     "name": "stdout",
     "output_type": "stream",
     "text": [
      "\r",
      "|-----------------> in progress: 7.8266%"
     ]
    },
    {
     "name": "stdout",
     "output_type": "stream",
     "text": [
      "\r",
      "|-----------------> in progress: 8.9446%"
     ]
    },
    {
     "name": "stdout",
     "output_type": "stream",
     "text": [
      "\r",
      "|-----------------> in progress: 10.0627%"
     ]
    },
    {
     "name": "stdout",
     "output_type": "stream",
     "text": [
      "\r",
      "|-----------------> in progress: 11.1808%"
     ]
    },
    {
     "name": "stdout",
     "output_type": "stream",
     "text": [
      "\r",
      "|-----------------> in progress: 12.2989%"
     ]
    },
    {
     "name": "stdout",
     "output_type": "stream",
     "text": [
      "\r",
      "|-----------------> in progress: 13.4170%"
     ]
    },
    {
     "name": "stdout",
     "output_type": "stream",
     "text": [
      "\r",
      "|-----------------> in progress: 14.5351%"
     ]
    },
    {
     "name": "stdout",
     "output_type": "stream",
     "text": [
      "\r",
      "|-----------------> in progress: 15.6531%"
     ]
    },
    {
     "name": "stdout",
     "output_type": "stream",
     "text": [
      "\r",
      "|-----------------> in progress: 16.7712%"
     ]
    },
    {
     "name": "stdout",
     "output_type": "stream",
     "text": [
      "\r",
      "|-----------------> in progress: 17.8893%"
     ]
    },
    {
     "name": "stdout",
     "output_type": "stream",
     "text": [
      "\r",
      "|-----------------> in progress: 19.0074%"
     ]
    },
    {
     "name": "stdout",
     "output_type": "stream",
     "text": [
      "\r",
      "|-----------------> in progress: 20.1255%"
     ]
    },
    {
     "name": "stdout",
     "output_type": "stream",
     "text": [
      "\r",
      "|-----------------> in progress: 21.2435%"
     ]
    },
    {
     "name": "stdout",
     "output_type": "stream",
     "text": [
      "\r",
      "|-----------------> in progress: 22.3616%"
     ]
    },
    {
     "name": "stdout",
     "output_type": "stream",
     "text": [
      "\r",
      "|-----------------> in progress: 23.4797%"
     ]
    },
    {
     "name": "stdout",
     "output_type": "stream",
     "text": [
      "\r",
      "|-----------------> in progress: 24.5978%"
     ]
    },
    {
     "name": "stdout",
     "output_type": "stream",
     "text": [
      "\r",
      "|-----------------> in progress: 25.7159%"
     ]
    },
    {
     "name": "stdout",
     "output_type": "stream",
     "text": [
      "\r",
      "|-----------------> in progress: 26.8339%"
     ]
    },
    {
     "name": "stdout",
     "output_type": "stream",
     "text": [
      "\r",
      "|-----------------> in progress: 27.9520%"
     ]
    },
    {
     "name": "stdout",
     "output_type": "stream",
     "text": [
      "\r",
      "|-----------------> in progress: 29.0701%"
     ]
    },
    {
     "name": "stdout",
     "output_type": "stream",
     "text": [
      "\r",
      "|-----------------> in progress: 30.1882%"
     ]
    },
    {
     "name": "stdout",
     "output_type": "stream",
     "text": [
      "\r",
      "|-----------------> in progress: 31.3063%"
     ]
    },
    {
     "name": "stdout",
     "output_type": "stream",
     "text": [
      "\r",
      "|-----------------> in progress: 32.4243%"
     ]
    },
    {
     "name": "stdout",
     "output_type": "stream",
     "text": [
      "\r",
      "|-----------------> in progress: 33.5424%"
     ]
    },
    {
     "name": "stdout",
     "output_type": "stream",
     "text": [
      "\r",
      "|-----------------> in progress: 34.6605%"
     ]
    },
    {
     "name": "stdout",
     "output_type": "stream",
     "text": [
      "\r",
      "|-----------------> in progress: 35.7786%"
     ]
    },
    {
     "name": "stdout",
     "output_type": "stream",
     "text": [
      "\r",
      "|-----------------> in progress: 36.8967%"
     ]
    },
    {
     "name": "stdout",
     "output_type": "stream",
     "text": [
      "\r",
      "|-----------------> in progress: 38.0148%"
     ]
    },
    {
     "name": "stdout",
     "output_type": "stream",
     "text": [
      "\r",
      "|-----------------> in progress: 39.1328%"
     ]
    },
    {
     "name": "stdout",
     "output_type": "stream",
     "text": [
      "\r",
      "|-----------------> in progress: 40.2509%"
     ]
    },
    {
     "name": "stdout",
     "output_type": "stream",
     "text": [
      "\r",
      "|-----------------> in progress: 41.3690%"
     ]
    },
    {
     "name": "stdout",
     "output_type": "stream",
     "text": [
      "\r",
      "|-----------------> in progress: 42.4871%"
     ]
    },
    {
     "name": "stdout",
     "output_type": "stream",
     "text": [
      "\r",
      "|-----------------> in progress: 43.6052%"
     ]
    },
    {
     "name": "stdout",
     "output_type": "stream",
     "text": [
      "\r",
      "|-----------------> in progress: 44.7232%"
     ]
    },
    {
     "name": "stdout",
     "output_type": "stream",
     "text": [
      "\r",
      "|-----------------> in progress: 45.8413%"
     ]
    },
    {
     "name": "stdout",
     "output_type": "stream",
     "text": [
      "\r",
      "|-----------------> in progress: 46.9594%"
     ]
    },
    {
     "name": "stdout",
     "output_type": "stream",
     "text": [
      "\r",
      "|-----------------> in progress: 48.0775%"
     ]
    },
    {
     "name": "stdout",
     "output_type": "stream",
     "text": [
      "\r",
      "|-----------------> in progress: 49.1956%"
     ]
    },
    {
     "name": "stdout",
     "output_type": "stream",
     "text": [
      "\r",
      "|-----------------> in progress: 50.3136%"
     ]
    },
    {
     "name": "stdout",
     "output_type": "stream",
     "text": [
      "\r",
      "|-----------------> in progress: 51.4317%"
     ]
    },
    {
     "name": "stdout",
     "output_type": "stream",
     "text": [
      "\r",
      "|-----------------> in progress: 52.5498%"
     ]
    },
    {
     "name": "stdout",
     "output_type": "stream",
     "text": [
      "\r",
      "|-----------------> in progress: 53.6679%"
     ]
    },
    {
     "name": "stdout",
     "output_type": "stream",
     "text": [
      "\r",
      "|-----------------> in progress: 54.7860%"
     ]
    },
    {
     "name": "stdout",
     "output_type": "stream",
     "text": [
      "\r",
      "|-----------------> in progress: 55.9040%"
     ]
    },
    {
     "name": "stdout",
     "output_type": "stream",
     "text": [
      "\r",
      "|-----------------> in progress: 57.0221%"
     ]
    },
    {
     "name": "stdout",
     "output_type": "stream",
     "text": [
      "\r",
      "|-----------------> in progress: 58.1402%"
     ]
    },
    {
     "name": "stdout",
     "output_type": "stream",
     "text": [
      "\r",
      "|-----------------> in progress: 59.2583%"
     ]
    },
    {
     "name": "stdout",
     "output_type": "stream",
     "text": [
      "\r",
      "|-----------------> in progress: 60.3764%"
     ]
    },
    {
     "name": "stdout",
     "output_type": "stream",
     "text": [
      "\r",
      "|-----------------> in progress: 61.4945%"
     ]
    },
    {
     "name": "stdout",
     "output_type": "stream",
     "text": [
      "\r",
      "|-----------------> in progress: 62.6125%"
     ]
    },
    {
     "name": "stdout",
     "output_type": "stream",
     "text": [
      "\r",
      "|-----------------> in progress: 63.7306%"
     ]
    },
    {
     "name": "stdout",
     "output_type": "stream",
     "text": [
      "\r",
      "|-----------------> in progress: 64.8487%"
     ]
    },
    {
     "name": "stdout",
     "output_type": "stream",
     "text": [
      "\r",
      "|-----------------> in progress: 65.9668%"
     ]
    },
    {
     "name": "stdout",
     "output_type": "stream",
     "text": [
      "\r",
      "|-----------------> in progress: 67.0849%"
     ]
    },
    {
     "name": "stdout",
     "output_type": "stream",
     "text": [
      "\r",
      "|-----------------> in progress: 68.2029%"
     ]
    },
    {
     "name": "stdout",
     "output_type": "stream",
     "text": [
      "\r",
      "|-----------------> in progress: 69.3210%"
     ]
    },
    {
     "name": "stdout",
     "output_type": "stream",
     "text": [
      "\r",
      "|-----------------> in progress: 70.4391%"
     ]
    },
    {
     "name": "stdout",
     "output_type": "stream",
     "text": [
      "\r",
      "|-----------------> in progress: 71.5572%"
     ]
    },
    {
     "name": "stdout",
     "output_type": "stream",
     "text": [
      "\r",
      "|-----------------> in progress: 72.6753%"
     ]
    },
    {
     "name": "stdout",
     "output_type": "stream",
     "text": [
      "\r",
      "|-----------------> in progress: 73.7933%"
     ]
    },
    {
     "name": "stdout",
     "output_type": "stream",
     "text": [
      "\r",
      "|-----------------> in progress: 74.9114%"
     ]
    },
    {
     "name": "stdout",
     "output_type": "stream",
     "text": [
      "\r",
      "|-----------------> in progress: 76.0295%"
     ]
    },
    {
     "name": "stdout",
     "output_type": "stream",
     "text": [
      "\r",
      "|-----------------> in progress: 77.1476%"
     ]
    },
    {
     "name": "stdout",
     "output_type": "stream",
     "text": [
      "\r",
      "|-----------------> in progress: 78.2657%"
     ]
    },
    {
     "name": "stdout",
     "output_type": "stream",
     "text": [
      "\r",
      "|-----------------> in progress: 79.3837%"
     ]
    },
    {
     "name": "stdout",
     "output_type": "stream",
     "text": [
      "\r",
      "|-----------------> in progress: 80.5018%"
     ]
    },
    {
     "name": "stdout",
     "output_type": "stream",
     "text": [
      "\r",
      "|-----------------> in progress: 81.6199%"
     ]
    },
    {
     "name": "stdout",
     "output_type": "stream",
     "text": [
      "\r",
      "|-----------------> in progress: 82.7380%"
     ]
    },
    {
     "name": "stdout",
     "output_type": "stream",
     "text": [
      "\r",
      "|-----------------> in progress: 83.8561%"
     ]
    },
    {
     "name": "stdout",
     "output_type": "stream",
     "text": [
      "\r",
      "|-----------------> in progress: 84.9741%"
     ]
    },
    {
     "name": "stdout",
     "output_type": "stream",
     "text": [
      "\r",
      "|-----------------> in progress: 86.0922%"
     ]
    },
    {
     "name": "stdout",
     "output_type": "stream",
     "text": [
      "\r",
      "|-----------------> in progress: 87.2103%"
     ]
    },
    {
     "name": "stdout",
     "output_type": "stream",
     "text": [
      "\r",
      "|-----------------> in progress: 88.3284%"
     ]
    },
    {
     "name": "stdout",
     "output_type": "stream",
     "text": [
      "\r",
      "|-----------------> in progress: 89.4465%"
     ]
    },
    {
     "name": "stdout",
     "output_type": "stream",
     "text": [
      "\r",
      "|-----------------> in progress: 90.5646%"
     ]
    },
    {
     "name": "stdout",
     "output_type": "stream",
     "text": [
      "\r",
      "|-----------------> in progress: 91.6826%"
     ]
    },
    {
     "name": "stdout",
     "output_type": "stream",
     "text": [
      "\r",
      "|-----------------> in progress: 92.8007%"
     ]
    },
    {
     "name": "stdout",
     "output_type": "stream",
     "text": [
      "\r",
      "|-----------------> in progress: 93.9188%"
     ]
    },
    {
     "name": "stdout",
     "output_type": "stream",
     "text": [
      "\r",
      "|-----------------> in progress: 95.0369%"
     ]
    },
    {
     "name": "stdout",
     "output_type": "stream",
     "text": [
      "\r",
      "|-----------------> in progress: 96.1550%"
     ]
    },
    {
     "name": "stdout",
     "output_type": "stream",
     "text": [
      "\r",
      "|-----------------> in progress: 97.2730%"
     ]
    },
    {
     "name": "stdout",
     "output_type": "stream",
     "text": [
      "\r",
      "|-----------------> in progress: 98.3911%"
     ]
    },
    {
     "name": "stdout",
     "output_type": "stream",
     "text": [
      "\r",
      "|-----------------> in progress: 99.5092%"
     ]
    },
    {
     "name": "stdout",
     "output_type": "stream",
     "text": [
      "\r",
      "|-----------------> in progress: 100.0000%\n"
     ]
    },
    {
     "name": "stdout",
     "output_type": "stream",
     "text": [
      "|-----------> ✅ Load clock finished [2.0051s]\n"
     ]
    },
    {
     "name": "stdout",
     "output_type": "stream",
     "text": [
      "|-----------> ⚙️ Check features in adata started\n"
     ]
    },
    {
     "name": "stdout",
     "output_type": "stream",
     "text": [
      "|-----------------> All features are present in adata.var_names.\n"
     ]
    },
    {
     "name": "stdout",
     "output_type": "stream",
     "text": [
      "|-----------------> Added prepared input matrix to adata.obsm[X_ocampoatac2]\n"
     ]
    },
    {
     "name": "stdout",
     "output_type": "stream",
     "text": [
      "|-----------> ✅ Check features in adata finished [5.1819s]\n"
     ]
    },
    {
     "name": "stdout",
     "output_type": "stream",
     "text": [
      "|-----------> ⚙️ Predict ages with model started\n"
     ]
    },
    {
     "name": "stdout",
     "output_type": "stream",
     "text": [
      "|-----------------> The preprocessing method is tpm_norm_log1p\n"
     ]
    },
    {
     "name": "stdout",
     "output_type": "stream",
     "text": [
      "|-----------------> There is no postprocessing necessary\n"
     ]
    },
    {
     "name": "stdout",
     "output_type": "stream",
     "text": [
      "\r",
      "|-----------------> in progress: 100.0000%\n"
     ]
    },
    {
     "name": "stdout",
     "output_type": "stream",
     "text": [
      "|-----------> ✅ Predict ages with model finished [0.0778s]\n"
     ]
    },
    {
     "name": "stdout",
     "output_type": "stream",
     "text": [
      "|-----------> ⚙️ Add predicted ages and clock metadata to adata started\n"
     ]
    },
    {
     "name": "stdout",
     "output_type": "stream",
     "text": [
      "|-----------> ✅ Add predicted ages and clock metadata to adata finished [0.0007s]\n"
     ]
    },
    {
     "name": "stdout",
     "output_type": "stream",
     "text": [
      "|-----> 🎉 Done! [14.6992s]\n"
     ]
    }
   ],
   "source": [
    "pya.pred.predict_age(adata, ['OcampoATAC1', 'OcampoATAC2'])"
   ]
  },
  {
   "cell_type": "code",
   "execution_count": 8,
   "id": "b83a10e2-7984-4427-9e85-05329a16feb3",
   "metadata": {},
   "outputs": [
    {
     "data": {
      "text/html": [
       "<div>\n",
       "<style scoped>\n",
       "    .dataframe tbody tr th:only-of-type {\n",
       "        vertical-align: middle;\n",
       "    }\n",
       "\n",
       "    .dataframe tbody tr th {\n",
       "        vertical-align: top;\n",
       "    }\n",
       "\n",
       "    .dataframe thead th {\n",
       "        text-align: right;\n",
       "    }\n",
       "</style>\n",
       "<table border=\"1\" class=\"dataframe\">\n",
       "  <thead>\n",
       "    <tr style=\"text-align: right;\">\n",
       "      <th></th>\n",
       "      <th>ocampoatac1</th>\n",
       "      <th>ocampoatac2</th>\n",
       "    </tr>\n",
       "  </thead>\n",
       "  <tbody>\n",
       "    <tr>\n",
       "      <th>CR_124</th>\n",
       "      <td>29.527124</td>\n",
       "      <td>28.114206</td>\n",
       "    </tr>\n",
       "    <tr>\n",
       "      <th>CR_122</th>\n",
       "      <td>39.003097</td>\n",
       "      <td>40.061162</td>\n",
       "    </tr>\n",
       "    <tr>\n",
       "      <th>CR_121</th>\n",
       "      <td>40.716008</td>\n",
       "      <td>43.095199</td>\n",
       "    </tr>\n",
       "    <tr>\n",
       "      <th>CR_120</th>\n",
       "      <td>32.380372</td>\n",
       "      <td>33.033456</td>\n",
       "    </tr>\n",
       "    <tr>\n",
       "      <th>CR_119</th>\n",
       "      <td>36.440711</td>\n",
       "      <td>38.301516</td>\n",
       "    </tr>\n",
       "  </tbody>\n",
       "</table>\n",
       "</div>"
      ],
      "text/plain": [
       "        ocampoatac1  ocampoatac2\n",
       "CR_124    29.527124    28.114206\n",
       "CR_122    39.003097    40.061162\n",
       "CR_121    40.716008    43.095199\n",
       "CR_120    32.380372    33.033456\n",
       "CR_119    36.440711    38.301516"
      ]
     },
     "execution_count": 8,
     "metadata": {},
     "output_type": "execute_result"
    }
   ],
   "source": [
    "adata.obs.head()"
   ]
  },
  {
   "cell_type": "markdown",
   "id": "a2cfa1e5-a7f4-4157-8c66-4afcc2323ef7",
   "metadata": {},
   "source": [
    "Having so much information printed can be overwhelming, particularly when running several clocks at once. In such cases, just set verbose to False."
   ]
  },
  {
   "cell_type": "code",
   "execution_count": 9,
   "id": "055761d9-7e22-49f3-a1db-31c3ed3749ba",
   "metadata": {},
   "outputs": [],
   "source": [
    "pya.data.download_example_data('GSE193140', verbose=False)\n",
    "df = pd.read_pickle('pyaging_data/GSE193140.pkl')\n",
    "adata = pya.preprocess.df_to_adata(df, verbose=False)\n",
    "pya.pred.predict_age(adata, ['OcampoATAC1', 'OcampoATAC2'], verbose=False)"
   ]
  },
  {
   "cell_type": "code",
   "execution_count": 10,
   "id": "fdd9d6c2-7f0a-4f96-a095-4a492ed73f8d",
   "metadata": {},
   "outputs": [
    {
     "data": {
      "text/html": [
       "<div>\n",
       "<style scoped>\n",
       "    .dataframe tbody tr th:only-of-type {\n",
       "        vertical-align: middle;\n",
       "    }\n",
       "\n",
       "    .dataframe tbody tr th {\n",
       "        vertical-align: top;\n",
       "    }\n",
       "\n",
       "    .dataframe thead th {\n",
       "        text-align: right;\n",
       "    }\n",
       "</style>\n",
       "<table border=\"1\" class=\"dataframe\">\n",
       "  <thead>\n",
       "    <tr style=\"text-align: right;\">\n",
       "      <th></th>\n",
       "      <th>ocampoatac1</th>\n",
       "      <th>ocampoatac2</th>\n",
       "    </tr>\n",
       "  </thead>\n",
       "  <tbody>\n",
       "    <tr>\n",
       "      <th>CR_124</th>\n",
       "      <td>29.527124</td>\n",
       "      <td>28.114206</td>\n",
       "    </tr>\n",
       "    <tr>\n",
       "      <th>CR_122</th>\n",
       "      <td>39.003097</td>\n",
       "      <td>40.061162</td>\n",
       "    </tr>\n",
       "    <tr>\n",
       "      <th>CR_121</th>\n",
       "      <td>40.716008</td>\n",
       "      <td>43.095199</td>\n",
       "    </tr>\n",
       "    <tr>\n",
       "      <th>CR_120</th>\n",
       "      <td>32.380372</td>\n",
       "      <td>33.033456</td>\n",
       "    </tr>\n",
       "    <tr>\n",
       "      <th>CR_119</th>\n",
       "      <td>36.440711</td>\n",
       "      <td>38.301516</td>\n",
       "    </tr>\n",
       "  </tbody>\n",
       "</table>\n",
       "</div>"
      ],
      "text/plain": [
       "        ocampoatac1  ocampoatac2\n",
       "CR_124    29.527124    28.114206\n",
       "CR_122    39.003097    40.061162\n",
       "CR_121    40.716008    43.095199\n",
       "CR_120    32.380372    33.033456\n",
       "CR_119    36.440711    38.301516"
      ]
     },
     "execution_count": 10,
     "metadata": {},
     "output_type": "execute_result"
    }
   ],
   "source": [
    "adata.obs.head()"
   ]
  },
  {
   "cell_type": "markdown",
   "id": "4bad3df8-f868-4cf5-be74-00ffd02c18f5",
   "metadata": {},
   "source": [
    "After age prediction, the clocks are added to `adata.obs`. Moreover, the percent of missing values for each clock and other metadata are included in `adata.uns`."
   ]
  },
  {
   "cell_type": "code",
   "execution_count": 11,
   "id": "0d13fb55-8a12-4d28-83e9-ec7c9fbbe30c",
   "metadata": {},
   "outputs": [
    {
     "data": {
      "text/plain": [
       "AnnData object with n_obs × n_vars = 157 × 80400\n",
       "    obs: 'ocampoatac1', 'ocampoatac2'\n",
       "    var: 'percent_na'\n",
       "    uns: 'ocampoatac1_percent_na', 'ocampoatac1_missing_features', 'ocampoatac1_metadata', 'ocampoatac2_percent_na', 'ocampoatac2_missing_features', 'ocampoatac2_metadata'\n",
       "    layers: 'X_original'"
      ]
     },
     "execution_count": 11,
     "metadata": {},
     "output_type": "execute_result"
    }
   ],
   "source": [
    "adata"
   ]
  },
  {
   "cell_type": "markdown",
   "id": "a4e7ad8d-44ae-4ced-a626-f9e3b2d04114",
   "metadata": {},
   "source": [
    "## Get citation"
   ]
  },
  {
   "cell_type": "markdown",
   "id": "d7d089b0-5433-47a9-b031-bc4504c6b55d",
   "metadata": {},
   "source": [
    "The doi, citation, and some metadata are automatically added to the AnnData object under `adata.uns[CLOCKNAME_metadata]`."
   ]
  },
  {
   "cell_type": "code",
   "execution_count": 12,
   "id": "6b368506-55d1-4b74-be61-817bcf575ade",
   "metadata": {},
   "outputs": [
    {
     "data": {
      "text/plain": [
       "{'clock_name': 'ocampoatac1',\n",
       " 'data_type': 'atac',\n",
       " 'species': 'Homo sapiens',\n",
       " 'year': 2023,\n",
       " 'approved_by_author': '⌛',\n",
       " 'citation': 'Morandini, Francesco, et al. \"ATAC-clock: An aging clock based on chromatin accessibility.\" GeroScience (2023): 1-18.',\n",
       " 'doi': 'https://doi.org/10.1007/s11357-023-00986-0',\n",
       " 'notes': None,\n",
       " 'version': None}"
      ]
     },
     "execution_count": 12,
     "metadata": {},
     "output_type": "execute_result"
    }
   ],
   "source": [
    "adata.uns['ocampoatac1_metadata']"
   ]
  }
 ],
 "metadata": {
  "kernelspec": {
   "display_name": "Python 3",
   "language": "python",
   "name": "python3"
  },
  "language_info": {
   "codemirror_mode": {
    "name": "ipython",
    "version": 3
   },
   "file_extension": ".py",
   "mimetype": "text/x-python",
   "name": "python",
   "nbconvert_exporter": "python",
   "pygments_lexer": "ipython3",
   "version": "3.9.17"
  }
 },
 "nbformat": 4,
 "nbformat_minor": 5
}

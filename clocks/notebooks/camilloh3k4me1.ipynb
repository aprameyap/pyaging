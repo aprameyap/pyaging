{
 "cells": [
  {
   "cell_type": "markdown",
   "id": "2f04eee0-5928-4e74-a754-6dc2e528810c",
   "metadata": {},
   "source": [
    "# CamilloH3K4me1"
   ]
  },
  {
   "cell_type": "markdown",
   "id": "a3f514a3-772c-4a14-afdf-5a8376851ff4",
   "metadata": {},
   "source": [
    "## Index\n",
    "1. [Define required clock parameters](#Define-required-clock-parameters)\n",
    "2. [Download necessary data](#Download-necessary-data)\n",
    "3. [Load data](#-Load-data)\n",
    "4. [Extract features and weights](#Extract-features-and-weights)\n",
    "5. [Load weights into pyaging model](#Load-weights-into-pyaging-model)\n",
    "6. [Add reference values](#Add-reference-values)\n",
    "7. [Add preprocessing and postprocesssing steps](#Add-preprocessing-and-postprocesssing-steps)\n",
    "8. [Check all data objects](#Check-all-data-objects)\n",
    "9. [Write clock dictionary](#Write-clock-dictionary)\n",
    "10. [Clear directory](#Clear-directory)"
   ]
  },
  {
   "cell_type": "markdown",
   "id": "d95fafdc-643a-40ea-a689-200bd132e90c",
   "metadata": {},
   "source": [
    "Let's first import some packages:"
   ]
  },
  {
   "cell_type": "code",
   "execution_count": 1,
   "id": "4adfb4de-cd79-4913-a1af-9e23e9e236c9",
   "metadata": {},
   "outputs": [],
   "source": [
    "import os\n",
    "import marshal\n",
    "import shutil\n",
    "import json\n",
    "import torch\n",
    "import pandas as pd\n",
    "import pyaging as pya\n",
    "import joblib\n",
    "import numpy as np"
   ]
  },
  {
   "cell_type": "markdown",
   "id": "c8c0c937-d9b6-4756-99b0-91de591220e0",
   "metadata": {},
   "source": [
    "## Define required clock parameters"
   ]
  },
  {
   "cell_type": "markdown",
   "id": "cf95ddca-625e-4c70-a246-c3cb12df96f8",
   "metadata": {},
   "source": [
    "Let's define some required information first:"
   ]
  },
  {
   "cell_type": "code",
   "execution_count": 2,
   "id": "5281776d-0549-445f-beec-39c31ec7dbe1",
   "metadata": {},
   "outputs": [],
   "source": [
    "clock_name = 'camilloh3k4me1'\n",
    "data_type = 'histone mark'\n",
    "model_class = 'PCLinearModel'\n",
    "species = 'Homo sapiens'\n",
    "year = 2023\n",
    "approved_by_author = '✅'\n",
    "citation = \"de Lima Camillo, Lucas Paulo, et al. \\\"Histone mark age of human tissues and cells.\\\" bioRxiv (2023): 2023-08.\"\n",
    "doi = 'https://doi.org/10.1101/2023.08.21.554165'\n",
    "notes = \"This is still a preprint, so the model might change\""
   ]
  },
  {
   "cell_type": "markdown",
   "id": "4520c8cb-6c1f-4490-ba4c-6fe78ef002a7",
   "metadata": {},
   "source": [
    "## Download necessary data"
   ]
  },
  {
   "cell_type": "markdown",
   "id": "4ccae25e-7d7f-45da-8e8a-064a66dc52fa",
   "metadata": {},
   "source": [
    "#### Download GitHub repository"
   ]
  },
  {
   "cell_type": "code",
   "execution_count": 3,
   "id": "a2a5b60e-ff7f-4b24-b1c6-61cda8948310",
   "metadata": {},
   "outputs": [
    {
     "data": {
      "text/plain": [
       "0"
      ]
     },
     "execution_count": 3,
     "metadata": {},
     "output_type": "execute_result"
    }
   ],
   "source": [
    "github_url = \"https://github.com/rsinghlab/HistoneClocks.git\"\n",
    "github_folder_name = github_url.split('/')[-1].split('.')[0]\n",
    "os.system(f\"git clone {github_url}\")"
   ]
  },
  {
   "cell_type": "markdown",
   "id": "35615b62-73ac-40b1-8bc1-e904403eb0ae",
   "metadata": {},
   "source": [
    "## Load data"
   ]
  },
  {
   "cell_type": "code",
   "execution_count": 4,
   "id": "af387efd-4c94-48d4-8e5c-d72f548244cf",
   "metadata": {},
   "outputs": [
    {
     "name": "stderr",
     "output_type": "stream",
     "text": [
      "/Users/lucascamillo/mambaforge/envs/brain/lib/python3.9/site-packages/sklearn/base.py:348: InconsistentVersionWarning: Trying to unpickle estimator ElasticNet from version 1.0.1 when using version 1.3.2. This might lead to breaking code or invalid results. Use at your own risk. For more info please refer to:\n",
      "https://scikit-learn.org/stable/model_persistence.html#security-maintainability-limitations\n",
      "  warnings.warn(\n",
      "/Users/lucascamillo/mambaforge/envs/brain/lib/python3.9/site-packages/sklearn/base.py:348: InconsistentVersionWarning: Trying to unpickle estimator TruncatedSVD from version 1.0.1 when using version 1.3.2. This might lead to breaking code or invalid results. Use at your own risk. For more info please refer to:\n",
      "https://scikit-learn.org/stable/model_persistence.html#security-maintainability-limitations\n",
      "  warnings.warn(\n",
      "/Users/lucascamillo/mambaforge/envs/brain/lib/python3.9/site-packages/sklearn/base.py:348: InconsistentVersionWarning: Trying to unpickle estimator ARDRegression from version 1.0.1 when using version 1.3.2. This might lead to breaking code or invalid results. Use at your own risk. For more info please refer to:\n",
      "https://scikit-learn.org/stable/model_persistence.html#security-maintainability-limitations\n",
      "  warnings.warn(\n"
     ]
    }
   ],
   "source": [
    "histone = 'H3K4me1'\n",
    "\n",
    "feature_selector_path = 'HistoneClocks/results/models/' + histone + '_feature_selector.pkl'\n",
    "feature_selector = joblib.load(feature_selector_path)\n",
    "\n",
    "dim_reduction_path = 'HistoneClocks/results/models/' + histone + '_dim_reduction.pkl'\n",
    "dim_reduction = joblib.load(dim_reduction_path)\n",
    "\n",
    "ard_model_path = 'HistoneClocks/results/models/' + histone + '_model.pkl'\n",
    "ard_model = joblib.load(ard_model_path)\n",
    "\n",
    "genes = pd.read_csv('HistoneClocks/metadata/Ensembl-105-EnsDb-for-Homo-sapiens-genes.csv')"
   ]
  },
  {
   "cell_type": "markdown",
   "id": "60c676db-2c7c-4c04-9457-97bccd598269",
   "metadata": {},
   "source": [
    "## Extract features and weights"
   ]
  },
  {
   "cell_type": "markdown",
   "id": "5ac5b42a-3bd9-49d3-b84e-79d236af24b4",
   "metadata": {},
   "source": [
    "Then, let's create lists for features and weights. Be careful about the intercept, as it usually shows up as a feature name."
   ]
  },
  {
   "cell_type": "code",
   "execution_count": 5,
   "id": "2fc06bb5-7e9c-46fd-9843-31880f1d3788",
   "metadata": {},
   "outputs": [],
   "source": [
    "chromosomes = ['1', '10', '11', '12', '13', '14', '15', '16', '17', '18', '19', '2', '20', '21', '22', '3', '4', '5', '6', '7', '8', '9', 'X']\n",
    "genes = genes[genes['chr'].apply(lambda x: x in chromosomes)]\n",
    "genes.index = genes.gene_id\n",
    "features = genes.gene_id[np.abs(feature_selector.coef_) > 0].tolist()\n",
    "\n",
    "weights = torch.tensor(ard_model.coef_).float()\n",
    "intercept = torch.tensor([ard_model.intercept_]).float()\n",
    "rotation = torch.tensor(dim_reduction.components_.T).float()\n",
    "center = rotation[0,:]"
   ]
  },
  {
   "cell_type": "code",
   "execution_count": 6,
   "id": "785c6f12-8f2d-4c6f-996e-aa3d3033330a",
   "metadata": {},
   "outputs": [
    {
     "data": {
      "text/plain": [
       "torch.Size([892, 263])"
      ]
     },
     "execution_count": 6,
     "metadata": {},
     "output_type": "execute_result"
    }
   ],
   "source": [
    "rotation.shape"
   ]
  },
  {
   "cell_type": "markdown",
   "id": "d193ccbf-d06b-49bb-ad4b-ffe3271dea63",
   "metadata": {},
   "source": [
    "## Load weights into pyaging model"
   ]
  },
  {
   "cell_type": "markdown",
   "id": "9b9f4e65-3423-4fae-bde5-5039b2dcab3e",
   "metadata": {},
   "source": [
    "#### PC linear model"
   ]
  },
  {
   "cell_type": "code",
   "execution_count": 7,
   "id": "eb6f898d-80ce-4e14-b724-9f6e05fb9371",
   "metadata": {},
   "outputs": [],
   "source": [
    "model = pya.models.PCLinearModel(input_dim=len(features), pc_dim=rotation.shape[1])\n",
    "\n",
    "model.center.data = torch.zeros((len(features))).float()\n",
    "model.rotation.data = rotation.float()\n",
    "model.linear.weight.data = weights.unsqueeze(0).float()\n",
    "model.linear.bias.data = intercept.float()"
   ]
  },
  {
   "cell_type": "markdown",
   "id": "06adc9d8-cec2-447d-8d0b-e2819d4c1a5b",
   "metadata": {},
   "source": [
    "## Add reference values"
   ]
  },
  {
   "cell_type": "markdown",
   "id": "84bf0205-f976-497b-a6a9-e4945c05cdb3",
   "metadata": {},
   "source": [
    "Some clocks have reference values in the case of missing features. It is also possible that these values are for preprocessing features rather than the clock features. Let's add a dictionary with the feature names as the keys."
   ]
  },
  {
   "cell_type": "code",
   "execution_count": 8,
   "id": "250dd50d-a175-45f3-913b-da87c50cb55c",
   "metadata": {},
   "outputs": [],
   "source": [
    "reference_feature_values = None"
   ]
  },
  {
   "cell_type": "markdown",
   "id": "c9b4fd10-797c-45bd-aa1a-65aed1deaf1c",
   "metadata": {},
   "source": [
    "## Add preprocessing and postprocesssing steps"
   ]
  },
  {
   "cell_type": "markdown",
   "id": "20649dc9-2b58-4c63-a48e-f8d7a4bb520b",
   "metadata": {},
   "source": [
    "The preprocessing and postprocessing objects are dictionaries with the following format, with all items required. It takes in x in the form of a numpy array."
   ]
  },
  {
   "cell_type": "code",
   "execution_count": 9,
   "id": "1d173005-fb63-43d5-bd9f-0b4fa2e240b1",
   "metadata": {},
   "outputs": [],
   "source": [
    "preprocessing = None"
   ]
  },
  {
   "cell_type": "markdown",
   "id": "3ca747b4-0214-40a1-a7bf-fbf2a71084af",
   "metadata": {},
   "source": [
    "Similarly is the case of postprocessing. Remember that your function must be compatible with torch and is applied to each number individually."
   ]
  },
  {
   "cell_type": "code",
   "execution_count": 10,
   "id": "6fe37a2c-113a-4517-91e4-10a4e8b2005a",
   "metadata": {},
   "outputs": [],
   "source": [
    "postprocessing = None"
   ]
  },
  {
   "cell_type": "markdown",
   "id": "48c4580d-2a28-4fcb-bdf3-471fa1b47a44",
   "metadata": {},
   "source": [
    "## Check all data objects"
   ]
  },
  {
   "cell_type": "markdown",
   "id": "22d2b2d2-92c0-4d6c-b32f-4b6a1637c064",
   "metadata": {},
   "source": [
    "Let's print all data objects to check if they make sense."
   ]
  },
  {
   "cell_type": "markdown",
   "id": "cf4bfd92-9191-4a78-ba79-88e079af40aa",
   "metadata": {},
   "source": [
    "#### features"
   ]
  },
  {
   "cell_type": "code",
   "execution_count": 11,
   "id": "bf047bed-52f0-4a64-9691-4c04df9f50ec",
   "metadata": {},
   "outputs": [
    {
     "data": {
      "text/html": [
       "\n",
       "    <div style=\"overflow-x: scroll; overflow-y: scroll; border: 1px solid black; background-color: white; !important; color: black; !important;\">\n",
       "        <pre>There are 892 features.\n",
       "['ENSG00000187634', 'ENSG00000188290', 'ENSG00000237330', 'ENSG00000223823', 'ENSG00000207730', 'ENSG00000186827', 'LRG_1319', 'ENSG00000078808', 'ENSG00000260179', 'ENSG00000160087', 'ENSG00000240731', 'ENSG00000224051', 'ENSG00000162576', 'ENSG00000175756', 'ENSG00000224870', 'ENSG00000235098', 'ENSG00000225905', 'ENSG00000274481', 'ENSG00000228594', 'ENSG00000078369', 'ENSG00000169885', 'ENSG00000178821', 'ENSG00000287356', 'ENSG00000116151', 'ENSG00000157911', 'ENSG00000149527', 'ENSG00000229393', 'ENSG00000197921', 'ENSG00000272449', 'ENSG00000283572', 'ENSG00000286518', 'ENSG00000130762', 'ENSG00000158109', 'ENSG00000130764', 'ENSG00000204859', 'ENSG00000162413', 'ENSG00000237728', 'ENSG00000049245', 'ENSG00000269925', 'ENSG00000270330', 'ENSG00000200344', 'ENSG00000227634', 'ENSG00000200975', 'ENSG00000232912', 'ENSG00000221083', 'ENSG00000252956', 'ENSG00000271264', 'ENSG00000285701', 'ENSG00000224340', 'ENSG00000241563', 'ENSG00000203469', 'ENSG00000272078', 'ENSG00000116649', 'ENSG00000253086', 'ENSG00000116670', 'ENSG00000175206', 'LRG_751', 'ENSG00000275915', 'ENSG00000120937', 'ENSG00000224904', 'ENSG00000116685', 'ENSG00000239149', 'ENSG00000276830', 'ENSG00000226166', 'ENSG00000271742', 'ENSG00000233954', 'ENSG00000227959', 'ENSG00000224621', 'ENSG00000233929', 'ENSG00000226457', 'ENSG00000277234', 'ENSG00000117122', 'ENSG00000286898', 'ENSG00000117115', 'ENSG00000280222', 'ENSG00000169991', 'ENSG00000272084', 'ENSG00000077549', 'ENSG00000284641', 'ENSG00000284743', 'ENSG00000090432', 'ENSG00000284005', 'ENSG00000244038', 'ENSG00000236073', 'ENSG00000231105', 'ENSG00000231978', 'LRG_1326', 'ENSG00000230068', 'ENSG00000271428', 'ENSG00000225952', 'ENSG00000263793', 'ENSG00000206935', 'ENSG00000252578', 'ENSG00000201405', 'ENSG00000142676', 'LRG_1140', 'ENSG00000189266', 'ENSG00000264371', 'ENSG00000261349', 'LRG_276', 'ENSG00000157978', 'ENSG00000236528', 'ENSG00000283938', 'ENSG00000252190', 'ENSG00000238705', 'ENSG00000252429', 'ENSG00000158246', 'ENSG00000226662', 'ENSG00000274582', 'ENSG00000280498', 'ENSG00000253304', 'ENSG00000225750', 'ENSG00000287510', 'ENSG00000235143', 'ENSG00000232768', 'ENSG00000225142', 'ENSG00000229167', 'ENSG00000288678', 'ENSG00000276645', 'ENSG00000279179', 'ENSG00000222112', 'ENSG00000234512', 'ENSG00000230163', 'ENSG00000271914', 'ENSG00000201448', 'ENSG00000284650', 'ENSG00000283724', 'ENSG00000232273', 'ENSG00000230955', 'ENSG00000207466', 'ENSG00000228060', 'ENSG00000261798', 'ENSG00000202222', 'ENSG00000236546', 'ENSG00000179862', 'ENSG00000204060', 'ENSG00000127129', 'ENSG00000284138', 'ENSG00000284410', 'ENSG00000179178', 'ENSG00000066056', 'ENSG00000237950', 'ENSG00000117408', 'ENSG00000263381', 'ENSG00000200913', 'ENSG00000202031', 'ENSG00000207421', 'ENSG00000281859', 'ENSG00000188396', 'ENSG00000202444', 'ENSG00000126107', 'LRG_1079', 'ENSG00000280670', 'ENSG00000233647', 'ENSG00000232846', 'ENSG00000272371', 'ENSG00000227644', 'ENSG00000228838', 'ENSG00000232762', 'ENSG00000283749', 'ENSG00000230798', 'ENSG00000187140', 'ENSG00000275836', 'ENSG00000276884', 'ENSG00000199135', 'ENSG00000234144', 'ENSG00000222624', 'ENSG00000238778', 'ENSG00000207241', 'ENSG00000226394', 'ENSG00000272672', 'ENSG00000207523', 'ENSG00000239710', 'ENSG00000284202', 'ENSG00000230287', 'ENSG00000235795', 'ENSG00000222069', 'ENSG00000228076', 'ENSG00000284443', 'ENSG00000261055', 'ENSG00000177272', 'ENSG00000199890', 'ENSG00000200360', 'ENSG00000252750', 'ENSG00000201900', 'ENSG00000200547', 'ENSG00000226172', 'ENSG00000239216', 'ENSG00000207501', 'ENSG00000265972', 'ENSG00000288626', 'ENSG00000235988', 'ENSG00000238825', 'ENSG00000206828', 'ENSG00000184270', 'ENSG00000203804', 'ENSG00000277452', 'ENSG00000253047', 'ENSG00000224800', 'ENSG00000223861', 'ENSG00000276584', 'ENSG00000273026', 'ENSG00000228264', 'ENSG00000173080', 'ENSG00000254726', 'ENSG00000160781', 'ENSG00000289593', 'ENSG00000272971', 'ENSG00000215845', 'ENSG00000230175', 'ENSG00000213068', 'ENSG00000232194', 'ENSG00000237707', 'ENSG00000289466', 'ENSG00000233540', 'ENSG00000206659', 'ENSG00000252906', 'ENSG00000201791', 'ENSG00000265435', 'ENSG00000261504', 'ENSG00000238754', 'ENSG00000207139', 'ENSG00000224671', 'ENSG00000202300', 'ENSG00000280924', 'ENSG00000213041', 'ENSG00000117266', 'ENSG00000203709', 'ENSG00000284214', 'ENSG00000226843', 'ENSG00000283876', 'ENSG00000252086', 'ENSG00000234523', 'ENSG00000266618', 'ENSG00000284519', 'ENSG00000228382', 'ENSG00000228525', 'ENSG00000284163', 'ENSG00000288862', 'ENSG00000143632', 'LRG_429', 'ENSG00000226920', 'ENSG00000283799', 'ENSG00000287450', 'ENSG00000289305', 'ENSG00000273416', 'ENSG00000225222', 'ENSG00000212331', 'ENSG00000263511', 'ENSG00000251922', 'ENSG00000228181', 'ENSG00000286881', 'ENSG00000223131', 'ENSG00000223019', 'ENSG00000207612', 'ENSG00000212411', 'ENSG00000289386', 'ENSG00000231148', 'ENSG00000238523', 'ENSG00000277056', 'ENSG00000289325', 'ENSG00000222371', 'ENSG00000221184', 'ENSG00000099282', 'ENSG00000214688', 'ENSG00000122863', 'ENSG00000266719', 'ENSG00000279502', 'ENSG00000207327', 'ENSG00000271710', 'ENSG00000165644', 'ENSG00000272692', 'ENSG00000228280', 'ENSG00000199592', 'ENSG00000165424', 'ENSG00000235924', 'ENSG00000212332', 'ENSG00000272734', 'ENSG00000283672', 'ENSG00000180139', 'ENSG00000198997', 'ENSG00000225118', 'ENSG00000279607', 'ENSG00000202047', 'ENSG00000264610', 'ENSG00000289301', 'ENSG00000288844', 'ENSG00000138136', 'ENSG00000202569', 'ENSG00000120055', 'ENSG00000283867', 'ENSG00000273485', 'ENSG00000266852', 'ENSG00000200935', 'ENSG00000265719', 'ENSG00000273599', 'ENSG00000231705', 'ENSG00000229081', 'ENSG00000288675', 'ENSG00000235027', 'ENSG00000249086', 'ENSG00000284594', 'ENSG00000207805', 'ENSG00000110651', 'LRG_142', 'ENSG00000276015', 'ENSG00000274740', 'ENSG00000212607', 'ENSG00000264984', 'ENSG00000275373', 'ENSG00000240454', 'ENSG00000284094', 'ENSG00000272034', 'ENSG00000255254', 'ENSG00000278822', 'ENSG00000201867', 'ENSG00000201591', 'ENSG00000265014', 'ENSG00000283497', 'ENSG00000264583', 'ENSG00000254601', 'ENSG00000280010', 'ENSG00000277892', 'ENSG00000162188', 'ENSG00000274066', 'ENSG00000277194', 'ENSG00000277846', 'ENSG00000229719', 'ENSG00000283926', 'ENSG00000284155', 'ENSG00000254501', 'ENSG00000255173', 'ENSG00000278144', 'ENSG00000277599', 'ENSG00000289259', 'ENSG00000278217', 'ENSG00000279093', 'ENSG00000266041', 'ENSG00000265874', 'ENSG00000239356', 'ENSG00000250105', 'ENSG00000199325', 'ENSG00000175505', 'ENSG00000275484', 'ENSG00000284293', 'ENSG00000261276', 'ENSG00000227726', 'ENSG00000204572', 'ENSG00000263742', 'ENSG00000284736', 'ENSG00000223202', 'ENSG00000254429', 'ENSG00000207445', 'ENSG00000255280', 'ENSG00000200256', 'ENSG00000274006', 'ENSG00000279056', 'ENSG00000200411', 'ENSG00000271600', 'ENSG00000207811', 'ENSG00000201535', 'ENSG00000264211', 'ENSG00000239079', 'ENSG00000207118', 'ENSG00000200496', 'ENSG00000288907', 'ENSG00000276176', 'ENSG00000199260', 'ENSG00000244451', 'ENSG00000255455', 'ENSG00000010278', 'LRG_1189', 'ENSG00000139192', 'ENSG00000255966', 'ENSG00000111640', 'ENSG00000111669', 'LRG_1126', 'ENSG00000238923', 'ENSG00000111679', 'ENSG00000271969', 'ENSG00000238795', 'ENSG00000244131', 'ENSG00000256019', 'ENSG00000256712', 'ENSG00000251747', 'ENSG00000270857', 'ENSG00000256658', 'ENSG00000200105', 'ENSG00000200247', 'ENSG00000278743', 'ENSG00000256557', 'ENSG00000201563', 'ENSG00000257738', 'ENSG00000257649', 'ENSG00000278108', 'ENSG00000250133', 'ENSG00000257534', 'ENSG00000289154', 'ENSG00000257477', 'ENSG00000135437', 'ENSG00000258554', 'ENSG00000257668', 'ENSG00000277130', 'ENSG00000258173', 'ENSG00000201502', 'ENSG00000252827', 'ENSG00000201296', 'ENSG00000212443', 'ENSG00000201168', 'ENSG00000258111', 'ENSG00000238609', 'ENSG00000240631', 'ENSG00000274598', 'ENSG00000201324', 'ENSG00000256262', 'ENSG00000212138', 'ENSG00000241413', 'ENSG00000272215', 'ENSG00000258099', 'ENSG00000207967', 'ENSG00000257979', 'ENSG00000286354', 'ENSG00000275265', 'ENSG00000280381', 'ENSG00000278112', 'ENSG00000256827', 'ENSG00000255965', 'ENSG00000256298', 'ENSG00000277186', 'ENSG00000230022', 'ENSG00000232163', 'ENSG00000276958', 'ENSG00000252812', 'ENSG00000284584', 'ENSG00000253051', 'ENSG00000229303', 'ENSG00000277752', 'ENSG00000276089', 'ENSG00000266611', 'ENSG00000273723', 'ENSG00000211579', 'ENSG00000239003', 'ENSG00000284536', 'ENSG00000283815', 'ENSG00000270632', 'ENSG00000211802', 'ENSG00000211825', 'ENSG00000211833', 'ENSG00000211854', 'ENSG00000211859', 'ENSG00000259054', 'ENSG00000202402', 'ENSG00000283016', 'ENSG00000201654', 'ENSG00000278038', 'ENSG00000258843', 'ENSG00000258753', 'ENSG00000206870', 'ENSG00000250548', 'ENSG00000252800', 'ENSG00000266531', 'ENSG00000265993', 'ENSG00000274666', 'ENSG00000287385', 'ENSG00000287167', 'ENSG00000258967', 'ENSG00000258524', 'ENSG00000222604', 'ENSG00000289340', 'ENSG00000259058', 'ENSG00000289347', 'ENSG00000252655', 'ENSG00000259789', 'ENSG00000258749', 'ENSG00000265154', 'ENSG00000274884', 'ENSG00000289482', 'ENSG00000252469', 'ENSG00000222123', 'ENSG00000259721', 'LRG_345', 'ENSG00000182117', 'ENSG00000277202', 'ENSG00000259409', 'ENSG00000251161', 'ENSG00000260035', 'ENSG00000284386', 'ENSG00000275709', 'ENSG00000274667', 'ENSG00000279683', 'ENSG00000211137', 'ENSG00000201071', 'ENSG00000265967', 'ENSG00000199568', 'ENSG00000280554', 'ENSG00000202529', 'ENSG00000199673', 'ENSG00000200623', 'ENSG00000274297', 'ENSG00000277749', 'ENSG00000264386', 'ENSG00000275645', 'ENSG00000288625', 'ENSG00000286817', 'ENSG00000251891', 'ENSG00000265871', 'ENSG00000275803', 'ENSG00000289200', 'ENSG00000212306', 'ENSG00000282793', 'ENSG00000266235', 'ENSG00000259840', 'ENSG00000277602', 'ENSG00000221656', 'ENSG00000260260', 'ENSG00000206630', 'ENSG00000281010', 'ENSG00000162068', 'ENSG00000277170', 'ENSG00000261481', 'ENSG00000212228', 'ENSG00000264733', 'ENSG00000207042', 'ENSG00000201371', 'ENSG00000283845', 'ENSG00000289029', 'ENSG00000261385', 'ENSG00000260304', 'ENSG00000260033', 'ENSG00000125148', 'ENSG00000274816', 'ENSG00000200556', 'ENSG00000289004', 'ENSG00000207493', 'ENSG00000284259', 'ENSG00000199263', 'ENSG00000279412', 'ENSG00000247033', 'ENSG00000222244', 'ENSG00000275109', 'ENSG00000277387', 'ENSG00000103168', 'ENSG00000261471', 'ENSG00000270124', 'ENSG00000263968', 'ENSG00000124391', 'ENSG00000262434', 'ENSG00000283824', 'ENSG00000279040', 'ENSG00000236838', 'ENSG00000236457', 'ENSG00000278517', 'ENSG00000261996', 'ENSG00000284112', 'ENSG00000199053', 'ENSG00000276384', 'ENSG00000284117', 'LRG_1204', 'ENSG00000200463', 'ENSG00000288750', 'ENSG00000227782', 'ENSG00000231458', 'ENSG00000206859', 'ENSG00000238423', 'ENSG00000238597', 'ENSG00000267729', 'ENSG00000253064', 'ENSG00000240531', 'ENSG00000264148', 'ENSG00000267315', 'ENSG00000199293', 'ENSG00000267758', 'ENSG00000175906', 'ENSG00000264070', 'ENSG00000284038', 'ENSG00000250838', 'ENSG00000235183', 'ENSG00000263096', 'ENSG00000264399', 'ENSG00000207996', 'ENSG00000267637', 'ENSG00000200842', 'ENSG00000265262', 'ENSG00000278581', 'ENSG00000277728', 'ENSG00000207736', 'ENSG00000289182', 'ENSG00000267292', 'ENSG00000267529', 'ENSG00000263527', 'ENSG00000283084', 'ENSG00000284239', 'ENSG00000206602', 'ENSG00000267444', 'ENSG00000252139', 'ENSG00000199867', 'ENSG00000278017', 'ENSG00000276092', 'ENSG00000265698', 'ENSG00000267778', 'ENSG00000221411', 'ENSG00000284638', 'ENSG00000268670', 'ENSG00000273758', 'ENSG00000200237', 'ENSG00000264266', 'ENSG00000267212', 'ENSG00000263800', 'ENSG00000274417', 'ENSG00000279977', 'ENSG00000241464', 'ENSG00000264175', 'ENSG00000267245', 'ENSG00000277013', 'ENSG00000279619', 'ENSG00000243968', 'ENSG00000205138', 'ENSG00000266226', 'ENSG00000207782', 'ENSG00000239137', 'ENSG00000223060', 'ENSG00000235688', 'ENSG00000260077', 'ENSG00000226961', 'ENSG00000264089', 'ENSG00000222232', 'ENSG00000265706', 'ENSG00000199603', 'ENSG00000276048', 'ENSG00000251889', 'ENSG00000225842', 'ENSG00000200086', 'ENSG00000272025', 'ENSG00000277764', 'ENSG00000241159', 'ENSG00000200779', 'ENSG00000204822', 'ENSG00000272183', 'ENSG00000276917', 'ENSG00000265420', 'ENSG00000201806', 'ENSG00000234044', 'ENSG00000226831', 'ENSG00000284149', 'ENSG00000222300', 'ENSG00000206869', 'ENSG00000226963', 'ENSG00000260868', 'ENSG00000225808', 'ENSG00000265396', 'ENSG00000280636', 'ENSG00000266705', 'ENSG00000230482', 'ENSG00000201499', 'ENSG00000206970', 'ENSG00000270659', 'ENSG00000284173', 'ENSG00000264755', 'ENSG00000263363', 'ENSG00000252333', 'ENSG00000239202', 'ENSG00000277986', 'ENSG00000284378', 'ENSG00000277842', 'ENSG00000284481', 'ENSG00000252367', 'ENSG00000265137', 'ENSG00000200208', 'ENSG00000236542', 'ENSG00000275576', 'ENSG00000236772', 'ENSG00000283527', 'ENSG00000240474', 'ENSG00000276223', 'ENSG00000221046', 'ENSG00000213820', 'ENSG00000277830', 'ENSG00000277967', 'ENSG00000276722', 'ENSG00000226332', 'ENSG00000289634', 'ENSG00000274034', 'ENSG00000274727', 'ENSG00000284448', 'ENSG00000272991', 'ENSG00000231004', 'ENSG00000284140', 'ENSG00000200985', 'ENSG00000264824', 'ENSG00000231369', 'ENSG00000200976', 'ENSG00000222915', 'ENSG00000276664', 'ENSG00000276057', 'ENSG00000214125', 'ENSG00000199695', 'ENSG00000202019', 'ENSG00000274170', 'ENSG00000236054', 'ENSG00000273082', 'ENSG00000252412', 'ENSG00000228599', 'ENSG00000199865', 'ENSG00000224856', 'ENSG00000289160', 'ENSG00000266533', 'ENSG00000236867', 'ENSG00000284194', 'ENSG00000265180', 'ENSG00000281863', 'ENSG00000199815', 'ENSG00000212327', 'ENSG00000207496', 'ENSG00000201162', 'ENSG00000271964', 'ENSG00000287620', 'ENSG00000252410', 'ENSG00000270285', 'ENSG00000199032', 'ENSG00000239576', 'ENSG00000244730', 'ENSG00000283848', 'ENSG00000126062', 'ENSG00000280003', 'ENSG00000287649', 'ENSG00000272844', 'ENSG00000272967', 'ENSG00000266383', 'ENSG00000242199', 'ENSG00000264986', 'ENSG00000275067', 'ENSG00000276083', 'ENSG00000283418', 'ENSG00000289086', 'ENSG00000243398', 'ENSG00000202502', 'ENSG00000221420', 'ENSG00000200320', 'ENSG00000263776', 'ENSG00000244675', 'ENSG00000265850', 'ENSG00000273179', 'ENSG00000284648', 'ENSG00000252975', 'ENSG00000207198', 'ENSG00000207058', 'ENSG00000207746', 'ENSG00000240966', 'ENSG00000249262', 'ENSG00000221265', 'ENSG00000206601', 'ENSG00000243227', 'ENSG00000243280', 'ENSG00000252183', 'ENSG00000252503', 'ENSG00000206722', 'ENSG00000264274', 'ENSG00000240014', 'ENSG00000250350', 'ENSG00000264678', 'ENSG00000206703', 'ENSG00000248552', 'ENSG00000207231', 'ENSG00000285745', 'ENSG00000249539', 'ENSG00000200600', 'ENSG00000207052', 'ENSG00000207756', 'ENSG00000222743', 'ENSG00000199552', 'ENSG00000251573', 'ENSG00000265135', 'ENSG00000207352', 'ENSG00000277818', 'ENSG00000238835', 'ENSG00000207452', 'ENSG00000250555', 'ENSG00000277001', 'ENSG00000200884', 'ENSG00000201910', 'ENSG00000251732', 'ENSG00000238363', 'ENSG00000270741', 'ENSG00000263597', 'ENSG00000225364', 'ENSG00000252213', 'ENSG00000199990', 'ENSG00000272411', 'ENSG00000199035', 'ENSG00000253445', 'ENSG00000213316', 'ENSG00000231228', 'ENSG00000271361', 'ENSG00000205444', 'ENSG00000207286', 'ENSG00000217159', 'ENSG00000218281', 'ENSG00000274618', 'ENSG00000277775', 'ENSG00000220875', 'ENSG00000265565', 'ENSG00000278677', 'ENSG00000284370', 'ENSG00000288813', 'ENSG00000229836', 'ENSG00000284469', 'ENSG00000277264', 'ENSG00000266509', 'ENSG00000276712', 'ENSG00000288614', 'ENSG00000217527', 'ENSG00000275072', 'ENSG00000238055', 'ENSG00000199944', 'ENSG00000252244', 'ENSG00000264814', 'ENSG00000266617', 'ENSG00000222958', 'ENSG00000265828', 'ENSG00000207973', 'ENSG00000226816', 'ENSG00000283618', 'ENSG00000207573', 'ENSG00000283461', 'ENSG00000252713', 'ENSG00000201643', 'ENSG00000207547', 'ENSG00000288976', 'ENSG00000235354', 'ENSG00000273571', 'ENSG00000103200', 'ENSG00000201354', 'ENSG00000211767', 'ENSG00000239419', 'ENSG00000231397', 'ENSG00000273293', 'ENSG00000266206', 'ENSG00000283523', 'ENSG00000265520', 'ENSG00000272157', 'ENSG00000284280', 'ENSG00000202411', 'ENSG00000207199', 'ENSG00000263372', 'ENSG00000274705', 'ENSG00000255166', 'ENSG00000270980', 'ENSG00000254341', 'ENSG00000284288', 'ENSG00000271930', 'ENSG00000207804', 'ENSG00000254313', 'ENSG00000231808', 'ENSG00000252991', 'ENSG00000202189', 'ENSG00000266446', 'ENSG00000274055', 'ENSG00000279336', 'ENSG00000227933', 'ENSG00000269900', 'LRG_163', 'ENSG00000236156', 'ENSG00000288838', 'ENSG00000202474', 'ENSG00000265873', 'ENSG00000289031', 'ENSG00000283146', 'ENSG00000207563', 'ENSG00000287070', 'ENSG00000253041', 'ENSG00000214593', 'ENSG00000222455', 'ENSG00000207581', 'ENSG00000252622', 'ENSG00000200831', 'ENSG00000263403', 'ENSG00000280496', 'ENSG00000276161', 'ENSG00000180549', 'ENSG00000263697', 'ENSG00000200566', 'ENSG00000265465', 'ENSG00000201882', 'ENSG00000223714', 'ENSG00000223309', 'ENSG00000199168', 'ENSG00000199567', 'ENSG00000252627', 'ENSG00000241418', 'ENSG00000208005', 'ENSG00000207633', 'ENSG00000221081']\n",
       "</pre>\n",
       "    </div>\n",
       "    "
      ],
      "text/plain": [
       "<IPython.core.display.HTML object>"
      ]
     },
     "metadata": {},
     "output_type": "display_data"
    }
   ],
   "source": [
    "def my_print_function():\n",
    "    print(f\"There are {len(features)} features.\")\n",
    "    print(features)\n",
    "pya.utils.print_to_scrollable_output(my_print_function)"
   ]
  },
  {
   "cell_type": "markdown",
   "id": "1ec4d31f-5d93-4ee1-9709-44c191aca996",
   "metadata": {},
   "source": [
    "#### reference_feature_values"
   ]
  },
  {
   "cell_type": "code",
   "execution_count": 12,
   "id": "6436fd01-0a8e-41a5-b584-2c020136ff97",
   "metadata": {},
   "outputs": [
    {
     "data": {
      "text/html": [
       "\n",
       "    <div style=\"overflow-x: scroll; overflow-y: scroll; border: 1px solid black; background-color: white; !important; color: black; !important;\">\n",
       "        <pre>None\n",
       "</pre>\n",
       "    </div>\n",
       "    "
      ],
      "text/plain": [
       "<IPython.core.display.HTML object>"
      ]
     },
     "metadata": {},
     "output_type": "display_data"
    }
   ],
   "source": [
    "def my_print_function():\n",
    "    if reference_feature_values:\n",
    "        print(f\"There are {len(reference_feature_values)} reference feature values.\")\n",
    "    print(reference_feature_values)\n",
    "pya.utils.print_to_scrollable_output(my_print_function)"
   ]
  },
  {
   "cell_type": "markdown",
   "id": "1de55bd7-62de-4e24-a226-6dfe15dcd919",
   "metadata": {},
   "source": [
    "#### preprocessing"
   ]
  },
  {
   "cell_type": "code",
   "execution_count": 13,
   "id": "960c5ede-3175-4192-a358-bf5ccb41074f",
   "metadata": {},
   "outputs": [
    {
     "data": {
      "text/html": [
       "\n",
       "    <div style=\"overflow-x: scroll; overflow-y: scroll; border: 1px solid black; background-color: white; !important; color: black; !important;\">\n",
       "        <pre>None\n",
       "</pre>\n",
       "    </div>\n",
       "    "
      ],
      "text/plain": [
       "<IPython.core.display.HTML object>"
      ]
     },
     "metadata": {},
     "output_type": "display_data"
    }
   ],
   "source": [
    "def my_print_function():\n",
    "    print(preprocessing)\n",
    "    if preprocessing:\n",
    "        print(preprocessing_helper_objects)\n",
    "pya.utils.print_to_scrollable_output(my_print_function)"
   ]
  },
  {
   "cell_type": "markdown",
   "id": "5a264955-ae5a-4683-b1f6-aedec7f0c212",
   "metadata": {},
   "source": [
    "#### postprocessing"
   ]
  },
  {
   "cell_type": "code",
   "execution_count": 14,
   "id": "40fe1f52-ad50-4b84-89c7-c5d1d3fff139",
   "metadata": {},
   "outputs": [
    {
     "data": {
      "text/html": [
       "\n",
       "    <div style=\"overflow-x: scroll; overflow-y: scroll; border: 1px solid black; background-color: white; !important; color: black; !important;\">\n",
       "        <pre>None\n",
       "</pre>\n",
       "    </div>\n",
       "    "
      ],
      "text/plain": [
       "<IPython.core.display.HTML object>"
      ]
     },
     "metadata": {},
     "output_type": "display_data"
    }
   ],
   "source": [
    "def my_print_function():\n",
    "    print(postprocessing)\n",
    "    if postprocessing:\n",
    "        print(postprocessing)\n",
    "pya.utils.print_to_scrollable_output(my_print_function)"
   ]
  },
  {
   "cell_type": "markdown",
   "id": "a23240fe-efdf-41d2-993f-6838d308fe22",
   "metadata": {},
   "source": [
    "#### weight_dict"
   ]
  },
  {
   "cell_type": "code",
   "execution_count": 15,
   "id": "658317e5-44bd-4621-877c-5db57494c968",
   "metadata": {},
   "outputs": [
    {
     "data": {
      "text/html": [
       "\n",
       "    <div style=\"overflow-x: scroll; overflow-y: scroll; border: 1px solid black; background-color: white; !important; color: black; !important;\">\n",
       "        <pre>Layer: center\n",
       "Shape: torch.Size([892])\n",
       "tensor([0., 0., 0., 0., 0., 0., 0., 0., 0., 0., 0., 0., 0., 0., 0., 0., 0., 0., 0., 0., 0., 0., 0., 0.,\n",
       "        0., 0., 0., 0., 0., 0., 0., 0., 0., 0., 0., 0., 0., 0., 0., 0., 0., 0., 0., 0., 0., 0., 0., 0.,\n",
       "        0., 0., 0., 0., 0., 0., 0., 0., 0., 0., 0., 0., 0., 0., 0., 0., 0., 0., 0., 0., 0., 0., 0., 0.,\n",
       "        0., 0., 0., 0., 0., 0., 0., 0., 0., 0., 0., 0., 0., 0., 0., 0., 0., 0., 0., 0., 0., 0., 0., 0.,\n",
       "        0., 0., 0., 0., 0., 0., 0., 0., 0., 0., 0., 0., 0., 0., 0., 0., 0., 0., 0., 0., 0., 0., 0., 0.,\n",
       "        0., 0., 0., 0., 0., 0., 0., 0., 0., 0., 0., 0., 0., 0., 0., 0., 0., 0., 0., 0., 0., 0., 0., 0.,\n",
       "        0., 0., 0., 0., 0., 0., 0., 0., 0., 0., 0., 0., 0., 0., 0., 0., 0., 0., 0., 0., 0., 0., 0., 0.,\n",
       "        0., 0., 0., 0., 0., 0., 0., 0., 0., 0., 0., 0., 0., 0., 0., 0., 0., 0., 0., 0., 0., 0., 0., 0.,\n",
       "        0., 0., 0., 0., 0., 0., 0., 0., 0., 0., 0., 0., 0., 0., 0., 0., 0., 0., 0., 0., 0., 0., 0., 0.,\n",
       "        0., 0., 0., 0., 0., 0., 0., 0., 0., 0., 0., 0., 0., 0., 0., 0., 0., 0., 0., 0., 0., 0., 0., 0.,\n",
       "        0., 0., 0., 0., 0., 0., 0., 0., 0., 0., 0., 0., 0., 0., 0., 0., 0., 0., 0., 0., 0., 0., 0., 0.,\n",
       "        0., 0., 0., 0., 0., 0., 0., 0., 0., 0., 0., 0., 0., 0., 0., 0., 0., 0., 0., 0., 0., 0., 0., 0.,\n",
       "        0., 0., 0., 0., 0., 0., 0., 0., 0., 0., 0., 0., 0., 0., 0., 0., 0., 0., 0., 0., 0., 0., 0., 0.,\n",
       "        0., 0., 0., 0., 0., 0., 0., 0., 0., 0., 0., 0., 0., 0., 0., 0., 0., 0., 0., 0., 0., 0., 0., 0.,\n",
       "        0., 0., 0., 0., 0., 0., 0., 0., 0., 0., 0., 0., 0., 0., 0., 0., 0., 0., 0., 0., 0., 0., 0., 0.,\n",
       "        0., 0., 0., 0., 0., 0., 0., 0., 0., 0., 0., 0., 0., 0., 0., 0., 0., 0., 0., 0., 0., 0., 0., 0.,\n",
       "        0., 0., 0., 0., 0., 0., 0., 0., 0., 0., 0., 0., 0., 0., 0., 0., 0., 0., 0., 0., 0., 0., 0., 0.,\n",
       "        0., 0., 0., 0., 0., 0., 0., 0., 0., 0., 0., 0., 0., 0., 0., 0., 0., 0., 0., 0., 0., 0., 0., 0.,\n",
       "        0., 0., 0., 0., 0., 0., 0., 0., 0., 0., 0., 0., 0., 0., 0., 0., 0., 0., 0., 0., 0., 0., 0., 0.,\n",
       "        0., 0., 0., 0., 0., 0., 0., 0., 0., 0., 0., 0., 0., 0., 0., 0., 0., 0., 0., 0., 0., 0., 0., 0.,\n",
       "        0., 0., 0., 0., 0., 0., 0., 0., 0., 0., 0., 0., 0., 0., 0., 0., 0., 0., 0., 0., 0., 0., 0., 0.,\n",
       "        0., 0., 0., 0., 0., 0., 0., 0., 0., 0., 0., 0., 0., 0., 0., 0., 0., 0., 0., 0., 0., 0., 0., 0.,\n",
       "        0., 0., 0., 0., 0., 0., 0., 0., 0., 0., 0., 0., 0., 0., 0., 0., 0., 0., 0., 0., 0., 0., 0., 0.,\n",
       "        0., 0., 0., 0., 0., 0., 0., 0., 0., 0., 0., 0., 0., 0., 0., 0., 0., 0., 0., 0., 0., 0., 0., 0.,\n",
       "        0., 0., 0., 0., 0., 0., 0., 0., 0., 0., 0., 0., 0., 0., 0., 0., 0., 0., 0., 0., 0., 0., 0., 0.,\n",
       "        0., 0., 0., 0., 0., 0., 0., 0., 0., 0., 0., 0., 0., 0., 0., 0., 0., 0., 0., 0., 0., 0., 0., 0.,\n",
       "        0., 0., 0., 0., 0., 0., 0., 0., 0., 0., 0., 0., 0., 0., 0., 0., 0., 0., 0., 0., 0., 0., 0., 0.,\n",
       "        0., 0., 0., 0., 0., 0., 0., 0., 0., 0., 0., 0., 0., 0., 0., 0., 0., 0., 0., 0., 0., 0., 0., 0.,\n",
       "        0., 0., 0., 0., 0., 0., 0., 0., 0., 0., 0., 0., 0., 0., 0., 0., 0., 0., 0., 0., 0., 0., 0., 0.,\n",
       "        0., 0., 0., 0., 0., 0., 0., 0., 0., 0., 0., 0., 0., 0., 0., 0., 0., 0., 0., 0., 0., 0., 0., 0.,\n",
       "        0., 0., 0., 0., 0., 0., 0., 0., 0., 0., 0., 0., 0., 0., 0., 0., 0., 0., 0., 0., 0., 0., 0., 0.,\n",
       "        0., 0., 0., 0., 0., 0., 0., 0., 0., 0., 0., 0., 0., 0., 0., 0., 0., 0., 0., 0., 0., 0., 0., 0.,\n",
       "        0., 0., 0., 0., 0., 0., 0., 0., 0., 0., 0., 0., 0., 0., 0., 0., 0., 0., 0., 0., 0., 0., 0., 0.,\n",
       "        0., 0., 0., 0., 0., 0., 0., 0., 0., 0., 0., 0., 0., 0., 0., 0., 0., 0., 0., 0., 0., 0., 0., 0.,\n",
       "        0., 0., 0., 0., 0., 0., 0., 0., 0., 0., 0., 0., 0., 0., 0., 0., 0., 0., 0., 0., 0., 0., 0., 0.,\n",
       "        0., 0., 0., 0., 0., 0., 0., 0., 0., 0., 0., 0., 0., 0., 0., 0., 0., 0., 0., 0., 0., 0., 0., 0.,\n",
       "        0., 0., 0., 0., 0., 0., 0., 0., 0., 0., 0., 0., 0., 0., 0., 0., 0., 0., 0., 0., 0., 0., 0., 0.,\n",
       "        0., 0., 0., 0.])\n",
       "Layer: rotation\n",
       "Shape: torch.Size([892, 263])\n",
       "tensor([[ 0.0368,  0.0355,  0.0184,  ...,  0.0035, -0.0114, -0.0305],\n",
       "        [ 0.0411,  0.0718, -0.0186,  ...,  0.0396,  0.0028,  0.0622],\n",
       "        [ 0.0127,  0.0677,  0.0397,  ...,  0.0023,  0.0264,  0.0066],\n",
       "        ...,\n",
       "        [ 0.0137,  0.0343,  0.0270,  ..., -0.0130,  0.0346,  0.0091],\n",
       "        [ 0.0251, -0.0006, -0.0308,  ...,  0.0483,  0.0585,  0.0044],\n",
       "        [ 0.0030,  0.0027,  0.0066,  ...,  0.0294,  0.0703,  0.0226]])\n",
       "Layer: linear.weight\n",
       "Shape: torch.Size([1, 263])\n",
       "tensor([[ 0.0000e+00, -1.4707e+00, -9.1697e-01, -4.3189e-01,  9.8266e-01,\n",
       "          1.1215e+00,  2.5462e+00,  0.0000e+00, -2.8480e-01, -4.9489e+00,\n",
       "          1.5816e+00, -4.9615e-01,  0.0000e+00, -1.1911e+00, -2.3393e-01,\n",
       "          1.8563e+00,  6.1445e-01,  4.2872e-01,  1.9199e+00,  1.0517e+00,\n",
       "          1.2581e+00,  1.4440e+00,  0.0000e+00,  8.1105e-01, -1.6164e+00,\n",
       "          8.7432e-01, -8.2901e-01, -1.4073e+00,  1.0079e+00, -1.4843e+00,\n",
       "          1.3589e+00,  1.7105e+00,  5.9740e-01,  1.8180e-01, -4.7400e-01,\n",
       "         -1.2652e+00,  0.0000e+00,  0.0000e+00,  2.5521e-01, -1.3603e+00,\n",
       "          4.4730e-01, -1.0184e+00, -2.2400e-01, -1.6769e+00, -1.6513e+00,\n",
       "         -5.8280e-01, -3.5968e-02,  3.2713e-01,  2.4685e-02, -2.5655e-01,\n",
       "          4.8000e-01,  1.7599e+00,  3.5732e-01, -5.7486e-01,  5.7848e-01,\n",
       "          6.9930e-01, -4.8177e-01, -2.3121e-01, -1.3060e+00,  6.1128e-01,\n",
       "          7.6861e-01,  0.0000e+00,  1.4468e-01, -1.9689e-01, -7.6191e-01,\n",
       "         -2.2031e-01, -1.6639e+00,  1.2533e+00, -1.0824e+00, -1.0356e+00,\n",
       "         -7.0326e-02, -3.1876e-03,  5.6963e-01,  6.8427e-01, -1.5242e+00,\n",
       "          7.9342e-01, -7.0070e-01, -7.2574e-02,  2.8285e-01,  1.2733e-01,\n",
       "          6.4078e-01,  1.2409e+00,  8.8115e-01, -8.9146e-01,  4.0202e-01,\n",
       "         -4.5201e-01,  7.9654e-01,  8.0130e-01,  0.0000e+00, -5.5541e-01,\n",
       "          4.0852e-01, -1.1662e-01, -4.9148e-01,  6.4620e-01,  0.0000e+00,\n",
       "         -4.3369e-01, -3.6267e-01,  7.3623e-02, -4.5911e-01, -6.1205e-01,\n",
       "          3.7447e-01, -4.7231e-01,  1.2689e-01,  3.5155e-01, -3.1804e-01,\n",
       "         -1.0050e-01, -1.6485e-01, -5.3697e-01,  9.3649e-01, -6.2411e-01,\n",
       "         -1.7819e-01,  6.7573e-02, -2.2664e-01,  6.5314e-01,  8.5782e-01,\n",
       "          0.0000e+00, -2.9687e-01,  0.0000e+00,  7.9923e-02,  6.2052e-01,\n",
       "          5.7325e-03, -7.3029e-01,  3.7272e-01, -6.1887e-01, -2.0694e-01,\n",
       "         -7.7001e-01,  2.4623e-01, -4.7989e-01,  5.8929e-01,  5.4510e-01,\n",
       "          5.1677e-01, -4.8316e-01,  3.2437e-01,  1.0203e-03,  4.4965e-01,\n",
       "          0.0000e+00,  2.5685e-01, -1.0767e-01, -9.0968e-02,  0.0000e+00,\n",
       "         -6.3972e-01,  1.2803e-01,  1.8108e-01, -5.0927e-01,  2.4495e-01,\n",
       "         -1.0442e+00, -1.3748e-01, -5.8117e-01, -4.0222e-02, -5.8127e-01,\n",
       "          2.1835e-01, -8.3794e-01,  2.7890e-01,  9.8015e-02, -9.7447e-01,\n",
       "         -9.8613e-01, -1.4380e-01,  5.5133e-01, -8.4774e-02,  2.7826e-01,\n",
       "         -2.0013e-01,  0.0000e+00, -7.1807e-01,  8.9297e-01,  0.0000e+00,\n",
       "         -2.0455e-01,  3.4897e-01,  3.8609e-01,  4.0759e-01,  1.6386e-03,\n",
       "          3.0422e-01, -3.8001e-01, -2.9543e-01,  1.5719e-02,  3.4469e-01,\n",
       "          8.2701e-01,  0.0000e+00, -2.6533e-01,  1.6043e-01,  1.3343e-01,\n",
       "          3.1248e-01,  1.7606e-03, -2.6284e-01, -4.2661e-01, -6.0688e-01,\n",
       "          1.3428e-01, -6.2402e-01, -5.9258e-02, -2.9875e-01,  2.8876e-01,\n",
       "          2.5626e-01, -3.8388e-01,  8.9625e-01, -6.6417e-01, -1.3198e-01,\n",
       "         -7.9698e-01,  5.0734e-01, -3.2844e-01, -2.4103e-01,  5.1117e-01,\n",
       "         -1.0173e-03, -2.6168e-01, -8.0371e-02,  1.2167e-03,  0.0000e+00,\n",
       "          6.9373e-02,  2.4808e-02,  0.0000e+00,  6.0207e-01, -5.8639e-01,\n",
       "          5.2416e-01, -5.6550e-01, -1.9668e-01,  4.2303e-01, -1.6194e+00,\n",
       "          3.9758e-01,  6.6229e-01,  4.0622e-01, -4.6173e-01, -2.8121e-01,\n",
       "          4.6225e-01, -1.9106e-03,  1.3682e-03,  5.9007e-01, -4.7616e-01,\n",
       "         -7.7183e-04, -4.7524e-01, -8.1759e-01, -1.8277e-01,  1.0230e-02,\n",
       "         -3.7727e-01, -5.0513e-01,  2.6002e-01,  3.0134e-01, -7.4366e-01,\n",
       "         -1.9446e-01,  3.0737e-03, -7.9051e-01, -8.9274e-01,  4.4996e-04,\n",
       "         -2.0070e-01,  5.4957e-01,  2.9124e-01,  8.4938e-01,  5.8562e-01,\n",
       "         -6.4904e-01,  2.2473e+00, -1.8244e-02,  1.6296e+00, -5.3223e-04,\n",
       "          0.0000e+00,  7.8696e-04,  9.6375e-04, -2.7508e-03,  8.3572e-03,\n",
       "         -8.2694e-04, -1.4786e-03, -5.6062e-01,  8.9074e-04, -2.1056e-01,\n",
       "         -2.6675e-02, -2.7785e-02,  0.0000e+00]])\n",
       "Layer: linear.bias\n",
       "Shape: torch.Size([1])\n",
       "tensor([44.2242])\n",
       "</pre>\n",
       "    </div>\n",
       "    "
      ],
      "text/plain": [
       "<IPython.core.display.HTML object>"
      ]
     },
     "metadata": {},
     "output_type": "display_data"
    }
   ],
   "source": [
    "def my_print_function():\n",
    "    for name, param in model.named_parameters():\n",
    "        print(f\"Layer: {name}\")\n",
    "        print(f\"Shape: {param.shape}\")\n",
    "        print(param.data)\n",
    "pya.utils.print_to_scrollable_output(my_print_function)"
   ]
  },
  {
   "cell_type": "markdown",
   "id": "275815e5-5630-4163-bc61-7119a9c805c1",
   "metadata": {},
   "source": [
    "## Write clock dictionary"
   ]
  },
  {
   "cell_type": "markdown",
   "id": "3b176620-afb5-403c-9948-07639072bb44",
   "metadata": {},
   "source": [
    "Let's put everything together and save:"
   ]
  },
  {
   "cell_type": "code",
   "execution_count": 16,
   "id": "35d00b76-513d-4d8f-8824-6d810ee9d8f5",
   "metadata": {},
   "outputs": [],
   "source": [
    "clock_dict = {\n",
    "    # Metadata\n",
    "    'clock_name': clock_name,\n",
    "    'data_type': data_type,\n",
    "    'model_class': model_class,\n",
    "    'species': species,\n",
    "    'year': year,\n",
    "    'approved_by_author': approved_by_author,\n",
    "    'citation': citation,\n",
    "    'doi': doi,\n",
    "    \"notes\": notes,\n",
    "\n",
    "    # Data\n",
    "    'reference_feature_values': reference_feature_values if reference_feature_values else None,\n",
    "    'preprocessing': preprocessing if preprocessing else None, \n",
    "    'features': features,\n",
    "    'weight_dict': model.state_dict(),\n",
    "    'postprocessing': postprocessing if postprocessing else None,\n",
    "}\n",
    "\n",
    "torch.save(clock_dict, f'../weights/{clock_name}.pt')"
   ]
  },
  {
   "cell_type": "markdown",
   "id": "c1dd2efe-2bd6-4e1b-92ee-d110c25ad29c",
   "metadata": {},
   "source": [
    "## Clear directory"
   ]
  },
  {
   "cell_type": "markdown",
   "id": "158aa71f-7bbc-4c52-b7ef-16ba45d5e1fd",
   "metadata": {},
   "source": [
    "Delete all files that are not clock jupyter notebooks:"
   ]
  },
  {
   "cell_type": "code",
   "execution_count": 17,
   "id": "db4bd42b-c62f-4557-9ebc-d8194a240137",
   "metadata": {},
   "outputs": [
    {
     "name": "stdout",
     "output_type": "stream",
     "text": [
      "Deleted folder: HistoneClocks\n",
      "Deleted folder: .ipynb_checkpoints\n"
     ]
    }
   ],
   "source": [
    "# Function to remove a folder and all its contents\n",
    "def remove_folder(path):\n",
    "    try:\n",
    "        shutil.rmtree(path)\n",
    "        print(f\"Deleted folder: {path}\")\n",
    "    except Exception as e:\n",
    "        print(f\"Error deleting folder {path}: {e}\")\n",
    "\n",
    "# Get a list of all files and folders in the current directory\n",
    "all_items = os.listdir('.')\n",
    "\n",
    "# Loop through the items\n",
    "for item in all_items:\n",
    "    # Check if it's a file and does not end with .ipynb\n",
    "    if os.path.isfile(item) and not item.endswith('.ipynb'):\n",
    "        os.remove(item)\n",
    "        print(f\"Deleted file: {item}\")\n",
    "    # Check if it's a folder\n",
    "    elif os.path.isdir(item):\n",
    "        remove_folder(item)"
   ]
  }
 ],
 "metadata": {
  "kernelspec": {
   "display_name": "Python 3",
   "language": "python",
   "name": "python3"
  },
  "language_info": {
   "codemirror_mode": {
    "name": "ipython",
    "version": 3
   },
   "file_extension": ".py",
   "mimetype": "text/x-python",
   "name": "python",
   "nbconvert_exporter": "python",
   "pygments_lexer": "ipython3",
   "version": "3.9.17"
  }
 },
 "nbformat": 4,
 "nbformat_minor": 5
}

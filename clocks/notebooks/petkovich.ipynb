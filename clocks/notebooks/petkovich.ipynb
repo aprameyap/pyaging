{
 "cells": [
  {
   "cell_type": "markdown",
   "id": "2f04eee0-5928-4e74-a754-6dc2e528810c",
   "metadata": {},
   "source": [
    "# Petkovich"
   ]
  },
  {
   "cell_type": "markdown",
   "id": "a3f514a3-772c-4a14-afdf-5a8376851ff4",
   "metadata": {},
   "source": [
    "## Index\n",
    "1. [Instantiate model class](#Instantiate-model-class)\n",
    "2. [Define clock metadata](#Define-clock-metadata)\n",
    "3. [Download clock dependencies](#Download-clock-dependencies)\n",
    "5. [Load features](#Load-features)\n",
    "6. [Load weights into base model](#Load-weights-into-base-model)\n",
    "7. [Load reference values](#Load-reference-values)\n",
    "8. [Load preprocess and postprocess objects](#Load-preprocess-and-postprocess-objects)\n",
    "10. [Check all clock parameters](#Check-all-clock-parameters)\n",
    "10. [Basic test](#Basic-test)\n",
    "11. [Save torch model](#Save-torch-model)\n",
    "12. [Clear directory](#Clear-directory)"
   ]
  },
  {
   "cell_type": "markdown",
   "id": "d95fafdc-643a-40ea-a689-200bd132e90c",
   "metadata": {},
   "source": [
    "Let's first import some packages:"
   ]
  },
  {
   "cell_type": "code",
   "execution_count": 1,
   "id": "4adfb4de-cd79-4913-a1af-9e23e9e236c9",
   "metadata": {
    "execution": {
     "iopub.execute_input": "2024-01-21T18:58:58.295790Z",
     "iopub.status.busy": "2024-01-21T18:58:58.295399Z",
     "iopub.status.idle": "2024-01-21T18:59:00.170959Z",
     "shell.execute_reply": "2024-01-21T18:59:00.170579Z"
    }
   },
   "outputs": [],
   "source": [
    "import os\n",
    "import inspect\n",
    "import shutil\n",
    "import json\n",
    "import torch\n",
    "import pandas as pd\n",
    "import pyaging as pya"
   ]
  },
  {
   "cell_type": "markdown",
   "id": "145082e5-ced4-47ae-88c0-cb69773e3c5a",
   "metadata": {},
   "source": [
    "## Instantiate model class"
   ]
  },
  {
   "cell_type": "code",
   "execution_count": 2,
   "id": "8aa77372-7ed3-4da7-abc9-d30372106139",
   "metadata": {
    "execution": {
     "iopub.execute_input": "2024-01-21T18:59:00.174135Z",
     "iopub.status.busy": "2024-01-21T18:59:00.173606Z",
     "iopub.status.idle": "2024-01-21T18:59:00.186851Z",
     "shell.execute_reply": "2024-01-21T18:59:00.186552Z"
    }
   },
   "outputs": [
    {
     "name": "stdout",
     "output_type": "stream",
     "text": [
      "class Petkovich(pyagingModel):\n",
      "    def __init__(self):\n",
      "        super().__init__()\n",
      "\n",
      "    def preprocess(self, x):\n",
      "        return x\n",
      "\n",
      "    def postprocess(self, x):\n",
      "        \"\"\"\n",
      "        Applies a convertion from the output of an ElasticNet to mouse age in months.\n",
      "        \"\"\"\n",
      "        a = 0.1666\n",
      "        b = 0.4185\n",
      "        c = -1.712\n",
      "        age = ((x - c) / a) ** (1 / b)\n",
      "        age = age / 30.5  # days to months\n",
      "        return age\n",
      "\n"
     ]
    }
   ],
   "source": [
    "def print_entire_class(cls):\n",
    "    source = inspect.getsource(cls)\n",
    "    print(source)\n",
    "\n",
    "print_entire_class(pya.models.Petkovich)"
   ]
  },
  {
   "cell_type": "code",
   "execution_count": 3,
   "id": "78536494-f1d9-44de-8583-c89a310d2307",
   "metadata": {
    "execution": {
     "iopub.execute_input": "2024-01-21T18:59:00.188498Z",
     "iopub.status.busy": "2024-01-21T18:59:00.188390Z",
     "iopub.status.idle": "2024-01-21T18:59:00.190943Z",
     "shell.execute_reply": "2024-01-21T18:59:00.190317Z"
    }
   },
   "outputs": [],
   "source": [
    "model = pya.models.Petkovich()"
   ]
  },
  {
   "cell_type": "markdown",
   "id": "51f8615e-01fa-4aa5-b196-3ee2b35d261c",
   "metadata": {},
   "source": [
    "## Define clock metadata"
   ]
  },
  {
   "cell_type": "code",
   "execution_count": 4,
   "id": "6601da9e-8adc-44ee-9308-75e3cd31b816",
   "metadata": {
    "execution": {
     "iopub.execute_input": "2024-01-21T18:59:00.194377Z",
     "iopub.status.busy": "2024-01-21T18:59:00.194103Z",
     "iopub.status.idle": "2024-01-21T18:59:00.198098Z",
     "shell.execute_reply": "2024-01-21T18:59:00.197351Z"
    }
   },
   "outputs": [],
   "source": [
    "model.metadata[\"clock_name\"] = 'petkovich'\n",
    "model.metadata[\"data_type\"] = 'methylation'\n",
    "model.metadata[\"species\"] = 'Mus musculus'\n",
    "model.metadata[\"year\"] = 2017\n",
    "model.metadata[\"approved_by_author\"] = '⌛'\n",
    "model.metadata[\"citation\"] = \"Petkovich, Daniel A., et al. \\\"Using DNA methylation profiling to evaluate biological age and longevity interventions.\\\" Cell metabolism 25.4 (2017): 954-960.\"\n",
    "model.metadata[\"doi\"] = \"https://doi.org/10.1016/j.cmet.2017.03.016\"\n",
    "model.metadata[\"notes\"] = None"
   ]
  },
  {
   "cell_type": "markdown",
   "id": "74492239-5aae-4026-9d90-6bc9c574c110",
   "metadata": {},
   "source": [
    "## Download clock dependencies"
   ]
  },
  {
   "cell_type": "markdown",
   "id": "c07158bc-19c9-47de-8276-5d1dc5361b22",
   "metadata": {},
   "source": [
    "#### Download directly with curl"
   ]
  },
  {
   "cell_type": "code",
   "execution_count": 5,
   "id": "6b57cb84-b940-4cfe-8933-3955cab9dfe9",
   "metadata": {
    "execution": {
     "iopub.execute_input": "2024-01-21T18:59:00.200632Z",
     "iopub.status.busy": "2024-01-21T18:59:00.200494Z",
     "iopub.status.idle": "2024-01-21T18:59:00.535216Z",
     "shell.execute_reply": "2024-01-21T18:59:00.534512Z"
    }
   },
   "outputs": [
    {
     "data": {
      "text/plain": [
       "0"
      ]
     },
     "execution_count": 5,
     "metadata": {},
     "output_type": "execute_result"
    }
   ],
   "source": [
    "supplementary_url = \"https://elifesciences.org/download/aHR0cHM6Ly9jZG4uZWxpZmVzY2llbmNlcy5vcmcvYXJ0aWNsZXMvNDA2NzUvZWxpZmUtNDA2NzUtc3VwcDMtdjIueGxzeA--/elife-40675-supp3-v2.xlsx?_hash=qzOMc4yUFACfDFG%2FlgxkFTHWt%2BSXSmP9zz1BM3oOTRM%3D\"\n",
    "supplementary_file_name = \"coefficients.xlsx\"\n",
    "os.system(f\"curl -o {supplementary_file_name} {supplementary_url}\")"
   ]
  },
  {
   "cell_type": "markdown",
   "id": "5035b180-3d1b-4432-8ebe-b9c92bd93a7f",
   "metadata": {},
   "source": [
    "## Load features"
   ]
  },
  {
   "cell_type": "markdown",
   "id": "793d7b24-b1ef-4dd2-ac26-079f7b67fba7",
   "metadata": {},
   "source": [
    "#### From Excel file"
   ]
  },
  {
   "cell_type": "code",
   "execution_count": 6,
   "id": "110a5ded-d25f-4cef-8e84-4f51210dfc26",
   "metadata": {
    "execution": {
     "iopub.execute_input": "2024-01-21T18:59:00.539469Z",
     "iopub.status.busy": "2024-01-21T18:59:00.539135Z",
     "iopub.status.idle": "2024-01-21T18:59:00.759904Z",
     "shell.execute_reply": "2024-01-21T18:59:00.759560Z"
    }
   },
   "outputs": [],
   "source": [
    "df = pd.read_excel('coefficients.xlsx', sheet_name='Blood', nrows=90)\n",
    "df['feature'] = df['Chromosome'].astype(str) + ':' + df['Position'].astype(int).astype(str)\n",
    "df['coefficient'] = df['Weight']\n",
    "\n",
    "model.features = df['feature'].tolist()"
   ]
  },
  {
   "cell_type": "markdown",
   "id": "ee6d8fa0-4767-4c45-9717-eb1c95e2ddc0",
   "metadata": {},
   "source": [
    "## Load weights into base model"
   ]
  },
  {
   "cell_type": "code",
   "execution_count": 7,
   "id": "e09b3463-4fd4-41b1-ac21-e63ddd223fe0",
   "metadata": {
    "execution": {
     "iopub.execute_input": "2024-01-21T18:59:00.762159Z",
     "iopub.status.busy": "2024-01-21T18:59:00.762016Z",
     "iopub.status.idle": "2024-01-21T18:59:00.765127Z",
     "shell.execute_reply": "2024-01-21T18:59:00.764607Z"
    }
   },
   "outputs": [],
   "source": [
    "weights = torch.tensor(df['coefficient'].tolist()).unsqueeze(0)\n",
    "intercept = torch.tensor([0.0])"
   ]
  },
  {
   "cell_type": "markdown",
   "id": "ad261636-5b00-4979-bb1d-67a851f7aa19",
   "metadata": {},
   "source": [
    "#### Linear model"
   ]
  },
  {
   "cell_type": "code",
   "execution_count": 8,
   "id": "d7f43b99-26f2-4622-9a76-316712058877",
   "metadata": {
    "execution": {
     "iopub.execute_input": "2024-01-21T18:59:00.767618Z",
     "iopub.status.busy": "2024-01-21T18:59:00.767495Z",
     "iopub.status.idle": "2024-01-21T18:59:00.769840Z",
     "shell.execute_reply": "2024-01-21T18:59:00.769514Z"
    }
   },
   "outputs": [],
   "source": [
    "base_model = pya.models.LinearModel(input_dim=len(model.features))\n",
    "\n",
    "base_model.linear.weight.data = weights.float()\n",
    "base_model.linear.bias.data = intercept.float()\n",
    "\n",
    "model.base_model = base_model"
   ]
  },
  {
   "cell_type": "markdown",
   "id": "ad8b4c1d-9d57-48b7-9a30-bcfea7b747b1",
   "metadata": {},
   "source": [
    "## Load reference values"
   ]
  },
  {
   "cell_type": "code",
   "execution_count": 9,
   "id": "ade0f4c9-2298-4fc3-bb72-d200907dd731",
   "metadata": {
    "execution": {
     "iopub.execute_input": "2024-01-21T18:59:00.771932Z",
     "iopub.status.busy": "2024-01-21T18:59:00.771730Z",
     "iopub.status.idle": "2024-01-21T18:59:00.773738Z",
     "shell.execute_reply": "2024-01-21T18:59:00.773301Z"
    }
   },
   "outputs": [],
   "source": [
    "model.reference_values = None"
   ]
  },
  {
   "cell_type": "markdown",
   "id": "af3bcf7b-74a8-4d21-9ccb-4de0c2b0516b",
   "metadata": {},
   "source": [
    "## Load preprocess and postprocess objects"
   ]
  },
  {
   "cell_type": "code",
   "execution_count": 10,
   "id": "7a22fb20-c605-424d-8efb-7620c2c0755c",
   "metadata": {
    "execution": {
     "iopub.execute_input": "2024-01-21T18:59:00.776239Z",
     "iopub.status.busy": "2024-01-21T18:59:00.776113Z",
     "iopub.status.idle": "2024-01-21T18:59:00.778252Z",
     "shell.execute_reply": "2024-01-21T18:59:00.777691Z"
    }
   },
   "outputs": [],
   "source": [
    "model.preprocess_name = None\n",
    "model.preprocess_dependencies = None"
   ]
  },
  {
   "cell_type": "code",
   "execution_count": 11,
   "id": "ff4a21cb-cf41-44dc-9ed1-95cf8aa15772",
   "metadata": {
    "execution": {
     "iopub.execute_input": "2024-01-21T18:59:00.781132Z",
     "iopub.status.busy": "2024-01-21T18:59:00.780908Z",
     "iopub.status.idle": "2024-01-21T18:59:00.783345Z",
     "shell.execute_reply": "2024-01-21T18:59:00.783001Z"
    }
   },
   "outputs": [],
   "source": [
    "model.postprocess_name = 'petkovich'\n",
    "model.postprocess_dependencies = None"
   ]
  },
  {
   "cell_type": "markdown",
   "id": "86e3d6b1-e67e-4f3d-bd39-0ebec5726c3c",
   "metadata": {},
   "source": [
    "## Check all clock parameters"
   ]
  },
  {
   "cell_type": "code",
   "execution_count": 12,
   "id": "2168355c-47d9-475d-b816-49f65e74887c",
   "metadata": {
    "execution": {
     "iopub.execute_input": "2024-01-21T18:59:00.785150Z",
     "iopub.status.busy": "2024-01-21T18:59:00.785042Z",
     "iopub.status.idle": "2024-01-21T18:59:00.787939Z",
     "shell.execute_reply": "2024-01-21T18:59:00.787630Z"
    }
   },
   "outputs": [
    {
     "name": "stdout",
     "output_type": "stream",
     "text": [
      "\n",
      "%==================================== Model Details ====================================%\n",
      "Model Attributes:\n",
      "\n",
      "training: True\n",
      "metadata: {'approved_by_author': '⌛',\n",
      " 'citation': 'Petkovich, Daniel A., et al. \"Using DNA methylation profiling to '\n",
      "             'evaluate biological age and longevity interventions.\" Cell '\n",
      "             'metabolism 25.4 (2017): 954-960.',\n",
      " 'clock_name': 'petkovich',\n",
      " 'data_type': 'methylation',\n",
      " 'doi': 'https://doi.org/10.1016/j.cmet.2017.03.016',\n",
      " 'notes': None,\n",
      " 'species': 'Mus musculus',\n",
      " 'version': None,\n",
      " 'year': 2017}\n",
      "reference_values: None\n",
      "preprocess_name: None\n",
      "preprocess_dependencies: None\n",
      "postprocess_name: 'petkovich'\n",
      "postprocess_dependencies: None\n",
      "features: ['chr19:23893237', 'chr19:34746572', 'chr18:45589182', 'chr18:58836611', 'chr16:10502162', 'chr16:10502211', 'chr16:36990110', 'chr16:44812861', 'chr16:44812942', 'chr16:72663969', 'chr15:84756593', 'chr15:98780540', 'chr14:74978494', 'chr13:25850022', 'chr13:60687073', 'chr12:103214578', 'chr12:103214639', 'chr12:17993343', 'chr12:20196778', 'chr12:20196795', 'chr12:24252005', 'chr12:24252044', 'chr12:24252062', 'chr12:24252074', 'chr11:109011767', 'chr11:49978547', 'chr11:57832738', 'chr11:59283095', 'chr11:82930766', 'chr11:82930771']... [Total elements: 90]\n",
      "base_model_features: None\n",
      "\n",
      "%==================================== Model Details ====================================%\n",
      "Model Structure:\n",
      "\n",
      "base_model: LinearModel(\n",
      "  (linear): Linear(in_features=90, out_features=1, bias=True)\n",
      ")\n",
      "\n",
      "%==================================== Model Details ====================================%\n",
      "Model Parameters and Weights:\n",
      "\n",
      "base_model.linear.weight: [0.013973841443657875, -0.208111971616745, -0.052282609045505524, 0.09845656156539917, 0.2287983000278473, 0.041504427790641785, -0.12888140976428986, -0.1270751655101776, -0.11876147240400314, 0.07533302158117294, 0.006506402976810932, 0.02291547879576683, -0.015255635604262352, -0.04044732078909874, -0.028440294787287712, -0.009072709828615189, -0.1302095651626587, 0.13603146374225616, 0.0851239338517189, 0.0067262169905006886, 0.20910842716693878, 0.006870004814118147, 0.06277254968881607, 0.03797502815723419, 0.1745307892560959, -0.09591705352067947, 0.05482637137174606, -0.08698525279760361, 0.016051754355430603, 0.13305535912513733]... [Tensor of shape torch.Size([1, 90])]\n",
      "base_model.linear.bias: tensor([0.])\n",
      "\n",
      "%==================================== Model Details ====================================%\n",
      "\n"
     ]
    }
   ],
   "source": [
    "pya.utils.print_model_details(model)"
   ]
  },
  {
   "cell_type": "markdown",
   "id": "986d0262-e0c7-4036-b687-dee53ba392fb",
   "metadata": {},
   "source": [
    "## Basic test"
   ]
  },
  {
   "cell_type": "code",
   "execution_count": 13,
   "id": "936b9877-d076-4ced-99aa-e8d4c58c5caf",
   "metadata": {
    "execution": {
     "iopub.execute_input": "2024-01-21T18:59:00.790467Z",
     "iopub.status.busy": "2024-01-21T18:59:00.790214Z",
     "iopub.status.idle": "2024-01-21T18:59:00.797404Z",
     "shell.execute_reply": "2024-01-21T18:59:00.796995Z"
    }
   },
   "outputs": [
    {
     "data": {
      "text/plain": [
       "tensor([[50.8075],\n",
       "        [27.5472],\n",
       "        [ 1.1953],\n",
       "        [ 6.6927],\n",
       "        [17.1703],\n",
       "        [24.9932],\n",
       "        [15.8308],\n",
       "        [ 1.1290],\n",
       "        [ 3.4376],\n",
       "        [ 0.0714]], dtype=torch.float64, grad_fn=<DivBackward0>)"
      ]
     },
     "execution_count": 13,
     "metadata": {},
     "output_type": "execute_result"
    }
   ],
   "source": [
    "torch.manual_seed(42)\n",
    "input = torch.randn(10, len(model.features), dtype=float)\n",
    "model.eval()\n",
    "model.to(float)\n",
    "pred = model(input)\n",
    "pred"
   ]
  },
  {
   "cell_type": "markdown",
   "id": "fe8299d7-9285-4e22-82fd-b664434b4369",
   "metadata": {},
   "source": [
    "## Save torch model"
   ]
  },
  {
   "cell_type": "code",
   "execution_count": 14,
   "id": "5ef2fa8d-c80b-4fdd-8555-79c0d541788e",
   "metadata": {
    "execution": {
     "iopub.execute_input": "2024-01-21T18:59:00.800398Z",
     "iopub.status.busy": "2024-01-21T18:59:00.800234Z",
     "iopub.status.idle": "2024-01-21T18:59:00.803226Z",
     "shell.execute_reply": "2024-01-21T18:59:00.802896Z"
    }
   },
   "outputs": [],
   "source": [
    "torch.save(model, f\"../weights/{model.metadata['clock_name']}.pt\")"
   ]
  },
  {
   "cell_type": "markdown",
   "id": "bac6257b-8d08-4a90-8d0b-7f745dc11ac1",
   "metadata": {},
   "source": [
    "## Clear directory\n",
    "<a id=\"10\"></a>"
   ]
  },
  {
   "cell_type": "code",
   "execution_count": 15,
   "id": "11aeaa70-44c0-42f9-86d7-740e3849a7a6",
   "metadata": {
    "execution": {
     "iopub.execute_input": "2024-01-21T18:59:00.805051Z",
     "iopub.status.busy": "2024-01-21T18:59:00.804862Z",
     "iopub.status.idle": "2024-01-21T18:59:00.808962Z",
     "shell.execute_reply": "2024-01-21T18:59:00.808498Z"
    }
   },
   "outputs": [
    {
     "name": "stdout",
     "output_type": "stream",
     "text": [
      "Deleted file: coefficients.xlsx\n"
     ]
    }
   ],
   "source": [
    "# Function to remove a folder and all its contents\n",
    "def remove_folder(path):\n",
    "    try:\n",
    "        shutil.rmtree(path)\n",
    "        print(f\"Deleted folder: {path}\")\n",
    "    except Exception as e:\n",
    "        print(f\"Error deleting folder {path}: {e}\")\n",
    "\n",
    "# Get a list of all files and folders in the current directory\n",
    "all_items = os.listdir('.')\n",
    "\n",
    "# Loop through the items\n",
    "for item in all_items:\n",
    "    # Check if it's a file and does not end with .ipynb\n",
    "    if os.path.isfile(item) and not item.endswith('.ipynb'):\n",
    "        os.remove(item)\n",
    "        print(f\"Deleted file: {item}\")\n",
    "    # Check if it's a folder\n",
    "    elif os.path.isdir(item):\n",
    "        remove_folder(item)"
   ]
  }
 ],
 "metadata": {
  "kernelspec": {
   "display_name": "Python 3",
   "language": "python",
   "name": "python3"
  },
  "language_info": {
   "codemirror_mode": {
    "name": "ipython",
    "version": 3
   },
   "file_extension": ".py",
   "mimetype": "text/x-python",
   "name": "python",
   "nbconvert_exporter": "python",
   "pygments_lexer": "ipython3",
   "version": "3.9.17"
  }
 },
 "nbformat": 4,
 "nbformat_minor": 5
}

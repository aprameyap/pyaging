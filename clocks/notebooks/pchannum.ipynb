{
 "cells": [
  {
   "cell_type": "markdown",
   "id": "2f04eee0-5928-4e74-a754-6dc2e528810c",
   "metadata": {},
   "source": [
    "# PCHannum"
   ]
  },
  {
   "cell_type": "markdown",
   "id": "a3f514a3-772c-4a14-afdf-5a8376851ff4",
   "metadata": {},
   "source": [
    "## Index\n",
    "1. [Instantiate model class](#Instantiate-model-class)\n",
    "2. [Define clock metadata](#Define-clock-metadata)\n",
    "3. [Download clock dependencies](#Download-clock-dependencies)\n",
    "5. [Load features](#Load-features)\n",
    "6. [Load weights into base model](#Load-weights-into-base-model)\n",
    "7. [Load reference values](#Load-reference-values)\n",
    "8. [Load preprocess and postprocess objects](#Load-preprocess-and-postprocess-objects)\n",
    "10. [Check all clock parameters](#Check-all-clock-parameters)\n",
    "10. [Basic test](#Basic-test)\n",
    "11. [Save torch model](#Save-torch-model)\n",
    "12. [Clear directory](#Clear-directory)"
   ]
  },
  {
   "cell_type": "markdown",
   "id": "d95fafdc-643a-40ea-a689-200bd132e90c",
   "metadata": {},
   "source": [
    "Let's first import some packages:"
   ]
  },
  {
   "cell_type": "code",
   "execution_count": 1,
   "id": "4adfb4de-cd79-4913-a1af-9e23e9e236c9",
   "metadata": {
    "execution": {
     "iopub.execute_input": "2024-01-21T18:31:23.824449Z",
     "iopub.status.busy": "2024-01-21T18:31:23.824130Z",
     "iopub.status.idle": "2024-01-21T18:31:26.329515Z",
     "shell.execute_reply": "2024-01-21T18:31:26.329099Z"
    }
   },
   "outputs": [],
   "source": [
    "import os\n",
    "import inspect\n",
    "import shutil\n",
    "import json\n",
    "import torch\n",
    "import pandas as pd\n",
    "import pyaging as pya"
   ]
  },
  {
   "cell_type": "markdown",
   "id": "145082e5-ced4-47ae-88c0-cb69773e3c5a",
   "metadata": {},
   "source": [
    "## Instantiate model class"
   ]
  },
  {
   "cell_type": "code",
   "execution_count": 2,
   "id": "8aa77372-7ed3-4da7-abc9-d30372106139",
   "metadata": {
    "execution": {
     "iopub.execute_input": "2024-01-21T18:31:26.331679Z",
     "iopub.status.busy": "2024-01-21T18:31:26.331492Z",
     "iopub.status.idle": "2024-01-21T18:31:26.342955Z",
     "shell.execute_reply": "2024-01-21T18:31:26.342617Z"
    }
   },
   "outputs": [
    {
     "name": "stdout",
     "output_type": "stream",
     "text": [
      "class PCHannum(pyagingModel):\n",
      "    def __init__(self):\n",
      "        super().__init__()\n",
      "\n",
      "    def preprocess(self, x):\n",
      "        return x\n",
      "\n",
      "    def postprocess(self, x):\n",
      "        return x\n",
      "\n"
     ]
    }
   ],
   "source": [
    "def print_entire_class(cls):\n",
    "    source = inspect.getsource(cls)\n",
    "    print(source)\n",
    "\n",
    "print_entire_class(pya.models.PCHannum)"
   ]
  },
  {
   "cell_type": "code",
   "execution_count": 3,
   "id": "78536494-f1d9-44de-8583-c89a310d2307",
   "metadata": {
    "execution": {
     "iopub.execute_input": "2024-01-21T18:31:26.344702Z",
     "iopub.status.busy": "2024-01-21T18:31:26.344575Z",
     "iopub.status.idle": "2024-01-21T18:31:26.346328Z",
     "shell.execute_reply": "2024-01-21T18:31:26.346044Z"
    }
   },
   "outputs": [],
   "source": [
    "model = pya.models.PCHannum()"
   ]
  },
  {
   "cell_type": "markdown",
   "id": "51f8615e-01fa-4aa5-b196-3ee2b35d261c",
   "metadata": {},
   "source": [
    "## Define clock metadata"
   ]
  },
  {
   "cell_type": "code",
   "execution_count": 4,
   "id": "6601da9e-8adc-44ee-9308-75e3cd31b816",
   "metadata": {
    "execution": {
     "iopub.execute_input": "2024-01-21T18:31:26.347999Z",
     "iopub.status.busy": "2024-01-21T18:31:26.347867Z",
     "iopub.status.idle": "2024-01-21T18:31:26.349873Z",
     "shell.execute_reply": "2024-01-21T18:31:26.349590Z"
    }
   },
   "outputs": [],
   "source": [
    "model.metadata[\"clock_name\"] = 'pchannum'\n",
    "model.metadata[\"data_type\"] = 'methylation'\n",
    "model.metadata[\"species\"] = 'Homo sapiens'\n",
    "model.metadata[\"year\"] = 2022\n",
    "model.metadata[\"approved_by_author\"] = '⌛'\n",
    "model.metadata[\"citation\"] = \"Higgins-Chen, Albert T., et al. \\\"A computational solution for bolstering reliability of epigenetic clocks: Implications for clinical trials and longitudinal tracking.\\\" Nature aging 2.7 (2022): 644-661.\"\n",
    "model.metadata[\"doi\"] = \"https://doi.org/10.1038/s43587-022-00248-2\"\n",
    "model.metadata[\"notes\"] = None"
   ]
  },
  {
   "cell_type": "markdown",
   "id": "74492239-5aae-4026-9d90-6bc9c574c110",
   "metadata": {},
   "source": [
    "## Download clock dependencies"
   ]
  },
  {
   "cell_type": "code",
   "execution_count": null,
   "id": "d34ce488-2525-46c5-b014-6f6c868e5063",
   "metadata": {},
   "outputs": [],
   "source": [
    "#download PCClock Rdata file from https://yale.app.box.com/s/kq0b0a7lxckxjvaz7x5n4keaug7tewry\n",
    "logger = pya.logger.Logger()\n",
    "url = \"https://pyaging.s3.amazonaws.com/supporting_files/CalcAllPCClocks.RData\"\n",
    "dir = \".\"\n",
    "pya.utils.download(url, dir, logger, indent_level=1)"
   ]
  },
  {
   "cell_type": "markdown",
   "id": "971ff75c-c5bf-4e8e-89d7-01861e9bc107",
   "metadata": {},
   "source": [
    "#### Download from R package"
   ]
  },
  {
   "cell_type": "code",
   "execution_count": 6,
   "id": "c2cfbee5-bcaf-46f0-a8d8-3b6150e09bf0",
   "metadata": {
    "execution": {
     "iopub.execute_input": "2024-01-21T18:37:08.588306Z",
     "iopub.status.busy": "2024-01-21T18:37:08.587910Z",
     "iopub.status.idle": "2024-01-21T18:37:08.594005Z",
     "shell.execute_reply": "2024-01-21T18:37:08.593032Z"
    }
   },
   "outputs": [
    {
     "name": "stdout",
     "output_type": "stream",
     "text": [
      "Writing download.r\n"
     ]
    }
   ],
   "source": [
    "%%writefile download.r\n",
    "\n",
    "library(dplyr)\n",
    "library(tibble)\n",
    "library(tidyr)\n",
    "library(jsonlite)\n",
    "\n",
    "load(file = \"CalcAllPCClocks.RData\")\n",
    "\n",
    "print(ls(all.names = TRUE))\n",
    "\n",
    "write_json(CalcPCHannum, \"CalcPCHannum.json\", digits = 10)\n",
    "write_json(CpGs, \"PCHannumCpGs.json\")\n",
    "write_json(imputeMissingCpGs, \"PCHannumReferenceCpGBetas.json\", digits = 10)"
   ]
  },
  {
   "cell_type": "code",
   "execution_count": 7,
   "id": "b71a6f03-61ba-462f-a2a6-a5df95e105ff",
   "metadata": {
    "execution": {
     "iopub.execute_input": "2024-01-21T18:37:08.598456Z",
     "iopub.status.busy": "2024-01-21T18:37:08.598113Z",
     "iopub.status.idle": "2024-01-21T18:38:19.649591Z",
     "shell.execute_reply": "2024-01-21T18:38:19.648861Z"
    }
   },
   "outputs": [
    {
     "data": {
      "text/plain": [
       "0"
      ]
     },
     "execution_count": 7,
     "metadata": {},
     "output_type": "execute_result"
    }
   ],
   "source": [
    "os.system(\"Rscript download.r\")"
   ]
  },
  {
   "cell_type": "markdown",
   "id": "a14c7fc1-abe5-42a3-8bc9-0987521ddf33",
   "metadata": {},
   "source": [
    "## Load features"
   ]
  },
  {
   "cell_type": "markdown",
   "id": "3e737582-3a28-4f55-8da9-3e34125362cc",
   "metadata": {},
   "source": [
    "#### From JSON file"
   ]
  },
  {
   "cell_type": "code",
   "execution_count": 8,
   "id": "97e5b47b-0599-4ec3-aab4-dcfe9d3e4515",
   "metadata": {
    "execution": {
     "iopub.execute_input": "2024-01-21T18:38:19.653726Z",
     "iopub.status.busy": "2024-01-21T18:38:19.653566Z",
     "iopub.status.idle": "2024-01-21T18:38:19.659508Z",
     "shell.execute_reply": "2024-01-21T18:38:19.659072Z"
    }
   },
   "outputs": [],
   "source": [
    "with open('PCHannumCpGs.json', 'r') as f:\n",
    "    model.features = json.load(f)"
   ]
  },
  {
   "cell_type": "markdown",
   "id": "ee6d8fa0-4767-4c45-9717-eb1c95e2ddc0",
   "metadata": {},
   "source": [
    "## Load weights into base model"
   ]
  },
  {
   "cell_type": "markdown",
   "id": "de92ee28-39b1-4356-a734-6b28a20e7bfe",
   "metadata": {},
   "source": [
    "#### From JSON file"
   ]
  },
  {
   "cell_type": "code",
   "execution_count": 9,
   "id": "e09b3463-4fd4-41b1-ac21-e63ddd223fe0",
   "metadata": {
    "execution": {
     "iopub.execute_input": "2024-01-21T18:38:19.661604Z",
     "iopub.status.busy": "2024-01-21T18:38:19.661482Z",
     "iopub.status.idle": "2024-01-21T18:38:24.698109Z",
     "shell.execute_reply": "2024-01-21T18:38:24.697180Z"
    }
   },
   "outputs": [],
   "source": [
    "with open('CalcPCHannum.json', 'r') as f:\n",
    "    weights_dict = json.load(f)\n",
    "\n",
    "weights = torch.tensor(weights_dict['model']).unsqueeze(0).float()\n",
    "intercept = torch.tensor(weights_dict['intercept']).float()\n",
    "center = torch.tensor(weights_dict['center']).float()\n",
    "rotation = torch.tensor(weights_dict['rotation']).float()"
   ]
  },
  {
   "cell_type": "markdown",
   "id": "a5fb949f-500a-49d0-a792-2a774b0de18f",
   "metadata": {},
   "source": [
    "#### PC linear model"
   ]
  },
  {
   "cell_type": "code",
   "execution_count": 10,
   "id": "b6e1baed-fb83-4b97-a2e7-c2f17254ca47",
   "metadata": {
    "execution": {
     "iopub.execute_input": "2024-01-21T18:38:24.700458Z",
     "iopub.status.busy": "2024-01-21T18:38:24.700308Z",
     "iopub.status.idle": "2024-01-21T18:38:24.704341Z",
     "shell.execute_reply": "2024-01-21T18:38:24.703991Z"
    }
   },
   "outputs": [],
   "source": [
    "base_model = pya.models.PCLinearModel(input_dim=len(model.features), pc_dim=rotation.shape[1])\n",
    "\n",
    "base_model.center.data = center.float()\n",
    "base_model.rotation.data = rotation.float()\n",
    "base_model.linear.weight.data = weights.float()\n",
    "base_model.linear.bias.data = intercept.float()\n",
    "\n",
    "model.base_model = base_model"
   ]
  },
  {
   "cell_type": "markdown",
   "id": "ad8b4c1d-9d57-48b7-9a30-bcfea7b747b1",
   "metadata": {},
   "source": [
    "## Load reference values"
   ]
  },
  {
   "cell_type": "markdown",
   "id": "93271aee-d045-45ba-b030-7ec8e57add42",
   "metadata": {},
   "source": [
    "#### From JSON file"
   ]
  },
  {
   "cell_type": "code",
   "execution_count": 11,
   "id": "2089b66f-9cc4-4528-9bdc-5e45efc6d06b",
   "metadata": {
    "execution": {
     "iopub.execute_input": "2024-01-21T18:38:24.706159Z",
     "iopub.status.busy": "2024-01-21T18:38:24.706067Z",
     "iopub.status.idle": "2024-01-21T18:38:24.714194Z",
     "shell.execute_reply": "2024-01-21T18:38:24.713822Z"
    }
   },
   "outputs": [],
   "source": [
    "with open('PCHannumReferenceCpGBetas.json', 'r') as f:\n",
    "    reference_feature_values = json.load(f)\n",
    "model.reference_values = reference_feature_values"
   ]
  },
  {
   "cell_type": "markdown",
   "id": "af3bcf7b-74a8-4d21-9ccb-4de0c2b0516b",
   "metadata": {},
   "source": [
    "## Load preprocess and postprocess objects"
   ]
  },
  {
   "cell_type": "code",
   "execution_count": 12,
   "id": "7a22fb20-c605-424d-8efb-7620c2c0755c",
   "metadata": {
    "execution": {
     "iopub.execute_input": "2024-01-21T18:38:24.716883Z",
     "iopub.status.busy": "2024-01-21T18:38:24.716755Z",
     "iopub.status.idle": "2024-01-21T18:38:24.718541Z",
     "shell.execute_reply": "2024-01-21T18:38:24.718203Z"
    }
   },
   "outputs": [],
   "source": [
    "model.preprocess_name = None\n",
    "model.preprocess_dependencies = None"
   ]
  },
  {
   "cell_type": "code",
   "execution_count": 13,
   "id": "ff4a21cb-cf41-44dc-9ed1-95cf8aa15772",
   "metadata": {
    "execution": {
     "iopub.execute_input": "2024-01-21T18:38:24.720106Z",
     "iopub.status.busy": "2024-01-21T18:38:24.719991Z",
     "iopub.status.idle": "2024-01-21T18:38:24.721577Z",
     "shell.execute_reply": "2024-01-21T18:38:24.721289Z"
    }
   },
   "outputs": [],
   "source": [
    "model.postprocess_name = None\n",
    "model.postprocess_dependencies = None"
   ]
  },
  {
   "cell_type": "markdown",
   "id": "86e3d6b1-e67e-4f3d-bd39-0ebec5726c3c",
   "metadata": {},
   "source": [
    "## Check all clock parameters"
   ]
  },
  {
   "cell_type": "code",
   "execution_count": 14,
   "id": "2168355c-47d9-475d-b816-49f65e74887c",
   "metadata": {
    "execution": {
     "iopub.execute_input": "2024-01-21T18:38:24.723193Z",
     "iopub.status.busy": "2024-01-21T18:38:24.723091Z",
     "iopub.status.idle": "2024-01-21T18:38:24.726490Z",
     "shell.execute_reply": "2024-01-21T18:38:24.726126Z"
    }
   },
   "outputs": [
    {
     "name": "stdout",
     "output_type": "stream",
     "text": [
      "\n",
      "%==================================== Model Details ====================================%\n",
      "Model Attributes:\n",
      "\n",
      "training: True\n",
      "metadata: {'approved_by_author': '⌛',\n",
      " 'citation': 'Higgins-Chen, Albert T., et al. \"A computational solution for '\n",
      "             'bolstering reliability of epigenetic clocks: Implications for '\n",
      "             'clinical trials and longitudinal tracking.\" Nature aging 2.7 '\n",
      "             '(2022): 644-661.',\n",
      " 'clock_name': 'pchannum',\n",
      " 'data_type': 'methylation',\n",
      " 'doi': 'https://doi.org/10.1038/s43587-022-00248-2',\n",
      " 'notes': None,\n",
      " 'species': 'Homo sapiens',\n",
      " 'version': None,\n",
      " 'year': 2022}\n",
      "reference_values: [0.82635363384, 0.18898814441, 0.72938889209, 0.8680421375, 0.090353927561, 0.0066895021761, 0.48924643338, 0.87262052546, 0.87955373232, 0.04847264273, 0.0093070979947, 0.16393676218, 0.058440936082, 0.18857484916, 0.58239394253, 0.86564960457, 0.58457176982, 0.82903550669, 0.065646928047, 0.8500055061, 0.79155429878, 0.83499889314, 0.7754384128, 0.0039641831799, 0.50570339787, 0.60547040884, 0.29093154314, 0.88154845595, 0.46844171936, 0.79205361021]... [Total elements: 78464]\n",
      "preprocess_name: None\n",
      "preprocess_dependencies: None\n",
      "postprocess_name: None\n",
      "postprocess_dependencies: None\n",
      "features: ['cg00000292', 'cg00000714', 'cg00001099', 'cg00001446', 'cg00001747', 'cg00002116', 'cg00002224', 'cg00002426', 'cg00002646', 'cg00002660', 'cg00002719', 'cg00002810', 'cg00003091', 'cg00003287', 'cg00003345', 'cg00003529', 'cg00003578', 'cg00003625', 'cg00003994', 'cg00004429', 'cg00004608', 'cg00004806', 'cg00005072', 'cg00005306', 'cg00005619', 'cg00005849', 'cg00006081', 'cg00006459', 'cg00007076', 'cg00007221']... [Total elements: 78464]\n",
      "base_model_features: None\n",
      "\n",
      "%==================================== Model Details ====================================%\n",
      "Model Structure:\n",
      "\n",
      "base_model: PCLinearModel(\n",
      "  (linear): Linear(in_features=389, out_features=1, bias=True)\n",
      ")\n",
      "\n",
      "%==================================== Model Details ====================================%\n",
      "Model Parameters and Weights:\n",
      "\n",
      "base_model.center: [0.8263536095619202, 0.18898814916610718, 0.7293888926506042, 0.8680421113967896, 0.09035392850637436, 0.006689502391964197, 0.4892464280128479, 0.8726205229759216, 0.8795537352561951, 0.04847264289855957, 0.009307097643613815, 0.1639367640018463, 0.058440934866666794, 0.18857485055923462, 0.5823939442634583, 0.8656495809555054, 0.5845717787742615, 0.8290355205535889, 0.0656469315290451, 0.8500055074691772, 0.7915542721748352, 0.8349989056587219, 0.7754384279251099, 0.003964183386415243, 0.5057033896446228, 0.6054704189300537, 0.2909315526485443, 0.8815484642982483, 0.4684417247772217, 0.7920536398887634]... [Tensor of shape torch.Size([78464])]\n",
      "base_model.rotation: [0.0013195723295211792, 0.00362178822979331, 0.0006210950668901205, 2.146821134374477e-05, -0.0026210916694253683, 0.0028544235974550247, 0.001789670903235674, -0.0011461229296401143, -0.003994912840425968, 0.004412394482642412, -0.0026953844353556633, 0.0014265442732721567, 0.001315636676736176, 0.0006052751559764147, -0.0011475264327600598, 0.003465775866061449, 0.00010673332872102037, -0.0034611125010997057, 0.0010321630397811532, 0.0017559151165187359, -0.0002594847755972296, 0.0030858758836984634, 0.00018000522686634213, -0.0009758774540387094, -0.0028044437058269978, -0.00242756400257349, -0.002741057425737381, -0.0020431955344974995, 0.001444243360310793, 0.0007104799733497202]... [Tensor of shape torch.Size([78464, 389])]\n",
      "base_model.linear.weight: [-0.4314156770706177, -2.0623953342437744, 2.2526729106903076, 1.896068811416626, -4.193276882171631, -0.8024684190750122, 0.28980740904808044, 0.25557079911231995, -0.9447597861289978, 0.44644805788993835, 0.20270460844039917, 1.5658382177352905, 0.21148376166820526, -2.692491292953491, -0.9573062658309937, 2.2857649326324463, 0.2877136170864105, 2.2357680797576904, -3.9486842155456543, -1.3017735481262207, 0.15476754307746887, 0.004006503149867058, -1.643073558807373, 0.12215111404657364, 1.951690435409546, -0.49129924178123474, -1.257272720336914, -0.20982636511325836, 1.2917195558547974, -0.34574949741363525]... [Tensor of shape torch.Size([1, 389])]\n",
      "base_model.linear.bias: tensor([68.7833])\n",
      "\n",
      "%==================================== Model Details ====================================%\n",
      "\n"
     ]
    }
   ],
   "source": [
    "pya.utils.print_model_details(model)"
   ]
  },
  {
   "cell_type": "markdown",
   "id": "986d0262-e0c7-4036-b687-dee53ba392fb",
   "metadata": {},
   "source": [
    "## Basic test"
   ]
  },
  {
   "cell_type": "code",
   "execution_count": 15,
   "id": "936b9877-d076-4ced-99aa-e8d4c58c5caf",
   "metadata": {
    "execution": {
     "iopub.execute_input": "2024-01-21T18:38:24.728296Z",
     "iopub.status.busy": "2024-01-21T18:38:24.728198Z",
     "iopub.status.idle": "2024-01-21T18:38:24.809117Z",
     "shell.execute_reply": "2024-01-21T18:38:24.808795Z"
    }
   },
   "outputs": [
    {
     "data": {
      "text/plain": [
       "tensor([[  8.3248],\n",
       "        [ 14.5854],\n",
       "        [ 12.5163],\n",
       "        [-22.3059],\n",
       "        [ 17.3593],\n",
       "        [ -7.7755],\n",
       "        [  2.7895],\n",
       "        [  7.9108],\n",
       "        [  9.5717],\n",
       "        [  1.5685]], dtype=torch.float64, grad_fn=<AddmmBackward0>)"
      ]
     },
     "execution_count": 15,
     "metadata": {},
     "output_type": "execute_result"
    }
   ],
   "source": [
    "torch.manual_seed(42)\n",
    "input = torch.randn(10, len(model.features), dtype=float)\n",
    "model.eval()\n",
    "model.to(float)\n",
    "pred = model(input)\n",
    "pred"
   ]
  },
  {
   "cell_type": "markdown",
   "id": "fe8299d7-9285-4e22-82fd-b664434b4369",
   "metadata": {},
   "source": [
    "## Save torch model"
   ]
  },
  {
   "cell_type": "code",
   "execution_count": 16,
   "id": "5ef2fa8d-c80b-4fdd-8555-79c0d541788e",
   "metadata": {
    "execution": {
     "iopub.execute_input": "2024-01-21T18:38:24.811205Z",
     "iopub.status.busy": "2024-01-21T18:38:24.811070Z",
     "iopub.status.idle": "2024-01-21T18:38:25.180109Z",
     "shell.execute_reply": "2024-01-21T18:38:25.179533Z"
    }
   },
   "outputs": [],
   "source": [
    "torch.save(model, f\"../weights/{model.metadata['clock_name']}.pt\")"
   ]
  },
  {
   "cell_type": "markdown",
   "id": "bac6257b-8d08-4a90-8d0b-7f745dc11ac1",
   "metadata": {},
   "source": [
    "## Clear directory\n",
    "<a id=\"10\"></a>"
   ]
  },
  {
   "cell_type": "code",
   "execution_count": 17,
   "id": "11aeaa70-44c0-42f9-86d7-740e3849a7a6",
   "metadata": {
    "execution": {
     "iopub.execute_input": "2024-01-21T18:38:25.182956Z",
     "iopub.status.busy": "2024-01-21T18:38:25.182812Z",
     "iopub.status.idle": "2024-01-21T18:38:25.341738Z",
     "shell.execute_reply": "2024-01-21T18:38:25.341412Z"
    }
   },
   "outputs": [
    {
     "name": "stdout",
     "output_type": "stream",
     "text": [
      "Deleted file: PCHannumReferenceCpGBetas.json\n",
      "Deleted file: CalcAllPCClocks.RData\n",
      "Deleted file: PCHannumCpGs.json\n",
      "Deleted file: download.r\n",
      "Deleted file: CalcPCHannum.json\n"
     ]
    }
   ],
   "source": [
    "# Function to remove a folder and all its contents\n",
    "def remove_folder(path):\n",
    "    try:\n",
    "        shutil.rmtree(path)\n",
    "        print(f\"Deleted folder: {path}\")\n",
    "    except Exception as e:\n",
    "        print(f\"Error deleting folder {path}: {e}\")\n",
    "\n",
    "# Get a list of all files and folders in the current directory\n",
    "all_items = os.listdir('.')\n",
    "\n",
    "# Loop through the items\n",
    "for item in all_items:\n",
    "    # Check if it's a file and does not end with .ipynb\n",
    "    if os.path.isfile(item) and not item.endswith('.ipynb'):\n",
    "        os.remove(item)\n",
    "        print(f\"Deleted file: {item}\")\n",
    "    # Check if it's a folder\n",
    "    elif os.path.isdir(item):\n",
    "        remove_folder(item)"
   ]
  }
 ],
 "metadata": {
  "kernelspec": {
   "display_name": "Python 3",
   "language": "python",
   "name": "python3"
  },
  "language_info": {
   "codemirror_mode": {
    "name": "ipython",
    "version": 3
   },
   "file_extension": ".py",
   "mimetype": "text/x-python",
   "name": "python",
   "nbconvert_exporter": "python",
   "pygments_lexer": "ipython3",
   "version": "3.9.17"
  }
 },
 "nbformat": 4,
 "nbformat_minor": 5
}

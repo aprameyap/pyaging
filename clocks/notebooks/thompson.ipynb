{
 "cells": [
  {
   "cell_type": "markdown",
   "id": "2f04eee0-5928-4e74-a754-6dc2e528810c",
   "metadata": {},
   "source": [
    "# Thompson"
   ]
  },
  {
   "cell_type": "markdown",
   "id": "a3f514a3-772c-4a14-afdf-5a8376851ff4",
   "metadata": {},
   "source": [
    "## Index\n",
    "1. [Define required clock parameters](#Define-required-clock-parameters)\n",
    "2. [Download necessary data](#Download-necessary-data)\n",
    "3. [Load data](#-Load-data)\n",
    "4. [Extract features and weights](#Extract-features-and-weights)\n",
    "5. [Load weights into pyaging model](#Load-weights-into-pyaging-model)\n",
    "6. [Add reference values](#Add-reference-values)\n",
    "7. [Add preprocessing and postprocesssing steps](#Add-preprocessing-and-postprocesssing-steps)\n",
    "8. [Check all data objects](#Check-all-data-objects)\n",
    "9. [Write clock dictionary](#Write-clock-dictionary)\n",
    "10. [Clear directory](#Clear-directory)"
   ]
  },
  {
   "cell_type": "markdown",
   "id": "d95fafdc-643a-40ea-a689-200bd132e90c",
   "metadata": {},
   "source": [
    "Let's first import some packages:"
   ]
  },
  {
   "cell_type": "code",
   "execution_count": 1,
   "id": "4adfb4de-cd79-4913-a1af-9e23e9e236c9",
   "metadata": {},
   "outputs": [],
   "source": [
    "import os\n",
    "import marshal\n",
    "import shutil\n",
    "import json\n",
    "import torch\n",
    "import pandas as pd\n",
    "import pyaging as pya"
   ]
  },
  {
   "cell_type": "markdown",
   "id": "c8c0c937-d9b6-4756-99b0-91de591220e0",
   "metadata": {},
   "source": [
    "## Define required clock parameters"
   ]
  },
  {
   "cell_type": "markdown",
   "id": "cf95ddca-625e-4c70-a246-c3cb12df96f8",
   "metadata": {},
   "source": [
    "Let's define some required information first:"
   ]
  },
  {
   "cell_type": "code",
   "execution_count": 2,
   "id": "5281776d-0549-445f-beec-39c31ec7dbe1",
   "metadata": {},
   "outputs": [],
   "source": [
    "clock_name = 'thompson'\n",
    "data_type = 'methylation'\n",
    "model_class = 'LinearModel'\n",
    "species = 'Mus musculus'\n",
    "year = 2018\n",
    "approved_by_author = '✅'\n",
    "citation = \"Thompson, Michael J., et al. \\\"A multi-tissue full lifespan epigenetic clock for mice.\\\" Aging (Albany NY) 10.10 (2018): 2832.\"\n",
    "doi = \"https://doi.org/10.18632/aging.101590\"\n",
    "notes = None"
   ]
  },
  {
   "cell_type": "markdown",
   "id": "4520c8cb-6c1f-4490-ba4c-6fe78ef002a7",
   "metadata": {},
   "source": [
    "## Download necessary data"
   ]
  },
  {
   "cell_type": "markdown",
   "id": "4ccae25e-7d7f-45da-8e8a-064a66dc52fa",
   "metadata": {},
   "source": [
    "#### Download GitHub repository"
   ]
  },
  {
   "cell_type": "code",
   "execution_count": 3,
   "id": "a2a5b60e-ff7f-4b24-b1c6-61cda8948310",
   "metadata": {},
   "outputs": [
    {
     "data": {
      "text/plain": [
       "0"
      ]
     },
     "execution_count": 3,
     "metadata": {},
     "output_type": "execute_result"
    }
   ],
   "source": [
    "github_url = \"https://github.com/kerepesi/MouseAgingClocks.git\"\n",
    "github_folder_name = github_url.split('/')[-1].split('.')[0]\n",
    "os.system(f\"git clone {github_url}\")"
   ]
  },
  {
   "cell_type": "markdown",
   "id": "35615b62-73ac-40b1-8bc1-e904403eb0ae",
   "metadata": {},
   "source": [
    "## Load data"
   ]
  },
  {
   "cell_type": "markdown",
   "id": "232eb94a-04a7-4ac4-ae3e-0e365b443a8e",
   "metadata": {},
   "source": [
    "#### From CSV file"
   ]
  },
  {
   "cell_type": "code",
   "execution_count": 4,
   "id": "45fbc051-f0d2-4b25-9813-ae126f6fedcb",
   "metadata": {},
   "outputs": [],
   "source": [
    "df = pd.read_table('MouseAgingClocks/ClockData/Thompson2018-ElasticNet_aging_clock.txt', skiprows=1)"
   ]
  },
  {
   "cell_type": "markdown",
   "id": "60c676db-2c7c-4c04-9457-97bccd598269",
   "metadata": {},
   "source": [
    "## Extract features and weights"
   ]
  },
  {
   "cell_type": "markdown",
   "id": "87dfda00-5182-4416-8eb1-de91ce2a9e48",
   "metadata": {},
   "source": [
    "First, let's extract the features and weights:"
   ]
  },
  {
   "cell_type": "code",
   "execution_count": 5,
   "id": "e1d1dd13-65ac-4694-8948-3cd94bc19fe1",
   "metadata": {},
   "outputs": [
    {
     "data": {
      "text/html": [
       "<div>\n",
       "<style scoped>\n",
       "    .dataframe tbody tr th:only-of-type {\n",
       "        vertical-align: middle;\n",
       "    }\n",
       "\n",
       "    .dataframe tbody tr th {\n",
       "        vertical-align: top;\n",
       "    }\n",
       "\n",
       "    .dataframe thead th {\n",
       "        text-align: right;\n",
       "    }\n",
       "</style>\n",
       "<table border=\"1\" class=\"dataframe\">\n",
       "  <thead>\n",
       "    <tr style=\"text-align: right;\">\n",
       "      <th></th>\n",
       "      <th>Chromosome</th>\n",
       "      <th>Coordinate</th>\n",
       "      <th>Coefficient</th>\n",
       "      <th>Genes (distance to TSS)</th>\n",
       "      <th>feature</th>\n",
       "      <th>coefficient</th>\n",
       "    </tr>\n",
       "  </thead>\n",
       "  <tbody>\n",
       "    <tr>\n",
       "      <th>1</th>\n",
       "      <td>chr1</td>\n",
       "      <td>9967422.0</td>\n",
       "      <td>0.7605</td>\n",
       "      <td>Gm10567 (-4614)</td>\n",
       "      <td>chr1:9967422</td>\n",
       "      <td>0.7605</td>\n",
       "    </tr>\n",
       "    <tr>\n",
       "      <th>2</th>\n",
       "      <td>chr1</td>\n",
       "      <td>9967428.0</td>\n",
       "      <td>0.1261</td>\n",
       "      <td>Gm10567 (-4620)</td>\n",
       "      <td>chr1:9967428</td>\n",
       "      <td>0.1261</td>\n",
       "    </tr>\n",
       "    <tr>\n",
       "      <th>3</th>\n",
       "      <td>chr1</td>\n",
       "      <td>13126576.0</td>\n",
       "      <td>4.3766</td>\n",
       "      <td>Prdm14 (+586)</td>\n",
       "      <td>chr1:13126576</td>\n",
       "      <td>4.3766</td>\n",
       "    </tr>\n",
       "    <tr>\n",
       "      <th>4</th>\n",
       "      <td>chr1</td>\n",
       "      <td>15286937.0</td>\n",
       "      <td>5.6856</td>\n",
       "      <td>Kcnb2 (-321)</td>\n",
       "      <td>chr1:15286937</td>\n",
       "      <td>5.6856</td>\n",
       "    </tr>\n",
       "    <tr>\n",
       "      <th>5</th>\n",
       "      <td>chr1</td>\n",
       "      <td>46800385.0</td>\n",
       "      <td>-0.5194</td>\n",
       "      <td>Slc39a10 (+53660)</td>\n",
       "      <td>chr1:46800385</td>\n",
       "      <td>-0.5194</td>\n",
       "    </tr>\n",
       "  </tbody>\n",
       "</table>\n",
       "</div>"
      ],
      "text/plain": [
       "  Chromosome  Coordinate  Coefficient Genes (distance to TSS)        feature  \\\n",
       "1       chr1   9967422.0       0.7605      Gm10567 (-4614)      chr1:9967422   \n",
       "2       chr1   9967428.0       0.1261     Gm10567 (-4620)       chr1:9967428   \n",
       "3       chr1  13126576.0       4.3766      Prdm14 (+586)       chr1:13126576   \n",
       "4       chr1  15286937.0       5.6856       Kcnb2 (-321)       chr1:15286937   \n",
       "5       chr1  46800385.0      -0.5194  Slc39a10 (+53660)       chr1:46800385   \n",
       "\n",
       "   coefficient  \n",
       "1       0.7605  \n",
       "2       0.1261  \n",
       "3       4.3766  \n",
       "4       5.6856  \n",
       "5      -0.5194  "
      ]
     },
     "execution_count": 5,
     "metadata": {},
     "output_type": "execute_result"
    }
   ],
   "source": [
    "intercept = df['Coefficient'].iloc[0]\n",
    "df = df[1:]\n",
    "df['feature'] = df['Chromosome'].astype(str) + ':' + df['Coordinate'].astype(int).astype(str)\n",
    "df['coefficient'] = df['Coefficient']\n",
    "\n",
    "df.head()"
   ]
  },
  {
   "cell_type": "markdown",
   "id": "5ac5b42a-3bd9-49d3-b84e-79d236af24b4",
   "metadata": {},
   "source": [
    "Then, let's create lists for features and weights. Be careful about the intercept, as it usually shows up as a feature name."
   ]
  },
  {
   "cell_type": "code",
   "execution_count": 6,
   "id": "2fc06bb5-7e9c-46fd-9843-31880f1d3788",
   "metadata": {},
   "outputs": [],
   "source": [
    "features = df['feature'].tolist()\n",
    "weights = torch.tensor(df['coefficient'].tolist()).unsqueeze(0)\n",
    "intercept = torch.tensor([intercept])"
   ]
  },
  {
   "cell_type": "markdown",
   "id": "d193ccbf-d06b-49bb-ad4b-ffe3271dea63",
   "metadata": {},
   "source": [
    "## Load weights into pyaging model"
   ]
  },
  {
   "cell_type": "markdown",
   "id": "4350119a-4bd4-4efa-85b5-9de70fdf496f",
   "metadata": {},
   "source": [
    "#### Linear model"
   ]
  },
  {
   "cell_type": "code",
   "execution_count": 7,
   "id": "7354c541-5af9-447d-a339-2cb88c253b41",
   "metadata": {},
   "outputs": [
    {
     "data": {
      "text/plain": [
       "LinearModel(\n",
       "  (linear): Linear(in_features=582, out_features=1, bias=True)\n",
       ")"
      ]
     },
     "execution_count": 7,
     "metadata": {},
     "output_type": "execute_result"
    }
   ],
   "source": [
    "model = pya.models.LinearModel(input_dim=len(features))\n",
    "\n",
    "model.linear.weight.data = weights.float()\n",
    "model.linear.bias.data = intercept.float()\n",
    "\n",
    "model"
   ]
  },
  {
   "cell_type": "markdown",
   "id": "06adc9d8-cec2-447d-8d0b-e2819d4c1a5b",
   "metadata": {},
   "source": [
    "## Add reference values"
   ]
  },
  {
   "cell_type": "markdown",
   "id": "84bf0205-f976-497b-a6a9-e4945c05cdb3",
   "metadata": {},
   "source": [
    "Some clocks have reference values in the case of missing features. It is also possible that these values are for preprocessing features rather than the clock features. Let's add a dictionary with the feature names as the keys."
   ]
  },
  {
   "cell_type": "code",
   "execution_count": 8,
   "id": "250dd50d-a175-45f3-913b-da87c50cb55c",
   "metadata": {},
   "outputs": [],
   "source": [
    "reference_feature_values = None"
   ]
  },
  {
   "cell_type": "markdown",
   "id": "c9b4fd10-797c-45bd-aa1a-65aed1deaf1c",
   "metadata": {},
   "source": [
    "## Add preprocessing and postprocesssing steps"
   ]
  },
  {
   "cell_type": "markdown",
   "id": "20649dc9-2b58-4c63-a48e-f8d7a4bb520b",
   "metadata": {},
   "source": [
    "The preprocessing and postprocessing objects are dictionaries with the following format, with all items required. It takes in x in the form of a numpy array."
   ]
  },
  {
   "cell_type": "code",
   "execution_count": 9,
   "id": "1d173005-fb63-43d5-bd9f-0b4fa2e240b1",
   "metadata": {},
   "outputs": [],
   "source": [
    "preprocessing = None"
   ]
  },
  {
   "cell_type": "markdown",
   "id": "3ca747b4-0214-40a1-a7bf-fbf2a71084af",
   "metadata": {},
   "source": [
    "Similarly is the case of postprocessing. Remember that your function must be compatible with torch and is applied to each number individually."
   ]
  },
  {
   "cell_type": "code",
   "execution_count": 10,
   "id": "6fe37a2c-113a-4517-91e4-10a4e8b2005a",
   "metadata": {},
   "outputs": [],
   "source": [
    "postprocessing = None"
   ]
  },
  {
   "cell_type": "markdown",
   "id": "a9672c44-25b6-4607-b6a1-bd188ed668e4",
   "metadata": {},
   "source": [
    "## Check all data objects"
   ]
  },
  {
   "cell_type": "markdown",
   "id": "dd93db81-6664-45f4-9ce7-af1e8e834e43",
   "metadata": {},
   "source": [
    "Let's print all data objects to check if they make sense."
   ]
  },
  {
   "cell_type": "markdown",
   "id": "65211ce7-943a-4c35-97d3-a188b72b4166",
   "metadata": {},
   "source": [
    "#### features"
   ]
  },
  {
   "cell_type": "code",
   "execution_count": 11,
   "id": "bf047bed-52f0-4a64-9691-4c04df9f50ec",
   "metadata": {},
   "outputs": [
    {
     "data": {
      "text/html": [
       "\n",
       "    <div style=\"overflow-x: scroll; overflow-y: scroll; border: 1px solid black; background-color: white; !important; color: black; !important;\">\n",
       "        <pre>There are 582 features.\n",
       "['chr1:9967422', 'chr1:9967428', 'chr1:13126576', 'chr1:15286937', 'chr1:46800385', 'chr1:55087536', 'chr1:63273286', 'chr1:63273288', 'chr1:64690282', 'chr1:71603645', 'chr1:79761546', 'chr1:79858375', 'chr1:84695279', 'chr1:84934769', 'chr1:89455649', 'chr1:92848744', 'chr1:92848748', 'chr1:95666316', 'chr1:103479589', 'chr1:105270925', 'chr1:106758726', 'chr1:118310888', 'chr1:118311288', 'chr1:119648512', 'chr1:120602265', 'chr1:120602331', 'chr1:128359556', 'chr1:132331689', 'chr1:132937328', 'chr1:135374481', 'chr1:151345609', 'chr1:152766494', 'chr1:163779885', 'chr1:166254097', 'chr1:167078000', 'chr1:180162337', 'chr1:181143980', 'chr1:193130048', 'chr2:18688874', 'chr2:18688890', 'chr2:18688999', 'chr2:18689011', 'chr2:18689050', 'chr2:18689075', 'chr2:19658357', 'chr2:24367551', 'chr2:26139935', 'chr2:29206237', 'chr2:29540277', 'chr2:29803634', 'chr2:31314497', 'chr2:31383687', 'chr2:32258282', 'chr2:32534814', 'chr2:32583296', 'chr2:34371824', 'chr2:65753979', 'chr2:71545678', 'chr2:73271897', 'chr2:73271967', 'chr2:73271991', 'chr2:73271993', 'chr2:74655567', 'chr2:74655652', 'chr2:74655663', 'chr2:74656282', 'chr2:74657635', 'chr2:74682177', 'chr2:74763563', 'chr2:83724981', 'chr2:90580725', 'chr2:92055426', 'chr2:93195765', 'chr2:102452235', 'chr2:103797471', 'chr2:109676136', 'chr2:109792568', 'chr2:116535471', 'chr2:120039017', 'chr2:126780509', 'chr2:127363004', 'chr2:128794537', 'chr2:128967551', 'chr2:131179262', 'chr2:131262494', 'chr2:132219269', 'chr2:143862610', 'chr2:147083923', 'chr2:147084014', 'chr2:147084073', 'chr2:147084603', 'chr2:147084610', 'chr2:147085213', 'chr2:147365634', 'chr2:152414129', 'chr2:152943653', 'chr2:152943674', 'chr2:154372729', 'chr2:155956842', 'chr2:158117908', 'chr2:164164697', 'chr2:165116262', 'chr2:165821819', 'chr2:173276460', 'chr2:173565625', 'chr2:174464089', 'chr2:180524878', 'chr2:180702060', 'chr2:180776945', 'chr3:28805649', 'chr3:40541009', 'chr3:51484124', 'chr3:53017230', 'chr3:53452419', 'chr3:58692509', 'chr3:66979873', 'chr3:69316410', 'chr3:69316712', 'chr3:88332469', 'chr3:89764409', 'chr3:89764422', 'chr3:89764447', 'chr3:89764485', 'chr3:91930033', 'chr3:96727503', 'chr3:96919687', 'chr3:99141438', 'chr3:103809575', 'chr3:104220213', 'chr3:107332143', 'chr3:107517398', 'chr3:107517805', 'chr3:108100140', 'chr3:121507851', 'chr3:121545526', 'chr3:133310529', 'chr3:135593759', 'chr3:142169526', 'chr3:148817552', 'chr3:153500769', 'chr4:28140436', 'chr4:33209344', 'chr4:42924950', 'chr4:43382620', 'chr4:44090814', 'chr4:45342692', 'chr4:45531471', 'chr4:55071885', 'chr4:57142836', 'chr4:63213975', 'chr4:83323961', 'chr4:89294317', 'chr4:89688406', 'chr4:91376687', 'chr4:96306742', 'chr4:98383107', 'chr4:99929714', 'chr4:101496665', 'chr4:107113675', 'chr4:107435699', 'chr4:108848499', 'chr4:110970207', 'chr4:116627157', 'chr4:118216098', 'chr4:119170566', 'chr4:120731318', 'chr4:124882509', 'chr4:124882524', 'chr4:124882529', 'chr4:124882557', 'chr4:128654947', 'chr4:128743517', 'chr4:129118461', 'chr4:129440744', 'chr4:129960125', 'chr4:131748757', 'chr4:132535763', 'chr4:132768755', 'chr4:133062635', 'chr4:133518983', 'chr4:133752083', 'chr4:133753125', 'chr4:134357339', 'chr4:134671566', 'chr4:135398147', 'chr4:137796064', 'chr4:137993353', 'chr4:140034539', 'chr4:141475368', 'chr4:142239113', 'chr4:147971677', 'chr4:151145281', 'chr4:152274815', 'chr4:153957446', 'chr5:108367192', 'chr5:117318929', 'chr5:118331517', 'chr6:83109176', 'chr7:44496696', 'chr7:44496714', 'chr8:119446522', 'chr8:122376301', 'chr9:18292401', 'chr9:21161579', 'chr10:5806177', 'chr10:11343499', 'chr10:12964274', 'chr10:13008952', 'chr10:18743528', 'chr10:18845199', 'chr10:21882255', 'chr10:31915673', 'chr10:37136243', 'chr10:40302742', 'chr10:40883862', 'chr10:42582269', 'chr10:42698541', 'chr10:43021928', 'chr10:45485682', 'chr10:45485688', 'chr10:45485699', 'chr10:45485702', 'chr10:45485738', 'chr10:45485740', 'chr10:48536401', 'chr10:58813472', 'chr10:60687035', 'chr10:61783640', 'chr10:75926527', 'chr10:75969946', 'chr10:77978634', 'chr10:77988732', 'chr10:78592411', 'chr10:80265016', 'chr10:80265056', 'chr10:80292702', 'chr10:80347708', 'chr10:80347711', 'chr10:80395229', 'chr10:81070184', 'chr10:81268194', 'chr10:83648356', 'chr10:84883024', 'chr10:85184938', 'chr10:86022132', 'chr10:91872716', 'chr10:95254036', 'chr10:116581900', 'chr10:116980687', 'chr10:119453833', 'chr10:121150427', 'chr10:121607037', 'chr10:122047655', 'chr10:122047709', 'chr10:122047716', 'chr10:122047719', 'chr10:122047722', 'chr10:122047725', 'chr10:122047735', 'chr10:123265554', 'chr10:128589619', 'chr10:128910113', 'chr10:129817110', 'chr11:4160437', 'chr11:19264825', 'chr11:21993365', 'chr11:22003790', 'chr11:30771718', 'chr11:32532863', 'chr11:36023996', 'chr11:43404722', 'chr11:45980348', 'chr11:45980366', 'chr11:45980375', 'chr11:45980409', 'chr11:51650662', 'chr11:52167199', 'chr11:58937311', 'chr11:59307150', 'chr11:60205837', 'chr11:60210617', 'chr11:61684505', 'chr11:68901666', 'chr11:69903212', 'chr11:69935790', 'chr11:69935810', 'chr11:72410820', 'chr11:72913128', 'chr11:73041046', 'chr11:74771174', 'chr11:75588406', 'chr11:77489322', 'chr11:77500543', 'chr11:77508522', 'chr11:78159974', 'chr11:78436161', 'chr11:79711616', 'chr11:84068227', 'chr11:93885266', 'chr11:95299998', 'chr11:95413854', 'chr11:96007418', 'chr11:96777603', 'chr11:97663598', 'chr11:98294584', 'chr11:101120008', 'chr11:101186660', 'chr11:102438402', 'chr11:102606024', 'chr11:103101452', 'chr11:105943925', 'chr11:107468861', 'chr11:109298113', 'chr11:115250261', 'chr11:115258227', 'chr11:116004961', 'chr11:116110430', 'chr11:116844188', 'chr11:117849480', 'chr11:118474914', 'chr11:118477189', 'chr11:120201542', 'chr11:120234059', 'chr11:120720724', 'chr11:120807077', 'chr12:5050136', 'chr12:17176122', 'chr12:21373341', 'chr12:22156588', 'chr12:25119448', 'chr12:35535020', 'chr12:40037857', 'chr12:51348013', 'chr12:52006533', 'chr12:54203309', 'chr12:55493341', 'chr12:56519991', 'chr12:57538782', 'chr12:57538787', 'chr12:65225772', 'chr12:73794195', 'chr12:76405241', 'chr12:78861250', 'chr12:79276390', 'chr12:80766691', 'chr12:80946119', 'chr12:81314965', 'chr12:83520400', 'chr12:84571363', 'chr12:84698673', 'chr12:84698708', 'chr12:84876877', 'chr12:85816167', 'chr12:86983575', 'chr12:87254240', 'chr12:87300033', 'chr12:91590228', 'chr12:91778564', 'chr12:98901031', 'chr12:99098589', 'chr12:99196738', 'chr12:101028820', 'chr12:104474946', 'chr12:105948980', 'chr12:108334520', 'chr12:111713206', 'chr12:111789447', 'chr12:116405520', 'chr12:116485911', 'chr12:117875704', 'chr12:118848986', 'chr13:12861299', 'chr13:21995466', 'chr13:23309646', 'chr13:23555565', 'chr13:31625884', 'chr13:34994035', 'chr13:37826677', 'chr13:40723104', 'chr13:40723180', 'chr13:40723198', 'chr13:48967798', 'chr13:49194999', 'chr13:49379830', 'chr13:53476064', 'chr13:54071980', 'chr13:55471967', 'chr13:62944729', 'chr13:64274375', 'chr13:64274399', 'chr13:64274685', 'chr13:73603991', 'chr13:73806327', 'chr13:73816185', 'chr13:73937741', 'chr13:75943555', 'chr13:80886143', 'chr13:94285121', 'chr13:97198240', 'chr13:98355249', 'chr13:98366996', 'chr13:98534239', 'chr13:103920603', 'chr13:108316541', 'chr13:117025760', 'chr14:7817971', 'chr14:16574885', 'chr14:20661648', 'chr14:26670135', 'chr14:30715394', 'chr14:32038440', 'chr14:34549482', 'chr14:45388538', 'chr14:48655725', 'chr14:49066516', 'chr14:57889849', 'chr14:60691600', 'chr14:62953044', 'chr14:68123821', 'chr14:68125711', 'chr14:70079547', 'chr14:70453118', 'chr14:70599470', 'chr14:75131208', 'chr14:77036497', 'chr14:79183069', 'chr14:104466428', 'chr14:104473125', 'chr14:115040601', 'chr14:118180510', 'chr14:119858380', 'chr14:121275623', 'chr14:122107411', 'chr14:122450733', 'chr14:122463668', 'chr14:122479059', 'chr14:122479076', 'chr15:8262884', 'chr15:26308775', 'chr15:27681414', 'chr15:30172936', 'chr15:35155861', 'chr15:35296880', 'chr15:37234227', 'chr15:39197639', 'chr15:41788827', 'chr15:60823769', 'chr15:62038016', 'chr15:73173517', 'chr15:75746470', 'chr15:76476953', 'chr15:76722828', 'chr15:76817911', 'chr15:78174204', 'chr15:78174214', 'chr15:78428757', 'chr15:78913985', 'chr15:78914200', 'chr15:78914302', 'chr15:78914407', 'chr15:82279433', 'chr15:84756644', 'chr15:85206037', 'chr15:89453736', 'chr15:94910196', 'chr15:98780511', 'chr15:99030446', 'chr15:99471618', 'chr15:101929872', 'chr15:101929878', 'chr15:102279425', 'chr15:102975989', 'chr16:3847098', 'chr16:3872336', 'chr16:3872650', 'chr16:10313919', 'chr16:10502161', 'chr16:11253937', 'chr16:13256105', 'chr16:14361658', 'chr16:17798418', 'chr16:17891609', 'chr16:19133634', 'chr16:20651732', 'chr16:23107824', 'chr16:30587877', 'chr16:30600158', 'chr16:33250171', 'chr16:33830489', 'chr16:35022825', 'chr16:87354566', 'chr16:95987673', 'chr17:3084720', 'chr17:23673823', 'chr17:24606227', 'chr17:26415515', 'chr17:26849776', 'chr17:26850736', 'chr17:28177432', 'chr17:28622722', 'chr17:28909688', 'chr17:34647456', 'chr17:34850397', 'chr17:35821867', 'chr17:35894940', 'chr17:45576099', 'chr17:45664987', 'chr17:46674224', 'chr17:46687337', 'chr17:50292979', 'chr17:50292987', 'chr17:53689264', 'chr17:55878844', 'chr17:55970486', 'chr17:56626659', 'chr17:56935828', 'chr17:56935839', 'chr17:57081607', 'chr17:69969337', 'chr17:69969391', 'chr17:73710569', 'chr17:80373376', 'chr17:84185908', 'chr17:84466096', 'chr17:86970229', 'chr17:87258111', 'chr17:87975219', 'chr18:3336813', 'chr18:6241331', 'chr18:7003400', 'chr18:11048438', 'chr18:11839608', 'chr18:34355772', 'chr18:34793123', 'chr18:36018245', 'chr18:36196614', 'chr18:36320255', 'chr18:36320621', 'chr18:37807726', 'chr18:38841353', 'chr18:39489490', 'chr18:42511094', 'chr18:49531789', 'chr18:66061561', 'chr18:76861061', 'chr18:78858827', 'chr18:83051667', 'chr18:83051760', 'chr18:84685444', 'chr19:4214299', 'chr19:4397285', 'chr19:4613765', 'chr19:4756363', 'chr19:5742232', 'chr19:6141058', 'chr19:8941842', 'chr19:16436756', 'chr19:18713622', 'chr19:27429839', 'chr19:29648305', 'chr19:30030662', 'chr19:30175122', 'chr19:31762866', 'chr19:34746690', 'chr19:36057657', 'chr19:37018643', 'chr19:37435318', 'chr19:40895172', 'chr19:42518732', 'chr19:44750466', 'chr19:47731600', 'chr19:53600187', 'chr19:53600843', 'chr19:56874114', 'chr19:56906573', 'chr19:59459911', 'chr19:61226356', 'chr19:61226587', 'chr19:61226635', 'chr19:61226647', 'chr19:61226650', 'chr19:61226668']\n",
       "</pre>\n",
       "    </div>\n",
       "    "
      ],
      "text/plain": [
       "<IPython.core.display.HTML object>"
      ]
     },
     "metadata": {},
     "output_type": "display_data"
    }
   ],
   "source": [
    "def my_print_function():\n",
    "    print(f\"There are {len(features)} features.\")\n",
    "    print(features)\n",
    "pya.utils.print_to_scrollable_output(my_print_function)"
   ]
  },
  {
   "cell_type": "markdown",
   "id": "15ea60fe-0474-4001-be80-01ce525b189c",
   "metadata": {},
   "source": [
    "#### reference_feature_values"
   ]
  },
  {
   "cell_type": "code",
   "execution_count": 12,
   "id": "6436fd01-0a8e-41a5-b584-2c020136ff97",
   "metadata": {},
   "outputs": [
    {
     "data": {
      "text/html": [
       "\n",
       "    <div style=\"overflow-x: scroll; overflow-y: scroll; border: 1px solid black; background-color: white; !important; color: black; !important;\">\n",
       "        <pre>None\n",
       "</pre>\n",
       "    </div>\n",
       "    "
      ],
      "text/plain": [
       "<IPython.core.display.HTML object>"
      ]
     },
     "metadata": {},
     "output_type": "display_data"
    }
   ],
   "source": [
    "def my_print_function():\n",
    "    if reference_feature_values:\n",
    "        print(f\"There are {len(reference_feature_values)} reference feature values.\")\n",
    "    print(reference_feature_values)\n",
    "pya.utils.print_to_scrollable_output(my_print_function)"
   ]
  },
  {
   "cell_type": "markdown",
   "id": "7f20ec1a-3dde-41d7-9205-0f20959fdc0f",
   "metadata": {},
   "source": [
    "#### preprocessing"
   ]
  },
  {
   "cell_type": "code",
   "execution_count": 13,
   "id": "960c5ede-3175-4192-a358-bf5ccb41074f",
   "metadata": {},
   "outputs": [
    {
     "data": {
      "text/html": [
       "\n",
       "    <div style=\"overflow-x: scroll; overflow-y: scroll; border: 1px solid black; background-color: white; !important; color: black; !important;\">\n",
       "        <pre>None\n",
       "</pre>\n",
       "    </div>\n",
       "    "
      ],
      "text/plain": [
       "<IPython.core.display.HTML object>"
      ]
     },
     "metadata": {},
     "output_type": "display_data"
    }
   ],
   "source": [
    "def my_print_function():\n",
    "    print(preprocessing)\n",
    "    if preprocessing:\n",
    "        print(preprocessing_helper_objects)\n",
    "pya.utils.print_to_scrollable_output(my_print_function)"
   ]
  },
  {
   "cell_type": "markdown",
   "id": "48fcf1fb-1476-437b-a29d-162882048130",
   "metadata": {},
   "source": [
    "#### postprocessing"
   ]
  },
  {
   "cell_type": "code",
   "execution_count": 14,
   "id": "40fe1f52-ad50-4b84-89c7-c5d1d3fff139",
   "metadata": {},
   "outputs": [
    {
     "data": {
      "text/html": [
       "\n",
       "    <div style=\"overflow-x: scroll; overflow-y: scroll; border: 1px solid black; background-color: white; !important; color: black; !important;\">\n",
       "        <pre>None\n",
       "</pre>\n",
       "    </div>\n",
       "    "
      ],
      "text/plain": [
       "<IPython.core.display.HTML object>"
      ]
     },
     "metadata": {},
     "output_type": "display_data"
    }
   ],
   "source": [
    "def my_print_function():\n",
    "    print(postprocessing)\n",
    "    if postprocessing:\n",
    "        print(postprocessing)\n",
    "pya.utils.print_to_scrollable_output(my_print_function)"
   ]
  },
  {
   "cell_type": "markdown",
   "id": "d73e6ba8-eb41-4262-84a5-ad441604788e",
   "metadata": {},
   "source": [
    "#### weight_dict"
   ]
  },
  {
   "cell_type": "code",
   "execution_count": 15,
   "id": "658317e5-44bd-4621-877c-5db57494c968",
   "metadata": {},
   "outputs": [
    {
     "data": {
      "text/html": [
       "\n",
       "    <div style=\"overflow-x: scroll; overflow-y: scroll; border: 1px solid black; background-color: white; !important; color: black; !important;\">\n",
       "        <pre>Layer: linear.weight\n",
       "Shape: torch.Size([1, 582])\n",
       "tensor([[ 7.6050e-01,  1.2610e-01,  4.3766e+00,  5.6856e+00, -5.1940e-01,\n",
       "         -6.3550e-01,  4.1660e-01,  1.2926e+00,  5.5767e+00, -9.5440e-01,\n",
       "         -5.0494e+00, -2.7110e-01,  2.4880e-01, -8.9010e-01,  7.4440e-01,\n",
       "          3.9200e-02,  4.0560e-01, -2.0561e+00,  5.5190e-01, -6.6310e-01,\n",
       "         -8.4130e-01, -3.9220e+00, -3.1032e+00, -1.9629e+00,  2.8247e+00,\n",
       "         -3.2550e-01,  1.7188e+00, -1.5644e+00, -7.0630e-01, -2.1960e+00,\n",
       "          2.9407e+00, -1.2790e+00, -2.1693e+00,  2.3760e-01,  1.5658e+00,\n",
       "         -1.4880e-01, -3.3590e+00,  7.7219e+00,  1.1456e+00,  2.4924e+00,\n",
       "          2.7974e+00,  9.0000e-04,  3.5852e+00,  8.0881e+00, -4.2881e+00,\n",
       "          1.4900e-02, -1.2542e+00,  1.1064e+00, -8.3330e-01, -2.4220e-01,\n",
       "          2.7303e+00, -3.5300e-02, -1.1623e+00, -4.3530e-01, -3.9360e-01,\n",
       "         -1.0745e+00,  1.2548e+00,  1.2330e+00,  3.9804e+00,  3.4000e-03,\n",
       "          2.0252e+00,  1.3904e+00,  2.0643e+00,  7.2460e-01,  6.1980e-01,\n",
       "          6.9100e-02,  3.7479e+00,  1.6830e-01,  6.4600e-02, -7.8400e-02,\n",
       "         -2.8300e-02,  3.0960e-01,  2.5940e-01, -1.4800e-02, -1.2176e+00,\n",
       "          2.7676e+00,  3.9120e-01,  4.1740e-01, -8.1050e-01,  4.8720e-01,\n",
       "          6.3590e-01, -8.6600e-02, -1.1529e+00, -2.3901e+00, -2.2450e-01,\n",
       "         -5.2420e-01,  1.2440e-01,  7.0200e-01,  1.8955e+00,  1.2298e+00,\n",
       "          1.2617e+00,  2.3309e+00,  1.8560e+00,  7.7490e-01,  9.1600e-01,\n",
       "          5.6740e-01,  1.8634e+00, -2.4023e+00, -3.4460e+00,  1.5370e-01,\n",
       "         -1.7677e+00,  1.9380e-01, -3.1000e-01,  1.2198e+00, -1.7640e-01,\n",
       "          4.5230e+00,  3.3240e-01,  2.8941e+00, -1.7037e+00, -6.1200e-02,\n",
       "          2.7445e+00,  2.2116e+00, -1.4665e+00, -8.8840e-01,  6.6892e+00,\n",
       "          2.2100e-02, -5.8240e-01, -1.3507e+00, -4.4400e-02,  1.8157e+00,\n",
       "          6.2341e+00,  1.4041e+00,  1.0572e+00,  2.7530e-01, -2.7989e+00,\n",
       "          1.2607e+00, -6.0500e-02, -3.1059e+00, -1.4890e+00,  2.3760e-01,\n",
       "         -1.5180e-01,  6.4000e-03, -1.0069e+00, -2.9040e-01, -7.3400e-01,\n",
       "          4.6241e+00,  4.8880e-01,  3.7726e+00, -2.7290e-01,  2.0550e-01,\n",
       "          1.0740e-01, -2.4876e+00,  6.8030e-01, -5.2600e-02,  7.8140e-01,\n",
       "         -6.6590e-01, -4.8567e+00,  7.1970e-01,  2.8598e+00, -3.7430e-01,\n",
       "          2.1720e-01,  1.2030e+00,  9.3200e-02,  4.8000e-03,  4.4140e-01,\n",
       "         -3.9869e+00, -6.0410e-01, -7.5840e-01, -5.3560e-01,  3.1700e-02,\n",
       "         -5.7843e+00,  2.2500e-01,  3.9950e-01, -2.4330e-01, -4.5840e-01,\n",
       "          3.2400e-02,  1.2967e+00,  1.1965e+00,  6.4380e-01,  1.9640e-01,\n",
       "          1.0000e-04, -7.9190e-01,  5.3200e-02, -1.6999e+00, -3.6198e+00,\n",
       "          7.6090e-01, -2.6772e+00, -3.3140e-01, -1.2720e-01,  7.4950e-01,\n",
       "         -7.0900e-02, -2.1905e+00, -1.8766e+00, -4.7500e-02, -1.3894e+00,\n",
       "          3.1730e-01, -5.8590e-01,  2.2820e-01, -1.8270e-01,  3.2259e+00,\n",
       "          1.2534e+00, -3.2450e-01,  1.1634e+00,  1.8380e-01, -1.6633e+00,\n",
       "         -6.5170e-01, -1.0276e+00, -1.9186e+00,  1.0394e+01,  4.3211e+00,\n",
       "         -4.4190e-01, -8.3440e-01, -1.1283e+00,  8.8230e-01, -1.8100e-01,\n",
       "         -4.6600e-02, -1.0171e+00, -2.5752e+00,  2.5791e+00,  3.7140e-01,\n",
       "          1.3916e+00,  2.8240e-01,  4.7270e-01, -1.4518e+00, -5.9600e-02,\n",
       "          3.9440e-01,  2.3321e+00,  2.8693e+00,  5.3281e+00,  9.4900e-02,\n",
       "          3.4860e+00,  1.3810e+00,  2.9357e+00,  1.5060e-01, -1.8102e+00,\n",
       "          6.5800e-02, -9.2600e-02, -5.3020e-01,  5.5000e-03,  3.6280e+00,\n",
       "         -2.5060e-01, -1.1800e-02,  1.7800e-01, -3.8795e+00, -8.7600e-01,\n",
       "          5.3708e+00, -1.8055e+00, -2.4900e-02, -2.1800e-01, -2.6459e+00,\n",
       "         -5.0640e-01, -1.4938e+00, -6.8370e-01, -4.8334e+00, -2.1453e+00,\n",
       "          3.6180e-01, -1.0500e-02, -1.8536e+00, -1.3597e+00, -1.3904e+00,\n",
       "         -6.4900e-02, -4.6450e-01,  6.2145e+00,  4.7728e+00,  2.1529e+00,\n",
       "          2.2000e+00,  1.0950e+00,  1.3517e+00,  1.8355e+00, -7.4160e-01,\n",
       "          7.7310e-01, -2.0667e+00,  7.5670e-01,  3.2930e+00,  3.8150e-01,\n",
       "          5.7560e-01,  1.9751e+00, -2.4490e-01, -7.0998e+00, -3.1750e-01,\n",
       "         -3.5890e-01,  1.1446e+00,  1.6378e+00,  5.2747e+00,  1.1938e+00,\n",
       "         -6.2700e-01,  1.0631e+00, -1.2423e+00, -7.7181e+00, -9.6850e-01,\n",
       "         -1.0550e+00,  1.6177e+00,  3.8404e+00, -3.2610e-01,  1.7510e-01,\n",
       "          6.4900e+00, -3.7810e-01, -8.9950e-01,  5.0270e-01,  5.6064e+00,\n",
       "         -6.3080e-01,  3.2982e+00, -1.7260e-01, -1.2600e-02, -7.9220e-01,\n",
       "          1.3299e+00,  5.6790e-01, -5.6241e+00, -1.4732e+00, -6.3170e-01,\n",
       "          4.1760e-01,  3.7627e+00,  7.5300e-02, -3.7182e+00, -8.3040e-01,\n",
       "          4.3490e-01, -1.2047e+00,  8.2260e-01,  1.2260e+00, -3.1200e-01,\n",
       "         -2.9480e-01, -1.4165e+00, -3.3638e+00, -2.0340e-01,  3.4743e+00,\n",
       "          1.3575e+00, -1.9925e+00, -8.2620e-01,  3.4620e+00, -1.0530e-01,\n",
       "          1.2761e+00, -2.7230e-01, -1.1510e-01, -1.8405e+00, -2.4900e-01,\n",
       "         -4.3324e+00,  1.1748e+00, -3.2525e+00,  2.8050e-01, -7.1260e-01,\n",
       "          2.8261e+00, -1.1044e+00, -2.9580e-01, -1.3933e+00,  3.0601e+00,\n",
       "         -1.6924e+00,  8.1700e-02,  7.6340e-01,  5.8339e+00,  5.8500e-02,\n",
       "         -3.4590e-01,  5.1570e-01, -4.7011e+00, -1.7629e+00, -1.4880e-01,\n",
       "         -3.1670e-01,  1.5704e+00,  1.3552e+00,  5.3890e-01,  2.1730e-01,\n",
       "          1.3688e+00,  3.8583e+00, -2.2930e-01,  2.8800e-01, -9.9970e-01,\n",
       "          5.3259e+00, -9.6200e-02, -8.1520e-01,  4.6400e-02, -6.4990e-01,\n",
       "         -8.3630e-01, -1.1889e+00,  3.0950e+00,  1.2300e-02,  2.1797e+00,\n",
       "         -1.9326e+00, -1.1650e-01, -1.1435e+00,  4.8465e+00, -7.6880e-01,\n",
       "          6.5350e-01, -9.1930e-01,  2.6840e-01,  2.0166e+00,  1.5266e+00,\n",
       "         -4.9040e-01, -8.1630e-01, -4.0402e+00,  4.3725e+00,  7.0868e+00,\n",
       "          4.0866e+00,  3.3920e-01, -1.4585e+00, -3.2390e-01, -2.0150e+00,\n",
       "         -3.1999e+00,  9.4250e-01, -1.3408e+00,  1.5726e+00,  1.1290e-01,\n",
       "          3.6013e+00, -2.2895e+00, -1.2230e-01, -1.8200e-01, -1.8018e+00,\n",
       "          3.0430e+00, -5.9244e+00, -5.8380e-01, -2.3510e-01,  1.6360e-01,\n",
       "          3.7470e-01, -2.8587e+00,  1.6312e+00, -1.1211e+00, -2.1430e-01,\n",
       "          9.6570e-01, -3.5000e-02, -8.9800e-02, -1.0564e+00,  2.2829e+00,\n",
       "         -1.7810e-01, -2.6284e+00, -5.5420e-01,  7.0350e-01, -1.2928e+00,\n",
       "          2.6383e+00, -7.0350e-01, -2.3582e+00,  5.2690e-01,  2.2618e+00,\n",
       "          3.4990e-01, -1.2300e-02, -5.5231e+00,  1.5583e+01,  9.2180e-01,\n",
       "         -7.5070e-01,  6.3160e-01, -1.5040e-01, -1.0888e+00, -1.8896e+00,\n",
       "          3.0738e+00, -1.7219e+00, -4.3010e-01, -2.1188e+00,  1.8300e-01,\n",
       "          1.6930e-01,  6.2200e-01,  4.7100e-02,  5.3120e-01,  6.3673e+00,\n",
       "          8.8200e-02, -2.3963e+00,  3.8018e+00,  1.9910e-01,  2.6060e-01,\n",
       "         -3.1516e+00,  1.2664e+00, -4.5901e+00, -9.4090e-01,  2.8546e+00,\n",
       "         -1.8440e-01,  1.5148e+00, -5.9110e-01,  3.9576e+00,  4.2981e+00,\n",
       "         -1.0432e+00,  3.1472e+00,  5.4856e+00,  6.4314e+00,  7.4850e-01,\n",
       "         -5.9340e-01,  5.3860e-01,  5.0552e+00,  1.1200e-02,  1.8240e-01,\n",
       "          2.6396e+00, -6.8490e-01, -4.6800e-01,  2.9390e-01,  7.3960e-01,\n",
       "         -1.4774e+00,  3.8930e-01, -2.1200e-02,  8.9200e-02,  5.6789e+00,\n",
       "          4.1570e-01,  2.0708e+00, -5.4943e+00,  5.1570e-01,  2.0650e-01,\n",
       "          7.9600e-02, -1.3337e+00,  7.6100e-01, -3.5750e-01, -2.0557e+00,\n",
       "         -3.8351e+00, -5.3900e-02, -1.6686e+00, -1.3470e-01, -1.8644e+00,\n",
       "          2.2000e-03, -8.5040e-01, -2.0387e+00,  1.6617e+00, -8.9800e-02,\n",
       "         -4.6910e-01,  4.7620e-01,  4.5430e-01, -1.9200e-02,  1.0282e+00,\n",
       "          8.9150e-01, -5.6272e+00,  1.5783e+00, -6.1000e-03,  4.6560e-01,\n",
       "         -4.1800e-02, -1.3998e+00,  2.4034e+00, -6.6000e-03,  5.3070e-01,\n",
       "          9.0010e-01,  2.2493e+00, -2.0315e+00, -2.0348e+00,  1.1782e+01,\n",
       "          6.7322e+00,  3.1160e+00, -3.3600e-01,  1.5705e+00,  2.4959e+00,\n",
       "         -5.0901e+00,  3.7484e+00, -2.1685e+00, -9.4537e+00,  7.5040e-01,\n",
       "         -4.4100e-01, -5.8666e+00, -5.1160e-01, -2.2163e+00, -4.2600e-02,\n",
       "          1.6910e-01,  8.0600e-01, -2.7749e+00, -3.2630e-01,  1.0850e+00,\n",
       "         -6.1890e-01, -3.1680e-01,  1.2509e+00,  2.0930e-01,  1.7000e-03,\n",
       "         -2.8241e+00, -1.2144e+00,  3.7200e-01, -1.7962e+00, -9.8960e-01,\n",
       "          3.4380e-01, -1.7680e-01, -2.2080e+00,  5.4540e-01, -1.5136e+00,\n",
       "          7.2590e-01, -5.6300e-01, -8.9538e+00, -6.1460e-01, -2.0543e+00,\n",
       "         -4.1411e+00,  2.9055e+00, -1.3906e+00, -3.1730e-01, -2.5417e+00,\n",
       "          2.7330e+00,  2.0507e+00,  2.0969e+00, -3.8280e-01, -1.9480e-01,\n",
       "          6.6600e-02,  1.9621e+00,  3.5706e+00,  3.4777e+00,  2.2784e+00,\n",
       "         -2.0700e+00, -4.0217e+00,  2.7944e+00, -5.2810e-01, -9.0500e-02,\n",
       "          5.1280e-01,  3.5070e-01,  6.1960e-01,  4.1020e-01,  3.9526e+00,\n",
       "          3.3560e+00,  2.1127e+00]])\n",
       "Layer: linear.bias\n",
       "Shape: torch.Size([1])\n",
       "tensor([30.3172])\n",
       "</pre>\n",
       "    </div>\n",
       "    "
      ],
      "text/plain": [
       "<IPython.core.display.HTML object>"
      ]
     },
     "metadata": {},
     "output_type": "display_data"
    }
   ],
   "source": [
    "def my_print_function():\n",
    "    for name, param in model.named_parameters():\n",
    "        print(f\"Layer: {name}\")\n",
    "        print(f\"Shape: {param.shape}\")\n",
    "        print(param.data)\n",
    "pya.utils.print_to_scrollable_output(my_print_function)"
   ]
  },
  {
   "cell_type": "markdown",
   "id": "275815e5-5630-4163-bc61-7119a9c805c1",
   "metadata": {},
   "source": [
    "## Write clock dictionary"
   ]
  },
  {
   "cell_type": "markdown",
   "id": "3b176620-afb5-403c-9948-07639072bb44",
   "metadata": {},
   "source": [
    "Let's put everything together and save:"
   ]
  },
  {
   "cell_type": "code",
   "execution_count": 16,
   "id": "35d00b76-513d-4d8f-8824-6d810ee9d8f5",
   "metadata": {},
   "outputs": [],
   "source": [
    "clock_dict = {\n",
    "    # Metadata\n",
    "    'clock_name': clock_name,\n",
    "    'data_type': data_type,\n",
    "    'model_class': model_class,\n",
    "    'species': species,\n",
    "    'year': year,\n",
    "    'approved_by_author': approved_by_author,\n",
    "    'citation': citation,\n",
    "    'doi': doi,\n",
    "    \"notes\": notes,\n",
    "\n",
    "    # Data\n",
    "    'reference_feature_values': reference_feature_values if reference_feature_values else None,\n",
    "    'preprocessing': preprocessing if preprocessing else None, \n",
    "    'features': features,\n",
    "    'weight_dict': model.state_dict(),\n",
    "    'postprocessing': postprocessing if postprocessing else None,\n",
    "}\n",
    "\n",
    "torch.save(clock_dict, f'../weights/{clock_name}.pt')"
   ]
  },
  {
   "cell_type": "markdown",
   "id": "c1dd2efe-2bd6-4e1b-92ee-d110c25ad29c",
   "metadata": {},
   "source": [
    "## Clear directory"
   ]
  },
  {
   "cell_type": "markdown",
   "id": "158aa71f-7bbc-4c52-b7ef-16ba45d5e1fd",
   "metadata": {},
   "source": [
    "Delete all files that are not clock jupyter notebooks:"
   ]
  },
  {
   "cell_type": "code",
   "execution_count": 17,
   "id": "db4bd42b-c62f-4557-9ebc-d8194a240137",
   "metadata": {},
   "outputs": [
    {
     "name": "stdout",
     "output_type": "stream",
     "text": [
      "Deleted folder: MouseAgingClocks\n",
      "Deleted folder: .ipynb_checkpoints\n"
     ]
    }
   ],
   "source": [
    "# Function to remove a folder and all its contents\n",
    "def remove_folder(path):\n",
    "    try:\n",
    "        shutil.rmtree(path)\n",
    "        print(f\"Deleted folder: {path}\")\n",
    "    except Exception as e:\n",
    "        print(f\"Error deleting folder {path}: {e}\")\n",
    "\n",
    "# Get a list of all files and folders in the current directory\n",
    "all_items = os.listdir('.')\n",
    "\n",
    "# Loop through the items\n",
    "for item in all_items:\n",
    "    # Check if it's a file and does not end with .ipynb\n",
    "    if os.path.isfile(item) and not item.endswith('.ipynb'):\n",
    "        os.remove(item)\n",
    "        print(f\"Deleted file: {item}\")\n",
    "    # Check if it's a folder\n",
    "    elif os.path.isdir(item):\n",
    "        remove_folder(item)"
   ]
  }
 ],
 "metadata": {
  "kernelspec": {
   "display_name": "Python 3",
   "language": "python",
   "name": "python3"
  },
  "language_info": {
   "codemirror_mode": {
    "name": "ipython",
    "version": 3
   },
   "file_extension": ".py",
   "mimetype": "text/x-python",
   "name": "python",
   "nbconvert_exporter": "python",
   "pygments_lexer": "ipython3",
   "version": "3.9.17"
  }
 },
 "nbformat": 4,
 "nbformat_minor": 5
}

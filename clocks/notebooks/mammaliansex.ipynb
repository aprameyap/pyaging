{
 "cells": [
  {
   "cell_type": "markdown",
   "id": "2f04eee0-5928-4e74-a754-6dc2e528810c",
   "metadata": {},
   "source": [
    "# MammalianSex"
   ]
  },
  {
   "cell_type": "markdown",
   "id": "a3f514a3-772c-4a14-afdf-5a8376851ff4",
   "metadata": {},
   "source": [
    "## Index\n",
    "1. [Define required clock parameters](#Define-required-clock-parameters)\n",
    "2. [Download necessary data](#Download-necessary-data)\n",
    "3. [Load data](#-Load-data)\n",
    "4. [Extract features and weights](#Extract-features-and-weights)\n",
    "5. [Load weights into pyaging model](#Load-weights-into-pyaging-model)\n",
    "6. [Add reference values](#Add-reference-values)\n",
    "7. [Add preprocessing and postprocesssing steps](#Add-preprocessing-and-postprocesssing-steps)\n",
    "8. [Check all data objects](#Check-all-data-objects)\n",
    "9. [Write clock dictionary](#Write-clock-dictionary)\n",
    "10. [Clear directory](#Clear-directory)"
   ]
  },
  {
   "cell_type": "markdown",
   "id": "d95fafdc-643a-40ea-a689-200bd132e90c",
   "metadata": {},
   "source": [
    "Let's first import some packages:"
   ]
  },
  {
   "cell_type": "code",
   "execution_count": 1,
   "id": "4adfb4de-cd79-4913-a1af-9e23e9e236c9",
   "metadata": {},
   "outputs": [],
   "source": [
    "import os\n",
    "import marshal\n",
    "import shutil\n",
    "import json\n",
    "import torch\n",
    "import pandas as pd\n",
    "import pyaging as pya"
   ]
  },
  {
   "cell_type": "markdown",
   "id": "c8c0c937-d9b6-4756-99b0-91de591220e0",
   "metadata": {},
   "source": [
    "## Define required clock parameters"
   ]
  },
  {
   "cell_type": "markdown",
   "id": "cf95ddca-625e-4c70-a246-c3cb12df96f8",
   "metadata": {},
   "source": [
    "Let's define some required information first:"
   ]
  },
  {
   "cell_type": "code",
   "execution_count": 2,
   "id": "5281776d-0549-445f-beec-39c31ec7dbe1",
   "metadata": {},
   "outputs": [],
   "source": [
    "clock_name = 'mammaliansex'\n",
    "data_type = 'methylation'\n",
    "model_class = 'LinearModel'\n",
    "species = 'multi'\n",
    "year = 2023\n",
    "approved_by_author = '⌛'\n",
    "citation = \"Li, Caesar Z., et al. \\\"Epigenetic predictors of species maximum lifespan and other life history traits in mammals.\\\" bioRxiv (2023): 2023-11.\"\n",
    "doi = \"https://doi.org/10.1101/2023.11.02.565286\"\n",
    "notes = \"An output of 1 is female and 0, male.\""
   ]
  },
  {
   "cell_type": "markdown",
   "id": "4520c8cb-6c1f-4490-ba4c-6fe78ef002a7",
   "metadata": {},
   "source": [
    "## Download necessary data"
   ]
  },
  {
   "cell_type": "markdown",
   "id": "4ccae25e-7d7f-45da-8e8a-064a66dc52fa",
   "metadata": {},
   "source": [
    "#### Download GitHub repository"
   ]
  },
  {
   "cell_type": "code",
   "execution_count": 3,
   "id": "a2a5b60e-ff7f-4b24-b1c6-61cda8948310",
   "metadata": {},
   "outputs": [
    {
     "data": {
      "text/plain": [
       "0"
      ]
     },
     "execution_count": 3,
     "metadata": {},
     "output_type": "execute_result"
    }
   ],
   "source": [
    "github_url = \"https://github.com/caeseriousli/MammalianMethylationPredictors.git\"\n",
    "github_folder_name = github_url.split('/')[-1].split('.')[0]\n",
    "os.system(f\"git clone {github_url}\")"
   ]
  },
  {
   "cell_type": "markdown",
   "id": "35615b62-73ac-40b1-8bc1-e904403eb0ae",
   "metadata": {},
   "source": [
    "## Load data"
   ]
  },
  {
   "cell_type": "markdown",
   "id": "232eb94a-04a7-4ac4-ae3e-0e365b443a8e",
   "metadata": {},
   "source": [
    "#### From CSV file"
   ]
  },
  {
   "cell_type": "code",
   "execution_count": 4,
   "id": "45fbc051-f0d2-4b25-9813-ae126f6fedcb",
   "metadata": {},
   "outputs": [],
   "source": [
    "df = pd.read_csv('MammalianMethylationPredictors/Predictors/FemalePredictor_Overlap320K40K.csv')"
   ]
  },
  {
   "cell_type": "markdown",
   "id": "60c676db-2c7c-4c04-9457-97bccd598269",
   "metadata": {},
   "source": [
    "## Extract features and weights"
   ]
  },
  {
   "cell_type": "markdown",
   "id": "87dfda00-5182-4416-8eb1-de91ce2a9e48",
   "metadata": {},
   "source": [
    "First, let's extract the features and weights:"
   ]
  },
  {
   "cell_type": "code",
   "execution_count": 5,
   "id": "e1d1dd13-65ac-4694-8948-3cd94bc19fe1",
   "metadata": {},
   "outputs": [
    {
     "data": {
      "text/html": [
       "<div>\n",
       "<style scoped>\n",
       "    .dataframe tbody tr th:only-of-type {\n",
       "        vertical-align: middle;\n",
       "    }\n",
       "\n",
       "    .dataframe tbody tr th {\n",
       "        vertical-align: top;\n",
       "    }\n",
       "\n",
       "    .dataframe thead th {\n",
       "        text-align: right;\n",
       "    }\n",
       "</style>\n",
       "<table border=\"1\" class=\"dataframe\">\n",
       "  <thead>\n",
       "    <tr style=\"text-align: right;\">\n",
       "      <th></th>\n",
       "      <th>RegressionCoefficient</th>\n",
       "      <th>CpG</th>\n",
       "      <th>feature</th>\n",
       "      <th>coefficient</th>\n",
       "    </tr>\n",
       "  </thead>\n",
       "  <tbody>\n",
       "    <tr>\n",
       "      <th>0</th>\n",
       "      <td>0.706358</td>\n",
       "      <td>(Intercept)</td>\n",
       "      <td>(Intercept)</td>\n",
       "      <td>0.706358</td>\n",
       "    </tr>\n",
       "    <tr>\n",
       "      <th>1</th>\n",
       "      <td>-3.721911</td>\n",
       "      <td>cg00563016</td>\n",
       "      <td>cg00563016</td>\n",
       "      <td>-3.721911</td>\n",
       "    </tr>\n",
       "    <tr>\n",
       "      <th>2</th>\n",
       "      <td>0.000396</td>\n",
       "      <td>cg00878023</td>\n",
       "      <td>cg00878023</td>\n",
       "      <td>0.000396</td>\n",
       "    </tr>\n",
       "    <tr>\n",
       "      <th>3</th>\n",
       "      <td>0.169440</td>\n",
       "      <td>cg01042193</td>\n",
       "      <td>cg01042193</td>\n",
       "      <td>0.169440</td>\n",
       "    </tr>\n",
       "    <tr>\n",
       "      <th>4</th>\n",
       "      <td>-0.317032</td>\n",
       "      <td>cg01145947</td>\n",
       "      <td>cg01145947</td>\n",
       "      <td>-0.317032</td>\n",
       "    </tr>\n",
       "  </tbody>\n",
       "</table>\n",
       "</div>"
      ],
      "text/plain": [
       "   RegressionCoefficient          CpG      feature  coefficient\n",
       "0               0.706358  (Intercept)  (Intercept)     0.706358\n",
       "1              -3.721911   cg00563016   cg00563016    -3.721911\n",
       "2               0.000396   cg00878023   cg00878023     0.000396\n",
       "3               0.169440   cg01042193   cg01042193     0.169440\n",
       "4              -0.317032   cg01145947   cg01145947    -0.317032"
      ]
     },
     "execution_count": 5,
     "metadata": {},
     "output_type": "execute_result"
    }
   ],
   "source": [
    "df['feature'] = df['CpG']\n",
    "df['coefficient'] = df['RegressionCoefficient']\n",
    "df = df[df.RegressionCoefficient != 0]\n",
    "\n",
    "df.head()"
   ]
  },
  {
   "cell_type": "markdown",
   "id": "5ac5b42a-3bd9-49d3-b84e-79d236af24b4",
   "metadata": {},
   "source": [
    "Then, let's create lists for features and weights. Be careful about the intercept, as it usually shows up as a feature name."
   ]
  },
  {
   "cell_type": "code",
   "execution_count": 6,
   "id": "2fc06bb5-7e9c-46fd-9843-31880f1d3788",
   "metadata": {},
   "outputs": [],
   "source": [
    "features = df['feature'][1:].tolist()\n",
    "weights = torch.tensor(df['coefficient'][1:].tolist()).unsqueeze(0)\n",
    "intercept = torch.tensor([df['coefficient'][0]])"
   ]
  },
  {
   "cell_type": "markdown",
   "id": "d193ccbf-d06b-49bb-ad4b-ffe3271dea63",
   "metadata": {},
   "source": [
    "## Load weights into pyaging model"
   ]
  },
  {
   "cell_type": "markdown",
   "id": "4350119a-4bd4-4efa-85b5-9de70fdf496f",
   "metadata": {},
   "source": [
    "#### Linear model"
   ]
  },
  {
   "cell_type": "code",
   "execution_count": 7,
   "id": "7354c541-5af9-447d-a339-2cb88c253b41",
   "metadata": {},
   "outputs": [
    {
     "data": {
      "text/plain": [
       "LinearModel(\n",
       "  (linear): Linear(in_features=101, out_features=1, bias=True)\n",
       ")"
      ]
     },
     "execution_count": 7,
     "metadata": {},
     "output_type": "execute_result"
    }
   ],
   "source": [
    "model = pya.models.LinearModel(input_dim=len(features))\n",
    "\n",
    "model.linear.weight.data = weights.float()\n",
    "model.linear.bias.data = intercept.float()\n",
    "\n",
    "model"
   ]
  },
  {
   "cell_type": "markdown",
   "id": "06adc9d8-cec2-447d-8d0b-e2819d4c1a5b",
   "metadata": {},
   "source": [
    "## Add reference values"
   ]
  },
  {
   "cell_type": "markdown",
   "id": "84bf0205-f976-497b-a6a9-e4945c05cdb3",
   "metadata": {},
   "source": [
    "Some clocks have reference values in the case of missing features. It is also possible that these values are for preprocessing features rather than the clock features. Let's add a dictionary with the feature names as the keys."
   ]
  },
  {
   "cell_type": "code",
   "execution_count": 8,
   "id": "250dd50d-a175-45f3-913b-da87c50cb55c",
   "metadata": {},
   "outputs": [],
   "source": [
    "reference_feature_values = None"
   ]
  },
  {
   "cell_type": "markdown",
   "id": "c9b4fd10-797c-45bd-aa1a-65aed1deaf1c",
   "metadata": {},
   "source": [
    "## Add preprocessing and postprocesssing steps"
   ]
  },
  {
   "cell_type": "markdown",
   "id": "20649dc9-2b58-4c63-a48e-f8d7a4bb520b",
   "metadata": {},
   "source": [
    "The preprocessing and postprocessing objects are dictionaries with the following format, with all items required. It takes in x in the form of a numpy array."
   ]
  },
  {
   "cell_type": "code",
   "execution_count": 9,
   "id": "1d173005-fb63-43d5-bd9f-0b4fa2e240b1",
   "metadata": {},
   "outputs": [],
   "source": [
    "preprocessing = None"
   ]
  },
  {
   "cell_type": "markdown",
   "id": "3ca747b4-0214-40a1-a7bf-fbf2a71084af",
   "metadata": {},
   "source": [
    "Similarly is the case of postprocessing. Remember that your function must be compatible with torch and is applied to each number individually."
   ]
  },
  {
   "cell_type": "code",
   "execution_count": 10,
   "id": "6fe37a2c-113a-4517-91e4-10a4e8b2005a",
   "metadata": {},
   "outputs": [],
   "source": [
    "def postprocessing_function(x):\n",
    "    \"\"\"\n",
    "    Applies an sigmoid transformation to a PyTorch tensor.\n",
    "    \"\"\"\n",
    "    sex = math.exp(x)/(1+math.exp(x))\n",
    "    return sex\n",
    "    \n",
    "postprocessing_function_string = marshal.dumps(postprocessing_function.__code__)\n",
    "\n",
    "postprocessing_helper_objects = None\n",
    "\n",
    "postprocessing = {\n",
    "    'name': 'sigmoid',\n",
    "    'postprocessing_function': postprocessing_function_string,\n",
    "    'postprocessing_helper_objects': postprocessing_helper_objects\n",
    "}"
   ]
  },
  {
   "cell_type": "markdown",
   "id": "518c0a26-2892-4b12-be4a-ffe65d0e814b",
   "metadata": {},
   "source": [
    "## Check all data objects"
   ]
  },
  {
   "cell_type": "markdown",
   "id": "f15ad92e-c5f5-40b4-99ee-38d4a79d0e95",
   "metadata": {},
   "source": [
    "Let's print all data objects to check if they make sense."
   ]
  },
  {
   "cell_type": "markdown",
   "id": "7a8747a2-2c11-4db3-b25d-d87a3b4b126d",
   "metadata": {},
   "source": [
    "#### features"
   ]
  },
  {
   "cell_type": "code",
   "execution_count": 11,
   "id": "bf047bed-52f0-4a64-9691-4c04df9f50ec",
   "metadata": {},
   "outputs": [
    {
     "data": {
      "text/html": [
       "\n",
       "    <div style=\"overflow-x: scroll; overflow-y: scroll; border: 1px solid black; background-color: white; !important; color: black; !important;\">\n",
       "        <pre>There are 101 features.\n",
       "['cg00563016', 'cg00878023', 'cg01042193', 'cg01145947', 'cg02053792', 'cg02407848', 'cg02812647', 'cg03039483', 'cg03341064', 'cg03860580', 'cg04272551', 'cg04423201', 'cg04487404', 'cg04493740', 'cg05218225', 'cg05848491', 'cg05901294', 'cg06332339', 'cg06758827', 'cg07121495', 'cg07597118', 'cg07998710', 'cg08162897', 'cg08955338', 'cg09509790', 'cg09658710', 'cg09824710', 'cg10723970', 'cg10730492', 'cg10743840', 'cg10771391', 'cg10834417', 'cg10866847', 'cg10876267', 'cg10926100', 'cg11017316', 'cg11108049', 'cg11144628', 'cg11219763', 'cg11338199', 'cg11632076', 'cg11756104', 'cg11820374', 'cg11921156', 'cg11992145', 'cg12449245', 'cg12452211', 'cg12727607', 'cg13324140', 'cg13786262', 'cg14052760', 'cg14064981', 'cg14397701', 'cg14859805', 'cg15129042', 'cg15281901', 'cg15336560', 'cg15417124', 'cg15451847', 'cg15813523', 'cg15913680', 'cg16050082', 'cg16372141', 'cg16602490', 'cg17184510', 'cg17355765', 'cg18230857', 'cg18798512', 'cg19061675', 'cg19104850', 'cg19117097', 'cg19171923', 'cg19303255', 'cg19532953', 'cg19716713', 'cg19822981', 'cg20728571', 'cg21026697', 'cg21140729', 'cg21172274', 'cg21650422', 'cg21657265', 'cg22205400', 'cg22369254', 'cg23108121', 'cg23441040', 'cg23925713', 'cg24156613', 'cg24280720', 'cg24625070', 'cg24667177', 'cg25310556', 'cg25467897', 'cg25882973', 'cg26179428', 'cg26363341', 'cg26399970', 'cg26448296', 'cg26569020', 'cg27217092', 'cg27350144']\n",
       "</pre>\n",
       "    </div>\n",
       "    "
      ],
      "text/plain": [
       "<IPython.core.display.HTML object>"
      ]
     },
     "metadata": {},
     "output_type": "display_data"
    }
   ],
   "source": [
    "def my_print_function():\n",
    "    print(f\"There are {len(features)} features.\")\n",
    "    print(features)\n",
    "pya.utils.print_to_scrollable_output(my_print_function)"
   ]
  },
  {
   "cell_type": "markdown",
   "id": "2b8e6dad-6dd3-42ed-afef-2b702f3914c5",
   "metadata": {},
   "source": [
    "#### reference_feature_values"
   ]
  },
  {
   "cell_type": "code",
   "execution_count": 12,
   "id": "6436fd01-0a8e-41a5-b584-2c020136ff97",
   "metadata": {},
   "outputs": [
    {
     "data": {
      "text/html": [
       "\n",
       "    <div style=\"overflow-x: scroll; overflow-y: scroll; border: 1px solid black; background-color: white; !important; color: black; !important;\">\n",
       "        <pre>None\n",
       "</pre>\n",
       "    </div>\n",
       "    "
      ],
      "text/plain": [
       "<IPython.core.display.HTML object>"
      ]
     },
     "metadata": {},
     "output_type": "display_data"
    }
   ],
   "source": [
    "def my_print_function():\n",
    "    if reference_feature_values:\n",
    "        print(f\"There are {len(reference_feature_values)} reference feature values.\")\n",
    "    print(reference_feature_values)\n",
    "pya.utils.print_to_scrollable_output(my_print_function)"
   ]
  },
  {
   "cell_type": "markdown",
   "id": "94244d02-0857-46dc-8709-faef0a0edc4f",
   "metadata": {},
   "source": [
    "#### preprocessing"
   ]
  },
  {
   "cell_type": "code",
   "execution_count": 13,
   "id": "960c5ede-3175-4192-a358-bf5ccb41074f",
   "metadata": {},
   "outputs": [
    {
     "data": {
      "text/html": [
       "\n",
       "    <div style=\"overflow-x: scroll; overflow-y: scroll; border: 1px solid black; background-color: white; !important; color: black; !important;\">\n",
       "        <pre>None\n",
       "</pre>\n",
       "    </div>\n",
       "    "
      ],
      "text/plain": [
       "<IPython.core.display.HTML object>"
      ]
     },
     "metadata": {},
     "output_type": "display_data"
    }
   ],
   "source": [
    "def my_print_function():\n",
    "    print(preprocessing)\n",
    "    if preprocessing:\n",
    "        print(preprocessing_helper_objects)\n",
    "pya.utils.print_to_scrollable_output(my_print_function)"
   ]
  },
  {
   "cell_type": "markdown",
   "id": "251d79b0-6f25-40fa-8f30-2cf87f9bd9ab",
   "metadata": {},
   "source": [
    "#### postprocessing"
   ]
  },
  {
   "cell_type": "code",
   "execution_count": 14,
   "id": "40fe1f52-ad50-4b84-89c7-c5d1d3fff139",
   "metadata": {},
   "outputs": [
    {
     "data": {
      "text/html": [
       "\n",
       "    <div style=\"overflow-x: scroll; overflow-y: scroll; border: 1px solid black; background-color: white; !important; color: black; !important;\">\n",
       "        <pre>{'name': 'sigmoid', 'postprocessing_function': b'\\xe3\\x01\\x00\\x00\\x00\\x00\\x00\\x00\\x00\\x00\\x00\\x00\\x00\\x02\\x00\\x00\\x00\\x05\\x00\\x00\\x00C\\x00\\x00\\x00s\\x1c\\x00\\x00\\x00t\\x00\\xa0\\x01|\\x00\\xa1\\x01d\\x01t\\x00\\xa0\\x01|\\x00\\xa1\\x01\\x17\\x00\\x1b\\x00}\\x01|\\x01S\\x00)\\x02\\xfa@\\n    Applies an sigmoid transformation to a PyTorch tensor.\\n    \\xe9\\x01\\x00\\x00\\x00)\\x02\\xda\\x04math\\xda\\x03exp)\\x02\\xda\\x01x\\xda\\x03sex\\xa9\\x00r\\x07\\x00\\x00\\x00\\xfa\\x1f<ipython-input-10-ae3d6e27de27>\\xda\\x17postprocessing_function\\x01\\x00\\x00\\x00s\\x04\\x00\\x00\\x00\\x00\\x04\\x18\\x01', 'postprocessing_helper_objects': None}\n",
       "{'name': 'sigmoid', 'postprocessing_function': b'\\xe3\\x01\\x00\\x00\\x00\\x00\\x00\\x00\\x00\\x00\\x00\\x00\\x00\\x02\\x00\\x00\\x00\\x05\\x00\\x00\\x00C\\x00\\x00\\x00s\\x1c\\x00\\x00\\x00t\\x00\\xa0\\x01|\\x00\\xa1\\x01d\\x01t\\x00\\xa0\\x01|\\x00\\xa1\\x01\\x17\\x00\\x1b\\x00}\\x01|\\x01S\\x00)\\x02\\xfa@\\n    Applies an sigmoid transformation to a PyTorch tensor.\\n    \\xe9\\x01\\x00\\x00\\x00)\\x02\\xda\\x04math\\xda\\x03exp)\\x02\\xda\\x01x\\xda\\x03sex\\xa9\\x00r\\x07\\x00\\x00\\x00\\xfa\\x1f<ipython-input-10-ae3d6e27de27>\\xda\\x17postprocessing_function\\x01\\x00\\x00\\x00s\\x04\\x00\\x00\\x00\\x00\\x04\\x18\\x01', 'postprocessing_helper_objects': None}\n",
       "</pre>\n",
       "    </div>\n",
       "    "
      ],
      "text/plain": [
       "<IPython.core.display.HTML object>"
      ]
     },
     "metadata": {},
     "output_type": "display_data"
    }
   ],
   "source": [
    "def my_print_function():\n",
    "    print(postprocessing)\n",
    "    if postprocessing:\n",
    "        print(postprocessing)\n",
    "pya.utils.print_to_scrollable_output(my_print_function)"
   ]
  },
  {
   "cell_type": "markdown",
   "id": "74ed7b42-e909-44ef-a66e-1dd0cdea6351",
   "metadata": {},
   "source": [
    "#### weight_dict"
   ]
  },
  {
   "cell_type": "code",
   "execution_count": 15,
   "id": "658317e5-44bd-4621-877c-5db57494c968",
   "metadata": {},
   "outputs": [
    {
     "data": {
      "text/html": [
       "\n",
       "    <div style=\"overflow-x: scroll; overflow-y: scroll; border: 1px solid black; background-color: white; !important; color: black; !important;\">\n",
       "        <pre>Layer: linear.weight\n",
       "Shape: torch.Size([1, 101])\n",
       "tensor([[-3.7219e+00,  3.9567e-04,  1.6944e-01, -3.1703e-01,  9.0901e-02,\n",
       "          1.4698e+00,  3.4378e-01,  3.7200e-01,  2.4825e-01, -5.7065e-01,\n",
       "         -1.2420e+00, -6.0320e-01,  2.9660e-01,  4.9360e-01,  1.3543e+00,\n",
       "         -5.1202e-01, -1.0713e+00,  4.0443e-01,  9.1752e-02, -3.9249e-01,\n",
       "          1.0923e-02,  4.3334e-04, -1.2557e+00,  5.0575e-01,  8.7685e-01,\n",
       "         -1.2605e-01,  7.8481e-01, -2.1257e+00,  3.0083e-01, -1.4512e-02,\n",
       "          8.9155e-01,  3.2453e-02,  1.6578e-02, -3.6797e-01,  1.2835e-01,\n",
       "         -2.1246e-01, -1.0997e+00, -1.1474e+00,  1.3362e+00,  2.9334e-01,\n",
       "          1.2265e-01,  7.9906e-01, -4.8993e-01, -1.5666e-01, -3.9182e-01,\n",
       "          4.2653e-01,  6.4415e-02,  4.4717e-01,  9.4341e-02,  7.2617e-02,\n",
       "          1.2657e-01,  5.0395e-01, -8.2902e-01,  3.9229e-01,  5.5862e-01,\n",
       "          5.9992e-01,  5.9923e-01,  1.5537e+00, -3.1913e-01,  8.0270e-01,\n",
       "         -8.2948e-01,  3.0790e-01,  9.8086e-01,  2.6271e-01, -2.9580e+00,\n",
       "          7.2604e-01, -1.3429e-01,  3.2038e-01,  1.5745e-01, -2.3782e-01,\n",
       "          3.8613e-01, -1.2736e-01,  6.9463e-01,  6.7381e-01,  1.0473e-01,\n",
       "          9.6225e-01,  1.1218e-01, -4.5492e-01,  4.7291e-01,  1.2756e+00,\n",
       "         -7.0099e-01,  7.1489e-03, -9.1070e-01, -2.7240e-01,  4.4524e-01,\n",
       "          1.7540e-01,  7.0895e-02, -2.3469e-02, -2.3144e+00,  6.7824e-02,\n",
       "         -1.7159e+00,  7.0011e-01, -1.6833e-01,  1.5574e-03, -3.9772e-01,\n",
       "          1.2255e+00,  9.2244e-02,  1.3533e+00, -7.8273e-01,  2.0846e-01,\n",
       "          1.3533e-02]])\n",
       "Layer: linear.bias\n",
       "Shape: torch.Size([1])\n",
       "tensor([0.7064])\n",
       "</pre>\n",
       "    </div>\n",
       "    "
      ],
      "text/plain": [
       "<IPython.core.display.HTML object>"
      ]
     },
     "metadata": {},
     "output_type": "display_data"
    }
   ],
   "source": [
    "def my_print_function():\n",
    "    for name, param in model.named_parameters():\n",
    "        print(f\"Layer: {name}\")\n",
    "        print(f\"Shape: {param.shape}\")\n",
    "        print(param.data)\n",
    "pya.utils.print_to_scrollable_output(my_print_function)"
   ]
  },
  {
   "cell_type": "markdown",
   "id": "275815e5-5630-4163-bc61-7119a9c805c1",
   "metadata": {},
   "source": [
    "## Write clock dictionary"
   ]
  },
  {
   "cell_type": "markdown",
   "id": "3b176620-afb5-403c-9948-07639072bb44",
   "metadata": {},
   "source": [
    "Let's put everything together and save:"
   ]
  },
  {
   "cell_type": "code",
   "execution_count": 16,
   "id": "35d00b76-513d-4d8f-8824-6d810ee9d8f5",
   "metadata": {},
   "outputs": [],
   "source": [
    "clock_dict = {\n",
    "    # Metadata\n",
    "    'clock_name': clock_name,\n",
    "    'data_type': data_type,\n",
    "    'model_class': model_class,\n",
    "    'species': species,\n",
    "    'year': year,\n",
    "    'approved_by_author': approved_by_author,\n",
    "    'citation': citation,\n",
    "    'doi': doi,\n",
    "    \"notes\": notes,\n",
    "\n",
    "    # Data\n",
    "    'reference_feature_values': reference_feature_values if reference_feature_values else None,\n",
    "    'preprocessing': preprocessing if preprocessing else None, \n",
    "    'features': features,\n",
    "    'weight_dict': model.state_dict(),\n",
    "    'postprocessing': postprocessing if postprocessing else None,\n",
    "}\n",
    "\n",
    "torch.save(clock_dict, f'../weights/{clock_name}.pt')"
   ]
  },
  {
   "cell_type": "markdown",
   "id": "c1dd2efe-2bd6-4e1b-92ee-d110c25ad29c",
   "metadata": {},
   "source": [
    "## Clear directory"
   ]
  },
  {
   "cell_type": "markdown",
   "id": "158aa71f-7bbc-4c52-b7ef-16ba45d5e1fd",
   "metadata": {},
   "source": [
    "Delete all files that are not clock jupyter notebooks:"
   ]
  },
  {
   "cell_type": "code",
   "execution_count": 17,
   "id": "db4bd42b-c62f-4557-9ebc-d8194a240137",
   "metadata": {},
   "outputs": [
    {
     "name": "stdout",
     "output_type": "stream",
     "text": [
      "Deleted folder: MammalianMethylationPredictors\n",
      "Deleted folder: .ipynb_checkpoints\n"
     ]
    }
   ],
   "source": [
    "# Function to remove a folder and all its contents\n",
    "def remove_folder(path):\n",
    "    try:\n",
    "        shutil.rmtree(path)\n",
    "        print(f\"Deleted folder: {path}\")\n",
    "    except Exception as e:\n",
    "        print(f\"Error deleting folder {path}: {e}\")\n",
    "\n",
    "# Get a list of all files and folders in the current directory\n",
    "all_items = os.listdir('.')\n",
    "\n",
    "# Loop through the items\n",
    "for item in all_items:\n",
    "    # Check if it's a file and does not end with .ipynb\n",
    "    if os.path.isfile(item) and not item.endswith('.ipynb'):\n",
    "        os.remove(item)\n",
    "        print(f\"Deleted file: {item}\")\n",
    "    # Check if it's a folder\n",
    "    elif os.path.isdir(item):\n",
    "        remove_folder(item)"
   ]
  }
 ],
 "metadata": {
  "kernelspec": {
   "display_name": "Python 3",
   "language": "python",
   "name": "python3"
  },
  "language_info": {
   "codemirror_mode": {
    "name": "ipython",
    "version": 3
   },
   "file_extension": ".py",
   "mimetype": "text/x-python",
   "name": "python",
   "nbconvert_exporter": "python",
   "pygments_lexer": "ipython3",
   "version": "3.9.17"
  }
 },
 "nbformat": 4,
 "nbformat_minor": 5
}

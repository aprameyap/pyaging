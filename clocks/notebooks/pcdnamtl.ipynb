{
 "cells": [
  {
   "cell_type": "markdown",
   "id": "2f04eee0-5928-4e74-a754-6dc2e528810c",
   "metadata": {},
   "source": [
    "# PCDNAmTL"
   ]
  },
  {
   "cell_type": "markdown",
   "id": "a3f514a3-772c-4a14-afdf-5a8376851ff4",
   "metadata": {},
   "source": [
    "## Index\n",
    "1. [Instantiate model class](#Instantiate-model-class)\n",
    "2. [Define clock metadata](#Define-clock-metadata)\n",
    "3. [Download clock dependencies](#Download-clock-dependencies)\n",
    "5. [Load features](#Load-features)\n",
    "6. [Load weights into base model](#Load-weights-into-base-model)\n",
    "7. [Load reference values](#Load-reference-values)\n",
    "8. [Load preprocess and postprocess objects](#Load-preprocess-and-postprocess-objects)\n",
    "10. [Check all clock parameters](#Check-all-clock-parameters)\n",
    "10. [Basic test](#Basic-test)\n",
    "11. [Save torch model](#Save-torch-model)\n",
    "12. [Clear directory](#Clear-directory)"
   ]
  },
  {
   "cell_type": "markdown",
   "id": "d95fafdc-643a-40ea-a689-200bd132e90c",
   "metadata": {},
   "source": [
    "Let's first import some packages:"
   ]
  },
  {
   "cell_type": "code",
   "execution_count": 1,
   "id": "4adfb4de-cd79-4913-a1af-9e23e9e236c9",
   "metadata": {
    "execution": {
     "iopub.execute_input": "2024-01-21T18:16:49.519469Z",
     "iopub.status.busy": "2024-01-21T18:16:49.518942Z",
     "iopub.status.idle": "2024-01-21T18:16:51.128926Z",
     "shell.execute_reply": "2024-01-21T18:16:51.128607Z"
    }
   },
   "outputs": [],
   "source": [
    "import os\n",
    "import inspect\n",
    "import shutil\n",
    "import json\n",
    "import torch\n",
    "import pandas as pd\n",
    "import pyaging as pya"
   ]
  },
  {
   "cell_type": "markdown",
   "id": "145082e5-ced4-47ae-88c0-cb69773e3c5a",
   "metadata": {},
   "source": [
    "## Instantiate model class"
   ]
  },
  {
   "cell_type": "code",
   "execution_count": 2,
   "id": "8aa77372-7ed3-4da7-abc9-d30372106139",
   "metadata": {
    "execution": {
     "iopub.execute_input": "2024-01-21T18:16:51.130901Z",
     "iopub.status.busy": "2024-01-21T18:16:51.130720Z",
     "iopub.status.idle": "2024-01-21T18:16:51.139121Z",
     "shell.execute_reply": "2024-01-21T18:16:51.138826Z"
    }
   },
   "outputs": [
    {
     "name": "stdout",
     "output_type": "stream",
     "text": [
      "class PCDNAmTL(pyagingModel):\n",
      "    def __init__(self):\n",
      "        super().__init__()\n",
      "\n",
      "    def preprocess(self, x):\n",
      "        return x\n",
      "\n",
      "    def postprocess(self, x):\n",
      "        return x\n",
      "\n"
     ]
    }
   ],
   "source": [
    "def print_entire_class(cls):\n",
    "    source = inspect.getsource(cls)\n",
    "    print(source)\n",
    "\n",
    "print_entire_class(pya.models.PCDNAmTL)"
   ]
  },
  {
   "cell_type": "code",
   "execution_count": 3,
   "id": "78536494-f1d9-44de-8583-c89a310d2307",
   "metadata": {
    "execution": {
     "iopub.execute_input": "2024-01-21T18:16:51.140556Z",
     "iopub.status.busy": "2024-01-21T18:16:51.140473Z",
     "iopub.status.idle": "2024-01-21T18:16:51.142036Z",
     "shell.execute_reply": "2024-01-21T18:16:51.141801Z"
    }
   },
   "outputs": [],
   "source": [
    "model = pya.models.PCDNAmTL()"
   ]
  },
  {
   "cell_type": "markdown",
   "id": "51f8615e-01fa-4aa5-b196-3ee2b35d261c",
   "metadata": {},
   "source": [
    "## Define clock metadata"
   ]
  },
  {
   "cell_type": "code",
   "execution_count": 4,
   "id": "6601da9e-8adc-44ee-9308-75e3cd31b816",
   "metadata": {
    "execution": {
     "iopub.execute_input": "2024-01-21T18:16:51.143458Z",
     "iopub.status.busy": "2024-01-21T18:16:51.143376Z",
     "iopub.status.idle": "2024-01-21T18:16:51.145228Z",
     "shell.execute_reply": "2024-01-21T18:16:51.144995Z"
    }
   },
   "outputs": [],
   "source": [
    "model.metadata[\"clock_name\"] = 'pcdnamtl'\n",
    "model.metadata[\"data_type\"] = 'methylation'\n",
    "model.metadata[\"species\"] = 'Homo sapiens'\n",
    "model.metadata[\"year\"] = 2022\n",
    "model.metadata[\"approved_by_author\"] = '⌛'\n",
    "model.metadata[\"citation\"] = \"Higgins-Chen, Albert T., et al. \\\"A computational solution for bolstering reliability of epigenetic clocks: Implications for clinical trials and longitudinal tracking.\\\" Nature aging 2.7 (2022): 644-661.\"\n",
    "model.metadata[\"doi\"] = \"https://doi.org/10.1038/s43587-022-00248-2\"\n",
    "model.metadata[\"notes\"] = None"
   ]
  },
  {
   "cell_type": "markdown",
   "id": "74492239-5aae-4026-9d90-6bc9c574c110",
   "metadata": {},
   "source": [
    "## Download clock dependencies"
   ]
  },
  {
   "cell_type": "code",
   "execution_count": null,
   "id": "07e34d7f-dbf6-40d8-8462-9255272d49bc",
   "metadata": {},
   "outputs": [],
   "source": [
    "#download PCClock Rdata file from https://yale.app.box.com/s/kq0b0a7lxckxjvaz7x5n4keaug7tewry\n",
    "logger = pya.logger.Logger()\n",
    "url = \"https://pyaging.s3.amazonaws.com/supporting_files/CalcAllPCClocks.RData\"\n",
    "dir = \".\"\n",
    "pya.utils.download(url, dir, logger, indent_level=1)"
   ]
  },
  {
   "cell_type": "markdown",
   "id": "971ff75c-c5bf-4e8e-89d7-01861e9bc107",
   "metadata": {},
   "source": [
    "#### Download from R package"
   ]
  },
  {
   "cell_type": "code",
   "execution_count": 6,
   "id": "c2cfbee5-bcaf-46f0-a8d8-3b6150e09bf0",
   "metadata": {
    "execution": {
     "iopub.execute_input": "2024-01-21T18:22:35.666648Z",
     "iopub.status.busy": "2024-01-21T18:22:35.666257Z",
     "iopub.status.idle": "2024-01-21T18:22:35.673414Z",
     "shell.execute_reply": "2024-01-21T18:22:35.672767Z"
    }
   },
   "outputs": [
    {
     "name": "stdout",
     "output_type": "stream",
     "text": [
      "Writing download.r\n"
     ]
    }
   ],
   "source": [
    "%%writefile download.r\n",
    "\n",
    "library(dplyr)\n",
    "library(tibble)\n",
    "library(tidyr)\n",
    "library(jsonlite)\n",
    "\n",
    "load(file = \"CalcAllPCClocks.RData\")\n",
    "\n",
    "print(ls(all.names = TRUE))\n",
    "\n",
    "write_json(CalcPCDNAmTL, \"CalcPCDNAmTL.json\", digits = 10)\n",
    "write_json(CpGs, \"PCDNAmTLCpGs.json\")\n",
    "write_json(imputeMissingCpGs, \"PCDNAmTLReferenceCpGBetas.json\", digits = 10)"
   ]
  },
  {
   "cell_type": "code",
   "execution_count": 7,
   "id": "b71a6f03-61ba-462f-a2a6-a5df95e105ff",
   "metadata": {
    "execution": {
     "iopub.execute_input": "2024-01-21T18:22:35.677786Z",
     "iopub.status.busy": "2024-01-21T18:22:35.677435Z",
     "iopub.status.idle": "2024-01-21T18:23:52.219858Z",
     "shell.execute_reply": "2024-01-21T18:23:52.219019Z"
    }
   },
   "outputs": [
    {
     "data": {
      "text/plain": [
       "0"
      ]
     },
     "execution_count": 7,
     "metadata": {},
     "output_type": "execute_result"
    }
   ],
   "source": [
    "os.system(\"Rscript download.r\")"
   ]
  },
  {
   "cell_type": "markdown",
   "id": "a14c7fc1-abe5-42a3-8bc9-0987521ddf33",
   "metadata": {},
   "source": [
    "## Load features"
   ]
  },
  {
   "cell_type": "markdown",
   "id": "3e737582-3a28-4f55-8da9-3e34125362cc",
   "metadata": {},
   "source": [
    "#### From JSON file"
   ]
  },
  {
   "cell_type": "code",
   "execution_count": 8,
   "id": "97e5b47b-0599-4ec3-aab4-dcfe9d3e4515",
   "metadata": {
    "execution": {
     "iopub.execute_input": "2024-01-21T18:23:52.229340Z",
     "iopub.status.busy": "2024-01-21T18:23:52.229154Z",
     "iopub.status.idle": "2024-01-21T18:23:52.242053Z",
     "shell.execute_reply": "2024-01-21T18:23:52.241766Z"
    }
   },
   "outputs": [],
   "source": [
    "with open('PCDNAmTLCpGs.json', 'r') as f:\n",
    "    model.features = json.load(f)"
   ]
  },
  {
   "cell_type": "markdown",
   "id": "ee6d8fa0-4767-4c45-9717-eb1c95e2ddc0",
   "metadata": {},
   "source": [
    "## Load weights into base model"
   ]
  },
  {
   "cell_type": "markdown",
   "id": "de92ee28-39b1-4356-a734-6b28a20e7bfe",
   "metadata": {},
   "source": [
    "#### From JSON file"
   ]
  },
  {
   "cell_type": "code",
   "execution_count": 9,
   "id": "e09b3463-4fd4-41b1-ac21-e63ddd223fe0",
   "metadata": {
    "execution": {
     "iopub.execute_input": "2024-01-21T18:23:52.244907Z",
     "iopub.status.busy": "2024-01-21T18:23:52.244783Z",
     "iopub.status.idle": "2024-01-21T18:24:01.375415Z",
     "shell.execute_reply": "2024-01-21T18:24:01.375050Z"
    }
   },
   "outputs": [],
   "source": [
    "with open('CalcPCDNAmTL.json', 'r') as f:\n",
    "    weights_dict = json.load(f)\n",
    "\n",
    "weights = torch.tensor(weights_dict['model']).unsqueeze(0).float()\n",
    "intercept = torch.tensor(weights_dict['intercept']).float()\n",
    "center = torch.tensor(weights_dict['center']).float()\n",
    "rotation = torch.tensor(weights_dict['rotation']).float()"
   ]
  },
  {
   "cell_type": "markdown",
   "id": "a5fb949f-500a-49d0-a792-2a774b0de18f",
   "metadata": {},
   "source": [
    "#### PC linear model"
   ]
  },
  {
   "cell_type": "code",
   "execution_count": 10,
   "id": "b6e1baed-fb83-4b97-a2e7-c2f17254ca47",
   "metadata": {
    "execution": {
     "iopub.execute_input": "2024-01-21T18:24:01.377242Z",
     "iopub.status.busy": "2024-01-21T18:24:01.377121Z",
     "iopub.status.idle": "2024-01-21T18:24:01.385182Z",
     "shell.execute_reply": "2024-01-21T18:24:01.384798Z"
    }
   },
   "outputs": [],
   "source": [
    "base_model = pya.models.PCLinearModel(input_dim=len(model.features), pc_dim=rotation.shape[1])\n",
    "\n",
    "base_model.center.data = center.float()\n",
    "base_model.rotation.data = rotation.float()\n",
    "base_model.linear.weight.data = weights.float()\n",
    "base_model.linear.bias.data = intercept.float()\n",
    "\n",
    "model.base_model = base_model"
   ]
  },
  {
   "cell_type": "markdown",
   "id": "ad8b4c1d-9d57-48b7-9a30-bcfea7b747b1",
   "metadata": {},
   "source": [
    "## Load reference values"
   ]
  },
  {
   "cell_type": "markdown",
   "id": "93271aee-d045-45ba-b030-7ec8e57add42",
   "metadata": {},
   "source": [
    "#### From JSON file"
   ]
  },
  {
   "cell_type": "code",
   "execution_count": 11,
   "id": "2089b66f-9cc4-4528-9bdc-5e45efc6d06b",
   "metadata": {
    "execution": {
     "iopub.execute_input": "2024-01-21T18:24:01.387277Z",
     "iopub.status.busy": "2024-01-21T18:24:01.387161Z",
     "iopub.status.idle": "2024-01-21T18:24:01.395589Z",
     "shell.execute_reply": "2024-01-21T18:24:01.395280Z"
    }
   },
   "outputs": [],
   "source": [
    "with open('PCDNAmTLReferenceCpGBetas.json', 'r') as f:\n",
    "    reference_feature_values = json.load(f)\n",
    "model.reference_values = reference_feature_values"
   ]
  },
  {
   "cell_type": "markdown",
   "id": "af3bcf7b-74a8-4d21-9ccb-4de0c2b0516b",
   "metadata": {},
   "source": [
    "## Load preprocess and postprocess objects"
   ]
  },
  {
   "cell_type": "code",
   "execution_count": 12,
   "id": "7a22fb20-c605-424d-8efb-7620c2c0755c",
   "metadata": {
    "execution": {
     "iopub.execute_input": "2024-01-21T18:24:01.397546Z",
     "iopub.status.busy": "2024-01-21T18:24:01.397412Z",
     "iopub.status.idle": "2024-01-21T18:24:01.399073Z",
     "shell.execute_reply": "2024-01-21T18:24:01.398802Z"
    }
   },
   "outputs": [],
   "source": [
    "model.preprocess_name = None\n",
    "model.preprocess_dependencies = None"
   ]
  },
  {
   "cell_type": "code",
   "execution_count": 13,
   "id": "ff4a21cb-cf41-44dc-9ed1-95cf8aa15772",
   "metadata": {
    "execution": {
     "iopub.execute_input": "2024-01-21T18:24:01.400573Z",
     "iopub.status.busy": "2024-01-21T18:24:01.400476Z",
     "iopub.status.idle": "2024-01-21T18:24:01.402287Z",
     "shell.execute_reply": "2024-01-21T18:24:01.401906Z"
    }
   },
   "outputs": [],
   "source": [
    "model.postprocess_name = None\n",
    "model.postprocess_dependencies = None"
   ]
  },
  {
   "cell_type": "markdown",
   "id": "86e3d6b1-e67e-4f3d-bd39-0ebec5726c3c",
   "metadata": {},
   "source": [
    "## Check all clock parameters"
   ]
  },
  {
   "cell_type": "code",
   "execution_count": 14,
   "id": "2168355c-47d9-475d-b816-49f65e74887c",
   "metadata": {
    "execution": {
     "iopub.execute_input": "2024-01-21T18:24:01.404475Z",
     "iopub.status.busy": "2024-01-21T18:24:01.404344Z",
     "iopub.status.idle": "2024-01-21T18:24:01.409828Z",
     "shell.execute_reply": "2024-01-21T18:24:01.409581Z"
    }
   },
   "outputs": [
    {
     "name": "stdout",
     "output_type": "stream",
     "text": [
      "\n",
      "%==================================== Model Details ====================================%\n",
      "Model Attributes:\n",
      "\n",
      "training: True\n",
      "metadata: {'approved_by_author': '⌛',\n",
      " 'citation': 'Higgins-Chen, Albert T., et al. \"A computational solution for '\n",
      "             'bolstering reliability of epigenetic clocks: Implications for '\n",
      "             'clinical trials and longitudinal tracking.\" Nature aging 2.7 '\n",
      "             '(2022): 644-661.',\n",
      " 'clock_name': 'pcdnamtl',\n",
      " 'data_type': 'methylation',\n",
      " 'doi': 'https://doi.org/10.1038/s43587-022-00248-2',\n",
      " 'notes': None,\n",
      " 'species': 'Homo sapiens',\n",
      " 'version': None,\n",
      " 'year': 2022}\n",
      "reference_values: [0.82635363384, 0.18898814441, 0.72938889209, 0.8680421375, 0.090353927561, 0.0066895021761, 0.48924643338, 0.87262052546, 0.87955373232, 0.04847264273, 0.0093070979947, 0.16393676218, 0.058440936082, 0.18857484916, 0.58239394253, 0.86564960457, 0.58457176982, 0.82903550669, 0.065646928047, 0.8500055061, 0.79155429878, 0.83499889314, 0.7754384128, 0.0039641831799, 0.50570339787, 0.60547040884, 0.29093154314, 0.88154845595, 0.46844171936, 0.79205361021]... [Total elements: 78464]\n",
      "preprocess_name: None\n",
      "preprocess_dependencies: None\n",
      "postprocess_name: None\n",
      "postprocess_dependencies: None\n",
      "features: ['cg00000292', 'cg00000714', 'cg00001099', 'cg00001446', 'cg00001747', 'cg00002116', 'cg00002224', 'cg00002426', 'cg00002646', 'cg00002660', 'cg00002719', 'cg00002810', 'cg00003091', 'cg00003287', 'cg00003345', 'cg00003529', 'cg00003578', 'cg00003625', 'cg00003994', 'cg00004429', 'cg00004608', 'cg00004806', 'cg00005072', 'cg00005306', 'cg00005619', 'cg00005849', 'cg00006081', 'cg00006459', 'cg00007076', 'cg00007221']... [Total elements: 78464]\n",
      "base_model_features: None\n",
      "\n",
      "%==================================== Model Details ====================================%\n",
      "Model Structure:\n",
      "\n",
      "base_model: PCLinearModel(\n",
      "  (linear): Linear(in_features=598, out_features=1, bias=True)\n",
      ")\n",
      "\n",
      "%==================================== Model Details ====================================%\n",
      "Model Parameters and Weights:\n",
      "\n",
      "base_model.center: [0.8052302598953247, 0.18017764389514923, 0.7316451072692871, 0.8424648642539978, 0.09816480427980423, 0.02946575917303562, 0.4719793498516083, 0.8522981405258179, 0.8586591482162476, 0.06355271488428116, 0.05588531866669655, 0.1419440656900406, 0.055927883833646774, 0.19770769774913788, 0.5807257890701294, 0.8332509398460388, 0.5806705355644226, 0.8277810215950012, 0.0776563510298729, 0.8331976532936096, 0.7652954459190369, 0.807980477809906, 0.7726719379425049, 0.03210648521780968, 0.49826666712760925, 0.5388586521148682, 0.26504385471343994, 0.8373278379440308, 0.44017356634140015, 0.7763169407844543]... [Tensor of shape torch.Size([78464])]\n",
      "base_model.rotation: [0.002477406756952405, -0.0010729391360655427, 0.0022349627688527107, 0.004578224383294582, -0.002992750611156225, 0.0022738976404070854, -0.0005298839532770216, -0.00026715119020082057, -0.0002368289278820157, 0.0018220609053969383, 0.0006074461853131652, 0.0004887818940915167, -0.0017534642247483134, -0.0005582351004704833, 0.0015488245990127325, 0.0020646878983825445, 0.0037664822302758694, -0.00010059976921183988, -0.0015801334520801902, -0.002538461936637759, 0.0008639764855615795, 0.00029158469988033175, 0.00023785523080732673, -0.0018999595195055008, -0.0008729812107048929, 0.002466981764882803, -0.002185217570513487, 0.001142821041867137, 0.0006497130962088704, 0.001074211555533111]... [Tensor of shape torch.Size([78464, 598])]\n",
      "base_model.linear.weight: [0.029300235211849213, -0.04609266296029091, 0.02450183965265751, 0.01583261601626873, 0.04848414659500122, -0.056315574795007706, -0.0009003547020256519, -0.024040857329964638, 0.019012007862329483, 0.0014710112009197474, -0.01780042052268982, 0.1034836396574974, 0.015561497770249844, 0.027088770642876625, -0.08989907801151276, 0.02160358428955078, -0.017954019829630852, 0.05003052577376366, -0.038420092314481735, 0.02055496722459793, 0.006391878705471754, -0.007852035574615002, -0.001051983330398798, 0.002894297242164612, 0.03238001838326454, -0.013252204284071922, -0.003943934570997953, -0.004391353111714125, -0.030485106632113457, 0.0013454875443130732]... [Tensor of shape torch.Size([1, 598])]\n",
      "base_model.linear.bias: tensor([6.9730])\n",
      "\n",
      "%==================================== Model Details ====================================%\n",
      "\n"
     ]
    }
   ],
   "source": [
    "pya.utils.print_model_details(model)"
   ]
  },
  {
   "cell_type": "markdown",
   "id": "986d0262-e0c7-4036-b687-dee53ba392fb",
   "metadata": {},
   "source": [
    "## Basic test"
   ]
  },
  {
   "cell_type": "code",
   "execution_count": 15,
   "id": "936b9877-d076-4ced-99aa-e8d4c58c5caf",
   "metadata": {
    "execution": {
     "iopub.execute_input": "2024-01-21T18:24:01.411434Z",
     "iopub.status.busy": "2024-01-21T18:24:01.411347Z",
     "iopub.status.idle": "2024-01-21T18:24:01.524609Z",
     "shell.execute_reply": "2024-01-21T18:24:01.524299Z"
    }
   },
   "outputs": [
    {
     "data": {
      "text/plain": [
       "tensor([[7.9391],\n",
       "        [7.8708],\n",
       "        [7.6138],\n",
       "        [7.8926],\n",
       "        [7.6140],\n",
       "        [7.8358],\n",
       "        [7.8324],\n",
       "        [7.7156],\n",
       "        [7.9497],\n",
       "        [7.9776]], dtype=torch.float64, grad_fn=<AddmmBackward0>)"
      ]
     },
     "execution_count": 15,
     "metadata": {},
     "output_type": "execute_result"
    }
   ],
   "source": [
    "torch.manual_seed(42)\n",
    "input = torch.randn(10, len(model.features), dtype=float)\n",
    "model.eval()\n",
    "model.to(float)\n",
    "pred = model(input)\n",
    "pred"
   ]
  },
  {
   "cell_type": "markdown",
   "id": "fe8299d7-9285-4e22-82fd-b664434b4369",
   "metadata": {},
   "source": [
    "## Save torch model"
   ]
  },
  {
   "cell_type": "code",
   "execution_count": 16,
   "id": "5ef2fa8d-c80b-4fdd-8555-79c0d541788e",
   "metadata": {
    "execution": {
     "iopub.execute_input": "2024-01-21T18:24:01.526248Z",
     "iopub.status.busy": "2024-01-21T18:24:01.526151Z",
     "iopub.status.idle": "2024-01-21T18:24:02.067198Z",
     "shell.execute_reply": "2024-01-21T18:24:02.066862Z"
    }
   },
   "outputs": [],
   "source": [
    "torch.save(model, f\"../weights/{model.metadata['clock_name']}.pt\")"
   ]
  },
  {
   "cell_type": "markdown",
   "id": "bac6257b-8d08-4a90-8d0b-7f745dc11ac1",
   "metadata": {},
   "source": [
    "## Clear directory\n",
    "<a id=\"10\"></a>"
   ]
  },
  {
   "cell_type": "code",
   "execution_count": 17,
   "id": "11aeaa70-44c0-42f9-86d7-740e3849a7a6",
   "metadata": {
    "execution": {
     "iopub.execute_input": "2024-01-21T18:24:02.069276Z",
     "iopub.status.busy": "2024-01-21T18:24:02.069132Z",
     "iopub.status.idle": "2024-01-21T18:24:02.207732Z",
     "shell.execute_reply": "2024-01-21T18:24:02.207457Z"
    }
   },
   "outputs": [
    {
     "name": "stdout",
     "output_type": "stream",
     "text": [
      "Deleted file: PCDNAmTLReferenceCpGBetas.json\n",
      "Deleted file: CalcPCDNAmTL.json\n",
      "Deleted file: CalcAllPCClocks.RData\n",
      "Deleted file: download.r\n",
      "Deleted file: PCDNAmTLCpGs.json\n"
     ]
    }
   ],
   "source": [
    "# Function to remove a folder and all its contents\n",
    "def remove_folder(path):\n",
    "    try:\n",
    "        shutil.rmtree(path)\n",
    "        print(f\"Deleted folder: {path}\")\n",
    "    except Exception as e:\n",
    "        print(f\"Error deleting folder {path}: {e}\")\n",
    "\n",
    "# Get a list of all files and folders in the current directory\n",
    "all_items = os.listdir('.')\n",
    "\n",
    "# Loop through the items\n",
    "for item in all_items:\n",
    "    # Check if it's a file and does not end with .ipynb\n",
    "    if os.path.isfile(item) and not item.endswith('.ipynb'):\n",
    "        os.remove(item)\n",
    "        print(f\"Deleted file: {item}\")\n",
    "    # Check if it's a folder\n",
    "    elif os.path.isdir(item):\n",
    "        remove_folder(item)"
   ]
  }
 ],
 "metadata": {
  "kernelspec": {
   "display_name": "Python 3",
   "language": "python",
   "name": "python3"
  },
  "language_info": {
   "codemirror_mode": {
    "name": "ipython",
    "version": 3
   },
   "file_extension": ".py",
   "mimetype": "text/x-python",
   "name": "python",
   "nbconvert_exporter": "python",
   "pygments_lexer": "ipython3",
   "version": "3.9.17"
  }
 },
 "nbformat": 4,
 "nbformat_minor": 5
}

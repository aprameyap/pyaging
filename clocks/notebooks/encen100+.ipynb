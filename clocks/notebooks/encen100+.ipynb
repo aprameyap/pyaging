{
 "cells": [
  {
   "cell_type": "markdown",
   "id": "2f04eee0-5928-4e74-a754-6dc2e528810c",
   "metadata": {},
   "source": [
    "# ENCen100+"
   ]
  },
  {
   "cell_type": "markdown",
   "id": "a3f514a3-772c-4a14-afdf-5a8376851ff4",
   "metadata": {},
   "source": [
    "## Index\n",
    "1. [Define required clock parameters](#Define-required-clock-parameters)\n",
    "2. [Download necessary data](#Download-necessary-data)\n",
    "3. [Load data](#-Load-data)\n",
    "4. [Extract features and weights](#Extract-features-and-weights)\n",
    "5. [Load weights into pyaging model](#Load-weights-into-pyaging-model)\n",
    "6. [Add reference values](#Add-reference-values)\n",
    "7. [Add preprocessing and postprocesssing steps](#Add-preprocessing-and-postprocesssing-steps)\n",
    "8. [Check all data objects](#Check-all-data-objects)\n",
    "9. [Write clock dictionary](#Write-clock-dictionary)\n",
    "10. [Clear directory](#Clear-directory)"
   ]
  },
  {
   "cell_type": "markdown",
   "id": "d95fafdc-643a-40ea-a689-200bd132e90c",
   "metadata": {},
   "source": [
    "Let's first import some packages:"
   ]
  },
  {
   "cell_type": "code",
   "execution_count": 1,
   "id": "4adfb4de-cd79-4913-a1af-9e23e9e236c9",
   "metadata": {},
   "outputs": [],
   "source": [
    "import os\n",
    "import marshal\n",
    "import shutil\n",
    "import json\n",
    "import torch\n",
    "import pandas as pd\n",
    "import pyaging as pya"
   ]
  },
  {
   "cell_type": "markdown",
   "id": "c8c0c937-d9b6-4756-99b0-91de591220e0",
   "metadata": {},
   "source": [
    "## Define required clock parameters"
   ]
  },
  {
   "cell_type": "markdown",
   "id": "cf95ddca-625e-4c70-a246-c3cb12df96f8",
   "metadata": {},
   "source": [
    "Let's define some required information first:"
   ]
  },
  {
   "cell_type": "code",
   "execution_count": 2,
   "id": "5281776d-0549-445f-beec-39c31ec7dbe1",
   "metadata": {},
   "outputs": [],
   "source": [
    "clock_name = 'encen100'\n",
    "data_type = 'methylation'\n",
    "model_class = 'LinearModel'\n",
    "species = 'Homo sapiens'\n",
    "year = 2023\n",
    "approved_by_author = '⌛'\n",
    "citation = \"Dec, Eric, et al. \\\"Centenarian clocks: epigenetic clocks for validating claims of exceptional longevity.\\\" GeroScience (2023): 1-19.\"\n",
    "doi = 'https://doi.org/10.1007/s11357-023-00731-7'\n",
    "notes = None"
   ]
  },
  {
   "cell_type": "markdown",
   "id": "4520c8cb-6c1f-4490-ba4c-6fe78ef002a7",
   "metadata": {},
   "source": [
    "## Download necessary data"
   ]
  },
  {
   "cell_type": "markdown",
   "id": "4ccae25e-7d7f-45da-8e8a-064a66dc52fa",
   "metadata": {},
   "source": [
    "#### Download GitHub repository"
   ]
  },
  {
   "cell_type": "code",
   "execution_count": 3,
   "id": "a2a5b60e-ff7f-4b24-b1c6-61cda8948310",
   "metadata": {},
   "outputs": [
    {
     "data": {
      "text/plain": [
       "0"
      ]
     },
     "execution_count": 3,
     "metadata": {},
     "output_type": "execute_result"
    }
   ],
   "source": [
    "github_url = \"https://github.com/victorychain/Centenarian-Clock.git\"\n",
    "github_folder_name = github_url.split('/')[-1].split('.')[0]\n",
    "os.system(f\"git clone {github_url}\")"
   ]
  },
  {
   "cell_type": "markdown",
   "id": "35615b62-73ac-40b1-8bc1-e904403eb0ae",
   "metadata": {},
   "source": [
    "## Load data"
   ]
  },
  {
   "cell_type": "markdown",
   "id": "232eb94a-04a7-4ac4-ae3e-0e365b443a8e",
   "metadata": {},
   "source": [
    "#### From CSV file"
   ]
  },
  {
   "cell_type": "code",
   "execution_count": 4,
   "id": "45fbc051-f0d2-4b25-9813-ae126f6fedcb",
   "metadata": {},
   "outputs": [],
   "source": [
    "df = pd.read_csv('Centenarian-Clock/clocks/final_clocks.csv', index_col=0).T"
   ]
  },
  {
   "cell_type": "markdown",
   "id": "60c676db-2c7c-4c04-9457-97bccd598269",
   "metadata": {
    "jp-MarkdownHeadingCollapsed": true
   },
   "source": [
    "## Extract features and weights"
   ]
  },
  {
   "cell_type": "markdown",
   "id": "385ef22d-a530-4f02-a783-e9207dc6f36c",
   "metadata": {},
   "source": [
    "First, let's extract the features and weights:"
   ]
  },
  {
   "cell_type": "code",
   "execution_count": 5,
   "id": "e1d1dd13-65ac-4694-8948-3cd94bc19fe1",
   "metadata": {},
   "outputs": [
    {
     "data": {
      "text/html": [
       "<div>\n",
       "<style scoped>\n",
       "    .dataframe tbody tr th:only-of-type {\n",
       "        vertical-align: middle;\n",
       "    }\n",
       "\n",
       "    .dataframe tbody tr th {\n",
       "        vertical-align: top;\n",
       "    }\n",
       "\n",
       "    .dataframe thead th {\n",
       "        text-align: right;\n",
       "    }\n",
       "</style>\n",
       "<table border=\"1\" class=\"dataframe\">\n",
       "  <thead>\n",
       "    <tr style=\"text-align: right;\">\n",
       "      <th>clock</th>\n",
       "      <th>index</th>\n",
       "      <th>ENCen40+</th>\n",
       "      <th>ENCen100+</th>\n",
       "      <th>feature</th>\n",
       "      <th>coefficient</th>\n",
       "    </tr>\n",
       "  </thead>\n",
       "  <tbody>\n",
       "    <tr>\n",
       "      <th>0</th>\n",
       "      <td>(Intercept)</td>\n",
       "      <td>33.323988</td>\n",
       "      <td>73.994713</td>\n",
       "      <td>(Intercept)</td>\n",
       "      <td>73.994713</td>\n",
       "    </tr>\n",
       "    <tr>\n",
       "      <th>1</th>\n",
       "      <td>cg19923810</td>\n",
       "      <td>-0.000000</td>\n",
       "      <td>-0.099287</td>\n",
       "      <td>cg19923810</td>\n",
       "      <td>-0.099287</td>\n",
       "    </tr>\n",
       "    <tr>\n",
       "      <th>2</th>\n",
       "      <td>cg06727198</td>\n",
       "      <td>0.000000</td>\n",
       "      <td>0.492981</td>\n",
       "      <td>cg06727198</td>\n",
       "      <td>0.492981</td>\n",
       "    </tr>\n",
       "    <tr>\n",
       "      <th>3</th>\n",
       "      <td>cg13587552</td>\n",
       "      <td>-0.000000</td>\n",
       "      <td>0.451130</td>\n",
       "      <td>cg13587552</td>\n",
       "      <td>0.451130</td>\n",
       "    </tr>\n",
       "    <tr>\n",
       "      <th>4</th>\n",
       "      <td>cg12278474</td>\n",
       "      <td>-0.000000</td>\n",
       "      <td>-0.780742</td>\n",
       "      <td>cg12278474</td>\n",
       "      <td>-0.780742</td>\n",
       "    </tr>\n",
       "  </tbody>\n",
       "</table>\n",
       "</div>"
      ],
      "text/plain": [
       "clock        index   ENCen40+  ENCen100+      feature  coefficient\n",
       "0      (Intercept)  33.323988  73.994713  (Intercept)    73.994713\n",
       "1       cg19923810  -0.000000  -0.099287   cg19923810    -0.099287\n",
       "2       cg06727198   0.000000   0.492981   cg06727198     0.492981\n",
       "3       cg13587552  -0.000000   0.451130   cg13587552     0.451130\n",
       "4       cg12278474  -0.000000  -0.780742   cg12278474    -0.780742"
      ]
     },
     "execution_count": 5,
     "metadata": {},
     "output_type": "execute_result"
    }
   ],
   "source": [
    "df = df[df['ENCen100+'] != 0]\n",
    "df = df.reset_index()\n",
    "\n",
    "df['feature'] = df['index']\n",
    "df['coefficient'] = df['ENCen100+']\n",
    "\n",
    "df.head()"
   ]
  },
  {
   "cell_type": "markdown",
   "id": "5ac5b42a-3bd9-49d3-b84e-79d236af24b4",
   "metadata": {},
   "source": [
    "Then, let's create lists for features and weights. Be careful about the intercept, as it usually shows up as a feature name."
   ]
  },
  {
   "cell_type": "code",
   "execution_count": 6,
   "id": "2fc06bb5-7e9c-46fd-9843-31880f1d3788",
   "metadata": {},
   "outputs": [],
   "source": [
    "features = df['feature'][1:].tolist()\n",
    "weights = torch.tensor(df['coefficient'][1:].tolist()).unsqueeze(0).float()\n",
    "intercept = torch.tensor([df['coefficient'][0]]).float()"
   ]
  },
  {
   "cell_type": "markdown",
   "id": "d193ccbf-d06b-49bb-ad4b-ffe3271dea63",
   "metadata": {},
   "source": [
    "## Load weights into pyaging model"
   ]
  },
  {
   "cell_type": "markdown",
   "id": "4350119a-4bd4-4efa-85b5-9de70fdf496f",
   "metadata": {},
   "source": [
    "#### Linear model"
   ]
  },
  {
   "cell_type": "code",
   "execution_count": 7,
   "id": "7354c541-5af9-447d-a339-2cb88c253b41",
   "metadata": {},
   "outputs": [
    {
     "data": {
      "text/plain": [
       "LinearModel(\n",
       "  (linear): Linear(in_features=198, out_features=1, bias=True)\n",
       ")"
      ]
     },
     "execution_count": 7,
     "metadata": {},
     "output_type": "execute_result"
    }
   ],
   "source": [
    "model = pya.models.LinearModel(input_dim=len(features))\n",
    "\n",
    "model.linear.weight.data = weights\n",
    "model.linear.bias.data = intercept\n",
    "\n",
    "model"
   ]
  },
  {
   "cell_type": "markdown",
   "id": "665d768c-3099-41d4-87aa-606e678153da",
   "metadata": {},
   "source": [
    "## Add reference values"
   ]
  },
  {
   "cell_type": "markdown",
   "id": "0c87147a-ad69-4f77-b9ed-082c504b9d14",
   "metadata": {},
   "source": [
    "Some clocks have reference values in the case of missing features. It is also possible that these values are for preprocessing features rather than the clock features. Let's add a dictionary with the feature names as the keys."
   ]
  },
  {
   "cell_type": "code",
   "execution_count": 8,
   "id": "250dd50d-a175-45f3-913b-da87c50cb55c",
   "metadata": {},
   "outputs": [],
   "source": [
    "reference_feature_values = None"
   ]
  },
  {
   "cell_type": "markdown",
   "id": "408fcf5d-c9a0-4793-852a-a4c5ee8a077d",
   "metadata": {},
   "source": [
    "## Add preprocessing and postprocesssing steps"
   ]
  },
  {
   "cell_type": "markdown",
   "id": "9ea7fbe9-f6b2-4b46-b343-1be5cdbe0b31",
   "metadata": {},
   "source": [
    "The preprocessing and postprocessing objects are dictionaries with the following format, with all items required. It takes in x in the form of a numpy array."
   ]
  },
  {
   "cell_type": "code",
   "execution_count": 9,
   "id": "1d173005-fb63-43d5-bd9f-0b4fa2e240b1",
   "metadata": {},
   "outputs": [],
   "source": [
    "preprocessing = None"
   ]
  },
  {
   "cell_type": "markdown",
   "id": "9644a667-201b-486a-9b61-9e7107b917fa",
   "metadata": {},
   "source": [
    "Similarly is the case of postprocessing. Remember that your function must be compatible with torch and is applied to each number individually."
   ]
  },
  {
   "cell_type": "code",
   "execution_count": 10,
   "id": "6fe37a2c-113a-4517-91e4-10a4e8b2005a",
   "metadata": {},
   "outputs": [],
   "source": [
    "postprocessing = None"
   ]
  },
  {
   "cell_type": "markdown",
   "id": "f912d708-6caf-4d6f-9adf-0aaa54d46678",
   "metadata": {},
   "source": [
    "## Write clock dictionary"
   ]
  },
  {
   "cell_type": "markdown",
   "id": "3b176620-afb5-403c-9948-07639072bb44",
   "metadata": {},
   "source": [
    "Let's put everything together and save:"
   ]
  },
  {
   "cell_type": "code",
   "execution_count": 11,
   "id": "35d00b76-513d-4d8f-8824-6d810ee9d8f5",
   "metadata": {},
   "outputs": [],
   "source": [
    "clock_dict = {\n",
    "    # Metadata\n",
    "    'clock_name': clock_name,\n",
    "    'data_type': data_type,\n",
    "    'model_class': model_class,\n",
    "    'species': species,\n",
    "    'year': year,\n",
    "    'approved_by_author': approved_by_author,\n",
    "    'citation': citation,\n",
    "    'doi': doi,\n",
    "    \"notes\": notes,\n",
    "\n",
    "    # Data\n",
    "    'reference_feature_values': reference_feature_values if reference_feature_values else None,\n",
    "    'preprocessing': preprocessing if preprocessing else None, \n",
    "    'features': features,\n",
    "    'weight_dict': model.state_dict(),\n",
    "    'postprocessing': postprocessing if postprocessing else None,\n",
    "}\n",
    "\n",
    "torch.save(clock_dict, f'../weights/{clock_name}.pt')"
   ]
  },
  {
   "cell_type": "markdown",
   "id": "f328e05a-b43f-4c3c-afc3-d7eafec29ef9",
   "metadata": {},
   "source": [
    "## Check all data objects"
   ]
  },
  {
   "cell_type": "markdown",
   "id": "c3b595d0-4948-408e-8b59-7f5091de4a10",
   "metadata": {},
   "source": [
    "Let's print all data objects to check if they make sense."
   ]
  },
  {
   "cell_type": "markdown",
   "id": "995bafe0-40b5-4603-aa90-822ae2d392d7",
   "metadata": {},
   "source": [
    "#### features"
   ]
  },
  {
   "cell_type": "code",
   "execution_count": 12,
   "id": "bf047bed-52f0-4a64-9691-4c04df9f50ec",
   "metadata": {},
   "outputs": [
    {
     "data": {
      "text/html": [
       "\n",
       "    <div style=\"overflow-x: scroll; overflow-y: scroll; border: 1px solid black; background-color: white; !important; color: black; !important;\">\n",
       "        <pre>There are 198 features.\n",
       "['cg19923810', 'cg06727198', 'cg13587552', 'cg12278474', 'cg00944884', 'cg02309594', 'cg26131911', 'cg01918888', 'cg22748573', 'cg03557698', 'cg02008416', 'cg01909487', 'cg22215192', 'cg19490266', 'cg22041635', 'cg03265671', 'cg16054275', 'cg11908570', 'cg11314684', 'cg21825027', 'cg10881225', 'cg27072387', 'cg10198837', 'cg19910382', 'cg15903395', 'cg22854546', 'cg22774472', 'cg08147886', 'cg24938727', 'cg06613840', 'cg12609467', 'cg03688818', 'cg27563048', 'cg26152597', 'cg09298623', 'cg23449696', 'cg23527621', 'cg00642303', 'cg03199651', 'cg21924273', 'cg14144025', 'cg19283196', 'cg09511421', 'cg10479325', 'cg00398048', 'cg20811273', 'cg18741962', 'cg16161425', 'cg05001145', 'cg22748850', 'cg24523000', 'cg04232649', 'cg23012579', 'cg16867657', 'cg13884546', 'cg15765212', 'cg14924781', 'cg27067781', 'cg25764570', 'cg11848539', 'cg10497569', 'cg17488985', 'cg01883195', 'cg01868782', 'cg24692716', 'cg24590353', 'cg26620959', 'cg26701785', 'cg03807873', 'cg10865119', 'cg12190994', 'cg06466797', 'cg19759064', 'cg19384697', 'cg07703358', 'cg22530232', 'cg07301044', 'cg11051055', 'cg06935608', 'cg06557606', 'cg07104660', 'cg15170424', 'cg24493971', 'cg23124755', 'cg23181138', 'cg03454353', 'cg23916845', 'cg06318164', 'cg09095562', 'cg03431064', 'cg15321211', 'cg23620639', 'cg15097876', 'cg23702568', 'cg22967284', 'cg01658815', 'cg06507244', 'cg22956483', 'cg16778148', 'cg24528523', 'cg05222924', 'cg14585160', 'cg25072962', 'cg22986597', 'cg24394865', 'cg08138505', 'cg08952029', 'cg13806741', 'cg22593785', 'cg25677688', 'cg14789804', 'cg11631518', 'cg26711820', 'cg17226286', 'cg17606785', 'cg12062492', 'cg01268763', 'cg16907514', 'cg12827555', 'cg05314075', 'cg19815139', 'cg05019423', 'cg02982734', 'cg14847483', 'cg08364767', 'cg15156078', 'cg19574915', 'cg03628719', 'cg20801645', 'cg24014020', 'cg08072101', 'cg07295034', 'cg13974531', 'cg24728447', 'cg10784785', 'cg22136326', 'cg19546781', 'cg06766367', 'cg10819446', 'cg22136365', 'cg21458932', 'cg13325529', 'cg03671597', 'cg18964082', 'cg01485645', 'cg22325715', 'cg03192551', 'cg19832721', 'cg10910775', 'cg12570134', 'cg22325823', 'cg13376158', 'cg10701033', 'cg25975818', 'cg09907395', 'cg19359656', 'cg17100770', 'cg12709412', 'cg24883732', 'cg13365022', 'cg05989429', 'cg21547976', 'cg16241649', 'cg20789620', 'cg18931750', 'cg03138405', 'cg09538452', 'cg16929104', 'cg08162780', 'cg01594262', 'cg16551326', 'cg17889586', 'cg24454579', 'cg13672791', 'cg06244906', 'cg19292062', 'cg05451974', 'cg22021786', 'cg14736210', 'cg03503905', 'cg06171420', 'cg25559313', 'cg02523400', 'cg12228611', 'cg00292662', 'cg25404088', 'cg15641675', 'cg02261346', 'cg10226744', 'cg17179568', 'cg17285325', 'cg18476633', 'cg17354708', 'cg24006341', 'cg07917796', 'cg12691219', 'cg05470074', 'cg11110686']\n",
       "</pre>\n",
       "    </div>\n",
       "    "
      ],
      "text/plain": [
       "<IPython.core.display.HTML object>"
      ]
     },
     "metadata": {},
     "output_type": "display_data"
    }
   ],
   "source": [
    "def my_print_function():\n",
    "    print(f\"There are {len(features)} features.\")\n",
    "    print(features)\n",
    "pya.utils.print_to_scrollable_output(my_print_function)"
   ]
  },
  {
   "cell_type": "markdown",
   "id": "a95f426a-5bc5-4747-8954-3dd4cfe845f5",
   "metadata": {},
   "source": [
    "#### reference_feature_values"
   ]
  },
  {
   "cell_type": "code",
   "execution_count": 13,
   "id": "6436fd01-0a8e-41a5-b584-2c020136ff97",
   "metadata": {},
   "outputs": [
    {
     "data": {
      "text/html": [
       "\n",
       "    <div style=\"overflow-x: scroll; overflow-y: scroll; border: 1px solid black; background-color: white; !important; color: black; !important;\">\n",
       "        <pre>None\n",
       "</pre>\n",
       "    </div>\n",
       "    "
      ],
      "text/plain": [
       "<IPython.core.display.HTML object>"
      ]
     },
     "metadata": {},
     "output_type": "display_data"
    }
   ],
   "source": [
    "def my_print_function():\n",
    "    if reference_feature_values:\n",
    "        print(f\"There are {len(reference_feature_values)} reference feature values.\")\n",
    "    print(reference_feature_values)\n",
    "pya.utils.print_to_scrollable_output(my_print_function)"
   ]
  },
  {
   "cell_type": "markdown",
   "id": "6037376b-0b0e-460b-956f-99bbe0604f5c",
   "metadata": {},
   "source": [
    "#### preprocessing"
   ]
  },
  {
   "cell_type": "code",
   "execution_count": 14,
   "id": "960c5ede-3175-4192-a358-bf5ccb41074f",
   "metadata": {},
   "outputs": [
    {
     "data": {
      "text/html": [
       "\n",
       "    <div style=\"overflow-x: scroll; overflow-y: scroll; border: 1px solid black; background-color: white; !important; color: black; !important;\">\n",
       "        <pre>None\n",
       "</pre>\n",
       "    </div>\n",
       "    "
      ],
      "text/plain": [
       "<IPython.core.display.HTML object>"
      ]
     },
     "metadata": {},
     "output_type": "display_data"
    }
   ],
   "source": [
    "def my_print_function():\n",
    "    print(preprocessing)\n",
    "    if preprocessing:\n",
    "        print(preprocessing_helper_objects)\n",
    "pya.utils.print_to_scrollable_output(my_print_function)"
   ]
  },
  {
   "cell_type": "markdown",
   "id": "4c49ed07-54e6-40d0-9a07-368a1034aa75",
   "metadata": {},
   "source": [
    "#### postprocessing"
   ]
  },
  {
   "cell_type": "code",
   "execution_count": 15,
   "id": "40fe1f52-ad50-4b84-89c7-c5d1d3fff139",
   "metadata": {},
   "outputs": [
    {
     "data": {
      "text/html": [
       "\n",
       "    <div style=\"overflow-x: scroll; overflow-y: scroll; border: 1px solid black; background-color: white; !important; color: black; !important;\">\n",
       "        <pre>None\n",
       "</pre>\n",
       "    </div>\n",
       "    "
      ],
      "text/plain": [
       "<IPython.core.display.HTML object>"
      ]
     },
     "metadata": {},
     "output_type": "display_data"
    }
   ],
   "source": [
    "def my_print_function():\n",
    "    print(postprocessing)\n",
    "    if postprocessing:\n",
    "        print(postprocessing)\n",
    "pya.utils.print_to_scrollable_output(my_print_function)"
   ]
  },
  {
   "cell_type": "markdown",
   "id": "4ef174bf-e2a5-4d9e-b50e-211672474a93",
   "metadata": {},
   "source": [
    "#### weight_dict"
   ]
  },
  {
   "cell_type": "code",
   "execution_count": 16,
   "id": "658317e5-44bd-4621-877c-5db57494c968",
   "metadata": {},
   "outputs": [
    {
     "data": {
      "text/html": [
       "\n",
       "    <div style=\"overflow-x: scroll; overflow-y: scroll; border: 1px solid black; background-color: white; !important; color: black; !important;\">\n",
       "        <pre>Layer: linear.weight\n",
       "Shape: torch.Size([1, 198])\n",
       "tensor([[-9.9287e-02,  4.9298e-01,  4.5113e-01, -7.8074e-01, -1.8210e+00,\n",
       "          5.5770e-01, -7.6561e+00, -1.0798e+00, -1.6126e+00, -5.0771e-01,\n",
       "          6.3217e-01,  2.2693e+00,  4.8257e-01,  2.2946e+00,  1.7374e+01,\n",
       "          8.2105e-01, -1.4287e-01,  2.0878e+01, -7.5696e-01, -4.2920e+00,\n",
       "          1.1173e+00,  3.3254e+00,  2.9604e+00,  7.1460e-01,  1.6346e+00,\n",
       "         -2.0969e+01,  2.0138e-02, -2.1325e+00,  9.7014e-01,  3.8668e+00,\n",
       "          8.3083e-01,  4.6058e+00, -1.1262e+00, -4.4431e+00,  5.7957e-01,\n",
       "          1.3155e-01,  5.2598e-01,  4.0902e+00,  8.0900e-01,  3.4360e+00,\n",
       "          2.2192e+00,  1.5277e+00,  2.3730e-01,  1.3333e+01, -5.1780e-01,\n",
       "          1.5654e+00, -4.7808e+00,  1.3062e+00,  8.4830e-01, -5.3284e+00,\n",
       "          8.0050e-01,  7.8811e+00, -1.4856e+00,  1.9592e+00, -1.3228e+00,\n",
       "          1.3064e+00,  1.1679e-01,  9.1400e-01,  1.5223e+00, -4.7247e+00,\n",
       "          4.3237e+00,  7.1539e-01,  9.8363e-01,  2.3106e-01,  2.8208e+00,\n",
       "         -2.8115e-01,  1.0165e-01, -6.3743e-01,  2.6458e+00, -8.7939e-01,\n",
       "          2.9031e-01, -2.2507e+01, -1.5028e-02,  5.2066e-01, -3.3259e+00,\n",
       "          2.5934e-01,  2.0135e-01,  1.1904e-01,  2.4914e-01, -1.1476e+00,\n",
       "          5.9625e-02,  1.6075e+00, -4.6100e-02, -3.5278e+00, -1.5080e+01,\n",
       "         -4.2339e-01, -1.3176e-02, -9.4174e-01,  1.1303e+00,  1.2074e+01,\n",
       "          2.3703e-01,  7.8333e+00, -4.0700e+01,  5.0709e-01, -2.8947e+00,\n",
       "         -5.1794e-02, -1.4426e+00,  6.2730e-01,  1.1724e+00,  5.1467e-01,\n",
       "          1.3544e-01, -3.4154e+00,  4.9686e-01, -3.3263e-01, -7.2841e+00,\n",
       "         -2.5577e+00, -4.6986e-01,  7.3632e-01, -3.1082e-01,  1.9860e-01,\n",
       "          5.6537e+00, -9.3129e-01,  7.9976e-01,  8.7779e-01,  3.5027e-01,\n",
       "          1.0349e+00, -7.7368e-01,  4.8366e-01,  1.0415e+00, -6.0063e-01,\n",
       "          3.1246e+00, -1.3134e+00,  5.9752e-02,  8.4180e-01,  5.1990e+00,\n",
       "         -8.9517e-01,  9.4458e-01, -4.4487e+00, -3.2734e-01,  7.3041e-01,\n",
       "          1.7448e-01,  2.1656e-01, -3.4924e-01, -1.1621e+01,  5.1401e+00,\n",
       "         -4.8457e+01,  6.0140e+00,  8.3868e-02,  5.6624e+00,  8.1683e-02,\n",
       "          1.7735e+00,  5.7973e+00,  1.6350e+00, -3.1150e-01,  3.4247e+00,\n",
       "          3.5063e-01,  2.3394e+00,  1.5844e+00,  2.8309e+00, -4.5221e-01,\n",
       "         -9.7420e-02,  5.6963e-01, -2.7106e+00,  4.6444e-01,  4.4810e+00,\n",
       "          1.4360e+00, -7.5498e-01,  1.1247e+01,  1.0204e+00, -9.7621e-01,\n",
       "         -1.3885e-01,  3.2307e+00,  3.6741e-01, -1.1723e-01, -2.6798e+00,\n",
       "          3.6988e+00, -5.1955e-01, -7.0431e-01, -4.0605e-02, -2.0707e-01,\n",
       "          7.5500e-01,  6.3578e-01,  9.0727e-01,  9.0823e-01,  2.0353e-02,\n",
       "          2.4976e+00,  7.4878e+00,  7.8691e-01,  6.7047e-01, -1.4748e+01,\n",
       "          2.8709e-01,  1.5649e-01,  2.2689e-01,  1.1118e-01,  3.6284e+00,\n",
       "         -3.3744e-02, -1.5812e+00,  8.5121e-01, -5.1950e+00, -8.1623e-01,\n",
       "          1.0711e+00,  3.2667e-01, -7.6684e-01,  1.4605e+00,  6.9110e-02,\n",
       "          9.2486e-02,  5.0722e-01,  2.0831e+00]])\n",
       "Layer: linear.bias\n",
       "Shape: torch.Size([1])\n",
       "tensor([73.9947])\n",
       "</pre>\n",
       "    </div>\n",
       "    "
      ],
      "text/plain": [
       "<IPython.core.display.HTML object>"
      ]
     },
     "metadata": {},
     "output_type": "display_data"
    }
   ],
   "source": [
    "def my_print_function():\n",
    "    for name, param in model.named_parameters():\n",
    "        print(f\"Layer: {name}\")\n",
    "        print(f\"Shape: {param.shape}\")\n",
    "        print(param.data)\n",
    "pya.utils.print_to_scrollable_output(my_print_function)"
   ]
  },
  {
   "cell_type": "markdown",
   "id": "c1dd2efe-2bd6-4e1b-92ee-d110c25ad29c",
   "metadata": {},
   "source": [
    "## Clear directory"
   ]
  },
  {
   "cell_type": "markdown",
   "id": "158aa71f-7bbc-4c52-b7ef-16ba45d5e1fd",
   "metadata": {},
   "source": [
    "Delete all files that are not clock jupyter notebooks:"
   ]
  },
  {
   "cell_type": "code",
   "execution_count": 17,
   "id": "db4bd42b-c62f-4557-9ebc-d8194a240137",
   "metadata": {},
   "outputs": [
    {
     "name": "stdout",
     "output_type": "stream",
     "text": [
      "Deleted folder: Centenarian-Clock\n",
      "Deleted folder: .ipynb_checkpoints\n"
     ]
    }
   ],
   "source": [
    "# Function to remove a folder and all its contents\n",
    "def remove_folder(path):\n",
    "    try:\n",
    "        shutil.rmtree(path)\n",
    "        print(f\"Deleted folder: {path}\")\n",
    "    except Exception as e:\n",
    "        print(f\"Error deleting folder {path}: {e}\")\n",
    "\n",
    "# Get a list of all files and folders in the current directory\n",
    "all_items = os.listdir('.')\n",
    "\n",
    "# Loop through the items\n",
    "for item in all_items:\n",
    "    # Check if it's a file and does not end with .ipynb\n",
    "    if os.path.isfile(item) and not item.endswith('.ipynb'):\n",
    "        os.remove(item)\n",
    "        print(f\"Deleted file: {item}\")\n",
    "    # Check if it's a folder\n",
    "    elif os.path.isdir(item):\n",
    "        remove_folder(item)"
   ]
  }
 ],
 "metadata": {
  "kernelspec": {
   "display_name": "Python 3",
   "language": "python",
   "name": "python3"
  },
  "language_info": {
   "codemirror_mode": {
    "name": "ipython",
    "version": 3
   },
   "file_extension": ".py",
   "mimetype": "text/x-python",
   "name": "python",
   "nbconvert_exporter": "python",
   "pygments_lexer": "ipython3",
   "version": "3.9.17"
  }
 },
 "nbformat": 4,
 "nbformat_minor": 5
}

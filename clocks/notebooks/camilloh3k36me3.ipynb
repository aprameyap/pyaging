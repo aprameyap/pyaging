{
 "cells": [
  {
   "cell_type": "markdown",
   "id": "2f04eee0-5928-4e74-a754-6dc2e528810c",
   "metadata": {},
   "source": [
    "# CamilloH3K36me3"
   ]
  },
  {
   "cell_type": "markdown",
   "id": "a3f514a3-772c-4a14-afdf-5a8376851ff4",
   "metadata": {},
   "source": [
    "## Index\n",
    "1. [Define required clock parameters](#Define-required-clock-parameters)\n",
    "2. [Download necessary data](#Download-necessary-data)\n",
    "3. [Load data](#-Load-data)\n",
    "4. [Extract features and weights](#Extract-features-and-weights)\n",
    "5. [Load weights into pyaging model](#Load-weights-into-pyaging-model)\n",
    "6. [Add reference values](#Add-reference-values)\n",
    "7. [Add preprocessing and postprocesssing steps](#Add-preprocessing-and-postprocesssing-steps)\n",
    "8. [Check all data objects](#Check-all-data-objects)\n",
    "9. [Write clock dictionary](#Write-clock-dictionary)\n",
    "10. [Clear directory](#Clear-directory)"
   ]
  },
  {
   "cell_type": "markdown",
   "id": "d95fafdc-643a-40ea-a689-200bd132e90c",
   "metadata": {},
   "source": [
    "Let's first import some packages:"
   ]
  },
  {
   "cell_type": "code",
   "execution_count": 1,
   "id": "4adfb4de-cd79-4913-a1af-9e23e9e236c9",
   "metadata": {},
   "outputs": [],
   "source": [
    "import os\n",
    "import marshal\n",
    "import shutil\n",
    "import json\n",
    "import torch\n",
    "import pandas as pd\n",
    "import pyaging as pya\n",
    "import joblib\n",
    "import numpy as np"
   ]
  },
  {
   "cell_type": "markdown",
   "id": "c8c0c937-d9b6-4756-99b0-91de591220e0",
   "metadata": {},
   "source": [
    "## Define required clock parameters"
   ]
  },
  {
   "cell_type": "markdown",
   "id": "cf95ddca-625e-4c70-a246-c3cb12df96f8",
   "metadata": {},
   "source": [
    "Let's define some required information first:"
   ]
  },
  {
   "cell_type": "code",
   "execution_count": 2,
   "id": "5281776d-0549-445f-beec-39c31ec7dbe1",
   "metadata": {},
   "outputs": [],
   "source": [
    "clock_name = 'camilloh3k36me3'\n",
    "data_type = 'histone mark'\n",
    "model_class = 'PCLinearModel'\n",
    "species = 'Homo sapiens'\n",
    "year = 2023\n",
    "approved_by_author = '✅'\n",
    "citation = \"de Lima Camillo, Lucas Paulo, et al. \\\"Histone mark age of human tissues and cells.\\\" bioRxiv (2023): 2023-08.\"\n",
    "doi = 'https://doi.org/10.1101/2023.08.21.554165'\n",
    "notes = \"This is still a preprint, so the model might change\""
   ]
  },
  {
   "cell_type": "markdown",
   "id": "4520c8cb-6c1f-4490-ba4c-6fe78ef002a7",
   "metadata": {},
   "source": [
    "## Download necessary data"
   ]
  },
  {
   "cell_type": "markdown",
   "id": "4ccae25e-7d7f-45da-8e8a-064a66dc52fa",
   "metadata": {},
   "source": [
    "#### Download GitHub repository"
   ]
  },
  {
   "cell_type": "code",
   "execution_count": 3,
   "id": "a2a5b60e-ff7f-4b24-b1c6-61cda8948310",
   "metadata": {},
   "outputs": [
    {
     "data": {
      "text/plain": [
       "0"
      ]
     },
     "execution_count": 3,
     "metadata": {},
     "output_type": "execute_result"
    }
   ],
   "source": [
    "github_url = \"https://github.com/rsinghlab/HistoneClocks.git\"\n",
    "github_folder_name = github_url.split('/')[-1].split('.')[0]\n",
    "os.system(f\"git clone {github_url}\")"
   ]
  },
  {
   "cell_type": "markdown",
   "id": "35615b62-73ac-40b1-8bc1-e904403eb0ae",
   "metadata": {},
   "source": [
    "## Load data"
   ]
  },
  {
   "cell_type": "code",
   "execution_count": 4,
   "id": "af387efd-4c94-48d4-8e5c-d72f548244cf",
   "metadata": {},
   "outputs": [
    {
     "name": "stderr",
     "output_type": "stream",
     "text": [
      "/Users/lucascamillo/mambaforge/envs/brain/lib/python3.9/site-packages/sklearn/base.py:348: InconsistentVersionWarning: Trying to unpickle estimator ElasticNet from version 1.0.1 when using version 1.3.2. This might lead to breaking code or invalid results. Use at your own risk. For more info please refer to:\n",
      "https://scikit-learn.org/stable/model_persistence.html#security-maintainability-limitations\n",
      "  warnings.warn(\n",
      "/Users/lucascamillo/mambaforge/envs/brain/lib/python3.9/site-packages/sklearn/base.py:348: InconsistentVersionWarning: Trying to unpickle estimator TruncatedSVD from version 1.0.1 when using version 1.3.2. This might lead to breaking code or invalid results. Use at your own risk. For more info please refer to:\n",
      "https://scikit-learn.org/stable/model_persistence.html#security-maintainability-limitations\n",
      "  warnings.warn(\n",
      "/Users/lucascamillo/mambaforge/envs/brain/lib/python3.9/site-packages/sklearn/base.py:348: InconsistentVersionWarning: Trying to unpickle estimator ARDRegression from version 1.0.1 when using version 1.3.2. This might lead to breaking code or invalid results. Use at your own risk. For more info please refer to:\n",
      "https://scikit-learn.org/stable/model_persistence.html#security-maintainability-limitations\n",
      "  warnings.warn(\n"
     ]
    }
   ],
   "source": [
    "histone = 'H3K36me3'\n",
    "\n",
    "feature_selector_path = 'HistoneClocks/results/models/' + histone + '_feature_selector.pkl'\n",
    "feature_selector = joblib.load(feature_selector_path)\n",
    "\n",
    "dim_reduction_path = 'HistoneClocks/results/models/' + histone + '_dim_reduction.pkl'\n",
    "dim_reduction = joblib.load(dim_reduction_path)\n",
    "\n",
    "ard_model_path = 'HistoneClocks/results/models/' + histone + '_model.pkl'\n",
    "ard_model = joblib.load(ard_model_path)\n",
    "\n",
    "genes = pd.read_csv('HistoneClocks/metadata/Ensembl-105-EnsDb-for-Homo-sapiens-genes.csv')"
   ]
  },
  {
   "cell_type": "markdown",
   "id": "60c676db-2c7c-4c04-9457-97bccd598269",
   "metadata": {},
   "source": [
    "## Extract features and weights"
   ]
  },
  {
   "cell_type": "markdown",
   "id": "5ac5b42a-3bd9-49d3-b84e-79d236af24b4",
   "metadata": {},
   "source": [
    "Then, let's create lists for features and weights. Be careful about the intercept, as it usually shows up as a feature name."
   ]
  },
  {
   "cell_type": "code",
   "execution_count": 5,
   "id": "2fc06bb5-7e9c-46fd-9843-31880f1d3788",
   "metadata": {},
   "outputs": [],
   "source": [
    "chromosomes = ['1', '10', '11', '12', '13', '14', '15', '16', '17', '18', '19', '2', '20', '21', '22', '3', '4', '5', '6', '7', '8', '9', 'X']\n",
    "genes = genes[genes['chr'].apply(lambda x: x in chromosomes)]\n",
    "genes.index = genes.gene_id\n",
    "features = genes.gene_id[np.abs(feature_selector.coef_) > 0].tolist()\n",
    "\n",
    "weights = torch.tensor(ard_model.coef_).float()\n",
    "intercept = torch.tensor([ard_model.intercept_]).float()\n",
    "rotation = torch.tensor(dim_reduction.components_.T).float()\n",
    "center = rotation[0,:]"
   ]
  },
  {
   "cell_type": "code",
   "execution_count": 6,
   "id": "785c6f12-8f2d-4c6f-996e-aa3d3033330a",
   "metadata": {},
   "outputs": [
    {
     "data": {
      "text/plain": [
       "torch.Size([870, 256])"
      ]
     },
     "execution_count": 6,
     "metadata": {},
     "output_type": "execute_result"
    }
   ],
   "source": [
    "rotation.shape"
   ]
  },
  {
   "cell_type": "markdown",
   "id": "d193ccbf-d06b-49bb-ad4b-ffe3271dea63",
   "metadata": {},
   "source": [
    "## Load weights into pyaging model"
   ]
  },
  {
   "cell_type": "markdown",
   "id": "9b9f4e65-3423-4fae-bde5-5039b2dcab3e",
   "metadata": {},
   "source": [
    "#### PC linear model"
   ]
  },
  {
   "cell_type": "code",
   "execution_count": 7,
   "id": "eb6f898d-80ce-4e14-b724-9f6e05fb9371",
   "metadata": {},
   "outputs": [],
   "source": [
    "model = pya.models.PCLinearModel(input_dim=len(features), pc_dim=rotation.shape[1])\n",
    "\n",
    "model.center.data = torch.zeros((len(features))).float()\n",
    "model.rotation.data = rotation.float()\n",
    "model.linear.weight.data = weights.unsqueeze(0).float()\n",
    "model.linear.bias.data = intercept.float()"
   ]
  },
  {
   "cell_type": "markdown",
   "id": "06adc9d8-cec2-447d-8d0b-e2819d4c1a5b",
   "metadata": {},
   "source": [
    "## Add reference values"
   ]
  },
  {
   "cell_type": "markdown",
   "id": "84bf0205-f976-497b-a6a9-e4945c05cdb3",
   "metadata": {},
   "source": [
    "Some clocks have reference values in the case of missing features. It is also possible that these values are for preprocessing features rather than the clock features. Let's add a dictionary with the feature names as the keys."
   ]
  },
  {
   "cell_type": "code",
   "execution_count": 8,
   "id": "250dd50d-a175-45f3-913b-da87c50cb55c",
   "metadata": {},
   "outputs": [],
   "source": [
    "reference_feature_values = None"
   ]
  },
  {
   "cell_type": "markdown",
   "id": "c9b4fd10-797c-45bd-aa1a-65aed1deaf1c",
   "metadata": {},
   "source": [
    "## Add preprocessing and postprocesssing steps"
   ]
  },
  {
   "cell_type": "markdown",
   "id": "20649dc9-2b58-4c63-a48e-f8d7a4bb520b",
   "metadata": {},
   "source": [
    "The preprocessing and postprocessing objects are dictionaries with the following format, with all items required. It takes in x in the form of a numpy array."
   ]
  },
  {
   "cell_type": "code",
   "execution_count": 9,
   "id": "1d173005-fb63-43d5-bd9f-0b4fa2e240b1",
   "metadata": {},
   "outputs": [],
   "source": [
    "preprocessing = None"
   ]
  },
  {
   "cell_type": "markdown",
   "id": "3ca747b4-0214-40a1-a7bf-fbf2a71084af",
   "metadata": {},
   "source": [
    "Similarly is the case of postprocessing. Remember that your function must be compatible with torch and is applied to each number individually."
   ]
  },
  {
   "cell_type": "code",
   "execution_count": 10,
   "id": "6fe37a2c-113a-4517-91e4-10a4e8b2005a",
   "metadata": {},
   "outputs": [],
   "source": [
    "postprocessing = None"
   ]
  },
  {
   "cell_type": "markdown",
   "id": "48c4580d-2a28-4fcb-bdf3-471fa1b47a44",
   "metadata": {},
   "source": [
    "## Check all data objects"
   ]
  },
  {
   "cell_type": "markdown",
   "id": "22d2b2d2-92c0-4d6c-b32f-4b6a1637c064",
   "metadata": {},
   "source": [
    "Let's print all data objects to check if they make sense."
   ]
  },
  {
   "cell_type": "markdown",
   "id": "71eb8146-29c7-4d22-bbec-0f0ae26cc795",
   "metadata": {},
   "source": [
    "#### features"
   ]
  },
  {
   "cell_type": "code",
   "execution_count": 11,
   "id": "bf047bed-52f0-4a64-9691-4c04df9f50ec",
   "metadata": {},
   "outputs": [
    {
     "data": {
      "text/html": [
       "\n",
       "    <div style=\"overflow-x: scroll; overflow-y: scroll; border: 1px solid black; background-color: white; !important; color: black; !important;\">\n",
       "        <pre>There are 870 features.\n",
       "['ENSG00000278267', 'ENSG00000223181', 'ENSG00000188976', 'ENSG00000187961', 'ENSG00000188157', 'LRG_198', 'ENSG00000242590', 'ENSG00000078808', 'ENSG00000278073', 'ENSG00000169972', 'ENSG00000284372', 'ENSG00000221978', 'ENSG00000242485', 'ENSG00000264293', 'ENSG00000268575', 'ENSG00000227775', 'ENSG00000067606', 'ENSG00000271806', 'ENSG00000182873', 'ENSG00000157881', 'ENSG00000157873', 'ENSG00000158109', 'ENSG00000116213', 'ENSG00000266075', 'ENSG00000169598', 'ENSG00000264341', 'ENSG00000264101', 'ENSG00000116237', 'ENSG00000215788', 'ENSG00000162408', 'ENSG00000253022', 'ENSG00000229519', 'ENSG00000204859', 'ENSG00000116273', 'ENSG00000049246', 'ENSG00000236266', 'ENSG00000116288', 'ENSG00000270282', 'ENSG00000074800', 'LRG_1165', 'ENSG00000284357', 'ENSG00000049239', 'ENSG00000265521', 'ENSG00000201746', 'ENSG00000142657', 'ENSG00000243267', 'ENSG00000226849', 'ENSG00000238173', 'ENSG00000276470', 'ENSG00000276869', 'ENSG00000239149', 'ENSG00000221340', 'ENSG00000142634', 'ENSG00000251866', 'ENSG00000162458', 'ENSG00000270620', 'ENSG00000234607', 'ENSG00000215908', 'ENSG00000117122', 'ENSG00000286898', 'ENSG00000226526', 'ENSG00000159363', 'LRG_834', 'ENSG00000117118', 'LRG_316', 'ENSG00000117115', 'ENSG00000221662', 'ENSG00000127481', 'ENSG00000200403', 'ENSG00000176378', 'ENSG00000285794', 'ENSG00000263793', 'ENSG00000001461', 'ENSG00000133226', 'ENSG00000278034', 'ENSG00000117614', 'ENSG00000117676', 'ENSG00000238705', 'ENSG00000206888', 'ENSG00000142733', 'LRG_1086', 'ENSG00000270031', 'ENSG00000130775', 'ENSG00000221216', 'ENSG00000180198', 'ENSG00000200087', 'ENSG00000237934', 'ENSG00000162511', 'ENSG00000264773', 'ENSG00000266203', 'ENSG00000279179', 'ENSG00000222112', 'ENSG00000271741', 'ENSG00000163867', 'ENSG00000201542', 'ENSG00000116871', 'ENSG00000231849', 'ENSG00000181817', 'ENSG00000185090', 'ENSG00000233728', 'ENSG00000252448', 'ENSG00000222282', 'ENSG00000217897', 'ENSG00000207962', 'ENSG00000230881', 'ENSG00000284138', 'ENSG00000066322', 'ENSG00000283836', 'ENSG00000142945', 'ENSG00000142937', 'ENSG00000202031', 'ENSG00000207421', 'ENSG00000281859', 'ENSG00000224986', 'ENSG00000206700', 'ENSG00000212624', 'ENSG00000283899', 'ENSG00000225183', 'ENSG00000215883', 'ENSG00000275823', 'ENSG00000199135', 'ENSG00000223263', 'ENSG00000278636', 'ENSG00000207721', 'ENSG00000201487', 'ENSG00000243437', 'ENSG00000223254', 'ENSG00000142867', 'LRG_1210', 'ENSG00000224466', 'ENSG00000143013', 'ENSG00000122406', 'LRG_1155', 'ENSG00000206680', 'ENSG00000207523', 'ENSG00000230946', 'ENSG00000236085', 'ENSG00000143126', 'ENSG00000206832', 'ENSG00000184371', 'ENSG00000272982', 'ENSG00000273221', 'ENSG00000201900', 'ENSG00000215930', 'ENSG00000265972', 'ENSG00000023902', 'ENSG00000266472', 'ENSG00000117360', 'ENSG00000143382', 'ENSG00000253047', 'ENSG00000224690', 'ENSG00000200175', 'ENSG00000206980', 'ENSG00000143436', 'ENSG00000197747', 'ENSG00000201129', 'ENSG00000143515', 'ENSG00000238365', 'ENSG00000143537', 'ENSG00000283701', 'ENSG00000207475', 'ENSG00000229953', 'ENSG00000162728', 'ENSG00000162729', 'ENSG00000235082', 'ENSG00000202078', 'ENSG00000158882', 'ENSG00000225171', 'ENSG00000221545', 'ENSG00000224837', 'ENSG00000289466', 'ENSG00000234604', 'ENSG00000208024', 'ENSG00000200755', 'ENSG00000252906', 'ENSG00000276563', 'ENSG00000135828', 'ENSG00000135838', 'ENSG00000279838', 'ENSG00000273198', 'ENSG00000221680', 'ENSG00000265986', 'ENSG00000207975', 'ENSG00000231333', 'ENSG00000224818', 'ENSG00000235449', 'ENSG00000199471', 'ENSG00000221643', 'ENSG00000163531', 'ENSG00000184144', 'ENSG00000163545', 'ENSG00000203709', 'ENSG00000284214', 'ENSG00000284203', 'ENSG00000283876', 'ENSG00000252879', 'ENSG00000236905', 'ENSG00000143494', 'ENSG00000213033', 'ENSG00000266618', 'ENSG00000284519', 'ENSG00000284311', 'ENSG00000201492', 'ENSG00000227934', 'ENSG00000263439', 'ENSG00000227962', 'ENSG00000235674', 'ENSG00000244457', 'ENSG00000230325', 'ENSG00000143653', 'ENSG00000227953', 'ENSG00000200495', 'ENSG00000238840', 'ENSG00000270427', 'ENSG00000134470', 'ENSG00000181800', 'ENSG00000251957', 'ENSG00000235763', 'ENSG00000252634', 'ENSG00000207930', 'ENSG00000207483', 'ENSG00000274985', 'ENSG00000222314', 'ENSG00000107551', 'ENSG00000231906', 'ENSG00000230166', 'ENSG00000223107', 'ENSG00000234369', 'ENSG00000221063', 'ENSG00000236375', 'ENSG00000234806', 'ENSG00000199638', 'ENSG00000227583', 'ENSG00000283551', 'ENSG00000221184', 'ENSG00000122862', 'ENSG00000200294', 'ENSG00000168209', 'ENSG00000272536', 'ENSG00000272627', 'ENSG00000270808', 'ENSG00000271385', 'ENSG00000105988', 'ENSG00000212396', 'ENSG00000273450', 'ENSG00000232875', 'ENSG00000107521', 'LRG_562', 'ENSG00000264610', 'ENSG00000274056', 'ENSG00000107819', 'ENSG00000222051', 'ENSG00000273262', 'ENSG00000260461', 'ENSG00000287779', 'ENSG00000284482', 'ENSG00000232934', 'ENSG00000207468', 'ENSG00000265370', 'ENSG00000176171', 'ENSG00000177225', 'ENSG00000177666', 'ENSG00000255108', 'ENSG00000177697', 'LRG_817', 'ENSG00000167244', 'ENSG00000236041', 'ENSG00000200201', 'ENSG00000251934', 'ENSG00000252905', 'ENSG00000201998', 'ENSG00000166483', 'ENSG00000252568', 'ENSG00000238622', 'ENSG00000252329', 'ENSG00000222162', 'ENSG00000199883', 'ENSG00000201586', 'ENSG00000256361', 'ENSG00000252355', 'ENSG00000254463', 'ENSG00000255092', 'ENSG00000200376', 'ENSG00000200090', 'ENSG00000271543', 'ENSG00000264559', 'ENSG00000006118', 'LRG_474', 'ENSG00000149532', 'ENSG00000279632', 'ENSG00000240823', 'ENSG00000277892', 'ENSG00000274066', 'ENSG00000252361', 'ENSG00000277846', 'ENSG00000274544', 'ENSG00000275996', 'ENSG00000276788', 'ENSG00000283926', 'ENSG00000278851', 'ENSG00000245532', 'ENSG00000278144', 'ENSG00000278050', 'ENSG00000283791', 'ENSG00000278217', 'LRG_280', 'ENSG00000254855', 'ENSG00000201733', 'ENSG00000084207', 'ENSG00000284435', 'LRG_115', 'ENSG00000110719', 'ENSG00000254902', 'ENSG00000244134', 'ENSG00000181924', 'ENSG00000256898', 'ENSG00000199090', 'ENSG00000207445', 'ENSG00000254933', 'ENSG00000206816', 'ENSG00000254985', 'ENSG00000252494', 'ENSG00000288538', 'ENSG00000254676', 'ENSG00000255541', 'ENSG00000283744', 'ENSG00000206834', 'ENSG00000207304', 'ENSG00000207145', 'ENSG00000225215', 'ENSG00000206967', 'ENSG00000240698', 'ENSG00000230911', 'ENSG00000149591', 'ENSG00000271412', 'ENSG00000110324', 'LRG_151', 'ENSG00000019144', 'ENSG00000255176', 'ENSG00000284246', 'ENSG00000254909', 'ENSG00000271751', 'ENSG00000284148', 'ENSG00000137642', 'ENSG00000200879', 'ENSG00000254694', 'ENSG00000274197', 'ENSG00000166106', 'ENSG00000202318', 'ENSG00000139192', 'ENSG00000251898', 'ENSG00000244131', 'ENSG00000257027', 'ENSG00000207983', 'ENSG00000276842', 'ENSG00000258134', 'ENSG00000275854', 'ENSG00000201708', 'ENSG00000199886', 'ENSG00000273765', 'ENSG00000206612', 'ENSG00000207313', 'ENSG00000264201', 'ENSG00000258284', 'ENSG00000135472', 'ENSG00000206992', 'ENSG00000273658', 'ENSG00000237493', 'ENSG00000257740', 'ENSG00000207031', 'ENSG00000166886', 'ENSG00000280320', 'ENSG00000243020', 'ENSG00000277247', 'ENSG00000283818', 'ENSG00000257666', 'ENSG00000212443', 'ENSG00000207414', 'ENSG00000200274', 'ENSG00000241413', 'ENSG00000279360', 'ENSG00000241680', 'ENSG00000266370', 'ENSG00000258323', 'ENSG00000276908', 'ENSG00000135111', 'ENSG00000274859', 'ENSG00000256609', 'ENSG00000266704', 'ENSG00000279953', 'ENSG00000269997', 'ENSG00000275967', 'ENSG00000280634', 'ENSG00000256804', 'ENSG00000263978', 'ENSG00000252952', 'ENSG00000207500', 'ENSG00000202237', 'ENSG00000238025', 'ENSG00000253051', 'ENSG00000199477', 'ENSG00000208006', 'ENSG00000252696', 'ENSG00000283815', 'ENSG00000226977', 'ENSG00000275919', 'ENSG00000277942', 'ENSG00000233695', 'ENSG00000265450', 'ENSG00000226158', 'ENSG00000222489', 'ENSG00000238344', 'ENSG00000129566', 'ENSG00000284122', 'ENSG00000199436', 'ENSG00000200785', 'ENSG00000258870', 'ENSG00000211871', 'ENSG00000211877', 'ENSG00000283856', 'ENSG00000199804', 'ENSG00000258640', 'ENSG00000223087', 'ENSG00000207046', 'ENSG00000239043', 'ENSG00000273675', 'ENSG00000258745', 'ENSG00000252019', 'ENSG00000258469', 'ENSG00000200742', 'ENSG00000243023', 'ENSG00000258656', 'ENSG00000206822', 'ENSG00000221537', 'ENSG00000258626', 'ENSG00000258967', 'ENSG00000259109', 'ENSG00000283944', 'ENSG00000258769', 'ENSG00000222990', 'ENSG00000241499', 'ENSG00000277826', 'ENSG00000207989', 'ENSG00000207608', 'ENSG00000199575', 'ENSG00000194717', 'ENSG00000207934', 'ENSG00000207993', 'ENSG00000276352', 'ENSG00000199092', 'ENSG00000207208', 'ENSG00000211907', 'ENSG00000276610', 'ENSG00000207133', 'ENSG00000207460', 'ENSG00000251896', 'ENSG00000207245', 'ENSG00000212428', 'ENSG00000277202', 'ENSG00000137801', 'ENSG00000278621', 'ENSG00000278769', 'ENSG00000200391', 'ENSG00000200419', 'ENSG00000259715', 'ENSG00000284284', 'ENSG00000259378', 'ENSG00000289025', 'ENSG00000282100', 'ENSG00000238311', 'ENSG00000252712', 'ENSG00000200873', 'ENSG00000283798', 'ENSG00000260165', 'ENSG00000260892', 'ENSG00000259652', 'ENSG00000270919', 'ENSG00000284059', 'ENSG00000259308', 'ENSG00000276278', 'ENSG00000277578', 'ENSG00000259654', 'ENSG00000264796', 'ENSG00000228998', 'ENSG00000259376', 'ENSG00000287892', 'ENSG00000284346', 'ENSG00000252561', 'ENSG00000279031', 'ENSG00000273776', 'ENSG00000199482', 'ENSG00000274038', 'ENSG00000257769', 'ENSG00000280206', 'ENSG00000263065', 'ENSG00000262974', 'ENSG00000276548', 'ENSG00000212593', 'ENSG00000260452', 'ENSG00000284541', 'ENSG00000251706', 'ENSG00000260909', 'ENSG00000252569', 'ENSG00000260145', 'ENSG00000260650', 'ENSG00000262141', 'ENSG00000284259', 'ENSG00000279815', 'ENSG00000279123', 'ENSG00000207525', 'ENSG00000275109', 'ENSG00000278598', 'ENSG00000262434', 'ENSG00000243704', 'ENSG00000283824', 'ENSG00000275084', 'ENSG00000212163', 'ENSG00000252456', 'ENSG00000263165', 'ENSG00000274363', 'ENSG00000278517', 'ENSG00000179094', 'ENSG00000244604', 'ENSG00000233966', 'ENSG00000274111', 'ENSG00000207839', 'ENSG00000227077', 'ENSG00000235672', 'ENSG00000252349', 'ENSG00000284532', 'ENSG00000265168', 'ENSG00000240494', 'ENSG00000238597', 'ENSG00000283819', 'ENSG00000132589', 'ENSG00000264862', 'ENSG00000284424', 'ENSG00000280020', 'ENSG00000202100', 'ENSG00000252699', 'ENSG00000277057', 'ENSG00000238793', 'ENSG00000126368', 'ENSG00000284144', 'ENSG00000283929', 'ENSG00000275273', 'ENSG00000267595', 'ENSG00000275107', 'ENSG00000278223', 'ENSG00000266341', 'ENSG00000275025', 'ENSG00000239823', 'ENSG00000284564', 'ENSG00000283385', 'ENSG00000284595', 'ENSG00000262870', 'ENSG00000267601', 'ENSG00000266654', 'ENSG00000199856', 'ENSG00000252680', 'ENSG00000279275', 'ENSG00000284453', 'ENSG00000242182', 'ENSG00000199357', 'ENSG00000199366', 'ENSG00000264911', 'ENSG00000279074', 'ENSG00000207797', 'ENSG00000267558', 'ENSG00000202093', 'ENSG00000206602', 'ENSG00000200527', 'ENSG00000267504', 'ENSG00000266900', 'ENSG00000267430', 'ENSG00000276934', 'ENSG00000279009', 'ENSG00000277904', 'ENSG00000266437', 'ENSG00000284553', 'ENSG00000212497', 'ENSG00000235686', 'ENSG00000274417', 'ENSG00000267598', 'ENSG00000207980', 'ENSG00000240106', 'ENSG00000279172', 'ENSG00000207821', 'ENSG00000271283', 'ENSG00000268992', 'ENSG00000267005', 'ENSG00000275132', 'ENSG00000277759', 'ENSG00000275652', 'ENSG00000277533', 'ENSG00000267590', 'ENSG00000211580', 'ENSG00000211513', 'ENSG00000221803', 'ENSG00000087074', 'ENSG00000273898', 'ENSG00000202503', 'ENSG00000200259', 'ENSG00000283842', 'ENSG00000221241', 'ENSG00000256683', 'ENSG00000274380', 'ENSG00000250731', 'ENSG00000283330', 'ENSG00000275519', 'ENSG00000284029', 'ENSG00000276488', 'ENSG00000196724', 'ENSG00000268293', 'ENSG00000143878', 'ENSG00000207653', 'ENSG00000273090', 'ENSG00000207087', 'ENSG00000276670', 'ENSG00000272814', 'ENSG00000235369', 'ENSG00000266649', 'ENSG00000207016', 'ENSG00000265420', 'ENSG00000265003', 'ENSG00000264157', 'ENSG00000212283', 'ENSG00000202046', 'ENSG00000233286', 'ENSG00000222467', 'ENSG00000200250', 'ENSG00000202532', 'ENSG00000284149', 'ENSG00000270390', 'ENSG00000234272', 'ENSG00000200377', 'ENSG00000200121', 'ENSG00000207744', 'ENSG00000237260', 'ENSG00000270956', 'ENSG00000270277', 'ENSG00000232568', 'ENSG00000284180', 'ENSG00000274845', 'ENSG00000252759', 'ENSG00000235579', 'ENSG00000277502', 'ENSG00000212246', 'ENSG00000231063', 'ENSG00000284173', 'ENSG00000251971', 'ENSG00000206797', 'ENSG00000271798', 'ENSG00000252422', 'ENSG00000221806', 'ENSG00000199509', 'ENSG00000274507', 'ENSG00000276952', 'ENSG00000207635', 'ENSG00000201151', 'ENSG00000252549', 'ENSG00000234274', 'ENSG00000289373', 'ENSG00000231241', 'ENSG00000276169', 'ENSG00000209042', 'ENSG00000216141', 'ENSG00000283513', 'ENSG00000274034', 'ENSG00000212564', 'ENSG00000283904', 'ENSG00000233956', 'ENSG00000284448', 'ENSG00000276873', 'ENSG00000157601', 'ENSG00000228318', 'ENSG00000264452', 'ENSG00000230982', 'ENSG00000235617', 'ENSG00000206739', 'ENSG00000284140', 'ENSG00000225282', 'ENSG00000200976', 'ENSG00000276057', 'ENSG00000276965', 'ENSG00000212542', 'ENSG00000199248', 'ENSG00000284289', 'ENSG00000273096', 'ENSG00000263764', 'ENSG00000274552', 'ENSG00000273353', 'ENSG00000221598', 'ENSG00000205560', 'ENSG00000276678', 'ENSG00000213872', 'ENSG00000276147', 'ENSG00000206645', 'ENSG00000244357', 'ENSG00000221585', 'ENSG00000271973', 'ENSG00000280904', 'ENSG00000279144', 'ENSG00000265355', 'ENSG00000242299', 'ENSG00000284134', 'ENSG00000264623', 'ENSG00000242829', 'ENSG00000264477', 'ENSG00000272020', 'ENSG00000207088', 'ENSG00000198987', 'ENSG00000238741', 'ENSG00000199536', 'ENSG00000238942', 'ENSG00000200418', 'ENSG00000252620', 'ENSG00000241868', 'ENSG00000284146', 'ENSG00000207642', 'ENSG00000202392', 'ENSG00000202054', 'ENSG00000223086', 'ENSG00000212282', 'ENSG00000251722', 'ENSG00000250473', 'ENSG00000222236', 'ENSG00000207307', 'ENSG00000266421', 'ENSG00000276003', 'ENSG00000199102', 'ENSG00000282855', 'ENSG00000222594', 'ENSG00000238713', 'ENSG00000238721', 'ENSG00000252544', 'ENSG00000200350', 'ENSG00000280284', 'ENSG00000271817', 'ENSG00000252157', 'ENSG00000284000', 'ENSG00000201223', 'ENSG00000206770', 'ENSG00000207336', 'ENSG00000238961', 'ENSG00000236447', 'ENSG00000238835', 'ENSG00000284078', 'ENSG00000212259', 'ENSG00000223179', 'ENSG00000202082', 'ENSG00000275939', 'ENSG00000283678', 'ENSG00000263597', 'ENSG00000266751', 'ENSG00000201298', 'ENSG00000263963', 'ENSG00000200959', 'ENSG00000200756', 'ENSG00000200051', 'ENSG00000248696', 'ENSG00000200227', 'ENSG00000263361', 'ENSG00000206819', 'ENSG00000199035', 'ENSG00000283612', 'ENSG00000120129', 'ENSG00000206624', 'ENSG00000253869', 'ENSG00000265083', 'ENSG00000201483', 'ENSG00000288708', 'ENSG00000288851', 'ENSG00000273712', 'ENSG00000278104', 'ENSG00000216101', 'ENSG00000201785', 'ENSG00000266776', 'ENSG00000201555', 'ENSG00000252512', 'ENSG00000223534', 'ENSG00000276712', 'ENSG00000240733', 'ENSG00000206977', 'ENSG00000207371', 'ENSG00000266619', 'ENSG00000288614', 'ENSG00000242865', 'ENSG00000207023', 'ENSG00000252156', 'ENSG00000199630', 'ENSG00000219902', 'ENSG00000218872', 'ENSG00000252554', 'ENSG00000221500', 'ENSG00000207292', 'ENSG00000220867', 'ENSG00000243373', 'ENSG00000222958', 'ENSG00000284047', 'ENSG00000264474', 'ENSG00000221783', 'ENSG00000200656', 'ENSG00000232491', 'ENSG00000270555', 'ENSG00000222432', 'ENSG00000200769', 'ENSG00000221520', 'ENSG00000004799', 'ENSG00000252824', 'ENSG00000289360', 'ENSG00000288914', 'ENSG00000238832', 'ENSG00000234358', 'ENSG00000207588', 'ENSG00000223189', 'ENSG00000229413', 'ENSG00000200629', 'ENSG00000270157', 'ENSG00000229591', 'ENSG00000270405', 'ENSG00000273836', 'ENSG00000265251', 'ENSG00000254172', 'ENSG00000253579', 'ENSG00000207199', 'ENSG00000202514', 'ENSG00000201329', 'ENSG00000253952', 'ENSG00000254352', 'ENSG00000200525', 'ENSG00000207804', 'ENSG00000266324', 'ENSG00000207704', 'ENSG00000283172', 'ENSG00000253043', 'ENSG00000283197', 'ENSG00000254324', 'ENSG00000284200', 'ENSG00000254690', 'ENSG00000284310', 'ENSG00000283647', 'ENSG00000279336', 'ENSG00000284195', 'ENSG00000202217', 'ENSG00000284179', 'ENSG00000199165', 'ENSG00000207617', 'ENSG00000284459', 'ENSG00000199202', 'ENSG00000081386', 'ENSG00000252942', 'ENSG00000199525', 'ENSG00000222351', 'ENSG00000207991', 'ENSG00000199313', 'ENSG00000207581', 'ENSG00000263403', 'ENSG00000207693', 'ENSG00000230180', 'ENSG00000201592', 'ENSG00000251869', 'ENSG00000207758', 'ENSG00000208012', 'ENSG00000228906', 'ENSG00000212027', 'ENSG00000275625', 'ENSG00000276158', 'ENSG00000284538', 'ENSG00000284450']\n",
       "</pre>\n",
       "    </div>\n",
       "    "
      ],
      "text/plain": [
       "<IPython.core.display.HTML object>"
      ]
     },
     "metadata": {},
     "output_type": "display_data"
    }
   ],
   "source": [
    "def my_print_function():\n",
    "    print(f\"There are {len(features)} features.\")\n",
    "    print(features)\n",
    "pya.utils.print_to_scrollable_output(my_print_function)"
   ]
  },
  {
   "cell_type": "markdown",
   "id": "7185e03b-7760-4d1c-bac5-a211a71b639b",
   "metadata": {},
   "source": [
    "#### reference_feature_values"
   ]
  },
  {
   "cell_type": "code",
   "execution_count": 12,
   "id": "6436fd01-0a8e-41a5-b584-2c020136ff97",
   "metadata": {},
   "outputs": [
    {
     "data": {
      "text/html": [
       "\n",
       "    <div style=\"overflow-x: scroll; overflow-y: scroll; border: 1px solid black; background-color: white; !important; color: black; !important;\">\n",
       "        <pre>None\n",
       "</pre>\n",
       "    </div>\n",
       "    "
      ],
      "text/plain": [
       "<IPython.core.display.HTML object>"
      ]
     },
     "metadata": {},
     "output_type": "display_data"
    }
   ],
   "source": [
    "def my_print_function():\n",
    "    if reference_feature_values:\n",
    "        print(f\"There are {len(reference_feature_values)} reference feature values.\")\n",
    "    print(reference_feature_values)\n",
    "pya.utils.print_to_scrollable_output(my_print_function)"
   ]
  },
  {
   "cell_type": "markdown",
   "id": "823afc02-1a5c-4fea-a710-52cd565b0d51",
   "metadata": {},
   "source": [
    "#### preprocessing"
   ]
  },
  {
   "cell_type": "code",
   "execution_count": 13,
   "id": "960c5ede-3175-4192-a358-bf5ccb41074f",
   "metadata": {},
   "outputs": [
    {
     "data": {
      "text/html": [
       "\n",
       "    <div style=\"overflow-x: scroll; overflow-y: scroll; border: 1px solid black; background-color: white; !important; color: black; !important;\">\n",
       "        <pre>None\n",
       "</pre>\n",
       "    </div>\n",
       "    "
      ],
      "text/plain": [
       "<IPython.core.display.HTML object>"
      ]
     },
     "metadata": {},
     "output_type": "display_data"
    }
   ],
   "source": [
    "def my_print_function():\n",
    "    print(preprocessing)\n",
    "    if preprocessing:\n",
    "        print(preprocessing_helper_objects)\n",
    "pya.utils.print_to_scrollable_output(my_print_function)"
   ]
  },
  {
   "cell_type": "markdown",
   "id": "ede07d8b-1317-476a-82c0-0cf56bf84328",
   "metadata": {},
   "source": [
    "#### postprocessing"
   ]
  },
  {
   "cell_type": "code",
   "execution_count": 14,
   "id": "40fe1f52-ad50-4b84-89c7-c5d1d3fff139",
   "metadata": {},
   "outputs": [
    {
     "data": {
      "text/html": [
       "\n",
       "    <div style=\"overflow-x: scroll; overflow-y: scroll; border: 1px solid black; background-color: white; !important; color: black; !important;\">\n",
       "        <pre>None\n",
       "</pre>\n",
       "    </div>\n",
       "    "
      ],
      "text/plain": [
       "<IPython.core.display.HTML object>"
      ]
     },
     "metadata": {},
     "output_type": "display_data"
    }
   ],
   "source": [
    "def my_print_function():\n",
    "    print(postprocessing)\n",
    "    if postprocessing:\n",
    "        print(postprocessing)\n",
    "pya.utils.print_to_scrollable_output(my_print_function)"
   ]
  },
  {
   "cell_type": "markdown",
   "id": "134668eb-d792-4881-8e70-fb6fa113f1d0",
   "metadata": {},
   "source": [
    "#### weight_dict"
   ]
  },
  {
   "cell_type": "code",
   "execution_count": 15,
   "id": "658317e5-44bd-4621-877c-5db57494c968",
   "metadata": {},
   "outputs": [
    {
     "data": {
      "text/html": [
       "\n",
       "    <div style=\"overflow-x: scroll; overflow-y: scroll; border: 1px solid black; background-color: white; !important; color: black; !important;\">\n",
       "        <pre>Layer: center\n",
       "Shape: torch.Size([870])\n",
       "tensor([0., 0., 0., 0., 0., 0., 0., 0., 0., 0., 0., 0., 0., 0., 0., 0., 0., 0., 0., 0., 0., 0., 0., 0.,\n",
       "        0., 0., 0., 0., 0., 0., 0., 0., 0., 0., 0., 0., 0., 0., 0., 0., 0., 0., 0., 0., 0., 0., 0., 0.,\n",
       "        0., 0., 0., 0., 0., 0., 0., 0., 0., 0., 0., 0., 0., 0., 0., 0., 0., 0., 0., 0., 0., 0., 0., 0.,\n",
       "        0., 0., 0., 0., 0., 0., 0., 0., 0., 0., 0., 0., 0., 0., 0., 0., 0., 0., 0., 0., 0., 0., 0., 0.,\n",
       "        0., 0., 0., 0., 0., 0., 0., 0., 0., 0., 0., 0., 0., 0., 0., 0., 0., 0., 0., 0., 0., 0., 0., 0.,\n",
       "        0., 0., 0., 0., 0., 0., 0., 0., 0., 0., 0., 0., 0., 0., 0., 0., 0., 0., 0., 0., 0., 0., 0., 0.,\n",
       "        0., 0., 0., 0., 0., 0., 0., 0., 0., 0., 0., 0., 0., 0., 0., 0., 0., 0., 0., 0., 0., 0., 0., 0.,\n",
       "        0., 0., 0., 0., 0., 0., 0., 0., 0., 0., 0., 0., 0., 0., 0., 0., 0., 0., 0., 0., 0., 0., 0., 0.,\n",
       "        0., 0., 0., 0., 0., 0., 0., 0., 0., 0., 0., 0., 0., 0., 0., 0., 0., 0., 0., 0., 0., 0., 0., 0.,\n",
       "        0., 0., 0., 0., 0., 0., 0., 0., 0., 0., 0., 0., 0., 0., 0., 0., 0., 0., 0., 0., 0., 0., 0., 0.,\n",
       "        0., 0., 0., 0., 0., 0., 0., 0., 0., 0., 0., 0., 0., 0., 0., 0., 0., 0., 0., 0., 0., 0., 0., 0.,\n",
       "        0., 0., 0., 0., 0., 0., 0., 0., 0., 0., 0., 0., 0., 0., 0., 0., 0., 0., 0., 0., 0., 0., 0., 0.,\n",
       "        0., 0., 0., 0., 0., 0., 0., 0., 0., 0., 0., 0., 0., 0., 0., 0., 0., 0., 0., 0., 0., 0., 0., 0.,\n",
       "        0., 0., 0., 0., 0., 0., 0., 0., 0., 0., 0., 0., 0., 0., 0., 0., 0., 0., 0., 0., 0., 0., 0., 0.,\n",
       "        0., 0., 0., 0., 0., 0., 0., 0., 0., 0., 0., 0., 0., 0., 0., 0., 0., 0., 0., 0., 0., 0., 0., 0.,\n",
       "        0., 0., 0., 0., 0., 0., 0., 0., 0., 0., 0., 0., 0., 0., 0., 0., 0., 0., 0., 0., 0., 0., 0., 0.,\n",
       "        0., 0., 0., 0., 0., 0., 0., 0., 0., 0., 0., 0., 0., 0., 0., 0., 0., 0., 0., 0., 0., 0., 0., 0.,\n",
       "        0., 0., 0., 0., 0., 0., 0., 0., 0., 0., 0., 0., 0., 0., 0., 0., 0., 0., 0., 0., 0., 0., 0., 0.,\n",
       "        0., 0., 0., 0., 0., 0., 0., 0., 0., 0., 0., 0., 0., 0., 0., 0., 0., 0., 0., 0., 0., 0., 0., 0.,\n",
       "        0., 0., 0., 0., 0., 0., 0., 0., 0., 0., 0., 0., 0., 0., 0., 0., 0., 0., 0., 0., 0., 0., 0., 0.,\n",
       "        0., 0., 0., 0., 0., 0., 0., 0., 0., 0., 0., 0., 0., 0., 0., 0., 0., 0., 0., 0., 0., 0., 0., 0.,\n",
       "        0., 0., 0., 0., 0., 0., 0., 0., 0., 0., 0., 0., 0., 0., 0., 0., 0., 0., 0., 0., 0., 0., 0., 0.,\n",
       "        0., 0., 0., 0., 0., 0., 0., 0., 0., 0., 0., 0., 0., 0., 0., 0., 0., 0., 0., 0., 0., 0., 0., 0.,\n",
       "        0., 0., 0., 0., 0., 0., 0., 0., 0., 0., 0., 0., 0., 0., 0., 0., 0., 0., 0., 0., 0., 0., 0., 0.,\n",
       "        0., 0., 0., 0., 0., 0., 0., 0., 0., 0., 0., 0., 0., 0., 0., 0., 0., 0., 0., 0., 0., 0., 0., 0.,\n",
       "        0., 0., 0., 0., 0., 0., 0., 0., 0., 0., 0., 0., 0., 0., 0., 0., 0., 0., 0., 0., 0., 0., 0., 0.,\n",
       "        0., 0., 0., 0., 0., 0., 0., 0., 0., 0., 0., 0., 0., 0., 0., 0., 0., 0., 0., 0., 0., 0., 0., 0.,\n",
       "        0., 0., 0., 0., 0., 0., 0., 0., 0., 0., 0., 0., 0., 0., 0., 0., 0., 0., 0., 0., 0., 0., 0., 0.,\n",
       "        0., 0., 0., 0., 0., 0., 0., 0., 0., 0., 0., 0., 0., 0., 0., 0., 0., 0., 0., 0., 0., 0., 0., 0.,\n",
       "        0., 0., 0., 0., 0., 0., 0., 0., 0., 0., 0., 0., 0., 0., 0., 0., 0., 0., 0., 0., 0., 0., 0., 0.,\n",
       "        0., 0., 0., 0., 0., 0., 0., 0., 0., 0., 0., 0., 0., 0., 0., 0., 0., 0., 0., 0., 0., 0., 0., 0.,\n",
       "        0., 0., 0., 0., 0., 0., 0., 0., 0., 0., 0., 0., 0., 0., 0., 0., 0., 0., 0., 0., 0., 0., 0., 0.,\n",
       "        0., 0., 0., 0., 0., 0., 0., 0., 0., 0., 0., 0., 0., 0., 0., 0., 0., 0., 0., 0., 0., 0., 0., 0.,\n",
       "        0., 0., 0., 0., 0., 0., 0., 0., 0., 0., 0., 0., 0., 0., 0., 0., 0., 0., 0., 0., 0., 0., 0., 0.,\n",
       "        0., 0., 0., 0., 0., 0., 0., 0., 0., 0., 0., 0., 0., 0., 0., 0., 0., 0., 0., 0., 0., 0., 0., 0.,\n",
       "        0., 0., 0., 0., 0., 0., 0., 0., 0., 0., 0., 0., 0., 0., 0., 0., 0., 0., 0., 0., 0., 0., 0., 0.,\n",
       "        0., 0., 0., 0., 0., 0.])\n",
       "Layer: rotation\n",
       "Shape: torch.Size([870, 256])\n",
       "tensor([[ 0.0236,  0.0365,  0.0500,  ..., -0.0715,  0.0666,  0.0385],\n",
       "        [ 0.0275, -0.0592,  0.0363,  ..., -0.0052,  0.0260, -0.0265],\n",
       "        [ 0.0465,  0.0489, -0.0012,  ...,  0.0010, -0.0144, -0.0053],\n",
       "        ...,\n",
       "        [ 0.0029, -0.0035, -0.0148,  ..., -0.0118, -0.0146, -0.0057],\n",
       "        [ 0.0054,  0.0007, -0.0205,  ..., -0.0006,  0.0018, -0.0058],\n",
       "        [ 0.0339, -0.0034,  0.0359,  ..., -0.0173,  0.0222,  0.0049]])\n",
       "Layer: linear.weight\n",
       "Shape: torch.Size([1, 256])\n",
       "tensor([[ 0.0000e+00, -1.2875e+00, -4.0237e-01, -1.5389e+00, -2.0027e+00,\n",
       "         -5.8204e+00,  9.2552e-01,  1.9064e+00,  7.4447e-01, -3.3276e+00,\n",
       "          3.7934e-01, -6.7677e-01, -3.4101e-01,  1.4468e+00,  3.5321e+00,\n",
       "          0.0000e+00, -5.3770e-01, -4.1283e-01,  5.9660e-01, -2.0185e+00,\n",
       "         -1.5536e+00, -1.4146e+00,  1.6753e+00,  3.5561e-01,  1.2713e+00,\n",
       "         -8.4631e-01,  2.1260e-01,  2.8144e-01,  9.4529e-01,  6.8291e-01,\n",
       "          6.7321e-01,  1.0253e+00, -5.9439e-02,  3.9125e-02, -1.1543e+00,\n",
       "          1.3119e+00,  1.5864e-01, -5.7375e-01, -9.1942e-01,  4.6667e-01,\n",
       "         -1.2409e-01,  3.3385e-01, -8.2597e-01,  8.5334e-02,  2.7235e-01,\n",
       "          0.0000e+00,  1.2587e+00,  9.8904e-01,  7.9234e-01,  5.5950e-01,\n",
       "         -3.1951e-01, -5.0835e-01, -1.5295e+00, -9.7008e-01,  3.5504e-01,\n",
       "         -4.6812e-01,  9.6193e-02, -4.1934e-02, -1.1472e+00,  6.3035e-01,\n",
       "          2.2035e-01,  6.7889e-01, -7.4880e-01,  3.9077e-02,  3.9953e-02,\n",
       "         -6.9824e-01,  0.0000e+00, -1.2664e+00,  1.0480e+00, -9.1400e-01,\n",
       "         -9.1582e-01,  1.5765e+00, -1.0928e+00, -1.3252e+00, -1.1189e+00,\n",
       "          3.2804e-01,  1.8999e+00,  2.7807e-01, -3.2801e-01, -1.4600e+00,\n",
       "         -7.1753e-01,  0.0000e+00, -8.5720e-01,  4.7643e-01, -1.0665e+00,\n",
       "         -4.6179e-01,  0.0000e+00, -1.0161e+00, -4.6798e-02,  1.2652e+00,\n",
       "          0.0000e+00, -2.0699e-02, -1.1400e+00,  2.6288e-01,  4.3244e-01,\n",
       "          2.6892e-01,  7.5352e-01,  4.8546e-01, -2.3136e-01, -8.7471e-01,\n",
       "          3.3165e-01, -1.0508e+00, -3.9784e-01, -6.7149e-01, -3.0194e-01,\n",
       "          6.8680e-01, -4.3046e-01,  6.0397e-01,  5.8562e-01,  1.0552e+00,\n",
       "          3.8686e-02, -1.5111e-01,  4.0658e-01,  3.9206e-01,  0.0000e+00,\n",
       "          6.5711e-01,  2.4309e-01,  0.0000e+00,  7.0146e-01,  1.9581e-01,\n",
       "          1.7577e-01,  1.8553e-01,  8.5985e-01,  3.5233e-01, -1.3753e-01,\n",
       "         -1.2813e-01,  1.9374e-01, -6.0183e-01, -3.2424e-01, -7.5338e-02,\n",
       "         -1.1479e-01,  6.5472e-01, -3.6314e-01, -1.6630e-01, -4.6408e-01,\n",
       "          2.5338e-01,  4.5202e-01, -1.0876e+00,  1.6292e-01,  2.4471e-01,\n",
       "         -3.6072e-01,  3.4311e-01,  7.1463e-01,  0.0000e+00,  2.6126e-01,\n",
       "          5.1152e-01,  5.4317e-01,  4.3581e-01,  5.0935e-01, -4.3122e-01,\n",
       "         -3.8241e-01,  9.1389e-01, -2.5858e-01,  1.2524e-01,  3.2438e-01,\n",
       "          6.9252e-01, -5.5918e-01, -6.8831e-01, -7.8389e-01,  2.0062e-01,\n",
       "         -1.4192e+00,  6.7729e-02, -5.0324e-01, -2.9711e-01,  1.2337e-01,\n",
       "         -8.4590e-01,  1.0752e-01, -2.3049e-01, -2.6594e-01, -5.7042e-01,\n",
       "          2.6371e-01, -6.9478e-01, -9.6081e-02,  3.2624e-01, -1.0782e+00,\n",
       "         -2.8240e-01, -2.2154e-01,  5.2191e-01, -9.4911e-01, -3.2565e-01,\n",
       "         -2.0640e-01, -4.6093e-01,  9.9933e-01,  3.4936e-01, -2.7980e-01,\n",
       "          5.4573e-01, -2.4926e-02, -1.5496e-02,  7.4712e-01, -3.0355e-01,\n",
       "          2.8765e-01, -7.0904e-01, -6.7209e-01, -4.7632e-01,  1.8582e-01,\n",
       "          4.8572e-01,  0.0000e+00,  6.5721e-01,  3.5683e-01,  3.1567e-01,\n",
       "          5.2392e-01,  1.6001e-01, -3.2671e-02, -2.6418e-01, -7.1637e-01,\n",
       "          4.2090e-01,  2.4435e-01,  5.5736e-01,  2.2493e-02,  0.0000e+00,\n",
       "         -2.9888e-01, -9.9423e-01,  1.2808e+00, -3.2914e-01, -2.4777e-01,\n",
       "          1.5041e-02,  2.9759e-01, -4.3170e-02, -3.0432e-01, -1.1681e-01,\n",
       "         -7.0067e-01, -2.2118e-01,  3.7914e-01,  0.0000e+00,  1.6258e-01,\n",
       "         -3.5475e-01, -4.1635e-02,  1.3162e-01,  2.4505e-01, -4.2150e-01,\n",
       "          1.2024e-01, -3.0989e-01,  1.4880e-01,  1.2457e-01,  1.3368e-02,\n",
       "         -2.7730e-01,  3.2584e-03, -9.0569e-01,  1.4292e-01,  7.6419e-01,\n",
       "          1.1604e-01, -1.8226e-03,  2.2168e-01, -2.8024e-01,  1.1606e+00,\n",
       "          2.1501e+00, -2.0708e-01,  1.5558e-03,  8.5888e-01, -4.8717e-01,\n",
       "         -8.2402e-01,  3.8138e-03, -7.9734e-01,  9.6548e-02,  7.4399e-01,\n",
       "         -6.1668e-01]])\n",
       "Layer: linear.bias\n",
       "Shape: torch.Size([1])\n",
       "tensor([42.6736])\n",
       "</pre>\n",
       "    </div>\n",
       "    "
      ],
      "text/plain": [
       "<IPython.core.display.HTML object>"
      ]
     },
     "metadata": {},
     "output_type": "display_data"
    }
   ],
   "source": [
    "def my_print_function():\n",
    "    for name, param in model.named_parameters():\n",
    "        print(f\"Layer: {name}\")\n",
    "        print(f\"Shape: {param.shape}\")\n",
    "        print(param.data)\n",
    "pya.utils.print_to_scrollable_output(my_print_function)"
   ]
  },
  {
   "cell_type": "markdown",
   "id": "275815e5-5630-4163-bc61-7119a9c805c1",
   "metadata": {},
   "source": [
    "## Write clock dictionary"
   ]
  },
  {
   "cell_type": "markdown",
   "id": "3b176620-afb5-403c-9948-07639072bb44",
   "metadata": {},
   "source": [
    "Let's put everything together and save:"
   ]
  },
  {
   "cell_type": "code",
   "execution_count": 16,
   "id": "35d00b76-513d-4d8f-8824-6d810ee9d8f5",
   "metadata": {},
   "outputs": [],
   "source": [
    "clock_dict = {\n",
    "    # Metadata\n",
    "    'clock_name': clock_name,\n",
    "    'data_type': data_type,\n",
    "    'model_class': model_class,\n",
    "    'species': species,\n",
    "    'year': year,\n",
    "    'approved_by_author': approved_by_author,\n",
    "    'citation': citation,\n",
    "    'doi': doi,\n",
    "    \"notes\": notes,\n",
    "\n",
    "    # Data\n",
    "    'reference_feature_values': reference_feature_values if reference_feature_values else None,\n",
    "    'preprocessing': preprocessing if preprocessing else None, \n",
    "    'features': features,\n",
    "    'weight_dict': model.state_dict(),\n",
    "    'postprocessing': postprocessing if postprocessing else None,\n",
    "}\n",
    "\n",
    "torch.save(clock_dict, f'../weights/{clock_name}.pt')"
   ]
  },
  {
   "cell_type": "markdown",
   "id": "c1dd2efe-2bd6-4e1b-92ee-d110c25ad29c",
   "metadata": {},
   "source": [
    "## Clear directory"
   ]
  },
  {
   "cell_type": "markdown",
   "id": "158aa71f-7bbc-4c52-b7ef-16ba45d5e1fd",
   "metadata": {},
   "source": [
    "Delete all files that are not clock jupyter notebooks:"
   ]
  },
  {
   "cell_type": "code",
   "execution_count": 17,
   "id": "db4bd42b-c62f-4557-9ebc-d8194a240137",
   "metadata": {},
   "outputs": [
    {
     "name": "stdout",
     "output_type": "stream",
     "text": [
      "Deleted folder: HistoneClocks\n",
      "Deleted folder: .ipynb_checkpoints\n"
     ]
    }
   ],
   "source": [
    "# Function to remove a folder and all its contents\n",
    "def remove_folder(path):\n",
    "    try:\n",
    "        shutil.rmtree(path)\n",
    "        print(f\"Deleted folder: {path}\")\n",
    "    except Exception as e:\n",
    "        print(f\"Error deleting folder {path}: {e}\")\n",
    "\n",
    "# Get a list of all files and folders in the current directory\n",
    "all_items = os.listdir('.')\n",
    "\n",
    "# Loop through the items\n",
    "for item in all_items:\n",
    "    # Check if it's a file and does not end with .ipynb\n",
    "    if os.path.isfile(item) and not item.endswith('.ipynb'):\n",
    "        os.remove(item)\n",
    "        print(f\"Deleted file: {item}\")\n",
    "    # Check if it's a folder\n",
    "    elif os.path.isdir(item):\n",
    "        remove_folder(item)"
   ]
  }
 ],
 "metadata": {
  "kernelspec": {
   "display_name": "Python 3",
   "language": "python",
   "name": "python3"
  },
  "language_info": {
   "codemirror_mode": {
    "name": "ipython",
    "version": 3
   },
   "file_extension": ".py",
   "mimetype": "text/x-python",
   "name": "python",
   "nbconvert_exporter": "python",
   "pygments_lexer": "ipython3",
   "version": "3.9.17"
  }
 },
 "nbformat": 4,
 "nbformat_minor": 5
}

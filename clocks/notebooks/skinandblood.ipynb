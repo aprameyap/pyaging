{
 "cells": [
  {
   "cell_type": "markdown",
   "id": "2f04eee0-5928-4e74-a754-6dc2e528810c",
   "metadata": {},
   "source": [
    "# SkinAndBlood"
   ]
  },
  {
   "cell_type": "markdown",
   "id": "a3f514a3-772c-4a14-afdf-5a8376851ff4",
   "metadata": {},
   "source": [
    "## Index\n",
    "1. [Define required clock parameters](#Define-required-clock-parameters)\n",
    "2. [Download necessary data](#Download-necessary-data)\n",
    "3. [Load data](#-Load-data)\n",
    "4. [Extract features and weights](#Extract-features-and-weights)\n",
    "5. [Load weights into pyaging model](#Load-weights-into-pyaging-model)\n",
    "6. [Add reference values](#Add-reference-values)\n",
    "7. [Add preprocessing and postprocesssing steps](#Add-preprocessing-and-postprocesssing-steps)\n",
    "8. [Check all data objects](#Check-all-data-objects)\n",
    "9. [Write clock dictionary](#Write-clock-dictionary)\n",
    "10. [Clear directory](#Clear-directory)"
   ]
  },
  {
   "cell_type": "markdown",
   "id": "d95fafdc-643a-40ea-a689-200bd132e90c",
   "metadata": {},
   "source": [
    "Let's first import some packages:"
   ]
  },
  {
   "cell_type": "code",
   "execution_count": 1,
   "id": "4adfb4de-cd79-4913-a1af-9e23e9e236c9",
   "metadata": {},
   "outputs": [],
   "source": [
    "import os\n",
    "import marshal\n",
    "import shutil\n",
    "import json\n",
    "import torch\n",
    "import pandas as pd\n",
    "import pyaging as pya"
   ]
  },
  {
   "cell_type": "markdown",
   "id": "c8c0c937-d9b6-4756-99b0-91de591220e0",
   "metadata": {},
   "source": [
    "## Define required clock parameters"
   ]
  },
  {
   "cell_type": "markdown",
   "id": "cf95ddca-625e-4c70-a246-c3cb12df96f8",
   "metadata": {},
   "source": [
    "Let's define some required information first:"
   ]
  },
  {
   "cell_type": "code",
   "execution_count": 2,
   "id": "5281776d-0549-445f-beec-39c31ec7dbe1",
   "metadata": {},
   "outputs": [],
   "source": [
    "clock_name = 'skinandblood'\n",
    "data_type = 'methylation'\n",
    "model_class = 'LinearModel'\n",
    "species = 'Homo sapiens'\n",
    "year = 2018\n",
    "approved_by_author = '⌛'\n",
    "citation = \"Horvath, Steve, et al. \\\"Epigenetic clock for skin and blood cells applied to Hutchinson Gilford Progeria Syndrome and ex vivo studies.\\\" Aging (Albany NY) 10.7 (2018): 1758.\"\n",
    "doi = \"https://doi.org/10.18632/aging.101508\"\n",
    "notes = None"
   ]
  },
  {
   "cell_type": "markdown",
   "id": "4520c8cb-6c1f-4490-ba4c-6fe78ef002a7",
   "metadata": {},
   "source": [
    "## Download necessary data"
   ]
  },
  {
   "cell_type": "markdown",
   "id": "f8d77386-a524-492b-a002-18d24b6ca49a",
   "metadata": {},
   "source": [
    "#### Download directly with curl"
   ]
  },
  {
   "cell_type": "code",
   "execution_count": 3,
   "id": "0003b39e-e032-4822-aff7-970583187d22",
   "metadata": {},
   "outputs": [
    {
     "data": {
      "text/plain": [
       "0"
      ]
     },
     "execution_count": 3,
     "metadata": {},
     "output_type": "execute_result"
    }
   ],
   "source": [
    "supplementary_url = \"https://www.aging-us.com/article/101508/supplementary/SD5/0/aging-v10i7-101508-supplementary-material-SD5.csv\"\n",
    "supplementary_file_name = \"coefficients.csv\"\n",
    "os.system(f\"curl -o {supplementary_file_name} {supplementary_url}\")"
   ]
  },
  {
   "cell_type": "markdown",
   "id": "35615b62-73ac-40b1-8bc1-e904403eb0ae",
   "metadata": {},
   "source": [
    "## Load data"
   ]
  },
  {
   "cell_type": "markdown",
   "id": "232eb94a-04a7-4ac4-ae3e-0e365b443a8e",
   "metadata": {},
   "source": [
    "#### From CSV file"
   ]
  },
  {
   "cell_type": "code",
   "execution_count": 4,
   "id": "45fbc051-f0d2-4b25-9813-ae126f6fedcb",
   "metadata": {},
   "outputs": [],
   "source": [
    "df = pd.read_csv('coefficients.csv')"
   ]
  },
  {
   "cell_type": "markdown",
   "id": "60c676db-2c7c-4c04-9457-97bccd598269",
   "metadata": {},
   "source": [
    "## Extract features and weights"
   ]
  },
  {
   "cell_type": "markdown",
   "id": "87dfda00-5182-4416-8eb1-de91ce2a9e48",
   "metadata": {},
   "source": [
    "First, let's extract the features and weights:"
   ]
  },
  {
   "cell_type": "code",
   "execution_count": 5,
   "id": "e1d1dd13-65ac-4694-8948-3cd94bc19fe1",
   "metadata": {},
   "outputs": [
    {
     "data": {
      "text/html": [
       "<div>\n",
       "<style scoped>\n",
       "    .dataframe tbody tr th:only-of-type {\n",
       "        vertical-align: middle;\n",
       "    }\n",
       "\n",
       "    .dataframe tbody tr th {\n",
       "        vertical-align: top;\n",
       "    }\n",
       "\n",
       "    .dataframe thead th {\n",
       "        text-align: right;\n",
       "    }\n",
       "</style>\n",
       "<table border=\"1\" class=\"dataframe\">\n",
       "  <thead>\n",
       "    <tr style=\"text-align: right;\">\n",
       "      <th></th>\n",
       "      <th>ID</th>\n",
       "      <th>Coef</th>\n",
       "      <th>corAgeTraining</th>\n",
       "      <th>chr</th>\n",
       "      <th>pos</th>\n",
       "      <th>strand</th>\n",
       "      <th>UCSC_RefGene_Name</th>\n",
       "      <th>UCSC_RefGene_Accession</th>\n",
       "      <th>UCSC_RefGene_Group</th>\n",
       "      <th>Phantom4_Enhancers</th>\n",
       "      <th>...</th>\n",
       "      <th>X450k_Enhancer</th>\n",
       "      <th>HMM_Island</th>\n",
       "      <th>Regulatory_Feature_Name</th>\n",
       "      <th>OpenChromatin_NAME</th>\n",
       "      <th>TFBS_NAME</th>\n",
       "      <th>Methyl27_Loci</th>\n",
       "      <th>Methyl450_Loci</th>\n",
       "      <th>CpGnumber</th>\n",
       "      <th>feature</th>\n",
       "      <th>coefficient</th>\n",
       "    </tr>\n",
       "  </thead>\n",
       "  <tbody>\n",
       "    <tr>\n",
       "      <th>0</th>\n",
       "      <td>(Intercept)</td>\n",
       "      <td>-0.447119</td>\n",
       "      <td>NaN</td>\n",
       "      <td>NaN</td>\n",
       "      <td>NaN</td>\n",
       "      <td>NaN</td>\n",
       "      <td>NaN</td>\n",
       "      <td>NaN</td>\n",
       "      <td>NaN</td>\n",
       "      <td>NaN</td>\n",
       "      <td>...</td>\n",
       "      <td>NaN</td>\n",
       "      <td>NaN</td>\n",
       "      <td>NaN</td>\n",
       "      <td>NaN</td>\n",
       "      <td>NaN</td>\n",
       "      <td>NaN</td>\n",
       "      <td>NaN</td>\n",
       "      <td>NaN</td>\n",
       "      <td>(Intercept)</td>\n",
       "      <td>-0.447119</td>\n",
       "    </tr>\n",
       "    <tr>\n",
       "      <th>1</th>\n",
       "      <td>cg12140144</td>\n",
       "      <td>0.363181</td>\n",
       "      <td>0.371780</td>\n",
       "      <td>chr1</td>\n",
       "      <td>2984275.0</td>\n",
       "      <td>-</td>\n",
       "      <td>FLJ42875;PRDM16;FLJ42875;PRDM16</td>\n",
       "      <td>NR_024371;NM_199454;NR_015440;NM_022114</td>\n",
       "      <td>Body;TSS1500;Body;TSS1500</td>\n",
       "      <td>NaN</td>\n",
       "      <td>...</td>\n",
       "      <td>NaN</td>\n",
       "      <td>1:2973786-2977805</td>\n",
       "      <td>NaN</td>\n",
       "      <td>chr1:2976517-2991800</td>\n",
       "      <td>NaN</td>\n",
       "      <td>NaN</td>\n",
       "      <td>True</td>\n",
       "      <td>1.0</td>\n",
       "      <td>cg12140144</td>\n",
       "      <td>0.363181</td>\n",
       "    </tr>\n",
       "    <tr>\n",
       "      <th>2</th>\n",
       "      <td>cg26933021</td>\n",
       "      <td>-0.090500</td>\n",
       "      <td>-0.569687</td>\n",
       "      <td>chr1</td>\n",
       "      <td>12618574.0</td>\n",
       "      <td>-</td>\n",
       "      <td>NaN</td>\n",
       "      <td>NaN</td>\n",
       "      <td>NaN</td>\n",
       "      <td>NaN</td>\n",
       "      <td>...</td>\n",
       "      <td>True</td>\n",
       "      <td>1:12541103-12541183</td>\n",
       "      <td>NaN</td>\n",
       "      <td>NaN</td>\n",
       "      <td>NaN</td>\n",
       "      <td>NaN</td>\n",
       "      <td>True</td>\n",
       "      <td>2.0</td>\n",
       "      <td>cg26933021</td>\n",
       "      <td>-0.090500</td>\n",
       "    </tr>\n",
       "    <tr>\n",
       "      <th>3</th>\n",
       "      <td>cg20822990</td>\n",
       "      <td>-0.007025</td>\n",
       "      <td>0.519172</td>\n",
       "      <td>chr1</td>\n",
       "      <td>17338766.0</td>\n",
       "      <td>-</td>\n",
       "      <td>ATP13A2;ATP13A2;ATP13A2</td>\n",
       "      <td>NM_022089;NM_001141974;NM_001141973</td>\n",
       "      <td>TSS1500;TSS1500;TSS1500</td>\n",
       "      <td>NaN</td>\n",
       "      <td>...</td>\n",
       "      <td>True</td>\n",
       "      <td>NaN</td>\n",
       "      <td>1:17336920-17338827</td>\n",
       "      <td>NaN</td>\n",
       "      <td>NaN</td>\n",
       "      <td>NaN</td>\n",
       "      <td>True</td>\n",
       "      <td>3.0</td>\n",
       "      <td>cg20822990</td>\n",
       "      <td>-0.007025</td>\n",
       "    </tr>\n",
       "    <tr>\n",
       "      <th>4</th>\n",
       "      <td>cg07312601</td>\n",
       "      <td>-0.135092</td>\n",
       "      <td>-0.422485</td>\n",
       "      <td>chr1</td>\n",
       "      <td>19583887.0</td>\n",
       "      <td>-</td>\n",
       "      <td>MRTO4</td>\n",
       "      <td>NM_016183</td>\n",
       "      <td>Body</td>\n",
       "      <td>NaN</td>\n",
       "      <td>...</td>\n",
       "      <td>NaN</td>\n",
       "      <td>NaN</td>\n",
       "      <td>1:19583679-19583890</td>\n",
       "      <td>NaN</td>\n",
       "      <td>NaN</td>\n",
       "      <td>NaN</td>\n",
       "      <td>True</td>\n",
       "      <td>4.0</td>\n",
       "      <td>cg07312601</td>\n",
       "      <td>-0.135092</td>\n",
       "    </tr>\n",
       "  </tbody>\n",
       "</table>\n",
       "<p>5 rows × 22 columns</p>\n",
       "</div>"
      ],
      "text/plain": [
       "            ID      Coef  corAgeTraining   chr         pos strand  \\\n",
       "0  (Intercept) -0.447119             NaN   NaN         NaN    NaN   \n",
       "1   cg12140144  0.363181        0.371780  chr1   2984275.0      -   \n",
       "2   cg26933021 -0.090500       -0.569687  chr1  12618574.0      -   \n",
       "3   cg20822990 -0.007025        0.519172  chr1  17338766.0      -   \n",
       "4   cg07312601 -0.135092       -0.422485  chr1  19583887.0      -   \n",
       "\n",
       "                 UCSC_RefGene_Name                   UCSC_RefGene_Accession  \\\n",
       "0                              NaN                                      NaN   \n",
       "1  FLJ42875;PRDM16;FLJ42875;PRDM16  NR_024371;NM_199454;NR_015440;NM_022114   \n",
       "2                              NaN                                      NaN   \n",
       "3          ATP13A2;ATP13A2;ATP13A2      NM_022089;NM_001141974;NM_001141973   \n",
       "4                            MRTO4                                NM_016183   \n",
       "\n",
       "          UCSC_RefGene_Group Phantom4_Enhancers  ... X450k_Enhancer  \\\n",
       "0                        NaN                NaN  ...            NaN   \n",
       "1  Body;TSS1500;Body;TSS1500                NaN  ...            NaN   \n",
       "2                        NaN                NaN  ...           True   \n",
       "3    TSS1500;TSS1500;TSS1500                NaN  ...           True   \n",
       "4                       Body                NaN  ...            NaN   \n",
       "\n",
       "            HMM_Island Regulatory_Feature_Name    OpenChromatin_NAME  \\\n",
       "0                  NaN                     NaN                   NaN   \n",
       "1    1:2973786-2977805                     NaN  chr1:2976517-2991800   \n",
       "2  1:12541103-12541183                     NaN                   NaN   \n",
       "3                  NaN     1:17336920-17338827                   NaN   \n",
       "4                  NaN     1:19583679-19583890                   NaN   \n",
       "\n",
       "  TFBS_NAME Methyl27_Loci Methyl450_Loci CpGnumber      feature  coefficient  \n",
       "0       NaN           NaN            NaN       NaN  (Intercept)    -0.447119  \n",
       "1       NaN           NaN           True       1.0   cg12140144     0.363181  \n",
       "2       NaN           NaN           True       2.0   cg26933021    -0.090500  \n",
       "3       NaN           NaN           True       3.0   cg20822990    -0.007025  \n",
       "4       NaN           NaN           True       4.0   cg07312601    -0.135092  \n",
       "\n",
       "[5 rows x 22 columns]"
      ]
     },
     "execution_count": 5,
     "metadata": {},
     "output_type": "execute_result"
    }
   ],
   "source": [
    "df['feature'] = df['ID']\n",
    "df['coefficient'] = df['Coef']\n",
    "\n",
    "df.head()"
   ]
  },
  {
   "cell_type": "markdown",
   "id": "5ac5b42a-3bd9-49d3-b84e-79d236af24b4",
   "metadata": {},
   "source": [
    "Then, let's create lists for features and weights. Be careful about the intercept, as it usually shows up as a feature name."
   ]
  },
  {
   "cell_type": "code",
   "execution_count": 6,
   "id": "2fc06bb5-7e9c-46fd-9843-31880f1d3788",
   "metadata": {},
   "outputs": [],
   "source": [
    "features = df['feature'][1:].tolist()\n",
    "weights = torch.tensor(df['coefficient'][1:].tolist()).unsqueeze(0)\n",
    "intercept = torch.tensor([df['coefficient'][0]])"
   ]
  },
  {
   "cell_type": "markdown",
   "id": "d193ccbf-d06b-49bb-ad4b-ffe3271dea63",
   "metadata": {},
   "source": [
    "## Load weights into pyaging model"
   ]
  },
  {
   "cell_type": "markdown",
   "id": "4350119a-4bd4-4efa-85b5-9de70fdf496f",
   "metadata": {},
   "source": [
    "#### Linear model"
   ]
  },
  {
   "cell_type": "code",
   "execution_count": 7,
   "id": "7354c541-5af9-447d-a339-2cb88c253b41",
   "metadata": {},
   "outputs": [
    {
     "data": {
      "text/plain": [
       "LinearModel(\n",
       "  (linear): Linear(in_features=391, out_features=1, bias=True)\n",
       ")"
      ]
     },
     "execution_count": 7,
     "metadata": {},
     "output_type": "execute_result"
    }
   ],
   "source": [
    "model = pya.models.LinearModel(input_dim=len(features))\n",
    "\n",
    "model.linear.weight.data = weights.float()\n",
    "model.linear.bias.data = intercept.float()\n",
    "\n",
    "model"
   ]
  },
  {
   "cell_type": "markdown",
   "id": "06adc9d8-cec2-447d-8d0b-e2819d4c1a5b",
   "metadata": {},
   "source": [
    "## Add reference values"
   ]
  },
  {
   "cell_type": "markdown",
   "id": "84bf0205-f976-497b-a6a9-e4945c05cdb3",
   "metadata": {},
   "source": [
    "Some clocks have reference values in the case of missing features. It is also possible that these values are for preprocessing features rather than the clock features. Let's add a dictionary with the feature names as the keys."
   ]
  },
  {
   "cell_type": "code",
   "execution_count": 8,
   "id": "250dd50d-a175-45f3-913b-da87c50cb55c",
   "metadata": {},
   "outputs": [],
   "source": [
    "reference_feature_values = None"
   ]
  },
  {
   "cell_type": "markdown",
   "id": "c9b4fd10-797c-45bd-aa1a-65aed1deaf1c",
   "metadata": {},
   "source": [
    "## Add preprocessing and postprocesssing steps"
   ]
  },
  {
   "cell_type": "markdown",
   "id": "20649dc9-2b58-4c63-a48e-f8d7a4bb520b",
   "metadata": {},
   "source": [
    "The preprocessing and postprocessing objects are dictionaries with the following format, with all items required. It takes in x in the form of a numpy array."
   ]
  },
  {
   "cell_type": "code",
   "execution_count": 9,
   "id": "1d173005-fb63-43d5-bd9f-0b4fa2e240b1",
   "metadata": {},
   "outputs": [],
   "source": [
    "preprocessing = None"
   ]
  },
  {
   "cell_type": "markdown",
   "id": "3ca747b4-0214-40a1-a7bf-fbf2a71084af",
   "metadata": {},
   "source": [
    "Similarly is the case of postprocessing. Remember that your function must be compatible with torch and is applied to each number individually."
   ]
  },
  {
   "cell_type": "code",
   "execution_count": 10,
   "id": "6fe37a2c-113a-4517-91e4-10a4e8b2005a",
   "metadata": {},
   "outputs": [],
   "source": [
    "def postprocessing_function(x):\n",
    "    \"\"\"\n",
    "    Applies an anti-logarithmic linear transformation to a PyTorch tensor.\n",
    "    \"\"\"\n",
    "    adult_age=20\n",
    "    \n",
    "    if x < 0:\n",
    "        # Exponential transformation for negative values\n",
    "        age_tensor = (1 + adult_age) * math.exp(x) - 1\n",
    "    else:\n",
    "        # Linear transformation for non-negative values\n",
    "        age_tensor = (1 + adult_age) * x + adult_age\n",
    "    return age_tensor\n",
    "    \n",
    "postprocessing_function_string = marshal.dumps(postprocessing_function.__code__)\n",
    "\n",
    "postprocessing_helper_objects = None\n",
    "\n",
    "postprocessing = {\n",
    "    'name': 'anti_log_linear',\n",
    "    'postprocessing_function': postprocessing_function_string,\n",
    "    'postprocessing_helper_objects': postprocessing_helper_objects\n",
    "}"
   ]
  },
  {
   "cell_type": "markdown",
   "id": "a1e3204b-fc16-4b0f-abc2-d17161d54fb5",
   "metadata": {},
   "source": [
    "## Check all data objects"
   ]
  },
  {
   "cell_type": "markdown",
   "id": "3dd677f8-57e7-4f90-86b4-c190b875bdb7",
   "metadata": {},
   "source": [
    "Let's print all data objects to check if they make sense."
   ]
  },
  {
   "cell_type": "markdown",
   "id": "cc27f48a-df8a-4c01-b65f-3a043bb32848",
   "metadata": {},
   "source": [
    "#### features"
   ]
  },
  {
   "cell_type": "code",
   "execution_count": 11,
   "id": "bf047bed-52f0-4a64-9691-4c04df9f50ec",
   "metadata": {},
   "outputs": [
    {
     "data": {
      "text/html": [
       "\n",
       "    <div style=\"overflow-x: scroll; overflow-y: scroll; border: 1px solid black; background-color: white; !important; color: black; !important;\">\n",
       "        <pre>There are 391 features.\n",
       "['cg12140144', 'cg26933021', 'cg20822990', 'cg07312601', 'cg09993145', 'cg23605843', 'cg25410668', 'cg17879376', 'cg14962509', 'cg24375409', 'cg22851420', 'cg24107728', 'cg14614643', 'cg00257455', 'cg23045908', 'cg15201877', 'cg18933331', 'cg05675373', 'cg19269039', 'cg16008966', 'cg14565725', 'cg05940231', 'cg03984502', 'cg25256723', 'cg16054275', 'cg01459453', 'cg16599143', 'cg02275294', 'cg21870884', 'cg10501210', 'cg02901139', 'cg11298786', 'cg09809672', 'cg05940691', 'cg12869659', 'cg23028740', 'cg10959651', 'cg00522231', 'cg01752203', 'cg23643435', 'cg01243072', 'cg07589899', 'cg10855531', 'cg22943590', 'cg23398076', 'cg12082609', 'cg01447660', 'cg02085953', 'cg15149655', 'cg22809047', 'cg06639320', 'cg22454769', 'cg00017842', 'cg23606718', 'cg22061831', 'cg12757011', 'cg01620164', 'cg12105450', 'cg00760938', 'cg10376763', 'cg23077820', 'cg08166272', 'cg10523019', 'cg23462687', 'cg20669012', 'cg03183882', 'cg15910502', 'cg12941369', 'cg02244028', 'cg24888989', 'cg00702638', 'cg07303143', 'cg26614073', 'cg15988232', 'cg16933388', 'cg19381811', 'cg03019000', 'cg01844642', 'cg04474832', 'cg03891319', 'cg03607117', 'cg22264409', 'cg11205552', 'cg17321954', 'cg06796779', 'cg18303397', 'cg09025210', 'cg14423778', 'cg15277914', 'cg07553761', 'cg06737494', 'cg01059398', 'cg26824216', 'cg25478614', 'cg07110949', 'cg23239150', 'cg21254939', 'cg23995914', 'cg23836737', 'cg05960024', 'cg10699857', 'cg05024939', 'cg05106770', 'cg06690548', 'cg02650266', 'cg01511232', 'cg25148589', 'cg24843443', 'cg03364683', 'cg21815258', 'cg12608692', 'cg20755989', 'cg12238343', 'cg02328239', 'cg21878650', 'cg26921969', 'cg10837404', 'cg01883408', 'cg06448705', 'cg16983159', 'cg08234504', 'cg11006267', 'cg21874213', 'cg23500537', 'cg26843711', 'cg08587542', 'cg10345936', 'cg16281600', 'cg03555227', 'cg14345676', 'cg14314729', 'cg23517605', 'cg01570885', 'cg23375552', 'cg20052760', 'cg16867657', 'cg21572722', 'cg00194146', 'cg01527307', 'cg22736354', 'cg10699171', 'cg06493994', 'cg04424621', 'cg02281167', 'cg03771840', 'cg06685111', 'cg06462220', 'cg08420066', 'cg21467614', 'cg12753631', 'cg18501647', 'cg04576021', 'cg10192196', 'cg18468088', 'cg03894990', 'cg01740766', 'cg16255583', 'cg04642300', 'cg17266282', 'cg07095347', 'cg00073460', 'cg16333846', 'cg13221458', 'cg05468948', 'cg00795927', 'cg08911208', 'cg22372849', 'cg16012294', 'cg22679120', 'cg13931228', 'cg27009703', 'cg11671968', 'cg26312920', 'cg19663246', 'cg14396995', 'cg18442362', 'cg09748749', 'cg20692569', 'cg23857078', 'cg21743182', 'cg09436502', 'cg00503840', 'cg04084157', 'cg14175438', 'cg20665157', 'cg21184711', 'cg02383785', 'cg04528819', 'cg20426994', 'cg08097417', 'cg02821342', 'cg20397034', 'cg03473532', 'cg08280936', 'cg08540945', 'cg18769120', 'cg26101086', 'cg19859445', 'cg07502389', 'cg18267374', 'cg00582628', 'cg16419235', 'cg23710218', 'cg07583137', 'cg12402251', 'cg19497517', 'cg13586038', 'cg19724470', 'cg07211259', 'cg07158339', 'cg24046474', 'cg14059835', 'cg10570177', 'cg13649056', 'cg13734401', 'cg26581729', 'cg06231995', 'cg14411282', 'cg12530994', 'cg23754392', 'cg06908778', 'cg22796704', 'cg01560871', 'cg04268405', 'cg18738190', 'cg04126866', 'cg25427880', 'cg09671951', 'cg06888746', 'cg24838825', 'cg13848598', 'cg07906193', 'cg12776156', 'cg05928581', 'cg17627559', 'cg23091758', 'cg04940570', 'cg10825530', 'cg20654468', 'cg26552743', 'cg21992250', 'cg15015340', 'cg22843803', 'cg02532488', 'cg13547237', 'cg06419846', 'cg05496363', 'cg20063906', 'cg12328429', 'cg25969122', 'cg18633600', 'cg08622677', 'cg01820374', 'cg25719851', 'cg13828440', 'cg26986871', 'cg00748589', 'cg21747310', 'cg00431549', 'cg13302154', 'cg13909661', 'cg19722847', 'cg26311454', 'cg08900043', 'cg00753885', 'cg18573383', 'cg15405572', 'cg01528542', 'cg08993878', 'cg22827210', 'cg03670162', 'cg04596060', 'cg21907579', 'cg10281002', 'cg07172885', 'cg20404336', 'cg18582260', 'cg22179082', 'cg06648759', 'cg23357533', 'cg20102280', 'cg13767001', 'cg23389651', 'cg09646392', 'cg00593462', 'cg07115626', 'cg06738602', 'cg03032497', 'cg18771300', 'cg24058132', 'cg13027206', 'cg15480367', 'cg12177001', 'cg23709172', 'cg14334310', 'cg04875128', 'cg21296230', 'cg02071305', 'cg03361973', 'cg16717122', 'cg04858164', 'cg25005357', 'cg08454546', 'cg21801378', 'cg15188939', 'cg20540209', 'cg05542681', 'cg08949164', 'cg09183146', 'cg00454305', 'cg02871659', 'cg00991848', 'cg02331561', 'cg26974444', 'cg06112560', 'cg10917602', 'cg09155044', 'cg04031656', 'cg03746976', 'cg18693704', 'cg00658652', 'cg03991512', 'cg22947000', 'cg07082267', 'cg03486383', 'cg02228185', 'cg23668631', 'cg14522800', 'cg25135555', 'cg13029847', 'cg06144905', 'cg11896923', 'cg06874016', 'cg25809905', 'cg04267101', 'cg22507023', 'cg02867102', 'cg13093111', 'cg13683374', 'cg10644544', 'cg03643998', 'cg11620135', 'cg25436157', 'cg24217948', 'cg17589341', 'cg17243289', 'cg12459502', 'cg19283806', 'cg10052840', 'cg26005082', 'cg11766468', 'cg10586358', 'cg14556683', 'cg26842024', 'cg18335931', 'cg17861230', 'cg10498798', 'cg27212234', 'cg17110586', 'cg21944491', 'cg21940708', 'cg15811427', 'cg06458239', 'cg10729426', 'cg21911021', 'cg24834740', 'cg19702785', 'cg07547549', 'cg12303084', 'cg27544190', 'cg01262913', 'cg17274064', 'cg09428349', 'cg10636297', 'cg12373771', 'cg05442902', 'cg16612562', 'cg19015086', 'cg21205978', 'cg01949403', 'cg08415592', 'cg19853760', 'cg23124451', 'cg25459323', 'cg27187881', 'cg00343092', 'cg00347775', 'cg27131176', 'cg22982767', 'cg07016730', 'cg01892695']\n",
       "</pre>\n",
       "    </div>\n",
       "    "
      ],
      "text/plain": [
       "<IPython.core.display.HTML object>"
      ]
     },
     "metadata": {},
     "output_type": "display_data"
    }
   ],
   "source": [
    "def my_print_function():\n",
    "    print(f\"There are {len(features)} features.\")\n",
    "    print(features)\n",
    "pya.utils.print_to_scrollable_output(my_print_function)"
   ]
  },
  {
   "cell_type": "markdown",
   "id": "6233c1d0-213f-47b6-92c6-04a3347825c5",
   "metadata": {},
   "source": [
    "#### reference_feature_values"
   ]
  },
  {
   "cell_type": "code",
   "execution_count": 12,
   "id": "6436fd01-0a8e-41a5-b584-2c020136ff97",
   "metadata": {},
   "outputs": [
    {
     "data": {
      "text/html": [
       "\n",
       "    <div style=\"overflow-x: scroll; overflow-y: scroll; border: 1px solid black; background-color: white; !important; color: black; !important;\">\n",
       "        <pre>None\n",
       "</pre>\n",
       "    </div>\n",
       "    "
      ],
      "text/plain": [
       "<IPython.core.display.HTML object>"
      ]
     },
     "metadata": {},
     "output_type": "display_data"
    }
   ],
   "source": [
    "def my_print_function():\n",
    "    if reference_feature_values:\n",
    "        print(f\"There are {len(reference_feature_values)} reference feature values.\")\n",
    "    print(reference_feature_values)\n",
    "pya.utils.print_to_scrollable_output(my_print_function)"
   ]
  },
  {
   "cell_type": "markdown",
   "id": "16c97e7c-eda3-45ef-9651-93c969aeada8",
   "metadata": {},
   "source": [
    "#### preprocessing"
   ]
  },
  {
   "cell_type": "code",
   "execution_count": 13,
   "id": "960c5ede-3175-4192-a358-bf5ccb41074f",
   "metadata": {},
   "outputs": [
    {
     "data": {
      "text/html": [
       "\n",
       "    <div style=\"overflow-x: scroll; overflow-y: scroll; border: 1px solid black; background-color: white; !important; color: black; !important;\">\n",
       "        <pre>None\n",
       "</pre>\n",
       "    </div>\n",
       "    "
      ],
      "text/plain": [
       "<IPython.core.display.HTML object>"
      ]
     },
     "metadata": {},
     "output_type": "display_data"
    }
   ],
   "source": [
    "def my_print_function():\n",
    "    print(preprocessing)\n",
    "    if preprocessing:\n",
    "        print(preprocessing_helper_objects)\n",
    "pya.utils.print_to_scrollable_output(my_print_function)"
   ]
  },
  {
   "cell_type": "markdown",
   "id": "4245d947-c6ad-4ae1-addb-e7f0a334202e",
   "metadata": {},
   "source": [
    "#### postprocessing"
   ]
  },
  {
   "cell_type": "code",
   "execution_count": 14,
   "id": "40fe1f52-ad50-4b84-89c7-c5d1d3fff139",
   "metadata": {},
   "outputs": [
    {
     "data": {
      "text/html": [
       "\n",
       "    <div style=\"overflow-x: scroll; overflow-y: scroll; border: 1px solid black; background-color: white; !important; color: black; !important;\">\n",
       "        <pre>{'name': 'anti_log_linear', 'postprocessing_function': b'\\xe3\\x01\\x00\\x00\\x00\\x00\\x00\\x00\\x00\\x00\\x00\\x00\\x00\\x03\\x00\\x00\\x00\\x04\\x00\\x00\\x00C\\x00\\x00\\x00s8\\x00\\x00\\x00d\\x01}\\x01|\\x00d\\x02k\\x00r$d\\x03|\\x01\\x17\\x00t\\x00\\xa0\\x01|\\x00\\xa1\\x01\\x14\\x00d\\x03\\x18\\x00}\\x02n\\x10d\\x03|\\x01\\x17\\x00|\\x00\\x14\\x00|\\x01\\x17\\x00}\\x02|\\x02S\\x00)\\x04\\xfaP\\n    Applies an anti-logarithmic linear transformation to a PyTorch tensor.\\n    \\xe9\\x14\\x00\\x00\\x00\\xe9\\x00\\x00\\x00\\x00\\xe9\\x01\\x00\\x00\\x00)\\x02\\xda\\x04math\\xda\\x03exp)\\x03\\xda\\x01x\\xda\\tadult_age\\xda\\nage_tensor\\xa9\\x00r\\n\\x00\\x00\\x00\\xfa\\x1f<ipython-input-10-4cc1a2847503>\\xda\\x17postprocessing_function\\x01\\x00\\x00\\x00s\\n\\x00\\x00\\x00\\x00\\x04\\x04\\x02\\x08\\x02\\x18\\x03\\x10\\x01', 'postprocessing_helper_objects': None}\n",
       "{'name': 'anti_log_linear', 'postprocessing_function': b'\\xe3\\x01\\x00\\x00\\x00\\x00\\x00\\x00\\x00\\x00\\x00\\x00\\x00\\x03\\x00\\x00\\x00\\x04\\x00\\x00\\x00C\\x00\\x00\\x00s8\\x00\\x00\\x00d\\x01}\\x01|\\x00d\\x02k\\x00r$d\\x03|\\x01\\x17\\x00t\\x00\\xa0\\x01|\\x00\\xa1\\x01\\x14\\x00d\\x03\\x18\\x00}\\x02n\\x10d\\x03|\\x01\\x17\\x00|\\x00\\x14\\x00|\\x01\\x17\\x00}\\x02|\\x02S\\x00)\\x04\\xfaP\\n    Applies an anti-logarithmic linear transformation to a PyTorch tensor.\\n    \\xe9\\x14\\x00\\x00\\x00\\xe9\\x00\\x00\\x00\\x00\\xe9\\x01\\x00\\x00\\x00)\\x02\\xda\\x04math\\xda\\x03exp)\\x03\\xda\\x01x\\xda\\tadult_age\\xda\\nage_tensor\\xa9\\x00r\\n\\x00\\x00\\x00\\xfa\\x1f<ipython-input-10-4cc1a2847503>\\xda\\x17postprocessing_function\\x01\\x00\\x00\\x00s\\n\\x00\\x00\\x00\\x00\\x04\\x04\\x02\\x08\\x02\\x18\\x03\\x10\\x01', 'postprocessing_helper_objects': None}\n",
       "</pre>\n",
       "    </div>\n",
       "    "
      ],
      "text/plain": [
       "<IPython.core.display.HTML object>"
      ]
     },
     "metadata": {},
     "output_type": "display_data"
    }
   ],
   "source": [
    "def my_print_function():\n",
    "    print(postprocessing)\n",
    "    if postprocessing:\n",
    "        print(postprocessing)\n",
    "pya.utils.print_to_scrollable_output(my_print_function)"
   ]
  },
  {
   "cell_type": "markdown",
   "id": "b984a449-5a64-47e8-8400-142a5b37d7f1",
   "metadata": {},
   "source": [
    "#### weight_dict"
   ]
  },
  {
   "cell_type": "code",
   "execution_count": 15,
   "id": "658317e5-44bd-4621-877c-5db57494c968",
   "metadata": {},
   "outputs": [
    {
     "data": {
      "text/html": [
       "\n",
       "    <div style=\"overflow-x: scroll; overflow-y: scroll; border: 1px solid black; background-color: white; !important; color: black; !important;\">\n",
       "        <pre>Layer: linear.weight\n",
       "Shape: torch.Size([1, 391])\n",
       "tensor([[ 3.6318e-01, -9.0500e-02, -7.0252e-03, -1.3509e-01, -4.2639e-02,\n",
       "          7.9387e-02,  2.7801e-01, -2.0271e-01,  1.8231e-01, -2.3805e-02,\n",
       "          9.7198e-02, -1.0654e-01, -4.3393e-02, -1.6170e-01,  1.3733e-01,\n",
       "          3.9210e-01, -2.3176e-01,  2.4479e-02, -1.7558e-02, -2.0391e-01,\n",
       "         -3.5564e-02, -1.0670e-01,  2.2212e-01, -1.2098e-01, -2.3397e-01,\n",
       "          4.1908e-02,  1.4198e-01, -1.4287e-01, -1.2681e-02, -3.1653e-01,\n",
       "         -7.3115e-02, -1.9643e-01, -1.0033e-01, -5.9992e-02, -4.2568e-02,\n",
       "         -9.8847e-03, -3.8209e-02,  1.8122e-02, -2.1979e-02,  1.2875e-02,\n",
       "         -1.3299e-03,  1.0660e-01, -3.0056e-01, -8.3178e-02,  5.6612e-03,\n",
       "          1.5415e-01, -1.1575e-01,  1.9920e-02,  2.0028e-01,  1.1897e-01,\n",
       "          1.9739e-02,  5.1866e-02,  1.5636e-01,  7.0075e-01, -1.7746e-01,\n",
       "          1.5600e-01, -6.5414e-02,  9.9448e-03,  7.7200e-02, -9.2087e-02,\n",
       "          6.1010e-02,  1.0544e-01,  1.2615e-01, -1.8373e-01,  1.2623e-01,\n",
       "         -1.0074e+00, -1.3377e-01,  2.4192e-02,  4.5092e-03,  1.2304e+00,\n",
       "          7.2508e-01,  7.3412e-01, -1.2423e-01, -5.8416e-02,  1.3386e-01,\n",
       "         -2.8322e-02, -8.4379e-02,  9.3412e-02,  1.2053e-01, -2.5608e-01,\n",
       "          1.6978e-01,  2.5066e-02,  3.9745e-02,  4.7339e-01,  5.3573e-02,\n",
       "          2.1788e-02,  3.8797e-02,  6.0485e-02, -3.3373e-02,  2.6245e-01,\n",
       "          6.3912e-02, -8.8534e-03, -1.6047e-01,  1.1349e-01,  2.6573e-03,\n",
       "          7.0538e-02,  2.1572e-02,  1.4028e-01, -1.5355e-01, -1.0215e-03,\n",
       "         -2.7248e-01,  1.8289e-01, -5.9972e-02,  9.4717e-02,  2.8819e-02,\n",
       "          1.6955e-01,  7.8559e-02,  2.3702e-02,  3.6555e-02,  3.2622e-01,\n",
       "         -2.4128e-03,  2.4120e-01,  6.1944e-02,  1.6437e-01, -1.2802e-01,\n",
       "          3.9507e-01, -1.0209e-01,  2.1009e-01,  1.1357e-01, -1.6518e-01,\n",
       "         -2.6153e-01,  3.0053e-01, -1.7214e-01,  2.3371e-01,  1.1011e-01,\n",
       "         -1.0651e-01, -1.2901e-02,  4.7647e-02,  1.9171e-01,  1.3160e-03,\n",
       "         -6.7063e-02, -7.4573e-02, -1.7484e-02, -1.4964e-01, -8.7363e-02,\n",
       "          8.9506e-01,  2.5892e-01,  2.5140e-02,  1.5012e-01,  1.2315e-01,\n",
       "         -1.7512e-02,  1.9415e-01,  3.8778e-02,  5.0828e-02,  6.3284e-02,\n",
       "         -1.1805e-01, -4.0087e-01, -8.7913e-03, -4.1303e-02, -3.4157e-01,\n",
       "          1.6363e-02,  1.9038e-01,  1.0390e-01,  2.7126e-01,  1.5228e-03,\n",
       "         -4.8109e-02, -1.8026e-01,  1.6303e-04, -4.2249e-02, -2.2008e-02,\n",
       "          5.9376e-02,  2.2687e-01, -3.9480e-02,  1.3858e-01, -6.6373e-02,\n",
       "         -9.4222e-02, -1.4012e-01,  1.3931e-01, -4.0224e-02, -2.4855e-01,\n",
       "         -1.7774e-01,  1.2057e-01,  6.8229e-03, -3.8644e-02,  1.2411e-01,\n",
       "          6.5104e-03, -2.0280e-01,  3.1359e-02,  2.3457e-01,  2.8410e-03,\n",
       "          5.6326e-02,  4.8661e-02,  3.5875e-01, -6.8290e-02,  7.1673e-03,\n",
       "          9.5031e-02,  1.8479e-01,  3.4465e-02, -1.0139e-01,  8.7137e-01,\n",
       "         -2.3832e-01, -2.4317e-01, -2.1296e-01, -2.3613e-01, -1.6969e-01,\n",
       "          6.1913e-02, -1.5728e-01,  1.8740e-01,  3.1578e-01, -2.1190e-01,\n",
       "          2.0113e-02,  1.1478e-01, -3.4917e-01,  4.5567e-02,  1.2680e-01,\n",
       "         -4.3396e-02,  1.2325e-01, -1.0072e-01, -5.3794e-03, -3.1782e-02,\n",
       "          2.7301e-01, -1.6065e-02, -9.8634e-02,  3.9139e-02, -9.5656e-02,\n",
       "          2.0095e-02,  4.7482e-01, -2.5729e-01, -2.2918e-01, -2.9191e-01,\n",
       "         -1.5769e-01, -2.9759e-02, -4.9569e-02, -1.3107e-01, -1.0729e-01,\n",
       "         -2.3960e-03,  1.6376e-01,  1.0055e-01,  6.6364e-02,  6.4358e-02,\n",
       "          1.9374e-01, -2.8845e-02, -1.7899e-01, -4.2510e-02, -4.1486e-02,\n",
       "          1.0529e-01,  2.8908e-01, -3.2292e-02, -5.3720e-02,  1.4327e-01,\n",
       "          1.4822e-01, -1.7707e-01,  5.6494e-02, -7.0033e-01, -2.4482e-01,\n",
       "          1.7305e-01,  5.2685e-02, -5.9773e-02,  8.4155e-02, -2.3084e-01,\n",
       "          2.5822e-01,  2.2824e-01,  1.2289e-01, -2.2926e-02,  7.3699e-03,\n",
       "          5.6830e-02,  1.6672e-01, -1.4214e-01,  8.8300e-06,  1.0800e-01,\n",
       "         -2.7404e-01, -1.8193e-01,  1.2262e-01, -6.1964e-02, -4.7831e-01,\n",
       "          1.8117e-01,  3.7353e-02, -1.4237e-01, -6.4339e-02, -2.7255e-02,\n",
       "         -2.7255e-01, -6.6543e-01, -1.7723e-01,  2.5872e-02,  1.1726e-01,\n",
       "          1.5737e-01,  3.5026e-02,  2.9649e-03,  4.2687e-01, -3.1533e-01,\n",
       "         -6.2043e-02,  8.3143e-02, -2.9355e-01, -3.3184e-02,  9.7570e-02,\n",
       "         -9.4764e-02, -9.4901e-02,  1.1117e-01, -2.0049e-02, -1.1298e-01,\n",
       "         -4.5902e-02,  1.9453e-01, -7.7854e-02, -1.8611e-01, -4.6882e-02,\n",
       "          3.5810e-04, -2.5400e-02,  6.5518e-03,  6.0348e-02,  1.4517e-01,\n",
       "          2.1062e-02,  1.7542e-01, -9.4943e-02, -1.0900e-01,  2.0490e-01,\n",
       "          1.6825e-01,  1.3688e-01,  2.6484e-01,  7.3150e-02,  1.0480e-01,\n",
       "          8.8546e-02,  4.4389e-01, -2.5192e-01,  7.6079e-02,  1.6415e-01,\n",
       "         -1.5410e-02, -3.4067e-01,  5.4786e-02, -5.7713e-02, -2.8144e-01,\n",
       "          1.5261e-01, -7.6314e-02,  2.2123e-02, -4.6918e-01,  1.6346e-01,\n",
       "         -4.0323e-02,  5.4368e-03,  1.3062e-01,  1.9290e-01,  6.4778e-01,\n",
       "          1.5958e-01,  3.7628e-02, -8.7728e-02, -9.8070e-02, -1.9687e-02,\n",
       "          2.3876e-01, -1.1989e-01,  8.8139e-03, -8.2641e-02, -6.6774e-01,\n",
       "         -9.6156e-02, -1.7903e-02, -1.0448e-01, -6.4571e-02,  5.7342e-02,\n",
       "          4.3726e-02, -9.4151e-02, -1.1720e-01, -7.1281e-02,  1.2379e-01,\n",
       "          5.5277e-02, -4.5979e-02, -1.3741e-01,  4.8425e-01, -2.5013e-01,\n",
       "         -3.1755e-01, -2.7093e-01,  1.0199e+00, -6.8682e-02, -6.1976e-02,\n",
       "          2.2698e-01, -3.5326e-03,  3.4681e-01,  2.3413e-01,  4.3584e-02,\n",
       "         -7.1903e-02,  1.2763e-01,  2.1257e-01,  6.5172e-01, -5.7809e-01,\n",
       "         -1.9989e-03, -6.1619e-02, -4.0912e-01,  1.8592e-01, -1.3986e-01,\n",
       "         -2.4031e-01,  1.2934e-03,  1.5330e-01,  8.1658e-02,  5.9578e-02,\n",
       "         -1.4784e-01, -6.1454e-02, -3.7615e-02,  2.3730e-02, -2.4456e-01,\n",
       "         -8.2073e-02,  8.4166e-04, -1.9232e-01, -4.1220e-01, -2.9383e-02,\n",
       "         -2.5062e-01]])\n",
       "Layer: linear.bias\n",
       "Shape: torch.Size([1])\n",
       "tensor([-0.4471])\n",
       "</pre>\n",
       "    </div>\n",
       "    "
      ],
      "text/plain": [
       "<IPython.core.display.HTML object>"
      ]
     },
     "metadata": {},
     "output_type": "display_data"
    }
   ],
   "source": [
    "def my_print_function():\n",
    "    for name, param in model.named_parameters():\n",
    "        print(f\"Layer: {name}\")\n",
    "        print(f\"Shape: {param.shape}\")\n",
    "        print(param.data)\n",
    "pya.utils.print_to_scrollable_output(my_print_function)"
   ]
  },
  {
   "cell_type": "markdown",
   "id": "275815e5-5630-4163-bc61-7119a9c805c1",
   "metadata": {},
   "source": [
    "## Write clock dictionary"
   ]
  },
  {
   "cell_type": "markdown",
   "id": "3b176620-afb5-403c-9948-07639072bb44",
   "metadata": {},
   "source": [
    "Let's put everything together and save:"
   ]
  },
  {
   "cell_type": "code",
   "execution_count": 16,
   "id": "35d00b76-513d-4d8f-8824-6d810ee9d8f5",
   "metadata": {},
   "outputs": [],
   "source": [
    "clock_dict = {\n",
    "    # Metadata\n",
    "    'clock_name': clock_name,\n",
    "    'data_type': data_type,\n",
    "    'model_class': model_class,\n",
    "    'species': species,\n",
    "    'year': year,\n",
    "    'approved_by_author': approved_by_author,\n",
    "    'citation': citation,\n",
    "    'doi': doi,\n",
    "    \"notes\": notes,\n",
    "\n",
    "    # Data\n",
    "    'reference_feature_values': reference_feature_values if reference_feature_values else None,\n",
    "    'preprocessing': preprocessing if preprocessing else None, \n",
    "    'features': features,\n",
    "    'weight_dict': model.state_dict(),\n",
    "    'postprocessing': postprocessing if postprocessing else None,\n",
    "}\n",
    "\n",
    "torch.save(clock_dict, f'../weights/{clock_name}.pt')"
   ]
  },
  {
   "cell_type": "markdown",
   "id": "c1dd2efe-2bd6-4e1b-92ee-d110c25ad29c",
   "metadata": {},
   "source": [
    "## Clear directory"
   ]
  },
  {
   "cell_type": "markdown",
   "id": "158aa71f-7bbc-4c52-b7ef-16ba45d5e1fd",
   "metadata": {},
   "source": [
    "Delete all files that are not clock jupyter notebooks:"
   ]
  },
  {
   "cell_type": "code",
   "execution_count": 17,
   "id": "db4bd42b-c62f-4557-9ebc-d8194a240137",
   "metadata": {},
   "outputs": [
    {
     "name": "stdout",
     "output_type": "stream",
     "text": [
      "Deleted file: coefficients.csv\n",
      "Deleted folder: .ipynb_checkpoints\n"
     ]
    }
   ],
   "source": [
    "# Function to remove a folder and all its contents\n",
    "def remove_folder(path):\n",
    "    try:\n",
    "        shutil.rmtree(path)\n",
    "        print(f\"Deleted folder: {path}\")\n",
    "    except Exception as e:\n",
    "        print(f\"Error deleting folder {path}: {e}\")\n",
    "\n",
    "# Get a list of all files and folders in the current directory\n",
    "all_items = os.listdir('.')\n",
    "\n",
    "# Loop through the items\n",
    "for item in all_items:\n",
    "    # Check if it's a file and does not end with .ipynb\n",
    "    if os.path.isfile(item) and not item.endswith('.ipynb'):\n",
    "        os.remove(item)\n",
    "        print(f\"Deleted file: {item}\")\n",
    "    # Check if it's a folder\n",
    "    elif os.path.isdir(item):\n",
    "        remove_folder(item)"
   ]
  }
 ],
 "metadata": {
  "kernelspec": {
   "display_name": "Python 3",
   "language": "python",
   "name": "python3"
  },
  "language_info": {
   "codemirror_mode": {
    "name": "ipython",
    "version": 3
   },
   "file_extension": ".py",
   "mimetype": "text/x-python",
   "name": "python",
   "nbconvert_exporter": "python",
   "pygments_lexer": "ipython3",
   "version": "3.9.17"
  }
 },
 "nbformat": 4,
 "nbformat_minor": 5
}

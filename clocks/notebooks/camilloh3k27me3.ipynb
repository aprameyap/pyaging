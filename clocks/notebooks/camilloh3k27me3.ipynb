{
 "cells": [
  {
   "cell_type": "markdown",
   "id": "2f04eee0-5928-4e74-a754-6dc2e528810c",
   "metadata": {},
   "source": [
    "# CamilloH3K27me3"
   ]
  },
  {
   "cell_type": "markdown",
   "id": "a3f514a3-772c-4a14-afdf-5a8376851ff4",
   "metadata": {},
   "source": [
    "## Index\n",
    "1. [Define required clock parameters](#Define-required-clock-parameters)\n",
    "2. [Download necessary data](#Download-necessary-data)\n",
    "3. [Load data](#-Load-data)\n",
    "4. [Extract features and weights](#Extract-features-and-weights)\n",
    "5. [Load weights into pyaging model](#Load-weights-into-pyaging-model)\n",
    "6. [Add reference values](#Add-reference-values)\n",
    "7. [Add preprocessing and postprocesssing steps](#Add-preprocessing-and-postprocesssing-steps)\n",
    "8. [Check all data objects](#Check-all-data-objects)\n",
    "9. [Write clock dictionary](#Write-clock-dictionary)\n",
    "10. [Clear directory](#Clear-directory)"
   ]
  },
  {
   "cell_type": "markdown",
   "id": "d95fafdc-643a-40ea-a689-200bd132e90c",
   "metadata": {},
   "source": [
    "Let's first import some packages:"
   ]
  },
  {
   "cell_type": "code",
   "execution_count": 1,
   "id": "4adfb4de-cd79-4913-a1af-9e23e9e236c9",
   "metadata": {},
   "outputs": [],
   "source": [
    "import os\n",
    "import marshal\n",
    "import shutil\n",
    "import json\n",
    "import torch\n",
    "import pandas as pd\n",
    "import pyaging as pya\n",
    "import joblib\n",
    "import numpy as np"
   ]
  },
  {
   "cell_type": "markdown",
   "id": "c8c0c937-d9b6-4756-99b0-91de591220e0",
   "metadata": {},
   "source": [
    "## Define required clock parameters"
   ]
  },
  {
   "cell_type": "markdown",
   "id": "cf95ddca-625e-4c70-a246-c3cb12df96f8",
   "metadata": {},
   "source": [
    "Let's define some required information first:"
   ]
  },
  {
   "cell_type": "code",
   "execution_count": 2,
   "id": "5281776d-0549-445f-beec-39c31ec7dbe1",
   "metadata": {},
   "outputs": [],
   "source": [
    "clock_name = 'camilloh3k27me3'\n",
    "data_type = 'histone mark'\n",
    "model_class = 'PCLinearModel'\n",
    "species = 'Homo sapiens'\n",
    "year = 2023\n",
    "approved_by_author = '✅'\n",
    "citation = \"de Lima Camillo, Lucas Paulo, et al. \\\"Histone mark age of human tissues and cells.\\\" bioRxiv (2023): 2023-08.\"\n",
    "doi = 'https://doi.org/10.1101/2023.08.21.554165'\n",
    "notes = \"This is still a preprint, so the model might change\""
   ]
  },
  {
   "cell_type": "markdown",
   "id": "4520c8cb-6c1f-4490-ba4c-6fe78ef002a7",
   "metadata": {},
   "source": [
    "## Download necessary data"
   ]
  },
  {
   "cell_type": "markdown",
   "id": "4ccae25e-7d7f-45da-8e8a-064a66dc52fa",
   "metadata": {},
   "source": [
    "#### Download GitHub repository"
   ]
  },
  {
   "cell_type": "code",
   "execution_count": 3,
   "id": "a2a5b60e-ff7f-4b24-b1c6-61cda8948310",
   "metadata": {},
   "outputs": [
    {
     "data": {
      "text/plain": [
       "0"
      ]
     },
     "execution_count": 3,
     "metadata": {},
     "output_type": "execute_result"
    }
   ],
   "source": [
    "github_url = \"https://github.com/rsinghlab/HistoneClocks.git\"\n",
    "github_folder_name = github_url.split('/')[-1].split('.')[0]\n",
    "os.system(f\"git clone {github_url}\")"
   ]
  },
  {
   "cell_type": "markdown",
   "id": "35615b62-73ac-40b1-8bc1-e904403eb0ae",
   "metadata": {},
   "source": [
    "## Load data"
   ]
  },
  {
   "cell_type": "code",
   "execution_count": 4,
   "id": "af387efd-4c94-48d4-8e5c-d72f548244cf",
   "metadata": {},
   "outputs": [
    {
     "name": "stderr",
     "output_type": "stream",
     "text": [
      "/Users/lucascamillo/mambaforge/envs/brain/lib/python3.9/site-packages/sklearn/base.py:348: InconsistentVersionWarning: Trying to unpickle estimator ElasticNet from version 1.0.1 when using version 1.3.2. This might lead to breaking code or invalid results. Use at your own risk. For more info please refer to:\n",
      "https://scikit-learn.org/stable/model_persistence.html#security-maintainability-limitations\n",
      "  warnings.warn(\n",
      "/Users/lucascamillo/mambaforge/envs/brain/lib/python3.9/site-packages/sklearn/base.py:348: InconsistentVersionWarning: Trying to unpickle estimator TruncatedSVD from version 1.0.1 when using version 1.3.2. This might lead to breaking code or invalid results. Use at your own risk. For more info please refer to:\n",
      "https://scikit-learn.org/stable/model_persistence.html#security-maintainability-limitations\n",
      "  warnings.warn(\n",
      "/Users/lucascamillo/mambaforge/envs/brain/lib/python3.9/site-packages/sklearn/base.py:348: InconsistentVersionWarning: Trying to unpickle estimator ARDRegression from version 1.0.1 when using version 1.3.2. This might lead to breaking code or invalid results. Use at your own risk. For more info please refer to:\n",
      "https://scikit-learn.org/stable/model_persistence.html#security-maintainability-limitations\n",
      "  warnings.warn(\n"
     ]
    }
   ],
   "source": [
    "histone = 'H3K27me3'\n",
    "\n",
    "feature_selector_path = 'HistoneClocks/results/models/' + histone + '_feature_selector.pkl'\n",
    "feature_selector = joblib.load(feature_selector_path)\n",
    "\n",
    "dim_reduction_path = 'HistoneClocks/results/models/' + histone + '_dim_reduction.pkl'\n",
    "dim_reduction = joblib.load(dim_reduction_path)\n",
    "\n",
    "ard_model_path = 'HistoneClocks/results/models/' + histone + '_model.pkl'\n",
    "ard_model = joblib.load(ard_model_path)\n",
    "\n",
    "genes = pd.read_csv('HistoneClocks/metadata/Ensembl-105-EnsDb-for-Homo-sapiens-genes.csv')"
   ]
  },
  {
   "cell_type": "markdown",
   "id": "60c676db-2c7c-4c04-9457-97bccd598269",
   "metadata": {},
   "source": [
    "## Extract features and weights"
   ]
  },
  {
   "cell_type": "markdown",
   "id": "5ac5b42a-3bd9-49d3-b84e-79d236af24b4",
   "metadata": {},
   "source": [
    "Then, let's create lists for features and weights. Be careful about the intercept, as it usually shows up as a feature name."
   ]
  },
  {
   "cell_type": "code",
   "execution_count": 5,
   "id": "2fc06bb5-7e9c-46fd-9843-31880f1d3788",
   "metadata": {},
   "outputs": [],
   "source": [
    "chromosomes = ['1', '10', '11', '12', '13', '14', '15', '16', '17', '18', '19', '2', '20', '21', '22', '3', '4', '5', '6', '7', '8', '9', 'X']\n",
    "genes = genes[genes['chr'].apply(lambda x: x in chromosomes)]\n",
    "genes.index = genes.gene_id\n",
    "features = genes.gene_id[np.abs(feature_selector.coef_) > 0].tolist()\n",
    "\n",
    "weights = torch.tensor(ard_model.coef_).float()\n",
    "intercept = torch.tensor([ard_model.intercept_]).float()\n",
    "rotation = torch.tensor(dim_reduction.components_.T).float()\n",
    "center = rotation[0,:]"
   ]
  },
  {
   "cell_type": "code",
   "execution_count": 6,
   "id": "785c6f12-8f2d-4c6f-996e-aa3d3033330a",
   "metadata": {},
   "outputs": [
    {
     "data": {
      "text/plain": [
       "torch.Size([922, 290])"
      ]
     },
     "execution_count": 6,
     "metadata": {},
     "output_type": "execute_result"
    }
   ],
   "source": [
    "rotation.shape"
   ]
  },
  {
   "cell_type": "markdown",
   "id": "d193ccbf-d06b-49bb-ad4b-ffe3271dea63",
   "metadata": {},
   "source": [
    "## Load weights into pyaging model"
   ]
  },
  {
   "cell_type": "markdown",
   "id": "9b9f4e65-3423-4fae-bde5-5039b2dcab3e",
   "metadata": {},
   "source": [
    "#### PC linear model"
   ]
  },
  {
   "cell_type": "code",
   "execution_count": 7,
   "id": "eb6f898d-80ce-4e14-b724-9f6e05fb9371",
   "metadata": {},
   "outputs": [],
   "source": [
    "model = pya.models.PCLinearModel(input_dim=len(features), pc_dim=rotation.shape[1])\n",
    "\n",
    "model.center.data = torch.zeros((len(features))).float()\n",
    "model.rotation.data = rotation.float()\n",
    "model.linear.weight.data = weights.unsqueeze(0).float()\n",
    "model.linear.bias.data = intercept.float()"
   ]
  },
  {
   "cell_type": "markdown",
   "id": "06adc9d8-cec2-447d-8d0b-e2819d4c1a5b",
   "metadata": {},
   "source": [
    "## Add reference values"
   ]
  },
  {
   "cell_type": "markdown",
   "id": "84bf0205-f976-497b-a6a9-e4945c05cdb3",
   "metadata": {},
   "source": [
    "Some clocks have reference values in the case of missing features. It is also possible that these values are for preprocessing features rather than the clock features. Let's add a dictionary with the feature names as the keys."
   ]
  },
  {
   "cell_type": "code",
   "execution_count": 8,
   "id": "250dd50d-a175-45f3-913b-da87c50cb55c",
   "metadata": {},
   "outputs": [],
   "source": [
    "reference_feature_values = None"
   ]
  },
  {
   "cell_type": "markdown",
   "id": "c9b4fd10-797c-45bd-aa1a-65aed1deaf1c",
   "metadata": {},
   "source": [
    "## Add preprocessing and postprocesssing steps"
   ]
  },
  {
   "cell_type": "markdown",
   "id": "20649dc9-2b58-4c63-a48e-f8d7a4bb520b",
   "metadata": {},
   "source": [
    "The preprocessing and postprocessing objects are dictionaries with the following format, with all items required. It takes in x in the form of a numpy array."
   ]
  },
  {
   "cell_type": "code",
   "execution_count": 9,
   "id": "1d173005-fb63-43d5-bd9f-0b4fa2e240b1",
   "metadata": {},
   "outputs": [],
   "source": [
    "preprocessing = None"
   ]
  },
  {
   "cell_type": "markdown",
   "id": "3ca747b4-0214-40a1-a7bf-fbf2a71084af",
   "metadata": {},
   "source": [
    "Similarly is the case of postprocessing. Remember that your function must be compatible with torch and is applied to each number individually."
   ]
  },
  {
   "cell_type": "code",
   "execution_count": 10,
   "id": "6fe37a2c-113a-4517-91e4-10a4e8b2005a",
   "metadata": {},
   "outputs": [],
   "source": [
    "postprocessing = None"
   ]
  },
  {
   "cell_type": "markdown",
   "id": "48c4580d-2a28-4fcb-bdf3-471fa1b47a44",
   "metadata": {},
   "source": [
    "## Check all data objects"
   ]
  },
  {
   "cell_type": "markdown",
   "id": "22d2b2d2-92c0-4d6c-b32f-4b6a1637c064",
   "metadata": {},
   "source": [
    "Let's print all data objects to check if they make sense."
   ]
  },
  {
   "cell_type": "markdown",
   "id": "237de0f1-3cc0-4c4e-88ff-eeb516512119",
   "metadata": {},
   "source": [
    "#### features"
   ]
  },
  {
   "cell_type": "code",
   "execution_count": 11,
   "id": "bf047bed-52f0-4a64-9691-4c04df9f50ec",
   "metadata": {},
   "outputs": [
    {
     "data": {
      "text/html": [
       "\n",
       "    <div style=\"overflow-x: scroll; overflow-y: scroll; border: 1px solid black; background-color: white; !important; color: black; !important;\">\n",
       "        <pre>There are 922 features.\n",
       "['ENSG00000230368', 'ENSG00000234711', 'ENSG00000283040', 'ENSG00000272438', 'ENSG00000230699', 'ENSG00000223764', 'ENSG00000187583', 'ENSG00000187642', 'ENSG00000272512', 'ENSG00000188290', 'ENSG00000187608', 'ENSG00000188157', 'LRG_198', 'ENSG00000217801', 'ENSG00000273443', 'ENSG00000237330', 'ENSG00000223823', 'ENSG00000207730', 'ENSG00000207607', 'ENSG00000198976', 'ENSG00000272141', 'ENSG00000162571', 'ENSG00000186891', 'ENSG00000186827', 'LRG_1319', 'ENSG00000184163', 'ENSG00000162572', 'ENSG00000162576', 'ENSG00000235098', 'ENSG00000225905', 'ENSG00000274481', 'ENSG00000286989', 'ENSG00000187730', 'ENSG00000226969', 'ENSG00000224387', 'ENSG00000229393', 'ENSG00000238164', 'ENSG00000157873', 'ENSG00000225931', 'ENSG00000157870', 'ENSG00000237058', 'ENSG00000231630', 'ENSG00000177133', 'ENSG00000226374', 'ENSG00000264341', 'ENSG00000069424', 'ENSG00000173673', 'ENSG00000069812', 'ENSG00000215788', 'ENSG00000237402', 'ENSG00000237728', 'ENSG00000270171', 'ENSG00000270035', 'ENSG00000269978', 'ENSG00000270330', 'ENSG00000274258', 'ENSG00000228526', 'ENSG00000234546', 'ENSG00000179840', 'ENSG00000264881', 'ENSG00000285833', 'ENSG00000275915', 'ENSG00000227875', 'ENSG00000283789', 'ENSG00000288927', 'ENSG00000253085', 'ENSG00000178715', 'ENSG00000270620', 'ENSG00000227959', 'ENSG00000224174', 'ENSG00000277344', 'ENSG00000186301', 'ENSG00000277234', 'ENSG00000266634', 'ENSG00000280222', 'ENSG00000225478', 'ENSG00000009709', 'ENSG00000228105', 'ENSG00000289402', 'ENSG00000233072', 'ENSG00000266564', 'ENSG00000279625', 'ENSG00000232298', 'ENSG00000284309', 'ENSG00000229985', 'ENSG00000142765', 'ENSG00000221539', 'ENSG00000228176', 'ENSG00000231251', 'ENSG00000236335', 'ENSG00000265961', 'ENSG00000266580', 'ENSG00000121900', 'ENSG00000217644', 'ENSG00000207941', 'ENSG00000241014', 'ENSG00000239636', 'ENSG00000092850', 'ENSG00000252368', 'ENSG00000200796', 'ENSG00000163909', 'ENSG00000225903', 'ENSG00000261798', 'ENSG00000204060', 'ENSG00000252563', 'ENSG00000230881', 'ENSG00000186973', 'ENSG00000287113', 'ENSG00000117407', 'ENSG00000226804', 'ENSG00000238037', 'ENSG00000224863', 'ENSG00000186564', 'ENSG00000232514', 'ENSG00000230828', 'ENSG00000212624', 'ENSG00000231866', 'ENSG00000272051', 'ENSG00000230798', 'ENSG00000187140', 'ENSG00000275836', 'ENSG00000228431', 'ENSG00000225242', 'ENSG00000261213', 'ENSG00000206999', 'ENSG00000222849', 'ENSG00000285361', 'ENSG00000199459', 'ENSG00000272691', 'ENSG00000233593', 'ENSG00000285532', 'ENSG00000222664', 'ENSG00000284247', 'ENSG00000284202', 'ENSG00000288810', 'ENSG00000225938', 'ENSG00000170989', 'ENSG00000252717', 'ENSG00000177272', 'ENSG00000234790', 'ENSG00000274468', 'ENSG00000229101', 'ENSG00000272715', 'ENSG00000215930', 'ENSG00000226172', 'ENSG00000239216', 'ENSG00000202167', 'ENSG00000207349', 'ENSG00000286620', 'ENSG00000270722', 'ENSG00000277762', 'ENSG00000206791', 'ENSG00000199879', 'ENSG00000224481', 'ENSG00000252744', 'ENSG00000206931', 'ENSG00000225556', 'ENSG00000187238', 'ENSG00000226947', 'ENSG00000228013', 'ENSG00000160781', 'ENSG00000132702', 'ENSG00000231700', 'ENSG00000201608', 'ENSG00000277882', 'ENSG00000225217', 'ENSG00000199595', 'ENSG00000200036', 'ENSG00000252987', 'ENSG00000261504', 'ENSG00000285609', 'ENSG00000170128', 'ENSG00000282221', 'ENSG00000227048', 'ENSG00000198892', 'ENSG00000288644', 'ENSG00000237848', 'ENSG00000226843', 'ENSG00000234233', 'ENSG00000236317', 'ENSG00000282718', 'ENSG00000226013', 'ENSG00000232480', 'ENSG00000136630', 'ENSG00000252484', 'ENSG00000162931', 'ENSG00000251823', 'ENSG00000212237', 'ENSG00000206878', 'ENSG00000252051', 'ENSG00000283799', 'ENSG00000287921', 'ENSG00000232166', 'ENSG00000244457', 'ENSG00000283369', 'ENSG00000289367', 'ENSG00000283634', 'ENSG00000278982', 'ENSG00000289239', 'ENSG00000207453', 'ENSG00000107485', 'ENSG00000197308', 'ENSG00000232638', 'ENSG00000228027', 'ENSG00000289395', 'ENSG00000283699', 'ENSG00000204682', 'ENSG00000180592', 'ENSG00000168267', 'ENSG00000224215', 'ENSG00000223019', 'ENSG00000251711', 'ENSG00000207483', 'ENSG00000231855', 'ENSG00000225355', 'ENSG00000277479', 'ENSG00000221468', 'ENSG00000204175', 'ENSG00000271409', 'ENSG00000165655', 'ENSG00000272692', 'ENSG00000279814', 'ENSG00000259021', 'ENSG00000225100', 'ENSG00000189129', 'ENSG00000199104', 'ENSG00000222451', 'ENSG00000226425', 'ENSG00000187553', 'LRG_1290', 'ENSG00000279607', 'ENSG00000200728', 'ENSG00000288844', 'ENSG00000138136', 'ENSG00000223302', 'ENSG00000150594', 'LRG_545', 'ENSG00000283656', 'ENSG00000212589', 'ENSG00000043591', 'ENSG00000253066', 'ENSG00000235742', 'ENSG00000148704', 'ENSG00000188620', 'ENSG00000270902', 'ENSG00000213170', 'ENSG00000199321', 'ENSG00000289400', 'ENSG00000273521', 'ENSG00000148826', 'ENSG00000171794', 'ENSG00000284219', 'ENSG00000203772', 'ENSG00000287327', 'ENSG00000174885', 'ENSG00000255026', 'ENSG00000206013', 'ENSG00000069696', 'ENSG00000184524', 'ENSG00000207805', 'ENSG00000237941', 'ENSG00000274740', 'ENSG00000236301', 'ENSG00000255522', 'ENSG00000284639', 'ENSG00000252769', 'ENSG00000264984', 'ENSG00000255260', 'ENSG00000255335', 'ENSG00000254906', 'ENSG00000242527', 'ENSG00000273912', 'LRG_720', 'ENSG00000273677', 'ENSG00000278045', 'ENSG00000273908', 'ENSG00000179431', 'ENSG00000211568', 'ENSG00000167825', 'ENSG00000274770', 'ENSG00000254602', 'ENSG00000166793', 'ENSG00000266006', 'ENSG00000202317', 'ENSG00000254596', 'ENSG00000175463', 'ENSG00000254792', 'ENSG00000075388', 'ENSG00000260348', 'ENSG00000266570', 'ENSG00000283412', 'ENSG00000255376', 'ENSG00000274097', 'ENSG00000207811', 'ENSG00000207562', 'ENSG00000255163', 'ENSG00000149573', 'ENSG00000280032', 'ENSG00000207994', 'ENSG00000243669', 'ENSG00000255045', 'ENSG00000019102', 'ENSG00000149564', 'ENSG00000242673', 'ENSG00000252351', 'ENSG00000254481', 'ENSG00000255671', 'ENSG00000256577', 'ENSG00000111262', 'LRG_1297', 'ENSG00000240533', 'ENSG00000250510', 'ENSG00000235930', 'ENSG00000256353', 'ENSG00000256640', 'ENSG00000278687', 'ENSG00000276431', 'ENSG00000270807', 'ENSG00000139211', 'ENSG00000224709', 'ENSG00000200303', 'ENSG00000180818', 'ENSG00000273049', 'ENSG00000197757', 'ENSG00000250133', 'ENSG00000198353', 'ENSG00000273046', 'ENSG00000172789', 'ENSG00000207571', 'ENSG00000202146', 'ENSG00000273536', 'ENSG00000287908', 'ENSG00000135502', 'ENSG00000276878', 'ENSG00000279505', 'ENSG00000139289', 'ENSG00000208022', 'ENSG00000265227', 'ENSG00000252850', 'ENSG00000283998', 'ENSG00000275231', 'ENSG00000273570', 'ENSG00000263890', 'ENSG00000139352', 'ENSG00000187855', 'ENSG00000199899', 'ENSG00000255399', 'ENSG00000256125', 'ENSG00000277217', 'ENSG00000256312', 'ENSG00000255916', 'ENSG00000279704', 'ENSG00000274373', 'ENSG00000252287', 'ENSG00000234685', 'ENSG00000252952', 'ENSG00000252695', 'ENSG00000180389', 'ENSG00000273964', 'ENSG00000231910', 'ENSG00000180660', 'ENSG00000234701', 'ENSG00000237876', 'ENSG00000102539', 'ENSG00000225510', 'ENSG00000278722', 'ENSG00000232105', 'ENSG00000263561', 'ENSG00000243671', 'ENSG00000251715', 'ENSG00000227983', 'ENSG00000222682', 'ENSG00000276765', 'ENSG00000200072', 'ENSG00000289354', 'ENSG00000269125', 'ENSG00000176281', 'ENSG00000258436', 'ENSG00000243817', 'ENSG00000211779', 'ENSG00000256474', 'ENSG00000211810', 'ENSG00000211828', 'ENSG00000249446', 'ENSG00000211833', 'ENSG00000211834', 'ENSG00000211835', 'ENSG00000211842', 'ENSG00000211857', 'ENSG00000092096', 'ENSG00000100842', 'ENSG00000259018', 'ENSG00000166091', 'ENSG00000215991', 'ENSG00000257056', 'ENSG00000168348', 'ENSG00000258661', 'LRG_1415', 'ENSG00000258387', 'ENSG00000199739', 'ENSG00000289424', 'ENSG00000271180', 'ENSG00000165588', 'ENSG00000184302', 'ENSG00000258952', 'ENSG00000200860', 'ENSG00000252839', 'ENSG00000258446', 'ENSG00000279286', 'ENSG00000265768', 'ENSG00000133937', 'ENSG00000283159', 'ENSG00000207942', 'ENSG00000275134', 'ENSG00000199005', 'ENSG00000202191', 'ENSG00000199914', 'ENSG00000200480', 'ENSG00000199088', 'ENSG00000221745', 'ENSG00000283170', 'ENSG00000208004', 'ENSG00000207961', 'ENSG00000239224', 'ENSG00000270705', 'ENSG00000207568', 'ENSG00000283165', 'ENSG00000258748', 'ENSG00000258811', 'ENSG00000211904', 'ENSG00000211905', 'ENSG00000236597', 'ENSG00000227335', 'ENSG00000225825', 'ENSG00000227108', 'ENSG00000282122', 'ENSG00000211937', 'ENSG00000253387', 'ENSG00000253709', 'ENSG00000211951', 'ENSG00000254326', 'ENSG00000253587', 'ENSG00000270474', 'ENSG00000211961', 'ENSG00000253808', 'ENSG00000253747', 'ENSG00000223648', 'ENSG00000211972', 'ENSG00000254056', 'ENSG00000254134', 'ENSG00000253674', 'ENSG00000283906', 'ENSG00000211979', 'ENSG00000258463', 'ENSG00000278626', 'ENSG00000284834', 'ENSG00000259098', 'ENSG00000283273', 'ENSG00000274099', 'ENSG00000265673', 'ENSG00000206616', 'ENSG00000259122', 'ENSG00000200326', 'ENSG00000259721', 'ENSG00000288808', 'ENSG00000274444', 'ENSG00000062524', 'ENSG00000238845', 'ENSG00000252288', 'ENSG00000252066', 'ENSG00000205502', 'ENSG00000286696', 'ENSG00000259514', 'ENSG00000280359', 'ENSG00000284160', 'ENSG00000259608', 'ENSG00000207150', 'ENSG00000260275', 'ENSG00000287328', 'ENSG00000242295', 'ENSG00000242863', 'ENSG00000251819', 'ENSG00000259454', 'ENSG00000162004', 'ENSG00000207579', 'ENSG00000261720', 'ENSG00000221719', 'ENSG00000261583', 'ENSG00000274466', 'ENSG00000261482', 'ENSG00000252461', 'ENSG00000277543', 'ENSG00000260584', 'ENSG00000260900', 'ENSG00000283065', 'ENSG00000200434', 'ENSG00000259996', 'ENSG00000252806', 'ENSG00000199448', 'ENSG00000259725', 'ENSG00000255986', 'ENSG00000261396', 'ENSG00000261651', 'ENSG00000269935', 'ENSG00000260507', 'ENSG00000267195', 'ENSG00000243049', 'ENSG00000180042', 'ENSG00000181885', 'ENSG00000263301', 'ENSG00000214999', 'ENSG00000275982', 'ENSG00000261033', 'ENSG00000252370', 'ENSG00000278860', 'ENSG00000267271', 'ENSG00000267312', 'ENSG00000255987', 'ENSG00000277182', 'ENSG00000266013', 'ENSG00000284144', 'ENSG00000252618', 'ENSG00000241241', 'ENSG00000251439', 'ENSG00000212658', 'ENSG00000223125', 'ENSG00000171345', 'ENSG00000167941', 'LRG_852', 'ENSG00000267384', 'ENSG00000267788', 'ENSG00000279685', 'ENSG00000207947', 'ENSG00000207306', 'ENSG00000284038', 'ENSG00000210741', 'ENSG00000263602', 'ENSG00000242407', 'ENSG00000248883', 'ENSG00000173868', 'ENSG00000261959', 'ENSG00000266561', 'ENSG00000266066', 'ENSG00000184557', 'ENSG00000207736', 'ENSG00000274370', 'ENSG00000277521', 'ENSG00000266575', 'ENSG00000264775', 'ENSG00000199272', 'ENSG00000242985', 'ENSG00000267570', 'ENSG00000252325', 'ENSG00000264289', 'ENSG00000222520', 'ENSG00000207240', 'ENSG00000239683', 'ENSG00000267202', 'ENSG00000266582', 'ENSG00000240663', 'ENSG00000273664', 'ENSG00000199867', 'ENSG00000261204', 'ENSG00000070404', 'ENSG00000266990', 'ENSG00000267372', 'ENSG00000266989', 'ENSG00000289543', 'ENSG00000267415', 'ENSG00000260500', 'ENSG00000276181', 'ENSG00000289333', 'ENSG00000279617', 'ENSG00000239821', 'ENSG00000252973', 'ENSG00000268589', 'ENSG00000240626', 'ENSG00000239253', 'ENSG00000267992', 'ENSG00000269652', 'ENSG00000207773', 'ENSG00000283212', 'ENSG00000269181', 'ENSG00000207869', 'ENSG00000283490', 'ENSG00000207981', 'ENSG00000207925', 'ENSG00000211532', 'ENSG00000207699', 'ENSG00000284362', 'ENSG00000199031', 'ENSG00000284568', 'ENSG00000268496', 'ENSG00000237323', 'ENSG00000129990', 'ENSG00000160472', 'ENSG00000279063', 'ENSG00000222524', 'ENSG00000270790', 'ENSG00000279611', 'ENSG00000212558', 'ENSG00000201671', 'ENSG00000206951', 'ENSG00000230840', 'ENSG00000200101', 'ENSG00000241524', 'ENSG00000251850', 'ENSG00000241159', 'ENSG00000289615', 'ENSG00000179528', 'ENSG00000238410', 'ENSG00000211597', 'ENSG00000232531', 'ENSG00000233447', 'ENSG00000232556', 'ENSG00000205716', 'ENSG00000231626', 'ENSG00000271284', 'ENSG00000231292', 'ENSG00000144119', 'ENSG00000264075', 'ENSG00000284171', 'ENSG00000284659', 'ENSG00000229203', 'ENSG00000226886', 'ENSG00000199884', 'ENSG00000222300', 'ENSG00000224076', 'ENSG00000237617', 'ENSG00000175879', 'ENSG00000207744', 'ENSG00000272729', 'ENSG00000218175', 'ENSG00000221240', 'ENSG00000177261', 'ENSG00000232625', 'ENSG00000232789', 'ENSG00000231802', 'ENSG00000238782', 'ENSG00000202341', 'ENSG00000224252', 'ENSG00000213048', 'ENSG00000207611', 'ENSG00000276949', 'ENSG00000234235', 'ENSG00000252103', 'ENSG00000226217', 'ENSG00000088882', 'ENSG00000101405', 'ENSG00000263905', 'ENSG00000201348', 'ENSG00000239923', 'ENSG00000220540', 'ENSG00000266720', 'ENSG00000235996', 'ENSG00000173404', 'ENSG00000125798', 'ENSG00000132671', 'ENSG00000178726', 'LRG_168', 'ENSG00000232595', 'ENSG00000212571', 'ENSG00000264616', 'ENSG00000101438', 'ENSG00000240474', 'ENSG00000252193', 'ENSG00000276223', 'ENSG00000233352', 'ENSG00000238785', 'ENSG00000206710', 'ENSG00000276859', 'ENSG00000274491', 'ENSG00000207802', 'ENSG00000272050', 'ENSG00000207598', 'ENSG00000184032', 'ENSG00000233036', 'ENSG00000289513', 'ENSG00000212933', 'ENSG00000273796', 'ENSG00000288885', 'ENSG00000284651', 'ENSG00000284621', 'ENSG00000272954', 'ENSG00000200985', 'ENSG00000253752', 'ENSG00000263366', 'ENSG00000224465', 'ENSG00000253451', 'ENSG00000253152', 'ENSG00000253963', 'ENSG00000211681', 'ENSG00000278404', 'ENSG00000100276', 'ENSG00000283829', 'ENSG00000266508', 'ENSG00000229409', 'ENSG00000177989', 'ENSG00000212569', 'ENSG00000264534', 'ENSG00000263988', 'ENSG00000230119', 'ENSG00000207625', 'ENSG00000199514', 'ENSG00000281160', 'ENSG00000277509', 'ENSG00000272543', 'ENSG00000241789', 'ENSG00000252301', 'ENSG00000287131', 'ENSG00000241622', 'ENSG00000241777', 'ENSG00000252889', 'ENSG00000241257', 'ENSG00000244441', 'ENSG00000287977', 'ENSG00000276656', 'ENSG00000252751', 'ENSG00000288547', 'ENSG00000272609', 'ENSG00000241592', 'ENSG00000174963', 'ENSG00000264330', 'ENSG00000289500', 'ENSG00000207505', 'ENSG00000212297', 'ENSG00000250238', 'ENSG00000284636', 'ENSG00000206665', 'ENSG00000249887', 'ENSG00000182223', 'ENSG00000250339', 'ENSG00000199857', 'ENSG00000283682', 'ENSG00000289096', 'ENSG00000226757', 'ENSG00000201314', 'ENSG00000252951', 'ENSG00000181541', 'ENSG00000240669', 'ENSG00000265846', 'ENSG00000250839', 'ENSG00000263458', 'ENSG00000263746', 'ENSG00000249116', 'ENSG00000275733', 'ENSG00000283420', 'ENSG00000251549', 'ENSG00000265304', 'ENSG00000289206', 'ENSG00000248918', 'ENSG00000178394', 'ENSG00000207391', 'ENSG00000289008', 'ENSG00000250956', 'ENSG00000202515', 'ENSG00000242020', 'ENSG00000221043', 'ENSG00000242928', 'ENSG00000200334', 'ENSG00000221601', 'ENSG00000202345', 'ENSG00000266890', 'ENSG00000200555', 'ENSG00000164379', 'ENSG00000270695', 'ENSG00000200681', 'ENSG00000216436', 'ENSG00000224447', 'ENSG00000277224', 'ENSG00000217275', 'ENSG00000276966', 'ENSG00000277775', 'ENSG00000275713', 'ENSG00000220875', 'ENSG00000270935', 'ENSG00000278332', 'ENSG00000270666', 'ENSG00000184357', 'ENSG00000275379', 'ENSG00000275126', 'ENSG00000274641', 'ENSG00000216629', 'ENSG00000199851', 'ENSG00000271440', 'ENSG00000237425', 'ENSG00000237042', 'ENSG00000252228', 'ENSG00000228432', 'ENSG00000199332', 'ENSG00000232080', 'ENSG00000263649', 'ENSG00000234515', 'ENSG00000212468', 'ENSG00000251946', 'ENSG00000219095', 'ENSG00000285844', 'ENSG00000216439', 'ENSG00000286278', 'ENSG00000265226', 'ENSG00000207577', 'ENSG00000279398', 'ENSG00000200926', 'ENSG00000216753', 'ENSG00000236822', 'ENSG00000276413', 'ENSG00000223867', 'ENSG00000219451', 'ENSG00000289109', 'ENSG00000228953', 'ENSG00000213786', 'ENSG00000276528', 'ENSG00000277694', 'ENSG00000253187', 'ENSG00000240990', 'ENSG00000277966', 'ENSG00000278592', 'ENSG00000106540', 'ENSG00000239775', 'ENSG00000230564', 'ENSG00000235368', 'ENSG00000235227', 'ENSG00000213644', 'ENSG00000226392', 'ENSG00000237466', 'ENSG00000251798', 'ENSG00000222870', 'ENSG00000242101', 'ENSG00000274993', 'ENSG00000207454', 'ENSG00000222386', 'ENSG00000272230', 'ENSG00000207705', 'ENSG00000201041', 'ENSG00000252866', 'ENSG00000207691', 'ENSG00000284028', 'ENSG00000223212', 'ENSG00000261797', 'ENSG00000275243', 'ENSG00000240578', 'ENSG00000244273', 'ENSG00000281958', 'ENSG00000282173', 'ENSG00000282780', 'ENSG00000211764', 'ENSG00000211768', 'ENSG00000221442', 'ENSG00000231397', 'ENSG00000265810', 'ENSG00000164690', 'ENSG00000207637', 'ENSG00000282375', 'ENSG00000283576', 'ENSG00000242079', 'ENSG00000284617', 'ENSG00000253958', 'ENSG00000252179', 'ENSG00000272163', 'ENSG00000272157', 'ENSG00000288055', 'ENSG00000221616', 'ENSG00000253650', 'ENSG00000271938', 'ENSG00000255166', 'ENSG00000253312', 'ENSG00000254342', 'ENSG00000254348', 'ENSG00000199212', 'ENSG00000221093', 'ENSG00000222205', 'ENSG00000202265', 'ENSG00000222889', 'ENSG00000239580', 'ENSG00000212473', 'ENSG00000200191', 'ENSG00000202112', 'ENSG00000164920', 'ENSG00000272384', 'ENSG00000221461', 'ENSG00000261220', 'ENSG00000263612', 'ENSG00000286684', 'ENSG00000222658', 'ENSG00000278754', 'ENSG00000230694', 'ENSG00000233551', 'ENSG00000215221', 'ENSG00000275068', 'ENSG00000289356', 'ENSG00000231293', 'ENSG00000207698', 'ENSG00000285115', 'ENSG00000274755', 'ENSG00000269970', 'ENSG00000199161', 'ENSG00000224662', 'ENSG00000263697', 'ENSG00000289237', 'ENSG00000265144', 'ENSG00000222736', 'ENSG00000275681', 'ENSG00000276940', 'ENSG00000252411', 'ENSG00000249467', 'ENSG00000251807', 'ENSG00000207725', 'ENSG00000207768', 'ENSG00000211538', 'ENSG00000239057', 'ENSG00000222667', 'ENSG00000213269', 'ENSG00000207291', 'ENSG00000202407', 'ENSG00000207363', 'ENSG00000200436', 'ENSG00000276158', 'ENSG00000284107', 'ENSG00000184785', 'ENSG00000201285', 'ENSG00000284363', 'ENSG00000211583']\n",
       "</pre>\n",
       "    </div>\n",
       "    "
      ],
      "text/plain": [
       "<IPython.core.display.HTML object>"
      ]
     },
     "metadata": {},
     "output_type": "display_data"
    }
   ],
   "source": [
    "def my_print_function():\n",
    "    print(f\"There are {len(features)} features.\")\n",
    "    print(features)\n",
    "pya.utils.print_to_scrollable_output(my_print_function)"
   ]
  },
  {
   "cell_type": "markdown",
   "id": "49897449-33dd-4ee9-a4df-3751a79508ac",
   "metadata": {},
   "source": [
    "#### reference_feature_values"
   ]
  },
  {
   "cell_type": "code",
   "execution_count": 12,
   "id": "6436fd01-0a8e-41a5-b584-2c020136ff97",
   "metadata": {},
   "outputs": [
    {
     "data": {
      "text/html": [
       "\n",
       "    <div style=\"overflow-x: scroll; overflow-y: scroll; border: 1px solid black; background-color: white; !important; color: black; !important;\">\n",
       "        <pre>None\n",
       "</pre>\n",
       "    </div>\n",
       "    "
      ],
      "text/plain": [
       "<IPython.core.display.HTML object>"
      ]
     },
     "metadata": {},
     "output_type": "display_data"
    }
   ],
   "source": [
    "def my_print_function():\n",
    "    if reference_feature_values:\n",
    "        print(f\"There are {len(reference_feature_values)} reference feature values.\")\n",
    "    print(reference_feature_values)\n",
    "pya.utils.print_to_scrollable_output(my_print_function)"
   ]
  },
  {
   "cell_type": "markdown",
   "id": "55e445b4-e115-4944-be99-095c802653b2",
   "metadata": {},
   "source": [
    "#### preprocessing"
   ]
  },
  {
   "cell_type": "code",
   "execution_count": 13,
   "id": "960c5ede-3175-4192-a358-bf5ccb41074f",
   "metadata": {},
   "outputs": [
    {
     "data": {
      "text/html": [
       "\n",
       "    <div style=\"overflow-x: scroll; overflow-y: scroll; border: 1px solid black; background-color: white; !important; color: black; !important;\">\n",
       "        <pre>None\n",
       "</pre>\n",
       "    </div>\n",
       "    "
      ],
      "text/plain": [
       "<IPython.core.display.HTML object>"
      ]
     },
     "metadata": {},
     "output_type": "display_data"
    }
   ],
   "source": [
    "def my_print_function():\n",
    "    print(preprocessing)\n",
    "    if preprocessing:\n",
    "        print(preprocessing_helper_objects)\n",
    "pya.utils.print_to_scrollable_output(my_print_function)"
   ]
  },
  {
   "cell_type": "markdown",
   "id": "c78b744c-c774-4fdb-979c-55ca9b8d32cb",
   "metadata": {},
   "source": [
    "#### postprocessing"
   ]
  },
  {
   "cell_type": "code",
   "execution_count": 14,
   "id": "40fe1f52-ad50-4b84-89c7-c5d1d3fff139",
   "metadata": {},
   "outputs": [
    {
     "data": {
      "text/html": [
       "\n",
       "    <div style=\"overflow-x: scroll; overflow-y: scroll; border: 1px solid black; background-color: white; !important; color: black; !important;\">\n",
       "        <pre>None\n",
       "</pre>\n",
       "    </div>\n",
       "    "
      ],
      "text/plain": [
       "<IPython.core.display.HTML object>"
      ]
     },
     "metadata": {},
     "output_type": "display_data"
    }
   ],
   "source": [
    "def my_print_function():\n",
    "    print(postprocessing)\n",
    "    if postprocessing:\n",
    "        print(postprocessing)\n",
    "pya.utils.print_to_scrollable_output(my_print_function)"
   ]
  },
  {
   "cell_type": "markdown",
   "id": "aa2f4b1c-c384-4a9a-8a29-ac22cc20e8c8",
   "metadata": {},
   "source": [
    "#### weight_dict"
   ]
  },
  {
   "cell_type": "code",
   "execution_count": 15,
   "id": "658317e5-44bd-4621-877c-5db57494c968",
   "metadata": {},
   "outputs": [
    {
     "data": {
      "text/html": [
       "\n",
       "    <div style=\"overflow-x: scroll; overflow-y: scroll; border: 1px solid black; background-color: white; !important; color: black; !important;\">\n",
       "        <pre>Layer: center\n",
       "Shape: torch.Size([922])\n",
       "tensor([0., 0., 0., 0., 0., 0., 0., 0., 0., 0., 0., 0., 0., 0., 0., 0., 0., 0., 0., 0., 0., 0., 0., 0.,\n",
       "        0., 0., 0., 0., 0., 0., 0., 0., 0., 0., 0., 0., 0., 0., 0., 0., 0., 0., 0., 0., 0., 0., 0., 0.,\n",
       "        0., 0., 0., 0., 0., 0., 0., 0., 0., 0., 0., 0., 0., 0., 0., 0., 0., 0., 0., 0., 0., 0., 0., 0.,\n",
       "        0., 0., 0., 0., 0., 0., 0., 0., 0., 0., 0., 0., 0., 0., 0., 0., 0., 0., 0., 0., 0., 0., 0., 0.,\n",
       "        0., 0., 0., 0., 0., 0., 0., 0., 0., 0., 0., 0., 0., 0., 0., 0., 0., 0., 0., 0., 0., 0., 0., 0.,\n",
       "        0., 0., 0., 0., 0., 0., 0., 0., 0., 0., 0., 0., 0., 0., 0., 0., 0., 0., 0., 0., 0., 0., 0., 0.,\n",
       "        0., 0., 0., 0., 0., 0., 0., 0., 0., 0., 0., 0., 0., 0., 0., 0., 0., 0., 0., 0., 0., 0., 0., 0.,\n",
       "        0., 0., 0., 0., 0., 0., 0., 0., 0., 0., 0., 0., 0., 0., 0., 0., 0., 0., 0., 0., 0., 0., 0., 0.,\n",
       "        0., 0., 0., 0., 0., 0., 0., 0., 0., 0., 0., 0., 0., 0., 0., 0., 0., 0., 0., 0., 0., 0., 0., 0.,\n",
       "        0., 0., 0., 0., 0., 0., 0., 0., 0., 0., 0., 0., 0., 0., 0., 0., 0., 0., 0., 0., 0., 0., 0., 0.,\n",
       "        0., 0., 0., 0., 0., 0., 0., 0., 0., 0., 0., 0., 0., 0., 0., 0., 0., 0., 0., 0., 0., 0., 0., 0.,\n",
       "        0., 0., 0., 0., 0., 0., 0., 0., 0., 0., 0., 0., 0., 0., 0., 0., 0., 0., 0., 0., 0., 0., 0., 0.,\n",
       "        0., 0., 0., 0., 0., 0., 0., 0., 0., 0., 0., 0., 0., 0., 0., 0., 0., 0., 0., 0., 0., 0., 0., 0.,\n",
       "        0., 0., 0., 0., 0., 0., 0., 0., 0., 0., 0., 0., 0., 0., 0., 0., 0., 0., 0., 0., 0., 0., 0., 0.,\n",
       "        0., 0., 0., 0., 0., 0., 0., 0., 0., 0., 0., 0., 0., 0., 0., 0., 0., 0., 0., 0., 0., 0., 0., 0.,\n",
       "        0., 0., 0., 0., 0., 0., 0., 0., 0., 0., 0., 0., 0., 0., 0., 0., 0., 0., 0., 0., 0., 0., 0., 0.,\n",
       "        0., 0., 0., 0., 0., 0., 0., 0., 0., 0., 0., 0., 0., 0., 0., 0., 0., 0., 0., 0., 0., 0., 0., 0.,\n",
       "        0., 0., 0., 0., 0., 0., 0., 0., 0., 0., 0., 0., 0., 0., 0., 0., 0., 0., 0., 0., 0., 0., 0., 0.,\n",
       "        0., 0., 0., 0., 0., 0., 0., 0., 0., 0., 0., 0., 0., 0., 0., 0., 0., 0., 0., 0., 0., 0., 0., 0.,\n",
       "        0., 0., 0., 0., 0., 0., 0., 0., 0., 0., 0., 0., 0., 0., 0., 0., 0., 0., 0., 0., 0., 0., 0., 0.,\n",
       "        0., 0., 0., 0., 0., 0., 0., 0., 0., 0., 0., 0., 0., 0., 0., 0., 0., 0., 0., 0., 0., 0., 0., 0.,\n",
       "        0., 0., 0., 0., 0., 0., 0., 0., 0., 0., 0., 0., 0., 0., 0., 0., 0., 0., 0., 0., 0., 0., 0., 0.,\n",
       "        0., 0., 0., 0., 0., 0., 0., 0., 0., 0., 0., 0., 0., 0., 0., 0., 0., 0., 0., 0., 0., 0., 0., 0.,\n",
       "        0., 0., 0., 0., 0., 0., 0., 0., 0., 0., 0., 0., 0., 0., 0., 0., 0., 0., 0., 0., 0., 0., 0., 0.,\n",
       "        0., 0., 0., 0., 0., 0., 0., 0., 0., 0., 0., 0., 0., 0., 0., 0., 0., 0., 0., 0., 0., 0., 0., 0.,\n",
       "        0., 0., 0., 0., 0., 0., 0., 0., 0., 0., 0., 0., 0., 0., 0., 0., 0., 0., 0., 0., 0., 0., 0., 0.,\n",
       "        0., 0., 0., 0., 0., 0., 0., 0., 0., 0., 0., 0., 0., 0., 0., 0., 0., 0., 0., 0., 0., 0., 0., 0.,\n",
       "        0., 0., 0., 0., 0., 0., 0., 0., 0., 0., 0., 0., 0., 0., 0., 0., 0., 0., 0., 0., 0., 0., 0., 0.,\n",
       "        0., 0., 0., 0., 0., 0., 0., 0., 0., 0., 0., 0., 0., 0., 0., 0., 0., 0., 0., 0., 0., 0., 0., 0.,\n",
       "        0., 0., 0., 0., 0., 0., 0., 0., 0., 0., 0., 0., 0., 0., 0., 0., 0., 0., 0., 0., 0., 0., 0., 0.,\n",
       "        0., 0., 0., 0., 0., 0., 0., 0., 0., 0., 0., 0., 0., 0., 0., 0., 0., 0., 0., 0., 0., 0., 0., 0.,\n",
       "        0., 0., 0., 0., 0., 0., 0., 0., 0., 0., 0., 0., 0., 0., 0., 0., 0., 0., 0., 0., 0., 0., 0., 0.,\n",
       "        0., 0., 0., 0., 0., 0., 0., 0., 0., 0., 0., 0., 0., 0., 0., 0., 0., 0., 0., 0., 0., 0., 0., 0.,\n",
       "        0., 0., 0., 0., 0., 0., 0., 0., 0., 0., 0., 0., 0., 0., 0., 0., 0., 0., 0., 0., 0., 0., 0., 0.,\n",
       "        0., 0., 0., 0., 0., 0., 0., 0., 0., 0., 0., 0., 0., 0., 0., 0., 0., 0., 0., 0., 0., 0., 0., 0.,\n",
       "        0., 0., 0., 0., 0., 0., 0., 0., 0., 0., 0., 0., 0., 0., 0., 0., 0., 0., 0., 0., 0., 0., 0., 0.,\n",
       "        0., 0., 0., 0., 0., 0., 0., 0., 0., 0., 0., 0., 0., 0., 0., 0., 0., 0., 0., 0., 0., 0., 0., 0.,\n",
       "        0., 0., 0., 0., 0., 0., 0., 0., 0., 0., 0., 0., 0., 0., 0., 0., 0., 0., 0., 0., 0., 0., 0., 0.,\n",
       "        0., 0., 0., 0., 0., 0., 0., 0., 0., 0.])\n",
       "Layer: rotation\n",
       "Shape: torch.Size([922, 290])\n",
       "tensor([[ 0.0182,  0.0209, -0.0164,  ...,  0.0017,  0.0046, -0.0259],\n",
       "        [ 0.0183,  0.0165, -0.0215,  ..., -0.0404,  0.0114,  0.0327],\n",
       "        [ 0.0121,  0.0158, -0.0099,  ...,  0.0022, -0.0131, -0.0189],\n",
       "        ...,\n",
       "        [ 0.0120, -0.0508,  0.0089,  ...,  0.0349, -0.0253, -0.0142],\n",
       "        [ 0.0118, -0.0571,  0.0158,  ..., -0.0200,  0.0553, -0.0114],\n",
       "        [ 0.0109, -0.0438, -0.0031,  ...,  0.0072,  0.0173, -0.0108]])\n",
       "Layer: linear.weight\n",
       "Shape: torch.Size([1, 290])\n",
       "tensor([[ 2.1949e-01, -2.7862e+00, -4.4779e-01,  2.2882e+00, -6.2384e-01,\n",
       "         -2.2933e+00, -1.9113e+00,  0.0000e+00,  2.6875e+00,  1.8431e+00,\n",
       "          1.2139e+00, -3.4455e+00,  6.7460e-01, -1.6837e+00, -1.1462e+00,\n",
       "          1.9969e+00,  6.1634e-01,  5.9390e-01,  1.0635e+00,  0.0000e+00,\n",
       "          7.9667e-02, -5.3396e-01,  2.3979e+00, -1.7878e-01,  1.1482e+00,\n",
       "         -1.0248e+00, -9.8591e-01, -2.0777e-01,  1.6150e+00, -5.2714e-01,\n",
       "         -1.6204e+00, -1.6090e+00, -3.1669e+00,  1.3884e+00, -2.0791e+00,\n",
       "         -1.3077e+00, -9.4732e-01, -2.7438e+00,  2.1254e+00,  9.7993e-01,\n",
       "         -1.4662e+00, -7.4563e-01, -2.4658e-01, -1.5494e-01, -4.8507e-01,\n",
       "         -1.1223e+00, -1.1909e-01,  6.8621e-02,  4.5134e-01,  2.2394e+00,\n",
       "          4.2997e-02,  5.2570e-01, -6.8383e-01,  6.4263e-01, -6.0594e-01,\n",
       "         -7.1439e-01,  2.5218e-01, -3.0020e-01, -5.6124e-01, -9.4529e-01,\n",
       "         -6.3947e-01, -3.5305e-01,  4.0445e-01,  4.6915e-01,  0.0000e+00,\n",
       "         -3.3298e-01,  1.0338e+00, -6.5996e-01, -1.3170e+00,  1.2104e+00,\n",
       "         -7.5056e-01, -8.7374e-01, -1.3512e+00,  0.0000e+00, -7.5321e-01,\n",
       "          8.2248e-01, -2.3278e-01,  3.9358e-01,  8.5211e-01, -4.3514e-01,\n",
       "          9.5983e-01,  4.0258e-01,  6.0212e-01, -5.7777e-03,  2.8490e-01,\n",
       "         -1.5515e-01,  4.8870e-02, -5.5055e-01, -2.9329e-01, -9.5741e-02,\n",
       "          1.1430e+00,  9.9442e-01, -4.6474e-01, -5.1876e-01,  1.0757e-01,\n",
       "          5.9978e-01, -1.0445e+00,  0.0000e+00, -8.4765e-01, -5.6379e-01,\n",
       "          3.1045e-01,  2.6101e-01, -3.3698e-01, -2.4837e-01,  0.0000e+00,\n",
       "         -4.4653e-01, -2.7288e-01,  2.3309e-01, -3.8156e-01,  6.9585e-01,\n",
       "         -6.8474e-01, -9.5006e-01, -5.8956e-01,  7.7542e-01,  3.8549e-01,\n",
       "          5.2012e-02,  0.0000e+00,  5.6208e-01,  3.9012e-01,  0.0000e+00,\n",
       "          0.0000e+00, -7.8118e-01,  1.3216e-01, -1.9263e-01, -3.2842e-01,\n",
       "         -2.8305e-01,  3.3138e-01,  5.5851e-01, -4.4061e-01,  1.2107e-01,\n",
       "          6.7210e-01,  7.8968e-01,  1.6053e+00, -5.1952e-01,  2.1654e-01,\n",
       "         -2.3988e-01, -2.9316e-01,  1.5604e+00,  6.6650e-01, -3.6022e-01,\n",
       "          1.0961e-01,  1.4435e-01, -7.4287e-01,  1.0314e-01, -5.8343e-01,\n",
       "          2.9765e-01,  1.1392e-01, -5.1186e-02, -8.5400e-01, -2.4160e-01,\n",
       "          3.0788e-01,  1.0703e+00, -3.0242e-01,  8.2627e-01, -6.0424e-01,\n",
       "          3.5430e-01,  6.6657e-02,  2.0825e-01, -5.7026e-02, -3.3553e-02,\n",
       "         -1.9293e-01, -1.6928e-01, -1.8454e-01, -6.0804e-01,  2.2274e-01,\n",
       "          1.3667e-01,  2.8173e-01, -1.1672e+00, -5.4975e-01, -6.2778e-02,\n",
       "         -1.6187e-01,  5.9686e-01, -4.5052e-01, -8.6191e-01,  4.9128e-02,\n",
       "          9.1041e-02,  6.3659e-01,  9.6232e-01,  9.2248e-01,  9.4572e-01,\n",
       "          4.4580e-01,  5.3974e-01,  3.9705e-01,  5.6053e-01,  0.0000e+00,\n",
       "         -1.2827e+00, -1.2747e+00,  1.1981e+00,  7.0694e-01, -2.1328e-03,\n",
       "         -9.8885e-02, -2.3449e-01, -8.6407e-01, -8.3204e-01,  1.6006e-01,\n",
       "         -7.9949e-01, -2.1218e-01, -3.1328e-01, -5.3001e-01, -4.0610e-01,\n",
       "         -6.0269e-01, -1.9424e-01, -5.9700e-01, -2.5696e-01,  9.7841e-04,\n",
       "         -1.4678e-01, -3.4534e-01, -6.0807e-01,  4.7285e-01,  5.9070e-02,\n",
       "         -5.3582e-01,  8.4787e-01,  3.1267e-01,  4.0527e-01,  2.2917e-01,\n",
       "          5.8500e-01,  1.4631e+00, -1.8350e-01,  6.7146e-01, -3.9765e-01,\n",
       "         -9.2779e-01, -4.9676e-01,  1.3028e-01,  2.7008e-01, -5.2811e-01,\n",
       "         -7.0473e-01,  8.9606e-01,  4.1634e-01, -2.0681e-01,  0.0000e+00,\n",
       "          1.4429e-01,  0.0000e+00, -5.9652e-01,  5.9689e-01,  4.2929e-02,\n",
       "          5.5202e-01,  2.6491e-01,  6.8089e-01,  6.6032e-01, -3.4034e-01,\n",
       "          6.6456e-01, -3.4303e-01,  3.6116e-01, -7.3041e-01, -2.0355e-01,\n",
       "         -8.2155e-01,  6.4997e-01, -1.6010e-01,  1.1791e-01,  5.5201e-01,\n",
       "          4.7350e-01, -5.1132e-01,  1.1583e-03,  4.2473e-01, -8.7045e-01,\n",
       "          9.6816e-01, -2.8257e-01, -5.1627e-01,  1.4502e-01, -1.6042e-01,\n",
       "         -7.2751e-04,  4.8713e-01,  0.0000e+00,  1.0041e-01,  3.7052e-01,\n",
       "          2.9327e-01,  2.0186e-01,  4.2298e-01,  0.0000e+00,  5.8640e-01,\n",
       "         -1.2833e+00, -3.5961e-01,  1.9669e+00,  5.7229e-01, -6.8714e-04,\n",
       "          2.1071e-01,  8.4189e-04,  1.4545e+00,  1.0839e+00, -1.0392e+00,\n",
       "          3.8156e-01,  4.1668e-01, -6.9920e-01,  2.8845e-03, -3.0217e-01,\n",
       "          8.6099e-01,  1.1064e-03, -1.3667e-03, -7.9447e-01, -5.0884e-01]])\n",
       "Layer: linear.bias\n",
       "Shape: torch.Size([1])\n",
       "tensor([41.9358])\n",
       "</pre>\n",
       "    </div>\n",
       "    "
      ],
      "text/plain": [
       "<IPython.core.display.HTML object>"
      ]
     },
     "metadata": {},
     "output_type": "display_data"
    }
   ],
   "source": [
    "def my_print_function():\n",
    "    for name, param in model.named_parameters():\n",
    "        print(f\"Layer: {name}\")\n",
    "        print(f\"Shape: {param.shape}\")\n",
    "        print(param.data)\n",
    "pya.utils.print_to_scrollable_output(my_print_function)"
   ]
  },
  {
   "cell_type": "markdown",
   "id": "275815e5-5630-4163-bc61-7119a9c805c1",
   "metadata": {},
   "source": [
    "## Write clock dictionary"
   ]
  },
  {
   "cell_type": "markdown",
   "id": "3b176620-afb5-403c-9948-07639072bb44",
   "metadata": {},
   "source": [
    "Let's put everything together and save:"
   ]
  },
  {
   "cell_type": "code",
   "execution_count": 16,
   "id": "35d00b76-513d-4d8f-8824-6d810ee9d8f5",
   "metadata": {},
   "outputs": [],
   "source": [
    "clock_dict = {\n",
    "    # Metadata\n",
    "    'clock_name': clock_name,\n",
    "    'data_type': data_type,\n",
    "    'model_class': model_class,\n",
    "    'species': species,\n",
    "    'year': year,\n",
    "    'approved_by_author': approved_by_author,\n",
    "    'citation': citation,\n",
    "    'doi': doi,\n",
    "    \"notes\": notes,\n",
    "\n",
    "    # Data\n",
    "    'reference_feature_values': reference_feature_values if reference_feature_values else None,\n",
    "    'preprocessing': preprocessing if preprocessing else None, \n",
    "    'features': features,\n",
    "    'weight_dict': model.state_dict(),\n",
    "    'postprocessing': postprocessing if postprocessing else None,\n",
    "}\n",
    "\n",
    "torch.save(clock_dict, f'../weights/{clock_name}.pt')"
   ]
  },
  {
   "cell_type": "markdown",
   "id": "c1dd2efe-2bd6-4e1b-92ee-d110c25ad29c",
   "metadata": {},
   "source": [
    "## Clear directory"
   ]
  },
  {
   "cell_type": "markdown",
   "id": "158aa71f-7bbc-4c52-b7ef-16ba45d5e1fd",
   "metadata": {},
   "source": [
    "Delete all files that are not clock jupyter notebooks:"
   ]
  },
  {
   "cell_type": "code",
   "execution_count": 17,
   "id": "db4bd42b-c62f-4557-9ebc-d8194a240137",
   "metadata": {},
   "outputs": [
    {
     "name": "stdout",
     "output_type": "stream",
     "text": [
      "Deleted folder: HistoneClocks\n",
      "Deleted folder: .ipynb_checkpoints\n"
     ]
    }
   ],
   "source": [
    "# Function to remove a folder and all its contents\n",
    "def remove_folder(path):\n",
    "    try:\n",
    "        shutil.rmtree(path)\n",
    "        print(f\"Deleted folder: {path}\")\n",
    "    except Exception as e:\n",
    "        print(f\"Error deleting folder {path}: {e}\")\n",
    "\n",
    "# Get a list of all files and folders in the current directory\n",
    "all_items = os.listdir('.')\n",
    "\n",
    "# Loop through the items\n",
    "for item in all_items:\n",
    "    # Check if it's a file and does not end with .ipynb\n",
    "    if os.path.isfile(item) and not item.endswith('.ipynb'):\n",
    "        os.remove(item)\n",
    "        print(f\"Deleted file: {item}\")\n",
    "    # Check if it's a folder\n",
    "    elif os.path.isdir(item):\n",
    "        remove_folder(item)"
   ]
  }
 ],
 "metadata": {
  "kernelspec": {
   "display_name": "Python 3",
   "language": "python",
   "name": "python3"
  },
  "language_info": {
   "codemirror_mode": {
    "name": "ipython",
    "version": 3
   },
   "file_extension": ".py",
   "mimetype": "text/x-python",
   "name": "python",
   "nbconvert_exporter": "python",
   "pygments_lexer": "ipython3",
   "version": "3.9.17"
  }
 },
 "nbformat": 4,
 "nbformat_minor": 5
}

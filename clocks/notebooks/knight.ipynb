{
 "cells": [
  {
   "cell_type": "markdown",
   "id": "2f04eee0-5928-4e74-a754-6dc2e528810c",
   "metadata": {},
   "source": [
    "# Knight"
   ]
  },
  {
   "cell_type": "markdown",
   "id": "a3f514a3-772c-4a14-afdf-5a8376851ff4",
   "metadata": {},
   "source": [
    "## Index\n",
    "1. [Instantiate model class](#Instantiate-model-class)\n",
    "2. [Define clock metadata](#Define-clock-metadata)\n",
    "3. [Download clock dependencies](#Download-clock-dependencies)\n",
    "5. [Load features](#Load-features)\n",
    "6. [Load weights into base model](#Load-weights-into-base-model)\n",
    "7. [Load reference values](#Load-reference-values)\n",
    "8. [Load preprocess and postprocess objects](#Load-preprocess-and-postprocess-objects)\n",
    "10. [Check all clock parameters](#Check-all-clock-parameters)\n",
    "10. [Basic test](#Basic-test)\n",
    "11. [Save torch model](#Save-torch-model)\n",
    "12. [Clear directory](#Clear-directory)"
   ]
  },
  {
   "cell_type": "markdown",
   "id": "d95fafdc-643a-40ea-a689-200bd132e90c",
   "metadata": {},
   "source": [
    "Let's first import some packages:"
   ]
  },
  {
   "cell_type": "code",
   "execution_count": 1,
   "id": "4adfb4de-cd79-4913-a1af-9e23e9e236c9",
   "metadata": {
    "execution": {
     "iopub.execute_input": "2024-01-21T18:01:47.050875Z",
     "iopub.status.busy": "2024-01-21T18:01:47.050515Z",
     "iopub.status.idle": "2024-01-21T18:01:48.577979Z",
     "shell.execute_reply": "2024-01-21T18:01:48.577665Z"
    }
   },
   "outputs": [],
   "source": [
    "import os\n",
    "import inspect\n",
    "import shutil\n",
    "import json\n",
    "import torch\n",
    "import pandas as pd\n",
    "import pyaging as pya"
   ]
  },
  {
   "cell_type": "markdown",
   "id": "145082e5-ced4-47ae-88c0-cb69773e3c5a",
   "metadata": {},
   "source": [
    "## Instantiate model class"
   ]
  },
  {
   "cell_type": "code",
   "execution_count": 2,
   "id": "8aa77372-7ed3-4da7-abc9-d30372106139",
   "metadata": {
    "execution": {
     "iopub.execute_input": "2024-01-21T18:01:48.580200Z",
     "iopub.status.busy": "2024-01-21T18:01:48.580033Z",
     "iopub.status.idle": "2024-01-21T18:01:48.587255Z",
     "shell.execute_reply": "2024-01-21T18:01:48.586954Z"
    }
   },
   "outputs": [
    {
     "name": "stdout",
     "output_type": "stream",
     "text": [
      "class Knight(pyagingModel):\n",
      "    def __init__(self):\n",
      "        super().__init__()\n",
      "\n",
      "    def preprocess(self, x):\n",
      "        return x\n",
      "\n",
      "    def postprocess(self, x):\n",
      "        return x\n",
      "\n"
     ]
    }
   ],
   "source": [
    "def print_entire_class(cls):\n",
    "    source = inspect.getsource(cls)\n",
    "    print(source)\n",
    "\n",
    "print_entire_class(pya.models.Knight)"
   ]
  },
  {
   "cell_type": "code",
   "execution_count": 3,
   "id": "78536494-f1d9-44de-8583-c89a310d2307",
   "metadata": {
    "execution": {
     "iopub.execute_input": "2024-01-21T18:01:48.588738Z",
     "iopub.status.busy": "2024-01-21T18:01:48.588645Z",
     "iopub.status.idle": "2024-01-21T18:01:48.590187Z",
     "shell.execute_reply": "2024-01-21T18:01:48.589933Z"
    }
   },
   "outputs": [],
   "source": [
    "model = pya.models.Knight()"
   ]
  },
  {
   "cell_type": "markdown",
   "id": "51f8615e-01fa-4aa5-b196-3ee2b35d261c",
   "metadata": {},
   "source": [
    "## Define clock metadata"
   ]
  },
  {
   "cell_type": "code",
   "execution_count": 4,
   "id": "6601da9e-8adc-44ee-9308-75e3cd31b816",
   "metadata": {
    "execution": {
     "iopub.execute_input": "2024-01-21T18:01:48.591646Z",
     "iopub.status.busy": "2024-01-21T18:01:48.591575Z",
     "iopub.status.idle": "2024-01-21T18:01:48.593457Z",
     "shell.execute_reply": "2024-01-21T18:01:48.593227Z"
    }
   },
   "outputs": [],
   "source": [
    "model.metadata[\"clock_name\"] = 'knight'\n",
    "model.metadata[\"data_type\"] = 'methylation'\n",
    "model.metadata[\"species\"] = 'Homo sapiens'\n",
    "model.metadata[\"year\"] = 2016\n",
    "model.metadata[\"approved_by_author\"] = '✅'\n",
    "model.metadata[\"citation\"] = \"Knight, Anna K., et al. \\\"An epigenetic clock for gestational age at birth based on blood methylation data.\\\" Genome biology 17.1 (2016): 1-11.\"\n",
    "model.metadata[\"doi\"] = \"https://doi.org/10.1186/s13059-016-1068-z\"\n",
    "model.metadata[\"notes\"] = None"
   ]
  },
  {
   "cell_type": "markdown",
   "id": "74492239-5aae-4026-9d90-6bc9c574c110",
   "metadata": {},
   "source": [
    "## Download clock dependencies"
   ]
  },
  {
   "cell_type": "markdown",
   "id": "d1700966-76c4-4900-88ad-aa607d236d4b",
   "metadata": {},
   "source": [
    "#### Download directly with curl"
   ]
  },
  {
   "cell_type": "code",
   "execution_count": 5,
   "id": "8a6c80e9-18ca-4179-bcf9-6cb017c6c7e2",
   "metadata": {
    "execution": {
     "iopub.execute_input": "2024-01-21T18:01:48.595053Z",
     "iopub.status.busy": "2024-01-21T18:01:48.594971Z",
     "iopub.status.idle": "2024-01-21T18:01:48.742516Z",
     "shell.execute_reply": "2024-01-21T18:01:48.741999Z"
    }
   },
   "outputs": [
    {
     "data": {
      "text/plain": [
       "0"
      ]
     },
     "execution_count": 5,
     "metadata": {},
     "output_type": "execute_result"
    }
   ],
   "source": [
    "supplementary_url = \"https://static-content.springer.com/esm/art%3A10.1186%2Fs13059-016-1068-z/MediaObjects/13059_2016_1068_MOESM3_ESM.csv\"\n",
    "supplementary_file_name = \"coefficients.csv\"\n",
    "os.system(f\"curl -o {supplementary_file_name} {supplementary_url}\")"
   ]
  },
  {
   "cell_type": "code",
   "execution_count": 6,
   "id": "0a7de49e-d3ac-433e-85fa-46b785106bd4",
   "metadata": {
    "execution": {
     "iopub.execute_input": "2024-01-21T18:01:48.745255Z",
     "iopub.status.busy": "2024-01-21T18:01:48.745073Z",
     "iopub.status.idle": "2024-01-21T18:01:49.006665Z",
     "shell.execute_reply": "2024-01-21T18:01:49.005981Z"
    }
   },
   "outputs": [
    {
     "data": {
      "text/plain": [
       "0"
      ]
     },
     "execution_count": 6,
     "metadata": {},
     "output_type": "execute_result"
    }
   ],
   "source": [
    "supplementary_url = \"https://static-content.springer.com/esm/art%3A10.1186%2Fgb-2013-14-10-r115/MediaObjects/13059_2013_3156_MOESM22_ESM.csv\"\n",
    "supplementary_file_name = \"reference_feature_values.csv\"\n",
    "os.system(f\"curl -o {supplementary_file_name} {supplementary_url}\")"
   ]
  },
  {
   "cell_type": "markdown",
   "id": "5035b180-3d1b-4432-8ebe-b9c92bd93a7f",
   "metadata": {},
   "source": [
    "## Load features"
   ]
  },
  {
   "cell_type": "markdown",
   "id": "15f4af76-b93c-438c-b57f-f129d6e9ec99",
   "metadata": {},
   "source": [
    "#### From CSV file"
   ]
  },
  {
   "cell_type": "code",
   "execution_count": 7,
   "id": "8a3d5de6-6303-487a-8b4d-e6345792f7be",
   "metadata": {
    "execution": {
     "iopub.execute_input": "2024-01-21T18:01:49.012238Z",
     "iopub.status.busy": "2024-01-21T18:01:49.011881Z",
     "iopub.status.idle": "2024-01-21T18:01:49.022006Z",
     "shell.execute_reply": "2024-01-21T18:01:49.021212Z"
    }
   },
   "outputs": [],
   "source": [
    "df = pd.read_csv('coefficients.csv')\n",
    "df['feature'] = df['CpGmarker']\n",
    "df['coefficient'] = df['CoefficientTraining']\n",
    "\n",
    "model.features = features = df['feature'][1:].tolist()"
   ]
  },
  {
   "cell_type": "markdown",
   "id": "ee6d8fa0-4767-4c45-9717-eb1c95e2ddc0",
   "metadata": {},
   "source": [
    "## Load weights into base model"
   ]
  },
  {
   "cell_type": "code",
   "execution_count": 8,
   "id": "e09b3463-4fd4-41b1-ac21-e63ddd223fe0",
   "metadata": {
    "execution": {
     "iopub.execute_input": "2024-01-21T18:01:49.027380Z",
     "iopub.status.busy": "2024-01-21T18:01:49.027009Z",
     "iopub.status.idle": "2024-01-21T18:01:49.032541Z",
     "shell.execute_reply": "2024-01-21T18:01:49.031788Z"
    }
   },
   "outputs": [],
   "source": [
    "weights = torch.tensor(df['coefficient'][1:].tolist()).unsqueeze(0)\n",
    "intercept = torch.tensor([df['coefficient'][0]])"
   ]
  },
  {
   "cell_type": "markdown",
   "id": "ad261636-5b00-4979-bb1d-67a851f7aa19",
   "metadata": {},
   "source": [
    "#### Linear model"
   ]
  },
  {
   "cell_type": "code",
   "execution_count": 9,
   "id": "d7f43b99-26f2-4622-9a76-316712058877",
   "metadata": {
    "execution": {
     "iopub.execute_input": "2024-01-21T18:01:49.036735Z",
     "iopub.status.busy": "2024-01-21T18:01:49.036452Z",
     "iopub.status.idle": "2024-01-21T18:01:49.040935Z",
     "shell.execute_reply": "2024-01-21T18:01:49.040332Z"
    }
   },
   "outputs": [],
   "source": [
    "base_model = pya.models.LinearModel(input_dim=len(model.features))\n",
    "\n",
    "base_model.linear.weight.data = weights.float()\n",
    "base_model.linear.bias.data = intercept.float()\n",
    "\n",
    "model.base_model = base_model"
   ]
  },
  {
   "cell_type": "markdown",
   "id": "ad8b4c1d-9d57-48b7-9a30-bcfea7b747b1",
   "metadata": {},
   "source": [
    "## Load reference values"
   ]
  },
  {
   "cell_type": "markdown",
   "id": "f7fdae64-096a-4640-ade7-6a17b78a01d5",
   "metadata": {},
   "source": [
    "#### From CSV file"
   ]
  },
  {
   "cell_type": "code",
   "execution_count": 10,
   "id": "86de757f-fb38-4bcb-b91e-fc3372d22aad",
   "metadata": {
    "execution": {
     "iopub.execute_input": "2024-01-21T18:01:49.044114Z",
     "iopub.status.busy": "2024-01-21T18:01:49.043901Z",
     "iopub.status.idle": "2024-01-21T18:01:49.069581Z",
     "shell.execute_reply": "2024-01-21T18:01:49.069036Z"
    }
   },
   "outputs": [],
   "source": [
    "reference_feature_values_df = pd.read_csv('reference_feature_values.csv', index_col=0)\n",
    "reference_feature_values_df = reference_feature_values_df.loc[model.features]\n",
    "model.reference_values = reference_feature_values_df['goldstandard2'].tolist()"
   ]
  },
  {
   "cell_type": "markdown",
   "id": "af3bcf7b-74a8-4d21-9ccb-4de0c2b0516b",
   "metadata": {},
   "source": [
    "## Load preprocess and postprocess objects"
   ]
  },
  {
   "cell_type": "code",
   "execution_count": 11,
   "id": "7a22fb20-c605-424d-8efb-7620c2c0755c",
   "metadata": {
    "execution": {
     "iopub.execute_input": "2024-01-21T18:01:49.072345Z",
     "iopub.status.busy": "2024-01-21T18:01:49.072195Z",
     "iopub.status.idle": "2024-01-21T18:01:49.074270Z",
     "shell.execute_reply": "2024-01-21T18:01:49.073856Z"
    }
   },
   "outputs": [],
   "source": [
    "model.preprocess_name = None\n",
    "model.preprocess_dependencies = None"
   ]
  },
  {
   "cell_type": "code",
   "execution_count": 12,
   "id": "ff4a21cb-cf41-44dc-9ed1-95cf8aa15772",
   "metadata": {
    "execution": {
     "iopub.execute_input": "2024-01-21T18:01:49.076402Z",
     "iopub.status.busy": "2024-01-21T18:01:49.076259Z",
     "iopub.status.idle": "2024-01-21T18:01:49.078158Z",
     "shell.execute_reply": "2024-01-21T18:01:49.077802Z"
    }
   },
   "outputs": [],
   "source": [
    "model.postprocess_name = None\n",
    "model.postprocess_dependencies = None"
   ]
  },
  {
   "cell_type": "markdown",
   "id": "86e3d6b1-e67e-4f3d-bd39-0ebec5726c3c",
   "metadata": {},
   "source": [
    "## Check all clock parameters"
   ]
  },
  {
   "cell_type": "code",
   "execution_count": 13,
   "id": "2168355c-47d9-475d-b816-49f65e74887c",
   "metadata": {
    "execution": {
     "iopub.execute_input": "2024-01-21T18:01:49.080078Z",
     "iopub.status.busy": "2024-01-21T18:01:49.079957Z",
     "iopub.status.idle": "2024-01-21T18:01:49.083464Z",
     "shell.execute_reply": "2024-01-21T18:01:49.083104Z"
    }
   },
   "outputs": [
    {
     "name": "stdout",
     "output_type": "stream",
     "text": [
      "\n",
      "%========================================== Model Details ==========================================%\n",
      "Model Attributes:\n",
      "\n",
      "training: True\n",
      "metadata: {'approved_by_author': '✅',\n",
      " 'citation': 'Knight, Anna K., et al. \"An epigenetic clock for gestational age '\n",
      "             'at birth based on blood methylation data.\" Genome biology 17.1 '\n",
      "             '(2016): 1-11.',\n",
      " 'clock_name': 'knight',\n",
      " 'data_type': 'methylation',\n",
      " 'doi': 'https://doi.org/10.1186/s13059-016-1068-z',\n",
      " 'notes': None,\n",
      " 'species': 'Homo sapiens',\n",
      " 'version': None,\n",
      " 'year': 2016}\n",
      "reference_values: [0.470988652, 0.4574588, 0.471526503, 0.060478447, 0.576057497, 0.578012018, 0.73858511, 0.032705227, 0.129677634, 0.847421632, 0.040442058, 0.123711132, 0.042129823, 0.058492584, 0.47490999, 0.567201154, 0.028050524, 0.693295627, 0.362458936, 0.357454375, 0.751423923, 0.076149441, 0.084830058, 0.047438755, 0.123293314, 0.851965226, 0.354742659, 0.83293121, 0.056902106, 0.464347542]... [Total elements: 148]\n",
      "preprocess_name: None\n",
      "preprocess_dependencies: None\n",
      "postprocess_name: None\n",
      "postprocess_dependencies: None\n",
      "features: ['cg00022866', 'cg00466249', 'cg00546897', 'cg00575744', 'cg00689340', 'cg01056568', 'cg01184449', 'cg01348086', 'cg02100629', 'cg02813863', 'cg02941816', 'cg03086857', 'cg03427564', 'cg03506489', 'cg03923277', 'cg04001333', 'cg04323187', 'cg05294455', 'cg05365729', 'cg05512756', 'cg05564251', 'cg05898102', 'cg06049972', 'cg06311778', 'cg06471905', 'cg07017706', 'cg07141002', 'cg07197059', 'cg07664183', 'cg07679836']... [Total elements: 148]\n",
      "base_model_features: None\n",
      "\n",
      "%========================================== Model Details ==========================================%\n",
      "Model Structure:\n",
      "\n",
      "base_model: LinearModel(\n",
      "  (linear): Linear(in_features=148, out_features=1, bias=True)\n",
      ")\n",
      "\n",
      "%========================================== Model Details ==========================================%\n",
      "Model Parameters and Weights:\n",
      "\n",
      "base_model.linear.weight: [0.6935521960258484, -0.8255749344825745, -1.3585155010223389, -3.8292856216430664, 0.9603426456451416, 0.20516617596149445, 0.782781720161438, -1.3157227039337158, 0.5592088103294373, -1.0659143924713135, 1.355500340461731, 1.0993326902389526, -7.938111782073975, 6.338893413543701, -0.33696240186691284, -0.09361063688993454, 1.9930349588394165, 2.1887292861938477, 0.7005508542060852, 0.26436084508895874, -0.8554026484489441, -1.3309569358825684, 1.6402506828308105, -4.172684192657471, 0.1557571291923523, -4.798856258392334, -0.166761115193367, 0.09205283224582672, -3.1910228729248047, 0.048825453966856]... [Tensor of shape torch.Size([1, 148])]\n",
      "base_model.linear.bias: tensor([41.7258])\n",
      "\n",
      "%========================================== Model Details ==========================================%\n",
      "\n"
     ]
    }
   ],
   "source": [
    "pya.utils.print_model_details(model)"
   ]
  },
  {
   "cell_type": "markdown",
   "id": "986d0262-e0c7-4036-b687-dee53ba392fb",
   "metadata": {},
   "source": [
    "## Basic test"
   ]
  },
  {
   "cell_type": "code",
   "execution_count": 14,
   "id": "936b9877-d076-4ced-99aa-e8d4c58c5caf",
   "metadata": {
    "execution": {
     "iopub.execute_input": "2024-01-21T18:01:49.085328Z",
     "iopub.status.busy": "2024-01-21T18:01:49.085233Z",
     "iopub.status.idle": "2024-01-21T18:01:49.089573Z",
     "shell.execute_reply": "2024-01-21T18:01:49.089276Z"
    }
   },
   "outputs": [
    {
     "data": {
      "text/plain": [
       "tensor([[ 44.4538],\n",
       "        [102.4336],\n",
       "        [ 14.7963],\n",
       "        [137.9892],\n",
       "        [102.6453],\n",
       "        [ 56.0923],\n",
       "        [ 73.7889],\n",
       "        [ 26.2043],\n",
       "        [-12.2354],\n",
       "        [ 91.9445]], dtype=torch.float64, grad_fn=<AddmmBackward0>)"
      ]
     },
     "execution_count": 14,
     "metadata": {},
     "output_type": "execute_result"
    }
   ],
   "source": [
    "torch.manual_seed(42)\n",
    "input = torch.randn(10, len(model.features), dtype=float)\n",
    "model.eval()\n",
    "model.to(float)\n",
    "pred = model(input)\n",
    "pred"
   ]
  },
  {
   "cell_type": "markdown",
   "id": "fe8299d7-9285-4e22-82fd-b664434b4369",
   "metadata": {},
   "source": [
    "## Save torch model"
   ]
  },
  {
   "cell_type": "code",
   "execution_count": 15,
   "id": "5ef2fa8d-c80b-4fdd-8555-79c0d541788e",
   "metadata": {
    "execution": {
     "iopub.execute_input": "2024-01-21T18:01:49.091359Z",
     "iopub.status.busy": "2024-01-21T18:01:49.091255Z",
     "iopub.status.idle": "2024-01-21T18:01:49.094483Z",
     "shell.execute_reply": "2024-01-21T18:01:49.094144Z"
    }
   },
   "outputs": [],
   "source": [
    "torch.save(model, f\"../weights/{model.metadata['clock_name']}.pt\")"
   ]
  },
  {
   "cell_type": "markdown",
   "id": "bac6257b-8d08-4a90-8d0b-7f745dc11ac1",
   "metadata": {},
   "source": [
    "## Clear directory\n",
    "<a id=\"10\"></a>"
   ]
  },
  {
   "cell_type": "code",
   "execution_count": 16,
   "id": "11aeaa70-44c0-42f9-86d7-740e3849a7a6",
   "metadata": {
    "execution": {
     "iopub.execute_input": "2024-01-21T18:01:49.096035Z",
     "iopub.status.busy": "2024-01-21T18:01:49.095949Z",
     "iopub.status.idle": "2024-01-21T18:01:49.099109Z",
     "shell.execute_reply": "2024-01-21T18:01:49.098854Z"
    }
   },
   "outputs": [
    {
     "name": "stdout",
     "output_type": "stream",
     "text": [
      "Deleted file: coefficients.csv\n",
      "Deleted file: reference_feature_values.csv\n"
     ]
    }
   ],
   "source": [
    "# Function to remove a folder and all its contents\n",
    "def remove_folder(path):\n",
    "    try:\n",
    "        shutil.rmtree(path)\n",
    "        print(f\"Deleted folder: {path}\")\n",
    "    except Exception as e:\n",
    "        print(f\"Error deleting folder {path}: {e}\")\n",
    "\n",
    "# Get a list of all files and folders in the current directory\n",
    "all_items = os.listdir('.')\n",
    "\n",
    "# Loop through the items\n",
    "for item in all_items:\n",
    "    # Check if it's a file and does not end with .ipynb\n",
    "    if os.path.isfile(item) and not item.endswith('.ipynb'):\n",
    "        os.remove(item)\n",
    "        print(f\"Deleted file: {item}\")\n",
    "    # Check if it's a folder\n",
    "    elif os.path.isdir(item):\n",
    "        remove_folder(item)"
   ]
  }
 ],
 "metadata": {
  "kernelspec": {
   "display_name": "Python 3",
   "language": "python",
   "name": "python3"
  },
  "language_info": {
   "codemirror_mode": {
    "name": "ipython",
    "version": 3
   },
   "file_extension": ".py",
   "mimetype": "text/x-python",
   "name": "python",
   "nbconvert_exporter": "python",
   "pygments_lexer": "ipython3",
   "version": "3.9.17"
  }
 },
 "nbformat": 4,
 "nbformat_minor": 5
}

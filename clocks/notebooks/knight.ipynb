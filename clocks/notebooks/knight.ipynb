{
 "cells": [
  {
   "cell_type": "markdown",
   "id": "2f04eee0-5928-4e74-a754-6dc2e528810c",
   "metadata": {},
   "source": [
    "# Knight"
   ]
  },
  {
   "cell_type": "markdown",
   "id": "a3f514a3-772c-4a14-afdf-5a8376851ff4",
   "metadata": {},
   "source": [
    "## Index\n",
    "1. [Define required clock parameters](#Define-required-clock-parameters)\n",
    "2. [Download necessary data](#Download-necessary-data)\n",
    "3. [Load data](#-Load-data)\n",
    "4. [Extract features and weights](#Extract-features-and-weights)\n",
    "5. [Load weights into pyaging model](#Load-weights-into-pyaging-model)\n",
    "6. [Add reference values](#Add-reference-values)\n",
    "7. [Add preprocessing and postprocesssing steps](#Add-preprocessing-and-postprocesssing-steps)\n",
    "8. [Check all data objects](#Check-all-data-objects)\n",
    "9. [Write clock dictionary](#Write-clock-dictionary)\n",
    "10. [Clear directory](#Clear-directory)"
   ]
  },
  {
   "cell_type": "markdown",
   "id": "d95fafdc-643a-40ea-a689-200bd132e90c",
   "metadata": {},
   "source": [
    "Let's first import some packages:"
   ]
  },
  {
   "cell_type": "code",
   "execution_count": 1,
   "id": "4adfb4de-cd79-4913-a1af-9e23e9e236c9",
   "metadata": {},
   "outputs": [],
   "source": [
    "import os\n",
    "import marshal\n",
    "import shutil\n",
    "import json\n",
    "import torch\n",
    "import pandas as pd\n",
    "import pyaging as pya"
   ]
  },
  {
   "cell_type": "markdown",
   "id": "c8c0c937-d9b6-4756-99b0-91de591220e0",
   "metadata": {},
   "source": [
    "## Define required clock parameters"
   ]
  },
  {
   "cell_type": "markdown",
   "id": "cf95ddca-625e-4c70-a246-c3cb12df96f8",
   "metadata": {},
   "source": [
    "Let's define some required information first:"
   ]
  },
  {
   "cell_type": "code",
   "execution_count": 2,
   "id": "5281776d-0549-445f-beec-39c31ec7dbe1",
   "metadata": {},
   "outputs": [],
   "source": [
    "clock_name = 'knight'\n",
    "data_type = 'methylation'\n",
    "model_class = 'LinearModel'\n",
    "species = 'Homo sapiens'\n",
    "year = 2016\n",
    "approved_by_author = '⌛'\n",
    "citation = \"Knight, Anna K., et al. \\\"An epigenetic clock for gestational age at birth based on blood methylation data.\\\" Genome biology 17.1 (2016): 1-11.\"\n",
    "doi = \"https://doi.org/10.1186/s13059-016-1068-z\"\n",
    "notes = None"
   ]
  },
  {
   "cell_type": "markdown",
   "id": "4520c8cb-6c1f-4490-ba4c-6fe78ef002a7",
   "metadata": {},
   "source": [
    "## Download necessary data"
   ]
  },
  {
   "cell_type": "markdown",
   "id": "f8d77386-a524-492b-a002-18d24b6ca49a",
   "metadata": {},
   "source": [
    "#### Download directly with curl"
   ]
  },
  {
   "cell_type": "code",
   "execution_count": 3,
   "id": "0003b39e-e032-4822-aff7-970583187d22",
   "metadata": {},
   "outputs": [
    {
     "data": {
      "text/plain": [
       "0"
      ]
     },
     "execution_count": 3,
     "metadata": {},
     "output_type": "execute_result"
    }
   ],
   "source": [
    "supplementary_url = \"https://static-content.springer.com/esm/art%3A10.1186%2Fs13059-016-1068-z/MediaObjects/13059_2016_1068_MOESM3_ESM.csv\"\n",
    "supplementary_file_name = \"coefficients.csv\"\n",
    "os.system(f\"curl -o {supplementary_file_name} {supplementary_url}\")"
   ]
  },
  {
   "cell_type": "code",
   "execution_count": 4,
   "id": "22a0b3f0-de50-4434-8f77-0fad67a07d39",
   "metadata": {},
   "outputs": [
    {
     "data": {
      "text/plain": [
       "0"
      ]
     },
     "execution_count": 4,
     "metadata": {},
     "output_type": "execute_result"
    }
   ],
   "source": [
    "supplementary_url = \"https://static-content.springer.com/esm/art%3A10.1186%2Fgb-2013-14-10-r115/MediaObjects/13059_2013_3156_MOESM22_ESM.csv\"\n",
    "supplementary_file_name = \"reference_feature_values.csv\"\n",
    "os.system(f\"curl -o {supplementary_file_name} {supplementary_url}\")"
   ]
  },
  {
   "cell_type": "markdown",
   "id": "35615b62-73ac-40b1-8bc1-e904403eb0ae",
   "metadata": {},
   "source": [
    "## Load data"
   ]
  },
  {
   "cell_type": "markdown",
   "id": "232eb94a-04a7-4ac4-ae3e-0e365b443a8e",
   "metadata": {},
   "source": [
    "#### From CSV file"
   ]
  },
  {
   "cell_type": "code",
   "execution_count": 5,
   "id": "45fbc051-f0d2-4b25-9813-ae126f6fedcb",
   "metadata": {},
   "outputs": [],
   "source": [
    "df = pd.read_csv('coefficients.csv')\n",
    "reference_feature_values_df = pd.read_csv('reference_feature_values.csv', index_col=0)"
   ]
  },
  {
   "cell_type": "markdown",
   "id": "60c676db-2c7c-4c04-9457-97bccd598269",
   "metadata": {},
   "source": [
    "## Extract features and weights"
   ]
  },
  {
   "cell_type": "markdown",
   "id": "87dfda00-5182-4416-8eb1-de91ce2a9e48",
   "metadata": {},
   "source": [
    "First, let's extract the features and weights:"
   ]
  },
  {
   "cell_type": "code",
   "execution_count": 6,
   "id": "e1d1dd13-65ac-4694-8948-3cd94bc19fe1",
   "metadata": {},
   "outputs": [
    {
     "data": {
      "text/html": [
       "<div>\n",
       "<style scoped>\n",
       "    .dataframe tbody tr th:only-of-type {\n",
       "        vertical-align: middle;\n",
       "    }\n",
       "\n",
       "    .dataframe tbody tr th {\n",
       "        vertical-align: top;\n",
       "    }\n",
       "\n",
       "    .dataframe thead th {\n",
       "        text-align: right;\n",
       "    }\n",
       "</style>\n",
       "<table border=\"1\" class=\"dataframe\">\n",
       "  <thead>\n",
       "    <tr style=\"text-align: right;\">\n",
       "      <th></th>\n",
       "      <th>CpGmarker</th>\n",
       "      <th>CoefficientTraining</th>\n",
       "      <th>feature</th>\n",
       "      <th>coefficient</th>\n",
       "    </tr>\n",
       "  </thead>\n",
       "  <tbody>\n",
       "    <tr>\n",
       "      <th>0</th>\n",
       "      <td>(Intercept)</td>\n",
       "      <td>41.725798</td>\n",
       "      <td>(Intercept)</td>\n",
       "      <td>41.725798</td>\n",
       "    </tr>\n",
       "    <tr>\n",
       "      <th>1</th>\n",
       "      <td>cg00022866</td>\n",
       "      <td>0.693552</td>\n",
       "      <td>cg00022866</td>\n",
       "      <td>0.693552</td>\n",
       "    </tr>\n",
       "    <tr>\n",
       "      <th>2</th>\n",
       "      <td>cg00466249</td>\n",
       "      <td>-0.825575</td>\n",
       "      <td>cg00466249</td>\n",
       "      <td>-0.825575</td>\n",
       "    </tr>\n",
       "    <tr>\n",
       "      <th>3</th>\n",
       "      <td>cg00546897</td>\n",
       "      <td>-1.358516</td>\n",
       "      <td>cg00546897</td>\n",
       "      <td>-1.358516</td>\n",
       "    </tr>\n",
       "    <tr>\n",
       "      <th>4</th>\n",
       "      <td>cg00575744</td>\n",
       "      <td>-3.829286</td>\n",
       "      <td>cg00575744</td>\n",
       "      <td>-3.829286</td>\n",
       "    </tr>\n",
       "  </tbody>\n",
       "</table>\n",
       "</div>"
      ],
      "text/plain": [
       "     CpGmarker  CoefficientTraining      feature  coefficient\n",
       "0  (Intercept)            41.725798  (Intercept)    41.725798\n",
       "1   cg00022866             0.693552   cg00022866     0.693552\n",
       "2   cg00466249            -0.825575   cg00466249    -0.825575\n",
       "3   cg00546897            -1.358516   cg00546897    -1.358516\n",
       "4   cg00575744            -3.829286   cg00575744    -3.829286"
      ]
     },
     "execution_count": 6,
     "metadata": {},
     "output_type": "execute_result"
    }
   ],
   "source": [
    "df['feature'] = df['CpGmarker']\n",
    "df['coefficient'] = df['CoefficientTraining']\n",
    "\n",
    "df.head()"
   ]
  },
  {
   "cell_type": "markdown",
   "id": "5ac5b42a-3bd9-49d3-b84e-79d236af24b4",
   "metadata": {},
   "source": [
    "Then, let's create lists for features and weights. Be careful about the intercept, as it usually shows up as a feature name."
   ]
  },
  {
   "cell_type": "code",
   "execution_count": 7,
   "id": "2fc06bb5-7e9c-46fd-9843-31880f1d3788",
   "metadata": {},
   "outputs": [],
   "source": [
    "features = df['feature'][1:].tolist()\n",
    "weights = torch.tensor(df['coefficient'][1:].tolist()).unsqueeze(0)\n",
    "intercept = torch.tensor([df['coefficient'][0]])"
   ]
  },
  {
   "cell_type": "markdown",
   "id": "d193ccbf-d06b-49bb-ad4b-ffe3271dea63",
   "metadata": {},
   "source": [
    "## Load weights into pyaging model"
   ]
  },
  {
   "cell_type": "markdown",
   "id": "4350119a-4bd4-4efa-85b5-9de70fdf496f",
   "metadata": {},
   "source": [
    "#### Linear model"
   ]
  },
  {
   "cell_type": "code",
   "execution_count": 8,
   "id": "7354c541-5af9-447d-a339-2cb88c253b41",
   "metadata": {},
   "outputs": [
    {
     "data": {
      "text/plain": [
       "LinearModel(\n",
       "  (linear): Linear(in_features=148, out_features=1, bias=True)\n",
       ")"
      ]
     },
     "execution_count": 8,
     "metadata": {},
     "output_type": "execute_result"
    }
   ],
   "source": [
    "model = pya.models.LinearModel(input_dim=len(features))\n",
    "\n",
    "model.linear.weight.data = weights.float()\n",
    "model.linear.bias.data = intercept.float()\n",
    "\n",
    "model"
   ]
  },
  {
   "cell_type": "markdown",
   "id": "06adc9d8-cec2-447d-8d0b-e2819d4c1a5b",
   "metadata": {},
   "source": [
    "## Add reference values"
   ]
  },
  {
   "cell_type": "markdown",
   "id": "84bf0205-f976-497b-a6a9-e4945c05cdb3",
   "metadata": {},
   "source": [
    "Some clocks have reference values in the case of missing features. It is also possible that these values are for preprocessing features rather than the clock features. Let's add a dictionary with the feature names as the keys."
   ]
  },
  {
   "cell_type": "code",
   "execution_count": 9,
   "id": "250dd50d-a175-45f3-913b-da87c50cb55c",
   "metadata": {},
   "outputs": [],
   "source": [
    "reference_feature_values_df = reference_feature_values_df.loc[features]\n",
    "\n",
    "reference_feature_values = dict(zip(features, reference_feature_values_df['goldstandard2'].tolist()))"
   ]
  },
  {
   "cell_type": "markdown",
   "id": "c9b4fd10-797c-45bd-aa1a-65aed1deaf1c",
   "metadata": {},
   "source": [
    "## Add preprocessing and postprocesssing steps"
   ]
  },
  {
   "cell_type": "markdown",
   "id": "20649dc9-2b58-4c63-a48e-f8d7a4bb520b",
   "metadata": {},
   "source": [
    "The preprocessing and postprocessing objects are dictionaries with the following format, with all items required. It takes in x in the form of a numpy array."
   ]
  },
  {
   "cell_type": "code",
   "execution_count": 10,
   "id": "1d173005-fb63-43d5-bd9f-0b4fa2e240b1",
   "metadata": {},
   "outputs": [],
   "source": [
    "preprocessing = None"
   ]
  },
  {
   "cell_type": "markdown",
   "id": "3ca747b4-0214-40a1-a7bf-fbf2a71084af",
   "metadata": {},
   "source": [
    "Similarly is the case of postprocessing. Remember that your function must be compatible with torch and is applied to each number individually."
   ]
  },
  {
   "cell_type": "code",
   "execution_count": 11,
   "id": "6fe37a2c-113a-4517-91e4-10a4e8b2005a",
   "metadata": {},
   "outputs": [],
   "source": [
    "postprocessing = None"
   ]
  },
  {
   "cell_type": "markdown",
   "id": "57b07cdb-8328-4395-bfb9-da19e278fd3a",
   "metadata": {},
   "source": [
    "## Check all data objects"
   ]
  },
  {
   "cell_type": "markdown",
   "id": "8d51e146-2a7d-49f9-946d-3ad28f797066",
   "metadata": {},
   "source": [
    "Let's print all data objects to check if they make sense."
   ]
  },
  {
   "cell_type": "markdown",
   "id": "18e9c5dc-4f30-44fe-9b78-4cb0a7393433",
   "metadata": {},
   "source": [
    "#### features"
   ]
  },
  {
   "cell_type": "code",
   "execution_count": 12,
   "id": "bf047bed-52f0-4a64-9691-4c04df9f50ec",
   "metadata": {},
   "outputs": [
    {
     "data": {
      "text/html": [
       "\n",
       "    <div style=\"overflow-x: scroll; overflow-y: scroll; border: 1px solid black; background-color: white; !important; color: black; !important;\">\n",
       "        <pre>There are 148 features.\n",
       "['cg00022866', 'cg00466249', 'cg00546897', 'cg00575744', 'cg00689340', 'cg01056568', 'cg01184449', 'cg01348086', 'cg02100629', 'cg02813863', 'cg02941816', 'cg03086857', 'cg03427564', 'cg03506489', 'cg03923277', 'cg04001333', 'cg04323187', 'cg05294455', 'cg05365729', 'cg05512756', 'cg05564251', 'cg05898102', 'cg06049972', 'cg06311778', 'cg06471905', 'cg07017706', 'cg07141002', 'cg07197059', 'cg07664183', 'cg07679836', 'cg07747299', 'cg07816074', 'cg07922606', 'cg07955887', 'cg08170622', 'cg08251399', 'cg08723608', 'cg08888956', 'cg08899632', 'cg09011597', 'cg09539538', 'cg09594841', 'cg09616556', 'cg09730361', 'cg09881855', 'cg09904573', 'cg09971646', 'cg10459515', 'cg10927536', 'cg11299964', 'cg11303670', 'cg11469321', 'cg11647681', 'cg11777321', 'cg12340144', 'cg12478809', 'cg12601987', 'cg12721546', 'cg12741488', 'cg13129046', 'cg13264741', 'cg13269407', 'cg13514050', 'cg13686115', 'cg13696887', 'cg13954292', 'cg14348532', 'cg14659547', 'cg14672994', 'cg14732136', 'cg14758413', 'cg15357945', 'cg15526708', 'cg15856055', 'cg16254764', 'cg16270890', 'cg16301617', 'cg16442715', 'cg16536918', 'cg16545105', 'cg16664233', 'cg16990174', 'cg17305187', 'cg17317962', 'cg17339202', 'cg17451138', 'cg18236477', 'cg18487515', 'cg18669381', 'cg19070798', 'cg19148051', 'cg19257200', 'cg19286604', 'cg19403023', 'cg19403377', 'cg19486271', 'cg19564877', 'cg19766460', 'cg20176532', 'cg20277670', 'cg20278498', 'cg20394284', 'cg20469837', 'cg20512303', 'cg20588045', 'cg20815063', 'cg20937139', 'cg21207436', 'cg21468416', 'cg21549639', 'cg21601405', 'cg21926612', 'cg22035229', 'cg22151768', 'cg22402007', 'cg22580512', 'cg22820108', 'cg22972055', 'cg23222573', 'cg23355492', 'cg23521281', 'cg23580000', 'cg23858360', 'cg24030425', 'cg24134767', 'cg24620905', 'cg24794433', 'cg25169784', 'cg25193494', 'cg25306927', 'cg25358289', 'cg25374854', 'cg25400358', 'cg25511429', 'cg25604883', 'cg25651505', 'cg25945961', 'cg26060255', 'cg26179948', 'cg26385222', 'cg26394940', 'cg26656135', 'cg26689483', 'cg26884581', 'cg27210390', 'cg27258399', 'cg27431150', 'cg27544190']\n",
       "</pre>\n",
       "    </div>\n",
       "    "
      ],
      "text/plain": [
       "<IPython.core.display.HTML object>"
      ]
     },
     "metadata": {},
     "output_type": "display_data"
    }
   ],
   "source": [
    "def my_print_function():\n",
    "    print(f\"There are {len(features)} features.\")\n",
    "    print(features)\n",
    "pya.utils.print_to_scrollable_output(my_print_function)"
   ]
  },
  {
   "cell_type": "markdown",
   "id": "9f714095-84cc-4dca-bd6a-722a8b1577c1",
   "metadata": {},
   "source": [
    "#### reference_feature_values"
   ]
  },
  {
   "cell_type": "code",
   "execution_count": 13,
   "id": "6436fd01-0a8e-41a5-b584-2c020136ff97",
   "metadata": {},
   "outputs": [
    {
     "data": {
      "text/html": [
       "\n",
       "    <div style=\"overflow-x: scroll; overflow-y: scroll; border: 1px solid black; background-color: white; !important; color: black; !important;\">\n",
       "        <pre>There are 148 reference feature values.\n",
       "{'cg00022866': 0.470988652, 'cg00466249': 0.4574588, 'cg00546897': 0.471526503, 'cg00575744': 0.060478447, 'cg00689340': 0.576057497, 'cg01056568': 0.578012018, 'cg01184449': 0.73858511, 'cg01348086': 0.032705227, 'cg02100629': 0.129677634, 'cg02813863': 0.847421632, 'cg02941816': 0.040442058, 'cg03086857': 0.123711132, 'cg03427564': 0.042129823, 'cg03506489': 0.058492584, 'cg03923277': 0.47490999, 'cg04001333': 0.567201154, 'cg04323187': 0.028050524, 'cg05294455': 0.693295627, 'cg05365729': 0.362458936, 'cg05512756': 0.357454375, 'cg05564251': 0.751423923, 'cg05898102': 0.076149441, 'cg06049972': 0.084830058, 'cg06311778': 0.047438755, 'cg06471905': 0.123293314, 'cg07017706': 0.851965226, 'cg07141002': 0.354742659, 'cg07197059': 0.83293121, 'cg07664183': 0.056902106, 'cg07679836': 0.464347542, 'cg07747299': 0.24770027, 'cg07816074': 0.210080744, 'cg07922606': 0.944542884, 'cg07955887': 0.888114612, 'cg08170622': 0.025547619, 'cg08251399': 0.650426443, 'cg08723608': 0.778530803, 'cg08888956': 0.568509871, 'cg08899632': 0.025909218, 'cg09011597': 0.073781375, 'cg09539538': 0.706516068, 'cg09594841': 0.058219829, 'cg09616556': 0.793499532, 'cg09730361': 0.040681443, 'cg09881855': 0.050195925, 'cg09904573': 0.058040758, 'cg09971646': 0.356249569, 'cg10459515': 0.015807182, 'cg10927536': 0.138906749, 'cg11299964': 0.194670234, 'cg11303670': 0.058072455, 'cg11469321': 0.324811026, 'cg11647681': 0.203513878, 'cg11777321': 0.032569539, 'cg12340144': 0.253997507, 'cg12478809': 0.087537468, 'cg12601987': 0.031498477, 'cg12721546': 0.021681713, 'cg12741488': 0.06954332, 'cg13129046': 0.129266354, 'cg13264741': 0.035615008, 'cg13269407': 0.162962936, 'cg13514050': 0.039851689, 'cg13686115': 0.064256099, 'cg13696887': 0.8960855, 'cg13954292': 0.953516088, 'cg14348532': 0.144740815, 'cg14659547': 0.852926099, 'cg14672994': 0.071499669, 'cg14732136': 0.021384872, 'cg14758413': 0.041584296, 'cg15357945': 0.54918837, 'cg15526708': 0.102582808, 'cg15856055': 0.099324335, 'cg16254764': 0.036384682, 'cg16270890': 0.053851974, 'cg16301617': 0.161476561, 'cg16442715': 0.03264653, 'cg16536918': 0.506173097, 'cg16545105': 0.352017613, 'cg16664233': 0.049572912, 'cg16990174': 0.79536611, 'cg17305187': 0.034867333, 'cg17317962': 0.01666118, 'cg17339202': 0.136998789, 'cg17451138': 0.043300213, 'cg18236477': 0.112539122, 'cg18487515': 0.020797981, 'cg18669381': 0.721092286, 'cg19070798': 0.029698688, 'cg19148051': 0.035194102, 'cg19257200': 0.890045827, 'cg19286604': 0.044097165, 'cg19403023': 0.669768, 'cg19403377': 0.257950831, 'cg19486271': 0.113689461, 'cg19564877': 0.070563049, 'cg19766460': 0.070045419, 'cg20176532': 0.01595546, 'cg20277670': 0.976705434, 'cg20278498': 0.036097204, 'cg20394284': 0.383236689, 'cg20469837': 0.241915127, 'cg20512303': 0.798807104, 'cg20588045': 0.31123149, 'cg20815063': 0.02414905, 'cg20937139': 0.028825662, 'cg21207436': 0.807263608, 'cg21468416': 0.219929194, 'cg21549639': 0.057192434, 'cg21601405': 0.085465616, 'cg21926612': 0.094016268, 'cg22035229': 0.857624569, 'cg22151768': 0.019829909, 'cg22402007': 0.121517081, 'cg22580512': 0.832895581, 'cg22820108': 0.466420231, 'cg22972055': 0.772944289, 'cg23222573': 0.023660079, 'cg23355492': 0.679861957, 'cg23521281': 0.025928399, 'cg23580000': 0.911093269, 'cg23858360': 0.237155676, 'cg24030425': 0.0245572, 'cg24134767': 0.782944121, 'cg24620905': 0.722548914, 'cg24794433': 0.035287366, 'cg25169784': 0.048327008, 'cg25193494': 0.714808604, 'cg25306927': 0.028921003, 'cg25358289': 0.179997852, 'cg25374854': 0.652404579, 'cg25400358': 0.772047365, 'cg25511429': 0.084214162, 'cg25604883': 0.04513731, 'cg25651505': 0.163395832, 'cg25945961': 0.02398207, 'cg26060255': 0.158644257, 'cg26179948': 0.073295894, 'cg26385222': 0.341065748, 'cg26394940': 0.10541731, 'cg26656135': 0.13517583, 'cg26689483': 0.10554231, 'cg26884581': 0.851029353, 'cg27210390': 0.472628069, 'cg27258399': 0.207736296, 'cg27431150': 0.041464098, 'cg27544190': 0.079760704}\n",
       "</pre>\n",
       "    </div>\n",
       "    "
      ],
      "text/plain": [
       "<IPython.core.display.HTML object>"
      ]
     },
     "metadata": {},
     "output_type": "display_data"
    }
   ],
   "source": [
    "def my_print_function():\n",
    "    if reference_feature_values:\n",
    "        print(f\"There are {len(reference_feature_values)} reference feature values.\")\n",
    "    print(reference_feature_values)\n",
    "pya.utils.print_to_scrollable_output(my_print_function)"
   ]
  },
  {
   "cell_type": "markdown",
   "id": "f4550f26-a4b3-447a-93f9-34551e40dce8",
   "metadata": {},
   "source": [
    "#### preprocessing"
   ]
  },
  {
   "cell_type": "code",
   "execution_count": 14,
   "id": "960c5ede-3175-4192-a358-bf5ccb41074f",
   "metadata": {},
   "outputs": [
    {
     "data": {
      "text/html": [
       "\n",
       "    <div style=\"overflow-x: scroll; overflow-y: scroll; border: 1px solid black; background-color: white; !important; color: black; !important;\">\n",
       "        <pre>None\n",
       "</pre>\n",
       "    </div>\n",
       "    "
      ],
      "text/plain": [
       "<IPython.core.display.HTML object>"
      ]
     },
     "metadata": {},
     "output_type": "display_data"
    }
   ],
   "source": [
    "def my_print_function():\n",
    "    print(preprocessing)\n",
    "    if preprocessing:\n",
    "        print(preprocessing_helper_objects)\n",
    "pya.utils.print_to_scrollable_output(my_print_function)"
   ]
  },
  {
   "cell_type": "markdown",
   "id": "e08e6430-65e1-4fd1-a5d0-9e75a408e22f",
   "metadata": {},
   "source": [
    "#### postprocessing"
   ]
  },
  {
   "cell_type": "code",
   "execution_count": 15,
   "id": "40fe1f52-ad50-4b84-89c7-c5d1d3fff139",
   "metadata": {},
   "outputs": [
    {
     "data": {
      "text/html": [
       "\n",
       "    <div style=\"overflow-x: scroll; overflow-y: scroll; border: 1px solid black; background-color: white; !important; color: black; !important;\">\n",
       "        <pre>None\n",
       "</pre>\n",
       "    </div>\n",
       "    "
      ],
      "text/plain": [
       "<IPython.core.display.HTML object>"
      ]
     },
     "metadata": {},
     "output_type": "display_data"
    }
   ],
   "source": [
    "def my_print_function():\n",
    "    print(postprocessing)\n",
    "    if postprocessing:\n",
    "        print(postprocessing)\n",
    "pya.utils.print_to_scrollable_output(my_print_function)"
   ]
  },
  {
   "cell_type": "markdown",
   "id": "a72923d6-6518-4f6d-86c2-199b86bd0309",
   "metadata": {},
   "source": [
    "#### weight_dict"
   ]
  },
  {
   "cell_type": "code",
   "execution_count": 16,
   "id": "658317e5-44bd-4621-877c-5db57494c968",
   "metadata": {},
   "outputs": [
    {
     "data": {
      "text/html": [
       "\n",
       "    <div style=\"overflow-x: scroll; overflow-y: scroll; border: 1px solid black; background-color: white; !important; color: black; !important;\">\n",
       "        <pre>Layer: linear.weight\n",
       "Shape: torch.Size([1, 148])\n",
       "tensor([[ 6.9355e-01, -8.2557e-01, -1.3585e+00, -3.8293e+00,  9.6034e-01,\n",
       "          2.0517e-01,  7.8278e-01, -1.3157e+00,  5.5921e-01, -1.0659e+00,\n",
       "          1.3555e+00,  1.0993e+00, -7.9381e+00,  6.3389e+00, -3.3696e-01,\n",
       "         -9.3611e-02,  1.9930e+00,  2.1887e+00,  7.0055e-01,  2.6436e-01,\n",
       "         -8.5540e-01, -1.3310e+00,  1.6403e+00, -4.1727e+00,  1.5576e-01,\n",
       "         -4.7989e+00, -1.6676e-01,  9.2053e-02, -3.1910e+00,  4.8825e-02,\n",
       "         -1.1154e-03, -9.8260e-01,  7.6621e-01,  2.7944e+00,  2.0009e-01,\n",
       "          3.5564e-01, -7.8887e-01,  5.7371e-02,  2.9066e+00, -3.1474e+00,\n",
       "          1.0553e+00,  3.7909e-01, -1.9608e-01,  3.5128e+00, -1.1179e-01,\n",
       "          9.6038e-01,  8.7675e-01, -3.1633e+00, -2.9934e+00,  1.5365e+00,\n",
       "         -1.2228e+00,  1.8058e+00,  1.0887e+00, -8.0106e-01,  8.7730e-01,\n",
       "         -1.6394e-02,  8.4186e+00, -5.8725e+00, -1.7058e+00, -6.4280e-02,\n",
       "         -1.5633e+00,  3.6857e-01,  2.2928e+00,  4.9790e+00, -6.2561e-01,\n",
       "          7.1695e+00,  1.3460e+01, -4.2272e+00, -3.7605e+00,  6.4750e-01,\n",
       "          3.1366e-01,  1.9686e-02, -2.9994e+00, -4.4525e+00, -5.9181e+00,\n",
       "         -1.0707e+00, -5.1951e+00, -1.3693e+00, -7.5031e-01, -7.2049e+00,\n",
       "          1.8572e+00,  1.1535e+00,  2.2443e+00, -1.3067e+01, -2.2734e-01,\n",
       "          3.1805e+00,  9.5139e-01, -3.9688e+00,  7.0464e-01, -1.2129e+01,\n",
       "         -3.4237e+00,  4.1138e-02,  4.7587e-01,  2.6076e-01,  5.8953e-01,\n",
       "         -5.3406e-01,  5.4347e-01, -1.1519e+00,  2.1191e+00,  1.9701e+00,\n",
       "         -1.3888e+01, -2.2924e+00,  4.2381e+00,  8.9380e-01,  1.0278e+00,\n",
       "         -4.0962e-01, -1.4886e+01,  2.0686e+00, -2.7375e+00,  1.4332e+00,\n",
       "         -8.4189e-01,  4.4427e-01,  4.8272e-01, -1.8973e+00,  3.3108e-01,\n",
       "         -7.2397e-01, -1.3626e+00, -5.0748e-03, -5.2062e+00,  1.4437e+00,\n",
       "         -3.7507e+00, -4.4407e+00,  6.2325e-01,  1.3433e+00,  3.2914e+00,\n",
       "          1.1328e-01, -1.4039e+00,  8.8987e-01,  2.6669e-01,  2.8191e+00,\n",
       "         -5.1653e-02,  9.9242e-01, -1.7417e+00,  4.3633e+00,  2.4414e+00,\n",
       "         -4.1439e+00,  1.0443e+01, -3.8157e-02, -1.2109e+01,  2.1719e+00,\n",
       "         -2.1967e-01, -8.0212e+00,  4.8990e-03,  1.0138e+00,  1.7985e+00,\n",
       "          3.4805e-01, -2.0705e-01,  1.5841e+00]])\n",
       "Layer: linear.bias\n",
       "Shape: torch.Size([1])\n",
       "tensor([41.7258])\n",
       "</pre>\n",
       "    </div>\n",
       "    "
      ],
      "text/plain": [
       "<IPython.core.display.HTML object>"
      ]
     },
     "metadata": {},
     "output_type": "display_data"
    }
   ],
   "source": [
    "def my_print_function():\n",
    "    for name, param in model.named_parameters():\n",
    "        print(f\"Layer: {name}\")\n",
    "        print(f\"Shape: {param.shape}\")\n",
    "        print(param.data)\n",
    "pya.utils.print_to_scrollable_output(my_print_function)"
   ]
  },
  {
   "cell_type": "markdown",
   "id": "275815e5-5630-4163-bc61-7119a9c805c1",
   "metadata": {},
   "source": [
    "## Write clock dictionary"
   ]
  },
  {
   "cell_type": "markdown",
   "id": "3b176620-afb5-403c-9948-07639072bb44",
   "metadata": {},
   "source": [
    "Let's put everything together and save:"
   ]
  },
  {
   "cell_type": "code",
   "execution_count": 17,
   "id": "35d00b76-513d-4d8f-8824-6d810ee9d8f5",
   "metadata": {},
   "outputs": [],
   "source": [
    "clock_dict = {\n",
    "    # Metadata\n",
    "    'clock_name': clock_name,\n",
    "    'data_type': data_type,\n",
    "    'model_class': model_class,\n",
    "    'species': species,\n",
    "    'year': year,\n",
    "    'approved_by_author': approved_by_author,\n",
    "    'citation': citation,\n",
    "    'doi': doi,\n",
    "    \"notes\": notes,\n",
    "\n",
    "    # Data\n",
    "    'reference_feature_values': reference_feature_values if reference_feature_values else None,\n",
    "    'preprocessing': preprocessing if preprocessing else None, \n",
    "    'features': features,\n",
    "    'weight_dict': model.state_dict(),\n",
    "    'postprocessing': postprocessing if postprocessing else None,\n",
    "}\n",
    "\n",
    "torch.save(clock_dict, f'../weights/{clock_name}.pt')"
   ]
  },
  {
   "cell_type": "markdown",
   "id": "c1dd2efe-2bd6-4e1b-92ee-d110c25ad29c",
   "metadata": {},
   "source": [
    "## Clear directory"
   ]
  },
  {
   "cell_type": "markdown",
   "id": "158aa71f-7bbc-4c52-b7ef-16ba45d5e1fd",
   "metadata": {},
   "source": [
    "Delete all files that are not clock jupyter notebooks:"
   ]
  },
  {
   "cell_type": "code",
   "execution_count": 18,
   "id": "db4bd42b-c62f-4557-9ebc-d8194a240137",
   "metadata": {},
   "outputs": [
    {
     "name": "stdout",
     "output_type": "stream",
     "text": [
      "Deleted file: coefficients.csv\n",
      "Deleted file: reference_feature_values.csv\n",
      "Deleted folder: .ipynb_checkpoints\n"
     ]
    }
   ],
   "source": [
    "# Function to remove a folder and all its contents\n",
    "def remove_folder(path):\n",
    "    try:\n",
    "        shutil.rmtree(path)\n",
    "        print(f\"Deleted folder: {path}\")\n",
    "    except Exception as e:\n",
    "        print(f\"Error deleting folder {path}: {e}\")\n",
    "\n",
    "# Get a list of all files and folders in the current directory\n",
    "all_items = os.listdir('.')\n",
    "\n",
    "# Loop through the items\n",
    "for item in all_items:\n",
    "    # Check if it's a file and does not end with .ipynb\n",
    "    if os.path.isfile(item) and not item.endswith('.ipynb'):\n",
    "        os.remove(item)\n",
    "        print(f\"Deleted file: {item}\")\n",
    "    # Check if it's a folder\n",
    "    elif os.path.isdir(item):\n",
    "        remove_folder(item)"
   ]
  }
 ],
 "metadata": {
  "kernelspec": {
   "display_name": "Python 3",
   "language": "python",
   "name": "python3"
  },
  "language_info": {
   "codemirror_mode": {
    "name": "ipython",
    "version": 3
   },
   "file_extension": ".py",
   "mimetype": "text/x-python",
   "name": "python",
   "nbconvert_exporter": "python",
   "pygments_lexer": "ipython3",
   "version": "3.9.17"
  }
 },
 "nbformat": 4,
 "nbformat_minor": 5
}

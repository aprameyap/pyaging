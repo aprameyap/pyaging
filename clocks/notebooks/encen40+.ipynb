{
 "cells": [
  {
   "cell_type": "markdown",
   "id": "2f04eee0-5928-4e74-a754-6dc2e528810c",
   "metadata": {},
   "source": [
    "# ENCen40+"
   ]
  },
  {
   "cell_type": "markdown",
   "id": "a3f514a3-772c-4a14-afdf-5a8376851ff4",
   "metadata": {},
   "source": [
    "## Index\n",
    "1. [Define required clock parameters](#Define-required-clock-parameters)\n",
    "2. [Download necessary data](#Download-necessary-data)\n",
    "3. [Load data](#-Load-data)\n",
    "4. [Extract features and weights](#Extract-features-and-weights)\n",
    "5. [Load weights into pyaging model](#Load-weights-into-pyaging-model)\n",
    "6. [Add reference values](#Add-reference-values)\n",
    "7. [Add preprocessing and postprocesssing steps](#Add-preprocessing-and-postprocesssing-steps)\n",
    "8. [Check all data objects](#Check-all-data-objects)\n",
    "9. [Write clock dictionary](#Write-clock-dictionary)\n",
    "10. [Clear directory](#Clear-directory)"
   ]
  },
  {
   "cell_type": "markdown",
   "id": "d95fafdc-643a-40ea-a689-200bd132e90c",
   "metadata": {},
   "source": [
    "Let's first import some packages:"
   ]
  },
  {
   "cell_type": "code",
   "execution_count": 1,
   "id": "4adfb4de-cd79-4913-a1af-9e23e9e236c9",
   "metadata": {},
   "outputs": [],
   "source": [
    "import os\n",
    "import marshal\n",
    "import shutil\n",
    "import json\n",
    "import torch\n",
    "import pandas as pd\n",
    "import pyaging as pya"
   ]
  },
  {
   "cell_type": "markdown",
   "id": "c8c0c937-d9b6-4756-99b0-91de591220e0",
   "metadata": {},
   "source": [
    "## Define required clock parameters"
   ]
  },
  {
   "cell_type": "markdown",
   "id": "cf95ddca-625e-4c70-a246-c3cb12df96f8",
   "metadata": {},
   "source": [
    "Let's define some required information first:"
   ]
  },
  {
   "cell_type": "code",
   "execution_count": 2,
   "id": "5281776d-0549-445f-beec-39c31ec7dbe1",
   "metadata": {},
   "outputs": [],
   "source": [
    "clock_name = 'encen40'\n",
    "data_type = 'methylation'\n",
    "model_class = 'LinearModel'\n",
    "species = 'Homo sapiens'\n",
    "year = 2023\n",
    "approved_by_author = '⌛'\n",
    "citation = \"Dec, Eric, et al. \\\"Centenarian clocks: epigenetic clocks for validating claims of exceptional longevity.\\\" GeroScience (2023): 1-19.\"\n",
    "doi = 'https://doi.org/10.1007/s11357-023-00731-7'\n",
    "notes = None"
   ]
  },
  {
   "cell_type": "markdown",
   "id": "4520c8cb-6c1f-4490-ba4c-6fe78ef002a7",
   "metadata": {},
   "source": [
    "## Download necessary data"
   ]
  },
  {
   "cell_type": "markdown",
   "id": "4ccae25e-7d7f-45da-8e8a-064a66dc52fa",
   "metadata": {},
   "source": [
    "#### Download GitHub repository"
   ]
  },
  {
   "cell_type": "code",
   "execution_count": 3,
   "id": "a2a5b60e-ff7f-4b24-b1c6-61cda8948310",
   "metadata": {},
   "outputs": [
    {
     "data": {
      "text/plain": [
       "0"
      ]
     },
     "execution_count": 3,
     "metadata": {},
     "output_type": "execute_result"
    }
   ],
   "source": [
    "github_url = \"https://github.com/victorychain/Centenarian-Clock.git\"\n",
    "github_folder_name = github_url.split('/')[-1].split('.')[0]\n",
    "os.system(f\"git clone {github_url}\")"
   ]
  },
  {
   "cell_type": "markdown",
   "id": "35615b62-73ac-40b1-8bc1-e904403eb0ae",
   "metadata": {},
   "source": [
    "## Load data"
   ]
  },
  {
   "cell_type": "markdown",
   "id": "232eb94a-04a7-4ac4-ae3e-0e365b443a8e",
   "metadata": {},
   "source": [
    "#### From CSV file"
   ]
  },
  {
   "cell_type": "code",
   "execution_count": 4,
   "id": "45fbc051-f0d2-4b25-9813-ae126f6fedcb",
   "metadata": {},
   "outputs": [],
   "source": [
    "df = pd.read_csv('Centenarian-Clock/clocks/final_clocks.csv', index_col=0).T"
   ]
  },
  {
   "cell_type": "markdown",
   "id": "60c676db-2c7c-4c04-9457-97bccd598269",
   "metadata": {},
   "source": [
    "## Extract features and weights"
   ]
  },
  {
   "cell_type": "markdown",
   "id": "385ef22d-a530-4f02-a783-e9207dc6f36c",
   "metadata": {},
   "source": [
    "First, let's extract the features and weights:"
   ]
  },
  {
   "cell_type": "code",
   "execution_count": 5,
   "id": "e1d1dd13-65ac-4694-8948-3cd94bc19fe1",
   "metadata": {},
   "outputs": [
    {
     "data": {
      "text/html": [
       "<div>\n",
       "<style scoped>\n",
       "    .dataframe tbody tr th:only-of-type {\n",
       "        vertical-align: middle;\n",
       "    }\n",
       "\n",
       "    .dataframe tbody tr th {\n",
       "        vertical-align: top;\n",
       "    }\n",
       "\n",
       "    .dataframe thead th {\n",
       "        text-align: right;\n",
       "    }\n",
       "</style>\n",
       "<table border=\"1\" class=\"dataframe\">\n",
       "  <thead>\n",
       "    <tr style=\"text-align: right;\">\n",
       "      <th>clock</th>\n",
       "      <th>index</th>\n",
       "      <th>ENCen40+</th>\n",
       "      <th>ENCen100+</th>\n",
       "      <th>feature</th>\n",
       "      <th>coefficient</th>\n",
       "    </tr>\n",
       "  </thead>\n",
       "  <tbody>\n",
       "    <tr>\n",
       "      <th>0</th>\n",
       "      <td>(Intercept)</td>\n",
       "      <td>33.323988</td>\n",
       "      <td>73.994713</td>\n",
       "      <td>(Intercept)</td>\n",
       "      <td>33.323988</td>\n",
       "    </tr>\n",
       "    <tr>\n",
       "      <th>1</th>\n",
       "      <td>cg06437747</td>\n",
       "      <td>-2.098886</td>\n",
       "      <td>0.000000</td>\n",
       "      <td>cg06437747</td>\n",
       "      <td>-2.098886</td>\n",
       "    </tr>\n",
       "    <tr>\n",
       "      <th>2</th>\n",
       "      <td>cg12140144</td>\n",
       "      <td>2.474569</td>\n",
       "      <td>0.000000</td>\n",
       "      <td>cg12140144</td>\n",
       "      <td>2.474569</td>\n",
       "    </tr>\n",
       "    <tr>\n",
       "      <th>3</th>\n",
       "      <td>cg17804348</td>\n",
       "      <td>0.132607</td>\n",
       "      <td>0.000000</td>\n",
       "      <td>cg17804348</td>\n",
       "      <td>0.132607</td>\n",
       "    </tr>\n",
       "    <tr>\n",
       "      <th>4</th>\n",
       "      <td>cg18025409</td>\n",
       "      <td>1.092676</td>\n",
       "      <td>-0.000000</td>\n",
       "      <td>cg18025409</td>\n",
       "      <td>1.092676</td>\n",
       "    </tr>\n",
       "  </tbody>\n",
       "</table>\n",
       "</div>"
      ],
      "text/plain": [
       "clock        index   ENCen40+  ENCen100+      feature  coefficient\n",
       "0      (Intercept)  33.323988  73.994713  (Intercept)    33.323988\n",
       "1       cg06437747  -2.098886   0.000000   cg06437747    -2.098886\n",
       "2       cg12140144   2.474569   0.000000   cg12140144     2.474569\n",
       "3       cg17804348   0.132607   0.000000   cg17804348     0.132607\n",
       "4       cg18025409   1.092676  -0.000000   cg18025409     1.092676"
      ]
     },
     "execution_count": 5,
     "metadata": {},
     "output_type": "execute_result"
    }
   ],
   "source": [
    "df = df[df['ENCen40+'] != 0]\n",
    "df = df.reset_index()\n",
    "\n",
    "df['feature'] = df['index']\n",
    "df['coefficient'] = df['ENCen40+']\n",
    "\n",
    "df.head()"
   ]
  },
  {
   "cell_type": "markdown",
   "id": "5ac5b42a-3bd9-49d3-b84e-79d236af24b4",
   "metadata": {},
   "source": [
    "Then, let's create lists for features and weights. Be careful about the intercept, as it usually shows up as a feature name."
   ]
  },
  {
   "cell_type": "code",
   "execution_count": 6,
   "id": "2fc06bb5-7e9c-46fd-9843-31880f1d3788",
   "metadata": {},
   "outputs": [],
   "source": [
    "features = df['feature'][1:].tolist()\n",
    "weights = torch.tensor(df['coefficient'][1:].tolist()).unsqueeze(0).float()\n",
    "intercept = torch.tensor([df['coefficient'][0]]).float()"
   ]
  },
  {
   "cell_type": "markdown",
   "id": "d193ccbf-d06b-49bb-ad4b-ffe3271dea63",
   "metadata": {},
   "source": [
    "## Load weights into pyaging model"
   ]
  },
  {
   "cell_type": "markdown",
   "id": "4350119a-4bd4-4efa-85b5-9de70fdf496f",
   "metadata": {},
   "source": [
    "#### Linear model"
   ]
  },
  {
   "cell_type": "code",
   "execution_count": 7,
   "id": "7354c541-5af9-447d-a339-2cb88c253b41",
   "metadata": {},
   "outputs": [
    {
     "data": {
      "text/plain": [
       "LinearModel(\n",
       "  (linear): Linear(in_features=559, out_features=1, bias=True)\n",
       ")"
      ]
     },
     "execution_count": 7,
     "metadata": {},
     "output_type": "execute_result"
    }
   ],
   "source": [
    "model = pya.models.LinearModel(input_dim=len(features))\n",
    "\n",
    "model.linear.weight.data = weights\n",
    "model.linear.bias.data = intercept\n",
    "\n",
    "model"
   ]
  },
  {
   "cell_type": "markdown",
   "id": "665d768c-3099-41d4-87aa-606e678153da",
   "metadata": {},
   "source": [
    "## Add reference values"
   ]
  },
  {
   "cell_type": "markdown",
   "id": "0c87147a-ad69-4f77-b9ed-082c504b9d14",
   "metadata": {},
   "source": [
    "Some clocks have reference values in the case of missing features. It is also possible that these values are for preprocessing features rather than the clock features. Let's add a dictionary with the feature names as the keys."
   ]
  },
  {
   "cell_type": "code",
   "execution_count": 8,
   "id": "250dd50d-a175-45f3-913b-da87c50cb55c",
   "metadata": {},
   "outputs": [],
   "source": [
    "reference_feature_values = None"
   ]
  },
  {
   "cell_type": "markdown",
   "id": "408fcf5d-c9a0-4793-852a-a4c5ee8a077d",
   "metadata": {},
   "source": [
    "## Add preprocessing and postprocesssing steps"
   ]
  },
  {
   "cell_type": "markdown",
   "id": "9ea7fbe9-f6b2-4b46-b343-1be5cdbe0b31",
   "metadata": {},
   "source": [
    "The preprocessing and postprocessing objects are dictionaries with the following format, with all items required. It takes in x in the form of a numpy array."
   ]
  },
  {
   "cell_type": "code",
   "execution_count": 9,
   "id": "1d173005-fb63-43d5-bd9f-0b4fa2e240b1",
   "metadata": {},
   "outputs": [],
   "source": [
    "preprocessing = None"
   ]
  },
  {
   "cell_type": "markdown",
   "id": "9644a667-201b-486a-9b61-9e7107b917fa",
   "metadata": {},
   "source": [
    "Similarly is the case of postprocessing. Remember that your function must be compatible with torch and is applied to each number individually."
   ]
  },
  {
   "cell_type": "code",
   "execution_count": 10,
   "id": "6fe37a2c-113a-4517-91e4-10a4e8b2005a",
   "metadata": {},
   "outputs": [],
   "source": [
    "postprocessing = None"
   ]
  },
  {
   "cell_type": "markdown",
   "id": "da493958-d311-467c-950e-7c28fe7fbb48",
   "metadata": {},
   "source": [
    "## Check all data objects"
   ]
  },
  {
   "cell_type": "markdown",
   "id": "faf822a7-6e93-4cc0-92d9-27731d288fce",
   "metadata": {},
   "source": [
    "Let's print all data objects to check if they make sense."
   ]
  },
  {
   "cell_type": "markdown",
   "id": "68e5f2ed-2dea-4e66-9ac4-abaa425eecd9",
   "metadata": {},
   "source": [
    "#### features"
   ]
  },
  {
   "cell_type": "code",
   "execution_count": 11,
   "id": "bf047bed-52f0-4a64-9691-4c04df9f50ec",
   "metadata": {},
   "outputs": [
    {
     "data": {
      "text/html": [
       "\n",
       "    <div style=\"overflow-x: scroll; overflow-y: scroll; border: 1px solid black; background-color: white; !important; color: black; !important;\">\n",
       "        <pre>There are 559 features.\n",
       "['cg06437747', 'cg12140144', 'cg17804348', 'cg18025409', 'cg17489312', 'cg15952725', 'cg20822990', 'cg09195271', 'cg18107827', 'cg14333454', 'cg08169949', 'cg25410668', 'cg15554401', 'cg04299080', 'cg12065799', 'cg23093580', 'cg07388493', 'cg13806070', 'cg03664992', 'cg12671744', 'cg26881761', 'cg06784991', 'cg14614643', 'cg06836772', 'cg13786801', 'cg10628205', 'cg12079303', 'cg21912203', 'cg24871743', 'cg09118625', 'cg23078123', 'cg26466094', 'cg23441167', 'cg06214007', 'cg24215727', 'cg03725309', 'cg18933331', 'cg15955341', 'cg08739433', 'cg04400972', 'cg17326555', 'cg07015079', 'cg17720233', 'cg10545682', 'cg22796458', 'cg16054275', 'cg26359730', 'cg27167439', 'cg10501210', 'cg16290275', 'cg12446246', 'cg26293546', 'cg07203024', 'cg11424376', 'cg12167564', 'cg09809672', 'cg19356905', 'cg10881225', 'cg01196788', 'cg21450529', 'cg02630207', 'cg11476211', 'cg20697204', 'cg17272549', 'cg14305711', 'cg11807280', 'cg07004820', 'cg11108890', 'cg03318654', 'cg04329870', 'cg23917057', 'cg06668300', 'cg15149655', 'cg14902389', 'cg18667659', 'cg22809047', 'cg20387706', 'cg06639320', 'cg22454769', 'cg17762554', 'cg20234855', 'cg10751726', 'cg12757011', 'cg19965810', 'cg01620164', 'cg04064028', 'cg19711579', 'cg03767531', 'cg19077806', 'cg21350115', 'cg11483915', 'cg06088314', 'cg25320169', 'cg01280080', 'cg14674720', 'cg06552037', 'cg03776464', 'cg10523019', 'cg19451698', 'cg03626672', 'cg10979567', 'cg24127874', 'cg15058210', 'cg18719170', 'cg08157292', 'cg11274314', 'cg12899747', 'cg00702638', 'cg10257332', 'cg11946769', 'cg19381811', 'cg01844642', 'cg18328933', 'cg12623930', 'cg03891319', 'cg09524078', 'cg03607117', 'cg01777121', 'cg13745692', 'cg14659547', 'cg04167867', 'cg17321954', 'cg07806886', 'cg13065169', 'cg06306198', 'cg13424229', 'cg03906843', 'cg01542719', 'cg09401099', 'cg06737494', 'cg00481951', 'cg00480331', 'cg16932827', 'cg14711869', 'cg03199651', 'cg15957394', 'cg23995914', 'cg07171111', 'cg19283196', 'cg04307083', 'cg25428494', 'cg24430580', 'cg09134003', 'cg05106770', 'cg05369942', 'cg17062829', 'cg02650266', 'cg04045079', 'cg01511232', 'cg23303074', 'cg15736994', 'cg19518666', 'cg25148589', 'cg14069287', 'cg04939673', 'cg18314424', 'cg05575921', 'cg04764584', 'cg25484373', 'cg13039251', 'cg02328239', 'cg01606885', 'cg11789321', 'cg23935746', 'cg20798152', 'cg15153141', 'cg26921969', 'cg21596317', 'cg06448705', 'cg02478589', 'cg21874213', 'cg23500537', 'cg15895121', 'cg10578938', 'cg22861316', 'cg23012579', 'cg18034299', 'cg16112129', 'cg11538128', 'cg20052760', 'cg16867657', 'cg15210999', 'cg02727079', 'cg22736354', 'cg06493994', 'cg24698655', 'cg04581938', 'cg25955180', 'cg27067781', 'cg15982308', 'cg08049198', 'cg04576021', 'cg03020951', 'cg22407458', 'cg08179530', 'cg11947985', 'cg00651216', 'cg08445802', 'cg03350900', 'cg14310890', 'cg26252167', 'cg07164639', 'cg01889237', 'cg13001142', 'cg13221458', 'cg10865119', 'cg10152449', 'cg04955333', 'cg19381766', 'cg15240064', 'cg11983867', 'cg24853724', 'cg19663246', 'cg20110742', 'cg09124496', 'cg24497732', 'cg15777014', 'cg05724065', 'cg09748749', 'cg08695830', 'cg27367526', 'cg07588113', 'cg25235205', 'cg10119082', 'cg00644033', 'cg04084157', 'cg24621354', 'cg03464229', 'cg14175438', 'cg20665157', 'cg21184711', 'cg08586737', 'cg02383785', 'cg08097417', 'cg07955995', 'cg03473532', 'cg11693019', 'cg17372101', 'cg02485566', 'cg10947146', 'cg06704518', 'cg24646414', 'cg02254885', 'cg05226008', 'cg16303562', 'cg16479633', 'cg14837598', 'cg01031400', 'cg18026631', 'cg07502389', 'cg18267374', 'cg24081819', 'cg01486610', 'cg16419235', 'cg12171761', 'cg04014062', 'cg26290632', 'cg05034642', 'cg25305703', 'cg25020550', 'cg07211259', 'cg02096633', 'cg04660234', 'cg23964386', 'cg01733783', 'cg14614094', 'cg20188282', 'cg13734401', 'cg20300246', 'cg06231995', 'cg08410533', 'cg18184053', 'cg24428042', 'cg10684486', 'cg13327545', 'cg24350475', 'cg13612317', 'cg15583492', 'cg25953130', 'cg22368262', 'cg26483332', 'cg21012874', 'cg12261786', 'cg18148156', 'cg19935065', 'cg13112154', 'cg13553455', 'cg18833140', 'cg12649038', 'cg19909787', 'cg02330106', 'cg11163901', 'cg06585108', 'cg03638795', 'cg07080372', 'cg12893697', 'cg05928581', 'cg20392764', 'cg27491887', 'cg20919799', 'cg22080436', 'cg23091758', 'cg06136199', 'cg23744638', 'cg26166595', 'cg04468741', 'cg04940570', 'cg09654242', 'cg07440264', 'cg18437209', 'cg14144305', 'cg25363445', 'cg20029347', 'cg06598256', 'cg02318971', 'cg22843803', 'cg22986597', 'cg11067179', 'cg22213242', 'cg06419846', 'cg02723533', 'cg04396791', 'cg20012366', 'cg15243034', 'cg25371036', 'cg20346726', 'cg23461714', 'cg01697865', 'cg00757070', 'cg01959004', 'cg17071639', 'cg23531640', 'cg16983588', 'cg17105005', 'cg05769161', 'cg18633600', 'cg19529621', 'cg08622677', 'cg01607849', 'cg19056004', 'cg04604946', 'cg00748589', 'cg21500300', 'cg19722847', 'cg11830800', 'cg00753885', 'cg15470658', 'cg09105193', 'cg13663218', 'cg21126707', 'cg01528542', 'cg11649376', 'cg08888956', 'cg18344063', 'cg22827210', 'cg17183905', 'cg25668626', 'cg23922454', 'cg10778288', 'cg04596060', 'cg25598890', 'cg16785344', 'cg08167085', 'cg22580512', 'cg23395688', 'cg02470959', 'cg07172885', 'cg22900415', 'cg24891133', 'cg06648759', 'cg20102280', 'cg10484958', 'cg18539122', 'cg26685941', 'cg24430034', 'cg20371891', 'cg03623878', 'cg04536998', 'cg26229990', 'cg25078444', 'cg07850604', 'cg01873886', 'cg19456540', 'cg03032497', 'cg21112391', 'cg19182046', 'cg23998119', 'cg13673514', 'cg06819357', 'cg01208318', 'cg05881762', 'cg13836627', 'cg04875128', 'cg20259534', 'cg11693709', 'cg27494383', 'cg23538901', 'cg16717122', 'cg02900766', 'cg21801378', 'cg00427635', 'cg18306747', 'cg27087809', 'cg03399905', 'cg13026773', 'cg04090392', 'cg02983424', 'cg19510698', 'cg20249919', 'cg05542681', 'cg01960979', 'cg11220950', 'cg06819923', 'cg02755525', 'cg03467555', 'cg06213463', 'cg00425710', 'cg04976151', 'cg25771195', 'cg17170504', 'cg18693704', 'cg09636661', 'cg05915866', 'cg09899215', 'cg19094438', 'cg22947000', 'cg09567725', 'cg07082267', 'cg02609551', 'cg26918305', 'cg04361926', 'cg02228185', 'cg14918082', 'cg18346531', 'cg04131468', 'cg24170090', 'cg12353516', 'cg13029847', 'cg10431713', 'cg15001747', 'cg21692159', 'cg05330360', 'cg07248223', 'cg13917614', 'cg06874016', 'cg20082357', 'cg23488804', 'cg03287877', 'cg27401724', 'cg11071401', 'cg07477034', 'cg07584066', 'cg16969368', 'cg12054453', 'cg20591136', 'cg02867102', 'cg14732136', 'cg12197142', 'cg04519462', 'cg03431918', 'cg03386722', 'cg07027513', 'cg17329670', 'cg25979644', 'cg19283806', 'cg16665444', 'cg12998614', 'cg06547984', 'cg04601137', 'cg08288406', 'cg02479575', 'cg17830754', 'cg26597727', 'cg11766468', 'cg14074174', 'cg02301740', 'cg00593900', 'cg15013019', 'cg05339037', 'cg25533247', 'cg15845821', 'cg18335931', 'cg13899108', 'cg07544187', 'cg25450266', 'cg03782727', 'cg17110586', 'cg12024906', 'cg24010336', 'cg09089053', 'cg08397927', 'cg25340403', 'cg15904523', 'cg15540054', 'cg03879902', 'cg17832674', 'cg05346491', 'cg01656853', 'cg17889586', 'cg11801011', 'cg11170179', 'cg24481841', 'cg10635122', 'cg12227172', 'cg21657577', 'cg14550066', 'cg10729426', 'cg26332061', 'cg23455897', 'cg00412842', 'cg11436113', 'cg22682811', 'cg11667020', 'cg24165121', 'cg00103778', 'cg05305327', 'cg11277126', 'cg19753867', 'cg24890964', 'cg05203217', 'cg10876928', 'cg07547549', 'cg18092028', 'cg23582408', 'cg10320659', 'cg03167275', 'cg11189837', 'cg12564962', 'cg10636297', 'cg26632776', 'cg05442902', 'cg27619353', 'cg23124451', 'cg08362785', 'cg11932564', 'cg12727018', 'cg13269407', 'cg00741717', 'cg24352688', 'cg07398429', 'cg06350107', 'cg07096038', 'cg10591659', 'cg21355508', 'cg05996238', 'cg21284636', 'cg07989867', 'cg17694877', 'cg06416685', 'cg00962635', 'cg11293764', 'cg25645748', 'cg14570389', 'cg11944101', 'cg20686207', 'cg06051662', 'cg25758314', 'cg11331769', 'cg25410279']\n",
       "</pre>\n",
       "    </div>\n",
       "    "
      ],
      "text/plain": [
       "<IPython.core.display.HTML object>"
      ]
     },
     "metadata": {},
     "output_type": "display_data"
    }
   ],
   "source": [
    "def my_print_function():\n",
    "    print(f\"There are {len(features)} features.\")\n",
    "    print(features)\n",
    "pya.utils.print_to_scrollable_output(my_print_function)"
   ]
  },
  {
   "cell_type": "markdown",
   "id": "5f9dfa86-664b-46da-9645-30140f2314fc",
   "metadata": {},
   "source": [
    "#### reference_feature_values"
   ]
  },
  {
   "cell_type": "code",
   "execution_count": 12,
   "id": "6436fd01-0a8e-41a5-b584-2c020136ff97",
   "metadata": {},
   "outputs": [
    {
     "data": {
      "text/html": [
       "\n",
       "    <div style=\"overflow-x: scroll; overflow-y: scroll; border: 1px solid black; background-color: white; !important; color: black; !important;\">\n",
       "        <pre>None\n",
       "</pre>\n",
       "    </div>\n",
       "    "
      ],
      "text/plain": [
       "<IPython.core.display.HTML object>"
      ]
     },
     "metadata": {},
     "output_type": "display_data"
    }
   ],
   "source": [
    "def my_print_function():\n",
    "    if reference_feature_values:\n",
    "        print(f\"There are {len(reference_feature_values)} reference feature values.\")\n",
    "    print(reference_feature_values)\n",
    "pya.utils.print_to_scrollable_output(my_print_function)"
   ]
  },
  {
   "cell_type": "markdown",
   "id": "cd253997-d6fd-462c-bd8f-b3adc7655627",
   "metadata": {},
   "source": [
    "#### preprocessing"
   ]
  },
  {
   "cell_type": "code",
   "execution_count": 13,
   "id": "960c5ede-3175-4192-a358-bf5ccb41074f",
   "metadata": {},
   "outputs": [
    {
     "data": {
      "text/html": [
       "\n",
       "    <div style=\"overflow-x: scroll; overflow-y: scroll; border: 1px solid black; background-color: white; !important; color: black; !important;\">\n",
       "        <pre>None\n",
       "</pre>\n",
       "    </div>\n",
       "    "
      ],
      "text/plain": [
       "<IPython.core.display.HTML object>"
      ]
     },
     "metadata": {},
     "output_type": "display_data"
    }
   ],
   "source": [
    "def my_print_function():\n",
    "    print(preprocessing)\n",
    "    if preprocessing:\n",
    "        print(preprocessing_helper_objects)\n",
    "pya.utils.print_to_scrollable_output(my_print_function)"
   ]
  },
  {
   "cell_type": "markdown",
   "id": "992dc9f8-26f1-45ae-b6f8-5e604e573ba1",
   "metadata": {},
   "source": [
    "#### postprocessing"
   ]
  },
  {
   "cell_type": "code",
   "execution_count": 14,
   "id": "40fe1f52-ad50-4b84-89c7-c5d1d3fff139",
   "metadata": {},
   "outputs": [
    {
     "data": {
      "text/html": [
       "\n",
       "    <div style=\"overflow-x: scroll; overflow-y: scroll; border: 1px solid black; background-color: white; !important; color: black; !important;\">\n",
       "        <pre>None\n",
       "</pre>\n",
       "    </div>\n",
       "    "
      ],
      "text/plain": [
       "<IPython.core.display.HTML object>"
      ]
     },
     "metadata": {},
     "output_type": "display_data"
    }
   ],
   "source": [
    "def my_print_function():\n",
    "    print(postprocessing)\n",
    "    if postprocessing:\n",
    "        print(postprocessing)\n",
    "pya.utils.print_to_scrollable_output(my_print_function)"
   ]
  },
  {
   "cell_type": "markdown",
   "id": "e73bb2e5-90e4-44d4-995f-5871353f3c27",
   "metadata": {},
   "source": [
    "#### weight_dict"
   ]
  },
  {
   "cell_type": "code",
   "execution_count": 15,
   "id": "658317e5-44bd-4621-877c-5db57494c968",
   "metadata": {},
   "outputs": [
    {
     "data": {
      "text/html": [
       "\n",
       "    <div style=\"overflow-x: scroll; overflow-y: scroll; border: 1px solid black; background-color: white; !important; color: black; !important;\">\n",
       "        <pre>Layer: linear.weight\n",
       "Shape: torch.Size([1, 559])\n",
       "tensor([[-2.0989e+00,  2.4746e+00,  1.3261e-01,  1.0927e+00,  2.0060e+00,\n",
       "         -4.0831e+00, -5.8803e+00,  3.5616e-01, -8.9766e-02,  7.1544e-01,\n",
       "          3.5456e-01,  3.4960e+00,  2.4150e+00, -3.5808e-01, -2.9285e-01,\n",
       "         -7.3371e-01, -1.0274e+00,  3.9515e+00,  1.4297e+00, -4.4792e-01,\n",
       "         -1.2720e-01,  2.4559e+00, -1.9818e-01, -5.5941e-01, -8.9765e-01,\n",
       "         -8.4606e-01, -4.0114e+00,  2.7460e+00,  3.6344e+00,  1.1722e-01,\n",
       "         -2.5228e+00, -1.6229e+00, -2.0767e+00,  4.6508e-02,  7.1033e-01,\n",
       "         -4.6847e+00, -1.9417e+00,  2.2516e+00,  2.2489e+00,  3.2138e-01,\n",
       "          1.0957e-01, -1.2548e+00, -7.4255e-01, -5.5189e-01, -3.8419e+00,\n",
       "         -3.5056e+00,  4.6560e-01, -1.2250e+00, -2.0712e+00, -1.9124e+00,\n",
       "         -2.2540e+00,  2.2868e+00, -2.8681e-01,  1.1859e-01,  1.2927e+00,\n",
       "         -1.7500e+00,  3.4387e+00,  2.7823e-01,  5.5553e-01, -4.4016e-02,\n",
       "          1.6867e+00, -8.2997e-01, -3.5633e-01,  8.4076e-01, -3.0932e-01,\n",
       "         -1.1494e+00, -3.4821e-01, -7.3598e-02,  4.1897e-01,  4.7069e-01,\n",
       "          3.9813e+00, -3.7824e-01,  1.1398e-01, -4.3595e-01,  5.2389e-01,\n",
       "          1.9029e+00,  9.6161e-01,  4.5774e+00,  3.3024e+00, -8.9669e-01,\n",
       "          6.8767e-01,  1.4623e+00,  4.0726e+00, -1.8202e+00, -1.1358e+00,\n",
       "         -1.0534e+00,  5.4988e+00,  9.7446e-01,  7.8419e-01,  4.7320e-01,\n",
       "         -1.8014e+00,  2.2063e-01,  6.2949e-02,  2.0079e+00,  4.5081e-01,\n",
       "         -8.8698e+00, -2.7624e-01,  1.5152e-01,  2.9568e+00,  3.1073e-01,\n",
       "         -6.4273e-01,  5.9188e-01, -3.0459e+00, -1.1613e-01,  9.5648e-01,\n",
       "          6.4765e-01, -3.9554e-01,  1.4999e+00, -2.8237e+00,  7.2786e+00,\n",
       "         -4.0203e-01,  6.7389e-01, -1.4950e+00, -2.2739e+00, -3.3073e-01,\n",
       "         -1.1452e+00,  6.9244e+00,  2.4500e+00, -4.9851e-01,  2.8803e-01,\n",
       "          1.8200e+00,  2.0254e+00,  3.5496e+00, -5.2389e-01,  6.1397e-01,\n",
       "          6.5770e-01, -1.0531e-01, -1.5597e+00,  4.2484e+00,  6.4752e-01,\n",
       "          2.6456e+00,  1.7490e+00, -2.0077e+00,  1.5809e-01,  1.4191e+00,\n",
       "          1.1175e+00,  1.3366e+00,  6.5640e+00,  4.0773e+00,  4.5393e+00,\n",
       "         -8.2138e-01,  9.4666e-01, -1.9933e+00, -4.9231e-01, -1.4014e+00,\n",
       "          1.3075e+00,  4.2380e+00, -1.4053e+00,  5.9110e-01, -2.6065e-01,\n",
       "         -1.1182e+00, -7.9980e-01,  8.8705e-01, -8.4091e-02,  2.9123e+00,\n",
       "         -2.1511e+00,  1.9540e+00,  8.1497e-02, -3.6545e+00, -8.1227e-01,\n",
       "          1.5976e+00, -1.8094e+00,  3.6998e-01, -6.6411e-01, -9.3799e-02,\n",
       "          1.2087e+00,  3.9431e+00,  9.5822e+00,  3.8040e-01,  2.9996e-01,\n",
       "         -6.8733e-01,  3.2487e+00,  1.0466e+00,  8.7924e-01,  3.5243e+00,\n",
       "         -3.3019e+00, -1.6882e+00, -3.0234e-01, -1.4040e+00, -1.7238e-01,\n",
       "          1.5443e+01,  2.4021e-03,  2.0155e-01,  9.3839e+00,  2.7053e+00,\n",
       "          2.0639e+00, -1.9933e+00,  2.7642e-01,  1.8034e+00,  2.6759e+00,\n",
       "          2.8884e+00,  3.1863e+00,  8.2479e+00,  7.6948e-01, -5.2652e+00,\n",
       "         -2.8549e+00, -5.8864e-01,  7.1114e-01,  2.1049e+00, -6.5933e-01,\n",
       "         -7.9757e-02, -1.2246e+00,  1.1421e+00, -3.1407e+00, -3.4742e-04,\n",
       "         -9.7618e-01,  6.9780e-02, -1.6005e+00, -1.4440e-01,  8.9252e+00,\n",
       "          6.2825e-01,  3.5072e+00, -3.3742e-01, -1.0323e+00, -3.5059e-01,\n",
       "          3.0490e+00, -3.5053e-01, -1.1553e-01, -4.0330e+00, -5.6153e-02,\n",
       "         -1.6365e+00, -6.5579e+00,  2.9832e+00, -9.4312e-01,  1.4933e-01,\n",
       "          9.1342e+00,  7.4001e-01,  2.0036e-01, -1.9175e+00,  2.5766e-01,\n",
       "          2.1758e+00,  1.8312e-02,  2.0366e+00,  1.4582e+01,  1.4365e+01,\n",
       "         -4.7430e+00,  4.5173e+00, -2.0061e+00, -7.7710e-01,  3.3323e+00,\n",
       "          2.0020e+00, -1.2927e-01, -3.6417e-01,  1.0890e-01, -6.1429e-01,\n",
       "          8.5993e-01, -1.6812e+00, -3.4803e+00,  3.9444e-01,  1.5571e+00,\n",
       "          4.4175e+00, -1.7266e+00, -1.4015e+00,  4.9023e-01,  1.6937e-01,\n",
       "          3.3695e+00,  9.6070e-01, -3.8972e-01,  6.9616e-01,  1.0023e-01,\n",
       "         -3.4112e+00, -4.9855e+00, -3.3984e-01,  1.0876e-01, -4.2132e-01,\n",
       "          5.8812e-01, -1.1698e+00, -1.5868e-01,  1.9991e+00,  2.2401e+00,\n",
       "          5.3858e-02,  7.2202e-01, -1.6354e+00, -9.8476e-02,  4.8694e-01,\n",
       "         -2.0462e-01, -1.3943e+00, -2.6754e-01,  3.6046e-01, -8.9918e-01,\n",
       "         -4.4466e-01,  1.0171e-01, -6.8328e-01,  8.5287e-01,  1.1347e+00,\n",
       "          9.0460e-02,  1.4404e-01,  1.2794e+00,  5.5314e-03, -8.8448e-01,\n",
       "         -1.8728e-01, -2.8742e+00,  1.9969e+00, -8.7773e-02, -5.0857e+00,\n",
       "          2.1814e-02, -1.0203e-01,  1.3536e+00,  4.8984e-01, -5.8436e-01,\n",
       "         -1.8444e-01,  3.8600e+00,  1.3163e-01, -2.1725e-01, -8.0677e-01,\n",
       "         -2.1024e-01,  3.1635e+00,  9.4969e-01,  1.8429e+00,  2.0613e+00,\n",
       "          3.3150e+00,  9.3262e-01, -1.1408e-01, -3.5427e+00,  4.7017e-01,\n",
       "          2.1343e+00, -3.3078e+00,  4.8227e-01,  4.3323e+00,  2.6295e+00,\n",
       "          1.7975e+00,  2.5034e+00,  6.9592e+00,  2.6349e-01, -1.7066e+00,\n",
       "          1.0545e+00, -3.1561e+00,  2.9547e-01, -5.7435e-01,  1.3494e+00,\n",
       "         -1.8993e-01, -3.0407e+00, -3.2919e-01,  8.1488e-01, -4.6605e-01,\n",
       "          1.4655e+00,  1.6089e+00,  1.1829e+00, -2.2146e+00, -3.9094e+00,\n",
       "         -2.1788e+00,  2.2812e+00,  2.2541e-01, -5.0649e+00, -6.0644e-01,\n",
       "         -4.3411e+00, -9.4934e-02,  1.3896e+00, -3.4635e-01,  6.0155e-02,\n",
       "         -1.4929e+00, -3.3973e+00, -1.2384e+00, -1.2226e+00,  7.6424e-02,\n",
       "         -5.6862e+00,  7.4553e-01, -1.1122e+00,  8.8519e-01, -3.4797e+00,\n",
       "          2.1614e-01, -3.4788e-01,  6.0594e-01, -7.0005e-01, -9.1243e-01,\n",
       "         -2.7130e+00,  1.8993e+00,  2.6052e+00,  1.4533e+00,  5.1148e+00,\n",
       "         -4.0554e-01,  4.5868e-01,  2.0395e+00, -1.3421e+00, -2.6883e+00,\n",
       "         -1.6259e+00,  2.8179e+00, -1.0843e+00, -5.3841e-01,  1.5382e+00,\n",
       "          1.5946e+00,  1.2547e+00, -1.8688e+00,  1.1650e+00,  2.5215e-01,\n",
       "          1.4547e+00,  1.6003e-01,  2.1039e-01, -5.2210e-01,  6.0561e-02,\n",
       "          2.1625e-01,  6.9059e+00,  3.4456e+00, -7.4291e+00, -7.4741e-01,\n",
       "          9.9349e-01,  2.9021e-02,  6.4791e-02,  3.9430e-01,  7.0209e-01,\n",
       "          3.4499e-01, -1.2706e+00,  1.7221e-01,  9.4650e+00, -1.0404e+00,\n",
       "          2.1292e+00,  2.3705e-01,  2.9055e-01, -1.5307e+00,  8.5311e-01,\n",
       "         -1.1011e+01,  6.2396e-01, -2.2440e+00,  4.5315e+00,  8.1857e-01,\n",
       "         -5.9832e+00,  2.4570e-01, -7.0952e-01,  2.0495e+00,  8.5324e-01,\n",
       "         -7.5302e+00, -3.9439e-02, -1.0991e+00, -3.4707e-01,  2.0745e-01,\n",
       "         -6.7801e-01, -1.2544e-01, -8.4832e+00,  5.2979e-02,  1.1418e+00,\n",
       "         -3.0111e+00, -9.6408e-01,  5.3311e-01, -4.4687e-03,  8.2326e-02,\n",
       "         -2.2629e+00, -4.6440e-01,  5.0124e+00, -7.1910e-01,  1.3735e+00,\n",
       "         -6.2199e-01,  2.1511e-01, -9.2523e-01, -1.4963e+00, -3.5336e+00,\n",
       "         -1.6915e+00,  1.0429e+00,  4.6950e-01, -3.0589e+00,  2.5385e+00,\n",
       "         -1.1626e+00,  8.5165e-02,  3.4827e-01, -9.1047e-01,  2.3033e+00,\n",
       "         -5.5189e-01,  1.0179e+01, -5.5329e+00, -1.2712e-01, -1.3321e+00,\n",
       "         -7.2213e-01, -3.3377e+00, -4.6250e+00,  2.9078e+00, -3.2325e+00,\n",
       "          2.7161e+00, -1.1071e+00, -1.4618e-01, -9.4075e-01, -5.7932e-01,\n",
       "          4.6092e-01,  1.4155e+00, -4.3379e+00,  2.3527e-01, -9.6434e-01,\n",
       "         -7.4864e-01,  1.2230e-01, -2.2234e+00,  1.3788e+00, -7.3214e-01,\n",
       "         -1.1639e+00, -1.3694e+00,  2.5129e-02,  8.6985e-02, -1.0917e+00,\n",
       "          6.4400e-01,  3.0135e+00,  8.0146e-01,  1.9384e-01,  2.7637e-02,\n",
       "         -1.4305e+00,  1.0692e+00,  5.5658e+00, -1.8531e+00, -3.6122e+00,\n",
       "         -2.1640e+00, -1.8674e+00,  4.3605e-01,  1.4319e+00, -1.7747e-01,\n",
       "         -2.6326e-02, -2.6057e-01,  1.4179e+00,  9.3131e-01,  4.8734e-01,\n",
       "         -1.1391e+00,  2.0219e+00,  4.6931e+00, -2.1765e-01,  1.4555e+00,\n",
       "         -1.7156e+00,  5.7441e-01,  7.7443e-02,  4.9335e-01, -1.9396e-01,\n",
       "          7.5452e-01, -2.4403e+00, -2.4808e+00,  7.1959e-01, -2.6367e-01,\n",
       "          1.3630e-01,  4.0487e+00, -9.2150e-01, -1.9985e+00,  1.6729e-01,\n",
       "         -3.0631e+00, -1.0493e+00,  1.0652e+00,  7.5130e-01, -2.3888e+00,\n",
       "         -1.8216e+00, -5.2908e+00, -3.6038e+00,  8.6066e-01, -5.9186e+00,\n",
       "          3.9981e+00, -6.9463e-01, -1.1954e+00,  1.0234e+00, -3.5780e-01,\n",
       "         -2.2530e-02, -8.8481e-01, -8.2260e-02,  1.1325e+00, -3.0859e-02,\n",
       "          2.3869e-01,  1.4336e-01,  3.2237e-01,  8.1757e-02,  1.3287e-01,\n",
       "         -7.0184e-01, -4.3189e-01,  8.3640e-02,  1.0962e-01,  5.3726e-01,\n",
       "          1.2968e-01,  3.3307e-01,  3.4038e-01,  4.9605e-02]])\n",
       "Layer: linear.bias\n",
       "Shape: torch.Size([1])\n",
       "tensor([33.3240])\n",
       "</pre>\n",
       "    </div>\n",
       "    "
      ],
      "text/plain": [
       "<IPython.core.display.HTML object>"
      ]
     },
     "metadata": {},
     "output_type": "display_data"
    }
   ],
   "source": [
    "def my_print_function():\n",
    "    for name, param in model.named_parameters():\n",
    "        print(f\"Layer: {name}\")\n",
    "        print(f\"Shape: {param.shape}\")\n",
    "        print(param.data)\n",
    "pya.utils.print_to_scrollable_output(my_print_function)"
   ]
  },
  {
   "cell_type": "markdown",
   "id": "f912d708-6caf-4d6f-9adf-0aaa54d46678",
   "metadata": {},
   "source": [
    "## Write clock dictionary"
   ]
  },
  {
   "cell_type": "markdown",
   "id": "3b176620-afb5-403c-9948-07639072bb44",
   "metadata": {},
   "source": [
    "Let's put everything together and save:"
   ]
  },
  {
   "cell_type": "code",
   "execution_count": 16,
   "id": "35d00b76-513d-4d8f-8824-6d810ee9d8f5",
   "metadata": {},
   "outputs": [],
   "source": [
    "clock_dict = {\n",
    "    # Metadata\n",
    "    'clock_name': clock_name,\n",
    "    'data_type': data_type,\n",
    "    'model_class': model_class,\n",
    "    'species': species,\n",
    "    'year': year,\n",
    "    'approved_by_author': approved_by_author,\n",
    "    'citation': citation,\n",
    "    'doi': doi,\n",
    "    \"notes\": notes,\n",
    "\n",
    "    # Data\n",
    "    'reference_feature_values': reference_feature_values if reference_feature_values else None,\n",
    "    'preprocessing': preprocessing if preprocessing else None, \n",
    "    'features': features,\n",
    "    'weight_dict': model.state_dict(),\n",
    "    'postprocessing': postprocessing if postprocessing else None,\n",
    "}\n",
    "\n",
    "torch.save(clock_dict, f'../weights/{clock_name}.pt')"
   ]
  },
  {
   "cell_type": "markdown",
   "id": "c1dd2efe-2bd6-4e1b-92ee-d110c25ad29c",
   "metadata": {},
   "source": [
    "## Clear directory"
   ]
  },
  {
   "cell_type": "markdown",
   "id": "158aa71f-7bbc-4c52-b7ef-16ba45d5e1fd",
   "metadata": {},
   "source": [
    "Delete all files that are not clock jupyter notebooks:"
   ]
  },
  {
   "cell_type": "code",
   "execution_count": 17,
   "id": "db4bd42b-c62f-4557-9ebc-d8194a240137",
   "metadata": {},
   "outputs": [
    {
     "name": "stdout",
     "output_type": "stream",
     "text": [
      "Deleted folder: Centenarian-Clock\n",
      "Deleted folder: .ipynb_checkpoints\n"
     ]
    }
   ],
   "source": [
    "# Function to remove a folder and all its contents\n",
    "def remove_folder(path):\n",
    "    try:\n",
    "        shutil.rmtree(path)\n",
    "        print(f\"Deleted folder: {path}\")\n",
    "    except Exception as e:\n",
    "        print(f\"Error deleting folder {path}: {e}\")\n",
    "\n",
    "# Get a list of all files and folders in the current directory\n",
    "all_items = os.listdir('.')\n",
    "\n",
    "# Loop through the items\n",
    "for item in all_items:\n",
    "    # Check if it's a file and does not end with .ipynb\n",
    "    if os.path.isfile(item) and not item.endswith('.ipynb'):\n",
    "        os.remove(item)\n",
    "        print(f\"Deleted file: {item}\")\n",
    "    # Check if it's a folder\n",
    "    elif os.path.isdir(item):\n",
    "        remove_folder(item)"
   ]
  }
 ],
 "metadata": {
  "kernelspec": {
   "display_name": "Python 3",
   "language": "python",
   "name": "python3"
  },
  "language_info": {
   "codemirror_mode": {
    "name": "ipython",
    "version": 3
   },
   "file_extension": ".py",
   "mimetype": "text/x-python",
   "name": "python",
   "nbconvert_exporter": "python",
   "pygments_lexer": "ipython3",
   "version": "3.9.17"
  }
 },
 "nbformat": 4,
 "nbformat_minor": 5
}

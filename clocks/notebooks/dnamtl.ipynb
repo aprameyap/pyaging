{
 "cells": [
  {
   "cell_type": "markdown",
   "id": "2f04eee0-5928-4e74-a754-6dc2e528810c",
   "metadata": {},
   "source": [
    "# DNAmTL"
   ]
  },
  {
   "cell_type": "markdown",
   "id": "a3f514a3-772c-4a14-afdf-5a8376851ff4",
   "metadata": {},
   "source": [
    "## Index\n",
    "1. [Define required clock parameters](#Define-required-clock-parameters)\n",
    "2. [Download necessary data](#Download-necessary-data)\n",
    "3. [Load data](#-Load-data)\n",
    "4. [Extract features and weights](#Extract-features-and-weights)\n",
    "5. [Load weights into pyaging model](#Load-weights-into-pyaging-model)\n",
    "6. [Add reference values](#Add-reference-values)\n",
    "7. [Add preprocessing and postprocesssing steps](#Add-preprocessing-and-postprocesssing-steps)\n",
    "8. [Check all data objects](#Check-all-data-objects)\n",
    "9. [Write clock dictionary](#Write-clock-dictionary)\n",
    "10. [Clear directory](#Clear-directory)"
   ]
  },
  {
   "cell_type": "markdown",
   "id": "d95fafdc-643a-40ea-a689-200bd132e90c",
   "metadata": {},
   "source": [
    "Let's first import some packages:"
   ]
  },
  {
   "cell_type": "code",
   "execution_count": 1,
   "id": "4adfb4de-cd79-4913-a1af-9e23e9e236c9",
   "metadata": {},
   "outputs": [],
   "source": [
    "import os\n",
    "import marshal\n",
    "import shutil\n",
    "import json\n",
    "import torch\n",
    "import pandas as pd\n",
    "import pyaging as pya"
   ]
  },
  {
   "cell_type": "markdown",
   "id": "c8c0c937-d9b6-4756-99b0-91de591220e0",
   "metadata": {},
   "source": [
    "## Define required clock parameters"
   ]
  },
  {
   "cell_type": "markdown",
   "id": "cf95ddca-625e-4c70-a246-c3cb12df96f8",
   "metadata": {},
   "source": [
    "Let's define some required information first:"
   ]
  },
  {
   "cell_type": "code",
   "execution_count": 2,
   "id": "5281776d-0549-445f-beec-39c31ec7dbe1",
   "metadata": {},
   "outputs": [],
   "source": [
    "clock_name = 'dnamtl'\n",
    "data_type = 'methylation'\n",
    "model_class = 'LinearModel'\n",
    "species = 'Homo sapiens'\n",
    "year = 2019\n",
    "approved_by_author = '⌛'\n",
    "citation = \"Lu, Ake T., et al. \\\"DNA methylation-based estimator of telomere length.\\\" Aging (Albany NY) 11.16 (2019): 5895.\"\n",
    "doi = 'https://doi.org/10.18632/aging.102173'\n",
    "notes = None"
   ]
  },
  {
   "cell_type": "markdown",
   "id": "4520c8cb-6c1f-4490-ba4c-6fe78ef002a7",
   "metadata": {},
   "source": [
    "## Download necessary data"
   ]
  },
  {
   "cell_type": "markdown",
   "id": "f8d77386-a524-492b-a002-18d24b6ca49a",
   "metadata": {},
   "source": [
    "#### Download directly with curl"
   ]
  },
  {
   "cell_type": "code",
   "execution_count": 3,
   "id": "0003b39e-e032-4822-aff7-970583187d22",
   "metadata": {},
   "outputs": [
    {
     "data": {
      "text/plain": [
       "0"
      ]
     },
     "execution_count": 3,
     "metadata": {},
     "output_type": "execute_result"
    }
   ],
   "source": [
    "supplementary_url = \"https://www.aging-us.com/article/102173/supplementary/SD7/0/aging-v11i16-102173-supplementary-material-SD7.xlsx\"\n",
    "supplementary_file_name = \"coefficients.xlsx\"\n",
    "os.system(f\"curl -o {supplementary_file_name} {supplementary_url}\")"
   ]
  },
  {
   "cell_type": "markdown",
   "id": "35615b62-73ac-40b1-8bc1-e904403eb0ae",
   "metadata": {},
   "source": [
    "## Load data"
   ]
  },
  {
   "cell_type": "markdown",
   "id": "53cfa5bb-dab1-44a8-9f2c-ba2ca1b573b2",
   "metadata": {},
   "source": [
    "#### From Excel file"
   ]
  },
  {
   "cell_type": "code",
   "execution_count": 4,
   "id": "9ac33cc1-f582-4b7d-a6e5-32c377347a2d",
   "metadata": {},
   "outputs": [],
   "source": [
    "df = pd.read_excel('coefficients.xlsx', skiprows=5)"
   ]
  },
  {
   "cell_type": "markdown",
   "id": "60c676db-2c7c-4c04-9457-97bccd598269",
   "metadata": {
    "jp-MarkdownHeadingCollapsed": true
   },
   "source": [
    "## Extract features and weights"
   ]
  },
  {
   "cell_type": "markdown",
   "id": "1020a357-05ff-4094-85bf-2bebc3e0d112",
   "metadata": {},
   "source": [
    "First, let's extract the features and weights:"
   ]
  },
  {
   "cell_type": "code",
   "execution_count": 5,
   "id": "e1d1dd13-65ac-4694-8948-3cd94bc19fe1",
   "metadata": {},
   "outputs": [
    {
     "data": {
      "text/html": [
       "<div>\n",
       "<style scoped>\n",
       "    .dataframe tbody tr th:only-of-type {\n",
       "        vertical-align: middle;\n",
       "    }\n",
       "\n",
       "    .dataframe tbody tr th {\n",
       "        vertical-align: top;\n",
       "    }\n",
       "\n",
       "    .dataframe thead th {\n",
       "        text-align: right;\n",
       "    }\n",
       "</style>\n",
       "<table border=\"1\" class=\"dataframe\">\n",
       "  <thead>\n",
       "    <tr style=\"text-align: right;\">\n",
       "      <th></th>\n",
       "      <th>Variable</th>\n",
       "      <th>Coefficient</th>\n",
       "      <th>CHR</th>\n",
       "      <th>bp19</th>\n",
       "      <th>SourceSeq</th>\n",
       "      <th>Strand</th>\n",
       "      <th>Probe SNP\\nbased on Illumina annotation</th>\n",
       "      <th>Gene</th>\n",
       "      <th>location</th>\n",
       "      <th>Relation to \\nCpGIsland</th>\n",
       "      <th>...</th>\n",
       "      <th>ALLELE</th>\n",
       "      <th>BSGS.P</th>\n",
       "      <th>BSGS.EFFECT</th>\n",
       "      <th>BSGS.H2</th>\n",
       "      <th>LBC.P</th>\n",
       "      <th>LBC.EFFECT</th>\n",
       "      <th>LBC.R2</th>\n",
       "      <th>mQTL</th>\n",
       "      <th>feature</th>\n",
       "      <th>coefficient</th>\n",
       "    </tr>\n",
       "  </thead>\n",
       "  <tbody>\n",
       "    <tr>\n",
       "      <th>0</th>\n",
       "      <td>Intercept</td>\n",
       "      <td>7.924780</td>\n",
       "      <td>NaN</td>\n",
       "      <td>NaN</td>\n",
       "      <td>NaN</td>\n",
       "      <td>NaN</td>\n",
       "      <td>NaN</td>\n",
       "      <td>NaN</td>\n",
       "      <td>NaN</td>\n",
       "      <td>NaN</td>\n",
       "      <td>...</td>\n",
       "      <td>NaN</td>\n",
       "      <td>NaN</td>\n",
       "      <td>NaN</td>\n",
       "      <td>NaN</td>\n",
       "      <td>NaN</td>\n",
       "      <td>NaN</td>\n",
       "      <td>NaN</td>\n",
       "      <td>NaN</td>\n",
       "      <td>Intercept</td>\n",
       "      <td>7.924780</td>\n",
       "    </tr>\n",
       "    <tr>\n",
       "      <th>1</th>\n",
       "      <td>cg05528516</td>\n",
       "      <td>-0.034902</td>\n",
       "      <td>1</td>\n",
       "      <td>1070040.0</td>\n",
       "      <td>CGGACCCCCACCGGCCTCCAAATGTGCAAACACAGGCGCCTCTCAG...</td>\n",
       "      <td>R</td>\n",
       "      <td>NaN</td>\n",
       "      <td>C1orf159-TTLL10</td>\n",
       "      <td>NaN</td>\n",
       "      <td>N_Shelf</td>\n",
       "      <td>...</td>\n",
       "      <td>T</td>\n",
       "      <td>2.613000e-42</td>\n",
       "      <td>0.258</td>\n",
       "      <td>0.38864</td>\n",
       "      <td>2.561000e-47</td>\n",
       "      <td>0.1696</td>\n",
       "      <td>0.1420</td>\n",
       "      <td>cis</td>\n",
       "      <td>cg05528516</td>\n",
       "      <td>-0.034902</td>\n",
       "    </tr>\n",
       "    <tr>\n",
       "      <th>2</th>\n",
       "      <td>cg00060374</td>\n",
       "      <td>0.192655</td>\n",
       "      <td>1</td>\n",
       "      <td>1355235.0</td>\n",
       "      <td>CGGCTTCATGCTGGTGGCAGCAACAGACTCTCCGCCAGCGCCGGGC...</td>\n",
       "      <td>R</td>\n",
       "      <td>NaN</td>\n",
       "      <td>LOC441869</td>\n",
       "      <td>Body;Body</td>\n",
       "      <td>Island</td>\n",
       "      <td>...</td>\n",
       "      <td>A</td>\n",
       "      <td>2.982000e-58</td>\n",
       "      <td>-0.440</td>\n",
       "      <td>0.45741</td>\n",
       "      <td>9.873000e-84</td>\n",
       "      <td>-0.5123</td>\n",
       "      <td>0.2409</td>\n",
       "      <td>cis</td>\n",
       "      <td>cg00060374</td>\n",
       "      <td>0.192655</td>\n",
       "    </tr>\n",
       "    <tr>\n",
       "      <th>3</th>\n",
       "      <td>cg12711627</td>\n",
       "      <td>0.178270</td>\n",
       "      <td>1</td>\n",
       "      <td>2025769.0</td>\n",
       "      <td>CGGGCACCACACAGCATCCCAGGCACCATCATGGTAGGAGAAGAGT...</td>\n",
       "      <td>R</td>\n",
       "      <td>NaN</td>\n",
       "      <td>PRKCZ</td>\n",
       "      <td>Body;5'UTR</td>\n",
       "      <td>Island</td>\n",
       "      <td>...</td>\n",
       "      <td>NaN</td>\n",
       "      <td>NaN</td>\n",
       "      <td>NaN</td>\n",
       "      <td>NaN</td>\n",
       "      <td>NaN</td>\n",
       "      <td>NaN</td>\n",
       "      <td>NaN</td>\n",
       "      <td>NaN</td>\n",
       "      <td>cg12711627</td>\n",
       "      <td>0.178270</td>\n",
       "    </tr>\n",
       "    <tr>\n",
       "      <th>4</th>\n",
       "      <td>cg06853416</td>\n",
       "      <td>0.054884</td>\n",
       "      <td>1</td>\n",
       "      <td>2778841.0</td>\n",
       "      <td>AGAGTCCCCCTCTGGATTCACACACCTGGAGGCGTCTGAGTGACTC...</td>\n",
       "      <td>R</td>\n",
       "      <td>NaN</td>\n",
       "      <td>MMEL1-ACTRT2</td>\n",
       "      <td>NaN</td>\n",
       "      <td>S_Shore</td>\n",
       "      <td>...</td>\n",
       "      <td>C</td>\n",
       "      <td>2.594000e-39</td>\n",
       "      <td>-0.206</td>\n",
       "      <td>0.34692</td>\n",
       "      <td>3.236000e-78</td>\n",
       "      <td>-0.2415</td>\n",
       "      <td>0.2267</td>\n",
       "      <td>cis</td>\n",
       "      <td>cg06853416</td>\n",
       "      <td>0.054884</td>\n",
       "    </tr>\n",
       "  </tbody>\n",
       "</table>\n",
       "<p>5 rows × 24 columns</p>\n",
       "</div>"
      ],
      "text/plain": [
       "     Variable  Coefficient  CHR       bp19  \\\n",
       "0   Intercept     7.924780  NaN        NaN   \n",
       "1  cg05528516    -0.034902    1  1070040.0   \n",
       "2  cg00060374     0.192655    1  1355235.0   \n",
       "3  cg12711627     0.178270    1  2025769.0   \n",
       "4  cg06853416     0.054884    1  2778841.0   \n",
       "\n",
       "                                           SourceSeq Strand  \\\n",
       "0                                                NaN    NaN   \n",
       "1  CGGACCCCCACCGGCCTCCAAATGTGCAAACACAGGCGCCTCTCAG...      R   \n",
       "2  CGGCTTCATGCTGGTGGCAGCAACAGACTCTCCGCCAGCGCCGGGC...      R   \n",
       "3  CGGGCACCACACAGCATCCCAGGCACCATCATGGTAGGAGAAGAGT...      R   \n",
       "4  AGAGTCCCCCTCTGGATTCACACACCTGGAGGCGTCTGAGTGACTC...      R   \n",
       "\n",
       "  Probe SNP\\nbased on Illumina annotation             Gene    location  \\\n",
       "0                                     NaN              NaN         NaN   \n",
       "1                                     NaN  C1orf159-TTLL10         NaN   \n",
       "2                                     NaN        LOC441869   Body;Body   \n",
       "3                                     NaN            PRKCZ  Body;5'UTR   \n",
       "4                                     NaN     MMEL1-ACTRT2         NaN   \n",
       "\n",
       "  Relation to \\nCpGIsland  ... ALLELE        BSGS.P  BSGS.EFFECT  BSGS.H2  \\\n",
       "0                     NaN  ...    NaN           NaN          NaN      NaN   \n",
       "1                 N_Shelf  ...      T  2.613000e-42        0.258  0.38864   \n",
       "2                  Island  ...      A  2.982000e-58       -0.440  0.45741   \n",
       "3                  Island  ...    NaN           NaN          NaN      NaN   \n",
       "4                 S_Shore  ...      C  2.594000e-39       -0.206  0.34692   \n",
       "\n",
       "          LBC.P  LBC.EFFECT  LBC.R2  mQTL     feature  coefficient  \n",
       "0           NaN         NaN     NaN   NaN   Intercept     7.924780  \n",
       "1  2.561000e-47      0.1696  0.1420   cis  cg05528516    -0.034902  \n",
       "2  9.873000e-84     -0.5123  0.2409   cis  cg00060374     0.192655  \n",
       "3           NaN         NaN     NaN   NaN  cg12711627     0.178270  \n",
       "4  3.236000e-78     -0.2415  0.2267   cis  cg06853416     0.054884  \n",
       "\n",
       "[5 rows x 24 columns]"
      ]
     },
     "execution_count": 5,
     "metadata": {},
     "output_type": "execute_result"
    }
   ],
   "source": [
    "df['feature'] = df['Variable']\n",
    "df['coefficient'] = df['Coefficient']\n",
    "\n",
    "df.head()"
   ]
  },
  {
   "cell_type": "markdown",
   "id": "5ac5b42a-3bd9-49d3-b84e-79d236af24b4",
   "metadata": {},
   "source": [
    "Then, let's create lists for features and weights. Be careful about the intercept, as it usually shows up as a feature name."
   ]
  },
  {
   "cell_type": "code",
   "execution_count": 6,
   "id": "2fc06bb5-7e9c-46fd-9843-31880f1d3788",
   "metadata": {},
   "outputs": [],
   "source": [
    "features = df['feature'][1:].tolist()\n",
    "weights = torch.tensor(df['coefficient'][1:].tolist()).unsqueeze(0).float()\n",
    "intercept = torch.tensor([df['coefficient'][0]]).float()"
   ]
  },
  {
   "cell_type": "markdown",
   "id": "d193ccbf-d06b-49bb-ad4b-ffe3271dea63",
   "metadata": {},
   "source": [
    "## Load weights into pyaging model"
   ]
  },
  {
   "cell_type": "markdown",
   "id": "4350119a-4bd4-4efa-85b5-9de70fdf496f",
   "metadata": {},
   "source": [
    "#### Linear model"
   ]
  },
  {
   "cell_type": "code",
   "execution_count": 7,
   "id": "7354c541-5af9-447d-a339-2cb88c253b41",
   "metadata": {},
   "outputs": [
    {
     "data": {
      "text/plain": [
       "LinearModel(\n",
       "  (linear): Linear(in_features=140, out_features=1, bias=True)\n",
       ")"
      ]
     },
     "execution_count": 7,
     "metadata": {},
     "output_type": "execute_result"
    }
   ],
   "source": [
    "model = pya.models.LinearModel(input_dim=len(features))\n",
    "\n",
    "model.linear.weight.data = weights\n",
    "model.linear.bias.data = intercept\n",
    "\n",
    "model"
   ]
  },
  {
   "cell_type": "markdown",
   "id": "9dcc981d-8898-4d92-8dad-3549dddca41a",
   "metadata": {},
   "source": [
    "## Add reference values"
   ]
  },
  {
   "cell_type": "markdown",
   "id": "c1a66f78-7678-4537-9356-7c4ac9f6941c",
   "metadata": {},
   "source": [
    "Some clocks have reference values in the case of missing features. It is also possible that these values are for preprocessing features rather than the clock features. Let's add a dictionary with the feature names as the keys."
   ]
  },
  {
   "cell_type": "code",
   "execution_count": 8,
   "id": "250dd50d-a175-45f3-913b-da87c50cb55c",
   "metadata": {},
   "outputs": [],
   "source": [
    "reference_feature_values = None"
   ]
  },
  {
   "cell_type": "markdown",
   "id": "f340aa2f-8d54-4392-9a4a-c6de1f704afb",
   "metadata": {},
   "source": [
    "## Add preprocessing and postprocesssing steps"
   ]
  },
  {
   "cell_type": "markdown",
   "id": "70658ba7-694d-45e0-bf10-0fddabee8184",
   "metadata": {},
   "source": [
    "The preprocessing and postprocessing objects are dictionaries with the following format, with all items required. It takes in x in the form of a numpy array."
   ]
  },
  {
   "cell_type": "code",
   "execution_count": 9,
   "id": "1d173005-fb63-43d5-bd9f-0b4fa2e240b1",
   "metadata": {},
   "outputs": [],
   "source": [
    "preprocessing = None"
   ]
  },
  {
   "cell_type": "markdown",
   "id": "e5243ead-1a68-41ca-aeed-d10d4faf8a2c",
   "metadata": {},
   "source": [
    "Similarly is the case of postprocessing. Remember that your function must be compatible with torch and is applied to each number individually."
   ]
  },
  {
   "cell_type": "code",
   "execution_count": 10,
   "id": "6fe37a2c-113a-4517-91e4-10a4e8b2005a",
   "metadata": {},
   "outputs": [],
   "source": [
    "postprocessing = None"
   ]
  },
  {
   "cell_type": "markdown",
   "id": "293d9db7-b037-4d97-8550-5e7f9bf7f48d",
   "metadata": {},
   "source": [
    "## Check all data objects"
   ]
  },
  {
   "cell_type": "markdown",
   "id": "e81f4510-80ca-4f13-a73f-72e6f31e6818",
   "metadata": {},
   "source": [
    "Let's print all data objects to check if they make sense."
   ]
  },
  {
   "cell_type": "markdown",
   "id": "0b789b10-1abe-4a88-ab34-20208a9c164b",
   "metadata": {},
   "source": [
    "#### features"
   ]
  },
  {
   "cell_type": "code",
   "execution_count": 11,
   "id": "bf047bed-52f0-4a64-9691-4c04df9f50ec",
   "metadata": {},
   "outputs": [
    {
     "data": {
      "text/html": [
       "\n",
       "    <div style=\"overflow-x: scroll; overflow-y: scroll; border: 1px solid black; background-color: white; !important; color: black; !important;\">\n",
       "        <pre>There are 140 features.\n",
       "['cg05528516', 'cg00060374', 'cg12711627', 'cg06853416', 'cg01901101', 'cg21393163', 'cg22866430', 'cg16047567', 'cg18768612', 'cg24049493', 'cg08893087', 'cg03984502', 'cg19233405', 'cg05694771', 'cg24739596', 'cg06370057', 'cg24457743', 'cg18148156', 'cg19935065', 'cg10549018', 'cg24903144', 'cg17782974', 'cg13357922', 'cg23908305', 'cg15742496', 'cg27639942', 'cg27312916', 'cg02121547', 'cg26827653', 'cg16593899', 'cg02319782', 'cg26276120', 'cg12745325', 'cg07677157', 'cg07910460', 'cg01614102', 'cg20742385', 'cg05019423', 'cg19825410', 'cg02963381', 'cg00843787', 'cg08107689', 'cg04875128', 'cg26709300', 'cg27093918', 'cg02282640', 'cg02380595', 'cg04658841', 'cg07955474', 'cg07708487', 'cg00974523', 'cg15825321', 'cg14244013', 'cg25583580', 'cg18826274', 'cg18836174', 'cg06994022', 'cg19283806', 'cg23686403', 'cg02194396', 'cg07069844', 'cg00593900', 'cg13523818', 'cg26950531', 'cg06673536', 'cg19327213', 'cg26636010', 'cg10550416', 'cg01603921', 'cg23631636', 'cg07374224', 'cg06139893', 'cg09374293', 'cg21461082', 'cg01239389', 'cg06845706', 'cg15223899', 'cg00733150', 'cg18405719', 'cg04508804', 'cg00840990', 'cg09217898', 'cg05023043', 'cg19651128', 'cg02810967', 'cg09435170', 'cg00580497', 'cg00461022', 'cg22657457', 'cg10616795', 'cg06677021', 'cg02403883', 'cg21777188', 'cg03335262', 'cg27582059', 'cg08985570', 'cg27577149', 'cg13650304', 'cg19247475', 'cg10679597', 'cg18104870', 'cg16867657', 'cg22328256', 'cg17636541', 'cg01517384', 'cg27014438', 'cg07739478', 'cg08453194', 'cg21288889', 'cg17885226', 'cg06638568', 'cg20978460', 'cg03366574', 'cg10536999', 'cg08972170', 'cg06132400', 'cg07076816', 'cg00739278', 'cg10691866', 'cg00277397', 'cg14989226', 'cg09596818', 'cg22633390', 'cg03473532', 'cg00029246', 'cg22530232', 'cg12133423', 'cg16479633', 'cg18898125', 'cg16886403', 'cg07211259', 'cg14577706', 'cg00232500', 'cg05072215', 'cg13753488', 'cg13764516', 'cg07096038', 'cg16203368', 'cg00780578', 'cg16708895']\n",
       "</pre>\n",
       "    </div>\n",
       "    "
      ],
      "text/plain": [
       "<IPython.core.display.HTML object>"
      ]
     },
     "metadata": {},
     "output_type": "display_data"
    }
   ],
   "source": [
    "def my_print_function():\n",
    "    print(f\"There are {len(features)} features.\")\n",
    "    print(features)\n",
    "pya.utils.print_to_scrollable_output(my_print_function)"
   ]
  },
  {
   "cell_type": "markdown",
   "id": "299b81ff-508b-4404-ae56-e02abf1881d7",
   "metadata": {},
   "source": [
    "#### reference_feature_values"
   ]
  },
  {
   "cell_type": "code",
   "execution_count": 12,
   "id": "6436fd01-0a8e-41a5-b584-2c020136ff97",
   "metadata": {},
   "outputs": [
    {
     "data": {
      "text/html": [
       "\n",
       "    <div style=\"overflow-x: scroll; overflow-y: scroll; border: 1px solid black; background-color: white; !important; color: black; !important;\">\n",
       "        <pre>None\n",
       "</pre>\n",
       "    </div>\n",
       "    "
      ],
      "text/plain": [
       "<IPython.core.display.HTML object>"
      ]
     },
     "metadata": {},
     "output_type": "display_data"
    }
   ],
   "source": [
    "def my_print_function():\n",
    "    if reference_feature_values:\n",
    "        print(f\"There are {len(reference_feature_values)} reference feature values.\")\n",
    "    print(reference_feature_values)\n",
    "pya.utils.print_to_scrollable_output(my_print_function)"
   ]
  },
  {
   "cell_type": "markdown",
   "id": "da092ec9-8389-4aff-bf9f-5ef51a95cd48",
   "metadata": {},
   "source": [
    "#### preprocessing"
   ]
  },
  {
   "cell_type": "code",
   "execution_count": 13,
   "id": "960c5ede-3175-4192-a358-bf5ccb41074f",
   "metadata": {},
   "outputs": [
    {
     "data": {
      "text/html": [
       "\n",
       "    <div style=\"overflow-x: scroll; overflow-y: scroll; border: 1px solid black; background-color: white; !important; color: black; !important;\">\n",
       "        <pre>None\n",
       "</pre>\n",
       "    </div>\n",
       "    "
      ],
      "text/plain": [
       "<IPython.core.display.HTML object>"
      ]
     },
     "metadata": {},
     "output_type": "display_data"
    }
   ],
   "source": [
    "def my_print_function():\n",
    "    print(preprocessing)\n",
    "    if preprocessing:\n",
    "        print(preprocessing_helper_objects)\n",
    "pya.utils.print_to_scrollable_output(my_print_function)"
   ]
  },
  {
   "cell_type": "markdown",
   "id": "8da5f73d-e2f9-4b9e-bfcf-b17ae9f7cade",
   "metadata": {},
   "source": [
    "#### postprocessing"
   ]
  },
  {
   "cell_type": "code",
   "execution_count": 14,
   "id": "40fe1f52-ad50-4b84-89c7-c5d1d3fff139",
   "metadata": {},
   "outputs": [
    {
     "data": {
      "text/html": [
       "\n",
       "    <div style=\"overflow-x: scroll; overflow-y: scroll; border: 1px solid black; background-color: white; !important; color: black; !important;\">\n",
       "        <pre>None\n",
       "</pre>\n",
       "    </div>\n",
       "    "
      ],
      "text/plain": [
       "<IPython.core.display.HTML object>"
      ]
     },
     "metadata": {},
     "output_type": "display_data"
    }
   ],
   "source": [
    "def my_print_function():\n",
    "    print(postprocessing)\n",
    "    if postprocessing:\n",
    "        print(postprocessing)\n",
    "pya.utils.print_to_scrollable_output(my_print_function)"
   ]
  },
  {
   "cell_type": "markdown",
   "id": "389534de-5582-4805-a210-a297110983dc",
   "metadata": {},
   "source": [
    "#### weight_dict"
   ]
  },
  {
   "cell_type": "code",
   "execution_count": 15,
   "id": "658317e5-44bd-4621-877c-5db57494c968",
   "metadata": {},
   "outputs": [
    {
     "data": {
      "text/html": [
       "\n",
       "    <div style=\"overflow-x: scroll; overflow-y: scroll; border: 1px solid black; background-color: white; !important; color: black; !important;\">\n",
       "        <pre>Layer: linear.weight\n",
       "Shape: torch.Size([1, 140])\n",
       "tensor([[-3.4902e-02,  1.9266e-01,  1.7827e-01,  5.4884e-02, -2.8814e-01,\n",
       "          2.3131e-01, -1.3238e-01,  2.7831e-01,  3.1689e-02, -1.4803e-01,\n",
       "          1.6455e-01, -1.5904e+00, -2.3613e-01, -1.1907e-01, -6.4898e-02,\n",
       "         -4.7976e-02,  4.5013e-02, -3.3702e-01, -7.1926e-02, -1.0779e-01,\n",
       "         -2.8723e-02, -2.4828e-01,  1.1593e-01,  1.9951e-01,  6.5473e-02,\n",
       "         -3.1409e-02, -3.0678e-01,  5.3266e-02,  6.5895e-02,  3.5220e-01,\n",
       "          6.4659e-01,  2.3015e-01,  1.9250e-02,  2.3636e-02, -6.5450e-03,\n",
       "         -9.2442e-04,  3.5546e-04,  6.2088e-02,  4.0421e-02, -8.2356e-02,\n",
       "         -1.0138e-01, -7.7604e-02, -1.0234e-01, -2.5019e-01,  8.5073e-02,\n",
       "          8.8325e-02,  2.2519e-03, -1.4413e-01,  4.5460e-02,  1.1331e-01,\n",
       "          1.4607e-02, -1.5155e-02, -6.7054e-02,  2.5088e-01,  2.7587e-02,\n",
       "          3.0034e-01,  2.9972e-02,  1.1523e-01,  4.3358e-01,  5.1845e-02,\n",
       "         -2.2290e-01, -8.9081e-02,  1.9684e-02, -7.1975e-02, -3.8696e-02,\n",
       "         -2.6152e-01, -1.0266e-02, -1.1971e-03, -1.9120e-02,  1.0649e+00,\n",
       "         -1.0476e-01,  3.6627e-01,  2.7115e-01,  8.6128e-02, -4.6040e-02,\n",
       "         -7.3653e-02, -7.9469e-02, -1.4312e-01,  1.3250e-01, -1.6392e-02,\n",
       "          9.2949e-03,  2.2238e-03, -2.4188e-01, -4.4197e-02,  1.1554e-01,\n",
       "          6.6575e-02,  2.9460e-01, -3.5336e-03,  1.8149e-02,  1.4060e-02,\n",
       "         -2.7823e-02, -2.6124e-02, -1.3091e-01, -4.3993e-02, -1.3380e-02,\n",
       "         -1.7445e-02, -1.0980e-01, -4.4991e-03, -1.9510e-02, -1.0193e-03,\n",
       "         -1.1462e-02, -9.4132e-01, -5.8877e-02,  2.9341e-01,  1.3410e-02,\n",
       "          6.4189e-02,  4.4252e-02,  6.7144e-01, -3.1935e-01, -2.9780e-02,\n",
       "         -1.4190e-01,  6.2619e-01, -9.9391e-04,  7.4322e-01, -3.8278e-01,\n",
       "          4.8164e-02,  2.2403e-03,  6.1895e-02,  2.2169e-02,  9.4975e-02,\n",
       "          2.5275e-01, -3.8324e-02, -8.1187e-02,  1.6080e-02,  8.6897e-02,\n",
       "         -5.8300e-02, -6.0806e-02, -3.4905e-01, -1.2886e-01,  2.4983e-01,\n",
       "          2.8542e-01,  5.6403e-02,  9.0936e-02,  5.5440e-03,  1.7145e-02,\n",
       "         -3.4156e-01, -9.8554e-02, -1.0302e-01, -5.4472e-02, -1.2751e-01]])\n",
       "Layer: linear.bias\n",
       "Shape: torch.Size([1])\n",
       "tensor([7.9248])\n",
       "</pre>\n",
       "    </div>\n",
       "    "
      ],
      "text/plain": [
       "<IPython.core.display.HTML object>"
      ]
     },
     "metadata": {},
     "output_type": "display_data"
    }
   ],
   "source": [
    "def my_print_function():\n",
    "    for name, param in model.named_parameters():\n",
    "        print(f\"Layer: {name}\")\n",
    "        print(f\"Shape: {param.shape}\")\n",
    "        print(param.data)\n",
    "pya.utils.print_to_scrollable_output(my_print_function)"
   ]
  },
  {
   "cell_type": "markdown",
   "id": "95d0bb00-1f15-4ff1-aba9-73284c5fe04a",
   "metadata": {},
   "source": [
    "## Write clock dictionary"
   ]
  },
  {
   "cell_type": "markdown",
   "id": "3b176620-afb5-403c-9948-07639072bb44",
   "metadata": {},
   "source": [
    "Let's put everything together and save:"
   ]
  },
  {
   "cell_type": "code",
   "execution_count": 16,
   "id": "35d00b76-513d-4d8f-8824-6d810ee9d8f5",
   "metadata": {},
   "outputs": [],
   "source": [
    "clock_dict = {\n",
    "    # Metadata\n",
    "    'clock_name': clock_name,\n",
    "    'data_type': data_type,\n",
    "    'model_class': model_class,\n",
    "    'species': species,\n",
    "    'year': year,\n",
    "    'approved_by_author': approved_by_author,\n",
    "    'citation': citation,\n",
    "    'doi': doi,\n",
    "    \"notes\": notes,\n",
    "\n",
    "    # Data\n",
    "    'reference_feature_values': reference_feature_values if reference_feature_values else None,\n",
    "    'preprocessing': preprocessing if preprocessing else None, \n",
    "    'features': features,\n",
    "    'weight_dict': model.state_dict(),\n",
    "    'postprocessing': postprocessing if postprocessing else None,\n",
    "}\n",
    "\n",
    "torch.save(clock_dict, f'../weights/{clock_name}.pt')"
   ]
  },
  {
   "cell_type": "markdown",
   "id": "c1dd2efe-2bd6-4e1b-92ee-d110c25ad29c",
   "metadata": {},
   "source": [
    "## Clear directory"
   ]
  },
  {
   "cell_type": "markdown",
   "id": "158aa71f-7bbc-4c52-b7ef-16ba45d5e1fd",
   "metadata": {},
   "source": [
    "Delete all files that are not clock jupyter notebooks:"
   ]
  },
  {
   "cell_type": "code",
   "execution_count": 17,
   "id": "db4bd42b-c62f-4557-9ebc-d8194a240137",
   "metadata": {},
   "outputs": [
    {
     "name": "stdout",
     "output_type": "stream",
     "text": [
      "Deleted file: coefficients.xlsx\n",
      "Deleted folder: .ipynb_checkpoints\n"
     ]
    }
   ],
   "source": [
    "# Function to remove a folder and all its contents\n",
    "def remove_folder(path):\n",
    "    try:\n",
    "        shutil.rmtree(path)\n",
    "        print(f\"Deleted folder: {path}\")\n",
    "    except Exception as e:\n",
    "        print(f\"Error deleting folder {path}: {e}\")\n",
    "\n",
    "# Get a list of all files and folders in the current directory\n",
    "all_items = os.listdir('.')\n",
    "\n",
    "# Loop through the items\n",
    "for item in all_items:\n",
    "    # Check if it's a file and does not end with .ipynb\n",
    "    if os.path.isfile(item) and not item.endswith('.ipynb'):\n",
    "        os.remove(item)\n",
    "        print(f\"Deleted file: {item}\")\n",
    "    # Check if it's a folder\n",
    "    elif os.path.isdir(item):\n",
    "        remove_folder(item)"
   ]
  }
 ],
 "metadata": {
  "kernelspec": {
   "display_name": "Python 3",
   "language": "python",
   "name": "python3"
  },
  "language_info": {
   "codemirror_mode": {
    "name": "ipython",
    "version": 3
   },
   "file_extension": ".py",
   "mimetype": "text/x-python",
   "name": "python",
   "nbconvert_exporter": "python",
   "pygments_lexer": "ipython3",
   "version": "3.9.17"
  }
 },
 "nbformat": 4,
 "nbformat_minor": 5
}

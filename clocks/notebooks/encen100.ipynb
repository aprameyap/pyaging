{
 "cells": [
  {
   "cell_type": "code",
   "execution_count": 1,
   "id": "fb157849-5454-4a60-8548-fff633fff764",
   "metadata": {},
   "outputs": [],
   "source": [
    "import torch\n",
    "import pandas as pd\n",
    "import pyaging as pya\n",
    "import os"
   ]
  },
  {
   "cell_type": "code",
   "execution_count": 2,
   "id": "7ff79b88-ba64-4514-938f-39c7cfa52850",
   "metadata": {},
   "outputs": [
    {
     "data": {
      "text/plain": [
       "0"
      ]
     },
     "execution_count": 2,
     "metadata": {},
     "output_type": "execute_result"
    }
   ],
   "source": [
    "os.system(\"git clone https://github.com/victorychain/Centenarian-Clock.git\")"
   ]
  },
  {
   "cell_type": "code",
   "execution_count": 3,
   "id": "9e9ef012-4929-4053-af78-7533a288250e",
   "metadata": {},
   "outputs": [],
   "source": [
    "df = pd.read_csv('Centenarian-Clock/clocks/final_clocks.csv', index_col=0).T\n",
    "\n",
    "df = df[df['ENCen100+'] != 0]\n",
    "df = df.reset_index()\n",
    "\n",
    "df['feature'] = df['index']\n",
    "df['coefficient'] = df['ENCen100+']"
   ]
  },
  {
   "cell_type": "code",
   "execution_count": 4,
   "id": "a284fe99-dc47-4f0c-b2ff-274e136e7020",
   "metadata": {},
   "outputs": [],
   "source": [
    "features = df['feature'][1:].tolist()\n",
    "\n",
    "weights = torch.tensor(df['coefficient'][1:].tolist()).unsqueeze(0)\n",
    "intercept = torch.tensor([df['coefficient'][0]])"
   ]
  },
  {
   "cell_type": "code",
   "execution_count": 5,
   "id": "7b4c3f6b-72af-4e99-84c4-65b8ef58c91d",
   "metadata": {},
   "outputs": [
    {
     "data": {
      "text/plain": [
       "LinearModel(\n",
       "  (linear): Linear(in_features=198, out_features=1, bias=True)\n",
       ")"
      ]
     },
     "execution_count": 5,
     "metadata": {},
     "output_type": "execute_result"
    }
   ],
   "source": [
    "model = pya.models.LinearModel(len(features))\n",
    "\n",
    "model.linear.weight.data = weights\n",
    "model.linear.bias.data = intercept\n",
    "\n",
    "model"
   ]
  },
  {
   "cell_type": "code",
   "execution_count": 6,
   "id": "b38f8af2-3d94-4a45-90b9-30b227828da1",
   "metadata": {},
   "outputs": [],
   "source": [
    "weights_dict = {\n",
    "    'preprocessing': None, \n",
    "    'preprocessing_helper': None,\n",
    "    'postprocessing': None,\n",
    "    'postprocessing_helper': None,\n",
    "    'features': features,\n",
    "    'weight_dict': model.state_dict(),\n",
    "    'model_class': 'LinearModel',\n",
    "}\n",
    "\n",
    "metadata_dict = {\n",
    "    'species': 'Homo sapiens',\n",
    "    'data_type': 'methylation',\n",
    "    'year': 2023,\n",
    "    'implementation_approved_by_author(s)': '⌛',\n",
    "    'preprocessing': weights_dict['preprocessing'], \n",
    "    'postprocessing': weights_dict['postprocessing'], \n",
    "    'citation': \"Dec, Eric, et al. \\\"Centenarian clocks: epigenetic clocks for validating claims of exceptional longevity.\\\" GeroScience (2023): 1-19.\",\n",
    "    'doi': \"https://doi.org/10.1007/s11357-023-00731-7\",\n",
    "    \"notes\": None,\n",
    "}"
   ]
  },
  {
   "cell_type": "code",
   "execution_count": 7,
   "id": "34136f3c-92b8-4641-a103-381d3a7dd857",
   "metadata": {},
   "outputs": [],
   "source": [
    "torch.save(weights_dict, '../weights/encen100.pt')\n",
    "torch.save(metadata_dict, '../metadata/encen100.pt')"
   ]
  },
  {
   "cell_type": "code",
   "execution_count": 8,
   "id": "01b905f5-298f-4edd-b69b-fcedeea9d0d4",
   "metadata": {},
   "outputs": [
    {
     "data": {
      "text/plain": [
       "0"
      ]
     },
     "execution_count": 8,
     "metadata": {},
     "output_type": "execute_result"
    }
   ],
   "source": [
    "os.system(\"rm -r Centenarian-Clock\")"
   ]
  },
  {
   "cell_type": "code",
   "execution_count": null,
   "id": "0984b321-f945-4331-9165-71b33e463a33",
   "metadata": {},
   "outputs": [],
   "source": []
  }
 ],
 "metadata": {
  "kernelspec": {
   "display_name": "Python 3",
   "language": "python",
   "name": "python3"
  },
  "language_info": {
   "codemirror_mode": {
    "name": "ipython",
    "version": 3
   },
   "file_extension": ".py",
   "mimetype": "text/x-python",
   "name": "python",
   "nbconvert_exporter": "python",
   "pygments_lexer": "ipython3",
   "version": "3.9.17"
  }
 },
 "nbformat": 4,
 "nbformat_minor": 5
}

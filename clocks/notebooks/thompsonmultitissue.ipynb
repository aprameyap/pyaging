{
 "cells": [
  {
   "cell_type": "code",
   "execution_count": 1,
   "id": "fb157849-5454-4a60-8548-fff633fff764",
   "metadata": {},
   "outputs": [],
   "source": [
    "import torch\n",
    "import pandas as pd\n",
    "import pyaging as pya\n",
    "import os"
   ]
  },
  {
   "cell_type": "code",
   "execution_count": 2,
   "id": "46c6fc26-9a6b-4027-bd01-601b70eb401a",
   "metadata": {},
   "outputs": [
    {
     "data": {
      "text/plain": [
       "0"
      ]
     },
     "execution_count": 2,
     "metadata": {},
     "output_type": "execute_result"
    }
   ],
   "source": [
    "os.system(\"git clone https://github.com/kerepesi/MouseAgingClocks.git\")"
   ]
  },
  {
   "cell_type": "code",
   "execution_count": 3,
   "id": "b9f484b1-f501-41b7-9565-82e03bfe97dc",
   "metadata": {},
   "outputs": [],
   "source": [
    "# This is supplementary table 1 in the paper, but it's in a Word document. Let's just use the .txt file from the GitHub above\n",
    "df = pd.read_table('MouseAgingClocks/ClockData/Thompson2018-ElasticNet_aging_clock.txt', skiprows=1)\n",
    "\n",
    "intercept = df['Coefficient'].iloc[0]\n",
    "\n",
    "df = df[1:]\n",
    "\n",
    "df['feature'] = df['Chromosome'].astype(str) + ':' + df['Coordinate'].astype(int).astype(str)\n",
    "df['coefficient'] = df['Coefficient']"
   ]
  },
  {
   "cell_type": "code",
   "execution_count": 4,
   "id": "a284fe99-dc47-4f0c-b2ff-274e136e7020",
   "metadata": {},
   "outputs": [],
   "source": [
    "features = df['feature'].tolist()\n",
    "\n",
    "weights = torch.tensor(df['coefficient'].tolist()).unsqueeze(0)\n",
    "intercept = torch.tensor([intercept])"
   ]
  },
  {
   "cell_type": "code",
   "execution_count": 5,
   "id": "7b4c3f6b-72af-4e99-84c4-65b8ef58c91d",
   "metadata": {},
   "outputs": [
    {
     "data": {
      "text/plain": [
       "LinearModel(\n",
       "  (linear): Linear(in_features=582, out_features=1, bias=True)\n",
       ")"
      ]
     },
     "execution_count": 5,
     "metadata": {},
     "output_type": "execute_result"
    }
   ],
   "source": [
    "model = pya.models.LinearModel(len(features))\n",
    "\n",
    "model.linear.weight.data = weights\n",
    "model.linear.bias.data = intercept\n",
    "\n",
    "model"
   ]
  },
  {
   "cell_type": "code",
   "execution_count": 6,
   "id": "e32706f0-ce07-455e-bb17-1993c1c0e152",
   "metadata": {},
   "outputs": [],
   "source": [
    "weights_dict = {\n",
    "    'preprocessing': None, \n",
    "    'preprocessing_helper': None,\n",
    "    'postprocessing': None,\n",
    "    'postprocessing_helper': None,\n",
    "    'features': features,\n",
    "    'weight_dict': model.state_dict(),\n",
    "    'model_class': 'LinearModel',\n",
    "}\n",
    "\n",
    "metadata_dict = {\n",
    "    'species': 'Mus musculus',\n",
    "    'data_type': 'methylation',\n",
    "    'year': 2018,\n",
    "    'implementation_approved_by_author(s)': '✅',\n",
    "    'preprocessing': weights_dict['preprocessing'], \n",
    "    'postprocessing': weights_dict['postprocessing'], \n",
    "    'citation': \"Thompson, Michael J., et al. \\\"A multi-tissue full lifespan epigenetic clock for mice.\\\" Aging (Albany NY) 10.10 (2018): 2832.\",\n",
    "    'doi': \"https://doi.org/10.18632/aging.101590\",\n",
    "    \"notes\": None,\n",
    "}"
   ]
  },
  {
   "cell_type": "code",
   "execution_count": 7,
   "id": "34136f3c-92b8-4641-a103-381d3a7dd857",
   "metadata": {},
   "outputs": [],
   "source": [
    "torch.save(weights_dict, '../weights/thompsonmultitissue.pt')\n",
    "torch.save(metadata_dict, '../metadata/thompsonmultitissue.pt')"
   ]
  },
  {
   "cell_type": "code",
   "execution_count": 8,
   "id": "303e9b76-993f-4691-af9d-1151b3c7638f",
   "metadata": {},
   "outputs": [
    {
     "data": {
      "text/plain": [
       "0"
      ]
     },
     "execution_count": 8,
     "metadata": {},
     "output_type": "execute_result"
    }
   ],
   "source": [
    "os.system(\"rm -r MouseAgingClocks\")"
   ]
  }
 ],
 "metadata": {
  "kernelspec": {
   "display_name": "Python 3",
   "language": "python",
   "name": "python3"
  },
  "language_info": {
   "codemirror_mode": {
    "name": "ipython",
    "version": 3
   },
   "file_extension": ".py",
   "mimetype": "text/x-python",
   "name": "python",
   "nbconvert_exporter": "python",
   "pygments_lexer": "ipython3",
   "version": "3.9.17"
  }
 },
 "nbformat": 4,
 "nbformat_minor": 5
}

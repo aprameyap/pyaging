{
 "cells": [
  {
   "cell_type": "markdown",
   "id": "2f04eee0-5928-4e74-a754-6dc2e528810c",
   "metadata": {},
   "source": [
    "# AltumAge"
   ]
  },
  {
   "cell_type": "markdown",
   "id": "a3f514a3-772c-4a14-afdf-5a8376851ff4",
   "metadata": {},
   "source": [
    "## Index\n",
    "1. [Instantiate model class](#Instantiate-model-class)\n",
    "2. [Define clock metadata](#Define-clock-metadata)\n",
    "3. [Download clock dependencies](#Download-clock-dependencies)\n",
    "5. [Load features](#-Load-features)\n",
    "6. [Load weights into base model](#Load-weights-into-base-model)\n",
    "7. [Load reference values](#-Load-reference-values)\n",
    "8. [Load preprocess and postprocess objects](#-Load-preprocess-and-postprocess-objects)\n",
    "10. [Check all clock parameters](#Check-all-clock-parameters)\n",
    "10. [Basic test](#Basic-test)\n",
    "11. [Save torch model](#Save-torch-model)\n",
    "12. [Clear directory](#Clear-directory)"
   ]
  },
  {
   "cell_type": "markdown",
   "id": "d95fafdc-643a-40ea-a689-200bd132e90c",
   "metadata": {},
   "source": [
    "Let's first import some packages:"
   ]
  },
  {
   "cell_type": "code",
   "execution_count": 1,
   "id": "4adfb4de-cd79-4913-a1af-9e23e9e236c9",
   "metadata": {},
   "outputs": [],
   "source": [
    "import os\n",
    "import inspect\n",
    "import shutil\n",
    "import json\n",
    "import torch\n",
    "import pandas as pd\n",
    "import pyaging as pya\n",
    "import tensorflow as tf\n",
    "from tensorflow.keras.models import load_model"
   ]
  },
  {
   "cell_type": "markdown",
   "id": "26472e43-a06f-4c43-b575-c680a3c62acb",
   "metadata": {},
   "source": [
    "## Instantiate model class"
   ]
  },
  {
   "cell_type": "code",
   "execution_count": 2,
   "id": "36a833df-3311-40c3-8007-07e1f16f1c13",
   "metadata": {},
   "outputs": [
    {
     "name": "stdout",
     "output_type": "stream",
     "text": [
      "class AltumAge(pyagingModel):\n",
      "    def __init__(self):\n",
      "        super().__init__()\n",
      "\n",
      "    def preprocess(self, x):\n",
      "        x = (x - self.preprocess_dependencies[0])/self.preprocess_dependencies[1]\n",
      "        return x\n",
      "\n",
      "    def postprocess(self, x):\n",
      "        return x\n",
      "\n"
     ]
    }
   ],
   "source": [
    "def print_entire_class(cls):\n",
    "    source = inspect.getsource(cls)\n",
    "    print(source)\n",
    "\n",
    "print_entire_class(pya.models.AltumAge)"
   ]
  },
  {
   "cell_type": "code",
   "execution_count": 3,
   "id": "133724c3-a029-4d5f-b8ae-7096aaaddcd0",
   "metadata": {},
   "outputs": [],
   "source": [
    "model = pya.models.AltumAge()"
   ]
  },
  {
   "cell_type": "markdown",
   "id": "c8c0c937-d9b6-4756-99b0-91de591220e0",
   "metadata": {},
   "source": [
    "## Define clock metadata"
   ]
  },
  {
   "cell_type": "code",
   "execution_count": 4,
   "id": "5281776d-0549-445f-beec-39c31ec7dbe1",
   "metadata": {},
   "outputs": [],
   "source": [
    "model.metadata[\"clock_name\"] = 'altumage'\n",
    "model.metadata[\"data_type\"] = 'methylation'\n",
    "model.metadata[\"species\"] = 'Homo sapiens'\n",
    "model.metadata[\"year\"] = 2022\n",
    "model.metadata[\"approved_by_author\"] = '✅'\n",
    "model.metadata[\"citation\"] = \"de Lima Camillo, Lucas Paulo, Louis R. Lapierre, and Ritambhara Singh. \\\"A pan-tissue DNA-methylation epigenetic clock based on deep learning.\\\" npj Aging 8.1 (2022): 4.\"\n",
    "model.metadata[\"doi\"] = 'https://doi.org/10.1038/s41514-022-00085-y'\n",
    "model.metadata[\"notes\"] = None"
   ]
  },
  {
   "cell_type": "markdown",
   "id": "4520c8cb-6c1f-4490-ba4c-6fe78ef002a7",
   "metadata": {},
   "source": [
    "## Download clock dependencies"
   ]
  },
  {
   "cell_type": "markdown",
   "id": "7135440c-ecad-46f7-af0f-094cf82d62f7",
   "metadata": {},
   "source": [
    "#### Download GitHub repository"
   ]
  },
  {
   "cell_type": "code",
   "execution_count": 5,
   "id": "8510077c-ac0f-48aa-8b49-81b8667f11ac",
   "metadata": {},
   "outputs": [
    {
     "data": {
      "text/plain": [
       "0"
      ]
     },
     "execution_count": 5,
     "metadata": {},
     "output_type": "execute_result"
    }
   ],
   "source": [
    "github_url = \"https://github.com/rsinghlab/AltumAge.git\"\n",
    "github_folder_name = github_url.split('/')[-1].split('.')[0]\n",
    "os.system(f\"git clone {github_url}\")"
   ]
  },
  {
   "cell_type": "markdown",
   "id": "8b090b82-97f3-411d-9118-9f3066330430",
   "metadata": {},
   "source": [
    "## Load features"
   ]
  },
  {
   "cell_type": "code",
   "execution_count": 6,
   "id": "55a05081-4118-4a0c-835e-d66f2d4c0ef5",
   "metadata": {},
   "outputs": [],
   "source": [
    "model.features = pd.read_pickle('AltumAge/example_dependencies/multi_platform_cpgs.pkl').tolist()"
   ]
  },
  {
   "cell_type": "markdown",
   "id": "06eab359-de0d-4092-aef5-f20e653d8b06",
   "metadata": {},
   "source": [
    "## Load weights into base model"
   ]
  },
  {
   "cell_type": "code",
   "execution_count": 8,
   "id": "21f88063-b3fc-48b3-8bce-a90ccbd8ca00",
   "metadata": {},
   "outputs": [],
   "source": [
    "AltumAge = load_model('AltumAge/example_dependencies/AltumAge.h5')  # Load your trained TensorFlow model\n",
    "weights = {}\n",
    "for layer in AltumAge.layers:\n",
    "    weights[layer.name] = layer.get_weights()\n",
    "\n",
    "base_model = pya.models.AltumAgeNeuralNetwork()\n",
    "\n",
    "# Function to copy weights from TensorFlow to PyTorch\n",
    "def copy_weights(torch_layer, tf_weights, bn=False):\n",
    "    with torch.no_grad():\n",
    "        if bn:\n",
    "            torch_layer.weight.data = torch.tensor(tf_weights[0]).float()\n",
    "            torch_layer.bias.data = torch.tensor(tf_weights[1]).float()\n",
    "            torch_layer.running_mean.data = torch.tensor(tf_weights[2]).float()\n",
    "            torch_layer.running_var.data = torch.tensor(tf_weights[3]).float()\n",
    "        else:\n",
    "            torch_layer.weight.data = torch.tensor(tf_weights[0]).T.float()\n",
    "            torch_layer.bias.data = torch.tensor(tf_weights[1]).float()\n",
    "\n",
    "# Now copy the weights\n",
    "copy_weights(base_model.bn1, weights['batch_normalization_84'], bn=True)\n",
    "copy_weights(base_model.linear1, weights['dense_84'])\n",
    "copy_weights(base_model.bn2, weights['batch_normalization_85'], bn=True)\n",
    "copy_weights(base_model.linear2, weights['dense_85'])\n",
    "copy_weights(base_model.bn3, weights['batch_normalization_86'], bn=True)\n",
    "copy_weights(base_model.linear3, weights['dense_86'])\n",
    "copy_weights(base_model.bn4, weights['batch_normalization_87'], bn=True)\n",
    "copy_weights(base_model.linear4, weights['dense_87'])\n",
    "copy_weights(base_model.bn5, weights['batch_normalization_88'], bn=True)\n",
    "copy_weights(base_model.linear5, weights['dense_88'])\n",
    "copy_weights(base_model.bn6, weights['batch_normalization_89'], bn=True)\n",
    "copy_weights(base_model.linear6, weights['dense_89'])\n",
    "\n",
    "model.base_model = base_model"
   ]
  },
  {
   "cell_type": "markdown",
   "id": "0fe824b6-a7b6-4f34-aac5-c4be2db24374",
   "metadata": {},
   "source": [
    "## Load reference values"
   ]
  },
  {
   "cell_type": "code",
   "execution_count": 9,
   "id": "4ad194f7-743e-485a-87c9-5d073024d890",
   "metadata": {},
   "outputs": [],
   "source": [
    "scaler = pd.read_pickle('AltumAge/example_dependencies/scaler.pkl')\n",
    "\n",
    "model.reference_values = scaler.center_"
   ]
  },
  {
   "cell_type": "markdown",
   "id": "cc27426d-917e-4736-a64d-458098da6e12",
   "metadata": {},
   "source": [
    "## Load preprocess and postprocess objects"
   ]
  },
  {
   "cell_type": "code",
   "execution_count": 10,
   "id": "bda3a5e0-3d35-42f6-ae48-9b8c48dff32a",
   "metadata": {},
   "outputs": [],
   "source": [
    "model.preprocess_name = 'scale'\n",
    "model.preprocess_dependencies = [scaler.center_, scaler.scale_]\n",
    "\n",
    "model.postprocess_name = None\n",
    "model.postprocess_dependencies = None"
   ]
  },
  {
   "cell_type": "markdown",
   "id": "412d27a4-6fe0-435e-97ed-f9a0ed74d7b5",
   "metadata": {},
   "source": [
    "## Check all clock parameters"
   ]
  },
  {
   "cell_type": "code",
   "execution_count": 11,
   "id": "b3872ee0-20f0-4f79-b51d-e91daf1fef2f",
   "metadata": {},
   "outputs": [
    {
     "name": "stdout",
     "output_type": "stream",
     "text": [
      "\n",
      "%========================================== Model Details ==========================================%\n",
      "Model Attributes:\n",
      "\n",
      "training: True\n",
      "metadata: {'approved_by_author': '✅',\n",
      " 'citation': 'de Lima Camillo, Lucas Paulo, Louis R. Lapierre, and Ritambhara '\n",
      "             'Singh. \"A pan-tissue DNA-methylation epigenetic clock based on '\n",
      "             'deep learning.\" npj Aging 8.1 (2022): 4.',\n",
      " 'clock_name': 'altumage',\n",
      " 'data_type': 'methylation',\n",
      " 'doi': 'https://doi.org/10.1038/s41514-022-00085-y',\n",
      " 'notes': None,\n",
      " 'species': 'Homo sapiens',\n",
      " 'version': None,\n",
      " 'year': 2022}\n",
      "reference_values: array([0.7598634 , 0.78637881, 0.06324422, ..., 0.03556449, 0.04053195,\n",
      "       0.05189659])\n",
      "preprocess_name: 'scale'\n",
      "preprocess_dependencies: [array([0.7598634 , 0.78637881, 0.06324422, ..., 0.03556449, 0.04053195,\n",
      "       0.05189659]),\n",
      " array([0.18540869, 0.42506826, 0.03971112, ..., 0.0264798 , 0.01924175,\n",
      "       0.03057686])]\n",
      "postprocess_name: None\n",
      "postprocess_dependencies: None\n",
      "features: [List with 20318 elements]\n",
      "base_model_features: None\n",
      "\n",
      "%========================================== Model Details ==========================================%\n",
      "Model Structure:\n",
      "\n",
      "base_model: AltumAgeNeuralNetwork(\n",
      "  (linear1): Linear(in_features=20318, out_features=32, bias=True)\n",
      "  (linear2): Linear(in_features=32, out_features=32, bias=True)\n",
      "  (linear3): Linear(in_features=32, out_features=32, bias=True)\n",
      "  (linear4): Linear(in_features=32, out_features=32, bias=True)\n",
      "  (linear5): Linear(in_features=32, out_features=32, bias=True)\n",
      "  (linear6): Linear(in_features=32, out_features=1, bias=True)\n",
      "  (bn1): BatchNorm1d(20318, eps=0.001, momentum=0.99, affine=True, track_running_stats=True)\n",
      "  (bn2): BatchNorm1d(32, eps=0.001, momentum=0.99, affine=True, track_running_stats=True)\n",
      "  (bn3): BatchNorm1d(32, eps=0.001, momentum=0.99, affine=True, track_running_stats=True)\n",
      "  (bn4): BatchNorm1d(32, eps=0.001, momentum=0.99, affine=True, track_running_stats=True)\n",
      "  (bn5): BatchNorm1d(32, eps=0.001, momentum=0.99, affine=True, track_running_stats=True)\n",
      "  (bn6): BatchNorm1d(32, eps=0.001, momentum=0.99, affine=True, track_running_stats=True)\n",
      ")\n",
      "\n",
      "%========================================== Model Details ==========================================%\n",
      "Model Parameters and Weights:\n",
      "\n",
      "base_model.linear1.weight: [Tensor of shape torch.Size([32, 20318])]\n",
      "base_model.linear1.bias: tensor([-0.6604,  0.5533, -0.2200, -0.1735, -0.5756, -0.5771, -0.8568, -0.1139,\n",
      "        -0.3228, -0.6421, -0.3727, -0.1807, -0.5826, -0.4565, -0.8706, -0.4558,\n",
      "        -0.4028, -0.6451, -0.5052, -0.4259, -0.2791, -0.3262, -0.0359, -0.2229,\n",
      "        -0.3301, -1.2169, -0.4374, -0.7384, -0.1962, -0.5825, -0.2912, -0.6474])\n",
      "base_model.linear2.weight: [Tensor of shape torch.Size([32, 32])]\n",
      "base_model.linear2.bias: tensor([ 0.6759, -0.3097, -0.4357,  0.5534,  0.4851,  0.6325,  0.4016,  0.0754,\n",
      "        -0.1431,  0.2222, -0.9659,  0.0287,  0.2948,  0.1959,  0.2898, -0.6178,\n",
      "         0.3630,  0.2221,  0.1998,  0.4771,  0.2868,  0.5244,  0.1400,  0.6783,\n",
      "         0.3396,  0.3571,  0.0536,  0.1510,  0.2993,  0.4201,  0.0170,  0.2873])\n",
      "base_model.linear3.weight: [Tensor of shape torch.Size([32, 32])]\n",
      "base_model.linear3.bias: tensor([ 0.3391,  0.5598,  0.4705, -0.2027,  0.1813,  0.3252,  0.0233, -0.3203,\n",
      "        -0.0852, -0.0998,  0.6882, -0.1663,  0.1854, -0.1326,  0.3715, -0.0022,\n",
      "         0.4332,  0.4347,  0.1600,  0.3535,  0.1266,  0.2714,  0.3556,  0.4138,\n",
      "        -0.1275,  0.2426,  0.3175, -0.0435,  0.0037,  0.3101,  0.0012,  0.3953])\n",
      "base_model.linear4.weight: [Tensor of shape torch.Size([32, 32])]\n",
      "base_model.linear4.bias: tensor([ 0.4491,  0.1802, -0.4010,  0.5020, -0.1979, -0.5557, -0.3653,  0.9969,\n",
      "         0.1408,  0.2968,  0.1478,  0.5978, -0.2119,  0.0424,  0.4133, -0.5278,\n",
      "        -0.3184,  0.0416, -0.5463,  0.2214, -0.3051, -0.6359,  0.1398,  0.3148,\n",
      "         0.2048,  0.4476, -0.8669, -0.1752,  0.6554, -0.0657,  0.6617, -0.1073])\n",
      "base_model.linear5.weight: [Tensor of shape torch.Size([32, 32])]\n",
      "base_model.linear5.bias: tensor([ 0.0188,  1.0648,  0.5158,  0.1188,  0.2151,  0.4592,  0.6236,  0.4123,\n",
      "         0.2296,  0.4293,  0.5148,  0.4911,  0.7503,  0.3181,  0.6128,  0.0558,\n",
      "         0.5656,  0.6443,  0.4925,  0.1444,  0.9096,  0.0142,  0.1697, -0.0951,\n",
      "        -0.1249,  0.5697,  0.5375, -0.3432,  0.1094,  0.9304,  0.3116,  0.6255])\n",
      "base_model.linear6.weight: tensor([[-1.2236,  1.2804,  1.0837, -0.9721, -1.1046,  1.1074,  1.2813, -1.0228,\n",
      "          1.1068,  1.0667,  1.0868,  1.0927,  1.2181,  1.1169,  0.9927, -1.3032,\n",
      "         -1.0007, -1.1439,  1.2465,  1.2646,  1.1993, -1.2771, -1.2825, -1.1070,\n",
      "         -1.1650,  1.2753, -0.9725, -1.1402,  1.0930,  1.0758,  1.2793,  1.0270]])\n",
      "base_model.linear6.bias: tensor([0.7534])\n",
      "base_model.bn1.weight: [Tensor of shape torch.Size([20318])]\n",
      "base_model.bn1.bias: [Tensor of shape torch.Size([20318])]\n",
      "base_model.bn2.weight: tensor([0.6905, 0.8971, 0.9816, 0.9542, 0.6962, 0.6563, 1.0217, 0.6866, 1.0791,\n",
      "        1.2398, 0.8453, 0.8962, 0.7616, 1.0136, 1.0088, 0.2692, 0.8767, 0.5490,\n",
      "        1.1167, 0.7770, 0.8878, 0.8992, 0.9021, 0.9531, 1.0407, 0.9545, 0.6272,\n",
      "        0.6260, 1.0941, 1.2867, 0.8014, 0.9372])\n",
      "base_model.bn2.bias: tensor([ 4.4352e-02, -2.1411e-01,  4.3019e-01,  2.8619e-01,  1.1047e-01,\n",
      "         2.9372e-01,  3.4262e-01,  1.0084e-04,  6.1014e-02,  3.6518e-01,\n",
      "        -1.8807e-01,  1.0775e-01,  9.4030e-02,  3.0907e-01, -3.3537e-02,\n",
      "         1.6530e-01,  4.0595e-01,  2.2363e-01,  4.9714e-01,  3.0242e-02,\n",
      "         3.8768e-01,  3.2902e-01, -4.7522e-02,  3.5800e-01,  3.2806e-01,\n",
      "         2.1596e-02,  1.7054e-02,  2.5464e-01,  9.3539e-02,  1.9854e-02,\n",
      "        -2.0453e-01,  3.0443e-01])\n",
      "base_model.bn3.weight: tensor([0.9234, 0.7930, 0.7818, 0.9888, 0.8963, 0.8972, 0.9323, 0.9250, 0.9125,\n",
      "        0.8331, 0.9398, 0.8862, 0.9908, 0.8512, 0.8914, 0.7827, 0.7608, 0.8272,\n",
      "        0.9561, 0.7843, 0.9762, 0.8007, 0.9330, 1.2221, 0.8473, 0.7803, 0.9129,\n",
      "        0.9528, 0.8709, 0.9304, 0.8470, 0.9282])\n",
      "base_model.bn3.bias: tensor([-0.1925,  0.1487,  0.1638,  0.3547,  0.4045,  0.3627,  0.2631,  0.2581,\n",
      "        -0.0717, -0.0470,  0.1058, -0.0293, -0.2359,  0.1891, -0.1460, -0.0043,\n",
      "        -0.1085,  0.2489,  0.2365, -0.2011,  0.0475,  0.3456,  0.3095,  0.2700,\n",
      "         0.1774, -0.2045,  0.2738,  0.2039, -0.2355, -0.1449, -0.0161,  0.2105])\n",
      "base_model.bn4.weight: tensor([0.8330, 1.1533, 1.0695, 1.2459, 1.4692, 0.8691, 1.0675, 1.2268, 0.9916,\n",
      "        1.0002, 1.1389, 1.0187, 0.8648, 1.3782, 1.0666, 0.9495, 0.8646, 1.0004,\n",
      "        1.2890, 0.8157, 0.9825, 1.2890, 0.9709, 0.9444, 1.0751, 0.8903, 1.1574,\n",
      "        0.8986, 0.9215, 1.0052, 0.8608, 1.0190])\n",
      "base_model.bn4.bias: tensor([-0.3791,  0.2321, -0.3198, -0.2167, -0.1855, -0.2418,  0.1950, -0.1089,\n",
      "         0.5837,  0.0608, -0.0548, -0.2450, -0.3125, -0.1062,  0.4151,  0.1056,\n",
      "        -0.4212, -0.0615, -0.0688, -0.2486,  0.2871,  0.4920, -0.1681, -0.3930,\n",
      "         0.0332, -0.2618,  0.3613, -0.2771, -0.3564, -0.1628, -0.1257,  0.0180])\n",
      "base_model.bn5.weight: tensor([0.5315, 0.7657, 0.9902, 0.7130, 0.7900, 0.8158, 0.9315, 0.9712, 0.8442,\n",
      "        0.7378, 0.9491, 0.7065, 0.7683, 0.6585, 0.6434, 0.8951, 0.9198, 0.7507,\n",
      "        0.9248, 0.6711, 0.8227, 1.0552, 0.6170, 0.5817, 0.9911, 0.8780, 1.0697,\n",
      "        0.9235, 0.5643, 0.6998, 0.6204, 0.8853])\n",
      "base_model.bn5.bias: tensor([-0.2392,  0.0506,  0.0880,  0.3492,  0.3509,  0.5096,  0.3652,  0.0633,\n",
      "         0.3356,  0.0750,  0.0613,  0.3037,  0.3138,  0.2393, -0.3152,  0.4775,\n",
      "         0.3037,  0.3063,  0.4936,  0.0023,  0.3014,  0.5785,  0.1865,  0.2036,\n",
      "         0.0063, -0.1104,  0.4811,  0.3498, -0.2790,  0.2615, -0.1988,  0.0917])\n",
      "base_model.bn6.weight: tensor([1.3482, 1.4608, 1.4243, 1.2311, 1.3522, 1.4518, 1.3152, 1.3748, 1.4198,\n",
      "        1.4229, 1.4472, 1.4868, 1.3119, 1.4189, 1.4074, 1.3293, 1.2543, 1.3263,\n",
      "        1.3620, 1.3947, 1.4887, 1.3189, 1.3590, 1.3654, 1.3732, 1.3657, 1.2495,\n",
      "        1.2946, 1.4208, 1.5051, 1.4012, 1.3668])\n",
      "base_model.bn6.bias: tensor([-1.0323,  0.9970,  1.1466, -1.2037, -1.0852,  1.1471,  0.9764, -1.2043,\n",
      "         1.1437,  1.1630,  1.1460,  1.1626,  1.0004,  1.1528,  1.2943, -0.9768,\n",
      "        -1.2946, -1.0891,  1.0060,  1.0011,  1.0434, -0.9889, -0.9905, -1.1144,\n",
      "        -1.0728,  1.0112, -1.3087, -1.1204,  1.1455,  1.2001,  0.9963,  1.2147])\n",
      "\n",
      "%========================================== Model Details ==========================================%\n",
      "\n"
     ]
    }
   ],
   "source": [
    "pya.utils.print_model_details(model)"
   ]
  },
  {
   "cell_type": "markdown",
   "id": "70d83e9a-59bc-4274-a57a-f8ebe9a8a8b3",
   "metadata": {},
   "source": [
    "## Basic test"
   ]
  },
  {
   "cell_type": "code",
   "execution_count": 12,
   "id": "bf0adc39-5449-4ac2-a271-1285cbe73eec",
   "metadata": {},
   "outputs": [
    {
     "data": {
      "text/plain": [
       "tensor([[ 1.6940e+01],\n",
       "        [-7.8034e-02],\n",
       "        [ 1.2900e+02],\n",
       "        [ 3.2433e+01],\n",
       "        [ 8.1607e+01],\n",
       "        [ 3.2819e+01],\n",
       "        [ 7.1175e+01],\n",
       "        [ 4.5454e+01],\n",
       "        [ 3.1396e+01],\n",
       "        [ 1.9619e+02]], dtype=torch.float64, grad_fn=<AddmmBackward0>)"
      ]
     },
     "execution_count": 12,
     "metadata": {},
     "output_type": "execute_result"
    }
   ],
   "source": [
    "torch.manual_seed(42)\n",
    "input = torch.randn(10, len(model.features), dtype=float)\n",
    "model.eval()\n",
    "model.to(float)\n",
    "pred = model(input)\n",
    "pred"
   ]
  },
  {
   "cell_type": "markdown",
   "id": "e93f1249-6a07-4751-83ac-4f17be344ce4",
   "metadata": {},
   "source": [
    "## Save torch model"
   ]
  },
  {
   "cell_type": "code",
   "execution_count": 13,
   "id": "b3e477df-2479-4a40-b8d1-e328b77b0d05",
   "metadata": {},
   "outputs": [],
   "source": [
    "torch.save(model, f'../weights/altumage.pt')"
   ]
  },
  {
   "cell_type": "markdown",
   "id": "c1dd2efe-2bd6-4e1b-92ee-d110c25ad29c",
   "metadata": {},
   "source": [
    "## Clear directory\n",
    "<a id=\"10\"></a>"
   ]
  },
  {
   "cell_type": "code",
   "execution_count": 14,
   "id": "db4bd42b-c62f-4557-9ebc-d8194a240137",
   "metadata": {},
   "outputs": [
    {
     "name": "stdout",
     "output_type": "stream",
     "text": [
      "Deleted folder: AltumAge\n",
      "Deleted folder: .ipynb_checkpoints\n"
     ]
    }
   ],
   "source": [
    "# Function to remove a folder and all its contents\n",
    "def remove_folder(path):\n",
    "    try:\n",
    "        shutil.rmtree(path)\n",
    "        print(f\"Deleted folder: {path}\")\n",
    "    except Exception as e:\n",
    "        print(f\"Error deleting folder {path}: {e}\")\n",
    "\n",
    "# Get a list of all files and folders in the current directory\n",
    "all_items = os.listdir('.')\n",
    "\n",
    "# Loop through the items\n",
    "for item in all_items:\n",
    "    # Check if it's a file and does not end with .ipynb\n",
    "    if os.path.isfile(item) and not item.endswith('.ipynb'):\n",
    "        os.remove(item)\n",
    "        print(f\"Deleted file: {item}\")\n",
    "    # Check if it's a folder\n",
    "    elif os.path.isdir(item):\n",
    "        remove_folder(item)"
   ]
  }
 ],
 "metadata": {
  "kernelspec": {
   "display_name": "Python 3",
   "language": "python",
   "name": "python3"
  },
  "language_info": {
   "codemirror_mode": {
    "name": "ipython",
    "version": 3
   },
   "file_extension": ".py",
   "mimetype": "text/x-python",
   "name": "python",
   "nbconvert_exporter": "python",
   "pygments_lexer": "ipython3",
   "version": "3.9.17"
  }
 },
 "nbformat": 4,
 "nbformat_minor": 5
}

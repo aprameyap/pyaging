{
 "cells": [
  {
   "cell_type": "markdown",
   "id": "2f04eee0-5928-4e74-a754-6dc2e528810c",
   "metadata": {},
   "source": [
    "# DNAmPhenoAge"
   ]
  },
  {
   "cell_type": "markdown",
   "id": "a3f514a3-772c-4a14-afdf-5a8376851ff4",
   "metadata": {},
   "source": [
    "## Index\n",
    "1. [Define required clock parameters](#Define-required-clock-parameters)\n",
    "2. [Download necessary data](#Download-necessary-data)\n",
    "3. [Load data](#-Load-data)\n",
    "4. [Extract features and weights](#Extract-features-and-weights)\n",
    "5. [Load weights into pyaging model](#Load-weights-into-pyaging-model)\n",
    "6. [Add reference values](#Add-reference-values)\n",
    "7. [Add preprocessing and postprocesssing steps](#Add-preprocessing-and-postprocesssing-steps)\n",
    "8. [Check all data objects](#Check-all-data-objects)\n",
    "9. [Write clock dictionary](#Write-clock-dictionary)\n",
    "10. [Clear directory](#Clear-directory)"
   ]
  },
  {
   "cell_type": "markdown",
   "id": "d95fafdc-643a-40ea-a689-200bd132e90c",
   "metadata": {},
   "source": [
    "Let's first import some packages:"
   ]
  },
  {
   "cell_type": "code",
   "execution_count": 1,
   "id": "4adfb4de-cd79-4913-a1af-9e23e9e236c9",
   "metadata": {},
   "outputs": [],
   "source": [
    "import os\n",
    "import marshal\n",
    "import shutil\n",
    "import json\n",
    "import torch\n",
    "import pandas as pd\n",
    "import pyaging as pya"
   ]
  },
  {
   "cell_type": "markdown",
   "id": "c8c0c937-d9b6-4756-99b0-91de591220e0",
   "metadata": {
    "jp-MarkdownHeadingCollapsed": true
   },
   "source": [
    "## Define required clock parameters"
   ]
  },
  {
   "cell_type": "markdown",
   "id": "cf95ddca-625e-4c70-a246-c3cb12df96f8",
   "metadata": {},
   "source": [
    "Let's define some required information first:"
   ]
  },
  {
   "cell_type": "code",
   "execution_count": 2,
   "id": "5281776d-0549-445f-beec-39c31ec7dbe1",
   "metadata": {},
   "outputs": [],
   "source": [
    "clock_name = 'dnamphenoage'\n",
    "data_type = 'methylation'\n",
    "model_class = 'LinearModel'\n",
    "species = 'Homo sapiens'\n",
    "year = 2018\n",
    "approved_by_author = '⌛'\n",
    "citation = \"Levine, Morgan E., et al. \\\"An epigenetic biomarker of aging for lifespan and healthspan.\\\" Aging (albany NY) 10.4 (2018): 573.\"\n",
    "doi = 'https://doi.org/10.18632%2Faging.101414'\n",
    "notes = None"
   ]
  },
  {
   "cell_type": "markdown",
   "id": "4520c8cb-6c1f-4490-ba4c-6fe78ef002a7",
   "metadata": {},
   "source": [
    "## Download necessary data"
   ]
  },
  {
   "cell_type": "markdown",
   "id": "f8d77386-a524-492b-a002-18d24b6ca49a",
   "metadata": {},
   "source": [
    "#### Download directly with curl"
   ]
  },
  {
   "cell_type": "code",
   "execution_count": 3,
   "id": "0003b39e-e032-4822-aff7-970583187d22",
   "metadata": {},
   "outputs": [
    {
     "data": {
      "text/plain": [
       "0"
      ]
     },
     "execution_count": 3,
     "metadata": {},
     "output_type": "execute_result"
    }
   ],
   "source": [
    "supplementary_url = \"https://www.ncbi.nlm.nih.gov/pmc/articles/PMC5940111/bin/aging-10-101414-s002.csv\"\n",
    "supplementary_file_name = \"coefficients.csv\"\n",
    "os.system(f\"curl -o {supplementary_file_name} {supplementary_url}\")"
   ]
  },
  {
   "cell_type": "markdown",
   "id": "35615b62-73ac-40b1-8bc1-e904403eb0ae",
   "metadata": {},
   "source": [
    "## Load data"
   ]
  },
  {
   "cell_type": "markdown",
   "id": "232eb94a-04a7-4ac4-ae3e-0e365b443a8e",
   "metadata": {},
   "source": [
    "#### From CSV file"
   ]
  },
  {
   "cell_type": "code",
   "execution_count": 4,
   "id": "45fbc051-f0d2-4b25-9813-ae126f6fedcb",
   "metadata": {},
   "outputs": [],
   "source": [
    "df = pd.read_csv('coefficients.csv')"
   ]
  },
  {
   "cell_type": "markdown",
   "id": "60c676db-2c7c-4c04-9457-97bccd598269",
   "metadata": {
    "jp-MarkdownHeadingCollapsed": true
   },
   "source": [
    "## Extract features and weights"
   ]
  },
  {
   "cell_type": "markdown",
   "id": "d12d9319-0c37-4116-bff9-29c548d9426b",
   "metadata": {},
   "source": [
    "First, let's extract the features and weights:"
   ]
  },
  {
   "cell_type": "code",
   "execution_count": 5,
   "id": "e1d1dd13-65ac-4694-8948-3cd94bc19fe1",
   "metadata": {},
   "outputs": [
    {
     "data": {
      "text/html": [
       "<div>\n",
       "<style scoped>\n",
       "    .dataframe tbody tr th:only-of-type {\n",
       "        vertical-align: middle;\n",
       "    }\n",
       "\n",
       "    .dataframe tbody tr th {\n",
       "        vertical-align: top;\n",
       "    }\n",
       "\n",
       "    .dataframe thead th {\n",
       "        text-align: right;\n",
       "    }\n",
       "</style>\n",
       "<table border=\"1\" class=\"dataframe\">\n",
       "  <thead>\n",
       "    <tr style=\"text-align: right;\">\n",
       "      <th></th>\n",
       "      <th>CpG</th>\n",
       "      <th>Chromosome</th>\n",
       "      <th>Map Info</th>\n",
       "      <th>Gene Symbol</th>\n",
       "      <th>Entrez ID</th>\n",
       "      <th>Weight</th>\n",
       "      <th>Univariate Age Correlation</th>\n",
       "      <th>Horvath Overlap</th>\n",
       "      <th>Hannum Overlap</th>\n",
       "      <th>feature</th>\n",
       "      <th>coefficient</th>\n",
       "    </tr>\n",
       "  </thead>\n",
       "  <tbody>\n",
       "    <tr>\n",
       "      <th>0</th>\n",
       "      <td>Intercept</td>\n",
       "      <td>NaN</td>\n",
       "      <td>NaN</td>\n",
       "      <td>NaN</td>\n",
       "      <td>NaN</td>\n",
       "      <td>60.664000</td>\n",
       "      <td>NaN</td>\n",
       "      <td>NaN</td>\n",
       "      <td>NaN</td>\n",
       "      <td>Intercept</td>\n",
       "      <td>60.664000</td>\n",
       "    </tr>\n",
       "    <tr>\n",
       "      <th>1</th>\n",
       "      <td>cg15611364</td>\n",
       "      <td>3.0</td>\n",
       "      <td>25806427.0</td>\n",
       "      <td>OXSM</td>\n",
       "      <td>54995.0</td>\n",
       "      <td>63.124150</td>\n",
       "      <td>0.003807</td>\n",
       "      <td>No</td>\n",
       "      <td>No</td>\n",
       "      <td>cg15611364</td>\n",
       "      <td>63.124150</td>\n",
       "    </tr>\n",
       "    <tr>\n",
       "      <th>2</th>\n",
       "      <td>cg17605084</td>\n",
       "      <td>12.0</td>\n",
       "      <td>53177758.0</td>\n",
       "      <td>HEM1</td>\n",
       "      <td>3071.0</td>\n",
       "      <td>-44.009393</td>\n",
       "      <td>-0.029169</td>\n",
       "      <td>No</td>\n",
       "      <td>No</td>\n",
       "      <td>cg17605084</td>\n",
       "      <td>-44.009393</td>\n",
       "    </tr>\n",
       "    <tr>\n",
       "      <th>3</th>\n",
       "      <td>cg26382071</td>\n",
       "      <td>17.0</td>\n",
       "      <td>6485627.0</td>\n",
       "      <td>TXNL5</td>\n",
       "      <td>84817.0</td>\n",
       "      <td>40.420854</td>\n",
       "      <td>0.002997</td>\n",
       "      <td>No</td>\n",
       "      <td>No</td>\n",
       "      <td>cg26382071</td>\n",
       "      <td>40.420854</td>\n",
       "    </tr>\n",
       "    <tr>\n",
       "      <th>4</th>\n",
       "      <td>cg12743894</td>\n",
       "      <td>11.0</td>\n",
       "      <td>30301513.0</td>\n",
       "      <td>C11orf46</td>\n",
       "      <td>120534.0</td>\n",
       "      <td>36.788184</td>\n",
       "      <td>-0.008387</td>\n",
       "      <td>No</td>\n",
       "      <td>No</td>\n",
       "      <td>cg12743894</td>\n",
       "      <td>36.788184</td>\n",
       "    </tr>\n",
       "  </tbody>\n",
       "</table>\n",
       "</div>"
      ],
      "text/plain": [
       "          CpG  Chromosome    Map Info Gene Symbol  Entrez ID     Weight  \\\n",
       "0   Intercept         NaN         NaN         NaN        NaN  60.664000   \n",
       "1  cg15611364         3.0  25806427.0        OXSM    54995.0  63.124150   \n",
       "2  cg17605084        12.0  53177758.0        HEM1     3071.0 -44.009393   \n",
       "3  cg26382071        17.0   6485627.0       TXNL5    84817.0  40.420854   \n",
       "4  cg12743894        11.0  30301513.0    C11orf46   120534.0  36.788184   \n",
       "\n",
       "   Univariate Age Correlation Horvath Overlap Hannum Overlap     feature  \\\n",
       "0                         NaN             NaN            NaN   Intercept   \n",
       "1                    0.003807              No             No  cg15611364   \n",
       "2                   -0.029169              No             No  cg17605084   \n",
       "3                    0.002997              No             No  cg26382071   \n",
       "4                   -0.008387              No             No  cg12743894   \n",
       "\n",
       "   coefficient  \n",
       "0    60.664000  \n",
       "1    63.124150  \n",
       "2   -44.009393  \n",
       "3    40.420854  \n",
       "4    36.788184  "
      ]
     },
     "execution_count": 5,
     "metadata": {},
     "output_type": "execute_result"
    }
   ],
   "source": [
    "df['feature'] = df['CpG']\n",
    "df['coefficient'] = df['Weight']\n",
    "\n",
    "df.head()"
   ]
  },
  {
   "cell_type": "markdown",
   "id": "5ac5b42a-3bd9-49d3-b84e-79d236af24b4",
   "metadata": {},
   "source": [
    "Then, let's create lists for features and weights. Be careful about the intercept, as it usually shows up as a feature name."
   ]
  },
  {
   "cell_type": "code",
   "execution_count": 6,
   "id": "2fc06bb5-7e9c-46fd-9843-31880f1d3788",
   "metadata": {},
   "outputs": [],
   "source": [
    "features = df['feature'][1:].tolist()\n",
    "weights = torch.tensor(df['coefficient'][1:].tolist()).unsqueeze(0).float()\n",
    "intercept = torch.tensor([df['coefficient'][0]]).float()"
   ]
  },
  {
   "cell_type": "markdown",
   "id": "d193ccbf-d06b-49bb-ad4b-ffe3271dea63",
   "metadata": {
    "jp-MarkdownHeadingCollapsed": true
   },
   "source": [
    "## Load weights into pyaging model"
   ]
  },
  {
   "cell_type": "markdown",
   "id": "4350119a-4bd4-4efa-85b5-9de70fdf496f",
   "metadata": {},
   "source": [
    "#### Linear model"
   ]
  },
  {
   "cell_type": "code",
   "execution_count": 7,
   "id": "7354c541-5af9-447d-a339-2cb88c253b41",
   "metadata": {},
   "outputs": [
    {
     "data": {
      "text/plain": [
       "LinearModel(\n",
       "  (linear): Linear(in_features=513, out_features=1, bias=True)\n",
       ")"
      ]
     },
     "execution_count": 7,
     "metadata": {},
     "output_type": "execute_result"
    }
   ],
   "source": [
    "model = pya.models.LinearModel(input_dim=len(features))\n",
    "\n",
    "model.linear.weight.data = weights\n",
    "model.linear.bias.data = intercept\n",
    "\n",
    "model"
   ]
  },
  {
   "cell_type": "markdown",
   "id": "06adc9d8-cec2-447d-8d0b-e2819d4c1a5b",
   "metadata": {},
   "source": [
    "## Add reference values"
   ]
  },
  {
   "cell_type": "markdown",
   "id": "80f8c4a0-b13d-43ea-b92b-84c3d947455e",
   "metadata": {},
   "source": [
    "Some clocks have reference values in the case of missing features. It is also possible that these values are for preprocessing features rather than the clock features. Let's add a dictionary with the feature names as the keys."
   ]
  },
  {
   "cell_type": "code",
   "execution_count": 8,
   "id": "250dd50d-a175-45f3-913b-da87c50cb55c",
   "metadata": {},
   "outputs": [],
   "source": [
    "reference_feature_values = None"
   ]
  },
  {
   "cell_type": "markdown",
   "id": "d2c0134b-a21a-45ef-8081-552ae80036fb",
   "metadata": {},
   "source": [
    "## Add preprocessing and postprocesssing steps"
   ]
  },
  {
   "cell_type": "markdown",
   "id": "ce617c7d-c467-40ee-a1a9-d0e3b2a17497",
   "metadata": {},
   "source": [
    "The preprocessing and postprocessing objects are dictionaries with the following format, with all items required. It takes in x in the form of a numpy array."
   ]
  },
  {
   "cell_type": "code",
   "execution_count": 9,
   "id": "1d173005-fb63-43d5-bd9f-0b4fa2e240b1",
   "metadata": {},
   "outputs": [],
   "source": [
    "preprocessing = None"
   ]
  },
  {
   "cell_type": "markdown",
   "id": "f1ca6821-b90d-47c6-936c-820932d65cc5",
   "metadata": {},
   "source": [
    "Similarly is the case of postprocessing. Remember that your function must be compatible with torch and is applied to each number individually."
   ]
  },
  {
   "cell_type": "code",
   "execution_count": 10,
   "id": "6fe37a2c-113a-4517-91e4-10a4e8b2005a",
   "metadata": {},
   "outputs": [],
   "source": [
    "postprocessing = None"
   ]
  },
  {
   "cell_type": "markdown",
   "id": "4d06b8f6-85a6-46c4-b524-de379eb5dac5",
   "metadata": {},
   "source": [
    "## Check all data objects"
   ]
  },
  {
   "cell_type": "markdown",
   "id": "832025bd-8215-4c5e-87f5-86b34ca6896a",
   "metadata": {},
   "source": [
    "Let's print all data objects to check if they make sense."
   ]
  },
  {
   "cell_type": "markdown",
   "id": "96fae39f-e96f-43b5-b205-6e996bdafd9b",
   "metadata": {},
   "source": [
    "#### features"
   ]
  },
  {
   "cell_type": "code",
   "execution_count": 11,
   "id": "bf047bed-52f0-4a64-9691-4c04df9f50ec",
   "metadata": {},
   "outputs": [
    {
     "data": {
      "text/html": [
       "\n",
       "    <div style=\"overflow-x: scroll; overflow-y: scroll; border: 1px solid black; background-color: white; !important; color: black; !important;\">\n",
       "        <pre>There are 513 features.\n",
       "['cg15611364', 'cg17605084', 'cg26382071', 'cg12743894', 'cg19287114', 'cg12985418', 'cg19398783', 'cg15963417', 'cg27187881', 'cg09892203', 'cg00943950', 'cg18996776', 'cg16340918', 'cg23832061', 'cg22736354', 'cg04084157', 'cg07265300', 'cg02503970', 'cg11426590', 'cg23710218', 'cg02802055', 'cg13631913', 'cg06493994', 'cg24304712', 'cg01131735', 'cg24208206', 'cg01930621', 'cg19104072', 'cg07850604', 'cg27493997', 'cg14281160', 'cg12247247', 'cg08331960', 'cg17726022', 'cg19722847', 'cg21801378', 'cg03977782', 'cg03929796', 'cg01254459', 'cg09548179', 'cg09556292', 'cg17896249', 'cg26091688', 'cg17009433', 'cg06690548', 'cg26815229', 'cg15447479', 'cg27015931', 'cg13550877', 'cg05492270', 'cg22594309', 'cg08896629', 'cg11237115', 'cg04736140', 'cg06533629', 'cg25881193', 'cg03535648', 'cg27367952', 'cg11600161', 'cg19345165', 'cg15881088', 'cg21296230', 'cg14175438', 'cg13409216', 'cg04424621', 'cg01137065', 'cg13656360', 'cg05316065', 'cg13509147', 'cg13449372', 'cg10654016', 'cg18693704', 'cg13218906', 'cg25428451', 'cg00462994', 'cg03340261', 'cg00261781', 'cg13514050', 'cg20066677', 'cg18267374', 'cg24407308', 'cg10636246', 'cg15569512', 'cg07817698', 'cg16854606', 'cg12265604', 'cg14689355', 'cg01651821', 'cg14159818', 'cg20162159', 'cg00230271', 'cg19008809', 'cg09809672', 'cg13994175', 'cg03172991', 'cg00194146', 'cg10225525', 'cg08487374', 'cg01450842', 'cg18117393', 'cg08067365', 'cg17038116', 'cg26665419', 'cg20173259', 'cg08899632', 'cg04528819', 'cg11177450', 'cg06908778', 'cg25092328', 'cg10922280', 'cg04836038', 'cg02229946', 'cg12269343', 'cg05294243', 'cg01211097', 'cg08529529', 'cg10158181', 'cg26357744', 'cg27655905', 'cg06189653', 'cg17641104', 'cg22495124', 'cg17129388', 'cg19556572', 'cg25136687', 'cg15344028', 'cg05270634', 'cg26866325', 'cg25256723', 'cg03112869', 'cg07929310', 'cg16085042', 'cg05759269', 'cg14754581', 'cg01221637', 'cg12261786', 'cg17133388', 'cg13120519', 'cg01441777', 'cg11233384', 'cg22971191', 'cg00845900', 'cg04007936', 'cg26212924', 'cg13042288', 'cg14473016', 'cg02976574', 'cg05851163', 'cg17526300', 'cg16173067', 'cg15811427', 'cg14916213', 'cg04014889', 'cg22947000', 'cg25769980', 'cg02228185', 'cg03565081', 'cg15966757', 'cg09480837', 'cg13564075', 'cg03991512', 'cg20761322', 'cg23376526', 'cg02631957', 'cg16933388', 'cg21099326', 'cg26096837', 'cg26394737', 'cg01519742', 'cg02016419', 'cg07654934', 'cg24125648', 'cg14747225', 'cg18003795', 'cg05087948', 'cg02151301', 'cg05532892', 'cg08035942', 'cg07484827', 'cg17749443', 'cg11631518', 'cg22396353', 'cg14223995', 'cg22582569', 'cg08169325', 'cg22512531', 'cg21207418', 'cg02154074', 'cg17940013', 'cg16648841', 'cg03724882', 'cg16313343', 'cg21137706', 'cg10523019', 'cg25459323', 'cg20967028', 'cg23124451', 'cg07494518', 'cg26104204', 'cg12238343', 'cg06327515', 'cg22991148', 'cg10052840', 'cg06134964', 'cg01626227', 'cg02309431', 'cg22511262', 'cg11903057', 'cg04718414', 'cg26201213', 'cg24674703', 'cg25229964', 'cg10878896', 'cg04416752', 'cg21120249', 'cg19586576', 'cg15551881', 'cg11833861', 'cg13700897', 'cg05473871', 'cg11487705', 'cg16354207', 'cg24921089', 'cg04169469', 'cg20090497', 'cg20550118', 'cg04601137', 'cg17536848', 'cg22282672', 'cg14423778', 'cg07236943', 'cg03387497', 'cg05125838', 'cg02735486', 'cg26824091', 'cg18691434', 'cg05228408', 'cg19615059', 'cg13296371', 'cg16718891', 'cg27514224', 'cg00410898', 'cg16543027', 'cg14350002', 'cg22407458', 'cg04480914', 'cg11459714', 'cg24493940', 'cg03819692', 'cg08668790', 'cg07180649', 'cg00515905', 'cg22473095', 'cg17324128', 'cg00113951', 'cg16408970', 'cg00412805', 'cg01400401', 'cg26581729', 'cg12473775', 'cg26109803', 'cg05442902', 'cg13351161', 'cg21200703', 'cg23191950', 'cg05089968', 'cg02071305', 'cg26746469', 'cg17770886', 'cg04755031', 'cg01623187', 'cg09322949', 'cg19514469', 'cg00687674', 'cg08475827', 'cg14918082', 'cg23818978', 'cg13975369', 'cg16295988', 'cg13323474', 'cg09304040', 'cg22580353', 'cg15903282', 'cg13718960', 'cg00955230', 'cg06144905', 'cg09413557', 'cg15856055', 'cg19685066', 'cg03258472', 'cg16743289', 'cg26932976', 'cg19883905', 'cg16713727', 'cg21835643', 'cg23668631', 'cg21006686', 'cg05441133', 'cg08587542', 'cg20572838', 'cg21081971', 'cg20492933', 'cg19731122', 'cg09851465', 'cg24505341', 'cg25536676', 'cg19663795', 'cg10917602', 'cg23234999', 'cg06958034', 'cg19439331', 'cg14550518', 'cg13854874', 'cg08586737', 'cg13307384', 'cg23152772', 'cg19560210', 'cg26711820', 'cg08900043', 'cg15013019', 'cg21907579', 'cg13656062', 'cg08694544', 'cg06638451', 'cg07211259', 'cg19297232', 'cg04087608', 'cg20652640', 'cg19378133', 'cg10570177', 'cg01252496', 'cg12177001', 'cg20891917', 'cg26022315', 'cg06994793', 'cg15427448', 'cg25713185', 'cg25251635', 'cg26898166', 'cg19028160', 'cg12145907', 'cg07073964', 'cg03007010', 'cg20828084', 'cg21926612', 'cg13571802', 'cg21762589', 'cg16612562', 'cg00350702', 'cg19686152', 'cg03703325', 'cg26614073', 'cg18881501', 'cg15171237', 'cg08654655', 'cg11490446', 'cg03623878', 'cg13258700', 'cg00297600', 'cg08074477', 'cg06637774', 'cg19632206', 'cg16357381', 'cg19149785', 'cg00335286', 'cg00412772', 'cg20234170', 'cg07038400', 'cg21712685', 'cg15498283', 'cg23127998', 'cg00582628', 'cg18001427', 'cg10669058', 'cg19573166', 'cg01946401', 'cg08872493', 'cg22484793', 'cg05440289', 'cg12188560', 'cg02480835', 'cg19356189', 'cg12402251', 'cg22179082', 'cg15201877', 'cg27626102', 'cg21649520', 'cg23213217', 'cg00744433', 'cg24556026', 'cg19724470', 'cg22809047', 'cg11896923', 'cg00168942', 'cg16984944', 'cg02197293', 'cg19566405', 'cg10591174', 'cg23338195', 'cg26350286', 'cg06295856', 'cg01335367', 'cg05898102', 'cg18392482', 'cg26312920', 'cg12813792', 'cg08424423', 'cg13510262', 'cg21363706', 'cg09254939', 'cg13899108', 'cg21184495', 'cg17627559', 'cg01261503', 'cg26219051', 'cg14009688', 'cg21993406', 'cg24110063', 'cg10900550', 'cg05422352', 'cg18384097', 'cg01511567', 'cg15489301', 'cg26394940', 'cg18241647', 'cg17966192', 'cg18732541', 'cg20570279', 'cg23239039', 'cg13654195', 'cg17431739', 'cg16816226', 'cg08251399', 'cg09799873', 'cg15887846', 'cg22194129', 'cg25898500', 'cg16372520', 'cg09096950', 'cg12864235', 'cg18809289', 'cg24651706', 'cg21201109', 'cg23568913', 'cg23159337', 'cg10795646', 'cg24332433', 'cg13861644', 'cg06171242', 'cg00338702', 'cg04818845', 'cg18468844', 'cg06975499', 'cg01128603', 'cg13119609', 'cg10667970', 'cg09404633', 'cg01918706', 'cg11618577', 'cg22983092', 'cg18771300', 'cg10202457', 'cg19371795', 'cg12991365', 'cg22090592', 'cg14972143', 'cg01056568', 'cg24505122', 'cg12324144', 'cg05697249', 'cg01459453', 'cg16728114', 'cg09196959', 'cg04359302', 'cg00862290', 'cg01114088', 'cg13613532', 'cg12289045', 'cg16466334', 'cg09630437', 'cg04333463', 'cg05501584', 'cg09294589', 'cg16319578', 'cg13460409', 'cg18587364', 'cg14105047', 'cg00079056', 'cg20674577', 'cg22197830', 'cg09045681', 'cg14467840', 'cg13587552', 'cg25022327', 'cg04616566', 'cg26842024', 'cg17903544', 'cg21053529', 'cg06363129', 'cg23173910', 'cg09434995', 'cg13843773', 'cg27440834', 'cg15642326', 'cg27244482', 'cg00083937', 'cg22395019', 'cg17923358', 'cg17861230', 'cg08212685', 'cg12373771', 'cg00503840', 'cg15381313']\n",
       "</pre>\n",
       "    </div>\n",
       "    "
      ],
      "text/plain": [
       "<IPython.core.display.HTML object>"
      ]
     },
     "metadata": {},
     "output_type": "display_data"
    }
   ],
   "source": [
    "def my_print_function():\n",
    "    print(f\"There are {len(features)} features.\")\n",
    "    print(features)\n",
    "pya.utils.print_to_scrollable_output(my_print_function)"
   ]
  },
  {
   "cell_type": "markdown",
   "id": "6c7490f4-abf1-4b87-a529-5eefe1c93a85",
   "metadata": {},
   "source": [
    "#### reference_feature_values"
   ]
  },
  {
   "cell_type": "code",
   "execution_count": 12,
   "id": "6436fd01-0a8e-41a5-b584-2c020136ff97",
   "metadata": {},
   "outputs": [
    {
     "data": {
      "text/html": [
       "\n",
       "    <div style=\"overflow-x: scroll; overflow-y: scroll; border: 1px solid black; background-color: white; !important; color: black; !important;\">\n",
       "        <pre>None\n",
       "</pre>\n",
       "    </div>\n",
       "    "
      ],
      "text/plain": [
       "<IPython.core.display.HTML object>"
      ]
     },
     "metadata": {},
     "output_type": "display_data"
    }
   ],
   "source": [
    "def my_print_function():\n",
    "    if reference_feature_values:\n",
    "        print(f\"There are {len(reference_feature_values)} reference feature values.\")\n",
    "    print(reference_feature_values)\n",
    "pya.utils.print_to_scrollable_output(my_print_function)"
   ]
  },
  {
   "cell_type": "markdown",
   "id": "45a0db16-f671-4bc6-8322-97ea1f313176",
   "metadata": {},
   "source": [
    "#### preprocessing"
   ]
  },
  {
   "cell_type": "code",
   "execution_count": 13,
   "id": "960c5ede-3175-4192-a358-bf5ccb41074f",
   "metadata": {},
   "outputs": [
    {
     "data": {
      "text/html": [
       "\n",
       "    <div style=\"overflow-x: scroll; overflow-y: scroll; border: 1px solid black; background-color: white; !important; color: black; !important;\">\n",
       "        <pre>None\n",
       "</pre>\n",
       "    </div>\n",
       "    "
      ],
      "text/plain": [
       "<IPython.core.display.HTML object>"
      ]
     },
     "metadata": {},
     "output_type": "display_data"
    }
   ],
   "source": [
    "def my_print_function():\n",
    "    print(preprocessing)\n",
    "    if preprocessing:\n",
    "        print(preprocessing_helper_objects)\n",
    "pya.utils.print_to_scrollable_output(my_print_function)"
   ]
  },
  {
   "cell_type": "markdown",
   "id": "1dc109ab-78c9-4c18-b3d6-2fbb62b8c26f",
   "metadata": {},
   "source": [
    "#### postprocessing"
   ]
  },
  {
   "cell_type": "code",
   "execution_count": 14,
   "id": "40fe1f52-ad50-4b84-89c7-c5d1d3fff139",
   "metadata": {},
   "outputs": [
    {
     "data": {
      "text/html": [
       "\n",
       "    <div style=\"overflow-x: scroll; overflow-y: scroll; border: 1px solid black; background-color: white; !important; color: black; !important;\">\n",
       "        <pre>None\n",
       "</pre>\n",
       "    </div>\n",
       "    "
      ],
      "text/plain": [
       "<IPython.core.display.HTML object>"
      ]
     },
     "metadata": {},
     "output_type": "display_data"
    }
   ],
   "source": [
    "def my_print_function():\n",
    "    print(postprocessing)\n",
    "    if postprocessing:\n",
    "        print(postprocessing)\n",
    "pya.utils.print_to_scrollable_output(my_print_function)"
   ]
  },
  {
   "cell_type": "markdown",
   "id": "77d05131-c794-4783-b1bd-971d98301d84",
   "metadata": {},
   "source": [
    "#### weight_dict"
   ]
  },
  {
   "cell_type": "code",
   "execution_count": 15,
   "id": "658317e5-44bd-4621-877c-5db57494c968",
   "metadata": {},
   "outputs": [
    {
     "data": {
      "text/html": [
       "\n",
       "    <div style=\"overflow-x: scroll; overflow-y: scroll; border: 1px solid black; background-color: white; !important; color: black; !important;\">\n",
       "        <pre>Layer: linear.weight\n",
       "Shape: torch.Size([1, 513])\n",
       "tensor([[ 6.3124e+01, -4.4009e+01,  4.0421e+01,  3.6788e+01, -3.6494e+01,\n",
       "         -3.5900e+01,  3.5833e+01, -3.4698e+01, -3.3546e+01, -3.3482e+01,\n",
       "          3.3477e+01,  3.3051e+01,  3.2147e+01, -3.1902e+01,  3.1842e+01,\n",
       "          3.1622e+01,  2.8398e+01,  2.5585e+01, -2.4786e+01,  2.4159e+01,\n",
       "         -2.4117e+01,  2.3838e+01,  2.3372e+01,  2.3300e+01, -2.2915e+01,\n",
       "          2.2541e+01, -2.1788e+01, -2.1599e+01,  2.1310e+01, -2.1201e+01,\n",
       "          2.1111e+01, -2.0753e+01, -2.0707e+01,  2.0188e+01, -2.0146e+01,\n",
       "          1.9620e+01,  1.9452e+01, -1.9410e+01,  1.9184e+01, -1.9032e+01,\n",
       "         -1.8619e+01,  1.8010e+01, -1.7949e+01,  1.7316e+01, -1.7312e+01,\n",
       "         -1.7147e+01,  1.7063e+01, -1.6805e+01, -1.6790e+01, -1.6731e+01,\n",
       "          1.6635e+01, -1.6304e+01, -1.6243e+01, -1.6118e+01,  1.6056e+01,\n",
       "         -1.5999e+01, -1.5951e+01, -1.5824e+01, -1.5572e+01, -1.5256e+01,\n",
       "         -1.5218e+01,  1.5065e+01, -1.4952e+01, -1.4486e+01, -1.4448e+01,\n",
       "          1.4374e+01,  1.4364e+01, -1.4229e+01,  1.4221e+01, -1.4121e+01,\n",
       "          1.3839e+01, -1.3810e+01, -1.3681e+01, -1.3657e+01,  1.3587e+01,\n",
       "          1.3574e+01,  1.3399e+01, -1.3341e+01,  1.3327e+01,  1.3326e+01,\n",
       "         -1.2955e+01, -1.2955e+01, -1.2951e+01,  1.2909e+01,  1.2745e+01,\n",
       "          1.2678e+01, -1.2600e+01,  1.2435e+01, -1.2181e+01, -1.2180e+01,\n",
       "         -1.2155e+01,  1.2120e+01, -1.2099e+01,  1.2079e+01, -1.1969e+01,\n",
       "         -1.1886e+01,  1.1811e+01,  1.1673e+01, -1.1654e+01,  1.1532e+01,\n",
       "         -1.1520e+01, -1.1166e+01, -1.1154e+01,  1.1114e+01,  1.1084e+01,\n",
       "          1.1073e+01, -1.0947e+01,  1.0865e+01,  1.0801e+01,  1.0790e+01,\n",
       "          1.0655e+01,  1.0512e+01,  1.0458e+01,  1.0434e+01, -1.0275e+01,\n",
       "         -1.0227e+01, -1.0188e+01, -1.0002e+01,  9.9504e+00, -9.9286e+00,\n",
       "         -9.9261e+00,  9.7724e+00,  9.6796e+00,  9.5679e+00, -9.5221e+00,\n",
       "         -9.5042e+00,  9.4587e+00,  9.3729e+00, -9.3685e+00,  9.3100e+00,\n",
       "         -9.2678e+00, -9.0581e+00, -9.0472e+00,  8.9045e+00, -8.8386e+00,\n",
       "         -8.8001e+00, -8.7867e+00, -8.7616e+00, -8.7417e+00, -8.7022e+00,\n",
       "          8.6139e+00, -8.5894e+00, -8.4411e+00, -8.2695e+00, -8.1608e+00,\n",
       "         -8.1461e+00,  8.0575e+00, -8.0565e+00,  8.0383e+00,  8.0128e+00,\n",
       "         -8.0093e+00,  7.9817e+00, -7.9246e+00, -7.8726e+00, -7.8088e+00,\n",
       "         -7.7853e+00,  7.7630e+00, -7.7464e+00, -7.7418e+00, -7.6521e+00,\n",
       "         -7.6043e+00,  7.4733e+00, -7.4709e+00, -7.4355e+00,  7.4163e+00,\n",
       "         -7.3193e+00,  7.2691e+00,  7.2593e+00,  7.2476e+00,  7.2470e+00,\n",
       "         -7.1834e+00,  7.1202e+00,  7.0248e+00, -6.9939e+00, -6.9912e+00,\n",
       "         -6.9625e+00,  6.7295e+00, -6.5899e+00,  6.5815e+00,  6.4686e+00,\n",
       "          6.4615e+00,  6.4288e+00, -6.4097e+00,  6.3523e+00, -6.3228e+00,\n",
       "          6.2796e+00,  6.2688e+00,  6.1990e+00, -6.1952e+00,  6.0976e+00,\n",
       "          6.0806e+00,  6.0239e+00, -5.9833e+00,  5.9416e+00, -5.9005e+00,\n",
       "          5.8513e+00, -5.8049e+00, -5.7941e+00, -5.7681e+00,  5.7498e+00,\n",
       "          5.7166e+00, -5.6815e+00, -5.6747e+00,  5.6427e+00, -5.6407e+00,\n",
       "         -5.6099e+00,  5.5676e+00,  5.5253e+00, -5.4526e+00,  5.4463e+00,\n",
       "          5.4180e+00,  5.4107e+00,  5.3408e+00, -5.3383e+00, -5.2869e+00,\n",
       "          5.2859e+00,  5.2161e+00, -5.2101e+00, -5.2032e+00, -5.1560e+00,\n",
       "         -5.0627e+00, -4.9906e+00, -4.9864e+00,  4.9269e+00,  4.8740e+00,\n",
       "         -4.8523e+00, -4.8475e+00, -4.8337e+00,  4.8137e+00, -4.7956e+00,\n",
       "          4.6845e+00,  4.6300e+00, -4.6026e+00,  4.5948e+00,  4.5869e+00,\n",
       "          4.5440e+00, -4.4943e+00,  4.4926e+00,  4.4571e+00, -4.4103e+00,\n",
       "         -4.3910e+00, -4.3031e+00, -4.2850e+00, -4.2338e+00,  4.2325e+00,\n",
       "         -4.2156e+00, -4.2130e+00, -4.2021e+00,  4.1452e+00,  4.1121e+00,\n",
       "         -4.1060e+00, -4.1033e+00,  4.0440e+00, -4.0439e+00,  4.0267e+00,\n",
       "          4.0240e+00,  4.0168e+00,  4.0096e+00, -3.9988e+00, -3.9947e+00,\n",
       "         -3.9846e+00, -3.9661e+00, -3.9608e+00,  3.9592e+00,  3.9585e+00,\n",
       "         -3.9116e+00, -3.8864e+00,  3.8661e+00,  3.8277e+00,  3.8172e+00,\n",
       "         -3.8063e+00,  3.7842e+00,  3.7751e+00,  3.7577e+00,  3.7027e+00,\n",
       "          3.6082e+00,  3.6037e+00,  3.5831e+00,  3.5583e+00,  3.5522e+00,\n",
       "          3.5484e+00,  3.4853e+00, -3.4735e+00,  3.4687e+00,  3.4179e+00,\n",
       "          3.4135e+00, -3.4030e+00,  3.3754e+00,  3.3313e+00, -3.3018e+00,\n",
       "          3.2657e+00, -3.2591e+00, -3.2189e+00,  3.1880e+00,  3.1590e+00,\n",
       "         -3.1546e+00,  3.1528e+00,  3.1038e+00, -3.0640e+00,  3.0627e+00,\n",
       "         -2.9702e+00,  2.9476e+00,  2.9143e+00,  2.8799e+00,  2.8412e+00,\n",
       "         -2.8376e+00, -2.8276e+00, -2.8153e+00,  2.7897e+00,  2.7881e+00,\n",
       "          2.7579e+00, -2.7324e+00,  2.7055e+00,  2.6962e+00,  2.5836e+00,\n",
       "          2.5807e+00,  2.5602e+00,  2.5584e+00,  2.5368e+00, -2.5333e+00,\n",
       "          2.4976e+00,  2.4843e+00,  2.4815e+00,  2.4797e+00, -2.4236e+00,\n",
       "         -2.4037e+00,  2.3831e+00, -2.3760e+00,  2.3743e+00,  2.3588e+00,\n",
       "          2.3490e+00,  2.3369e+00,  2.2968e+00, -2.2709e+00,  2.2646e+00,\n",
       "          2.2618e+00,  2.2560e+00,  2.2486e+00, -2.2445e+00, -2.2429e+00,\n",
       "          2.2272e+00, -2.2166e+00, -2.2022e+00,  2.1938e+00, -2.1516e+00,\n",
       "         -2.1232e+00,  2.1169e+00,  2.0809e+00,  2.0720e+00, -2.0667e+00,\n",
       "          2.0576e+00, -2.0265e+00, -2.0221e+00, -1.9815e+00,  1.9737e+00,\n",
       "          1.9614e+00,  1.9438e+00,  1.9354e+00,  1.9087e+00,  1.9027e+00,\n",
       "          1.8934e+00,  1.8909e+00, -1.8805e+00, -1.8751e+00,  1.8554e+00,\n",
       "          1.8441e+00,  1.8290e+00,  1.7787e+00, -1.7654e+00,  1.7436e+00,\n",
       "          1.6860e+00, -1.6782e+00, -1.6497e+00, -1.6492e+00, -1.6453e+00,\n",
       "         -1.5524e+00,  1.5482e+00,  1.5473e+00,  1.5472e+00, -1.5466e+00,\n",
       "          1.5311e+00, -1.5284e+00,  1.5095e+00, -1.5091e+00,  1.4671e+00,\n",
       "         -1.4657e+00, -1.4620e+00,  1.4481e+00, -1.4114e+00,  1.4108e+00,\n",
       "         -1.3991e+00,  1.3775e+00, -1.3759e+00, -1.3752e+00, -1.3600e+00,\n",
       "          1.3265e+00,  1.2863e+00, -1.2802e+00,  1.2644e+00, -1.2612e+00,\n",
       "          1.2513e+00,  1.2111e+00,  1.2020e+00, -1.1964e+00, -1.1828e+00,\n",
       "          1.1820e+00, -1.1568e+00,  1.1467e+00,  1.1405e+00, -1.1151e+00,\n",
       "          1.1125e+00, -1.1027e+00,  1.0691e+00,  1.0475e+00,  1.0466e+00,\n",
       "          1.0417e+00,  1.0176e+00, -1.0124e+00, -9.9340e-01,  9.6564e-01,\n",
       "         -9.6041e-01, -9.5566e-01, -9.2547e-01, -8.5220e-01,  8.3349e-01,\n",
       "         -8.1430e-01,  7.9761e-01, -7.9059e-01,  7.7455e-01, -7.6467e-01,\n",
       "         -7.6254e-01, -7.6106e-01,  7.5504e-01, -7.5065e-01, -7.4290e-01,\n",
       "          7.2727e-01, -7.2502e-01,  7.1059e-01,  6.8463e-01,  6.5530e-01,\n",
       "          6.5358e-01,  6.5343e-01,  6.4807e-01, -6.4498e-01, -6.3221e-01,\n",
       "         -6.3016e-01,  6.1773e-01,  5.8838e-01,  5.7387e-01,  5.3413e-01,\n",
       "          5.3006e-01, -5.1441e-01, -5.0878e-01, -4.9918e-01, -4.9780e-01,\n",
       "         -4.9414e-01, -4.8176e-01,  4.8113e-01,  4.5591e-01,  4.3440e-01,\n",
       "         -4.3053e-01, -4.1971e-01,  4.0223e-01, -3.9952e-01, -3.8718e-01,\n",
       "          3.8531e-01, -3.2610e-01,  3.0755e-01,  2.9960e-01, -2.9718e-01,\n",
       "         -2.9480e-01,  2.7580e-01,  2.6032e-01,  2.5579e-01, -2.3377e-01,\n",
       "         -2.2661e-01,  2.1021e-01,  2.0538e-01,  1.6669e-01,  1.6536e-01,\n",
       "          1.6499e-01, -1.6458e-01, -1.5780e-01,  1.5528e-01,  1.4882e-01,\n",
       "         -1.3773e-01,  1.3737e-01,  1.2282e-01, -1.2053e-01, -1.1797e-01,\n",
       "          1.1706e-01,  1.1618e-01, -9.6960e-02, -8.5881e-02,  6.8532e-02,\n",
       "          6.3835e-02,  5.8590e-02, -5.2460e-02, -4.7795e-02, -4.7747e-02,\n",
       "          4.4078e-02,  4.3586e-02,  3.3980e-02,  3.2503e-02, -3.1981e-02,\n",
       "          3.0577e-02,  2.7495e-02,  2.4808e-02,  2.3738e-02,  1.2944e-02,\n",
       "          1.0527e-02,  2.6796e-03,  2.0788e-03]])\n",
       "Layer: linear.bias\n",
       "Shape: torch.Size([1])\n",
       "tensor([60.6640])\n",
       "</pre>\n",
       "    </div>\n",
       "    "
      ],
      "text/plain": [
       "<IPython.core.display.HTML object>"
      ]
     },
     "metadata": {},
     "output_type": "display_data"
    }
   ],
   "source": [
    "def my_print_function():\n",
    "    for name, param in model.named_parameters():\n",
    "        print(f\"Layer: {name}\")\n",
    "        print(f\"Shape: {param.shape}\")\n",
    "        print(param.data)\n",
    "pya.utils.print_to_scrollable_output(my_print_function)"
   ]
  },
  {
   "cell_type": "markdown",
   "id": "d63a5d92-ecfc-430a-aab6-16907cf91cf8",
   "metadata": {},
   "source": [
    "## Write clock dictionary"
   ]
  },
  {
   "cell_type": "markdown",
   "id": "3b176620-afb5-403c-9948-07639072bb44",
   "metadata": {},
   "source": [
    "Let's put everything together and save:"
   ]
  },
  {
   "cell_type": "code",
   "execution_count": 16,
   "id": "35d00b76-513d-4d8f-8824-6d810ee9d8f5",
   "metadata": {},
   "outputs": [],
   "source": [
    "clock_dict = {\n",
    "    # Metadata\n",
    "    'clock_name': clock_name,\n",
    "    'data_type': data_type,\n",
    "    'model_class': model_class,\n",
    "    'species': species,\n",
    "    'year': year,\n",
    "    'approved_by_author': approved_by_author,\n",
    "    'citation': citation,\n",
    "    'doi': doi,\n",
    "    \"notes\": notes,\n",
    "\n",
    "    # Data\n",
    "    'reference_feature_values': reference_feature_values if reference_feature_values else None,\n",
    "    'preprocessing': preprocessing if preprocessing else None, \n",
    "    'features': features,\n",
    "    'weight_dict': model.state_dict(),\n",
    "    'postprocessing': postprocessing if postprocessing else None,\n",
    "}\n",
    "\n",
    "torch.save(clock_dict, f'../weights/{clock_name}.pt')"
   ]
  },
  {
   "cell_type": "markdown",
   "id": "c1dd2efe-2bd6-4e1b-92ee-d110c25ad29c",
   "metadata": {},
   "source": [
    "## Clear directory"
   ]
  },
  {
   "cell_type": "markdown",
   "id": "158aa71f-7bbc-4c52-b7ef-16ba45d5e1fd",
   "metadata": {},
   "source": [
    "Delete all files that are not clock jupyter notebooks:"
   ]
  },
  {
   "cell_type": "code",
   "execution_count": 17,
   "id": "db4bd42b-c62f-4557-9ebc-d8194a240137",
   "metadata": {},
   "outputs": [
    {
     "name": "stdout",
     "output_type": "stream",
     "text": [
      "Deleted file: coefficients.csv\n",
      "Deleted folder: .ipynb_checkpoints\n"
     ]
    }
   ],
   "source": [
    "# Function to remove a folder and all its contents\n",
    "def remove_folder(path):\n",
    "    try:\n",
    "        shutil.rmtree(path)\n",
    "        print(f\"Deleted folder: {path}\")\n",
    "    except Exception as e:\n",
    "        print(f\"Error deleting folder {path}: {e}\")\n",
    "\n",
    "# Get a list of all files and folders in the current directory\n",
    "all_items = os.listdir('.')\n",
    "\n",
    "# Loop through the items\n",
    "for item in all_items:\n",
    "    # Check if it's a file and does not end with .ipynb\n",
    "    if os.path.isfile(item) and not item.endswith('.ipynb'):\n",
    "        os.remove(item)\n",
    "        print(f\"Deleted file: {item}\")\n",
    "    # Check if it's a folder\n",
    "    elif os.path.isdir(item):\n",
    "        remove_folder(item)"
   ]
  }
 ],
 "metadata": {
  "kernelspec": {
   "display_name": "Python 3",
   "language": "python",
   "name": "python3"
  },
  "language_info": {
   "codemirror_mode": {
    "name": "ipython",
    "version": 3
   },
   "file_extension": ".py",
   "mimetype": "text/x-python",
   "name": "python",
   "nbconvert_exporter": "python",
   "pygments_lexer": "ipython3",
   "version": "3.9.17"
  }
 },
 "nbformat": 4,
 "nbformat_minor": 5
}

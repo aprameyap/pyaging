{
 "cells": [
  {
   "cell_type": "markdown",
   "id": "2f04eee0-5928-4e74-a754-6dc2e528810c",
   "metadata": {},
   "source": [
    "# CamilloH3K9me3"
   ]
  },
  {
   "cell_type": "markdown",
   "id": "a3f514a3-772c-4a14-afdf-5a8376851ff4",
   "metadata": {},
   "source": [
    "## Index\n",
    "1. [Define required clock parameters](#Define-required-clock-parameters)\n",
    "2. [Download necessary data](#Download-necessary-data)\n",
    "3. [Load data](#-Load-data)\n",
    "4. [Extract features and weights](#Extract-features-and-weights)\n",
    "5. [Load weights into pyaging model](#Load-weights-into-pyaging-model)\n",
    "6. [Add reference values](#Add-reference-values)\n",
    "7. [Add preprocessing and postprocesssing steps](#Add-preprocessing-and-postprocesssing-steps)\n",
    "8. [Check all data objects](#Check-all-data-objects)\n",
    "9. [Write clock dictionary](#Write-clock-dictionary)\n",
    "10. [Clear directory](#Clear-directory)"
   ]
  },
  {
   "cell_type": "markdown",
   "id": "d95fafdc-643a-40ea-a689-200bd132e90c",
   "metadata": {},
   "source": [
    "Let's first import some packages:"
   ]
  },
  {
   "cell_type": "code",
   "execution_count": 1,
   "id": "4adfb4de-cd79-4913-a1af-9e23e9e236c9",
   "metadata": {},
   "outputs": [],
   "source": [
    "import os\n",
    "import marshal\n",
    "import shutil\n",
    "import json\n",
    "import torch\n",
    "import pandas as pd\n",
    "import pyaging as pya\n",
    "import joblib\n",
    "import numpy as np"
   ]
  },
  {
   "cell_type": "markdown",
   "id": "c8c0c937-d9b6-4756-99b0-91de591220e0",
   "metadata": {},
   "source": [
    "## Define required clock parameters"
   ]
  },
  {
   "cell_type": "markdown",
   "id": "cf95ddca-625e-4c70-a246-c3cb12df96f8",
   "metadata": {},
   "source": [
    "Let's define some required information first:"
   ]
  },
  {
   "cell_type": "code",
   "execution_count": 2,
   "id": "5281776d-0549-445f-beec-39c31ec7dbe1",
   "metadata": {},
   "outputs": [],
   "source": [
    "clock_name = 'camilloh3k9me3'\n",
    "data_type = 'histone mark'\n",
    "model_class = 'PCLinearModel'\n",
    "species = 'Homo sapiens'\n",
    "year = 2023\n",
    "approved_by_author = '✅'\n",
    "citation = \"de Lima Camillo, Lucas Paulo, et al. \\\"Histone mark age of human tissues and cells.\\\" bioRxiv (2023): 2023-08.\"\n",
    "doi = 'https://doi.org/10.1101/2023.08.21.554165'\n",
    "notes = \"This is still a preprint, so the model might change\""
   ]
  },
  {
   "cell_type": "markdown",
   "id": "4520c8cb-6c1f-4490-ba4c-6fe78ef002a7",
   "metadata": {},
   "source": [
    "## Download necessary data"
   ]
  },
  {
   "cell_type": "markdown",
   "id": "4ccae25e-7d7f-45da-8e8a-064a66dc52fa",
   "metadata": {},
   "source": [
    "#### Download GitHub repository"
   ]
  },
  {
   "cell_type": "code",
   "execution_count": 3,
   "id": "a2a5b60e-ff7f-4b24-b1c6-61cda8948310",
   "metadata": {},
   "outputs": [
    {
     "data": {
      "text/plain": [
       "0"
      ]
     },
     "execution_count": 3,
     "metadata": {},
     "output_type": "execute_result"
    }
   ],
   "source": [
    "github_url = \"https://github.com/rsinghlab/HistoneClocks.git\"\n",
    "github_folder_name = github_url.split('/')[-1].split('.')[0]\n",
    "os.system(f\"git clone {github_url}\")"
   ]
  },
  {
   "cell_type": "markdown",
   "id": "35615b62-73ac-40b1-8bc1-e904403eb0ae",
   "metadata": {
    "jp-MarkdownHeadingCollapsed": true
   },
   "source": [
    "## Load data"
   ]
  },
  {
   "cell_type": "code",
   "execution_count": 4,
   "id": "af387efd-4c94-48d4-8e5c-d72f548244cf",
   "metadata": {},
   "outputs": [
    {
     "name": "stderr",
     "output_type": "stream",
     "text": [
      "/Users/lucascamillo/mambaforge/envs/brain/lib/python3.9/site-packages/sklearn/base.py:348: InconsistentVersionWarning: Trying to unpickle estimator ElasticNet from version 1.0.1 when using version 1.3.2. This might lead to breaking code or invalid results. Use at your own risk. For more info please refer to:\n",
      "https://scikit-learn.org/stable/model_persistence.html#security-maintainability-limitations\n",
      "  warnings.warn(\n",
      "/Users/lucascamillo/mambaforge/envs/brain/lib/python3.9/site-packages/sklearn/base.py:348: InconsistentVersionWarning: Trying to unpickle estimator TruncatedSVD from version 1.0.1 when using version 1.3.2. This might lead to breaking code or invalid results. Use at your own risk. For more info please refer to:\n",
      "https://scikit-learn.org/stable/model_persistence.html#security-maintainability-limitations\n",
      "  warnings.warn(\n",
      "/Users/lucascamillo/mambaforge/envs/brain/lib/python3.9/site-packages/sklearn/base.py:348: InconsistentVersionWarning: Trying to unpickle estimator ARDRegression from version 1.0.1 when using version 1.3.2. This might lead to breaking code or invalid results. Use at your own risk. For more info please refer to:\n",
      "https://scikit-learn.org/stable/model_persistence.html#security-maintainability-limitations\n",
      "  warnings.warn(\n"
     ]
    }
   ],
   "source": [
    "histone = 'H3K9me3'\n",
    "\n",
    "feature_selector_path = 'HistoneClocks/results/models/' + histone + '_feature_selector.pkl'\n",
    "feature_selector = joblib.load(feature_selector_path)\n",
    "\n",
    "dim_reduction_path = 'HistoneClocks/results/models/' + histone + '_dim_reduction.pkl'\n",
    "dim_reduction = joblib.load(dim_reduction_path)\n",
    "\n",
    "ard_model_path = 'HistoneClocks/results/models/' + histone + '_model.pkl'\n",
    "ard_model = joblib.load(ard_model_path)\n",
    "\n",
    "genes = pd.read_csv('HistoneClocks/metadata/Ensembl-105-EnsDb-for-Homo-sapiens-genes.csv')"
   ]
  },
  {
   "cell_type": "markdown",
   "id": "60c676db-2c7c-4c04-9457-97bccd598269",
   "metadata": {
    "jp-MarkdownHeadingCollapsed": true
   },
   "source": [
    "## Extract features and weights"
   ]
  },
  {
   "cell_type": "markdown",
   "id": "5ac5b42a-3bd9-49d3-b84e-79d236af24b4",
   "metadata": {},
   "source": [
    "Then, let's create lists for features and weights. Be careful about the intercept, as it usually shows up as a feature name."
   ]
  },
  {
   "cell_type": "code",
   "execution_count": 5,
   "id": "2fc06bb5-7e9c-46fd-9843-31880f1d3788",
   "metadata": {},
   "outputs": [],
   "source": [
    "chromosomes = ['1', '10', '11', '12', '13', '14', '15', '16', '17', '18', '19', '2', '20', '21', '22', '3', '4', '5', '6', '7', '8', '9', 'X']\n",
    "genes = genes[genes['chr'].apply(lambda x: x in chromosomes)]\n",
    "genes.index = genes.gene_id\n",
    "features = genes.gene_id[np.abs(feature_selector.coef_) > 0].tolist()\n",
    "\n",
    "weights = torch.tensor(ard_model.coef_).float()\n",
    "intercept = torch.tensor([ard_model.intercept_]).float()\n",
    "rotation = torch.tensor(dim_reduction.components_.T).float()\n",
    "center = rotation[0,:]"
   ]
  },
  {
   "cell_type": "code",
   "execution_count": 6,
   "id": "785c6f12-8f2d-4c6f-996e-aa3d3033330a",
   "metadata": {},
   "outputs": [
    {
     "data": {
      "text/plain": [
       "torch.Size([341, 247])"
      ]
     },
     "execution_count": 6,
     "metadata": {},
     "output_type": "execute_result"
    }
   ],
   "source": [
    "rotation.shape"
   ]
  },
  {
   "cell_type": "markdown",
   "id": "d193ccbf-d06b-49bb-ad4b-ffe3271dea63",
   "metadata": {
    "jp-MarkdownHeadingCollapsed": true
   },
   "source": [
    "## Load weights into pyaging model"
   ]
  },
  {
   "cell_type": "markdown",
   "id": "9b9f4e65-3423-4fae-bde5-5039b2dcab3e",
   "metadata": {},
   "source": [
    "#### PC linear model"
   ]
  },
  {
   "cell_type": "code",
   "execution_count": 7,
   "id": "eb6f898d-80ce-4e14-b724-9f6e05fb9371",
   "metadata": {},
   "outputs": [],
   "source": [
    "model = pya.models.PCLinearModel(input_dim=len(features), pc_dim=rotation.shape[1])\n",
    "\n",
    "model.center.data = torch.zeros((len(features))).float()\n",
    "model.rotation.data = rotation.float()\n",
    "model.linear.weight.data = weights.unsqueeze(0).float()\n",
    "model.linear.bias.data = intercept.float()"
   ]
  },
  {
   "cell_type": "markdown",
   "id": "06adc9d8-cec2-447d-8d0b-e2819d4c1a5b",
   "metadata": {
    "jp-MarkdownHeadingCollapsed": true
   },
   "source": [
    "## Add reference values"
   ]
  },
  {
   "cell_type": "markdown",
   "id": "84bf0205-f976-497b-a6a9-e4945c05cdb3",
   "metadata": {},
   "source": [
    "Some clocks have reference values in the case of missing features. It is also possible that these values are for preprocessing features rather than the clock features. Let's add a dictionary with the feature names as the keys."
   ]
  },
  {
   "cell_type": "code",
   "execution_count": 8,
   "id": "250dd50d-a175-45f3-913b-da87c50cb55c",
   "metadata": {},
   "outputs": [],
   "source": [
    "reference_feature_values = None"
   ]
  },
  {
   "cell_type": "markdown",
   "id": "c9b4fd10-797c-45bd-aa1a-65aed1deaf1c",
   "metadata": {},
   "source": [
    "## Add preprocessing and postprocesssing steps"
   ]
  },
  {
   "cell_type": "markdown",
   "id": "20649dc9-2b58-4c63-a48e-f8d7a4bb520b",
   "metadata": {},
   "source": [
    "The preprocessing and postprocessing objects are dictionaries with the following format, with all items required. It takes in x in the form of a numpy array."
   ]
  },
  {
   "cell_type": "code",
   "execution_count": 9,
   "id": "1d173005-fb63-43d5-bd9f-0b4fa2e240b1",
   "metadata": {},
   "outputs": [],
   "source": [
    "preprocessing = None"
   ]
  },
  {
   "cell_type": "markdown",
   "id": "3ca747b4-0214-40a1-a7bf-fbf2a71084af",
   "metadata": {},
   "source": [
    "Similarly is the case of postprocessing. Remember that your function must be compatible with torch and is applied to each number individually."
   ]
  },
  {
   "cell_type": "code",
   "execution_count": 10,
   "id": "6fe37a2c-113a-4517-91e4-10a4e8b2005a",
   "metadata": {},
   "outputs": [],
   "source": [
    "postprocessing = None"
   ]
  },
  {
   "cell_type": "markdown",
   "id": "3bfe0bee-2992-4206-9de1-8f7667685efc",
   "metadata": {},
   "source": [
    "## Check all data objects"
   ]
  },
  {
   "cell_type": "markdown",
   "id": "ffb82ce7-9218-4d77-837e-a9ed9e75bcd0",
   "metadata": {},
   "source": [
    "Let's print all data objects to check if they make sense."
   ]
  },
  {
   "cell_type": "markdown",
   "id": "d8c3bfc2-204c-48c7-a6f9-972d6d8a1dc0",
   "metadata": {},
   "source": [
    "#### features"
   ]
  },
  {
   "cell_type": "code",
   "execution_count": 11,
   "id": "bf047bed-52f0-4a64-9691-4c04df9f50ec",
   "metadata": {
    "scrolled": true
   },
   "outputs": [
    {
     "data": {
      "text/html": [
       "\n",
       "    <div style=\"overflow-x: scroll; overflow-y: scroll; border: 1px solid black; background-color: white; !important; color: black; !important;\">\n",
       "        <pre>There are 341 features.\n",
       "['ENSG00000285833', 'ENSG00000200796', 'ENSG00000229687', 'ENSG00000238653', 'ENSG00000173810', 'ENSG00000270976', 'ENSG00000273727', 'ENSG00000206980', 'ENSG00000212292', 'ENSG00000222457', 'ENSG00000249197', 'ENSG00000200327', 'ENSG00000252552', 'ENSG00000226565', 'ENSG00000221673', 'ENSG00000283881', 'ENSG00000283699', 'ENSG00000199222', 'ENSG00000272319', 'ENSG00000272387', 'ENSG00000224162', 'ENSG00000221594', 'ENSG00000232142', 'ENSG00000272627', 'ENSG00000201954', 'ENSG00000200728', 'ENSG00000266676', 'ENSG00000241008', 'ENSG00000240298', 'ENSG00000201591', 'ENSG00000254804', 'ENSG00000167825', 'ENSG00000174957', 'ENSG00000213604', 'ENSG00000274544', 'ENSG00000276788', 'ENSG00000222477', 'ENSG00000207113', 'ENSG00000256752', 'ENSG00000280773', 'ENSG00000278640', 'ENSG00000272186', 'ENSG00000200879', 'ENSG00000222297', 'ENSG00000256171', 'ENSG00000223042', 'ENSG00000207026', 'ENSG00000256614', 'ENSG00000258368', 'ENSG00000258816', 'ENSG00000212383', 'ENSG00000252770', 'ENSG00000258091', 'ENSG00000258193', 'ENSG00000201502', 'ENSG00000201324', 'ENSG00000273700', 'ENSG00000280444', 'ENSG00000279466', 'ENSG00000252287', 'ENSG00000237175', 'ENSG00000207458', 'ENSG00000234590', 'ENSG00000229824', 'ENSG00000202433', 'ENSG00000233460', 'ENSG00000251715', 'ENSG00000224686', 'ENSG00000252496', 'ENSG00000252696', 'ENSG00000252508', 'ENSG00000226977', 'ENSG00000265164', 'ENSG00000201690', 'ENSG00000278698', 'ENSG00000201161', 'ENSG00000200072', 'ENSG00000258076', 'ENSG00000257558', 'ENSG00000211854', 'ENSG00000211872', 'ENSG00000222931', 'ENSG00000258387', 'ENSG00000207366', 'ENSG00000241891', 'ENSG00000197406', 'ENSG00000265612', 'ENSG00000242472', 'ENSG00000242887', 'ENSG00000211912', 'ENSG00000253387', 'ENSG00000289598', 'ENSG00000253345', 'ENSG00000253240', 'ENSG00000253294', 'ENSG00000253465', 'ENSG00000253862', 'ENSG00000254167', 'ENSG00000254329', 'ENSG00000254176', 'ENSG00000253247', 'ENSG00000265929', 'ENSG00000207001', 'ENSG00000207014', 'ENSG00000207191', 'ENSG00000200661', 'ENSG00000206656', 'ENSG00000277785', 'ENSG00000200680', 'ENSG00000201482', 'ENSG00000199489', 'ENSG00000207702', 'ENSG00000265102', 'ENSG00000243122', 'ENSG00000201086', 'ENSG00000283249', 'ENSG00000261102', 'ENSG00000260674', 'ENSG00000207150', 'ENSG00000258540', 'ENSG00000258632', 'ENSG00000278146', 'ENSG00000283372', 'ENSG00000262118', 'ENSG00000273776', 'ENSG00000237140', 'ENSG00000212382', 'ENSG00000261197', 'ENSG00000259987', 'ENSG00000278681', 'ENSG00000260153', 'ENSG00000260522', 'ENSG00000222207', 'ENSG00000252182', 'ENSG00000252268', 'ENSG00000261515', 'ENSG00000260659', 'ENSG00000235554', 'ENSG00000252349', 'ENSG00000263483', 'ENSG00000240873', 'ENSG00000276014', 'ENSG00000199293', 'ENSG00000265428', 'ENSG00000207019', 'ENSG00000225253', 'ENSG00000202468', 'ENSG00000263354', 'ENSG00000264040', 'ENSG00000283452', 'ENSG00000266204', 'ENSG00000212497', 'ENSG00000270402', 'ENSG00000268070', 'ENSG00000238517', 'ENSG00000271182', 'ENSG00000269136', 'ENSG00000279377', 'ENSG00000269505', 'ENSG00000269364', 'ENSG00000207397', 'ENSG00000269316', 'ENSG00000276071', 'ENSG00000277977', 'ENSG00000207869', 'ENSG00000207810', 'ENSG00000207946', 'ENSG00000199095', 'ENSG00000228790', 'ENSG00000269786', 'ENSG00000279541', 'ENSG00000131845', 'ENSG00000268545', 'ENSG00000270837', 'ENSG00000243642', 'ENSG00000283394', 'ENSG00000271315', 'ENSG00000212036', 'ENSG00000206915', 'ENSG00000232668', 'ENSG00000199395', 'ENSG00000266078', 'ENSG00000232403', 'ENSG00000230355', 'ENSG00000277171', 'ENSG00000251974', 'ENSG00000283262', 'ENSG00000201006', 'ENSG00000227149', 'ENSG00000233329', 'ENSG00000289474', 'ENSG00000225813', 'ENSG00000175879', 'ENSG00000238295', 'ENSG00000207186', 'ENSG00000199803', 'ENSG00000223128', 'ENSG00000252193', 'ENSG00000275923', 'ENSG00000252199', 'ENSG00000276556', 'ENSG00000252273', 'ENSG00000239023', 'ENSG00000251851', 'ENSG00000275469', 'ENSG00000206106', 'ENSG00000279973', 'ENSG00000275656', 'ENSG00000273325', 'ENSG00000233632', 'ENSG00000213683', 'ENSG00000201315', 'ENSG00000289169', 'ENSG00000252466', 'ENSG00000244183', 'ENSG00000283298', 'ENSG00000278554', 'ENSG00000266396', 'ENSG00000222883', 'ENSG00000200703', 'ENSG00000283367', 'ENSG00000273374', 'ENSG00000270782', 'ENSG00000201288', 'ENSG00000261159', 'ENSG00000251137', 'ENSG00000244571', 'ENSG00000221251', 'ENSG00000201822', 'ENSG00000201810', 'ENSG00000199986', 'ENSG00000238942', 'ENSG00000222583', 'ENSG00000206600', 'ENSG00000249025', 'ENSG00000260262', 'ENSG00000283271', 'ENSG00000251220', 'ENSG00000263642', 'ENSG00000274154', 'ENSG00000252322', 'ENSG00000283432', 'ENSG00000248287', 'ENSG00000249943', 'ENSG00000251174', 'ENSG00000281720', 'ENSG00000259757', 'ENSG00000251678', 'ENSG00000279075', 'ENSG00000276764', 'ENSG00000289206', 'ENSG00000212561', 'ENSG00000278734', 'ENSG00000240627', 'ENSG00000207229', 'ENSG00000244630', 'ENSG00000253073', 'ENSG00000251340', 'ENSG00000271480', 'ENSG00000248106', 'ENSG00000278915', 'ENSG00000272085', 'ENSG00000249449', 'ENSG00000253869', 'ENSG00000222448', 'ENSG00000200555', 'ENSG00000238987', 'ENSG00000201442', 'ENSG00000277775', 'ENSG00000285849', 'ENSG00000217862', 'ENSG00000217646', 'ENSG00000189134', 'ENSG00000270326', 'ENSG00000278773', 'ENSG00000271227', 'ENSG00000220030', 'ENSG00000220483', 'ENSG00000202069', 'ENSG00000200427', 'ENSG00000200492', 'ENSG00000201613', 'ENSG00000274493', 'ENSG00000238594', 'ENSG00000199629', 'ENSG00000202296', 'ENSG00000235368', 'ENSG00000236261', 'ENSG00000227910', 'ENSG00000213645', 'ENSG00000252423', 'ENSG00000230617', 'ENSG00000266318', 'ENSG00000232301', 'ENSG00000273596', 'ENSG00000271739', 'ENSG00000252820', 'ENSG00000211771', 'ENSG00000221442', 'ENSG00000253088', 'ENSG00000222546', 'ENSG00000276580', 'ENSG00000207701', 'ENSG00000263762', 'ENSG00000199127', 'ENSG00000249368', 'ENSG00000250483', 'ENSG00000212280', 'ENSG00000188512', 'ENSG00000215264', 'ENSG00000254320', 'ENSG00000254392', 'ENSG00000201763', 'ENSG00000203413', 'ENSG00000200151', 'ENSG00000202112', 'ENSG00000206724', 'ENSG00000224083', 'ENSG00000222693', 'ENSG00000277049', 'ENSG00000277598', 'ENSG00000239684', 'ENSG00000222452', 'ENSG00000201074', 'ENSG00000253031', 'ENSG00000188712', 'ENSG00000206923', 'ENSG00000234881', 'ENSG00000207486', 'ENSG00000231549', 'ENSG00000201567', 'ENSG00000271322', 'ENSG00000252810', 'ENSG00000252294', 'ENSG00000235975', 'ENSG00000227234', 'ENSG00000216098', 'ENSG00000228855', 'ENSG00000211583', 'ENSG00000232155', 'ENSG00000237801']\n",
       "</pre>\n",
       "    </div>\n",
       "    "
      ],
      "text/plain": [
       "<IPython.core.display.HTML object>"
      ]
     },
     "metadata": {},
     "output_type": "display_data"
    }
   ],
   "source": [
    "def my_print_function():\n",
    "    print(f\"There are {len(features)} features.\")\n",
    "    print(features)\n",
    "pya.utils.print_to_scrollable_output(my_print_function)"
   ]
  },
  {
   "cell_type": "markdown",
   "id": "17937f86-6b2e-433c-99c5-2b075f0cc730",
   "metadata": {},
   "source": [
    "#### reference_feature_values"
   ]
  },
  {
   "cell_type": "code",
   "execution_count": 12,
   "id": "6436fd01-0a8e-41a5-b584-2c020136ff97",
   "metadata": {},
   "outputs": [
    {
     "data": {
      "text/html": [
       "\n",
       "    <div style=\"overflow-x: scroll; overflow-y: scroll; border: 1px solid black; background-color: white; !important; color: black; !important;\">\n",
       "        <pre>None\n",
       "</pre>\n",
       "    </div>\n",
       "    "
      ],
      "text/plain": [
       "<IPython.core.display.HTML object>"
      ]
     },
     "metadata": {},
     "output_type": "display_data"
    }
   ],
   "source": [
    "def my_print_function():\n",
    "    if reference_feature_values:\n",
    "        print(f\"There are {len(reference_feature_values)} reference feature values.\")\n",
    "    print(reference_feature_values)\n",
    "pya.utils.print_to_scrollable_output(my_print_function)"
   ]
  },
  {
   "cell_type": "markdown",
   "id": "518a9c6d-74de-4ac0-af23-9ee62a2ef208",
   "metadata": {},
   "source": [
    "#### preprocessing"
   ]
  },
  {
   "cell_type": "code",
   "execution_count": 13,
   "id": "960c5ede-3175-4192-a358-bf5ccb41074f",
   "metadata": {},
   "outputs": [
    {
     "data": {
      "text/html": [
       "\n",
       "    <div style=\"overflow-x: scroll; overflow-y: scroll; border: 1px solid black; background-color: white; !important; color: black; !important;\">\n",
       "        <pre>None\n",
       "</pre>\n",
       "    </div>\n",
       "    "
      ],
      "text/plain": [
       "<IPython.core.display.HTML object>"
      ]
     },
     "metadata": {},
     "output_type": "display_data"
    }
   ],
   "source": [
    "def my_print_function():\n",
    "    print(preprocessing)\n",
    "    if preprocessing:\n",
    "        print(preprocessing_helper_objects)\n",
    "pya.utils.print_to_scrollable_output(my_print_function)"
   ]
  },
  {
   "cell_type": "markdown",
   "id": "93ecf6f8-9132-4bf2-a519-75c4499e5f71",
   "metadata": {},
   "source": [
    "#### postprocessing"
   ]
  },
  {
   "cell_type": "code",
   "execution_count": 14,
   "id": "40fe1f52-ad50-4b84-89c7-c5d1d3fff139",
   "metadata": {},
   "outputs": [
    {
     "data": {
      "text/html": [
       "\n",
       "    <div style=\"overflow-x: scroll; overflow-y: scroll; border: 1px solid black; background-color: white; !important; color: black; !important;\">\n",
       "        <pre>None\n",
       "</pre>\n",
       "    </div>\n",
       "    "
      ],
      "text/plain": [
       "<IPython.core.display.HTML object>"
      ]
     },
     "metadata": {},
     "output_type": "display_data"
    }
   ],
   "source": [
    "def my_print_function():\n",
    "    print(postprocessing)\n",
    "    if postprocessing:\n",
    "        print(postprocessing)\n",
    "pya.utils.print_to_scrollable_output(my_print_function)"
   ]
  },
  {
   "cell_type": "markdown",
   "id": "bfdcc27a-464d-4228-8104-941f89b2fe97",
   "metadata": {},
   "source": [
    "#### weight_dict"
   ]
  },
  {
   "cell_type": "code",
   "execution_count": 15,
   "id": "658317e5-44bd-4621-877c-5db57494c968",
   "metadata": {
    "scrolled": true
   },
   "outputs": [
    {
     "data": {
      "text/html": [
       "\n",
       "    <div style=\"overflow-x: scroll; overflow-y: scroll; border: 1px solid black; background-color: white; !important; color: black; !important;\">\n",
       "        <pre>Layer: center\n",
       "Shape: torch.Size([341])\n",
       "tensor([0., 0., 0., 0., 0., 0., 0., 0., 0., 0., 0., 0., 0., 0., 0., 0., 0., 0., 0., 0., 0., 0., 0., 0.,\n",
       "        0., 0., 0., 0., 0., 0., 0., 0., 0., 0., 0., 0., 0., 0., 0., 0., 0., 0., 0., 0., 0., 0., 0., 0.,\n",
       "        0., 0., 0., 0., 0., 0., 0., 0., 0., 0., 0., 0., 0., 0., 0., 0., 0., 0., 0., 0., 0., 0., 0., 0.,\n",
       "        0., 0., 0., 0., 0., 0., 0., 0., 0., 0., 0., 0., 0., 0., 0., 0., 0., 0., 0., 0., 0., 0., 0., 0.,\n",
       "        0., 0., 0., 0., 0., 0., 0., 0., 0., 0., 0., 0., 0., 0., 0., 0., 0., 0., 0., 0., 0., 0., 0., 0.,\n",
       "        0., 0., 0., 0., 0., 0., 0., 0., 0., 0., 0., 0., 0., 0., 0., 0., 0., 0., 0., 0., 0., 0., 0., 0.,\n",
       "        0., 0., 0., 0., 0., 0., 0., 0., 0., 0., 0., 0., 0., 0., 0., 0., 0., 0., 0., 0., 0., 0., 0., 0.,\n",
       "        0., 0., 0., 0., 0., 0., 0., 0., 0., 0., 0., 0., 0., 0., 0., 0., 0., 0., 0., 0., 0., 0., 0., 0.,\n",
       "        0., 0., 0., 0., 0., 0., 0., 0., 0., 0., 0., 0., 0., 0., 0., 0., 0., 0., 0., 0., 0., 0., 0., 0.,\n",
       "        0., 0., 0., 0., 0., 0., 0., 0., 0., 0., 0., 0., 0., 0., 0., 0., 0., 0., 0., 0., 0., 0., 0., 0.,\n",
       "        0., 0., 0., 0., 0., 0., 0., 0., 0., 0., 0., 0., 0., 0., 0., 0., 0., 0., 0., 0., 0., 0., 0., 0.,\n",
       "        0., 0., 0., 0., 0., 0., 0., 0., 0., 0., 0., 0., 0., 0., 0., 0., 0., 0., 0., 0., 0., 0., 0., 0.,\n",
       "        0., 0., 0., 0., 0., 0., 0., 0., 0., 0., 0., 0., 0., 0., 0., 0., 0., 0., 0., 0., 0., 0., 0., 0.,\n",
       "        0., 0., 0., 0., 0., 0., 0., 0., 0., 0., 0., 0., 0., 0., 0., 0., 0., 0., 0., 0., 0., 0., 0., 0.,\n",
       "        0., 0., 0., 0., 0.])\n",
       "Layer: rotation\n",
       "Shape: torch.Size([341, 247])\n",
       "tensor([[ 0.0532,  0.0941,  0.0654,  ..., -0.0383, -0.1194, -0.0334],\n",
       "        [ 0.0918, -0.1066,  0.0003,  ..., -0.0224, -0.0543, -0.0073],\n",
       "        [ 0.0580,  0.0057, -0.0228,  ...,  0.0442,  0.0690, -0.0705],\n",
       "        ...,\n",
       "        [ 0.0230,  0.0257, -0.0576,  ...,  0.0225, -0.0594, -0.0188],\n",
       "        [ 0.0220,  0.0590, -0.0517,  ...,  0.0345,  0.0223, -0.0127],\n",
       "        [ 0.0359,  0.0238, -0.0614,  ..., -0.0133, -0.0766,  0.0327]])\n",
       "Layer: linear.weight\n",
       "Shape: torch.Size([1, 247])\n",
       "tensor([[-5.5483e-01, -3.9518e+00,  5.6274e-01, -5.1802e+00,  1.0165e+00,\n",
       "         -5.6115e+00, -6.1584e+00, -1.1609e-01, -4.5632e+00,  2.9564e+00,\n",
       "          4.4382e+00, -4.3780e+00,  2.5765e+00, -2.7293e+00,  2.1492e+00,\n",
       "         -5.0593e-01,  1.8234e+00,  1.0249e+00, -4.9408e+00, -7.3939e-01,\n",
       "         -1.5199e+00, -2.5606e+00,  9.1882e-01, -8.3870e-01,  1.3052e+00,\n",
       "         -2.4903e+00,  1.6002e-01, -7.3586e-01, -3.9014e-01,  2.8255e-01,\n",
       "         -6.7277e-01, -1.1415e+00,  3.6514e-01, -9.1024e-02,  9.3322e-01,\n",
       "          1.7643e+00, -1.7063e+00,  1.5589e+00,  2.2702e+00, -1.8783e+00,\n",
       "          9.8314e-01, -4.9984e-01, -1.3215e-01, -3.8123e-01, -3.3158e-01,\n",
       "         -1.8791e+00, -1.4085e+00, -7.8804e-01,  6.8565e-01, -3.8697e-01,\n",
       "         -1.0595e+00, -2.0707e+00, -1.6668e+00, -3.3216e-01, -1.3948e+00,\n",
       "         -1.4850e+00,  5.3332e-01,  7.6208e-01,  6.1516e-01,  2.5364e-01,\n",
       "          8.5833e-01,  1.0452e+00, -3.0852e-01,  5.3344e-01, -1.0061e+00,\n",
       "         -6.7195e-01,  8.1583e-01, -1.1961e+00,  6.1624e-01, -1.4674e-01,\n",
       "         -4.3156e-01,  1.0654e+00,  1.3145e-01, -1.2704e+00,  4.1230e-01,\n",
       "          8.0460e-01,  7.2724e-01,  6.4471e-01,  1.6044e-01, -2.9770e-01,\n",
       "         -7.6219e-01,  4.8699e-01,  4.8359e-01, -1.4921e+00, -1.6988e+00,\n",
       "          7.6860e-01,  1.4537e+00,  0.0000e+00, -2.5303e-01,  1.4266e+00,\n",
       "          1.6115e+00,  3.1059e-01, -1.0162e+00,  9.4229e-01,  6.2471e-02,\n",
       "         -2.4736e-01, -3.4339e-01, -1.3985e+00, -7.3381e-01,  3.7264e-01,\n",
       "          0.0000e+00, -3.1702e-01, -7.1560e-02,  1.0760e+00,  3.9099e-01,\n",
       "          8.7233e-01,  1.8298e+00, -2.7576e-01,  5.1827e-01, -5.5596e-01,\n",
       "          1.0501e+00,  6.9825e-01, -4.3755e-01, -5.6562e-01, -3.3452e-02,\n",
       "         -5.6061e-01, -1.0159e+00, -1.6621e+00,  0.0000e+00,  9.0329e-01,\n",
       "         -4.3986e-01,  6.4257e-01, -5.5682e-01, -4.4087e-02, -1.1137e+00,\n",
       "         -2.0086e-01, -5.1538e-01, -1.0119e+00,  5.1214e-01, -6.9767e-01,\n",
       "          7.8576e-01, -6.0966e-02,  0.0000e+00, -2.7995e-01,  6.8039e-01,\n",
       "         -8.2024e-01,  5.2387e-01, -1.1500e+00, -2.9631e-01,  1.9092e+00,\n",
       "         -1.2694e+00, -4.5816e-01,  2.0781e-01, -7.3155e-01, -6.8188e-01,\n",
       "          7.7756e-01, -3.3916e-01, -7.6210e-01, -2.2732e-01, -8.9531e-01,\n",
       "          4.7063e-03,  3.6165e-01, -1.7649e-01,  1.0811e+00,  2.6744e-01,\n",
       "         -5.8992e-02,  1.4414e+00, -7.9901e-01, -3.1204e-01, -7.6502e-01,\n",
       "         -8.9537e-02,  4.6946e-01, -1.2160e+00,  3.1097e-01, -8.1834e-01,\n",
       "          4.8356e-03,  0.0000e+00, -2.6671e-01,  3.0848e-01,  2.6546e-01,\n",
       "          1.0264e-01, -3.5064e-01, -1.3994e+00,  2.5837e-01,  7.4813e-01,\n",
       "          9.7932e-01, -6.3137e-01, -3.9631e-01,  2.5964e-01,  3.2772e+00,\n",
       "         -2.0221e+00, -4.4121e-01,  0.0000e+00, -7.4392e-02, -2.9044e-01,\n",
       "         -6.2499e-01, -2.0378e-01, -2.8440e-01, -6.5971e-01, -4.6264e-01,\n",
       "         -6.0980e-01, -1.5173e+00,  6.4198e-02, -6.1541e-02,  1.6062e+00,\n",
       "          1.6313e+00, -4.7229e-01, -3.0400e-02, -9.3495e-01, -7.9765e-01,\n",
       "         -6.8054e-01, -1.3851e+00, -7.0210e-01, -2.6814e-01,  1.4277e+00,\n",
       "          1.9804e-02,  1.1401e-03, -3.8039e-01, -1.6315e+00, -1.3276e+00,\n",
       "         -3.2537e-01,  0.0000e+00, -1.3395e+00, -1.5247e-01, -4.0066e-01,\n",
       "          2.4905e-01,  2.1658e-02,  1.2113e+00, -1.7866e+00,  1.0570e+00,\n",
       "         -7.6838e-01, -5.5263e-02,  1.8318e+00, -6.4725e-01,  1.4551e+00,\n",
       "         -4.9241e+00,  2.9672e+00,  3.8884e+00, -2.2061e+00,  6.3142e-01,\n",
       "         -2.8591e+00,  6.2363e-01,  1.1213e+00, -6.9487e+00, -7.7271e+00,\n",
       "         -9.3318e-01,  4.4153e+00,  1.9097e+00,  1.0929e+00,  3.8198e+00,\n",
       "          6.4714e+00,  6.6112e+00,  2.9892e+00,  1.4959e+00,  1.0991e+00,\n",
       "         -1.5367e+01,  6.1644e+00]])\n",
       "Layer: linear.bias\n",
       "Shape: torch.Size([1])\n",
       "tensor([52.7988])\n",
       "</pre>\n",
       "    </div>\n",
       "    "
      ],
      "text/plain": [
       "<IPython.core.display.HTML object>"
      ]
     },
     "metadata": {},
     "output_type": "display_data"
    }
   ],
   "source": [
    "def my_print_function():\n",
    "    for name, param in model.named_parameters():\n",
    "        print(f\"Layer: {name}\")\n",
    "        print(f\"Shape: {param.shape}\")\n",
    "        print(param.data)\n",
    "pya.utils.print_to_scrollable_output(my_print_function)"
   ]
  },
  {
   "cell_type": "markdown",
   "id": "275815e5-5630-4163-bc61-7119a9c805c1",
   "metadata": {},
   "source": [
    "## Write clock dictionary"
   ]
  },
  {
   "cell_type": "markdown",
   "id": "3b176620-afb5-403c-9948-07639072bb44",
   "metadata": {},
   "source": [
    "Let's put everything together and save:"
   ]
  },
  {
   "cell_type": "code",
   "execution_count": 16,
   "id": "35d00b76-513d-4d8f-8824-6d810ee9d8f5",
   "metadata": {},
   "outputs": [],
   "source": [
    "clock_dict = {\n",
    "    # Metadata\n",
    "    'clock_name': clock_name,\n",
    "    'data_type': data_type,\n",
    "    'model_class': model_class,\n",
    "    'species': species,\n",
    "    'year': year,\n",
    "    'approved_by_author': approved_by_author,\n",
    "    'citation': citation,\n",
    "    'doi': doi,\n",
    "    \"notes\": notes,\n",
    "\n",
    "    # Data\n",
    "    'reference_feature_values': reference_feature_values if reference_feature_values else None,\n",
    "    'preprocessing': preprocessing if preprocessing else None, \n",
    "    'features': features,\n",
    "    'weight_dict': model.state_dict(),\n",
    "    'postprocessing': postprocessing if postprocessing else None,\n",
    "}\n",
    "\n",
    "torch.save(clock_dict, f'../weights/{clock_name}.pt')"
   ]
  },
  {
   "cell_type": "markdown",
   "id": "c1dd2efe-2bd6-4e1b-92ee-d110c25ad29c",
   "metadata": {},
   "source": [
    "## Clear directory"
   ]
  },
  {
   "cell_type": "markdown",
   "id": "158aa71f-7bbc-4c52-b7ef-16ba45d5e1fd",
   "metadata": {},
   "source": [
    "Delete all files that are not clock jupyter notebooks:"
   ]
  },
  {
   "cell_type": "code",
   "execution_count": 17,
   "id": "db4bd42b-c62f-4557-9ebc-d8194a240137",
   "metadata": {},
   "outputs": [
    {
     "name": "stdout",
     "output_type": "stream",
     "text": [
      "Deleted folder: HistoneClocks\n",
      "Deleted folder: .ipynb_checkpoints\n"
     ]
    }
   ],
   "source": [
    "# Function to remove a folder and all its contents\n",
    "def remove_folder(path):\n",
    "    try:\n",
    "        shutil.rmtree(path)\n",
    "        print(f\"Deleted folder: {path}\")\n",
    "    except Exception as e:\n",
    "        print(f\"Error deleting folder {path}: {e}\")\n",
    "\n",
    "# Get a list of all files and folders in the current directory\n",
    "all_items = os.listdir('.')\n",
    "\n",
    "# Loop through the items\n",
    "for item in all_items:\n",
    "    # Check if it's a file and does not end with .ipynb\n",
    "    if os.path.isfile(item) and not item.endswith('.ipynb'):\n",
    "        os.remove(item)\n",
    "        print(f\"Deleted file: {item}\")\n",
    "    # Check if it's a folder\n",
    "    elif os.path.isdir(item):\n",
    "        remove_folder(item)"
   ]
  }
 ],
 "metadata": {
  "kernelspec": {
   "display_name": "Python 3",
   "language": "python",
   "name": "python3"
  },
  "language_info": {
   "codemirror_mode": {
    "name": "ipython",
    "version": 3
   },
   "file_extension": ".py",
   "mimetype": "text/x-python",
   "name": "python",
   "nbconvert_exporter": "python",
   "pygments_lexer": "ipython3",
   "version": "3.9.17"
  }
 },
 "nbformat": 4,
 "nbformat_minor": 5
}

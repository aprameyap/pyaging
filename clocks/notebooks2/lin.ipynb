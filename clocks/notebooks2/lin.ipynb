{
 "cells": [
  {
   "cell_type": "markdown",
   "id": "2f04eee0-5928-4e74-a754-6dc2e528810c",
   "metadata": {},
   "source": [
    "# Lin"
   ]
  },
  {
   "cell_type": "markdown",
   "id": "a3f514a3-772c-4a14-afdf-5a8376851ff4",
   "metadata": {},
   "source": [
    "## Index\n",
    "1. [Define required clock parameters](#Define-required-clock-parameters)\n",
    "2. [Download necessary data](#Download-necessary-data)\n",
    "3. [Load data](#-Load-data)\n",
    "4. [Extract features and weights](#Extract-features-and-weights)\n",
    "5. [Load weights into pyaging model](#Load-weights-into-pyaging-model)\n",
    "6. [Add reference values](#Add-reference-values)\n",
    "7. [Add preprocessing and postprocesssing steps](#Add-preprocessing-and-postprocesssing-steps)\n",
    "8. [Check all data objects](#Check-all-data-objects)\n",
    "9. [Write clock dictionary](#Write-clock-dictionary)\n",
    "10. [Clear directory](#Clear-directory)"
   ]
  },
  {
   "cell_type": "markdown",
   "id": "d95fafdc-643a-40ea-a689-200bd132e90c",
   "metadata": {},
   "source": [
    "Let's first import some packages:"
   ]
  },
  {
   "cell_type": "code",
   "execution_count": 1,
   "id": "4adfb4de-cd79-4913-a1af-9e23e9e236c9",
   "metadata": {},
   "outputs": [],
   "source": [
    "import os\n",
    "import marshal\n",
    "import shutil\n",
    "import json\n",
    "import torch\n",
    "import pandas as pd\n",
    "import pyaging as pya"
   ]
  },
  {
   "cell_type": "markdown",
   "id": "c8c0c937-d9b6-4756-99b0-91de591220e0",
   "metadata": {},
   "source": [
    "## Define required clock parameters"
   ]
  },
  {
   "cell_type": "markdown",
   "id": "cf95ddca-625e-4c70-a246-c3cb12df96f8",
   "metadata": {},
   "source": [
    "Let's define some required information first:"
   ]
  },
  {
   "cell_type": "code",
   "execution_count": 2,
   "id": "5281776d-0549-445f-beec-39c31ec7dbe1",
   "metadata": {},
   "outputs": [],
   "source": [
    "clock_name = 'lin'\n",
    "data_type = 'methylation'\n",
    "model_class = 'LinearModel'\n",
    "species = 'Homo sapiens'\n",
    "year = 2016\n",
    "approved_by_author = '⌛'\n",
    "citation = \"Lin, Qiong, et al. \\\"DNA methylation levels at individual age-associated CpG sites can be indicative for life expectancy.\\\" Aging (Albany NY) 8.2 (2016): 394.\"\n",
    "doi = \"https://doi.org/10.18632/aging.100908\"\n",
    "notes = None"
   ]
  },
  {
   "cell_type": "markdown",
   "id": "4520c8cb-6c1f-4490-ba4c-6fe78ef002a7",
   "metadata": {},
   "source": [
    "## Download necessary data"
   ]
  },
  {
   "cell_type": "code",
   "execution_count": 3,
   "id": "94631197-4899-4425-b50a-e23d0b82bd20",
   "metadata": {},
   "outputs": [],
   "source": [
    "# No need, see below"
   ]
  },
  {
   "cell_type": "markdown",
   "id": "35615b62-73ac-40b1-8bc1-e904403eb0ae",
   "metadata": {
    "jp-MarkdownHeadingCollapsed": true
   },
   "source": [
    "## Load data"
   ]
  },
  {
   "cell_type": "code",
   "execution_count": 4,
   "id": "af387efd-4c94-48d4-8e5c-d72f548244cf",
   "metadata": {},
   "outputs": [],
   "source": [
    "# from https://www.aging-us.com/article/100908/text supplement\n",
    "cpg_sites = [\n",
    "    \"(Intercept)\", \"cg05228408\", \"cg16352283\", \"cg05436231\", \"cg19046959\", \n",
    "    \"cg17791651\", \"cg07388493\", \"cg04036898\", \"cg07810156\", \"cg21448423\", \n",
    "    \"cg18660898\", \"cg25256723\", \"cg21870884\", \"cg25947945\", \"cg09462576\", \n",
    "    \"cg09809672\", \"cg27553955\", \"cg27320127\", \"cg15297650\", \"cg05331214\", \n",
    "    \"cg24178740\", \"cg18182399\", \"cg25431974\", \"cg24768561\", \"cg26614073\", \n",
    "    \"cg23320649\", \"cg12554573\", \"cg04474832\", \"cg17421623\", \"cg22919728\", \n",
    "    \"cg14456683\", \"cg08209133\", \"cg16744741\", \"cg00059225\", \"cg00489401\", \n",
    "    \"cg02844545\", \"cg22736354\", \"cg06493994\", \"cg03340878\", \"cg03958979\", \n",
    "    \"cg15804973\", \"cg13870866\", \"cg00503840\", \"cg25762706\", \"cg25538571\", \n",
    "    \"cg08598221\", \"cg19724470\", \"cg07211259\", \"cg13870494\", \"cg16386080\", \n",
    "    \"cg00563932\", \"cg21120249\", \"cg26581729\", \"cg17431739\", \"cg13129046\", \n",
    "    \"cg01560871\", \"cg06291867\", \"cg26610808\", \"cg07621046\", \"cg13807496\", \n",
    "    \"cg20654468\", \"cg21992250\", \"cg15538427\", \"cg08012287\", \"cg01820374\", \n",
    "    \"cg19722847\", \"cg12883767\", \"cg04123409\", \"cg22580512\", \"cg25268718\", \n",
    "    \"cg21296230\", \"cg21801378\", \"cg10917602\", \"cg15195412\", \"cg20264732\", \n",
    "    \"cg22947000\", \"cg02228185\", \"cg01739167\", \"cg14918082\", \"cg05379350\", \n",
    "    \"cg08468689\", \"cg08090640\", \"cg25809905\", \"cg05294455\", \"cg06638433\", \n",
    "    \"cg20366832\", \"cg19761273\", \"cg26927807\", \"cg17471102\", \"cg02489552\", \n",
    "    \"cg05488632\", \"cg16363586\", \"cg17861230\", \"cg24713204\", \"cg23679724\", \n",
    "    \"cg03224418\", \"cg15379633\", \"cg02994956\", \"cg23124451\", \"cg26394940\"\n",
    "]\n",
    "coefficients = [\n",
    "    12.2169841, 0.47636173, -5.3124138, 17.7305146, -13.367066, 8.72680959, -4.7759575, \n",
    "    10.162153, 15.3892025, -4.4621797, 13.2543665, -11.802998, 22.9981412, -8.2387336, \n",
    "    6.3124836, -14.950409, -0.7884001, 48.9368049, -34.306553, 9.83640629, -27.476107, \n",
    "    -4.1527608, -1.048605, -4.5917403, -11.443446, 8.70555476, 1.81880164, -26.556597, \n",
    "    2.4399993, 0.99214006, 13.1457167, 30.500322, -9.5846721, 36.8195086, 1.98682848, \n",
    "    0.38022482, 36.9317174, 66.1611861, 5.95485236, -16.016804, -15.214138, -39.104364, \n",
    "    31.2113275, 1.5340163, 10.2956593, 2.62080161, -5.5537073, -12.424324, 19.7417678, \n",
    "    -29.24993, -3.5009711, -8.6074197, -7.9914389, 8.22589722, -5.1368284, 13.5034883, \n",
    "    13.0769424, -21.374356, 13.6468199, -8.3931276, 8.14605552, 10.5216611, -19.93487, \n",
    "    -18.989957, -30.896866, -13.06341, 8.45912249, -10.767354, -0.8383178, 4.06576438, \n",
    "    28.1787443, 44.7163476, -6.0293979, 20.050343, -20.618882, -13.217155, -8.6363427, \n",
    "    33.8101434, 15.5554908, 17.340667, -16.062905, 8.31318309, -6.0974732, 2.71073045, \n",
    "    10.6229217, 2.97899616, -16.331359, 16.5195276, -18.063487, 6.09699424, -11.249025, \n",
    "    13.6452671, 17.5027126, -32.487323, 0.25793126, 8.07556639, 15.4139903, -6.4516149, \n",
    "    -13.361462, 0.89292205\n",
    "]"
   ]
  },
  {
   "cell_type": "markdown",
   "id": "60c676db-2c7c-4c04-9457-97bccd598269",
   "metadata": {},
   "source": [
    "## Extract features and weights"
   ]
  },
  {
   "cell_type": "markdown",
   "id": "87dfda00-5182-4416-8eb1-de91ce2a9e48",
   "metadata": {},
   "source": [
    "First, let's extract the features and weights:"
   ]
  },
  {
   "cell_type": "code",
   "execution_count": 5,
   "id": "e1d1dd13-65ac-4694-8948-3cd94bc19fe1",
   "metadata": {},
   "outputs": [
    {
     "data": {
      "text/html": [
       "<div>\n",
       "<style scoped>\n",
       "    .dataframe tbody tr th:only-of-type {\n",
       "        vertical-align: middle;\n",
       "    }\n",
       "\n",
       "    .dataframe tbody tr th {\n",
       "        vertical-align: top;\n",
       "    }\n",
       "\n",
       "    .dataframe thead th {\n",
       "        text-align: right;\n",
       "    }\n",
       "</style>\n",
       "<table border=\"1\" class=\"dataframe\">\n",
       "  <thead>\n",
       "    <tr style=\"text-align: right;\">\n",
       "      <th></th>\n",
       "      <th>feature</th>\n",
       "      <th>coefficient</th>\n",
       "    </tr>\n",
       "  </thead>\n",
       "  <tbody>\n",
       "    <tr>\n",
       "      <th>0</th>\n",
       "      <td>(Intercept)</td>\n",
       "      <td>12.216984</td>\n",
       "    </tr>\n",
       "    <tr>\n",
       "      <th>1</th>\n",
       "      <td>cg05228408</td>\n",
       "      <td>0.476362</td>\n",
       "    </tr>\n",
       "    <tr>\n",
       "      <th>2</th>\n",
       "      <td>cg16352283</td>\n",
       "      <td>-5.312414</td>\n",
       "    </tr>\n",
       "    <tr>\n",
       "      <th>3</th>\n",
       "      <td>cg05436231</td>\n",
       "      <td>17.730515</td>\n",
       "    </tr>\n",
       "    <tr>\n",
       "      <th>4</th>\n",
       "      <td>cg19046959</td>\n",
       "      <td>-13.367066</td>\n",
       "    </tr>\n",
       "  </tbody>\n",
       "</table>\n",
       "</div>"
      ],
      "text/plain": [
       "       feature  coefficient\n",
       "0  (Intercept)    12.216984\n",
       "1   cg05228408     0.476362\n",
       "2   cg16352283    -5.312414\n",
       "3   cg05436231    17.730515\n",
       "4   cg19046959   -13.367066"
      ]
     },
     "execution_count": 5,
     "metadata": {},
     "output_type": "execute_result"
    }
   ],
   "source": [
    "df = pd.DataFrame({\n",
    "    'feature': cpg_sites,\n",
    "    'coefficient': coefficients\n",
    "})\n",
    "\n",
    "df.head()"
   ]
  },
  {
   "cell_type": "markdown",
   "id": "5ac5b42a-3bd9-49d3-b84e-79d236af24b4",
   "metadata": {},
   "source": [
    "Then, let's create lists for features and weights. Be careful about the intercept, as it usually shows up as a feature name."
   ]
  },
  {
   "cell_type": "code",
   "execution_count": 6,
   "id": "2fc06bb5-7e9c-46fd-9843-31880f1d3788",
   "metadata": {},
   "outputs": [],
   "source": [
    "features = df['feature'][1:].tolist()\n",
    "weights = torch.tensor(df['coefficient'][1:].tolist()).unsqueeze(0)\n",
    "intercept = torch.tensor([df['coefficient'][0]])"
   ]
  },
  {
   "cell_type": "markdown",
   "id": "d193ccbf-d06b-49bb-ad4b-ffe3271dea63",
   "metadata": {},
   "source": [
    "## Load weights into pyaging model"
   ]
  },
  {
   "cell_type": "markdown",
   "id": "4350119a-4bd4-4efa-85b5-9de70fdf496f",
   "metadata": {},
   "source": [
    "#### Linear model"
   ]
  },
  {
   "cell_type": "code",
   "execution_count": 7,
   "id": "7354c541-5af9-447d-a339-2cb88c253b41",
   "metadata": {},
   "outputs": [
    {
     "data": {
      "text/plain": [
       "LinearModel(\n",
       "  (linear): Linear(in_features=99, out_features=1, bias=True)\n",
       ")"
      ]
     },
     "execution_count": 7,
     "metadata": {},
     "output_type": "execute_result"
    }
   ],
   "source": [
    "model = pya.models.LinearModel(input_dim=len(features))\n",
    "\n",
    "model.linear.weight.data = weights.float()\n",
    "model.linear.bias.data = intercept.float()\n",
    "\n",
    "model"
   ]
  },
  {
   "cell_type": "markdown",
   "id": "06adc9d8-cec2-447d-8d0b-e2819d4c1a5b",
   "metadata": {},
   "source": [
    "## Add reference values"
   ]
  },
  {
   "cell_type": "markdown",
   "id": "84bf0205-f976-497b-a6a9-e4945c05cdb3",
   "metadata": {},
   "source": [
    "Some clocks have reference values in the case of missing features. It is also possible that these values are for preprocessing features rather than the clock features. Let's add a dictionary with the feature names as the keys."
   ]
  },
  {
   "cell_type": "code",
   "execution_count": 8,
   "id": "250dd50d-a175-45f3-913b-da87c50cb55c",
   "metadata": {},
   "outputs": [],
   "source": [
    "reference_feature_values = None"
   ]
  },
  {
   "cell_type": "markdown",
   "id": "c9b4fd10-797c-45bd-aa1a-65aed1deaf1c",
   "metadata": {},
   "source": [
    "## Add preprocessing and postprocesssing steps"
   ]
  },
  {
   "cell_type": "markdown",
   "id": "20649dc9-2b58-4c63-a48e-f8d7a4bb520b",
   "metadata": {},
   "source": [
    "The preprocessing and postprocessing objects are dictionaries with the following format, with all items required. It takes in x in the form of a numpy array."
   ]
  },
  {
   "cell_type": "code",
   "execution_count": 9,
   "id": "1d173005-fb63-43d5-bd9f-0b4fa2e240b1",
   "metadata": {},
   "outputs": [],
   "source": [
    "preprocessing = None"
   ]
  },
  {
   "cell_type": "markdown",
   "id": "3ca747b4-0214-40a1-a7bf-fbf2a71084af",
   "metadata": {},
   "source": [
    "Similarly is the case of postprocessing. Remember that your function must be compatible with torch and is applied to each number individually."
   ]
  },
  {
   "cell_type": "code",
   "execution_count": 10,
   "id": "6fe37a2c-113a-4517-91e4-10a4e8b2005a",
   "metadata": {},
   "outputs": [],
   "source": [
    "postprocessing = None"
   ]
  },
  {
   "cell_type": "markdown",
   "id": "cf345eac-7b56-40d4-88dc-d7873aabaaa2",
   "metadata": {},
   "source": [
    "## Check all data objects"
   ]
  },
  {
   "cell_type": "markdown",
   "id": "3c6601c8-7da5-4b5b-8d9f-599f8fcfc6f7",
   "metadata": {},
   "source": [
    "Let's print all data objects to check if they make sense."
   ]
  },
  {
   "cell_type": "markdown",
   "id": "a37ac898-4831-49ed-b218-94c04e24e183",
   "metadata": {},
   "source": [
    "#### features"
   ]
  },
  {
   "cell_type": "code",
   "execution_count": 11,
   "id": "bf047bed-52f0-4a64-9691-4c04df9f50ec",
   "metadata": {},
   "outputs": [
    {
     "data": {
      "text/html": [
       "\n",
       "    <div style=\"overflow-x: scroll; overflow-y: scroll; border: 1px solid black; background-color: white; !important; color: black; !important;\">\n",
       "        <pre>There are 99 features.\n",
       "['cg05228408', 'cg16352283', 'cg05436231', 'cg19046959', 'cg17791651', 'cg07388493', 'cg04036898', 'cg07810156', 'cg21448423', 'cg18660898', 'cg25256723', 'cg21870884', 'cg25947945', 'cg09462576', 'cg09809672', 'cg27553955', 'cg27320127', 'cg15297650', 'cg05331214', 'cg24178740', 'cg18182399', 'cg25431974', 'cg24768561', 'cg26614073', 'cg23320649', 'cg12554573', 'cg04474832', 'cg17421623', 'cg22919728', 'cg14456683', 'cg08209133', 'cg16744741', 'cg00059225', 'cg00489401', 'cg02844545', 'cg22736354', 'cg06493994', 'cg03340878', 'cg03958979', 'cg15804973', 'cg13870866', 'cg00503840', 'cg25762706', 'cg25538571', 'cg08598221', 'cg19724470', 'cg07211259', 'cg13870494', 'cg16386080', 'cg00563932', 'cg21120249', 'cg26581729', 'cg17431739', 'cg13129046', 'cg01560871', 'cg06291867', 'cg26610808', 'cg07621046', 'cg13807496', 'cg20654468', 'cg21992250', 'cg15538427', 'cg08012287', 'cg01820374', 'cg19722847', 'cg12883767', 'cg04123409', 'cg22580512', 'cg25268718', 'cg21296230', 'cg21801378', 'cg10917602', 'cg15195412', 'cg20264732', 'cg22947000', 'cg02228185', 'cg01739167', 'cg14918082', 'cg05379350', 'cg08468689', 'cg08090640', 'cg25809905', 'cg05294455', 'cg06638433', 'cg20366832', 'cg19761273', 'cg26927807', 'cg17471102', 'cg02489552', 'cg05488632', 'cg16363586', 'cg17861230', 'cg24713204', 'cg23679724', 'cg03224418', 'cg15379633', 'cg02994956', 'cg23124451', 'cg26394940']\n",
       "</pre>\n",
       "    </div>\n",
       "    "
      ],
      "text/plain": [
       "<IPython.core.display.HTML object>"
      ]
     },
     "metadata": {},
     "output_type": "display_data"
    }
   ],
   "source": [
    "def my_print_function():\n",
    "    print(f\"There are {len(features)} features.\")\n",
    "    print(features)\n",
    "pya.utils.print_to_scrollable_output(my_print_function)"
   ]
  },
  {
   "cell_type": "markdown",
   "id": "72b23497-b70a-454a-beda-f801de11dbcf",
   "metadata": {},
   "source": [
    "#### reference_feature_values"
   ]
  },
  {
   "cell_type": "code",
   "execution_count": 12,
   "id": "6436fd01-0a8e-41a5-b584-2c020136ff97",
   "metadata": {},
   "outputs": [
    {
     "data": {
      "text/html": [
       "\n",
       "    <div style=\"overflow-x: scroll; overflow-y: scroll; border: 1px solid black; background-color: white; !important; color: black; !important;\">\n",
       "        <pre>None\n",
       "</pre>\n",
       "    </div>\n",
       "    "
      ],
      "text/plain": [
       "<IPython.core.display.HTML object>"
      ]
     },
     "metadata": {},
     "output_type": "display_data"
    }
   ],
   "source": [
    "def my_print_function():\n",
    "    if reference_feature_values:\n",
    "        print(f\"There are {len(reference_feature_values)} reference feature values.\")\n",
    "    print(reference_feature_values)\n",
    "pya.utils.print_to_scrollable_output(my_print_function)"
   ]
  },
  {
   "cell_type": "markdown",
   "id": "0d6a021b-ad74-44d9-ae7f-d39782fc7e78",
   "metadata": {},
   "source": [
    "#### preprocessing"
   ]
  },
  {
   "cell_type": "code",
   "execution_count": 13,
   "id": "960c5ede-3175-4192-a358-bf5ccb41074f",
   "metadata": {},
   "outputs": [
    {
     "data": {
      "text/html": [
       "\n",
       "    <div style=\"overflow-x: scroll; overflow-y: scroll; border: 1px solid black; background-color: white; !important; color: black; !important;\">\n",
       "        <pre>None\n",
       "</pre>\n",
       "    </div>\n",
       "    "
      ],
      "text/plain": [
       "<IPython.core.display.HTML object>"
      ]
     },
     "metadata": {},
     "output_type": "display_data"
    }
   ],
   "source": [
    "def my_print_function():\n",
    "    print(preprocessing)\n",
    "    if preprocessing:\n",
    "        print(preprocessing_helper_objects)\n",
    "pya.utils.print_to_scrollable_output(my_print_function)"
   ]
  },
  {
   "cell_type": "markdown",
   "id": "fc9cb02b-cad6-4f7f-a3c8-72afb4995bf3",
   "metadata": {},
   "source": [
    "#### postprocessing"
   ]
  },
  {
   "cell_type": "code",
   "execution_count": 14,
   "id": "40fe1f52-ad50-4b84-89c7-c5d1d3fff139",
   "metadata": {},
   "outputs": [
    {
     "data": {
      "text/html": [
       "\n",
       "    <div style=\"overflow-x: scroll; overflow-y: scroll; border: 1px solid black; background-color: white; !important; color: black; !important;\">\n",
       "        <pre>None\n",
       "</pre>\n",
       "    </div>\n",
       "    "
      ],
      "text/plain": [
       "<IPython.core.display.HTML object>"
      ]
     },
     "metadata": {},
     "output_type": "display_data"
    }
   ],
   "source": [
    "def my_print_function():\n",
    "    print(postprocessing)\n",
    "    if postprocessing:\n",
    "        print(postprocessing)\n",
    "pya.utils.print_to_scrollable_output(my_print_function)"
   ]
  },
  {
   "cell_type": "markdown",
   "id": "a0ca5ab6-7483-44b2-b3c0-0685db8eb777",
   "metadata": {},
   "source": [
    "#### weight_dict"
   ]
  },
  {
   "cell_type": "code",
   "execution_count": 15,
   "id": "658317e5-44bd-4621-877c-5db57494c968",
   "metadata": {},
   "outputs": [
    {
     "data": {
      "text/html": [
       "\n",
       "    <div style=\"overflow-x: scroll; overflow-y: scroll; border: 1px solid black; background-color: white; !important; color: black; !important;\">\n",
       "        <pre>Layer: linear.weight\n",
       "Shape: torch.Size([1, 99])\n",
       "tensor([[  0.4764,  -5.3124,  17.7305, -13.3671,   8.7268,  -4.7760,  10.1622,\n",
       "          15.3892,  -4.4622,  13.2544, -11.8030,  22.9981,  -8.2387,   6.3125,\n",
       "         -14.9504,  -0.7884,  48.9368, -34.3066,   9.8364, -27.4761,  -4.1528,\n",
       "          -1.0486,  -4.5917, -11.4434,   8.7056,   1.8188, -26.5566,   2.4400,\n",
       "           0.9921,  13.1457,  30.5003,  -9.5847,  36.8195,   1.9868,   0.3802,\n",
       "          36.9317,  66.1612,   5.9549, -16.0168, -15.2141, -39.1044,  31.2113,\n",
       "           1.5340,  10.2957,   2.6208,  -5.5537, -12.4243,  19.7418, -29.2499,\n",
       "          -3.5010,  -8.6074,  -7.9914,   8.2259,  -5.1368,  13.5035,  13.0769,\n",
       "         -21.3744,  13.6468,  -8.3931,   8.1461,  10.5217, -19.9349, -18.9900,\n",
       "         -30.8969, -13.0634,   8.4591, -10.7674,  -0.8383,   4.0658,  28.1787,\n",
       "          44.7163,  -6.0294,  20.0503, -20.6189, -13.2172,  -8.6363,  33.8101,\n",
       "          15.5555,  17.3407, -16.0629,   8.3132,  -6.0975,   2.7107,  10.6229,\n",
       "           2.9790, -16.3314,  16.5195, -18.0635,   6.0970, -11.2490,  13.6453,\n",
       "          17.5027, -32.4873,   0.2579,   8.0756,  15.4140,  -6.4516, -13.3615,\n",
       "           0.8929]])\n",
       "Layer: linear.bias\n",
       "Shape: torch.Size([1])\n",
       "tensor([12.2170])\n",
       "</pre>\n",
       "    </div>\n",
       "    "
      ],
      "text/plain": [
       "<IPython.core.display.HTML object>"
      ]
     },
     "metadata": {},
     "output_type": "display_data"
    }
   ],
   "source": [
    "def my_print_function():\n",
    "    for name, param in model.named_parameters():\n",
    "        print(f\"Layer: {name}\")\n",
    "        print(f\"Shape: {param.shape}\")\n",
    "        print(param.data)\n",
    "pya.utils.print_to_scrollable_output(my_print_function)"
   ]
  },
  {
   "cell_type": "markdown",
   "id": "275815e5-5630-4163-bc61-7119a9c805c1",
   "metadata": {},
   "source": [
    "## Write clock dictionary"
   ]
  },
  {
   "cell_type": "markdown",
   "id": "3b176620-afb5-403c-9948-07639072bb44",
   "metadata": {},
   "source": [
    "Let's put everything together and save:"
   ]
  },
  {
   "cell_type": "code",
   "execution_count": 16,
   "id": "35d00b76-513d-4d8f-8824-6d810ee9d8f5",
   "metadata": {},
   "outputs": [],
   "source": [
    "clock_dict = {\n",
    "    # Metadata\n",
    "    'clock_name': clock_name,\n",
    "    'data_type': data_type,\n",
    "    'model_class': model_class,\n",
    "    'species': species,\n",
    "    'year': year,\n",
    "    'approved_by_author': approved_by_author,\n",
    "    'citation': citation,\n",
    "    'doi': doi,\n",
    "    \"notes\": notes,\n",
    "\n",
    "    # Data\n",
    "    'reference_feature_values': reference_feature_values if reference_feature_values else None,\n",
    "    'preprocessing': preprocessing if preprocessing else None, \n",
    "    'features': features,\n",
    "    'weight_dict': model.state_dict(),\n",
    "    'postprocessing': postprocessing if postprocessing else None,\n",
    "}\n",
    "\n",
    "torch.save(clock_dict, f'../weights/{clock_name}.pt')"
   ]
  },
  {
   "cell_type": "markdown",
   "id": "c1dd2efe-2bd6-4e1b-92ee-d110c25ad29c",
   "metadata": {},
   "source": [
    "## Clear directory"
   ]
  },
  {
   "cell_type": "markdown",
   "id": "158aa71f-7bbc-4c52-b7ef-16ba45d5e1fd",
   "metadata": {},
   "source": [
    "Delete all files that are not clock jupyter notebooks:"
   ]
  },
  {
   "cell_type": "code",
   "execution_count": 17,
   "id": "db4bd42b-c62f-4557-9ebc-d8194a240137",
   "metadata": {},
   "outputs": [
    {
     "name": "stdout",
     "output_type": "stream",
     "text": [
      "Deleted folder: .ipynb_checkpoints\n"
     ]
    }
   ],
   "source": [
    "# Function to remove a folder and all its contents\n",
    "def remove_folder(path):\n",
    "    try:\n",
    "        shutil.rmtree(path)\n",
    "        print(f\"Deleted folder: {path}\")\n",
    "    except Exception as e:\n",
    "        print(f\"Error deleting folder {path}: {e}\")\n",
    "\n",
    "# Get a list of all files and folders in the current directory\n",
    "all_items = os.listdir('.')\n",
    "\n",
    "# Loop through the items\n",
    "for item in all_items:\n",
    "    # Check if it's a file and does not end with .ipynb\n",
    "    if os.path.isfile(item) and not item.endswith('.ipynb'):\n",
    "        os.remove(item)\n",
    "        print(f\"Deleted file: {item}\")\n",
    "    # Check if it's a folder\n",
    "    elif os.path.isdir(item):\n",
    "        remove_folder(item)"
   ]
  }
 ],
 "metadata": {
  "kernelspec": {
   "display_name": "Python 3",
   "language": "python",
   "name": "python3"
  },
  "language_info": {
   "codemirror_mode": {
    "name": "ipython",
    "version": 3
   },
   "file_extension": ".py",
   "mimetype": "text/x-python",
   "name": "python",
   "nbconvert_exporter": "python",
   "pygments_lexer": "ipython3",
   "version": "3.9.17"
  }
 },
 "nbformat": 4,
 "nbformat_minor": 5
}

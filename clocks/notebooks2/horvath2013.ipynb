{
 "cells": [
  {
   "cell_type": "markdown",
   "id": "2f04eee0-5928-4e74-a754-6dc2e528810c",
   "metadata": {},
   "source": [
    "# Horvath2013"
   ]
  },
  {
   "cell_type": "markdown",
   "id": "a3f514a3-772c-4a14-afdf-5a8376851ff4",
   "metadata": {},
   "source": [
    "## Index\n",
    "1. [Define required clock parameters](#Define-required-clock-parameters)\n",
    "2. [Download necessary data](#Download-necessary-data)\n",
    "3. [Load data](#-Load-data)\n",
    "4. [Extract features and weights](#Extract-features-and-weights)\n",
    "5. [Load weights into pyaging model](#Load-weights-into-pyaging-model)\n",
    "6. [Add reference values](#Add-reference-values)\n",
    "7. [Add preprocessing and postprocesssing steps](#Add-preprocessing-and-postprocesssing-steps)\n",
    "8. [Check all data objects](#Check-all-data-objects)\n",
    "9. [Write clock dictionary](#Write-clock-dictionary)\n",
    "10. [Clear directory](#Clear-directory)"
   ]
  },
  {
   "cell_type": "markdown",
   "id": "d95fafdc-643a-40ea-a689-200bd132e90c",
   "metadata": {},
   "source": [
    "Let's first import some packages:"
   ]
  },
  {
   "cell_type": "code",
   "execution_count": 1,
   "id": "4adfb4de-cd79-4913-a1af-9e23e9e236c9",
   "metadata": {},
   "outputs": [],
   "source": [
    "import os\n",
    "import marshal\n",
    "import shutil\n",
    "import json\n",
    "import torch\n",
    "import pandas as pd\n",
    "import pyaging as pya"
   ]
  },
  {
   "cell_type": "markdown",
   "id": "c8c0c937-d9b6-4756-99b0-91de591220e0",
   "metadata": {},
   "source": [
    "## Define required clock parameters"
   ]
  },
  {
   "cell_type": "markdown",
   "id": "cf95ddca-625e-4c70-a246-c3cb12df96f8",
   "metadata": {},
   "source": [
    "Let's define some required information first:"
   ]
  },
  {
   "cell_type": "code",
   "execution_count": 2,
   "id": "5281776d-0549-445f-beec-39c31ec7dbe1",
   "metadata": {},
   "outputs": [],
   "source": [
    "clock_name = 'horvath2013'\n",
    "data_type = 'methylation'\n",
    "model_class = 'LinearModel'\n",
    "species = 'Homo sapiens'\n",
    "year = 2013\n",
    "approved_by_author = '⌛'\n",
    "citation = \"Horvath, Steve. \\\"DNA methylation age of human tissues and cell types.\\\" Genome biology 14.10 (2013): 1-20.\"\n",
    "doi = \"https://doi.org/10.1186/gb-2013-14-10-r115\"\n",
    "notes = None"
   ]
  },
  {
   "cell_type": "markdown",
   "id": "4520c8cb-6c1f-4490-ba4c-6fe78ef002a7",
   "metadata": {},
   "source": [
    "## Download necessary data"
   ]
  },
  {
   "cell_type": "markdown",
   "id": "f8d77386-a524-492b-a002-18d24b6ca49a",
   "metadata": {},
   "source": [
    "#### Download directly with curl"
   ]
  },
  {
   "cell_type": "code",
   "execution_count": 3,
   "id": "0003b39e-e032-4822-aff7-970583187d22",
   "metadata": {},
   "outputs": [
    {
     "data": {
      "text/plain": [
       "0"
      ]
     },
     "execution_count": 3,
     "metadata": {},
     "output_type": "execute_result"
    }
   ],
   "source": [
    "supplementary_url = \"https://static-content.springer.com/esm/art%3A10.1186%2Fgb-2013-14-10-r115/MediaObjects/13059_2013_3156_MOESM3_ESM.csv\"\n",
    "supplementary_file_name = \"coefficients.csv\"\n",
    "os.system(f\"curl -o {supplementary_file_name} {supplementary_url}\")"
   ]
  },
  {
   "cell_type": "code",
   "execution_count": 4,
   "id": "9dbb8a17-2c05-4254-87c6-5bb0ebd250c1",
   "metadata": {},
   "outputs": [
    {
     "data": {
      "text/plain": [
       "0"
      ]
     },
     "execution_count": 4,
     "metadata": {},
     "output_type": "execute_result"
    }
   ],
   "source": [
    "supplementary_url = \"https://static-content.springer.com/esm/art%3A10.1186%2Fgb-2013-14-10-r115/MediaObjects/13059_2013_3156_MOESM22_ESM.csv\"\n",
    "supplementary_file_name = \"reference_feature_values.csv\"\n",
    "os.system(f\"curl -o {supplementary_file_name} {supplementary_url}\")"
   ]
  },
  {
   "cell_type": "markdown",
   "id": "35615b62-73ac-40b1-8bc1-e904403eb0ae",
   "metadata": {},
   "source": [
    "## Load data"
   ]
  },
  {
   "cell_type": "markdown",
   "id": "232eb94a-04a7-4ac4-ae3e-0e365b443a8e",
   "metadata": {},
   "source": [
    "#### From CSV file"
   ]
  },
  {
   "cell_type": "code",
   "execution_count": 5,
   "id": "45fbc051-f0d2-4b25-9813-ae126f6fedcb",
   "metadata": {},
   "outputs": [],
   "source": [
    "df = pd.read_csv('coefficients.csv', skiprows=2)\n",
    "reference_feature_values_df = pd.read_csv('reference_feature_values.csv', index_col=0)"
   ]
  },
  {
   "cell_type": "markdown",
   "id": "60c676db-2c7c-4c04-9457-97bccd598269",
   "metadata": {
    "jp-MarkdownHeadingCollapsed": true
   },
   "source": [
    "## Extract features and weights"
   ]
  },
  {
   "cell_type": "markdown",
   "id": "87dfda00-5182-4416-8eb1-de91ce2a9e48",
   "metadata": {},
   "source": [
    "First, let's extract the features and weights:"
   ]
  },
  {
   "cell_type": "code",
   "execution_count": 6,
   "id": "e1d1dd13-65ac-4694-8948-3cd94bc19fe1",
   "metadata": {},
   "outputs": [
    {
     "data": {
      "text/html": [
       "<div>\n",
       "<style scoped>\n",
       "    .dataframe tbody tr th:only-of-type {\n",
       "        vertical-align: middle;\n",
       "    }\n",
       "\n",
       "    .dataframe tbody tr th {\n",
       "        vertical-align: top;\n",
       "    }\n",
       "\n",
       "    .dataframe thead th {\n",
       "        text-align: right;\n",
       "    }\n",
       "</style>\n",
       "<table border=\"1\" class=\"dataframe\">\n",
       "  <thead>\n",
       "    <tr style=\"text-align: right;\">\n",
       "      <th></th>\n",
       "      <th>CpGmarker</th>\n",
       "      <th>CoefficientTraining</th>\n",
       "      <th>CoefficientTrainingShrunk</th>\n",
       "      <th>varByCpG</th>\n",
       "      <th>minByCpG</th>\n",
       "      <th>maxByCpG</th>\n",
       "      <th>medianByCpG</th>\n",
       "      <th>medianByCpGYoung</th>\n",
       "      <th>medianByCpGOld</th>\n",
       "      <th>Gene_ID</th>\n",
       "      <th>...</th>\n",
       "      <th>Gene_Strand</th>\n",
       "      <th>Symbol</th>\n",
       "      <th>Synonym</th>\n",
       "      <th>Accession</th>\n",
       "      <th>GID</th>\n",
       "      <th>Annotation</th>\n",
       "      <th>Product</th>\n",
       "      <th>Marginal Age Relationship</th>\n",
       "      <th>feature</th>\n",
       "      <th>coefficient</th>\n",
       "    </tr>\n",
       "  </thead>\n",
       "  <tbody>\n",
       "    <tr>\n",
       "      <th>0</th>\n",
       "      <td>(Intercept)</td>\n",
       "      <td>0.695507</td>\n",
       "      <td>0.886920</td>\n",
       "      <td>NaN</td>\n",
       "      <td>NaN</td>\n",
       "      <td>NaN</td>\n",
       "      <td>NaN</td>\n",
       "      <td>NaN</td>\n",
       "      <td>NaN</td>\n",
       "      <td>NaN</td>\n",
       "      <td>...</td>\n",
       "      <td>NaN</td>\n",
       "      <td>NaN</td>\n",
       "      <td>NaN</td>\n",
       "      <td>NaN</td>\n",
       "      <td>NaN</td>\n",
       "      <td>NaN</td>\n",
       "      <td>NaN</td>\n",
       "      <td>NaN</td>\n",
       "      <td>(Intercept)</td>\n",
       "      <td>0.695507</td>\n",
       "    </tr>\n",
       "    <tr>\n",
       "      <th>1</th>\n",
       "      <td>cg00075967</td>\n",
       "      <td>0.129337</td>\n",
       "      <td>0.108096</td>\n",
       "      <td>0.02600</td>\n",
       "      <td>0.0160</td>\n",
       "      <td>0.97</td>\n",
       "      <td>0.750</td>\n",
       "      <td>0.720</td>\n",
       "      <td>0.750</td>\n",
       "      <td>64220.0</td>\n",
       "      <td>...</td>\n",
       "      <td>-</td>\n",
       "      <td>STRA6</td>\n",
       "      <td>PP14296; FLJ12541;</td>\n",
       "      <td>NM_022369.2</td>\n",
       "      <td>GI:21314699</td>\n",
       "      <td>synonyms: PP14296; FLJ12541</td>\n",
       "      <td>stimulated by retinoic acid gene 6 homolog</td>\n",
       "      <td>positive</td>\n",
       "      <td>cg00075967</td>\n",
       "      <td>0.129337</td>\n",
       "    </tr>\n",
       "    <tr>\n",
       "      <th>2</th>\n",
       "      <td>cg00374717</td>\n",
       "      <td>0.005018</td>\n",
       "      <td>NaN</td>\n",
       "      <td>0.01200</td>\n",
       "      <td>0.0031</td>\n",
       "      <td>1.00</td>\n",
       "      <td>0.890</td>\n",
       "      <td>0.870</td>\n",
       "      <td>0.900</td>\n",
       "      <td>22901.0</td>\n",
       "      <td>...</td>\n",
       "      <td>+</td>\n",
       "      <td>ARSG</td>\n",
       "      <td>KIAA1001;</td>\n",
       "      <td>NM_014960.2</td>\n",
       "      <td>GI:45430056</td>\n",
       "      <td>go_function: hydrolase activity; go_function: ...</td>\n",
       "      <td>Arylsulfatase G</td>\n",
       "      <td>positive</td>\n",
       "      <td>cg00374717</td>\n",
       "      <td>0.005018</td>\n",
       "    </tr>\n",
       "    <tr>\n",
       "      <th>3</th>\n",
       "      <td>cg00864867</td>\n",
       "      <td>1.599764</td>\n",
       "      <td>1.863969</td>\n",
       "      <td>0.00087</td>\n",
       "      <td>0.0000</td>\n",
       "      <td>0.58</td>\n",
       "      <td>0.049</td>\n",
       "      <td>0.045</td>\n",
       "      <td>0.053</td>\n",
       "      <td>5074.0</td>\n",
       "      <td>...</td>\n",
       "      <td>-</td>\n",
       "      <td>PAWR</td>\n",
       "      <td>PAR4; Par-4;</td>\n",
       "      <td>NM_002583.2</td>\n",
       "      <td>GI:55769532</td>\n",
       "      <td>##############################################...</td>\n",
       "      <td>PRKC; apoptosis; WT1; regulator</td>\n",
       "      <td>positive</td>\n",
       "      <td>cg00864867</td>\n",
       "      <td>1.599764</td>\n",
       "    </tr>\n",
       "    <tr>\n",
       "      <th>4</th>\n",
       "      <td>cg00945507</td>\n",
       "      <td>0.056852</td>\n",
       "      <td>NaN</td>\n",
       "      <td>0.01600</td>\n",
       "      <td>0.0000</td>\n",
       "      <td>0.96</td>\n",
       "      <td>0.240</td>\n",
       "      <td>0.230</td>\n",
       "      <td>0.250</td>\n",
       "      <td>23480.0</td>\n",
       "      <td>...</td>\n",
       "      <td>-</td>\n",
       "      <td>SEC61G</td>\n",
       "      <td>SSS1;</td>\n",
       "      <td>NM_014302.3</td>\n",
       "      <td>GI:60279263</td>\n",
       "      <td>##############################################...</td>\n",
       "      <td>Sec61 gamma subunit</td>\n",
       "      <td>positive</td>\n",
       "      <td>cg00945507</td>\n",
       "      <td>0.056852</td>\n",
       "    </tr>\n",
       "  </tbody>\n",
       "</table>\n",
       "<p>5 rows × 25 columns</p>\n",
       "</div>"
      ],
      "text/plain": [
       "     CpGmarker  CoefficientTraining  CoefficientTrainingShrunk  varByCpG  \\\n",
       "0  (Intercept)             0.695507                   0.886920       NaN   \n",
       "1   cg00075967             0.129337                   0.108096   0.02600   \n",
       "2   cg00374717             0.005018                        NaN   0.01200   \n",
       "3   cg00864867             1.599764                   1.863969   0.00087   \n",
       "4   cg00945507             0.056852                        NaN   0.01600   \n",
       "\n",
       "   minByCpG  maxByCpG  medianByCpG  medianByCpGYoung  medianByCpGOld  Gene_ID  \\\n",
       "0       NaN       NaN          NaN               NaN             NaN      NaN   \n",
       "1    0.0160      0.97        0.750             0.720           0.750  64220.0   \n",
       "2    0.0031      1.00        0.890             0.870           0.900  22901.0   \n",
       "3    0.0000      0.58        0.049             0.045           0.053   5074.0   \n",
       "4    0.0000      0.96        0.240             0.230           0.250  23480.0   \n",
       "\n",
       "   ...  Gene_Strand  Symbol              Synonym    Accession          GID  \\\n",
       "0  ...          NaN     NaN                  NaN          NaN          NaN   \n",
       "1  ...            -   STRA6  PP14296; FLJ12541;   NM_022369.2  GI:21314699   \n",
       "2  ...            +    ARSG           KIAA1001;   NM_014960.2  GI:45430056   \n",
       "3  ...            -    PAWR        PAR4; Par-4;   NM_002583.2  GI:55769532   \n",
       "4  ...            -  SEC61G               SSS1;   NM_014302.3  GI:60279263   \n",
       "\n",
       "                                          Annotation  \\\n",
       "0                                                NaN   \n",
       "1                        synonyms: PP14296; FLJ12541   \n",
       "2  go_function: hydrolase activity; go_function: ...   \n",
       "3  ##############################################...   \n",
       "4  ##############################################...   \n",
       "\n",
       "                                      Product Marginal Age Relationship  \\\n",
       "0                                         NaN                       NaN   \n",
       "1  stimulated by retinoic acid gene 6 homolog                  positive   \n",
       "2                             Arylsulfatase G                  positive   \n",
       "3             PRKC; apoptosis; WT1; regulator                  positive   \n",
       "4                         Sec61 gamma subunit                  positive   \n",
       "\n",
       "       feature coefficient  \n",
       "0  (Intercept)    0.695507  \n",
       "1   cg00075967    0.129337  \n",
       "2   cg00374717    0.005018  \n",
       "3   cg00864867    1.599764  \n",
       "4   cg00945507    0.056852  \n",
       "\n",
       "[5 rows x 25 columns]"
      ]
     },
     "execution_count": 6,
     "metadata": {},
     "output_type": "execute_result"
    }
   ],
   "source": [
    "df['feature'] = df['CpGmarker']\n",
    "df['coefficient'] = df['CoefficientTraining']\n",
    "\n",
    "df.head()"
   ]
  },
  {
   "cell_type": "markdown",
   "id": "5ac5b42a-3bd9-49d3-b84e-79d236af24b4",
   "metadata": {},
   "source": [
    "Then, let's create lists for features and weights. Be careful about the intercept, as it usually shows up as a feature name."
   ]
  },
  {
   "cell_type": "code",
   "execution_count": 7,
   "id": "2fc06bb5-7e9c-46fd-9843-31880f1d3788",
   "metadata": {},
   "outputs": [],
   "source": [
    "features = df['feature'][1:].tolist()\n",
    "weights = torch.tensor(df['coefficient'][1:].tolist()).unsqueeze(0)\n",
    "intercept = torch.tensor([df['coefficient'][0]])"
   ]
  },
  {
   "cell_type": "markdown",
   "id": "d193ccbf-d06b-49bb-ad4b-ffe3271dea63",
   "metadata": {},
   "source": [
    "## Load weights into pyaging model"
   ]
  },
  {
   "cell_type": "markdown",
   "id": "4350119a-4bd4-4efa-85b5-9de70fdf496f",
   "metadata": {},
   "source": [
    "#### Linear model"
   ]
  },
  {
   "cell_type": "code",
   "execution_count": 8,
   "id": "7354c541-5af9-447d-a339-2cb88c253b41",
   "metadata": {},
   "outputs": [
    {
     "data": {
      "text/plain": [
       "LinearModel(\n",
       "  (linear): Linear(in_features=353, out_features=1, bias=True)\n",
       ")"
      ]
     },
     "execution_count": 8,
     "metadata": {},
     "output_type": "execute_result"
    }
   ],
   "source": [
    "model = pya.models.LinearModel(input_dim=len(features))\n",
    "\n",
    "model.linear.weight.data = weights.float()\n",
    "model.linear.bias.data = intercept.float()\n",
    "\n",
    "model"
   ]
  },
  {
   "cell_type": "markdown",
   "id": "06adc9d8-cec2-447d-8d0b-e2819d4c1a5b",
   "metadata": {},
   "source": [
    "## Add reference values"
   ]
  },
  {
   "cell_type": "markdown",
   "id": "84bf0205-f976-497b-a6a9-e4945c05cdb3",
   "metadata": {},
   "source": [
    "Some clocks have reference values in the case of missing features. It is also possible that these values are for preprocessing features rather than the clock features. Let's add a dictionary with the feature names as the keys."
   ]
  },
  {
   "cell_type": "code",
   "execution_count": 9,
   "id": "250dd50d-a175-45f3-913b-da87c50cb55c",
   "metadata": {},
   "outputs": [],
   "source": [
    "reference_feature_values_df = reference_feature_values_df.loc[features]\n",
    "\n",
    "reference_feature_values = dict(zip(features, reference_feature_values_df['goldstandard2'].tolist()))"
   ]
  },
  {
   "cell_type": "markdown",
   "id": "c9b4fd10-797c-45bd-aa1a-65aed1deaf1c",
   "metadata": {},
   "source": [
    "## Add preprocessing and postprocesssing steps"
   ]
  },
  {
   "cell_type": "markdown",
   "id": "20649dc9-2b58-4c63-a48e-f8d7a4bb520b",
   "metadata": {},
   "source": [
    "The preprocessing and postprocessing objects are dictionaries with the following format, with all items required. It takes in x in the form of a numpy array."
   ]
  },
  {
   "cell_type": "code",
   "execution_count": 10,
   "id": "1d173005-fb63-43d5-bd9f-0b4fa2e240b1",
   "metadata": {},
   "outputs": [],
   "source": [
    "preprocessing = None"
   ]
  },
  {
   "cell_type": "markdown",
   "id": "3ca747b4-0214-40a1-a7bf-fbf2a71084af",
   "metadata": {},
   "source": [
    "Similarly is the case of postprocessing. Remember that your function must be compatible with torch and is applied to each number individually."
   ]
  },
  {
   "cell_type": "code",
   "execution_count": 11,
   "id": "6fe37a2c-113a-4517-91e4-10a4e8b2005a",
   "metadata": {},
   "outputs": [],
   "source": [
    "def postprocessing_function(x):\n",
    "    \"\"\"\n",
    "    Applies an anti-logarithmic linear transformation to a PyTorch tensor.\n",
    "    \"\"\"\n",
    "    adult_age=20\n",
    "    \n",
    "    if x < 0:\n",
    "        # Exponential transformation for negative values\n",
    "        age_tensor = (1 + adult_age) * math.exp(x) - 1\n",
    "    else:\n",
    "        # Linear transformation for non-negative values\n",
    "        age_tensor = (1 + adult_age) * x + adult_age\n",
    "    return age_tensor\n",
    "    \n",
    "postprocessing_function_string = marshal.dumps(postprocessing_function.__code__)\n",
    "\n",
    "postprocessing_helper_objects = None\n",
    "\n",
    "postprocessing = {\n",
    "    'name': 'anti_log_linear',\n",
    "    'postprocessing_function': postprocessing_function_string,\n",
    "    'postprocessing_helper_objects': postprocessing_helper_objects\n",
    "}"
   ]
  },
  {
   "cell_type": "markdown",
   "id": "2dc87612-02af-4ae9-9df8-3a67cf01550b",
   "metadata": {},
   "source": [
    "## Check all data objects"
   ]
  },
  {
   "cell_type": "markdown",
   "id": "f9999e0f-82d2-4c94-a19d-c9bdec0996e6",
   "metadata": {},
   "source": [
    "Let's print all data objects to check if they make sense."
   ]
  },
  {
   "cell_type": "markdown",
   "id": "ba2b6ebf-88c9-4ae8-9b1c-e2d8003dfd45",
   "metadata": {},
   "source": [
    "#### features"
   ]
  },
  {
   "cell_type": "code",
   "execution_count": 12,
   "id": "bf047bed-52f0-4a64-9691-4c04df9f50ec",
   "metadata": {},
   "outputs": [
    {
     "data": {
      "text/html": [
       "\n",
       "    <div style=\"overflow-x: scroll; overflow-y: scroll; border: 1px solid black; background-color: white; !important; color: black; !important;\">\n",
       "        <pre>There are 353 features.\n",
       "['cg00075967', 'cg00374717', 'cg00864867', 'cg00945507', 'cg01027739', 'cg01353448', 'cg01584473', 'cg01644850', 'cg01656216', 'cg01873645', 'cg01968178', 'cg02085507', 'cg02154074', 'cg02217159', 'cg02331561', 'cg02332492', 'cg02364642', 'cg02388150', 'cg02479575', 'cg02489552', 'cg02580606', 'cg02654291', 'cg02827112', 'cg02972551', 'cg03103192', 'cg03167275', 'cg03270204', 'cg03565323', 'cg03588357', 'cg03760483', 'cg04084157', 'cg04126866', 'cg04528819', 'cg04836038', 'cg05250458', 'cg05294243', 'cg05365729', 'cg05675373', 'cg05755779', 'cg05921699', 'cg05960024', 'cg06121469', 'cg06144905', 'cg06361108', 'cg06462291', 'cg06493994', 'cg06557358', 'cg06738602', 'cg06810647', 'cg06952310', 'cg06993413', 'cg07285276', 'cg07291563', 'cg07337598', 'cg07455279', 'cg07595943', 'cg08030082', 'cg08090772', 'cg08124722', 'cg08251036', 'cg08370996', 'cg08413469', 'cg08434234', 'cg08771731', 'cg08965235', 'cg09019938', 'cg09118625', 'cg09191327', 'cg09418283', 'cg09509673', 'cg09785172', 'cg09869858', 'cg09885951', 'cg10281002', 'cg10376763', 'cg10377274', 'cg10486998', 'cg10523019', 'cg10920957', 'cg11932564', 'cg12351433', 'cg12373771', 'cg12768605', 'cg12830694', 'cg12946225', 'cg13038560', 'cg13216057', 'cg13319175', 'cg13460409', 'cg13682722', 'cg13836627', 'cg13854874', 'cg13899108', 'cg13975369', 'cg14258236', 'cg14308452', 'cg14329157', 'cg14424579', 'cg14501253', 'cg14658362', 'cg14723032', 'cg14894144', 'cg14992253', 'cg15341340', 'cg15381769', 'cg15547534', 'cg15661409', 'cg15974053', 'cg15988232', 'cg16150435', 'cg16241714', 'cg16494477', 'cg16547529', 'cg16579101', 'cg17063929', 'cg17099569', 'cg17285325', 'cg17408647', 'cg17655614', 'cg17729667', 'cg17853587', 'cg17960516', 'cg18055007', 'cg18180783', 'cg18440048', 'cg18573383', 'cg18983672', 'cg18984151', 'cg19008809', 'cg19167673', 'cg19273182', 'cg19305227', 'cg19346193', 'cg19478743', 'cg19514928', 'cg19692710', 'cg19945840', 'cg20295671', 'cg20305610', 'cg20524216', 'cg20692569', 'cg20761322', 'cg20795863', 'cg20828084', 'cg20914508', 'cg20947775', 'cg20999813', 'cg21096399', 'cg21378206', 'cg21460081', 'cg21801378', 'cg21870884', 'cg22006386', 'cg22289837', 'cg22432269', 'cg22449114', 'cg22679120', 'cg22736354', 'cg22809047', 'cg22901840', 'cg22920873', 'cg23517605', 'cg23662675', 'cg23941599', 'cg24116886', 'cg24126851', 'cg24254120', 'cg24262469', 'cg24450312', 'cg24580001', 'cg24834740', 'cg25070637', 'cg25148589', 'cg25505610', 'cg25552492', 'cg25683012', 'cg25771195', 'cg25781123', 'cg26003813', 'cg26005082', 'cg26045434', 'cg26297688', 'cg26372517', 'cg26453588', 'cg26620959', 'cg26842024', 'cg26845300', 'cg27092035', 'cg27169020', 'cg27319898', 'cg27377450', 'cg27413543', 'cg27494383', 'cg00091693', 'cg00168942', 'cg00431549', 'cg00436603', 'cg01027805', 'cg01234063', 'cg01262913', 'cg01407797', 'cg01459453', 'cg01485645', 'cg01511567', 'cg01560871', 'cg01570885', 'cg01820374', 'cg02047577', 'cg02071305', 'cg02275294', 'cg02335441', 'cg03019000', 'cg03286783', 'cg03330058', 'cg03578041', 'cg03682823', 'cg03891319', 'cg03947362', 'cg04005032', 'cg04094160', 'cg04121983', 'cg04268405', 'cg04431054', 'cg04452713', 'cg04474832', 'cg04999691', 'cg05442902', 'cg05590257', 'cg05847778', 'cg05903609', 'cg06044899', 'cg06117855', 'cg06513075', 'cg06688848', 'cg06836772', 'cg06926735', 'cg07158339', 'cg07388493', 'cg07408456', 'cg07498421', 'cg07663789', 'cg07730301', 'cg07770222', 'cg07849904', 'cg08186124', 'cg08331960', 'cg09133026', 'cg09441152', 'cg09646392', 'cg09722397', 'cg09722555', 'cg09809672', 'cg10045881', 'cg10266490', 'cg10345936', 'cg10865119', 'cg10940099', 'cg11025793', 'cg11299964', 'cg11314684', 'cg11388238', 'cg11653266', 'cg12413566', 'cg12616277', 'cg12941369', 'cg12985418', 'cg13129046', 'cg13269407', 'cg13302154', 'cg13547237', 'cg13828047', 'cg13931228', 'cg14060828', 'cg14163776', 'cg14175438', 'cg14408969', 'cg14409958', 'cg14423778', 'cg14597908', 'cg14654875', 'cg14727952', 'cg15185286', 'cg15262928', 'cg15703512', 'cg15804973', 'cg16034652', 'cg16168311', 'cg16358826', 'cg16408394', 'cg16419345', 'cg16744741', 'cg16899442', 'cg16984944', 'cg17274064', 'cg17324128', 'cg17338403', 'cg17589341', 'cg17686885', 'cg18031008', 'cg18139769', 'cg18328933', 'cg18956095', 'cg19044674', 'cg19046959', 'cg19420968', 'cg19569684', 'cg19706682', 'cg19722847', 'cg19724470', 'cg19761273', 'cg19853760', 'cg20100381', 'cg20240860', 'cg21211748', 'cg21305265', 'cg21370143', 'cg21395782', 'cg21950518', 'cg22171829', 'cg22190114', 'cg22197830', 'cg22568540', 'cg22613010', 'cg22637507', 'cg22947000', 'cg23092072', 'cg23124451', 'cg23180365', 'cg23786576', 'cg24058132', 'cg24081819', 'cg24471894', 'cg24888049', 'cg24899750', 'cg25101936', 'cg25159610', 'cg25166896', 'cg25411725', 'cg25564800', 'cg25657834', 'cg25809905', 'cg25928579', 'cg26043391', 'cg26162695', 'cg26394940', 'cg26456957', 'cg26614073', 'cg26723847', 'cg26824091', 'cg27015931', 'cg27016307', 'cg27202708', 'cg27544190']\n",
       "</pre>\n",
       "    </div>\n",
       "    "
      ],
      "text/plain": [
       "<IPython.core.display.HTML object>"
      ]
     },
     "metadata": {},
     "output_type": "display_data"
    }
   ],
   "source": [
    "def my_print_function():\n",
    "    print(f\"There are {len(features)} features.\")\n",
    "    print(features)\n",
    "pya.utils.print_to_scrollable_output(my_print_function)"
   ]
  },
  {
   "cell_type": "markdown",
   "id": "db3ed865-4119-45aa-8e52-b2a4aa71ba28",
   "metadata": {},
   "source": [
    "#### reference_feature_values"
   ]
  },
  {
   "cell_type": "code",
   "execution_count": 13,
   "id": "6436fd01-0a8e-41a5-b584-2c020136ff97",
   "metadata": {},
   "outputs": [
    {
     "data": {
      "text/html": [
       "\n",
       "    <div style=\"overflow-x: scroll; overflow-y: scroll; border: 1px solid black; background-color: white; !important; color: black; !important;\">\n",
       "        <pre>There are 353 reference feature values.\n",
       "{'cg00075967': 0.790221397, 'cg00374717': 0.89001929, 'cg00864867': 0.059106387, 'cg00945507': 0.23651937, 'cg01027739': 0.073668777, 'cg01353448': 0.563295909, 'cg01584473': 0.864999404, 'cg01644850': 0.027047887, 'cg01656216': 0.660721193, 'cg01873645': 0.033420176, 'cg01968178': 0.047913033, 'cg02085507': 0.517283973, 'cg02154074': 0.050756537, 'cg02217159': 0.072267723, 'cg02331561': 0.014877693, 'cg02332492': 0.876157036, 'cg02364642': 0.187082703, 'cg02388150': 0.170303406, 'cg02479575': 0.019217238, 'cg02489552': 0.560726569, 'cg02580606': 0.845964086, 'cg02654291': 0.447995921, 'cg02827112': 0.055406903, 'cg02972551': 0.059821557, 'cg03103192': 0.533869814, 'cg03167275': 0.065190933, 'cg03270204': 0.896227421, 'cg03565323': 0.090932158, 'cg03588357': 0.032431793, 'cg03760483': 0.480007151, 'cg04084157': 0.086699822, 'cg04126866': 0.899022271, 'cg04528819': 0.122912638, 'cg04836038': 0.079708291, 'cg05250458': 0.284946055, 'cg05294243': 0.280376996, 'cg05365729': 0.362458936, 'cg05675373': 0.047031178, 'cg05755779': 0.832645058, 'cg05921699': 0.815824926, 'cg05960024': 0.823450305, 'cg06121469': 0.028372333, 'cg06144905': 0.201244954, 'cg06361108': 0.007395812, 'cg06462291': 0.063836359, 'cg06493994': 0.081548489, 'cg06557358': 0.023503546, 'cg06738602': 0.05701692, 'cg06810647': 0.187332899, 'cg06952310': 0.548726097, 'cg06993413': 0.04382443, 'cg07285276': 0.82714559, 'cg07291563': 0.033076134, 'cg07337598': 0.684332052, 'cg07455279': 0.290736533, 'cg07595943': 0.9828896, 'cg08030082': 0.439363761, 'cg08090772': 0.038335857, 'cg08124722': 0.909022561, 'cg08251036': 0.878878978, 'cg08370996': 0.065979984, 'cg08413469': 0.053534388, 'cg08434234': 0.041844865, 'cg08771731': 0.058009436, 'cg08965235': 0.177791939, 'cg09019938': 0.036005393, 'cg09118625': 0.715886069, 'cg09191327': 0.036417328, 'cg09418283': 0.023930373, 'cg09509673': 0.858505988, 'cg09785172': 0.023725755, 'cg09869858': 0.928779083, 'cg09885951': 0.032593787, 'cg10281002': 0.15872456, 'cg10376763': 0.877347636, 'cg10377274': 0.845878607, 'cg10486998': 0.087083426, 'cg10523019': 0.07985696, 'cg10920957': 0.042100437, 'cg11932564': 0.030224117, 'cg12351433': 0.179050503, 'cg12373771': 0.058358276, 'cg12768605': 0.124165258, 'cg12830694': 0.933062155, 'cg12946225': 0.072983253, 'cg13038560': 0.903941814, 'cg13216057': 0.054340758, 'cg13319175': 0.8754901, 'cg13460409': 0.181955336, 'cg13682722': 0.088269497, 'cg13836627': 0.052862681, 'cg13854874': 0.149768181, 'cg13899108': 0.480347694, 'cg13975369': 0.311058134, 'cg14258236': 0.815780376, 'cg14308452': 0.821666054, 'cg14329157': 0.117259262, 'cg14424579': 0.023595025, 'cg14501253': 0.043112926, 'cg14658362': 0.040168707, 'cg14723032': 0.701826254, 'cg14894144': 0.42917199, 'cg14992253': 0.084798572, 'cg15341340': 0.04941543, 'cg15381769': 0.024488979, 'cg15547534': 0.032287823, 'cg15661409': 0.812185503, 'cg15974053': 0.015852949, 'cg15988232': 0.408744834, 'cg16150435': 0.787968506, 'cg16241714': 0.026117205, 'cg16494477': 0.046024199, 'cg16547529': 0.520990776, 'cg16579101': 0.05088741, 'cg17063929': 0.100835067, 'cg17099569': 0.571126944, 'cg17285325': 0.03882689, 'cg17408647': 0.032864952, 'cg17655614': 0.311046746, 'cg17729667': 0.073011989, 'cg17853587': 0.058071882, 'cg17960516': 0.058135073, 'cg18055007': 0.159541765, 'cg18180783': 0.932862424, 'cg18440048': 0.151813412, 'cg18573383': 0.070364942, 'cg18983672': 0.856017023, 'cg18984151': 0.180415443, 'cg19008809': 0.037496117, 'cg19167673': 0.052328178, 'cg19273182': 0.027788099, 'cg19305227': 0.828613466, 'cg19346193': 0.87780404, 'cg19478743': 0.038944718, 'cg19514928': 0.040808082, 'cg19692710': 0.789923244, 'cg19945840': 0.445776259, 'cg20295671': 0.00717185, 'cg20305610': 0.033863883, 'cg20524216': 0.013523612, 'cg20692569': 0.386680479, 'cg20761322': 0.088241464, 'cg20795863': 0.918646747, 'cg20828084': 0.867717117, 'cg20914508': 0.120730876, 'cg20947775': 0.045752965, 'cg20999813': 0.024557841, 'cg21096399': 0.170841306, 'cg21378206': 0.9110187, 'cg21460081': 0.076522548, 'cg21801378': 0.045345854, 'cg21870884': 0.222962552, 'cg22006386': 0.053431293, 'cg22289837': 0.268469069, 'cg22432269': 0.021426296, 'cg22449114': 0.308341012, 'cg22679120': 0.659613635, 'cg22736354': 0.119085811, 'cg22809047': 0.666601458, 'cg22901840': 0.633764832, 'cg22920873': 0.018695172, 'cg23517605': 0.125895753, 'cg23662675': 0.035398719, 'cg23941599': 0.109514945, 'cg24116886': 0.851244411, 'cg24126851': 0.88083887, 'cg24254120': 0.060547195, 'cg24262469': 0.297176962, 'cg24450312': 0.046095173, 'cg24580001': 0.905690774, 'cg24834740': 0.028266218, 'cg25070637': 0.049039811, 'cg25148589': 0.16356327, 'cg25505610': 0.027668144, 'cg25552492': 0.053180212, 'cg25683012': 0.021953891, 'cg25771195': 0.507363564, 'cg25781123': 0.062038502, 'cg26003813': 0.049581722, 'cg26005082': 0.050859015, 'cg26045434': 0.087296727, 'cg26297688': 0.077520049, 'cg26372517': 0.255180604, 'cg26453588': 0.457635017, 'cg26620959': 0.057935834, 'cg26842024': 0.082130899, 'cg26845300': 0.047198079, 'cg27092035': 0.027875891, 'cg27169020': 0.25631272, 'cg27319898': 0.045067482, 'cg27377450': 0.877216552, 'cg27413543': 0.047099792, 'cg27494383': 0.062326203, 'cg00091693': 0.681442958, 'cg00168942': 0.5515148, 'cg00431549': 0.260718506, 'cg00436603': 0.81553525, 'cg01027805': 0.052788532, 'cg01234063': 0.087625686, 'cg01262913': 0.097462947, 'cg01407797': 0.083978807, 'cg01459453': 0.704501926, 'cg01485645': 0.094954929, 'cg01511567': 0.147145442, 'cg01560871': 0.76107408, 'cg01570885': 0.443662677, 'cg01820374': 0.42224304, 'cg02047577': 0.015972062, 'cg02071305': 0.263434065, 'cg02275294': 0.064610246, 'cg02335441': 0.039204591, 'cg03019000': 0.713252269, 'cg03286783': 0.041891484, 'cg03330058': 0.37991388, 'cg03578041': 0.29135288, 'cg03682823': 0.445764849, 'cg03891319': 0.051565933, 'cg03947362': 0.042725275, 'cg04005032': 0.04009526, 'cg04094160': 0.047543719, 'cg04121983': 0.0859712, 'cg04268405': 0.882511235, 'cg04431054': 0.205899448, 'cg04452713': 0.125251239, 'cg04474832': 0.244977636, 'cg04999691': 0.706605388, 'cg05442902': 0.22834708, 'cg05590257': 0.138154889, 'cg05847778': 0.033505514, 'cg05903609': 0.09208892, 'cg06044899': 0.6353337, 'cg06117855': 0.096512866, 'cg06513075': 0.057393708, 'cg06688848': 0.026439291, 'cg06836772': 0.126814505, 'cg06926735': 0.039684882, 'cg07158339': 0.357150121, 'cg07388493': 0.455091855, 'cg07408456': 0.43479083, 'cg07498421': 0.113991444, 'cg07663789': 0.041432947, 'cg07730301': 0.304809186, 'cg07770222': 0.521913827, 'cg07849904': 0.059723382, 'cg08186124': 0.042111776, 'cg08331960': 0.523939771, 'cg09133026': 0.87338262, 'cg09441152': 0.036019733, 'cg09646392': 0.319017736, 'cg09722397': 0.040910842, 'cg09722555': 0.928940461, 'cg09809672': 0.48759164, 'cg10045881': 0.662289663, 'cg10266490': 0.146652716, 'cg10345936': 0.750063455, 'cg10865119': 0.136683386, 'cg10940099': 0.025789057, 'cg11025793': 0.11075791, 'cg11299964': 0.194670234, 'cg11314684': 0.491256915, 'cg11388238': 0.062175079, 'cg11653266': 0.025190936, 'cg12413566': 0.905660358, 'cg12616277': 0.064863818, 'cg12941369': 0.34229325, 'cg12985418': 0.041801633, 'cg13129046': 0.129266354, 'cg13269407': 0.162962936, 'cg13302154': 0.382702794, 'cg13547237': 0.27658651, 'cg13828047': 0.278102144, 'cg13931228': 0.066376074, 'cg14060828': 0.142500724, 'cg14163776': 0.184429601, 'cg14175438': 0.1962161, 'cg14408969': 0.043477815, 'cg14409958': 0.131548242, 'cg14423778': 0.318222416, 'cg14597908': 0.386975122, 'cg14654875': 0.394342628, 'cg14727952': 0.070886658, 'cg15185286': 0.037308152, 'cg15262928': 0.037599965, 'cg15703512': 0.054905615, 'cg15804973': 0.308098302, 'cg16034652': 0.444725111, 'cg16168311': 0.054273083, 'cg16358826': 0.110908179, 'cg16408394': 0.019351395, 'cg16419345': 0.050636002, 'cg16744741': 0.39618258, 'cg16899442': 0.196289234, 'cg16984944': 0.101032634, 'cg17274064': 0.153908423, 'cg17324128': 0.143710193, 'cg17338403': 0.049253528, 'cg17589341': 0.469287019, 'cg17686885': 0.11410674, 'cg18031008': 0.081096938, 'cg18139769': 0.513260009, 'cg18328933': 0.665155303, 'cg18956095': 0.064879313, 'cg19044674': 0.029471687, 'cg19046959': 0.053999028, 'cg19420968': 0.941168908, 'cg19569684': 0.908026364, 'cg19706682': 0.110960646, 'cg19722847': 0.158285658, 'cg19724470': 0.241099678, 'cg19761273': 0.218577363, 'cg19853760': 0.656802287, 'cg20100381': 0.069645534, 'cg20240860': 0.191508629, 'cg21211748': 0.059114991, 'cg21305265': 0.040742247, 'cg21370143': 0.800125872, 'cg21395782': 0.033635267, 'cg21950518': 0.076397383, 'cg22171829': 0.251341269, 'cg22190114': 0.871725252, 'cg22197830': 0.792232586, 'cg22568540': 0.934727032, 'cg22613010': 0.072287397, 'cg22637507': 0.033883218, 'cg22947000': 0.279427194, 'cg23092072': 0.038628282, 'cg23124451': 0.6552219, 'cg23180365': 0.02761966, 'cg23786576': 0.032458549, 'cg24058132': 0.559356892, 'cg24081819': 0.060789999, 'cg24471894': 0.188905161, 'cg24888049': 0.742196403, 'cg24899750': 0.625053339, 'cg25101936': 0.574637237, 'cg25159610': 0.074672868, 'cg25166896': 0.043128947, 'cg25411725': 0.867348076, 'cg25564800': 0.117307005, 'cg25657834': 0.105668834, 'cg25809905': 0.682026164, 'cg25928579': 0.074838721, 'cg26043391': 0.057209249, 'cg26162695': 0.034820268, 'cg26394940': 0.10541731, 'cg26456957': 0.037972463, 'cg26614073': 0.515432703, 'cg26723847': 0.082331052, 'cg26824091': 0.081326267, 'cg27015931': 0.07788995, 'cg27016307': 0.435508746, 'cg27202708': 0.194093319, 'cg27544190': 0.079760704}\n",
       "</pre>\n",
       "    </div>\n",
       "    "
      ],
      "text/plain": [
       "<IPython.core.display.HTML object>"
      ]
     },
     "metadata": {},
     "output_type": "display_data"
    }
   ],
   "source": [
    "def my_print_function():\n",
    "    if reference_feature_values:\n",
    "        print(f\"There are {len(reference_feature_values)} reference feature values.\")\n",
    "    print(reference_feature_values)\n",
    "pya.utils.print_to_scrollable_output(my_print_function)"
   ]
  },
  {
   "cell_type": "markdown",
   "id": "f74a4605-74c0-46b7-ace2-4b9a8ae1b8ec",
   "metadata": {},
   "source": [
    "#### preprocessing"
   ]
  },
  {
   "cell_type": "code",
   "execution_count": 14,
   "id": "960c5ede-3175-4192-a358-bf5ccb41074f",
   "metadata": {},
   "outputs": [
    {
     "data": {
      "text/html": [
       "\n",
       "    <div style=\"overflow-x: scroll; overflow-y: scroll; border: 1px solid black; background-color: white; !important; color: black; !important;\">\n",
       "        <pre>None\n",
       "</pre>\n",
       "    </div>\n",
       "    "
      ],
      "text/plain": [
       "<IPython.core.display.HTML object>"
      ]
     },
     "metadata": {},
     "output_type": "display_data"
    }
   ],
   "source": [
    "def my_print_function():\n",
    "    print(preprocessing)\n",
    "    if preprocessing:\n",
    "        print(preprocessing_helper_objects)\n",
    "pya.utils.print_to_scrollable_output(my_print_function)"
   ]
  },
  {
   "cell_type": "markdown",
   "id": "148e6002-185b-448d-9ceb-b92540933551",
   "metadata": {},
   "source": [
    "#### postprocessing"
   ]
  },
  {
   "cell_type": "code",
   "execution_count": 15,
   "id": "40fe1f52-ad50-4b84-89c7-c5d1d3fff139",
   "metadata": {},
   "outputs": [
    {
     "data": {
      "text/html": [
       "\n",
       "    <div style=\"overflow-x: scroll; overflow-y: scroll; border: 1px solid black; background-color: white; !important; color: black; !important;\">\n",
       "        <pre>{'name': 'anti_log_linear', 'postprocessing_function': b'\\xe3\\x01\\x00\\x00\\x00\\x00\\x00\\x00\\x00\\x00\\x00\\x00\\x00\\x03\\x00\\x00\\x00\\x04\\x00\\x00\\x00C\\x00\\x00\\x00s8\\x00\\x00\\x00d\\x01}\\x01|\\x00d\\x02k\\x00r$d\\x03|\\x01\\x17\\x00t\\x00\\xa0\\x01|\\x00\\xa1\\x01\\x14\\x00d\\x03\\x18\\x00}\\x02n\\x10d\\x03|\\x01\\x17\\x00|\\x00\\x14\\x00|\\x01\\x17\\x00}\\x02|\\x02S\\x00)\\x04\\xfaP\\n    Applies an anti-logarithmic linear transformation to a PyTorch tensor.\\n    \\xe9\\x14\\x00\\x00\\x00\\xe9\\x00\\x00\\x00\\x00\\xe9\\x01\\x00\\x00\\x00)\\x02\\xda\\x04math\\xda\\x03exp)\\x03\\xda\\x01x\\xda\\tadult_age\\xda\\nage_tensor\\xa9\\x00r\\n\\x00\\x00\\x00\\xfa\\x1f<ipython-input-11-4cc1a2847503>\\xda\\x17postprocessing_function\\x01\\x00\\x00\\x00s\\n\\x00\\x00\\x00\\x00\\x04\\x04\\x02\\x08\\x02\\x18\\x03\\x10\\x01', 'postprocessing_helper_objects': None}\n",
       "{'name': 'anti_log_linear', 'postprocessing_function': b'\\xe3\\x01\\x00\\x00\\x00\\x00\\x00\\x00\\x00\\x00\\x00\\x00\\x00\\x03\\x00\\x00\\x00\\x04\\x00\\x00\\x00C\\x00\\x00\\x00s8\\x00\\x00\\x00d\\x01}\\x01|\\x00d\\x02k\\x00r$d\\x03|\\x01\\x17\\x00t\\x00\\xa0\\x01|\\x00\\xa1\\x01\\x14\\x00d\\x03\\x18\\x00}\\x02n\\x10d\\x03|\\x01\\x17\\x00|\\x00\\x14\\x00|\\x01\\x17\\x00}\\x02|\\x02S\\x00)\\x04\\xfaP\\n    Applies an anti-logarithmic linear transformation to a PyTorch tensor.\\n    \\xe9\\x14\\x00\\x00\\x00\\xe9\\x00\\x00\\x00\\x00\\xe9\\x01\\x00\\x00\\x00)\\x02\\xda\\x04math\\xda\\x03exp)\\x03\\xda\\x01x\\xda\\tadult_age\\xda\\nage_tensor\\xa9\\x00r\\n\\x00\\x00\\x00\\xfa\\x1f<ipython-input-11-4cc1a2847503>\\xda\\x17postprocessing_function\\x01\\x00\\x00\\x00s\\n\\x00\\x00\\x00\\x00\\x04\\x04\\x02\\x08\\x02\\x18\\x03\\x10\\x01', 'postprocessing_helper_objects': None}\n",
       "</pre>\n",
       "    </div>\n",
       "    "
      ],
      "text/plain": [
       "<IPython.core.display.HTML object>"
      ]
     },
     "metadata": {},
     "output_type": "display_data"
    }
   ],
   "source": [
    "def my_print_function():\n",
    "    print(postprocessing)\n",
    "    if postprocessing:\n",
    "        print(postprocessing)\n",
    "pya.utils.print_to_scrollable_output(my_print_function)"
   ]
  },
  {
   "cell_type": "markdown",
   "id": "317d9c42-9e20-4420-b845-5a646fb36244",
   "metadata": {},
   "source": [
    "#### weight_dict"
   ]
  },
  {
   "cell_type": "code",
   "execution_count": 16,
   "id": "658317e5-44bd-4621-877c-5db57494c968",
   "metadata": {},
   "outputs": [
    {
     "data": {
      "text/html": [
       "\n",
       "    <div style=\"overflow-x: scroll; overflow-y: scroll; border: 1px solid black; background-color: white; !important; color: black; !important;\">\n",
       "        <pre>Layer: linear.weight\n",
       "Shape: torch.Size([1, 353])\n",
       "tensor([[ 1.2934e-01,  5.0179e-03,  1.5998e+00,  5.6852e-02,  1.0286e-01,\n",
       "          2.3856e-01,  8.8628e-02,  1.5995e-01,  4.2806e-02, -6.0406e-01,\n",
       "          1.1692e+00,  6.1276e-03,  4.4757e-02, -8.6513e-02,  1.2693e-01,\n",
       "          6.2771e-02, -2.4270e-02,  4.2597e-01,  1.8754e+00,  7.3741e-02,\n",
       "          3.4927e-01,  1.4058e-01,  5.0646e-02,  4.7395e-01,  2.3536e-02,\n",
       "         -5.5104e-01,  1.3545e-02, -2.0765e-01, -8.5884e-01,  1.4946e-02,\n",
       "          1.0341e+00,  7.9375e-02,  7.7180e-01,  4.4006e-01,  8.7296e-02,\n",
       "          1.1852e-01,  5.2940e-02,  3.4636e-01,  6.0215e-02,  1.8065e-02,\n",
       "          8.1030e-02,  2.7025e-02,  5.9721e-01,  4.3316e-01,  1.5759e-02,\n",
       "          1.8580e+00, -1.4133e-01, -1.5167e-01,  3.7489e-01,  9.1761e-02,\n",
       "          1.5032e+00,  1.9224e-01,  4.1640e-02,  8.8227e-02,  5.6323e-03,\n",
       "          5.1178e-02,  1.2830e-02, -3.4146e-01,  8.4849e-03,  6.8635e-02,\n",
       "          8.1291e-01,  1.4051e-01, -2.1177e-01,  1.0339e-01, -2.2013e-01,\n",
       "         -1.2172e-01,  3.0781e-01, -2.7839e-01,  2.7503e-02,  1.3745e-02,\n",
       "         -1.6561e-02,  6.6317e-02,  9.5238e-02,  4.6842e-01, -1.1536e-01,\n",
       "          5.7139e-02, -3.8934e-01,  5.1465e-01, -3.9990e-01,  7.0000e-01,\n",
       "          7.9279e-02,  5.3330e-01, -1.8856e-01,  3.3973e-01,  1.3361e-01,\n",
       "          2.6138e-01, -1.3886e-01,  1.3848e-02,  4.1202e-01,  1.1010e-01,\n",
       "          2.9984e-02,  4.9613e-02,  3.3652e-02,  3.7872e-01,  8.6898e-02,\n",
       "          3.1420e-03,  2.5193e-01,  3.0675e+00, -6.6922e-02, -1.6860e-01,\n",
       "          9.0028e-04,  5.3377e-02,  3.5824e-02, -4.6876e-01, -1.1963e-01,\n",
       "          3.8290e-01,  4.3745e-02, -9.4866e-03,  3.6325e-02,  1.7495e-02,\n",
       "          2.5519e+00, -6.6440e-02,  1.6749e-01, -9.6068e-02, -1.9856e-03,\n",
       "          1.1557e-01,  1.3732e-01, -9.4843e-02,  1.5662e-01,  1.4683e-01,\n",
       "         -2.2993e-02,  6.6621e-02,  3.7915e-02,  1.2187e-01,  3.5637e-01,\n",
       "          5.5427e-01,  2.0189e-01,  3.1501e-01,  5.9093e-01, -4.7038e-01,\n",
       "         -7.5459e-01,  1.9260e-02,  1.4964e-01,  1.2267e-01, -5.0279e-03,\n",
       "          2.1362e-02,  6.2850e-01, -2.8008e-02, -1.6436e-01, -3.8984e-01,\n",
       "          7.4478e-01,  1.1674e-01,  9.4276e-02,  1.4446e-01, -3.6020e-03,\n",
       "         -2.1687e-01, -3.8763e-01,  1.1968e-01,  1.9597e-01, -1.5021e-01,\n",
       "          2.0591e-01,  1.3588e-01,  2.7954e-02, -5.7605e-02, -4.7521e-02,\n",
       "          9.5569e-03,  8.3214e-03,  1.7185e+00,  1.6017e-01,  7.8585e-02,\n",
       "          1.1437e-01,  1.2838e-01,  6.0077e-01,  2.6650e-01,  1.8770e-01,\n",
       "          7.9221e-04,  3.7292e-01,  1.5285e-01, -1.5088e-03,  3.3964e-01,\n",
       "         -8.7007e-02, -2.7992e-01,  1.7997e-01,  1.5022e+00, -1.7603e-01,\n",
       "         -1.3920e+00,  3.0448e-01,  1.9975e-02, -1.9277e-01,  2.8331e-01,\n",
       "         -2.9629e-01,  9.5965e-01,  1.2603e-01,  1.2705e-01, -4.0743e-02,\n",
       "          3.5816e-01,  2.5409e-01, -5.5769e-02,  8.7287e-02, -2.1123e-01,\n",
       "          9.2441e-02, -2.6128e-01,  6.4597e-02, -2.0085e-03, -1.1195e-01,\n",
       "         -1.3620e-01,  2.6521e-04, -1.6767e-01, -4.0536e-02, -3.3581e-02,\n",
       "         -3.7917e-01, -3.4595e-01, -2.5753e-02, -6.8611e-01, -3.6911e-02,\n",
       "         -3.1258e-02, -2.7112e-01, -6.5840e-01, -4.8429e-02, -3.3750e-01,\n",
       "         -1.7129e-01, -4.5978e-01, -8.5478e-01, -6.4471e-02, -3.2631e-02,\n",
       "         -1.1268e-01, -2.6894e-02, -3.0156e-01, -1.4476e-01, -2.0120e-01,\n",
       "          5.4921e-02, -4.1669e-01, -5.9925e-02, -1.4784e-03, -4.4404e-01,\n",
       "         -1.7569e-03, -5.7821e-01, -3.1154e-02, -5.8704e-02, -1.5865e-01,\n",
       "         -1.4287e-01, -7.1139e-03,  1.3055e-01, -1.6308e-02, -2.3802e-01,\n",
       "          1.0102e-03, -6.2633e-01, -5.2073e-01, -2.1878e-01, -5.9490e-02,\n",
       "         -7.4790e-02, -1.1779e-02,  9.9404e-03, -1.1654e-01, -7.0505e-02,\n",
       "         -4.2705e-01, -1.9654e-01, -6.8308e-01, -4.1741e-04, -1.4730e-01,\n",
       "         -3.4647e-01, -3.9132e-01, -4.6803e-02, -1.4675e-02,  6.9971e-02,\n",
       "         -6.9158e-02,  9.3136e-02, -1.2053e-02, -1.5790e-01, -7.6159e-02,\n",
       "         -3.5059e-01, -1.7635e-01, -4.5644e-02, -2.9798e-03, -1.3107e-01,\n",
       "         -4.3130e-01, -2.0599e-01, -9.1239e-02, -3.5253e-03, -2.0151e-01,\n",
       "         -4.4897e-01, -1.2068e-01, -3.0357e-01, -1.1951e-01, -3.3671e-01,\n",
       "         -1.4037e-01, -5.0384e-02, -8.7121e-02, -3.0798e-02, -1.2218e-01,\n",
       "         -1.3603e-01, -2.4164e-01, -7.8483e-02, -7.3070e-01, -1.0817e-01,\n",
       "          6.4955e-03, -1.9686e-01, -1.2966e-02, -1.7192e+00,  2.8256e-01,\n",
       "         -3.4628e-01, -1.5380e-01, -5.9400e-06, -1.5719e-04, -5.6972e-01,\n",
       "         -6.4506e-01, -6.5958e-02, -5.7992e-02,  2.6455e-01, -8.9987e-02,\n",
       "         -3.7048e-01, -4.7858e-01, -5.5931e-02, -6.9774e-02,  9.8912e-02,\n",
       "         -2.8610e-01, -1.0354e-01, -4.5204e-01, -1.0455e-01, -8.8693e-01,\n",
       "         -2.4188e-01, -1.2025e-01, -5.2479e-02, -1.6640e-01, -4.5368e-02,\n",
       "         -5.4402e-02, -1.2387e-01, -2.5106e-03, -1.3389e-01,  1.2200e-01,\n",
       "         -2.1485e-01,  2.0951e-02, -1.3647e-03, -1.6136e-01, -3.8560e-01,\n",
       "          9.9992e-01, -1.1891e-01, -1.7319e-01, -3.5968e-01, -2.4341e-01,\n",
       "         -9.5024e-03, -5.7512e-02, -1.2994e-01, -3.0742e-01, -5.7745e-02,\n",
       "          2.2445e-01, -2.3151e-03, -2.8136e-02, -4.4616e-03, -1.2029e-01,\n",
       "         -2.1663e-01, -3.0299e-02, -3.6182e-01, -4.3863e-02, -1.6627e-01,\n",
       "         -1.5936e-01, -5.0652e-01, -1.4482e-01,  5.4903e-01, -4.6653e-01,\n",
       "         -3.5326e-02, -1.3864e-01, -8.6912e-01]])\n",
       "Layer: linear.bias\n",
       "Shape: torch.Size([1])\n",
       "tensor([0.6955])\n",
       "</pre>\n",
       "    </div>\n",
       "    "
      ],
      "text/plain": [
       "<IPython.core.display.HTML object>"
      ]
     },
     "metadata": {},
     "output_type": "display_data"
    }
   ],
   "source": [
    "def my_print_function():\n",
    "    for name, param in model.named_parameters():\n",
    "        print(f\"Layer: {name}\")\n",
    "        print(f\"Shape: {param.shape}\")\n",
    "        print(param.data)\n",
    "pya.utils.print_to_scrollable_output(my_print_function)"
   ]
  },
  {
   "cell_type": "markdown",
   "id": "275815e5-5630-4163-bc61-7119a9c805c1",
   "metadata": {},
   "source": [
    "## Write clock dictionary"
   ]
  },
  {
   "cell_type": "markdown",
   "id": "3b176620-afb5-403c-9948-07639072bb44",
   "metadata": {},
   "source": [
    "Let's put everything together and save:"
   ]
  },
  {
   "cell_type": "code",
   "execution_count": 17,
   "id": "35d00b76-513d-4d8f-8824-6d810ee9d8f5",
   "metadata": {},
   "outputs": [],
   "source": [
    "clock_dict = {\n",
    "    # Metadata\n",
    "    'clock_name': clock_name,\n",
    "    'data_type': data_type,\n",
    "    'model_class': model_class,\n",
    "    'species': species,\n",
    "    'year': year,\n",
    "    'approved_by_author': approved_by_author,\n",
    "    'citation': citation,\n",
    "    'doi': doi,\n",
    "    \"notes\": notes,\n",
    "\n",
    "    # Data\n",
    "    'reference_feature_values': reference_feature_values if reference_feature_values else None,\n",
    "    'preprocessing': preprocessing if preprocessing else None, \n",
    "    'features': features,\n",
    "    'weight_dict': model.state_dict(),\n",
    "    'postprocessing': postprocessing if postprocessing else None,\n",
    "}\n",
    "\n",
    "torch.save(clock_dict, f'../weights/{clock_name}.pt')"
   ]
  },
  {
   "cell_type": "markdown",
   "id": "c1dd2efe-2bd6-4e1b-92ee-d110c25ad29c",
   "metadata": {},
   "source": [
    "## Clear directory"
   ]
  },
  {
   "cell_type": "markdown",
   "id": "158aa71f-7bbc-4c52-b7ef-16ba45d5e1fd",
   "metadata": {},
   "source": [
    "Delete all files that are not clock jupyter notebooks:"
   ]
  },
  {
   "cell_type": "code",
   "execution_count": 18,
   "id": "db4bd42b-c62f-4557-9ebc-d8194a240137",
   "metadata": {},
   "outputs": [
    {
     "name": "stdout",
     "output_type": "stream",
     "text": [
      "Deleted file: coefficients.csv\n",
      "Deleted file: reference_feature_values.csv\n",
      "Deleted folder: .ipynb_checkpoints\n"
     ]
    }
   ],
   "source": [
    "# Function to remove a folder and all its contents\n",
    "def remove_folder(path):\n",
    "    try:\n",
    "        shutil.rmtree(path)\n",
    "        print(f\"Deleted folder: {path}\")\n",
    "    except Exception as e:\n",
    "        print(f\"Error deleting folder {path}: {e}\")\n",
    "\n",
    "# Get a list of all files and folders in the current directory\n",
    "all_items = os.listdir('.')\n",
    "\n",
    "# Loop through the items\n",
    "for item in all_items:\n",
    "    # Check if it's a file and does not end with .ipynb\n",
    "    if os.path.isfile(item) and not item.endswith('.ipynb'):\n",
    "        os.remove(item)\n",
    "        print(f\"Deleted file: {item}\")\n",
    "    # Check if it's a folder\n",
    "    elif os.path.isdir(item):\n",
    "        remove_folder(item)"
   ]
  }
 ],
 "metadata": {
  "kernelspec": {
   "display_name": "Python 3",
   "language": "python",
   "name": "python3"
  },
  "language_info": {
   "codemirror_mode": {
    "name": "ipython",
    "version": 3
   },
   "file_extension": ".py",
   "mimetype": "text/x-python",
   "name": "python",
   "nbconvert_exporter": "python",
   "pygments_lexer": "ipython3",
   "version": "3.9.17"
  }
 },
 "nbformat": 4,
 "nbformat_minor": 5
}

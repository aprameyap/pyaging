{
 "cells": [
  {
   "cell_type": "markdown",
   "id": "2f04eee0-5928-4e74-a754-6dc2e528810c",
   "metadata": {},
   "source": [
    "# Meer"
   ]
  },
  {
   "cell_type": "markdown",
   "id": "a3f514a3-772c-4a14-afdf-5a8376851ff4",
   "metadata": {},
   "source": [
    "## Index\n",
    "1. [Define required clock parameters](#Define-required-clock-parameters)\n",
    "2. [Download necessary data](#Download-necessary-data)\n",
    "3. [Load data](#-Load-data)\n",
    "4. [Extract features and weights](#Extract-features-and-weights)\n",
    "5. [Load weights into pyaging model](#Load-weights-into-pyaging-model)\n",
    "6. [Add reference values](#Add-reference-values)\n",
    "7. [Add preprocessing and postprocesssing steps](#Add-preprocessing-and-postprocesssing-steps)\n",
    "8. [Check all data objects](#Check-all-data-objects)\n",
    "9. [Write clock dictionary](#Write-clock-dictionary)\n",
    "10. [Clear directory](#Clear-directory)"
   ]
  },
  {
   "cell_type": "markdown",
   "id": "d95fafdc-643a-40ea-a689-200bd132e90c",
   "metadata": {},
   "source": [
    "Let's first import some packages:"
   ]
  },
  {
   "cell_type": "code",
   "execution_count": 1,
   "id": "4adfb4de-cd79-4913-a1af-9e23e9e236c9",
   "metadata": {},
   "outputs": [],
   "source": [
    "import os\n",
    "import marshal\n",
    "import shutil\n",
    "import json\n",
    "import torch\n",
    "import pandas as pd\n",
    "import pyaging as pya"
   ]
  },
  {
   "cell_type": "markdown",
   "id": "c8c0c937-d9b6-4756-99b0-91de591220e0",
   "metadata": {},
   "source": [
    "## Define required clock parameters"
   ]
  },
  {
   "cell_type": "markdown",
   "id": "cf95ddca-625e-4c70-a246-c3cb12df96f8",
   "metadata": {},
   "source": [
    "Let's define some required information first:"
   ]
  },
  {
   "cell_type": "code",
   "execution_count": 2,
   "id": "5281776d-0549-445f-beec-39c31ec7dbe1",
   "metadata": {},
   "outputs": [],
   "source": [
    "clock_name = 'meer'\n",
    "data_type = 'methylation'\n",
    "model_class = 'LinearModel'\n",
    "species = 'Mus musculus'\n",
    "year = 2018\n",
    "approved_by_author = '⌛'\n",
    "citation = \"Meer, Margarita V., et al. \\\"A whole lifespan mouse multi-tissue DNA methylation clock.\\\" Elife 7 (2018): e40675.\"\n",
    "doi = \"https://doi.org/10.7554/eLife.40675\"\n",
    "notes = None"
   ]
  },
  {
   "cell_type": "markdown",
   "id": "4520c8cb-6c1f-4490-ba4c-6fe78ef002a7",
   "metadata": {},
   "source": [
    "## Download necessary data"
   ]
  },
  {
   "cell_type": "markdown",
   "id": "f8d77386-a524-492b-a002-18d24b6ca49a",
   "metadata": {},
   "source": [
    "#### Download directly with curl"
   ]
  },
  {
   "cell_type": "code",
   "execution_count": 3,
   "id": "0003b39e-e032-4822-aff7-970583187d22",
   "metadata": {},
   "outputs": [
    {
     "data": {
      "text/plain": [
       "0"
      ]
     },
     "execution_count": 3,
     "metadata": {},
     "output_type": "execute_result"
    }
   ],
   "source": [
    "supplementary_url = \"https://elifesciences.org/download/aHR0cHM6Ly9jZG4uZWxpZmVzY2llbmNlcy5vcmcvYXJ0aWNsZXMvNDA2NzUvZWxpZmUtNDA2NzUtc3VwcDMtdjIueGxzeA--/elife-40675-supp3-v2.xlsx?_hash=qzOMc4yUFACfDFG%2FlgxkFTHWt%2BSXSmP9zz1BM3oOTRM%3D\"\n",
    "supplementary_file_name = \"coefficients.xlsx\"\n",
    "os.system(f\"curl -o {supplementary_file_name} {supplementary_url}\")"
   ]
  },
  {
   "cell_type": "markdown",
   "id": "35615b62-73ac-40b1-8bc1-e904403eb0ae",
   "metadata": {},
   "source": [
    "## Load data"
   ]
  },
  {
   "cell_type": "markdown",
   "id": "53cfa5bb-dab1-44a8-9f2c-ba2ca1b573b2",
   "metadata": {},
   "source": [
    "#### From Excel file"
   ]
  },
  {
   "cell_type": "code",
   "execution_count": 4,
   "id": "9ac33cc1-f582-4b7d-a6e5-32c377347a2d",
   "metadata": {},
   "outputs": [],
   "source": [
    "df = pd.read_excel('coefficients.xlsx', sheet_name='Whole lifespan multi-tissue', nrows=435)"
   ]
  },
  {
   "cell_type": "markdown",
   "id": "60c676db-2c7c-4c04-9457-97bccd598269",
   "metadata": {},
   "source": [
    "## Extract features and weights"
   ]
  },
  {
   "cell_type": "markdown",
   "id": "87dfda00-5182-4416-8eb1-de91ce2a9e48",
   "metadata": {},
   "source": [
    "First, let's extract the features and weights:"
   ]
  },
  {
   "cell_type": "code",
   "execution_count": 5,
   "id": "e1d1dd13-65ac-4694-8948-3cd94bc19fe1",
   "metadata": {},
   "outputs": [
    {
     "data": {
      "text/html": [
       "<div>\n",
       "<style scoped>\n",
       "    .dataframe tbody tr th:only-of-type {\n",
       "        vertical-align: middle;\n",
       "    }\n",
       "\n",
       "    .dataframe tbody tr th {\n",
       "        vertical-align: top;\n",
       "    }\n",
       "\n",
       "    .dataframe thead th {\n",
       "        text-align: right;\n",
       "    }\n",
       "</style>\n",
       "<table border=\"1\" class=\"dataframe\">\n",
       "  <thead>\n",
       "    <tr style=\"text-align: right;\">\n",
       "      <th></th>\n",
       "      <th>Chromosome</th>\n",
       "      <th>Position</th>\n",
       "      <th>Weight</th>\n",
       "      <th>Relation to CpG island</th>\n",
       "      <th>Gene name</th>\n",
       "      <th>Feature</th>\n",
       "      <th>feature</th>\n",
       "      <th>coefficient</th>\n",
       "    </tr>\n",
       "  </thead>\n",
       "  <tbody>\n",
       "    <tr>\n",
       "      <th>0</th>\n",
       "      <td>chr10</td>\n",
       "      <td>111559529</td>\n",
       "      <td>0.093680</td>\n",
       "      <td>-</td>\n",
       "      <td>-</td>\n",
       "      <td>-</td>\n",
       "      <td>chr10:111559529</td>\n",
       "      <td>9.368049</td>\n",
       "    </tr>\n",
       "    <tr>\n",
       "      <th>1</th>\n",
       "      <td>chr10</td>\n",
       "      <td>115250413</td>\n",
       "      <td>-0.044929</td>\n",
       "      <td>Shore</td>\n",
       "      <td>Tbc1d15</td>\n",
       "      <td>Intron</td>\n",
       "      <td>chr10:115250413</td>\n",
       "      <td>-4.492889</td>\n",
       "    </tr>\n",
       "    <tr>\n",
       "      <th>2</th>\n",
       "      <td>chr10</td>\n",
       "      <td>118803606</td>\n",
       "      <td>-0.029330</td>\n",
       "      <td>-</td>\n",
       "      <td>-</td>\n",
       "      <td>-</td>\n",
       "      <td>chr10:118803606</td>\n",
       "      <td>-2.932995</td>\n",
       "    </tr>\n",
       "    <tr>\n",
       "      <th>3</th>\n",
       "      <td>chr10</td>\n",
       "      <td>121498258</td>\n",
       "      <td>-0.021227</td>\n",
       "      <td>-</td>\n",
       "      <td>-</td>\n",
       "      <td>-</td>\n",
       "      <td>chr10:121498258</td>\n",
       "      <td>-2.122697</td>\n",
       "    </tr>\n",
       "    <tr>\n",
       "      <th>4</th>\n",
       "      <td>chr10</td>\n",
       "      <td>127620127</td>\n",
       "      <td>-0.166235</td>\n",
       "      <td>Shore</td>\n",
       "      <td>Lrp1</td>\n",
       "      <td>Intron</td>\n",
       "      <td>chr10:127620127</td>\n",
       "      <td>-16.623489</td>\n",
       "    </tr>\n",
       "  </tbody>\n",
       "</table>\n",
       "</div>"
      ],
      "text/plain": [
       "  Chromosome   Position    Weight Relation to CpG island Gene name Feature  \\\n",
       "0      chr10  111559529  0.093680                      -         -       -   \n",
       "1      chr10  115250413 -0.044929                  Shore   Tbc1d15  Intron   \n",
       "2      chr10  118803606 -0.029330                      -         -       -   \n",
       "3      chr10  121498258 -0.021227                      -         -       -   \n",
       "4      chr10  127620127 -0.166235                  Shore      Lrp1  Intron   \n",
       "\n",
       "           feature  coefficient  \n",
       "0  chr10:111559529     9.368049  \n",
       "1  chr10:115250413    -4.492889  \n",
       "2  chr10:118803606    -2.932995  \n",
       "3  chr10:121498258    -2.122697  \n",
       "4  chr10:127620127   -16.623489  "
      ]
     },
     "execution_count": 5,
     "metadata": {},
     "output_type": "execute_result"
    }
   ],
   "source": [
    "df['feature'] = df['Chromosome'].astype(str) + ':' + df['Position'].astype(int).astype(str)\n",
    "df['coefficient'] = df['Weight']*100\n",
    "\n",
    "df.head()"
   ]
  },
  {
   "cell_type": "markdown",
   "id": "5ac5b42a-3bd9-49d3-b84e-79d236af24b4",
   "metadata": {},
   "source": [
    "Then, let's create lists for features and weights. Be careful about the intercept, as it usually shows up as a feature name."
   ]
  },
  {
   "cell_type": "code",
   "execution_count": 6,
   "id": "2fc06bb5-7e9c-46fd-9843-31880f1d3788",
   "metadata": {},
   "outputs": [],
   "source": [
    "features = df['feature'].tolist()\n",
    "weights = torch.tensor(df['coefficient'].tolist()).unsqueeze(0)\n",
    "intercept = torch.tensor([234.64])"
   ]
  },
  {
   "cell_type": "markdown",
   "id": "d193ccbf-d06b-49bb-ad4b-ffe3271dea63",
   "metadata": {},
   "source": [
    "## Load weights into pyaging model"
   ]
  },
  {
   "cell_type": "markdown",
   "id": "4350119a-4bd4-4efa-85b5-9de70fdf496f",
   "metadata": {},
   "source": [
    "#### Linear model"
   ]
  },
  {
   "cell_type": "code",
   "execution_count": 7,
   "id": "7354c541-5af9-447d-a339-2cb88c253b41",
   "metadata": {},
   "outputs": [
    {
     "data": {
      "text/plain": [
       "LinearModel(\n",
       "  (linear): Linear(in_features=435, out_features=1, bias=True)\n",
       ")"
      ]
     },
     "execution_count": 7,
     "metadata": {},
     "output_type": "execute_result"
    }
   ],
   "source": [
    "model = pya.models.LinearModel(input_dim=len(features))\n",
    "\n",
    "model.linear.weight.data = weights.float()\n",
    "model.linear.bias.data = intercept.float()\n",
    "\n",
    "model"
   ]
  },
  {
   "cell_type": "markdown",
   "id": "06adc9d8-cec2-447d-8d0b-e2819d4c1a5b",
   "metadata": {},
   "source": [
    "## Add reference values"
   ]
  },
  {
   "cell_type": "markdown",
   "id": "84bf0205-f976-497b-a6a9-e4945c05cdb3",
   "metadata": {},
   "source": [
    "Some clocks have reference values in the case of missing features. It is also possible that these values are for preprocessing features rather than the clock features. Let's add a dictionary with the feature names as the keys."
   ]
  },
  {
   "cell_type": "code",
   "execution_count": 8,
   "id": "250dd50d-a175-45f3-913b-da87c50cb55c",
   "metadata": {},
   "outputs": [],
   "source": [
    "reference_feature_values = None"
   ]
  },
  {
   "cell_type": "markdown",
   "id": "c9b4fd10-797c-45bd-aa1a-65aed1deaf1c",
   "metadata": {},
   "source": [
    "## Add preprocessing and postprocesssing steps"
   ]
  },
  {
   "cell_type": "markdown",
   "id": "20649dc9-2b58-4c63-a48e-f8d7a4bb520b",
   "metadata": {},
   "source": [
    "The preprocessing and postprocessing objects are dictionaries with the following format, with all items required. It takes in x in the form of a numpy array."
   ]
  },
  {
   "cell_type": "code",
   "execution_count": 9,
   "id": "1d173005-fb63-43d5-bd9f-0b4fa2e240b1",
   "metadata": {},
   "outputs": [],
   "source": [
    "preprocessing = None"
   ]
  },
  {
   "cell_type": "markdown",
   "id": "3ca747b4-0214-40a1-a7bf-fbf2a71084af",
   "metadata": {},
   "source": [
    "Similarly is the case of postprocessing. Remember that your function must be compatible with torch and is applied to each number individually."
   ]
  },
  {
   "cell_type": "code",
   "execution_count": 10,
   "id": "6fe37a2c-113a-4517-91e4-10a4e8b2005a",
   "metadata": {},
   "outputs": [],
   "source": [
    "def postprocessing_function(x):\n",
    "    \"\"\"\n",
    "    Transforms age in days to age in months.\n",
    "    \"\"\"\n",
    "    return x/30.5\n",
    "    \n",
    "postprocessing_function_string = marshal.dumps(postprocessing_function.__code__)\n",
    "\n",
    "postprocessing_helper_objects = None\n",
    "\n",
    "postprocessing = {\n",
    "    'name': 'day_to_month',\n",
    "    'postprocessing_function': postprocessing_function_string,\n",
    "    'postprocessing_helper_objects': postprocessing_helper_objects\n",
    "}"
   ]
  },
  {
   "cell_type": "markdown",
   "id": "bcf08ee7-0fa4-4ac4-8545-ba29eba56b5c",
   "metadata": {},
   "source": [
    "## Check all data objects"
   ]
  },
  {
   "cell_type": "markdown",
   "id": "d5086815-e910-4669-b4dc-160d2a778ede",
   "metadata": {},
   "source": [
    "Let's print all data objects to check if they make sense."
   ]
  },
  {
   "cell_type": "markdown",
   "id": "4cd10748-4c71-4e3e-b49e-39ddad337da2",
   "metadata": {},
   "source": [
    "#### features"
   ]
  },
  {
   "cell_type": "code",
   "execution_count": 11,
   "id": "bf047bed-52f0-4a64-9691-4c04df9f50ec",
   "metadata": {},
   "outputs": [
    {
     "data": {
      "text/html": [
       "\n",
       "    <div style=\"overflow-x: scroll; overflow-y: scroll; border: 1px solid black; background-color: white; !important; color: black; !important;\">\n",
       "        <pre>There are 435 features.\n",
       "['chr10:111559529', 'chr10:115250413', 'chr10:118803606', 'chr10:121498258', 'chr10:127620127', 'chr10:19970189', 'chr10:19970209', 'chr10:33624567', 'chr10:42644582', 'chr10:4621215', 'chr10:57795976', 'chr10:60698046', 'chr10:61828281', 'chr10:63820265', 'chr10:67979197', 'chr10:68137630', 'chr10:75014983', 'chr10:78273866', 'chr10:78487669', 'chr10:80182188', 'chr10:80534973', 'chr10:84760142', 'chr11:100367639', 'chr11:102255939', 'chr11:107372077', 'chr11:114423667', 'chr11:114479395', 'chr11:115989660', 'chr11:116515706', 'chr11:117175709', 'chr11:117232283', 'chr11:117233137', 'chr11:117425850', 'chr11:119026286', 'chr11:119198909', 'chr11:119514867', 'chr11:15818883', 'chr1:119487879', 'chr1:120699024', 'chr11:25314860', 'chr1:127397517', 'chr1:133177284', 'chr1:143263365', 'chr11:45980354', 'chr11:45980357', 'chr11:45980360', 'chr11:46309441', 'chr11:49978547', 'chr1:153181038', 'chr1:154204889', 'chr11:55031175', 'chr11:55031213', 'chr11:59177440', 'chr11:61684665', 'chr11:61684674', 'chr11:61684730', 'chr11:61684735', 'chr11:68492553', 'chr11:69120444', 'chr11:69798123', 'chr11:71760155', 'chr11:73041195', 'chr11:75415044', 'chr11:80824002', 'chr1:181821518', 'chr11:82309621', 'chr11:82931433', 'chr11:82931437', 'chr1:183979716', 'chr11:8523361', 'chr1:189716352', 'chr1:189716363', 'chr1:193191545', 'chr11:94214148', 'chr11:96988678', 'chr11:98329610', 'chr11:98945062', 'chr12:102368617', 'chr12:104999401', 'chr12:105030952', 'chr12:105030953', 'chr12:107756188', 'chr12:108221446', 'chr12:111461376', 'chr12:112663963', 'chr12:118848855', 'chr12:20233324', 'chr12:20233417', 'chr12:20312363', 'chr12:20815371', 'chr12:21300152', 'chr12:23634736', 'chr12:23634757', 'chr12:24251943', 'chr12:24251971', 'chr12:24251973', 'chr12:29331270', 'chr1:25829551', 'chr12:79797211', 'chr12:80525034', 'chr12:84941802', 'chr12:9253561', 'chr13:111552067', 'chr1:32172827', 'chr13:24862270', 'chr13:52001947', 'chr13:52002011', 'chr13:53538472', 'chr13:55003209', 'chr13:55826569', 'chr13:94706693', 'chr13:95604519', 'chr14:107690327', 'chr14:21990885', 'chr14:21990914', 'chr14:21990921', 'chr14:31669338', 'chr14:34769972', 'chr14:48655768', 'chr14:51989297', 'chr14:52106938', 'chr14:63241599', 'chr14:63944003', 'chr14:64067080', 'chr14:65609815', 'chr14:70079118', 'chr14:70079688', 'chr14:70079693', 'chr14:70080049', 'chr14:70453212', 'chr14:79661542', 'chr15:37233859', 'chr15:37234411', 'chr15:75709208', 'chr15:76090136', 'chr15:76457641', 'chr15:78326322', 'chr15:78922882', 'chr15:79000743', 'chr15:80051688', 'chr15:80051712', 'chr15:80978633', 'chr15:84772640', 'chr15:85215256', 'chr15:85673573', 'chr1:58803092', 'chr1:59381708', 'chr1:59541563', 'chr15:96658328', 'chr15:98780511', 'chr15:99334767', 'chr16:10502211', 'chr16:18586362', 'chr16:20619766', 'chr16:21204798', 'chr16:21204801', 'chr16:21204911', 'chr16:21247020', 'chr16:22119164', 'chr16:28596353', 'chr16:30821331', 'chr16:32113408', 'chr1:64734908', 'chr1:64735007', 'chr16:4958037', 'chr16:5137270', 'chr16:87671494', 'chr16:91321122', 'chr17:10487124', 'chr17:27075705', 'chr17:27564812', 'chr17:28532127', 'chr17:28926372', 'chr17:30865119', 'chr17:35068719', 'chr1:73895285', 'chr17:47501435', 'chr17:48031669', 'chr17:66269074', 'chr17:67913883', 'chr17:70925252', 'chr17:79950114', 'chr17:81001025', 'chr17:83079232', 'chr17:84114603', 'chr17:85044948', 'chr18:13321754', 'chr18:3499016', 'chr18:37296763', 'chr18:37662130', 'chr18:44308474', 'chr18:52825623', 'chr18:61065811', 'chr18:64531400', 'chr18:67401984', 'chr18:69666861', 'chr18:75494893', 'chr18:76057938', 'chr18:82743404', 'chr19:14892495', 'chr19:24861359', 'chr19:29684049', 'chr19:37685983', 'chr19:40303385', 'chr19:41283218', 'chr19:4268707', 'chr19:43896820', 'chr19:44363901', 'chr19:44760980', 'chr19:4989810', 'chr19:5745658', 'chr19:61225313', 'chr19:61225818', 'chr19:9100780', 'chr19:9100789', 'chr2:109676136', 'chr2:109676149', 'chr2:119174554', 'chr2:120085263', 'chr2:131953144', 'chr2:148043886', 'chr2:148043891', 'chr2:148043930', 'chr2:151709106', 'chr2:152337765', 'chr2:156730972', 'chr2:158191367', 'chr2:164168129', 'chr2:164168131', 'chr2:164168144', 'chr2:164168156', 'chr2:164168173', 'chr2:164168176', 'chr2:164168179', 'chr2:164168182', 'chr2:164168189', 'chr2:164168203', 'chr2:164168686', 'chr2:165543887', 'chr2:166204366', 'chr2:168799390', 'chr2:168876986', 'chr2:173399991', 'chr2:179522137', 'chr2:180289849', 'chr2:180354857', 'chr2:28196655', 'chr2:30613842', 'chr2:30626100', 'chr2:34641097', 'chr2:34671176', 'chr2:37793382', 'chr2:49728509', 'chr2:58963125', 'chr2:73281033', 'chr2:73281421', 'chr2:74763356', 'chr2:93192448', 'chr2:98667167', 'chr3:125591744', 'chr3:16545612', 'chr3:27169964', 'chr3:33217717', 'chr3:52241287', 'chr3:83843996', 'chr3:86547198', 'chr3:86547210', 'chr3:86547211', 'chr3:87515896', 'chr3:89523125', 'chr4:103841330', 'chr4:104367375', 'chr4:118554827', 'chr4:121040204', 'chr4:123105472', 'chr4:124603895', 'chr4:129998661', 'chr4:136148882', 'chr4:136238652', 'chr4:136834231', 'chr4:136946451', 'chr4:137729050', 'chr4:138564540', 'chr4:141325832', 'chr4:142761905', 'chr4:144627616', 'chr4:146580200', 'chr4:146580225', 'chr4:146580228', 'chr4:147918758', 'chr4:152126752', 'chr4:153851462', 'chr4:154705247', 'chr4:21679126', 'chr4:21679135', 'chr4:32258402', 'chr4:36951762', 'chr4:42952721', 'chr4:44363810', 'chr4:44598090', 'chr4:47948010', 'chr4:53264125', 'chr4:73790884', 'chr4:78211954', 'chr4:89688203', 'chr5:101970021', 'chr5:101970034', 'chr5:106711805', 'chr5:108550102', 'chr5:110363789', 'chr5:111229202', 'chr5:111418846', 'chr5:111419354', 'chr5:112428490', 'chr5:113214572', 'chr5:115632794', 'chr5:120197771', 'chr5:120561110', 'chr5:120710184', 'chr5:121960981', 'chr5:124957921', 'chr5:129268740', 'chr5:129590711', 'chr5:135869170', 'chr5:139931975', 'chr5:140612544', 'chr5:142385360', 'chr5:142949722', 'chr5:143157574', 'chr5:143253447', 'chr5:143253681', 'chr5:148978428', 'chr5:24592109', 'chr5:24592237', 'chr5:61232596', 'chr5:61288491', 'chr5:63964577', 'chr5:77264827', 'chr5:79993284', 'chr6:100482797', 'chr6:100551710', 'chr6:118251944', 'chr6:125360388', 'chr6:127060639', 'chr6:127471375', 'chr6:127471404', 'chr6:128296751', 'chr6:128606520', 'chr6:129451736', 'chr6:129451767', 'chr6:130689875', 'chr6:16253446', 'chr6:31126683', 'chr6:33078527', 'chr6:55330826', 'chr6:58906778', 'chr6:72555903', 'chr6:83161661', 'chr6:83186160', 'chr6:83404530', 'chr6:85126110', 'chr6:90232892', 'chr7:101504584', 'chr7:107210392', 'chr7:107210415', 'chr7:107210422', 'chr7:110094545', 'chr7:110923617', 'chr7:118690290', 'chr7:126963445', 'chr7:132853012', 'chr7:133124778', 'chr7:134414346', 'chr7:14622483', 'chr7:14622493', 'chr7:14622498', 'chr7:14622507', 'chr7:14622513', 'chr7:14622937', 'chr7:16472419', 'chr7:16885497', 'chr7:16885499', 'chr7:25376491', 'chr7:31115861', 'chr7:43675422', 'chr7:45425146', 'chr7:49160482', 'chr7:58836972', 'chr7:58836996', 'chr7:73366793', 'chr7:76732756', 'chr7:80238490', 'chr7:81863270', 'chr7:97325666', 'chr7:98111512', 'chr8:110168311', 'chr8:110168313', 'chr8:110168316', 'chr8:110168323', 'chr8:111890861', 'chr8:117281170', 'chr8:119612881', 'chr8:120378626', 'chr8:120678448', 'chr8:121043779', 'chr8:125492817', 'chr8:126539882', 'chr8:23023073', 'chr8:26973674', 'chr8:50916195', 'chr8:70087118', 'chr8:70330125', 'chr8:70833634', 'chr8:79382872', 'chr8:83870166', 'chr8:84872983', 'chr8:91060908', 'chr8:92437304', 'chr8:94673138', 'chr9:111311700', 'chr9:111311719', 'chr9:111311727', 'chr9:121938269', 'chr9:121938292', 'chr9:21030087', 'chr9:24328496', 'chr9:24328536', 'chr9:46498913', 'chr9:49341175', 'chr9:57681902', 'chr9:57939796', 'chr9:57939812', 'chr9:64085222', 'chr9:69812651', 'chr9:82609144']\n",
       "</pre>\n",
       "    </div>\n",
       "    "
      ],
      "text/plain": [
       "<IPython.core.display.HTML object>"
      ]
     },
     "metadata": {},
     "output_type": "display_data"
    }
   ],
   "source": [
    "def my_print_function():\n",
    "    print(f\"There are {len(features)} features.\")\n",
    "    print(features)\n",
    "pya.utils.print_to_scrollable_output(my_print_function)"
   ]
  },
  {
   "cell_type": "markdown",
   "id": "10ba9d21-8c42-40e2-a5f5-1a8df7d50df4",
   "metadata": {},
   "source": [
    "#### reference_feature_values"
   ]
  },
  {
   "cell_type": "code",
   "execution_count": 12,
   "id": "6436fd01-0a8e-41a5-b584-2c020136ff97",
   "metadata": {},
   "outputs": [
    {
     "data": {
      "text/html": [
       "\n",
       "    <div style=\"overflow-x: scroll; overflow-y: scroll; border: 1px solid black; background-color: white; !important; color: black; !important;\">\n",
       "        <pre>None\n",
       "</pre>\n",
       "    </div>\n",
       "    "
      ],
      "text/plain": [
       "<IPython.core.display.HTML object>"
      ]
     },
     "metadata": {},
     "output_type": "display_data"
    }
   ],
   "source": [
    "def my_print_function():\n",
    "    if reference_feature_values:\n",
    "        print(f\"There are {len(reference_feature_values)} reference feature values.\")\n",
    "    print(reference_feature_values)\n",
    "pya.utils.print_to_scrollable_output(my_print_function)"
   ]
  },
  {
   "cell_type": "markdown",
   "id": "a9203c10-98f1-4347-84a5-3a28e65fa63c",
   "metadata": {},
   "source": [
    "#### preprocessing"
   ]
  },
  {
   "cell_type": "code",
   "execution_count": 13,
   "id": "960c5ede-3175-4192-a358-bf5ccb41074f",
   "metadata": {},
   "outputs": [
    {
     "data": {
      "text/html": [
       "\n",
       "    <div style=\"overflow-x: scroll; overflow-y: scroll; border: 1px solid black; background-color: white; !important; color: black; !important;\">\n",
       "        <pre>None\n",
       "</pre>\n",
       "    </div>\n",
       "    "
      ],
      "text/plain": [
       "<IPython.core.display.HTML object>"
      ]
     },
     "metadata": {},
     "output_type": "display_data"
    }
   ],
   "source": [
    "def my_print_function():\n",
    "    print(preprocessing)\n",
    "    if preprocessing:\n",
    "        print(preprocessing_helper_objects)\n",
    "pya.utils.print_to_scrollable_output(my_print_function)"
   ]
  },
  {
   "cell_type": "markdown",
   "id": "077e72ef-d1c2-4b92-8aeb-597ab9ed5f60",
   "metadata": {},
   "source": [
    "#### postprocessing"
   ]
  },
  {
   "cell_type": "code",
   "execution_count": 14,
   "id": "40fe1f52-ad50-4b84-89c7-c5d1d3fff139",
   "metadata": {},
   "outputs": [
    {
     "data": {
      "text/html": [
       "\n",
       "    <div style=\"overflow-x: scroll; overflow-y: scroll; border: 1px solid black; background-color: white; !important; color: black; !important;\">\n",
       "        <pre>{'name': 'day_to_month', 'postprocessing_function': b'\\xe3\\x01\\x00\\x00\\x00\\x00\\x00\\x00\\x00\\x00\\x00\\x00\\x00\\x01\\x00\\x00\\x00\\x02\\x00\\x00\\x00C\\x00\\x00\\x00s\\x08\\x00\\x00\\x00|\\x00d\\x01\\x1b\\x00S\\x00)\\x02\\xfa2\\n    Transforms age in days to age in months.\\n    \\xe7\\x00\\x00\\x00\\x00\\x00\\x80>@\\xa9\\x00)\\x01\\xda\\x01xr\\x03\\x00\\x00\\x00r\\x03\\x00\\x00\\x00\\xfa\\x1f<ipython-input-10-c940c7d10855>\\xda\\x17postprocessing_function\\x01\\x00\\x00\\x00s\\x02\\x00\\x00\\x00\\x00\\x04', 'postprocessing_helper_objects': None}\n",
       "{'name': 'day_to_month', 'postprocessing_function': b'\\xe3\\x01\\x00\\x00\\x00\\x00\\x00\\x00\\x00\\x00\\x00\\x00\\x00\\x01\\x00\\x00\\x00\\x02\\x00\\x00\\x00C\\x00\\x00\\x00s\\x08\\x00\\x00\\x00|\\x00d\\x01\\x1b\\x00S\\x00)\\x02\\xfa2\\n    Transforms age in days to age in months.\\n    \\xe7\\x00\\x00\\x00\\x00\\x00\\x80>@\\xa9\\x00)\\x01\\xda\\x01xr\\x03\\x00\\x00\\x00r\\x03\\x00\\x00\\x00\\xfa\\x1f<ipython-input-10-c940c7d10855>\\xda\\x17postprocessing_function\\x01\\x00\\x00\\x00s\\x02\\x00\\x00\\x00\\x00\\x04', 'postprocessing_helper_objects': None}\n",
       "</pre>\n",
       "    </div>\n",
       "    "
      ],
      "text/plain": [
       "<IPython.core.display.HTML object>"
      ]
     },
     "metadata": {},
     "output_type": "display_data"
    }
   ],
   "source": [
    "def my_print_function():\n",
    "    print(postprocessing)\n",
    "    if postprocessing:\n",
    "        print(postprocessing)\n",
    "pya.utils.print_to_scrollable_output(my_print_function)"
   ]
  },
  {
   "cell_type": "markdown",
   "id": "c9d09d62-16d7-4812-b111-f8c0b5fe959c",
   "metadata": {},
   "source": [
    "#### weight_dict"
   ]
  },
  {
   "cell_type": "code",
   "execution_count": 15,
   "id": "658317e5-44bd-4621-877c-5db57494c968",
   "metadata": {},
   "outputs": [
    {
     "data": {
      "text/html": [
       "\n",
       "    <div style=\"overflow-x: scroll; overflow-y: scroll; border: 1px solid black; background-color: white; !important; color: black; !important;\">\n",
       "        <pre>Layer: linear.weight\n",
       "Shape: torch.Size([1, 435])\n",
       "tensor([[ 9.3680e+00, -4.4929e+00, -2.9330e+00, -2.1227e+00, -1.6623e+01,\n",
       "         -2.7541e+00, -9.4624e+00,  1.5378e+01,  2.2143e+01,  2.1147e+00,\n",
       "         -7.5137e+00,  1.1304e+01, -1.2452e+01, -4.6204e-01, -1.4367e+01,\n",
       "         -9.1841e+00, -6.4375e+00, -8.5846e+00, -7.6107e+00, -6.5797e+00,\n",
       "          5.6417e+00,  1.8415e+00, -1.2471e+01,  1.1289e+00, -1.7483e+01,\n",
       "          1.4173e+01,  4.2072e-01, -3.0690e-01,  6.3480e-01,  6.4348e+00,\n",
       "         -2.5281e-02, -4.7253e+01, -2.1305e+01,  4.4343e+00,  4.3160e+00,\n",
       "          7.9475e+00, -7.0051e+00,  3.7711e+00,  1.2646e+01,  1.0341e+01,\n",
       "          9.7565e+00, -2.2281e+01, -1.3234e+01,  7.8047e+00,  1.1381e+01,\n",
       "          6.7964e+00, -6.0496e+00, -2.1717e+01,  1.9427e+00,  1.3841e+01,\n",
       "          5.3197e+00,  3.7769e+01, -1.8036e+00,  3.8624e+00,  1.2999e+01,\n",
       "          3.2348e+01,  1.8316e+01,  5.0299e+00,  1.4104e+01, -3.9661e+00,\n",
       "         -5.3161e+00, -4.8940e+00,  1.2756e+01, -5.5078e+00, -1.7928e+01,\n",
       "         -9.3903e+00,  2.3350e+00,  1.7158e+01,  1.5354e+00, -3.2947e+00,\n",
       "         -3.6229e+00, -2.6041e+01, -1.7071e+00,  1.6166e+00, -1.8661e+01,\n",
       "          1.0820e+01,  2.0197e+01,  3.9012e+01,  7.9607e+00, -2.4813e+01,\n",
       "          2.9217e+00,  6.7298e+00, -2.9564e+00, -1.0363e+01, -3.2386e+00,\n",
       "          1.0198e+01, -1.3716e+01,  1.7405e+01,  6.7505e+00,  1.5435e+01,\n",
       "         -5.1404e-01,  6.4343e+00,  3.4229e+00,  3.0094e+01,  6.6475e+01,\n",
       "          2.6098e+01, -2.4372e-01,  8.1272e+00, -1.1989e+01,  7.6858e+00,\n",
       "         -4.6133e+00,  1.9920e-01,  2.6279e+01,  4.2746e+00, -3.9987e+00,\n",
       "          7.4009e+00,  1.7529e+01,  7.9173e+00,  7.2626e+00,  5.8200e+00,\n",
       "          1.6652e+01, -7.8933e-01, -3.7171e+00,  1.8177e+01,  3.7536e+00,\n",
       "          2.3000e+00, -1.1080e+01,  1.5266e+01,  1.2881e+01, -4.7106e+00,\n",
       "          1.7102e+01,  2.3423e+01,  1.0736e+01, -1.0527e+01, -1.8919e+01,\n",
       "          7.5427e+00,  5.2289e+00,  1.6469e+01,  1.5749e+01, -2.7530e+00,\n",
       "          1.2400e+01,  3.0794e+01,  8.4326e-01,  9.7747e+00,  2.3644e+01,\n",
       "          6.0581e+00,  8.4800e+00, -2.0085e+01,  1.1397e+01, -2.8141e+01,\n",
       "         -9.3783e+00, -1.2424e+01, -5.1363e+00,  1.2566e+01, -5.4886e+01,\n",
       "         -2.3189e+00, -6.9281e-02, -4.4419e+00,  4.5458e+01,  8.5167e-01,\n",
       "          2.5680e+00,  4.0838e+01, -1.3295e+01,  5.2265e+00,  2.7053e+01,\n",
       "          3.4074e+01,  4.4992e+00,  1.0320e+00,  4.2033e+01, -1.8180e+00,\n",
       "         -1.0668e+01, -1.4477e+01,  1.0279e+01,  5.1048e-01, -2.3159e+01,\n",
       "          3.8641e+00, -1.6232e+00,  2.4536e+01, -7.0011e+00, -7.1384e+00,\n",
       "         -8.4090e+00, -2.0291e+01, -1.0511e+01, -2.4160e+01, -1.3062e+01,\n",
       "          4.8918e+00,  2.2663e+00,  2.9640e+01, -3.9891e+00, -1.3820e+00,\n",
       "         -1.5002e+00,  1.0264e+00, -2.3597e+00,  6.4946e+00, -7.4828e+00,\n",
       "          1.0715e+01, -2.2664e+00,  2.3671e+01,  5.1220e+00,  9.9428e+00,\n",
       "          3.3524e+00,  1.3353e+01,  2.0332e+01,  2.9204e+00,  3.8255e+00,\n",
       "         -9.1059e+00,  3.2394e+01,  2.3095e-01, -5.3086e+00,  2.0271e+01,\n",
       "          2.2989e+00, -1.4537e+01,  2.0533e+01,  1.0075e+01,  1.2599e+01,\n",
       "         -1.3298e+01, -3.2714e+00,  9.3586e-01,  8.4738e+00, -2.9375e+00,\n",
       "         -7.3040e+00,  8.4816e+00,  5.2870e+00, -1.2886e+01, -6.1917e+01,\n",
       "          3.0861e+01,  1.1466e-01, -2.2754e+01, -1.3078e+01,  1.9941e+01,\n",
       "          3.3899e+00,  2.7778e+01,  3.6420e+01,  3.4972e+00, -7.9190e+00,\n",
       "         -5.0306e+00, -6.2625e+00,  5.3131e+01,  4.9080e+01,  3.6851e+00,\n",
       "          1.7578e+00,  3.1601e+00,  2.6904e+01,  3.3302e+01,  8.8578e+00,\n",
       "          3.9411e+01,  1.1071e+01,  3.6719e+00,  4.9949e+00, -1.2990e+01,\n",
       "          1.3687e+01,  1.3244e+00, -1.8583e+01,  4.7178e+01,  9.6150e+00,\n",
       "          4.2531e+00,  6.6837e+00, -5.7400e+00, -1.7363e+01, -1.8335e+01,\n",
       "          9.3446e+00,  1.2079e+00, -3.8633e-01, -2.3673e+00,  1.4586e+01,\n",
       "          5.5419e+00,  2.9036e+00,  5.5237e+00,  6.1467e-01,  4.8457e+00,\n",
       "          2.9495e+00,  1.4865e+00,  4.4666e+00,  1.0154e+01, -1.6858e-01,\n",
       "          8.4167e-01,  8.2339e+00,  1.7377e+00, -1.8909e+00,  4.9678e+00,\n",
       "          2.3145e+00,  3.8844e+01,  7.9643e+00,  1.6369e+00,  1.6999e+01,\n",
       "          3.1410e+00, -2.4913e+01, -9.0411e+00,  1.4791e+00, -1.6363e+01,\n",
       "         -1.7452e+01,  2.2541e-01,  8.4559e-03, -6.1222e+00, -6.5213e+00,\n",
       "         -3.6970e+01,  5.8814e+01,  3.3610e+01,  2.3894e+00, -2.7278e+00,\n",
       "          9.1194e+00,  1.0841e+01,  3.4134e-01,  1.3563e+01,  2.0208e+00,\n",
       "         -8.8306e+00,  3.1625e+01, -1.2951e+01, -9.1529e+00,  1.5580e+01,\n",
       "         -2.6348e+01, -1.3546e+01,  4.9836e+01,  1.4204e+01, -8.8279e+00,\n",
       "         -9.7974e+00, -1.6092e+01, -1.6850e+01,  1.0086e+01,  4.9190e+00,\n",
       "         -2.4839e+01,  5.1071e+00,  4.5094e+00,  2.4010e+01, -1.9731e+00,\n",
       "          8.0853e+00, -3.9699e+00,  7.5756e+00,  1.5338e+01,  2.7432e+01,\n",
       "         -2.2348e+01,  7.6278e+00,  1.7180e-01,  1.1526e+01,  1.8484e+01,\n",
       "         -1.5609e+01, -1.4825e+01, -3.0887e+00,  1.4208e+01,  7.6663e+00,\n",
       "          2.4342e+00,  2.0518e+01, -8.2039e+00, -2.0358e+01, -4.4119e+00,\n",
       "          2.3017e+00, -1.0112e+01, -2.4926e+01, -9.2206e+00,  1.9920e+00,\n",
       "         -3.6947e+00, -1.3038e+01, -1.3883e+01, -1.6269e+01,  4.5086e+00,\n",
       "          2.5743e-01, -1.0279e+01, -9.9962e+00, -2.1099e+01, -1.0445e+01,\n",
       "          2.4398e+00, -5.9275e+00, -5.0335e+00,  1.5210e+01, -2.4290e+01,\n",
       "          2.6540e+01,  1.7353e+01,  1.8440e-01,  1.2061e+01, -2.4770e+00,\n",
       "          6.6189e+01,  6.7030e+00,  1.4604e+01,  3.3732e+01,  1.1466e+01,\n",
       "          4.9472e+00, -2.0613e+00,  9.1908e+00, -1.5528e+00,  1.1002e+01,\n",
       "          1.6062e+01,  6.2362e+01, -1.7020e+01,  7.5277e+01,  5.2534e+00,\n",
       "          3.9446e+01,  4.0913e+01,  5.8672e+01,  4.9701e+00, -4.7863e+00,\n",
       "          1.8565e+01,  7.1236e+00, -1.4528e+01,  5.5845e+00,  4.0347e+01,\n",
       "         -2.0335e+01, -1.5445e+01,  1.9139e+01,  1.4036e+01, -3.3398e+00,\n",
       "          1.1779e+01,  6.7553e+00, -3.2839e+01,  9.4350e+00,  1.1978e+01,\n",
       "          1.1033e+02,  5.9736e+01,  2.8376e+01,  1.7256e+01,  4.7267e+01,\n",
       "         -4.5944e+00,  4.1183e+00, -4.9577e+01, -3.1452e-01,  9.8129e+00,\n",
       "         -9.6007e+00, -2.7087e+01, -2.4401e+01,  3.2363e+01,  9.5638e+00,\n",
       "          6.6697e+00, -7.1760e+00, -1.0701e+01, -6.7307e+00, -1.4203e+00,\n",
       "          1.5238e+01, -5.5201e+00,  1.3722e+00, -1.7060e+01,  4.6117e+01,\n",
       "          1.0023e+01,  2.2681e+01,  2.5891e+01,  4.9014e+00, -2.3579e+01,\n",
       "         -2.6182e+00, -7.9486e+00,  2.4029e+00,  2.6108e+00, -2.0064e+01,\n",
       "         -5.8769e-01, -5.4483e+01,  1.0691e+01,  7.6168e+00,  1.1936e+01]])\n",
       "Layer: linear.bias\n",
       "Shape: torch.Size([1])\n",
       "tensor([234.6400])\n",
       "</pre>\n",
       "    </div>\n",
       "    "
      ],
      "text/plain": [
       "<IPython.core.display.HTML object>"
      ]
     },
     "metadata": {},
     "output_type": "display_data"
    }
   ],
   "source": [
    "def my_print_function():\n",
    "    for name, param in model.named_parameters():\n",
    "        print(f\"Layer: {name}\")\n",
    "        print(f\"Shape: {param.shape}\")\n",
    "        print(param.data)\n",
    "pya.utils.print_to_scrollable_output(my_print_function)"
   ]
  },
  {
   "cell_type": "markdown",
   "id": "275815e5-5630-4163-bc61-7119a9c805c1",
   "metadata": {},
   "source": [
    "## Write clock dictionary"
   ]
  },
  {
   "cell_type": "markdown",
   "id": "3b176620-afb5-403c-9948-07639072bb44",
   "metadata": {},
   "source": [
    "Let's put everything together and save:"
   ]
  },
  {
   "cell_type": "code",
   "execution_count": 16,
   "id": "35d00b76-513d-4d8f-8824-6d810ee9d8f5",
   "metadata": {},
   "outputs": [],
   "source": [
    "clock_dict = {\n",
    "    # Metadata\n",
    "    'clock_name': clock_name,\n",
    "    'data_type': data_type,\n",
    "    'model_class': model_class,\n",
    "    'species': species,\n",
    "    'year': year,\n",
    "    'approved_by_author': approved_by_author,\n",
    "    'citation': citation,\n",
    "    'doi': doi,\n",
    "    \"notes\": notes,\n",
    "\n",
    "    # Data\n",
    "    'reference_feature_values': reference_feature_values if reference_feature_values else None,\n",
    "    'preprocessing': preprocessing if preprocessing else None, \n",
    "    'features': features,\n",
    "    'weight_dict': model.state_dict(),\n",
    "    'postprocessing': postprocessing if postprocessing else None,\n",
    "}\n",
    "\n",
    "torch.save(clock_dict, f'../weights/{clock_name}.pt')"
   ]
  },
  {
   "cell_type": "markdown",
   "id": "c1dd2efe-2bd6-4e1b-92ee-d110c25ad29c",
   "metadata": {},
   "source": [
    "## Clear directory"
   ]
  },
  {
   "cell_type": "markdown",
   "id": "158aa71f-7bbc-4c52-b7ef-16ba45d5e1fd",
   "metadata": {},
   "source": [
    "Delete all files that are not clock jupyter notebooks:"
   ]
  },
  {
   "cell_type": "code",
   "execution_count": 17,
   "id": "db4bd42b-c62f-4557-9ebc-d8194a240137",
   "metadata": {},
   "outputs": [
    {
     "name": "stdout",
     "output_type": "stream",
     "text": [
      "Deleted file: coefficients.xlsx\n",
      "Deleted folder: .ipynb_checkpoints\n"
     ]
    }
   ],
   "source": [
    "# Function to remove a folder and all its contents\n",
    "def remove_folder(path):\n",
    "    try:\n",
    "        shutil.rmtree(path)\n",
    "        print(f\"Deleted folder: {path}\")\n",
    "    except Exception as e:\n",
    "        print(f\"Error deleting folder {path}: {e}\")\n",
    "\n",
    "# Get a list of all files and folders in the current directory\n",
    "all_items = os.listdir('.')\n",
    "\n",
    "# Loop through the items\n",
    "for item in all_items:\n",
    "    # Check if it's a file and does not end with .ipynb\n",
    "    if os.path.isfile(item) and not item.endswith('.ipynb'):\n",
    "        os.remove(item)\n",
    "        print(f\"Deleted file: {item}\")\n",
    "    # Check if it's a folder\n",
    "    elif os.path.isdir(item):\n",
    "        remove_folder(item)"
   ]
  }
 ],
 "metadata": {
  "kernelspec": {
   "display_name": "Python 3",
   "language": "python",
   "name": "python3"
  },
  "language_info": {
   "codemirror_mode": {
    "name": "ipython",
    "version": 3
   },
   "file_extension": ".py",
   "mimetype": "text/x-python",
   "name": "python",
   "nbconvert_exporter": "python",
   "pygments_lexer": "ipython3",
   "version": "3.9.17"
  }
 },
 "nbformat": 4,
 "nbformat_minor": 5
}

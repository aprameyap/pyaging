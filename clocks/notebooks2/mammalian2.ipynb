{
 "cells": [
  {
   "cell_type": "markdown",
   "id": "2f04eee0-5928-4e74-a754-6dc2e528810c",
   "metadata": {},
   "source": [
    "# Mammalian2"
   ]
  },
  {
   "cell_type": "markdown",
   "id": "a3f514a3-772c-4a14-afdf-5a8376851ff4",
   "metadata": {},
   "source": [
    "## Index\n",
    "1. [Define required clock parameters](#Define-required-clock-parameters)\n",
    "2. [Download necessary data](#Download-necessary-data)\n",
    "3. [Load data](#-Load-data)\n",
    "4. [Extract features and weights](#Extract-features-and-weights)\n",
    "5. [Load weights into pyaging model](#Load-weights-into-pyaging-model)\n",
    "6. [Add reference values](#Add-reference-values)\n",
    "7. [Add preprocessing and postprocesssing steps](#Add-preprocessing-and-postprocesssing-steps)\n",
    "8. [Check all data objects](#Check-all-data-objects)\n",
    "9. [Write clock dictionary](#Write-clock-dictionary)\n",
    "10. [Clear directory](#Clear-directory)"
   ]
  },
  {
   "cell_type": "markdown",
   "id": "d95fafdc-643a-40ea-a689-200bd132e90c",
   "metadata": {},
   "source": [
    "Let's first import some packages:"
   ]
  },
  {
   "cell_type": "code",
   "execution_count": 1,
   "id": "4adfb4de-cd79-4913-a1af-9e23e9e236c9",
   "metadata": {},
   "outputs": [],
   "source": [
    "import os\n",
    "import marshal\n",
    "import shutil\n",
    "import json\n",
    "import torch\n",
    "import pandas as pd\n",
    "import pyaging as pya"
   ]
  },
  {
   "cell_type": "markdown",
   "id": "c8c0c937-d9b6-4756-99b0-91de591220e0",
   "metadata": {},
   "source": [
    "## Define required clock parameters"
   ]
  },
  {
   "cell_type": "markdown",
   "id": "cf95ddca-625e-4c70-a246-c3cb12df96f8",
   "metadata": {},
   "source": [
    "Let's define some required information first:"
   ]
  },
  {
   "cell_type": "code",
   "execution_count": 2,
   "id": "5281776d-0549-445f-beec-39c31ec7dbe1",
   "metadata": {},
   "outputs": [],
   "source": [
    "clock_name = 'mammalian2'\n",
    "data_type = 'methylation'\n",
    "model_class = 'LinearModel'\n",
    "species = 'multi'\n",
    "year = 2023\n",
    "approved_by_author = '⌛'\n",
    "citation = \"Lu, A. T., et al. \\\"Universal DNA methylation age across mammalian tissues.\\\" Nature aging 3.9 (2023): 1144-1166.\"\n",
    "doi = \"https://doi.org/10.1038/s43587-023-00462-6\"\n",
    "notes = \"This is the relative DNAm age predictor from the paper, with min=0 and max=1\""
   ]
  },
  {
   "cell_type": "markdown",
   "id": "4520c8cb-6c1f-4490-ba4c-6fe78ef002a7",
   "metadata": {},
   "source": [
    "## Download necessary data"
   ]
  },
  {
   "cell_type": "markdown",
   "id": "4ccae25e-7d7f-45da-8e8a-064a66dc52fa",
   "metadata": {},
   "source": [
    "#### Download GitHub repository"
   ]
  },
  {
   "cell_type": "code",
   "execution_count": 3,
   "id": "a2a5b60e-ff7f-4b24-b1c6-61cda8948310",
   "metadata": {},
   "outputs": [
    {
     "data": {
      "text/plain": [
       "0"
      ]
     },
     "execution_count": 3,
     "metadata": {},
     "output_type": "execute_result"
    }
   ],
   "source": [
    "github_url = \"https://github.com/shorvath/MammalianMethylationConsortium.git\"\n",
    "github_folder_name = github_url.split('/')[-1].split('.')[0]\n",
    "os.system(f\"git clone {github_url}\")"
   ]
  },
  {
   "cell_type": "markdown",
   "id": "35615b62-73ac-40b1-8bc1-e904403eb0ae",
   "metadata": {},
   "source": [
    "## Load data"
   ]
  },
  {
   "cell_type": "markdown",
   "id": "232eb94a-04a7-4ac4-ae3e-0e365b443a8e",
   "metadata": {},
   "source": [
    "#### From CSV file"
   ]
  },
  {
   "cell_type": "code",
   "execution_count": 4,
   "id": "45fbc051-f0d2-4b25-9813-ae126f6fedcb",
   "metadata": {},
   "outputs": [],
   "source": [
    "df = pd.read_csv('MammalianMethylationConsortium/UniversalPanMammalianClock/ClockParameters/clock2.csv')"
   ]
  },
  {
   "cell_type": "markdown",
   "id": "60c676db-2c7c-4c04-9457-97bccd598269",
   "metadata": {},
   "source": [
    "## Extract features and weights"
   ]
  },
  {
   "cell_type": "markdown",
   "id": "87dfda00-5182-4416-8eb1-de91ce2a9e48",
   "metadata": {},
   "source": [
    "First, let's extract the features and weights:"
   ]
  },
  {
   "cell_type": "code",
   "execution_count": 5,
   "id": "e1d1dd13-65ac-4694-8948-3cd94bc19fe1",
   "metadata": {},
   "outputs": [
    {
     "data": {
      "text/html": [
       "<div>\n",
       "<style scoped>\n",
       "    .dataframe tbody tr th:only-of-type {\n",
       "        vertical-align: middle;\n",
       "    }\n",
       "\n",
       "    .dataframe tbody tr th {\n",
       "        vertical-align: top;\n",
       "    }\n",
       "\n",
       "    .dataframe thead th {\n",
       "        text-align: right;\n",
       "    }\n",
       "</style>\n",
       "<table border=\"1\" class=\"dataframe\">\n",
       "  <thead>\n",
       "    <tr style=\"text-align: right;\">\n",
       "      <th></th>\n",
       "      <th>index</th>\n",
       "      <th>var</th>\n",
       "      <th>beta_clock2</th>\n",
       "      <th>feature</th>\n",
       "      <th>coefficient</th>\n",
       "    </tr>\n",
       "  </thead>\n",
       "  <tbody>\n",
       "    <tr>\n",
       "      <th>0</th>\n",
       "      <td>1</td>\n",
       "      <td>Intercept</td>\n",
       "      <td>-1.911376</td>\n",
       "      <td>Intercept</td>\n",
       "      <td>-1.911376</td>\n",
       "    </tr>\n",
       "    <tr>\n",
       "      <th>1</th>\n",
       "      <td>2</td>\n",
       "      <td>cg00020468</td>\n",
       "      <td>-0.002385</td>\n",
       "      <td>cg00020468</td>\n",
       "      <td>-0.002385</td>\n",
       "    </tr>\n",
       "    <tr>\n",
       "      <th>2</th>\n",
       "      <td>3</td>\n",
       "      <td>cg00096922</td>\n",
       "      <td>-0.009445</td>\n",
       "      <td>cg00096922</td>\n",
       "      <td>-0.009445</td>\n",
       "    </tr>\n",
       "    <tr>\n",
       "      <th>3</th>\n",
       "      <td>4</td>\n",
       "      <td>cg00098422</td>\n",
       "      <td>0.055805</td>\n",
       "      <td>cg00098422</td>\n",
       "      <td>0.055805</td>\n",
       "    </tr>\n",
       "    <tr>\n",
       "      <th>4</th>\n",
       "      <td>5</td>\n",
       "      <td>cg00106940</td>\n",
       "      <td>-0.059145</td>\n",
       "      <td>cg00106940</td>\n",
       "      <td>-0.059145</td>\n",
       "    </tr>\n",
       "  </tbody>\n",
       "</table>\n",
       "</div>"
      ],
      "text/plain": [
       "   index         var  beta_clock2     feature  coefficient\n",
       "0      1   Intercept    -1.911376   Intercept    -1.911376\n",
       "1      2  cg00020468    -0.002385  cg00020468    -0.002385\n",
       "2      3  cg00096922    -0.009445  cg00096922    -0.009445\n",
       "3      4  cg00098422     0.055805  cg00098422     0.055805\n",
       "4      5  cg00106940    -0.059145  cg00106940    -0.059145"
      ]
     },
     "execution_count": 5,
     "metadata": {},
     "output_type": "execute_result"
    }
   ],
   "source": [
    "df['feature'] = df['var']\n",
    "df['coefficient'] = df['beta_clock2']\n",
    "\n",
    "df.head()"
   ]
  },
  {
   "cell_type": "markdown",
   "id": "5ac5b42a-3bd9-49d3-b84e-79d236af24b4",
   "metadata": {},
   "source": [
    "Then, let's create lists for features and weights. Be careful about the intercept, as it usually shows up as a feature name."
   ]
  },
  {
   "cell_type": "code",
   "execution_count": 6,
   "id": "2fc06bb5-7e9c-46fd-9843-31880f1d3788",
   "metadata": {},
   "outputs": [],
   "source": [
    "features = df['feature'][1:].tolist()\n",
    "weights = torch.tensor(df['coefficient'][1:].tolist()).unsqueeze(0)\n",
    "intercept = torch.tensor([df['coefficient'][0]])"
   ]
  },
  {
   "cell_type": "markdown",
   "id": "d193ccbf-d06b-49bb-ad4b-ffe3271dea63",
   "metadata": {},
   "source": [
    "## Load weights into pyaging model"
   ]
  },
  {
   "cell_type": "markdown",
   "id": "4350119a-4bd4-4efa-85b5-9de70fdf496f",
   "metadata": {},
   "source": [
    "#### Linear model"
   ]
  },
  {
   "cell_type": "code",
   "execution_count": 7,
   "id": "7354c541-5af9-447d-a339-2cb88c253b41",
   "metadata": {},
   "outputs": [
    {
     "data": {
      "text/plain": [
       "LinearModel(\n",
       "  (linear): Linear(in_features=816, out_features=1, bias=True)\n",
       ")"
      ]
     },
     "execution_count": 7,
     "metadata": {},
     "output_type": "execute_result"
    }
   ],
   "source": [
    "model = pya.models.LinearModel(input_dim=len(features))\n",
    "\n",
    "model.linear.weight.data = weights.float()\n",
    "model.linear.bias.data = intercept.float()\n",
    "\n",
    "model"
   ]
  },
  {
   "cell_type": "markdown",
   "id": "06adc9d8-cec2-447d-8d0b-e2819d4c1a5b",
   "metadata": {},
   "source": [
    "## Add reference values"
   ]
  },
  {
   "cell_type": "markdown",
   "id": "84bf0205-f976-497b-a6a9-e4945c05cdb3",
   "metadata": {},
   "source": [
    "Some clocks have reference values in the case of missing features. It is also possible that these values are for preprocessing features rather than the clock features. Let's add a dictionary with the feature names as the keys."
   ]
  },
  {
   "cell_type": "code",
   "execution_count": 8,
   "id": "250dd50d-a175-45f3-913b-da87c50cb55c",
   "metadata": {},
   "outputs": [],
   "source": [
    "reference_feature_values = None"
   ]
  },
  {
   "cell_type": "markdown",
   "id": "c9b4fd10-797c-45bd-aa1a-65aed1deaf1c",
   "metadata": {},
   "source": [
    "## Add preprocessing and postprocesssing steps"
   ]
  },
  {
   "cell_type": "markdown",
   "id": "20649dc9-2b58-4c63-a48e-f8d7a4bb520b",
   "metadata": {},
   "source": [
    "The preprocessing and postprocessing objects are dictionaries with the following format, with all items required. It takes in x in the form of a numpy array."
   ]
  },
  {
   "cell_type": "code",
   "execution_count": 9,
   "id": "1d173005-fb63-43d5-bd9f-0b4fa2e240b1",
   "metadata": {},
   "outputs": [],
   "source": [
    "preprocessing = None"
   ]
  },
  {
   "cell_type": "markdown",
   "id": "3ca747b4-0214-40a1-a7bf-fbf2a71084af",
   "metadata": {},
   "source": [
    "Similarly is the case of postprocessing. Remember that your function must be compatible with torch and is applied to each number individually."
   ]
  },
  {
   "cell_type": "code",
   "execution_count": 10,
   "id": "6fe37a2c-113a-4517-91e4-10a4e8b2005a",
   "metadata": {},
   "outputs": [],
   "source": [
    "def postprocessing_function(x):\n",
    "    \"\"\"\n",
    "    Applies a double transformation: logarithmic followed by anti-logarithmic.\n",
    "    \"\"\"\n",
    "    # Double transformation: logarithmic followed by anti-logarithmic\n",
    "    return math.exp(-math.exp(-x))\n",
    "    \n",
    "postprocessing_function_string = marshal.dumps(postprocessing_function.__code__)\n",
    "\n",
    "postprocessing_helper_objects = None\n",
    "\n",
    "postprocessing = {\n",
    "    'name': 'anti_log_log',\n",
    "    'postprocessing_function': postprocessing_function_string,\n",
    "    'postprocessing_helper_objects': postprocessing_helper_objects\n",
    "}"
   ]
  },
  {
   "cell_type": "markdown",
   "id": "7d6ecb75-271f-4916-a838-2fdd32d67004",
   "metadata": {},
   "source": [
    "## Check all data objects"
   ]
  },
  {
   "cell_type": "markdown",
   "id": "2d06dbec-173d-4767-a7cb-bbc696ef9ffb",
   "metadata": {},
   "source": [
    "Let's print all data objects to check if they make sense."
   ]
  },
  {
   "cell_type": "markdown",
   "id": "df6da74d-5907-4919-8b6d-73397aedc883",
   "metadata": {},
   "source": [
    "#### features"
   ]
  },
  {
   "cell_type": "code",
   "execution_count": 11,
   "id": "bf047bed-52f0-4a64-9691-4c04df9f50ec",
   "metadata": {},
   "outputs": [
    {
     "data": {
      "text/html": [
       "\n",
       "    <div style=\"overflow-x: scroll; overflow-y: scroll; border: 1px solid black; background-color: white; !important; color: black; !important;\">\n",
       "        <pre>There are 816 features.\n",
       "['cg00020468', 'cg00096922', 'cg00098422', 'cg00106940', 'cg00195533', 'cg00250826', 'cg00258262', 'cg00314427', 'cg00362836', 'cg00384342', 'cg00454305', 'cg00467357', 'cg00489428', 'cg00568797', 'cg00593462', 'cg00643485', 'cg00689383', 'cg00694357', 'cg00788877', 'cg00864083', 'cg00871371', 'cg00929113', 'cg00975350', 'cg00984060', 'cg01019040', 'cg01038105', 'cg01061575', 'cg01063757', 'cg01090334', 'cg01137681', 'cg01150494', 'cg01153166', 'cg01169686', 'cg01224972', 'cg01293647', 'cg01301326', 'cg01309159', 'cg01328716', 'cg01337143', 'cg01409964', 'cg01429475', 'cg01450059', 'cg01534197', 'cg01550545', 'cg01566077', 'cg01571965', 'cg01585174', 'cg01594275', 'cg01631669', 'cg01648756', 'cg01712842', 'cg01782227', 'cg01946200', 'cg01975510', 'cg01998606', 'cg02034779', 'cg02040024', 'cg02040823', 'cg02177464', 'cg02184281', 'cg02273345', 'cg02284095', 'cg02287493', 'cg02360445', 'cg02376954', 'cg02456804', 'cg02532525', 'cg02551294', 'cg02629039', 'cg02692845', 'cg02783173', 'cg02800363', 'cg02864622', 'cg02909927', 'cg02946452', 'cg02953590', 'cg02963786', 'cg02968236', 'cg03127034', 'cg03163184', 'cg03190580', 'cg03222030', 'cg03225697', 'cg03247467', 'cg03320248', 'cg03387624', 'cg03420509', 'cg03521797', 'cg03588035', 'cg03600207', 'cg03668418', 'cg03679521', 'cg03683773', 'cg03820088', 'cg03898602', 'cg03905052', 'cg03909491', 'cg03917360', 'cg03942000', 'cg03957108', 'cg04025518', 'cg04087693', 'cg04103301', 'cg04111974', 'cg04204168', 'cg04267101', 'cg04353319', 'cg04366185', 'cg04368876', 'cg04373810', 'cg04414148', 'cg04539386', 'cg04584281', 'cg04680480', 'cg04706544', 'cg04707251', 'cg04725401', 'cg04787747', 'cg04817453', 'cg04847707', 'cg04889095', 'cg04913399', 'cg04958293', 'cg04996684', 'cg04998737', 'cg05008190', 'cg05033071', 'cg05035366', 'cg05039938', 'cg05136138', 'cg05172686', 'cg05196683', 'cg05243338', 'cg05261703', 'cg05292023', 'cg05330587', 'cg05332360', 'cg05359706', 'cg05401971', 'cg05456580', 'cg05474883', 'cg05524242', 'cg05535461', 'cg05537515', 'cg05551621', 'cg05575054', 'cg05584618', 'cg05620664', 'cg05675373', 'cg05684493', 'cg05690769', 'cg05704605', 'cg05793328', 'cg05801021', 'cg05801832', 'cg05817746', 'cg05844902', 'cg05844937', 'cg05861987', 'cg05911522', 'cg05916870', 'cg05933505', 'cg05967003', 'cg06004718', 'cg06102298', 'cg06156376', 'cg06250511', 'cg06333141', 'cg06386724', 'cg06391468', 'cg06392591', 'cg06461219', 'cg06472065', 'cg06482098', 'cg06607996', 'cg06655463', 'cg06679868', 'cg06721611', 'cg06736685', 'cg06779064', 'cg06787049', 'cg06790494', 'cg06796779', 'cg06828322', 'cg06878766', 'cg06997801', 'cg07005811', 'cg07014363', 'cg07026794', 'cg07056567', 'cg07081182', 'cg07225115', 'cg07279255', 'cg07292994', 'cg07293320', 'cg07299823', 'cg07323940', 'cg07332354', 'cg07383477', 'cg07423797', 'cg07459759', 'cg07493901', 'cg07547549', 'cg07564343', 'cg07601141', 'cg07776022', 'cg07782608', 'cg07843244', 'cg07875786', 'cg07878283', 'cg07881279', 'cg07906193', 'cg07932605', 'cg07991826', 'cg08007722', 'cg08030321', 'cg08040307', 'cg08074329', 'cg08092317', 'cg08247363', 'cg08321639', 'cg08378313', 'cg08402704', 'cg08438614', 'cg08446005', 'cg08454381', 'cg08508546', 'cg08510667', 'cg08538268', 'cg08563010', 'cg08570512', 'cg08587692', 'cg08627730', 'cg08651129', 'cg08666298', 'cg08676748', 'cg08681110', 'cg08747377', 'cg08909367', 'cg08912313', 'cg08933909', 'cg08938156', 'cg08965235', 'cg08981150', 'cg09008979', 'cg09009312', 'cg09023627', 'cg09061197', 'cg09169719', 'cg09191327', 'cg09200783', 'cg09227056', 'cg09313705', 'cg09316860', 'cg09337540', 'cg09360996', 'cg09362546', 'cg09363187', 'cg09364634', 'cg09374953', 'cg09377007', 'cg09453226', 'cg09461098', 'cg09474015', 'cg09482204', 'cg09606114', 'cg09629523', 'cg09646392', 'cg09661809', 'cg09661817', 'cg09710440', 'cg09750164', 'cg09809672', 'cg09817427', 'cg09989727', 'cg10045881', 'cg10128645', 'cg10146459', 'cg10183248', 'cg10186512', 'cg10211907', 'cg10233638', 'cg10235290', 'cg10246778', 'cg10278760', 'cg10381180', 'cg10439738', 'cg10466667', 'cg10491556', 'cg10501210', 'cg10559644', 'cg10609096', 'cg10644072', 'cg10677704', 'cg10681713', 'cg10710448', 'cg10711876', 'cg10718271', 'cg10739250', 'cg10757510', 'cg10792727', 'cg10801485', 'cg10893516', 'cg10916192', 'cg10932472', 'cg11082761', 'cg11084334', 'cg11108049', 'cg11128281', 'cg11156581', 'cg11160393', 'cg11215098', 'cg11217865', 'cg11235379', 'cg11251514', 'cg11275232', 'cg11276577', 'cg11327514', 'cg11438204', 'cg11480265', 'cg11488183', 'cg11498355', 'cg11514832', 'cg11516694', 'cg11610869', 'cg11614630', 'cg11664765', 'cg11666770', 'cg11677981', 'cg11690941', 'cg11700079', 'cg11728741', 'cg11765970', 'cg11803466', 'cg11857072', 'cg11904056', 'cg11948733', 'cg11978813', 'cg12156848', 'cg12201500', 'cg12289045', 'cg12289788', 'cg12307242', 'cg12314723', 'cg12325485', 'cg12338698', 'cg12373771', 'cg12382554', 'cg12421693', 'cg12425327', 'cg12428891', 'cg12449245', 'cg12459916', 'cg12460432', 'cg12492738', 'cg12501063', 'cg12564910', 'cg12577973', 'cg12642246', 'cg12651099', 'cg12685265', 'cg12713245', 'cg12721805', 'cg12722365', 'cg12733826', 'cg12761282', 'cg12813831', 'cg12815291', 'cg12818872', 'cg12830057', 'cg12841266', 'cg12879445', 'cg12880090', 'cg12896068', 'cg12923877', 'cg12933950', 'cg12942661', 'cg12965599', 'cg12973326', 'cg12981876', 'cg13006563', 'cg13058338', 'cg13068315', 'cg13087210', 'cg13151063', 'cg13153497', 'cg13160087', 'cg13188467', 'cg13242392', 'cg13275239', 'cg13343102', 'cg13379618', 'cg13383038', 'cg13400013', 'cg13532184', 'cg13589316', 'cg13608832', 'cg13609316', 'cg13655781', 'cg13702222', 'cg13761591', 'cg13802785', 'cg13830021', 'cg13851328', 'cg13884903', 'cg13916600', 'cg13935553', 'cg13935834', 'cg13953571', 'cg14002724', 'cg14045036', 'cg14056866', 'cg14136214', 'cg14155184', 'cg14172937', 'cg14237002', 'cg14297772', 'cg14299268', 'cg14322760', 'cg14334315', 'cg14361627', 'cg14361875', 'cg14381350', 'cg14443903', 'cg14498322', 'cg14517144', 'cg14548925', 'cg14551953', 'cg14565725', 'cg14640670', 'cg14656600', 'cg14666740', 'cg14668921', 'cg14676280', 'cg14701342', 'cg14728312', 'cg14738500', 'cg14762358', 'cg14794469', 'cg14821110', 'cg14865782', 'cg14903956', 'cg14919591', 'cg14991111', 'cg15006148', 'cg15009537', 'cg15030317', 'cg15094970', 'cg15168457', 'cg15171944', 'cg15237969', 'cg15254020', 'cg15298634', 'cg15330117', 'cg15340018', 'cg15343536', 'cg15391310', 'cg15405572', 'cg15408728', 'cg15426572', 'cg15437942', 'cg15471501', 'cg15511156', 'cg15571405', 'cg15701287', 'cg15726426', 'cg15746205', 'cg15804249', 'cg15809488', 'cg15809618', 'cg15813523', 'cg15828158', 'cg15913680', 'cg15991909', 'cg16011662', 'cg16095149', 'cg16100840', 'cg16118197', 'cg16154416', 'cg16159306', 'cg16278638', 'cg16286672', 'cg16296826', 'cg16356803', 'cg16376499', 'cg16378867', 'cg16391501', 'cg16437032', 'cg16454989', 'cg16486681', 'cg16542942', 'cg16550733', 'cg16571746', 'cg16582309', 'cg16591739', 'cg16599143', 'cg16624401', 'cg16671155', 'cg16717607', 'cg16745091', 'cg16756969', 'cg16764906', 'cg16848873', 'cg16853731', 'cg16867657', 'cg16886381', 'cg17114460', 'cg17116410', 'cg17139066', 'cg17213306', 'cg17251355', 'cg17266282', 'cg17267107', 'cg17311369', 'cg17318138', 'cg17356452', 'cg17357006', 'cg17425418', 'cg17437489', 'cg17458251', 'cg17504468', 'cg17516812', 'cg17604804', 'cg17656607', 'cg17668518', 'cg17708456', 'cg17718834', 'cg17769560', 'cg17776554', 'cg17783618', 'cg17818266', 'cg17819031', 'cg17829569', 'cg17856858', 'cg17905888', 'cg17986111', 'cg18024395', 'cg18060631', 'cg18093751', 'cg18094982', 'cg18168101', 'cg18223258', 'cg18281552', 'cg18304538', 'cg18349747', 'cg18368305', 'cg18419637', 'cg18433728', 'cg18481180', 'cg18502834', 'cg18526971', 'cg18535797', 'cg18543660', 'cg18577444', 'cg18635807', 'cg18684142', 'cg18691948', 'cg18787121', 'cg18814344', 'cg18894136', 'cg18918349', 'cg18955753', 'cg18961151', 'cg18963985', 'cg19017031', 'cg19051359', 'cg19054310', 'cg19090691', 'cg19109204', 'cg19134574', 'cg19195912', 'cg19291010', 'cg19291109', 'cg19296119', 'cg19296935', 'cg19319735', 'cg19342019', 'cg19361075', 'cg19384462', 'cg19411464', 'cg19425332', 'cg19513247', 'cg19561061', 'cg19573972', 'cg19584582', 'cg19591642', 'cg19604874', 'cg19614548', 'cg19663246', 'cg19692957', 'cg19707231', 'cg19711579', 'cg19756587', 'cg19812206', 'cg19854621', 'cg19891210', 'cg19912994', 'cg19927064', 'cg19931377', 'cg19981759', 'cg20023049', 'cg20025209', 'cg20033770', 'cg20049544', 'cg20076842', 'cg20083419', 'cg20100200', 'cg20194417', 'cg20212950', 'cg20221627', 'cg20306751', 'cg20334331', 'cg20345626', 'cg20370622', 'cg20422755', 'cg20424997', 'cg20432508', 'cg20452275', 'cg20483513', 'cg20527060', 'cg20565386', 'cg20583171', 'cg20615601', 'cg20635820', 'cg20705693', 'cg20766695', 'cg20804050', 'cg20865948', 'cg20867091', 'cg20884304', 'cg20895555', 'cg21030623', 'cg21089733', 'cg21102477', 'cg21126148', 'cg21180487', 'cg21246299', 'cg21278764', 'cg21351544', 'cg21390586', 'cg21509426', 'cg21510166', 'cg21513836', 'cg21590845', 'cg21602520', 'cg21608448', 'cg21617338', 'cg21633990', 'cg21703944', 'cg21839725', 'cg21847954', 'cg21907062', 'cg22040809', 'cg22057106', 'cg22067905', 'cg22069272', 'cg22100382', 'cg22122198', 'cg22144210', 'cg22146484', 'cg22204849', 'cg22212874', 'cg22234802', 'cg22267613', 'cg22338839', 'cg22354333', 'cg22380921', 'cg22409694', 'cg22416332', 'cg22432362', 'cg22454769', 'cg22588813', 'cg22661680', 'cg22673296', 'cg22703759', 'cg22710034', 'cg22805522', 'cg22882174', 'cg22901671', 'cg22903204', 'cg22914193', 'cg22943590', 'cg23076498', 'cg23087015', 'cg23088328', 'cg23089474', 'cg23108693', 'cg23120731', 'cg23148651', 'cg23183090', 'cg23272565', 'cg23287176', 'cg23298936', 'cg23314464', 'cg23337318', 'cg23344477', 'cg23405931', 'cg23415880', 'cg23423329', 'cg23449696', 'cg23510032', 'cg23567910', 'cg23573900', 'cg23646867', 'cg23752476', 'cg23778391', 'cg23783364', 'cg23940242', 'cg23948922', 'cg23985931', 'cg23998570', 'cg24024857', 'cg24055081', 'cg24087602', 'cg24104506', 'cg24352905', 'cg24393114', 'cg24434315', 'cg24488281', 'cg24504442', 'cg24551749', 'cg24557436', 'cg24580312', 'cg24597392', 'cg24615318', 'cg24653269', 'cg24866378', 'cg24866418', 'cg24924928', 'cg24927890', 'cg24952195', 'cg24975211', 'cg25047480', 'cg25055739', 'cg25108269', 'cg25139325', 'cg25140691', 'cg25184118', 'cg25184464', 'cg25195795', 'cg25217825', 'cg25229850', 'cg25278124', 'cg25368206', 'cg25381383', 'cg25410683', 'cg25430089', 'cg25467897', 'cg25518911', 'cg25615279', 'cg25622623', 'cg25639084', 'cg25649550', 'cg25651791', 'cg25662803', 'cg25687751', 'cg25694286', 'cg25699407', 'cg25731502', 'cg25771548', 'cg25805807', 'cg25824158', 'cg25905455', 'cg25906744', 'cg25950871', 'cg25960060', 'cg26032884', 'cg26045960', 'cg26062663', 'cg26067250', 'cg26072749', 'cg26102159', 'cg26120306', 'cg26234822', 'cg26260350', 'cg26275174', 'cg26363341', 'cg26420776', 'cg26425570', 'cg26474314', 'cg26476447', 'cg26512254', 'cg26581729', 'cg26594414', 'cg26598122', 'cg26603143', 'cg26616379', 'cg26709300', 'cg26781330', 'cg26844246', 'cg26845017', 'cg26845448', 'cg26869371', 'cg26885075', 'cg26917960', 'cg26920416', 'cg26957053', 'cg26973693', 'cg26989456', 'cg27035369', 'cg27096599', 'cg27201382', 'cg27208859', 'cg27228973', 'cg27242082', 'cg27275508', 'cg27291552', 'cg27291660', 'cg27294582', 'cg27299745', 'cg27300575', 'cg27430422', 'cg27492942', 'cg27547112', 'cg27593991', 'cg27637521']\n",
       "</pre>\n",
       "    </div>\n",
       "    "
      ],
      "text/plain": [
       "<IPython.core.display.HTML object>"
      ]
     },
     "metadata": {},
     "output_type": "display_data"
    }
   ],
   "source": [
    "def my_print_function():\n",
    "    print(f\"There are {len(features)} features.\")\n",
    "    print(features)\n",
    "pya.utils.print_to_scrollable_output(my_print_function)"
   ]
  },
  {
   "cell_type": "markdown",
   "id": "ff579d85-154f-49dc-bd17-c280c44e6d45",
   "metadata": {},
   "source": [
    "#### reference_feature_values"
   ]
  },
  {
   "cell_type": "code",
   "execution_count": 12,
   "id": "6436fd01-0a8e-41a5-b584-2c020136ff97",
   "metadata": {},
   "outputs": [
    {
     "data": {
      "text/html": [
       "\n",
       "    <div style=\"overflow-x: scroll; overflow-y: scroll; border: 1px solid black; background-color: white; !important; color: black; !important;\">\n",
       "        <pre>None\n",
       "</pre>\n",
       "    </div>\n",
       "    "
      ],
      "text/plain": [
       "<IPython.core.display.HTML object>"
      ]
     },
     "metadata": {},
     "output_type": "display_data"
    }
   ],
   "source": [
    "def my_print_function():\n",
    "    if reference_feature_values:\n",
    "        print(f\"There are {len(reference_feature_values)} reference feature values.\")\n",
    "    print(reference_feature_values)\n",
    "pya.utils.print_to_scrollable_output(my_print_function)"
   ]
  },
  {
   "cell_type": "markdown",
   "id": "63ce9ff2-7762-4756-9ee6-d21de712e3d5",
   "metadata": {},
   "source": [
    "#### preprocessing"
   ]
  },
  {
   "cell_type": "code",
   "execution_count": 13,
   "id": "960c5ede-3175-4192-a358-bf5ccb41074f",
   "metadata": {},
   "outputs": [
    {
     "data": {
      "text/html": [
       "\n",
       "    <div style=\"overflow-x: scroll; overflow-y: scroll; border: 1px solid black; background-color: white; !important; color: black; !important;\">\n",
       "        <pre>None\n",
       "</pre>\n",
       "    </div>\n",
       "    "
      ],
      "text/plain": [
       "<IPython.core.display.HTML object>"
      ]
     },
     "metadata": {},
     "output_type": "display_data"
    }
   ],
   "source": [
    "def my_print_function():\n",
    "    print(preprocessing)\n",
    "    if preprocessing:\n",
    "        print(preprocessing_helper_objects)\n",
    "pya.utils.print_to_scrollable_output(my_print_function)"
   ]
  },
  {
   "cell_type": "markdown",
   "id": "3d28e10d-2573-473a-a97c-e26b11e7e01e",
   "metadata": {},
   "source": [
    "#### postprocessing"
   ]
  },
  {
   "cell_type": "code",
   "execution_count": 14,
   "id": "40fe1f52-ad50-4b84-89c7-c5d1d3fff139",
   "metadata": {},
   "outputs": [
    {
     "data": {
      "text/html": [
       "\n",
       "    <div style=\"overflow-x: scroll; overflow-y: scroll; border: 1px solid black; background-color: white; !important; color: black; !important;\">\n",
       "        <pre>{'name': 'anti_log_log', 'postprocessing_function': b'\\xe3\\x01\\x00\\x00\\x00\\x00\\x00\\x00\\x00\\x00\\x00\\x00\\x00\\x01\\x00\\x00\\x00\\x05\\x00\\x00\\x00C\\x00\\x00\\x00s\\x14\\x00\\x00\\x00t\\x00\\xa0\\x01t\\x00\\xa0\\x01|\\x00\\x0b\\x00\\xa1\\x01\\x0b\\x00\\xa1\\x01S\\x00)\\x01\\xfaT\\n    Applies a double transformation: logarithmic followed by anti-logarithmic.\\n    )\\x02\\xda\\x04math\\xda\\x03exp)\\x01\\xda\\x01x\\xa9\\x00r\\x05\\x00\\x00\\x00\\xfa\\x1f<ipython-input-10-116581c3c405>\\xda\\x17postprocessing_function\\x01\\x00\\x00\\x00s\\x02\\x00\\x00\\x00\\x00\\x05', 'postprocessing_helper_objects': None}\n",
       "{'name': 'anti_log_log', 'postprocessing_function': b'\\xe3\\x01\\x00\\x00\\x00\\x00\\x00\\x00\\x00\\x00\\x00\\x00\\x00\\x01\\x00\\x00\\x00\\x05\\x00\\x00\\x00C\\x00\\x00\\x00s\\x14\\x00\\x00\\x00t\\x00\\xa0\\x01t\\x00\\xa0\\x01|\\x00\\x0b\\x00\\xa1\\x01\\x0b\\x00\\xa1\\x01S\\x00)\\x01\\xfaT\\n    Applies a double transformation: logarithmic followed by anti-logarithmic.\\n    )\\x02\\xda\\x04math\\xda\\x03exp)\\x01\\xda\\x01x\\xa9\\x00r\\x05\\x00\\x00\\x00\\xfa\\x1f<ipython-input-10-116581c3c405>\\xda\\x17postprocessing_function\\x01\\x00\\x00\\x00s\\x02\\x00\\x00\\x00\\x00\\x05', 'postprocessing_helper_objects': None}\n",
       "</pre>\n",
       "    </div>\n",
       "    "
      ],
      "text/plain": [
       "<IPython.core.display.HTML object>"
      ]
     },
     "metadata": {},
     "output_type": "display_data"
    }
   ],
   "source": [
    "def my_print_function():\n",
    "    print(postprocessing)\n",
    "    if postprocessing:\n",
    "        print(postprocessing)\n",
    "pya.utils.print_to_scrollable_output(my_print_function)"
   ]
  },
  {
   "cell_type": "markdown",
   "id": "d5d44bd2-8db6-4f5a-a00c-8671ca2b7e18",
   "metadata": {},
   "source": [
    "#### weight_dict"
   ]
  },
  {
   "cell_type": "code",
   "execution_count": 15,
   "id": "658317e5-44bd-4621-877c-5db57494c968",
   "metadata": {},
   "outputs": [
    {
     "data": {
      "text/html": [
       "\n",
       "    <div style=\"overflow-x: scroll; overflow-y: scroll; border: 1px solid black; background-color: white; !important; color: black; !important;\">\n",
       "        <pre>Layer: linear.weight\n",
       "Shape: torch.Size([1, 816])\n",
       "tensor([[-2.3850e-03, -9.4450e-03,  5.5805e-02, -5.9145e-02, -1.7266e-01,\n",
       "          7.6194e-03,  5.3679e-02, -7.8689e-02,  5.9617e-02, -6.5629e-02,\n",
       "         -3.4854e-02, -4.2819e-02,  2.5935e-01,  7.0448e-04,  1.0229e-01,\n",
       "          1.0615e-01, -1.9021e-02, -2.2640e-01, -1.0860e-02,  7.9041e-02,\n",
       "         -1.0835e-01, -1.9965e-02, -8.4776e-02,  2.6488e-02, -2.2071e-02,\n",
       "         -9.3779e-02,  3.1511e-02, -9.5529e-02,  4.0066e-02,  3.3200e-02,\n",
       "          2.6280e-01,  9.8522e-03, -2.4840e-02,  9.5609e-02, -1.5059e-01,\n",
       "         -4.5665e-03, -5.4917e-02, -3.1192e-02,  7.4802e-02,  8.3311e-02,\n",
       "          1.1948e-01, -2.7134e-02,  2.5938e-03,  2.6015e-02, -1.5467e-01,\n",
       "          1.1415e-02, -2.7593e-02,  2.4799e-01, -5.8052e-02,  6.4415e-02,\n",
       "          4.1566e-02, -1.0298e-01,  4.8347e-02,  4.1101e-01,  1.5428e-02,\n",
       "          5.1432e-02,  1.0902e-01, -3.1427e-02,  1.9240e-01, -8.5774e-02,\n",
       "         -5.1151e-02,  6.7307e-02,  3.6755e-02, -7.3293e-03, -1.6830e-01,\n",
       "          1.5108e-01,  1.4962e-01,  2.3974e-02, -7.2613e-03, -1.1439e-01,\n",
       "          4.5964e-02, -1.7077e-01,  2.9392e-02, -2.6286e-02,  2.7378e-02,\n",
       "          4.9759e-02, -8.5778e-02, -1.9829e-02,  2.6400e-05,  2.7326e-02,\n",
       "         -3.4310e-02, -7.1341e-03, -7.0415e-02, -7.6308e-03,  1.0153e-03,\n",
       "         -2.0939e-02, -7.3838e-02, -2.1132e-01, -1.1680e-01, -7.2476e-02,\n",
       "         -2.1729e-03,  4.0191e-01, -2.1062e-02,  1.3663e-02, -4.8943e-02,\n",
       "          1.8776e-02,  3.3113e-02,  3.7602e-02,  1.1007e-01,  7.1000e-05,\n",
       "         -4.2934e-02,  6.6536e-02, -1.7829e-02, -2.6401e-02, -4.9448e-02,\n",
       "         -2.9512e-02,  5.3409e-02,  2.2592e-02,  2.4900e-02, -9.6181e-04,\n",
       "         -2.7834e-02, -1.1072e-01, -9.2695e-03,  1.2254e-01,  4.8971e-02,\n",
       "         -1.5735e-01,  1.4423e-01,  1.7049e-01,  5.5107e-02, -6.3028e-02,\n",
       "          1.1684e-01, -1.6231e-03, -2.0864e-03,  1.5509e-03,  4.8751e-01,\n",
       "         -2.2009e-01, -2.7820e-02, -2.4783e-02, -1.3913e-01, -4.0577e-03,\n",
       "         -1.5965e-03,  2.2049e-02, -1.1190e-01, -1.2902e-01, -4.2531e-03,\n",
       "         -1.3419e-01,  1.5314e-02,  5.0629e-02,  5.1729e-01,  2.4586e-02,\n",
       "          9.5220e-01, -3.9954e-03,  5.6876e-03, -3.4620e-02,  3.1035e-01,\n",
       "          6.5671e-02,  1.2265e-03, -3.6901e-02,  1.0905e-02,  4.7142e-03,\n",
       "         -2.1200e-05,  7.2925e-02, -3.6896e-02,  9.4170e-02, -9.2880e-03,\n",
       "         -4.2819e-03, -1.1618e-02,  2.6151e-02,  1.1704e-02, -4.9101e-02,\n",
       "         -1.5648e-02, -5.0356e-02, -4.7116e-02, -1.5148e-01, -5.8171e-02,\n",
       "          8.0214e-02,  2.7705e-02,  1.6709e-02, -3.0214e-02, -8.2879e-02,\n",
       "         -2.1720e-02, -1.6377e-01, -4.5143e-04, -1.1290e-03, -6.4283e-02,\n",
       "          5.9198e-03, -8.7060e-02,  2.0903e-02, -9.8156e-02, -1.7574e-02,\n",
       "          2.0695e-04, -8.3263e-02, -1.4749e-03, -1.9052e-02,  3.3665e-01,\n",
       "          2.2193e-03, -8.4248e-02,  2.3412e-02, -5.2979e-04, -7.3205e-03,\n",
       "          2.3518e-02, -5.2805e-02,  6.3714e-02, -1.7503e-01, -9.2995e-02,\n",
       "         -1.1704e-02, -7.9425e-02,  2.1060e-01, -5.3447e-02,  9.8046e-02,\n",
       "         -1.1710e-02, -5.1512e-01,  7.7740e-02, -1.5417e-01,  4.6555e-02,\n",
       "         -5.2318e-02,  8.1441e-03, -4.8515e-03,  1.8247e-01, -6.9314e-03,\n",
       "         -2.6248e-01, -2.1632e-02,  3.6464e-02,  2.1026e-01, -8.5550e-02,\n",
       "          2.0571e-02,  1.3516e-01,  4.4175e-01,  1.1262e-02, -4.4808e-03,\n",
       "          1.7637e-02, -1.8046e-02,  5.6504e-02, -3.4360e-02,  5.7680e-02,\n",
       "         -8.7591e-03, -1.6310e-04,  3.8626e-02,  1.5239e-01, -2.0736e-01,\n",
       "         -5.6246e-02, -3.6849e-02, -5.1300e-05, -2.3463e-01, -6.3008e-02,\n",
       "          5.0856e-02,  6.4772e-01, -1.2084e-02,  3.1482e-02, -2.9800e-02,\n",
       "         -4.3876e-03,  2.1058e-01, -2.1252e-02,  3.9652e-03, -5.0057e-02,\n",
       "         -2.5399e-03,  5.2521e-02,  1.5309e-02, -5.6596e-03, -2.7381e-03,\n",
       "          3.0778e-01,  6.1523e-01, -3.3228e-03,  1.1680e-02,  5.2482e-04,\n",
       "         -1.6008e-01, -1.6530e-01,  6.9099e-03, -1.8008e-02, -1.8099e-02,\n",
       "         -1.1076e-01,  5.7659e-02, -1.1572e-01, -9.7354e-03, -2.3764e-02,\n",
       "         -3.0537e-02, -3.4300e-02,  1.8967e-01,  2.2187e-02,  1.4416e-01,\n",
       "          8.7703e-01,  1.2278e-02, -2.0352e-01,  1.2981e-01,  6.8012e-02,\n",
       "          2.6199e-02,  2.3349e-02, -2.4673e-02, -8.1891e-03,  7.1397e-02,\n",
       "         -1.7281e-02, -3.1574e-02, -5.2128e-02,  1.2723e-02, -5.2541e-02,\n",
       "         -1.7843e-02,  1.1001e-01, -6.8272e-02, -7.6377e-03, -3.6325e-01,\n",
       "          2.4059e-02,  1.0560e-01, -1.4460e-01, -1.1786e-01, -4.2018e-04,\n",
       "         -4.0462e-02, -1.6546e-02, -1.2586e-02,  2.1723e-03, -1.9746e-02,\n",
       "         -2.0956e-01,  1.9371e-02,  7.9503e-03, -6.5825e-02, -2.6957e-01,\n",
       "          1.7146e-04,  2.6100e-01, -3.1405e-02,  1.2418e-01, -5.4428e-02,\n",
       "         -2.3826e-04,  3.3200e-06, -5.8413e-03,  1.0755e-01, -3.3285e-02,\n",
       "          2.3283e-01, -7.1035e-02, -3.5147e-02,  4.4992e-01, -4.2846e-02,\n",
       "         -5.5917e-02, -3.1668e-02,  3.3805e-02, -4.1414e-02,  2.8718e-02,\n",
       "          7.7461e-02,  9.8578e-02,  2.5415e-03,  6.1205e-02,  1.1501e-01,\n",
       "          1.5027e-01,  2.0156e-01, -2.2975e-02, -1.6679e-01, -7.5031e-02,\n",
       "          2.1008e-01, -9.4105e-02, -4.3700e-02,  1.4522e-01, -1.9958e-04,\n",
       "          2.5611e-02,  1.5018e-01,  6.0451e-02, -4.5197e-02, -4.9589e-02,\n",
       "         -1.7651e-01,  1.9985e-01, -4.8429e-02,  8.0439e-03,  4.3797e-03,\n",
       "          1.3994e-02,  1.2409e-01,  6.6836e-04, -4.5525e-02,  1.6728e-02,\n",
       "         -1.6272e-01,  2.2100e-02,  9.1973e-03,  8.5837e-02,  1.1396e-01,\n",
       "          1.7852e-01, -8.9357e-02,  3.6617e-02,  5.2230e-02,  6.5946e-03,\n",
       "          8.0573e-03,  7.2548e-02,  3.3550e-02,  7.7160e-02,  1.1120e-01,\n",
       "          4.6890e-01,  1.5374e-01, -1.0389e-01,  6.9144e-02,  4.0617e-01,\n",
       "         -1.8226e-03,  1.5512e-02, -5.7136e-02, -2.8656e-04, -2.1388e-02,\n",
       "          1.0667e-01,  3.0228e-01, -7.6511e-02,  1.9254e-02,  7.6047e-02,\n",
       "         -3.8621e-02,  7.6055e-02, -3.3961e-02, -6.5876e-01, -2.8504e-02,\n",
       "         -6.9734e-03,  2.0535e-04, -7.1108e-03,  6.4287e-04,  5.0780e-02,\n",
       "         -2.4017e-02, -2.6922e-03, -2.1146e-02, -5.7981e-02, -1.2168e-01,\n",
       "          1.3453e-01,  1.7524e-01, -3.2377e-02, -1.1318e-02, -2.0090e-02,\n",
       "          2.8419e-01, -2.8275e-02,  3.7263e-02,  7.9720e-02,  3.7652e-03,\n",
       "         -5.1730e-03, -4.7763e-03, -3.5231e-02, -1.7370e-03, -1.0593e-01,\n",
       "         -2.0797e-01, -6.4509e-02,  4.7006e-02,  4.3943e-03, -5.8145e-02,\n",
       "          8.2370e-03, -3.2573e-02,  2.8073e-02, -1.0369e-01, -5.4456e-02,\n",
       "          1.2646e-01, -5.7645e-02,  2.0097e-03, -1.1077e-02, -4.7028e-03,\n",
       "         -1.1480e-03,  6.1126e-02,  4.4691e-03, -1.3829e-01,  2.5218e-02,\n",
       "          6.3525e-02,  2.3316e-02, -4.7473e-02, -8.5147e-02, -7.3013e-03,\n",
       "         -2.2719e-02, -1.1143e-01, -2.9025e-01,  4.0279e-02, -9.7312e-04,\n",
       "          2.6643e-02, -1.2324e-02,  4.3294e-03,  2.3028e-01,  8.5034e-04,\n",
       "         -3.1452e-02,  2.7397e-02, -2.9100e-05, -6.8564e-02,  1.2747e-01,\n",
       "          1.0784e-01,  2.2000e-05, -1.9221e-02, -9.6953e-02, -5.5296e-04,\n",
       "          4.9477e-02,  9.2334e-02, -1.3374e-02, -1.9370e-02, -7.2684e-02,\n",
       "          2.0990e-02, -5.1516e-02,  5.3462e-02, -2.2581e-01, -5.3174e-03,\n",
       "         -8.6901e-03, -1.2228e-03,  2.6141e-02, -5.0440e-02, -6.3637e-03,\n",
       "         -1.9911e-03,  1.3466e-02,  3.2041e-03, -2.0243e-03, -3.6606e-02,\n",
       "         -3.0812e-02, -3.4146e-02, -2.3986e-02,  1.2230e-01, -2.4888e-01,\n",
       "         -3.3136e-02,  3.0968e-02,  2.8370e-03, -8.6655e-03, -4.1433e-02,\n",
       "          1.4175e-02,  1.6100e-05,  2.2568e-02,  1.0806e-01, -1.3488e-02,\n",
       "          3.4932e-03, -2.5831e-02, -7.0003e-02, -1.1711e-02,  9.4462e-02,\n",
       "         -8.0349e-03,  2.0815e-02, -1.8309e-02, -5.5115e-03,  1.0394e-01,\n",
       "         -2.5650e-02,  1.6642e-02,  5.8502e-02, -8.7615e-02,  9.8285e-03,\n",
       "          2.0767e-02,  3.9656e-03,  8.5123e-02, -1.7595e-02, -1.7546e-03,\n",
       "          9.4800e-05,  1.5169e-02, -1.3727e-01, -7.3398e-02, -6.3904e-03,\n",
       "         -4.3651e-03, -1.4274e-02, -4.3960e-02,  1.5765e-02,  3.0027e-02,\n",
       "          5.5027e-02,  3.2030e-02, -2.2014e-04,  1.0833e-01,  1.7439e-04,\n",
       "         -1.6973e-02,  1.7326e-03,  3.7277e-02, -5.7663e-02, -4.5800e-05,\n",
       "         -2.1437e-01, -3.9856e-03, -1.1047e-01, -1.5757e-02,  4.8231e-02,\n",
       "         -8.2258e-02, -6.6452e-02, -3.0559e-02,  2.0915e-01,  2.1524e-02,\n",
       "         -2.4403e-02, -2.0055e-01, -1.4236e-01, -1.5344e-02, -3.5521e-01,\n",
       "         -1.4225e-01,  1.3695e-02,  4.7140e-02, -5.1351e-02, -2.5988e-02,\n",
       "         -1.5176e-03,  5.0163e-02,  5.8769e-02, -2.9871e-02, -2.9695e-03,\n",
       "         -3.2518e-01, -8.0686e-01, -3.2920e-02, -3.9826e-01, -3.1088e-01,\n",
       "          2.8030e-02, -2.1146e-02, -2.9490e-02, -1.1702e-01,  1.9560e-01,\n",
       "         -1.3631e-01, -1.1288e-01, -1.7868e-01, -7.1264e-03,  9.0043e-02,\n",
       "          9.9561e-02,  6.9025e-03, -2.2084e-02, -8.4833e-04, -3.6400e-02,\n",
       "         -1.4871e-02, -2.4665e-01, -6.8549e-04, -4.5948e-03, -1.6534e-01,\n",
       "         -1.4859e-01,  2.0172e-01,  8.3900e-02, -1.0963e-01,  1.6905e-02,\n",
       "         -1.1812e-01,  8.6819e-02,  1.0705e-02,  1.0323e-01, -2.2813e-02,\n",
       "         -4.5826e-02,  1.1313e-01,  4.9971e-01, -3.8987e-02,  1.0660e-01,\n",
       "          7.3896e-04, -6.1344e-03,  1.8482e-02, -4.4898e-02, -5.2300e-02,\n",
       "         -4.0762e-02,  5.6578e-02,  1.5585e-02, -3.2697e-01, -3.8782e-01,\n",
       "         -3.2961e-01,  5.1000e-06, -1.4010e-02,  2.5008e-01, -7.0184e-02,\n",
       "          1.6504e-01,  1.3718e-01, -2.4546e-04, -3.8130e-02, -3.2053e-03,\n",
       "          4.6997e-02,  3.9472e-03, -1.5565e-01,  9.3441e-02, -1.3046e-01,\n",
       "          4.3066e-01, -4.1023e-01, -1.6083e-02, -5.3459e-03,  4.7549e-02,\n",
       "         -2.3237e-01,  1.7092e-01, -6.5852e-03, -3.7695e-02,  2.2426e-02,\n",
       "          2.7751e-02, -2.0862e-02, -2.7437e-02,  1.0806e-01, -2.9650e-02,\n",
       "         -3.7498e-03,  4.6397e-03, -1.1361e-03, -2.7315e-02, -2.9846e-02,\n",
       "          4.1099e-02,  7.3829e-02,  1.0668e-02, -1.2008e-01,  2.8273e-02,\n",
       "         -2.5900e-03,  1.7816e-01, -3.8900e-05, -1.2971e-01,  1.6720e-01,\n",
       "         -7.6681e-02,  6.6634e-02,  1.2861e-02,  7.6098e-02, -2.0826e-01,\n",
       "         -6.1520e-02, -7.6937e-03, -1.8101e-01, -1.0003e-01, -2.7893e-01,\n",
       "         -3.1026e-01, -8.1146e-02,  1.9212e-02, -8.0981e-02,  8.7306e-02,\n",
       "          5.9316e-02,  5.3902e-02, -1.0593e-01, -9.8055e-03, -2.9281e-02,\n",
       "         -3.7207e-02,  6.2886e-02,  6.4524e-02, -2.2459e-02,  1.3940e-02,\n",
       "         -2.1296e-04, -1.1555e-01,  2.0585e-03,  2.9432e-01,  5.7522e-02,\n",
       "          3.5836e-01, -1.7933e-02, -1.7842e-02,  1.6542e-01, -3.3950e-02,\n",
       "          3.6808e-02,  1.6106e-02,  3.7476e-04,  2.4660e-03,  1.2315e-01,\n",
       "         -4.7521e-02,  6.4946e-04,  1.5455e-01, -4.5249e-02,  1.0127e-01,\n",
       "         -8.9145e-02,  4.4408e-02,  1.1969e-02,  3.1538e-02,  9.1135e-03,\n",
       "         -1.1842e-01,  4.9168e-02, -2.8748e-02, -9.6901e-02,  2.2094e-01,\n",
       "         -4.4893e-02, -1.9825e-01, -9.5379e-02, -8.4164e-02,  1.0337e-03,\n",
       "          5.0927e-01,  7.3844e-02,  5.0078e-03, -1.2196e-01,  1.9480e-01,\n",
       "          2.8109e-02,  6.5404e-02,  2.6571e-04,  1.8038e-01, -1.8398e-02,\n",
       "         -1.0026e-01, -6.2429e-02,  3.1254e-01,  7.2278e-02, -5.3026e-02,\n",
       "          6.5857e-02, -8.6586e-03,  1.5983e-01, -4.2346e-02, -4.3016e-02,\n",
       "         -4.2766e-01,  3.3839e-03, -1.0887e-01, -1.1889e-02,  7.6087e-02,\n",
       "          3.2168e-03, -6.0918e-02,  1.5911e-01,  1.6106e-02,  4.1632e-02,\n",
       "         -8.5330e-02, -2.0269e-02, -1.4029e-01, -1.0182e-02, -2.8027e-03,\n",
       "          1.8093e-01,  5.2400e-05,  1.1326e-02, -1.0174e-02,  9.3611e-03,\n",
       "         -1.8495e-01,  3.9063e-02,  1.6269e-02, -4.6427e-02, -2.6466e-02,\n",
       "         -3.2046e-01, -1.9595e-02, -4.8322e-02,  2.5920e-02, -2.6958e-01,\n",
       "         -1.2553e-01,  4.2371e-03, -3.0939e-02, -2.4188e-02,  2.0225e-01,\n",
       "         -7.7712e-02, -5.0199e-02, -1.1002e-01, -5.5127e-02,  7.7596e-02,\n",
       "         -6.6000e-06,  6.2597e-02,  3.8035e-02, -1.3206e-02,  4.5735e-02,\n",
       "         -2.4212e-01,  6.9306e-01, -1.2790e-01, -2.4796e-02, -1.1261e-01,\n",
       "         -7.7328e-02, -4.2480e-01, -6.5382e-02,  6.8967e-03,  2.0801e-01,\n",
       "         -3.6741e-02,  2.3736e-02, -5.3184e-02, -1.6951e-03,  8.7190e-04,\n",
       "          6.1176e-02,  1.4348e-02,  3.3975e-02, -4.6464e-04, -3.1691e-02,\n",
       "          1.7055e-02,  5.2362e-01,  4.6076e-02, -9.9499e-02,  1.3758e-02,\n",
       "         -9.2578e-04, -1.2516e-02,  2.5200e-02, -3.6941e-02, -2.2374e-02,\n",
       "         -6.2306e-02,  2.1165e-01, -2.6235e-02,  2.9477e-02, -8.8300e-02,\n",
       "          8.2200e-03]])\n",
       "Layer: linear.bias\n",
       "Shape: torch.Size([1])\n",
       "tensor([-1.9114])\n",
       "</pre>\n",
       "    </div>\n",
       "    "
      ],
      "text/plain": [
       "<IPython.core.display.HTML object>"
      ]
     },
     "metadata": {},
     "output_type": "display_data"
    }
   ],
   "source": [
    "def my_print_function():\n",
    "    for name, param in model.named_parameters():\n",
    "        print(f\"Layer: {name}\")\n",
    "        print(f\"Shape: {param.shape}\")\n",
    "        print(param.data)\n",
    "pya.utils.print_to_scrollable_output(my_print_function)"
   ]
  },
  {
   "cell_type": "markdown",
   "id": "275815e5-5630-4163-bc61-7119a9c805c1",
   "metadata": {},
   "source": [
    "## Write clock dictionary"
   ]
  },
  {
   "cell_type": "markdown",
   "id": "3b176620-afb5-403c-9948-07639072bb44",
   "metadata": {},
   "source": [
    "Let's put everything together and save:"
   ]
  },
  {
   "cell_type": "code",
   "execution_count": 16,
   "id": "35d00b76-513d-4d8f-8824-6d810ee9d8f5",
   "metadata": {},
   "outputs": [],
   "source": [
    "clock_dict = {\n",
    "    # Metadata\n",
    "    'clock_name': clock_name,\n",
    "    'data_type': data_type,\n",
    "    'model_class': model_class,\n",
    "    'species': species,\n",
    "    'year': year,\n",
    "    'approved_by_author': approved_by_author,\n",
    "    'citation': citation,\n",
    "    'doi': doi,\n",
    "    \"notes\": notes,\n",
    "\n",
    "    # Data\n",
    "    'reference_feature_values': reference_feature_values if reference_feature_values else None,\n",
    "    'preprocessing': preprocessing if preprocessing else None, \n",
    "    'features': features,\n",
    "    'weight_dict': model.state_dict(),\n",
    "    'postprocessing': postprocessing if postprocessing else None,\n",
    "}\n",
    "\n",
    "torch.save(clock_dict, f'../weights/{clock_name}.pt')"
   ]
  },
  {
   "cell_type": "markdown",
   "id": "c1dd2efe-2bd6-4e1b-92ee-d110c25ad29c",
   "metadata": {},
   "source": [
    "## Clear directory"
   ]
  },
  {
   "cell_type": "markdown",
   "id": "158aa71f-7bbc-4c52-b7ef-16ba45d5e1fd",
   "metadata": {},
   "source": [
    "Delete all files that are not clock jupyter notebooks:"
   ]
  },
  {
   "cell_type": "code",
   "execution_count": 17,
   "id": "db4bd42b-c62f-4557-9ebc-d8194a240137",
   "metadata": {},
   "outputs": [
    {
     "name": "stdout",
     "output_type": "stream",
     "text": [
      "Deleted folder: MammalianMethylationConsortium\n",
      "Deleted folder: .ipynb_checkpoints\n"
     ]
    }
   ],
   "source": [
    "# Function to remove a folder and all its contents\n",
    "def remove_folder(path):\n",
    "    try:\n",
    "        shutil.rmtree(path)\n",
    "        print(f\"Deleted folder: {path}\")\n",
    "    except Exception as e:\n",
    "        print(f\"Error deleting folder {path}: {e}\")\n",
    "\n",
    "# Get a list of all files and folders in the current directory\n",
    "all_items = os.listdir('.')\n",
    "\n",
    "# Loop through the items\n",
    "for item in all_items:\n",
    "    # Check if it's a file and does not end with .ipynb\n",
    "    if os.path.isfile(item) and not item.endswith('.ipynb'):\n",
    "        os.remove(item)\n",
    "        print(f\"Deleted file: {item}\")\n",
    "    # Check if it's a folder\n",
    "    elif os.path.isdir(item):\n",
    "        remove_folder(item)"
   ]
  }
 ],
 "metadata": {
  "kernelspec": {
   "display_name": "Python 3",
   "language": "python",
   "name": "python3"
  },
  "language_info": {
   "codemirror_mode": {
    "name": "ipython",
    "version": 3
   },
   "file_extension": ".py",
   "mimetype": "text/x-python",
   "name": "python",
   "nbconvert_exporter": "python",
   "pygments_lexer": "ipython3",
   "version": "3.9.17"
  }
 },
 "nbformat": 4,
 "nbformat_minor": 5
}

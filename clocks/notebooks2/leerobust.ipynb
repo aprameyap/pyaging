{
 "cells": [
  {
   "cell_type": "markdown",
   "id": "2f04eee0-5928-4e74-a754-6dc2e528810c",
   "metadata": {},
   "source": [
    "# LeeRobust"
   ]
  },
  {
   "cell_type": "markdown",
   "id": "a3f514a3-772c-4a14-afdf-5a8376851ff4",
   "metadata": {},
   "source": [
    "## Index\n",
    "1. [Define required clock parameters](#Define-required-clock-parameters)\n",
    "2. [Download necessary data](#Download-necessary-data)\n",
    "3. [Load data](#-Load-data)\n",
    "4. [Extract features and weights](#Extract-features-and-weights)\n",
    "5. [Load weights into pyaging model](#Load-weights-into-pyaging-model)\n",
    "6. [Add reference values](#Add-reference-values)\n",
    "7. [Add preprocessing and postprocesssing steps](#Add-preprocessing-and-postprocesssing-steps)\n",
    "8. [Check all data objects](#Check-all-data-objects)\n",
    "9. [Write clock dictionary](#Write-clock-dictionary)\n",
    "10. [Clear directory](#Clear-directory)"
   ]
  },
  {
   "cell_type": "markdown",
   "id": "d95fafdc-643a-40ea-a689-200bd132e90c",
   "metadata": {},
   "source": [
    "Let's first import some packages:"
   ]
  },
  {
   "cell_type": "code",
   "execution_count": 1,
   "id": "4adfb4de-cd79-4913-a1af-9e23e9e236c9",
   "metadata": {},
   "outputs": [],
   "source": [
    "import os\n",
    "import marshal\n",
    "import shutil\n",
    "import json\n",
    "import torch\n",
    "import pandas as pd\n",
    "import pyaging as pya"
   ]
  },
  {
   "cell_type": "markdown",
   "id": "c8c0c937-d9b6-4756-99b0-91de591220e0",
   "metadata": {},
   "source": [
    "## Define required clock parameters"
   ]
  },
  {
   "cell_type": "markdown",
   "id": "cf95ddca-625e-4c70-a246-c3cb12df96f8",
   "metadata": {},
   "source": [
    "Let's define some required information first:"
   ]
  },
  {
   "cell_type": "code",
   "execution_count": 2,
   "id": "5281776d-0549-445f-beec-39c31ec7dbe1",
   "metadata": {},
   "outputs": [],
   "source": [
    "clock_name = 'leerobust'\n",
    "data_type = 'methylation'\n",
    "model_class = 'LinearModel'\n",
    "species = 'Homo sapiens'\n",
    "year = 2019\n",
    "approved_by_author = '⌛'\n",
    "citation = \"Lee, Yunsung, et al. \\\"Placental epigenetic clocks: estimating gestational age using placental DNA methylation levels.\\\" Aging (Albany NY) 11.12 (2019): 4238.\"\n",
    "doi = \"https://doi.org/10.18632/aging.102049\"\n",
    "notes = None"
   ]
  },
  {
   "cell_type": "markdown",
   "id": "4520c8cb-6c1f-4490-ba4c-6fe78ef002a7",
   "metadata": {},
   "source": [
    "## Download necessary data"
   ]
  },
  {
   "cell_type": "markdown",
   "id": "f8d77386-a524-492b-a002-18d24b6ca49a",
   "metadata": {},
   "source": [
    "#### Download directly with curl"
   ]
  },
  {
   "cell_type": "code",
   "execution_count": 3,
   "id": "0003b39e-e032-4822-aff7-970583187d22",
   "metadata": {},
   "outputs": [
    {
     "data": {
      "text/plain": [
       "0"
      ]
     },
     "execution_count": 3,
     "metadata": {},
     "output_type": "execute_result"
    }
   ],
   "source": [
    "supplementary_url = \"https://www.aging-us.com/article/102049/supplementary/SD2/0/aging-v11i12-102049-supplementary-material-SD2.csv\"\n",
    "supplementary_file_name = \"coefficients.csv\"\n",
    "os.system(f\"curl -o {supplementary_file_name} {supplementary_url}\")"
   ]
  },
  {
   "cell_type": "markdown",
   "id": "35615b62-73ac-40b1-8bc1-e904403eb0ae",
   "metadata": {},
   "source": [
    "## Load data"
   ]
  },
  {
   "cell_type": "markdown",
   "id": "232eb94a-04a7-4ac4-ae3e-0e365b443a8e",
   "metadata": {},
   "source": [
    "#### From CSV file"
   ]
  },
  {
   "cell_type": "code",
   "execution_count": 4,
   "id": "45fbc051-f0d2-4b25-9813-ae126f6fedcb",
   "metadata": {},
   "outputs": [],
   "source": [
    "df = pd.read_csv('coefficients.csv')"
   ]
  },
  {
   "cell_type": "markdown",
   "id": "60c676db-2c7c-4c04-9457-97bccd598269",
   "metadata": {},
   "source": [
    "## Extract features and weights"
   ]
  },
  {
   "cell_type": "markdown",
   "id": "87dfda00-5182-4416-8eb1-de91ce2a9e48",
   "metadata": {},
   "source": [
    "First, let's extract the features and weights:"
   ]
  },
  {
   "cell_type": "code",
   "execution_count": 5,
   "id": "e1d1dd13-65ac-4694-8948-3cd94bc19fe1",
   "metadata": {},
   "outputs": [
    {
     "data": {
      "text/html": [
       "<div>\n",
       "<style scoped>\n",
       "    .dataframe tbody tr th:only-of-type {\n",
       "        vertical-align: middle;\n",
       "    }\n",
       "\n",
       "    .dataframe tbody tr th {\n",
       "        vertical-align: top;\n",
       "    }\n",
       "\n",
       "    .dataframe thead th {\n",
       "        text-align: right;\n",
       "    }\n",
       "</style>\n",
       "<table border=\"1\" class=\"dataframe\">\n",
       "  <thead>\n",
       "    <tr style=\"text-align: right;\">\n",
       "      <th></th>\n",
       "      <th>CpGs</th>\n",
       "      <th>Coefficient_RPC</th>\n",
       "      <th>Coefficient_CPC</th>\n",
       "      <th>Coefficient_refined_RPC</th>\n",
       "      <th>Coefficient_sex_classifier</th>\n",
       "      <th>feature</th>\n",
       "      <th>coefficient</th>\n",
       "    </tr>\n",
       "  </thead>\n",
       "  <tbody>\n",
       "    <tr>\n",
       "      <th>0</th>\n",
       "      <td>(Intercept)</td>\n",
       "      <td>24.997721</td>\n",
       "      <td>13.061820</td>\n",
       "      <td>30.749662</td>\n",
       "      <td>1.801244</td>\n",
       "      <td>(Intercept)</td>\n",
       "      <td>24.997721</td>\n",
       "    </tr>\n",
       "    <tr>\n",
       "      <th>1</th>\n",
       "      <td>cg00009871</td>\n",
       "      <td>-0.124657</td>\n",
       "      <td>0.000000</td>\n",
       "      <td>-0.818616</td>\n",
       "      <td>0.000000</td>\n",
       "      <td>cg00009871</td>\n",
       "      <td>-0.124657</td>\n",
       "    </tr>\n",
       "    <tr>\n",
       "      <th>2</th>\n",
       "      <td>cg00035630</td>\n",
       "      <td>-0.006478</td>\n",
       "      <td>0.000000</td>\n",
       "      <td>0.000000</td>\n",
       "      <td>0.000000</td>\n",
       "      <td>cg00035630</td>\n",
       "      <td>-0.006478</td>\n",
       "    </tr>\n",
       "    <tr>\n",
       "      <th>3</th>\n",
       "      <td>cg00056066</td>\n",
       "      <td>0.859460</td>\n",
       "      <td>0.019747</td>\n",
       "      <td>0.167224</td>\n",
       "      <td>0.000000</td>\n",
       "      <td>cg00056066</td>\n",
       "      <td>0.859460</td>\n",
       "    </tr>\n",
       "    <tr>\n",
       "      <th>4</th>\n",
       "      <td>cg00057476</td>\n",
       "      <td>0.372323</td>\n",
       "      <td>0.782812</td>\n",
       "      <td>0.349374</td>\n",
       "      <td>0.000000</td>\n",
       "      <td>cg00057476</td>\n",
       "      <td>0.372323</td>\n",
       "    </tr>\n",
       "  </tbody>\n",
       "</table>\n",
       "</div>"
      ],
      "text/plain": [
       "          CpGs  Coefficient_RPC  Coefficient_CPC  Coefficient_refined_RPC  \\\n",
       "0  (Intercept)        24.997721        13.061820                30.749662   \n",
       "1   cg00009871        -0.124657         0.000000                -0.818616   \n",
       "2   cg00035630        -0.006478         0.000000                 0.000000   \n",
       "3   cg00056066         0.859460         0.019747                 0.167224   \n",
       "4   cg00057476         0.372323         0.782812                 0.349374   \n",
       "\n",
       "   Coefficient_sex_classifier      feature  coefficient  \n",
       "0                    1.801244  (Intercept)    24.997721  \n",
       "1                    0.000000   cg00009871    -0.124657  \n",
       "2                    0.000000   cg00035630    -0.006478  \n",
       "3                    0.000000   cg00056066     0.859460  \n",
       "4                    0.000000   cg00057476     0.372323  "
      ]
     },
     "execution_count": 5,
     "metadata": {},
     "output_type": "execute_result"
    }
   ],
   "source": [
    "df['feature'] = df['CpGs']\n",
    "df['coefficient'] = df['Coefficient_RPC']\n",
    "df = df[df.coefficient != 0]\n",
    "\n",
    "df.head()"
   ]
  },
  {
   "cell_type": "markdown",
   "id": "5ac5b42a-3bd9-49d3-b84e-79d236af24b4",
   "metadata": {},
   "source": [
    "Then, let's create lists for features and weights. Be careful about the intercept, as it usually shows up as a feature name."
   ]
  },
  {
   "cell_type": "code",
   "execution_count": 6,
   "id": "2fc06bb5-7e9c-46fd-9843-31880f1d3788",
   "metadata": {},
   "outputs": [],
   "source": [
    "features = df['feature'][1:].tolist()\n",
    "weights = torch.tensor(df['coefficient'][1:].tolist()).unsqueeze(0)\n",
    "intercept = torch.tensor([df['coefficient'][0]])"
   ]
  },
  {
   "cell_type": "markdown",
   "id": "d193ccbf-d06b-49bb-ad4b-ffe3271dea63",
   "metadata": {},
   "source": [
    "## Load weights into pyaging model"
   ]
  },
  {
   "cell_type": "markdown",
   "id": "4350119a-4bd4-4efa-85b5-9de70fdf496f",
   "metadata": {},
   "source": [
    "#### Linear model"
   ]
  },
  {
   "cell_type": "code",
   "execution_count": 7,
   "id": "7354c541-5af9-447d-a339-2cb88c253b41",
   "metadata": {},
   "outputs": [
    {
     "data": {
      "text/plain": [
       "LinearModel(\n",
       "  (linear): Linear(in_features=558, out_features=1, bias=True)\n",
       ")"
      ]
     },
     "execution_count": 7,
     "metadata": {},
     "output_type": "execute_result"
    }
   ],
   "source": [
    "model = pya.models.LinearModel(input_dim=len(features))\n",
    "\n",
    "model.linear.weight.data = weights.float()\n",
    "model.linear.bias.data = intercept.float()\n",
    "\n",
    "model"
   ]
  },
  {
   "cell_type": "markdown",
   "id": "06adc9d8-cec2-447d-8d0b-e2819d4c1a5b",
   "metadata": {},
   "source": [
    "## Add reference values"
   ]
  },
  {
   "cell_type": "markdown",
   "id": "84bf0205-f976-497b-a6a9-e4945c05cdb3",
   "metadata": {},
   "source": [
    "Some clocks have reference values in the case of missing features. It is also possible that these values are for preprocessing features rather than the clock features. Let's add a dictionary with the feature names as the keys."
   ]
  },
  {
   "cell_type": "code",
   "execution_count": 8,
   "id": "250dd50d-a175-45f3-913b-da87c50cb55c",
   "metadata": {},
   "outputs": [],
   "source": [
    "reference_feature_values = None"
   ]
  },
  {
   "cell_type": "markdown",
   "id": "c9b4fd10-797c-45bd-aa1a-65aed1deaf1c",
   "metadata": {},
   "source": [
    "## Add preprocessing and postprocesssing steps"
   ]
  },
  {
   "cell_type": "markdown",
   "id": "20649dc9-2b58-4c63-a48e-f8d7a4bb520b",
   "metadata": {},
   "source": [
    "The preprocessing and postprocessing objects are dictionaries with the following format, with all items required. It takes in x in the form of a numpy array."
   ]
  },
  {
   "cell_type": "code",
   "execution_count": 9,
   "id": "1d173005-fb63-43d5-bd9f-0b4fa2e240b1",
   "metadata": {},
   "outputs": [],
   "source": [
    "preprocessing = None"
   ]
  },
  {
   "cell_type": "markdown",
   "id": "3ca747b4-0214-40a1-a7bf-fbf2a71084af",
   "metadata": {},
   "source": [
    "Similarly is the case of postprocessing. Remember that your function must be compatible with torch and is applied to each number individually."
   ]
  },
  {
   "cell_type": "code",
   "execution_count": 10,
   "id": "6fe37a2c-113a-4517-91e4-10a4e8b2005a",
   "metadata": {},
   "outputs": [],
   "source": [
    "postprocessing = None"
   ]
  },
  {
   "cell_type": "markdown",
   "id": "0d2bc605-2c09-4651-ad1a-ea3f771c1ef4",
   "metadata": {},
   "source": [
    "## Check all data objects"
   ]
  },
  {
   "cell_type": "markdown",
   "id": "0b0377c1-c399-40f4-a20e-4b3be10c9950",
   "metadata": {},
   "source": [
    "Let's print all data objects to check if they make sense."
   ]
  },
  {
   "cell_type": "markdown",
   "id": "7da257e8-b4ec-43bf-9729-5eff6ec71a57",
   "metadata": {},
   "source": [
    "#### features"
   ]
  },
  {
   "cell_type": "code",
   "execution_count": 11,
   "id": "bf047bed-52f0-4a64-9691-4c04df9f50ec",
   "metadata": {},
   "outputs": [
    {
     "data": {
      "text/html": [
       "\n",
       "    <div style=\"overflow-x: scroll; overflow-y: scroll; border: 1px solid black; background-color: white; !important; color: black; !important;\">\n",
       "        <pre>There are 558 features.\n",
       "['cg00009871', 'cg00035630', 'cg00056066', 'cg00057476', 'cg00063979', 'cg00073090', 'cg00091483', 'cg00173659', 'cg00192031', 'cg00239899', 'cg00307685', 'cg00398130', 'cg00400547', 'cg00419702', 'cg00466827', 'cg00469856', 'cg00501482', 'cg00521434', 'cg00595223', 'cg00639010', 'cg00674365', 'cg00675037', 'cg00705661', 'cg00721170', 'cg00766497', 'cg00896578', 'cg01075918', 'cg01093285', 'cg01118711', 'cg01152073', 'cg01224366', 'cg01233392', 'cg01272599', 'cg01284448', 'cg01285706', 'cg01340347', 'cg01376763', 'cg01427957', 'cg01471196', 'cg01508380', 'cg01509843', 'cg01516372', 'cg01542644', 'cg01550716', 'cg01589860', 'cg01597604', 'cg01709677', 'cg01718116', 'cg01766908', 'cg01825213', 'cg01904393', 'cg01958723', 'cg01960128', 'cg02012338', 'cg02020969', 'cg02057688', 'cg02069715', 'cg02248037', 'cg02292263', 'cg02313836', 'cg02357404', 'cg02388882', 'cg02399571', 'cg02461114', 'cg02492818', 'cg02561726', 'cg02603128', 'cg02609848', 'cg02634272', 'cg02657611', 'cg02730055', 'cg02737268', 'cg02784694', 'cg02884820', 'cg02935272', 'cg03020916', 'cg03079497', 'cg03141090', 'cg03213833', 'cg03261929', 'cg03307911', 'cg03352106', 'cg03361973', 'cg03441945', 'cg03543893', 'cg03577655', 'cg03655174', 'cg03730703', 'cg03732020', 'cg03749198', 'cg03753454', 'cg03836586', 'cg03867465', 'cg03880841', 'cg03946955', 'cg03979241', 'cg03991547', 'cg04011474', 'cg04012797', 'cg04016621', 'cg04017672', 'cg04046945', 'cg04103761', 'cg04110105', 'cg04139849', 'cg04184716', 'cg04191989', 'cg04246521', 'cg04258219', 'cg04411052', 'cg04431946', 'cg04435320', 'cg04474049', 'cg04501188', 'cg04576672', 'cg04671541', 'cg04702354', 'cg04706327', 'cg04721719', 'cg04741211', 'cg04771206', 'cg04961189', 'cg04973802', 'cg05054910', 'cg05169312', 'cg05198297', 'cg05228717', 'cg05256179', 'cg05304393', 'cg05308656', 'cg05321252', 'cg05340495', 'cg05345286', 'cg05355436', 'cg05373339', 'cg05404233', 'cg05498905', 'cg05529152', 'cg05634630', 'cg05676377', 'cg05689413', 'cg05700079', 'cg05750598', 'cg05761882', 'cg05773312', 'cg05862431', 'cg05875982', 'cg05878887', 'cg05918355', 'cg05922384', 'cg06042565', 'cg06191390', 'cg06292076', 'cg06295928', 'cg06479057', 'cg06488655', 'cg06551595', 'cg06566039', 'cg06622892', 'cg06636938', 'cg06683487', 'cg06747745', 'cg06754565', 'cg06848775', 'cg06960461', 'cg06963709', 'cg07003542', 'cg07025505', 'cg07039180', 'cg07110488', 'cg07152001', 'cg07158434', 'cg07159758', 'cg07191594', 'cg07256732', 'cg07395354', 'cg07522913', 'cg07591186', 'cg07620573', 'cg07634706', 'cg07760622', 'cg07847030', 'cg07900024', 'cg07987148', 'cg08006309', 'cg08016257', 'cg08062469', 'cg08289409', 'cg08355702', 'cg08371391', 'cg08389497', 'cg08395793', 'cg08493294', 'cg08581745', 'cg08680528', 'cg08815081', 'cg08885224', 'cg08920210', 'cg08947894', 'cg08954353', 'cg08978665', 'cg09015905', 'cg09154850', 'cg09163779', 'cg09253696', 'cg09338032', 'cg09355771', 'cg09364122', 'cg09502069', 'cg09530108', 'cg09566302', 'cg09567485', 'cg09597767', 'cg09610987', 'cg09692396', 'cg09704168', 'cg09816471', 'cg09830308', 'cg09850632', 'cg09888562', 'cg09935792', 'cg09936400', 'cg10000096', 'cg10097150', 'cg10121113', 'cg10255171', 'cg10277523', 'cg10292915', 'cg10361167', 'cg10432569', 'cg10482057', 'cg10599900', 'cg10605064', 'cg10608230', 'cg10707775', 'cg10715223', 'cg10717214', 'cg10737521', 'cg10750182', 'cg10761804', 'cg10938556', 'cg10978966', 'cg10991599', 'cg11095319', 'cg11160572', 'cg11387705', 'cg11453174', 'cg11480029', 'cg11516031', 'cg11518454', 'cg11547667', 'cg11569478', 'cg11677744', 'cg11685391', 'cg11691535', 'cg11782635', 'cg11798873', 'cg11841722', 'cg11847543', 'cg11861562', 'cg11908202', 'cg11916219', 'cg11920449', 'cg11941633', 'cg12013591', 'cg12077698', 'cg12192145', 'cg12498094', 'cg12521167', 'cg12551957', 'cg12608727', 'cg12609526', 'cg12647574', 'cg12685753', 'cg12708994', 'cg12816936', 'cg12838546', 'cg12907988', 'cg13046832', 'cg13185702', 'cg13191008', 'cg13236659', 'cg13239348', 'cg13267931', 'cg13274014', 'cg13307451', 'cg13315047', 'cg13342364', 'cg13516479', 'cg13550608', 'cg13612295', 'cg13613346', 'cg13624385', 'cg13657446', 'cg13670306', 'cg13673837', 'cg13677043', 'cg13875518', 'cg13901768', 'cg13930596', 'cg13975660', 'cg13998890', 'cg14319286', 'cg14324358', 'cg14326260', 'cg14415214', 'cg14430629', 'cg14471784', 'cg14479301', 'cg14519515', 'cg14590206', 'cg14614689', 'cg14620572', 'cg14653043', 'cg14654324', 'cg14656657', 'cg14689532', 'cg14767790', 'cg14789214', 'cg14793056', 'cg14830003', 'cg14834938', 'cg14840612', 'cg14871932', 'cg14882966', 'cg14938844', 'cg15044957', 'cg15061231', 'cg15239679', 'cg15326535', 'cg15339231', 'cg15393304', 'cg15405432', 'cg15429854', 'cg15488978', 'cg15556990', 'cg15590989', 'cg15701237', 'cg15799226', 'cg15862128', 'cg15873474', 'cg15909725', 'cg15957413', 'cg16047471', 'cg16154071', 'cg16201273', 'cg16248277', 'cg16330755', 'cg16373998', 'cg16400320', 'cg16430072', 'cg16461134', 'cg16464007', 'cg16553083', 'cg16555505', 'cg16606638', 'cg16621633', 'cg16658557', 'cg16673477', 'cg16744911', 'cg16928044', 'cg16970628', 'cg16976370', 'cg16977520', 'cg16992257', 'cg16992627', 'cg17041937', 'cg17064250', 'cg17160984', 'cg17257265', 'cg17279839', 'cg17293641', 'cg17313945', 'cg17328631', 'cg17409809', 'cg17421890', 'cg17434901', 'cg17452301', 'cg17458967', 'cg17483959', 'cg17485141', 'cg17490196', 'cg17518965', 'cg17557540', 'cg17658634', 'cg17816394', 'cg17842912', 'cg17871910', 'cg18045556', 'cg18087256', 'cg18098498', 'cg18109838', 'cg18147676', 'cg18259003', 'cg18318704', 'cg18332814', 'cg18372930', 'cg18405260', 'cg18414021', 'cg18554789', 'cg18610079', 'cg18633684', 'cg18652346', 'cg18667659', 'cg18752527', 'cg18756545', 'cg18945794', 'cg18946117', 'cg18977727', 'cg19092396', 'cg19107655', 'cg19222784', 'cg19384241', 'cg19470841', 'cg19556343', 'cg19680696', 'cg19684887', 'cg19708065', 'cg19764066', 'cg19786602', 'cg19848629', 'cg19864002', 'cg19904031', 'cg19912436', 'cg19998151', 'cg20004451', 'cg20083730', 'cg20102034', 'cg20181887', 'cg20256494', 'cg20327163', 'cg20414098', 'cg20435464', 'cg20445053', 'cg20477448', 'cg20538986', 'cg20597382', 'cg20618622', 'cg20758219', 'cg20916427', 'cg21199406', 'cg21222743', 'cg21252483', 'cg21254135', 'cg21276549', 'cg21336456', 'cg21433768', 'cg21467614', 'cg21523908', 'cg21824620', 'cg21827203', 'cg21845953', 'cg22168205', 'cg22193385', 'cg22222461', 'cg22254606', 'cg22360016', 'cg22390337', 'cg22393213', 'cg22448889', 'cg22460123', 'cg22539014', 'cg22559494', 'cg22569523', 'cg22755932', 'cg22782986', 'cg22797134', 'cg22828602', 'cg22946648', 'cg22947322', 'cg22955525', 'cg22977072', 'cg23023126', 'cg23031135', 'cg23044186', 'cg23093664', 'cg23146998', 'cg23166656', 'cg23171871', 'cg23211736', 'cg23238147', 'cg23330450', 'cg23442621', 'cg23466749', 'cg23594928', 'cg23697780', 'cg23698950', 'cg23811464', 'cg23896056', 'cg23932798', 'cg23951114', 'cg23969554', 'cg24036523', 'cg24238265', 'cg24244478', 'cg24305861', 'cg24326130', 'cg24357849', 'cg24474409', 'cg24498636', 'cg24503003', 'cg24545421', 'cg24630195', 'cg24771017', 'cg24773770', 'cg24832985', 'cg24837710', 'cg24846594', 'cg24865623', 'cg24998879', 'cg25023198', 'cg25076980', 'cg25165880', 'cg25252585', 'cg25298189', 'cg25311466', 'cg25377220', 'cg25396728', 'cg25402228', 'cg25413188', 'cg25421566', 'cg25500028', 'cg25587431', 'cg25616869', 'cg25631489', 'cg25784308', 'cg25900995', 'cg25913882', 'cg26031875', 'cg26063563', 'cg26069719', 'cg26110645', 'cg26137267', 'cg26137417', 'cg26140475', 'cg26233866', 'cg26249834', 'cg26336701', 'cg26351229', 'cg26502666', 'cg26520396', 'cg26544594', 'cg26559315', 'cg26704293', 'cg26942892', 'cg26955755', 'cg26971420', 'cg27168443', 'cg27182106', 'cg27193735', 'cg27261733', 'cg27271937', 'cg27353308', 'cg27424995', 'cg27428551', 'cg27459981', 'cg27595997', 'cg27612324']\n",
       "</pre>\n",
       "    </div>\n",
       "    "
      ],
      "text/plain": [
       "<IPython.core.display.HTML object>"
      ]
     },
     "metadata": {},
     "output_type": "display_data"
    }
   ],
   "source": [
    "def my_print_function():\n",
    "    print(f\"There are {len(features)} features.\")\n",
    "    print(features)\n",
    "pya.utils.print_to_scrollable_output(my_print_function)"
   ]
  },
  {
   "cell_type": "markdown",
   "id": "355a1a16-3e70-4928-b6a4-20bd2d6b87ce",
   "metadata": {},
   "source": [
    "#### reference_feature_values"
   ]
  },
  {
   "cell_type": "code",
   "execution_count": 12,
   "id": "6436fd01-0a8e-41a5-b584-2c020136ff97",
   "metadata": {},
   "outputs": [
    {
     "data": {
      "text/html": [
       "\n",
       "    <div style=\"overflow-x: scroll; overflow-y: scroll; border: 1px solid black; background-color: white; !important; color: black; !important;\">\n",
       "        <pre>None\n",
       "</pre>\n",
       "    </div>\n",
       "    "
      ],
      "text/plain": [
       "<IPython.core.display.HTML object>"
      ]
     },
     "metadata": {},
     "output_type": "display_data"
    }
   ],
   "source": [
    "def my_print_function():\n",
    "    if reference_feature_values:\n",
    "        print(f\"There are {len(reference_feature_values)} reference feature values.\")\n",
    "    print(reference_feature_values)\n",
    "pya.utils.print_to_scrollable_output(my_print_function)"
   ]
  },
  {
   "cell_type": "markdown",
   "id": "62ab8735-d534-48f7-beac-19f18f494959",
   "metadata": {},
   "source": [
    "#### preprocessing"
   ]
  },
  {
   "cell_type": "code",
   "execution_count": 13,
   "id": "960c5ede-3175-4192-a358-bf5ccb41074f",
   "metadata": {},
   "outputs": [
    {
     "data": {
      "text/html": [
       "\n",
       "    <div style=\"overflow-x: scroll; overflow-y: scroll; border: 1px solid black; background-color: white; !important; color: black; !important;\">\n",
       "        <pre>None\n",
       "</pre>\n",
       "    </div>\n",
       "    "
      ],
      "text/plain": [
       "<IPython.core.display.HTML object>"
      ]
     },
     "metadata": {},
     "output_type": "display_data"
    }
   ],
   "source": [
    "def my_print_function():\n",
    "    print(preprocessing)\n",
    "    if preprocessing:\n",
    "        print(preprocessing_helper_objects)\n",
    "pya.utils.print_to_scrollable_output(my_print_function)"
   ]
  },
  {
   "cell_type": "markdown",
   "id": "50023335-f532-4b89-a44f-96310e5c8a1c",
   "metadata": {},
   "source": [
    "#### postprocessing"
   ]
  },
  {
   "cell_type": "code",
   "execution_count": 14,
   "id": "40fe1f52-ad50-4b84-89c7-c5d1d3fff139",
   "metadata": {},
   "outputs": [
    {
     "data": {
      "text/html": [
       "\n",
       "    <div style=\"overflow-x: scroll; overflow-y: scroll; border: 1px solid black; background-color: white; !important; color: black; !important;\">\n",
       "        <pre>None\n",
       "</pre>\n",
       "    </div>\n",
       "    "
      ],
      "text/plain": [
       "<IPython.core.display.HTML object>"
      ]
     },
     "metadata": {},
     "output_type": "display_data"
    }
   ],
   "source": [
    "def my_print_function():\n",
    "    print(postprocessing)\n",
    "    if postprocessing:\n",
    "        print(postprocessing)\n",
    "pya.utils.print_to_scrollable_output(my_print_function)"
   ]
  },
  {
   "cell_type": "markdown",
   "id": "77516ec6-cc2b-4467-9afa-a8abe8fb0aa3",
   "metadata": {},
   "source": [
    "#### weight_dict"
   ]
  },
  {
   "cell_type": "code",
   "execution_count": 15,
   "id": "658317e5-44bd-4621-877c-5db57494c968",
   "metadata": {},
   "outputs": [
    {
     "data": {
      "text/html": [
       "\n",
       "    <div style=\"overflow-x: scroll; overflow-y: scroll; border: 1px solid black; background-color: white; !important; color: black; !important;\">\n",
       "        <pre>Layer: linear.weight\n",
       "Shape: torch.Size([1, 558])\n",
       "tensor([[-1.2466e-01, -6.4783e-03,  8.5946e-01,  3.7232e-01, -5.0903e-01,\n",
       "         -1.8932e-01,  7.6588e-01, -1.7820e-01,  7.6395e-01, -2.2348e-01,\n",
       "          2.2304e-01,  2.0993e-01,  9.8550e-01, -8.5356e-02,  9.7027e-03,\n",
       "         -7.9050e-02, -3.7377e-01,  1.6936e+00, -4.7574e-03, -1.9330e+00,\n",
       "          7.6465e-03, -1.8010e-01, -2.8100e+00,  4.6120e-02,  2.5931e-01,\n",
       "         -6.8014e-03, -9.2942e-01,  2.6015e-01,  5.4627e-01, -3.3725e+00,\n",
       "          8.3803e-02,  9.1438e-01,  4.8539e-01, -2.0172e-01,  1.2549e-01,\n",
       "         -5.2846e-02,  2.2416e-01, -6.4000e-02,  3.5002e-02,  8.4433e-01,\n",
       "          5.5211e-02,  9.8278e-02, -5.1569e+00,  2.5316e-01, -6.6156e-02,\n",
       "         -4.8515e-03,  5.8302e-01,  8.0934e-02, -1.8235e-01, -1.7368e-01,\n",
       "          4.0037e+00, -1.0101e-01, -8.9661e-02, -1.2354e+00,  1.5640e-01,\n",
       "          1.1275e-01,  3.6199e-03,  6.2127e-01,  4.0440e-01,  4.6326e-02,\n",
       "          3.0147e-02,  3.6715e-01,  1.0888e+00, -1.6691e-01, -5.7772e-01,\n",
       "         -2.6656e-01, -2.1416e-02,  3.8412e-01, -5.3160e-02,  8.3266e-01,\n",
       "         -1.7301e-01, -8.3581e-01, -3.3523e-01, -1.3630e-02,  2.0279e-03,\n",
       "         -1.5466e-01, -1.6991e-01, -5.5059e-01, -7.2596e-02,  3.8245e-02,\n",
       "         -5.5554e-01,  6.3323e-02, -1.2329e-01,  1.7216e-01, -2.8900e-02,\n",
       "          1.1522e-02, -3.6114e-02,  8.7916e-01, -1.5687e+00, -9.1941e-02,\n",
       "         -5.8225e-01, -8.9555e-03,  2.4465e-02,  1.9388e+00, -7.1855e-02,\n",
       "          8.5062e-01,  1.0946e-01, -1.2729e-01, -5.8653e-01, -2.9255e-01,\n",
       "          7.0995e-01,  1.2692e+00,  6.8379e-02, -1.1026e-01, -1.5486e-01,\n",
       "          4.7310e-01, -2.2470e-01,  1.3250e+00, -4.5855e-01,  1.5723e+00,\n",
       "         -8.5368e-02, -2.1729e-01, -5.1514e-01,  1.5079e+00,  2.3897e-01,\n",
       "         -6.6971e-02,  3.4051e-01, -7.7004e-02, -2.8769e-03,  4.6519e-01,\n",
       "          1.6451e-01, -1.3069e-01, -1.0129e-01, -2.7271e-01,  9.3409e-01,\n",
       "          2.6193e-01, -4.0859e-02, -2.9718e-02,  4.4502e-01,  8.7600e-01,\n",
       "          4.4677e-01, -5.9659e-01,  8.7498e-02, -2.3950e-01,  1.6977e-01,\n",
       "          1.3954e+00, -1.4969e-01,  1.1192e-02, -4.7244e-02, -4.0233e-01,\n",
       "         -9.2734e-01,  9.7469e-02,  4.3702e-02, -1.1327e-01, -2.8304e-01,\n",
       "         -1.2252e+00,  2.8775e+00,  1.5709e-02, -6.5403e-02, -1.6379e-01,\n",
       "          4.1141e-01,  1.9228e+00, -1.0570e-01, -1.0947e-01,  1.4272e+00,\n",
       "          5.4602e-02,  1.0856e-01,  4.1837e-01, -6.7815e-01, -1.8154e-01,\n",
       "         -7.3633e-02, -3.1857e+00, -8.9797e-01,  5.0255e-01,  2.5289e-02,\n",
       "         -1.1119e-01, -3.1097e-01, -1.6209e-01,  2.9432e-02, -2.4209e+00,\n",
       "          6.8983e-02,  2.6926e-01,  4.3483e-01,  4.6073e-01,  8.6706e-01,\n",
       "          1.1429e-01,  3.0182e-02,  1.0067e+00, -3.0690e-01,  6.2714e-01,\n",
       "         -2.5691e-01,  1.5657e-01, -4.3290e-02, -3.9804e-01, -2.5963e+00,\n",
       "         -1.3254e+00, -1.8864e-02,  9.0706e-02,  4.1340e-01, -1.8150e-01,\n",
       "          2.1407e+00, -1.7880e-01,  1.2626e-01, -4.4508e-02,  1.6878e+00,\n",
       "          5.4471e-02,  9.9103e-02,  9.6182e-02,  3.0677e-01,  7.7387e-01,\n",
       "         -1.9937e-01, -8.5130e-02,  6.0957e-01,  1.1064e+00, -1.8541e-01,\n",
       "          9.4000e-03, -8.4552e-02, -6.9798e-01,  1.3661e-01, -8.7180e-01,\n",
       "          9.2024e-01,  7.5612e-01, -7.7441e-01,  4.8720e-02, -1.2190e-01,\n",
       "         -1.5136e-01,  1.6090e-01, -5.0145e-02,  8.9209e-01,  6.2349e-02,\n",
       "          5.7910e-02, -4.6650e-01,  8.8471e-01, -2.9532e-01,  6.2305e-02,\n",
       "          1.6891e-02, -4.3490e-02, -1.4126e-02, -7.1200e-03, -1.8508e-01,\n",
       "         -3.1602e-04, -9.4226e-03, -3.7736e-01, -2.0339e-01, -4.6335e-01,\n",
       "         -9.1964e-01, -3.8118e-01, -4.9610e-01, -2.3387e-01,  1.5162e+00,\n",
       "         -4.3909e-02,  4.9400e-01,  8.2341e-01,  1.1674e+00, -1.3275e+00,\n",
       "         -2.3414e-01,  9.7240e-02, -1.1599e-02,  3.6642e-01, -1.0431e-01,\n",
       "         -9.4714e-02, -2.2090e+00,  3.3911e-03, -1.2930e-01,  2.7762e-02,\n",
       "         -2.5298e-01, -1.5888e+00, -6.7516e-01,  2.1947e-01,  3.4707e-01,\n",
       "          2.5502e-01, -2.4735e-01, -1.2315e-01,  2.9898e-03,  6.3115e-01,\n",
       "         -7.4450e-02, -3.5908e-02,  3.8923e-01,  2.9974e-01, -4.0009e-01,\n",
       "          7.4659e-02,  1.4469e-01, -4.3870e-01,  2.6926e-01, -8.6066e-02,\n",
       "         -1.2649e+00,  1.4313e+00,  2.8642e-01,  1.4546e-01,  2.2863e-01,\n",
       "          4.5354e-01,  2.7821e-01,  4.4721e-01, -8.7722e-02,  9.9176e-01,\n",
       "         -3.7800e-01, -1.2759e-01,  2.6685e+00, -3.8178e-01,  2.9348e-02,\n",
       "         -3.4453e-01, -6.6425e-01,  1.5866e-01,  1.5699e-01, -3.5765e-01,\n",
       "         -1.0127e+00, -1.3004e+00,  1.0706e-01,  8.1719e-01,  9.5973e-02,\n",
       "          6.9900e-02,  9.6723e-03,  5.7412e-01,  2.4082e-01, -3.0625e-01,\n",
       "          1.0436e-01,  2.7140e+00, -5.8532e-01,  3.1324e-01, -2.0827e+00,\n",
       "          8.9309e-01, -4.0485e-01, -3.1501e-01,  9.9198e-02, -9.8531e-02,\n",
       "          7.1965e-01, -4.8861e-01, -1.4711e-01, -3.5212e-01,  2.1274e-01,\n",
       "          1.4961e-01,  1.0125e-01, -3.4691e-01,  1.4054e-01, -2.1443e-01,\n",
       "          8.2362e-01,  1.5754e-01, -3.1537e-01, -7.0223e-02,  3.2839e-02,\n",
       "          2.1745e-01, -2.0880e-01,  4.4815e-03,  3.7708e-01,  7.8989e-01,\n",
       "          8.1405e-01,  6.2999e-03, -1.2145e-01, -2.9385e-02, -7.1765e-02,\n",
       "         -1.7046e-01, -1.7672e-01,  2.2300e-01,  4.2685e-01,  5.6439e-01,\n",
       "         -1.7240e+00, -9.6227e-02,  1.7145e+00,  2.7468e-01, -8.7306e-01,\n",
       "          3.6083e-01, -3.3789e-02, -8.4578e-02,  1.1460e+00,  1.3963e-02,\n",
       "         -2.7053e-01,  6.7951e-01, -1.5303e-01,  1.8307e-01,  1.3083e+00,\n",
       "         -2.5147e+00,  1.9994e-01,  9.8091e-02, -8.9651e-01,  5.7054e-01,\n",
       "         -1.3198e+00, -1.0206e-01,  3.9730e-01,  1.8692e-01,  7.6074e-01,\n",
       "         -7.0545e-02, -6.5700e-03, -3.5670e-03,  3.6456e-02, -5.0831e-02,\n",
       "          4.7737e-01, -9.2516e-02, -8.1027e-01,  1.4738e-02, -1.2667e+00,\n",
       "          9.9038e-01, -1.8853e-03, -1.4028e-01, -1.1595e-01,  2.0659e-01,\n",
       "          2.6168e-01,  5.4673e-01, -1.4999e-01, -9.3016e-02, -6.6344e-01,\n",
       "         -6.8023e-02, -9.6535e-02, -3.4083e-02, -1.0216e-01, -1.0177e-01,\n",
       "         -9.8636e-02,  7.4232e-01,  3.4031e+00,  3.3831e-01, -1.6464e+00,\n",
       "          5.7229e-02,  1.1596e-01, -1.4435e-02,  1.1019e-01, -2.1189e-01,\n",
       "         -1.9450e-01, -6.9086e-01, -8.7960e-02,  1.0956e+00, -2.4645e-01,\n",
       "          1.2292e-01,  1.8036e-01, -2.4777e-03,  5.6721e-02,  2.8648e-01,\n",
       "         -1.1267e-02,  8.2716e-01, -1.3670e-01, -3.5205e-01, -5.9954e-02,\n",
       "          1.0410e-01, -1.2026e-01,  7.6713e-02, -3.6956e+00, -2.6285e-01,\n",
       "          2.4221e+00,  3.5509e-02, -2.5709e-01, -4.2414e-03, -9.4478e-01,\n",
       "          1.0860e+00, -1.2592e+00,  4.9271e-01, -7.9273e-02, -2.1219e-01,\n",
       "          6.1024e-01,  3.9735e-02, -3.6422e-02,  6.4018e-02, -4.8189e-02,\n",
       "         -1.5592e-02, -1.9004e+00,  3.9927e-01,  3.4866e-01, -7.0592e-01,\n",
       "         -1.7853e-01, -2.6940e-01, -1.1676e+00,  3.1335e-02,  1.1056e-02,\n",
       "         -4.0268e-01,  1.7311e-01, -4.3056e-01, -1.0180e+00,  1.0283e-01,\n",
       "          3.5565e-01, -4.6937e-01, -3.8888e-01,  5.5559e-01, -3.0965e-03,\n",
       "         -3.5571e-01, -3.4586e-01, -7.0794e-03,  1.2971e+00,  8.4883e-02,\n",
       "          5.8366e-02,  7.0469e-02,  6.5856e-01, -3.7143e-02, -1.7636e+00,\n",
       "         -1.6892e-01,  2.1486e-01, -8.4606e-01, -2.6491e-03, -1.3720e+00,\n",
       "         -2.8034e-01, -1.2742e-01, -1.1498e-02, -1.9610e-01, -2.7708e-01,\n",
       "          7.2737e-02,  4.3944e-01, -4.8546e-03, -3.3906e-01, -1.1525e-01,\n",
       "         -3.4197e-02, -7.2460e-02,  4.6897e-01,  1.2035e-02, -5.0835e-02,\n",
       "         -1.1531e-01,  9.7059e-02,  2.6526e-03, -2.6866e-01,  6.0943e-01,\n",
       "         -1.6968e-01, -2.0150e-01, -3.6108e-01,  6.0560e-02, -3.7867e-01,\n",
       "          2.7580e-01, -3.7833e-01,  1.2636e-01,  1.2279e+00,  3.0412e-01,\n",
       "         -3.0376e-01, -2.1361e-01, -4.5722e-01, -3.2072e-01,  2.9586e+00,\n",
       "         -5.6294e-02, -8.4785e-01, -4.4278e-02,  3.4312e+00, -3.4580e+00,\n",
       "          1.4898e-01,  1.4672e-02, -7.7867e-03,  3.2969e-01, -7.1434e-03,\n",
       "         -2.6905e-01, -2.3969e-03, -2.6073e-01, -6.2979e-01, -4.0456e-01,\n",
       "         -4.8386e-01, -1.0166e-02,  2.0199e-02,  9.2088e-02,  7.4280e-02,\n",
       "          2.5780e-01,  1.4552e+00, -1.4329e-01, -3.6913e-02, -2.9334e-01,\n",
       "          1.0895e+00, -3.0140e-01,  4.5767e-02,  8.5955e-02,  1.8737e-02,\n",
       "         -2.8409e-03, -5.5056e-02,  1.5674e-01, -3.0425e-01,  1.4564e-01,\n",
       "         -1.1481e+00, -2.2778e-01,  1.5992e+00,  7.6275e-01,  1.0084e-01,\n",
       "         -2.0288e-01,  3.1586e-01,  4.4772e-01, -1.3242e+01,  2.9287e-01,\n",
       "         -1.4961e-01, -2.1915e-02, -1.6367e-03]])\n",
       "Layer: linear.bias\n",
       "Shape: torch.Size([1])\n",
       "tensor([24.9977])\n",
       "</pre>\n",
       "    </div>\n",
       "    "
      ],
      "text/plain": [
       "<IPython.core.display.HTML object>"
      ]
     },
     "metadata": {},
     "output_type": "display_data"
    }
   ],
   "source": [
    "def my_print_function():\n",
    "    for name, param in model.named_parameters():\n",
    "        print(f\"Layer: {name}\")\n",
    "        print(f\"Shape: {param.shape}\")\n",
    "        print(param.data)\n",
    "pya.utils.print_to_scrollable_output(my_print_function)"
   ]
  },
  {
   "cell_type": "markdown",
   "id": "275815e5-5630-4163-bc61-7119a9c805c1",
   "metadata": {},
   "source": [
    "## Write clock dictionary"
   ]
  },
  {
   "cell_type": "markdown",
   "id": "3b176620-afb5-403c-9948-07639072bb44",
   "metadata": {},
   "source": [
    "Let's put everything together and save:"
   ]
  },
  {
   "cell_type": "code",
   "execution_count": 16,
   "id": "35d00b76-513d-4d8f-8824-6d810ee9d8f5",
   "metadata": {},
   "outputs": [],
   "source": [
    "clock_dict = {\n",
    "    # Metadata\n",
    "    'clock_name': clock_name,\n",
    "    'data_type': data_type,\n",
    "    'model_class': model_class,\n",
    "    'species': species,\n",
    "    'year': year,\n",
    "    'approved_by_author': approved_by_author,\n",
    "    'citation': citation,\n",
    "    'doi': doi,\n",
    "    \"notes\": notes,\n",
    "\n",
    "    # Data\n",
    "    'reference_feature_values': reference_feature_values if reference_feature_values else None,\n",
    "    'preprocessing': preprocessing if preprocessing else None, \n",
    "    'features': features,\n",
    "    'weight_dict': model.state_dict(),\n",
    "    'postprocessing': postprocessing if postprocessing else None,\n",
    "}\n",
    "\n",
    "torch.save(clock_dict, f'../weights/{clock_name}.pt')"
   ]
  },
  {
   "cell_type": "markdown",
   "id": "c1dd2efe-2bd6-4e1b-92ee-d110c25ad29c",
   "metadata": {},
   "source": [
    "## Clear directory"
   ]
  },
  {
   "cell_type": "markdown",
   "id": "158aa71f-7bbc-4c52-b7ef-16ba45d5e1fd",
   "metadata": {},
   "source": [
    "Delete all files that are not clock jupyter notebooks:"
   ]
  },
  {
   "cell_type": "code",
   "execution_count": 17,
   "id": "db4bd42b-c62f-4557-9ebc-d8194a240137",
   "metadata": {},
   "outputs": [
    {
     "name": "stdout",
     "output_type": "stream",
     "text": [
      "Deleted file: coefficients.csv\n",
      "Deleted folder: .ipynb_checkpoints\n"
     ]
    }
   ],
   "source": [
    "# Function to remove a folder and all its contents\n",
    "def remove_folder(path):\n",
    "    try:\n",
    "        shutil.rmtree(path)\n",
    "        print(f\"Deleted folder: {path}\")\n",
    "    except Exception as e:\n",
    "        print(f\"Error deleting folder {path}: {e}\")\n",
    "\n",
    "# Get a list of all files and folders in the current directory\n",
    "all_items = os.listdir('.')\n",
    "\n",
    "# Loop through the items\n",
    "for item in all_items:\n",
    "    # Check if it's a file and does not end with .ipynb\n",
    "    if os.path.isfile(item) and not item.endswith('.ipynb'):\n",
    "        os.remove(item)\n",
    "        print(f\"Deleted file: {item}\")\n",
    "    # Check if it's a folder\n",
    "    elif os.path.isdir(item):\n",
    "        remove_folder(item)"
   ]
  }
 ],
 "metadata": {
  "kernelspec": {
   "display_name": "Python 3",
   "language": "python",
   "name": "python3"
  },
  "language_info": {
   "codemirror_mode": {
    "name": "ipython",
    "version": 3
   },
   "file_extension": ".py",
   "mimetype": "text/x-python",
   "name": "python",
   "nbconvert_exporter": "python",
   "pygments_lexer": "ipython3",
   "version": "3.9.17"
  }
 },
 "nbformat": 4,
 "nbformat_minor": 5
}

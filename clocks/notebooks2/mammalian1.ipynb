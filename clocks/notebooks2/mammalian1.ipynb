{
 "cells": [
  {
   "cell_type": "markdown",
   "id": "2f04eee0-5928-4e74-a754-6dc2e528810c",
   "metadata": {},
   "source": [
    "# Mammalian1"
   ]
  },
  {
   "cell_type": "markdown",
   "id": "a3f514a3-772c-4a14-afdf-5a8376851ff4",
   "metadata": {},
   "source": [
    "## Index\n",
    "1. [Define required clock parameters](#Define-required-clock-parameters)\n",
    "2. [Download necessary data](#Download-necessary-data)\n",
    "3. [Load data](#-Load-data)\n",
    "4. [Extract features and weights](#Extract-features-and-weights)\n",
    "5. [Load weights into pyaging model](#Load-weights-into-pyaging-model)\n",
    "6. [Add reference values](#Add-reference-values)\n",
    "7. [Add preprocessing and postprocesssing steps](#Add-preprocessing-and-postprocesssing-steps)\n",
    "8. [Check all data objects](#Check-all-data-objects)\n",
    "9. [Write clock dictionary](#Write-clock-dictionary)\n",
    "10. [Clear directory](#Clear-directory)"
   ]
  },
  {
   "cell_type": "markdown",
   "id": "d95fafdc-643a-40ea-a689-200bd132e90c",
   "metadata": {},
   "source": [
    "Let's first import some packages:"
   ]
  },
  {
   "cell_type": "code",
   "execution_count": 1,
   "id": "4adfb4de-cd79-4913-a1af-9e23e9e236c9",
   "metadata": {},
   "outputs": [],
   "source": [
    "import os\n",
    "import marshal\n",
    "import shutil\n",
    "import json\n",
    "import torch\n",
    "import pandas as pd\n",
    "import pyaging as pya"
   ]
  },
  {
   "cell_type": "markdown",
   "id": "c8c0c937-d9b6-4756-99b0-91de591220e0",
   "metadata": {},
   "source": [
    "## Define required clock parameters"
   ]
  },
  {
   "cell_type": "markdown",
   "id": "cf95ddca-625e-4c70-a246-c3cb12df96f8",
   "metadata": {},
   "source": [
    "Let's define some required information first:"
   ]
  },
  {
   "cell_type": "code",
   "execution_count": 2,
   "id": "5281776d-0549-445f-beec-39c31ec7dbe1",
   "metadata": {},
   "outputs": [],
   "source": [
    "clock_name = 'mammalian1'\n",
    "data_type = 'methylation'\n",
    "model_class = 'LinearModel'\n",
    "species = 'multi'\n",
    "year = 2023\n",
    "approved_by_author = '⌛'\n",
    "citation = \"Lu, A. T., et al. \\\"Universal DNA methylation age across mammalian tissues.\\\" Nature aging 3.9 (2023): 1144-1166.\"\n",
    "doi = \"https://doi.org/10.1038/s43587-023-00462-6\"\n",
    "notes = \"This is the DNAm age predictor from the paper in which there is no adjustment for species\""
   ]
  },
  {
   "cell_type": "markdown",
   "id": "4520c8cb-6c1f-4490-ba4c-6fe78ef002a7",
   "metadata": {},
   "source": [
    "## Download necessary data"
   ]
  },
  {
   "cell_type": "markdown",
   "id": "4ccae25e-7d7f-45da-8e8a-064a66dc52fa",
   "metadata": {},
   "source": [
    "#### Download GitHub repository"
   ]
  },
  {
   "cell_type": "code",
   "execution_count": 3,
   "id": "a2a5b60e-ff7f-4b24-b1c6-61cda8948310",
   "metadata": {},
   "outputs": [
    {
     "data": {
      "text/plain": [
       "0"
      ]
     },
     "execution_count": 3,
     "metadata": {},
     "output_type": "execute_result"
    }
   ],
   "source": [
    "github_url = \"https://github.com/shorvath/MammalianMethylationConsortium.git\"\n",
    "github_folder_name = github_url.split('/')[-1].split('.')[0]\n",
    "os.system(f\"git clone {github_url}\")"
   ]
  },
  {
   "cell_type": "markdown",
   "id": "35615b62-73ac-40b1-8bc1-e904403eb0ae",
   "metadata": {},
   "source": [
    "## Load data"
   ]
  },
  {
   "cell_type": "markdown",
   "id": "232eb94a-04a7-4ac4-ae3e-0e365b443a8e",
   "metadata": {},
   "source": [
    "#### From CSV file"
   ]
  },
  {
   "cell_type": "code",
   "execution_count": 4,
   "id": "45fbc051-f0d2-4b25-9813-ae126f6fedcb",
   "metadata": {},
   "outputs": [],
   "source": [
    "df = pd.read_csv('MammalianMethylationConsortium/UniversalPanMammalianClock/ClockParameters/clock1.csv')"
   ]
  },
  {
   "cell_type": "markdown",
   "id": "60c676db-2c7c-4c04-9457-97bccd598269",
   "metadata": {},
   "source": [
    "## Extract features and weights"
   ]
  },
  {
   "cell_type": "markdown",
   "id": "87dfda00-5182-4416-8eb1-de91ce2a9e48",
   "metadata": {},
   "source": [
    "First, let's extract the features and weights:"
   ]
  },
  {
   "cell_type": "code",
   "execution_count": 5,
   "id": "e1d1dd13-65ac-4694-8948-3cd94bc19fe1",
   "metadata": {},
   "outputs": [
    {
     "data": {
      "text/html": [
       "<div>\n",
       "<style scoped>\n",
       "    .dataframe tbody tr th:only-of-type {\n",
       "        vertical-align: middle;\n",
       "    }\n",
       "\n",
       "    .dataframe tbody tr th {\n",
       "        vertical-align: top;\n",
       "    }\n",
       "\n",
       "    .dataframe thead th {\n",
       "        text-align: right;\n",
       "    }\n",
       "</style>\n",
       "<table border=\"1\" class=\"dataframe\">\n",
       "  <thead>\n",
       "    <tr style=\"text-align: right;\">\n",
       "      <th></th>\n",
       "      <th>index</th>\n",
       "      <th>var</th>\n",
       "      <th>beta_clock1</th>\n",
       "      <th>feature</th>\n",
       "      <th>coefficient</th>\n",
       "    </tr>\n",
       "  </thead>\n",
       "  <tbody>\n",
       "    <tr>\n",
       "      <th>0</th>\n",
       "      <td>1</td>\n",
       "      <td>Intercept</td>\n",
       "      <td>1.431441</td>\n",
       "      <td>Intercept</td>\n",
       "      <td>1.431441</td>\n",
       "    </tr>\n",
       "    <tr>\n",
       "      <th>1</th>\n",
       "      <td>2</td>\n",
       "      <td>cg00249943</td>\n",
       "      <td>0.152786</td>\n",
       "      <td>cg00249943</td>\n",
       "      <td>0.152786</td>\n",
       "    </tr>\n",
       "    <tr>\n",
       "      <th>2</th>\n",
       "      <td>3</td>\n",
       "      <td>cg00250826</td>\n",
       "      <td>0.002770</td>\n",
       "      <td>cg00250826</td>\n",
       "      <td>0.002770</td>\n",
       "    </tr>\n",
       "    <tr>\n",
       "      <th>3</th>\n",
       "      <td>4</td>\n",
       "      <td>cg00292639</td>\n",
       "      <td>-0.129891</td>\n",
       "      <td>cg00292639</td>\n",
       "      <td>-0.129891</td>\n",
       "    </tr>\n",
       "    <tr>\n",
       "      <th>4</th>\n",
       "      <td>5</td>\n",
       "      <td>cg00362836</td>\n",
       "      <td>0.048630</td>\n",
       "      <td>cg00362836</td>\n",
       "      <td>0.048630</td>\n",
       "    </tr>\n",
       "  </tbody>\n",
       "</table>\n",
       "</div>"
      ],
      "text/plain": [
       "   index         var  beta_clock1     feature  coefficient\n",
       "0      1   Intercept     1.431441   Intercept     1.431441\n",
       "1      2  cg00249943     0.152786  cg00249943     0.152786\n",
       "2      3  cg00250826     0.002770  cg00250826     0.002770\n",
       "3      4  cg00292639    -0.129891  cg00292639    -0.129891\n",
       "4      5  cg00362836     0.048630  cg00362836     0.048630"
      ]
     },
     "execution_count": 5,
     "metadata": {},
     "output_type": "execute_result"
    }
   ],
   "source": [
    "df['feature'] = df['var']\n",
    "df['coefficient'] = df['beta_clock1']\n",
    "\n",
    "df.head()"
   ]
  },
  {
   "cell_type": "markdown",
   "id": "5ac5b42a-3bd9-49d3-b84e-79d236af24b4",
   "metadata": {},
   "source": [
    "Then, let's create lists for features and weights. Be careful about the intercept, as it usually shows up as a feature name."
   ]
  },
  {
   "cell_type": "code",
   "execution_count": 6,
   "id": "2fc06bb5-7e9c-46fd-9843-31880f1d3788",
   "metadata": {},
   "outputs": [],
   "source": [
    "features = df['feature'][1:].tolist()\n",
    "weights = torch.tensor(df['coefficient'][1:].tolist()).unsqueeze(0)\n",
    "intercept = torch.tensor([df['coefficient'][0]])"
   ]
  },
  {
   "cell_type": "markdown",
   "id": "d193ccbf-d06b-49bb-ad4b-ffe3271dea63",
   "metadata": {},
   "source": [
    "## Load weights into pyaging model"
   ]
  },
  {
   "cell_type": "markdown",
   "id": "4350119a-4bd4-4efa-85b5-9de70fdf496f",
   "metadata": {},
   "source": [
    "#### Linear model"
   ]
  },
  {
   "cell_type": "code",
   "execution_count": 7,
   "id": "7354c541-5af9-447d-a339-2cb88c253b41",
   "metadata": {},
   "outputs": [
    {
     "data": {
      "text/plain": [
       "LinearModel(\n",
       "  (linear): Linear(in_features=335, out_features=1, bias=True)\n",
       ")"
      ]
     },
     "execution_count": 7,
     "metadata": {},
     "output_type": "execute_result"
    }
   ],
   "source": [
    "model = pya.models.LinearModel(input_dim=len(features))\n",
    "\n",
    "model.linear.weight.data = weights.float()\n",
    "model.linear.bias.data = intercept.float()\n",
    "\n",
    "model"
   ]
  },
  {
   "cell_type": "markdown",
   "id": "06adc9d8-cec2-447d-8d0b-e2819d4c1a5b",
   "metadata": {},
   "source": [
    "## Add reference values"
   ]
  },
  {
   "cell_type": "markdown",
   "id": "84bf0205-f976-497b-a6a9-e4945c05cdb3",
   "metadata": {},
   "source": [
    "Some clocks have reference values in the case of missing features. It is also possible that these values are for preprocessing features rather than the clock features. Let's add a dictionary with the feature names as the keys."
   ]
  },
  {
   "cell_type": "code",
   "execution_count": 8,
   "id": "250dd50d-a175-45f3-913b-da87c50cb55c",
   "metadata": {},
   "outputs": [],
   "source": [
    "reference_feature_values = None"
   ]
  },
  {
   "cell_type": "markdown",
   "id": "c9b4fd10-797c-45bd-aa1a-65aed1deaf1c",
   "metadata": {},
   "source": [
    "## Add preprocessing and postprocesssing steps"
   ]
  },
  {
   "cell_type": "markdown",
   "id": "20649dc9-2b58-4c63-a48e-f8d7a4bb520b",
   "metadata": {},
   "source": [
    "The preprocessing and postprocessing objects are dictionaries with the following format, with all items required. It takes in x in the form of a numpy array."
   ]
  },
  {
   "cell_type": "code",
   "execution_count": 9,
   "id": "1d173005-fb63-43d5-bd9f-0b4fa2e240b1",
   "metadata": {},
   "outputs": [],
   "source": [
    "preprocessing = None"
   ]
  },
  {
   "cell_type": "markdown",
   "id": "3ca747b4-0214-40a1-a7bf-fbf2a71084af",
   "metadata": {},
   "source": [
    "Similarly is the case of postprocessing. Remember that your function must be compatible with torch and is applied to each number individually."
   ]
  },
  {
   "cell_type": "code",
   "execution_count": 10,
   "id": "6fe37a2c-113a-4517-91e4-10a4e8b2005a",
   "metadata": {},
   "outputs": [],
   "source": [
    "def postprocessing_function(x):\n",
    "    \"\"\"\n",
    "    Applies an anti-logarithmic transformation with an offset of -2.\n",
    "    \"\"\"\n",
    "    # Exponential transformation with an offset\n",
    "    return math.exp(x) - 2\n",
    "    \n",
    "postprocessing_function_string = marshal.dumps(postprocessing_function.__code__)\n",
    "\n",
    "postprocessing_helper_objects = None\n",
    "\n",
    "postprocessing = {\n",
    "    'name': 'anti_logp2',\n",
    "    'postprocessing_function': postprocessing_function_string,\n",
    "    'postprocessing_helper_objects': postprocessing_helper_objects\n",
    "}"
   ]
  },
  {
   "cell_type": "markdown",
   "id": "02f080f4-9660-444a-8993-9d13a372d16a",
   "metadata": {},
   "source": [
    "## Check all data objects"
   ]
  },
  {
   "cell_type": "markdown",
   "id": "1128eff3-2fe9-4c42-b714-9666df694e33",
   "metadata": {},
   "source": [
    "Let's print all data objects to check if they make sense."
   ]
  },
  {
   "cell_type": "markdown",
   "id": "0c73b2bd-1108-46e1-b8dc-9e8de5dc23d2",
   "metadata": {},
   "source": [
    "#### features"
   ]
  },
  {
   "cell_type": "code",
   "execution_count": 11,
   "id": "bf047bed-52f0-4a64-9691-4c04df9f50ec",
   "metadata": {},
   "outputs": [
    {
     "data": {
      "text/html": [
       "\n",
       "    <div style=\"overflow-x: scroll; overflow-y: scroll; border: 1px solid black; background-color: white; !important; color: black; !important;\">\n",
       "        <pre>There are 335 features.\n",
       "['cg00249943', 'cg00250826', 'cg00292639', 'cg00362836', 'cg00411555', 'cg00513357', 'cg00587168', 'cg00593462', 'cg00687674', 'cg00694357', 'cg00900456', 'cg00954002', 'cg01009870', 'cg01019040', 'cg01059743', 'cg01136078', 'cg01153166', 'cg01169686', 'cg01246498', 'cg01429475', 'cg01511232', 'cg01656216', 'cg01698540', 'cg01794235', 'cg01975510', 'cg02474352', 'cg02499612', 'cg02532525', 'cg02606236', 'cg02692845', 'cg02734933', 'cg02909927', 'cg02963786', 'cg03098892', 'cg03103192', 'cg03185524', 'cg03320248', 'cg03370924', 'cg03564272', 'cg03603997', 'cg03605454', 'cg03668418', 'cg03820088', 'cg03898602', 'cg03905052', 'cg03942000', 'cg03962027', 'cg04025518', 'cg04051518', 'cg04097289', 'cg04211240', 'cg04267101', 'cg04291050', 'cg04318752', 'cg04368876', 'cg04706544', 'cg04998737', 'cg05191959', 'cg05322294', 'cg05401971', 'cg05475048', 'cg05562063', 'cg05575054', 'cg05601676', 'cg05844902', 'cg06004718', 'cg06098215', 'cg06220792', 'cg06283779', 'cg06472065', 'cg06639082', 'cg06679868', 'cg06736685', 'cg06796779', 'cg07005811', 'cg07026794', 'cg07117595', 'cg07323940', 'cg07499079', 'cg07600647', 'cg07867602', 'cg07875786', 'cg07903650', 'cg07938388', 'cg08074329', 'cg08216101', 'cg08343834', 'cg08402623', 'cg08430237', 'cg08446005', 'cg08563010', 'cg08665685', 'cg08676748', 'cg08797870', 'cg08912313', 'cg08918292', 'cg08938156', 'cg09025625', 'cg09191327', 'cg09227056', 'cg09313705', 'cg09360996', 'cg09461098', 'cg09497746', 'cg09568652', 'cg09576428', 'cg09578613', 'cg09605634', 'cg09618893', 'cg09622673', 'cg09670972', 'cg09681292', 'cg09710440', 'cg09750164', 'cg09807427', 'cg09973880', 'cg10040493', 'cg10061379', 'cg10125423', 'cg10160701', 'cg10233638', 'cg10402101', 'cg10404717', 'cg10439738', 'cg10466667', 'cg10480998', 'cg10501210', 'cg10603790', 'cg10739250', 'cg10975089', 'cg11084334', 'cg11235379', 'cg11290280', 'cg11321459', 'cg11352386', 'cg11405955', 'cg11407867', 'cg11516694', 'cg11642756', 'cg11666770', 'cg11690941', 'cg11728741', 'cg11904056', 'cg11948733', 'cg12156848', 'cg12201500', 'cg12373771', 'cg12382554', 'cg12449245', 'cg12509499', 'cg12651099', 'cg12791299', 'cg12815291', 'cg12830057', 'cg12841266', 'cg12850734', 'cg12965599', 'cg12969847', 'cg13058338', 'cg13084522', 'cg13188467', 'cg13242392', 'cg13285426', 'cg13400013', 'cg13401299', 'cg13608832', 'cg13609316', 'cg13935553', 'cg14241460', 'cg14361875', 'cg14381350', 'cg14384416', 'cg14443903', 'cg14458704', 'cg14701342', 'cg14762358', 'cg14811158', 'cg14903956', 'cg14919591', 'cg15089111', 'cg15166827', 'cg15340018', 'cg15437942', 'cg15496507', 'cg15580396', 'cg15597031', 'cg15682828', 'cg15719056', 'cg15726426', 'cg15746205', 'cg15809488', 'cg15903282', 'cg15991909', 'cg16366505', 'cg16423684', 'cg16475558', 'cg16486681', 'cg16570119', 'cg16599143', 'cg16671190', 'cg16756969', 'cg16764258', 'cg16867657', 'cg16960327', 'cg17114460', 'cg17116410', 'cg17143801', 'cg17267107', 'cg17357006', 'cg17365410', 'cg17437489', 'cg17499466', 'cg17516812', 'cg17633063', 'cg17718834', 'cg17850367', 'cg17876669', 'cg17905888', 'cg18094982', 'cg18168101', 'cg18169540', 'cg18194685', 'cg18223258', 'cg18304538', 'cg18411550', 'cg18433728', 'cg18473521.2', 'cg18502834', 'cg18526971', 'cg18577444', 'cg18672716', 'cg18738190', 'cg18814344', 'cg18821963', 'cg18918349', 'cg19090691', 'cg19098934', 'cg19195912', 'cg19233240', 'cg19358608', 'cg19450032', 'cg19513247', 'cg19591642', 'cg19622303', 'cg19635507', 'cg19643847', 'cg19821183', 'cg19981759', 'cg20113482', 'cg20185523', 'cg20331456', 'cg20345626', 'cg20421508', 'cg20452275', 'cg20615601', 'cg20738648', 'cg20804050', 'cg21006686', 'cg21345677', 'cg21621248', 'cg21633990', 'cg21650436', 'cg21694863', 'cg21907062', 'cg21956144', 'cg22031066', 'cg22264409', 'cg22267613', 'cg22338839', 'cg22354333', 'cg22380921', 'cg22398409', 'cg22416332', 'cg22457719', 'cg22560410', 'cg22621796', 'cg22661206', 'cg22929401', 'cg23076498', 'cg23087015', 'cg23128382', 'cg23292987', 'cg23314464', 'cg23415880', 'cg23501051', 'cg23510032', 'cg23597501', 'cg23778391', 'cg23931487', 'cg23985931', 'cg24055081', 'cg24058132', 'cg24119607', 'cg24191230', 'cg24315421', 'cg24352905', 'cg24357465', 'cg24504442', 'cg24551749', 'cg24615318', 'cg24655241', 'cg24805210', 'cg24888049', 'cg24952195', 'cg24977387', 'cg25019875', 'cg25033328', 'cg25184118', 'cg25217825', 'cg25424883', 'cg25468783', 'cg25603344', 'cg25943666', 'cg26012482', 'cg26067250', 'cg26072749', 'cg26275174', 'cg26311454', 'cg26418994', 'cg26512254', 'cg26581729', 'cg26589497', 'cg26614073', 'cg26662324', 'cg26709300', 'cg26844246', 'cg27088374', 'cg27201382', 'cg27228973', 'cg27507315', 'cg27547112', 'cg27553955', 'cg27581159', 'cg27657271', 'cg27662445']\n",
       "</pre>\n",
       "    </div>\n",
       "    "
      ],
      "text/plain": [
       "<IPython.core.display.HTML object>"
      ]
     },
     "metadata": {},
     "output_type": "display_data"
    }
   ],
   "source": [
    "def my_print_function():\n",
    "    print(f\"There are {len(features)} features.\")\n",
    "    print(features)\n",
    "pya.utils.print_to_scrollable_output(my_print_function)"
   ]
  },
  {
   "cell_type": "markdown",
   "id": "2d777f7a-b68d-444e-8dd7-cbcf9c570923",
   "metadata": {},
   "source": [
    "#### reference_feature_values"
   ]
  },
  {
   "cell_type": "code",
   "execution_count": 12,
   "id": "6436fd01-0a8e-41a5-b584-2c020136ff97",
   "metadata": {},
   "outputs": [
    {
     "data": {
      "text/html": [
       "\n",
       "    <div style=\"overflow-x: scroll; overflow-y: scroll; border: 1px solid black; background-color: white; !important; color: black; !important;\">\n",
       "        <pre>None\n",
       "</pre>\n",
       "    </div>\n",
       "    "
      ],
      "text/plain": [
       "<IPython.core.display.HTML object>"
      ]
     },
     "metadata": {},
     "output_type": "display_data"
    }
   ],
   "source": [
    "def my_print_function():\n",
    "    if reference_feature_values:\n",
    "        print(f\"There are {len(reference_feature_values)} reference feature values.\")\n",
    "    print(reference_feature_values)\n",
    "pya.utils.print_to_scrollable_output(my_print_function)"
   ]
  },
  {
   "cell_type": "markdown",
   "id": "73ee7865-3f86-489c-b231-b03e3a03af4a",
   "metadata": {},
   "source": [
    "#### preprocessing"
   ]
  },
  {
   "cell_type": "code",
   "execution_count": 13,
   "id": "960c5ede-3175-4192-a358-bf5ccb41074f",
   "metadata": {},
   "outputs": [
    {
     "data": {
      "text/html": [
       "\n",
       "    <div style=\"overflow-x: scroll; overflow-y: scroll; border: 1px solid black; background-color: white; !important; color: black; !important;\">\n",
       "        <pre>None\n",
       "</pre>\n",
       "    </div>\n",
       "    "
      ],
      "text/plain": [
       "<IPython.core.display.HTML object>"
      ]
     },
     "metadata": {},
     "output_type": "display_data"
    }
   ],
   "source": [
    "def my_print_function():\n",
    "    print(preprocessing)\n",
    "    if preprocessing:\n",
    "        print(preprocessing_helper_objects)\n",
    "pya.utils.print_to_scrollable_output(my_print_function)"
   ]
  },
  {
   "cell_type": "markdown",
   "id": "1834ead3-87b6-4a18-ae1c-75dd84eb110e",
   "metadata": {},
   "source": [
    "#### postprocessing"
   ]
  },
  {
   "cell_type": "code",
   "execution_count": 14,
   "id": "40fe1f52-ad50-4b84-89c7-c5d1d3fff139",
   "metadata": {},
   "outputs": [
    {
     "data": {
      "text/html": [
       "\n",
       "    <div style=\"overflow-x: scroll; overflow-y: scroll; border: 1px solid black; background-color: white; !important; color: black; !important;\">\n",
       "        <pre>{'name': 'anti_logp2', 'postprocessing_function': b'\\xe3\\x01\\x00\\x00\\x00\\x00\\x00\\x00\\x00\\x00\\x00\\x00\\x00\\x01\\x00\\x00\\x00\\x03\\x00\\x00\\x00C\\x00\\x00\\x00s\\x0e\\x00\\x00\\x00t\\x00\\xa0\\x01|\\x00\\xa1\\x01d\\x01\\x18\\x00S\\x00)\\x02\\xfaJ\\n    Applies an anti-logarithmic transformation with an offset of -2.\\n    \\xe9\\x02\\x00\\x00\\x00)\\x02\\xda\\x04math\\xda\\x03exp)\\x01\\xda\\x01x\\xa9\\x00r\\x06\\x00\\x00\\x00\\xfa\\x1f<ipython-input-10-4f98955c680e>\\xda\\x17postprocessing_function\\x01\\x00\\x00\\x00s\\x02\\x00\\x00\\x00\\x00\\x05', 'postprocessing_helper_objects': None}\n",
       "{'name': 'anti_logp2', 'postprocessing_function': b'\\xe3\\x01\\x00\\x00\\x00\\x00\\x00\\x00\\x00\\x00\\x00\\x00\\x00\\x01\\x00\\x00\\x00\\x03\\x00\\x00\\x00C\\x00\\x00\\x00s\\x0e\\x00\\x00\\x00t\\x00\\xa0\\x01|\\x00\\xa1\\x01d\\x01\\x18\\x00S\\x00)\\x02\\xfaJ\\n    Applies an anti-logarithmic transformation with an offset of -2.\\n    \\xe9\\x02\\x00\\x00\\x00)\\x02\\xda\\x04math\\xda\\x03exp)\\x01\\xda\\x01x\\xa9\\x00r\\x06\\x00\\x00\\x00\\xfa\\x1f<ipython-input-10-4f98955c680e>\\xda\\x17postprocessing_function\\x01\\x00\\x00\\x00s\\x02\\x00\\x00\\x00\\x00\\x05', 'postprocessing_helper_objects': None}\n",
       "</pre>\n",
       "    </div>\n",
       "    "
      ],
      "text/plain": [
       "<IPython.core.display.HTML object>"
      ]
     },
     "metadata": {},
     "output_type": "display_data"
    }
   ],
   "source": [
    "def my_print_function():\n",
    "    print(postprocessing)\n",
    "    if postprocessing:\n",
    "        print(postprocessing)\n",
    "pya.utils.print_to_scrollable_output(my_print_function)"
   ]
  },
  {
   "cell_type": "markdown",
   "id": "498a381b-cd11-4beb-84b8-ed9cff50293a",
   "metadata": {},
   "source": [
    "#### weight_dict"
   ]
  },
  {
   "cell_type": "code",
   "execution_count": 15,
   "id": "658317e5-44bd-4621-877c-5db57494c968",
   "metadata": {},
   "outputs": [
    {
     "data": {
      "text/html": [
       "\n",
       "    <div style=\"overflow-x: scroll; overflow-y: scroll; border: 1px solid black; background-color: white; !important; color: black; !important;\">\n",
       "        <pre>Layer: linear.weight\n",
       "Shape: torch.Size([1, 335])\n",
       "tensor([[ 1.5279e-01,  2.7701e-03, -1.2989e-01,  4.8630e-02, -3.1366e-02,\n",
       "          9.1426e-02,  5.5299e-02,  4.3791e-01, -1.4087e-01, -8.0847e-01,\n",
       "         -3.3398e-02, -1.2298e-01,  1.0109e-01, -4.5609e-03, -2.0634e-01,\n",
       "         -1.6185e-03,  7.2137e-02, -3.6956e-02,  5.2971e-02,  1.7211e-01,\n",
       "          3.7940e-02,  4.7491e-02,  6.1973e-02,  4.7381e-02,  5.4041e-02,\n",
       "          5.5779e-02, -4.1029e-02,  1.2983e-01, -2.0354e-02, -1.0987e-02,\n",
       "         -5.0619e-02, -1.1494e-03, -1.4554e-01, -6.7707e-02,  3.3029e-02,\n",
       "          8.3588e-02,  2.5943e-02,  1.7869e-01,  9.3221e-02, -3.3617e-03,\n",
       "          2.7451e-01, -1.4290e-01,  3.3764e-01, -1.6758e-01,  3.7489e-02,\n",
       "          8.7107e-02, -6.3364e-02, -1.6714e-01, -1.3276e-01,  1.3110e-01,\n",
       "          1.0630e-01, -2.3446e-01,  3.3522e-02, -9.2912e-03,  3.0164e-01,\n",
       "          4.4176e-02,  3.3627e-01, -9.6427e-01, -1.2389e-01,  2.8873e-01,\n",
       "          1.2673e-01,  5.6409e-02,  9.5687e-02, -1.4082e-02, -8.1704e-02,\n",
       "         -5.4016e-02, -4.0804e-02,  1.7929e-02, -9.7847e-02, -6.0329e-02,\n",
       "         -2.5852e-02, -1.3441e-02, -4.4268e-01, -5.2125e-02, -5.3979e-02,\n",
       "         -2.8648e-02, -9.4078e-03, -5.6487e-03,  7.7394e-02,  1.9510e-02,\n",
       "         -1.1391e-04,  2.6065e-03, -6.8953e-02,  2.3188e-02,  3.1371e-01,\n",
       "          7.0851e-02, -4.5626e-02,  2.2059e-02, -7.9386e-03,  3.4781e-02,\n",
       "         -9.4850e-03,  1.3526e-02,  1.7977e-01,  7.7589e-03, -3.5246e-02,\n",
       "          2.4598e-02,  8.4375e-01, -2.9368e-02, -3.7793e-02,  3.8827e-01,\n",
       "         -6.5205e-02, -4.3783e-01, -1.0718e-01,  1.3584e-01,  5.3134e-02,\n",
       "         -3.2830e-03, -1.5897e-02,  2.5245e-03, -1.4382e-02,  2.3233e-01,\n",
       "          3.8711e-02,  4.5924e-02,  2.7657e-01,  4.4500e-05, -5.7210e-02,\n",
       "         -3.4709e-02,  7.6597e-02, -1.4976e-01,  1.2481e-01,  7.3138e-02,\n",
       "         -9.7268e-02, -4.7113e-02,  1.6440e-02,  2.9227e-02, -6.2113e-02,\n",
       "          2.6992e-02, -3.9205e-01,  3.0819e-02,  1.5193e-02, -6.2298e-02,\n",
       "          2.2405e-01,  5.8113e-02, -1.1973e-01, -3.6232e-02,  2.5405e-02,\n",
       "          2.0506e-02, -1.2525e-01, -1.0532e-01, -1.0034e-01,  6.4193e-02,\n",
       "          2.0760e-04,  9.2887e-01,  3.4179e-01, -9.3593e-02,  2.3254e-01,\n",
       "         -7.4765e-02,  1.6035e-01, -1.0781e-01,  4.9297e-02, -6.2263e-02,\n",
       "          2.4822e-01,  3.4068e-02,  6.7444e-02,  1.0956e-01,  1.2346e-01,\n",
       "          2.4257e-02, -1.5644e-02,  9.1614e-03,  6.3866e-01, -8.2187e-02,\n",
       "         -1.4065e-03, -8.4227e-01,  3.3467e-02,  1.8754e-02,  1.3470e-02,\n",
       "         -1.6217e-01, -4.2256e-04, -6.3401e-02, -1.9679e-01, -1.6508e-01,\n",
       "          1.5155e-01,  8.0663e-02, -2.8907e-01,  2.5184e-03,  1.8228e-02,\n",
       "         -2.6946e-02,  3.5665e-02, -9.7410e-02, -2.8744e-01,  1.7767e-02,\n",
       "         -1.3221e-01,  2.0123e-01,  1.1850e-01, -2.6068e-02, -1.6772e-02,\n",
       "          2.3984e-02,  2.5546e-01,  1.0524e-01,  3.0192e-03, -1.5062e-01,\n",
       "         -6.6404e-01,  2.0030e-02, -4.9624e-02,  3.2339e-02,  8.9455e-03,\n",
       "         -1.4558e-03, -4.4002e-02,  7.3643e-02,  2.7294e-01,  4.4831e-02,\n",
       "         -6.9681e-02,  2.5343e-02,  1.4430e-01,  2.7685e-01,  6.5310e-02,\n",
       "          6.6407e-02,  3.0678e-01,  1.2779e-01,  1.9420e-02, -5.8956e-01,\n",
       "         -1.8444e-01,  1.8911e-02, -2.8642e-02,  1.8027e-02,  5.7720e-02,\n",
       "          3.5968e-04, -3.4764e-02, -1.0756e-01,  4.9600e-02, -1.4577e-01,\n",
       "          3.3117e-02,  1.0010e-01, -6.7118e-02,  7.3346e-02, -3.0603e-01,\n",
       "         -2.5967e-02,  4.2415e-02, -2.1102e-01, -1.1888e-01, -1.1734e-01,\n",
       "          3.9699e-02, -1.5492e-01, -1.5233e-01,  2.5659e-01, -3.8753e-03,\n",
       "         -1.2130e-01,  1.2644e-02, -9.1963e-02,  3.7414e-02,  1.5860e-02,\n",
       "         -3.4765e-03, -2.1305e-01, -3.5120e-01,  3.7041e-02, -3.6004e-03,\n",
       "         -1.1694e-01, -1.6691e-02,  8.9226e-02,  1.2533e-04,  2.3085e-03,\n",
       "         -1.1121e-01, -5.1125e-02,  1.0439e-02, -1.5361e-01, -2.0985e-01,\n",
       "          5.7956e-02, -1.8979e-01,  2.5069e-02,  6.8775e-02, -2.9871e-02,\n",
       "          3.3711e-02, -2.7169e-04, -4.1953e-02,  1.2017e-02,  3.2120e-03,\n",
       "          7.1068e-02,  2.2425e-01, -8.1207e-02, -1.5045e-01, -2.5565e-01,\n",
       "         -8.2589e-03, -3.3402e-02, -3.9878e-04,  4.8842e-02, -1.9226e-01,\n",
       "         -9.7385e-02,  2.6117e-01, -3.8771e-01,  1.4800e-01,  2.5465e-01,\n",
       "         -4.6605e-02,  3.0400e-03,  1.5437e-02,  6.1838e-02, -7.3722e-02,\n",
       "         -3.8272e-02,  5.6083e-02, -1.9736e-01,  4.4190e-04,  1.9796e-01,\n",
       "         -9.3871e-02, -1.2256e-01, -5.8343e-02,  4.1991e-02, -4.4872e-02,\n",
       "          8.5327e-01,  9.0102e-02,  6.7603e-02,  4.6405e-04, -1.8147e-02,\n",
       "          6.4226e-02, -1.3783e-01, -3.9375e-02,  7.9683e-02, -1.9750e-02,\n",
       "          1.3883e-01, -1.3132e-01, -1.9758e-01,  7.5596e-02, -2.7707e-01,\n",
       "          1.1346e-01, -1.7848e-01,  1.5493e-01,  9.6389e-02,  5.1061e-01,\n",
       "         -9.9396e-02, -4.0912e-02,  6.4506e-02,  5.5917e-03,  8.8947e-02,\n",
       "         -1.0840e-02, -8.0177e-03, -1.5637e-02, -3.2658e-01, -3.7799e-02,\n",
       "          1.5049e-01, -1.3677e-01,  4.4464e-01, -3.8099e-02, -2.1075e-01,\n",
       "          1.0458e-02,  9.4161e-02, -1.2968e-01, -7.0243e-02, -1.1557e-01]])\n",
       "Layer: linear.bias\n",
       "Shape: torch.Size([1])\n",
       "tensor([1.4314])\n",
       "</pre>\n",
       "    </div>\n",
       "    "
      ],
      "text/plain": [
       "<IPython.core.display.HTML object>"
      ]
     },
     "metadata": {},
     "output_type": "display_data"
    }
   ],
   "source": [
    "def my_print_function():\n",
    "    for name, param in model.named_parameters():\n",
    "        print(f\"Layer: {name}\")\n",
    "        print(f\"Shape: {param.shape}\")\n",
    "        print(param.data)\n",
    "pya.utils.print_to_scrollable_output(my_print_function)"
   ]
  },
  {
   "cell_type": "markdown",
   "id": "275815e5-5630-4163-bc61-7119a9c805c1",
   "metadata": {},
   "source": [
    "## Write clock dictionary"
   ]
  },
  {
   "cell_type": "markdown",
   "id": "3b176620-afb5-403c-9948-07639072bb44",
   "metadata": {},
   "source": [
    "Let's put everything together and save:"
   ]
  },
  {
   "cell_type": "code",
   "execution_count": 16,
   "id": "35d00b76-513d-4d8f-8824-6d810ee9d8f5",
   "metadata": {},
   "outputs": [],
   "source": [
    "clock_dict = {\n",
    "    # Metadata\n",
    "    'clock_name': clock_name,\n",
    "    'data_type': data_type,\n",
    "    'model_class': model_class,\n",
    "    'species': species,\n",
    "    'year': year,\n",
    "    'approved_by_author': approved_by_author,\n",
    "    'citation': citation,\n",
    "    'doi': doi,\n",
    "    \"notes\": notes,\n",
    "\n",
    "    # Data\n",
    "    'reference_feature_values': reference_feature_values if reference_feature_values else None,\n",
    "    'preprocessing': preprocessing if preprocessing else None, \n",
    "    'features': features,\n",
    "    'weight_dict': model.state_dict(),\n",
    "    'postprocessing': postprocessing if postprocessing else None,\n",
    "}\n",
    "\n",
    "torch.save(clock_dict, f'../weights/{clock_name}.pt')"
   ]
  },
  {
   "cell_type": "markdown",
   "id": "c1dd2efe-2bd6-4e1b-92ee-d110c25ad29c",
   "metadata": {},
   "source": [
    "## Clear directory"
   ]
  },
  {
   "cell_type": "markdown",
   "id": "158aa71f-7bbc-4c52-b7ef-16ba45d5e1fd",
   "metadata": {},
   "source": [
    "Delete all files that are not clock jupyter notebooks:"
   ]
  },
  {
   "cell_type": "code",
   "execution_count": 17,
   "id": "db4bd42b-c62f-4557-9ebc-d8194a240137",
   "metadata": {},
   "outputs": [
    {
     "name": "stdout",
     "output_type": "stream",
     "text": [
      "Deleted folder: MammalianMethylationConsortium\n",
      "Deleted folder: .ipynb_checkpoints\n"
     ]
    }
   ],
   "source": [
    "# Function to remove a folder and all its contents\n",
    "def remove_folder(path):\n",
    "    try:\n",
    "        shutil.rmtree(path)\n",
    "        print(f\"Deleted folder: {path}\")\n",
    "    except Exception as e:\n",
    "        print(f\"Error deleting folder {path}: {e}\")\n",
    "\n",
    "# Get a list of all files and folders in the current directory\n",
    "all_items = os.listdir('.')\n",
    "\n",
    "# Loop through the items\n",
    "for item in all_items:\n",
    "    # Check if it's a file and does not end with .ipynb\n",
    "    if os.path.isfile(item) and not item.endswith('.ipynb'):\n",
    "        os.remove(item)\n",
    "        print(f\"Deleted file: {item}\")\n",
    "    # Check if it's a folder\n",
    "    elif os.path.isdir(item):\n",
    "        remove_folder(item)"
   ]
  }
 ],
 "metadata": {
  "kernelspec": {
   "display_name": "Python 3",
   "language": "python",
   "name": "python3"
  },
  "language_info": {
   "codemirror_mode": {
    "name": "ipython",
    "version": 3
   },
   "file_extension": ".py",
   "mimetype": "text/x-python",
   "name": "python",
   "nbconvert_exporter": "python",
   "pygments_lexer": "ipython3",
   "version": "3.9.17"
  }
 },
 "nbformat": 4,
 "nbformat_minor": 5
}

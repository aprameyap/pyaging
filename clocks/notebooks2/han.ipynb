{
 "cells": [
  {
   "cell_type": "markdown",
   "id": "2f04eee0-5928-4e74-a754-6dc2e528810c",
   "metadata": {},
   "source": [
    "# Han"
   ]
  },
  {
   "cell_type": "markdown",
   "id": "a3f514a3-772c-4a14-afdf-5a8376851ff4",
   "metadata": {},
   "source": [
    "## Index\n",
    "1. [Define required clock parameters](#Define-required-clock-parameters)\n",
    "2. [Download necessary data](#Download-necessary-data)\n",
    "3. [Load data](#-Load-data)\n",
    "4. [Extract features and weights](#Extract-features-and-weights)\n",
    "5. [Load weights into pyaging model](#Load-weights-into-pyaging-model)\n",
    "6. [Add reference values](#Add-reference-values)\n",
    "7. [Add preprocessing and postprocesssing steps](#Add-preprocessing-and-postprocesssing-steps)\n",
    "8. [Check all data objects](#Check-all-data-objects)\n",
    "9. [Write clock dictionary](#Write-clock-dictionary)\n",
    "10. [Clear directory](#Clear-directory)"
   ]
  },
  {
   "cell_type": "markdown",
   "id": "d95fafdc-643a-40ea-a689-200bd132e90c",
   "metadata": {},
   "source": [
    "Let's first import some packages:"
   ]
  },
  {
   "cell_type": "code",
   "execution_count": 1,
   "id": "4adfb4de-cd79-4913-a1af-9e23e9e236c9",
   "metadata": {},
   "outputs": [],
   "source": [
    "import os\n",
    "import marshal\n",
    "import shutil\n",
    "import json\n",
    "import torch\n",
    "import pandas as pd\n",
    "import pyaging as pya"
   ]
  },
  {
   "cell_type": "markdown",
   "id": "c8c0c937-d9b6-4756-99b0-91de591220e0",
   "metadata": {},
   "source": [
    "## Define required clock parameters"
   ]
  },
  {
   "cell_type": "markdown",
   "id": "cf95ddca-625e-4c70-a246-c3cb12df96f8",
   "metadata": {},
   "source": [
    "Let's define some required information first:"
   ]
  },
  {
   "cell_type": "code",
   "execution_count": 2,
   "id": "5281776d-0549-445f-beec-39c31ec7dbe1",
   "metadata": {},
   "outputs": [],
   "source": [
    "clock_name = 'han'\n",
    "data_type = 'methylation'\n",
    "model_class = 'LinearModel'\n",
    "species = 'Homo sapiens'\n",
    "year = 2020\n",
    "approved_by_author = '⌛'\n",
    "citation = \"Han, Yang, et al. \\\"New targeted approaches for epigenetic age predictions.\\\" BMC biology 18 (2020): 1-15.\"\n",
    "doi = \"https://doi.org/10.1186/s12915-020-00807-2\"\n",
    "notes = None"
   ]
  },
  {
   "cell_type": "markdown",
   "id": "4520c8cb-6c1f-4490-ba4c-6fe78ef002a7",
   "metadata": {},
   "source": [
    "## Download necessary data"
   ]
  },
  {
   "cell_type": "code",
   "execution_count": 3,
   "id": "c521647d-2711-4d83-99d7-26004d330571",
   "metadata": {},
   "outputs": [],
   "source": [
    "# No need to download; see below"
   ]
  },
  {
   "cell_type": "markdown",
   "id": "35615b62-73ac-40b1-8bc1-e904403eb0ae",
   "metadata": {
    "jp-MarkdownHeadingCollapsed": true
   },
   "source": [
    "## Load data"
   ]
  },
  {
   "cell_type": "code",
   "execution_count": 4,
   "id": "af387efd-4c94-48d4-8e5c-d72f548244cf",
   "metadata": {},
   "outputs": [],
   "source": [
    "# from authors\n",
    "cpg_sites = [\n",
    "    \"(Intercept)\",\n",
    "    'cg19283806',\n",
    "    'cg11807280',\n",
    "    'cg00329615',\n",
    "    'cg22454769',\n",
    "    'cg16867657',\n",
    "    'cg22796704',\n",
    "    'cg09809672',\n",
    "    'cg18618815',\n",
    "    'cg25533247',\n",
    "    'cg02286081',\n",
    "    'cg20222376',\n",
    "    'cg19344626',\n",
    "    'cg07082267',\n",
    "    'cg15845821',\n",
    "    'cg11741201',\n",
    "    'cg16054275',\n",
    "    'cg18933331',\n",
    "    'cg20249566',\n",
    "    'cg16604658',\n",
    "    'cg07583137',\n",
    "    'cg16008966',\n",
    "    'cg14556683',\n",
    "    'cg03746976',\n",
    "    'cg14314729',\n",
    "    'cg03431918',\n",
    "    'cg22156456',\n",
    "    'cg23078123',\n",
    "    'cg09748749',\n",
    "    'cg17457912',\n",
    "    'cg06492796',\n",
    "    'cg17593342',\n",
    "    'cg05308819',\n",
    "    'cg22512670',\n",
    "    'cg01820962',\n",
    "    'cg06639320',\n",
    "    'cg03224418',\n",
    "    'cg17436656',\n",
    "    'cg19500607',\n",
    "    'cg03735592',\n",
    "    'cg20669012',\n",
    "    'cg19761273',\n",
    "    'cg07080372',\n",
    "    'cg03638795',\n",
    "    'cg19722847',\n",
    "    'cg24711336',\n",
    "    'cg26935102',\n",
    "    'cg10221746',\n",
    "    'cg02085953',\n",
    "    'cg04604946',\n",
    "    'cg08558886',\n",
    "    'cg22361181',\n",
    "    'cg04208403',\n",
    "    'cg12623930',\n",
    "    'cg21572722',\n",
    "    'cg17885226',\n",
    "    'cg00748589',\n",
    "    'cg13033938',\n",
    "    'cg19784428',\n",
    "    'cg22016779',\n",
    "    'cg01974375',\n",
    "    'cg25256723',\n",
    "    'cg24724428',\n",
    "    'cg07547549',\n",
    "    'cg25410668',\n",
    "    'cg21296230'\n",
    "]\n",
    "\n",
    "coefficients = [\n",
    "    0.711184864,\n",
    "    -0.588354066,\n",
    "    -0.212038592,\n",
    "    0.014351188,\n",
    "    0.051285529,\n",
    "    2.152191741,\n",
    "    -0.689940565,\n",
    "    -0.643729974,\n",
    "    -0.772516118,\n",
    "    0.116662569,\n",
    "    -0.233409678,\n",
    "    0.002802259,\n",
    "    -0.062172432,\n",
    "    -0.224027294,\n",
    "    1.535209377,\n",
    "    0.344367661,\n",
    "    0.188826525,\n",
    "    -0.409150014,\n",
    "    -0.776065004,\n",
    "    0.500336643,\n",
    "    0.06125005,\n",
    "    -0.391624093,\n",
    "    0.100449175,\n",
    "    0.02000403,\n",
    "    0.266044453,\n",
    "    -0.259829677,\n",
    "    0.254063071,\n",
    "    -0.726178338,\n",
    "    -1.141947121,\n",
    "    -0.06322441,\n",
    "    -0.196926134,\n",
    "    0.85613244,\n",
    "    -0.887977059,\n",
    "    -0.334654336,\n",
    "    -0.854110638,\n",
    "    1.916122401,\n",
    "    0.92208575,\n",
    "    -0.070665617,\n",
    "    0.524707402,\n",
    "    0.319375235,\n",
    "    0.376055859,\n",
    "    0.033361038,\n",
    "    -1.458360975,\n",
    "    -0.267930475,\n",
    "    -0.590085273,\n",
    "    0.642506165,\n",
    "    0.470352872,\n",
    "    0.273581649,\n",
    "    -0.637989789,\n",
    "    -1.109388991,\n",
    "    -0.16886654,\n",
    "    0.662451226,\n",
    "    -0.091891613,\n",
    "    0.086290028,\n",
    "    -0.426089316,\n",
    "    0.32615363,\n",
    "    2.535639458,\n",
    "    -3.626802894,\n",
    "    0.097619541,\n",
    "    -0.427604263,\n",
    "    -0.41418774,\n",
    "    -0.27412342,\n",
    "    0.703772384,\n",
    "    -0.110027226,\n",
    "    0.283649813,\n",
    "    0.928585964\n",
    "]"
   ]
  },
  {
   "cell_type": "markdown",
   "id": "60c676db-2c7c-4c04-9457-97bccd598269",
   "metadata": {
    "jp-MarkdownHeadingCollapsed": true
   },
   "source": [
    "## Extract features and weights"
   ]
  },
  {
   "cell_type": "markdown",
   "id": "87dfda00-5182-4416-8eb1-de91ce2a9e48",
   "metadata": {},
   "source": [
    "First, let's extract the features and weights:"
   ]
  },
  {
   "cell_type": "code",
   "execution_count": 5,
   "id": "e1d1dd13-65ac-4694-8948-3cd94bc19fe1",
   "metadata": {},
   "outputs": [
    {
     "data": {
      "text/html": [
       "<div>\n",
       "<style scoped>\n",
       "    .dataframe tbody tr th:only-of-type {\n",
       "        vertical-align: middle;\n",
       "    }\n",
       "\n",
       "    .dataframe tbody tr th {\n",
       "        vertical-align: top;\n",
       "    }\n",
       "\n",
       "    .dataframe thead th {\n",
       "        text-align: right;\n",
       "    }\n",
       "</style>\n",
       "<table border=\"1\" class=\"dataframe\">\n",
       "  <thead>\n",
       "    <tr style=\"text-align: right;\">\n",
       "      <th></th>\n",
       "      <th>feature</th>\n",
       "      <th>coefficient</th>\n",
       "    </tr>\n",
       "  </thead>\n",
       "  <tbody>\n",
       "    <tr>\n",
       "      <th>0</th>\n",
       "      <td>(Intercept)</td>\n",
       "      <td>0.711185</td>\n",
       "    </tr>\n",
       "    <tr>\n",
       "      <th>1</th>\n",
       "      <td>cg19283806</td>\n",
       "      <td>-0.588354</td>\n",
       "    </tr>\n",
       "    <tr>\n",
       "      <th>2</th>\n",
       "      <td>cg11807280</td>\n",
       "      <td>-0.212039</td>\n",
       "    </tr>\n",
       "    <tr>\n",
       "      <th>3</th>\n",
       "      <td>cg00329615</td>\n",
       "      <td>0.014351</td>\n",
       "    </tr>\n",
       "    <tr>\n",
       "      <th>4</th>\n",
       "      <td>cg22454769</td>\n",
       "      <td>0.051286</td>\n",
       "    </tr>\n",
       "  </tbody>\n",
       "</table>\n",
       "</div>"
      ],
      "text/plain": [
       "       feature  coefficient\n",
       "0  (Intercept)     0.711185\n",
       "1   cg19283806    -0.588354\n",
       "2   cg11807280    -0.212039\n",
       "3   cg00329615     0.014351\n",
       "4   cg22454769     0.051286"
      ]
     },
     "execution_count": 5,
     "metadata": {},
     "output_type": "execute_result"
    }
   ],
   "source": [
    "df = pd.DataFrame({\n",
    "    'feature': cpg_sites,\n",
    "    'coefficient': coefficients\n",
    "})\n",
    "\n",
    "df.head()"
   ]
  },
  {
   "cell_type": "markdown",
   "id": "5ac5b42a-3bd9-49d3-b84e-79d236af24b4",
   "metadata": {},
   "source": [
    "Then, let's create lists for features and weights. Be careful about the intercept, as it usually shows up as a feature name."
   ]
  },
  {
   "cell_type": "code",
   "execution_count": 6,
   "id": "2fc06bb5-7e9c-46fd-9843-31880f1d3788",
   "metadata": {},
   "outputs": [],
   "source": [
    "features = df['feature'][1:].tolist()\n",
    "weights = torch.tensor(df['coefficient'][1:].tolist()).unsqueeze(0)\n",
    "intercept = torch.tensor([df['coefficient'][0]])"
   ]
  },
  {
   "cell_type": "markdown",
   "id": "d193ccbf-d06b-49bb-ad4b-ffe3271dea63",
   "metadata": {
    "jp-MarkdownHeadingCollapsed": true
   },
   "source": [
    "## Load weights into pyaging model"
   ]
  },
  {
   "cell_type": "markdown",
   "id": "4350119a-4bd4-4efa-85b5-9de70fdf496f",
   "metadata": {},
   "source": [
    "#### Linear model"
   ]
  },
  {
   "cell_type": "code",
   "execution_count": 7,
   "id": "7354c541-5af9-447d-a339-2cb88c253b41",
   "metadata": {},
   "outputs": [
    {
     "data": {
      "text/plain": [
       "LinearModel(\n",
       "  (linear): Linear(in_features=65, out_features=1, bias=True)\n",
       ")"
      ]
     },
     "execution_count": 7,
     "metadata": {},
     "output_type": "execute_result"
    }
   ],
   "source": [
    "model = pya.models.LinearModel(input_dim=len(features))\n",
    "\n",
    "model.linear.weight.data = weights.float()\n",
    "model.linear.bias.data = intercept.float()\n",
    "\n",
    "model"
   ]
  },
  {
   "cell_type": "markdown",
   "id": "06adc9d8-cec2-447d-8d0b-e2819d4c1a5b",
   "metadata": {},
   "source": [
    "## Add reference values"
   ]
  },
  {
   "cell_type": "markdown",
   "id": "84bf0205-f976-497b-a6a9-e4945c05cdb3",
   "metadata": {},
   "source": [
    "Some clocks have reference values in the case of missing features. It is also possible that these values are for preprocessing features rather than the clock features. Let's add a dictionary with the feature names as the keys."
   ]
  },
  {
   "cell_type": "code",
   "execution_count": 8,
   "id": "250dd50d-a175-45f3-913b-da87c50cb55c",
   "metadata": {},
   "outputs": [],
   "source": [
    "reference_feature_values = None"
   ]
  },
  {
   "cell_type": "markdown",
   "id": "c9b4fd10-797c-45bd-aa1a-65aed1deaf1c",
   "metadata": {},
   "source": [
    "## Add preprocessing and postprocesssing steps"
   ]
  },
  {
   "cell_type": "markdown",
   "id": "20649dc9-2b58-4c63-a48e-f8d7a4bb520b",
   "metadata": {},
   "source": [
    "The preprocessing and postprocessing objects are dictionaries with the following format, with all items required. It takes in x in the form of a numpy array."
   ]
  },
  {
   "cell_type": "code",
   "execution_count": 9,
   "id": "1d173005-fb63-43d5-bd9f-0b4fa2e240b1",
   "metadata": {},
   "outputs": [],
   "source": [
    "preprocessing = None"
   ]
  },
  {
   "cell_type": "markdown",
   "id": "3ca747b4-0214-40a1-a7bf-fbf2a71084af",
   "metadata": {},
   "source": [
    "Similarly is the case of postprocessing. Remember that your function must be compatible with torch and is applied to each number individually."
   ]
  },
  {
   "cell_type": "code",
   "execution_count": 10,
   "id": "6fe37a2c-113a-4517-91e4-10a4e8b2005a",
   "metadata": {},
   "outputs": [],
   "source": [
    "def postprocessing_function(x):\n",
    "    \"\"\"\n",
    "    Applies an anti-logarithmic linear transformation to a PyTorch tensor.\n",
    "    \"\"\"\n",
    "    adult_age=20\n",
    "    \n",
    "    if x < 0:\n",
    "        # Exponential transformation for negative values\n",
    "        age_tensor = (1 + adult_age) * math.exp(x) - 1\n",
    "    else:\n",
    "        # Linear transformation for non-negative values\n",
    "        age_tensor = (1 + adult_age) * x + adult_age\n",
    "    return age_tensor\n",
    "    \n",
    "postprocessing_function_string = marshal.dumps(postprocessing_function.__code__)\n",
    "\n",
    "postprocessing_helper_objects = None\n",
    "\n",
    "postprocessing = {\n",
    "    'name': 'anti_log_linear',\n",
    "    'postprocessing_function': postprocessing_function_string,\n",
    "    'postprocessing_helper_objects': postprocessing_helper_objects\n",
    "}"
   ]
  },
  {
   "cell_type": "markdown",
   "id": "4e729ea4-ed80-471a-998c-4d3a5448ee0f",
   "metadata": {},
   "source": [
    "## Check all data objects"
   ]
  },
  {
   "cell_type": "markdown",
   "id": "c604976b-5b33-4529-82a5-8976f5df3a09",
   "metadata": {},
   "source": [
    "Let's print all data objects to check if they make sense."
   ]
  },
  {
   "cell_type": "markdown",
   "id": "987f2fa9-0482-40a4-b797-12c49017b91e",
   "metadata": {},
   "source": [
    "#### features"
   ]
  },
  {
   "cell_type": "code",
   "execution_count": 11,
   "id": "bf047bed-52f0-4a64-9691-4c04df9f50ec",
   "metadata": {},
   "outputs": [
    {
     "data": {
      "text/html": [
       "\n",
       "    <div style=\"overflow-x: scroll; overflow-y: scroll; border: 1px solid black; background-color: white; !important; color: black; !important;\">\n",
       "        <pre>There are 65 features.\n",
       "['cg19283806', 'cg11807280', 'cg00329615', 'cg22454769', 'cg16867657', 'cg22796704', 'cg09809672', 'cg18618815', 'cg25533247', 'cg02286081', 'cg20222376', 'cg19344626', 'cg07082267', 'cg15845821', 'cg11741201', 'cg16054275', 'cg18933331', 'cg20249566', 'cg16604658', 'cg07583137', 'cg16008966', 'cg14556683', 'cg03746976', 'cg14314729', 'cg03431918', 'cg22156456', 'cg23078123', 'cg09748749', 'cg17457912', 'cg06492796', 'cg17593342', 'cg05308819', 'cg22512670', 'cg01820962', 'cg06639320', 'cg03224418', 'cg17436656', 'cg19500607', 'cg03735592', 'cg20669012', 'cg19761273', 'cg07080372', 'cg03638795', 'cg19722847', 'cg24711336', 'cg26935102', 'cg10221746', 'cg02085953', 'cg04604946', 'cg08558886', 'cg22361181', 'cg04208403', 'cg12623930', 'cg21572722', 'cg17885226', 'cg00748589', 'cg13033938', 'cg19784428', 'cg22016779', 'cg01974375', 'cg25256723', 'cg24724428', 'cg07547549', 'cg25410668', 'cg21296230']\n",
       "</pre>\n",
       "    </div>\n",
       "    "
      ],
      "text/plain": [
       "<IPython.core.display.HTML object>"
      ]
     },
     "metadata": {},
     "output_type": "display_data"
    }
   ],
   "source": [
    "def my_print_function():\n",
    "    print(f\"There are {len(features)} features.\")\n",
    "    print(features)\n",
    "pya.utils.print_to_scrollable_output(my_print_function)"
   ]
  },
  {
   "cell_type": "markdown",
   "id": "3061e7a1-98ea-41b1-8e49-a72359f0f646",
   "metadata": {},
   "source": [
    "#### reference_feature_values"
   ]
  },
  {
   "cell_type": "code",
   "execution_count": 12,
   "id": "6436fd01-0a8e-41a5-b584-2c020136ff97",
   "metadata": {},
   "outputs": [
    {
     "data": {
      "text/html": [
       "\n",
       "    <div style=\"overflow-x: scroll; overflow-y: scroll; border: 1px solid black; background-color: white; !important; color: black; !important;\">\n",
       "        <pre>None\n",
       "</pre>\n",
       "    </div>\n",
       "    "
      ],
      "text/plain": [
       "<IPython.core.display.HTML object>"
      ]
     },
     "metadata": {},
     "output_type": "display_data"
    }
   ],
   "source": [
    "def my_print_function():\n",
    "    if reference_feature_values:\n",
    "        print(f\"There are {len(reference_feature_values)} reference feature values.\")\n",
    "    print(reference_feature_values)\n",
    "pya.utils.print_to_scrollable_output(my_print_function)"
   ]
  },
  {
   "cell_type": "markdown",
   "id": "f555b93d-4846-4657-ae82-d5f7a6a3b8a8",
   "metadata": {},
   "source": [
    "#### preprocessing"
   ]
  },
  {
   "cell_type": "code",
   "execution_count": 13,
   "id": "960c5ede-3175-4192-a358-bf5ccb41074f",
   "metadata": {},
   "outputs": [
    {
     "data": {
      "text/html": [
       "\n",
       "    <div style=\"overflow-x: scroll; overflow-y: scroll; border: 1px solid black; background-color: white; !important; color: black; !important;\">\n",
       "        <pre>None\n",
       "</pre>\n",
       "    </div>\n",
       "    "
      ],
      "text/plain": [
       "<IPython.core.display.HTML object>"
      ]
     },
     "metadata": {},
     "output_type": "display_data"
    }
   ],
   "source": [
    "def my_print_function():\n",
    "    print(preprocessing)\n",
    "    if preprocessing:\n",
    "        print(preprocessing_helper_objects)\n",
    "pya.utils.print_to_scrollable_output(my_print_function)"
   ]
  },
  {
   "cell_type": "markdown",
   "id": "64b0b4a5-4533-45b0-a91e-8b3f2828c712",
   "metadata": {},
   "source": [
    "#### postprocessing"
   ]
  },
  {
   "cell_type": "code",
   "execution_count": 14,
   "id": "40fe1f52-ad50-4b84-89c7-c5d1d3fff139",
   "metadata": {},
   "outputs": [
    {
     "data": {
      "text/html": [
       "\n",
       "    <div style=\"overflow-x: scroll; overflow-y: scroll; border: 1px solid black; background-color: white; !important; color: black; !important;\">\n",
       "        <pre>{'name': 'anti_log_linear', 'postprocessing_function': b'\\xe3\\x01\\x00\\x00\\x00\\x00\\x00\\x00\\x00\\x00\\x00\\x00\\x00\\x03\\x00\\x00\\x00\\x04\\x00\\x00\\x00C\\x00\\x00\\x00s8\\x00\\x00\\x00d\\x01}\\x01|\\x00d\\x02k\\x00r$d\\x03|\\x01\\x17\\x00t\\x00\\xa0\\x01|\\x00\\xa1\\x01\\x14\\x00d\\x03\\x18\\x00}\\x02n\\x10d\\x03|\\x01\\x17\\x00|\\x00\\x14\\x00|\\x01\\x17\\x00}\\x02|\\x02S\\x00)\\x04\\xfaP\\n    Applies an anti-logarithmic linear transformation to a PyTorch tensor.\\n    \\xe9\\x14\\x00\\x00\\x00\\xe9\\x00\\x00\\x00\\x00\\xe9\\x01\\x00\\x00\\x00)\\x02\\xda\\x04math\\xda\\x03exp)\\x03\\xda\\x01x\\xda\\tadult_age\\xda\\nage_tensor\\xa9\\x00r\\n\\x00\\x00\\x00\\xfa\\x1f<ipython-input-10-4cc1a2847503>\\xda\\x17postprocessing_function\\x01\\x00\\x00\\x00s\\n\\x00\\x00\\x00\\x00\\x04\\x04\\x02\\x08\\x02\\x18\\x03\\x10\\x01', 'postprocessing_helper_objects': None}\n",
       "{'name': 'anti_log_linear', 'postprocessing_function': b'\\xe3\\x01\\x00\\x00\\x00\\x00\\x00\\x00\\x00\\x00\\x00\\x00\\x00\\x03\\x00\\x00\\x00\\x04\\x00\\x00\\x00C\\x00\\x00\\x00s8\\x00\\x00\\x00d\\x01}\\x01|\\x00d\\x02k\\x00r$d\\x03|\\x01\\x17\\x00t\\x00\\xa0\\x01|\\x00\\xa1\\x01\\x14\\x00d\\x03\\x18\\x00}\\x02n\\x10d\\x03|\\x01\\x17\\x00|\\x00\\x14\\x00|\\x01\\x17\\x00}\\x02|\\x02S\\x00)\\x04\\xfaP\\n    Applies an anti-logarithmic linear transformation to a PyTorch tensor.\\n    \\xe9\\x14\\x00\\x00\\x00\\xe9\\x00\\x00\\x00\\x00\\xe9\\x01\\x00\\x00\\x00)\\x02\\xda\\x04math\\xda\\x03exp)\\x03\\xda\\x01x\\xda\\tadult_age\\xda\\nage_tensor\\xa9\\x00r\\n\\x00\\x00\\x00\\xfa\\x1f<ipython-input-10-4cc1a2847503>\\xda\\x17postprocessing_function\\x01\\x00\\x00\\x00s\\n\\x00\\x00\\x00\\x00\\x04\\x04\\x02\\x08\\x02\\x18\\x03\\x10\\x01', 'postprocessing_helper_objects': None}\n",
       "</pre>\n",
       "    </div>\n",
       "    "
      ],
      "text/plain": [
       "<IPython.core.display.HTML object>"
      ]
     },
     "metadata": {},
     "output_type": "display_data"
    }
   ],
   "source": [
    "def my_print_function():\n",
    "    print(postprocessing)\n",
    "    if postprocessing:\n",
    "        print(postprocessing)\n",
    "pya.utils.print_to_scrollable_output(my_print_function)"
   ]
  },
  {
   "cell_type": "markdown",
   "id": "27ca4188-8754-4575-856a-eb8d9973baaf",
   "metadata": {},
   "source": [
    "#### weight_dict"
   ]
  },
  {
   "cell_type": "code",
   "execution_count": 15,
   "id": "658317e5-44bd-4621-877c-5db57494c968",
   "metadata": {},
   "outputs": [
    {
     "data": {
      "text/html": [
       "\n",
       "    <div style=\"overflow-x: scroll; overflow-y: scroll; border: 1px solid black; background-color: white; !important; color: black; !important;\">\n",
       "        <pre>Layer: linear.weight\n",
       "Shape: torch.Size([1, 65])\n",
       "tensor([[-5.8835e-01, -2.1204e-01,  1.4351e-02,  5.1286e-02,  2.1522e+00,\n",
       "         -6.8994e-01, -6.4373e-01, -7.7252e-01,  1.1666e-01, -2.3341e-01,\n",
       "          2.8023e-03, -6.2172e-02, -2.2403e-01,  1.5352e+00,  3.4437e-01,\n",
       "          1.8883e-01, -4.0915e-01, -7.7606e-01,  5.0034e-01,  6.1250e-02,\n",
       "         -3.9162e-01,  1.0045e-01,  2.0004e-02,  2.6604e-01, -2.5983e-01,\n",
       "          2.5406e-01, -7.2618e-01, -1.1419e+00, -6.3224e-02, -1.9693e-01,\n",
       "          8.5613e-01, -8.8798e-01, -3.3465e-01, -8.5411e-01,  1.9161e+00,\n",
       "          9.2209e-01, -7.0666e-02,  5.2471e-01,  3.1938e-01,  3.7606e-01,\n",
       "          3.3361e-02, -1.4584e+00, -2.6793e-01, -5.9009e-01,  6.4251e-01,\n",
       "          4.7035e-01,  2.7358e-01, -6.3799e-01, -1.1094e+00, -1.6887e-01,\n",
       "          6.6245e-01, -9.1892e-02,  8.6290e-02, -4.2609e-01,  3.2615e-01,\n",
       "          2.5356e+00, -3.6268e+00,  9.7620e-02, -4.2760e-01, -4.1419e-01,\n",
       "         -2.7412e-01,  7.0377e-01, -1.1003e-01,  2.8365e-01,  9.2859e-01]])\n",
       "Layer: linear.bias\n",
       "Shape: torch.Size([1])\n",
       "tensor([0.7112])\n",
       "</pre>\n",
       "    </div>\n",
       "    "
      ],
      "text/plain": [
       "<IPython.core.display.HTML object>"
      ]
     },
     "metadata": {},
     "output_type": "display_data"
    }
   ],
   "source": [
    "def my_print_function():\n",
    "    for name, param in model.named_parameters():\n",
    "        print(f\"Layer: {name}\")\n",
    "        print(f\"Shape: {param.shape}\")\n",
    "        print(param.data)\n",
    "pya.utils.print_to_scrollable_output(my_print_function)"
   ]
  },
  {
   "cell_type": "markdown",
   "id": "275815e5-5630-4163-bc61-7119a9c805c1",
   "metadata": {},
   "source": [
    "## Write clock dictionary"
   ]
  },
  {
   "cell_type": "markdown",
   "id": "3b176620-afb5-403c-9948-07639072bb44",
   "metadata": {},
   "source": [
    "Let's put everything together and save:"
   ]
  },
  {
   "cell_type": "code",
   "execution_count": 16,
   "id": "35d00b76-513d-4d8f-8824-6d810ee9d8f5",
   "metadata": {},
   "outputs": [],
   "source": [
    "clock_dict = {\n",
    "    # Metadata\n",
    "    'clock_name': clock_name,\n",
    "    'data_type': data_type,\n",
    "    'model_class': model_class,\n",
    "    'species': species,\n",
    "    'year': year,\n",
    "    'approved_by_author': approved_by_author,\n",
    "    'citation': citation,\n",
    "    'doi': doi,\n",
    "    \"notes\": notes,\n",
    "\n",
    "    # Data\n",
    "    'reference_feature_values': reference_feature_values if reference_feature_values else None,\n",
    "    'preprocessing': preprocessing if preprocessing else None, \n",
    "    'features': features,\n",
    "    'weight_dict': model.state_dict(),\n",
    "    'postprocessing': postprocessing if postprocessing else None,\n",
    "}\n",
    "\n",
    "torch.save(clock_dict, f'../weights/{clock_name}.pt')"
   ]
  },
  {
   "cell_type": "markdown",
   "id": "c1dd2efe-2bd6-4e1b-92ee-d110c25ad29c",
   "metadata": {},
   "source": [
    "## Clear directory"
   ]
  },
  {
   "cell_type": "markdown",
   "id": "158aa71f-7bbc-4c52-b7ef-16ba45d5e1fd",
   "metadata": {},
   "source": [
    "Delete all files that are not clock jupyter notebooks:"
   ]
  },
  {
   "cell_type": "code",
   "execution_count": 17,
   "id": "db4bd42b-c62f-4557-9ebc-d8194a240137",
   "metadata": {},
   "outputs": [
    {
     "name": "stdout",
     "output_type": "stream",
     "text": [
      "Deleted folder: .ipynb_checkpoints\n"
     ]
    }
   ],
   "source": [
    "# Function to remove a folder and all its contents\n",
    "def remove_folder(path):\n",
    "    try:\n",
    "        shutil.rmtree(path)\n",
    "        print(f\"Deleted folder: {path}\")\n",
    "    except Exception as e:\n",
    "        print(f\"Error deleting folder {path}: {e}\")\n",
    "\n",
    "# Get a list of all files and folders in the current directory\n",
    "all_items = os.listdir('.')\n",
    "\n",
    "# Loop through the items\n",
    "for item in all_items:\n",
    "    # Check if it's a file and does not end with .ipynb\n",
    "    if os.path.isfile(item) and not item.endswith('.ipynb'):\n",
    "        os.remove(item)\n",
    "        print(f\"Deleted file: {item}\")\n",
    "    # Check if it's a folder\n",
    "    elif os.path.isdir(item):\n",
    "        remove_folder(item)"
   ]
  }
 ],
 "metadata": {
  "kernelspec": {
   "display_name": "Python 3",
   "language": "python",
   "name": "python3"
  },
  "language_info": {
   "codemirror_mode": {
    "name": "ipython",
    "version": 3
   },
   "file_extension": ".py",
   "mimetype": "text/x-python",
   "name": "python",
   "nbconvert_exporter": "python",
   "pygments_lexer": "ipython3",
   "version": "3.9.17"
  }
 },
 "nbformat": 4,
 "nbformat_minor": 5
}

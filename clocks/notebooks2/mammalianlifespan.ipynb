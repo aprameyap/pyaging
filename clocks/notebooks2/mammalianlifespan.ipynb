{
 "cells": [
  {
   "cell_type": "markdown",
   "id": "2f04eee0-5928-4e74-a754-6dc2e528810c",
   "metadata": {},
   "source": [
    "# MammalianLifespan"
   ]
  },
  {
   "cell_type": "markdown",
   "id": "a3f514a3-772c-4a14-afdf-5a8376851ff4",
   "metadata": {},
   "source": [
    "## Index\n",
    "1. [Define required clock parameters](#Define-required-clock-parameters)\n",
    "2. [Download necessary data](#Download-necessary-data)\n",
    "3. [Load data](#-Load-data)\n",
    "4. [Extract features and weights](#Extract-features-and-weights)\n",
    "5. [Load weights into pyaging model](#Load-weights-into-pyaging-model)\n",
    "6. [Add reference values](#Add-reference-values)\n",
    "7. [Add preprocessing and postprocesssing steps](#Add-preprocessing-and-postprocesssing-steps)\n",
    "8. [Check all data objects](#Check-all-data-objects)\n",
    "9. [Write clock dictionary](#Write-clock-dictionary)\n",
    "10. [Clear directory](#Clear-directory)"
   ]
  },
  {
   "cell_type": "markdown",
   "id": "d95fafdc-643a-40ea-a689-200bd132e90c",
   "metadata": {},
   "source": [
    "Let's first import some packages:"
   ]
  },
  {
   "cell_type": "code",
   "execution_count": 1,
   "id": "4adfb4de-cd79-4913-a1af-9e23e9e236c9",
   "metadata": {},
   "outputs": [],
   "source": [
    "import os\n",
    "import marshal\n",
    "import shutil\n",
    "import json\n",
    "import torch\n",
    "import pandas as pd\n",
    "import pyaging as pya"
   ]
  },
  {
   "cell_type": "markdown",
   "id": "c8c0c937-d9b6-4756-99b0-91de591220e0",
   "metadata": {},
   "source": [
    "## Define required clock parameters"
   ]
  },
  {
   "cell_type": "markdown",
   "id": "cf95ddca-625e-4c70-a246-c3cb12df96f8",
   "metadata": {},
   "source": [
    "Let's define some required information first:"
   ]
  },
  {
   "cell_type": "code",
   "execution_count": 2,
   "id": "5281776d-0549-445f-beec-39c31ec7dbe1",
   "metadata": {},
   "outputs": [],
   "source": [
    "clock_name = 'mammalianlifespan'\n",
    "data_type = 'methylation'\n",
    "model_class = 'LinearModel'\n",
    "species = 'multi'\n",
    "year = 2023\n",
    "approved_by_author = '⌛'\n",
    "citation = \"Li, Caesar Z., et al. \\\"Epigenetic predictors of species maximum lifespan and other life history traits in mammals.\\\" bioRxiv (2023): 2023-11.\"\n",
    "doi = \"https://doi.org/10.1101/2023.11.02.565286\"\n",
    "notes = \"This is still a preprint, so the model might change\""
   ]
  },
  {
   "cell_type": "markdown",
   "id": "4520c8cb-6c1f-4490-ba4c-6fe78ef002a7",
   "metadata": {},
   "source": [
    "## Download necessary data"
   ]
  },
  {
   "cell_type": "markdown",
   "id": "4ccae25e-7d7f-45da-8e8a-064a66dc52fa",
   "metadata": {},
   "source": [
    "#### Download GitHub repository"
   ]
  },
  {
   "cell_type": "code",
   "execution_count": 3,
   "id": "a2a5b60e-ff7f-4b24-b1c6-61cda8948310",
   "metadata": {},
   "outputs": [
    {
     "data": {
      "text/plain": [
       "0"
      ]
     },
     "execution_count": 3,
     "metadata": {},
     "output_type": "execute_result"
    }
   ],
   "source": [
    "github_url = \"https://github.com/caeseriousli/MammalianMethylationPredictors.git\"\n",
    "github_folder_name = github_url.split('/')[-1].split('.')[0]\n",
    "os.system(f\"git clone {github_url}\")"
   ]
  },
  {
   "cell_type": "markdown",
   "id": "35615b62-73ac-40b1-8bc1-e904403eb0ae",
   "metadata": {},
   "source": [
    "## Load data"
   ]
  },
  {
   "cell_type": "markdown",
   "id": "232eb94a-04a7-4ac4-ae3e-0e365b443a8e",
   "metadata": {},
   "source": [
    "#### From CSV file"
   ]
  },
  {
   "cell_type": "code",
   "execution_count": 4,
   "id": "45fbc051-f0d2-4b25-9813-ae126f6fedcb",
   "metadata": {},
   "outputs": [],
   "source": [
    "df = pd.read_csv('MammalianMethylationPredictors/Predictors/LifespanPredictor_40K_Li2021.csv')"
   ]
  },
  {
   "cell_type": "markdown",
   "id": "60c676db-2c7c-4c04-9457-97bccd598269",
   "metadata": {},
   "source": [
    "## Extract features and weights"
   ]
  },
  {
   "cell_type": "markdown",
   "id": "87dfda00-5182-4416-8eb1-de91ce2a9e48",
   "metadata": {},
   "source": [
    "First, let's extract the features and weights:"
   ]
  },
  {
   "cell_type": "code",
   "execution_count": 5,
   "id": "e1d1dd13-65ac-4694-8948-3cd94bc19fe1",
   "metadata": {},
   "outputs": [
    {
     "data": {
      "text/html": [
       "<div>\n",
       "<style scoped>\n",
       "    .dataframe tbody tr th:only-of-type {\n",
       "        vertical-align: middle;\n",
       "    }\n",
       "\n",
       "    .dataframe tbody tr th {\n",
       "        vertical-align: top;\n",
       "    }\n",
       "\n",
       "    .dataframe thead th {\n",
       "        text-align: right;\n",
       "    }\n",
       "</style>\n",
       "<table border=\"1\" class=\"dataframe\">\n",
       "  <thead>\n",
       "    <tr style=\"text-align: right;\">\n",
       "      <th></th>\n",
       "      <th>Coefficient</th>\n",
       "      <th>CpG</th>\n",
       "      <th>feature</th>\n",
       "      <th>coefficient</th>\n",
       "    </tr>\n",
       "  </thead>\n",
       "  <tbody>\n",
       "    <tr>\n",
       "      <th>0</th>\n",
       "      <td>-2.828494</td>\n",
       "      <td>(Intercept)</td>\n",
       "      <td>(Intercept)</td>\n",
       "      <td>-2.828494</td>\n",
       "    </tr>\n",
       "    <tr>\n",
       "      <th>26</th>\n",
       "      <td>0.041479</td>\n",
       "      <td>cg00039845</td>\n",
       "      <td>cg00039845</td>\n",
       "      <td>0.041479</td>\n",
       "    </tr>\n",
       "    <tr>\n",
       "      <th>187</th>\n",
       "      <td>0.430467</td>\n",
       "      <td>cg00300233</td>\n",
       "      <td>cg00300233</td>\n",
       "      <td>0.430467</td>\n",
       "    </tr>\n",
       "    <tr>\n",
       "      <th>487</th>\n",
       "      <td>0.072605</td>\n",
       "      <td>cg00810217</td>\n",
       "      <td>cg00810217</td>\n",
       "      <td>0.072605</td>\n",
       "    </tr>\n",
       "    <tr>\n",
       "      <th>624</th>\n",
       "      <td>0.107544</td>\n",
       "      <td>cg01020408</td>\n",
       "      <td>cg01020408</td>\n",
       "      <td>0.107544</td>\n",
       "    </tr>\n",
       "  </tbody>\n",
       "</table>\n",
       "</div>"
      ],
      "text/plain": [
       "     Coefficient          CpG      feature  coefficient\n",
       "0      -2.828494  (Intercept)  (Intercept)    -2.828494\n",
       "26      0.041479   cg00039845   cg00039845     0.041479\n",
       "187     0.430467   cg00300233   cg00300233     0.430467\n",
       "487     0.072605   cg00810217   cg00810217     0.072605\n",
       "624     0.107544   cg01020408   cg01020408     0.107544"
      ]
     },
     "execution_count": 5,
     "metadata": {},
     "output_type": "execute_result"
    }
   ],
   "source": [
    "df['feature'] = df['CpG']\n",
    "df['coefficient'] = df['Coefficient']\n",
    "df = df[df.Coefficient != 0]\n",
    "\n",
    "df.head()"
   ]
  },
  {
   "cell_type": "markdown",
   "id": "5ac5b42a-3bd9-49d3-b84e-79d236af24b4",
   "metadata": {},
   "source": [
    "Then, let's create lists for features and weights. Be careful about the intercept, as it usually shows up as a feature name."
   ]
  },
  {
   "cell_type": "code",
   "execution_count": 6,
   "id": "2fc06bb5-7e9c-46fd-9843-31880f1d3788",
   "metadata": {},
   "outputs": [],
   "source": [
    "features = df['feature'][1:].tolist()\n",
    "weights = torch.tensor(df['coefficient'][1:].tolist()).unsqueeze(0)\n",
    "intercept = torch.tensor([df['coefficient'][0]])"
   ]
  },
  {
   "cell_type": "markdown",
   "id": "d193ccbf-d06b-49bb-ad4b-ffe3271dea63",
   "metadata": {},
   "source": [
    "## Load weights into pyaging model"
   ]
  },
  {
   "cell_type": "markdown",
   "id": "4350119a-4bd4-4efa-85b5-9de70fdf496f",
   "metadata": {},
   "source": [
    "#### Linear model"
   ]
  },
  {
   "cell_type": "code",
   "execution_count": 7,
   "id": "7354c541-5af9-447d-a339-2cb88c253b41",
   "metadata": {},
   "outputs": [
    {
     "data": {
      "text/plain": [
       "LinearModel(\n",
       "  (linear): Linear(in_features=152, out_features=1, bias=True)\n",
       ")"
      ]
     },
     "execution_count": 7,
     "metadata": {},
     "output_type": "execute_result"
    }
   ],
   "source": [
    "model = pya.models.LinearModel(input_dim=len(features))\n",
    "\n",
    "model.linear.weight.data = weights.float()\n",
    "model.linear.bias.data = intercept.float()\n",
    "\n",
    "model"
   ]
  },
  {
   "cell_type": "markdown",
   "id": "06adc9d8-cec2-447d-8d0b-e2819d4c1a5b",
   "metadata": {},
   "source": [
    "## Add reference values"
   ]
  },
  {
   "cell_type": "markdown",
   "id": "84bf0205-f976-497b-a6a9-e4945c05cdb3",
   "metadata": {},
   "source": [
    "Some clocks have reference values in the case of missing features. It is also possible that these values are for preprocessing features rather than the clock features. Let's add a dictionary with the feature names as the keys."
   ]
  },
  {
   "cell_type": "code",
   "execution_count": 8,
   "id": "250dd50d-a175-45f3-913b-da87c50cb55c",
   "metadata": {},
   "outputs": [],
   "source": [
    "reference_feature_values = dict(zip(features, [0.5] * len(features)))"
   ]
  },
  {
   "cell_type": "markdown",
   "id": "c9b4fd10-797c-45bd-aa1a-65aed1deaf1c",
   "metadata": {},
   "source": [
    "## Add preprocessing and postprocesssing steps"
   ]
  },
  {
   "cell_type": "markdown",
   "id": "20649dc9-2b58-4c63-a48e-f8d7a4bb520b",
   "metadata": {},
   "source": [
    "The preprocessing and postprocessing objects are dictionaries with the following format, with all items required. It takes in x in the form of a numpy array."
   ]
  },
  {
   "cell_type": "code",
   "execution_count": 9,
   "id": "1d173005-fb63-43d5-bd9f-0b4fa2e240b1",
   "metadata": {},
   "outputs": [],
   "source": [
    "preprocessing = None"
   ]
  },
  {
   "cell_type": "markdown",
   "id": "3ca747b4-0214-40a1-a7bf-fbf2a71084af",
   "metadata": {},
   "source": [
    "Similarly is the case of postprocessing. Remember that your function must be compatible with torch and is applied to each number individually."
   ]
  },
  {
   "cell_type": "code",
   "execution_count": 10,
   "id": "6fe37a2c-113a-4517-91e4-10a4e8b2005a",
   "metadata": {},
   "outputs": [],
   "source": [
    "postprocessing = None"
   ]
  },
  {
   "cell_type": "markdown",
   "id": "fdff9bd5-e17f-495a-9f3b-20b24cad8137",
   "metadata": {},
   "source": [
    "## Check all data objects"
   ]
  },
  {
   "cell_type": "markdown",
   "id": "4e438cc0-e90a-47c7-81d7-b0c181c0d583",
   "metadata": {},
   "source": [
    "Let's print all data objects to check if they make sense."
   ]
  },
  {
   "cell_type": "markdown",
   "id": "e493397a-fe08-4c24-a137-df668fb51fb6",
   "metadata": {},
   "source": [
    "#### features"
   ]
  },
  {
   "cell_type": "code",
   "execution_count": 11,
   "id": "bf047bed-52f0-4a64-9691-4c04df9f50ec",
   "metadata": {},
   "outputs": [
    {
     "data": {
      "text/html": [
       "\n",
       "    <div style=\"overflow-x: scroll; overflow-y: scroll; border: 1px solid black; background-color: white; !important; color: black; !important;\">\n",
       "        <pre>There are 152 features.\n",
       "['cg00039845', 'cg00300233', 'cg00810217', 'cg01020408', 'cg01266508', 'cg01309159', 'cg01786675', 'cg02476543', 'cg02574410', 'cg02725055', 'cg02871478', 'cg03230916', 'cg03264110', 'cg03280886', 'cg03528345', 'cg03537184', 'cg03684591', 'cg03820088', 'cg04065686', 'cg04118146', 'cg04313551', 'cg04324237', 'cg04486940', 'cg04499301', 'cg04725401', 'cg04918691', 'cg04958799', 'cg05035746', 'cg05039938', 'cg05151611', 'cg05265959', 'cg05326840', 'cg05377512', 'cg05530690', 'cg05708750', 'cg06510679', 'cg06577299', 'cg06937549', 'cg07201657', 'cg07991667', 'cg08161081', 'cg08168552', 'cg08212459', 'cg08582529', 'cg08759838', 'cg08844333', 'cg08899884', 'cg09067976', 'cg09122966', 'cg09443670', 'cg09504625', 'cg09536021', 'cg09556622', 'cg09625554', 'cg09681972', 'cg09733019', 'cg09995750', 'cg10040493', 'cg10234511', 'cg10288441', 'cg10455019', 'cg10622458', 'cg10890721', 'cg10975089', 'cg11201460', 'cg11212712', 'cg11224923', 'cg11499678', 'cg12237348', 'cg12310445', 'cg12764461', 'cg13453408', 'cg13528652', 'cg13652008.2', 'cg13673047', 'cg13733201', 'cg13895857', 'cg13915277', 'cg14002243', 'cg14156441', 'cg14182735', 'cg14736210', 'cg15331238', 'cg15516023', 'cg15597107', 'cg15719056', 'cg15912797', 'cg16078678', 'cg16642472', 'cg16684539', 'cg16909978', 'cg16991239', 'cg17049500', 'cg17638929', 'cg18098851', 'cg18228590', 'cg18232282', 'cg18298247', 'cg18473521.2', 'cg18728528', 'cg18766286', 'cg18821963', 'cg19175123', 'cg19302617', 'cg19405113', 'cg19641802', 'cg19761677', 'cg19778765', 'cg19839218', 'cg19941852', 'cg20001705', 'cg20098951', 'cg20136571', 'cg20196134', 'cg20205799', 'cg20233898', 'cg20359134', 'cg20867091', 'cg20943240', 'cg21045012', 'cg21290622', 'cg21347683', 'cg21405415', 'cg21421053', 'cg21484638', 'cg21969265', 'cg22007739', 'cg22507874', 'cg22598041', 'cg22660217', 'cg23078557', 'cg23189934', 'cg23302461', 'cg23361259', 'cg23801118', 'cg24037767', 'cg24164819', 'cg24412399', 'cg24463112', 'cg24509515', 'cg24597392', 'cg25107978', 'cg25430489', 'cg25488613', 'cg25729765', 'cg25805807', 'cg26163855', 'cg26347591', 'cg26465231', 'cg26976812', 'cg27231389', 'cg27244652']\n",
       "</pre>\n",
       "    </div>\n",
       "    "
      ],
      "text/plain": [
       "<IPython.core.display.HTML object>"
      ]
     },
     "metadata": {},
     "output_type": "display_data"
    }
   ],
   "source": [
    "def my_print_function():\n",
    "    print(f\"There are {len(features)} features.\")\n",
    "    print(features)\n",
    "pya.utils.print_to_scrollable_output(my_print_function)"
   ]
  },
  {
   "cell_type": "markdown",
   "id": "2e11fd14-22ec-4c5f-89f8-fc9cac777e63",
   "metadata": {},
   "source": [
    "#### reference_feature_values"
   ]
  },
  {
   "cell_type": "code",
   "execution_count": 12,
   "id": "6436fd01-0a8e-41a5-b584-2c020136ff97",
   "metadata": {},
   "outputs": [
    {
     "data": {
      "text/html": [
       "\n",
       "    <div style=\"overflow-x: scroll; overflow-y: scroll; border: 1px solid black; background-color: white; !important; color: black; !important;\">\n",
       "        <pre>There are 152 reference feature values.\n",
       "{'cg00039845': 0.5, 'cg00300233': 0.5, 'cg00810217': 0.5, 'cg01020408': 0.5, 'cg01266508': 0.5, 'cg01309159': 0.5, 'cg01786675': 0.5, 'cg02476543': 0.5, 'cg02574410': 0.5, 'cg02725055': 0.5, 'cg02871478': 0.5, 'cg03230916': 0.5, 'cg03264110': 0.5, 'cg03280886': 0.5, 'cg03528345': 0.5, 'cg03537184': 0.5, 'cg03684591': 0.5, 'cg03820088': 0.5, 'cg04065686': 0.5, 'cg04118146': 0.5, 'cg04313551': 0.5, 'cg04324237': 0.5, 'cg04486940': 0.5, 'cg04499301': 0.5, 'cg04725401': 0.5, 'cg04918691': 0.5, 'cg04958799': 0.5, 'cg05035746': 0.5, 'cg05039938': 0.5, 'cg05151611': 0.5, 'cg05265959': 0.5, 'cg05326840': 0.5, 'cg05377512': 0.5, 'cg05530690': 0.5, 'cg05708750': 0.5, 'cg06510679': 0.5, 'cg06577299': 0.5, 'cg06937549': 0.5, 'cg07201657': 0.5, 'cg07991667': 0.5, 'cg08161081': 0.5, 'cg08168552': 0.5, 'cg08212459': 0.5, 'cg08582529': 0.5, 'cg08759838': 0.5, 'cg08844333': 0.5, 'cg08899884': 0.5, 'cg09067976': 0.5, 'cg09122966': 0.5, 'cg09443670': 0.5, 'cg09504625': 0.5, 'cg09536021': 0.5, 'cg09556622': 0.5, 'cg09625554': 0.5, 'cg09681972': 0.5, 'cg09733019': 0.5, 'cg09995750': 0.5, 'cg10040493': 0.5, 'cg10234511': 0.5, 'cg10288441': 0.5, 'cg10455019': 0.5, 'cg10622458': 0.5, 'cg10890721': 0.5, 'cg10975089': 0.5, 'cg11201460': 0.5, 'cg11212712': 0.5, 'cg11224923': 0.5, 'cg11499678': 0.5, 'cg12237348': 0.5, 'cg12310445': 0.5, 'cg12764461': 0.5, 'cg13453408': 0.5, 'cg13528652': 0.5, 'cg13652008.2': 0.5, 'cg13673047': 0.5, 'cg13733201': 0.5, 'cg13895857': 0.5, 'cg13915277': 0.5, 'cg14002243': 0.5, 'cg14156441': 0.5, 'cg14182735': 0.5, 'cg14736210': 0.5, 'cg15331238': 0.5, 'cg15516023': 0.5, 'cg15597107': 0.5, 'cg15719056': 0.5, 'cg15912797': 0.5, 'cg16078678': 0.5, 'cg16642472': 0.5, 'cg16684539': 0.5, 'cg16909978': 0.5, 'cg16991239': 0.5, 'cg17049500': 0.5, 'cg17638929': 0.5, 'cg18098851': 0.5, 'cg18228590': 0.5, 'cg18232282': 0.5, 'cg18298247': 0.5, 'cg18473521.2': 0.5, 'cg18728528': 0.5, 'cg18766286': 0.5, 'cg18821963': 0.5, 'cg19175123': 0.5, 'cg19302617': 0.5, 'cg19405113': 0.5, 'cg19641802': 0.5, 'cg19761677': 0.5, 'cg19778765': 0.5, 'cg19839218': 0.5, 'cg19941852': 0.5, 'cg20001705': 0.5, 'cg20098951': 0.5, 'cg20136571': 0.5, 'cg20196134': 0.5, 'cg20205799': 0.5, 'cg20233898': 0.5, 'cg20359134': 0.5, 'cg20867091': 0.5, 'cg20943240': 0.5, 'cg21045012': 0.5, 'cg21290622': 0.5, 'cg21347683': 0.5, 'cg21405415': 0.5, 'cg21421053': 0.5, 'cg21484638': 0.5, 'cg21969265': 0.5, 'cg22007739': 0.5, 'cg22507874': 0.5, 'cg22598041': 0.5, 'cg22660217': 0.5, 'cg23078557': 0.5, 'cg23189934': 0.5, 'cg23302461': 0.5, 'cg23361259': 0.5, 'cg23801118': 0.5, 'cg24037767': 0.5, 'cg24164819': 0.5, 'cg24412399': 0.5, 'cg24463112': 0.5, 'cg24509515': 0.5, 'cg24597392': 0.5, 'cg25107978': 0.5, 'cg25430489': 0.5, 'cg25488613': 0.5, 'cg25729765': 0.5, 'cg25805807': 0.5, 'cg26163855': 0.5, 'cg26347591': 0.5, 'cg26465231': 0.5, 'cg26976812': 0.5, 'cg27231389': 0.5, 'cg27244652': 0.5}\n",
       "</pre>\n",
       "    </div>\n",
       "    "
      ],
      "text/plain": [
       "<IPython.core.display.HTML object>"
      ]
     },
     "metadata": {},
     "output_type": "display_data"
    }
   ],
   "source": [
    "def my_print_function():\n",
    "    if reference_feature_values:\n",
    "        print(f\"There are {len(reference_feature_values)} reference feature values.\")\n",
    "    print(reference_feature_values)\n",
    "pya.utils.print_to_scrollable_output(my_print_function)"
   ]
  },
  {
   "cell_type": "markdown",
   "id": "fa88e869-3eaf-468e-820a-33d530a817d5",
   "metadata": {},
   "source": [
    "#### preprocessing"
   ]
  },
  {
   "cell_type": "code",
   "execution_count": 13,
   "id": "960c5ede-3175-4192-a358-bf5ccb41074f",
   "metadata": {},
   "outputs": [
    {
     "data": {
      "text/html": [
       "\n",
       "    <div style=\"overflow-x: scroll; overflow-y: scroll; border: 1px solid black; background-color: white; !important; color: black; !important;\">\n",
       "        <pre>None\n",
       "</pre>\n",
       "    </div>\n",
       "    "
      ],
      "text/plain": [
       "<IPython.core.display.HTML object>"
      ]
     },
     "metadata": {},
     "output_type": "display_data"
    }
   ],
   "source": [
    "def my_print_function():\n",
    "    print(preprocessing)\n",
    "    if preprocessing:\n",
    "        print(preprocessing_helper_objects)\n",
    "pya.utils.print_to_scrollable_output(my_print_function)"
   ]
  },
  {
   "cell_type": "markdown",
   "id": "c570c22f-10ee-41da-9745-5f3135af4f2a",
   "metadata": {},
   "source": [
    "#### postprocessing"
   ]
  },
  {
   "cell_type": "code",
   "execution_count": 14,
   "id": "40fe1f52-ad50-4b84-89c7-c5d1d3fff139",
   "metadata": {},
   "outputs": [
    {
     "data": {
      "text/html": [
       "\n",
       "    <div style=\"overflow-x: scroll; overflow-y: scroll; border: 1px solid black; background-color: white; !important; color: black; !important;\">\n",
       "        <pre>None\n",
       "</pre>\n",
       "    </div>\n",
       "    "
      ],
      "text/plain": [
       "<IPython.core.display.HTML object>"
      ]
     },
     "metadata": {},
     "output_type": "display_data"
    }
   ],
   "source": [
    "def my_print_function():\n",
    "    print(postprocessing)\n",
    "    if postprocessing:\n",
    "        print(postprocessing)\n",
    "pya.utils.print_to_scrollable_output(my_print_function)"
   ]
  },
  {
   "cell_type": "markdown",
   "id": "bd1e1a6a-2ee8-4e7a-9782-3dc97e58ed97",
   "metadata": {},
   "source": [
    "#### weight_dict"
   ]
  },
  {
   "cell_type": "code",
   "execution_count": 15,
   "id": "658317e5-44bd-4621-877c-5db57494c968",
   "metadata": {},
   "outputs": [
    {
     "data": {
      "text/html": [
       "\n",
       "    <div style=\"overflow-x: scroll; overflow-y: scroll; border: 1px solid black; background-color: white; !important; color: black; !important;\">\n",
       "        <pre>Layer: linear.weight\n",
       "Shape: torch.Size([1, 152])\n",
       "tensor([[ 4.1479e-02,  4.3047e-01,  7.2605e-02,  1.0754e-01,  5.8377e-02,\n",
       "          2.1565e-01,  2.2965e-01,  4.2344e-02, -6.5248e-01, -3.4742e-01,\n",
       "          5.6462e-02,  4.6051e-02, -3.8672e-02, -1.4655e-01,  2.9777e-01,\n",
       "         -2.2357e-01,  1.9167e-01,  1.5970e-02,  1.2261e-01,  7.8501e-02,\n",
       "          1.1845e-01,  1.2712e-01, -3.2573e-01, -8.1482e-02,  1.4567e-01,\n",
       "          3.7800e-02,  1.9945e-01, -1.4141e-01, -7.1836e-04,  2.8239e-01,\n",
       "          1.3581e-01,  4.7385e-02,  5.5281e-02,  3.2102e-01, -1.5067e-01,\n",
       "          4.1216e-02, -1.4079e-01, -1.8476e-02, -4.7870e-01,  2.3931e-01,\n",
       "          1.2327e-01,  1.9269e-01,  1.7916e-02,  1.0631e-01,  1.2453e-01,\n",
       "          2.5091e-01, -8.0484e-02, -7.0799e-02,  1.6780e-01,  1.7828e-02,\n",
       "          6.0532e-03,  3.1505e-01, -7.6290e-03,  8.1807e-02,  3.1237e-02,\n",
       "          1.5346e-02,  9.0042e-02,  5.9265e-02,  8.0953e-02,  1.9199e-02,\n",
       "          1.0342e-02, -2.8355e-02, -3.0887e-02, -1.4327e-01,  5.9410e-02,\n",
       "          4.9960e-02,  3.3589e-02,  1.0277e-01,  7.4264e-02, -2.4637e-02,\n",
       "          3.8610e-01,  2.4892e-01,  1.0243e+00, -7.6810e-03, -1.0919e+00,\n",
       "         -5.9599e-02, -5.6514e-02,  4.3399e-02,  3.9809e-02, -2.7314e-01,\n",
       "         -1.9795e-02,  7.1320e-02,  5.1149e-02,  1.3938e-01,  9.1118e-02,\n",
       "          4.8975e-01, -3.4113e-01,  4.0331e-02,  1.1247e-01, -2.1904e-02,\n",
       "          3.2646e-02, -2.5352e-01, -1.0471e-01,  5.5888e-02,  1.9172e-01,\n",
       "          1.3780e-01,  2.7556e-02, -8.3882e-02,  8.6169e-02, -9.4159e-03,\n",
       "          1.5944e-02,  4.3879e-04,  6.2407e-02, -1.8151e-02,  2.0831e-01,\n",
       "          1.6327e-04,  3.5733e-02,  1.2883e-01, -1.0149e-01,  2.2897e-01,\n",
       "         -9.7624e-02,  4.4291e-02, -1.8038e-01, -5.2052e-02,  1.1770e-04,\n",
       "          7.7496e-03, -7.4326e-02, -7.8725e-02, -1.0746e-01,  1.1236e-01,\n",
       "         -3.7154e-02,  2.8432e-01,  7.6328e-03,  1.3228e-02, -3.9707e-02,\n",
       "          1.0783e-01,  4.4480e-02,  1.6112e-02,  3.8869e-01,  2.5152e-02,\n",
       "         -4.2489e-02,  4.5825e-02,  1.1271e-01,  1.1019e-01, -3.4294e-02,\n",
       "          8.6560e-02, -3.3241e-02, -6.4781e-02, -9.9148e-02,  1.9205e-02,\n",
       "          9.1173e-02, -1.0401e-01,  1.4171e-01,  1.1106e-01, -5.0578e-01,\n",
       "          7.6003e-02, -5.7890e-02,  7.7523e-03,  6.4486e-02, -5.3197e-02,\n",
       "          3.6395e-01, -4.5162e-02]])\n",
       "Layer: linear.bias\n",
       "Shape: torch.Size([1])\n",
       "tensor([-2.8285])\n",
       "</pre>\n",
       "    </div>\n",
       "    "
      ],
      "text/plain": [
       "<IPython.core.display.HTML object>"
      ]
     },
     "metadata": {},
     "output_type": "display_data"
    }
   ],
   "source": [
    "def my_print_function():\n",
    "    for name, param in model.named_parameters():\n",
    "        print(f\"Layer: {name}\")\n",
    "        print(f\"Shape: {param.shape}\")\n",
    "        print(param.data)\n",
    "pya.utils.print_to_scrollable_output(my_print_function)"
   ]
  },
  {
   "cell_type": "markdown",
   "id": "275815e5-5630-4163-bc61-7119a9c805c1",
   "metadata": {},
   "source": [
    "## Write clock dictionary"
   ]
  },
  {
   "cell_type": "markdown",
   "id": "3b176620-afb5-403c-9948-07639072bb44",
   "metadata": {},
   "source": [
    "Let's put everything together and save:"
   ]
  },
  {
   "cell_type": "code",
   "execution_count": 16,
   "id": "35d00b76-513d-4d8f-8824-6d810ee9d8f5",
   "metadata": {},
   "outputs": [],
   "source": [
    "clock_dict = {\n",
    "    # Metadata\n",
    "    'clock_name': clock_name,\n",
    "    'data_type': data_type,\n",
    "    'model_class': model_class,\n",
    "    'species': species,\n",
    "    'year': year,\n",
    "    'approved_by_author': approved_by_author,\n",
    "    'citation': citation,\n",
    "    'doi': doi,\n",
    "    \"notes\": notes,\n",
    "\n",
    "    # Data\n",
    "    'reference_feature_values': reference_feature_values if reference_feature_values else None,\n",
    "    'preprocessing': preprocessing if preprocessing else None, \n",
    "    'features': features,\n",
    "    'weight_dict': model.state_dict(),\n",
    "    'postprocessing': postprocessing if postprocessing else None,\n",
    "}\n",
    "\n",
    "torch.save(clock_dict, f'../weights/{clock_name}.pt')"
   ]
  },
  {
   "cell_type": "markdown",
   "id": "c1dd2efe-2bd6-4e1b-92ee-d110c25ad29c",
   "metadata": {},
   "source": [
    "## Clear directory"
   ]
  },
  {
   "cell_type": "markdown",
   "id": "158aa71f-7bbc-4c52-b7ef-16ba45d5e1fd",
   "metadata": {},
   "source": [
    "Delete all files that are not clock jupyter notebooks:"
   ]
  },
  {
   "cell_type": "code",
   "execution_count": 17,
   "id": "db4bd42b-c62f-4557-9ebc-d8194a240137",
   "metadata": {},
   "outputs": [
    {
     "name": "stdout",
     "output_type": "stream",
     "text": [
      "Deleted folder: MammalianMethylationPredictors\n",
      "Deleted folder: .ipynb_checkpoints\n"
     ]
    }
   ],
   "source": [
    "# Function to remove a folder and all its contents\n",
    "def remove_folder(path):\n",
    "    try:\n",
    "        shutil.rmtree(path)\n",
    "        print(f\"Deleted folder: {path}\")\n",
    "    except Exception as e:\n",
    "        print(f\"Error deleting folder {path}: {e}\")\n",
    "\n",
    "# Get a list of all files and folders in the current directory\n",
    "all_items = os.listdir('.')\n",
    "\n",
    "# Loop through the items\n",
    "for item in all_items:\n",
    "    # Check if it's a file and does not end with .ipynb\n",
    "    if os.path.isfile(item) and not item.endswith('.ipynb'):\n",
    "        os.remove(item)\n",
    "        print(f\"Deleted file: {item}\")\n",
    "    # Check if it's a folder\n",
    "    elif os.path.isdir(item):\n",
    "        remove_folder(item)"
   ]
  }
 ],
 "metadata": {
  "kernelspec": {
   "display_name": "Python 3",
   "language": "python",
   "name": "python3"
  },
  "language_info": {
   "codemirror_mode": {
    "name": "ipython",
    "version": 3
   },
   "file_extension": ".py",
   "mimetype": "text/x-python",
   "name": "python",
   "nbconvert_exporter": "python",
   "pygments_lexer": "ipython3",
   "version": "3.9.17"
  }
 },
 "nbformat": 4,
 "nbformat_minor": 5
}

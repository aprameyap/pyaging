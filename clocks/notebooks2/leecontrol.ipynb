{
 "cells": [
  {
   "cell_type": "markdown",
   "id": "2f04eee0-5928-4e74-a754-6dc2e528810c",
   "metadata": {},
   "source": [
    "# LeeControl"
   ]
  },
  {
   "cell_type": "markdown",
   "id": "a3f514a3-772c-4a14-afdf-5a8376851ff4",
   "metadata": {},
   "source": [
    "## Index\n",
    "1. [Define required clock parameters](#Define-required-clock-parameters)\n",
    "2. [Download necessary data](#Download-necessary-data)\n",
    "3. [Load data](#-Load-data)\n",
    "4. [Extract features and weights](#Extract-features-and-weights)\n",
    "5. [Load weights into pyaging model](#Load-weights-into-pyaging-model)\n",
    "6. [Add reference values](#Add-reference-values)\n",
    "7. [Add preprocessing and postprocesssing steps](#Add-preprocessing-and-postprocesssing-steps)\n",
    "8. [Check all data objects](#Check-all-data-objects)\n",
    "9. [Write clock dictionary](#Write-clock-dictionary)\n",
    "10. [Clear directory](#Clear-directory)"
   ]
  },
  {
   "cell_type": "markdown",
   "id": "d95fafdc-643a-40ea-a689-200bd132e90c",
   "metadata": {},
   "source": [
    "Let's first import some packages:"
   ]
  },
  {
   "cell_type": "code",
   "execution_count": 1,
   "id": "4adfb4de-cd79-4913-a1af-9e23e9e236c9",
   "metadata": {},
   "outputs": [],
   "source": [
    "import os\n",
    "import marshal\n",
    "import shutil\n",
    "import json\n",
    "import torch\n",
    "import pandas as pd\n",
    "import pyaging as pya"
   ]
  },
  {
   "cell_type": "markdown",
   "id": "c8c0c937-d9b6-4756-99b0-91de591220e0",
   "metadata": {},
   "source": [
    "## Define required clock parameters"
   ]
  },
  {
   "cell_type": "markdown",
   "id": "cf95ddca-625e-4c70-a246-c3cb12df96f8",
   "metadata": {},
   "source": [
    "Let's define some required information first:"
   ]
  },
  {
   "cell_type": "code",
   "execution_count": 2,
   "id": "5281776d-0549-445f-beec-39c31ec7dbe1",
   "metadata": {},
   "outputs": [],
   "source": [
    "clock_name = 'leecontrol'\n",
    "data_type = 'methylation'\n",
    "model_class = 'LinearModel'\n",
    "species = 'Homo sapiens'\n",
    "year = 2019\n",
    "approved_by_author = '⌛'\n",
    "citation = \"Lee, Yunsung, et al. \\\"Placental epigenetic clocks: estimating gestational age using placental DNA methylation levels.\\\" Aging (Albany NY) 11.12 (2019): 4238.\"\n",
    "doi = \"https://doi.org/10.18632/aging.102049\"\n",
    "notes = None"
   ]
  },
  {
   "cell_type": "markdown",
   "id": "4520c8cb-6c1f-4490-ba4c-6fe78ef002a7",
   "metadata": {},
   "source": [
    "## Download necessary data"
   ]
  },
  {
   "cell_type": "markdown",
   "id": "f8d77386-a524-492b-a002-18d24b6ca49a",
   "metadata": {},
   "source": [
    "#### Download directly with curl"
   ]
  },
  {
   "cell_type": "code",
   "execution_count": 3,
   "id": "0003b39e-e032-4822-aff7-970583187d22",
   "metadata": {},
   "outputs": [
    {
     "data": {
      "text/plain": [
       "0"
      ]
     },
     "execution_count": 3,
     "metadata": {},
     "output_type": "execute_result"
    }
   ],
   "source": [
    "supplementary_url = \"https://www.aging-us.com/article/102049/supplementary/SD2/0/aging-v11i12-102049-supplementary-material-SD2.csv\"\n",
    "supplementary_file_name = \"coefficients.csv\"\n",
    "os.system(f\"curl -o {supplementary_file_name} {supplementary_url}\")"
   ]
  },
  {
   "cell_type": "markdown",
   "id": "35615b62-73ac-40b1-8bc1-e904403eb0ae",
   "metadata": {},
   "source": [
    "## Load data"
   ]
  },
  {
   "cell_type": "markdown",
   "id": "232eb94a-04a7-4ac4-ae3e-0e365b443a8e",
   "metadata": {},
   "source": [
    "#### From CSV file"
   ]
  },
  {
   "cell_type": "code",
   "execution_count": 4,
   "id": "45fbc051-f0d2-4b25-9813-ae126f6fedcb",
   "metadata": {},
   "outputs": [],
   "source": [
    "df = pd.read_csv('coefficients.csv')"
   ]
  },
  {
   "cell_type": "markdown",
   "id": "60c676db-2c7c-4c04-9457-97bccd598269",
   "metadata": {},
   "source": [
    "## Extract features and weights"
   ]
  },
  {
   "cell_type": "markdown",
   "id": "87dfda00-5182-4416-8eb1-de91ce2a9e48",
   "metadata": {},
   "source": [
    "First, let's extract the features and weights:"
   ]
  },
  {
   "cell_type": "code",
   "execution_count": 5,
   "id": "e1d1dd13-65ac-4694-8948-3cd94bc19fe1",
   "metadata": {},
   "outputs": [
    {
     "data": {
      "text/html": [
       "<div>\n",
       "<style scoped>\n",
       "    .dataframe tbody tr th:only-of-type {\n",
       "        vertical-align: middle;\n",
       "    }\n",
       "\n",
       "    .dataframe tbody tr th {\n",
       "        vertical-align: top;\n",
       "    }\n",
       "\n",
       "    .dataframe thead th {\n",
       "        text-align: right;\n",
       "    }\n",
       "</style>\n",
       "<table border=\"1\" class=\"dataframe\">\n",
       "  <thead>\n",
       "    <tr style=\"text-align: right;\">\n",
       "      <th></th>\n",
       "      <th>CpGs</th>\n",
       "      <th>Coefficient_RPC</th>\n",
       "      <th>Coefficient_CPC</th>\n",
       "      <th>Coefficient_refined_RPC</th>\n",
       "      <th>Coefficient_sex_classifier</th>\n",
       "      <th>feature</th>\n",
       "      <th>coefficient</th>\n",
       "    </tr>\n",
       "  </thead>\n",
       "  <tbody>\n",
       "    <tr>\n",
       "      <th>0</th>\n",
       "      <td>(Intercept)</td>\n",
       "      <td>24.997721</td>\n",
       "      <td>13.061820</td>\n",
       "      <td>30.749662</td>\n",
       "      <td>1.801244</td>\n",
       "      <td>(Intercept)</td>\n",
       "      <td>13.061820</td>\n",
       "    </tr>\n",
       "    <tr>\n",
       "      <th>3</th>\n",
       "      <td>cg00056066</td>\n",
       "      <td>0.859460</td>\n",
       "      <td>0.019747</td>\n",
       "      <td>0.167224</td>\n",
       "      <td>0.000000</td>\n",
       "      <td>cg00056066</td>\n",
       "      <td>0.019747</td>\n",
       "    </tr>\n",
       "    <tr>\n",
       "      <th>4</th>\n",
       "      <td>cg00057476</td>\n",
       "      <td>0.372323</td>\n",
       "      <td>0.782812</td>\n",
       "      <td>0.349374</td>\n",
       "      <td>0.000000</td>\n",
       "      <td>cg00057476</td>\n",
       "      <td>0.782812</td>\n",
       "    </tr>\n",
       "    <tr>\n",
       "      <th>6</th>\n",
       "      <td>cg00073090</td>\n",
       "      <td>-0.189317</td>\n",
       "      <td>-0.144981</td>\n",
       "      <td>-0.869781</td>\n",
       "      <td>0.000000</td>\n",
       "      <td>cg00073090</td>\n",
       "      <td>-0.144981</td>\n",
       "    </tr>\n",
       "    <tr>\n",
       "      <th>7</th>\n",
       "      <td>cg00083059</td>\n",
       "      <td>0.000000</td>\n",
       "      <td>-0.149133</td>\n",
       "      <td>0.000000</td>\n",
       "      <td>0.000000</td>\n",
       "      <td>cg00083059</td>\n",
       "      <td>-0.149133</td>\n",
       "    </tr>\n",
       "  </tbody>\n",
       "</table>\n",
       "</div>"
      ],
      "text/plain": [
       "          CpGs  Coefficient_RPC  Coefficient_CPC  Coefficient_refined_RPC  \\\n",
       "0  (Intercept)        24.997721        13.061820                30.749662   \n",
       "3   cg00056066         0.859460         0.019747                 0.167224   \n",
       "4   cg00057476         0.372323         0.782812                 0.349374   \n",
       "6   cg00073090        -0.189317        -0.144981                -0.869781   \n",
       "7   cg00083059         0.000000        -0.149133                 0.000000   \n",
       "\n",
       "   Coefficient_sex_classifier      feature  coefficient  \n",
       "0                    1.801244  (Intercept)    13.061820  \n",
       "3                    0.000000   cg00056066     0.019747  \n",
       "4                    0.000000   cg00057476     0.782812  \n",
       "6                    0.000000   cg00073090    -0.144981  \n",
       "7                    0.000000   cg00083059    -0.149133  "
      ]
     },
     "execution_count": 5,
     "metadata": {},
     "output_type": "execute_result"
    }
   ],
   "source": [
    "df['feature'] = df['CpGs']\n",
    "df['coefficient'] = df['Coefficient_CPC']\n",
    "df = df[df.coefficient != 0]\n",
    "\n",
    "df.head()"
   ]
  },
  {
   "cell_type": "markdown",
   "id": "5ac5b42a-3bd9-49d3-b84e-79d236af24b4",
   "metadata": {},
   "source": [
    "Then, let's create lists for features and weights. Be careful about the intercept, as it usually shows up as a feature name."
   ]
  },
  {
   "cell_type": "code",
   "execution_count": 6,
   "id": "2fc06bb5-7e9c-46fd-9843-31880f1d3788",
   "metadata": {},
   "outputs": [],
   "source": [
    "features = df['feature'][1:].tolist()\n",
    "weights = torch.tensor(df['coefficient'][1:].tolist()).unsqueeze(0)\n",
    "intercept = torch.tensor([df['coefficient'][0]])"
   ]
  },
  {
   "cell_type": "markdown",
   "id": "d193ccbf-d06b-49bb-ad4b-ffe3271dea63",
   "metadata": {},
   "source": [
    "## Load weights into pyaging model"
   ]
  },
  {
   "cell_type": "markdown",
   "id": "4350119a-4bd4-4efa-85b5-9de70fdf496f",
   "metadata": {},
   "source": [
    "#### Linear model"
   ]
  },
  {
   "cell_type": "code",
   "execution_count": 7,
   "id": "7354c541-5af9-447d-a339-2cb88c253b41",
   "metadata": {},
   "outputs": [
    {
     "data": {
      "text/plain": [
       "LinearModel(\n",
       "  (linear): Linear(in_features=546, out_features=1, bias=True)\n",
       ")"
      ]
     },
     "execution_count": 7,
     "metadata": {},
     "output_type": "execute_result"
    }
   ],
   "source": [
    "model = pya.models.LinearModel(input_dim=len(features))\n",
    "\n",
    "model.linear.weight.data = weights.float()\n",
    "model.linear.bias.data = intercept.float()\n",
    "\n",
    "model"
   ]
  },
  {
   "cell_type": "markdown",
   "id": "06adc9d8-cec2-447d-8d0b-e2819d4c1a5b",
   "metadata": {},
   "source": [
    "## Add reference values"
   ]
  },
  {
   "cell_type": "markdown",
   "id": "84bf0205-f976-497b-a6a9-e4945c05cdb3",
   "metadata": {},
   "source": [
    "Some clocks have reference values in the case of missing features. It is also possible that these values are for preprocessing features rather than the clock features. Let's add a dictionary with the feature names as the keys."
   ]
  },
  {
   "cell_type": "code",
   "execution_count": 8,
   "id": "250dd50d-a175-45f3-913b-da87c50cb55c",
   "metadata": {},
   "outputs": [],
   "source": [
    "reference_feature_values = None"
   ]
  },
  {
   "cell_type": "markdown",
   "id": "c9b4fd10-797c-45bd-aa1a-65aed1deaf1c",
   "metadata": {},
   "source": [
    "## Add preprocessing and postprocesssing steps"
   ]
  },
  {
   "cell_type": "markdown",
   "id": "20649dc9-2b58-4c63-a48e-f8d7a4bb520b",
   "metadata": {},
   "source": [
    "The preprocessing and postprocessing objects are dictionaries with the following format, with all items required. It takes in x in the form of a numpy array."
   ]
  },
  {
   "cell_type": "code",
   "execution_count": 9,
   "id": "1d173005-fb63-43d5-bd9f-0b4fa2e240b1",
   "metadata": {},
   "outputs": [],
   "source": [
    "preprocessing = None"
   ]
  },
  {
   "cell_type": "markdown",
   "id": "3ca747b4-0214-40a1-a7bf-fbf2a71084af",
   "metadata": {},
   "source": [
    "Similarly is the case of postprocessing. Remember that your function must be compatible with torch and is applied to each number individually."
   ]
  },
  {
   "cell_type": "code",
   "execution_count": 10,
   "id": "6fe37a2c-113a-4517-91e4-10a4e8b2005a",
   "metadata": {},
   "outputs": [],
   "source": [
    "postprocessing = None"
   ]
  },
  {
   "cell_type": "markdown",
   "id": "594c6b47-1ec8-4a00-a760-0acebfeddd4b",
   "metadata": {},
   "source": [
    "## Check all data objects"
   ]
  },
  {
   "cell_type": "markdown",
   "id": "3e88a309-c066-44b4-913b-a66e1221a5d7",
   "metadata": {},
   "source": [
    "Let's print all data objects to check if they make sense."
   ]
  },
  {
   "cell_type": "markdown",
   "id": "8798b91a-2778-4f81-81d0-cb9c80514b5a",
   "metadata": {},
   "source": [
    "#### features"
   ]
  },
  {
   "cell_type": "code",
   "execution_count": 11,
   "id": "bf047bed-52f0-4a64-9691-4c04df9f50ec",
   "metadata": {},
   "outputs": [
    {
     "data": {
      "text/html": [
       "\n",
       "    <div style=\"overflow-x: scroll; overflow-y: scroll; border: 1px solid black; background-color: white; !important; color: black; !important;\">\n",
       "        <pre>There are 546 features.\n",
       "['cg00056066', 'cg00057476', 'cg00073090', 'cg00083059', 'cg00091483', 'cg00108098', 'cg00112465', 'cg00173659', 'cg00173799', 'cg00253398', 'cg00307685', 'cg00378510', 'cg00400547', 'cg00419702', 'cg00423969', 'cg00451105', 'cg00466827', 'cg00521434', 'cg00530564', 'cg00604454', 'cg00639010', 'cg00705661', 'cg00896578', 'cg00898013', 'cg00971110', 'cg01075918', 'cg01079860', 'cg01152073', 'cg01164202', 'cg01233392', 'cg01307115', 'cg01333011', 'cg01342746', 'cg01397912', 'cg01448132', 'cg01682784', 'cg01691182', 'cg01709677', 'cg01718116', 'cg01735082', 'cg01748414', 'cg01768926', 'cg01824511', 'cg01904393', 'cg01979888', 'cg02012338', 'cg02098565', 'cg02168857', 'cg02248037', 'cg02252421', 'cg02266500', 'cg02288791', 'cg02292263', 'cg02357404', 'cg02360514', 'cg02366228', 'cg02376097', 'cg02388882', 'cg02399044', 'cg02399571', 'cg02463440', 'cg02481256', 'cg02492818', 'cg02657611', 'cg02690256', 'cg02737268', 'cg02789362', 'cg02795629', 'cg02819828', 'cg02955631', 'cg02957094', 'cg03022050', 'cg03079497', 'cg03117976', 'cg03120116', 'cg03141090', 'cg03361973', 'cg03441945', 'cg03477252', 'cg03543893', 'cg03578464', 'cg03603214', 'cg03607359', 'cg03634778', 'cg03655174', 'cg03730703', 'cg03732020', 'cg03778669', 'cg03789420', 'cg03867465', 'cg03930369', 'cg03965044', 'cg03974689', 'cg03979241', 'cg03989020', 'cg04006042', 'cg04012797', 'cg04035553', 'cg04046945', 'cg04149585', 'cg04154825', 'cg04191989', 'cg04271289', 'cg04387835', 'cg04390523', 'cg04448141', 'cg04452040', 'cg04489548', 'cg04498198', 'cg04507915', 'cg04689080', 'cg04793989', 'cg04912999', 'cg05003175', 'cg05022378', 'cg05084827', 'cg05097579', 'cg05098880', 'cg05128194', 'cg05169312', 'cg05199503', 'cg05200057', 'cg05283184', 'cg05304393', 'cg05308656', 'cg05321252', 'cg05355436', 'cg05393023', 'cg05498905', 'cg05689413', 'cg05740575', 'cg05761882', 'cg05875982', 'cg05898881', 'cg06013117', 'cg06095093', 'cg06171787', 'cg06191390', 'cg06285648', 'cg06300141', 'cg06327515', 'cg06447795', 'cg06566039', 'cg06636938', 'cg06638529', 'cg06653796', 'cg06735598', 'cg06747745', 'cg06784691', 'cg06799979', 'cg06847828', 'cg06848775', 'cg06903010', 'cg06911238', 'cg06960461', 'cg06974871', 'cg07025505', 'cg07056242', 'cg07083023', 'cg07127762', 'cg07152001', 'cg07176589', 'cg07180988', 'cg07191594', 'cg07315234', 'cg07550331', 'cg07571202', 'cg07591186', 'cg07756635', 'cg07760794', 'cg07847030', 'cg07991112', 'cg08006309', 'cg08016257', 'cg08016383', 'cg08126798', 'cg08235984', 'cg08269911', 'cg08276042', 'cg08289409', 'cg08367801', 'cg08369368', 'cg08486180', 'cg08569850', 'cg08680528', 'cg08718490', 'cg08787268', 'cg08804892', 'cg08811314', 'cg08881019', 'cg08885224', 'cg08920210', 'cg08942342', 'cg08954353', 'cg08957484', 'cg08978665', 'cg08988364', 'cg09015905', 'cg09079580', 'cg09180564', 'cg09267815', 'cg09294095', 'cg09338032', 'cg09364122', 'cg09530108', 'cg09532898', 'cg09618893', 'cg09679939', 'cg09704168', 'cg09894284', 'cg09936400', 'cg10000096', 'cg10022966', 'cg10033475', 'cg10124440', 'cg10150962', 'cg10241183', 'cg10341154', 'cg10419556', 'cg10432569', 'cg10477905', 'cg10605064', 'cg10608230', 'cg10655499', 'cg10715223', 'cg10737521', 'cg10750182', 'cg10761804', 'cg10802414', 'cg10812708', 'cg10830713', 'cg10835286', 'cg10835651', 'cg10991599', 'cg11070260', 'cg11144229', 'cg11228758', 'cg11284797', 'cg11387705', 'cg11410882', 'cg11421724', 'cg11444704', 'cg11516031', 'cg11547667', 'cg11569478', 'cg11710211', 'cg11798873', 'cg11841722', 'cg11847543', 'cg11861562', 'cg11908202', 'cg11929154', 'cg11953334', 'cg11977686', 'cg11999255', 'cg12013591', 'cg12016792', 'cg12094174', 'cg12140144', 'cg12195314', 'cg12269002', 'cg12495801', 'cg12498094', 'cg12570716', 'cg12577850', 'cg12608727', 'cg12646820', 'cg12654412', 'cg12685753', 'cg12708994', 'cg12992268', 'cg13031611', 'cg13191008', 'cg13274014', 'cg13315047', 'cg13324057', 'cg13342364', 'cg13355704', 'cg13399714', 'cg13427473', 'cg13474998', 'cg13485703', 'cg13511000', 'cg13561592', 'cg13612295', 'cg13613346', 'cg13673837', 'cg13742400', 'cg13850887', 'cg13862711', 'cg13896879', 'cg13942136', 'cg13995774', 'cg14042504', 'cg14065127', 'cg14118398', 'cg14185670', 'cg14188346', 'cg14230719', 'cg14239515', 'cg14304702', 'cg14319286', 'cg14324675', 'cg14326260', 'cg14377973', 'cg14381623', 'cg14430629', 'cg14436426', 'cg14471784', 'cg14479301', 'cg14519515', 'cg14576951', 'cg14590206', 'cg14602087', 'cg14689532', 'cg14730102', 'cg14823363', 'cg14830003', 'cg14834938', 'cg14861570', 'cg14880894', 'cg14938844', 'cg14971327', 'cg15190914', 'cg15239679', 'cg15279476', 'cg15366353', 'cg15429854', 'cg15490640', 'cg15506894', 'cg15556990', 'cg15751452', 'cg15873474', 'cg15881404', 'cg15899053', 'cg15914463', 'cg16047471', 'cg16058975', 'cg16076997', 'cg16153883', 'cg16154071', 'cg16225405', 'cg16330755', 'cg16369288', 'cg16373998', 'cg16400320', 'cg16405637', 'cg16567676', 'cg16592326', 'cg16594273', 'cg16602747', 'cg16658557', 'cg16706631', 'cg16901014', 'cg16928044', 'cg16970628', 'cg16977520', 'cg16992257', 'cg16992627', 'cg17064250', 'cg17100943', 'cg17160984', 'cg17217158', 'cg17222755', 'cg17378193', 'cg17428324', 'cg17434901', 'cg17452301', 'cg17483959', 'cg17485141', 'cg17557540', 'cg17631451', 'cg17658634', 'cg17816394', 'cg17819635', 'cg17864046', 'cg17959970', 'cg17982031', 'cg18007837', 'cg18025275', 'cg18037834', 'cg18050291', 'cg18054674', 'cg18236863', 'cg18299578', 'cg18351406', 'cg18372930', 'cg18405260', 'cg18414021', 'cg18474081', 'cg18505401', 'cg18610079', 'cg18617005', 'cg18652346', 'cg18685034', 'cg18736431', 'cg18744482', 'cg18771300', 'cg18781988', 'cg18835656', 'cg18836661', 'cg18840956', 'cg19045531', 'cg19092396', 'cg19102771', 'cg19222784', 'cg19291926', 'cg19306958', 'cg19497523', 'cg19611392', 'cg19671395', 'cg19708065', 'cg19831962', 'cg19850463', 'cg19867914', 'cg19904031', 'cg20004451', 'cg20012915', 'cg20246707', 'cg20397237', 'cg20428033', 'cg20435464', 'cg20510474', 'cg20916427', 'cg20987610', 'cg21034183', 'cg21057613', 'cg21073350', 'cg21135948', 'cg21190228', 'cg21199406', 'cg21216471', 'cg21222743', 'cg21252483', 'cg21276549', 'cg21467614', 'cg21698802', 'cg21719937', 'cg21755212', 'cg21818891', 'cg21824620', 'cg21843412', 'cg21849597', 'cg21912531', 'cg22073332', 'cg22141993', 'cg22193385', 'cg22222461', 'cg22253036', 'cg22354618', 'cg22448889', 'cg22460123', 'cg22556768', 'cg22569523', 'cg22626506', 'cg22692158', 'cg22792177', 'cg22797134', 'cg22816913', 'cg22872195', 'cg22877281', 'cg22947322', 'cg22955525', 'cg22977072', 'cg22995692', 'cg23023126', 'cg23031135', 'cg23044186', 'cg23211736', 'cg23330450', 'cg23344780', 'cg23349517', 'cg23466749', 'cg23698950', 'cg23722096', 'cg23831630', 'cg23845310', 'cg23916679', 'cg23951114', 'cg24067075', 'cg24069479', 'cg24326130', 'cg24336808', 'cg24357849', 'cg24474409', 'cg24498636', 'cg24670552', 'cg24696967', 'cg24744557', 'cg24771017', 'cg24773770', 'cg24832985', 'cg24865623', 'cg24903703', 'cg24998879', 'cg25147622', 'cg25252585', 'cg25298189', 'cg25310824', 'cg25437304', 'cg25486824', 'cg25616869', 'cg25631489', 'cg25681379', 'cg25696000', 'cg25722880', 'cg25854527', 'cg25927778', 'cg25996290', 'cg26031875', 'cg26057780', 'cg26110645', 'cg26122374', 'cg26159990', 'cg26224785', 'cg26249834', 'cg26336701', 'cg26378179', 'cg26404422', 'cg26427534', 'cg26502666', 'cg26580421', 'cg26682580', 'cg26732808', 'cg26787096', 'cg26867978', 'cg26890706', 'cg26910511', 'cg26917999', 'cg26955755', 'cg26971420', 'cg26989927', 'cg27106909', 'cg27109568', 'cg27128011', 'cg27168858', 'cg27182106', 'cg27261733', 'cg27304519', 'cg27340749', 'cg27353308', 'cg27403810', 'cg27428551', 'cg27598340', 'cg27645345', 'cg27645955']\n",
       "</pre>\n",
       "    </div>\n",
       "    "
      ],
      "text/plain": [
       "<IPython.core.display.HTML object>"
      ]
     },
     "metadata": {},
     "output_type": "display_data"
    }
   ],
   "source": [
    "def my_print_function():\n",
    "    print(f\"There are {len(features)} features.\")\n",
    "    print(features)\n",
    "pya.utils.print_to_scrollable_output(my_print_function)"
   ]
  },
  {
   "cell_type": "markdown",
   "id": "d83b261f-f438-4195-81c3-a1d7f78e577a",
   "metadata": {},
   "source": [
    "#### reference_feature_values"
   ]
  },
  {
   "cell_type": "code",
   "execution_count": 12,
   "id": "6436fd01-0a8e-41a5-b584-2c020136ff97",
   "metadata": {},
   "outputs": [
    {
     "data": {
      "text/html": [
       "\n",
       "    <div style=\"overflow-x: scroll; overflow-y: scroll; border: 1px solid black; background-color: white; !important; color: black; !important;\">\n",
       "        <pre>None\n",
       "</pre>\n",
       "    </div>\n",
       "    "
      ],
      "text/plain": [
       "<IPython.core.display.HTML object>"
      ]
     },
     "metadata": {},
     "output_type": "display_data"
    }
   ],
   "source": [
    "def my_print_function():\n",
    "    if reference_feature_values:\n",
    "        print(f\"There are {len(reference_feature_values)} reference feature values.\")\n",
    "    print(reference_feature_values)\n",
    "pya.utils.print_to_scrollable_output(my_print_function)"
   ]
  },
  {
   "cell_type": "markdown",
   "id": "51dd3f1a-0c06-446a-b1c5-efaba994fffe",
   "metadata": {},
   "source": [
    "#### preprocessing"
   ]
  },
  {
   "cell_type": "code",
   "execution_count": 13,
   "id": "960c5ede-3175-4192-a358-bf5ccb41074f",
   "metadata": {},
   "outputs": [
    {
     "data": {
      "text/html": [
       "\n",
       "    <div style=\"overflow-x: scroll; overflow-y: scroll; border: 1px solid black; background-color: white; !important; color: black; !important;\">\n",
       "        <pre>None\n",
       "</pre>\n",
       "    </div>\n",
       "    "
      ],
      "text/plain": [
       "<IPython.core.display.HTML object>"
      ]
     },
     "metadata": {},
     "output_type": "display_data"
    }
   ],
   "source": [
    "def my_print_function():\n",
    "    print(preprocessing)\n",
    "    if preprocessing:\n",
    "        print(preprocessing_helper_objects)\n",
    "pya.utils.print_to_scrollable_output(my_print_function)"
   ]
  },
  {
   "cell_type": "markdown",
   "id": "b362ec1c-6706-443e-9fc5-e2622c6f4795",
   "metadata": {},
   "source": [
    "#### postprocessing"
   ]
  },
  {
   "cell_type": "code",
   "execution_count": 14,
   "id": "40fe1f52-ad50-4b84-89c7-c5d1d3fff139",
   "metadata": {},
   "outputs": [
    {
     "data": {
      "text/html": [
       "\n",
       "    <div style=\"overflow-x: scroll; overflow-y: scroll; border: 1px solid black; background-color: white; !important; color: black; !important;\">\n",
       "        <pre>None\n",
       "</pre>\n",
       "    </div>\n",
       "    "
      ],
      "text/plain": [
       "<IPython.core.display.HTML object>"
      ]
     },
     "metadata": {},
     "output_type": "display_data"
    }
   ],
   "source": [
    "def my_print_function():\n",
    "    print(postprocessing)\n",
    "    if postprocessing:\n",
    "        print(postprocessing)\n",
    "pya.utils.print_to_scrollable_output(my_print_function)"
   ]
  },
  {
   "cell_type": "markdown",
   "id": "6addca77-d7b6-413f-9f29-b8cbc440380a",
   "metadata": {},
   "source": [
    "#### weight_dict"
   ]
  },
  {
   "cell_type": "code",
   "execution_count": 15,
   "id": "658317e5-44bd-4621-877c-5db57494c968",
   "metadata": {},
   "outputs": [
    {
     "data": {
      "text/html": [
       "\n",
       "    <div style=\"overflow-x: scroll; overflow-y: scroll; border: 1px solid black; background-color: white; !important; color: black; !important;\">\n",
       "        <pre>Layer: linear.weight\n",
       "Shape: torch.Size([1, 546])\n",
       "tensor([[ 1.9747e-02,  7.8281e-01, -1.4498e-01, -1.4913e-01,  9.3984e-01,\n",
       "          1.0554e-01, -8.0624e-02, -5.3688e-01,  1.4657e-02, -2.6147e-01,\n",
       "          1.3377e-01,  2.0335e-01,  8.5010e-01, -4.6809e-02,  2.0182e-01,\n",
       "         -2.3556e-01,  1.6915e-01,  2.1716e+00,  1.0526e+00,  1.9727e-01,\n",
       "         -2.9012e+00, -2.7028e+00, -3.4799e-01,  1.5079e-01,  8.4753e-02,\n",
       "         -9.2599e-01,  3.7680e-02, -5.4949e+00,  4.3557e-04,  8.5161e-01,\n",
       "          6.9652e-01, -2.1197e-01,  4.0384e-01, -2.3629e-01, -5.8018e-01,\n",
       "         -3.0061e-01, -6.3267e-02,  1.6281e+00,  5.0773e-02,  3.0255e-01,\n",
       "          7.0627e-02, -1.7773e-01,  2.8774e-01,  2.9207e+00,  5.6516e-01,\n",
       "         -2.3725e-01, -1.1841e-02,  3.9935e-01,  2.3527e-01, -1.8837e-01,\n",
       "         -3.3734e-01,  8.4158e-02,  5.7098e-01,  3.8593e-01,  8.1638e-01,\n",
       "         -3.6220e-01,  8.4211e-01,  5.5931e-01, -8.8217e-01,  4.0023e-01,\n",
       "         -9.2449e-03,  1.9546e-01, -2.4953e-01,  7.5055e-01, -1.4156e-01,\n",
       "         -6.5760e-01,  1.1291e-01,  3.0652e-01, -2.8160e-02, -2.7202e-02,\n",
       "          1.1204e-01,  3.4269e-01, -4.6379e-01,  3.0022e-01, -7.9804e-02,\n",
       "         -2.3911e-01, -6.0181e-01,  3.4677e-01, -3.0831e-01, -1.6831e-01,\n",
       "         -5.7651e-01, -3.5392e-01, -1.9954e-03, -1.2715e-01, -5.7726e-01,\n",
       "          5.2378e-01, -3.0635e-01,  3.8135e-01, -5.4214e-01,  8.7866e-02,\n",
       "         -1.3017e-01, -1.0765e+01,  1.4054e+00,  9.0646e-01, -3.3168e-01,\n",
       "          1.8096e+00, -4.0210e-02, -1.2629e-01,  1.8870e-01,  3.8520e-01,\n",
       "         -2.0564e-01, -8.2870e-02, -2.4034e-01,  9.1823e-03, -3.2748e+00,\n",
       "         -9.2484e-02,  1.1392e-01,  2.8469e-01,  2.5441e-02,  1.1335e-01,\n",
       "         -2.1187e+00, -4.0747e-02, -3.7076e-01, -4.5980e-02, -1.8722e-02,\n",
       "         -2.7490e-01,  5.7900e-02,  9.1415e-02, -1.9770e-01,  2.7319e-01,\n",
       "         -2.2169e-02,  4.3846e-01,  2.9760e-01,  2.2874e-01,  3.7845e-01,\n",
       "          4.1699e-01, -2.8365e-01,  1.0083e-02, -5.5977e-02, -7.4634e-01,\n",
       "         -1.6133e-01, -1.3282e-03,  1.3569e+00, -1.1956e-01,  4.0604e-01,\n",
       "          1.4740e+00,  2.2091e-02,  1.5270e-01, -1.3431e+00,  2.5969e-01,\n",
       "          1.6531e-01, -1.2435e+00,  1.4549e-01, -3.5533e-01,  5.6174e-02,\n",
       "         -5.3349e-01, -1.6878e-01, -3.3598e+00,  1.6799e+00,  6.2165e-01,\n",
       "          9.3768e-02,  9.8405e-01, -1.1689e-02, -8.7520e-03,  3.6583e-01,\n",
       "          4.6302e-01, -5.6597e-01, -6.4837e-01,  2.9208e-01, -4.5774e-02,\n",
       "          2.0444e-01, -3.0496e-01, -5.6573e-02,  1.2974e+00,  2.8397e-03,\n",
       "         -2.6991e-02, -5.7329e-02,  3.9516e-01,  2.0757e-02,  3.4135e-01,\n",
       "          1.5486e-01,  1.6032e-02, -1.6215e+00, -2.5288e+00,  7.9735e-02,\n",
       "         -2.5114e-03,  1.2477e-02,  3.2177e-01, -4.5417e-02,  3.2377e-01,\n",
       "          1.6603e-01,  2.7697e-01,  1.0064e-01, -2.4188e-01,  5.6455e-01,\n",
       "          1.8463e-03,  2.7637e-01,  5.8268e-01,  9.8077e-01, -5.0022e-02,\n",
       "          5.9277e-02,  4.1063e-01,  1.8460e-02,  4.0492e-01,  1.4734e-02,\n",
       "         -6.8577e-03,  1.6733e-02, -4.4078e-01,  4.0622e-01, -1.3790e-01,\n",
       "         -7.3771e-03, -1.1664e-01,  9.7996e-02, -1.6191e+00, -5.8377e-01,\n",
       "          5.3842e-01, -2.3704e-01, -2.4448e-02, -7.5068e-01, -4.2733e-01,\n",
       "         -4.1965e-01,  6.2906e-01, -1.4859e-01,  1.3132e-02,  4.8967e-01,\n",
       "         -7.9440e-04, -5.7977e-01, -4.9111e-01, -7.7326e-02, -3.8742e-01,\n",
       "         -2.4682e-02, -7.1491e-02, -6.2866e-01,  2.1314e-01, -1.7666e+00,\n",
       "         -8.9591e-02, -9.2898e-01,  1.4531e+00,  2.9594e-01,  4.7945e-02,\n",
       "          8.5209e-01,  6.6859e-01, -5.1809e-01,  2.4712e-01,  1.1418e-01,\n",
       "          1.8481e-01,  1.9352e-01, -5.8524e-02, -1.2047e-01,  2.9543e-02,\n",
       "          4.9752e-01,  1.0733e+00,  1.9512e-01, -7.9515e-03, -1.2717e+00,\n",
       "         -2.2304e-01, -6.0532e-01, -1.8353e+00,  1.1549e-01,  7.2588e-02,\n",
       "          6.0148e-02,  1.0750e+00, -1.5135e-01,  1.5713e-01,  9.4429e-03,\n",
       "          8.9531e-01, -1.8851e-02,  1.4971e-01,  2.6063e-02, -1.0157e+00,\n",
       "         -7.5086e-02, -4.8209e-01,  9.2437e-01, -3.0011e-01,  1.0378e-01,\n",
       "          5.1591e-01,  4.6664e-02, -2.9757e-02,  8.9948e-02, -3.9223e-01,\n",
       "         -1.3673e-01,  2.0697e-01,  4.7568e-02,  1.5179e+00, -7.0317e-02,\n",
       "         -1.4107e-02,  2.5995e+00, -1.7692e-01,  2.5746e-02, -5.9085e-02,\n",
       "          3.8579e-03,  1.1103e-01,  9.8283e-02, -6.3830e-01, -3.2009e-03,\n",
       "         -3.1522e-01, -1.4878e+00,  2.5170e-01, -9.9841e-02,  2.1091e-01,\n",
       "          4.0521e-01,  3.9558e-01, -8.5951e-01,  3.4749e-02, -6.9293e-01,\n",
       "         -5.9509e-03,  2.5261e+00, -3.6584e-01,  2.9388e-01,  2.4157e-01,\n",
       "         -9.2598e-01,  4.7908e-01, -3.2022e-01, -2.5587e-01,  1.1088e-01,\n",
       "          9.6307e-01,  1.9232e+00, -3.7977e-02, -2.4990e-01,  6.1589e-01,\n",
       "         -1.1959e+00,  1.6696e+01,  2.9228e-01,  4.5518e-02, -8.7432e-01,\n",
       "         -4.9895e-02,  3.8723e-01,  3.6267e-01,  2.1068e-01, -1.3076e+00,\n",
       "          2.7055e-01,  7.0012e-01,  8.3579e-02,  1.4705e-01, -3.4274e-01,\n",
       "          9.5384e-02, -3.2204e-01,  3.9426e-01,  3.6518e-01,  5.6155e-01,\n",
       "          3.1795e-01, -1.7458e-01, -1.5435e-01,  5.8259e-01,  7.6246e-02,\n",
       "          6.0520e-01,  1.3292e+00, -8.2534e-03,  1.3019e-01,  1.5631e-01,\n",
       "          7.9068e-01, -1.5496e-01,  1.0618e+00, -3.0238e-01,  1.9570e-01,\n",
       "         -2.8116e-01,  1.9271e-02,  3.6387e-01,  5.9443e-02,  1.7203e-02,\n",
       "          4.2637e-01, -1.6656e-01, -8.5670e-01,  5.0335e-02, -4.8820e+00,\n",
       "          1.7763e-01, -3.3336e-02,  4.4755e-01, -1.7800e+00,  4.4471e-01,\n",
       "          7.4561e-02,  1.3993e-01, -1.6408e-01,  6.5630e-01, -1.1455e-01,\n",
       "         -6.0984e-02, -2.2408e-01, -1.6069e+00, -1.4957e+00,  1.3405e+00,\n",
       "         -1.6118e-01, -1.7116e+00,  3.2182e-02,  5.0675e-02,  8.7135e-01,\n",
       "         -7.0480e-02,  1.4650e-02,  3.4411e-03, -2.8227e-01, -4.7644e-01,\n",
       "          3.9397e-01, -2.9082e-02, -5.7687e-03,  4.5038e-01,  1.3927e-01,\n",
       "          2.1645e-01,  1.5794e+00,  2.8934e+00,  1.1752e+00,  6.6037e-02,\n",
       "          1.4569e-02,  1.1840e-01,  4.1437e-01, -4.2607e-02,  6.8452e-02,\n",
       "          7.8782e-03, -6.2055e-02,  2.6862e-01,  2.0571e-01,  8.7759e-02,\n",
       "          6.4263e-02,  1.2222e-01,  1.2073e-01, -1.1906e-01, -4.1430e-02,\n",
       "          2.8062e-02,  7.8912e-01, -1.1778e-02,  3.3746e-01,  1.6196e-02,\n",
       "          4.3876e-02, -4.9905e-01,  1.4212e-01,  1.3177e-01,  1.4807e-01,\n",
       "          4.8150e-01,  1.2586e+00, -1.4019e-01,  5.3643e-01,  2.4136e-01,\n",
       "          3.8275e-02,  3.0837e-01,  2.1888e-02, -1.8587e-02,  2.7327e-01,\n",
       "          2.2416e-01, -1.6561e+00,  1.3844e-02,  3.6477e+00,  3.6573e-01,\n",
       "         -1.1625e-01,  9.8048e-02, -4.7594e-01,  4.3410e-01, -6.3234e-01,\n",
       "         -1.3469e+00,  1.8155e-01,  2.1223e-02, -6.4763e-01, -1.0479e+00,\n",
       "          3.9684e-01, -2.0813e-01,  9.0856e-01, -1.0919e-01,  1.0089e+00,\n",
       "         -1.1868e-01, -1.1738e+00,  9.3159e-01,  2.2549e+00, -6.4094e-02,\n",
       "         -1.7015e-02, -1.2812e+00, -3.6065e-01,  7.0119e-01, -1.5216e-01,\n",
       "          2.2485e-02, -1.7395e-03,  1.0133e-01, -5.8107e-02,  2.7868e-01,\n",
       "         -6.6057e-01, -1.3167e+00, -2.7838e-01,  2.2043e-01, -1.0047e-01,\n",
       "         -6.6231e-01, -1.1447e-01, -1.3923e+00, -8.2251e-01,  9.4009e-02,\n",
       "         -3.5667e-02,  7.9028e-02, -7.9707e-02, -4.4278e-02, -1.8220e-01,\n",
       "         -3.8446e-02, -2.8976e-01, -6.7335e-02, -2.5469e-02, -2.9283e-01,\n",
       "          1.1565e+00, -2.7655e-01, -6.2180e-02, -6.9132e-01,  6.2222e-01,\n",
       "         -1.8268e-01,  1.1975e-01,  2.9530e-01, -1.0038e-01,  4.1293e-01,\n",
       "          3.2859e-01, -3.4862e-01, -2.4333e+00,  9.8358e+00,  2.1286e+00,\n",
       "          3.2414e-02,  3.0296e+00, -2.1015e+00,  1.7054e-01, -7.6804e-02,\n",
       "          1.2055e-01, -5.5278e-01, -1.3745e+00,  5.1322e-02,  2.8988e-02,\n",
       "         -5.2801e-02, -1.3874e-03,  1.5154e-02, -2.2837e-03,  5.3658e-01,\n",
       "         -2.4440e+00,  7.7079e-01,  2.3826e-01,  1.1938e+00, -3.5671e-01,\n",
       "         -3.9410e-01,  3.5145e-01,  4.0280e-02, -1.6958e-01, -2.1709e-01,\n",
       "          2.2432e-01,  6.0457e-02,  3.0200e-02, -1.4450e-02, -5.3293e-01,\n",
       "         -2.4247e-01,  6.5573e-02,  1.5087e-02,  4.3629e-02, -6.2420e-01,\n",
       "         -4.0828e-01, -9.9503e-01, -2.5971e-01, -4.9322e-02, -1.2445e-01,\n",
       "          2.8101e-01,  2.3985e-01, -3.9131e-01,  1.8618e-02, -8.5858e-01,\n",
       "          9.0407e-01,  2.1635e-01,  3.3299e-01, -1.9530e+00,  4.0024e-01,\n",
       "          4.5947e-01]])\n",
       "Layer: linear.bias\n",
       "Shape: torch.Size([1])\n",
       "tensor([13.0618])\n",
       "</pre>\n",
       "    </div>\n",
       "    "
      ],
      "text/plain": [
       "<IPython.core.display.HTML object>"
      ]
     },
     "metadata": {},
     "output_type": "display_data"
    }
   ],
   "source": [
    "def my_print_function():\n",
    "    for name, param in model.named_parameters():\n",
    "        print(f\"Layer: {name}\")\n",
    "        print(f\"Shape: {param.shape}\")\n",
    "        print(param.data)\n",
    "pya.utils.print_to_scrollable_output(my_print_function)"
   ]
  },
  {
   "cell_type": "markdown",
   "id": "275815e5-5630-4163-bc61-7119a9c805c1",
   "metadata": {},
   "source": [
    "## Write clock dictionary"
   ]
  },
  {
   "cell_type": "markdown",
   "id": "3b176620-afb5-403c-9948-07639072bb44",
   "metadata": {},
   "source": [
    "Let's put everything together and save:"
   ]
  },
  {
   "cell_type": "code",
   "execution_count": 16,
   "id": "35d00b76-513d-4d8f-8824-6d810ee9d8f5",
   "metadata": {},
   "outputs": [],
   "source": [
    "clock_dict = {\n",
    "    # Metadata\n",
    "    'clock_name': clock_name,\n",
    "    'data_type': data_type,\n",
    "    'model_class': model_class,\n",
    "    'species': species,\n",
    "    'year': year,\n",
    "    'approved_by_author': approved_by_author,\n",
    "    'citation': citation,\n",
    "    'doi': doi,\n",
    "    \"notes\": notes,\n",
    "\n",
    "    # Data\n",
    "    'reference_feature_values': reference_feature_values if reference_feature_values else None,\n",
    "    'preprocessing': preprocessing if preprocessing else None, \n",
    "    'features': features,\n",
    "    'weight_dict': model.state_dict(),\n",
    "    'postprocessing': postprocessing if postprocessing else None,\n",
    "}\n",
    "\n",
    "torch.save(clock_dict, f'../weights/{clock_name}.pt')"
   ]
  },
  {
   "cell_type": "markdown",
   "id": "c1dd2efe-2bd6-4e1b-92ee-d110c25ad29c",
   "metadata": {},
   "source": [
    "## Clear directory"
   ]
  },
  {
   "cell_type": "markdown",
   "id": "158aa71f-7bbc-4c52-b7ef-16ba45d5e1fd",
   "metadata": {},
   "source": [
    "Delete all files that are not clock jupyter notebooks:"
   ]
  },
  {
   "cell_type": "code",
   "execution_count": 17,
   "id": "db4bd42b-c62f-4557-9ebc-d8194a240137",
   "metadata": {},
   "outputs": [
    {
     "name": "stdout",
     "output_type": "stream",
     "text": [
      "Deleted file: coefficients.csv\n",
      "Deleted folder: .ipynb_checkpoints\n"
     ]
    }
   ],
   "source": [
    "# Function to remove a folder and all its contents\n",
    "def remove_folder(path):\n",
    "    try:\n",
    "        shutil.rmtree(path)\n",
    "        print(f\"Deleted folder: {path}\")\n",
    "    except Exception as e:\n",
    "        print(f\"Error deleting folder {path}: {e}\")\n",
    "\n",
    "# Get a list of all files and folders in the current directory\n",
    "all_items = os.listdir('.')\n",
    "\n",
    "# Loop through the items\n",
    "for item in all_items:\n",
    "    # Check if it's a file and does not end with .ipynb\n",
    "    if os.path.isfile(item) and not item.endswith('.ipynb'):\n",
    "        os.remove(item)\n",
    "        print(f\"Deleted file: {item}\")\n",
    "    # Check if it's a folder\n",
    "    elif os.path.isdir(item):\n",
    "        remove_folder(item)"
   ]
  }
 ],
 "metadata": {
  "kernelspec": {
   "display_name": "Python 3",
   "language": "python",
   "name": "python3"
  },
  "language_info": {
   "codemirror_mode": {
    "name": "ipython",
    "version": 3
   },
   "file_extension": ".py",
   "mimetype": "text/x-python",
   "name": "python",
   "nbconvert_exporter": "python",
   "pygments_lexer": "ipython3",
   "version": "3.9.17"
  }
 },
 "nbformat": 4,
 "nbformat_minor": 5
}

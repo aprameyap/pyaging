{
 "cells": [
  {
   "cell_type": "markdown",
   "id": "2f04eee0-5928-4e74-a754-6dc2e528810c",
   "metadata": {},
   "source": [
    "# Mammalian3"
   ]
  },
  {
   "cell_type": "markdown",
   "id": "a3f514a3-772c-4a14-afdf-5a8376851ff4",
   "metadata": {},
   "source": [
    "## Index\n",
    "1. [Define required clock parameters](#Define-required-clock-parameters)\n",
    "2. [Download necessary data](#Download-necessary-data)\n",
    "3. [Load data](#-Load-data)\n",
    "4. [Extract features and weights](#Extract-features-and-weights)\n",
    "5. [Load weights into pyaging model](#Load-weights-into-pyaging-model)\n",
    "6. [Add reference values](#Add-reference-values)\n",
    "7. [Add preprocessing and postprocesssing steps](#Add-preprocessing-and-postprocesssing-steps)\n",
    "8. [Check all data objects](#Check-all-data-objects)\n",
    "9. [Write clock dictionary](#Write-clock-dictionary)\n",
    "10. [Clear directory](#Clear-directory)"
   ]
  },
  {
   "cell_type": "markdown",
   "id": "d95fafdc-643a-40ea-a689-200bd132e90c",
   "metadata": {},
   "source": [
    "Let's first import some packages:"
   ]
  },
  {
   "cell_type": "code",
   "execution_count": 1,
   "id": "4adfb4de-cd79-4913-a1af-9e23e9e236c9",
   "metadata": {},
   "outputs": [],
   "source": [
    "import os\n",
    "import marshal\n",
    "import shutil\n",
    "import json\n",
    "import torch\n",
    "import pandas as pd\n",
    "import pyaging as pya"
   ]
  },
  {
   "cell_type": "markdown",
   "id": "c8c0c937-d9b6-4756-99b0-91de591220e0",
   "metadata": {},
   "source": [
    "## Define required clock parameters"
   ]
  },
  {
   "cell_type": "markdown",
   "id": "cf95ddca-625e-4c70-a246-c3cb12df96f8",
   "metadata": {},
   "source": [
    "Let's define some required information first:"
   ]
  },
  {
   "cell_type": "code",
   "execution_count": 2,
   "id": "5281776d-0549-445f-beec-39c31ec7dbe1",
   "metadata": {},
   "outputs": [],
   "source": [
    "clock_name = 'mammalian3'\n",
    "data_type = 'methylation'\n",
    "model_class = 'LinearModel'\n",
    "species = 'multi'\n",
    "year = 2023\n",
    "approved_by_author = '⌛'\n",
    "citation = \"Lu, A. T., et al. \\\"Universal DNA methylation age across mammalian tissues.\\\" Nature aging 3.9 (2023): 1144-1166.\"\n",
    "doi = \"https://doi.org/10.1038/s43587-023-00462-6\"\n",
    "notes = \"This is the log-linear age predictor from the paper. To convert the units of DNAm age, then the age of puberty for the reverse transformation must be known for each species\""
   ]
  },
  {
   "cell_type": "markdown",
   "id": "4520c8cb-6c1f-4490-ba4c-6fe78ef002a7",
   "metadata": {},
   "source": [
    "## Download necessary data"
   ]
  },
  {
   "cell_type": "markdown",
   "id": "4ccae25e-7d7f-45da-8e8a-064a66dc52fa",
   "metadata": {},
   "source": [
    "#### Download GitHub repository"
   ]
  },
  {
   "cell_type": "code",
   "execution_count": 3,
   "id": "a2a5b60e-ff7f-4b24-b1c6-61cda8948310",
   "metadata": {},
   "outputs": [
    {
     "data": {
      "text/plain": [
       "0"
      ]
     },
     "execution_count": 3,
     "metadata": {},
     "output_type": "execute_result"
    }
   ],
   "source": [
    "github_url = \"https://github.com/shorvath/MammalianMethylationConsortium.git\"\n",
    "github_folder_name = github_url.split('/')[-1].split('.')[0]\n",
    "os.system(f\"git clone {github_url}\")"
   ]
  },
  {
   "cell_type": "markdown",
   "id": "35615b62-73ac-40b1-8bc1-e904403eb0ae",
   "metadata": {},
   "source": [
    "## Load data"
   ]
  },
  {
   "cell_type": "markdown",
   "id": "232eb94a-04a7-4ac4-ae3e-0e365b443a8e",
   "metadata": {},
   "source": [
    "#### From CSV file"
   ]
  },
  {
   "cell_type": "code",
   "execution_count": 4,
   "id": "45fbc051-f0d2-4b25-9813-ae126f6fedcb",
   "metadata": {},
   "outputs": [],
   "source": [
    "df = pd.read_csv('MammalianMethylationConsortium/UniversalPanMammalianClock/ClockParameters/clock3.csv')"
   ]
  },
  {
   "cell_type": "markdown",
   "id": "60c676db-2c7c-4c04-9457-97bccd598269",
   "metadata": {},
   "source": [
    "## Extract features and weights"
   ]
  },
  {
   "cell_type": "markdown",
   "id": "87dfda00-5182-4416-8eb1-de91ce2a9e48",
   "metadata": {},
   "source": [
    "First, let's extract the features and weights:"
   ]
  },
  {
   "cell_type": "code",
   "execution_count": 5,
   "id": "e1d1dd13-65ac-4694-8948-3cd94bc19fe1",
   "metadata": {},
   "outputs": [
    {
     "data": {
      "text/html": [
       "<div>\n",
       "<style scoped>\n",
       "    .dataframe tbody tr th:only-of-type {\n",
       "        vertical-align: middle;\n",
       "    }\n",
       "\n",
       "    .dataframe tbody tr th {\n",
       "        vertical-align: top;\n",
       "    }\n",
       "\n",
       "    .dataframe thead th {\n",
       "        text-align: right;\n",
       "    }\n",
       "</style>\n",
       "<table border=\"1\" class=\"dataframe\">\n",
       "  <thead>\n",
       "    <tr style=\"text-align: right;\">\n",
       "      <th></th>\n",
       "      <th>index</th>\n",
       "      <th>var</th>\n",
       "      <th>beta_clock3</th>\n",
       "      <th>feature</th>\n",
       "      <th>coefficient</th>\n",
       "    </tr>\n",
       "  </thead>\n",
       "  <tbody>\n",
       "    <tr>\n",
       "      <th>0</th>\n",
       "      <td>1</td>\n",
       "      <td>Intercept</td>\n",
       "      <td>-6.356772</td>\n",
       "      <td>Intercept</td>\n",
       "      <td>-6.356772</td>\n",
       "    </tr>\n",
       "    <tr>\n",
       "      <th>1</th>\n",
       "      <td>2</td>\n",
       "      <td>cg00101675</td>\n",
       "      <td>-0.101354</td>\n",
       "      <td>cg00101675</td>\n",
       "      <td>-0.101354</td>\n",
       "    </tr>\n",
       "    <tr>\n",
       "      <th>2</th>\n",
       "      <td>3</td>\n",
       "      <td>cg06259996</td>\n",
       "      <td>0.045149</td>\n",
       "      <td>cg06259996</td>\n",
       "      <td>0.045149</td>\n",
       "    </tr>\n",
       "    <tr>\n",
       "      <th>3</th>\n",
       "      <td>4</td>\n",
       "      <td>cg08938156</td>\n",
       "      <td>0.663272</td>\n",
       "      <td>cg08938156</td>\n",
       "      <td>0.663272</td>\n",
       "    </tr>\n",
       "    <tr>\n",
       "      <th>4</th>\n",
       "      <td>5</td>\n",
       "      <td>cg15168457</td>\n",
       "      <td>0.766234</td>\n",
       "      <td>cg15168457</td>\n",
       "      <td>0.766234</td>\n",
       "    </tr>\n",
       "  </tbody>\n",
       "</table>\n",
       "</div>"
      ],
      "text/plain": [
       "   index         var  beta_clock3     feature  coefficient\n",
       "0      1   Intercept    -6.356772   Intercept    -6.356772\n",
       "1      2  cg00101675    -0.101354  cg00101675    -0.101354\n",
       "2      3  cg06259996     0.045149  cg06259996     0.045149\n",
       "3      4  cg08938156     0.663272  cg08938156     0.663272\n",
       "4      5  cg15168457     0.766234  cg15168457     0.766234"
      ]
     },
     "execution_count": 5,
     "metadata": {},
     "output_type": "execute_result"
    }
   ],
   "source": [
    "df['feature'] = df['var']\n",
    "df['coefficient'] = df['beta_clock3']\n",
    "\n",
    "df.head()"
   ]
  },
  {
   "cell_type": "markdown",
   "id": "5ac5b42a-3bd9-49d3-b84e-79d236af24b4",
   "metadata": {},
   "source": [
    "Then, let's create lists for features and weights. Be careful about the intercept, as it usually shows up as a feature name."
   ]
  },
  {
   "cell_type": "code",
   "execution_count": 6,
   "id": "2fc06bb5-7e9c-46fd-9843-31880f1d3788",
   "metadata": {},
   "outputs": [],
   "source": [
    "features = df['feature'][1:].tolist()\n",
    "weights = torch.tensor(df['coefficient'][1:].tolist()).unsqueeze(0)\n",
    "intercept = torch.tensor([df['coefficient'][0]])"
   ]
  },
  {
   "cell_type": "markdown",
   "id": "d193ccbf-d06b-49bb-ad4b-ffe3271dea63",
   "metadata": {},
   "source": [
    "## Load weights into pyaging model"
   ]
  },
  {
   "cell_type": "markdown",
   "id": "4350119a-4bd4-4efa-85b5-9de70fdf496f",
   "metadata": {},
   "source": [
    "#### Linear model"
   ]
  },
  {
   "cell_type": "code",
   "execution_count": 7,
   "id": "7354c541-5af9-447d-a339-2cb88c253b41",
   "metadata": {},
   "outputs": [
    {
     "data": {
      "text/plain": [
       "LinearModel(\n",
       "  (linear): Linear(in_features=760, out_features=1, bias=True)\n",
       ")"
      ]
     },
     "execution_count": 7,
     "metadata": {},
     "output_type": "execute_result"
    }
   ],
   "source": [
    "model = pya.models.LinearModel(input_dim=len(features))\n",
    "\n",
    "model.linear.weight.data = weights.float()\n",
    "model.linear.bias.data = intercept.float()\n",
    "\n",
    "model"
   ]
  },
  {
   "cell_type": "markdown",
   "id": "06adc9d8-cec2-447d-8d0b-e2819d4c1a5b",
   "metadata": {},
   "source": [
    "## Add reference values"
   ]
  },
  {
   "cell_type": "markdown",
   "id": "84bf0205-f976-497b-a6a9-e4945c05cdb3",
   "metadata": {},
   "source": [
    "Some clocks have reference values in the case of missing features. It is also possible that these values are for preprocessing features rather than the clock features. Let's add a dictionary with the feature names as the keys."
   ]
  },
  {
   "cell_type": "code",
   "execution_count": 8,
   "id": "250dd50d-a175-45f3-913b-da87c50cb55c",
   "metadata": {},
   "outputs": [],
   "source": [
    "reference_feature_values = None"
   ]
  },
  {
   "cell_type": "markdown",
   "id": "c9b4fd10-797c-45bd-aa1a-65aed1deaf1c",
   "metadata": {},
   "source": [
    "## Add preprocessing and postprocesssing steps"
   ]
  },
  {
   "cell_type": "markdown",
   "id": "20649dc9-2b58-4c63-a48e-f8d7a4bb520b",
   "metadata": {},
   "source": [
    "The preprocessing and postprocessing objects are dictionaries with the following format, with all items required. It takes in x in the form of a numpy array."
   ]
  },
  {
   "cell_type": "code",
   "execution_count": 9,
   "id": "1d173005-fb63-43d5-bd9f-0b4fa2e240b1",
   "metadata": {},
   "outputs": [],
   "source": [
    "preprocessing = None"
   ]
  },
  {
   "cell_type": "markdown",
   "id": "3ca747b4-0214-40a1-a7bf-fbf2a71084af",
   "metadata": {},
   "source": [
    "Similarly is the case of postprocessing. Remember that your function must be compatible with torch and is applied to each number individually."
   ]
  },
  {
   "cell_type": "code",
   "execution_count": 10,
   "id": "6fe37a2c-113a-4517-91e4-10a4e8b2005a",
   "metadata": {},
   "outputs": [],
   "source": [
    "postprocessing = None"
   ]
  },
  {
   "cell_type": "markdown",
   "id": "4bcce3b1-d006-40e3-b6cc-4e4ccc4f888b",
   "metadata": {},
   "source": [
    "## Check all data objects"
   ]
  },
  {
   "cell_type": "markdown",
   "id": "d90f4792-080b-4884-902c-7345d3f1c3b1",
   "metadata": {},
   "source": [
    "Let's print all data objects to check if they make sense."
   ]
  },
  {
   "cell_type": "markdown",
   "id": "6194ce0c-a7f9-4017-a6bc-137343739b47",
   "metadata": {},
   "source": [
    "#### features"
   ]
  },
  {
   "cell_type": "code",
   "execution_count": 11,
   "id": "bf047bed-52f0-4a64-9691-4c04df9f50ec",
   "metadata": {},
   "outputs": [
    {
     "data": {
      "text/html": [
       "\n",
       "    <div style=\"overflow-x: scroll; overflow-y: scroll; border: 1px solid black; background-color: white; !important; color: black; !important;\">\n",
       "        <pre>There are 760 features.\n",
       "['cg00101675', 'cg06259996', 'cg08938156', 'cg15168457', 'cg20370622', 'cg27593991', 'cg20146241', 'cg03747401', 'cg15403305', 'cg02692845', 'cg03679521', 'cg20236179', 'cg11700079', 'cg01910711', 'cg14880272', 'cg10501210', 'cg26844246', 'cg04889095', 'cg13532184', 'cg24312350', 'cg26603143', 'cg06482098', 'cg19927064', 'cg08180952', 'cg10040836', 'cg11686722', 'cg14297772', 'cg11857072', 'cg12501063', 'cg14136214', 'cg18168101', 'cg15330117', 'cg18418719', 'cg26845448', 'cg09474015', 'cg07727941', 'cg07991826', 'cg08510667', 'cg09606114', 'cg21102477', 'cg20023049', 'cg20804050', 'cg25383995', 'cg16717607', 'cg22454769', 'cg26148010', 'cg25066947', 'cg01019040', 'cg25467897', 'cg01998606', 'cg02828846', 'cg14172937', 'cg22338839', 'cg22844979', 'cg08681110', 'cg09362546', 'cg12325485', 'cg15229894', 'cg07423797', 'cg18060631', 'cg02499612', 'cg14865782', 'cg20212950', 'cg04847707', 'cg16867657', 'cg17266282', 'cg18468088', 'cg26781330', 'cg04186556', 'cg05911522', 'cg17201550', 'cg18573296', 'cg11128281', 'cg11664765', 'cg25622623', 'cg27495736', 'cg03708116', 'cg00900734', 'cg00535482', 'cg11666770', 'cg15547854', 'cg20265593', 'cg17049911', 'cg21084050', 'cg12815291', 'cg13496662', 'cg02041553', 'cg05191959', 'cg22113843', 'cg23754860', 'cg25210084', 'cg12651099', 'cg20076842', 'cg01150494', 'cg15571405', 'cg12756474', 'cg13057591', 'cg09710440', 'cg26917960', 'cg21390586', 'cg25140691', 'cg00310215', 'cg15809488', 'cg01486146', 'cg05575054', 'cg23087015', 'cg09461098', 'cg13909487', 'cg19591642', 'cg07005811', 'cg03663497', 'cg12053353', 'cg11025714', 'cg13753818', 'cg10644072', 'cg15746205', 'cg09227056', 'cg13233081', 'cg18141557', 'cg19711579', 'cg11084334', 'cg12841266', 'cg13702222', 'cg19981759', 'cg23449696', 'cg24866418', 'cg25731502', 'cg12428891', 'cg15741341', 'cg12880090', 'cg18304538', 'cg20615601', 'cg24352905', 'cg27088374', 'cg09817427', 'cg17215796', 'cg27072792', 'cg27201382', 'cg08563010', 'cg10466667', 'cg14903956', 'cg18894136', 'cg22069272', 'cg23415880', 'cg23985931', 'cg12879445', 'cg11235379', 'cg15437942', 'cg16454989', 'cg17856858', 'cg20766695', 'cg26312920', 'cg07547549', 'cg01846532', 'cg02766818', 'cg27698932', 'cg24707133', 'cg19719499', 'cg21132526', 'cg27507315', 'cg05704605', 'cg18963985', 'cg16554811', 'cg15855274', 'cg15702573', 'cg21815434', 'cg00650422', 'cg17369088', 'cg25055739', 'cg21602520', 'cg22416332', 'cg07292994', 'cg21673805', 'cg09809672', 'cg12338698', 'cg09984378', 'cg19368807', 'cg26589497', 'cg07373156', 'cg05039938', 'cg06997801', 'cg07172031', 'cg07564343', 'cg07932605', 'cg08651129', 'cg11677981', 'cg13589316', 'cg14361875', 'cg10810311', 'cg10916192', 'cg10930156', 'cg11214667', 'cg11407867', 'cg16286672', 'cg16367356', 'cg16636772', 'cg16745091', 'cg16981766', 'cg16376499', 'cg16624401', 'cg11438204', 'cg11516694', 'cg11864223', 'cg12307242', 'cg12685265', 'cg12981876', 'cg13188467', 'cg14397160', 'cg14728312', 'cg05111574', 'cg06799948', 'cg12642246', 'cg13916600', 'cg15182157', 'cg26869371', 'cg01938132', 'cg03247467', 'cg09360996', 'cg26294431', 'cg26363341', 'cg26736130', 'cg02963786', 'cg18535797', 'cg19414994', 'cg20221627', 'cg14412072', 'cg15810562', 'cg17041137', 'cg17356452', 'cg26581729', 'cg14517144', 'cg15597031', 'cg15686078', 'cg26102159', 'cg26120306', 'cg00467357', 'cg23778391', 'cg24148137', 'cg06156376', 'cg20635820', 'cg23128382', 'cg24653269', 'cg18169540', 'cg11254527', 'cg11672180', 'cg26014931', 'cg26081366', 'cg26234822', 'cg26472530', 'cg26659116', 'cg26879535', 'cg26885075', 'cg11217865', 'cg11327514', 'cg12394655', 'cg13242392', 'cg06828322', 'cg07069838', 'cg07081182', 'cg07265990', 'cg04204168', 'cg04366185', 'cg05544360', 'cg07056567', 'cg07323940', 'cg08074329', 'cg08570512', 'cg09108310', 'cg09784081', 'cg10042482', 'cg12156848', 'cg13301933', 'cg13953571', 'cg15296094', 'cg16697952', 'cg03820088', 'cg02456804', 'cg02681015', 'cg02800363', 'cg03420509', 'cg03521797', 'cg09557545', 'cg07774376', 'cg07881279', 'cg08040307', 'cg01797373', 'cg02287493', 'cg04103301', 'cg08446005', 'cg10381180', 'cg21102110', 'cg21180487', 'cg21197642', 'cg21278764', 'cg00454305', 'cg00871371', 'cg16925789', 'cg18094982', 'cg18679961', 'cg18743610', 'cg19195912', 'cg19271316', 'cg19584582', 'cg20059238', 'cg20391664', 'cg20621276', 'cg21621248', 'cg01137681', 'cg21246299', 'cg21839725', 'cg23567910', 'cg24080303', 'cg16816020', 'cg16960327', 'cg17267107', 'cg22354333', 'cg22409694', 'cg23287176', 'cg23405931', 'cg23692250', 'cg22703759', 'cg22943590', 'cg09642734', 'cg25072946', 'cg25172570', 'cg03942000', 'cg04111974', 'cg24787338', 'cg25430489', 'cg26476447', 'cg26957053', 'cg01153166', 'cg23423329', 'cg23687194', 'cg25699407', 'cg06147321', 'cg00258262', 'cg00493843', 'cg00694357', 'cg00935831', 'cg01169686', 'cg01648457', 'cg02034779', 'cg02172466', 'cg02270238', 'cg14472711', 'cg15408728', 'cg20100200', 'cg20422755', 'cg20896439', 'cg00096922', 'cg00195533', 'cg00399596', 'cg01053290', 'cg22146484', 'cg05207134', 'cg06721379', 'cg07332354', 'cg23274273', 'cg10711876', 'cg16701192', 'cg16848740', 'cg17455697', 'cg18691948', 'cg19111172', 'cg19296935', 'cg19319735', 'cg20726505', 'cg22454306', 'cg16986738', 'cg17116410', 'cg25326872', 'cg25906744', 'cg26748472', 'cg27035369', 'cg27069680', 'cg27208859', 'cg07978738', 'cg02007453', 'cg02177464', 'cg02471195', 'cg03588035', 'cg01038105', 'cg09061197', 'cg10609096', 'cg10710448', 'cg11997199', 'cg12945551', 'cg13182287', 'cg13884903', 'cg14299268', 'cg15471501', 'cg18188156', 'cg18851565', 'cg24393114', 'cg26062663', 'cg27299745', 'cg00114412', 'cg00975350', 'cg01566077', 'cg07800922', 'cg09200783', 'cg10707234', 'cg11275232', 'cg11690941', 'cg16582309', 'cg12648670', 'cg13959241', 'cg10487127', 'cg10792727', 'cg05901294', 'cg07459759', 'cg18502834', 'cg18635807', 'cg19691778', 'cg13802785', 'cg14023941', 'cg15340018', 'cg05916870', 'cg08522676', 'cg09008979', 'cg09010707', 'cg10278760', 'cg14701342', 'cg09939922', 'cg10128645', 'cg10426441', 'cg11108049', 'cg15600660', 'cg06807725', 'cg07071132', 'cg04902782', 'cg09716123', 'cg11124915', 'cg11742933', 'cg12591580', 'cg08375909', 'cg09462662', 'cg10677704', 'cg24597392', 'cg17905888', 'cg18419637', 'cg18433728', 'cg19707231', 'cg19719141', 'cg03320248', 'cg02968236', 'cg02322553', 'cg04725401', 'cg05052242', 'cg05401971', 'cg06059859', 'cg17718834', 'cg18481180', 'cg18543660', 'cg19291010', 'cg19411464', 'cg00296110', 'cg00422680', 'cg13153497', 'cg14116948', 'cg14360110', 'cg14794469', 'cg07900685', 'cg08396875', 'cg27052685', 'cg27435767', 'cg25530799', 'cg15301611', 'cg17783618', 'cg17820491', 'cg18918349', 'cg19109204', 'cg19323953', 'cg21351544', 'cg19051359', 'cg10801485', 'cg11355954', 'cg11458204', 'cg12818872', 'cg08026739', 'cg08160490', 'cg08538268', 'cg09009312', 'cg10013179', 'cg10439738', 'cg25073174', 'cg25468783', 'cg25960060', 'cg26154615', 'cg26420776', 'cg26512254', 'cg26973693', 'cg02040024', 'cg02273345', 'cg03513784', 'cg09176584', 'cg09453226', 'cg11215098', 'cg11610869', 'cg11948733', 'cg19663246', 'cg07499079', 'cg08849105', 'cg09482204', 'cg10324939', 'cg11803466', 'cg13608832', 'cg01712842', 'cg14991111', 'cg11488183', 'cg11541320', 'cg12314723', 'cg13935553', 'cg14237002', 'cg06158983', 'cg14676280', 'cg14738500', 'cg14988489', 'cg15444935', 'cg16390944', 'cg16545804', 'cg22067905', 'cg22100382', 'cg22267613', 'cg24713486', 'cg24856447', 'cg25034090', 'cg25943666', 'cg26653463', 'cg01409964', 'cg23207462', 'cg23627331', 'cg24488281', 'cg25118671', 'cg26709300', 'cg26922708', 'cg01309159', 'cg04533279', 'cg05261703', 'cg12421693', 'cg12425327', 'cg04787747', 'cg08909367', 'cg11417778', 'cg01061575', 'cg01594275', 'cg02042055', 'cg01063757', 'cg01429475', 'cg01990759', 'cg21871906', 'cg22057106', 'cg06250511', 'cg06878766', 'cg04368876', 'cg04706544', 'cg05801021', 'cg06571003', 'cg24952195', 'cg27208811', 'cg18024395', 'cg05736341', 'cg05844902', 'cg00817637', 'cg00900456', 'cg01036016', 'cg03225070', 'cg03225697', 'cg03856216', 'cg04363039', 'cg04998737', 'cg02532525', 'cg02909927', 'cg05474883', 'cg05584618', 'cg06679388', 'cg06679868', 'cg16391501', 'cg17357006', 'cg18974733', 'cg19090691', 'cg19275555', 'cg19425332', 'cg25651791', 'cg25905455', 'cg26616379', 'cg26920416', 'cg11252613', 'cg22234802', 'cg23089474', 'cg22866580', 'cg23053149', 'cg24924928', 'cg24975211', 'cg26072749', 'cg26598122', 'cg27294582', 'cg27430422', 'cg27492942', 'cg01352789', 'cg01450059', 'cg02184281', 'cg27547112', 'cg01301326', 'cg25410683', 'cg01631669', 'cg02376954', 'cg02753151', 'cg20424997', 'cg23869573', 'cg05817746', 'cg05866252', 'cg06004718', 'cg06244551', 'cg06392591', 'cg06413694', 'cg06607996', 'cg15254020', 'cg16571746', 'cg16764258', 'cg17437489', 'cg17516812', 'cg04707251', 'cg05243338', 'cg05322294', 'cg05359706', 'cg05535461', 'cg08402704', 'cg25139325', 'cg25278124', 'cg25323457', 'cg25687751', 'cg21633990', 'cg01772613', 'cg03163184', 'cg27228973', 'cg27245416', 'cg02553441', 'cg00587168', 'cg00643485', 'cg01571965', 'cg00489428', 'cg01209550', 'cg01293647', 'cg11642756', 'cg14443903', 'cg14919591', 'cg15237969', 'cg15253243', 'cg19296119', 'cg21883915', 'cg24504442', 'cg24866378', 'cg25381383', 'cg25771548', 'cg21907062', 'cg02553697', 'cg02658193', 'cg02783173', 'cg02953590', 'cg04577801', 'cg12713245', 'cg13058338', 'cg21086539', 'cg22144210', 'cg22825729', 'cg23059642', 'cg23126309', 'cg23510032', 'cg24024857', 'cg24638399', 'cg15701287', 'cg17114460', 'cg17417202', 'cg17542246', 'cg17554167', 'cg17942396', 'cg18223258', 'cg18281552', 'cg18814344', 'cg19683912', 'cg20432508', 'cg20453574', 'cg20945212', 'cg21482536', 'cg23320654', 'cg05844937', 'cg06472065', 'cg07476673', 'cg22188876', 'cg12382554', 'cg12813831', 'cg07388493', 'cg18349747', 'cg04996684', 'cg10945667', 'cg13294690', 'cg13943045', 'cg15425194', 'cg07014363', 'cg07987507', 'cg05456580', 'cg18987683', 'cg19054310', 'cg07875786', 'cg08212459', 'cg08662919', 'cg27300575', 'cg00689383', 'cg01224972', 'cg04080945', 'cg03626038', 'cg03909491', 'cg03917360', 'cg04817453', 'cg06736685', 'cg08378313', 'cg05750171', 'cg06197482', 'cg06459870', 'cg06461219', 'cg20140365', 'cg23783364', 'cg21510166', 'cg22063749', 'cg22414596', 'cg22667099', 'cg25195795', 'cg01759800', 'cg01975510', 'cg02073955', 'cg18221275', 'cg12923877', 'cg13581054', 'cg13705955', 'cg14258341', 'cg17829569', 'cg19604874', 'cg00292639', 'cg15546160', 'cg15913680', 'cg12449245', 'cg12967137', 'cg13313332', 'cg14006844', 'cg12830057', 'cg12965599', 'cg13655781', 'cg04228573', 'cg04353319', 'cg04404159', 'cg05506474', 'cg06386724', 'cg06391468', 'cg06493080', 'cg07493901', 'cg15405572', 'cg25639084', 'cg09161688']\n",
       "</pre>\n",
       "    </div>\n",
       "    "
      ],
      "text/plain": [
       "<IPython.core.display.HTML object>"
      ]
     },
     "metadata": {},
     "output_type": "display_data"
    }
   ],
   "source": [
    "def my_print_function():\n",
    "    print(f\"There are {len(features)} features.\")\n",
    "    print(features)\n",
    "pya.utils.print_to_scrollable_output(my_print_function)"
   ]
  },
  {
   "cell_type": "markdown",
   "id": "80dd87d6-f94f-47c0-bafa-b359b4ce41be",
   "metadata": {},
   "source": [
    "#### reference_feature_values"
   ]
  },
  {
   "cell_type": "code",
   "execution_count": 12,
   "id": "6436fd01-0a8e-41a5-b584-2c020136ff97",
   "metadata": {},
   "outputs": [
    {
     "data": {
      "text/html": [
       "\n",
       "    <div style=\"overflow-x: scroll; overflow-y: scroll; border: 1px solid black; background-color: white; !important; color: black; !important;\">\n",
       "        <pre>None\n",
       "</pre>\n",
       "    </div>\n",
       "    "
      ],
      "text/plain": [
       "<IPython.core.display.HTML object>"
      ]
     },
     "metadata": {},
     "output_type": "display_data"
    }
   ],
   "source": [
    "def my_print_function():\n",
    "    if reference_feature_values:\n",
    "        print(f\"There are {len(reference_feature_values)} reference feature values.\")\n",
    "    print(reference_feature_values)\n",
    "pya.utils.print_to_scrollable_output(my_print_function)"
   ]
  },
  {
   "cell_type": "markdown",
   "id": "5b1b9a6a-2a0f-412f-b66d-c1aa97949058",
   "metadata": {},
   "source": [
    "#### preprocessing"
   ]
  },
  {
   "cell_type": "code",
   "execution_count": 13,
   "id": "960c5ede-3175-4192-a358-bf5ccb41074f",
   "metadata": {},
   "outputs": [
    {
     "data": {
      "text/html": [
       "\n",
       "    <div style=\"overflow-x: scroll; overflow-y: scroll; border: 1px solid black; background-color: white; !important; color: black; !important;\">\n",
       "        <pre>None\n",
       "</pre>\n",
       "    </div>\n",
       "    "
      ],
      "text/plain": [
       "<IPython.core.display.HTML object>"
      ]
     },
     "metadata": {},
     "output_type": "display_data"
    }
   ],
   "source": [
    "def my_print_function():\n",
    "    print(preprocessing)\n",
    "    if preprocessing:\n",
    "        print(preprocessing_helper_objects)\n",
    "pya.utils.print_to_scrollable_output(my_print_function)"
   ]
  },
  {
   "cell_type": "markdown",
   "id": "48266009-557c-4d4e-954b-906ef2c3cdb6",
   "metadata": {},
   "source": [
    "#### postprocessing"
   ]
  },
  {
   "cell_type": "code",
   "execution_count": 14,
   "id": "40fe1f52-ad50-4b84-89c7-c5d1d3fff139",
   "metadata": {},
   "outputs": [
    {
     "data": {
      "text/html": [
       "\n",
       "    <div style=\"overflow-x: scroll; overflow-y: scroll; border: 1px solid black; background-color: white; !important; color: black; !important;\">\n",
       "        <pre>None\n",
       "</pre>\n",
       "    </div>\n",
       "    "
      ],
      "text/plain": [
       "<IPython.core.display.HTML object>"
      ]
     },
     "metadata": {},
     "output_type": "display_data"
    }
   ],
   "source": [
    "def my_print_function():\n",
    "    print(postprocessing)\n",
    "    if postprocessing:\n",
    "        print(postprocessing)\n",
    "pya.utils.print_to_scrollable_output(my_print_function)"
   ]
  },
  {
   "cell_type": "markdown",
   "id": "d6c78316-6a43-495c-9306-4f335cf2d44f",
   "metadata": {},
   "source": [
    "#### weight_dict"
   ]
  },
  {
   "cell_type": "code",
   "execution_count": 15,
   "id": "658317e5-44bd-4621-877c-5db57494c968",
   "metadata": {},
   "outputs": [
    {
     "data": {
      "text/html": [
       "\n",
       "    <div style=\"overflow-x: scroll; overflow-y: scroll; border: 1px solid black; background-color: white; !important; color: black; !important;\">\n",
       "        <pre>Layer: linear.weight\n",
       "Shape: torch.Size([1, 760])\n",
       "tensor([[-1.0135e-01,  4.5149e-02,  6.6327e-01,  7.6623e-01,  5.4919e-01,\n",
       "         -3.6941e-01, -2.2227e-03,  4.9268e-04, -2.5355e-04, -4.9059e-01,\n",
       "          2.8227e-01, -1.0232e-01,  3.5873e-01,  1.7924e-01, -8.1482e-03,\n",
       "         -2.7738e-01,  1.6014e-01,  2.2201e-01,  2.8952e-01,  1.6183e-01,\n",
       "         -7.2555e-01, -6.9266e-02,  1.4125e+00,  2.1849e-01, -2.5988e-03,\n",
       "          2.4800e-01, -2.1241e-01, -3.3669e-01, -2.2911e-01, -3.1930e-02,\n",
       "         -1.2902e-01, -8.0674e-02,  1.8060e+00,  3.0636e-01, -4.8086e-01,\n",
       "         -8.9030e-02,  5.8535e-01,  3.1268e-02, -1.2987e-01, -7.3398e-02,\n",
       "          1.6935e-01, -1.3214e+00, -1.3411e-02, -4.6870e-02,  6.3966e-04,\n",
       "          3.4282e-02, -2.3363e-02, -1.2251e-03, -2.5263e-01,  2.0802e-01,\n",
       "          9.7898e-02, -7.5732e-02, -5.4632e-01, -2.5419e-02,  1.7231e-01,\n",
       "         -1.6279e-01, -1.7778e-01, -1.4541e-02,  1.0267e-01, -2.7419e-01,\n",
       "         -1.2357e-01, -1.4761e-01, -4.6985e-01, -6.7072e-02,  9.3702e-02,\n",
       "          5.0511e-02,  4.1371e-02,  1.0945e-01, -2.4285e-01, -1.6090e-02,\n",
       "          1.6360e-01,  1.1285e-01,  2.5784e-01,  3.8013e-01,  1.1189e-01,\n",
       "         -1.5951e-01,  7.3436e-02, -1.8423e-03, -1.5144e-01,  7.1254e-02,\n",
       "         -6.2733e-02,  5.3767e-01,  9.8396e-02, -5.8267e-02,  3.1182e-02,\n",
       "         -8.4439e-02,  6.9422e-01, -3.7644e+00,  1.5206e-01, -2.2594e-01,\n",
       "          1.0864e-03,  2.5363e-01, -1.0793e-01,  5.7593e-01, -2.0572e-01,\n",
       "         -1.0071e-01, -1.2233e-02,  1.8547e+00,  1.7763e-01, -4.7212e-01,\n",
       "          1.4911e-01,  2.2029e-02, -4.7181e-01,  1.2537e-01,  9.4141e-02,\n",
       "          6.9074e-01, -3.3108e-01,  4.6946e-01, -2.9306e-01, -5.4122e-02,\n",
       "          5.3377e-02, -2.6222e-02, -2.7340e-02, -1.0214e-03, -7.6934e-02,\n",
       "         -1.9051e-01,  1.4370e+00, -3.3644e-03,  1.2882e-01,  1.1333e+00,\n",
       "          4.7574e-01,  9.9946e-01, -1.9236e-01,  2.4874e-02,  1.6413e-01,\n",
       "          5.4091e-01, -7.5897e-02,  1.9704e-01, -1.1316e-02, -1.0546e-01,\n",
       "          2.7564e-01, -2.3872e-01,  1.7382e+00, -1.7261e-01,  5.1607e-01,\n",
       "         -1.0448e-02, -2.7400e-02,  8.1105e-01, -3.1796e-01, -2.4771e-01,\n",
       "         -8.3714e-02, -1.6047e-02, -2.9198e-01,  3.3510e-02,  1.5932e-01,\n",
       "          3.5754e-01,  3.0369e-01,  1.2287e-01, -6.6115e-02, -1.2831e-01,\n",
       "          1.0631e+00, -2.2583e-03,  6.6801e-01, -1.3716e-01,  3.3095e-01,\n",
       "         -1.0935e-01, -5.8603e-02,  6.8619e-02,  3.6681e-02, -1.7794e-01,\n",
       "          4.4809e-01, -1.1211e+00,  5.8233e-02,  1.6754e-02, -6.7342e-03,\n",
       "          1.0707e-01,  1.4839e-01, -7.1507e-02, -5.0816e-03, -6.3004e-03,\n",
       "         -3.4362e-01, -2.1307e-01, -8.8465e-02, -2.9995e-01, -4.2997e-01,\n",
       "         -1.7529e-01, -3.5018e-03, -8.4442e-02, -1.0921e-02, -1.1981e-01,\n",
       "          8.7905e-01, -1.3939e-01, -5.9142e-02,  3.4741e-03, -2.1081e-01,\n",
       "          1.5153e-01, -1.1610e-01, -7.8774e-02, -2.9600e-03, -6.7645e-03,\n",
       "          6.6735e-01, -4.4423e-02, -6.8598e-01, -1.2404e-02, -1.1415e-02,\n",
       "         -2.5805e-03,  2.5872e-01,  9.5428e-03, -5.6165e-01, -1.6035e-01,\n",
       "          6.4855e-01, -2.9801e-01, -1.0290e-01,  1.5461e-01,  7.1654e-01,\n",
       "         -3.6121e-02, -5.2200e-05,  8.9876e-02,  1.2684e-02, -4.8399e-02,\n",
       "          4.8836e-01,  1.0851e-01,  2.0565e-01, -4.4172e-02, -1.1029e-03,\n",
       "         -5.6597e-02, -7.8234e-02, -2.6522e-01,  2.2415e-02,  1.7555e-01,\n",
       "         -1.2584e-02, -1.9435e-01,  5.7664e-02,  6.3382e-03, -6.7873e-02,\n",
       "         -2.8106e-02, -2.7601e-01, -1.8454e-02,  4.1981e-02, -1.3745e-01,\n",
       "          4.3854e-01,  1.1998e-01, -2.4726e-01, -4.2968e-01, -1.5109e-01,\n",
       "         -8.2605e-02, -3.0142e-01, -1.2366e-02,  9.6004e-02,  1.8408e-01,\n",
       "         -2.6428e-01, -1.6403e-01,  4.7919e-02,  8.0295e-02,  6.9422e-02,\n",
       "          6.8548e-02, -1.0537e-01, -3.8350e-01,  1.1618e-01, -7.7821e-02,\n",
       "         -1.2794e-02, -7.4328e-02, -2.2450e-02, -3.4090e-01, -8.7890e-02,\n",
       "         -1.9227e+00, -2.1395e-03,  9.5229e-03,  8.0141e-02,  2.6167e-01,\n",
       "         -1.0105e-01,  7.2901e-02,  1.1536e-03, -1.1699e-01, -1.9645e-01,\n",
       "          7.2864e-01, -4.4109e-04, -4.1803e-01, -1.1107e-02, -1.0240e-02,\n",
       "          4.1237e-01, -1.3828e-02,  3.3402e-01,  1.3430e-02,  6.3939e-01,\n",
       "          4.3114e-02,  3.7927e-01, -7.2557e-02, -5.0807e-01, -1.9389e-01,\n",
       "         -4.3912e-01, -1.9032e-02, -2.4341e-02, -1.1024e-01,  4.3513e-01,\n",
       "         -2.7635e-03,  1.0904e-03, -1.0939e-01,  1.4524e-01, -8.1509e-02,\n",
       "          2.5269e-02,  3.7041e-02,  3.8380e-03, -1.9421e-01, -3.1356e-02,\n",
       "         -1.7406e-02, -3.3470e-02,  1.4865e-01, -7.4075e-04, -4.2379e-02,\n",
       "         -1.2860e-01,  2.5367e-02, -5.1729e-01, -4.7394e-02,  2.4520e-02,\n",
       "         -5.4806e-02, -7.6527e-02,  1.3289e-01, -7.9645e-02,  7.9803e-02,\n",
       "          2.5778e-01, -1.0440e-01, -4.1985e-02,  5.6636e-02,  2.6716e-01,\n",
       "         -7.4980e-01,  3.9017e-02,  4.7253e-02,  3.6358e-03, -8.9954e-02,\n",
       "         -3.2958e-02, -2.8107e-01, -6.5666e-02,  4.5744e-02, -3.6444e-01,\n",
       "          4.2606e-01, -3.5235e-01,  4.4448e-02,  6.1028e-02, -2.7979e-01,\n",
       "          2.2360e-02,  8.0613e-02, -1.8410e-01,  3.4759e-02,  1.5305e-01,\n",
       "          1.8688e-02,  6.4682e-02,  1.1806e-01, -9.3734e-01,  1.8061e-01,\n",
       "         -4.5590e-02, -1.5303e-01,  3.0146e-02,  2.6334e-02, -1.9931e-02,\n",
       "         -5.8682e-02, -2.0242e-01,  2.5581e-01, -4.3115e-02, -4.0148e-01,\n",
       "         -6.4622e-03, -8.7343e-02, -7.3561e-01, -1.3290e-01, -6.3973e-01,\n",
       "          3.9018e-01, -3.6317e-03,  4.1509e-02, -6.3092e-02, -2.2727e-02,\n",
       "         -3.8400e-01,  4.8442e-02, -7.2628e-02,  9.3557e-02, -8.0647e-02,\n",
       "          2.8394e-01,  1.6787e-01, -2.1773e-01, -2.7550e-01, -4.4528e-02,\n",
       "          8.7828e-02, -7.2807e-02,  1.7106e-01, -3.6223e-02, -7.4649e-02,\n",
       "         -1.4081e-01,  1.2632e-02, -7.2964e-02, -4.2591e-02,  3.3002e-01,\n",
       "          1.0880e-01, -2.5324e-01, -1.8693e-01,  1.0339e-01,  7.4836e-01,\n",
       "         -1.7746e-01, -1.7417e-01, -4.7052e-04, -1.8268e-01, -1.1128e-02,\n",
       "          1.5076e-01,  2.9187e-01, -8.4774e-02,  1.1478e-01,  8.3142e-02,\n",
       "         -5.4097e-02, -1.9781e-02, -6.0647e-02, -9.2865e-02, -1.1136e+00,\n",
       "          1.1121e-01,  7.2538e-01, -9.4207e-02,  6.3599e-01,  2.9483e-02,\n",
       "          1.0788e-01, -1.7216e-03, -3.6490e-04,  1.2272e-01, -1.3869e+00,\n",
       "         -1.4967e-01, -9.1813e-03, -1.7149e-01, -3.9737e-02, -1.2920e-02,\n",
       "          2.7265e-03, -1.3602e-01,  2.6457e-01, -7.5610e-02, -3.2349e-02,\n",
       "         -2.9421e-03, -1.1350e-02, -3.3586e-01,  7.7909e-02, -4.2197e-02,\n",
       "          6.0415e-03,  7.2893e-03, -2.4115e-02, -1.0757e-01,  1.4085e-02,\n",
       "          1.1791e-01, -4.8200e-05, -6.0241e-03,  4.8435e-02, -3.6281e-01,\n",
       "          2.9584e-01, -3.0373e-02, -1.5137e-02, -6.2796e-01,  2.6101e-01,\n",
       "         -1.9593e-01, -4.5131e-01, -3.7401e-01, -9.2233e-02,  7.5500e-06,\n",
       "          8.8625e-02, -1.4367e-01, -4.4122e-02,  1.6505e-01,  2.2115e-02,\n",
       "          9.5112e-01, -2.9050e-01,  6.6655e-02, -1.4589e-01,  9.9708e-03,\n",
       "         -3.4772e-01, -4.2334e-03, -1.7810e-01, -1.2601e-03, -6.0454e-02,\n",
       "         -3.1353e-02,  2.5006e-01, -2.8079e-02,  4.8825e-02, -1.3914e-01,\n",
       "         -4.6864e-02, -9.8367e-02,  1.2328e-03,  3.8017e-02,  6.8499e-02,\n",
       "         -8.5017e-02, -3.5081e-01, -2.6215e-01,  9.9599e-02,  4.5330e-01,\n",
       "          1.0702e-01,  1.8897e-01,  1.7845e-01,  1.1372e-02,  5.5076e-01,\n",
       "         -2.4783e-02, -6.3818e-02,  3.9830e-01, -3.0227e-02, -6.1486e-02,\n",
       "          9.8939e-02,  2.4043e-03,  4.0306e-01, -1.5625e-01,  2.8267e-02,\n",
       "          1.0084e-01,  2.6383e+00,  1.9361e-01,  3.3198e-01, -9.4024e-02,\n",
       "         -1.5031e-02,  1.6726e-02,  1.1240e-02,  2.3418e-01,  1.0149e-01,\n",
       "         -2.5078e-01, -2.3763e-01,  6.1775e-02, -8.4106e-02, -1.7123e-01,\n",
       "          3.8144e-04, -5.9141e-01, -2.0706e-01,  3.9628e-01,  5.0428e-01,\n",
       "         -2.3743e-01, -1.3575e-01, -1.6620e-01, -5.8575e-02, -6.2268e-01,\n",
       "          1.5301e-01, -8.5346e-02,  7.9154e-02, -6.7963e-02, -1.9043e-02,\n",
       "          7.7737e-01,  9.5750e-04,  4.6558e-01,  3.8779e-02, -2.5416e-01,\n",
       "         -1.3519e-02, -4.4223e-02, -1.9881e-01,  2.3890e-01, -8.8648e-02,\n",
       "          2.1495e-01, -4.2898e-01,  6.8875e-02, -1.3539e-01, -3.6610e-04,\n",
       "         -2.5081e-01,  7.3059e-04, -1.1550e-01, -1.4908e-01, -1.6087e-01,\n",
       "          6.5865e-02,  1.6352e-01,  3.9506e-01,  8.0621e-02,  5.3508e-01,\n",
       "          2.2529e-01,  9.0270e-01, -1.5264e-02, -6.5476e-02,  7.1327e-01,\n",
       "         -2.0937e-02, -1.0030e-01, -2.1001e-01,  3.0756e-02,  7.2577e-01,\n",
       "          1.9979e-01,  1.3301e-01,  7.9315e-02, -4.5997e-01,  3.8865e-01,\n",
       "         -3.8953e-03, -4.9642e-01,  8.2337e-02, -1.8481e-01, -1.0215e-01,\n",
       "         -1.9611e-01,  4.3626e-02, -3.5954e-02, -3.3915e-02, -1.8487e-02,\n",
       "          4.2482e-02,  7.7653e-01,  6.4520e-01, -9.0581e-02,  1.4635e+00,\n",
       "          7.7622e-02, -9.6788e-02, -4.8547e-01,  9.2342e-02,  2.5235e-01,\n",
       "         -2.1082e-03, -2.2912e-01,  3.2906e-02, -8.8287e-02, -4.4638e-02,\n",
       "         -1.9959e-01, -1.0745e+00,  1.5098e-01,  5.6539e-03, -3.4416e-01,\n",
       "          5.7093e-01, -2.1876e-03, -2.8881e-01,  8.1725e-02, -1.2792e-01,\n",
       "         -1.4108e-01, -9.7927e-02, -2.2834e-02,  5.0373e-01, -1.1886e-01,\n",
       "         -1.1086e-01, -1.0234e-01, -2.4118e-02,  8.7689e-02, -6.3320e-02,\n",
       "         -5.2597e-02, -3.1227e-01, -6.2566e-01,  7.0526e-02,  7.3150e-01,\n",
       "         -7.2702e-02, -6.4554e-03, -1.8710e-01, -2.0934e-01, -7.9194e-02,\n",
       "         -2.1838e-02, -5.0551e-02, -3.5177e-01,  2.7929e-02,  4.7904e-02,\n",
       "          1.4893e-04, -3.6320e-01, -7.4905e-02, -2.4304e-01, -1.5700e-01,\n",
       "         -6.7531e-03,  8.2621e-04,  1.5907e-01,  1.4438e-01, -4.6989e-01,\n",
       "          2.4285e-01, -3.8108e-02, -6.4361e-01,  3.1236e-02,  1.8156e-01,\n",
       "          2.7286e-02, -7.1520e-02,  3.3336e-03, -1.7165e-02,  1.4934e-02,\n",
       "          2.0414e-01,  6.0990e-02,  4.5161e-01, -6.6432e-03, -9.0442e-02,\n",
       "         -5.6704e-02, -5.2648e-03, -8.8534e-01, -5.1188e-02,  2.4131e-01,\n",
       "         -3.0188e-02,  2.7145e-01,  7.6223e-01, -2.4637e-01,  3.3765e-02,\n",
       "         -1.7574e-02,  3.4036e-01,  4.0546e-03,  7.8476e-02,  1.6091e-01,\n",
       "          2.4613e-01, -5.2731e-02, -1.2875e-01,  2.0487e-01, -1.3838e-01,\n",
       "          9.3937e-02, -2.8035e-01,  5.7890e-01,  7.3349e-03, -1.2795e-01,\n",
       "         -1.5089e-01,  1.6384e-02, -3.0448e-02,  3.2162e-01,  3.7064e-02,\n",
       "         -1.3067e-01,  9.8616e-02, -2.4173e-02, -3.2553e-01, -1.9494e-01,\n",
       "         -5.1187e-02,  3.2066e-02,  3.7252e-01, -2.4023e-02,  9.8800e-05,\n",
       "         -5.5293e-03,  4.4461e-02,  1.6240e-01, -7.6422e-02,  2.5743e-01,\n",
       "         -1.4997e-01, -1.8489e-01,  2.7145e-02, -8.4738e-02,  2.2762e-01,\n",
       "          1.8659e-01, -4.0071e-01, -7.1546e-02, -5.5737e-02,  1.8185e-01,\n",
       "          1.1081e-01,  5.4781e-02,  4.3446e-02, -5.6410e-02, -1.1601e-01,\n",
       "          4.9394e-01,  3.0527e-02, -3.2322e-02, -1.8601e-01, -1.7068e-02,\n",
       "          9.2310e-02, -7.5854e-02, -5.4540e-01,  2.4160e-02,  9.8045e-02,\n",
       "          6.9853e-02, -2.3240e-01, -1.4116e-01, -1.9875e-01, -1.1173e-01,\n",
       "         -6.7472e-02, -5.4401e-01,  2.0361e-01,  1.1269e-01,  1.2086e-01,\n",
       "         -6.7616e-03,  4.5517e-03, -2.7576e-01,  2.5492e-01,  1.2860e-02,\n",
       "          8.7491e-01, -3.0979e-01,  5.4335e-02,  3.0902e-01, -9.6934e-02,\n",
       "          3.4238e-03, -7.0259e-02,  1.2689e-01,  3.0484e-01, -1.5864e-01,\n",
       "         -8.6664e-03,  1.7660e-01,  1.3709e-01,  4.1989e-03, -7.0683e-02,\n",
       "         -1.8087e-01,  4.3592e-01, -9.3494e-02, -1.7911e-04,  3.2290e-01,\n",
       "          3.2709e-03, -2.0352e-01, -4.4037e-02, -1.1699e-03, -4.4443e-01,\n",
       "          1.4511e+00, -1.0577e+00, -9.8683e-02,  3.5917e-03, -2.1774e-02]])\n",
       "Layer: linear.bias\n",
       "Shape: torch.Size([1])\n",
       "tensor([-6.3568])\n",
       "</pre>\n",
       "    </div>\n",
       "    "
      ],
      "text/plain": [
       "<IPython.core.display.HTML object>"
      ]
     },
     "metadata": {},
     "output_type": "display_data"
    }
   ],
   "source": [
    "def my_print_function():\n",
    "    for name, param in model.named_parameters():\n",
    "        print(f\"Layer: {name}\")\n",
    "        print(f\"Shape: {param.shape}\")\n",
    "        print(param.data)\n",
    "pya.utils.print_to_scrollable_output(my_print_function)"
   ]
  },
  {
   "cell_type": "markdown",
   "id": "275815e5-5630-4163-bc61-7119a9c805c1",
   "metadata": {},
   "source": [
    "## Write clock dictionary"
   ]
  },
  {
   "cell_type": "markdown",
   "id": "3b176620-afb5-403c-9948-07639072bb44",
   "metadata": {},
   "source": [
    "Let's put everything together and save:"
   ]
  },
  {
   "cell_type": "code",
   "execution_count": 16,
   "id": "35d00b76-513d-4d8f-8824-6d810ee9d8f5",
   "metadata": {},
   "outputs": [],
   "source": [
    "clock_dict = {\n",
    "    # Metadata\n",
    "    'clock_name': clock_name,\n",
    "    'data_type': data_type,\n",
    "    'model_class': model_class,\n",
    "    'species': species,\n",
    "    'year': year,\n",
    "    'approved_by_author': approved_by_author,\n",
    "    'citation': citation,\n",
    "    'doi': doi,\n",
    "    \"notes\": notes,\n",
    "\n",
    "    # Data\n",
    "    'reference_feature_values': reference_feature_values if reference_feature_values else None,\n",
    "    'preprocessing': preprocessing if preprocessing else None, \n",
    "    'features': features,\n",
    "    'weight_dict': model.state_dict(),\n",
    "    'postprocessing': postprocessing if postprocessing else None,\n",
    "}\n",
    "\n",
    "torch.save(clock_dict, f'../weights/{clock_name}.pt')"
   ]
  },
  {
   "cell_type": "markdown",
   "id": "c1dd2efe-2bd6-4e1b-92ee-d110c25ad29c",
   "metadata": {},
   "source": [
    "## Clear directory"
   ]
  },
  {
   "cell_type": "markdown",
   "id": "158aa71f-7bbc-4c52-b7ef-16ba45d5e1fd",
   "metadata": {},
   "source": [
    "Delete all files that are not clock jupyter notebooks:"
   ]
  },
  {
   "cell_type": "code",
   "execution_count": 17,
   "id": "db4bd42b-c62f-4557-9ebc-d8194a240137",
   "metadata": {},
   "outputs": [
    {
     "name": "stdout",
     "output_type": "stream",
     "text": [
      "Deleted folder: MammalianMethylationConsortium\n",
      "Deleted folder: .ipynb_checkpoints\n"
     ]
    }
   ],
   "source": [
    "# Function to remove a folder and all its contents\n",
    "def remove_folder(path):\n",
    "    try:\n",
    "        shutil.rmtree(path)\n",
    "        print(f\"Deleted folder: {path}\")\n",
    "    except Exception as e:\n",
    "        print(f\"Error deleting folder {path}: {e}\")\n",
    "\n",
    "# Get a list of all files and folders in the current directory\n",
    "all_items = os.listdir('.')\n",
    "\n",
    "# Loop through the items\n",
    "for item in all_items:\n",
    "    # Check if it's a file and does not end with .ipynb\n",
    "    if os.path.isfile(item) and not item.endswith('.ipynb'):\n",
    "        os.remove(item)\n",
    "        print(f\"Deleted file: {item}\")\n",
    "    # Check if it's a folder\n",
    "    elif os.path.isdir(item):\n",
    "        remove_folder(item)"
   ]
  }
 ],
 "metadata": {
  "kernelspec": {
   "display_name": "Python 3",
   "language": "python",
   "name": "python3"
  },
  "language_info": {
   "codemirror_mode": {
    "name": "ipython",
    "version": 3
   },
   "file_extension": ".py",
   "mimetype": "text/x-python",
   "name": "python",
   "nbconvert_exporter": "python",
   "pygments_lexer": "ipython3",
   "version": "3.9.17"
  }
 },
 "nbformat": 4,
 "nbformat_minor": 5
}

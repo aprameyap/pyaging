{
 "cells": [
  {
   "cell_type": "markdown",
   "id": "2f04eee0-5928-4e74-a754-6dc2e528810c",
   "metadata": {},
   "source": [
    "# BiTAge"
   ]
  },
  {
   "cell_type": "markdown",
   "id": "a3f514a3-772c-4a14-afdf-5a8376851ff4",
   "metadata": {},
   "source": [
    "## Index\n",
    "1. [Define required clock parameters](#Define-required-clock-parameters)\n",
    "2. [Download necessary data](#Download-necessary-data)\n",
    "3. [Load data](#-Load-data)\n",
    "4. [Extract features and weights](#Extract-features-and-weights)\n",
    "5. [Load weights into pyaging model](#Load-weights-into-pyaging-model)\n",
    "6. [Add reference values](#Add-reference-values)\n",
    "7. [Add preprocessing and postprocesssing steps](#Add-preprocessing-and-postprocesssing-steps)\n",
    "8. [Check all data objects](#Check-all-data-objects)\n",
    "9. [Write clock dictionary](#Write-clock-dictionary)\n",
    "10. [Clear directory](#Clear-directory)"
   ]
  },
  {
   "cell_type": "markdown",
   "id": "d95fafdc-643a-40ea-a689-200bd132e90c",
   "metadata": {},
   "source": [
    "Let's first import some packages:"
   ]
  },
  {
   "cell_type": "code",
   "execution_count": 1,
   "id": "4adfb4de-cd79-4913-a1af-9e23e9e236c9",
   "metadata": {},
   "outputs": [],
   "source": [
    "import os\n",
    "import marshal\n",
    "import shutil\n",
    "import json\n",
    "import torch\n",
    "import pandas as pd\n",
    "import pyaging as pya"
   ]
  },
  {
   "cell_type": "markdown",
   "id": "c8c0c937-d9b6-4756-99b0-91de591220e0",
   "metadata": {},
   "source": [
    "## Define required clock parameters"
   ]
  },
  {
   "cell_type": "markdown",
   "id": "cf95ddca-625e-4c70-a246-c3cb12df96f8",
   "metadata": {},
   "source": [
    "Let's define some required information first:"
   ]
  },
  {
   "cell_type": "code",
   "execution_count": 2,
   "id": "5281776d-0549-445f-beec-39c31ec7dbe1",
   "metadata": {},
   "outputs": [],
   "source": [
    "clock_name = 'bitage'\n",
    "data_type = 'transcriptomics'\n",
    "model_class = 'LinearModel'\n",
    "species = 'C elegans'\n",
    "year = 2021\n",
    "approved_by_author = '✅'\n",
    "citation = \"Meyer, David H., and Björn Schumacher. \\\"BiT age: A transcriptome‐based aging clock near the theoretical limit of accuracy.\\\" Aging cell 20.3 (2021): e13320.\"\n",
    "doi = 'https://doi.org/10.1111/acel.13320'\n",
    "notes = None"
   ]
  },
  {
   "cell_type": "markdown",
   "id": "4520c8cb-6c1f-4490-ba4c-6fe78ef002a7",
   "metadata": {},
   "source": [
    "## Download necessary data"
   ]
  },
  {
   "cell_type": "markdown",
   "id": "4ccae25e-7d7f-45da-8e8a-064a66dc52fa",
   "metadata": {},
   "source": [
    "#### Download GitHub repository"
   ]
  },
  {
   "cell_type": "code",
   "execution_count": 3,
   "id": "a2a5b60e-ff7f-4b24-b1c6-61cda8948310",
   "metadata": {},
   "outputs": [
    {
     "data": {
      "text/plain": [
       "0"
      ]
     },
     "execution_count": 3,
     "metadata": {},
     "output_type": "execute_result"
    }
   ],
   "source": [
    "github_url = \"https://github.com/Meyer-DH/AgingClock.git\"\n",
    "github_folder_name = github_url.split('/')[-1].split('.')[0]\n",
    "os.system(f\"git clone {github_url}\")"
   ]
  },
  {
   "cell_type": "markdown",
   "id": "35615b62-73ac-40b1-8bc1-e904403eb0ae",
   "metadata": {},
   "source": [
    "## Load data"
   ]
  },
  {
   "cell_type": "markdown",
   "id": "232eb94a-04a7-4ac4-ae3e-0e365b443a8e",
   "metadata": {},
   "source": [
    "#### From CSV file"
   ]
  },
  {
   "cell_type": "code",
   "execution_count": 4,
   "id": "45fbc051-f0d2-4b25-9813-ae126f6fedcb",
   "metadata": {},
   "outputs": [],
   "source": [
    "df = pd.read_csv('AgingClock/Data/Predictor_Genes.csv')"
   ]
  },
  {
   "cell_type": "markdown",
   "id": "60c676db-2c7c-4c04-9457-97bccd598269",
   "metadata": {},
   "source": [
    "## Extract features and weights"
   ]
  },
  {
   "cell_type": "markdown",
   "id": "ba800023-e3bd-43af-a5bc-df00b6089d84",
   "metadata": {},
   "source": [
    "First, let's extract the features and weights:"
   ]
  },
  {
   "cell_type": "code",
   "execution_count": 5,
   "id": "e1d1dd13-65ac-4694-8948-3cd94bc19fe1",
   "metadata": {},
   "outputs": [
    {
     "data": {
      "text/html": [
       "<div>\n",
       "<style scoped>\n",
       "    .dataframe tbody tr th:only-of-type {\n",
       "        vertical-align: middle;\n",
       "    }\n",
       "\n",
       "    .dataframe tbody tr th {\n",
       "        vertical-align: top;\n",
       "    }\n",
       "\n",
       "    .dataframe thead th {\n",
       "        text-align: right;\n",
       "    }\n",
       "</style>\n",
       "<table border=\"1\" class=\"dataframe\">\n",
       "  <thead>\n",
       "    <tr style=\"text-align: right;\">\n",
       "      <th></th>\n",
       "      <th>WormBaseID</th>\n",
       "      <th>ElasticNet_Coef</th>\n",
       "      <th>feature</th>\n",
       "      <th>coefficient</th>\n",
       "    </tr>\n",
       "  </thead>\n",
       "  <tbody>\n",
       "    <tr>\n",
       "      <th>0</th>\n",
       "      <td>WBGene00012747</td>\n",
       "      <td>-3.918385</td>\n",
       "      <td>WBGene00012747</td>\n",
       "      <td>-3.918385</td>\n",
       "    </tr>\n",
       "    <tr>\n",
       "      <th>1</th>\n",
       "      <td>WBGene00011554</td>\n",
       "      <td>-3.661531</td>\n",
       "      <td>WBGene00011554</td>\n",
       "      <td>-3.661531</td>\n",
       "    </tr>\n",
       "    <tr>\n",
       "      <th>2</th>\n",
       "      <td>WBGene00002259</td>\n",
       "      <td>-3.441976</td>\n",
       "      <td>WBGene00002259</td>\n",
       "      <td>-3.441976</td>\n",
       "    </tr>\n",
       "    <tr>\n",
       "      <th>3</th>\n",
       "      <td>WBGene00018196</td>\n",
       "      <td>-3.357286</td>\n",
       "      <td>WBGene00018196</td>\n",
       "      <td>-3.357286</td>\n",
       "    </tr>\n",
       "    <tr>\n",
       "      <th>4</th>\n",
       "      <td>WBGene00017813</td>\n",
       "      <td>-3.152588</td>\n",
       "      <td>WBGene00017813</td>\n",
       "      <td>-3.152588</td>\n",
       "    </tr>\n",
       "  </tbody>\n",
       "</table>\n",
       "</div>"
      ],
      "text/plain": [
       "       WormBaseID  ElasticNet_Coef         feature  coefficient\n",
       "0  WBGene00012747        -3.918385  WBGene00012747    -3.918385\n",
       "1  WBGene00011554        -3.661531  WBGene00011554    -3.661531\n",
       "2  WBGene00002259        -3.441976  WBGene00002259    -3.441976\n",
       "3  WBGene00018196        -3.357286  WBGene00018196    -3.357286\n",
       "4  WBGene00017813        -3.152588  WBGene00017813    -3.152588"
      ]
     },
     "execution_count": 5,
     "metadata": {},
     "output_type": "execute_result"
    }
   ],
   "source": [
    "df['feature'] = df['WormBaseID']\n",
    "df['coefficient'] = df['ElasticNet_Coef']\n",
    "\n",
    "df.head()"
   ]
  },
  {
   "cell_type": "markdown",
   "id": "5ac5b42a-3bd9-49d3-b84e-79d236af24b4",
   "metadata": {},
   "source": [
    "Then, let's create lists for features and weights. Be careful about the intercept, as it usually shows up as a feature name."
   ]
  },
  {
   "cell_type": "code",
   "execution_count": 6,
   "id": "2fc06bb5-7e9c-46fd-9843-31880f1d3788",
   "metadata": {},
   "outputs": [],
   "source": [
    "features = df['feature'].tolist()\n",
    "weights = torch.tensor(df['coefficient'].tolist()).unsqueeze(0).float()\n",
    "intercept = torch.tensor([103.54631743289005]).float()"
   ]
  },
  {
   "cell_type": "markdown",
   "id": "d193ccbf-d06b-49bb-ad4b-ffe3271dea63",
   "metadata": {},
   "source": [
    "## Load weights into pyaging model"
   ]
  },
  {
   "cell_type": "markdown",
   "id": "4350119a-4bd4-4efa-85b5-9de70fdf496f",
   "metadata": {},
   "source": [
    "#### Linear model"
   ]
  },
  {
   "cell_type": "code",
   "execution_count": 7,
   "id": "7354c541-5af9-447d-a339-2cb88c253b41",
   "metadata": {},
   "outputs": [
    {
     "data": {
      "text/plain": [
       "LinearModel(\n",
       "  (linear): Linear(in_features=576, out_features=1, bias=True)\n",
       ")"
      ]
     },
     "execution_count": 7,
     "metadata": {},
     "output_type": "execute_result"
    }
   ],
   "source": [
    "model = pya.models.LinearModel(input_dim=len(features))\n",
    "\n",
    "model.linear.weight.data = weights\n",
    "model.linear.bias.data = intercept\n",
    "\n",
    "model"
   ]
  },
  {
   "cell_type": "markdown",
   "id": "06adc9d8-cec2-447d-8d0b-e2819d4c1a5b",
   "metadata": {},
   "source": [
    "## Add reference values"
   ]
  },
  {
   "cell_type": "markdown",
   "id": "5e27d6b2-9770-45bb-b8f3-d094f15750e1",
   "metadata": {},
   "source": [
    "Some clocks have reference values in the case of missing features. It is also possible that these values are for preprocessing features rather than the clock features. Let's add a dictionary with the feature names as the keys."
   ]
  },
  {
   "cell_type": "code",
   "execution_count": 8,
   "id": "7656cb10-91c6-457b-9300-8ce910d61c74",
   "metadata": {},
   "outputs": [],
   "source": [
    "reference_feature_values = None"
   ]
  },
  {
   "cell_type": "markdown",
   "id": "c9b4fd10-797c-45bd-aa1a-65aed1deaf1c",
   "metadata": {},
   "source": [
    "## Add preprocessing and postprocesssing steps"
   ]
  },
  {
   "cell_type": "markdown",
   "id": "25dc4cda-5908-45e5-ac5e-29c8dcf5e8cd",
   "metadata": {},
   "source": [
    "The preprocessing and postprocessing objects are dictionaries with the following format:"
   ]
  },
  {
   "cell_type": "code",
   "execution_count": 9,
   "id": "ae05d9ff-8131-4b5a-91b4-aef60547af21",
   "metadata": {},
   "outputs": [],
   "source": [
    "def preprocessing_function(x):\n",
    "    \"\"\"\n",
    "    Binarizes an array based on the median of each row, excluding zeros.\n",
    "    \"\"\"\n",
    "    # Create a mask for non-zero elements\n",
    "    non_zero_mask = x != 0\n",
    "\n",
    "    # Apply mask, calculate median for each row, and change data\n",
    "    medians = np.zeros(x.shape[0])\n",
    "    for i, row in enumerate(x):\n",
    "        non_zero_elements = row[non_zero_mask[i]]\n",
    "        x[i] = x[i] > np.median(non_zero_elements)\n",
    "\n",
    "    return x\n",
    "\n",
    "preprocessing_function_string = marshal.dumps(preprocessing_function.__code__)\n",
    "\n",
    "preprocessing_helper_objects = None\n",
    "\n",
    "preprocessing = {\n",
    "    'name': 'binarize',\n",
    "    'preprocessing_function': preprocessing_function_string,\n",
    "    'preprocessing_helper_objects': preprocessing_helper_objects\n",
    "}"
   ]
  },
  {
   "cell_type": "markdown",
   "id": "532c3070-e719-4359-a924-514cb1bcd66e",
   "metadata": {},
   "source": [
    "Similarly is the case of postprocessing. Remember that your function must be compatible with torch and is applied to each number individually."
   ]
  },
  {
   "cell_type": "code",
   "execution_count": 10,
   "id": "baffc39c-411b-45ae-ba51-a7611343dfd7",
   "metadata": {},
   "outputs": [],
   "source": [
    "postprocessing = None"
   ]
  },
  {
   "cell_type": "markdown",
   "id": "53a0a951-e7ff-4805-beed-3012847d8d06",
   "metadata": {},
   "source": [
    "## Check all data objects"
   ]
  },
  {
   "cell_type": "markdown",
   "id": "2f96c666-67e4-4b4b-ad18-646079482679",
   "metadata": {},
   "source": [
    "Let's print all data objects to check if they make sense."
   ]
  },
  {
   "cell_type": "markdown",
   "id": "7fbbd55b-7827-4d2e-9f71-cefa7433a343",
   "metadata": {},
   "source": [
    "#### features"
   ]
  },
  {
   "cell_type": "code",
   "execution_count": 11,
   "id": "b9a5cd7a-9ff4-4e6a-802a-c329fa8e3be5",
   "metadata": {},
   "outputs": [
    {
     "data": {
      "text/html": [
       "\n",
       "    <div style=\"overflow-x: scroll; overflow-y: scroll; border: 1px solid black; background-color: white; !important; color: black; !important;\">\n",
       "        <pre>There are 576 features.\n",
       "['WBGene00012747', 'WBGene00011554', 'WBGene00002259', 'WBGene00018196', 'WBGene00017813', 'WBGene00020516', 'WBGene00008357', 'WBGene00019885', 'WBGene00016717', 'WBGene00017841', 'WBGene00018645', 'WBGene00021321', 'WBGene00000609', 'WBGene00045399', 'WBGene00012840', 'WBGene00011753', 'WBGene00003562', 'WBGene00010924', 'WBGene00018257', 'WBGene00001694', 'WBGene00000669', 'WBGene00008708', 'WBGene00016423', 'WBGene00019184', 'WBGene00013548', 'WBGene00008341', 'WBGene00016394', 'WBGene00001758', 'WBGene00000778', 'WBGene00017501', 'WBGene00014003', 'WBGene00175027', 'WBGene00011586', 'WBGene00014099', 'WBGene00010659', 'WBGene00018877', 'WBGene00009146', 'WBGene00003527', 'WBGene00000752', 'WBGene00016266', 'WBGene00019282', 'WBGene00016943', 'WBGene00009094', 'WBGene00019619', 'WBGene00006679', 'WBGene00012857', 'WBGene00018637', 'WBGene00010746', 'WBGene00008583', 'WBGene00000082', 'WBGene00009526', 'WBGene00007875', 'WBGene00003763', 'WBGene00007903', 'WBGene00011487', 'WBGene00007236', 'WBGene00019576', 'WBGene00003558', 'WBGene00020343', 'WBGene00077690', 'WBGene00269355', 'WBGene00010183', 'WBGene00016335', 'WBGene00009483', 'WBGene00016863', 'WBGene00022353', 'WBGene00011094', 'WBGene00044443', 'WBGene00016872', 'WBGene00001719', 'WBGene00016274', 'WBGene00000712', 'WBGene00045495', 'WBGene00013968', 'WBGene00044469', 'WBGene00008358', 'WBGene00044459', 'WBGene00005002', 'WBGene00007557', 'WBGene00001816', 'WBGene00007353', 'WBGene00016076', 'WBGene00001781', 'WBGene00015045', 'WBGene00006692', 'WBGene00010595', 'WBGene00009647', 'WBGene00019803', 'WBGene00009677', 'WBGene00016086', 'WBGene00010585', 'WBGene00010079', 'WBGene00017512', 'WBGene00012257', 'WBGene00010125', 'WBGene00011429', 'WBGene00013931', 'WBGene00000401', 'WBGene00021773', 'WBGene00015859', 'WBGene00004007', 'WBGene00002055', 'WBGene00008127', 'WBGene00022445', 'WBGene00004114', 'WBGene00010887', 'WBGene00021343', 'WBGene00009634', 'WBGene00017850', 'WBGene00001572', 'WBGene00019105', 'WBGene00016596', 'WBGene00000768', 'WBGene00000606', 'WBGene00014137', 'WBGene00004168', 'WBGene00009546', 'WBGene00011107', 'WBGene00018901', 'WBGene00009840', 'WBGene00009883', 'WBGene00004156', 'WBGene00000133', 'WBGene00020836', 'WBGene00004359', 'WBGene00045246', 'WBGene00006672', 'WBGene00001210', 'WBGene00010411', 'WBGene00012259', 'WBGene00001458', 'WBGene00011321', 'WBGene00008352', 'WBGene00021148', 'WBGene00007867', 'WBGene00013896', 'WBGene00015137', 'WBGene00007521', 'WBGene00019846', 'WBGene00000703', 'WBGene00044554', 'WBGene00008538', 'WBGene00010976', 'WBGene00044502', 'WBGene00018716', 'WBGene00007509', 'WBGene00008953', 'WBGene00003762', 'WBGene00019313', 'WBGene00044736', 'WBGene00045390', 'WBGene00008043', 'WBGene00020585', 'WBGene00016165', 'WBGene00045249', 'WBGene00006886', 'WBGene00007449', 'WBGene00008810', 'WBGene00000968', 'WBGene00021587', 'WBGene00013895', 'WBGene00019577', 'WBGene00000425', 'WBGene00020054', 'WBGene00021491', 'WBGene00007133', 'WBGene00020626', 'WBGene00002117', 'WBGene00003614', 'WBGene00011095', 'WBGene00001495', 'WBGene00005644', 'WBGene00012448', 'WBGene00020261', 'WBGene00008482', 'WBGene00012796', 'WBGene00001158', 'WBGene00008584', 'WBGene00001789', 'WBGene00017243', 'WBGene00017376', 'WBGene00013306', 'WBGene00001462', 'WBGene00018221', 'WBGene00022254', 'WBGene00002827', 'WBGene00015954', 'WBGene00008588', 'WBGene00009156', 'WBGene00010422', 'WBGene00077775', 'WBGene00008018', 'WBGene00016664', 'WBGene00002234', 'WBGene00011431', 'WBGene00011475', 'WBGene00008723', 'WBGene00017116', 'WBGene00008349', 'WBGene00003843', 'WBGene00013853', 'WBGene00012513', 'WBGene00020080', 'WBGene00006809', 'WBGene00022597', 'WBGene00001433', 'WBGene00012177', 'WBGene00008969', 'WBGene00010175', 'WBGene00012252', 'WBGene00007072', 'WBGene00206388', 'WBGene00020884', 'WBGene00011362', 'WBGene00015753', 'WBGene00018100', 'WBGene00013221', 'WBGene00077701', 'WBGene00018523', 'WBGene00021412', 'WBGene00015456', 'WBGene00019227', 'WBGene00012404', 'WBGene00006468', 'WBGene00015050', 'WBGene00010703', 'WBGene00007340', 'WBGene00021171', 'WBGene00018025', 'WBGene00006982', 'WBGene00022240', 'WBGene00017013', 'WBGene00020457', 'WBGene00022546', 'WBGene00001702', 'WBGene00007994', 'WBGene00021345', 'WBGene00000657', 'WBGene00008084', 'WBGene00021337', 'WBGene00015865', 'WBGene00023423', 'WBGene00008255', 'WBGene00008621', 'WBGene00022614', 'WBGene00003107', 'WBGene00010961', 'WBGene00017201', 'WBGene00019605', 'WBGene00000692', 'WBGene00022033', 'WBGene00000964', 'WBGene00017504', 'WBGene00219207', 'WBGene00002151', 'WBGene00018250', 'WBGene00020258', 'WBGene00015284', 'WBGene00004819', 'WBGene00044083', 'WBGene00219307', 'WBGene00011217', 'WBGene00019472', 'WBGene00019208', 'WBGene00019138', 'WBGene00017069', 'WBGene00004154', 'WBGene00009431', 'WBGene00000932', 'WBGene00003693', 'WBGene00016189', 'WBGene00016896', 'WBGene00015351', 'WBGene00012293', 'WBGene00003171', 'WBGene00008284', 'WBGene00012922', 'WBGene00016846', 'WBGene00016595', 'WBGene00020797', 'WBGene00023284', 'WBGene00017969', 'WBGene00011462', 'WBGene00017027', 'WBGene00004854', 'WBGene00014666', 'WBGene00020576', 'WBGene00010059', 'WBGene00043982', 'WBGene00007532', 'WBGene00006416', 'WBGene00002260', 'WBGene00017140', 'WBGene00020651', 'WBGene00044921', 'WBGene00017422', 'WBGene00009722', 'WBGene00008847', 'WBGene00011677', 'WBGene00009405', 'WBGene00018569', 'WBGene00012322', 'WBGene00195165', 'WBGene00000666', 'WBGene00023401', 'WBGene00014130', 'WBGene00006306', 'WBGene00044661', 'WBGene00022140', 'WBGene00014759', 'WBGene00007562', 'WBGene00002235', 'WBGene00010219', 'WBGene00007147', 'WBGene00003966', 'WBGene00020479', 'WBGene00015370', 'WBGene00012588', 'WBGene00006681', 'WBGene00010722', 'WBGene00012819', 'WBGene00019977', 'WBGene00015704', 'WBGene00018763', 'WBGene00011760', 'WBGene00045308', 'WBGene00011345', 'WBGene00020260', 'WBGene00013717', 'WBGene00019285', 'WBGene00007176', 'WBGene00016204', 'WBGene00043067', 'WBGene00019717', 'WBGene00017948', 'WBGene00018210', 'WBGene00004221', 'WBGene00020914', 'WBGene00015333', 'WBGene00018241', 'WBGene00007837', 'WBGene00013331', 'WBGene00045053', 'WBGene00219886', 'WBGene00010460', 'WBGene00021633', 'WBGene00004017', 'WBGene00009702', 'WBGene00007041', 'WBGene00009958', 'WBGene00016246', 'WBGene00001440', 'WBGene00011161', 'WBGene00019532', 'WBGene00021275', 'WBGene00007916', 'WBGene00020551', 'WBGene00001941', 'WBGene00007338', 'WBGene00011793', 'WBGene00009738', 'WBGene00008234', 'WBGene00019426', 'WBGene00003015', 'WBGene00016175', 'WBGene00020835', 'WBGene00002184', 'WBGene00003007', 'WBGene00010906', 'WBGene00020531', 'WBGene00002109', 'WBGene00012224', 'WBGene00000727', 'WBGene00016663', 'WBGene00010873', 'WBGene00008023', 'WBGene00015789', 'WBGene00016463', 'WBGene00021975', 'WBGene00016003', 'WBGene00011530', 'WBGene00006163', 'WBGene00010072', 'WBGene00020222', 'WBGene00012989', 'WBGene00016805', 'WBGene00001592', 'WBGene00194717', 'WBGene00020449', 'WBGene00008762', 'WBGene00020448', 'WBGene00012178', 'WBGene00010944', 'WBGene00022891', 'WBGene00021034', 'WBGene00003633', 'WBGene00001487', 'WBGene00018476', 'WBGene00022040', 'WBGene00004264', 'WBGene00022664', 'WBGene00021011', 'WBGene00020859', 'WBGene00013970', 'WBGene00017711', 'WBGene00013585', 'WBGene00016782', 'WBGene00020920', 'WBGene00000503', 'WBGene00008929', 'WBGene00002252', 'WBGene00013090', 'WBGene00010871', 'WBGene00021641', 'WBGene00007610', 'WBGene00021494', 'WBGene00009213', 'WBGene00018042', 'WBGene00005712', 'WBGene00014052', 'WBGene00000012', 'WBGene00013009', 'WBGene00077772', 'WBGene00020850', 'WBGene00004349', 'WBGene00022584', 'WBGene00015560', 'WBGene00008051', 'WBGene00007963', 'WBGene00013280', 'WBGene00022592', 'WBGene00000246', 'WBGene00013352', 'WBGene00015537', 'WBGene00009969', 'WBGene00006682', 'WBGene00021590', 'WBGene00012974', 'WBGene00009226', 'WBGene00045457', 'WBGene00012610', 'WBGene00017894', 'WBGene00001207', 'WBGene00021692', 'WBGene00009125', 'WBGene00021458', 'WBGene00003774', 'WBGene00012948', 'WBGene00000190', 'WBGene00000748', 'WBGene00007590', 'WBGene00013900', 'WBGene00008610', 'WBGene00001150', 'WBGene00003092', 'WBGene00019840', 'WBGene00009484', 'WBGene00018921', 'WBGene00012038', 'WBGene00012467', 'WBGene00008403', 'WBGene00008611', 'WBGene00000555', 'WBGene00006980', 'WBGene00011643', 'WBGene00044238', 'WBGene00018946', 'WBGene00010295', 'WBGene00001455', 'WBGene00008563', 'WBGene00013739', 'WBGene00009831', 'WBGene00004994', 'WBGene00002141', 'WBGene00021553', 'WBGene00009416', 'WBGene00020912', 'WBGene00002090', 'WBGene00019012', 'WBGene00019913', 'WBGene00015701', 'WBGene00010786', 'WBGene00009299', 'WBGene00022815', 'WBGene00002094', 'WBGene00044053', 'WBGene00017692', 'WBGene00020830', 'WBGene00044418', 'WBGene00014002', 'WBGene00019672', 'WBGene00194815', 'WBGene00010744', 'WBGene00007257', 'WBGene00009216', 'WBGene00206361', 'WBGene00219707', 'WBGene00001253', 'WBGene00016785', 'WBGene00002103', 'WBGene00077490', 'WBGene00008594', 'WBGene00005040', 'WBGene00019858', 'WBGene00045417', 'WBGene00000135', 'WBGene00017792', 'WBGene00011772', 'WBGene00016924', 'WBGene00012822', 'WBGene00003740', 'WBGene00021061', 'WBGene00220094', 'WBGene00009104', 'WBGene00016099', 'WBGene00011911', 'WBGene00045238', 'WBGene00019146', 'WBGene00009349', 'WBGene00018062', 'WBGene00015729', 'WBGene00013499', 'WBGene00007658', 'WBGene00219690', 'WBGene00009589', 'WBGene00000969', 'WBGene00018085', 'WBGene00012475', 'WBGene00020228', 'WBGene00000013', 'WBGene00011578', 'WBGene00000756', 'WBGene00006589', 'WBGene00008964', 'WBGene00044242', 'WBGene00007130', 'WBGene00015046', 'WBGene00202501', 'WBGene00018666', 'WBGene00000878', 'WBGene00018298', 'WBGene00021075', 'WBGene00017041', 'WBGene00009964', 'WBGene00023323', 'WBGene00010288', 'WBGene00021786', 'WBGene00012968', 'WBGene00022870', 'WBGene00023263', 'WBGene00007288', 'WBGene00219216', 'WBGene00044113', 'WBGene00000007', 'WBGene00007682', 'WBGene00017726', 'WBGene00007659', 'WBGene00002067', 'WBGene00004001', 'WBGene00014206', 'WBGene00017417', 'WBGene00008490', 'WBGene00045095', 'WBGene00008955', 'WBGene00011185', 'WBGene00012451', 'WBGene00017072', 'WBGene00007320', 'WBGene00022475', 'WBGene00020887', 'WBGene00009209', 'WBGene00021601', 'WBGene00022145', 'WBGene00219950', 'WBGene00235094', 'WBGene00020860']\n",
       "</pre>\n",
       "    </div>\n",
       "    "
      ],
      "text/plain": [
       "<IPython.core.display.HTML object>"
      ]
     },
     "metadata": {},
     "output_type": "display_data"
    }
   ],
   "source": [
    "def my_print_function():\n",
    "    print(f\"There are {len(features)} features.\")\n",
    "    print(features)\n",
    "pya.utils.print_to_scrollable_output(my_print_function)"
   ]
  },
  {
   "cell_type": "markdown",
   "id": "91bba1b6-160f-4403-b000-2b8c80ae3605",
   "metadata": {},
   "source": [
    "#### reference_feature_values"
   ]
  },
  {
   "cell_type": "code",
   "execution_count": 12,
   "id": "f30823bc-1012-44ad-b8b8-f41f8af80f70",
   "metadata": {},
   "outputs": [
    {
     "data": {
      "text/html": [
       "\n",
       "    <div style=\"overflow-x: scroll; overflow-y: scroll; border: 1px solid black; background-color: white; !important; color: black; !important;\">\n",
       "        <pre>None\n",
       "</pre>\n",
       "    </div>\n",
       "    "
      ],
      "text/plain": [
       "<IPython.core.display.HTML object>"
      ]
     },
     "metadata": {},
     "output_type": "display_data"
    }
   ],
   "source": [
    "def my_print_function():\n",
    "    if reference_feature_values:\n",
    "        print(f\"There are {len(reference_feature_values)} reference feature values.\")\n",
    "    print(reference_feature_values)\n",
    "pya.utils.print_to_scrollable_output(my_print_function)"
   ]
  },
  {
   "cell_type": "markdown",
   "id": "43d73553-9f11-46fa-92e6-662b28e2ffa2",
   "metadata": {},
   "source": [
    "#### preprocessing"
   ]
  },
  {
   "cell_type": "code",
   "execution_count": 13,
   "id": "119b6019-0e49-4990-a5de-0bb84049b934",
   "metadata": {},
   "outputs": [
    {
     "data": {
      "text/html": [
       "\n",
       "    <div style=\"overflow-x: scroll; overflow-y: scroll; border: 1px solid black; background-color: white; !important; color: black; !important;\">\n",
       "        <pre>{'name': 'binarize', 'preprocessing_function': b'\\xe3\\x01\\x00\\x00\\x00\\x00\\x00\\x00\\x00\\x00\\x00\\x00\\x00\\x06\\x00\\x00\\x00\\x05\\x00\\x00\\x00C\\x00\\x00\\x00sP\\x00\\x00\\x00|\\x00d\\x01k\\x03}\\x01t\\x00\\xa0\\x01|\\x00j\\x02d\\x01\\x19\\x00\\xa1\\x01}\\x02t\\x03|\\x00\\x83\\x01D\\x00]*\\\\\\x02}\\x03}\\x04|\\x04|\\x01|\\x03\\x19\\x00\\x19\\x00}\\x05|\\x00|\\x03\\x19\\x00t\\x00\\xa0\\x04|\\x05\\xa1\\x01k\\x04|\\x00|\\x03<\\x00q |\\x00S\\x00)\\x02\\xfaN\\n    Binarizes an array based on the median of each row, excluding zeros.\\n    \\xe9\\x00\\x00\\x00\\x00)\\x05\\xda\\x02np\\xda\\x05zeros\\xda\\x05shape\\xda\\tenumerate\\xda\\x06median)\\x06\\xda\\x01x\\xda\\rnon_zero_mask\\xda\\x07medians\\xda\\x01i\\xda\\x03row\\xda\\x11non_zero_elements\\xa9\\x00r\\x0e\\x00\\x00\\x00\\xfa\\x1e<ipython-input-9-b0985e2e68fc>\\xda\\x16preprocessing_function\\x01\\x00\\x00\\x00s\\x0c\\x00\\x00\\x00\\x00\\x05\\x08\\x03\\x10\\x01\\x10\\x01\\x0c\\x01\\x18\\x02', 'preprocessing_helper_objects': None}\n",
       "None\n",
       "</pre>\n",
       "    </div>\n",
       "    "
      ],
      "text/plain": [
       "<IPython.core.display.HTML object>"
      ]
     },
     "metadata": {},
     "output_type": "display_data"
    }
   ],
   "source": [
    "def my_print_function():\n",
    "    print(preprocessing)\n",
    "    if preprocessing:\n",
    "        print(preprocessing_helper_objects)\n",
    "pya.utils.print_to_scrollable_output(my_print_function)"
   ]
  },
  {
   "cell_type": "markdown",
   "id": "5ff48ca1-6902-4caa-a445-36c4730d918d",
   "metadata": {},
   "source": [
    "#### postprocessing"
   ]
  },
  {
   "cell_type": "code",
   "execution_count": 14,
   "id": "e16a3455-cf10-4f31-b34a-6e862905bed4",
   "metadata": {},
   "outputs": [
    {
     "data": {
      "text/html": [
       "\n",
       "    <div style=\"overflow-x: scroll; overflow-y: scroll; border: 1px solid black; background-color: white; !important; color: black; !important;\">\n",
       "        <pre>None\n",
       "</pre>\n",
       "    </div>\n",
       "    "
      ],
      "text/plain": [
       "<IPython.core.display.HTML object>"
      ]
     },
     "metadata": {},
     "output_type": "display_data"
    }
   ],
   "source": [
    "def my_print_function():\n",
    "    print(postprocessing)\n",
    "    if postprocessing:\n",
    "        print(postprocessing)\n",
    "pya.utils.print_to_scrollable_output(my_print_function)"
   ]
  },
  {
   "cell_type": "markdown",
   "id": "5381f7d2-ee10-41c2-9c4c-f435d6506cce",
   "metadata": {},
   "source": [
    "#### weight_dict"
   ]
  },
  {
   "cell_type": "code",
   "execution_count": 15,
   "id": "35cfe9bd-6b25-4063-9bc7-db8e85e918b3",
   "metadata": {},
   "outputs": [
    {
     "data": {
      "text/html": [
       "\n",
       "    <div style=\"overflow-x: scroll; overflow-y: scroll; border: 1px solid black; background-color: white; !important; color: black; !important;\">\n",
       "        <pre>Layer: linear.weight\n",
       "Shape: torch.Size([1, 576])\n",
       "tensor([[-3.9184, -3.6615, -3.4420, -3.3573, -3.1526, -3.1427, -3.1412, -3.1205,\n",
       "         -3.0483, -2.9660, -2.9610, -2.9259, -2.9175, -2.9002, -2.8675, -2.8591,\n",
       "         -2.8372, -2.8030, -2.7863, -2.7264, -2.7252, -2.7046, -2.6424, -2.6393,\n",
       "         -2.6317, -2.6270, -2.6189, -2.6095, -2.5951, -2.5904, -2.5865, -2.5669,\n",
       "         -2.5370, -2.4576, -2.4476, -2.4374, -2.4075, -2.4024, -2.3757, -2.3706,\n",
       "         -2.3672, -2.3559, -2.3535, -2.3343, -2.3134, -2.2981, -2.2854, -2.2816,\n",
       "         -2.2735, -2.2719, -2.2640, -2.2422, -2.2339, -2.1960, -2.1798, -2.1597,\n",
       "         -2.1532, -2.1481, -2.1111, -2.1006, -2.0852, -2.0708, -2.0704, -2.0675,\n",
       "         -2.0624, -2.0547, -2.0523, -2.0508, -2.0306, -2.0195, -1.9979, -1.9873,\n",
       "         -1.9750, -1.9735, -1.9644, -1.9612, -1.9562, -1.9542, -1.9465, -1.9376,\n",
       "         -1.9348, -1.9177, -1.9098, -1.8994, -1.8966, -1.8938, -1.8776, -1.8702,\n",
       "         -1.8689, -1.8664, -1.8632, -1.8538, -1.8490, -1.8106, -1.8093, -1.7878,\n",
       "         -1.7832, -1.7723, -1.7700, -1.7688, -1.7395, -1.7245, -1.7127, -1.7037,\n",
       "         -1.7015, -1.6997, -1.6852, -1.6836, -1.6791, -1.6718, -1.6705, -1.6646,\n",
       "         -1.6628, -1.6559, -1.6420, -1.6279, -1.6252, -1.6245, -1.6099, -1.6090,\n",
       "         -1.6083, -1.5956, -1.5743, -1.5699, -1.5694, -1.5635, -1.5630, -1.5386,\n",
       "         -1.5380, -1.5264, -1.4997, -1.4956, -1.4770, -1.4700, -1.4672, -1.4660,\n",
       "         -1.4594, -1.4584, -1.4583, -1.4514, -1.4471, -1.4455, -1.4424, -1.4393,\n",
       "         -1.4358, -1.4321, -1.4123, -1.4085, -1.4080, -1.4066, -1.4038, -1.3896,\n",
       "         -1.3888, -1.3760, -1.3685, -1.3654, -1.3602, -1.3566, -1.3557, -1.3377,\n",
       "         -1.3248, -1.3157, -1.3065, -1.2998, -1.2818, -1.2808, -1.2790, -1.2483,\n",
       "         -1.2281, -1.2266, -1.2182, -1.2001, -1.1998, -1.1956, -1.1917, -1.1904,\n",
       "         -1.1886, -1.1838, -1.1774, -1.1756, -1.1746, -1.1739, -1.1655, -1.1641,\n",
       "         -1.1633, -1.1579, -1.1406, -1.1363, -1.1354, -1.1137, -1.1100, -1.1074,\n",
       "         -1.1058, -1.0968, -1.0909, -1.0878, -1.0820, -1.0688, -1.0654, -1.0628,\n",
       "         -1.0544, -1.0484, -1.0447, -1.0363, -1.0195, -1.0166, -1.0130, -1.0119,\n",
       "         -1.0084, -1.0055, -1.0027, -1.0020, -0.9954, -0.9866, -0.9789, -0.9622,\n",
       "         -0.9594, -0.9575, -0.9559, -0.9159, -0.8919, -0.8917, -0.8759, -0.8747,\n",
       "         -0.8579, -0.8544, -0.8411, -0.8392, -0.8232, -0.8099, -0.8028, -0.8024,\n",
       "         -0.7920, -0.7804, -0.7692, -0.7490, -0.7435, -0.7408, -0.7404, -0.7343,\n",
       "         -0.7334, -0.7308, -0.7289, -0.7288, -0.6932, -0.6932, -0.6749, -0.6701,\n",
       "         -0.6465, -0.6269, -0.6144, -0.6092, -0.6089, -0.6001, -0.5726, -0.5659,\n",
       "         -0.5623, -0.5605, -0.5560, -0.5479, -0.5280, -0.5152, -0.5084, -0.5071,\n",
       "         -0.4614, -0.4432, -0.4088, -0.4060, -0.3775, -0.3573, -0.3463, -0.3387,\n",
       "         -0.3369, -0.3180, -0.3067, -0.3037, -0.2971, -0.2776, -0.2637, -0.2637,\n",
       "         -0.2484, -0.1937, -0.1747, -0.1742, -0.1543, -0.1481, -0.0830, -0.0737,\n",
       "          0.0000,  0.0000,  0.0000,  0.0000,  0.0000,  0.0000,  0.1682,  0.2551,\n",
       "          0.2782,  0.3172,  0.3277,  0.3436,  0.3776,  0.4057,  0.4068,  0.4442,\n",
       "          0.4442,  0.4567,  0.4669,  0.4692,  0.4951,  0.5061,  0.5292,  0.5323,\n",
       "          0.5540,  0.5567,  0.6166,  0.6285,  0.6581,  0.6762,  0.6925,  0.7210,\n",
       "          0.7322,  0.7399,  0.7425,  0.7548,  0.7574,  0.7735,  0.7851,  0.7886,\n",
       "          0.8056,  0.8133,  0.8247,  0.8338,  0.8617,  0.8731,  0.8844,  0.8996,\n",
       "          0.9200,  0.9498,  0.9606,  0.9647,  0.9683,  0.9716,  0.9764,  0.9789,\n",
       "          0.9859,  0.9983,  1.0010,  1.0224,  1.0292,  1.0344,  1.0860,  1.1022,\n",
       "          1.1062,  1.1383,  1.1545,  1.1557,  1.1721,  1.1952,  1.2009,  1.2151,\n",
       "          1.2183,  1.2371,  1.2403,  1.2558,  1.2778,  1.2863,  1.2971,  1.3032,\n",
       "          1.3058,  1.3069,  1.3141,  1.3210,  1.3284,  1.3362,  1.3520,  1.3535,\n",
       "          1.3650,  1.3662,  1.3674,  1.3703,  1.3794,  1.3808,  1.3829,  1.3914,\n",
       "          1.3916,  1.3928,  1.3980,  1.4125,  1.4249,  1.4262,  1.4409,  1.4416,\n",
       "          1.4420,  1.4423,  1.4438,  1.4487,  1.4516,  1.4531,  1.4553,  1.4574,\n",
       "          1.4668,  1.4770,  1.4840,  1.4892,  1.4901,  1.4956,  1.5033,  1.5056,\n",
       "          1.5092,  1.5314,  1.5394,  1.5503,  1.5944,  1.5990,  1.6116,  1.6214,\n",
       "          1.6506,  1.6545,  1.6637,  1.6682,  1.6728,  1.6792,  1.6806,  1.6878,\n",
       "          1.7024,  1.7074,  1.7096,  1.7191,  1.7307,  1.7321,  1.7387,  1.7414,\n",
       "          1.7420,  1.7475,  1.7518,  1.7617,  1.7749,  1.7783,  1.7836,  1.7861,\n",
       "          1.7891,  1.7951,  1.7999,  1.8020,  1.8144,  1.8214,  1.8438,  1.8455,\n",
       "          1.8496,  1.8527,  1.8547,  1.8605,  1.8632,  1.8663,  1.8913,  1.8957,\n",
       "          1.9068,  1.9076,  1.9093,  1.9218,  1.9367,  1.9495,  1.9537,  1.9550,\n",
       "          1.9555,  1.9581,  2.0018,  2.0075,  2.0183,  2.0190,  2.0219,  2.0324,\n",
       "          2.0401,  2.0458,  2.0459,  2.0469,  2.0591,  2.0630,  2.0752,  2.0866,\n",
       "          2.0959,  2.1185,  2.1302,  2.1351,  2.1414,  2.1468,  2.1527,  2.1592,\n",
       "          2.1641,  2.1721,  2.1940,  2.1962,  2.2062,  2.2186,  2.2195,  2.2221,\n",
       "          2.2238,  2.2268,  2.2379,  2.2460,  2.2506,  2.2568,  2.2905,  2.2940,\n",
       "          2.3004,  2.3177,  2.3249,  2.3271,  2.3275,  2.3378,  2.3491,  2.3526,\n",
       "          2.3567,  2.3645,  2.3731,  2.3784,  2.3952,  2.4010,  2.4057,  2.4105,\n",
       "          2.4127,  2.4419,  2.4420,  2.4483,  2.4662,  2.4965,  2.4973,  2.5039,\n",
       "          2.5323,  2.5578,  2.6152,  2.6264,  2.6311,  2.6424,  2.6544,  2.6553,\n",
       "          2.6600,  2.6784,  2.7053,  2.7317,  2.7479,  2.7769,  2.7930,  2.8003,\n",
       "          2.8074,  2.8198,  2.8383,  2.8548,  2.8726,  2.9048,  2.9143,  2.9217,\n",
       "          2.9606,  2.9652,  2.9968,  3.0024,  3.0038,  3.0310,  3.0317,  3.1162,\n",
       "          3.1659,  3.1759,  3.2150,  3.2237,  3.2742,  3.3065,  3.3421,  3.3849,\n",
       "          3.3965,  3.4700,  3.4917,  3.5075,  3.5840,  3.6000,  3.6636,  4.4098]])\n",
       "Layer: linear.bias\n",
       "Shape: torch.Size([1])\n",
       "tensor([103.5463])\n",
       "</pre>\n",
       "    </div>\n",
       "    "
      ],
      "text/plain": [
       "<IPython.core.display.HTML object>"
      ]
     },
     "metadata": {},
     "output_type": "display_data"
    }
   ],
   "source": [
    "def my_print_function():\n",
    "    for name, param in model.named_parameters():\n",
    "        print(f\"Layer: {name}\")\n",
    "        print(f\"Shape: {param.shape}\")\n",
    "        print(param.data)\n",
    "pya.utils.print_to_scrollable_output(my_print_function)"
   ]
  },
  {
   "cell_type": "markdown",
   "id": "275815e5-5630-4163-bc61-7119a9c805c1",
   "metadata": {},
   "source": [
    "## Write clock dictionary"
   ]
  },
  {
   "cell_type": "markdown",
   "id": "3b176620-afb5-403c-9948-07639072bb44",
   "metadata": {},
   "source": [
    "Let's put everything together and save:"
   ]
  },
  {
   "cell_type": "code",
   "execution_count": 16,
   "id": "35d00b76-513d-4d8f-8824-6d810ee9d8f5",
   "metadata": {},
   "outputs": [],
   "source": [
    "clock_dict = {\n",
    "    # Metadata\n",
    "    'clock_name': clock_name,\n",
    "    'data_type': data_type,\n",
    "    'model_class': model_class,\n",
    "    'species': species,\n",
    "    'year': year,\n",
    "    'approved_by_author': approved_by_author,\n",
    "    'citation': citation,\n",
    "    'doi': doi,\n",
    "    \"notes\": notes,\n",
    "\n",
    "    # Data\n",
    "    'reference_feature_values': reference_feature_values if reference_feature_values else None,\n",
    "    'preprocessing': preprocessing if preprocessing else None, \n",
    "    'features': features,\n",
    "    'weight_dict': model.state_dict(),\n",
    "    'postprocessing': postprocessing if postprocessing else None,\n",
    "}\n",
    "\n",
    "torch.save(clock_dict, f'../weights/{clock_name}.pt')"
   ]
  },
  {
   "cell_type": "markdown",
   "id": "c1dd2efe-2bd6-4e1b-92ee-d110c25ad29c",
   "metadata": {},
   "source": [
    "## Clear directory"
   ]
  },
  {
   "cell_type": "markdown",
   "id": "158aa71f-7bbc-4c52-b7ef-16ba45d5e1fd",
   "metadata": {},
   "source": [
    "Delete all files that are not clock jupyter notebooks:"
   ]
  },
  {
   "cell_type": "code",
   "execution_count": 17,
   "id": "db4bd42b-c62f-4557-9ebc-d8194a240137",
   "metadata": {},
   "outputs": [
    {
     "name": "stdout",
     "output_type": "stream",
     "text": [
      "Deleted folder: AgingClock\n",
      "Deleted folder: .ipynb_checkpoints\n"
     ]
    }
   ],
   "source": [
    "# Function to remove a folder and all its contents\n",
    "def remove_folder(path):\n",
    "    try:\n",
    "        shutil.rmtree(path)\n",
    "        print(f\"Deleted folder: {path}\")\n",
    "    except Exception as e:\n",
    "        print(f\"Error deleting folder {path}: {e}\")\n",
    "\n",
    "# Get a list of all files and folders in the current directory\n",
    "all_items = os.listdir('.')\n",
    "\n",
    "# Loop through the items\n",
    "for item in all_items:\n",
    "    # Check if it's a file and does not end with .ipynb\n",
    "    if os.path.isfile(item) and not item.endswith('.ipynb'):\n",
    "        os.remove(item)\n",
    "        print(f\"Deleted file: {item}\")\n",
    "    # Check if it's a folder\n",
    "    elif os.path.isdir(item):\n",
    "        remove_folder(item)"
   ]
  }
 ],
 "metadata": {
  "kernelspec": {
   "display_name": "Python 3",
   "language": "python",
   "name": "python3"
  },
  "language_info": {
   "codemirror_mode": {
    "name": "ipython",
    "version": 3
   },
   "file_extension": ".py",
   "mimetype": "text/x-python",
   "name": "python",
   "nbconvert_exporter": "python",
   "pygments_lexer": "ipython3",
   "version": "3.9.17"
  }
 },
 "nbformat": 4,
 "nbformat_minor": 5
}

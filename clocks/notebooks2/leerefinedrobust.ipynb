{
 "cells": [
  {
   "cell_type": "markdown",
   "id": "2f04eee0-5928-4e74-a754-6dc2e528810c",
   "metadata": {},
   "source": [
    "# LeeRefinedRobust"
   ]
  },
  {
   "cell_type": "markdown",
   "id": "a3f514a3-772c-4a14-afdf-5a8376851ff4",
   "metadata": {},
   "source": [
    "## Index\n",
    "1. [Define required clock parameters](#Define-required-clock-parameters)\n",
    "2. [Download necessary data](#Download-necessary-data)\n",
    "3. [Load data](#-Load-data)\n",
    "4. [Extract features and weights](#Extract-features-and-weights)\n",
    "5. [Load weights into pyaging model](#Load-weights-into-pyaging-model)\n",
    "6. [Add reference values](#Add-reference-values)\n",
    "7. [Add preprocessing and postprocesssing steps](#Add-preprocessing-and-postprocesssing-steps)\n",
    "8. [Check all data objects](#Check-all-data-objects)\n",
    "9. [Write clock dictionary](#Write-clock-dictionary)\n",
    "10. [Clear directory](#Clear-directory)"
   ]
  },
  {
   "cell_type": "markdown",
   "id": "d95fafdc-643a-40ea-a689-200bd132e90c",
   "metadata": {},
   "source": [
    "Let's first import some packages:"
   ]
  },
  {
   "cell_type": "code",
   "execution_count": 1,
   "id": "4adfb4de-cd79-4913-a1af-9e23e9e236c9",
   "metadata": {},
   "outputs": [],
   "source": [
    "import os\n",
    "import marshal\n",
    "import shutil\n",
    "import json\n",
    "import torch\n",
    "import pandas as pd\n",
    "import pyaging as pya"
   ]
  },
  {
   "cell_type": "markdown",
   "id": "c8c0c937-d9b6-4756-99b0-91de591220e0",
   "metadata": {},
   "source": [
    "## Define required clock parameters"
   ]
  },
  {
   "cell_type": "markdown",
   "id": "cf95ddca-625e-4c70-a246-c3cb12df96f8",
   "metadata": {},
   "source": [
    "Let's define some required information first:"
   ]
  },
  {
   "cell_type": "code",
   "execution_count": 2,
   "id": "5281776d-0549-445f-beec-39c31ec7dbe1",
   "metadata": {},
   "outputs": [],
   "source": [
    "clock_name = 'leerefinedrobust'\n",
    "data_type = 'methylation'\n",
    "model_class = 'LinearModel'\n",
    "species = 'Homo sapiens'\n",
    "year = 2019\n",
    "approved_by_author = '⌛'\n",
    "citation = \"Lee, Yunsung, et al. \\\"Placental epigenetic clocks: estimating gestational age using placental DNA methylation levels.\\\" Aging (Albany NY) 11.12 (2019): 4238.\"\n",
    "doi = \"https://doi.org/10.18632/aging.102049\"\n",
    "notes = None"
   ]
  },
  {
   "cell_type": "markdown",
   "id": "4520c8cb-6c1f-4490-ba4c-6fe78ef002a7",
   "metadata": {},
   "source": [
    "## Download necessary data"
   ]
  },
  {
   "cell_type": "markdown",
   "id": "f8d77386-a524-492b-a002-18d24b6ca49a",
   "metadata": {},
   "source": [
    "#### Download directly with curl"
   ]
  },
  {
   "cell_type": "code",
   "execution_count": 3,
   "id": "0003b39e-e032-4822-aff7-970583187d22",
   "metadata": {},
   "outputs": [
    {
     "data": {
      "text/plain": [
       "0"
      ]
     },
     "execution_count": 3,
     "metadata": {},
     "output_type": "execute_result"
    }
   ],
   "source": [
    "supplementary_url = \"https://www.aging-us.com/article/102049/supplementary/SD2/0/aging-v11i12-102049-supplementary-material-SD2.csv\"\n",
    "supplementary_file_name = \"coefficients.csv\"\n",
    "os.system(f\"curl -o {supplementary_file_name} {supplementary_url}\")"
   ]
  },
  {
   "cell_type": "markdown",
   "id": "35615b62-73ac-40b1-8bc1-e904403eb0ae",
   "metadata": {},
   "source": [
    "## Load data"
   ]
  },
  {
   "cell_type": "markdown",
   "id": "232eb94a-04a7-4ac4-ae3e-0e365b443a8e",
   "metadata": {},
   "source": [
    "#### From CSV file"
   ]
  },
  {
   "cell_type": "code",
   "execution_count": 4,
   "id": "45fbc051-f0d2-4b25-9813-ae126f6fedcb",
   "metadata": {},
   "outputs": [],
   "source": [
    "df = pd.read_csv('coefficients.csv')"
   ]
  },
  {
   "cell_type": "markdown",
   "id": "60c676db-2c7c-4c04-9457-97bccd598269",
   "metadata": {},
   "source": [
    "## Extract features and weights"
   ]
  },
  {
   "cell_type": "markdown",
   "id": "87dfda00-5182-4416-8eb1-de91ce2a9e48",
   "metadata": {},
   "source": [
    "First, let's extract the features and weights:"
   ]
  },
  {
   "cell_type": "code",
   "execution_count": 5,
   "id": "e1d1dd13-65ac-4694-8948-3cd94bc19fe1",
   "metadata": {},
   "outputs": [
    {
     "data": {
      "text/html": [
       "<div>\n",
       "<style scoped>\n",
       "    .dataframe tbody tr th:only-of-type {\n",
       "        vertical-align: middle;\n",
       "    }\n",
       "\n",
       "    .dataframe tbody tr th {\n",
       "        vertical-align: top;\n",
       "    }\n",
       "\n",
       "    .dataframe thead th {\n",
       "        text-align: right;\n",
       "    }\n",
       "</style>\n",
       "<table border=\"1\" class=\"dataframe\">\n",
       "  <thead>\n",
       "    <tr style=\"text-align: right;\">\n",
       "      <th></th>\n",
       "      <th>CpGs</th>\n",
       "      <th>Coefficient_RPC</th>\n",
       "      <th>Coefficient_CPC</th>\n",
       "      <th>Coefficient_refined_RPC</th>\n",
       "      <th>Coefficient_sex_classifier</th>\n",
       "      <th>feature</th>\n",
       "      <th>coefficient</th>\n",
       "    </tr>\n",
       "  </thead>\n",
       "  <tbody>\n",
       "    <tr>\n",
       "      <th>0</th>\n",
       "      <td>(Intercept)</td>\n",
       "      <td>24.997721</td>\n",
       "      <td>13.061820</td>\n",
       "      <td>30.749662</td>\n",
       "      <td>1.801244</td>\n",
       "      <td>(Intercept)</td>\n",
       "      <td>30.749662</td>\n",
       "    </tr>\n",
       "    <tr>\n",
       "      <th>1</th>\n",
       "      <td>cg00009871</td>\n",
       "      <td>-0.124657</td>\n",
       "      <td>0.000000</td>\n",
       "      <td>-0.818616</td>\n",
       "      <td>0.000000</td>\n",
       "      <td>cg00009871</td>\n",
       "      <td>-0.818616</td>\n",
       "    </tr>\n",
       "    <tr>\n",
       "      <th>3</th>\n",
       "      <td>cg00056066</td>\n",
       "      <td>0.859460</td>\n",
       "      <td>0.019747</td>\n",
       "      <td>0.167224</td>\n",
       "      <td>0.000000</td>\n",
       "      <td>cg00056066</td>\n",
       "      <td>0.167224</td>\n",
       "    </tr>\n",
       "    <tr>\n",
       "      <th>4</th>\n",
       "      <td>cg00057476</td>\n",
       "      <td>0.372323</td>\n",
       "      <td>0.782812</td>\n",
       "      <td>0.349374</td>\n",
       "      <td>0.000000</td>\n",
       "      <td>cg00057476</td>\n",
       "      <td>0.349374</td>\n",
       "    </tr>\n",
       "    <tr>\n",
       "      <th>5</th>\n",
       "      <td>cg00063979</td>\n",
       "      <td>-0.509029</td>\n",
       "      <td>0.000000</td>\n",
       "      <td>-1.067896</td>\n",
       "      <td>0.000000</td>\n",
       "      <td>cg00063979</td>\n",
       "      <td>-1.067896</td>\n",
       "    </tr>\n",
       "  </tbody>\n",
       "</table>\n",
       "</div>"
      ],
      "text/plain": [
       "          CpGs  Coefficient_RPC  Coefficient_CPC  Coefficient_refined_RPC  \\\n",
       "0  (Intercept)        24.997721        13.061820                30.749662   \n",
       "1   cg00009871        -0.124657         0.000000                -0.818616   \n",
       "3   cg00056066         0.859460         0.019747                 0.167224   \n",
       "4   cg00057476         0.372323         0.782812                 0.349374   \n",
       "5   cg00063979        -0.509029         0.000000                -1.067896   \n",
       "\n",
       "   Coefficient_sex_classifier      feature  coefficient  \n",
       "0                    1.801244  (Intercept)    30.749662  \n",
       "1                    0.000000   cg00009871    -0.818616  \n",
       "3                    0.000000   cg00056066     0.167224  \n",
       "4                    0.000000   cg00057476     0.349374  \n",
       "5                    0.000000   cg00063979    -1.067896  "
      ]
     },
     "execution_count": 5,
     "metadata": {},
     "output_type": "execute_result"
    }
   ],
   "source": [
    "df['feature'] = df['CpGs']\n",
    "df['coefficient'] = df['Coefficient_refined_RPC']\n",
    "df = df[df.coefficient != 0]\n",
    "\n",
    "df.head()"
   ]
  },
  {
   "cell_type": "markdown",
   "id": "5ac5b42a-3bd9-49d3-b84e-79d236af24b4",
   "metadata": {},
   "source": [
    "Then, let's create lists for features and weights. Be careful about the intercept, as it usually shows up as a feature name."
   ]
  },
  {
   "cell_type": "code",
   "execution_count": 6,
   "id": "2fc06bb5-7e9c-46fd-9843-31880f1d3788",
   "metadata": {},
   "outputs": [],
   "source": [
    "features = df['feature'][1:].tolist()\n",
    "weights = torch.tensor(df['coefficient'][1:].tolist()).unsqueeze(0)\n",
    "intercept = torch.tensor([df['coefficient'][0]])"
   ]
  },
  {
   "cell_type": "markdown",
   "id": "d193ccbf-d06b-49bb-ad4b-ffe3271dea63",
   "metadata": {},
   "source": [
    "## Load weights into pyaging model"
   ]
  },
  {
   "cell_type": "markdown",
   "id": "4350119a-4bd4-4efa-85b5-9de70fdf496f",
   "metadata": {},
   "source": [
    "#### Linear model"
   ]
  },
  {
   "cell_type": "code",
   "execution_count": 7,
   "id": "7354c541-5af9-447d-a339-2cb88c253b41",
   "metadata": {},
   "outputs": [
    {
     "data": {
      "text/plain": [
       "LinearModel(\n",
       "  (linear): Linear(in_features=395, out_features=1, bias=True)\n",
       ")"
      ]
     },
     "execution_count": 7,
     "metadata": {},
     "output_type": "execute_result"
    }
   ],
   "source": [
    "model = pya.models.LinearModel(input_dim=len(features))\n",
    "\n",
    "model.linear.weight.data = weights.float()\n",
    "model.linear.bias.data = intercept.float()\n",
    "\n",
    "model"
   ]
  },
  {
   "cell_type": "markdown",
   "id": "06adc9d8-cec2-447d-8d0b-e2819d4c1a5b",
   "metadata": {},
   "source": [
    "## Add reference values"
   ]
  },
  {
   "cell_type": "markdown",
   "id": "84bf0205-f976-497b-a6a9-e4945c05cdb3",
   "metadata": {},
   "source": [
    "Some clocks have reference values in the case of missing features. It is also possible that these values are for preprocessing features rather than the clock features. Let's add a dictionary with the feature names as the keys."
   ]
  },
  {
   "cell_type": "code",
   "execution_count": 8,
   "id": "250dd50d-a175-45f3-913b-da87c50cb55c",
   "metadata": {},
   "outputs": [],
   "source": [
    "reference_feature_values = None"
   ]
  },
  {
   "cell_type": "markdown",
   "id": "c9b4fd10-797c-45bd-aa1a-65aed1deaf1c",
   "metadata": {},
   "source": [
    "## Add preprocessing and postprocesssing steps"
   ]
  },
  {
   "cell_type": "markdown",
   "id": "20649dc9-2b58-4c63-a48e-f8d7a4bb520b",
   "metadata": {},
   "source": [
    "The preprocessing and postprocessing objects are dictionaries with the following format, with all items required. It takes in x in the form of a numpy array."
   ]
  },
  {
   "cell_type": "code",
   "execution_count": 9,
   "id": "1d173005-fb63-43d5-bd9f-0b4fa2e240b1",
   "metadata": {},
   "outputs": [],
   "source": [
    "preprocessing = None"
   ]
  },
  {
   "cell_type": "markdown",
   "id": "3ca747b4-0214-40a1-a7bf-fbf2a71084af",
   "metadata": {},
   "source": [
    "Similarly is the case of postprocessing. Remember that your function must be compatible with torch and is applied to each number individually."
   ]
  },
  {
   "cell_type": "code",
   "execution_count": 10,
   "id": "6fe37a2c-113a-4517-91e4-10a4e8b2005a",
   "metadata": {},
   "outputs": [],
   "source": [
    "postprocessing = None"
   ]
  },
  {
   "cell_type": "markdown",
   "id": "4d49d422-b156-4e92-8d4d-cea39e73bad6",
   "metadata": {},
   "source": [
    "## Check all data objects"
   ]
  },
  {
   "cell_type": "markdown",
   "id": "13498e2f-fe5c-452f-9b44-cfd46cf68534",
   "metadata": {},
   "source": [
    "Let's print all data objects to check if they make sense."
   ]
  },
  {
   "cell_type": "markdown",
   "id": "e95338ba-1d5c-45f4-90e5-6a9996c9d8c2",
   "metadata": {},
   "source": [
    "#### features"
   ]
  },
  {
   "cell_type": "code",
   "execution_count": 11,
   "id": "bf047bed-52f0-4a64-9691-4c04df9f50ec",
   "metadata": {},
   "outputs": [
    {
     "data": {
      "text/html": [
       "\n",
       "    <div style=\"overflow-x: scroll; overflow-y: scroll; border: 1px solid black; background-color: white; !important; color: black; !important;\">\n",
       "        <pre>There are 395 features.\n",
       "['cg00009871', 'cg00056066', 'cg00057476', 'cg00063979', 'cg00073090', 'cg00091483', 'cg00192031', 'cg00239899', 'cg00307685', 'cg00398130', 'cg00400547', 'cg00501482', 'cg00521434', 'cg00639010', 'cg00674365', 'cg00675037', 'cg00705661', 'cg00721170', 'cg00766497', 'cg00896578', 'cg01075918', 'cg01093285', 'cg01118711', 'cg01152073', 'cg01233392', 'cg01272599', 'cg01284448', 'cg01376763', 'cg01508380', 'cg01509843', 'cg01516372', 'cg01542644', 'cg01550716', 'cg01825213', 'cg01904393', 'cg01960128', 'cg02012338', 'cg02020969', 'cg02057688', 'cg02292263', 'cg02313836', 'cg02357404', 'cg02388882', 'cg02492818', 'cg02561726', 'cg02609848', 'cg02634272', 'cg02657611', 'cg02737268', 'cg02784694', 'cg02884820', 'cg02935272', 'cg03020916', 'cg03141090', 'cg03213833', 'cg03307911', 'cg03352106', 'cg03361973', 'cg03441945', 'cg03543893', 'cg03655174', 'cg03730703', 'cg03732020', 'cg03753454', 'cg03867465', 'cg03880841', 'cg03946955', 'cg03979241', 'cg03991547', 'cg04016621', 'cg04046945', 'cg04184716', 'cg04191989', 'cg04246521', 'cg04258219', 'cg04431946', 'cg04474049', 'cg04501188', 'cg04671541', 'cg04702354', 'cg04721719', 'cg04741211', 'cg04771206', 'cg04961189', 'cg04973802', 'cg05054910', 'cg05169312', 'cg05198297', 'cg05304393', 'cg05308656', 'cg05321252', 'cg05340495', 'cg05373339', 'cg05404233', 'cg05498905', 'cg05529152', 'cg05634630', 'cg05676377', 'cg05689413', 'cg05773312', 'cg05875982', 'cg05878887', 'cg05918355', 'cg05922384', 'cg06042565', 'cg06191390', 'cg06295928', 'cg06479057', 'cg06551595', 'cg06636938', 'cg06683487', 'cg06754565', 'cg06848775', 'cg06960461', 'cg06963709', 'cg07003542', 'cg07025505', 'cg07039180', 'cg07110488', 'cg07152001', 'cg07159758', 'cg07395354', 'cg07591186', 'cg07620573', 'cg07760622', 'cg07847030', 'cg07900024', 'cg07987148', 'cg08006309', 'cg08016257', 'cg08289409', 'cg08355702', 'cg08371391', 'cg08389497', 'cg08581745', 'cg08680528', 'cg08815081', 'cg08885224', 'cg08920210', 'cg08954353', 'cg08978665', 'cg09015905', 'cg09154850', 'cg09163779', 'cg09338032', 'cg09364122', 'cg09502069', 'cg09566302', 'cg09692396', 'cg09935792', 'cg09936400', 'cg10000096', 'cg10097150', 'cg10121113', 'cg10255171', 'cg10292915', 'cg10432569', 'cg10599900', 'cg10605064', 'cg10608230', 'cg10707775', 'cg10715223', 'cg10737521', 'cg10750182', 'cg10761804', 'cg10978966', 'cg10991599', 'cg11095319', 'cg11387705', 'cg11480029', 'cg11516031', 'cg11518454', 'cg11547667', 'cg11569478', 'cg11677744', 'cg11685391', 'cg11691535', 'cg11782635', 'cg11841722', 'cg11847543', 'cg11916219', 'cg12013591', 'cg12192145', 'cg12498094', 'cg12521167', 'cg12551957', 'cg12608727', 'cg12609526', 'cg12685753', 'cg12816936', 'cg12838546', 'cg12907988', 'cg13046832', 'cg13185702', 'cg13191008', 'cg13239348', 'cg13267931', 'cg13274014', 'cg13307451', 'cg13342364', 'cg13516479', 'cg13612295', 'cg13613346', 'cg13624385', 'cg13657446', 'cg13670306', 'cg13673837', 'cg13930596', 'cg13975660', 'cg13998890', 'cg14319286', 'cg14324358', 'cg14415214', 'cg14430629', 'cg14471784', 'cg14479301', 'cg14590206', 'cg14614689', 'cg14653043', 'cg14654324', 'cg14656657', 'cg14689532', 'cg14767790', 'cg14789214', 'cg14834938', 'cg14840612', 'cg14882966', 'cg14938844', 'cg15044957', 'cg15061231', 'cg15326535', 'cg15339231', 'cg15393304', 'cg15405432', 'cg15429854', 'cg15488978', 'cg15590989', 'cg15701237', 'cg15799226', 'cg15862128', 'cg15909725', 'cg15957413', 'cg16047471', 'cg16201273', 'cg16330755', 'cg16373998', 'cg16464007', 'cg16606638', 'cg16621633', 'cg16658557', 'cg16673477', 'cg16744911', 'cg16928044', 'cg16970628', 'cg16977520', 'cg16992257', 'cg16992627', 'cg17041937', 'cg17064250', 'cg17160984', 'cg17257265', 'cg17279839', 'cg17313945', 'cg17328631', 'cg17409809', 'cg17421890', 'cg17434901', 'cg17452301', 'cg17458967', 'cg17483959', 'cg17485141', 'cg17557540', 'cg17658634', 'cg17816394', 'cg17842912', 'cg18087256', 'cg18098498', 'cg18109838', 'cg18147676', 'cg18259003', 'cg18318704', 'cg18332814', 'cg18372930', 'cg18405260', 'cg18414021', 'cg18554789', 'cg18610079', 'cg18633684', 'cg18652346', 'cg18667659', 'cg18752527', 'cg18756545', 'cg18946117', 'cg18977727', 'cg19107655', 'cg19680696', 'cg19684887', 'cg19708065', 'cg19848629', 'cg19864002', 'cg19904031', 'cg19998151', 'cg20004451', 'cg20083730', 'cg20102034', 'cg20256494', 'cg20435464', 'cg20445053', 'cg20477448', 'cg20618622', 'cg20758219', 'cg20916427', 'cg21199406', 'cg21222743', 'cg21252483', 'cg21276549', 'cg21433768', 'cg21467614', 'cg21824620', 'cg21827203', 'cg22168205', 'cg22193385', 'cg22222461', 'cg22254606', 'cg22360016', 'cg22390337', 'cg22393213', 'cg22448889', 'cg22460123', 'cg22539014', 'cg22559494', 'cg22569523', 'cg22782986', 'cg22828602', 'cg22946648', 'cg22947322', 'cg22955525', 'cg22977072', 'cg23023126', 'cg23031135', 'cg23044186', 'cg23093664', 'cg23146998', 'cg23166656', 'cg23238147', 'cg23330450', 'cg23442621', 'cg23594928', 'cg23811464', 'cg23932798', 'cg23969554', 'cg24238265', 'cg24305861', 'cg24326130', 'cg24357849', 'cg24498636', 'cg24545421', 'cg24630195', 'cg24771017', 'cg24773770', 'cg24832985', 'cg24846594', 'cg24865623', 'cg24998879', 'cg25023198', 'cg25076980', 'cg25252585', 'cg25298189', 'cg25311466', 'cg25402228', 'cg25421566', 'cg25500028', 'cg25587431', 'cg25616869', 'cg25631489', 'cg26110645', 'cg26137267', 'cg26140475', 'cg26351229', 'cg26502666', 'cg26520396', 'cg26544594', 'cg26559315', 'cg26704293', 'cg26942892', 'cg26955755', 'cg27182106', 'cg27193735', 'cg27261733', 'cg27271937', 'cg27424995', 'cg27428551', 'cg27459981', 'cg27595997', 'cg27612324']\n",
       "</pre>\n",
       "    </div>\n",
       "    "
      ],
      "text/plain": [
       "<IPython.core.display.HTML object>"
      ]
     },
     "metadata": {},
     "output_type": "display_data"
    }
   ],
   "source": [
    "def my_print_function():\n",
    "    print(f\"There are {len(features)} features.\")\n",
    "    print(features)\n",
    "pya.utils.print_to_scrollable_output(my_print_function)"
   ]
  },
  {
   "cell_type": "markdown",
   "id": "e449ddfc-d0b3-43b5-a707-193610cbca6d",
   "metadata": {},
   "source": [
    "#### reference_feature_values"
   ]
  },
  {
   "cell_type": "code",
   "execution_count": 12,
   "id": "6436fd01-0a8e-41a5-b584-2c020136ff97",
   "metadata": {},
   "outputs": [
    {
     "data": {
      "text/html": [
       "\n",
       "    <div style=\"overflow-x: scroll; overflow-y: scroll; border: 1px solid black; background-color: white; !important; color: black; !important;\">\n",
       "        <pre>None\n",
       "</pre>\n",
       "    </div>\n",
       "    "
      ],
      "text/plain": [
       "<IPython.core.display.HTML object>"
      ]
     },
     "metadata": {},
     "output_type": "display_data"
    }
   ],
   "source": [
    "def my_print_function():\n",
    "    if reference_feature_values:\n",
    "        print(f\"There are {len(reference_feature_values)} reference feature values.\")\n",
    "    print(reference_feature_values)\n",
    "pya.utils.print_to_scrollable_output(my_print_function)"
   ]
  },
  {
   "cell_type": "markdown",
   "id": "aa4102f3-c292-4910-a8b0-026c5df0f0cf",
   "metadata": {},
   "source": [
    "#### preprocessing"
   ]
  },
  {
   "cell_type": "code",
   "execution_count": 13,
   "id": "960c5ede-3175-4192-a358-bf5ccb41074f",
   "metadata": {},
   "outputs": [
    {
     "data": {
      "text/html": [
       "\n",
       "    <div style=\"overflow-x: scroll; overflow-y: scroll; border: 1px solid black; background-color: white; !important; color: black; !important;\">\n",
       "        <pre>None\n",
       "</pre>\n",
       "    </div>\n",
       "    "
      ],
      "text/plain": [
       "<IPython.core.display.HTML object>"
      ]
     },
     "metadata": {},
     "output_type": "display_data"
    }
   ],
   "source": [
    "def my_print_function():\n",
    "    print(preprocessing)\n",
    "    if preprocessing:\n",
    "        print(preprocessing_helper_objects)\n",
    "pya.utils.print_to_scrollable_output(my_print_function)"
   ]
  },
  {
   "cell_type": "markdown",
   "id": "71ce86e7-df92-4282-b9ab-335e578cac4d",
   "metadata": {},
   "source": [
    "#### postprocessing"
   ]
  },
  {
   "cell_type": "code",
   "execution_count": 14,
   "id": "40fe1f52-ad50-4b84-89c7-c5d1d3fff139",
   "metadata": {},
   "outputs": [
    {
     "data": {
      "text/html": [
       "\n",
       "    <div style=\"overflow-x: scroll; overflow-y: scroll; border: 1px solid black; background-color: white; !important; color: black; !important;\">\n",
       "        <pre>None\n",
       "</pre>\n",
       "    </div>\n",
       "    "
      ],
      "text/plain": [
       "<IPython.core.display.HTML object>"
      ]
     },
     "metadata": {},
     "output_type": "display_data"
    }
   ],
   "source": [
    "def my_print_function():\n",
    "    print(postprocessing)\n",
    "    if postprocessing:\n",
    "        print(postprocessing)\n",
    "pya.utils.print_to_scrollable_output(my_print_function)"
   ]
  },
  {
   "cell_type": "markdown",
   "id": "46f8167d-0f33-465f-ac86-294183c06358",
   "metadata": {},
   "source": [
    "#### weight_dict"
   ]
  },
  {
   "cell_type": "code",
   "execution_count": 15,
   "id": "658317e5-44bd-4621-877c-5db57494c968",
   "metadata": {},
   "outputs": [
    {
     "data": {
      "text/html": [
       "\n",
       "    <div style=\"overflow-x: scroll; overflow-y: scroll; border: 1px solid black; background-color: white; !important; color: black; !important;\">\n",
       "        <pre>Layer: linear.weight\n",
       "Shape: torch.Size([1, 395])\n",
       "tensor([[-8.1862e-01,  1.6722e-01,  3.4937e-01, -1.0679e+00, -8.6978e-01,\n",
       "          4.3537e-01,  5.7829e-01, -1.5466e-02, -7.4488e-01,  1.4212e-02,\n",
       "          8.8350e-01, -1.1740e-01,  3.4363e+00, -1.5666e+00,  1.0342e+00,\n",
       "         -7.2141e-01, -1.7811e+00,  2.5759e-01,  8.9296e-01, -8.5779e-02,\n",
       "         -1.3107e+00,  3.2124e-01,  1.0784e+00, -4.2912e-01,  1.5436e+00,\n",
       "          4.7470e-01, -6.8395e-02,  2.7192e-01,  3.9767e+00,  3.5097e-01,\n",
       "          5.8010e-01, -4.0198e+00,  8.7744e-01, -6.4946e-02,  5.0374e+00,\n",
       "         -3.9777e-01, -1.4565e+00,  1.4836e-01,  7.0406e-01,  2.7843e-01,\n",
       "          1.0667e-01,  4.4468e-01,  9.8214e-01, -1.4218e-01, -3.3150e-01,\n",
       "          5.3580e-01, -2.8844e-02,  3.1316e-01, -2.5043e-01, -6.7523e-01,\n",
       "         -1.1128e-01, -1.8514e+00, -1.4495e-01, -1.3985e+00, -3.3657e-01,\n",
       "         -9.1124e-01,  3.0124e-01, -1.5229e+00,  1.6995e+00, -7.5296e-02,\n",
       "         -6.2195e-01,  1.2794e+00, -2.0194e+00, -1.0081e+00,  4.8068e-01,\n",
       "          1.5946e+00, -1.0444e+00,  8.3839e-01,  1.3707e-01, -2.3122e-02,\n",
       "          6.2913e-01,  5.6773e-01, -8.2029e-02,  9.8426e-01, -3.9895e-01,\n",
       "         -8.7309e-01, -7.7334e-01,  5.0911e+00, -1.8987e-02,  1.7795e+00,\n",
       "         -2.5899e-01,  4.9398e-01,  5.0900e-01,  2.2811e-01,  9.2923e-04,\n",
       "         -3.5214e-01,  1.0586e+00,  2.9291e-01,  1.7215e+00,  7.4806e-02,\n",
       "          5.9410e-01, -1.0465e+00,  5.4050e-01,  1.8977e+00, -3.6882e-01,\n",
       "          9.5086e-01, -7.5805e-01, -4.2135e-01, -2.4232e-01, -1.4546e-01,\n",
       "          1.9483e+00,  5.6877e-02, -5.4310e-01, -3.0491e-01,  8.7500e-01,\n",
       "          1.6478e+00, -2.0466e-01,  1.5412e+00,  3.3562e-01, -7.0381e-01,\n",
       "         -1.7552e-01, -1.8501e+00,  8.3125e-01,  4.7425e-01,  1.4751e-01,\n",
       "         -6.5015e-01, -7.5600e-01,  2.7773e-01, -7.0846e-02,  4.1454e-01,\n",
       "          9.1475e-01,  1.6757e-02,  1.1379e+00, -8.7697e-02, -2.0204e-01,\n",
       "          3.3512e-01, -1.2254e-01, -1.0368e-02, -3.3519e+00, -3.1627e+00,\n",
       "          2.1772e-01,  1.1743e+00, -1.3139e+00,  9.4395e-01, -5.3603e-01,\n",
       "          2.2096e-01,  7.0512e-01,  4.4709e-01,  3.6606e-01,  4.9742e-01,\n",
       "         -2.6511e-01, -3.6421e-02,  1.2695e+00,  2.5644e+00,  6.1684e-01,\n",
       "         -1.6930e+00,  1.4444e-02,  1.3973e+00, -2.7588e-01,  6.8482e-01,\n",
       "         -4.2655e-01,  2.6041e+00, -7.7407e-01,  4.8881e-01,  1.1218e+00,\n",
       "         -1.7425e-01, -1.0822e-01, -1.2092e+00, -5.3612e-01, -5.6442e-01,\n",
       "         -3.5595e+00, -2.0411e+00, -7.7807e-01, -1.1843e-01,  9.5283e-01,\n",
       "          5.0364e-01,  8.3215e-01,  3.1660e-01, -3.0548e-01, -9.5717e-02,\n",
       "          9.6769e-01, -1.0800e-01, -1.3084e+00, -1.3661e+00,  2.1837e-01,\n",
       "         -1.4397e+00,  7.3663e-01, -4.3808e-01, -5.7103e-02,  7.2602e-01,\n",
       "         -6.2496e-01,  1.2969e+00, -6.1934e-01,  7.5983e-01,  5.0228e-01,\n",
       "         -1.1477e+00,  8.6641e-01,  2.0166e+00,  6.7466e-01, -1.1261e+00,\n",
       "          3.6120e-01,  6.2113e-01,  4.3495e-02,  8.6030e-01,  3.2044e-01,\n",
       "          1.7567e+00, -1.5376e-01,  5.5379e-01, -2.1163e+00,  2.8996e+00,\n",
       "         -1.3476e+00, -6.9182e-01, -8.0081e-01, -3.6622e-03, -1.6346e-02,\n",
       "         -3.8651e-01, -1.4843e+00,  1.8040e-01,  7.8320e-02,  3.8518e-01,\n",
       "          8.6568e-01,  4.1370e-01,  2.8835e-01,  1.5843e+00, -1.2522e+00,\n",
       "          3.4471e-01,  2.2497e-01, -6.6615e-01,  9.9249e-02, -5.4315e-01,\n",
       "          9.3393e-02, -3.3642e+00, -5.3826e-01, -1.6571e-01,  2.4815e-01,\n",
       "         -7.3215e-01, -1.5057e-01,  1.8948e+00,  6.9694e-01, -1.1644e-01,\n",
       "          3.5282e-01,  1.6456e-01, -3.0666e-02,  1.2371e-01,  8.6604e-01,\n",
       "          7.7365e-02,  3.2619e-01, -4.4993e-01, -4.9093e-01, -6.7174e-01,\n",
       "         -3.5031e-01,  1.0480e-01,  7.2635e-02, -2.9683e+00,  1.2535e+00,\n",
       "          9.0850e-01, -2.5545e-01, -3.5176e-01,  9.4599e-01, -4.7628e-01,\n",
       "          2.9319e-02,  5.1519e-01, -4.7807e-02,  3.4997e-01, -9.3345e-01,\n",
       "          8.0202e-01, -2.6320e+00, -6.7571e-03,  6.9139e-01,  4.6589e-01,\n",
       "          1.6880e+00, -4.4198e-01,  3.7897e-02,  4.5780e-01, -6.4328e-02,\n",
       "          1.4872e+00, -4.9147e-01, -3.8273e-01,  3.6878e-01, -8.3868e-01,\n",
       "          3.6115e-01, -5.2120e-01,  2.8429e-01,  4.7361e-01,  6.9396e-01,\n",
       "         -2.5815e+00, -7.1942e-01, -5.2963e-01, -1.6789e-01, -6.5064e-02,\n",
       "         -7.7792e-02,  1.3903e-01,  7.5946e-01,  1.7236e+00,  1.1815e+00,\n",
       "         -3.8314e+00,  4.7311e-02,  2.0972e-01, -3.3064e-01,  1.3353e-01,\n",
       "         -2.9341e-01, -6.1061e-03,  8.8825e-01,  1.4736e+00,  6.0841e-01,\n",
       "         -3.1042e-01,  1.4065e+00, -7.7196e-01,  1.5909e-01, -2.6799e-01,\n",
       "          9.1964e-01, -2.2264e-01,  1.7069e+00,  1.7915e-01, -5.9196e-01,\n",
       "         -8.6753e-02,  1.7342e+00, -1.0884e+00, -6.8760e-01, -4.7288e-01,\n",
       "          1.0110e+00, -1.1411e+00, -3.8202e-02, -5.2415e-01,  5.3223e-01,\n",
       "         -3.5804e-01, -8.2974e-02, -6.9094e-01,  1.1218e+00, -2.9916e-01,\n",
       "         -1.3422e+00, -1.7305e+00,  4.1689e-01,  1.0915e+00, -6.1502e-01,\n",
       "         -2.1659e-01,  6.7819e-01, -4.4947e-01, -2.7877e-01, -1.4995e+00,\n",
       "         -2.5436e-02,  9.0596e-01,  3.2074e-01,  1.1027e+00,  5.1724e-01,\n",
       "         -2.8150e+00, -1.9899e-01,  3.1671e-01, -3.0470e-01, -9.5664e-01,\n",
       "         -1.4477e+00, -3.2961e-01, -4.0375e-01, -8.0206e-02,  2.9855e+00,\n",
       "          4.9439e-01, -6.1583e-01, -1.0672e+00,  2.4044e+00, -7.5539e-01,\n",
       "          1.9505e-01, -3.3570e-01, -6.8309e-01, -2.8651e-01, -2.8268e-01,\n",
       "         -4.9156e-01, -7.9915e-01,  1.2986e-01,  1.0262e+00,  2.7927e-01,\n",
       "         -8.4737e-01, -5.1752e-01, -2.6990e-01,  1.5174e+00, -6.3545e-01,\n",
       "         -1.3661e+00,  1.1201e+00, -1.5417e+00,  1.6049e+00,  3.1090e-01,\n",
       "         -4.8805e-01, -3.1597e-01, -9.8029e-02, -1.9354e-03, -1.3632e+00,\n",
       "          1.3659e+00, -9.6756e-02, -8.5829e-01,  2.5315e-01,  3.4443e-01,\n",
       "         -7.7609e-02, -1.3134e+00,  1.9881e-01, -1.9204e-01,  5.5866e-02,\n",
       "         -1.1152e+00,  1.0471e+00,  2.7039e-01, -2.4399e-01,  3.1983e-01,\n",
       "         -4.0603e+00,  8.1982e-01, -1.1847e-01, -4.0786e-01, -2.6793e-01]])\n",
       "Layer: linear.bias\n",
       "Shape: torch.Size([1])\n",
       "tensor([30.7497])\n",
       "</pre>\n",
       "    </div>\n",
       "    "
      ],
      "text/plain": [
       "<IPython.core.display.HTML object>"
      ]
     },
     "metadata": {},
     "output_type": "display_data"
    }
   ],
   "source": [
    "def my_print_function():\n",
    "    for name, param in model.named_parameters():\n",
    "        print(f\"Layer: {name}\")\n",
    "        print(f\"Shape: {param.shape}\")\n",
    "        print(param.data)\n",
    "pya.utils.print_to_scrollable_output(my_print_function)"
   ]
  },
  {
   "cell_type": "markdown",
   "id": "275815e5-5630-4163-bc61-7119a9c805c1",
   "metadata": {},
   "source": [
    "## Write clock dictionary"
   ]
  },
  {
   "cell_type": "markdown",
   "id": "3b176620-afb5-403c-9948-07639072bb44",
   "metadata": {},
   "source": [
    "Let's put everything together and save:"
   ]
  },
  {
   "cell_type": "code",
   "execution_count": 16,
   "id": "35d00b76-513d-4d8f-8824-6d810ee9d8f5",
   "metadata": {},
   "outputs": [],
   "source": [
    "clock_dict = {\n",
    "    # Metadata\n",
    "    'clock_name': clock_name,\n",
    "    'data_type': data_type,\n",
    "    'model_class': model_class,\n",
    "    'species': species,\n",
    "    'year': year,\n",
    "    'approved_by_author': approved_by_author,\n",
    "    'citation': citation,\n",
    "    'doi': doi,\n",
    "    \"notes\": notes,\n",
    "\n",
    "    # Data\n",
    "    'reference_feature_values': reference_feature_values if reference_feature_values else None,\n",
    "    'preprocessing': preprocessing if preprocessing else None, \n",
    "    'features': features,\n",
    "    'weight_dict': model.state_dict(),\n",
    "    'postprocessing': postprocessing if postprocessing else None,\n",
    "}\n",
    "\n",
    "torch.save(clock_dict, f'../weights/{clock_name}.pt')"
   ]
  },
  {
   "cell_type": "markdown",
   "id": "c1dd2efe-2bd6-4e1b-92ee-d110c25ad29c",
   "metadata": {},
   "source": [
    "## Clear directory"
   ]
  },
  {
   "cell_type": "markdown",
   "id": "158aa71f-7bbc-4c52-b7ef-16ba45d5e1fd",
   "metadata": {},
   "source": [
    "Delete all files that are not clock jupyter notebooks:"
   ]
  },
  {
   "cell_type": "code",
   "execution_count": 17,
   "id": "db4bd42b-c62f-4557-9ebc-d8194a240137",
   "metadata": {},
   "outputs": [
    {
     "name": "stdout",
     "output_type": "stream",
     "text": [
      "Deleted file: coefficients.csv\n",
      "Deleted folder: .ipynb_checkpoints\n"
     ]
    }
   ],
   "source": [
    "# Function to remove a folder and all its contents\n",
    "def remove_folder(path):\n",
    "    try:\n",
    "        shutil.rmtree(path)\n",
    "        print(f\"Deleted folder: {path}\")\n",
    "    except Exception as e:\n",
    "        print(f\"Error deleting folder {path}: {e}\")\n",
    "\n",
    "# Get a list of all files and folders in the current directory\n",
    "all_items = os.listdir('.')\n",
    "\n",
    "# Loop through the items\n",
    "for item in all_items:\n",
    "    # Check if it's a file and does not end with .ipynb\n",
    "    if os.path.isfile(item) and not item.endswith('.ipynb'):\n",
    "        os.remove(item)\n",
    "        print(f\"Deleted file: {item}\")\n",
    "    # Check if it's a folder\n",
    "    elif os.path.isdir(item):\n",
    "        remove_folder(item)"
   ]
  }
 ],
 "metadata": {
  "kernelspec": {
   "display_name": "Python 3",
   "language": "python",
   "name": "python3"
  },
  "language_info": {
   "codemirror_mode": {
    "name": "ipython",
    "version": 3
   },
   "file_extension": ".py",
   "mimetype": "text/x-python",
   "name": "python",
   "nbconvert_exporter": "python",
   "pygments_lexer": "ipython3",
   "version": "3.9.17"
  }
 },
 "nbformat": 4,
 "nbformat_minor": 5
}

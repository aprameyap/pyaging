{
 "cells": [
  {
   "cell_type": "markdown",
   "id": "2f04eee0-5928-4e74-a754-6dc2e528810c",
   "metadata": {},
   "source": [
    "# Petkovich"
   ]
  },
  {
   "cell_type": "markdown",
   "id": "a3f514a3-772c-4a14-afdf-5a8376851ff4",
   "metadata": {},
   "source": [
    "## Index\n",
    "1. [Define required clock parameters](#Define-required-clock-parameters)\n",
    "2. [Download necessary data](#Download-necessary-data)\n",
    "3. [Load data](#-Load-data)\n",
    "4. [Extract features and weights](#Extract-features-and-weights)\n",
    "5. [Load weights into pyaging model](#Load-weights-into-pyaging-model)\n",
    "6. [Add reference values](#Add-reference-values)\n",
    "7. [Add preprocessing and postprocesssing steps](#Add-preprocessing-and-postprocesssing-steps)\n",
    "8. [Check all data objects](#Check-all-data-objects)\n",
    "9. [Write clock dictionary](#Write-clock-dictionary)\n",
    "10. [Clear directory](#Clear-directory)"
   ]
  },
  {
   "cell_type": "markdown",
   "id": "d95fafdc-643a-40ea-a689-200bd132e90c",
   "metadata": {},
   "source": [
    "Let's first import some packages:"
   ]
  },
  {
   "cell_type": "code",
   "execution_count": 1,
   "id": "4adfb4de-cd79-4913-a1af-9e23e9e236c9",
   "metadata": {},
   "outputs": [],
   "source": [
    "import os\n",
    "import marshal\n",
    "import shutil\n",
    "import json\n",
    "import torch\n",
    "import pandas as pd\n",
    "import pyaging as pya"
   ]
  },
  {
   "cell_type": "markdown",
   "id": "c8c0c937-d9b6-4756-99b0-91de591220e0",
   "metadata": {},
   "source": [
    "## Define required clock parameters"
   ]
  },
  {
   "cell_type": "markdown",
   "id": "cf95ddca-625e-4c70-a246-c3cb12df96f8",
   "metadata": {},
   "source": [
    "Let's define some required information first:"
   ]
  },
  {
   "cell_type": "code",
   "execution_count": 2,
   "id": "5281776d-0549-445f-beec-39c31ec7dbe1",
   "metadata": {},
   "outputs": [],
   "source": [
    "clock_name = 'petkovich'\n",
    "data_type = 'methylation'\n",
    "model_class = 'LinearModel'\n",
    "species = 'Mus musculus'\n",
    "year = 2017\n",
    "approved_by_author = '⌛'\n",
    "citation = \"Petkovich, Daniel A., et al. \\\"Using DNA methylation profiling to evaluate biological age and longevity interventions.\\\" Cell metabolism 25.4 (2017): 954-960.\"\n",
    "doi = \"https://doi.org/10.1016/j.cmet.2017.03.016\"\n",
    "notes = None"
   ]
  },
  {
   "cell_type": "markdown",
   "id": "4520c8cb-6c1f-4490-ba4c-6fe78ef002a7",
   "metadata": {},
   "source": [
    "## Download necessary data"
   ]
  },
  {
   "cell_type": "markdown",
   "id": "f8d77386-a524-492b-a002-18d24b6ca49a",
   "metadata": {},
   "source": [
    "#### Download directly with curl"
   ]
  },
  {
   "cell_type": "code",
   "execution_count": 3,
   "id": "0003b39e-e032-4822-aff7-970583187d22",
   "metadata": {},
   "outputs": [
    {
     "data": {
      "text/plain": [
       "0"
      ]
     },
     "execution_count": 3,
     "metadata": {},
     "output_type": "execute_result"
    }
   ],
   "source": [
    "supplementary_url = \"https://elifesciences.org/download/aHR0cHM6Ly9jZG4uZWxpZmVzY2llbmNlcy5vcmcvYXJ0aWNsZXMvNDA2NzUvZWxpZmUtNDA2NzUtc3VwcDMtdjIueGxzeA--/elife-40675-supp3-v2.xlsx?_hash=qzOMc4yUFACfDFG%2FlgxkFTHWt%2BSXSmP9zz1BM3oOTRM%3D\"\n",
    "supplementary_file_name = \"coefficients.xlsx\"\n",
    "os.system(f\"curl -o {supplementary_file_name} {supplementary_url}\")"
   ]
  },
  {
   "cell_type": "markdown",
   "id": "35615b62-73ac-40b1-8bc1-e904403eb0ae",
   "metadata": {},
   "source": [
    "## Load data"
   ]
  },
  {
   "cell_type": "markdown",
   "id": "53cfa5bb-dab1-44a8-9f2c-ba2ca1b573b2",
   "metadata": {},
   "source": [
    "#### From Excel file"
   ]
  },
  {
   "cell_type": "code",
   "execution_count": 4,
   "id": "9ac33cc1-f582-4b7d-a6e5-32c377347a2d",
   "metadata": {},
   "outputs": [],
   "source": [
    "df = pd.read_excel('coefficients.xlsx', sheet_name='Blood', nrows=90)"
   ]
  },
  {
   "cell_type": "markdown",
   "id": "60c676db-2c7c-4c04-9457-97bccd598269",
   "metadata": {},
   "source": [
    "## Extract features and weights"
   ]
  },
  {
   "cell_type": "markdown",
   "id": "87dfda00-5182-4416-8eb1-de91ce2a9e48",
   "metadata": {},
   "source": [
    "First, let's extract the features and weights:"
   ]
  },
  {
   "cell_type": "code",
   "execution_count": 5,
   "id": "e1d1dd13-65ac-4694-8948-3cd94bc19fe1",
   "metadata": {},
   "outputs": [
    {
     "data": {
      "text/html": [
       "<div>\n",
       "<style scoped>\n",
       "    .dataframe tbody tr th:only-of-type {\n",
       "        vertical-align: middle;\n",
       "    }\n",
       "\n",
       "    .dataframe tbody tr th {\n",
       "        vertical-align: top;\n",
       "    }\n",
       "\n",
       "    .dataframe thead th {\n",
       "        text-align: right;\n",
       "    }\n",
       "</style>\n",
       "<table border=\"1\" class=\"dataframe\">\n",
       "  <thead>\n",
       "    <tr style=\"text-align: right;\">\n",
       "      <th></th>\n",
       "      <th>Chromosome</th>\n",
       "      <th>Position</th>\n",
       "      <th>UCSC Refgene -me</th>\n",
       "      <th>Located within</th>\n",
       "      <th>Relation to CpG island</th>\n",
       "      <th>Predicted element</th>\n",
       "      <th>Methylation Age Correlation</th>\n",
       "      <th>Weight</th>\n",
       "      <th>feature</th>\n",
       "      <th>coefficient</th>\n",
       "    </tr>\n",
       "  </thead>\n",
       "  <tbody>\n",
       "    <tr>\n",
       "      <th>0</th>\n",
       "      <td>chr19</td>\n",
       "      <td>23893237</td>\n",
       "      <td>Apba1</td>\n",
       "      <td>CDS</td>\n",
       "      <td>Island</td>\n",
       "      <td>-</td>\n",
       "      <td>Positive</td>\n",
       "      <td>0.013974</td>\n",
       "      <td>chr19:23893237</td>\n",
       "      <td>0.013974</td>\n",
       "    </tr>\n",
       "    <tr>\n",
       "      <th>1</th>\n",
       "      <td>chr19</td>\n",
       "      <td>34746572</td>\n",
       "      <td>Slc16a12</td>\n",
       "      <td>gene</td>\n",
       "      <td>N_Shore</td>\n",
       "      <td>Promoter</td>\n",
       "      <td>Negative</td>\n",
       "      <td>-0.208112</td>\n",
       "      <td>chr19:34746572</td>\n",
       "      <td>-0.208112</td>\n",
       "    </tr>\n",
       "    <tr>\n",
       "      <th>2</th>\n",
       "      <td>chr18</td>\n",
       "      <td>45589182</td>\n",
       "      <td>Kcnn2</td>\n",
       "      <td>gene</td>\n",
       "      <td>-</td>\n",
       "      <td>Enhancer</td>\n",
       "      <td>Negative</td>\n",
       "      <td>-0.052283</td>\n",
       "      <td>chr18:45589182</td>\n",
       "      <td>-0.052283</td>\n",
       "    </tr>\n",
       "    <tr>\n",
       "      <th>3</th>\n",
       "      <td>chr18</td>\n",
       "      <td>58836611</td>\n",
       "      <td>-</td>\n",
       "      <td>-</td>\n",
       "      <td>Island</td>\n",
       "      <td>Enhancer/Promoter</td>\n",
       "      <td>Positive</td>\n",
       "      <td>0.098457</td>\n",
       "      <td>chr18:58836611</td>\n",
       "      <td>0.098457</td>\n",
       "    </tr>\n",
       "    <tr>\n",
       "      <th>4</th>\n",
       "      <td>chr16</td>\n",
       "      <td>10502162</td>\n",
       "      <td>Ciita</td>\n",
       "      <td>CDS</td>\n",
       "      <td>-</td>\n",
       "      <td>-</td>\n",
       "      <td>Positive</td>\n",
       "      <td>0.228798</td>\n",
       "      <td>chr16:10502162</td>\n",
       "      <td>0.228798</td>\n",
       "    </tr>\n",
       "  </tbody>\n",
       "</table>\n",
       "</div>"
      ],
      "text/plain": [
       "  Chromosome  Position UCSC Refgene -me Located within Relation to CpG island  \\\n",
       "0      chr19  23893237            Apba1            CDS                 Island   \n",
       "1      chr19  34746572         Slc16a12           gene                N_Shore   \n",
       "2      chr18  45589182            Kcnn2           gene                      -   \n",
       "3      chr18  58836611                -              -                 Island   \n",
       "4      chr16  10502162            Ciita            CDS                      -   \n",
       "\n",
       "   Predicted element Methylation Age Correlation    Weight         feature  \\\n",
       "0                  -                    Positive  0.013974  chr19:23893237   \n",
       "1           Promoter                    Negative -0.208112  chr19:34746572   \n",
       "2           Enhancer                    Negative -0.052283  chr18:45589182   \n",
       "3  Enhancer/Promoter                    Positive  0.098457  chr18:58836611   \n",
       "4                  -                    Positive  0.228798  chr16:10502162   \n",
       "\n",
       "   coefficient  \n",
       "0     0.013974  \n",
       "1    -0.208112  \n",
       "2    -0.052283  \n",
       "3     0.098457  \n",
       "4     0.228798  "
      ]
     },
     "execution_count": 5,
     "metadata": {},
     "output_type": "execute_result"
    }
   ],
   "source": [
    "df['feature'] = df['Chromosome'].astype(str) + ':' + df['Position'].astype(int).astype(str)\n",
    "df['coefficient'] = df['Weight']\n",
    "\n",
    "df.head()"
   ]
  },
  {
   "cell_type": "markdown",
   "id": "5ac5b42a-3bd9-49d3-b84e-79d236af24b4",
   "metadata": {},
   "source": [
    "Then, let's create lists for features and weights. Be careful about the intercept, as it usually shows up as a feature name."
   ]
  },
  {
   "cell_type": "code",
   "execution_count": 6,
   "id": "2fc06bb5-7e9c-46fd-9843-31880f1d3788",
   "metadata": {},
   "outputs": [],
   "source": [
    "features = df['feature'].tolist()\n",
    "weights = torch.tensor(df['coefficient'].tolist()).unsqueeze(0)\n",
    "intercept = torch.tensor([0.0])"
   ]
  },
  {
   "cell_type": "markdown",
   "id": "d193ccbf-d06b-49bb-ad4b-ffe3271dea63",
   "metadata": {},
   "source": [
    "## Load weights into pyaging model"
   ]
  },
  {
   "cell_type": "markdown",
   "id": "4350119a-4bd4-4efa-85b5-9de70fdf496f",
   "metadata": {},
   "source": [
    "#### Linear model"
   ]
  },
  {
   "cell_type": "code",
   "execution_count": 7,
   "id": "7354c541-5af9-447d-a339-2cb88c253b41",
   "metadata": {},
   "outputs": [
    {
     "data": {
      "text/plain": [
       "LinearModel(\n",
       "  (linear): Linear(in_features=90, out_features=1, bias=True)\n",
       ")"
      ]
     },
     "execution_count": 7,
     "metadata": {},
     "output_type": "execute_result"
    }
   ],
   "source": [
    "model = pya.models.LinearModel(input_dim=len(features))\n",
    "\n",
    "model.linear.weight.data = weights.float()\n",
    "model.linear.bias.data = intercept.float()\n",
    "\n",
    "model"
   ]
  },
  {
   "cell_type": "markdown",
   "id": "06adc9d8-cec2-447d-8d0b-e2819d4c1a5b",
   "metadata": {},
   "source": [
    "## Add reference values"
   ]
  },
  {
   "cell_type": "markdown",
   "id": "84bf0205-f976-497b-a6a9-e4945c05cdb3",
   "metadata": {},
   "source": [
    "Some clocks have reference values in the case of missing features. It is also possible that these values are for preprocessing features rather than the clock features. Let's add a dictionary with the feature names as the keys."
   ]
  },
  {
   "cell_type": "code",
   "execution_count": 8,
   "id": "250dd50d-a175-45f3-913b-da87c50cb55c",
   "metadata": {},
   "outputs": [],
   "source": [
    "reference_feature_values = None"
   ]
  },
  {
   "cell_type": "markdown",
   "id": "c9b4fd10-797c-45bd-aa1a-65aed1deaf1c",
   "metadata": {},
   "source": [
    "## Add preprocessing and postprocesssing steps"
   ]
  },
  {
   "cell_type": "markdown",
   "id": "20649dc9-2b58-4c63-a48e-f8d7a4bb520b",
   "metadata": {},
   "source": [
    "The preprocessing and postprocessing objects are dictionaries with the following format, with all items required. It takes in x in the form of a numpy array."
   ]
  },
  {
   "cell_type": "code",
   "execution_count": 9,
   "id": "1d173005-fb63-43d5-bd9f-0b4fa2e240b1",
   "metadata": {},
   "outputs": [],
   "source": [
    "preprocessing = None"
   ]
  },
  {
   "cell_type": "markdown",
   "id": "3ca747b4-0214-40a1-a7bf-fbf2a71084af",
   "metadata": {},
   "source": [
    "Similarly is the case of postprocessing. Remember that your function must be compatible with torch and is applied to each number individually."
   ]
  },
  {
   "cell_type": "code",
   "execution_count": 10,
   "id": "6fe37a2c-113a-4517-91e4-10a4e8b2005a",
   "metadata": {},
   "outputs": [],
   "source": [
    "def postprocessing_function(x):\n",
    "    \"\"\"\n",
    "    Applies a convertion from the output of an ElasticNet to mouse age in months.\n",
    "    \"\"\"\n",
    "    a = 0.1666\n",
    "    b = 0.4185\n",
    "    c = -1.712\n",
    "    age = ((x - c) / a) ** (1 / b)\n",
    "    age = age / 30.5  # days to months\n",
    "    return age\n",
    "    \n",
    "postprocessing_function_string = marshal.dumps(postprocessing_function.__code__)\n",
    "\n",
    "postprocessing_helper_objects = None\n",
    "\n",
    "postprocessing = {\n",
    "    'name': 'petkovich',\n",
    "    'postprocessing_function': postprocessing_function_string,\n",
    "    'postprocessing_helper_objects': postprocessing_helper_objects\n",
    "}"
   ]
  },
  {
   "cell_type": "markdown",
   "id": "a0096571-4884-4ee5-9966-1e85e4239da3",
   "metadata": {},
   "source": [
    "## Check all data objects"
   ]
  },
  {
   "cell_type": "markdown",
   "id": "81bb5533-4d40-431d-aae5-45d360c330af",
   "metadata": {},
   "source": [
    "Let's print all data objects to check if they make sense."
   ]
  },
  {
   "cell_type": "markdown",
   "id": "66210a25-c40c-40c3-aef7-7ee64700c93d",
   "metadata": {},
   "source": [
    "#### features"
   ]
  },
  {
   "cell_type": "code",
   "execution_count": 11,
   "id": "bf047bed-52f0-4a64-9691-4c04df9f50ec",
   "metadata": {},
   "outputs": [
    {
     "data": {
      "text/html": [
       "\n",
       "    <div style=\"overflow-x: scroll; overflow-y: scroll; border: 1px solid black; background-color: white; !important; color: black; !important;\">\n",
       "        <pre>There are 90 features.\n",
       "['chr19:23893237', 'chr19:34746572', 'chr18:45589182', 'chr18:58836611', 'chr16:10502162', 'chr16:10502211', 'chr16:36990110', 'chr16:44812861', 'chr16:44812942', 'chr16:72663969', 'chr15:84756593', 'chr15:98780540', 'chr14:74978494', 'chr13:25850022', 'chr13:60687073', 'chr12:103214578', 'chr12:103214639', 'chr12:17993343', 'chr12:20196778', 'chr12:20196795', 'chr12:24252005', 'chr12:24252044', 'chr12:24252062', 'chr12:24252074', 'chr11:109011767', 'chr11:49978547', 'chr11:57832738', 'chr11:59283095', 'chr11:82930766', 'chr11:82930771', 'chr11:82931319', 'chr11:82931391', 'chr10:118049337', 'chr10:121150427', 'chr10:121150428', 'chr10:33624566', 'chr10:81433727', 'chr10:81433738', 'chr9:111311633', 'chr8:105270995', 'chr8:105270996', 'chr8:105271005', 'chr8:105271006', 'chr8:105271022', 'chr8:110168194', 'chr8:110168311', 'chr8:125669927', 'chr8:125669939', 'chr8:99416256', 'chr8:99416404', 'chr7:106206690', 'chr7:141269462', 'chr7:14622692', 'chr7:14622743', 'chr7:14622849', 'chr7:14622858', 'chr7:34647299', 'chr7:58837183', 'chr7:80876274', 'chr7:80876275', 'chr6:122609544', 'chr6:31218978', 'chr6:31218979', 'chr6:31219005', 'chr6:32564123', 'chr6:54289658', 'chr6:54289689', 'chr6:82127909', 'chr5:146461719', 'chr5:146461731', 'chr5:21373550', 'chr4:114665745', 'chr4:13958107', 'chr4:147738652', 'chr4:43382621', 'chr4:73790794', 'chr2:109676459', 'chr2:164168127', 'chr2:164168149', 'chr2:164168157', 'chr2:164168179', 'chr2:164168182', 'chr2:164168188', 'chr2:180642501', 'chr2:30798777', 'chr2:74655755', 'chr1:137182549', 'chr1:32172826', 'chr1:55363362', 'chr1:74027683']\n",
       "</pre>\n",
       "    </div>\n",
       "    "
      ],
      "text/plain": [
       "<IPython.core.display.HTML object>"
      ]
     },
     "metadata": {},
     "output_type": "display_data"
    }
   ],
   "source": [
    "def my_print_function():\n",
    "    print(f\"There are {len(features)} features.\")\n",
    "    print(features)\n",
    "pya.utils.print_to_scrollable_output(my_print_function)"
   ]
  },
  {
   "cell_type": "markdown",
   "id": "33846a47-8d35-4d8f-9605-ef8c2ce5877a",
   "metadata": {},
   "source": [
    "#### reference_feature_values"
   ]
  },
  {
   "cell_type": "code",
   "execution_count": 12,
   "id": "6436fd01-0a8e-41a5-b584-2c020136ff97",
   "metadata": {},
   "outputs": [
    {
     "data": {
      "text/html": [
       "\n",
       "    <div style=\"overflow-x: scroll; overflow-y: scroll; border: 1px solid black; background-color: white; !important; color: black; !important;\">\n",
       "        <pre>None\n",
       "</pre>\n",
       "    </div>\n",
       "    "
      ],
      "text/plain": [
       "<IPython.core.display.HTML object>"
      ]
     },
     "metadata": {},
     "output_type": "display_data"
    }
   ],
   "source": [
    "def my_print_function():\n",
    "    if reference_feature_values:\n",
    "        print(f\"There are {len(reference_feature_values)} reference feature values.\")\n",
    "    print(reference_feature_values)\n",
    "pya.utils.print_to_scrollable_output(my_print_function)"
   ]
  },
  {
   "cell_type": "markdown",
   "id": "7a849204-f404-4b35-b580-17218766455b",
   "metadata": {},
   "source": [
    "#### preprocessing"
   ]
  },
  {
   "cell_type": "code",
   "execution_count": 13,
   "id": "960c5ede-3175-4192-a358-bf5ccb41074f",
   "metadata": {},
   "outputs": [
    {
     "data": {
      "text/html": [
       "\n",
       "    <div style=\"overflow-x: scroll; overflow-y: scroll; border: 1px solid black; background-color: white; !important; color: black; !important;\">\n",
       "        <pre>None\n",
       "</pre>\n",
       "    </div>\n",
       "    "
      ],
      "text/plain": [
       "<IPython.core.display.HTML object>"
      ]
     },
     "metadata": {},
     "output_type": "display_data"
    }
   ],
   "source": [
    "def my_print_function():\n",
    "    print(preprocessing)\n",
    "    if preprocessing:\n",
    "        print(preprocessing_helper_objects)\n",
    "pya.utils.print_to_scrollable_output(my_print_function)"
   ]
  },
  {
   "cell_type": "markdown",
   "id": "00a3f9a1-2988-4355-998c-d2ef630add28",
   "metadata": {},
   "source": [
    "#### postprocessing"
   ]
  },
  {
   "cell_type": "code",
   "execution_count": 14,
   "id": "40fe1f52-ad50-4b84-89c7-c5d1d3fff139",
   "metadata": {},
   "outputs": [
    {
     "data": {
      "text/html": [
       "\n",
       "    <div style=\"overflow-x: scroll; overflow-y: scroll; border: 1px solid black; background-color: white; !important; color: black; !important;\">\n",
       "        <pre>{'name': 'petkovich', 'postprocessing_function': b'\\xe3\\x01\\x00\\x00\\x00\\x00\\x00\\x00\\x00\\x00\\x00\\x00\\x00\\x05\\x00\\x00\\x00\\x03\\x00\\x00\\x00C\\x00\\x00\\x00s,\\x00\\x00\\x00d\\x01}\\x01d\\x02}\\x02d\\x03}\\x03|\\x00|\\x03\\x18\\x00|\\x01\\x1b\\x00d\\x04|\\x02\\x1b\\x00\\x13\\x00}\\x04|\\x04d\\x05\\x1b\\x00}\\x04|\\x04S\\x00)\\x06\\xfaW\\n    Applies a convertion from the output of an ElasticNet to mouse age in months.\\n    \\xe7\\xa5\\xbd\\xc1\\x17&S\\xc5?\\xe7b\\x10X9\\xb4\\xc8\\xda?g1\\x08\\xac\\x1cZd\\xfb\\xbf\\xe9\\x01\\x00\\x00\\x00\\xe7\\x00\\x00\\x00\\x00\\x00\\x80>@\\xa9\\x00)\\x05\\xda\\x01x\\xda\\x01a\\xda\\x01b\\xda\\x01c\\xda\\x03ager\\x06\\x00\\x00\\x00r\\x06\\x00\\x00\\x00\\xfa\\x1f<ipython-input-10-2b59af9b085e>\\xda\\x17postprocessing_function\\x01\\x00\\x00\\x00s\\x0c\\x00\\x00\\x00\\x00\\x04\\x04\\x01\\x04\\x01\\x04\\x01\\x14\\x01\\x08\\x01', 'postprocessing_helper_objects': None}\n",
       "{'name': 'petkovich', 'postprocessing_function': b'\\xe3\\x01\\x00\\x00\\x00\\x00\\x00\\x00\\x00\\x00\\x00\\x00\\x00\\x05\\x00\\x00\\x00\\x03\\x00\\x00\\x00C\\x00\\x00\\x00s,\\x00\\x00\\x00d\\x01}\\x01d\\x02}\\x02d\\x03}\\x03|\\x00|\\x03\\x18\\x00|\\x01\\x1b\\x00d\\x04|\\x02\\x1b\\x00\\x13\\x00}\\x04|\\x04d\\x05\\x1b\\x00}\\x04|\\x04S\\x00)\\x06\\xfaW\\n    Applies a convertion from the output of an ElasticNet to mouse age in months.\\n    \\xe7\\xa5\\xbd\\xc1\\x17&S\\xc5?\\xe7b\\x10X9\\xb4\\xc8\\xda?g1\\x08\\xac\\x1cZd\\xfb\\xbf\\xe9\\x01\\x00\\x00\\x00\\xe7\\x00\\x00\\x00\\x00\\x00\\x80>@\\xa9\\x00)\\x05\\xda\\x01x\\xda\\x01a\\xda\\x01b\\xda\\x01c\\xda\\x03ager\\x06\\x00\\x00\\x00r\\x06\\x00\\x00\\x00\\xfa\\x1f<ipython-input-10-2b59af9b085e>\\xda\\x17postprocessing_function\\x01\\x00\\x00\\x00s\\x0c\\x00\\x00\\x00\\x00\\x04\\x04\\x01\\x04\\x01\\x04\\x01\\x14\\x01\\x08\\x01', 'postprocessing_helper_objects': None}\n",
       "</pre>\n",
       "    </div>\n",
       "    "
      ],
      "text/plain": [
       "<IPython.core.display.HTML object>"
      ]
     },
     "metadata": {},
     "output_type": "display_data"
    }
   ],
   "source": [
    "def my_print_function():\n",
    "    print(postprocessing)\n",
    "    if postprocessing:\n",
    "        print(postprocessing)\n",
    "pya.utils.print_to_scrollable_output(my_print_function)"
   ]
  },
  {
   "cell_type": "markdown",
   "id": "1f63e282-4d53-4e71-aaf3-7c776b06b0c7",
   "metadata": {},
   "source": [
    "#### weight_dict"
   ]
  },
  {
   "cell_type": "code",
   "execution_count": 15,
   "id": "658317e5-44bd-4621-877c-5db57494c968",
   "metadata": {},
   "outputs": [
    {
     "data": {
      "text/html": [
       "\n",
       "    <div style=\"overflow-x: scroll; overflow-y: scroll; border: 1px solid black; background-color: white; !important; color: black; !important;\">\n",
       "        <pre>Layer: linear.weight\n",
       "Shape: torch.Size([1, 90])\n",
       "tensor([[ 0.0140, -0.2081, -0.0523,  0.0985,  0.2288,  0.0415, -0.1289, -0.1271,\n",
       "         -0.1188,  0.0753,  0.0065,  0.0229, -0.0153, -0.0404, -0.0284, -0.0091,\n",
       "         -0.1302,  0.1360,  0.0851,  0.0067,  0.2091,  0.0069,  0.0628,  0.0380,\n",
       "          0.1745, -0.0959,  0.0548, -0.0870,  0.0161,  0.1331,  0.1223,  0.0014,\n",
       "         -0.0027, -0.0124, -0.0540,  0.0592, -0.0636, -0.1879,  0.0584,  0.0499,\n",
       "          0.1216,  0.1501,  0.1495,  0.0807,  0.0575,  0.0245,  0.1408,  0.0422,\n",
       "          0.0578,  0.0572, -0.0338, -0.0475,  0.1331,  0.0092,  0.0127,  0.0270,\n",
       "         -0.0420,  0.0210,  0.0551,  0.2226, -0.0687, -0.0499, -0.1822, -0.2000,\n",
       "         -0.0491, -0.0501, -0.1142, -0.0321, -0.0459, -0.0651, -0.0043, -0.0058,\n",
       "         -0.0250,  0.0037, -0.0842,  0.0233,  0.0811,  0.0127,  0.0455,  0.0189,\n",
       "          0.0513,  0.0297,  0.0252,  0.0389, -0.0080,  0.0061, -0.0752,  0.0492,\n",
       "          0.0080, -0.0816]])\n",
       "Layer: linear.bias\n",
       "Shape: torch.Size([1])\n",
       "tensor([0.])\n",
       "</pre>\n",
       "    </div>\n",
       "    "
      ],
      "text/plain": [
       "<IPython.core.display.HTML object>"
      ]
     },
     "metadata": {},
     "output_type": "display_data"
    }
   ],
   "source": [
    "def my_print_function():\n",
    "    for name, param in model.named_parameters():\n",
    "        print(f\"Layer: {name}\")\n",
    "        print(f\"Shape: {param.shape}\")\n",
    "        print(param.data)\n",
    "pya.utils.print_to_scrollable_output(my_print_function)"
   ]
  },
  {
   "cell_type": "markdown",
   "id": "275815e5-5630-4163-bc61-7119a9c805c1",
   "metadata": {},
   "source": [
    "## Write clock dictionary"
   ]
  },
  {
   "cell_type": "markdown",
   "id": "3b176620-afb5-403c-9948-07639072bb44",
   "metadata": {},
   "source": [
    "Let's put everything together and save:"
   ]
  },
  {
   "cell_type": "code",
   "execution_count": 16,
   "id": "35d00b76-513d-4d8f-8824-6d810ee9d8f5",
   "metadata": {},
   "outputs": [],
   "source": [
    "clock_dict = {\n",
    "    # Metadata\n",
    "    'clock_name': clock_name,\n",
    "    'data_type': data_type,\n",
    "    'model_class': model_class,\n",
    "    'species': species,\n",
    "    'year': year,\n",
    "    'approved_by_author': approved_by_author,\n",
    "    'citation': citation,\n",
    "    'doi': doi,\n",
    "    \"notes\": notes,\n",
    "\n",
    "    # Data\n",
    "    'reference_feature_values': reference_feature_values if reference_feature_values else None,\n",
    "    'preprocessing': preprocessing if preprocessing else None, \n",
    "    'features': features,\n",
    "    'weight_dict': model.state_dict(),\n",
    "    'postprocessing': postprocessing if postprocessing else None,\n",
    "}\n",
    "\n",
    "torch.save(clock_dict, f'../weights/{clock_name}.pt')"
   ]
  },
  {
   "cell_type": "markdown",
   "id": "c1dd2efe-2bd6-4e1b-92ee-d110c25ad29c",
   "metadata": {},
   "source": [
    "## Clear directory"
   ]
  },
  {
   "cell_type": "markdown",
   "id": "158aa71f-7bbc-4c52-b7ef-16ba45d5e1fd",
   "metadata": {},
   "source": [
    "Delete all files that are not clock jupyter notebooks:"
   ]
  },
  {
   "cell_type": "code",
   "execution_count": 17,
   "id": "db4bd42b-c62f-4557-9ebc-d8194a240137",
   "metadata": {},
   "outputs": [
    {
     "name": "stdout",
     "output_type": "stream",
     "text": [
      "Deleted file: coefficients.xlsx\n",
      "Deleted folder: .ipynb_checkpoints\n"
     ]
    }
   ],
   "source": [
    "# Function to remove a folder and all its contents\n",
    "def remove_folder(path):\n",
    "    try:\n",
    "        shutil.rmtree(path)\n",
    "        print(f\"Deleted folder: {path}\")\n",
    "    except Exception as e:\n",
    "        print(f\"Error deleting folder {path}: {e}\")\n",
    "\n",
    "# Get a list of all files and folders in the current directory\n",
    "all_items = os.listdir('.')\n",
    "\n",
    "# Loop through the items\n",
    "for item in all_items:\n",
    "    # Check if it's a file and does not end with .ipynb\n",
    "    if os.path.isfile(item) and not item.endswith('.ipynb'):\n",
    "        os.remove(item)\n",
    "        print(f\"Deleted file: {item}\")\n",
    "    # Check if it's a folder\n",
    "    elif os.path.isdir(item):\n",
    "        remove_folder(item)"
   ]
  }
 ],
 "metadata": {
  "kernelspec": {
   "display_name": "Python 3",
   "language": "python",
   "name": "python3"
  },
  "language_info": {
   "codemirror_mode": {
    "name": "ipython",
    "version": 3
   },
   "file_extension": ".py",
   "mimetype": "text/x-python",
   "name": "python",
   "nbconvert_exporter": "python",
   "pygments_lexer": "ipython3",
   "version": "3.9.17"
  }
 },
 "nbformat": 4,
 "nbformat_minor": 5
}

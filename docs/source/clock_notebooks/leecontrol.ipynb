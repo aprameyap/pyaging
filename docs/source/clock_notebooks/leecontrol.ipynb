{
 "cells": [
  {
   "cell_type": "markdown",
   "id": "2f04eee0-5928-4e74-a754-6dc2e528810c",
   "metadata": {},
   "source": [
    "# LeeControl"
   ]
  },
  {
   "cell_type": "markdown",
   "id": "a3f514a3-772c-4a14-afdf-5a8376851ff4",
   "metadata": {},
   "source": [
    "## Index\n",
    "1. [Instantiate model class](#Instantiate-model-class)\n",
    "2. [Define clock metadata](#Define-clock-metadata)\n",
    "3. [Download clock dependencies](#Download-clock-dependencies)\n",
    "5. [Load features](#Load-features)\n",
    "6. [Load weights into base model](#Load-weights-into-base-model)\n",
    "7. [Load reference values](#Load-reference-values)\n",
    "8. [Load preprocess and postprocess objects](#Load-preprocess-and-postprocess-objects)\n",
    "10. [Check all clock parameters](#Check-all-clock-parameters)\n",
    "10. [Basic test](#Basic-test)\n",
    "11. [Save torch model](#Save-torch-model)\n",
    "12. [Clear directory](#Clear-directory)"
   ]
  },
  {
   "cell_type": "markdown",
   "id": "d95fafdc-643a-40ea-a689-200bd132e90c",
   "metadata": {},
   "source": [
    "Let's first import some packages:"
   ]
  },
  {
   "cell_type": "code",
   "execution_count": 1,
   "id": "4adfb4de-cd79-4913-a1af-9e23e9e236c9",
   "metadata": {
    "execution": {
     "iopub.execute_input": "2024-03-05T20:17:50.881839Z",
     "iopub.status.busy": "2024-03-05T20:17:50.881474Z",
     "iopub.status.idle": "2024-03-05T20:17:52.381588Z",
     "shell.execute_reply": "2024-03-05T20:17:52.381130Z"
    }
   },
   "outputs": [],
   "source": [
    "import os\n",
    "import inspect\n",
    "import shutil\n",
    "import json\n",
    "import torch\n",
    "import pandas as pd\n",
    "import pyaging as pya"
   ]
  },
  {
   "cell_type": "markdown",
   "id": "145082e5-ced4-47ae-88c0-cb69773e3c5a",
   "metadata": {},
   "source": [
    "## Instantiate model class"
   ]
  },
  {
   "cell_type": "code",
   "execution_count": 2,
   "id": "8aa77372-7ed3-4da7-abc9-d30372106139",
   "metadata": {
    "execution": {
     "iopub.execute_input": "2024-03-05T20:17:52.384763Z",
     "iopub.status.busy": "2024-03-05T20:17:52.383883Z",
     "iopub.status.idle": "2024-03-05T20:17:52.397905Z",
     "shell.execute_reply": "2024-03-05T20:17:52.397570Z"
    }
   },
   "outputs": [
    {
     "name": "stdout",
     "output_type": "stream",
     "text": [
      "class LeeControl(pyagingModel):\n",
      "    def __init__(self):\n",
      "        super().__init__()\n",
      "\n",
      "    def preprocess(self, x):\n",
      "        return x\n",
      "\n",
      "    def postprocess(self, x):\n",
      "        return x\n",
      "\n"
     ]
    }
   ],
   "source": [
    "def print_entire_class(cls):\n",
    "    source = inspect.getsource(cls)\n",
    "    print(source)\n",
    "\n",
    "print_entire_class(pya.models.LeeControl)"
   ]
  },
  {
   "cell_type": "code",
   "execution_count": 3,
   "id": "78536494-f1d9-44de-8583-c89a310d2307",
   "metadata": {
    "execution": {
     "iopub.execute_input": "2024-03-05T20:17:52.399741Z",
     "iopub.status.busy": "2024-03-05T20:17:52.399593Z",
     "iopub.status.idle": "2024-03-05T20:17:52.401349Z",
     "shell.execute_reply": "2024-03-05T20:17:52.401098Z"
    }
   },
   "outputs": [],
   "source": [
    "model = pya.models.LeeControl()"
   ]
  },
  {
   "cell_type": "markdown",
   "id": "51f8615e-01fa-4aa5-b196-3ee2b35d261c",
   "metadata": {},
   "source": [
    "## Define clock metadata"
   ]
  },
  {
   "cell_type": "code",
   "execution_count": 4,
   "id": "6601da9e-8adc-44ee-9308-75e3cd31b816",
   "metadata": {
    "execution": {
     "iopub.execute_input": "2024-03-05T20:17:52.402973Z",
     "iopub.status.busy": "2024-03-05T20:17:52.402868Z",
     "iopub.status.idle": "2024-03-05T20:17:52.404881Z",
     "shell.execute_reply": "2024-03-05T20:17:52.404552Z"
    }
   },
   "outputs": [],
   "source": [
    "model.metadata[\"clock_name\"] = 'leecontrol'\n",
    "model.metadata[\"data_type\"] = 'methylation'\n",
    "model.metadata[\"species\"] = 'Homo sapiens'\n",
    "model.metadata[\"year\"] = 2019\n",
    "model.metadata[\"approved_by_author\"] = '✅'\n",
    "model.metadata[\"citation\"] = \"Lee, Yunsung, et al. \\\"Placental epigenetic clocks: estimating gestational age using placental DNA methylation levels.\\\" Aging (Albany NY) 11.12 (2019): 4238.\"\n",
    "model.metadata[\"doi\"] = \"https://doi.org/10.18632/aging.102049\"\n",
    "model.metadata[\"research_only\"] = None\n",
    "model.metadata[\"notes\"] = None"
   ]
  },
  {
   "cell_type": "markdown",
   "id": "74492239-5aae-4026-9d90-6bc9c574c110",
   "metadata": {},
   "source": [
    "## Download clock dependencies"
   ]
  },
  {
   "cell_type": "markdown",
   "id": "a6e9698f-9303-4d58-8729-d5e1abd9912c",
   "metadata": {},
   "source": [
    "#### Download directly with curl"
   ]
  },
  {
   "cell_type": "code",
   "execution_count": 5,
   "id": "b2422516-f738-4dc1-afb6-67c4b4f2ec19",
   "metadata": {
    "execution": {
     "iopub.execute_input": "2024-03-05T20:17:52.406788Z",
     "iopub.status.busy": "2024-03-05T20:17:52.406677Z",
     "iopub.status.idle": "2024-03-05T20:17:52.873516Z",
     "shell.execute_reply": "2024-03-05T20:17:52.872613Z"
    }
   },
   "outputs": [
    {
     "data": {
      "text/plain": [
       "0"
      ]
     },
     "execution_count": 5,
     "metadata": {},
     "output_type": "execute_result"
    }
   ],
   "source": [
    "supplementary_url = \"https://www.aging-us.com/article/102049/supplementary/SD2/0/aging-v11i12-102049-supplementary-material-SD2.csv\"\n",
    "supplementary_file_name = \"coefficients.csv\"\n",
    "os.system(f\"curl -o {supplementary_file_name} {supplementary_url}\")"
   ]
  },
  {
   "cell_type": "markdown",
   "id": "5035b180-3d1b-4432-8ebe-b9c92bd93a7f",
   "metadata": {},
   "source": [
    "## Load features"
   ]
  },
  {
   "cell_type": "markdown",
   "id": "15f4af76-b93c-438c-b57f-f129d6e9ec99",
   "metadata": {},
   "source": [
    "#### From CSV file"
   ]
  },
  {
   "cell_type": "code",
   "execution_count": 6,
   "id": "8a3d5de6-6303-487a-8b4d-e6345792f7be",
   "metadata": {
    "execution": {
     "iopub.execute_input": "2024-03-05T20:17:52.878331Z",
     "iopub.status.busy": "2024-03-05T20:17:52.877938Z",
     "iopub.status.idle": "2024-03-05T20:17:52.891336Z",
     "shell.execute_reply": "2024-03-05T20:17:52.890606Z"
    }
   },
   "outputs": [],
   "source": [
    "df = pd.read_csv('coefficients.csv')\n",
    "df['feature'] = df['CpGs']\n",
    "df['coefficient'] = df['Coefficient_CPC']\n",
    "df = df[df.coefficient != 0]\n",
    "\n",
    "model.features = features = df['feature'][1:].tolist()"
   ]
  },
  {
   "cell_type": "markdown",
   "id": "ee6d8fa0-4767-4c45-9717-eb1c95e2ddc0",
   "metadata": {},
   "source": [
    "## Load weights into base model"
   ]
  },
  {
   "cell_type": "code",
   "execution_count": 7,
   "id": "e09b3463-4fd4-41b1-ac21-e63ddd223fe0",
   "metadata": {
    "execution": {
     "iopub.execute_input": "2024-03-05T20:17:52.895555Z",
     "iopub.status.busy": "2024-03-05T20:17:52.895250Z",
     "iopub.status.idle": "2024-03-05T20:17:52.900132Z",
     "shell.execute_reply": "2024-03-05T20:17:52.899530Z"
    }
   },
   "outputs": [],
   "source": [
    "weights = torch.tensor(df['coefficient'][1:].tolist()).unsqueeze(0)\n",
    "intercept = torch.tensor([df['coefficient'][0]])"
   ]
  },
  {
   "cell_type": "markdown",
   "id": "ad261636-5b00-4979-bb1d-67a851f7aa19",
   "metadata": {},
   "source": [
    "#### Linear model"
   ]
  },
  {
   "cell_type": "code",
   "execution_count": 8,
   "id": "d7f43b99-26f2-4622-9a76-316712058877",
   "metadata": {
    "execution": {
     "iopub.execute_input": "2024-03-05T20:17:52.903280Z",
     "iopub.status.busy": "2024-03-05T20:17:52.903039Z",
     "iopub.status.idle": "2024-03-05T20:17:52.907327Z",
     "shell.execute_reply": "2024-03-05T20:17:52.906735Z"
    }
   },
   "outputs": [],
   "source": [
    "base_model = pya.models.LinearModel(input_dim=len(model.features))\n",
    "\n",
    "base_model.linear.weight.data = weights.float()\n",
    "base_model.linear.bias.data = intercept.float()\n",
    "\n",
    "model.base_model = base_model"
   ]
  },
  {
   "cell_type": "markdown",
   "id": "ad8b4c1d-9d57-48b7-9a30-bcfea7b747b1",
   "metadata": {},
   "source": [
    "## Load reference values"
   ]
  },
  {
   "cell_type": "code",
   "execution_count": 9,
   "id": "ade0f4c9-2298-4fc3-bb72-d200907dd731",
   "metadata": {
    "execution": {
     "iopub.execute_input": "2024-03-05T20:17:52.910453Z",
     "iopub.status.busy": "2024-03-05T20:17:52.910269Z",
     "iopub.status.idle": "2024-03-05T20:17:52.912554Z",
     "shell.execute_reply": "2024-03-05T20:17:52.912107Z"
    }
   },
   "outputs": [],
   "source": [
    "model.reference_values = None"
   ]
  },
  {
   "cell_type": "markdown",
   "id": "af3bcf7b-74a8-4d21-9ccb-4de0c2b0516b",
   "metadata": {},
   "source": [
    "## Load preprocess and postprocess objects"
   ]
  },
  {
   "cell_type": "code",
   "execution_count": 10,
   "id": "7a22fb20-c605-424d-8efb-7620c2c0755c",
   "metadata": {
    "execution": {
     "iopub.execute_input": "2024-03-05T20:17:52.915151Z",
     "iopub.status.busy": "2024-03-05T20:17:52.914962Z",
     "iopub.status.idle": "2024-03-05T20:17:52.917311Z",
     "shell.execute_reply": "2024-03-05T20:17:52.916876Z"
    }
   },
   "outputs": [],
   "source": [
    "model.preprocess_name = None\n",
    "model.preprocess_dependencies = None"
   ]
  },
  {
   "cell_type": "code",
   "execution_count": 11,
   "id": "ff4a21cb-cf41-44dc-9ed1-95cf8aa15772",
   "metadata": {
    "execution": {
     "iopub.execute_input": "2024-03-05T20:17:52.919446Z",
     "iopub.status.busy": "2024-03-05T20:17:52.919292Z",
     "iopub.status.idle": "2024-03-05T20:17:52.921282Z",
     "shell.execute_reply": "2024-03-05T20:17:52.920884Z"
    }
   },
   "outputs": [],
   "source": [
    "model.postprocess_name = None\n",
    "model.postprocess_dependencies = None"
   ]
  },
  {
   "cell_type": "markdown",
   "id": "86e3d6b1-e67e-4f3d-bd39-0ebec5726c3c",
   "metadata": {},
   "source": [
    "## Check all clock parameters"
   ]
  },
  {
   "cell_type": "code",
   "execution_count": 12,
   "id": "2168355c-47d9-475d-b816-49f65e74887c",
   "metadata": {
    "execution": {
     "iopub.execute_input": "2024-03-05T20:17:52.923620Z",
     "iopub.status.busy": "2024-03-05T20:17:52.923469Z",
     "iopub.status.idle": "2024-03-05T20:17:52.927914Z",
     "shell.execute_reply": "2024-03-05T20:17:52.927599Z"
    }
   },
   "outputs": [
    {
     "name": "stdout",
     "output_type": "stream",
     "text": [
      "\n",
      "%==================================== Model Details ====================================%\n",
      "Model Attributes:\n",
      "\n",
      "training: True\n",
      "metadata: {'approved_by_author': '✅',\n",
      " 'citation': 'Lee, Yunsung, et al. \"Placental epigenetic clocks: estimating '\n",
      "             'gestational age using placental DNA methylation levels.\" Aging '\n",
      "             '(Albany NY) 11.12 (2019): 4238.',\n",
      " 'clock_name': 'leecontrol',\n",
      " 'data_type': 'methylation',\n",
      " 'doi': 'https://doi.org/10.18632/aging.102049',\n",
      " 'notes': None,\n",
      " 'research_only': None,\n",
      " 'species': 'Homo sapiens',\n",
      " 'version': None,\n",
      " 'year': 2019}\n",
      "reference_values: None\n",
      "preprocess_name: None\n",
      "preprocess_dependencies: None\n",
      "postprocess_name: None\n",
      "postprocess_dependencies: None\n",
      "features: ['cg00056066', 'cg00057476', 'cg00073090', 'cg00083059', 'cg00091483', 'cg00108098', 'cg00112465', 'cg00173659', 'cg00173799', 'cg00253398', 'cg00307685', 'cg00378510', 'cg00400547', 'cg00419702', 'cg00423969', 'cg00451105', 'cg00466827', 'cg00521434', 'cg00530564', 'cg00604454', 'cg00639010', 'cg00705661', 'cg00896578', 'cg00898013', 'cg00971110', 'cg01075918', 'cg01079860', 'cg01152073', 'cg01164202', 'cg01233392']... [Total elements: 546]\n",
      "base_model_features: None\n",
      "\n",
      "%==================================== Model Details ====================================%\n",
      "Model Structure:\n",
      "\n",
      "base_model: LinearModel(\n",
      "  (linear): Linear(in_features=546, out_features=1, bias=True)\n",
      ")\n",
      "\n",
      "%==================================== Model Details ====================================%\n",
      "Model Parameters and Weights:\n",
      "\n",
      "base_model.linear.weight: [0.019747359678149223, 0.7828122973442078, -0.14498105645179749, -0.14913348853588104, 0.9398415088653564, 0.1055426299571991, -0.08062367886304855, -0.5368783473968506, 0.014656665734946728, -0.26146650314331055, 0.1337740123271942, 0.20334802567958832, 0.850095808506012, -0.04680880531668663, 0.20182037353515625, -0.23556417226791382, 0.16915300488471985, 2.17164945602417, 1.0525552034378052, 0.19726672768592834, -2.901245594024658, -2.70284104347229, -0.3479940891265869, 0.15078707039356232, 0.08475268632173538, -0.9259878993034363, 0.03768037632107735, -5.494863033294678, 0.0004355729906819761, 0.8516144752502441]... [Tensor of shape torch.Size([1, 546])]\n",
      "base_model.linear.bias: tensor([13.0618])\n",
      "\n",
      "%==================================== Model Details ====================================%\n",
      "\n"
     ]
    }
   ],
   "source": [
    "pya.utils.print_model_details(model)"
   ]
  },
  {
   "cell_type": "markdown",
   "id": "986d0262-e0c7-4036-b687-dee53ba392fb",
   "metadata": {},
   "source": [
    "## Basic test"
   ]
  },
  {
   "cell_type": "code",
   "execution_count": 13,
   "id": "936b9877-d076-4ced-99aa-e8d4c58c5caf",
   "metadata": {
    "execution": {
     "iopub.execute_input": "2024-03-05T20:17:52.929980Z",
     "iopub.status.busy": "2024-03-05T20:17:52.929837Z",
     "iopub.status.idle": "2024-03-05T20:17:52.934411Z",
     "shell.execute_reply": "2024-03-05T20:17:52.934100Z"
    }
   },
   "outputs": [
    {
     "data": {
      "text/plain": [
       "tensor([[ 45.2733],\n",
       "        [ 18.0971],\n",
       "        [ 46.8906],\n",
       "        [ 10.3302],\n",
       "        [ 14.8084],\n",
       "        [  1.2032],\n",
       "        [ -3.7268],\n",
       "        [-42.4389],\n",
       "        [ 57.3741],\n",
       "        [  8.4126]], dtype=torch.float64, grad_fn=<AddmmBackward0>)"
      ]
     },
     "execution_count": 13,
     "metadata": {},
     "output_type": "execute_result"
    }
   ],
   "source": [
    "torch.manual_seed(42)\n",
    "input = torch.randn(10, len(model.features), dtype=float)\n",
    "model.eval()\n",
    "model.to(float)\n",
    "pred = model(input)\n",
    "pred"
   ]
  },
  {
   "cell_type": "markdown",
   "id": "fe8299d7-9285-4e22-82fd-b664434b4369",
   "metadata": {},
   "source": [
    "## Save torch model"
   ]
  },
  {
   "cell_type": "code",
   "execution_count": 14,
   "id": "5ef2fa8d-c80b-4fdd-8555-79c0d541788e",
   "metadata": {
    "execution": {
     "iopub.execute_input": "2024-03-05T20:17:52.936328Z",
     "iopub.status.busy": "2024-03-05T20:17:52.936201Z",
     "iopub.status.idle": "2024-03-05T20:17:52.940922Z",
     "shell.execute_reply": "2024-03-05T20:17:52.940424Z"
    }
   },
   "outputs": [],
   "source": [
    "torch.save(model, f\"../weights/{model.metadata['clock_name']}.pt\")"
   ]
  },
  {
   "cell_type": "markdown",
   "id": "bac6257b-8d08-4a90-8d0b-7f745dc11ac1",
   "metadata": {},
   "source": [
    "## Clear directory\n",
    "<a id=\"10\"></a>"
   ]
  },
  {
   "cell_type": "code",
   "execution_count": 15,
   "id": "11aeaa70-44c0-42f9-86d7-740e3849a7a6",
   "metadata": {
    "execution": {
     "iopub.execute_input": "2024-03-05T20:17:52.942911Z",
     "iopub.status.busy": "2024-03-05T20:17:52.942772Z",
     "iopub.status.idle": "2024-03-05T20:17:52.946359Z",
     "shell.execute_reply": "2024-03-05T20:17:52.946025Z"
    }
   },
   "outputs": [
    {
     "name": "stdout",
     "output_type": "stream",
     "text": [
      "Deleted file: coefficients.csv\n"
     ]
    }
   ],
   "source": [
    "# Function to remove a folder and all its contents\n",
    "def remove_folder(path):\n",
    "    try:\n",
    "        shutil.rmtree(path)\n",
    "        print(f\"Deleted folder: {path}\")\n",
    "    except Exception as e:\n",
    "        print(f\"Error deleting folder {path}: {e}\")\n",
    "\n",
    "# Get a list of all files and folders in the current directory\n",
    "all_items = os.listdir('.')\n",
    "\n",
    "# Loop through the items\n",
    "for item in all_items:\n",
    "    # Check if it's a file and does not end with .ipynb\n",
    "    if os.path.isfile(item) and not item.endswith('.ipynb'):\n",
    "        os.remove(item)\n",
    "        print(f\"Deleted file: {item}\")\n",
    "    # Check if it's a folder\n",
    "    elif os.path.isdir(item):\n",
    "        remove_folder(item)"
   ]
  }
 ],
 "metadata": {
  "kernelspec": {
   "display_name": "Python 3",
   "language": "python",
   "name": "python3"
  },
  "language_info": {
   "codemirror_mode": {
    "name": "ipython",
    "version": 3
   },
   "file_extension": ".py",
   "mimetype": "text/x-python",
   "name": "python",
   "nbconvert_exporter": "python",
   "pygments_lexer": "ipython3",
   "version": "3.9.17"
  }
 },
 "nbformat": 4,
 "nbformat_minor": 5
}
